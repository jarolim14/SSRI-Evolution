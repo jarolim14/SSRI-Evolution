{
 "cells": [
  {
   "cell_type": "markdown",
   "metadata": {},
   "source": [
    "# Merging the Dataframes\n"
   ]
  },
  {
   "cell_type": "markdown",
   "metadata": {},
   "source": [
    "1. set nan values for abstracts and titles\n",
    "2. merge dataframes\n",
    "3. max information from abstracts and titles\n"
   ]
  },
  {
   "cell_type": "code",
   "execution_count": 6,
   "metadata": {},
   "outputs": [
    {
     "name": "stdout",
     "output_type": "stream",
     "text": [
      "/Users/jlq293/Projects/Study-1-Bibliometrics\n"
     ]
    }
   ],
   "source": [
    "import pandas as pd\n",
    "import numpy as np\n",
    "\n",
    "\n",
    "import sys\n",
    "import os\n",
    "\n",
    "# Get the path to the Python executable inside the venv\n",
    "executable_path = sys.executable\n",
    "\n",
    "# Get the base path of the venv (two levels up from the executable)\n",
    "base_path = os.path.dirname((os.path.dirname(os.path.dirname(executable_path))))\n",
    "print(base_path)"
   ]
  },
  {
   "cell_type": "markdown",
   "metadata": {},
   "source": [
    "### read in pubmed\n"
   ]
  },
  {
   "cell_type": "code",
   "execution_count": 7,
   "metadata": {},
   "outputs": [
    {
     "name": "stdout",
     "output_type": "stream",
     "text": [
      "(4478, 11)\n"
     ]
    },
    {
     "data": {
      "text/html": [
       "<div>\n",
       "<style scoped>\n",
       "    .dataframe tbody tr th:only-of-type {\n",
       "        vertical-align: middle;\n",
       "    }\n",
       "\n",
       "    .dataframe tbody tr th {\n",
       "        vertical-align: top;\n",
       "    }\n",
       "\n",
       "    .dataframe thead th {\n",
       "        text-align: right;\n",
       "    }\n",
       "</style>\n",
       "<table border=\"1\" class=\"dataframe\">\n",
       "  <thead>\n",
       "    <tr style=\"text-align: right;\">\n",
       "      <th></th>\n",
       "      <th>title</th>\n",
       "      <th>year</th>\n",
       "      <th>link</th>\n",
       "      <th>abstract</th>\n",
       "      <th>doi</th>\n",
       "      <th>journal</th>\n",
       "      <th>authors</th>\n",
       "      <th>author_keywords</th>\n",
       "      <th>pubmed_id</th>\n",
       "      <th>document_type</th>\n",
       "      <th>source</th>\n",
       "    </tr>\n",
       "  </thead>\n",
       "  <tbody>\n",
       "    <tr>\n",
       "      <th>0</th>\n",
       "      <td>A comparison of citalopram and paroxetine in t...</td>\n",
       "      <td>2001</td>\n",
       "      <td>https://pubmed.ncbi.nlm.nih.gov/11434404/</td>\n",
       "      <td>Serotonin Selective Re-uptake Inhibitors (SSRI...</td>\n",
       "      <td>10.1055/s-2001-14283</td>\n",
       "      <td>Pharmacopsychiatry</td>\n",
       "      <td>[Perna, G, Bertani, A, Caldirola, D, Smeraldi,...</td>\n",
       "      <td>[]</td>\n",
       "      <td>11434404</td>\n",
       "      <td>Clinical Trial</td>\n",
       "      <td>PubMed</td>\n",
       "    </tr>\n",
       "    <tr>\n",
       "      <th>1</th>\n",
       "      <td>Chronic schizophrenia: response to clozapine, ...</td>\n",
       "      <td>1997</td>\n",
       "      <td>https://pubmed.ncbi.nlm.nih.gov/9090343/</td>\n",
       "      <td>None</td>\n",
       "      <td>10.1176/ajp.154.4.543</td>\n",
       "      <td>The American journal of psychiatry</td>\n",
       "      <td>[Patel, J K, Salzman, C, Green, A I, Tsuang, M T]</td>\n",
       "      <td>[]</td>\n",
       "      <td>9090343</td>\n",
       "      <td>Case Reports</td>\n",
       "      <td>PubMed</td>\n",
       "    </tr>\n",
       "  </tbody>\n",
       "</table>\n",
       "</div>"
      ],
      "text/plain": [
       "                                               title  year  \\\n",
       "0  A comparison of citalopram and paroxetine in t...  2001   \n",
       "1  Chronic schizophrenia: response to clozapine, ...  1997   \n",
       "\n",
       "                                        link  \\\n",
       "0  https://pubmed.ncbi.nlm.nih.gov/11434404/   \n",
       "1   https://pubmed.ncbi.nlm.nih.gov/9090343/   \n",
       "\n",
       "                                            abstract                    doi  \\\n",
       "0  Serotonin Selective Re-uptake Inhibitors (SSRI...   10.1055/s-2001-14283   \n",
       "1                                               None  10.1176/ajp.154.4.543   \n",
       "\n",
       "                              journal  \\\n",
       "0                  Pharmacopsychiatry   \n",
       "1  The American journal of psychiatry   \n",
       "\n",
       "                                             authors author_keywords  \\\n",
       "0  [Perna, G, Bertani, A, Caldirola, D, Smeraldi,...              []   \n",
       "1  [Patel, J K, Salzman, C, Green, A I, Tsuang, M T]              []   \n",
       "\n",
       "  pubmed_id   document_type  source  \n",
       "0  11434404  Clinical Trial  PubMed  \n",
       "1   9090343    Case Reports  PubMed  "
      ]
     },
     "execution_count": 7,
     "metadata": {},
     "output_type": "execute_result"
    }
   ],
   "source": [
    "df_pubmed = pd.read_parquet(\n",
    "    \"../data/processed/medline/medline_data_processed_doisfetched.parquet\"\n",
    ")\n",
    "print(df_pubmed.shape)\n",
    "\n",
    "df_pubmed.head(2)"
   ]
  },
  {
   "cell_type": "code",
   "execution_count": 8,
   "metadata": {},
   "outputs": [
    {
     "data": {
      "text/plain": [
       "Index(['title', 'year', 'link', 'abstract', 'doi', 'journal', 'authors',\n",
       "       'author_keywords', 'pubmed_id', 'document_type', 'source'],\n",
       "      dtype='object')"
      ]
     },
     "execution_count": 8,
     "metadata": {},
     "output_type": "execute_result"
    }
   ],
   "source": [
    "df_pubmed.columns"
   ]
  },
  {
   "cell_type": "markdown",
   "metadata": {},
   "source": [
    "### read in scopus data\n"
   ]
  },
  {
   "cell_type": "code",
   "execution_count": 9,
   "metadata": {},
   "outputs": [
    {
     "data": {
      "text/html": [
       "<div>\n",
       "<style scoped>\n",
       "    .dataframe tbody tr th:only-of-type {\n",
       "        vertical-align: middle;\n",
       "    }\n",
       "\n",
       "    .dataframe tbody tr th {\n",
       "        vertical-align: top;\n",
       "    }\n",
       "\n",
       "    .dataframe thead th {\n",
       "        text-align: right;\n",
       "    }\n",
       "</style>\n",
       "<table border=\"1\" class=\"dataframe\">\n",
       "  <thead>\n",
       "    <tr style=\"text-align: right;\">\n",
       "      <th></th>\n",
       "      <th>authors</th>\n",
       "      <th>title</th>\n",
       "      <th>year</th>\n",
       "      <th>cited_by</th>\n",
       "      <th>doi</th>\n",
       "      <th>link</th>\n",
       "      <th>abstract</th>\n",
       "      <th>author_keywords</th>\n",
       "      <th>index_keywords</th>\n",
       "      <th>references</th>\n",
       "      <th>pubmed_id</th>\n",
       "      <th>document_type</th>\n",
       "      <th>source</th>\n",
       "      <th>eid</th>\n",
       "    </tr>\n",
       "  </thead>\n",
       "  <tbody>\n",
       "    <tr>\n",
       "      <th>0</th>\n",
       "      <td>[Kiraly; M., Ma; R.C., Dun; N.J.]</td>\n",
       "      <td>Serotonin mediates a slow excitatory potential...</td>\n",
       "      <td>1983</td>\n",
       "      <td>12</td>\n",
       "      <td>10.1016/0006-8993(83)91002-8</td>\n",
       "      <td>https://www.scopus.com/inward/record.uri?eid=2...</td>\n",
       "      <td>Neuropharmacological and histochemical evidenc...</td>\n",
       "      <td>celiac ganglia; non-cholinergic EPSP; serotonin</td>\n",
       "      <td>Action Potentials; Animal; Cyproheptadine; Ele...</td>\n",
       "      <td>Aghaganian, Asher, Histochemical flourescence ...</td>\n",
       "      <td>6605177</td>\n",
       "      <td>Article</td>\n",
       "      <td>Scopus</td>\n",
       "      <td>2-s2.0-0020509808</td>\n",
       "    </tr>\n",
       "    <tr>\n",
       "      <th>1</th>\n",
       "      <td>[Johnston; C.A., Moore; K.E.]</td>\n",
       "      <td>Measurement of 5-hydroxytryptamine synthesis a...</td>\n",
       "      <td>1983</td>\n",
       "      <td>18</td>\n",
       "      <td>10.1007/BF01250047</td>\n",
       "      <td>https://www.scopus.com/inward/record.uri?eid=2...</td>\n",
       "      <td>High performance liquid chromatography coupled...</td>\n",
       "      <td>None</td>\n",
       "      <td>Animal; Brain; Corpus Striatum; Hydrazines; Hy...</td>\n",
       "      <td>Brownstein M.J., Palkovits M., Tappaz M.L., Sa...</td>\n",
       "      <td>6619830</td>\n",
       "      <td>Article</td>\n",
       "      <td>Scopus</td>\n",
       "      <td>2-s2.0-0020555550</td>\n",
       "    </tr>\n",
       "  </tbody>\n",
       "</table>\n",
       "</div>"
      ],
      "text/plain": [
       "                             authors  \\\n",
       "0  [Kiraly; M., Ma; R.C., Dun; N.J.]   \n",
       "1      [Johnston; C.A., Moore; K.E.]   \n",
       "\n",
       "                                               title  year  cited_by  \\\n",
       "0  Serotonin mediates a slow excitatory potential...  1983        12   \n",
       "1  Measurement of 5-hydroxytryptamine synthesis a...  1983        18   \n",
       "\n",
       "                            doi  \\\n",
       "0  10.1016/0006-8993(83)91002-8   \n",
       "1            10.1007/BF01250047   \n",
       "\n",
       "                                                link  \\\n",
       "0  https://www.scopus.com/inward/record.uri?eid=2...   \n",
       "1  https://www.scopus.com/inward/record.uri?eid=2...   \n",
       "\n",
       "                                            abstract  \\\n",
       "0  Neuropharmacological and histochemical evidenc...   \n",
       "1  High performance liquid chromatography coupled...   \n",
       "\n",
       "                                   author_keywords  \\\n",
       "0  celiac ganglia; non-cholinergic EPSP; serotonin   \n",
       "1                                             None   \n",
       "\n",
       "                                      index_keywords  \\\n",
       "0  Action Potentials; Animal; Cyproheptadine; Ele...   \n",
       "1  Animal; Brain; Corpus Striatum; Hydrazines; Hy...   \n",
       "\n",
       "                                          references pubmed_id document_type  \\\n",
       "0  Aghaganian, Asher, Histochemical flourescence ...   6605177       Article   \n",
       "1  Brownstein M.J., Palkovits M., Tappaz M.L., Sa...   6619830       Article   \n",
       "\n",
       "   source                eid  \n",
       "0  Scopus  2-s2.0-0020509808  \n",
       "1  Scopus  2-s2.0-0020555550  "
      ]
     },
     "execution_count": 9,
     "metadata": {},
     "output_type": "execute_result"
    }
   ],
   "source": [
    "df_scopus = pd.read_parquet(\n",
    "    \"../data/processed/scopus/scopus_data_processed_doisfetched.parquet\"\n",
    ")\n",
    "df_scopus.head(2)"
   ]
  },
  {
   "cell_type": "markdown",
   "metadata": {},
   "source": [
    "## Check overlap on DOIs\n"
   ]
  },
  {
   "cell_type": "code",
   "execution_count": 10,
   "metadata": {},
   "outputs": [
    {
     "name": "stdout",
     "output_type": "stream",
     "text": [
      "Number of papers based on doi that are only in PubMed:  1445\n"
     ]
    }
   ],
   "source": [
    "dois_pm = set(df_pubmed[\"doi\"].to_list())\n",
    "\n",
    "dois_sc = set(df_scopus[\"doi\"].to_list())\n",
    "\n",
    "df_pubmed_excl = df_pubmed[~df_pubmed[\"doi\"].isin(dois_sc)]\n",
    "len(df_pubmed_excl)\n",
    "print(\"Number of papers based on doi that are only in PubMed: \", len(df_pubmed_excl))"
   ]
  },
  {
   "cell_type": "markdown",
   "metadata": {},
   "source": [
    "## Merge dataframes\n"
   ]
  },
  {
   "cell_type": "code",
   "execution_count": 11,
   "metadata": {},
   "outputs": [
    {
     "name": "stdout",
     "output_type": "stream",
     "text": [
      "(42254, 15)\n"
     ]
    }
   ],
   "source": [
    "# merge dataframes\n",
    "df_merged = pd.concat([df_scopus, df_pubmed], axis=0, ignore_index=True)\n",
    "\n",
    "print(df_merged.shape)"
   ]
  },
  {
   "cell_type": "markdown",
   "metadata": {},
   "source": [
    "# remove duplicates\n",
    "\n",
    "keep title abstract from pubmed if not available scopus is not available\n"
   ]
  },
  {
   "cell_type": "code",
   "execution_count": 12,
   "metadata": {},
   "outputs": [
    {
     "data": {
      "text/plain": [
       "(35153, 15)"
      ]
     },
     "execution_count": 12,
     "metadata": {},
     "output_type": "execute_result"
    }
   ],
   "source": [
    "# Define an aggregation function\n",
    "def aggregate_rows(group):\n",
    "    aggregated_row = {}\n",
    "    for column in group.columns:\n",
    "        if column in [\"title\", \"abstract\", \"year\", \"pubmed_id\"]:\n",
    "            non_na_values = group[column].dropna()\n",
    "            # Check if there are any non-NA values\n",
    "            if not non_na_values.empty:\n",
    "                aggregated_row[column] = non_na_values.iloc[0]\n",
    "            else:\n",
    "                aggregated_row[column] = np.nan  # Or any other placeholder you prefer\n",
    "        else:\n",
    "            # For other data, keep the first value\n",
    "            aggregated_row[column] = group.iloc[0][column]\n",
    "    return pd.Series(aggregated_row)\n",
    "\n",
    "\n",
    "# Apply the function to each group\n",
    "df_deduplicated = df_merged.groupby(\"doi\").apply(aggregate_rows).reset_index(drop=True)\n",
    "df_deduplicated.reset_index(drop=True, inplace=True)\n",
    "\n",
    "df_deduplicated.shape"
   ]
  },
  {
   "cell_type": "markdown",
   "metadata": {},
   "source": [
    "### nameyear\n"
   ]
  },
  {
   "cell_type": "markdown",
   "metadata": {},
   "source": [
    "##### first author\n"
   ]
  },
  {
   "cell_type": "code",
   "execution_count": 13,
   "metadata": {},
   "outputs": [
    {
     "data": {
      "text/plain": [
       "first_author\n",
       "Wang      243\n",
       "Li        191\n",
       "Chen      182\n",
       "Zhang     156\n",
       "Kim       125\n",
       "NoAuth    119\n",
       "Lee       118\n",
       "Liu       102\n",
       "Wu         76\n",
       "Zhou       75\n",
       "Name: count, dtype: int64"
      ]
     },
     "execution_count": 13,
     "metadata": {},
     "output_type": "execute_result"
    }
   ],
   "source": [
    "def process_author(x):\n",
    "    # Check if x is a numpy array and has at least one element\n",
    "    if isinstance(x, np.ndarray) and len(x) > 0 and x[0] is not None:\n",
    "        return x[0].split(\";\")[0].strip()\n",
    "    else:\n",
    "        return \"NoAuth\"\n",
    "\n",
    "\n",
    "# Assign the results to a new column 'first_author'\n",
    "df_deduplicated[\"first_author\"] = df_deduplicated[\"authors\"].apply(process_author)\n",
    "\n",
    "# Count the occurrences of each first author\n",
    "df_deduplicated[\"first_author\"].value_counts(dropna=False).head(10)"
   ]
  },
  {
   "cell_type": "markdown",
   "metadata": {},
   "source": [
    "##### date\n"
   ]
  },
  {
   "cell_type": "code",
   "execution_count": 14,
   "metadata": {},
   "outputs": [],
   "source": [
    "df_deduplicated[\"year\"].fillna(9999, inplace=True)\n",
    "# make year an integer columns\n",
    "df_deduplicated[\"year\"] = df_deduplicated[\"year\"].astype(int)"
   ]
  },
  {
   "cell_type": "markdown",
   "metadata": {},
   "source": [
    "##### nameyear\n"
   ]
  },
  {
   "cell_type": "code",
   "execution_count": 15,
   "metadata": {},
   "outputs": [],
   "source": [
    "# Concatenate 'first_author' and 'year' columns to create a new 'nameyear' column\n",
    "df_deduplicated[\"nameyear\"] = df_deduplicated[\"first_author\"] + df_deduplicated[\n",
    "    \"year\"\n",
    "].astype(str)\n",
    "\n",
    "# Create a new column 'unique_nameyear' that counts the cumulative number of each 'nameyear' value\n",
    "df_deduplicated[\"unique_nameyear\"] = df_deduplicated.groupby(\"nameyear\").cumcount()\n",
    "\n",
    "# Modify 'unique_nameyear' to append the count to 'nameyear' if the count is greater than 0\n",
    "df_deduplicated[\"unique_nameyear\"] = df_deduplicated.apply(\n",
    "    lambda x: f\"{x['nameyear']}_{x['unique_nameyear']}\"\n",
    "    if x[\"unique_nameyear\"] > 0\n",
    "    else x[\"nameyear\"],\n",
    "    axis=1,\n",
    ")"
   ]
  },
  {
   "cell_type": "markdown",
   "metadata": {},
   "source": [
    "### title abstract\n"
   ]
  },
  {
   "cell_type": "code",
   "execution_count": 16,
   "metadata": {},
   "outputs": [],
   "source": [
    "df_deduplicated[\"title_abstract\"] = (\n",
    "    df_deduplicated[\"title\"] + \". \" + df_deduplicated[\"abstract\"]\n",
    ")\n",
    "\n",
    "for t, a in zip(df_deduplicated[\"title\"], df_deduplicated[\"abstract\"]):\n",
    "    if t is None:\n",
    "        print(a)"
   ]
  },
  {
   "cell_type": "code",
   "execution_count": 17,
   "metadata": {},
   "outputs": [],
   "source": [
    "df_deduplicated[\"title_abstract\"] = (\n",
    "    df_deduplicated[\"title\"].fillna(\"NoTitle\").astype(str)\n",
    "    + \". \"\n",
    "    + df_deduplicated[\"abstract\"].fillna(\"NoAbstract\").astype(str)\n",
    ")"
   ]
  },
  {
   "cell_type": "code",
   "execution_count": 25,
   "metadata": {},
   "outputs": [
    {
     "name": "stdout",
     "output_type": "stream",
     "text": [
      "Number of papers without abstract: 2698\n"
     ]
    }
   ],
   "source": [
    "print(\n",
    "    f\"Number of papers without abstract: {df_deduplicated[df_deduplicated['title_abstract'].apply(lambda x: x.endswith('NoAbstract'))].shape[0]}\"\n",
    ")"
   ]
  },
  {
   "cell_type": "markdown",
   "metadata": {},
   "source": [
    "##### paper_id\n"
   ]
  },
  {
   "cell_type": "code",
   "execution_count": 26,
   "metadata": {},
   "outputs": [],
   "source": [
    "# sort after year\n",
    "df_deduplicated.sort_values(by=\"year\", inplace=True)\n",
    "# reset index\n",
    "df_deduplicated.reset_index(drop=True, inplace=True)\n",
    "\n",
    "# creaate paper id\n",
    "df_deduplicated[\"paper_id\"] = df_deduplicated.index + 1"
   ]
  },
  {
   "cell_type": "markdown",
   "metadata": {},
   "source": [
    "## save the merged dataframe\n"
   ]
  },
  {
   "cell_type": "code",
   "execution_count": 29,
   "metadata": {},
   "outputs": [],
   "source": [
    "### save data\n",
    "df_deduplicated.to_pickle(\"../data/interim/merged/merged_data.pkl\")"
   ]
  },
  {
   "cell_type": "code",
   "execution_count": null,
   "metadata": {},
   "outputs": [],
   "source": []
  },
  {
   "cell_type": "code",
   "execution_count": null,
   "metadata": {},
   "outputs": [],
   "source": []
  }
 ],
 "metadata": {
  "kernelspec": {
   "display_name": ".venv",
   "language": "python",
   "name": "python3"
  },
  "language_info": {
   "codemirror_mode": {
    "name": "ipython",
    "version": 3
   },
   "file_extension": ".py",
   "mimetype": "text/x-python",
   "name": "python",
   "nbconvert_exporter": "python",
   "pygments_lexer": "ipython3",
   "version": "3.11.6"
  }
 },
 "nbformat": 4,
 "nbformat_minor": 2
}
