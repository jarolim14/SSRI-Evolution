{
 "cells": [
  {
   "cell_type": "markdown",
   "metadata": {},
   "source": [
    "# How to Move Forward with the File in Pajek to get Main Path\n",
    "\n",
    "1. Open Pajek on a computer that does not run on an M Chip (apple silicon)\n",
    "2. "
   ]
  }
 ],
 "metadata": {
  "language_info": {
   "name": "python"
  }
 },
 "nbformat": 4,
 "nbformat_minor": 2
}
