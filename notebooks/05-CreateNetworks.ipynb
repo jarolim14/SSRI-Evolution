{
 "cells": [
  {
   "cell_type": "markdown",
   "metadata": {},
   "source": [
    "# Creating the Network\n",
    "\n",
    "### Undirected Weighted Network\n",
    "\n",
    "- read in the with text embeddings\n",
    "- use the k-nearest neighbours algorithm to find the 15 nearest neighbours for each node, based on cosine distance\n",
    "- create a matrix of the edges between nodes, where the weight of the edge is the cosine similarity \\* (1 - alpha)\n",
    "- create a matrix of the edges between nodes, where the a weight of 1 \\* alpha is assigned if a citation exists between the two nodes\n",
    "- to make the matrix symmetric, we\n",
    "  - calculate the average if ij and ji are non-zero\n",
    "  - use ij in cases where ji is zero (and vice versa)\n",
    "  - if ij and ji are both zero, set the value to zero (no edge)\n",
    "  - we then use the upper triangle of the matrix to create the final adjacency matrix\n",
    "- we then create a network based on this adjacency matrix\n",
    "- we add data from the original dataframe to the network (title, year, etc.)\n",
    "- we save the network as a graphml file; we save the log to the output folder\n",
    "\n",
    "### Directed Unweighted Network\n",
    "\n",
    "- create an edgelist from the dataframe\n",
    "- create a directed network based on this edgelist\n",
    "- add data from the original dataframe to the network (title, year, etc.)\n",
    "- we save the network as a graphml file; we save the log to the output folder\n"
   ]
  },
  {
   "cell_type": "code",
   "execution_count": 1,
   "metadata": {},
   "outputs": [],
   "source": [
    "import pandas as pd\n",
    "from src.network.creation.NetworkCreator import (\n",
    "    WeightedNetworkCreator,\n",
    "    DirectedNetworkCreator,\n",
    ")\n",
    "import json\n",
    "import networkx as nx\n",
    "\n",
    "\n",
    "p = \"../data/04-embeddings/df_with_specter2_embeddings.pkl\"\n",
    "df = pd.read_pickle(p)"
   ]
  },
  {
   "cell_type": "code",
   "execution_count": 2,
   "metadata": {},
   "outputs": [
    {
     "name": "stdout",
     "output_type": "stream",
     "text": [
      "Creating weighted knn citation graph with alpha=0.3 and k=5\n",
      "Initializing WeightedNetworkCreator\n",
      "Getting nearest neighbours...\n",
      "Creating KNN link matrix...\n",
      "Creating citation link matrix...\n",
      "Number of edges from citations: 360645\n",
      "Making matrix symmetric...\n",
      "Creating weighted undirected network...\n",
      "Number of nodes: 40643\n",
      "Number of edges: 460488\n",
      "Percentage of edges from citations: 78.32%\n",
      "Percentage of edges from KNN: 21.68%\n",
      "##############################\n",
      "Creating weighted knn citation graph with alpha=0.3 and k=10\n",
      "Initializing WeightedNetworkCreator\n",
      "Getting nearest neighbours...\n",
      "Creating KNN link matrix...\n",
      "Creating citation link matrix...\n",
      "Number of edges from citations: 360645\n",
      "Making matrix symmetric...\n",
      "Creating weighted undirected network...\n",
      "Number of nodes: 40643\n",
      "Number of edges: 602779\n",
      "Percentage of edges from citations: 59.83%\n",
      "Percentage of edges from KNN: 40.17%\n",
      "##############################\n",
      "Creating weighted knn citation graph with alpha=0.3 and k=15\n",
      "Initializing WeightedNetworkCreator\n",
      "Getting nearest neighbours...\n",
      "Creating KNN link matrix...\n",
      "Creating citation link matrix...\n",
      "Number of edges from citations: 360645\n",
      "Making matrix symmetric...\n",
      "Creating weighted undirected network...\n",
      "Number of nodes: 40643\n",
      "Number of edges: 750188\n",
      "Percentage of edges from citations: 48.07%\n",
      "Percentage of edges from KNN: 51.93%\n",
      "##############################\n",
      "Creating weighted knn citation graph with alpha=0.3 and k=20\n",
      "Initializing WeightedNetworkCreator\n",
      "Getting nearest neighbours...\n",
      "Creating KNN link matrix...\n",
      "Creating citation link matrix...\n",
      "Number of edges from citations: 360645\n",
      "Making matrix symmetric...\n",
      "Creating weighted undirected network...\n",
      "Number of nodes: 40643\n",
      "Number of edges: 899994\n",
      "Percentage of edges from citations: 40.07%\n",
      "Percentage of edges from KNN: 59.93%\n",
      "##############################\n",
      "Creating weighted knn citation graph with alpha=0.5 and k=5\n",
      "Initializing WeightedNetworkCreator\n",
      "Getting nearest neighbours...\n",
      "Creating KNN link matrix...\n",
      "Creating citation link matrix...\n",
      "Number of edges from citations: 360645\n",
      "Making matrix symmetric...\n",
      "Creating weighted undirected network...\n",
      "Number of nodes: 40643\n",
      "Number of edges: 460488\n",
      "Percentage of edges from citations: 78.32%\n",
      "Percentage of edges from KNN: 21.68%\n",
      "##############################\n",
      "Creating weighted knn citation graph with alpha=0.5 and k=10\n",
      "Initializing WeightedNetworkCreator\n",
      "Getting nearest neighbours...\n",
      "Creating KNN link matrix...\n",
      "Creating citation link matrix...\n",
      "Number of edges from citations: 360645\n",
      "Making matrix symmetric...\n",
      "Creating weighted undirected network...\n",
      "Number of nodes: 40643\n",
      "Number of edges: 602779\n",
      "Percentage of edges from citations: 59.83%\n",
      "Percentage of edges from KNN: 40.17%\n",
      "##############################\n",
      "Creating weighted knn citation graph with alpha=0.5 and k=15\n",
      "Initializing WeightedNetworkCreator\n",
      "Getting nearest neighbours...\n",
      "Creating KNN link matrix...\n",
      "Creating citation link matrix...\n",
      "Number of edges from citations: 360645\n",
      "Making matrix symmetric...\n",
      "Creating weighted undirected network...\n",
      "Number of nodes: 40643\n",
      "Number of edges: 750188\n",
      "Percentage of edges from citations: 48.07%\n",
      "Percentage of edges from KNN: 51.93%\n",
      "##############################\n",
      "Creating weighted knn citation graph with alpha=0.5 and k=20\n",
      "Initializing WeightedNetworkCreator\n",
      "Getting nearest neighbours...\n",
      "Creating KNN link matrix...\n",
      "Creating citation link matrix...\n",
      "Number of edges from citations: 360645\n",
      "Making matrix symmetric...\n",
      "Creating weighted undirected network...\n",
      "Number of nodes: 40643\n",
      "Number of edges: 899994\n",
      "Percentage of edges from citations: 40.07%\n",
      "Percentage of edges from KNN: 59.93%\n",
      "##############################\n"
     ]
    }
   ],
   "source": [
    "# usage\n",
    "\n",
    "alphas = [0.3, 0.5]\n",
    "k = [5, 10, 15, 20]\n",
    "# get all unique combinations of alpha and k\n",
    "alpha_k_combinations = [(a, b) for a in alphas for b in k]\n",
    "\n",
    "for alpha, k in alpha_k_combinations:\n",
    "    print(f\"Creating weighted knn citation graph with alpha={alpha} and k={k}\")\n",
    "    wnc = WeightedNetworkCreator(df, alpha=alpha)\n",
    "    similarities, indices = wnc.get_nearest_neighbours(k=k)\n",
    "    knn_matrix = wnc.link_matrix_knn(similarities, indices)\n",
    "    knn_citation_matrix = wnc.link_matrix_citations(knn_matrix)\n",
    "    symmetric_matrix = wnc.make_matrix_symmetric(knn_citation_matrix)\n",
    "    G = wnc.create_network(symmetric_matrix)\n",
    "    G = wnc.prettify_network(\n",
    "        G,\n",
    "        col_list=[\"eid\", \"title\", \"year\", \"abstract\", \"doi\"],\n",
    "    )\n",
    "    weighted_info_log = wnc.get_info_log()\n",
    "\n",
    "    with open(\n",
    "        \"../output/descriptive-stats-logs/weighted_network_info_log.json\", \"w\"\n",
    "    ) as f:\n",
    "        json.dump(weighted_info_log, f)\n",
    "\n",
    "    # write graphml\n",
    "    nx.write_graphml(\n",
    "        G,\n",
    "        f\"../data/05-graphs/weighted-knn-citation-graph/weighted_alpha{alpha}_k{k}_knn_citation.graphml\",\n",
    "    )\n",
    "    print(\"#\" * 30)"
   ]
  },
  {
   "cell_type": "code",
   "execution_count": 3,
   "metadata": {},
   "outputs": [
    {
     "data": {
      "text/plain": [
       "('Ogren_1982', 'Bammer_1982', {'weight': 0.463172972202301})"
      ]
     },
     "execution_count": 3,
     "metadata": {},
     "output_type": "execute_result"
    }
   ],
   "source": [
    "list(G.edges(data=True))[0]"
   ]
  },
  {
   "cell_type": "code",
   "execution_count": 4,
   "metadata": {},
   "outputs": [
    {
     "data": {
      "text/plain": [
       "('Ogren_1982',\n",
       " {'eid': '2-s2.0-0019989147',\n",
       "  'title': 'Forebrain serotonin and avoidance learning: Behavioural and biochemical studies on the acute effect of p-chloroamphetamine on one-way active avoidance learning in the male rat',\n",
       "  'year': 1982,\n",
       "  'abstract': 'The acute effects of p-chloroamphetamine (PCA) on one-way active avoidance learning and on central monoamine concentrations were examined in the male rat. The 5-HT specificity of the acute behavioural effect of PCA was examined in several experiments. PCA (0.08-5 mg/kg IP) injected 30-60 min before testing produced a dose-related impairment of both avoidance acquisition and retention. Pretreatment with the selective serotonin (5-HT) uptake inhibitors fluoxetine and zimelidine, but not the noradrenaline (NA) uptake inhibitor desipramine, resulted in a blockade of the avoidance deficit. Degeneration of brain 5-HT neurons by a high neurotoxic dose of PCA (2 × 10 mg/kg IP) 7 days prior to the administration of PCA also blocked the avoidance deficit. There was also a complete blockade of the PCA-induced avoidance deficit by pretreatment with metergoline, a central 5-HT receptor blocking agent. A 2.5 mg/kg dose of PCA examined 60 min after injection produced regional changes in the 5-HT levels preferentially in the forebrain region with significant reductions in the cerebral cortex, hippocampus and striatum while marginal effects were observed in the hypothalamus, midbrain and spinal cord. PCA failed to reduce dopamine and noradrenaline concentrations in the time- and dose-range of the avoidance deficit. Thus, the avoidance learning impairment appears to be specifically related to the acute release of endogenous 5-HT from presynaptic nerve endings possibly in the forebrain resulting in stimulation of postsynaptic 5-HT receptors. These findings indicate that 5-HT neurons in the forebrain play a role in active avoidance learning possibly by an involvement in memorial and/or retrieval processes. © 1982.',\n",
       "  'doi': '10.1016/0091-3057(82)90040-5'})"
      ]
     },
     "execution_count": 4,
     "metadata": {},
     "output_type": "execute_result"
    }
   ],
   "source": [
    "list(G.nodes(data=True))[0]"
   ]
  },
  {
   "cell_type": "markdown",
   "metadata": {},
   "source": [
    "# Directed Citation Graph\n"
   ]
  },
  {
   "cell_type": "code",
   "execution_count": 5,
   "metadata": {},
   "outputs": [
    {
     "name": "stdout",
     "output_type": "stream",
     "text": [
      "Number of nodes: 40643\n",
      "Number of edges: 360645\n",
      "{'num_edges': 360645, 'num_nodes': 40643, 'nr_isolated_nodes': 2776}\n"
     ]
    }
   ],
   "source": [
    "# Create a directed network from the dataframe\n",
    "dnc = DirectedNetworkCreator(df, data_to_add=[\"eid\", \"doi\"])\n",
    "dnc.build_graph()\n",
    "print(dnc.get_graph_info())\n",
    "directed_info_log = dnc.get_info_log()\n",
    "print(directed_info_log)\n",
    "\n",
    "G = dnc.G"
   ]
  },
  {
   "cell_type": "code",
   "execution_count": 6,
   "metadata": {},
   "outputs": [
    {
     "data": {
      "text/plain": [
       "('Ogren_1982',\n",
       " {'eid': '2-s2.0-0019989147', 'doi': '10.1016/0091-3057(82)90040-5'})"
      ]
     },
     "execution_count": 6,
     "metadata": {},
     "output_type": "execute_result"
    }
   ],
   "source": [
    "# get node attributes\n",
    "list(G.nodes(data=True))[0]"
   ]
  },
  {
   "cell_type": "code",
   "execution_count": 8,
   "metadata": {},
   "outputs": [],
   "source": [
    "with open(\"../output/descriptive-stats-logs/directed_network_info_log.json\", \"w\") as f:\n",
    "    json.dump(directed_info_log, f)\n",
    "\n",
    "# write graphml\n",
    "nx.write_graphml(G, \"../data/05-graphs/citation-graph/directed_citation_graph.graphml\")"
   ]
  }
 ],
 "metadata": {
  "kernelspec": {
   "display_name": "Python 3",
   "language": "python",
   "name": "python3"
  },
  "language_info": {
   "codemirror_mode": {
    "name": "ipython",
    "version": 3
   },
   "file_extension": ".py",
   "mimetype": "text/x-python",
   "name": "python",
   "nbconvert_exporter": "python",
   "pygments_lexer": "ipython3",
   "version": "3.11.6"
  }
 },
 "nbformat": 4,
 "nbformat_minor": 2
}
