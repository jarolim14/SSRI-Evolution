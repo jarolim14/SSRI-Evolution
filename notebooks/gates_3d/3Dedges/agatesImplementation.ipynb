{
 "cells": [
  {
   "cell_type": "code",
   "execution_count": 10,
   "metadata": {},
   "outputs": [
    {
     "name": "stdout",
     "output_type": "stream",
     "text": [
      "The autoreload extension is already loaded. To reload it, use:\n",
      "  %reload_ext autoreload\n"
     ]
    }
   ],
   "source": [
    "%load_ext autoreload\n",
    "%autoreload 2\n",
    "%matplotlib inline"
   ]
  },
  {
   "cell_type": "code",
   "execution_count": 11,
   "metadata": {},
   "outputs": [],
   "source": [
    "import math\n",
    "import numpy as np\n",
    "import pandas as pd\n",
    "import networkx as nx\n",
    "import igraph as ig\n",
    "import scipy.sparse as sparse\n",
    "import json\n",
    "import os\n",
    "\n",
    "from mpl_toolkits.mplot3d import Axes3D\n",
    "import matplotlib.pylab as plt\n",
    "\n",
    "import seaborn as sns\n",
    "\n",
    "sns.set_style(\"white\")\n",
    "\n",
    "from bundling3D import *"
   ]
  },
  {
   "cell_type": "markdown",
   "metadata": {},
   "source": [
    "The main function is hammer_bundle\n",
    "it requires 2 input DataFrames:\n",
    "\n",
    "1. node positions where the index of the DataFrame is the node id, and it contains the columns 'x', 'y', 'z'\n",
    "2. edge list where each edge is an undirected link from 'source' to 'target'\n"
   ]
  },
  {
   "cell_type": "code",
   "execution_count": 12,
   "metadata": {},
   "outputs": [],
   "source": [
    "p = \"/Users/jlq293/Projects/Study-1-Bibliometrics/data/99-testdata/intermediate_graph_bundled_clusters0to100.graphml\"\n",
    "g = ig.Graph.Read_GraphML(p)"
   ]
  },
  {
   "cell_type": "code",
   "execution_count": 14,
   "metadata": {},
   "outputs": [
    {
     "name": "stdout",
     "output_type": "stream",
     "text": [
      "Min x: -1.0, Max x: 0.746563196182251\n",
      "Min y: -0.753902673721313, Max y: 0.770878851413727\n",
      "Min z: -0.15, Max z: 0.15\n"
     ]
    },
    {
     "data": {
      "text/html": [
       "<div>\n",
       "<style scoped>\n",
       "    .dataframe tbody tr th:only-of-type {\n",
       "        vertical-align: middle;\n",
       "    }\n",
       "\n",
       "    .dataframe tbody tr th {\n",
       "        vertical-align: top;\n",
       "    }\n",
       "\n",
       "    .dataframe thead th {\n",
       "        text-align: right;\n",
       "    }\n",
       "</style>\n",
       "<table border=\"1\" class=\"dataframe\">\n",
       "  <thead>\n",
       "    <tr style=\"text-align: right;\">\n",
       "      <th></th>\n",
       "      <th>year</th>\n",
       "      <th>cluster</th>\n",
       "      <th>node_id</th>\n",
       "      <th>centrality</th>\n",
       "      <th>x</th>\n",
       "      <th>y</th>\n",
       "      <th>z</th>\n",
       "      <th>id</th>\n",
       "      <th>node_ind</th>\n",
       "    </tr>\n",
       "  </thead>\n",
       "  <tbody>\n",
       "    <tr>\n",
       "      <th>0</th>\n",
       "      <td>1982.0</td>\n",
       "      <td>70.0</td>\n",
       "      <td>0.0</td>\n",
       "      <td>0.045627</td>\n",
       "      <td>-0.092179</td>\n",
       "      <td>0.493333</td>\n",
       "      <td>-0.136321</td>\n",
       "      <td>n0</td>\n",
       "      <td>0</td>\n",
       "    </tr>\n",
       "    <tr>\n",
       "      <th>1</th>\n",
       "      <td>1982.0</td>\n",
       "      <td>65.0</td>\n",
       "      <td>1.0</td>\n",
       "      <td>0.010706</td>\n",
       "      <td>0.122104</td>\n",
       "      <td>0.376665</td>\n",
       "      <td>-0.146798</td>\n",
       "      <td>n1</td>\n",
       "      <td>1</td>\n",
       "    </tr>\n",
       "    <tr>\n",
       "      <th>2</th>\n",
       "      <td>1982.0</td>\n",
       "      <td>41.0</td>\n",
       "      <td>2.0</td>\n",
       "      <td>0.039863</td>\n",
       "      <td>0.462303</td>\n",
       "      <td>-0.097139</td>\n",
       "      <td>-0.138051</td>\n",
       "      <td>n2</td>\n",
       "      <td>2</td>\n",
       "    </tr>\n",
       "  </tbody>\n",
       "</table>\n",
       "</div>"
      ],
      "text/plain": [
       "     year  cluster  node_id  centrality         x         y         z  id  \\\n",
       "0  1982.0     70.0      0.0    0.045627 -0.092179  0.493333 -0.136321  n0   \n",
       "1  1982.0     65.0      1.0    0.010706  0.122104  0.376665 -0.146798  n1   \n",
       "2  1982.0     41.0      2.0    0.039863  0.462303 -0.097139 -0.138051  n2   \n",
       "\n",
       "   node_ind  \n",
       "0         0  \n",
       "1         1  \n",
       "2         2  "
      ]
     },
     "execution_count": 14,
     "metadata": {},
     "output_type": "execute_result"
    }
   ],
   "source": [
    "nodes_data = {attr: g.vs[attr] for attr in g.vs.attributes()}\n",
    "nodes_df = pd.DataFrame(nodes_data)\n",
    "nodes_df[\"node_ind\"] = [n.index for n in g.vs]\n",
    "# drop title, doi, none_name\n",
    "nodes_df = nodes_df.drop(columns=[\"_nx_name\", \"title\", \"doi\", \"node_name\"])\n",
    "\n",
    "\n",
    "# Calculate min/max for coordinates\n",
    "xmin, xmax = np.min(nodes_df[\"x\"]), np.max(nodes_df[\"x\"])\n",
    "ymin, ymax = np.min(nodes_df[\"y\"]), np.max(nodes_df[\"y\"])\n",
    "zmin, zmax = np.min(nodes_df[\"z\"]), np.max(nodes_df[\"z\"])\n",
    "\n",
    "print(f\"Min x: {xmin}, Max x: {xmax}\")\n",
    "print(f\"Min y: {ymin}, Max y: {ymax}\")\n",
    "print(f\"Min z: {zmin}, Max z: {zmax}\")\n",
    "\n",
    "nodes_df.head(3)"
   ]
  },
  {
   "cell_type": "code",
   "execution_count": 15,
   "metadata": {},
   "outputs": [
    {
     "data": {
      "text/html": [
       "<div>\n",
       "<style scoped>\n",
       "    .dataframe tbody tr th:only-of-type {\n",
       "        vertical-align: middle;\n",
       "    }\n",
       "\n",
       "    .dataframe tbody tr th {\n",
       "        vertical-align: top;\n",
       "    }\n",
       "\n",
       "    .dataframe thead th {\n",
       "        text-align: right;\n",
       "    }\n",
       "</style>\n",
       "<table border=\"1\" class=\"dataframe\">\n",
       "  <thead>\n",
       "    <tr style=\"text-align: right;\">\n",
       "      <th></th>\n",
       "      <th>edge_id</th>\n",
       "      <th>weight</th>\n",
       "      <th>source</th>\n",
       "      <th>target</th>\n",
       "    </tr>\n",
       "  </thead>\n",
       "  <tbody>\n",
       "    <tr>\n",
       "      <th>0</th>\n",
       "      <td>18.0</td>\n",
       "      <td>0.661442</td>\n",
       "      <td>1</td>\n",
       "      <td>3</td>\n",
       "    </tr>\n",
       "    <tr>\n",
       "      <th>1</th>\n",
       "      <td>20.0</td>\n",
       "      <td>0.660123</td>\n",
       "      <td>1</td>\n",
       "      <td>722</td>\n",
       "    </tr>\n",
       "    <tr>\n",
       "      <th>2</th>\n",
       "      <td>50.0</td>\n",
       "      <td>0.663864</td>\n",
       "      <td>2</td>\n",
       "      <td>4</td>\n",
       "    </tr>\n",
       "  </tbody>\n",
       "</table>\n",
       "</div>"
      ],
      "text/plain": [
       "   edge_id    weight  source  target\n",
       "0     18.0  0.661442       1       3\n",
       "1     20.0  0.660123       1     722\n",
       "2     50.0  0.663864       2       4"
      ]
     },
     "execution_count": 15,
     "metadata": {},
     "output_type": "execute_result"
    }
   ],
   "source": [
    "# Create DataFrame for edges\n",
    "edges_data = {attr: g.es[attr] for attr in g.es.attributes()}\n",
    "edges_data = {attr: g.es[attr] for attr in g.es.attributes()}\n",
    "edges_data[\"source\"] = [e.source for e in g.es]\n",
    "edges_data[\"target\"] = [e.target for e in g.es]\n",
    "edges_df = pd.DataFrame(edges_data)\n",
    "edges_df.head(3)"
   ]
  },
  {
   "cell_type": "code",
   "execution_count": 16,
   "metadata": {},
   "outputs": [
    {
     "name": "stdout",
     "output_type": "stream",
     "text": [
      "(112849, 10)\n",
      "(112849, 11)\n"
     ]
    },
    {
     "data": {
      "text/html": [
       "<div>\n",
       "<style scoped>\n",
       "    .dataframe tbody tr th:only-of-type {\n",
       "        vertical-align: middle;\n",
       "    }\n",
       "\n",
       "    .dataframe tbody tr th {\n",
       "        vertical-align: top;\n",
       "    }\n",
       "\n",
       "    .dataframe thead th {\n",
       "        text-align: right;\n",
       "    }\n",
       "</style>\n",
       "<table border=\"1\" class=\"dataframe\">\n",
       "  <thead>\n",
       "    <tr style=\"text-align: right;\">\n",
       "      <th></th>\n",
       "      <th>index</th>\n",
       "      <th>edge_id</th>\n",
       "      <th>weight</th>\n",
       "      <th>source</th>\n",
       "      <th>target</th>\n",
       "      <th>x_src</th>\n",
       "      <th>y_src</th>\n",
       "      <th>z_src</th>\n",
       "      <th>x_tgt</th>\n",
       "      <th>y_tgt</th>\n",
       "      <th>z_tgt</th>\n",
       "    </tr>\n",
       "  </thead>\n",
       "  <tbody>\n",
       "    <tr>\n",
       "      <th>0</th>\n",
       "      <td>0</td>\n",
       "      <td>18.0</td>\n",
       "      <td>0.661442</td>\n",
       "      <td>1</td>\n",
       "      <td>3</td>\n",
       "      <td>0.122104</td>\n",
       "      <td>0.376665</td>\n",
       "      <td>-0.146798</td>\n",
       "      <td>0.188209</td>\n",
       "      <td>0.276197</td>\n",
       "      <td>-0.106892</td>\n",
       "    </tr>\n",
       "    <tr>\n",
       "      <th>1</th>\n",
       "      <td>1</td>\n",
       "      <td>20.0</td>\n",
       "      <td>0.660123</td>\n",
       "      <td>1</td>\n",
       "      <td>722</td>\n",
       "      <td>0.122104</td>\n",
       "      <td>0.376665</td>\n",
       "      <td>-0.146798</td>\n",
       "      <td>0.151891</td>\n",
       "      <td>0.451476</td>\n",
       "      <td>-0.137293</td>\n",
       "    </tr>\n",
       "  </tbody>\n",
       "</table>\n",
       "</div>"
      ],
      "text/plain": [
       "   index  edge_id    weight  source  target     x_src     y_src     z_src  \\\n",
       "0      0     18.0  0.661442       1       3  0.122104  0.376665 -0.146798   \n",
       "1      1     20.0  0.660123       1     722  0.122104  0.376665 -0.146798   \n",
       "\n",
       "      x_tgt     y_tgt     z_tgt  \n",
       "0  0.188209  0.276197 -0.106892  \n",
       "1  0.151891  0.451476 -0.137293  "
      ]
     },
     "execution_count": 16,
     "metadata": {},
     "output_type": "execute_result"
    }
   ],
   "source": [
    "df_pos = pd.merge(\n",
    "    edges_df, nodes_df[[\"x\", \"y\", \"z\"]], left_on=\"source\", right_index=True\n",
    ")\n",
    "df_pos = df_pos.rename(columns={\"x\": \"x_src\", \"y\": \"y_src\", \"z\": \"z_src\"})\n",
    "\n",
    "df_pos = pd.merge(df_pos, nodes_df[[\"x\", \"y\", \"z\"]], left_on=\"target\", right_index=True)\n",
    "df_pos = df_pos.rename(columns={\"x\": \"x_tgt\", \"y\": \"y_tgt\", \"z\": \"z_tgt\"})\n",
    "\n",
    "print(df_pos.shape)\n",
    "\n",
    "df_pos.dropna(inplace=True)\n",
    "\n",
    "\n",
    "df_pos = df_pos.sort_index()\n",
    "df_pos = df_pos.reset_index()\n",
    "print(df_pos.shape)\n",
    "\n",
    "df_pos.head(2)"
   ]
  },
  {
   "cell_type": "code",
   "execution_count": 17,
   "metadata": {},
   "outputs": [
    {
     "name": "stdout",
     "output_type": "stream",
     "text": [
      "(112849, 12)\n",
      "Min segment length: 4.452323537975912e-05\n",
      "Max segment length: 0.6174757155148819\n",
      "Mean segment length: 0.12388325568819092\n",
      "Median segment length: 0.11190535055058408\n"
     ]
    },
    {
     "data": {
      "text/html": [
       "<div>\n",
       "<style scoped>\n",
       "    .dataframe tbody tr th:only-of-type {\n",
       "        vertical-align: middle;\n",
       "    }\n",
       "\n",
       "    .dataframe tbody tr th {\n",
       "        vertical-align: top;\n",
       "    }\n",
       "\n",
       "    .dataframe thead th {\n",
       "        text-align: right;\n",
       "    }\n",
       "</style>\n",
       "<table border=\"1\" class=\"dataframe\">\n",
       "  <thead>\n",
       "    <tr style=\"text-align: right;\">\n",
       "      <th></th>\n",
       "      <th>index</th>\n",
       "      <th>edge_id</th>\n",
       "      <th>weight</th>\n",
       "      <th>source</th>\n",
       "      <th>target</th>\n",
       "      <th>x_src</th>\n",
       "      <th>y_src</th>\n",
       "      <th>z_src</th>\n",
       "      <th>x_tgt</th>\n",
       "      <th>y_tgt</th>\n",
       "      <th>z_tgt</th>\n",
       "      <th>segment_length</th>\n",
       "    </tr>\n",
       "  </thead>\n",
       "  <tbody>\n",
       "    <tr>\n",
       "      <th>0</th>\n",
       "      <td>0</td>\n",
       "      <td>18.0</td>\n",
       "      <td>0.661442</td>\n",
       "      <td>1</td>\n",
       "      <td>3</td>\n",
       "      <td>0.122104</td>\n",
       "      <td>0.376665</td>\n",
       "      <td>-0.146798</td>\n",
       "      <td>0.188209</td>\n",
       "      <td>0.276197</td>\n",
       "      <td>-0.106892</td>\n",
       "      <td>0.126713</td>\n",
       "    </tr>\n",
       "    <tr>\n",
       "      <th>1</th>\n",
       "      <td>1</td>\n",
       "      <td>20.0</td>\n",
       "      <td>0.660123</td>\n",
       "      <td>1</td>\n",
       "      <td>488</td>\n",
       "      <td>0.122104</td>\n",
       "      <td>0.376665</td>\n",
       "      <td>-0.146798</td>\n",
       "      <td>0.151891</td>\n",
       "      <td>0.451476</td>\n",
       "      <td>-0.137293</td>\n",
       "      <td>0.081082</td>\n",
       "    </tr>\n",
       "  </tbody>\n",
       "</table>\n",
       "</div>"
      ],
      "text/plain": [
       "   index  edge_id    weight  source  target     x_src     y_src     z_src  \\\n",
       "0      0     18.0  0.661442       1       3  0.122104  0.376665 -0.146798   \n",
       "1      1     20.0  0.660123       1     488  0.122104  0.376665 -0.146798   \n",
       "\n",
       "      x_tgt     y_tgt     z_tgt  segment_length  \n",
       "0  0.188209  0.276197 -0.106892        0.126713  \n",
       "1  0.151891  0.451476 -0.137293        0.081082  "
      ]
     },
     "execution_count": 17,
     "metadata": {},
     "output_type": "execute_result"
    }
   ],
   "source": [
    "df_pos[\"segment_length\"] = [\n",
    "    distance_between(x[:3], x[3:])\n",
    "    for x in df_pos[[\"x_src\", \"y_src\", \"z_src\", \"x_tgt\", \"y_tgt\", \"z_tgt\"]].values\n",
    "]\n",
    "df_pos = df_pos[df_pos[\"segment_length\"] > 0]\n",
    "print(df_pos.shape)\n",
    "\n",
    "df_pos[[\"source\", \"target\"]] = (\n",
    "    df_pos[[\"source\", \"target\"]].stack().rank(method=\"dense\").unstack().astype(int)\n",
    ")\n",
    "\n",
    "print(f\"Min segment length: {df_pos['segment_length'].min()}\")\n",
    "print(f\"Max segment length: {df_pos['segment_length'].max()}\")\n",
    "print(f\"Mean segment length: {df_pos['segment_length'].mean()}\")\n",
    "# median\n",
    "print(f\"Median segment length: {df_pos['segment_length'].median()}\")\n",
    "df_pos.head(2)"
   ]
  },
  {
   "cell_type": "code",
   "execution_count": 18,
   "metadata": {},
   "outputs": [
    {
     "data": {
      "text/plain": [
       "((25094,), (27196,), (37804, 9), 32497)"
      ]
     },
     "execution_count": 18,
     "metadata": {},
     "output_type": "execute_result"
    }
   ],
   "source": [
    "comb_set = set(df_pos[\"source\"].unique()).union(set(df_pos[\"target\"].unique()))\n",
    "\n",
    "df_pos[\"source\"].unique().shape, df_pos[\"target\"].unique().shape, nodes_df.shape, len(\n",
    "    comb_set\n",
    ")"
   ]
  },
  {
   "cell_type": "code",
   "execution_count": 20,
   "metadata": {},
   "outputs": [
    {
     "name": "stdout",
     "output_type": "stream",
     "text": [
      "Number of nodes: 37804\n",
      "(37804, 37804)\n"
     ]
    }
   ],
   "source": [
    "Nnodes = nodes_df.shape[0]\n",
    "print(f\"Number of nodes: {Nnodes}\")\n",
    "subedges = df_pos[\"segment_length\"] > df_pos[\"segment_length\"].median()\n",
    "subedges.sum()\n",
    "\n",
    "\n",
    "mat = sparse.coo_matrix(\n",
    "    (\n",
    "        np.ones(df_pos.loc[subedges].shape[0], dtype=int),\n",
    "        (\n",
    "            df_pos.loc[subedges, \"source\"].values,\n",
    "            df_pos.loc[subedges, \"target\"].values,\n",
    "        ),\n",
    "    ),\n",
    "    shape=(Nnodes, Nnodes),\n",
    ")\n",
    "print(mat.shape)"
   ]
  },
  {
   "cell_type": "code",
   "execution_count": 23,
   "metadata": {},
   "outputs": [
    {
     "data": {
      "text/plain": [
       "(array([    1,     2,     3,     4,     5,     6,     7,     8,     9,\n",
       "           10,    11,    12,    13,    15,    16,    17,    18,    19,\n",
       "           20,    23,    29, 23147]),\n",
       " array([10709,   896,   249,   108,    43,    28,    13,     6,     7,\n",
       "            7,     3,     1,     1,     1,     3,     1,     3,     2,\n",
       "            2,     1,     1,     1]))"
      ]
     },
     "execution_count": 23,
     "metadata": {},
     "output_type": "execute_result"
    }
   ],
   "source": [
    "ncomp, membership = sparse.csgraph.connected_components(mat)\n",
    "\n",
    "mvalue, mcounts = np.unique(membership, return_counts=True)\n",
    "mcounts, mcountdist = np.unique(mcounts, return_counts=True)\n",
    "\n",
    "mcounts, mcountdist"
   ]
  },
  {
   "cell_type": "code",
   "execution_count": 24,
   "metadata": {},
   "outputs": [
    {
     "data": {
      "image/png": "[encoded data removed]",
      "text/plain": [
       "<Figure size 600x600 with 1 Axes>"
      ]
     },
     "metadata": {},
     "output_type": "display_data"
    }
   ],
   "source": [
    "fig, ax = plt.subplots(1, 1, figsize=(6, 6))\n",
    "\n",
    "dist, bins = np.histogram(\n",
    "    df_pos[\"segment_length\"].values, bins=np.exp(np.linspace(-8, 3, 100))\n",
    ")\n",
    "\n",
    "ax.scatter(np.log(bins[:-1]), dist)\n",
    "\n",
    "plt.show()"
   ]
  },
  {
   "cell_type": "code",
   "execution_count": 25,
   "metadata": {},
   "outputs": [
    {
     "name": "stdout",
     "output_type": "stream",
     "text": [
      "Nr of Nodes:  37804\n",
      "Nr of Edges:  112849\n"
     ]
    }
   ],
   "source": [
    "print(\"Nr of Nodes: \", Nnodes)\n",
    "print(\"Nr of Edges: \", df_pos.shape[0])"
   ]
  },
  {
   "cell_type": "code",
   "execution_count": 26,
   "metadata": {},
   "outputs": [
    {
     "data": {
      "text/html": [
       "<div>\n",
       "<style scoped>\n",
       "    .dataframe tbody tr th:only-of-type {\n",
       "        vertical-align: middle;\n",
       "    }\n",
       "\n",
       "    .dataframe tbody tr th {\n",
       "        vertical-align: top;\n",
       "    }\n",
       "\n",
       "    .dataframe thead th {\n",
       "        text-align: right;\n",
       "    }\n",
       "</style>\n",
       "<table border=\"1\" class=\"dataframe\">\n",
       "  <thead>\n",
       "    <tr style=\"text-align: right;\">\n",
       "      <th></th>\n",
       "      <th>edge_id</th>\n",
       "      <th>weight</th>\n",
       "      <th>source</th>\n",
       "      <th>target</th>\n",
       "    </tr>\n",
       "  </thead>\n",
       "  <tbody>\n",
       "    <tr>\n",
       "      <th>0</th>\n",
       "      <td>18.0</td>\n",
       "      <td>0.661442</td>\n",
       "      <td>1</td>\n",
       "      <td>3</td>\n",
       "    </tr>\n",
       "    <tr>\n",
       "      <th>1</th>\n",
       "      <td>20.0</td>\n",
       "      <td>0.660123</td>\n",
       "      <td>1</td>\n",
       "      <td>722</td>\n",
       "    </tr>\n",
       "    <tr>\n",
       "      <th>2</th>\n",
       "      <td>50.0</td>\n",
       "      <td>0.663864</td>\n",
       "      <td>2</td>\n",
       "      <td>4</td>\n",
       "    </tr>\n",
       "    <tr>\n",
       "      <th>3</th>\n",
       "      <td>64.0</td>\n",
       "      <td>0.810501</td>\n",
       "      <td>3</td>\n",
       "      <td>506</td>\n",
       "    </tr>\n",
       "    <tr>\n",
       "      <th>4</th>\n",
       "      <td>69.0</td>\n",
       "      <td>0.815381</td>\n",
       "      <td>3</td>\n",
       "      <td>840</td>\n",
       "    </tr>\n",
       "    <tr>\n",
       "      <th>...</th>\n",
       "      <td>...</td>\n",
       "      <td>...</td>\n",
       "      <td>...</td>\n",
       "      <td>...</td>\n",
       "    </tr>\n",
       "    <tr>\n",
       "      <th>112844</th>\n",
       "      <td>602774.0</td>\n",
       "      <td>0.682414</td>\n",
       "      <td>37750</td>\n",
       "      <td>37772</td>\n",
       "    </tr>\n",
       "    <tr>\n",
       "      <th>112845</th>\n",
       "      <td>602775.0</td>\n",
       "      <td>0.695086</td>\n",
       "      <td>37778</td>\n",
       "      <td>37800</td>\n",
       "    </tr>\n",
       "    <tr>\n",
       "      <th>112846</th>\n",
       "      <td>602776.0</td>\n",
       "      <td>0.815483</td>\n",
       "      <td>37778</td>\n",
       "      <td>37801</td>\n",
       "    </tr>\n",
       "    <tr>\n",
       "      <th>112847</th>\n",
       "      <td>602777.0</td>\n",
       "      <td>0.659758</td>\n",
       "      <td>37787</td>\n",
       "      <td>37792</td>\n",
       "    </tr>\n",
       "    <tr>\n",
       "      <th>112848</th>\n",
       "      <td>602778.0</td>\n",
       "      <td>0.819018</td>\n",
       "      <td>37800</td>\n",
       "      <td>37801</td>\n",
       "    </tr>\n",
       "  </tbody>\n",
       "</table>\n",
       "<p>112849 rows × 4 columns</p>\n",
       "</div>"
      ],
      "text/plain": [
       "         edge_id    weight  source  target\n",
       "0           18.0  0.661442       1       3\n",
       "1           20.0  0.660123       1     722\n",
       "2           50.0  0.663864       2       4\n",
       "3           64.0  0.810501       3     506\n",
       "4           69.0  0.815381       3     840\n",
       "...          ...       ...     ...     ...\n",
       "112844  602774.0  0.682414   37750   37772\n",
       "112845  602775.0  0.695086   37778   37800\n",
       "112846  602776.0  0.815483   37778   37801\n",
       "112847  602777.0  0.659758   37787   37792\n",
       "112848  602778.0  0.819018   37800   37801\n",
       "\n",
       "[112849 rows x 4 columns]"
      ]
     },
     "execution_count": 26,
     "metadata": {},
     "output_type": "execute_result"
    }
   ],
   "source": [
    "edges_df"
   ]
  },
  {
   "cell_type": "code",
   "execution_count": 30,
   "metadata": {},
   "outputs": [
    {
     "name": "stdout",
     "output_type": "stream",
     "text": [
      "112849\n",
      "Process Bundling\n",
      "Start Bundling\n",
      "Start Smoothing\n"
     ]
    },
    {
     "data": {
      "text/html": [
       "<div>\n",
       "<style scoped>\n",
       "    .dataframe tbody tr th:only-of-type {\n",
       "        vertical-align: middle;\n",
       "    }\n",
       "\n",
       "    .dataframe tbody tr th {\n",
       "        vertical-align: top;\n",
       "    }\n",
       "\n",
       "    .dataframe thead th {\n",
       "        text-align: right;\n",
       "    }\n",
       "</style>\n",
       "<table border=\"1\" class=\"dataframe\">\n",
       "  <thead>\n",
       "    <tr style=\"text-align: right;\">\n",
       "      <th></th>\n",
       "      <th>x</th>\n",
       "      <th>y</th>\n",
       "      <th>z</th>\n",
       "    </tr>\n",
       "  </thead>\n",
       "  <tbody>\n",
       "    <tr>\n",
       "      <th>0</th>\n",
       "      <td>0.122104</td>\n",
       "      <td>0.376665</td>\n",
       "      <td>-0.146798</td>\n",
       "    </tr>\n",
       "    <tr>\n",
       "      <th>1</th>\n",
       "      <td>0.112285</td>\n",
       "      <td>0.372056</td>\n",
       "      <td>-0.142059</td>\n",
       "    </tr>\n",
       "    <tr>\n",
       "      <th>2</th>\n",
       "      <td>0.101397</td>\n",
       "      <td>0.366734</td>\n",
       "      <td>-0.137443</td>\n",
       "    </tr>\n",
       "    <tr>\n",
       "      <th>3</th>\n",
       "      <td>0.088696</td>\n",
       "      <td>0.360171</td>\n",
       "      <td>-0.133047</td>\n",
       "    </tr>\n",
       "    <tr>\n",
       "      <th>4</th>\n",
       "      <td>0.073740</td>\n",
       "      <td>0.351973</td>\n",
       "      <td>-0.128951</td>\n",
       "    </tr>\n",
       "  </tbody>\n",
       "</table>\n",
       "</div>"
      ],
      "text/plain": [
       "          x         y         z\n",
       "0  0.122104  0.376665 -0.146798\n",
       "1  0.112285  0.372056 -0.142059\n",
       "2  0.101397  0.366734 -0.137443\n",
       "3  0.088696  0.360171 -0.133047\n",
       "4  0.073740  0.351973 -0.128951"
      ]
     },
     "execution_count": 30,
     "metadata": {},
     "output_type": "execute_result"
    }
   ],
   "source": [
    "cocite_bundled = hammer_bundle(\n",
    "    nodes_df[[\"x\", \"y\", \"z\"]],\n",
    "    edges_df[[\"source\", \"target\"]],\n",
    "    initial_bandwidth=0.40,\n",
    "    decay=0.7,\n",
    "    accuracy=5 * 10**2,\n",
    "    weight=None,\n",
    "    advect_iterations=50,\n",
    "    iterations=5,\n",
    "    min_segment_length=0.001,\n",
    "    max_segment_length=0.05,\n",
    ")\n",
    "cocite_bundled.head()"
   ]
  },
  {
   "cell_type": "markdown",
   "metadata": {},
   "source": [
    "now the dataframe as all points of all edges. a new edge is signalled by a NaN row.\n"
   ]
  },
  {
   "cell_type": "code",
   "execution_count": 55,
   "metadata": {},
   "outputs": [
    {
     "name": "stdout",
     "output_type": "stream",
     "text": [
      "Nr of points: 3864211\n",
      "112849\n",
      "112849\n"
     ]
    },
    {
     "name": "stderr",
     "output_type": "stream",
     "text": [
      "/var/folders/6m/zjbwrdgj0bg9zyhx3l7134mm0000gn/T/ipykernel_18397/1209578438.py:2: FutureWarning: Series.__getitem__ treating keys as positions is deprecated. In a future version, integer keys will always be treated as labels (consistent with DataFrame behavior). To access a value by position, use `ser.iloc[pos]`\n",
      "  print(bundled_edges.isna().sum()[0])\n"
     ]
    }
   ],
   "source": [
    "print(f\"Nr of points: {cocite_bundled.shape[0]}\")\n",
    "print(bundled_edges.isna().sum()[0])\n",
    "print(edges_df.shape[0])"
   ]
  },
  {
   "cell_type": "code",
   "execution_count": 42,
   "metadata": {},
   "outputs": [],
   "source": [
    "bundled_edges = cocite_bundled.copy()\n",
    "npts = bundled_edges.shape[0]\n",
    "edges = edges_df.copy()\n",
    "threshold = 0.05\n",
    "ptnames = [\"x_src\", \"y_src\", \"z_src\", \"x_tgt\", \"y_tgt\", \"z_tgt\"]\n",
    "\n",
    "bundled_edge_df = []\n",
    "edgepts = []\n",
    "iedge = 0\n",
    "for irow in range(npts - 1):\n",
    "    x = bundled_edges.loc[irow].values.flatten()\n",
    "\n",
    "    if np.isnan(x).sum() > 0:\n",
    "\n",
    "        path = \"; \".join(map(str, edgepts))\n",
    "        bundled_edge_df.append(\n",
    "            [edges.loc[iedge, \"source\"], edges.loc[iedge, \"target\"], path]\n",
    "        )\n",
    "\n",
    "        iedge += 1\n",
    "        edgepts = []\n",
    "\n",
    "    else:\n",
    "        edgepts.extend(list(x))\n",
    "bundled_edge_df = pd.DataFrame(bundled_edge_df, columns=[\"source\", \"target\", \"path\"])"
   ]
  },
  {
   "cell_type": "code",
   "execution_count": 64,
   "metadata": {},
   "outputs": [
    {
     "name": "stdout",
     "output_type": "stream",
     "text": [
      "Nr of straight edges: 13605\n"
     ]
    },
    {
     "data": {
      "text/html": [
       "<div>\n",
       "<style scoped>\n",
       "    .dataframe tbody tr th:only-of-type {\n",
       "        vertical-align: middle;\n",
       "    }\n",
       "\n",
       "    .dataframe tbody tr th {\n",
       "        vertical-align: top;\n",
       "    }\n",
       "\n",
       "    .dataframe thead th {\n",
       "        text-align: right;\n",
       "    }\n",
       "</style>\n",
       "<table border=\"1\" class=\"dataframe\">\n",
       "  <thead>\n",
       "    <tr style=\"text-align: right;\">\n",
       "      <th></th>\n",
       "      <th>index</th>\n",
       "      <th>edge_id</th>\n",
       "      <th>weight</th>\n",
       "      <th>source</th>\n",
       "      <th>target</th>\n",
       "      <th>x_src</th>\n",
       "      <th>y_src</th>\n",
       "      <th>z_src</th>\n",
       "      <th>x_tgt</th>\n",
       "      <th>y_tgt</th>\n",
       "      <th>z_tgt</th>\n",
       "      <th>segment_length</th>\n",
       "    </tr>\n",
       "  </thead>\n",
       "  <tbody>\n",
       "    <tr>\n",
       "      <th>11</th>\n",
       "      <td>11</td>\n",
       "      <td>233.0</td>\n",
       "      <td>0.661995</td>\n",
       "      <td>8</td>\n",
       "      <td>2162</td>\n",
       "      <td>-0.116112</td>\n",
       "      <td>0.501131</td>\n",
       "      <td>-0.141829</td>\n",
       "      <td>-0.137308</td>\n",
       "      <td>0.532768</td>\n",
       "      <td>-0.134901</td>\n",
       "      <td>0.038706</td>\n",
       "    </tr>\n",
       "    <tr>\n",
       "      <th>20</th>\n",
       "      <td>20</td>\n",
       "      <td>339.0</td>\n",
       "      <td>0.802072</td>\n",
       "      <td>12</td>\n",
       "      <td>228</td>\n",
       "      <td>0.137059</td>\n",
       "      <td>0.304343</td>\n",
       "      <td>-0.123482</td>\n",
       "      <td>0.112303</td>\n",
       "      <td>0.282483</td>\n",
       "      <td>-0.134452</td>\n",
       "      <td>0.034800</td>\n",
       "    </tr>\n",
       "  </tbody>\n",
       "</table>\n",
       "</div>"
      ],
      "text/plain": [
       "    index  edge_id    weight  source  target     x_src     y_src     z_src  \\\n",
       "11     11    233.0  0.661995       8    2162 -0.116112  0.501131 -0.141829   \n",
       "20     20    339.0  0.802072      12     228  0.137059  0.304343 -0.123482   \n",
       "\n",
       "       x_tgt     y_tgt     z_tgt  segment_length  \n",
       "11 -0.137308  0.532768 -0.134901        0.038706  \n",
       "20  0.112303  0.282483 -0.134452        0.034800  "
      ]
     },
     "execution_count": 64,
     "metadata": {},
     "output_type": "execute_result"
    }
   ],
   "source": [
    "# get those edges that are not bundled (smaller than threshold)\n",
    "straight_edges = df_pos[\"segment_length\"] <= threshold\n",
    "straight_edge_df = df_pos[straight_edges]\n",
    "print(f\"Nr of straight edges: {straight_edge_df.shape[0]}\")\n",
    "straight_edge_df.head(2)"
   ]
  },
  {
   "cell_type": "code",
   "execution_count": 68,
   "metadata": {},
   "outputs": [
    {
     "name": "stderr",
     "output_type": "stream",
     "text": [
      "/var/folders/6m/zjbwrdgj0bg9zyhx3l7134mm0000gn/T/ipykernel_18397/3605132118.py:1: SettingWithCopyWarning: \n",
      "A value is trying to be set on a copy of a slice from a DataFrame.\n",
      "Try using .loc[row_indexer,col_indexer] = value instead\n",
      "\n",
      "See the caveats in the documentation: https://pandas.pydata.org/pandas-docs/stable/user_guide/indexing.html#returning-a-view-versus-a-copy\n",
      "  straight_edge_df[\"path\"] = [\n"
     ]
    }
   ],
   "source": [
    "straight_edge_df[\"path\"] = [\n",
    "    \"; \".join(map(str, row)) for row in straight_edge_df[ptnames].values\n",
    "]\n",
    "straight_edge_df = straight_edge_df[[\"source\", \"target\", \"path\"]]\n",
    "\n",
    "df_final = pd.concat([bundled_edge_df, straight_edge_df])"
   ]
  },
  {
   "cell_type": "code",
   "execution_count": 69,
   "metadata": {},
   "outputs": [
    {
     "data": {
      "text/html": [
       "<div>\n",
       "<style scoped>\n",
       "    .dataframe tbody tr th:only-of-type {\n",
       "        vertical-align: middle;\n",
       "    }\n",
       "\n",
       "    .dataframe tbody tr th {\n",
       "        vertical-align: top;\n",
       "    }\n",
       "\n",
       "    .dataframe thead th {\n",
       "        text-align: right;\n",
       "    }\n",
       "</style>\n",
       "<table border=\"1\" class=\"dataframe\">\n",
       "  <thead>\n",
       "    <tr style=\"text-align: right;\">\n",
       "      <th></th>\n",
       "      <th>source</th>\n",
       "      <th>target</th>\n",
       "      <th>path</th>\n",
       "    </tr>\n",
       "  </thead>\n",
       "  <tbody>\n",
       "    <tr>\n",
       "      <th>0</th>\n",
       "      <td>1</td>\n",
       "      <td>3</td>\n",
       "      <td>0.12210372835397698; 0.3766651451587679; -0.14...</td>\n",
       "    </tr>\n",
       "    <tr>\n",
       "      <th>1</th>\n",
       "      <td>1</td>\n",
       "      <td>722</td>\n",
       "      <td>0.12210372835397698; 0.3766651451587679; -0.14...</td>\n",
       "    </tr>\n",
       "  </tbody>\n",
       "</table>\n",
       "</div>"
      ],
      "text/plain": [
       "   source  target                                               path\n",
       "0       1       3  0.12210372835397698; 0.3766651451587679; -0.14...\n",
       "1       1     722  0.12210372835397698; 0.3766651451587679; -0.14..."
      ]
     },
     "execution_count": 69,
     "metadata": {},
     "output_type": "execute_result"
    }
   ],
   "source": [
    "df_final.head(2)"
   ]
  },
  {
   "cell_type": "code",
   "execution_count": null,
   "metadata": {},
   "outputs": [],
   "source": []
  },
  {
   "cell_type": "code",
   "execution_count": null,
   "metadata": {},
   "outputs": [],
   "source": []
  },
  {
   "cell_type": "code",
   "execution_count": null,
   "metadata": {},
   "outputs": [],
   "source": []
  },
  {
   "cell_type": "code",
   "execution_count": null,
   "metadata": {},
   "outputs": [],
   "source": [
    "cociteedges.reset_index(drop=True, inplace=True)"
   ]
  },
  {
   "cell_type": "code",
   "execution_count": null,
   "metadata": {},
   "outputs": [
    {
     "ename": "AttributeError",
     "evalue": "'DataFrame' object has no attribute 'get_values'",
     "output_type": "error",
     "traceback": [
      "\u001b[0;31m---------------------------------------------------------------------------\u001b[0m",
      "\u001b[0;31mAttributeError\u001b[0m                            Traceback (most recent call last)",
      "\u001b[0;32m/var/folders/6m/zjbwrdgj0bg9zyhx3l7134mm0000gn/T/ipykernel_3344/2719015888.py\u001b[0m in \u001b[0;36m?\u001b[0;34m()\u001b[0m\n\u001b[1;32m     64\u001b[0m \u001b[0;34m\u001b[0m\u001b[0m\n\u001b[1;32m     65\u001b[0m     \u001b[0;32mreturn\u001b[0m \u001b[0mpd\u001b[0m\u001b[0;34m.\u001b[0m\u001b[0mconcat\u001b[0m\u001b[0;34m(\u001b[0m\u001b[0;34m[\u001b[0m\u001b[0mbundled_edge_df\u001b[0m\u001b[0;34m,\u001b[0m \u001b[0mstraight_edge_df\u001b[0m\u001b[0;34m]\u001b[0m\u001b[0;34m)\u001b[0m\u001b[0;34m\u001b[0m\u001b[0;34m\u001b[0m\u001b[0m\n\u001b[1;32m     66\u001b[0m \u001b[0;34m\u001b[0m\u001b[0m\n\u001b[1;32m     67\u001b[0m \u001b[0;34m\u001b[0m\u001b[0m\n\u001b[0;32m---> 68\u001b[0;31m \u001b[0medgedf\u001b[0m \u001b[0;34m=\u001b[0m \u001b[0mbundle_between_clusters\u001b[0m\u001b[0;34m(\u001b[0m\u001b[0mnodes_df\u001b[0m\u001b[0;34m[\u001b[0m\u001b[0;34m[\u001b[0m\u001b[0;34m\"x\"\u001b[0m\u001b[0;34m,\u001b[0m \u001b[0;34m\"y\"\u001b[0m\u001b[0;34m,\u001b[0m \u001b[0;34m\"z\"\u001b[0m\u001b[0;34m]\u001b[0m\u001b[0;34m]\u001b[0m\u001b[0;34m,\u001b[0m \u001b[0medges_df\u001b[0m\u001b[0;34m,\u001b[0m \u001b[0mthreshold\u001b[0m\u001b[0;34m=\u001b[0m\u001b[0;36m0.025\u001b[0m\u001b[0;34m)\u001b[0m\u001b[0;34m\u001b[0m\u001b[0;34m\u001b[0m\u001b[0m\n\u001b[0m\u001b[1;32m     69\u001b[0m \u001b[0;34m\u001b[0m\u001b[0m\n\u001b[1;32m     70\u001b[0m \u001b[0;31m# edgedf.to_csv(\"/Users/ajgates/Desktop/cociteEdges2.csv\", header=True, index=False)\u001b[0m\u001b[0;34m\u001b[0m\u001b[0;34m\u001b[0m\u001b[0m\n",
      "\u001b[0;32m/var/folders/6m/zjbwrdgj0bg9zyhx3l7134mm0000gn/T/ipykernel_3344/2719015888.py\u001b[0m in \u001b[0;36m?\u001b[0;34m(nodes, edges, threshold)\u001b[0m\n\u001b[1;32m     18\u001b[0m     \u001b[0;31m# df[['source', 'target']] = df[['source', 'target']].stack().rank(method='dense').unstack().astype(int)\u001b[0m\u001b[0;34m\u001b[0m\u001b[0;34m\u001b[0m\u001b[0m\n\u001b[1;32m     19\u001b[0m \u001b[0;34m\u001b[0m\u001b[0m\n\u001b[1;32m     20\u001b[0m     \u001b[0medges2bundle\u001b[0m \u001b[0;34m=\u001b[0m \u001b[0mdf\u001b[0m\u001b[0;34m[\u001b[0m\u001b[0;34m\"segment_length\"\u001b[0m\u001b[0;34m]\u001b[0m \u001b[0;34m>\u001b[0m \u001b[0mthreshold\u001b[0m\u001b[0;34m\u001b[0m\u001b[0;34m\u001b[0m\u001b[0m\n\u001b[1;32m     21\u001b[0m \u001b[0;34m\u001b[0m\u001b[0m\n\u001b[0;32m---> 22\u001b[0;31m     bundled_edges = hammer_bundle(\n\u001b[0m\u001b[1;32m     23\u001b[0m         \u001b[0mnodes\u001b[0m\u001b[0;34m[\u001b[0m\u001b[0;34m[\u001b[0m\u001b[0;34m\"x\"\u001b[0m\u001b[0;34m,\u001b[0m \u001b[0;34m\"y\"\u001b[0m\u001b[0;34m,\u001b[0m \u001b[0;34m\"z\"\u001b[0m\u001b[0;34m]\u001b[0m\u001b[0;34m]\u001b[0m\u001b[0;34m,\u001b[0m\u001b[0;34m\u001b[0m\u001b[0;34m\u001b[0m\u001b[0m\n\u001b[1;32m     24\u001b[0m         \u001b[0mdf\u001b[0m\u001b[0;34m.\u001b[0m\u001b[0mloc\u001b[0m\u001b[0;34m[\u001b[0m\u001b[0medges2bundle\u001b[0m\u001b[0;34m,\u001b[0m \u001b[0;34m[\u001b[0m\u001b[0;34m\"source\"\u001b[0m\u001b[0;34m,\u001b[0m \u001b[0;34m\"target\"\u001b[0m\u001b[0;34m]\u001b[0m\u001b[0;34m]\u001b[0m\u001b[0;34m,\u001b[0m\u001b[0;34m\u001b[0m\u001b[0;34m\u001b[0m\u001b[0m\n\u001b[1;32m     25\u001b[0m         \u001b[0minitial_bandwidth\u001b[0m\u001b[0;34m=\u001b[0m\u001b[0;36m0.40\u001b[0m\u001b[0;34m,\u001b[0m\u001b[0;34m\u001b[0m\u001b[0;34m\u001b[0m\u001b[0m\n",
      "\u001b[0;32m/opt/homebrew/Caskroom/miniconda/base/envs/condavenv/lib/python3.11/site-packages/param/parameterized.py\u001b[0m in \u001b[0;36m?\u001b[0;34m(class_, *args, **params)\u001b[0m\n\u001b[1;32m   4463\u001b[0m     \u001b[0;32mdef\u001b[0m \u001b[0m__new__\u001b[0m\u001b[0;34m(\u001b[0m\u001b[0mclass_\u001b[0m\u001b[0;34m,\u001b[0m\u001b[0;34m*\u001b[0m\u001b[0margs\u001b[0m\u001b[0;34m,\u001b[0m\u001b[0;34m**\u001b[0m\u001b[0mparams\u001b[0m\u001b[0;34m)\u001b[0m\u001b[0;34m:\u001b[0m\u001b[0;34m\u001b[0m\u001b[0;34m\u001b[0m\u001b[0m\n\u001b[1;32m   4464\u001b[0m         \u001b[0;31m# Create and __call__() an instance of this class.\u001b[0m\u001b[0;34m\u001b[0m\u001b[0;34m\u001b[0m\u001b[0m\n\u001b[1;32m   4465\u001b[0m         \u001b[0minst\u001b[0m \u001b[0;34m=\u001b[0m \u001b[0mclass_\u001b[0m\u001b[0;34m.\u001b[0m\u001b[0minstance\u001b[0m\u001b[0;34m(\u001b[0m\u001b[0;34m)\u001b[0m\u001b[0;34m\u001b[0m\u001b[0;34m\u001b[0m\u001b[0m\n\u001b[1;32m   4466\u001b[0m         \u001b[0minst\u001b[0m\u001b[0;34m.\u001b[0m\u001b[0mparam\u001b[0m\u001b[0;34m.\u001b[0m\u001b[0m_set_name\u001b[0m\u001b[0;34m(\u001b[0m\u001b[0mclass_\u001b[0m\u001b[0;34m.\u001b[0m\u001b[0m__name__\u001b[0m\u001b[0;34m)\u001b[0m\u001b[0;34m\u001b[0m\u001b[0;34m\u001b[0m\u001b[0m\n\u001b[0;32m-> 4467\u001b[0;31m         \u001b[0;32mreturn\u001b[0m \u001b[0minst\u001b[0m\u001b[0;34m.\u001b[0m\u001b[0m__call__\u001b[0m\u001b[0;34m(\u001b[0m\u001b[0;34m*\u001b[0m\u001b[0margs\u001b[0m\u001b[0;34m,\u001b[0m\u001b[0;34m**\u001b[0m\u001b[0mparams\u001b[0m\u001b[0;34m)\u001b[0m\u001b[0;34m\u001b[0m\u001b[0;34m\u001b[0m\u001b[0m\n\u001b[0m",
      "\u001b[0;32m~/Projects/Study-1-Bibliometrics/notebooks/gates_3d/3Dedges/bundling3D.py\u001b[0m in \u001b[0;36m?\u001b[0;34m(self, nodes, edges, **params)\u001b[0m\n\u001b[1;32m    475\u001b[0m                 \u001b[0mnodes\u001b[0m\u001b[0;34m[\u001b[0m\u001b[0mp\u001b[0m\u001b[0;34m.\u001b[0m\u001b[0my\u001b[0m\u001b[0;34m]\u001b[0m \u001b[0;34m=\u001b[0m \u001b[0mminmax_normalize\u001b[0m\u001b[0;34m(\u001b[0m\u001b[0mnodes\u001b[0m\u001b[0;34m[\u001b[0m\u001b[0mp\u001b[0m\u001b[0;34m.\u001b[0m\u001b[0my\u001b[0m\u001b[0;34m]\u001b[0m\u001b[0;34m,\u001b[0m \u001b[0mymin\u001b[0m\u001b[0;34m,\u001b[0m \u001b[0mymax\u001b[0m\u001b[0;34m)\u001b[0m\u001b[0;34m\u001b[0m\u001b[0;34m\u001b[0m\u001b[0m\n\u001b[1;32m    476\u001b[0m                 \u001b[0mnodes\u001b[0m\u001b[0;34m[\u001b[0m\u001b[0mp\u001b[0m\u001b[0;34m.\u001b[0m\u001b[0mz\u001b[0m\u001b[0;34m]\u001b[0m \u001b[0;34m=\u001b[0m \u001b[0mminmax_normalize\u001b[0m\u001b[0;34m(\u001b[0m\u001b[0mnodes\u001b[0m\u001b[0;34m[\u001b[0m\u001b[0mp\u001b[0m\u001b[0;34m.\u001b[0m\u001b[0mz\u001b[0m\u001b[0;34m]\u001b[0m\u001b[0;34m,\u001b[0m \u001b[0mzmin\u001b[0m\u001b[0;34m,\u001b[0m \u001b[0mzmax\u001b[0m\u001b[0;34m)\u001b[0m\u001b[0;34m\u001b[0m\u001b[0;34m\u001b[0m\u001b[0m\n\u001b[1;32m    477\u001b[0m \u001b[0;34m\u001b[0m\u001b[0m\n\u001b[1;32m    478\u001b[0m                 \u001b[0;31m# Convert graph into list of edge segments\u001b[0m\u001b[0;34m\u001b[0m\u001b[0;34m\u001b[0m\u001b[0m\n\u001b[0;32m--> 479\u001b[0;31m                 \u001b[0medges\u001b[0m\u001b[0;34m,\u001b[0m \u001b[0msegment_class\u001b[0m \u001b[0;34m=\u001b[0m \u001b[0m_convert_graph_to_edge_segments\u001b[0m\u001b[0;34m(\u001b[0m\u001b[0mnodes\u001b[0m\u001b[0;34m,\u001b[0m \u001b[0medges\u001b[0m\u001b[0;34m,\u001b[0m \u001b[0mp\u001b[0m\u001b[0;34m)\u001b[0m\u001b[0;34m\u001b[0m\u001b[0;34m\u001b[0m\u001b[0m\n\u001b[0m\u001b[1;32m    480\u001b[0m \u001b[0;34m\u001b[0m\u001b[0m\n\u001b[1;32m    481\u001b[0m                 \u001b[0;31m# This is simply to let the work split out over multiple cores\u001b[0m\u001b[0;34m\u001b[0m\u001b[0;34m\u001b[0m\u001b[0m\n\u001b[1;32m    482\u001b[0m                 \u001b[0medge_batches\u001b[0m \u001b[0;34m=\u001b[0m \u001b[0mlist\u001b[0m\u001b[0;34m(\u001b[0m\u001b[0mbatches\u001b[0m\u001b[0;34m(\u001b[0m\u001b[0medges\u001b[0m\u001b[0;34m,\u001b[0m \u001b[0mp\u001b[0m\u001b[0;34m.\u001b[0m\u001b[0mbatch_size\u001b[0m\u001b[0;34m)\u001b[0m\u001b[0;34m)\u001b[0m\u001b[0;34m\u001b[0m\u001b[0;34m\u001b[0m\u001b[0m\n",
      "\u001b[0;32m~/Projects/Study-1-Bibliometrics/notebooks/gates_3d/3Dedges/bundling3D.py\u001b[0m in \u001b[0;36m?\u001b[0;34m(nodes, edges, params)\u001b[0m\n\u001b[1;32m    340\u001b[0m \u001b[0;34m\u001b[0m\u001b[0m\n\u001b[1;32m    341\u001b[0m         \u001b[0mdf\u001b[0m \u001b[0;34m=\u001b[0m \u001b[0mdf\u001b[0m\u001b[0;34m.\u001b[0m\u001b[0mfilter\u001b[0m\u001b[0;34m(\u001b[0m\u001b[0mitems\u001b[0m\u001b[0;34m=\u001b[0m\u001b[0msegment_class\u001b[0m\u001b[0;34m.\u001b[0m\u001b[0mget_merged_columns\u001b[0m\u001b[0;34m(\u001b[0m\u001b[0mparams\u001b[0m\u001b[0;34m)\u001b[0m\u001b[0;34m)\u001b[0m\u001b[0;34m\u001b[0m\u001b[0;34m\u001b[0m\u001b[0m\n\u001b[1;32m    342\u001b[0m \u001b[0;34m\u001b[0m\u001b[0m\n\u001b[1;32m    343\u001b[0m         \u001b[0medge_segments\u001b[0m \u001b[0;34m=\u001b[0m \u001b[0;34m[\u001b[0m\u001b[0;34m]\u001b[0m\u001b[0;34m\u001b[0m\u001b[0;34m\u001b[0m\u001b[0m\n\u001b[0;32m--> 344\u001b[0;31m         \u001b[0;32mfor\u001b[0m \u001b[0medge\u001b[0m \u001b[0;32min\u001b[0m \u001b[0mdf\u001b[0m\u001b[0;34m.\u001b[0m\u001b[0mget_values\u001b[0m\u001b[0;34m(\u001b[0m\u001b[0;34m)\u001b[0m\u001b[0;34m:\u001b[0m\u001b[0;34m\u001b[0m\u001b[0;34m\u001b[0m\u001b[0m\n\u001b[0m\u001b[1;32m    345\u001b[0m                 \u001b[0medge_segments\u001b[0m\u001b[0;34m.\u001b[0m\u001b[0mappend\u001b[0m\u001b[0;34m(\u001b[0m\u001b[0msegment_class\u001b[0m\u001b[0;34m.\u001b[0m\u001b[0mcreate_segment\u001b[0m\u001b[0;34m(\u001b[0m\u001b[0medge\u001b[0m\u001b[0;34m)\u001b[0m\u001b[0;34m)\u001b[0m\u001b[0;34m\u001b[0m\u001b[0;34m\u001b[0m\u001b[0m\n\u001b[1;32m    346\u001b[0m         \u001b[0;32mreturn\u001b[0m \u001b[0medge_segments\u001b[0m\u001b[0;34m,\u001b[0m \u001b[0msegment_class\u001b[0m\u001b[0;34m\u001b[0m\u001b[0;34m\u001b[0m\u001b[0m\n",
      "\u001b[0;32m/opt/homebrew/Caskroom/miniconda/base/envs/condavenv/lib/python3.11/site-packages/pandas/core/generic.py\u001b[0m in \u001b[0;36m?\u001b[0;34m(self, name)\u001b[0m\n\u001b[1;32m   6295\u001b[0m             \u001b[0;32mand\u001b[0m \u001b[0mname\u001b[0m \u001b[0;32mnot\u001b[0m \u001b[0;32min\u001b[0m \u001b[0mself\u001b[0m\u001b[0;34m.\u001b[0m\u001b[0m_accessors\u001b[0m\u001b[0;34m\u001b[0m\u001b[0;34m\u001b[0m\u001b[0m\n\u001b[1;32m   6296\u001b[0m             \u001b[0;32mand\u001b[0m \u001b[0mself\u001b[0m\u001b[0;34m.\u001b[0m\u001b[0m_info_axis\u001b[0m\u001b[0;34m.\u001b[0m\u001b[0m_can_hold_identifiers_and_holds_name\u001b[0m\u001b[0;34m(\u001b[0m\u001b[0mname\u001b[0m\u001b[0;34m)\u001b[0m\u001b[0;34m\u001b[0m\u001b[0;34m\u001b[0m\u001b[0m\n\u001b[1;32m   6297\u001b[0m         ):\n\u001b[1;32m   6298\u001b[0m             \u001b[0;32mreturn\u001b[0m \u001b[0mself\u001b[0m\u001b[0;34m[\u001b[0m\u001b[0mname\u001b[0m\u001b[0;34m]\u001b[0m\u001b[0;34m\u001b[0m\u001b[0;34m\u001b[0m\u001b[0m\n\u001b[0;32m-> 6299\u001b[0;31m         \u001b[0;32mreturn\u001b[0m \u001b[0mobject\u001b[0m\u001b[0;34m.\u001b[0m\u001b[0m__getattribute__\u001b[0m\u001b[0;34m(\u001b[0m\u001b[0mself\u001b[0m\u001b[0;34m,\u001b[0m \u001b[0mname\u001b[0m\u001b[0;34m)\u001b[0m\u001b[0;34m\u001b[0m\u001b[0;34m\u001b[0m\u001b[0m\n\u001b[0m",
      "\u001b[0;31mAttributeError\u001b[0m: 'DataFrame' object has no attribute 'get_values'"
     ]
    }
   ],
   "source": [
    "def bundle_between_clusters(nodes, edges, threshold=0.025):\n",
    "\n",
    "    df = pd.merge(edges, nodes[[\"x\", \"y\", \"z\"]], left_on=[\"source\"], right_index=True)\n",
    "    df = df.rename(columns={\"x\": \"src_x\", \"y\": \"src_y\", \"z\": \"src_z\"})\n",
    "\n",
    "    df = pd.merge(df, nodes[[\"x\", \"y\", \"z\"]], left_on=[\"target\"], right_index=True)\n",
    "    df = df.rename(columns={\"x\": \"dst_x\", \"y\": \"dst_y\", \"z\": \"dst_z\"})\n",
    "    df.dropna(inplace=True)\n",
    "    df = df.sort_index()\n",
    "    df = df.reset_index()\n",
    "\n",
    "    ptnames = [\"src_x\", \"src_y\", \"src_z\", \"dst_x\", \"dst_y\", \"dst_z\"]\n",
    "\n",
    "    df[\"segment_length\"] = [distance_between(x[:3], x[3:]) for x in df[ptnames].values]\n",
    "\n",
    "    df = df[df[\"segment_length\"] > 0]\n",
    "\n",
    "    # df[['source', 'target']] = df[['source', 'target']].stack().rank(method='dense').unstack().astype(int)\n",
    "\n",
    "    edges2bundle = df[\"segment_length\"] > threshold\n",
    "\n",
    "    bundled_edges = hammer_bundle(\n",
    "        nodes[[\"x\", \"y\", \"z\"]],\n",
    "        df.loc[edges2bundle, [\"source\", \"target\"]],\n",
    "        initial_bandwidth=0.40,\n",
    "        decay=0.7,\n",
    "        accuracy=5 * 10**2,\n",
    "        weight=None,\n",
    "        advect_iterations=50,\n",
    "        iterations=5,\n",
    "        min_segment_length=threshold / 2.0,\n",
    "        max_segment_length=0.05,\n",
    "    )\n",
    "\n",
    "    npts = bundled_edges.shape[0]\n",
    "    bundled_edge_df = []\n",
    "    edgepts = []\n",
    "    iedge = 0\n",
    "    for irow in range(npts - 1):\n",
    "        x = bundled_edges.loc[irow].values.flatten()\n",
    "\n",
    "        if np.isnan(x).sum() > 0:\n",
    "\n",
    "            path = \"; \".join(map(str, edgepts))\n",
    "            bundled_edge_df.append(\n",
    "                [edges.loc[iedge, \"source\"], edges.loc[iedge, \"target\"], path]\n",
    "            )\n",
    "\n",
    "            iedge += 1\n",
    "            edgepts = []\n",
    "\n",
    "        else:\n",
    "            edgepts.extend(list(x))\n",
    "    bundled_edge_df = pd.DataFrame(\n",
    "        bundled_edge_df, columns=[\"source\", \"target\", \"path\"]\n",
    "    )\n",
    "\n",
    "    straight_edges = df[\"segment_length\"] <= threshold\n",
    "    straight_edge_df = df[straight_edges]\n",
    "    straight_edge_df[\"path\"] = [\n",
    "        \"; \".join(map(str, row)) for row in straight_edge_df[ptnames].values\n",
    "    ]\n",
    "    straight_edge_df = straight_edge_df[[\"source\", \"target\", \"path\"]]\n",
    "\n",
    "    return pd.concat([bundled_edge_df, straight_edge_df])\n",
    "\n",
    "\n",
    "edgedf = bundle_between_clusters(nodes_df[[\"x\", \"y\", \"z\"]], edges_df, threshold=0.025)\n",
    "\n",
    "# edgedf.to_csv(\"/Users/ajgates/Desktop/cociteEdges2.csv\", header=True, index=False)"
   ]
  },
  {
   "cell_type": "code",
   "execution_count": null,
   "metadata": {},
   "outputs": [],
   "source": [
    "edgedf.to_csv(\"/Users/ajgates/Desktop/cociteEdges2.csv\", header=True, index=False)"
   ]
  },
  {
   "cell_type": "code",
   "execution_count": null,
   "metadata": {},
   "outputs": [
    {
     "name": "stderr",
     "output_type": "stream",
     "text": [
      "/usr/local/lib/python3.7/site-packages/ipykernel_launcher.py:3: SettingWithCopyWarning: \n",
      "A value is trying to be set on a copy of a slice from a DataFrame.\n",
      "Try using .loc[row_indexer,col_indexer] = value instead\n",
      "\n",
      "See the caveats in the documentation: http://pandas.pydata.org/pandas-docs/stable/user_guide/indexing.html#returning-a-view-versus-a-copy\n",
      "  This is separate from the ipykernel package so we can avoid doing imports until\n"
     ]
    }
   ],
   "source": [
    "straight_edges = df[\"segment_length\"] <= 0.025\n",
    "straight_edge_df = df[straight_edges]\n",
    "straight_edge_df[\"path\"] = [\n",
    "    \"; \".join(map(str, row))\n",
    "    for row in straight_edge_df[\n",
    "        [\"src_x\", \"src_y\", \"src_z\", \"dst_x\", \"dst_y\", \"dst_z\"]\n",
    "    ].values\n",
    "]"
   ]
  },
  {
   "cell_type": "code",
   "execution_count": null,
   "metadata": {},
   "outputs": [],
   "source": []
  }
 ],
 "metadata": {
  "kernelspec": {
   "display_name": "Python 3",
   "language": "python",
   "name": "python3"
  },
  "language_info": {
   "codemirror_mode": {
    "name": "ipython",
    "version": 3
   },
   "file_extension": ".py",
   "mimetype": "text/x-python",
   "name": "python",
   "nbconvert_exporter": "python",
   "pygments_lexer": "ipython3",
   "version": "3.11.8"
  }
 },
 "nbformat": 4,
 "nbformat_minor": 2
}
