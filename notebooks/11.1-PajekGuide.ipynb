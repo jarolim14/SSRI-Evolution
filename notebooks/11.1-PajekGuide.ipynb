{
 "cells": [
  {
   "cell_type": "markdown",
   "metadata": {},
   "source": [
    "# How to Move Forward with the File in Pajek to Get Main Path\n",
    "\n",
    "## Prerequisites\n",
    "- Pajek software installed\n",
    "- A computer that does not run on Apple Silicon (M chip)\n",
    "\n",
    "## Step-by-Step Process\n",
    "\n",
    "### 1. Open and Load the Network\n",
    "- Open Pajek\n",
    "- Load your network file into Pajek\n",
    "\n",
    "### 2. Create Traversal Weights\n",
    "- Navigate to: **Network → Acyclic Network → Create weighted network and Vector**\n",
    "- Select: **traversal weights → SPLC** (Search Path Link Count)\n",
    "\n",
    "### 3. Create the Main Path\n",
    "- Navigate to: **Network → Acyclic Network → create sub network → main path**\n",
    "- Choose: **local search → key route** (as recommended in Liu et al.)\n",
    "- Enter parameters:\n",
    "  - Tune alpha values to your liking\n",
    "  - Adjust other parameters as needed for your analysis\n",
    "\n",
    "### 4. Visualization\n",
    "- Draw the resulting network\n",
    "- Apply the Kamada-Kawai algorithm for optimal layout\n",
    "\n",
    "## Notes\n",
    "- The parameters can significantly affect your results - experiment with different settings\n",
    "- If you're analyzing citation networks, consider reviewing Liu et al. for best practices on parameter selection"
   ]
  }
 ],
 "metadata": {
  "language_info": {
   "name": "python"
  }
 },
 "nbformat": 4,
 "nbformat_minor": 2
}
