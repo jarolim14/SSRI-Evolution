{
 "cells": [
  {
   "cell_type": "markdown",
   "metadata": {},
   "source": [
    "[leiden algo documentation](https://leidenalg.readthedocs.io/en/latest/install.html)\n",
    "\n",
    "# General Approach\n",
    "\n",
    "In this analysis, we explore the clustering of scientific publications using the Leiden algorithm, with a focus on adjusting the algorithm's parameters to improve the coherence and relevance of the clusters formed. The Leiden algorithm, which improves upon the limitations of modularity optimization seen in previous methods, is employed for its effectiveness in identifying communities within networks. We particularly experiment with various resolution parameters, iterating through a range of values to tune the granularity of the clustering results. The objective is to find an optimal balance where clusters are neither too broad, encompassing multiple unrelated topics, nor too narrow, breaking down coherent subjects into excessive subgroups.\n",
    "\n",
    "The analysis starts with the application of the Leiden algorithm using default settings and then progresses to more sophisticated implementations, including adjusting the resolution parameter to influence the size and coherence of clusters. This parameter tuning is crucial for addressing the resolution limit problem inherent in modularity-based community detection methods. By carefully selecting resolution parameters, we aim to achieve a set of clusters that are meaningful and manageable for qualitative analysis.\n",
    "\n",
    "This process is supported by the creation of summary sheets and detailed exploratory sheets for each parameter set, facilitating a thorough review of the clustering outcomes. Parameters leading to the most coherent and distinct clusters, based on predefined decision criteria, are identified and selected for further analysis. The final selection of parameters is based on qualitative assessments of cluster coherence, ensuring that the clusters formed are both scientifically relevant and insightful for further research explorations.\n",
    "\n",
    "Notes about the leiden algorithm:\n",
    "\n",
    "### The most simpe implementation is this:\n",
    "\n",
    "Here we would just use all default parameters.\n",
    "The metrices are good, the qualitative assessment poor.\n",
    "The `ModularityVertexPartition` is the default partitioning algorithm\n",
    "\n",
    "- it is based on the modularity measure (link density within communities vs. link density between communities)\n",
    "- Higher scires = stronger division into communities\n",
    "- It tries to maximize the modularity score\n",
    "\n",
    "The problem here is that the partitions are really big (if run without max_comm_size, around 5,000 papers in the largest communit)\n",
    "Examining the most central articles (based on the eigenvector similarity), they do not seem coherent.\n",
    "\n",
    "**PROBLEM:** Modularity, though\n",
    "robust for many practical applications, suffers from the resolution limit problem,\n",
    "in which optimization may fail to identify clusters smaller than a certain scale\n",
    "that is dependent on properties of the network. (https://arxiv.org/pdf/2308.09644.pdf)\n",
    "\n",
    "### The second implementation is this:\n",
    "\n",
    "We are trying to tune the resolution parameter. To access it, we use the CPMVertexPartition algorithm. (CPM = Constant Potts Model)\n",
    "This means that modularity is not an important parameter anymore.\n",
    "\n",
    "- The resolution parameter is the only parameter of this algorithm\n",
    "- It compares the actual link density to the resolution parameter\n",
    "- If the link density is higher than the resolution parameter, the nodes are put into the same community\n",
    "- It has a quality attribute, which is similar to the modularity score\n",
    "- We will not rely on this but use a qualitative analysis to assess the results\n",
    "\n",
    "In previous papers (Waltman 2020a, Ahlgren 2020), the authors used different levels of granularity. They used 10 different values of the resolution parameter γ: 0.000001, 0.000002, 0.000005, 0.00001, 0.00002, 0.00005, 0.0001, 0.0002, 0.0005, 0.001, 0.002, 0.005, 0.01\n",
    "\n",
    "We decide to use the following resolution parameter to narrow down our search.\n",
    "0.00001,0.00002,0.0001,0.0002,0.001,0.002,0.01,0.02,\n",
    "\n",
    "We then evaluated the solutions\n"
   ]
  },
  {
   "cell_type": "markdown",
   "metadata": {},
   "source": [
    "# Packages\n"
   ]
  },
  {
   "cell_type": "code",
   "execution_count": 3,
   "metadata": {},
   "outputs": [
    {
     "name": "stdout",
     "output_type": "stream",
     "text": [
      "The autoreload extension is already loaded. To reload it, use:\n",
      "  %reload_ext autoreload\n"
     ]
    }
   ],
   "source": [
    "%load_ext autoreload\n",
    "%autoreload 2\n",
    "import pandas as pd\n",
    "import networkx as nx\n",
    "import leidenalg as la\n",
    "import igraph as ig\n",
    "import sys\n",
    "import glob\n",
    "from tqdm import tqdm\n",
    "\n",
    "sys.path.append(\"/Users/jlq293/Projects/Study-1-Bibliometrics/src/network/\")\n",
    "from creation.PartitionCreator import PartitionCreator\n",
    "from analysis.NetworkAnalyzer import CommunityExplorer, FullExplorer\n",
    "from analysis.NetworkAnalyzerUtils import NetworkAnalyzerUtils"
   ]
  },
  {
   "cell_type": "markdown",
   "metadata": {},
   "source": [
    "# load df and graphs\n"
   ]
  },
  {
   "cell_type": "code",
   "execution_count": 4,
   "metadata": {},
   "outputs": [
    {
     "name": "stdout",
     "output_type": "stream",
     "text": [
      "dict_keys(['alpha0.3_k10', 'alpha0.3_k15', 'alpha0.3_k20', 'alpha0.3_k5', 'alpha0.5_k10', 'alpha0.5_k15', 'alpha0.5_k20', 'alpha0.5_k5'])\n"
     ]
    }
   ],
   "source": [
    "# load all files in a dictionary with params as keys and graph as values\n",
    "\n",
    "params_graph_dict, df = NetworkAnalyzerUtils().load_graph_files()\n",
    "\n",
    "print(params_graph_dict.keys())"
   ]
  },
  {
   "cell_type": "code",
   "execution_count": 5,
   "metadata": {},
   "outputs": [],
   "source": [
    "df[\"title_abstract\"] = df.apply(\n",
    "    lambda x: (\n",
    "        x[\"title\"] + \". \" + str(x[\"abstract\"])\n",
    "        if pd.notnull(x[\"abstract\"])\n",
    "        else x[\"title\"]\n",
    "    ),\n",
    "    axis=1,\n",
    ")"
   ]
  },
  {
   "cell_type": "markdown",
   "metadata": {},
   "source": [
    "# CPM RESOLUTION DETERMINATION\n"
   ]
  },
  {
   "cell_type": "markdown",
   "metadata": {},
   "source": [
    "# waltman 2020a:\n",
    "\n",
    "Different levels of granularity were considered. For each relatedness measure, we obtained 10 clustering solutions, each of them for a different value of the resolution parameter γ. The following values of γ were used: 0.00001, 0.00002, 0.00005, 0.0001, 0.0002, 0.0005, 0.001, 0.002, 0.005, and 0.01.\n",
    "\n",
    "# ahlgren 2020:\n",
    "\n",
    "Using different values of the resolution parameter γ (0.000001, 0.000002, 0.000005, 0.00001, 0.00002, 0.00005, 0.0001, 0.0002, 0.0005, 0.001, 0.002), we obtain 11 clustering solutions for each relatedness measure. Compared to our earlier study (Ahlgren et al., 2019), we exclude the clustering solutions for the two largest resolution values used in that study (0.005 and 0.01). These clustering solutions have around 300,000 and 500,000 clusters, respectively, and most of the clusters consist of fewer than 10 publications.\n"
   ]
  },
  {
   "cell_type": "code",
   "execution_count": 6,
   "metadata": {},
   "outputs": [],
   "source": [
    "def process_params_graph_dict(params_graph_dict):\n",
    "    \"\"\"\n",
    "    Process the parameters and graph dictionary.\n",
    "\n",
    "    Args:\n",
    "        params_graph_dict (dict): A dictionary containing the parameters and corresponding graph.\n",
    "\n",
    "    Returns:\n",
    "        tuple: A tuple containing the overall summary DataFrame and the explorer sheets dictionary.\n",
    "    \"\"\"\n",
    "    # Define the resolution values to iterate over\n",
    "    resolution_values = [\n",
    "        0.000001,\n",
    "        0.000002,\n",
    "        0.000005,\n",
    "        0.00001,\n",
    "        0.00002,\n",
    "        0.00005,\n",
    "        0.0001,\n",
    "        0.0002,\n",
    "        0.0005,\n",
    "        0.001,\n",
    "        0.002,\n",
    "        0.005,\n",
    "        0.006,\n",
    "        0.01,\n",
    "        0.02,\n",
    "    ]\n",
    "    iterations = -1  # until a partition is not an improvement over the previous one\n",
    "    overall_summary_dict = {\n",
    "        \"KNN-Params\": [],\n",
    "        \"Resolution\": [],\n",
    "        \"Nr of Clusters\": [],\n",
    "    }\n",
    "    explorer_sheets_dict = {}\n",
    "\n",
    "    # Iterate over each graph and resolution value\n",
    "    for params, G in tqdm(params_graph_dict.items(), desc=\"Processing graphs\"):\n",
    "        for resolution in resolution_values:\n",
    "            # Create partition using CPMVertexPartition algorithm\n",
    "            pc = PartitionCreator(G, df)\n",
    "            pc.create_partition_from_cmpvertexpartition(\n",
    "                n_iterations=iterations,\n",
    "                resolution_parameter=resolution,\n",
    "                verbose=False,\n",
    "                cluster_column_name=f\"cluster_{params}_res{resolution}\",\n",
    "            )\n",
    "\n",
    "            ## Explore communities using CommunityExplorer\n",
    "            fe = FullExplorer(\n",
    "                df=pc.df,\n",
    "                cluster_column=f\"cluster_{params}_res{resolution}\",\n",
    "                params=params,\n",
    "                resolution=resolution,\n",
    "            )\n",
    "            single_summary_dict = fe.summary_dict_creator()\n",
    "            for k, v in single_summary_dict.items():\n",
    "                overall_summary_dict[k].append(v)\n",
    "            params_df = fe.explorer_sheets_creator()\n",
    "            explorer_sheets_dict[f\"{params}_res{resolution}\"] = params_df\n",
    "\n",
    "    # Create a DataFrame with the graph parameters and the number of clusters\n",
    "    overall_summary_df = pd.DataFrame(overall_summary_dict).sort_values(\n",
    "        by=\"Nr of Clusters\", ascending=False\n",
    "    )\n",
    "    return overall_summary_df, explorer_sheets_dict"
   ]
  },
  {
   "cell_type": "markdown",
   "metadata": {},
   "source": [
    "# Full Partitions and Resolution Explorer\n"
   ]
  },
  {
   "cell_type": "code",
   "execution_count": 7,
   "metadata": {},
   "outputs": [
    {
     "name": "stderr",
     "output_type": "stream",
     "text": [
      "Processing graphs:   0%|          | 0/8 [00:10<?, ?it/s]\n"
     ]
    },
    {
     "ename": "KeyboardInterrupt",
     "evalue": "",
     "output_type": "error",
     "traceback": [
      "\u001b[0;31m---------------------------------------------------------------------------\u001b[0m",
      "\u001b[0;31mKeyboardInterrupt\u001b[0m                         Traceback (most recent call last)",
      "Cell \u001b[0;32mIn[7], line 1\u001b[0m\n\u001b[0;32m----> 1\u001b[0m overall_summary_df, explorer_sheets_dict \u001b[38;5;241m=\u001b[39m \u001b[43mprocess_params_graph_dict\u001b[49m\u001b[43m(\u001b[49m\u001b[43mparams_graph_dict\u001b[49m\u001b[43m)\u001b[49m\n",
      "Cell \u001b[0;32mIn[6], line 59\u001b[0m, in \u001b[0;36mprocess_params_graph_dict\u001b[0;34m(params_graph_dict)\u001b[0m\n\u001b[1;32m     57\u001b[0m         \u001b[38;5;28;01mfor\u001b[39;00m k, v \u001b[38;5;129;01min\u001b[39;00m single_summary_dict\u001b[38;5;241m.\u001b[39mitems():\n\u001b[1;32m     58\u001b[0m             overall_summary_dict[k]\u001b[38;5;241m.\u001b[39mappend(v)\n\u001b[0;32m---> 59\u001b[0m         params_df \u001b[38;5;241m=\u001b[39m \u001b[43mfe\u001b[49m\u001b[38;5;241;43m.\u001b[39;49m\u001b[43mexplorer_sheets_creator\u001b[49m\u001b[43m(\u001b[49m\u001b[43m)\u001b[49m\n\u001b[1;32m     60\u001b[0m         explorer_sheets_dict[\u001b[38;5;124mf\u001b[39m\u001b[38;5;124m\"\u001b[39m\u001b[38;5;132;01m{\u001b[39;00mparams\u001b[38;5;132;01m}\u001b[39;00m\u001b[38;5;124m_res\u001b[39m\u001b[38;5;132;01m{\u001b[39;00mresolution\u001b[38;5;132;01m}\u001b[39;00m\u001b[38;5;124m\"\u001b[39m] \u001b[38;5;241m=\u001b[39m params_df\n\u001b[1;32m     62\u001b[0m \u001b[38;5;66;03m# Create a DataFrame with the graph parameters and the number of clusters\u001b[39;00m\n",
      "File \u001b[0;32m~/Projects/Study-1-Bibliometrics/src/network/analysis/NetworkAnalyzer.py:177\u001b[0m, in \u001b[0;36mFullExplorer.explorer_sheets_creator\u001b[0;34m(self)\u001b[0m\n\u001b[1;32m    175\u001b[0m text_analyzer \u001b[38;5;241m=\u001b[39m TextAnalyzer()  \u001b[38;5;66;03m# Make sure TextAnalyzer is defined/imported\u001b[39;00m\n\u001b[1;32m    176\u001b[0m text_corpus \u001b[38;5;241m=\u001b[39m df_cluster[\u001b[38;5;124m\"\u001b[39m\u001b[38;5;124mtitle_abstract\u001b[39m\u001b[38;5;124m\"\u001b[39m]\u001b[38;5;241m.\u001b[39mvalues\n\u001b[0;32m--> 177\u001b[0m df_word_quantities \u001b[38;5;241m=\u001b[39m \u001b[43mtext_analyzer\u001b[49m\u001b[38;5;241;43m.\u001b[39;49m\u001b[43mcount_word_quantities\u001b[49m\u001b[43m(\u001b[49m\u001b[43mtext_corpus\u001b[49m\u001b[43m)\u001b[49m\n\u001b[1;32m    178\u001b[0m \u001b[38;5;66;03m#            df_tfidf = text_analyzer.tfidf_word_values(text_corpus)\u001b[39;00m\n\u001b[1;32m    179\u001b[0m words \u001b[38;5;241m=\u001b[39m df_word_quantities[\u001b[38;5;124m\"\u001b[39m\u001b[38;5;124mWord_freq\u001b[39m\u001b[38;5;124m\"\u001b[39m]\u001b[38;5;241m.\u001b[39mvalues[\n\u001b[1;32m    180\u001b[0m     : \u001b[38;5;28mself\u001b[39m\u001b[38;5;241m.\u001b[39mnr_words\n\u001b[1;32m    181\u001b[0m ]  \u001b[38;5;66;03m# Limit to the first 15 words\u001b[39;00m\n",
      "File \u001b[0;32m~/Projects/Study-1-Bibliometrics/src/network/analysis/TextAnalyzer.py:67\u001b[0m, in \u001b[0;36mTextAnalyzer.count_word_quantities\u001b[0;34m(self, text_corpus)\u001b[0m\n\u001b[1;32m     65\u001b[0m \u001b[38;5;28;01mdef\u001b[39;00m \u001b[38;5;21mcount_word_quantities\u001b[39m(\u001b[38;5;28mself\u001b[39m, text_corpus):\n\u001b[1;32m     66\u001b[0m     text_corpus_preprocessed \u001b[38;5;241m=\u001b[39m \u001b[38;5;28mself\u001b[39m\u001b[38;5;241m.\u001b[39mpreprocess_text(text_corpus)\n\u001b[0;32m---> 67\u001b[0m     text_corpus_filtered \u001b[38;5;241m=\u001b[39m \u001b[43m[\u001b[49m\n\u001b[1;32m     68\u001b[0m \u001b[43m        \u001b[49m\u001b[43mword\u001b[49m\n\u001b[1;32m     69\u001b[0m \u001b[43m        \u001b[49m\u001b[38;5;28;43;01mfor\u001b[39;49;00m\u001b[43m \u001b[49m\u001b[43mdoc\u001b[49m\u001b[43m \u001b[49m\u001b[38;5;129;43;01min\u001b[39;49;00m\u001b[43m \u001b[49m\u001b[43mtext_corpus_preprocessed\u001b[49m\n\u001b[1;32m     70\u001b[0m \u001b[43m        \u001b[49m\u001b[38;5;28;43;01mfor\u001b[39;49;00m\u001b[43m \u001b[49m\u001b[43mword\u001b[49m\u001b[43m \u001b[49m\u001b[38;5;129;43;01min\u001b[39;49;00m\u001b[43m \u001b[49m\u001b[43mword_tokenize\u001b[49m\u001b[43m(\u001b[49m\u001b[43mdoc\u001b[49m\u001b[43m)\u001b[49m\n\u001b[1;32m     71\u001b[0m \u001b[43m        \u001b[49m\u001b[38;5;28;43;01mif\u001b[39;49;00m\u001b[43m \u001b[49m\u001b[43mword\u001b[49m\u001b[43m \u001b[49m\u001b[38;5;129;43;01mnot\u001b[39;49;00m\u001b[43m \u001b[49m\u001b[38;5;129;43;01min\u001b[39;49;00m\u001b[43m \u001b[49m\u001b[38;5;28;43mself\u001b[39;49m\u001b[38;5;241;43m.\u001b[39;49m\u001b[43mstop_words\u001b[49m\n\u001b[1;32m     72\u001b[0m \u001b[43m    \u001b[49m\u001b[43m]\u001b[49m\n\u001b[1;32m     73\u001b[0m     word_quantities \u001b[38;5;241m=\u001b[39m Counter(text_corpus_filtered)\n\u001b[1;32m     74\u001b[0m     \u001b[38;5;28;01mreturn\u001b[39;00m pd\u001b[38;5;241m.\u001b[39mDataFrame(\n\u001b[1;32m     75\u001b[0m         \u001b[38;5;28mlist\u001b[39m(word_quantities\u001b[38;5;241m.\u001b[39mitems()), columns\u001b[38;5;241m=\u001b[39m[\u001b[38;5;124m\"\u001b[39m\u001b[38;5;124mWord_freq\u001b[39m\u001b[38;5;124m\"\u001b[39m, \u001b[38;5;124m\"\u001b[39m\u001b[38;5;124mFrequency\u001b[39m\u001b[38;5;124m\"\u001b[39m]\n\u001b[1;32m     76\u001b[0m     )\n",
      "File \u001b[0;32m~/Projects/Study-1-Bibliometrics/src/network/analysis/TextAnalyzer.py:70\u001b[0m, in \u001b[0;36m<listcomp>\u001b[0;34m(.0)\u001b[0m\n\u001b[1;32m     65\u001b[0m \u001b[38;5;28;01mdef\u001b[39;00m \u001b[38;5;21mcount_word_quantities\u001b[39m(\u001b[38;5;28mself\u001b[39m, text_corpus):\n\u001b[1;32m     66\u001b[0m     text_corpus_preprocessed \u001b[38;5;241m=\u001b[39m \u001b[38;5;28mself\u001b[39m\u001b[38;5;241m.\u001b[39mpreprocess_text(text_corpus)\n\u001b[1;32m     67\u001b[0m     text_corpus_filtered \u001b[38;5;241m=\u001b[39m [\n\u001b[1;32m     68\u001b[0m         word\n\u001b[1;32m     69\u001b[0m         \u001b[38;5;28;01mfor\u001b[39;00m doc \u001b[38;5;129;01min\u001b[39;00m text_corpus_preprocessed\n\u001b[0;32m---> 70\u001b[0m         \u001b[38;5;28;01mfor\u001b[39;00m word \u001b[38;5;129;01min\u001b[39;00m \u001b[43mword_tokenize\u001b[49m\u001b[43m(\u001b[49m\u001b[43mdoc\u001b[49m\u001b[43m)\u001b[49m\n\u001b[1;32m     71\u001b[0m         \u001b[38;5;28;01mif\u001b[39;00m word \u001b[38;5;129;01mnot\u001b[39;00m \u001b[38;5;129;01min\u001b[39;00m \u001b[38;5;28mself\u001b[39m\u001b[38;5;241m.\u001b[39mstop_words\n\u001b[1;32m     72\u001b[0m     ]\n\u001b[1;32m     73\u001b[0m     word_quantities \u001b[38;5;241m=\u001b[39m Counter(text_corpus_filtered)\n\u001b[1;32m     74\u001b[0m     \u001b[38;5;28;01mreturn\u001b[39;00m pd\u001b[38;5;241m.\u001b[39mDataFrame(\n\u001b[1;32m     75\u001b[0m         \u001b[38;5;28mlist\u001b[39m(word_quantities\u001b[38;5;241m.\u001b[39mitems()), columns\u001b[38;5;241m=\u001b[39m[\u001b[38;5;124m\"\u001b[39m\u001b[38;5;124mWord_freq\u001b[39m\u001b[38;5;124m\"\u001b[39m, \u001b[38;5;124m\"\u001b[39m\u001b[38;5;124mFrequency\u001b[39m\u001b[38;5;124m\"\u001b[39m]\n\u001b[1;32m     76\u001b[0m     )\n",
      "File \u001b[0;32m/opt/homebrew/Caskroom/miniconda/base/envs/condavenv/lib/python3.11/site-packages/nltk/tokenize/__init__.py:143\u001b[0m, in \u001b[0;36mword_tokenize\u001b[0;34m(text, language, preserve_line)\u001b[0m\n\u001b[1;32m    128\u001b[0m \u001b[38;5;250m\u001b[39m\u001b[38;5;124;03m\"\"\"\u001b[39;00m\n\u001b[1;32m    129\u001b[0m \u001b[38;5;124;03mReturn a tokenized copy of *text*,\u001b[39;00m\n\u001b[1;32m    130\u001b[0m \u001b[38;5;124;03musing NLTK's recommended word tokenizer\u001b[39;00m\n\u001b[0;32m   (...)\u001b[0m\n\u001b[1;32m    140\u001b[0m \u001b[38;5;124;03m:type preserve_line: bool\u001b[39;00m\n\u001b[1;32m    141\u001b[0m \u001b[38;5;124;03m\"\"\"\u001b[39;00m\n\u001b[1;32m    142\u001b[0m sentences \u001b[38;5;241m=\u001b[39m [text] \u001b[38;5;28;01mif\u001b[39;00m preserve_line \u001b[38;5;28;01melse\u001b[39;00m sent_tokenize(text, language)\n\u001b[0;32m--> 143\u001b[0m \u001b[38;5;28;01mreturn\u001b[39;00m \u001b[43m[\u001b[49m\n\u001b[1;32m    144\u001b[0m \u001b[43m    \u001b[49m\u001b[43mtoken\u001b[49m\u001b[43m \u001b[49m\u001b[38;5;28;43;01mfor\u001b[39;49;00m\u001b[43m \u001b[49m\u001b[43msent\u001b[49m\u001b[43m \u001b[49m\u001b[38;5;129;43;01min\u001b[39;49;00m\u001b[43m \u001b[49m\u001b[43msentences\u001b[49m\u001b[43m \u001b[49m\u001b[38;5;28;43;01mfor\u001b[39;49;00m\u001b[43m \u001b[49m\u001b[43mtoken\u001b[49m\u001b[43m \u001b[49m\u001b[38;5;129;43;01min\u001b[39;49;00m\u001b[43m \u001b[49m\u001b[43m_treebank_word_tokenizer\u001b[49m\u001b[38;5;241;43m.\u001b[39;49m\u001b[43mtokenize\u001b[49m\u001b[43m(\u001b[49m\u001b[43msent\u001b[49m\u001b[43m)\u001b[49m\n\u001b[1;32m    145\u001b[0m \u001b[43m\u001b[49m\u001b[43m]\u001b[49m\n",
      "File \u001b[0;32m/opt/homebrew/Caskroom/miniconda/base/envs/condavenv/lib/python3.11/site-packages/nltk/tokenize/__init__.py:144\u001b[0m, in \u001b[0;36m<listcomp>\u001b[0;34m(.0)\u001b[0m\n\u001b[1;32m    128\u001b[0m \u001b[38;5;250m\u001b[39m\u001b[38;5;124;03m\"\"\"\u001b[39;00m\n\u001b[1;32m    129\u001b[0m \u001b[38;5;124;03mReturn a tokenized copy of *text*,\u001b[39;00m\n\u001b[1;32m    130\u001b[0m \u001b[38;5;124;03musing NLTK's recommended word tokenizer\u001b[39;00m\n\u001b[0;32m   (...)\u001b[0m\n\u001b[1;32m    140\u001b[0m \u001b[38;5;124;03m:type preserve_line: bool\u001b[39;00m\n\u001b[1;32m    141\u001b[0m \u001b[38;5;124;03m\"\"\"\u001b[39;00m\n\u001b[1;32m    142\u001b[0m sentences \u001b[38;5;241m=\u001b[39m [text] \u001b[38;5;28;01mif\u001b[39;00m preserve_line \u001b[38;5;28;01melse\u001b[39;00m sent_tokenize(text, language)\n\u001b[1;32m    143\u001b[0m \u001b[38;5;28;01mreturn\u001b[39;00m [\n\u001b[0;32m--> 144\u001b[0m     token \u001b[38;5;28;01mfor\u001b[39;00m sent \u001b[38;5;129;01min\u001b[39;00m sentences \u001b[38;5;28;01mfor\u001b[39;00m token \u001b[38;5;129;01min\u001b[39;00m \u001b[43m_treebank_word_tokenizer\u001b[49m\u001b[38;5;241;43m.\u001b[39;49m\u001b[43mtokenize\u001b[49m\u001b[43m(\u001b[49m\u001b[43msent\u001b[49m\u001b[43m)\u001b[49m\n\u001b[1;32m    145\u001b[0m ]\n",
      "File \u001b[0;32m/opt/homebrew/Caskroom/miniconda/base/envs/condavenv/lib/python3.11/site-packages/nltk/tokenize/destructive.py:158\u001b[0m, in \u001b[0;36mNLTKWordTokenizer.tokenize\u001b[0;34m(self, text, convert_parentheses, return_str)\u001b[0m\n\u001b[1;32m    150\u001b[0m     warnings\u001b[38;5;241m.\u001b[39mwarn(\n\u001b[1;32m    151\u001b[0m         \u001b[38;5;124m\"\u001b[39m\u001b[38;5;124mParameter \u001b[39m\u001b[38;5;124m'\u001b[39m\u001b[38;5;124mreturn_str\u001b[39m\u001b[38;5;124m'\u001b[39m\u001b[38;5;124m has been deprecated and should no \u001b[39m\u001b[38;5;124m\"\u001b[39m\n\u001b[1;32m    152\u001b[0m         \u001b[38;5;124m\"\u001b[39m\u001b[38;5;124mlonger be used.\u001b[39m\u001b[38;5;124m\"\u001b[39m,\n\u001b[1;32m    153\u001b[0m         category\u001b[38;5;241m=\u001b[39m\u001b[38;5;167;01mDeprecationWarning\u001b[39;00m,\n\u001b[1;32m    154\u001b[0m         stacklevel\u001b[38;5;241m=\u001b[39m\u001b[38;5;241m2\u001b[39m,\n\u001b[1;32m    155\u001b[0m     )\n\u001b[1;32m    157\u001b[0m \u001b[38;5;28;01mfor\u001b[39;00m regexp, substitution \u001b[38;5;129;01min\u001b[39;00m \u001b[38;5;28mself\u001b[39m\u001b[38;5;241m.\u001b[39mSTARTING_QUOTES:\n\u001b[0;32m--> 158\u001b[0m     text \u001b[38;5;241m=\u001b[39m \u001b[43mregexp\u001b[49m\u001b[38;5;241;43m.\u001b[39;49m\u001b[43msub\u001b[49m\u001b[43m(\u001b[49m\u001b[43msubstitution\u001b[49m\u001b[43m,\u001b[49m\u001b[43m \u001b[49m\u001b[43mtext\u001b[49m\u001b[43m)\u001b[49m\n\u001b[1;32m    160\u001b[0m \u001b[38;5;28;01mfor\u001b[39;00m regexp, substitution \u001b[38;5;129;01min\u001b[39;00m \u001b[38;5;28mself\u001b[39m\u001b[38;5;241m.\u001b[39mPUNCTUATION:\n\u001b[1;32m    161\u001b[0m     text \u001b[38;5;241m=\u001b[39m regexp\u001b[38;5;241m.\u001b[39msub(substitution, text)\n",
      "\u001b[0;31mKeyboardInterrupt\u001b[0m: "
     ]
    }
   ],
   "source": [
    "overall_summary_df, explorer_sheets_dict = process_params_graph_dict(params_graph_dict)"
   ]
  },
  {
   "cell_type": "code",
   "execution_count": 9,
   "metadata": {},
   "outputs": [],
   "source": [
    "# save limited_df_graph_cluster_params as first sheet\n",
    "filepath = \"../output/cluster-qualifications/cluster-explorer/01-FullParameterFinder_ClusterExplorer.xlsx\"\n",
    "\n",
    "NetworkAnalyzerUtils().params_excel_saver_with_hyperlinks(\n",
    "    filepath, overall_summary_df, explorer_sheets_dict\n",
    ")"
   ]
  },
  {
   "cell_type": "markdown",
   "metadata": {},
   "source": [
    "# restrict min and max of clusters\n",
    "\n",
    "min 50 and max 500 clusters\n"
   ]
  },
  {
   "cell_type": "code",
   "execution_count": 10,
   "metadata": {},
   "outputs": [
    {
     "name": "stdout",
     "output_type": "stream",
     "text": [
      "Full partitions_explorer_dict: 120\n",
      "filtered partitions_explorer_dict: 36\n"
     ]
    }
   ],
   "source": [
    "filtered_overall_summary_df = overall_summary_df[\n",
    "    (overall_summary_df[\"Nr of Clusters\"] > 50)\n",
    "    & (overall_summary_df[\"Nr of Clusters\"] < 500)\n",
    "]\n",
    "\n",
    "params_to_keep = (\n",
    "    filtered_overall_summary_df[\"KNN-Params\"]\n",
    "    + \"_res\"\n",
    "    + filtered_overall_summary_df[\"Resolution\"].astype(str)\n",
    ")\n",
    "\n",
    "filtered_explorer_sheets_dict = {k: explorer_sheets_dict[k] for k in params_to_keep}\n",
    "\n",
    "\n",
    "print(f\"Full partitions_explorer_dict: {len(overall_summary_df)}\")\n",
    "print(f\"filtered partitions_explorer_dict: {len(filtered_overall_summary_df)}\")"
   ]
  },
  {
   "cell_type": "code",
   "execution_count": 11,
   "metadata": {},
   "outputs": [],
   "source": [
    "# save limited_df_graph_cluster_params as first sheet\n",
    "filepath = \"../output/cluster-qualifications/cluster-explorer/02-FilteredParameterFinder_ClusterExplorer.xlsx\"\n",
    "\n",
    "NetworkAnalyzerUtils().params_excel_saver_with_hyperlinks(\n",
    "    filepath, filtered_overall_summary_df, filtered_explorer_sheets_dict\n",
    ")"
   ]
  },
  {
   "cell_type": "markdown",
   "metadata": {},
   "source": [
    "# Limit Parameter Space\n"
   ]
  },
  {
   "cell_type": "markdown",
   "metadata": {},
   "source": [
    "### Decision Criteria:\n",
    "\n",
    "1. premature ejaculation and sexual dysfunction be distinct clusters\n",
    "2. Mixing of anxiety and panic disorder?\n",
    "3. Diabetic Mice VS Body Weight and Diabetes VS depression treatment in diabetics?\n",
    "4. Use alpha = 0.3 (look at alpha0.5_k10_res0.002); topics: 50, 133 -> very mixed words, little coherence.Not the case for alpha0.3_k10_res0.002 (here, sexual dys and premature ejac single topic though)\n",
    "5. Zimeldine (1 or two topics)\n",
    "6. Pregnancy related topics.\n"
   ]
  },
  {
   "cell_type": "code",
   "execution_count": 12,
   "metadata": {},
   "outputs": [],
   "source": [
    "keepornot = {\n",
    "    # all k=5 have many many clusters of single papers\n",
    "    \"alpha0.5_k5_res1e-05\": 0,\n",
    "    \"alpha0.5_k5_res2e-05\": 0,\n",
    "    \"alpha0.5_k5_res0.0001\": 0,\n",
    "    \"alpha0.5_k5_res0.0002\": 0,\n",
    "    \"alpha0.5_k5_res0.001\": 0,\n",
    "    \"alpha0.5_k5_res0.002\": 0,\n",
    "    \"alpha0.5_k5_res0.006\": 0,\n",
    "    \"alpha0.5_k5_res0.01\": 0,\n",
    "    \"alpha0.5_k5_res0.02\": 0,\n",
    "    # K10\n",
    "    \"alpha0.5_k10_res1e-05\": 0,\n",
    "    \"alpha0.5_k10_res2e-05\": 0,\n",
    "    \"alpha0.5_k10_res0.0001\": 0,\n",
    "    \"alpha0.5_k10_res0.0002\": 0,\n",
    "    \"alpha0.5_k10_res0.001\": 0,  # premature ejaculation and sexual dysfunction and one topic\n",
    "    \"alpha0.5_k10_res0.002\": 0,  # weight and sex are one topic, same problem as above\n",
    "    \"alpha0.5_k20_res0.005\": 1,\n",
    "    \"alpha0.5_k10_res0.006\": 0,\n",
    "    \"alpha0.5_k10_res0.01\": 0,\n",
    "    \"alpha0.5_k10_res0.02\": 0,\n",
    "    # K15\n",
    "    \"alpha0.5_k15_res1e-05\": 0,\n",
    "    \"alpha0.5_k15_res2e-05\": 0,\n",
    "    \"alpha0.5_k15_res0.0001\": 0,\n",
    "    \"alpha0.5_k15_res0.0002\": 0,\n",
    "    \"alpha0.5_k15_res0.001\": 0,  # no bad, very broad and inclusive topics\n",
    "    \"alpha0.5_k15_res0.002\": 0,  # gut sex dysf and premature ejaculation are one topic\n",
    "    \"alpha0.5_k15_res0.006\": 1,  # pretty good. bit too many. too many pregnancy clusters, for example\n",
    "    \"alpha0.5_k15_res0.01\": 0,\n",
    "    \"alpha0.5_k15_res0.02\": 0,\n",
    "    # K20\n",
    "    \"alpha0.5_k20_res1e-05\": 0,\n",
    "    \"alpha0.5_k20_res2e-05\": 0,\n",
    "    \"alpha0.5_k20_res0.0001\": 0,\n",
    "    \"alpha0.5_k20_res0.0002\": 0,\n",
    "    \"alpha0.5_k20_res0.001\": 0,\n",
    "    \"alpha0.5_k20_res0.002\": 0,\n",
    "    \"alpha0.5_k20_res0.005\": 1,\n",
    "    \"alpha0.5_k20_res0.006\": 1,\n",
    "    \"alpha0.5_k20_res0.01\": 1,  # MANY MANT HT TOPCIS (something betwe 002 and 01 needed.)\n",
    "    \"alpha0.5_k20_res0.02\": 0,\n",
    "    # NEW ALPHA 0.3\n",
    "    # K5\n",
    "    \"alpha0.3_k5_res1e-05\": 0,\n",
    "    \"alpha0.3_k5_res2e-05\": 0,\n",
    "    \"alpha0.3_k5_res0.0001\": 0,\n",
    "    \"alpha0.3_k5_res0.0002\": 0,\n",
    "    \"alpha0.3_k5_res0.001\": 0,\n",
    "    \"alpha0.3_k5_res0.002\": 0,\n",
    "    \"alpha0.3_k5_res0.006\": 0,\n",
    "    \"alpha0.3_k5_res0.01\": 0,\n",
    "    \"alpha0.3_k5_res0.02\": 0,\n",
    "    # K10\n",
    "    \"alpha0.3_k10_res1e-05\": 0,\n",
    "    \"alpha0.3_k10_res2e-05\": 0,\n",
    "    \"alpha0.3_k10_res0.0001\": 0,\n",
    "    \"alpha0.3_k10_res0.0002\": 0,\n",
    "    \"alpha0.3_k10_res0.001\": 0,  # premature ejaculation and sexual dysfunction and one topic; anxiety + panic too\n",
    "    \"alpha0.3_k10_res0.002\": 1,  # good\n",
    "    \"alpha0.3_k20_res0.005\": 1,  # ok good\n",
    "    \"alpha0.3_k10_res0.006\": 1,\n",
    "    \"alpha0.3_k10_res0.01\": 0,  # good illustration for granularity using 'suicide' (500 topics)\n",
    "    \"alpha0.3_k10_res0.02\": 0,\n",
    "    # K15\n",
    "    \"alpha0.3_k15_res1e-05\": 0,\n",
    "    \"alpha0.3_k15_res2e-05\": 0,\n",
    "    \"alpha0.3_k15_res0.0001\": 0,\n",
    "    \"alpha0.3_k15_res0.0002\": 0,\n",
    "    \"alpha0.3_k15_res0.001\": 0,  # no bad, very broad and inclusive topics\n",
    "    \"alpha0.3_k15_res0.002\": 0,  # gut sex dysf and premature ejaculation are one topic\n",
    "    \"alpha0.3_k15_res0.006\": 1,  # pretty good. bit too many. too many pregnancy clusters, for example\n",
    "    \"alpha0.3_k15_res0.01\": 1,  # good illustration for granularity using 'suicide' (500 topics)\n",
    "    \"alpha0.3_k15_res0.02\": 0,\n",
    "    # K 20\n",
    "    \"alpha0.3_k20_res1e-05\": 0,\n",
    "    \"alpha0.3_k20_res2e-05\": 0,\n",
    "    \"alpha0.3_k20_res0.0001\": 0,\n",
    "    \"alpha0.3_k20_res0.0002\": 0,\n",
    "    \"alpha0.3_k20_res0.001\": 0,\n",
    "    \"alpha0.3_k20_res0.002\": 0,  # too few?\n",
    "    \"alpha0.3_k20_res0.005\": 1,  # best ?\n",
    "    \"alpha0.3_k20_res0.006\": 1,  # best ?\n",
    "    \"alpha0.3_k20_res0.01\": 1,  # too many? aber gut.\n",
    "    \"alpha0.3_k20_res0.02\": 1,\n",
    "}"
   ]
  },
  {
   "cell_type": "markdown",
   "metadata": {},
   "source": [
    "### save limit param space to excel\n"
   ]
  },
  {
   "cell_type": "code",
   "execution_count": 13,
   "metadata": {},
   "outputs": [
    {
     "name": "stderr",
     "output_type": "stream",
     "text": [
      "/var/folders/6m/zjbwrdgj0bg9zyhx3l7134mm0000gn/T/ipykernel_45459/828234405.py:7: SettingWithCopyWarning: \n",
      "A value is trying to be set on a copy of a slice from a DataFrame.\n",
      "Try using .loc[row_indexer,col_indexer] = value instead\n",
      "\n",
      "See the caveats in the documentation: https://pandas.pydata.org/pandas-docs/stable/user_guide/indexing.html#returning-a-view-versus-a-copy\n",
      "  filtered_overall_summary_df[\"keep\"] = filtered_overall_summary_df.apply(\n"
     ]
    },
    {
     "name": "stdout",
     "output_type": "stream",
     "text": [
      "Nr of soltions initially: 120\n",
      "Nr of solutions after filtering: 36\n",
      "Nr of solutions after double filtering: 11\n"
     ]
    }
   ],
   "source": [
    "# Filter explorer_sheets_dict based on keepornot values\n",
    "double_filtered_explorer_sheets_dict = {\n",
    "    k: v for k, v in filtered_explorer_sheets_dict.items() if keepornot.get(k, 0) == 1\n",
    "}\n",
    "\n",
    "# Create a 'drop' flag directly in the filtering step to avoid extra column manipulation\n",
    "filtered_overall_summary_df[\"keep\"] = filtered_overall_summary_df.apply(\n",
    "    lambda row: keepornot.get(f\"{row['KNN-Params']}_res{row['Resolution']}\", 0), axis=1\n",
    ")\n",
    "double_filtered_overall_summary_df = filtered_overall_summary_df[\n",
    "    filtered_overall_summary_df[\"keep\"] == 1\n",
    "].drop(columns=[\"keep\"])\n",
    "\n",
    "# Save filtered data and sheets\n",
    "filepath = \"../output/cluster-qualifications/cluster-explorer/03-ManuallyLimitedParameterFinder_ClusterExplorer.xlsx\"\n",
    "\n",
    "# Assuming NetworkAnalyzerUtils() and its method are properly defined\n",
    "# and can handle saving a DataFrame with hyperlinks\n",
    "NetworkAnalyzerUtils().params_excel_saver_with_hyperlinks(\n",
    "    filepath, double_filtered_overall_summary_df, double_filtered_explorer_sheets_dict\n",
    ")\n",
    "\n",
    "print(f\"Nr of soltions initially: {len(overall_summary_df)}\")\n",
    "print(f\"Nr of solutions after filtering: {len(filtered_overall_summary_df)}\")\n",
    "print(\n",
    "    f\"Nr of solutions after double filtering: {len(double_filtered_overall_summary_df)}\"\n",
    ")"
   ]
  },
  {
   "cell_type": "markdown",
   "metadata": {},
   "source": [
    "# Looking at individual solutions\n"
   ]
  },
  {
   "cell_type": "code",
   "execution_count": null,
   "metadata": {},
   "outputs": [
    {
     "name": "stdout",
     "output_type": "stream",
     "text": [
      "Params: alpha0.3_k15_res0.01; Nr of clusters: 380\n",
      "##################################################\n",
      "Params: alpha0.5_k20_res0.01; Nr of clusters: 370\n",
      "##################################################\n",
      "Params: alpha0.3_k10_res0.006; Nr of clusters: 367\n",
      "##################################################\n",
      "Params: alpha0.3_k20_res0.01; Nr of clusters: 297\n",
      "##################################################\n",
      "Params: alpha0.5_k15_res0.006; Nr of clusters: 290\n",
      "##################################################\n",
      "Params: alpha0.3_k15_res0.006; Nr of clusters: 251\n",
      "##################################################\n",
      "Params: alpha0.5_k20_res0.006; Nr of clusters: 226\n",
      "##################################################\n",
      "Params: alpha0.3_k20_res0.006; Nr of clusters: 192\n",
      "##################################################\n"
     ]
    }
   ],
   "source": [
    "iterations = -1  # until a partition is not an improvement over the previous one\n",
    "quality_values = []\n",
    "nr_clusters = []\n",
    "partitions = []\n",
    "graph_summary_df_dict = {}\n",
    "\n",
    "for params in double_filtered_explorer_sheets_dict.keys():\n",
    "    G = params_graph_dict[params.split(\"_res\")[0]]\n",
    "    resolution = pd.to_numeric(params.split(\"res\")[1])\n",
    "    pc = PartitionCreator(G, df)\n",
    "    pc.create_partition_from_cmpvertexpartition(\n",
    "        n_iterations=iterations,\n",
    "        resolution_parameter=resolution,\n",
    "        verbose=False,\n",
    "        cluster_column_name=f\"cluster_{params}\",\n",
    "        centrality_column_name=f\"centrality_{params}\",\n",
    "    )\n",
    "    #############################\n",
    "    #############################\n",
    "    ce = CommunityExplorer(\n",
    "        df=pc.df,\n",
    "        cluster_column=f\"cluster_{params}\",\n",
    "        sort_column=f\"centrality_{params}\",\n",
    "        nr_tiles=15,\n",
    "    )\n",
    "    ce.create_full_explorer()\n",
    "    df_summary, cluster_titles_sheets_dict = ce.full_return()\n",
    "    # sort by Cluster\n",
    "\n",
    "    # save to excel\n",
    "    filepath = f\"../output/cluster-qualifications/cluster-explorer/FinalSelect/SingleSolExplorer_{params}.xlsx\"\n",
    "    NetworkAnalyzerUtils().clusters_excel_saver_with_hyperlinks(\n",
    "        filepath, df_summary, cluster_titles_sheets_dict\n",
    "    )\n",
    "    graph_summary_df_dict[params] = (df_summary, cluster_titles_sheets_dict)\n",
    "    print(f\"Params: {params}; Nr of clusters: {len(pc.partition.sizes())}\")\n",
    "    print(\"#\" * 50)"
   ]
  },
  {
   "cell_type": "markdown",
   "metadata": {},
   "source": [
    "# Explore based on Decision Criteria\n"
   ]
  },
  {
   "cell_type": "markdown",
   "metadata": {},
   "source": [
    "### Decision Criteria:\n",
    "\n",
    "1. premature ejaculation and sexual dysfunction be distinct clusters\n",
    "2. Mixing of anxiety and panic disorder?\n",
    "3. Diabetic Mice VS Body Weight and Diabetes VS depression treatment in diabetics?\n",
    "4. Use alpha = 0.3 (look at alpha0.5_k10_res0.002); topics: 50, 133 -> very mixed words, little coherence.Not the case for alpha0.3_k10_res0.002 (here, sexual dys and premature ejac single topic though)\n",
    "5. Zimeldine (1 or two topics)\n",
    "6. Pregnancy related topics.\n"
   ]
  },
  {
   "cell_type": "code",
   "execution_count": 41,
   "metadata": {},
   "outputs": [
    {
     "data": {
      "text/plain": [
       "dict_keys(['alpha0.3_k15_res0.01', 'alpha0.5_k20_res0.01', 'alpha0.3_k10_res0.006', 'alpha0.3_k20_res0.01', 'alpha0.5_k15_res0.006', 'alpha0.3_k15_res0.006', 'alpha0.5_k20_res0.006', 'alpha0.3_k20_res0.006', 'alpha0.5_k20_res0.005', 'alpha0.3_k20_res0.005', 'alpha0.3_k10_res0.002'])"
      ]
     },
     "execution_count": 41,
     "metadata": {},
     "output_type": "execute_result"
    }
   ],
   "source": [
    "graph_summary_df_dict.keys()"
   ]
  },
  {
   "cell_type": "code",
   "execution_count": 8,
   "metadata": {},
   "outputs": [
    {
     "ename": "NameError",
     "evalue": "name 'analysis_data_dict' is not defined",
     "output_type": "error",
     "traceback": [
      "\u001b[0;31m---------------------------------------------------------------------------\u001b[0m",
      "\u001b[0;31mNameError\u001b[0m                                 Traceback (most recent call last)",
      "Cell \u001b[0;32mIn[8], line 1\u001b[0m\n\u001b[0;32m----> 1\u001b[0m \u001b[38;5;28;01mfor\u001b[39;00m params, suma \u001b[38;5;129;01min\u001b[39;00m \u001b[43manalysis_data_dict\u001b[49m\u001b[38;5;241m.\u001b[39mitems():\n\u001b[1;32m      2\u001b[0m     \u001b[38;5;28mprint\u001b[39m(\u001b[38;5;124mf\u001b[39m\u001b[38;5;124m\"\u001b[39m\u001b[38;5;124mParams: \u001b[39m\u001b[38;5;132;01m{\u001b[39;00mparams\u001b[38;5;132;01m}\u001b[39;00m\u001b[38;5;124m\"\u001b[39m)\n\u001b[1;32m      3\u001b[0m     \u001b[38;5;28mprint\u001b[39m(\u001b[38;5;124mf\u001b[39m\u001b[38;5;124m\"\u001b[39m\u001b[38;5;124mNr of clusters: \u001b[39m\u001b[38;5;132;01m{\u001b[39;00m\u001b[38;5;28mlen\u001b[39m(suma)\u001b[38;5;132;01m}\u001b[39;00m\u001b[38;5;124m\"\u001b[39m)\n",
      "\u001b[0;31mNameError\u001b[0m: name 'analysis_data_dict' is not defined"
     ]
    }
   ],
   "source": [
    "for params, suma in analysis_data_dict.items():\n",
    "    print(f\"Params: {params}\")\n",
    "    print(f\"Nr of clusters: {len(suma)}\")\n",
    "    print(\"#\" * 50)"
   ]
  },
  {
   "cell_type": "code",
   "execution_count": 9,
   "metadata": {},
   "outputs": [
    {
     "ename": "NameError",
     "evalue": "name 'graph_summary_df_dict' is not defined",
     "output_type": "error",
     "traceback": [
      "\u001b[0;31m---------------------------------------------------------------------------\u001b[0m",
      "\u001b[0;31mNameError\u001b[0m                                 Traceback (most recent call last)",
      "Cell \u001b[0;32mIn[9], line 1\u001b[0m\n\u001b[0;32m----> 1\u001b[0m analysis_data_dict \u001b[38;5;241m=\u001b[39m \u001b[43mgraph_summary_df_dict\u001b[49m\n\u001b[1;32m      2\u001b[0m print_n_random_titles \u001b[38;5;241m=\u001b[39m \u001b[38;5;241m5\u001b[39m\n\u001b[1;32m      3\u001b[0m word1 \u001b[38;5;241m=\u001b[39m \u001b[38;5;124m\"\u001b[39m\u001b[38;5;124mpremature\u001b[39m\u001b[38;5;124m\"\u001b[39m\n",
      "\u001b[0;31mNameError\u001b[0m: name 'graph_summary_df_dict' is not defined"
     ]
    }
   ],
   "source": [
    "analysis_data_dict = graph_summary_df_dict\n",
    "print_n_random_titles = 5\n",
    "word1 = \"premature\"\n",
    "word2 = \"ejaculation\"\n",
    "print_word_string = True\n",
    "save_to_file = True\n",
    "file_name = f\"../output/cluster-qualifications/cluster-explorer/ParamsTestTxt/cluster_analysis_output_{word1}.txt\"\n",
    "\n",
    "NetworkAnalyzerUtils().cluster_coherence_analyzer_in_txt(\n",
    "    analysis_data_dict=analysis_data_dict,\n",
    "    print_n_random_titles=print_n_random_titles,\n",
    "    word1=word1,\n",
    "    word2=word2,\n",
    "    print_word_string=print_word_string,\n",
    "    save_to_file=save_to_file,\n",
    "    file_name=file_name,\n",
    ")"
   ]
  },
  {
   "cell_type": "code",
   "execution_count": 10,
   "metadata": {},
   "outputs": [
    {
     "ename": "NameError",
     "evalue": "name 'graph_summary_df_dict' is not defined",
     "output_type": "error",
     "traceback": [
      "\u001b[0;31m---------------------------------------------------------------------------\u001b[0m",
      "\u001b[0;31mNameError\u001b[0m                                 Traceback (most recent call last)",
      "Cell \u001b[0;32mIn[10], line 1\u001b[0m\n\u001b[0;32m----> 1\u001b[0m analysis_data_dict \u001b[38;5;241m=\u001b[39m \u001b[43mgraph_summary_df_dict\u001b[49m\n\u001b[1;32m      2\u001b[0m print_n_random_titles \u001b[38;5;241m=\u001b[39m \u001b[38;5;241m10\u001b[39m\n\u001b[1;32m      3\u001b[0m word1 \u001b[38;5;241m=\u001b[39m \u001b[38;5;124m\"\u001b[39m\u001b[38;5;124mpreg\u001b[39m\u001b[38;5;124m\"\u001b[39m\n",
      "\u001b[0;31mNameError\u001b[0m: name 'graph_summary_df_dict' is not defined"
     ]
    }
   ],
   "source": [
    "analysis_data_dict = graph_summary_df_dict\n",
    "print_n_random_titles = 10\n",
    "word1 = \"preg\"\n",
    "word2 = \"\"\n",
    "print_word_string = True\n",
    "save_to_file = True\n",
    "file_name = f\"../output/cluster-qualifications/cluster-explorer/ParamsTestTxt/cluster_analysis_output_{word1}.txt\"\n",
    "\n",
    "NetworkAnalyzerUtils().cluster_coherence_analyzer_in_txt(\n",
    "    analysis_data_dict=analysis_data_dict,\n",
    "    print_n_random_titles=print_n_random_titles,\n",
    "    word1=word1,\n",
    "    word2=word2,\n",
    "    print_word_string=print_word_string,\n",
    "    save_to_file=save_to_file,\n",
    "    file_name=file_name,\n",
    ")"
   ]
  },
  {
   "cell_type": "code",
   "execution_count": 11,
   "metadata": {},
   "outputs": [],
   "source": [
    "# SUICIDE\n",
    "params_scoring_suicide = {\n",
    "    \"alpha0.3_k10_res0.002\": \"1\",\n",
    "    \"alpha0.3_k10_res0.006\": \"0 (too many suicide clusters, very inconsistent)\",\n",
    "    \"alpha0.3_k15_res0.006\": \"1 (very clear singel suicide cluster)\",\n",
    "    \"alpha0.3_k15_res0.01\": \"0 (conflates overdoses and suicide; too many clusters on it; 1 clear)\",\n",
    "    \"alpha0.3_k20_res0.006\": \"1 (one good suicide, one unrelated)\",\n",
    "    \"alpha0.3_k20_res0.01\": \"1 (two clear suicide clusters; should be same)\",\n",
    "    \"alpha0.3_k20_res0.02\": \"0 (akathisia cluster; boderline cluster; no clear bigger suicide cluster)\",\n",
    "    \"alpha0.3_k20_res0.005\": \"1 (very clear singel suicide cluster)\",\n",
    "    \"alpha0.5_k15_res0.006\": \"0 no good suicide cluster\",\n",
    "    \"alpha0.5_k20_res0.006\": \"1 (one clear suicide cluster, one overdose/drug)\",\n",
    "    \"alpha0.5_k20_res0.01\": \"0 first biggest cluster is very bad\",\n",
    "}\n",
    "# pregnancy\n",
    "params_scoring_pregnancy = {\n",
    "    \"alpha0.3_k10_res0.002\": \"1 (single cluster, coherent)\",\n",
    "    \"alpha0.3_k10_res0.006\": \"0 (pharma pregnancy, narcolepsy, lectation, neonatal, TOO MANY)\",\n",
    "    \"alpha0.3_k15_res0.006\": \"0 (4 clusters, not one clear preggo cluster)\",\n",
    "    \"alpha0.3_k15_res0.01\": \"0 (1 big trash topic; pretty bad)\",\n",
    "    \"alpha0.3_k20_res0.006\": \"0 (one small preggo cluster)\",\n",
    "    \"alpha0.3_k20_res0.01\": \"1 (bit too split up, but sensical, [pretty good])\",\n",
    "    \"alpha0.3_k20_res0.02\": \"0 (creation seems wieird.)\",\n",
    "    \"alpha0.3_k20_res0.005\": \"1 (single cluster, coherent)\",\n",
    "    \"alpha0.5_k15_res0.006\": \"0 (biggest cluster sucks. creation went weird)\",\n",
    "    \"alpha0.5_k20_res0.006\": \"0 (first biggest cluster is weird)\",\n",
    "    \"alpha0.5_k20_res0.01\": \"0 (small cluster, seem sensical tho)\",\n",
    "}"
   ]
  },
  {
   "cell_type": "markdown",
   "metadata": {},
   "source": [
    "# last_selection_params\n"
   ]
  },
  {
   "cell_type": "code",
   "execution_count": 12,
   "metadata": {},
   "outputs": [
    {
     "name": "stdout",
     "output_type": "stream",
     "text": [
      "Params: alpha0.3_k10_res0.002; Nr of clusters: 150\n",
      "##################################################\n",
      "Params: alpha0.3_k15_res0.004; Nr of clusters: 176\n",
      "##################################################\n"
     ]
    },
    {
     "ename": "KeyboardInterrupt",
     "evalue": "",
     "output_type": "error",
     "traceback": [
      "\u001b[0;31m---------------------------------------------------------------------------\u001b[0m",
      "\u001b[0;31mKeyboardInterrupt\u001b[0m                         Traceback (most recent call last)",
      "Cell \u001b[0;32mIn[12], line 32\u001b[0m\n\u001b[1;32m     24\u001b[0m \u001b[38;5;66;03m#############################\u001b[39;00m\n\u001b[1;32m     25\u001b[0m \u001b[38;5;66;03m#############################\u001b[39;00m\n\u001b[1;32m     26\u001b[0m ce \u001b[38;5;241m=\u001b[39m CommunityExplorer(\n\u001b[1;32m     27\u001b[0m     df\u001b[38;5;241m=\u001b[39mpc\u001b[38;5;241m.\u001b[39mdf,\n\u001b[1;32m     28\u001b[0m     cluster_column\u001b[38;5;241m=\u001b[39m\u001b[38;5;124mf\u001b[39m\u001b[38;5;124m\"\u001b[39m\u001b[38;5;124mcluster_\u001b[39m\u001b[38;5;132;01m{\u001b[39;00mparams\u001b[38;5;132;01m}\u001b[39;00m\u001b[38;5;124m\"\u001b[39m,\n\u001b[1;32m     29\u001b[0m     sort_column\u001b[38;5;241m=\u001b[39m\u001b[38;5;124mf\u001b[39m\u001b[38;5;124m\"\u001b[39m\u001b[38;5;124mcentrality_\u001b[39m\u001b[38;5;132;01m{\u001b[39;00mparams\u001b[38;5;132;01m}\u001b[39;00m\u001b[38;5;124m\"\u001b[39m,\n\u001b[1;32m     30\u001b[0m     nr_tiles\u001b[38;5;241m=\u001b[39m\u001b[38;5;241m15\u001b[39m,\n\u001b[1;32m     31\u001b[0m )\n\u001b[0;32m---> 32\u001b[0m \u001b[43mce\u001b[49m\u001b[38;5;241;43m.\u001b[39;49m\u001b[43mcreate_full_explorer\u001b[49m\u001b[43m(\u001b[49m\u001b[43m)\u001b[49m\n\u001b[1;32m     33\u001b[0m df_summary, cluster_titles_sheets_dict \u001b[38;5;241m=\u001b[39m ce\u001b[38;5;241m.\u001b[39mfull_return()\n\u001b[1;32m     35\u001b[0m \u001b[38;5;66;03m# save to excel\u001b[39;00m\n",
      "File \u001b[0;32m~/Projects/Study-1-Bibliometrics/src/network/analysis/NetworkAnalyzer.py:101\u001b[0m, in \u001b[0;36mCommunityExplorer.create_full_explorer\u001b[0;34m(self)\u001b[0m\n\u001b[1;32m     98\u001b[0m summary_dict[\u001b[38;5;124m\"\u001b[39m\u001b[38;5;124mGiven Label\u001b[39m\u001b[38;5;124m\"\u001b[39m]\u001b[38;5;241m.\u001b[39mappend(\u001b[38;5;124m\"\u001b[39m\u001b[38;5;124m\"\u001b[39m)\n\u001b[1;32m    100\u001b[0m \u001b[38;5;66;03m## text analyser\u001b[39;00m\n\u001b[0;32m--> 101\u001b[0m tfids_words \u001b[38;5;241m=\u001b[39m \u001b[38;5;28;43mself\u001b[39;49m\u001b[38;5;241;43m.\u001b[39;49m\u001b[43manalyze_text\u001b[49m\u001b[43m(\u001b[49m\u001b[43mdf_cluster\u001b[49m\u001b[43m)\u001b[49m\n\u001b[1;32m    103\u001b[0m \u001b[38;5;66;03m# add to summary dict\u001b[39;00m\n\u001b[1;32m    104\u001b[0m \u001b[38;5;28;01mfor\u001b[39;00m i \u001b[38;5;129;01min\u001b[39;00m \u001b[38;5;28mrange\u001b[39m(\u001b[38;5;28mself\u001b[39m\u001b[38;5;241m.\u001b[39mnr_words):\n",
      "File \u001b[0;32m~/Projects/Study-1-Bibliometrics/src/network/analysis/NetworkAnalyzer.py:66\u001b[0m, in \u001b[0;36mCommunityExplorer.analyze_text\u001b[0;34m(self, df_cluster)\u001b[0m\n\u001b[1;32m     64\u001b[0m text_corpus \u001b[38;5;241m=\u001b[39m df_cluster[\u001b[38;5;124m\"\u001b[39m\u001b[38;5;124mtitle_abstract\u001b[39m\u001b[38;5;124m\"\u001b[39m]\u001b[38;5;241m.\u001b[39mvalues\n\u001b[1;32m     65\u001b[0m \u001b[38;5;66;03m# word_quantities = self.text_analyzer.count_word_quantities(text_corpus)\u001b[39;00m\n\u001b[0;32m---> 66\u001b[0m df_tfidf \u001b[38;5;241m=\u001b[39m \u001b[43mtext_analyzer\u001b[49m\u001b[38;5;241;43m.\u001b[39;49m\u001b[43mtfidf_word_values\u001b[49m\u001b[43m(\u001b[49m\u001b[43mtext_corpus\u001b[49m\u001b[43m)\u001b[49m\n\u001b[1;32m     67\u001b[0m \u001b[38;5;66;03m# df_both = self.text_analyzer.merged_df(word_quantities, df_tfidf).head(\u001b[39;00m\n\u001b[1;32m     68\u001b[0m \u001b[38;5;66;03m#    self.nr_words\u001b[39;00m\n\u001b[1;32m     69\u001b[0m \u001b[38;5;66;03m# )\u001b[39;00m\n\u001b[1;32m     70\u001b[0m \u001b[38;5;66;03m# min number of words\u001b[39;00m\n\u001b[1;32m     71\u001b[0m tfids_words \u001b[38;5;241m=\u001b[39m df_tfidf[\u001b[38;5;124m\"\u001b[39m\u001b[38;5;124mWord_tfidf\u001b[39m\u001b[38;5;124m\"\u001b[39m]\u001b[38;5;241m.\u001b[39mvalues[: \u001b[38;5;28mself\u001b[39m\u001b[38;5;241m.\u001b[39mnr_words]\n",
      "File \u001b[0;32m~/Projects/Study-1-Bibliometrics/src/network/analysis/TextAnalyzer.py:81\u001b[0m, in \u001b[0;36mTextAnalyzer.tfidf_word_values\u001b[0;34m(self, text_corpus)\u001b[0m\n\u001b[1;32m     79\u001b[0m text_corpus_preprocessed \u001b[38;5;241m=\u001b[39m \u001b[38;5;28mself\u001b[39m\u001b[38;5;241m.\u001b[39mpreprocess_text(text_corpus)\n\u001b[1;32m     80\u001b[0m vectorizer \u001b[38;5;241m=\u001b[39m TfidfVectorizer(stop_words\u001b[38;5;241m=\u001b[39m\u001b[38;5;124m\"\u001b[39m\u001b[38;5;124menglish\u001b[39m\u001b[38;5;124m\"\u001b[39m, ngram_range\u001b[38;5;241m=\u001b[39m(\u001b[38;5;241m1\u001b[39m, \u001b[38;5;241m3\u001b[39m))\n\u001b[0;32m---> 81\u001b[0m X \u001b[38;5;241m=\u001b[39m \u001b[43mvectorizer\u001b[49m\u001b[38;5;241;43m.\u001b[39;49m\u001b[43mfit_transform\u001b[49m\u001b[43m(\u001b[49m\u001b[43mtext_corpus_preprocessed\u001b[49m\u001b[43m)\u001b[49m\n\u001b[1;32m     82\u001b[0m feature_names \u001b[38;5;241m=\u001b[39m vectorizer\u001b[38;5;241m.\u001b[39mget_feature_names_out()\n\u001b[1;32m     84\u001b[0m tfidf_df \u001b[38;5;241m=\u001b[39m pd\u001b[38;5;241m.\u001b[39mDataFrame(X\u001b[38;5;241m.\u001b[39mtoarray(), columns\u001b[38;5;241m=\u001b[39mfeature_names)\n",
      "File \u001b[0;32m/opt/homebrew/Caskroom/miniconda/base/envs/condavenv/lib/python3.11/site-packages/sklearn/feature_extraction/text.py:2093\u001b[0m, in \u001b[0;36mTfidfVectorizer.fit_transform\u001b[0;34m(self, raw_documents, y)\u001b[0m\n\u001b[1;32m   2086\u001b[0m \u001b[38;5;28mself\u001b[39m\u001b[38;5;241m.\u001b[39m_check_params()\n\u001b[1;32m   2087\u001b[0m \u001b[38;5;28mself\u001b[39m\u001b[38;5;241m.\u001b[39m_tfidf \u001b[38;5;241m=\u001b[39m TfidfTransformer(\n\u001b[1;32m   2088\u001b[0m     norm\u001b[38;5;241m=\u001b[39m\u001b[38;5;28mself\u001b[39m\u001b[38;5;241m.\u001b[39mnorm,\n\u001b[1;32m   2089\u001b[0m     use_idf\u001b[38;5;241m=\u001b[39m\u001b[38;5;28mself\u001b[39m\u001b[38;5;241m.\u001b[39muse_idf,\n\u001b[1;32m   2090\u001b[0m     smooth_idf\u001b[38;5;241m=\u001b[39m\u001b[38;5;28mself\u001b[39m\u001b[38;5;241m.\u001b[39msmooth_idf,\n\u001b[1;32m   2091\u001b[0m     sublinear_tf\u001b[38;5;241m=\u001b[39m\u001b[38;5;28mself\u001b[39m\u001b[38;5;241m.\u001b[39msublinear_tf,\n\u001b[1;32m   2092\u001b[0m )\n\u001b[0;32m-> 2093\u001b[0m X \u001b[38;5;241m=\u001b[39m \u001b[38;5;28;43msuper\u001b[39;49m\u001b[43m(\u001b[49m\u001b[43m)\u001b[49m\u001b[38;5;241;43m.\u001b[39;49m\u001b[43mfit_transform\u001b[49m\u001b[43m(\u001b[49m\u001b[43mraw_documents\u001b[49m\u001b[43m)\u001b[49m\n\u001b[1;32m   2094\u001b[0m \u001b[38;5;28mself\u001b[39m\u001b[38;5;241m.\u001b[39m_tfidf\u001b[38;5;241m.\u001b[39mfit(X)\n\u001b[1;32m   2095\u001b[0m \u001b[38;5;66;03m# X is already a transformed view of raw_documents so\u001b[39;00m\n\u001b[1;32m   2096\u001b[0m \u001b[38;5;66;03m# we set copy to False\u001b[39;00m\n",
      "File \u001b[0;32m/opt/homebrew/Caskroom/miniconda/base/envs/condavenv/lib/python3.11/site-packages/sklearn/base.py:1473\u001b[0m, in \u001b[0;36m_fit_context.<locals>.decorator.<locals>.wrapper\u001b[0;34m(estimator, *args, **kwargs)\u001b[0m\n\u001b[1;32m   1466\u001b[0m     estimator\u001b[38;5;241m.\u001b[39m_validate_params()\n\u001b[1;32m   1468\u001b[0m \u001b[38;5;28;01mwith\u001b[39;00m config_context(\n\u001b[1;32m   1469\u001b[0m     skip_parameter_validation\u001b[38;5;241m=\u001b[39m(\n\u001b[1;32m   1470\u001b[0m         prefer_skip_nested_validation \u001b[38;5;129;01mor\u001b[39;00m global_skip_validation\n\u001b[1;32m   1471\u001b[0m     )\n\u001b[1;32m   1472\u001b[0m ):\n\u001b[0;32m-> 1473\u001b[0m     \u001b[38;5;28;01mreturn\u001b[39;00m \u001b[43mfit_method\u001b[49m\u001b[43m(\u001b[49m\u001b[43mestimator\u001b[49m\u001b[43m,\u001b[49m\u001b[43m \u001b[49m\u001b[38;5;241;43m*\u001b[39;49m\u001b[43margs\u001b[49m\u001b[43m,\u001b[49m\u001b[43m \u001b[49m\u001b[38;5;241;43m*\u001b[39;49m\u001b[38;5;241;43m*\u001b[39;49m\u001b[43mkwargs\u001b[49m\u001b[43m)\u001b[49m\n",
      "File \u001b[0;32m/opt/homebrew/Caskroom/miniconda/base/envs/condavenv/lib/python3.11/site-packages/sklearn/feature_extraction/text.py:1374\u001b[0m, in \u001b[0;36mCountVectorizer.fit_transform\u001b[0;34m(self, raw_documents, y)\u001b[0m\n\u001b[1;32m   1366\u001b[0m             warnings\u001b[38;5;241m.\u001b[39mwarn(\n\u001b[1;32m   1367\u001b[0m                 \u001b[38;5;124m\"\u001b[39m\u001b[38;5;124mUpper case characters found in\u001b[39m\u001b[38;5;124m\"\u001b[39m\n\u001b[1;32m   1368\u001b[0m                 \u001b[38;5;124m\"\u001b[39m\u001b[38;5;124m vocabulary while \u001b[39m\u001b[38;5;124m'\u001b[39m\u001b[38;5;124mlowercase\u001b[39m\u001b[38;5;124m'\u001b[39m\u001b[38;5;124m\"\u001b[39m\n\u001b[1;32m   1369\u001b[0m                 \u001b[38;5;124m\"\u001b[39m\u001b[38;5;124m is True. These entries will not\u001b[39m\u001b[38;5;124m\"\u001b[39m\n\u001b[1;32m   1370\u001b[0m                 \u001b[38;5;124m\"\u001b[39m\u001b[38;5;124m be matched with any documents\u001b[39m\u001b[38;5;124m\"\u001b[39m\n\u001b[1;32m   1371\u001b[0m             )\n\u001b[1;32m   1372\u001b[0m             \u001b[38;5;28;01mbreak\u001b[39;00m\n\u001b[0;32m-> 1374\u001b[0m vocabulary, X \u001b[38;5;241m=\u001b[39m \u001b[38;5;28;43mself\u001b[39;49m\u001b[38;5;241;43m.\u001b[39;49m\u001b[43m_count_vocab\u001b[49m\u001b[43m(\u001b[49m\u001b[43mraw_documents\u001b[49m\u001b[43m,\u001b[49m\u001b[43m \u001b[49m\u001b[38;5;28;43mself\u001b[39;49m\u001b[38;5;241;43m.\u001b[39;49m\u001b[43mfixed_vocabulary_\u001b[49m\u001b[43m)\u001b[49m\n\u001b[1;32m   1376\u001b[0m \u001b[38;5;28;01mif\u001b[39;00m \u001b[38;5;28mself\u001b[39m\u001b[38;5;241m.\u001b[39mbinary:\n\u001b[1;32m   1377\u001b[0m     X\u001b[38;5;241m.\u001b[39mdata\u001b[38;5;241m.\u001b[39mfill(\u001b[38;5;241m1\u001b[39m)\n",
      "File \u001b[0;32m/opt/homebrew/Caskroom/miniconda/base/envs/condavenv/lib/python3.11/site-packages/sklearn/feature_extraction/text.py:1261\u001b[0m, in \u001b[0;36mCountVectorizer._count_vocab\u001b[0;34m(self, raw_documents, fixed_vocab)\u001b[0m\n\u001b[1;32m   1259\u001b[0m \u001b[38;5;28;01mfor\u001b[39;00m doc \u001b[38;5;129;01min\u001b[39;00m raw_documents:\n\u001b[1;32m   1260\u001b[0m     feature_counter \u001b[38;5;241m=\u001b[39m {}\n\u001b[0;32m-> 1261\u001b[0m     \u001b[38;5;28;01mfor\u001b[39;00m feature \u001b[38;5;129;01min\u001b[39;00m \u001b[43manalyze\u001b[49m\u001b[43m(\u001b[49m\u001b[43mdoc\u001b[49m\u001b[43m)\u001b[49m:\n\u001b[1;32m   1262\u001b[0m         \u001b[38;5;28;01mtry\u001b[39;00m:\n\u001b[1;32m   1263\u001b[0m             feature_idx \u001b[38;5;241m=\u001b[39m vocabulary[feature]\n",
      "File \u001b[0;32m/opt/homebrew/Caskroom/miniconda/base/envs/condavenv/lib/python3.11/site-packages/sklearn/feature_extraction/text.py:115\u001b[0m, in \u001b[0;36m_analyze\u001b[0;34m(doc, analyzer, tokenizer, ngrams, preprocessor, decoder, stop_words)\u001b[0m\n\u001b[1;32m    113\u001b[0m \u001b[38;5;28;01mif\u001b[39;00m ngrams \u001b[38;5;129;01mis\u001b[39;00m \u001b[38;5;129;01mnot\u001b[39;00m \u001b[38;5;28;01mNone\u001b[39;00m:\n\u001b[1;32m    114\u001b[0m     \u001b[38;5;28;01mif\u001b[39;00m stop_words \u001b[38;5;129;01mis\u001b[39;00m \u001b[38;5;129;01mnot\u001b[39;00m \u001b[38;5;28;01mNone\u001b[39;00m:\n\u001b[0;32m--> 115\u001b[0m         doc \u001b[38;5;241m=\u001b[39m \u001b[43mngrams\u001b[49m\u001b[43m(\u001b[49m\u001b[43mdoc\u001b[49m\u001b[43m,\u001b[49m\u001b[43m \u001b[49m\u001b[43mstop_words\u001b[49m\u001b[43m)\u001b[49m\n\u001b[1;32m    116\u001b[0m     \u001b[38;5;28;01melse\u001b[39;00m:\n\u001b[1;32m    117\u001b[0m         doc \u001b[38;5;241m=\u001b[39m ngrams(doc)\n",
      "File \u001b[0;32m/opt/homebrew/Caskroom/miniconda/base/envs/condavenv/lib/python3.11/site-packages/sklearn/feature_extraction/text.py:270\u001b[0m, in \u001b[0;36m_VectorizerMixin._word_ngrams\u001b[0;34m(self, tokens, stop_words)\u001b[0m\n\u001b[1;32m    268\u001b[0m     \u001b[38;5;28;01mfor\u001b[39;00m n \u001b[38;5;129;01min\u001b[39;00m \u001b[38;5;28mrange\u001b[39m(min_n, \u001b[38;5;28mmin\u001b[39m(max_n \u001b[38;5;241m+\u001b[39m \u001b[38;5;241m1\u001b[39m, n_original_tokens \u001b[38;5;241m+\u001b[39m \u001b[38;5;241m1\u001b[39m)):\n\u001b[1;32m    269\u001b[0m         \u001b[38;5;28;01mfor\u001b[39;00m i \u001b[38;5;129;01min\u001b[39;00m \u001b[38;5;28mrange\u001b[39m(n_original_tokens \u001b[38;5;241m-\u001b[39m n \u001b[38;5;241m+\u001b[39m \u001b[38;5;241m1\u001b[39m):\n\u001b[0;32m--> 270\u001b[0m             tokens_append(space_join(original_tokens[i : i \u001b[38;5;241m+\u001b[39m n]))\n\u001b[1;32m    272\u001b[0m \u001b[38;5;28;01mreturn\u001b[39;00m tokens\n",
      "\u001b[0;31mKeyboardInterrupt\u001b[0m: "
     ]
    }
   ],
   "source": [
    "iterations = -1  # until a partition is not an improvement over the previous one\n",
    "graph_summary_df_dict = {}\n",
    "\n",
    "last_selection_params = [\n",
    "    \"alpha0.3_k10_res0.002\",\n",
    "    \"alpha0.3_k15_res0.004\",\n",
    "    \"alpha0.3_k20_res0.005\",\n",
    "    \"alpha0.3_k20_res0.006\",\n",
    "]\n",
    "\n",
    "\n",
    "for params in last_selection_params:\n",
    "    G = params_graph_dict[params.split(\"_res\")[0]]\n",
    "    resolution = pd.to_numeric(params.split(\"res\")[1])\n",
    "    column_name = f\"cluster_{params}\"\n",
    "    pc = PartitionCreator(G, df)\n",
    "    pc.create_partition_from_cmpvertexpartition(\n",
    "        n_iterations=iterations,\n",
    "        resolution_parameter=resolution,\n",
    "        verbose=False,\n",
    "        cluster_column_name=column_name,\n",
    "        centrality_column_name=f\"centrality_{params}\",\n",
    "    )\n",
    "    #############################\n",
    "    #############################\n",
    "    ce = CommunityExplorer(\n",
    "        df=pc.df,\n",
    "        cluster_column=f\"cluster_{params}\",\n",
    "        sort_column=f\"centrality_{params}\",\n",
    "        nr_tiles=15,\n",
    "    )\n",
    "    ce.create_full_explorer()\n",
    "    df_summary, cluster_titles_sheets_dict = ce.full_return()\n",
    "\n",
    "    # save to excel\n",
    "    filepath = f\"../output/cluster-qualifications/cluster-explorer/FinalSelect/SingleSolExplorer_{params}.xlsx\"\n",
    "    NetworkAnalyzerUtils().clusters_excel_saver_with_hyperlinks(\n",
    "        filepath, df_summary, cluster_titles_sheets_dict\n",
    "    )\n",
    "    print(f\"Params: {params}; Nr of clusters: {len(pc.partition.sizes())}\")\n",
    "    print(\"#\" * 50)"
   ]
  },
  {
   "cell_type": "markdown",
   "metadata": {},
   "source": [
    "# FINAL SELECTION\n"
   ]
  },
  {
   "cell_type": "markdown",
   "metadata": {},
   "source": [
    "## alpha0.3_k10_res0.002; Nr of clusters: 154\n",
    "\n",
    "1. \"alpha0.3_k10_res0.002\": \"1 - suicide\",\n",
    "2. \"alpha0.3_k10_res0.002\": \"1 (single cluster, coherent) - pregnancy\",\n",
    "\n",
    "##### EVAL TOP 5 CLSUTERS\n",
    "\n",
    "0. Very clear memory clsuter; pharma and not; 1199 pubs\n",
    "1. Receptor binding; brain; guess its good\n",
    "2. QTC prolongation; cardiovascular; good\n",
    "3. astrocytes; pharma; good\n",
    "4. Binding; platelets check difference to 2; (kinda good)\n",
    "5. Pulmonary hypertension; bluthochdruck; (kinda good)\n",
    "\n",
    "## alpha0.3_k20_res0.01; Nr of clusters: 299\n",
    "\n",
    "1. \"alpha0.3_k20_res0.01\": \"1 (two clear suicide clusters; should be same) - suicide\",\n",
    "2. \"alpha0.3_k20_res0.01\": \"1 (bit too split up, but sensical, [pretty good]) - pregnancy\",\n",
    "3. Good elderly cluster\n",
    "4. Good Fall cluster (in elderly)\n",
    "5. Good single seasonal cluster\n",
    "6. good withdrawal/discontinuation cluster\n",
    "\n",
    "##### EVAL TOP 5 CLSUTERS\n",
    "\n",
    "0. Learning; Memory;hippocampus; fear (avoidance learning); Ok Good\n",
    "1. Prolactin; Pharmacology; ok Good\n",
    "2. Cardiac,arrythmia, qt prolongation (very good)\n",
    "3. pregnancy; placenta, a preggo pharma cluster\n",
    "4. SSRI mechanisms; Pharmacology; Depression treatment\n",
    "5. Pharmacology; 5-HT; receptor; SERT(serotonintransporter),\n",
    "\n",
    "## alpha0.3_k20_res0.006; Nr of clusters: 190\n",
    "\n",
    "1. \"alpha0.3_k20_res0.01\": \"1 (two clear suicide clusters; should be same)- suicide\",\n",
    "2. \"alpha0.3_k20_res0.01\": \"1 (bit too split up, but sensical, [pretty good])- pregnancy\",\n",
    "\n",
    "##### EVAL TOP 5 CLSUTERS\n",
    "\n",
    "0. Memory; Cognition; Learning;\n",
    "1. Receptor; Animal studies; IN vivo; autoreceptor;\n",
    "2. cardiac; qt prolongation\n",
    "3. astrocytes; pharmaco\n",
    "4. pharmacological ssri properties; 5 ht; receptors\n",
    "5. vascular; rat; unclear;\n"
   ]
  },
  {
   "cell_type": "code",
   "execution_count": 56,
   "metadata": {},
   "outputs": [],
   "source": [
    "df = pd.read_pickle(\"../data/04-embeddings/df_with_specter2_embeddings.pkl\")\n",
    "\n",
    "df[\"title_abstract\"] = df.apply(\n",
    "    lambda x: (\n",
    "        x[\"title\"] + \". \" + str(x[\"abstract\"])\n",
    "        if pd.notnull(x[\"abstract\"])\n",
    "        else x[\"title\"]\n",
    "    ),\n",
    "    axis=1,\n",
    ")"
   ]
  },
  {
   "cell_type": "code",
   "execution_count": 13,
   "metadata": {},
   "outputs": [
    {
     "name": "stdout",
     "output_type": "stream",
     "text": [
      "Number of clusters: 150\n",
      "Quality: 352763.61481664324\n",
      "Params: alpha0.3_k10_res0.002; Nr of clusters: 150\n",
      "##################################################\n",
      "Number of clusters: 176\n",
      "Quality: 448800.15432871645\n",
      "Params: alpha0.3_k15_res0.004; Nr of clusters: 176\n",
      "##################################################\n",
      "Number of clusters: 164\n",
      "Quality: 556576.9303715269\n",
      "Params: alpha0.3_k20_res0.005; Nr of clusters: 164\n",
      "##################################################\n",
      "Number of clusters: 192\n",
      "Quality: 540562.2409170688\n",
      "Params: alpha0.3_k20_res0.006; Nr of clusters: 192\n",
      "##################################################\n"
     ]
    }
   ],
   "source": [
    "\"\"\"\n",
    "This code chunk performs community detection on a graph using different parameter configurations. It iterates over a list of parameter strings, extracts the necessary values from each string, and creates a partition based on the graph and the extracted parameters. It then drops unnecessary columns from the partition's dataframe, adds cluster labels to the graph, and saves the resulting graph as a GraphML file. Finally, it saves the partition's dataframe as a pickle file.\n",
    "\"\"\"\n",
    "\n",
    "final_params_list = [\n",
    "    \"alpha0.3_k10_res0.002\",\n",
    "    \"alpha0.3_k15_res0.004\",\n",
    "    \"alpha0.3_k20_res0.005\",\n",
    "    \"alpha0.3_k20_res0.006\",\n",
    "]\n",
    "iterations = -1  # until not improved anymore\n",
    "\n",
    "for params in final_params_list:\n",
    "    G = params_graph_dict[params.split(\"_res\")[0]]\n",
    "    resolution = pd.to_numeric(params.split(\"res\")[1])\n",
    "    pc = PartitionCreator(G, df)\n",
    "    pc.create_partition_from_cmpvertexpartition(\n",
    "        n_iterations=iterations,\n",
    "        resolution_parameter=resolution,\n",
    "        verbose=True,\n",
    "        cluster_column_name=f\"cluster_{params}\",\n",
    "        centrality_column_name=f\"centrality_{params}\",\n",
    "    )\n",
    "\n",
    "    # save graphml\n",
    "    pc.G.write_graphml(f\"../data/07-clustered-graphs/{params}.graphml\")\n",
    "    path = f\"../data/06-clustered-df/{params}.pkl\"\n",
    "    pc.df.to_pickle(path)\n",
    "    #############################\n",
    "    #############################\n",
    "    ce = CommunityExplorer(\n",
    "        df=pc.df,\n",
    "        cluster_column=f\"cluster_{params}\",\n",
    "        sort_column=f\"centrality_{params}\",\n",
    "        nr_tiles=20,\n",
    "    )\n",
    "    ce.create_full_explorer()\n",
    "    df_summary, cluster_titles_sheets_dict = ce.full_return()\n",
    "\n",
    "    # save to excel\n",
    "    filepath = f\"../output/cluster-qualifications/cluster-explorer/FinalSelect/SingleSolExplorer_{params}.xlsx\"\n",
    "    NetworkAnalyzerUtils().clusters_excel_saver_with_hyperlinks(\n",
    "        filepath, df_summary, cluster_titles_sheets_dict\n",
    "    )\n",
    "    print(f\"Params: {params}; Nr of clusters: {len(pc.partition.sizes())}\")\n",
    "    print(\"#\" * 50)"
   ]
  },
  {
   "cell_type": "markdown",
   "metadata": {},
   "source": [
    "# After Qualitative Assessment We Choose:\n",
    "\n",
    "# Params: alpha0.3_k10_res0.002\n",
    "\n",
    "## now we run it a final time with varying iterations\n"
   ]
  },
  {
   "cell_type": "code",
   "execution_count": 14,
   "metadata": {},
   "outputs": [
    {
     "name": "stdout",
     "output_type": "stream",
     "text": [
      "Number of clusters: 150\n",
      "Quality: 352763.61481664324\n",
      "Iterations: -1\n",
      "Params: alpha0.3_k10_res0.002\n",
      "##################################################\n",
      "Number of clusters: 148\n",
      "Quality: 351579.81240549777\n",
      "Iterations: 2\n",
      "Params: alpha0.3_k10_res0.002\n",
      "##################################################\n",
      "Number of clusters: 148\n",
      "Quality: 352359.8194644157\n",
      "Iterations: 6\n",
      "Params: alpha0.3_k10_res0.002\n",
      "##################################################\n",
      "Number of clusters: 149\n",
      "Quality: 352468.3630304243\n",
      "Iterations: 10\n",
      "Params: alpha0.3_k10_res0.002\n",
      "##################################################\n",
      "Number of clusters: 150\n",
      "Quality: 352828.4225161365\n",
      "Iterations: 50\n",
      "Params: alpha0.3_k10_res0.002\n",
      "##################################################\n",
      "Number of clusters: 150\n",
      "Quality: 352893.42611855385\n",
      "Iterations: 100\n",
      "Params: alpha0.3_k10_res0.002\n",
      "##################################################\n",
      "Number of clusters: 150\n",
      "Quality: 352939.8211424463\n",
      "Iterations: 200\n",
      "Params: alpha0.3_k10_res0.002\n",
      "##################################################\n",
      "Number of clusters: 150\n",
      "Quality: 352966.47059902176\n",
      "Iterations: 400\n",
      "Params: alpha0.3_k10_res0.002\n",
      "##################################################\n",
      "Number of clusters: 150\n",
      "Quality: 352966.9946683014\n",
      "Iterations: 800\n",
      "Params: alpha0.3_k10_res0.002\n",
      "##################################################\n"
     ]
    }
   ],
   "source": [
    "params = \"alpha0.3_k10_res0.002\"\n",
    "iterations = [-1, 2, 6, 10, 50, 100, 200, 400, 800]\n",
    "quality_values = {}\n",
    "for i in iterations:\n",
    "    G = params_graph_dict[params.split(\"_res\")[0]]\n",
    "    resolution = pd.to_numeric(params.split(\"res\")[1])\n",
    "    pc = PartitionCreator(G, df)\n",
    "    pc.create_partition_from_cmpvertexpartition(\n",
    "        n_iterations=i,\n",
    "        resolution_parameter=resolution,\n",
    "        verbose=True,\n",
    "        cluster_column_name=f\"cluster_{params}\",\n",
    "        centrality_column_name=f\"centrality_{params}\",\n",
    "    )\n",
    "    quality_values[i] = pc.partition.quality()\n",
    "    # save graphml\n",
    "    pc.G.write_graphml(f\"../data/07-clustered-graphs/{params}.graphml\")\n",
    "    path = f\"../data/06-clustered-df/{params}.pkl\"\n",
    "    pc.df.to_pickle(path)\n",
    "    #############################\n",
    "    #############################\n",
    "    ce = CommunityExplorer(\n",
    "        df=pc.df,\n",
    "        cluster_column=f\"cluster_{params}\",\n",
    "        sort_column=f\"centrality_{params}\",\n",
    "        nr_tiles=20,\n",
    "    )\n",
    "    ce.create_full_explorer()\n",
    "    df_summary, cluster_titles_sheets_dict = ce.full_return()\n",
    "\n",
    "    # save to excel\n",
    "    filepath = f\"../output/cluster-qualifications/cluster-explorer/FinalSelect/SingleSolExplorer_{params}.xlsx\"\n",
    "    NetworkAnalyzerUtils().clusters_excel_saver_with_hyperlinks(\n",
    "        filepath, df_summary, cluster_titles_sheets_dict\n",
    "    )\n",
    "    print(f\"Iterations: {i}\")\n",
    "    print(f\"Params: {params}\")\n",
    "    print(\"#\" * 50)"
   ]
  },
  {
   "cell_type": "code",
   "execution_count": 15,
   "metadata": {},
   "outputs": [],
   "source": [
    "p = \"../output/tables/descriptives/leiden_quality_vs_iterations.csv\"\n",
    "dfquality = pd.DataFrame(quality_values.items(), columns=[\"iterations\", \"quality\"])\n",
    "dfquality.to_csv(p, index=False)"
   ]
  },
  {
   "cell_type": "code",
   "execution_count": 16,
   "metadata": {},
   "outputs": [
    {
     "data": {
      "image/png": "[encoded data removed]",
      "text/plain": [
       "<Figure size 1000x600 with 1 Axes>"
      ]
     },
     "metadata": {},
     "output_type": "display_data"
    }
   ],
   "source": [
    "import matplotlib.pyplot as plt\n",
    "\n",
    "# Data Preparation (Assuming you already have quality_values and iterations)\n",
    "iterations = list(quality_values.keys())\n",
    "quality = list(quality_values.values())\n",
    "\n",
    "# Plotting with Enhanced Visuals\n",
    "plt.figure(figsize=(10, 6))  # Adjust figure size for better readability\n",
    "\n",
    "# Use scatter plot for discrete data points\n",
    "plt.scatter(\n",
    "    iterations, quality, marker=\"o\", color=\"skyblue\", label=\"Quality\"\n",
    ")  # Add labels for the legend\n",
    "\n",
    "# Add a line plot to visualize the trend\n",
    "plt.plot(\n",
    "    iterations, quality, color=\"lightcoral\", linestyle=\"-\", alpha=0.7\n",
    ")  # Line plot with transparency\n",
    "\n",
    "plt.xlabel(\"Iterations\", fontsize=12)\n",
    "plt.ylabel(\"Quality\", fontsize=12)\n",
    "plt.title(\"Quality over Iterations\", fontsize=14)\n",
    "\n",
    "# Improved Tick Labels and Gridlines\n",
    "plt.yticks(fontsize=10)\n",
    "plt.grid(axis=\"y\", linestyle=\"--\")  # Add subtle gridlines for better readability\n",
    "\n",
    "# Legend\n",
    "plt.legend()\n",
    "\n",
    "# Save Figure\n",
    "output_path = (\n",
    "    \"../output/figures/leiden_iterations_quality_plot_alpha0.3_k10_res0.002.png\"\n",
    ")\n",
    "plt.savefig(output_path, dpi=300)  # Save high-resolution figure\n",
    "\n",
    "plt.show()"
   ]
  },
  {
   "cell_type": "markdown",
   "metadata": {},
   "source": [
    "# Safe final partition with 200 iterations\n"
   ]
  },
  {
   "cell_type": "code",
   "execution_count": 17,
   "metadata": {},
   "outputs": [
    {
     "name": "stdout",
     "output_type": "stream",
     "text": [
      "Number of clusters: 150\n",
      "Quality: 352939.8211424463\n",
      "Iterations: 200\n",
      "Params: alpha0.3_k10_res0.002\n",
      "##################################################\n"
     ]
    }
   ],
   "source": [
    "params = \"alpha0.3_k10_res0.002\"\n",
    "iterations = 200\n",
    "quality_values = {}\n",
    "G = params_graph_dict[params.split(\"_res\")[0]]\n",
    "resolution = pd.to_numeric(params.split(\"res\")[1])\n",
    "pc = PartitionCreator(G, df)\n",
    "pc.create_partition_from_cmpvertexpartition(\n",
    "    n_iterations=iterations,\n",
    "    resolution_parameter=resolution,\n",
    "    verbose=True,\n",
    "    cluster_column_name=f\"cluster_{params}\",\n",
    "    centrality_column_name=f\"centrality_{params}\",\n",
    ")\n",
    "# save graphml\n",
    "pc.G.write_graphml(f\"../data/07-clustered-graphs/{params}.graphml\")\n",
    "path = f\"../data/06-clustered-df/{params}.pkl\"\n",
    "pc.df.to_pickle(path)\n",
    "#############################\n",
    "#############################\n",
    "ce = CommunityExplorer(\n",
    "    df=pc.df,\n",
    "    cluster_column=f\"cluster_{params}\",\n",
    "    sort_column=f\"centrality_{params}\",\n",
    "    nr_tiles=20,\n",
    ")\n",
    "ce.create_full_explorer()\n",
    "df_summary, cluster_titles_sheets_dict = ce.full_return()\n",
    "\n",
    "# save to excel\n",
    "filepath = f\"../output/cluster-qualifications/cluster-explorer/FinalSelect/DELFinalRun_i{iterations}_SingleSolExplorer_{params}.xlsx\"\n",
    "NetworkAnalyzerUtils().clusters_excel_saver_with_hyperlinks(\n",
    "    filepath, df_summary, cluster_titles_sheets_dict\n",
    ")\n",
    "filepath = f\"../output/cluster-qualifications/cluster-explorer/FinalSelect/SingleSolExplorer_{params}.xlsx\"\n",
    "NetworkAnalyzerUtils().clusters_excel_saver_with_hyperlinks(\n",
    "    filepath, df_summary, cluster_titles_sheets_dict\n",
    ")\n",
    "print(f\"Iterations: {iterations}\")\n",
    "print(f\"Params: {params}\")\n",
    "print(\"#\" * 50)"
   ]
  },
  {
   "cell_type": "code",
   "execution_count": 25,
   "metadata": {},
   "outputs": [
    {
     "data": {
      "text/plain": [
       "dict_keys([55, 66, 46, 11, 25, 52, 115, 49, 42, 2, 86, 60, 87, 0, 69, 76, 1, 39, 8, 54, 98, 43, 3, 44, 28, 127, 13, 47, 29, 32, 12, 79, 148, 40, 26, 110, 113, 5, 74, 63, 84, 59, 112, 83, 107, 16, 99, 56, 51, 57, 4, 96, 22, 88, 75, 23, 91, 77, 41, 134, 61, 6, 116, 71, 15, 31, 131, 64, 68, 17, 19, 65, 24, 67, 146, 50, 97, 92, 124, 135, 82, 20, 101, 89, 7, 85, 36, 70, 35, 114, 94, 27, 122, 48, 62, 58, 53, 100, 9, 143, 111, 34, 14, 132, 104, 80, 78, 125, 128, 118, 133, 108, 138, 109, 30, 73, 93, 37, 45, 102, 121, 105, 21, 126, 142, 72, 10, 38, 18, 81, 90, 123, 130, 117, 149, 103, 33, 129, 95, 139, 136, 147, 144, 137, 106, 145, 119, 141, 140, 120])"
      ]
     },
     "execution_count": 25,
     "metadata": {},
     "output_type": "execute_result"
    }
   ],
   "source": [
    "cluster_titles_sheets_dict.keys()"
   ]
  }
 ],
 "metadata": {
  "kernelspec": {
   "display_name": "condavenv",
   "language": "python",
   "name": "python3"
  },
  "language_info": {
   "codemirror_mode": {
    "name": "ipython",
    "version": 3
   },
   "file_extension": ".py",
   "mimetype": "text/x-python",
   "name": "python",
   "nbconvert_exporter": "python",
   "pygments_lexer": "ipython3",
   "version": "3.11.8"
  }
 },
 "nbformat": 4,
 "nbformat_minor": 2
}
