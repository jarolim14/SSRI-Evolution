{
 "cells": [
  {
   "cell_type": "markdown",
   "metadata": {
    "cellUniqueIdByVincent": "045c8"
   },
   "source": [
    "# Fetch Scopus Data\n",
    "\n",
    "This notebook retrieves publication data from the Scopus API for analysis of SSRI-related research papers.\n",
    "\n",
    "## Resources\n",
    "\n",
    "- [Scopus Search API](https://dev.elsevier.com/documentation/ScopusSearchAPI.wadl)\n",
    "- [Scopus Retrieval of more than 5,000 articles](https://dev.elsevier.com/support.html)\n",
    "- [Interactive Scopus API](https://dev.elsevier.com/scopus.html)\n",
    "- [API Settings (rate limits)](https://dev.elsevier.com/api_key_settings.html)\n",
    "\n",
    "## Prerequisites\n",
    "\n",
    "1. Valid Scopus API key(s)\n",
    "2. Cisco VPN connection\n",
    "3. Required Python packages:\n",
    "   - pandas\n",
    "   - requests\n",
    "   - tqdm\n",
    "   - urllib3\n",
    "\n",
    "## Overview\n",
    "\n",
    "The notebook performs the following steps:\n",
    "\n",
    "1. Connects to Scopus API using authentication key\n",
    "2. Fetches publication records in batches to handle rate limits\n",
    "3. Saves intermediate results to prevent data loss\n",
    "4. Processes and combines results into a pandas DataFrame\n",
    "\n",
    "Note: A valid Scopus API key and Cisco VPN connection are required.\n"
   ]
  },
  {
   "cell_type": "markdown",
   "metadata": {
    "cellUniqueIdByVincent": "a3fcf"
   },
   "source": [
    "## Setup and Configuration\n"
   ]
  },
  {
   "cell_type": "code",
   "execution_count": 1,
   "metadata": {
    "cellUniqueIdByVincent": "08605"
   },
   "outputs": [],
   "source": [
    "from dotenv import load_dotenv\n",
    "\n",
    "from src.data_fetching.ScopusApiKeyLoader import ScopusApiKeyLoader\n",
    "from src.data_fetching.ScopusArticleFetcher import ScopusArticleFetcher\n",
    "\n",
    "import os\n",
    "\n",
    "\n",
    "# Load environment variables from .env file\n",
    "load_dotenv()\n",
    "\n",
    "# Access environment variables\n",
    "python_path = os.getenv(\"PYTHONPATH\")\n",
    "data_dir = os.getenv(\"DATA_DIR\")\n",
    "src_dir = os.getenv(\"SRC_DIR\")\n",
    "output_dir = os.getenv(\"OUTPUT_DIR\")"
   ]
  },
  {
   "cell_type": "markdown",
   "metadata": {
    "cellUniqueIdByVincent": "15c31"
   },
   "source": [
    "## Load API Keys\n"
   ]
  },
  {
   "cell_type": "code",
   "execution_count": 3,
   "metadata": {
    "cellUniqueIdByVincent": "befec"
   },
   "outputs": [
    {
     "name": "stdout",
     "output_type": "stream",
     "text": [
      "dict_keys(['api_key_A', 'api_key_B', 'api_key_deb', 'api_key_haoxin', 'comment'])\n",
      "rate limits are 40,000 per week for api_key_A and 10,000 for every other key\n"
     ]
    }
   ],
   "source": [
    "# Get API keys using the loader\n",
    "api_keys = ScopusApiKeyLoader.get_api_keys()\n",
    "print(\"Available API keys:\")\n",
    "for name, info in api_keys.items():\n",
    "    print(f\"- {name}: {info['rate_limit']:,} requests per week ({info['description']})\")\n",
    "\n",
    "# Convert to list format if ScopusArticleFetcher requires it\n",
    "api_keys_list = list(api_keys.values())"
   ]
  },
  {
   "cell_type": "code",
   "execution_count": 5,
   "metadata": {
    "cellUniqueIdByVincent": "560c7"
   },
   "outputs": [
    {
     "name": "stdout",
     "output_type": "stream",
     "text": [
      "Custom Parameters:\n",
      "date: 1982-2030\n",
      "\n",
      "Total results found: 44444\n"
     ]
    },
    {
     "name": "stderr",
     "output_type": "stream",
     "text": [
      "Fetching results: 100%|██████████| 44444/44444 [33:49<00:00, 22.64articles/s]  WARNING: No entries found in search results\n",
      "Fetching results: 100%|██████████| 44444/44444 [33:49<00:00, 21.90articles/s]\n"
     ]
    },
    {
     "name": "stdout",
     "output_type": "stream",
     "text": [
      "\n",
      "Saved final results to ../data/01-raw/scopusnew/final_scopus_results_20250326_081230.csv\n",
      "Total articles fetched: 44444\n"
     ]
    }
   ],
   "source": [
    "# Custom query parameters (optional)\n",
    "custom_params = {\n",
    "    \"date\": \"1982-2030\",  # make sure everything is included\n",
    "}\n",
    "\n",
    "# Initialize fetcher with multiple API keys\n",
    "fetcher = ScopusArticleFetcher(\n",
    "    api_keys=api_keys, output_dir=data_dir + \"/01-raw/publications\"\n",
    ")\n",
    "\n",
    "# Print query parameters for verification\n",
    "print(\"Custom Parameters:\")\n",
    "for key, value in custom_params.items():\n",
    "    print(f\"{key}: {value}\")\n",
    "# Fetch results with custom parameters\n",
    "results_df = fetcher.fetch_results(saving_interval=250, query_params=custom_params)"
   ]
  },
  {
   "cell_type": "code",
   "execution_count": 6,
   "metadata": {
    "cellUniqueIdByVincent": "e89bb"
   },
   "outputs": [
    {
     "data": {
      "text/html": [
       "<div>\n",
       "<style scoped>\n",
       "    .dataframe tbody tr th:only-of-type {\n",
       "        vertical-align: middle;\n",
       "    }\n",
       "\n",
       "    .dataframe tbody tr th {\n",
       "        vertical-align: top;\n",
       "    }\n",
       "\n",
       "    .dataframe thead th {\n",
       "        text-align: right;\n",
       "    }\n",
       "</style>\n",
       "<table border=\"1\" class=\"dataframe\">\n",
       "  <thead>\n",
       "    <tr style=\"text-align: right;\">\n",
       "      <th></th>\n",
       "      <th>@_fa</th>\n",
       "      <th>link</th>\n",
       "      <th>prism:url</th>\n",
       "      <th>dc:identifier</th>\n",
       "      <th>eid</th>\n",
       "      <th>dc:title</th>\n",
       "      <th>dc:creator</th>\n",
       "      <th>prism:publicationName</th>\n",
       "      <th>prism:issn</th>\n",
       "      <th>prism:volume</th>\n",
       "      <th>...</th>\n",
       "      <th>openaccessFlag</th>\n",
       "      <th>prism:doi</th>\n",
       "      <th>pubmed-id</th>\n",
       "      <th>prism:eIssn</th>\n",
       "      <th>freetoread</th>\n",
       "      <th>freetoreadLabel</th>\n",
       "      <th>fund-acr</th>\n",
       "      <th>fund-sponsor</th>\n",
       "      <th>prism:isbn</th>\n",
       "      <th>article-number</th>\n",
       "    </tr>\n",
       "  </thead>\n",
       "  <tbody>\n",
       "    <tr>\n",
       "      <th>0</th>\n",
       "      <td>true</td>\n",
       "      <td>[{'@_fa': 'true', '@ref': 'self', '@href': 'ht...</td>\n",
       "      <td>https://api.elsevier.com/content/abstract/scop...</td>\n",
       "      <td>SCOPUS_ID:49049137192</td>\n",
       "      <td>2-s2.0-49049137192</td>\n",
       "      <td>The action of monoaminergic, cholinergic and g...</td>\n",
       "      <td>Lloyd K.</td>\n",
       "      <td>Advances in the Biosciences</td>\n",
       "      <td>00653446</td>\n",
       "      <td>40</td>\n",
       "      <td>...</td>\n",
       "      <td>False</td>\n",
       "      <td>NaN</td>\n",
       "      <td>NaN</td>\n",
       "      <td>NaN</td>\n",
       "      <td>NaN</td>\n",
       "      <td>NaN</td>\n",
       "      <td>NaN</td>\n",
       "      <td>NaN</td>\n",
       "      <td>NaN</td>\n",
       "      <td>NaN</td>\n",
       "    </tr>\n",
       "    <tr>\n",
       "      <th>1</th>\n",
       "      <td>true</td>\n",
       "      <td>[{'@_fa': 'true', '@ref': 'self', '@href': 'ht...</td>\n",
       "      <td>https://api.elsevier.com/content/abstract/scop...</td>\n",
       "      <td>SCOPUS_ID:4243303071</td>\n",
       "      <td>2-s2.0-4243303071</td>\n",
       "      <td>Failure of exogenous serotonin to inhibit the ...</td>\n",
       "      <td>Figueroa H.R.</td>\n",
       "      <td>General Pharmacology</td>\n",
       "      <td>03063623</td>\n",
       "      <td>13</td>\n",
       "      <td>...</td>\n",
       "      <td>False</td>\n",
       "      <td>10.1016/0306-3623(82)90072-6</td>\n",
       "      <td>7095394</td>\n",
       "      <td>NaN</td>\n",
       "      <td>NaN</td>\n",
       "      <td>NaN</td>\n",
       "      <td>NaN</td>\n",
       "      <td>NaN</td>\n",
       "      <td>NaN</td>\n",
       "      <td>NaN</td>\n",
       "    </tr>\n",
       "    <tr>\n",
       "      <th>2</th>\n",
       "      <td>true</td>\n",
       "      <td>[{'@_fa': 'true', '@ref': 'self', '@href': 'ht...</td>\n",
       "      <td>https://api.elsevier.com/content/abstract/scop...</td>\n",
       "      <td>SCOPUS_ID:0020468334</td>\n",
       "      <td>2-s2.0-0020468334</td>\n",
       "      <td>Citalopram. An introduction</td>\n",
       "      <td>Hyttel J.</td>\n",
       "      <td>Progress in Neuropsychopharmacology and Biolog...</td>\n",
       "      <td>02785846</td>\n",
       "      <td>6</td>\n",
       "      <td>...</td>\n",
       "      <td>False</td>\n",
       "      <td>10.1016/S0278-5846(82)80178-4</td>\n",
       "      <td>NaN</td>\n",
       "      <td>NaN</td>\n",
       "      <td>NaN</td>\n",
       "      <td>NaN</td>\n",
       "      <td>NaN</td>\n",
       "      <td>NaN</td>\n",
       "      <td>NaN</td>\n",
       "      <td>NaN</td>\n",
       "    </tr>\n",
       "    <tr>\n",
       "      <th>3</th>\n",
       "      <td>true</td>\n",
       "      <td>[{'@_fa': 'true', '@ref': 'self', '@href': 'ht...</td>\n",
       "      <td>https://api.elsevier.com/content/abstract/scop...</td>\n",
       "      <td>SCOPUS_ID:0020459436</td>\n",
       "      <td>2-s2.0-0020459436</td>\n",
       "      <td>A placebo controlled study of the cardiovascul...</td>\n",
       "      <td>Robinson J.</td>\n",
       "      <td>British Journal of Clinical Pharmacology</td>\n",
       "      <td>03065251</td>\n",
       "      <td>14</td>\n",
       "      <td>...</td>\n",
       "      <td>False</td>\n",
       "      <td>10.1111/j.1365-2125.1982.tb02040.x</td>\n",
       "      <td>6817771</td>\n",
       "      <td>13652125</td>\n",
       "      <td>{'value': [{'$': 'all'}, {'$': 'repository'}, ...</td>\n",
       "      <td>{'value': [{'$': 'All Open Access'}, {'$': 'Gr...</td>\n",
       "      <td>NaN</td>\n",
       "      <td>NaN</td>\n",
       "      <td>NaN</td>\n",
       "      <td>NaN</td>\n",
       "    </tr>\n",
       "    <tr>\n",
       "      <th>4</th>\n",
       "      <td>true</td>\n",
       "      <td>[{'@_fa': 'true', '@ref': 'self', '@href': 'ht...</td>\n",
       "      <td>https://api.elsevier.com/content/abstract/scop...</td>\n",
       "      <td>SCOPUS_ID:0020446870</td>\n",
       "      <td>2-s2.0-0020446870</td>\n",
       "      <td>Paroxetine, a potent selective long-acting inh...</td>\n",
       "      <td>Magnussen I.</td>\n",
       "      <td>Journal of Neural Transmission</td>\n",
       "      <td>03009564</td>\n",
       "      <td>55</td>\n",
       "      <td>...</td>\n",
       "      <td>False</td>\n",
       "      <td>10.1007/BF01276577</td>\n",
       "      <td>NaN</td>\n",
       "      <td>14351463</td>\n",
       "      <td>NaN</td>\n",
       "      <td>NaN</td>\n",
       "      <td>NaN</td>\n",
       "      <td>NaN</td>\n",
       "      <td>NaN</td>\n",
       "      <td>NaN</td>\n",
       "    </tr>\n",
       "  </tbody>\n",
       "</table>\n",
       "<p>5 rows × 37 columns</p>\n",
       "</div>"
      ],
      "text/plain": [
       "   @_fa                                               link  \\\n",
       "0  true  [{'@_fa': 'true', '@ref': 'self', '@href': 'ht...   \n",
       "1  true  [{'@_fa': 'true', '@ref': 'self', '@href': 'ht...   \n",
       "2  true  [{'@_fa': 'true', '@ref': 'self', '@href': 'ht...   \n",
       "3  true  [{'@_fa': 'true', '@ref': 'self', '@href': 'ht...   \n",
       "4  true  [{'@_fa': 'true', '@ref': 'self', '@href': 'ht...   \n",
       "\n",
       "                                           prism:url          dc:identifier  \\\n",
       "0  https://api.elsevier.com/content/abstract/scop...  SCOPUS_ID:49049137192   \n",
       "1  https://api.elsevier.com/content/abstract/scop...   SCOPUS_ID:4243303071   \n",
       "2  https://api.elsevier.com/content/abstract/scop...   SCOPUS_ID:0020468334   \n",
       "3  https://api.elsevier.com/content/abstract/scop...   SCOPUS_ID:0020459436   \n",
       "4  https://api.elsevier.com/content/abstract/scop...   SCOPUS_ID:0020446870   \n",
       "\n",
       "                  eid                                           dc:title  \\\n",
       "0  2-s2.0-49049137192  The action of monoaminergic, cholinergic and g...   \n",
       "1   2-s2.0-4243303071  Failure of exogenous serotonin to inhibit the ...   \n",
       "2   2-s2.0-0020468334                        Citalopram. An introduction   \n",
       "3   2-s2.0-0020459436  A placebo controlled study of the cardiovascul...   \n",
       "4   2-s2.0-0020446870  Paroxetine, a potent selective long-acting inh...   \n",
       "\n",
       "      dc:creator                              prism:publicationName  \\\n",
       "0       Lloyd K.                        Advances in the Biosciences   \n",
       "1  Figueroa H.R.                               General Pharmacology   \n",
       "2      Hyttel J.  Progress in Neuropsychopharmacology and Biolog...   \n",
       "3    Robinson J.           British Journal of Clinical Pharmacology   \n",
       "4   Magnussen I.                     Journal of Neural Transmission   \n",
       "\n",
       "  prism:issn prism:volume  ... openaccessFlag  \\\n",
       "0   00653446           40  ...          False   \n",
       "1   03063623           13  ...          False   \n",
       "2   02785846            6  ...          False   \n",
       "3   03065251           14  ...          False   \n",
       "4   03009564           55  ...          False   \n",
       "\n",
       "                            prism:doi pubmed-id prism:eIssn  \\\n",
       "0                                 NaN       NaN         NaN   \n",
       "1        10.1016/0306-3623(82)90072-6   7095394         NaN   \n",
       "2       10.1016/S0278-5846(82)80178-4       NaN         NaN   \n",
       "3  10.1111/j.1365-2125.1982.tb02040.x   6817771    13652125   \n",
       "4                  10.1007/BF01276577       NaN    14351463   \n",
       "\n",
       "                                          freetoread  \\\n",
       "0                                                NaN   \n",
       "1                                                NaN   \n",
       "2                                                NaN   \n",
       "3  {'value': [{'$': 'all'}, {'$': 'repository'}, ...   \n",
       "4                                                NaN   \n",
       "\n",
       "                                     freetoreadLabel fund-acr fund-sponsor  \\\n",
       "0                                                NaN      NaN          NaN   \n",
       "1                                                NaN      NaN          NaN   \n",
       "2                                                NaN      NaN          NaN   \n",
       "3  {'value': [{'$': 'All Open Access'}, {'$': 'Gr...      NaN          NaN   \n",
       "4                                                NaN      NaN          NaN   \n",
       "\n",
       "  prism:isbn article-number  \n",
       "0        NaN            NaN  \n",
       "1        NaN            NaN  \n",
       "2        NaN            NaN  \n",
       "3        NaN            NaN  \n",
       "4        NaN            NaN  \n",
       "\n",
       "[5 rows x 37 columns]"
      ]
     },
     "execution_count": 6,
     "metadata": {},
     "output_type": "execute_result"
    }
   ],
   "source": [
    "results_df.head(5)"
   ]
  },
  {
   "cell_type": "code",
   "execution_count": 7,
   "metadata": {
    "cellUniqueIdByVincent": "0c610"
   },
   "outputs": [
    {
     "data": {
      "text/plain": [
       "prism:coverDate\n",
       "1982      79\n",
       "1983      97\n",
       "1984     105\n",
       "1985     135\n",
       "1986     111\n",
       "1987     134\n",
       "1988     182\n",
       "1989     279\n",
       "1990     348\n",
       "1991     437\n",
       "1992     543\n",
       "1993     613\n",
       "1994     683\n",
       "1995     725\n",
       "1996     831\n",
       "1997     950\n",
       "1998     941\n",
       "1999    1012\n",
       "2000    1003\n",
       "2001    1044\n",
       "2002    1124\n",
       "2003    1130\n",
       "2004    1278\n",
       "2005    1251\n",
       "2006    1376\n",
       "2007    1356\n",
       "2008    1422\n",
       "2009    1370\n",
       "2010    1454\n",
       "2011    1424\n",
       "2012    1517\n",
       "2013    1522\n",
       "2014    1514\n",
       "2015    1638\n",
       "2016    1647\n",
       "2017    1458\n",
       "2018    1483\n",
       "2019    1486\n",
       "2020    1567\n",
       "2021    1737\n",
       "2022    1715\n",
       "2023    1585\n",
       "2024    1696\n",
       "2025     442\n",
       "Name: count, dtype: int64"
      ]
     },
     "execution_count": 7,
     "metadata": {},
     "output_type": "execute_result"
    }
   ],
   "source": [
    "import pandas as pd\n",
    "\n",
    "pd.to_datetime(results_df[\"prism:coverDate\"]).dt.year.value_counts().sort_index()"
   ]
  },
  {
   "cell_type": "code",
   "execution_count": null,
   "metadata": {
    "cellUniqueIdByVincent": "33944"
   },
   "outputs": [],
   "source": []
  }
 ],
 "metadata": {
  "language_info": {
   "name": "python"
  },
  "vincent": {
   "sessionId": "a1f00ce113711de30ef113e5_2025-06-26T13-45-36-383Z"
  }
 },
 "nbformat": 4,
 "nbformat_minor": 2
}
