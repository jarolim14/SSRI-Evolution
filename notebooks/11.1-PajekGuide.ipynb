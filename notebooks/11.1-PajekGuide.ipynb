{
 "cells": [
  {
   "cell_type": "markdown",
   "metadata": {
    "cellUniqueIdByVincent": "63cb9"
   },
   "source": [
    "# How to Move Forward with the File in Pajek to Get Main Path\n",
    "\n",
    "## Prerequisites\n",
    "\n",
    "- Pajek software installed\n",
    "- A computer that does not run on Apple Silicon (M chip)\n",
    "\n",
    "## Step-by-Step Process\n",
    "\n",
    "### 1. Open and Load the Network\n",
    "\n",
    "- Open Pajek\n",
    "- Load your network file into Pajek\n",
    "\n",
    "### 2. Create Traversal Weights\n",
    "\n",
    "- Navigate to: **Network → Acyclic Network → Create weighted network and Vector**\n",
    "- Select: **traversal weights → SPLC** (Search Path Link Count)\n",
    "\n",
    "### 3. Create the Main Path\n",
    "\n",
    "- Navigate to: **Network → Acyclic Network → create sub network → main path**\n",
    "- Choose: **local search → key route** (as recommended in Liu et al.)\n",
    "- Enter parameters:\n",
    "  - Tune alpha values to your liking\n",
    "  - Adjust other parameters as needed for your analysis\n",
    "\n",
    "### 4. Visualization\n",
    "\n",
    "- Draw the resulting network\n",
    "- Apply the Kamada-Kawai algorithm for optimal layout\n",
    "\n",
    "## Notes\n",
    "\n",
    "- The parameters can significantly affect your results - experiment with different settings\n",
    "- If you're analyzing citation networks, consider reviewing Liu et al. for best practices on parameter selection\n"
   ]
  }
 ],
 "metadata": {
  "vincent": {
   "sessionId": "25d88ffa9015dd4ed244d697_2025-06-26T14-12-20-754Z"
  }
 },
 "nbformat": 4,
 "nbformat_minor": 2
}
