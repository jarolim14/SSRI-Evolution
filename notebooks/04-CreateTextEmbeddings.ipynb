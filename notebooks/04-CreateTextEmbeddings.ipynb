{
 "cells": [
  {
   "cell_type": "markdown",
   "metadata": {},
   "source": [
    "# Text processor and text embeddings\n",
    "\n",
    "In this notebook, we first create a new column `title_abstract` and then use a huggingface model to create text embeddings for this column.\n",
    "\n",
    "This column is a concatenation of the `title` and `abstract` columns and processes the text in the follwing way:\n",
    "\n",
    "- remove phrases like `abstract` and `introduction` from the text\n",
    "- removes ending phrases like copyrights, version numbers of journals, journal names\n",
    "- merges the title and abstract columns with `. ` as a separator\n",
    "\n",
    "We then use specter2 to create text embeddings for this column.\n"
   ]
  },
  {
   "cell_type": "code",
   "execution_count": 7,
   "metadata": {},
   "outputs": [],
   "source": [
    "import pandas as pd\n",
    "from src.nlp.TextProcessor import TextProcessor"
   ]
  },
  {
   "cell_type": "markdown",
   "metadata": {},
   "source": [
    "# read in data and process text\n"
   ]
  },
  {
   "cell_type": "code",
   "execution_count": 9,
   "metadata": {},
   "outputs": [
    {
     "name": "stdout",
     "output_type": "stream",
     "text": [
      "NA dict saved to ../output/descriptive-stats-logs/na_log_text_cols.json\n",
      "cleaned text and removed start and ending statements\n",
      "cleaned text - embed me now :)\n",
      "Papers to embed: 36975\n"
     ]
    }
   ],
   "source": [
    "df = pd.read_pickle(\"../data/03-connected/scopus_cleaned_connected.pkl\")\n",
    "cols = [\"abstract\", \"title\"]\n",
    "file_path = \"../output/descriptive-stats-logs/na_log_text_cols.json\"\n",
    "tp = TextProcessor(df)\n",
    "tp.save_na_dict_to_json(cols, file_path)\n",
    "df = tp.clean_text_and_remove_start_and_ending_statements(\n",
    "    return_cleaned_text_separately=True\n",
    ")\n",
    "\n",
    "df.reset_index(drop=True, inplace=True)\n",
    "print(f\"Papers to embed: {len(df)}\")"
   ]
  },
  {
   "cell_type": "markdown",
   "metadata": {},
   "source": [
    "# Create Embeddings\n"
   ]
  },
  {
   "cell_type": "code",
   "execution_count": 10,
   "metadata": {},
   "outputs": [],
   "source": [
    "from src.nlp.EmbeddingCreator import PaperEmbeddingProcessor"
   ]
  },
  {
   "cell_type": "code",
   "execution_count": 11,
   "metadata": {},
   "outputs": [
    {
     "data": {
      "application/vnd.jupyter.widget-view+json": {
       "model_id": "146d627ad73247b286f971d4d960080e",
       "version_major": 2,
       "version_minor": 0
      },
      "text/plain": [
       "Fetching 4 files:   0%|          | 0/4 [00:00<?, ?it/s]"
      ]
     },
     "metadata": {},
     "output_type": "display_data"
    },
    {
     "name": "stderr",
     "output_type": "stream",
     "text": [
      "100%|██████████| 15/15 [4:45:51<00:00, 1143.43s/it]  \n"
     ]
    }
   ],
   "source": [
    "processor = PaperEmbeddingProcessor(\n",
    "    df=df,\n",
    "    model_name=\"allenai/specter2_base\",\n",
    "    adapter_name=\"specter2\",  # this is for \"proximity\"\n",
    "    save_dir=\"../data/04-embeddings/\",\n",
    "    batch_size=32,\n",
    "    chunk_size=2500,  # 2500\n",
    ")\n",
    "total_embeddings = processor.process_papers()\n",
    "processor.save_embeddings_with_data(total_embeddings)"
   ]
  }
 ],
 "metadata": {
  "kernelspec": {
   "display_name": "Python 3",
   "language": "python",
   "name": "python3"
  },
  "language_info": {
   "codemirror_mode": {
    "name": "ipython",
    "version": 3
   },
   "file_extension": ".py",
   "mimetype": "text/x-python",
   "name": "python",
   "nbconvert_exporter": "python",
   "pygments_lexer": "ipython3",
   "version": "3.11.6"
  }
 },
 "nbformat": 4,
 "nbformat_minor": 2
}
