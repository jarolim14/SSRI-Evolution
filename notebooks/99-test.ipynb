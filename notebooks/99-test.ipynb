{
 "cells": [
  {
   "cell_type": "markdown",
   "metadata": {},
   "source": [
    "# Testing with old data\n"
   ]
  },
  {
   "cell_type": "code",
   "execution_count": 1,
   "metadata": {},
   "outputs": [],
   "source": [
    "import networkx as nx\n",
    "import numpy as np\n",
    "import pandas as pd\n"
   ]
  },
  {
   "cell_type": "code",
   "execution_count": 2,
   "metadata": {},
   "outputs": [],
   "source": [
    "p = \"/Users/jlq293/Projects/Study-1-Bibliometrics/data/07-clustered-graphs/alpha0.3_k20_res0.005.graphml\"\n",
    "G = nx.read_graphml(p)\n",
    "\n",
    "clusters_to_keep = list(range(5, 15))\n",
    "G = G.subgraph([n for n, d in G.nodes(data=True) if d[\"cluster\"] in clusters_to_keep])\n",
    "#\n",
    "# p = \"/Users/jlq293/Projects/Study-1-Bibliometrics/data/07-clustered-graphs/SUBSETalpha0.3_k20_res0.005.graphml\"\n",
    "# nx.write_graphml(G, p)\n"
   ]
  },
  {
   "cell_type": "code",
   "execution_count": 4,
   "metadata": {},
   "outputs": [
    {
     "name": "stdout",
     "output_type": "stream",
     "text": [
      "Collecting pconfluent\n",
      "  Downloading pconfluent-0.4.tar.gz (40 kB)\n",
      "\u001b[2K     \u001b[90m━━━━━━━━━━━━━━━━━━━━━━━━━━━━━━━━━━━━━━━━\u001b[0m \u001b[32m40.8/40.8 kB\u001b[0m \u001b[31m1.0 MB/s\u001b[0m eta \u001b[36m0:00:00\u001b[0m\n",
      "\u001b[?25h  Preparing metadata (setup.py) ... \u001b[?25ldone\n",
      "\u001b[?25hRequirement already satisfied: numpy in /opt/homebrew/Caskroom/miniconda/base/envs/condavenv/lib/python3.11/site-packages (from pconfluent) (1.26.4)\n",
      "Collecting s_gd2 (from pconfluent)\n",
      "  Downloading s_gd2-1.8.1-cp311-cp311-macosx_10_9_universal2.whl.metadata (358 bytes)\n",
      "Downloading s_gd2-1.8.1-cp311-cp311-macosx_10_9_universal2.whl (58 kB)\n",
      "\u001b[2K   \u001b[90m━━━━━━━━━━━━━━━━━━━━━━━━━━━━━━━━━━━━━━━━\u001b[0m \u001b[32m58.1/58.1 kB\u001b[0m \u001b[31m2.5 MB/s\u001b[0m eta \u001b[36m0:00:00\u001b[0m\n",
      "\u001b[?25hBuilding wheels for collected packages: pconfluent\n",
      "  Building wheel for pconfluent (setup.py) ... \u001b[?25ldone\n",
      "\u001b[?25h  Created wheel for pconfluent: filename=pconfluent-0.4-cp311-cp311-macosx_11_0_arm64.whl size=21474 sha256=59d99114cbe2bd7a9efb44a9e41e46ec80e9ca87272cce343cabc0c8ad3509bd\n",
      "  Stored in directory: /Users/jlq293/Library/Caches/pip/wheels/98/36/c6/0171f5322dafee092784aa2e1074a11d305980d842dd3b094c\n",
      "Successfully built pconfluent\n",
      "Installing collected packages: s_gd2, pconfluent\n",
      "Successfully installed pconfluent-0.4 s_gd2-1.8.1\n"
     ]
    }
   ],
   "source": [
    "!pip install pconfluent\n"
   ]
  },
  {
   "cell_type": "code",
   "execution_count": 8,
   "metadata": {},
   "outputs": [],
   "source": [
    "import s_gd2\n"
   ]
  },
  {
   "cell_type": "code",
   "execution_count": 9,
   "metadata": {},
   "outputs": [],
   "source": [
    "import pconfluent\n",
    "\n",
    "I = [0, 0, 0, 1, 1, 1, 2, 2, 2]\n",
    "J = [3, 4, 5, 3, 4, 5, 3, 4, 5]\n",
    "Ir, Jr, Ip, Jp = pconfluent.find_power_graph(I, J)\n",
    "pconfluent.draw_confluent(Ir, Jr, Ip, Jp, filepath=\"K33.svg\")\n"
   ]
  },
  {
   "cell_type": "code",
   "execution_count": 11,
   "metadata": {},
   "outputs": [
    {
     "data": {
      "text/plain": [
       "(array([6, 6, 6, 7, 7, 7], dtype=int32),\n",
       " array([0, 2, 1, 4, 5, 3], dtype=int32),\n",
       " array([6], dtype=int32),\n",
       " array([7], dtype=int32))"
      ]
     },
     "execution_count": 11,
     "metadata": {},
     "output_type": "execute_result"
    }
   ],
   "source": [
    "pconfluent.find_power_graph(I, J, w_intersect=10, w_difference=1)\n"
   ]
  },
  {
   "cell_type": "code",
   "execution_count": 14,
   "metadata": {},
   "outputs": [],
   "source": [
    "edges = pd.read_csv(\n",
    "    \"/Users/jlq293/Downloads/Nature150/www.nature.com/www.nature.com/immersive/d41586-019-03165-4/dat/cociteEdges.csv\"\n",
    ")\n"
   ]
  },
  {
   "cell_type": "code",
   "execution_count": 23,
   "metadata": {},
   "outputs": [],
   "source": [
    "edges[\"path\"].isna().sum()\n",
    "\n",
    "\n",
    "edges_n = edges.dropna(subset=[\"path\"])\n"
   ]
  },
  {
   "cell_type": "code",
   "execution_count": 27,
   "metadata": {},
   "outputs": [],
   "source": [
    "xs = (\n",
    "    edges_n[\"path\"]\n",
    "    .str.split(\"|\")\n",
    "    .apply(lambda path: [coord.split(\";\")[0] for coord in path])\n",
    ")\n",
    "\n",
    "zs = (\n",
    "    edges_n[\"path\"]\n",
    "    .str.split(\"|\")\n",
    "    .apply(lambda path: [coord.split(\";\")[2] for coord in path])\n",
    ")\n"
   ]
  },
  {
   "cell_type": "code",
   "execution_count": 34,
   "metadata": {},
   "outputs": [],
   "source": [
    "vs = zs.apply(lambda x: len(x))\n"
   ]
  },
  {
   "cell_type": "code",
   "execution_count": 36,
   "metadata": {},
   "outputs": [
    {
     "data": {
      "text/plain": [
       "path\n",
       "2      23279\n",
       "15       427\n",
       "14       407\n",
       "11       387\n",
       "13       384\n",
       "       ...  \n",
       "112        1\n",
       "132        1\n",
       "117        1\n",
       "108        1\n",
       "121        1\n",
       "Name: count, Length: 114, dtype: int64"
      ]
     },
     "execution_count": 36,
     "metadata": {},
     "output_type": "execute_result"
    }
   ],
   "source": [
    "vs.value_counts()\n"
   ]
  },
  {
   "cell_type": "code",
   "execution_count": null,
   "metadata": {},
   "outputs": [
    {
     "data": {
      "text/plain": [
       "count    38610.000000\n",
       "mean       -85.763636\n",
       "std       1643.564775\n",
       "min      -4913.000000\n",
       "25%      -1619.000000\n",
       "50%        332.000000\n",
       "75%       1231.000000\n",
       "max       4638.000000\n",
       "Name: path, dtype: float64"
      ]
     },
     "execution_count": 21,
     "metadata": {},
     "output_type": "execute_result"
    }
   ],
   "source": [
    "xs.describe()\n"
   ]
  },
  {
   "cell_type": "code",
   "execution_count": 42,
   "metadata": {},
   "outputs": [
    {
     "data": {
      "text/plain": [
       "[((8.0, 1.0), 3193),\n",
       " ((6.0, 7.0), 3117),\n",
       " ((4.0, 24.0), 1768),\n",
       " ((2.0, 91.0), 1702),\n",
       " ((5.0, 64.0), 1626),\n",
       " ((92.0, 1.0), 1611),\n",
       " ((4.0, 72.0), 1594),\n",
       " ((27.0, 29.0), 1477),\n",
       " ((5.0, 12.0), 1434),\n",
       " ((29.0, 3.0), 1401)]"
      ]
     },
     "execution_count": 42,
     "metadata": {},
     "output_type": "execute_result"
    }
   ],
   "source": [
    "clusters_to_keep = list(range(5, 15))\n",
    "Gsub = G.subgraph(\n",
    "    [n for n, d in G.nodes(data=True) if d[\"cluster\"] in clusters_to_keep]\n",
    ")\n",
    "\n",
    "# count edges between clusters\n",
    "edges_between_clusters = {}\n",
    "\n",
    "for n1, n2, d in G.edges(data=True):\n",
    "    c1 = G.nodes[n1][\"cluster\"]\n",
    "    c2 = G.nodes[n2][\"cluster\"]\n",
    "    if c1 != c2:\n",
    "        if (c1, c2) not in edges_between_clusters:\n",
    "            edges_between_clusters[(c1, c2)] = 0\n",
    "        if (c2, c1) not in edges_between_clusters:\n",
    "            edges_between_clusters[(c2, c1)] = 0\n",
    "        edges_between_clusters[(c1, c2)] += 1\n",
    "        edges_between_clusters[(c2, c1)] += 1\n",
    "\n",
    "excl_edges_between_clusters = {}\n",
    "for (c1, c2), count in edges_between_clusters.items():\n",
    "    if (c2, c1) not in excl_edges_between_clusters:\n",
    "        excl_edges_between_clusters[(c1, c2)] = count\n",
    "\n",
    "\n",
    "# sort after number of edges\n",
    "excl_edges_between_clusters = sorted(\n",
    "    excl_edges_between_clusters.items(), key=lambda x: x[1], reverse=True\n",
    ")\n",
    "\n",
    "excl_edges_between_clusters[:20]\n"
   ]
  },
  {
   "cell_type": "code",
   "execution_count": 35,
   "metadata": {},
   "outputs": [],
   "source": [
    "excl_edges_between_clusters = {}\n",
    "\n",
    "for (c1, c2), count in edges_between_clusters.items():\n",
    "    # Check if the counts for both (c1, c2) and (c2, c1) exist in edges_between_clusters\n",
    "    if (c1, c2) in edges_between_clusters and (c2, c1) in edges_between_clusters:\n",
    "        # Retrieve the counts for both directions\n",
    "        c1_c2_count = edges_between_clusters[(c1, c2)]\n",
    "        c2_c1_count = edges_between_clusters[(c2, c1)]\n",
    "        # Sum the counts to get the total count of edges between the clusters\n",
    "        total_count = c1_c2_count + c2_c1_count\n",
    "        # Add the total count to excl_edges_between_clusters\n",
    "        excl_edges_between_clusters[(c1, c2)] = total_count\n"
   ]
  },
  {
   "cell_type": "code",
   "execution_count": 36,
   "metadata": {},
   "outputs": [
    {
     "name": "stdout",
     "output_type": "stream",
     "text": [
      "16168 13398\n"
     ]
    }
   ],
   "source": [
    "print(len(edges_between_clusters), len(excl_edges_between_clusters))\n"
   ]
  },
  {
   "cell_type": "code",
   "execution_count": 24,
   "metadata": {},
   "outputs": [
    {
     "data": {
      "text/plain": [
       "[((1.0, 8.0), 2253),\n",
       " ((6.0, 7.0), 1983),\n",
       " ((2.0, 91.0), 1180),\n",
       " ((7.0, 6.0), 1134),\n",
       " ((5.0, 64.0), 1131),\n",
       " ((29.0, 3.0), 1079),\n",
       " ((12.0, 5.0), 1076),\n",
       " ((27.0, 3.0), 1016),\n",
       " ((4.0, 24.0), 983),\n",
       " ((92.0, 1.0), 961)]"
      ]
     },
     "execution_count": 24,
     "metadata": {},
     "output_type": "execute_result"
    }
   ],
   "source": [
    "# sort after number of edges\n",
    "edges_between_clusters = sorted(\n",
    "    edges_between_clusters.items(), key=lambda x: x[1], reverse=True\n",
    ")\n",
    "\n",
    "edges_between_clusters[:10]\n"
   ]
  },
  {
   "cell_type": "code",
   "execution_count": 40,
   "metadata": {},
   "outputs": [
    {
     "data": {
      "text/plain": [
       "[((8.0, 1.0), 3193),\n",
       " ((6.0, 7.0), 3117),\n",
       " ((4.0, 24.0), 1768),\n",
       " ((2.0, 91.0), 1702),\n",
       " ((5.0, 64.0), 1626),\n",
       " ((92.0, 1.0), 1611),\n",
       " ((4.0, 72.0), 1594),\n",
       " ((27.0, 29.0), 1477),\n",
       " ((5.0, 12.0), 1434),\n",
       " ((29.0, 3.0), 1401)]"
      ]
     },
     "execution_count": 40,
     "metadata": {},
     "output_type": "execute_result"
    }
   ],
   "source": [
    "# sort after number of edges\n",
    "excl_edges_between_clusters = sorted(\n",
    "    excl_edges_between_clusters.items(), key=lambda x: x[1], reverse=True\n",
    ")\n",
    "\n",
    "excl_edges_between_clusters[:10]\n",
    "# build sanky diagram\n"
   ]
  },
  {
   "cell_type": "code",
   "execution_count": null,
   "metadata": {},
   "outputs": [],
   "source": []
  },
  {
   "cell_type": "code",
   "execution_count": null,
   "metadata": {},
   "outputs": [],
   "source": []
  },
  {
   "cell_type": "code",
   "execution_count": null,
   "metadata": {},
   "outputs": [],
   "source": []
  },
  {
   "cell_type": "code",
   "execution_count": 11,
   "metadata": {},
   "outputs": [
    {
     "name": "stdout",
     "output_type": "stream",
     "text": [
      "Nr of nodes: 0\n",
      "Nr of edges: 0\n"
     ]
    }
   ],
   "source": [
    "p = f\"/Users/jlq293/Downloads/Nature150/www.nature.com/www.nature.com/immersive/d41586-019-03165-4/dat/cociteEdges2.csv\"\n",
    "edges = pd.read_csv(p)\n",
    "p = \"/Users/jlq293/Downloads/Nature150/www.nature.com/www.nature.com/immersive/d41586-019-03165-4/dat/cociteNodes.csv\"\n",
    "nodes = pd.read_csv(p)\n",
    "\n",
    "print(f\"Nr of nodes: {len(nodes)}\")\n",
    "print(f\"Nr of edges: {len(edges)}\")\n"
   ]
  },
  {
   "cell_type": "code",
   "execution_count": 10,
   "metadata": {},
   "outputs": [
    {
     "data": {
      "text/plain": [
       "'-1834.0;529.0;66.0|-1663.6;555.5;58.3|-1489.9;579.1;51.9|-1313.1;595.4;47.0|-1135.0;598.9;43.9|-956.9;584.2;42.0|-778.4;548.8;40.9|-598.5;493.8;40.4|-418.0;424.2;40.2|-241.3;347.2;40.1|-76.7;271.0;40.0|63.9;204.2;40.0|166.7;154.9;40.0|219.8;129.5;40.0|217.1;131.1;40.0|160.5;159.0;40.0|57.6;210.2;40.0|-80.9;280.8;40.1|-243.3;367.4;40.3|-418.1;467.4;40.8|-595.1;578.8;41.8|-766.3;699.5;43.6|-925.8;825.8;46.6|-1068.4;951.1;50.9|-1190.4;1067.8;56.6|-1290.1;1168.6;63.5|-1369.2;1248.6;71.3|-1433.1;1304.1;79.6|-1489.6;1330.5;88.0|-1546.8;1321.2;96.3|-1610.9;1269.4;103.9|-1684.1;1172.1;110.8|-1765.1;1033.0;117.1|-1850.6;862.9;122.8|-1937.9;677.8;128.4|-1716.0;640.0;124.4'"
      ]
     },
     "execution_count": 10,
     "metadata": {},
     "output_type": "execute_result"
    }
   ],
   "source": [
    "edges[\"path\"][0]\n"
   ]
  },
  {
   "cell_type": "code",
   "execution_count": 8,
   "metadata": {},
   "outputs": [
    {
     "data": {
      "text/html": [
       "<div>\n",
       "<style scoped>\n",
       "    .dataframe tbody tr th:only-of-type {\n",
       "        vertical-align: middle;\n",
       "    }\n",
       "\n",
       "    .dataframe tbody tr th {\n",
       "        vertical-align: top;\n",
       "    }\n",
       "\n",
       "    .dataframe thead th {\n",
       "        text-align: right;\n",
       "    }\n",
       "</style>\n",
       "<table border=\"1\" class=\"dataframe\">\n",
       "  <thead>\n",
       "    <tr style=\"text-align: right;\">\n",
       "      <th></th>\n",
       "      <th>x</th>\n",
       "      <th>y</th>\n",
       "      <th>size</th>\n",
       "      <th>PubYear</th>\n",
       "      <th>HierCat</th>\n",
       "      <th>NatureID</th>\n",
       "      <th>Title</th>\n",
       "    </tr>\n",
       "  </thead>\n",
       "  <tbody>\n",
       "    <tr>\n",
       "      <th>0</th>\n",
       "      <td>-1247</td>\n",
       "      <td>1345</td>\n",
       "      <td>5.3</td>\n",
       "      <td>1900</td>\n",
       "      <td>1</td>\n",
       "      <td>062366b0</td>\n",
       "      <td>Atmospheric Electricity</td>\n",
       "    </tr>\n",
       "    <tr>\n",
       "      <th>1</th>\n",
       "      <td>-284</td>\n",
       "      <td>1083</td>\n",
       "      <td>4.6</td>\n",
       "      <td>1900</td>\n",
       "      <td>10</td>\n",
       "      <td>062340b0</td>\n",
       "      <td>The Conductivity produced in Gases by the Moti...</td>\n",
       "    </tr>\n",
       "    <tr>\n",
       "      <th>2</th>\n",
       "      <td>822</td>\n",
       "      <td>346</td>\n",
       "      <td>7.9</td>\n",
       "      <td>1900</td>\n",
       "      <td>1</td>\n",
       "      <td>062620e0</td>\n",
       "      <td>Albinism and Natural Selection</td>\n",
       "    </tr>\n",
       "    <tr>\n",
       "      <th>3</th>\n",
       "      <td>-1316</td>\n",
       "      <td>1279</td>\n",
       "      <td>4.6</td>\n",
       "      <td>1900</td>\n",
       "      <td>10</td>\n",
       "      <td>062149b0</td>\n",
       "      <td>Atmospheric Electricity</td>\n",
       "    </tr>\n",
       "    <tr>\n",
       "      <th>4</th>\n",
       "      <td>587</td>\n",
       "      <td>1598</td>\n",
       "      <td>4.0</td>\n",
       "      <td>1900</td>\n",
       "      <td>4</td>\n",
       "      <td>062523e0</td>\n",
       "      <td>Leaf Decay and Autumn Tints</td>\n",
       "    </tr>\n",
       "  </tbody>\n",
       "</table>\n",
       "</div>"
      ],
      "text/plain": [
       "      x     y  size  PubYear  HierCat  NatureID  \\\n",
       "0 -1247  1345   5.3     1900        1  062366b0   \n",
       "1  -284  1083   4.6     1900       10  062340b0   \n",
       "2   822   346   7.9     1900        1  062620e0   \n",
       "3 -1316  1279   4.6     1900       10  062149b0   \n",
       "4   587  1598   4.0     1900        4  062523e0   \n",
       "\n",
       "                                               Title  \n",
       "0                            Atmospheric Electricity  \n",
       "1  The Conductivity produced in Gases by the Moti...  \n",
       "2                     Albinism and Natural Selection  \n",
       "3                            Atmospheric Electricity  \n",
       "4                        Leaf Decay and Autumn Tints  "
      ]
     },
     "execution_count": 8,
     "metadata": {},
     "output_type": "execute_result"
    }
   ],
   "source": [
    "nodes.head()\n"
   ]
  },
  {
   "cell_type": "code",
   "execution_count": 3,
   "metadata": {},
   "outputs": [
    {
     "name": "stdout",
     "output_type": "stream",
     "text": [
      "Nr of nodes: 36975\n",
      "Nr of edges: 553370\n"
     ]
    }
   ],
   "source": [
    "p = \"/Users/jlq293/Projects/Study-1-Bibliometrics/data/07-clustered-graphs/alpha0.3_k10_res0.002.graphml\"\n",
    "G = nx.read_graphml(p)\n",
    "print(f\"Nr of nodes: {len(G.nodes)}\")\n",
    "print(f\"Nr of edges: {len(G.edges)}\")`\n"
   ]
  },
  {
   "cell_type": "code",
   "execution_count": 4,
   "metadata": {},
   "outputs": [
    {
     "name": "stdout",
     "output_type": "stream",
     "text": [
      "Nr of nodes: 40643\n",
      "Nr of edges: 899992\n"
     ]
    }
   ],
   "source": [
    "p = \"/Users/jlq293/Projects/Study-1-Bibliometrics/data/07-clustered-graphs/alpha0.3_k20_res0.005.graphml\"\n",
    "G = nx.read_graphml(p)\n",
    "print(f\"Nr of nodes: {len(G.nodes)}\")\n",
    "print(f\"Nr of edges: {len(G.edges)}\")\n"
   ]
  },
  {
   "cell_type": "code",
   "execution_count": 5,
   "metadata": {},
   "outputs": [
    {
     "name": "stdout",
     "output_type": "stream",
     "text": [
      "Nr of nodes: 40643\n",
      "Nr of edges: 360645\n"
     ]
    }
   ],
   "source": [
    "p = \"/Users/jlq293/Projects/Study-1-Bibliometrics/data/05-graphs/citation-graph/directed_citation_graph.graphml\"\n",
    "G = nx.read_graphml(p)\n",
    "print(f\"Nr of nodes: {len(G.nodes)}\")\n",
    "print(f\"Nr of edges: {len(G.edges)}\")\n"
   ]
  },
  {
   "cell_type": "code",
   "execution_count": 4,
   "metadata": {},
   "outputs": [],
   "source": [
    "np.random.seed(1)\n",
    "cats, n, m = 4, 80, 1000\n",
    "\n",
    "cnodes = pd.concat(\n",
    "    [\n",
    "        pd.DataFrame.from_records(\n",
    "            [(\"node\" + str(i + 100 * c), \"c\" + str(c)) for i in range(n)],\n",
    "            columns=[\"name\", \"cat\"],\n",
    "        )\n",
    "        for c in range(cats)\n",
    "    ],\n",
    "    ignore_index=True,\n",
    ")\n",
    "cnodes.cat = cnodes.cat.astype(\"category\")\n",
    "\n",
    "cedges = pd.concat(\n",
    "    [\n",
    "        pd.DataFrame(\n",
    "            np.random.randint(n * c, n * (c + 1), size=(m, 2)),\n",
    "            columns=[\"source\", \"target\"],\n",
    "        )\n",
    "        for c in range(cats)\n",
    "    ],\n",
    "    ignore_index=True,\n",
    ")\n"
   ]
  },
  {
   "cell_type": "code",
   "execution_count": 5,
   "metadata": {},
   "outputs": [
    {
     "data": {
      "text/html": [
       "<div>\n",
       "<style scoped>\n",
       "    .dataframe tbody tr th:only-of-type {\n",
       "        vertical-align: middle;\n",
       "    }\n",
       "\n",
       "    .dataframe tbody tr th {\n",
       "        vertical-align: top;\n",
       "    }\n",
       "\n",
       "    .dataframe thead th {\n",
       "        text-align: right;\n",
       "    }\n",
       "</style>\n",
       "<table border=\"1\" class=\"dataframe\">\n",
       "  <thead>\n",
       "    <tr style=\"text-align: right;\">\n",
       "      <th></th>\n",
       "      <th>name</th>\n",
       "      <th>cat</th>\n",
       "    </tr>\n",
       "  </thead>\n",
       "  <tbody>\n",
       "    <tr>\n",
       "      <th>0</th>\n",
       "      <td>node0</td>\n",
       "      <td>c0</td>\n",
       "    </tr>\n",
       "    <tr>\n",
       "      <th>1</th>\n",
       "      <td>node1</td>\n",
       "      <td>c0</td>\n",
       "    </tr>\n",
       "    <tr>\n",
       "      <th>2</th>\n",
       "      <td>node2</td>\n",
       "      <td>c0</td>\n",
       "    </tr>\n",
       "    <tr>\n",
       "      <th>3</th>\n",
       "      <td>node3</td>\n",
       "      <td>c0</td>\n",
       "    </tr>\n",
       "    <tr>\n",
       "      <th>4</th>\n",
       "      <td>node4</td>\n",
       "      <td>c0</td>\n",
       "    </tr>\n",
       "    <tr>\n",
       "      <th>...</th>\n",
       "      <td>...</td>\n",
       "      <td>...</td>\n",
       "    </tr>\n",
       "    <tr>\n",
       "      <th>315</th>\n",
       "      <td>node375</td>\n",
       "      <td>c3</td>\n",
       "    </tr>\n",
       "    <tr>\n",
       "      <th>316</th>\n",
       "      <td>node376</td>\n",
       "      <td>c3</td>\n",
       "    </tr>\n",
       "    <tr>\n",
       "      <th>317</th>\n",
       "      <td>node377</td>\n",
       "      <td>c3</td>\n",
       "    </tr>\n",
       "    <tr>\n",
       "      <th>318</th>\n",
       "      <td>node378</td>\n",
       "      <td>c3</td>\n",
       "    </tr>\n",
       "    <tr>\n",
       "      <th>319</th>\n",
       "      <td>node379</td>\n",
       "      <td>c3</td>\n",
       "    </tr>\n",
       "  </tbody>\n",
       "</table>\n",
       "<p>320 rows × 2 columns</p>\n",
       "</div>"
      ],
      "text/plain": [
       "        name cat\n",
       "0      node0  c0\n",
       "1      node1  c0\n",
       "2      node2  c0\n",
       "3      node3  c0\n",
       "4      node4  c0\n",
       "..       ...  ..\n",
       "315  node375  c3\n",
       "316  node376  c3\n",
       "317  node377  c3\n",
       "318  node378  c3\n",
       "319  node379  c3\n",
       "\n",
       "[320 rows x 2 columns]"
      ]
     },
     "execution_count": 5,
     "metadata": {},
     "output_type": "execute_result"
    }
   ],
   "source": [
    "cnodes\n"
   ]
  },
  {
   "cell_type": "code",
   "execution_count": 6,
   "metadata": {},
   "outputs": [
    {
     "data": {
      "text/html": [
       "<div>\n",
       "<style scoped>\n",
       "    .dataframe tbody tr th:only-of-type {\n",
       "        vertical-align: middle;\n",
       "    }\n",
       "\n",
       "    .dataframe tbody tr th {\n",
       "        vertical-align: top;\n",
       "    }\n",
       "\n",
       "    .dataframe thead th {\n",
       "        text-align: right;\n",
       "    }\n",
       "</style>\n",
       "<table border=\"1\" class=\"dataframe\">\n",
       "  <thead>\n",
       "    <tr style=\"text-align: right;\">\n",
       "      <th></th>\n",
       "      <th>source</th>\n",
       "      <th>target</th>\n",
       "    </tr>\n",
       "  </thead>\n",
       "  <tbody>\n",
       "    <tr>\n",
       "      <th>0</th>\n",
       "      <td>37</td>\n",
       "      <td>12</td>\n",
       "    </tr>\n",
       "    <tr>\n",
       "      <th>1</th>\n",
       "      <td>72</td>\n",
       "      <td>9</td>\n",
       "    </tr>\n",
       "    <tr>\n",
       "      <th>2</th>\n",
       "      <td>75</td>\n",
       "      <td>5</td>\n",
       "    </tr>\n",
       "    <tr>\n",
       "      <th>3</th>\n",
       "      <td>79</td>\n",
       "      <td>64</td>\n",
       "    </tr>\n",
       "    <tr>\n",
       "      <th>4</th>\n",
       "      <td>16</td>\n",
       "      <td>1</td>\n",
       "    </tr>\n",
       "    <tr>\n",
       "      <th>...</th>\n",
       "      <td>...</td>\n",
       "      <td>...</td>\n",
       "    </tr>\n",
       "    <tr>\n",
       "      <th>3995</th>\n",
       "      <td>264</td>\n",
       "      <td>307</td>\n",
       "    </tr>\n",
       "    <tr>\n",
       "      <th>3996</th>\n",
       "      <td>292</td>\n",
       "      <td>251</td>\n",
       "    </tr>\n",
       "    <tr>\n",
       "      <th>3997</th>\n",
       "      <td>256</td>\n",
       "      <td>309</td>\n",
       "    </tr>\n",
       "    <tr>\n",
       "      <th>3998</th>\n",
       "      <td>263</td>\n",
       "      <td>279</td>\n",
       "    </tr>\n",
       "    <tr>\n",
       "      <th>3999</th>\n",
       "      <td>277</td>\n",
       "      <td>274</td>\n",
       "    </tr>\n",
       "  </tbody>\n",
       "</table>\n",
       "<p>4000 rows × 2 columns</p>\n",
       "</div>"
      ],
      "text/plain": [
       "      source  target\n",
       "0         37      12\n",
       "1         72       9\n",
       "2         75       5\n",
       "3         79      64\n",
       "4         16       1\n",
       "...      ...     ...\n",
       "3995     264     307\n",
       "3996     292     251\n",
       "3997     256     309\n",
       "3998     263     279\n",
       "3999     277     274\n",
       "\n",
       "[4000 rows x 2 columns]"
      ]
     },
     "execution_count": 6,
     "metadata": {},
     "output_type": "execute_result"
    }
   ],
   "source": [
    "cedges\n"
   ]
  },
  {
   "cell_type": "code",
   "execution_count": 12,
   "metadata": {},
   "outputs": [],
   "source": [
    "p = \"../data/04-embeddings/df_with_specter2_embeddings.pkl\"\n",
    "df_emb = pd.read_pickle(p)\n",
    "pc = \"../data/02-clean/scopus_cleaned_subset.pkl\"\n",
    "\n",
    "df_cl = pd.read_pickle(pc)\n"
   ]
  },
  {
   "cell_type": "code",
   "execution_count": 13,
   "metadata": {},
   "outputs": [
    {
     "data": {
      "text/html": [
       "<div>\n",
       "<style scoped>\n",
       "    .dataframe tbody tr th:only-of-type {\n",
       "        vertical-align: middle;\n",
       "    }\n",
       "\n",
       "    .dataframe tbody tr th {\n",
       "        vertical-align: top;\n",
       "    }\n",
       "\n",
       "    .dataframe thead th {\n",
       "        text-align: right;\n",
       "    }\n",
       "</style>\n",
       "<table border=\"1\" class=\"dataframe\">\n",
       "  <thead>\n",
       "    <tr style=\"text-align: right;\">\n",
       "      <th></th>\n",
       "      <th>year</th>\n",
       "      <th>unique_auth_year</th>\n",
       "    </tr>\n",
       "  </thead>\n",
       "  <tbody>\n",
       "    <tr>\n",
       "      <th>0</th>\n",
       "      <td>1982</td>\n",
       "      <td>Bruni_1982</td>\n",
       "    </tr>\n",
       "    <tr>\n",
       "      <th>1</th>\n",
       "      <td>1982</td>\n",
       "      <td>Magnussen_1982_4</td>\n",
       "    </tr>\n",
       "    <tr>\n",
       "      <th>2</th>\n",
       "      <td>1982</td>\n",
       "      <td>Magnussen_1982_3</td>\n",
       "    </tr>\n",
       "    <tr>\n",
       "      <th>3</th>\n",
       "      <td>1982</td>\n",
       "      <td>Magnussen_1982_2</td>\n",
       "    </tr>\n",
       "    <tr>\n",
       "      <th>4</th>\n",
       "      <td>1982</td>\n",
       "      <td>Magnussen_1982</td>\n",
       "    </tr>\n",
       "    <tr>\n",
       "      <th>...</th>\n",
       "      <td>...</td>\n",
       "      <td>...</td>\n",
       "    </tr>\n",
       "    <tr>\n",
       "      <th>40638</th>\n",
       "      <td>2023</td>\n",
       "      <td>Manis_2023</td>\n",
       "    </tr>\n",
       "    <tr>\n",
       "      <th>40639</th>\n",
       "      <td>2023</td>\n",
       "      <td>Mandal_2023_2</td>\n",
       "    </tr>\n",
       "    <tr>\n",
       "      <th>40640</th>\n",
       "      <td>2023</td>\n",
       "      <td>Mandal_2023</td>\n",
       "    </tr>\n",
       "    <tr>\n",
       "      <th>40641</th>\n",
       "      <td>2023</td>\n",
       "      <td>TorresPinto_2023</td>\n",
       "    </tr>\n",
       "    <tr>\n",
       "      <th>40642</th>\n",
       "      <td>2023</td>\n",
       "      <td>NoAuth_2023_6</td>\n",
       "    </tr>\n",
       "  </tbody>\n",
       "</table>\n",
       "<p>40643 rows × 2 columns</p>\n",
       "</div>"
      ],
      "text/plain": [
       "       year  unique_auth_year\n",
       "0      1982        Bruni_1982\n",
       "1      1982  Magnussen_1982_4\n",
       "2      1982  Magnussen_1982_3\n",
       "3      1982  Magnussen_1982_2\n",
       "4      1982    Magnussen_1982\n",
       "...     ...               ...\n",
       "40638  2023        Manis_2023\n",
       "40639  2023     Mandal_2023_2\n",
       "40640  2023       Mandal_2023\n",
       "40641  2023  TorresPinto_2023\n",
       "40642  2023     NoAuth_2023_6\n",
       "\n",
       "[40643 rows x 2 columns]"
      ]
     },
     "execution_count": 13,
     "metadata": {},
     "output_type": "execute_result"
    }
   ],
   "source": [
    "df_cl[[\"year\", \"unique_auth_year\"]]\n"
   ]
  },
  {
   "cell_type": "code",
   "execution_count": 16,
   "metadata": {},
   "outputs": [],
   "source": [
    "eid_uan_dict = dict(zip(df_cl[\"eid\"], df_cl[\"unique_auth_year\"]))\n",
    "\n",
    "df_emb[\"unique_auth_year\"] = df_emb[\"eid\"].map(eid_uan_dict)\n",
    "\n",
    "# save to pickle\n",
    "df_emb.to_pickle(\"../data/04-embeddings/df_with_specter2_embeddings.pkl\")\n"
   ]
  },
  {
   "cell_type": "code",
   "execution_count": 15,
   "metadata": {},
   "outputs": [
    {
     "data": {
      "text/html": [
       "<div>\n",
       "<style scoped>\n",
       "    .dataframe tbody tr th:only-of-type {\n",
       "        vertical-align: middle;\n",
       "    }\n",
       "\n",
       "    .dataframe tbody tr th {\n",
       "        vertical-align: top;\n",
       "    }\n",
       "\n",
       "    .dataframe thead th {\n",
       "        text-align: right;\n",
       "    }\n",
       "</style>\n",
       "<table border=\"1\" class=\"dataframe\">\n",
       "  <thead>\n",
       "    <tr style=\"text-align: right;\">\n",
       "      <th></th>\n",
       "      <th>year</th>\n",
       "      <th>unique_auth_year</th>\n",
       "    </tr>\n",
       "  </thead>\n",
       "  <tbody>\n",
       "    <tr>\n",
       "      <th>0</th>\n",
       "      <td>1982</td>\n",
       "      <td>Ogren_1982</td>\n",
       "    </tr>\n",
       "    <tr>\n",
       "      <th>1</th>\n",
       "      <td>1982</td>\n",
       "      <td>Heym_1982</td>\n",
       "    </tr>\n",
       "    <tr>\n",
       "      <th>2</th>\n",
       "      <td>1982</td>\n",
       "      <td>Boeck_1982</td>\n",
       "    </tr>\n",
       "    <tr>\n",
       "      <th>3</th>\n",
       "      <td>1982</td>\n",
       "      <td>Yoffe_1982</td>\n",
       "    </tr>\n",
       "    <tr>\n",
       "      <th>4</th>\n",
       "      <td>1982</td>\n",
       "      <td>Martin_1982</td>\n",
       "    </tr>\n",
       "    <tr>\n",
       "      <th>...</th>\n",
       "      <td>...</td>\n",
       "      <td>...</td>\n",
       "    </tr>\n",
       "    <tr>\n",
       "      <th>40638</th>\n",
       "      <td>2023</td>\n",
       "      <td>Ong_2023</td>\n",
       "    </tr>\n",
       "    <tr>\n",
       "      <th>40639</th>\n",
       "      <td>2023</td>\n",
       "      <td>Gandhi_2023</td>\n",
       "    </tr>\n",
       "    <tr>\n",
       "      <th>40640</th>\n",
       "      <td>2023</td>\n",
       "      <td>Cottone_2023</td>\n",
       "    </tr>\n",
       "    <tr>\n",
       "      <th>40641</th>\n",
       "      <td>2023</td>\n",
       "      <td>Kuzin_2023_2</td>\n",
       "    </tr>\n",
       "    <tr>\n",
       "      <th>40642</th>\n",
       "      <td>2023</td>\n",
       "      <td>Talati_2023</td>\n",
       "    </tr>\n",
       "  </tbody>\n",
       "</table>\n",
       "<p>40643 rows × 2 columns</p>\n",
       "</div>"
      ],
      "text/plain": [
       "       year unique_auth_year\n",
       "0      1982       Ogren_1982\n",
       "1      1982        Heym_1982\n",
       "2      1982       Boeck_1982\n",
       "3      1982       Yoffe_1982\n",
       "4      1982      Martin_1982\n",
       "...     ...              ...\n",
       "40638  2023         Ong_2023\n",
       "40639  2023      Gandhi_2023\n",
       "40640  2023     Cottone_2023\n",
       "40641  2023     Kuzin_2023_2\n",
       "40642  2023      Talati_2023\n",
       "\n",
       "[40643 rows x 2 columns]"
      ]
     },
     "execution_count": 15,
     "metadata": {},
     "output_type": "execute_result"
    }
   ],
   "source": [
    "df_emb[[\"year\", \"unique_auth_year\"]]\n"
   ]
  },
  {
   "cell_type": "code",
   "execution_count": null,
   "metadata": {},
   "outputs": [],
   "source": []
  },
  {
   "cell_type": "code",
   "execution_count": null,
   "metadata": {},
   "outputs": [],
   "source": []
  },
  {
   "cell_type": "code",
   "execution_count": null,
   "metadata": {},
   "outputs": [],
   "source": []
  },
  {
   "cell_type": "code",
   "execution_count": null,
   "metadata": {},
   "outputs": [],
   "source": []
  },
  {
   "cell_type": "code",
   "execution_count": null,
   "metadata": {},
   "outputs": [],
   "source": []
  },
  {
   "cell_type": "code",
   "execution_count": null,
   "metadata": {},
   "outputs": [],
   "source": []
  },
  {
   "cell_type": "code",
   "execution_count": null,
   "metadata": {},
   "outputs": [],
   "source": []
  },
  {
   "cell_type": "code",
   "execution_count": null,
   "metadata": {},
   "outputs": [],
   "source": []
  },
  {
   "cell_type": "code",
   "execution_count": 8,
   "metadata": {},
   "outputs": [
    {
     "data": {
      "text/plain": [
       "(35153, 29)"
      ]
     },
     "execution_count": 8,
     "metadata": {},
     "output_type": "execute_result"
    }
   ],
   "source": [
    "df = pd.read_pickle(\n",
    "    \"/Users/jlq293/Projects/Study-1-Bibliometrics/data/03-interim/specter-embeddings/df_with_specter2_embeddings.pkl\"\n",
    ")\n",
    "df.shape\n"
   ]
  },
  {
   "cell_type": "code",
   "execution_count": 6,
   "metadata": {},
   "outputs": [
    {
     "data": {
      "text/plain": [
       "Index(['authors', 'title', 'year', 'cited_by', 'doi', 'link', 'abstract',\n",
       "       'author_keywords', 'index_keywords', 'references', 'pubmed_id',\n",
       "       'document_type', 'source', 'eid', 'journal', 'first_author', 'nameyear',\n",
       "       'unique_nameyear', 'title_abstract', 'paper_id', 'oc_refs', 'oc_dois',\n",
       "       'cr_refs', 'cr_dois', 'merged_dois', 'oc_nr_dois', 'cr_nr_dois',\n",
       "       'merged_nr_dois', 'specter2_embeddings'],\n",
       "      dtype='object')"
      ]
     },
     "execution_count": 6,
     "metadata": {},
     "output_type": "execute_result"
    }
   ],
   "source": [
    "df.columns\n"
   ]
  },
  {
   "cell_type": "markdown",
   "metadata": {},
   "source": [
    "# KNN\n"
   ]
  },
  {
   "cell_type": "code",
   "execution_count": 7,
   "metadata": {},
   "outputs": [],
   "source": [
    "import numpy as np\n",
    "from sklearn.neighbors import NearestNeighbors\n",
    "\n",
    "X = np.array(df[\"specter2_embeddings\"].tolist())\n",
    "\n",
    "# Number of neighbors\n",
    "k = 10\n",
    "\n",
    "# Initialize and fit the model\n",
    "# metric='cosine' will use cosine similarity\n",
    "knn = NearestNeighbors(n_neighbors=k, metric=\"cosine\")\n",
    "knn.fit(X)\n",
    "\n",
    "# Find k-nearest neighbors for each point\n",
    "distances, indices = knn.kneighbors(X)\n"
   ]
  },
  {
   "cell_type": "code",
   "execution_count": 18,
   "metadata": {},
   "outputs": [
    {
     "data": {
      "text/plain": [
       "array([[0.        , 0.04248786, 0.05208212, ..., 0.05725467, 0.06045407,\n",
       "        0.06075859],\n",
       "       [0.00000006, 0.0923996 , 0.09254497, ..., 0.09979272, 0.09983027,\n",
       "        0.0998652 ],\n",
       "       [0.00000018, 0.06835675, 0.06915379, ..., 0.07794213, 0.07838231,\n",
       "        0.07896042],\n",
       "       ...,\n",
       "       [0.0000003 , 0.04048586, 0.0540055 , ..., 0.06445777, 0.06479794,\n",
       "        0.06515932],\n",
       "       [0.        , 0.030954  , 0.03975713, ..., 0.04864299, 0.04924732,\n",
       "        0.05060935],\n",
       "       [0.        , 0.04249674, 0.04303199, ..., 0.0618006 , 0.06327552,\n",
       "        0.06334496]], dtype=float32)"
      ]
     },
     "execution_count": 18,
     "metadata": {},
     "output_type": "execute_result"
    }
   ],
   "source": [
    "# max similarity score\n",
    "len(distances)\n",
    "# turn off scientific notation\n",
    "np.set_printoptions(suppress=True)\n",
    "distances\n"
   ]
  },
  {
   "cell_type": "code",
   "execution_count": 13,
   "metadata": {},
   "outputs": [
    {
     "data": {
      "text/plain": [
       "array([[1.        , 0.95751214, 0.9479179 , ..., 0.9427453 , 0.9395459 ,\n",
       "        0.9392414 ],\n",
       "       [0.99999994, 0.9076004 , 0.907455  , ..., 0.9002073 , 0.90016973,\n",
       "        0.9001348 ],\n",
       "       [0.9999998 , 0.93164325, 0.9308462 , ..., 0.92205787, 0.9216177 ,\n",
       "        0.9210396 ],\n",
       "       ...,\n",
       "       [0.9999997 , 0.95951414, 0.9459945 , ..., 0.9355422 , 0.93520206,\n",
       "        0.9348407 ],\n",
       "       [1.        , 0.969046  , 0.96024287, ..., 0.951357  , 0.9507527 ,\n",
       "        0.94939065],\n",
       "       [1.        , 0.95750326, 0.956968  , ..., 0.9381994 , 0.9367245 ,\n",
       "        0.93665504]], dtype=float32)"
      ]
     },
     "execution_count": 13,
     "metadata": {},
     "output_type": "execute_result"
    }
   ],
   "source": [
    "similarities\n"
   ]
  },
  {
   "cell_type": "code",
   "execution_count": null,
   "metadata": {},
   "outputs": [],
   "source": [
    "# loop over each pair in similarty matrix and calcutee the edge weight by retrieving the cite score, multiply by alpha, and add to the\n"
   ]
  },
  {
   "cell_type": "code",
   "execution_count": null,
   "metadata": {},
   "outputs": [],
   "source": []
  },
  {
   "cell_type": "code",
   "execution_count": null,
   "metadata": {},
   "outputs": [],
   "source": []
  },
  {
   "cell_type": "code",
   "execution_count": 20,
   "metadata": {},
   "outputs": [
    {
     "name": "stdout",
     "output_type": "stream",
     "text": [
      "5\n",
      "10\n",
      "15\n"
     ]
    }
   ],
   "source": [
    "for i in range(5, 21, 5):\n",
    "    print(i)\n"
   ]
  },
  {
   "cell_type": "code",
   "execution_count": 21,
   "metadata": {},
   "outputs": [
    {
     "name": "stderr",
     "output_type": "stream",
     "text": [
      "/Users/jlq293/Projects/Study-1-Bibliometrics/.conda/lib/python3.11/site-packages/sklearn/cluster/_kmeans.py:870: FutureWarning: The default value of `n_init` will change from 10 to 'auto' in 1.4. Set the value of `n_init` explicitly to suppress the warning\n",
      "  warnings.warn(\n",
      "/Users/jlq293/Projects/Study-1-Bibliometrics/.conda/lib/python3.11/site-packages/sklearn/cluster/_kmeans.py:870: FutureWarning: The default value of `n_init` will change from 10 to 'auto' in 1.4. Set the value of `n_init` explicitly to suppress the warning\n",
      "  warnings.warn(\n",
      "/Users/jlq293/Projects/Study-1-Bibliometrics/.conda/lib/python3.11/site-packages/sklearn/cluster/_kmeans.py:870: FutureWarning: The default value of `n_init` will change from 10 to 'auto' in 1.4. Set the value of `n_init` explicitly to suppress the warning\n",
      "  warnings.warn(\n",
      "/Users/jlq293/Projects/Study-1-Bibliometrics/.conda/lib/python3.11/site-packages/sklearn/cluster/_kmeans.py:870: FutureWarning: The default value of `n_init` will change from 10 to 'auto' in 1.4. Set the value of `n_init` explicitly to suppress the warning\n",
      "  warnings.warn(\n"
     ]
    },
    {
     "data": {
      "image/png": "[encoded data removed]",
      "text/plain": [
       "<Figure size 800x400 with 1 Axes>"
      ]
     },
     "metadata": {},
     "output_type": "display_data"
    }
   ],
   "source": [
    "from sklearn.cluster import KMeans\n",
    "import matplotlib.pyplot as plt\n",
    "\n",
    "# Assuming you have a features matrix X\n",
    "\n",
    "# Range of k to try\n",
    "k_values = range(5, 21, 5)\n",
    "inertia = []\n",
    "\n",
    "for k in k_values:\n",
    "    model = KMeans(n_clusters=k, random_state=42, m)\n",
    "    model.fit(X)\n",
    "    inertia.append(model.inertia_)\n",
    "\n",
    "# Plotting the Elbow Method graph\n",
    "plt.figure(figsize=(8, 4))\n",
    "plt.plot(k_values, inertia, \"o-\")\n",
    "plt.xlabel(\"Number of clusters (k)\")\n",
    "plt.ylabel(\"Inertia\")\n",
    "plt.title(\"Elbow Method For Optimal k\")\n",
    "plt.show()\n"
   ]
  },
  {
   "cell_type": "code",
   "execution_count": null,
   "metadata": {},
   "outputs": [],
   "source": []
  },
  {
   "cell_type": "code",
   "execution_count": 3,
   "metadata": {},
   "outputs": [
    {
     "ename": "ValueError",
     "evalue": "n_components=3 must be between 1 and min(n_samples, n_features)=2 with svd_solver='randomized'",
     "output_type": "error",
     "traceback": [
      "\u001b[0;31m---------------------------------------------------------------------------\u001b[0m",
      "\u001b[0;31mValueError\u001b[0m                                Traceback (most recent call last)",
      "Cell \u001b[0;32mIn[3], line 19\u001b[0m\n\u001b[1;32m     17\u001b[0m \u001b[38;5;66;03m# Use t-SNE to project 2D coordinates to 3D\u001b[39;00m\n\u001b[1;32m     18\u001b[0m tsne \u001b[38;5;241m=\u001b[39m TSNE(n_components\u001b[38;5;241m=\u001b[39m\u001b[38;5;241m3\u001b[39m, random_state\u001b[38;5;241m=\u001b[39m\u001b[38;5;241m0\u001b[39m)\n\u001b[0;32m---> 19\u001b[0m pos_3d \u001b[38;5;241m=\u001b[39m \u001b[43mtsne\u001b[49m\u001b[38;5;241;43m.\u001b[39;49m\u001b[43mfit_transform\u001b[49m\u001b[43m(\u001b[49m\u001b[43mpos_array\u001b[49m\u001b[43m)\u001b[49m\n\u001b[1;32m     21\u001b[0m \u001b[38;5;66;03m# Create a dictionary of 3D positions\u001b[39;00m\n\u001b[1;32m     22\u001b[0m pos_3d_dict \u001b[38;5;241m=\u001b[39m {nodes[i]: pos_3d[i] \u001b[38;5;28;01mfor\u001b[39;00m i \u001b[38;5;129;01min\u001b[39;00m \u001b[38;5;28mrange\u001b[39m(\u001b[38;5;28mlen\u001b[39m(nodes))}\n",
      "File \u001b[0;32m/opt/homebrew/Caskroom/miniconda/base/envs/condavenv/lib/python3.11/site-packages/sklearn/utils/_set_output.py:313\u001b[0m, in \u001b[0;36m_wrap_method_output.<locals>.wrapped\u001b[0;34m(self, X, *args, **kwargs)\u001b[0m\n\u001b[1;32m    311\u001b[0m \u001b[38;5;129m@wraps\u001b[39m(f)\n\u001b[1;32m    312\u001b[0m \u001b[38;5;28;01mdef\u001b[39;00m \u001b[38;5;21mwrapped\u001b[39m(\u001b[38;5;28mself\u001b[39m, X, \u001b[38;5;241m*\u001b[39margs, \u001b[38;5;241m*\u001b[39m\u001b[38;5;241m*\u001b[39mkwargs):\n\u001b[0;32m--> 313\u001b[0m     data_to_wrap \u001b[38;5;241m=\u001b[39m \u001b[43mf\u001b[49m\u001b[43m(\u001b[49m\u001b[38;5;28;43mself\u001b[39;49m\u001b[43m,\u001b[49m\u001b[43m \u001b[49m\u001b[43mX\u001b[49m\u001b[43m,\u001b[49m\u001b[43m \u001b[49m\u001b[38;5;241;43m*\u001b[39;49m\u001b[43margs\u001b[49m\u001b[43m,\u001b[49m\u001b[43m \u001b[49m\u001b[38;5;241;43m*\u001b[39;49m\u001b[38;5;241;43m*\u001b[39;49m\u001b[43mkwargs\u001b[49m\u001b[43m)\u001b[49m\n\u001b[1;32m    314\u001b[0m     \u001b[38;5;28;01mif\u001b[39;00m \u001b[38;5;28misinstance\u001b[39m(data_to_wrap, \u001b[38;5;28mtuple\u001b[39m):\n\u001b[1;32m    315\u001b[0m         \u001b[38;5;66;03m# only wrap the first output for cross decomposition\u001b[39;00m\n\u001b[1;32m    316\u001b[0m         return_tuple \u001b[38;5;241m=\u001b[39m (\n\u001b[1;32m    317\u001b[0m             _wrap_data_with_container(method, data_to_wrap[\u001b[38;5;241m0\u001b[39m], X, \u001b[38;5;28mself\u001b[39m),\n\u001b[1;32m    318\u001b[0m             \u001b[38;5;241m*\u001b[39mdata_to_wrap[\u001b[38;5;241m1\u001b[39m:],\n\u001b[1;32m    319\u001b[0m         )\n",
      "File \u001b[0;32m/opt/homebrew/Caskroom/miniconda/base/envs/condavenv/lib/python3.11/site-packages/sklearn/base.py:1473\u001b[0m, in \u001b[0;36m_fit_context.<locals>.decorator.<locals>.wrapper\u001b[0;34m(estimator, *args, **kwargs)\u001b[0m\n\u001b[1;32m   1466\u001b[0m     estimator\u001b[38;5;241m.\u001b[39m_validate_params()\n\u001b[1;32m   1468\u001b[0m \u001b[38;5;28;01mwith\u001b[39;00m config_context(\n\u001b[1;32m   1469\u001b[0m     skip_parameter_validation\u001b[38;5;241m=\u001b[39m(\n\u001b[1;32m   1470\u001b[0m         prefer_skip_nested_validation \u001b[38;5;129;01mor\u001b[39;00m global_skip_validation\n\u001b[1;32m   1471\u001b[0m     )\n\u001b[1;32m   1472\u001b[0m ):\n\u001b[0;32m-> 1473\u001b[0m     \u001b[38;5;28;01mreturn\u001b[39;00m \u001b[43mfit_method\u001b[49m\u001b[43m(\u001b[49m\u001b[43mestimator\u001b[49m\u001b[43m,\u001b[49m\u001b[43m \u001b[49m\u001b[38;5;241;43m*\u001b[39;49m\u001b[43margs\u001b[49m\u001b[43m,\u001b[49m\u001b[43m \u001b[49m\u001b[38;5;241;43m*\u001b[39;49m\u001b[38;5;241;43m*\u001b[39;49m\u001b[43mkwargs\u001b[49m\u001b[43m)\u001b[49m\n",
      "File \u001b[0;32m/opt/homebrew/Caskroom/miniconda/base/envs/condavenv/lib/python3.11/site-packages/sklearn/manifold/_t_sne.py:1176\u001b[0m, in \u001b[0;36mTSNE.fit_transform\u001b[0;34m(self, X, y)\u001b[0m\n\u001b[1;32m   1173\u001b[0m     \u001b[38;5;28mself\u001b[39m\u001b[38;5;241m.\u001b[39m_max_iter \u001b[38;5;241m=\u001b[39m \u001b[38;5;28mself\u001b[39m\u001b[38;5;241m.\u001b[39mmax_iter\n\u001b[1;32m   1175\u001b[0m \u001b[38;5;28mself\u001b[39m\u001b[38;5;241m.\u001b[39m_check_params_vs_input(X)\n\u001b[0;32m-> 1176\u001b[0m embedding \u001b[38;5;241m=\u001b[39m \u001b[38;5;28;43mself\u001b[39;49m\u001b[38;5;241;43m.\u001b[39;49m\u001b[43m_fit\u001b[49m\u001b[43m(\u001b[49m\u001b[43mX\u001b[49m\u001b[43m)\u001b[49m\n\u001b[1;32m   1177\u001b[0m \u001b[38;5;28mself\u001b[39m\u001b[38;5;241m.\u001b[39membedding_ \u001b[38;5;241m=\u001b[39m embedding\n\u001b[1;32m   1178\u001b[0m \u001b[38;5;28;01mreturn\u001b[39;00m \u001b[38;5;28mself\u001b[39m\u001b[38;5;241m.\u001b[39membedding_\n",
      "File \u001b[0;32m/opt/homebrew/Caskroom/miniconda/base/envs/condavenv/lib/python3.11/site-packages/sklearn/manifold/_t_sne.py:1027\u001b[0m, in \u001b[0;36mTSNE._fit\u001b[0;34m(self, X, skip_num_points)\u001b[0m\n\u001b[1;32m   1025\u001b[0m \u001b[38;5;66;03m# Always output a numpy array, no matter what is configured globally\u001b[39;00m\n\u001b[1;32m   1026\u001b[0m pca\u001b[38;5;241m.\u001b[39mset_output(transform\u001b[38;5;241m=\u001b[39m\u001b[38;5;124m\"\u001b[39m\u001b[38;5;124mdefault\u001b[39m\u001b[38;5;124m\"\u001b[39m)\n\u001b[0;32m-> 1027\u001b[0m X_embedded \u001b[38;5;241m=\u001b[39m \u001b[43mpca\u001b[49m\u001b[38;5;241;43m.\u001b[39;49m\u001b[43mfit_transform\u001b[49m\u001b[43m(\u001b[49m\u001b[43mX\u001b[49m\u001b[43m)\u001b[49m\u001b[38;5;241m.\u001b[39mastype(np\u001b[38;5;241m.\u001b[39mfloat32, copy\u001b[38;5;241m=\u001b[39m\u001b[38;5;28;01mFalse\u001b[39;00m)\n\u001b[1;32m   1028\u001b[0m \u001b[38;5;66;03m# PCA is rescaled so that PC1 has standard deviation 1e-4 which is\u001b[39;00m\n\u001b[1;32m   1029\u001b[0m \u001b[38;5;66;03m# the default value for random initialization. See issue #18018.\u001b[39;00m\n\u001b[1;32m   1030\u001b[0m X_embedded \u001b[38;5;241m=\u001b[39m X_embedded \u001b[38;5;241m/\u001b[39m np\u001b[38;5;241m.\u001b[39mstd(X_embedded[:, \u001b[38;5;241m0\u001b[39m]) \u001b[38;5;241m*\u001b[39m \u001b[38;5;241m1e-4\u001b[39m\n",
      "File \u001b[0;32m/opt/homebrew/Caskroom/miniconda/base/envs/condavenv/lib/python3.11/site-packages/sklearn/utils/_set_output.py:313\u001b[0m, in \u001b[0;36m_wrap_method_output.<locals>.wrapped\u001b[0;34m(self, X, *args, **kwargs)\u001b[0m\n\u001b[1;32m    311\u001b[0m \u001b[38;5;129m@wraps\u001b[39m(f)\n\u001b[1;32m    312\u001b[0m \u001b[38;5;28;01mdef\u001b[39;00m \u001b[38;5;21mwrapped\u001b[39m(\u001b[38;5;28mself\u001b[39m, X, \u001b[38;5;241m*\u001b[39margs, \u001b[38;5;241m*\u001b[39m\u001b[38;5;241m*\u001b[39mkwargs):\n\u001b[0;32m--> 313\u001b[0m     data_to_wrap \u001b[38;5;241m=\u001b[39m \u001b[43mf\u001b[49m\u001b[43m(\u001b[49m\u001b[38;5;28;43mself\u001b[39;49m\u001b[43m,\u001b[49m\u001b[43m \u001b[49m\u001b[43mX\u001b[49m\u001b[43m,\u001b[49m\u001b[43m \u001b[49m\u001b[38;5;241;43m*\u001b[39;49m\u001b[43margs\u001b[49m\u001b[43m,\u001b[49m\u001b[43m \u001b[49m\u001b[38;5;241;43m*\u001b[39;49m\u001b[38;5;241;43m*\u001b[39;49m\u001b[43mkwargs\u001b[49m\u001b[43m)\u001b[49m\n\u001b[1;32m    314\u001b[0m     \u001b[38;5;28;01mif\u001b[39;00m \u001b[38;5;28misinstance\u001b[39m(data_to_wrap, \u001b[38;5;28mtuple\u001b[39m):\n\u001b[1;32m    315\u001b[0m         \u001b[38;5;66;03m# only wrap the first output for cross decomposition\u001b[39;00m\n\u001b[1;32m    316\u001b[0m         return_tuple \u001b[38;5;241m=\u001b[39m (\n\u001b[1;32m    317\u001b[0m             _wrap_data_with_container(method, data_to_wrap[\u001b[38;5;241m0\u001b[39m], X, \u001b[38;5;28mself\u001b[39m),\n\u001b[1;32m    318\u001b[0m             \u001b[38;5;241m*\u001b[39mdata_to_wrap[\u001b[38;5;241m1\u001b[39m:],\n\u001b[1;32m    319\u001b[0m         )\n",
      "File \u001b[0;32m/opt/homebrew/Caskroom/miniconda/base/envs/condavenv/lib/python3.11/site-packages/sklearn/base.py:1473\u001b[0m, in \u001b[0;36m_fit_context.<locals>.decorator.<locals>.wrapper\u001b[0;34m(estimator, *args, **kwargs)\u001b[0m\n\u001b[1;32m   1466\u001b[0m     estimator\u001b[38;5;241m.\u001b[39m_validate_params()\n\u001b[1;32m   1468\u001b[0m \u001b[38;5;28;01mwith\u001b[39;00m config_context(\n\u001b[1;32m   1469\u001b[0m     skip_parameter_validation\u001b[38;5;241m=\u001b[39m(\n\u001b[1;32m   1470\u001b[0m         prefer_skip_nested_validation \u001b[38;5;129;01mor\u001b[39;00m global_skip_validation\n\u001b[1;32m   1471\u001b[0m     )\n\u001b[1;32m   1472\u001b[0m ):\n\u001b[0;32m-> 1473\u001b[0m     \u001b[38;5;28;01mreturn\u001b[39;00m \u001b[43mfit_method\u001b[49m\u001b[43m(\u001b[49m\u001b[43mestimator\u001b[49m\u001b[43m,\u001b[49m\u001b[43m \u001b[49m\u001b[38;5;241;43m*\u001b[39;49m\u001b[43margs\u001b[49m\u001b[43m,\u001b[49m\u001b[43m \u001b[49m\u001b[38;5;241;43m*\u001b[39;49m\u001b[38;5;241;43m*\u001b[39;49m\u001b[43mkwargs\u001b[49m\u001b[43m)\u001b[49m\n",
      "File \u001b[0;32m/opt/homebrew/Caskroom/miniconda/base/envs/condavenv/lib/python3.11/site-packages/sklearn/decomposition/_pca.py:474\u001b[0m, in \u001b[0;36mPCA.fit_transform\u001b[0;34m(self, X, y)\u001b[0m\n\u001b[1;32m    451\u001b[0m \u001b[38;5;129m@_fit_context\u001b[39m(prefer_skip_nested_validation\u001b[38;5;241m=\u001b[39m\u001b[38;5;28;01mTrue\u001b[39;00m)\n\u001b[1;32m    452\u001b[0m \u001b[38;5;28;01mdef\u001b[39;00m \u001b[38;5;21mfit_transform\u001b[39m(\u001b[38;5;28mself\u001b[39m, X, y\u001b[38;5;241m=\u001b[39m\u001b[38;5;28;01mNone\u001b[39;00m):\n\u001b[1;32m    453\u001b[0m \u001b[38;5;250m    \u001b[39m\u001b[38;5;124;03m\"\"\"Fit the model with X and apply the dimensionality reduction on X.\u001b[39;00m\n\u001b[1;32m    454\u001b[0m \n\u001b[1;32m    455\u001b[0m \u001b[38;5;124;03m    Parameters\u001b[39;00m\n\u001b[0;32m   (...)\u001b[0m\n\u001b[1;32m    472\u001b[0m \u001b[38;5;124;03m    C-ordered array, use 'np.ascontiguousarray'.\u001b[39;00m\n\u001b[1;32m    473\u001b[0m \u001b[38;5;124;03m    \"\"\"\u001b[39;00m\n\u001b[0;32m--> 474\u001b[0m     U, S, _, X, x_is_centered, xp \u001b[38;5;241m=\u001b[39m \u001b[38;5;28;43mself\u001b[39;49m\u001b[38;5;241;43m.\u001b[39;49m\u001b[43m_fit\u001b[49m\u001b[43m(\u001b[49m\u001b[43mX\u001b[49m\u001b[43m)\u001b[49m\n\u001b[1;32m    475\u001b[0m     \u001b[38;5;28;01mif\u001b[39;00m U \u001b[38;5;129;01mis\u001b[39;00m \u001b[38;5;129;01mnot\u001b[39;00m \u001b[38;5;28;01mNone\u001b[39;00m:\n\u001b[1;32m    476\u001b[0m         U \u001b[38;5;241m=\u001b[39m U[:, : \u001b[38;5;28mself\u001b[39m\u001b[38;5;241m.\u001b[39mn_components_]\n",
      "File \u001b[0;32m/opt/homebrew/Caskroom/miniconda/base/envs/condavenv/lib/python3.11/site-packages/sklearn/decomposition/_pca.py:548\u001b[0m, in \u001b[0;36mPCA._fit\u001b[0;34m(self, X)\u001b[0m\n\u001b[1;32m    546\u001b[0m     \u001b[38;5;28;01mreturn\u001b[39;00m \u001b[38;5;28mself\u001b[39m\u001b[38;5;241m.\u001b[39m_fit_full(X, n_components, xp, is_array_api_compliant)\n\u001b[1;32m    547\u001b[0m \u001b[38;5;28;01melif\u001b[39;00m \u001b[38;5;28mself\u001b[39m\u001b[38;5;241m.\u001b[39m_fit_svd_solver \u001b[38;5;129;01min\u001b[39;00m [\u001b[38;5;124m\"\u001b[39m\u001b[38;5;124marpack\u001b[39m\u001b[38;5;124m\"\u001b[39m, \u001b[38;5;124m\"\u001b[39m\u001b[38;5;124mrandomized\u001b[39m\u001b[38;5;124m\"\u001b[39m]:\n\u001b[0;32m--> 548\u001b[0m     \u001b[38;5;28;01mreturn\u001b[39;00m \u001b[38;5;28;43mself\u001b[39;49m\u001b[38;5;241;43m.\u001b[39;49m\u001b[43m_fit_truncated\u001b[49m\u001b[43m(\u001b[49m\u001b[43mX\u001b[49m\u001b[43m,\u001b[49m\u001b[43m \u001b[49m\u001b[43mn_components\u001b[49m\u001b[43m,\u001b[49m\u001b[43m \u001b[49m\u001b[43mxp\u001b[49m\u001b[43m)\u001b[49m\n",
      "File \u001b[0;32m/opt/homebrew/Caskroom/miniconda/base/envs/condavenv/lib/python3.11/site-packages/sklearn/decomposition/_pca.py:723\u001b[0m, in \u001b[0;36mPCA._fit_truncated\u001b[0;34m(self, X, n_components, xp)\u001b[0m\n\u001b[1;32m    718\u001b[0m     \u001b[38;5;28;01mraise\u001b[39;00m \u001b[38;5;167;01mValueError\u001b[39;00m(\n\u001b[1;32m    719\u001b[0m         \u001b[38;5;124m\"\u001b[39m\u001b[38;5;124mn_components=\u001b[39m\u001b[38;5;132;01m%r\u001b[39;00m\u001b[38;5;124m cannot be a string with svd_solver=\u001b[39m\u001b[38;5;124m'\u001b[39m\u001b[38;5;132;01m%s\u001b[39;00m\u001b[38;5;124m'\u001b[39m\u001b[38;5;124m\"\u001b[39m\n\u001b[1;32m    720\u001b[0m         \u001b[38;5;241m%\u001b[39m (n_components, svd_solver)\n\u001b[1;32m    721\u001b[0m     )\n\u001b[1;32m    722\u001b[0m \u001b[38;5;28;01melif\u001b[39;00m \u001b[38;5;129;01mnot\u001b[39;00m \u001b[38;5;241m1\u001b[39m \u001b[38;5;241m<\u001b[39m\u001b[38;5;241m=\u001b[39m n_components \u001b[38;5;241m<\u001b[39m\u001b[38;5;241m=\u001b[39m \u001b[38;5;28mmin\u001b[39m(n_samples, n_features):\n\u001b[0;32m--> 723\u001b[0m     \u001b[38;5;28;01mraise\u001b[39;00m \u001b[38;5;167;01mValueError\u001b[39;00m(\n\u001b[1;32m    724\u001b[0m         \u001b[38;5;124m\"\u001b[39m\u001b[38;5;124mn_components=\u001b[39m\u001b[38;5;132;01m%r\u001b[39;00m\u001b[38;5;124m must be between 1 and \u001b[39m\u001b[38;5;124m\"\u001b[39m\n\u001b[1;32m    725\u001b[0m         \u001b[38;5;124m\"\u001b[39m\u001b[38;5;124mmin(n_samples, n_features)=\u001b[39m\u001b[38;5;132;01m%r\u001b[39;00m\u001b[38;5;124m with \u001b[39m\u001b[38;5;124m\"\u001b[39m\n\u001b[1;32m    726\u001b[0m         \u001b[38;5;124m\"\u001b[39m\u001b[38;5;124msvd_solver=\u001b[39m\u001b[38;5;124m'\u001b[39m\u001b[38;5;132;01m%s\u001b[39;00m\u001b[38;5;124m'\u001b[39m\u001b[38;5;124m\"\u001b[39m\n\u001b[1;32m    727\u001b[0m         \u001b[38;5;241m%\u001b[39m (n_components, \u001b[38;5;28mmin\u001b[39m(n_samples, n_features), svd_solver)\n\u001b[1;32m    728\u001b[0m     )\n\u001b[1;32m    729\u001b[0m \u001b[38;5;28;01melif\u001b[39;00m svd_solver \u001b[38;5;241m==\u001b[39m \u001b[38;5;124m\"\u001b[39m\u001b[38;5;124marpack\u001b[39m\u001b[38;5;124m\"\u001b[39m \u001b[38;5;129;01mand\u001b[39;00m n_components \u001b[38;5;241m==\u001b[39m \u001b[38;5;28mmin\u001b[39m(n_samples, n_features):\n\u001b[1;32m    730\u001b[0m     \u001b[38;5;28;01mraise\u001b[39;00m \u001b[38;5;167;01mValueError\u001b[39;00m(\n\u001b[1;32m    731\u001b[0m         \u001b[38;5;124m\"\u001b[39m\u001b[38;5;124mn_components=\u001b[39m\u001b[38;5;132;01m%r\u001b[39;00m\u001b[38;5;124m must be strictly less than \u001b[39m\u001b[38;5;124m\"\u001b[39m\n\u001b[1;32m    732\u001b[0m         \u001b[38;5;124m\"\u001b[39m\u001b[38;5;124mmin(n_samples, n_features)=\u001b[39m\u001b[38;5;132;01m%r\u001b[39;00m\u001b[38;5;124m with \u001b[39m\u001b[38;5;124m\"\u001b[39m\n\u001b[1;32m    733\u001b[0m         \u001b[38;5;124m\"\u001b[39m\u001b[38;5;124msvd_solver=\u001b[39m\u001b[38;5;124m'\u001b[39m\u001b[38;5;132;01m%s\u001b[39;00m\u001b[38;5;124m'\u001b[39m\u001b[38;5;124m\"\u001b[39m\n\u001b[1;32m    734\u001b[0m         \u001b[38;5;241m%\u001b[39m (n_components, \u001b[38;5;28mmin\u001b[39m(n_samples, n_features), svd_solver)\n\u001b[1;32m    735\u001b[0m     )\n",
      "\u001b[0;31mValueError\u001b[0m: n_components=3 must be between 1 and min(n_samples, n_features)=2 with svd_solver='randomized'"
     ]
    }
   ],
   "source": [
    "import networkx as nx\n",
    "import numpy as np\n",
    "import plotly.graph_objects as go\n",
    "from sklearn.manifold import TSNE\n",
    "\n",
    "# Create a sample graph\n",
    "G = nx.karate_club_graph()\n",
    "pos = nx.spring_layout(G)  # Initial 2D layout\n",
    "\n",
    "# Convert positions to a list of coordinates\n",
    "nodes = list(G.nodes())\n",
    "pos_list = [pos[node] for node in nodes]\n",
    "\n",
    "# Convert the list of coordinates to a NumPy array\n",
    "pos_array = np.array(pos_list)\n",
    "\n",
    "# Use t-SNE to project 2D coordinates to 3D\n",
    "tsne = TSNE(n_components=3, random_state=0)\n",
    "pos_3d = tsne.fit_transform(pos_array)\n",
    "\n",
    "# Create a dictionary of 3D positions\n",
    "pos_3d_dict = {nodes[i]: pos_3d[i] for i in range(len(nodes))}\n",
    "\n",
    "# Prepare edge traces\n",
    "edge_traces = []\n",
    "for edge in G.edges():\n",
    "    x_coords = [pos_3d_dict[edge[0]][0], pos_3d_dict[edge[1]][0], None]\n",
    "    y_coords = [pos_3d_dict[edge[0]][1], pos_3d_dict[edge[1]][1], None]\n",
    "    z_coords = [pos_3d_dict[edge[0]][2], pos_3d_dict[edge[1]][2], None]\n",
    "    edge_trace = go.Scatter3d(\n",
    "        x=x_coords,\n",
    "        y=y_coords,\n",
    "        z=z_coords,\n",
    "        line=dict(width=2, color=\"#888\"),\n",
    "        hoverinfo=\"none\",\n",
    "        mode=\"lines\",\n",
    "    )\n",
    "    edge_traces.append(edge_trace)\n",
    "\n",
    "# Prepare node traces\n",
    "node_trace = go.Scatter3d(\n",
    "    x=[pos_3d_dict[node][0] for node in G.nodes()],\n",
    "    y=[pos_3d_dict[node][1] for node in G.nodes()],\n",
    "    z=[pos_3d_dict[node][2] for node in G.nodes()],\n",
    "    mode=\"markers\",\n",
    "    marker=dict(\n",
    "        size=5,\n",
    "        color=[pos_3d_dict[node][2] for node in G.nodes()],\n",
    "        colorscale=\"Viridis\",\n",
    "        line=dict(width=0),\n",
    "    ),\n",
    "    text=[f\"Node {node}\" for node in G.nodes()],\n",
    "    hoverinfo=\"text\",\n",
    ")\n",
    "\n",
    "# Create the 3D plot\n",
    "fig = go.Figure(\n",
    "    data=edge_traces + [node_trace],\n",
    "    layout=go.Layout(\n",
    "        title=\"3D Network Graph with t-SNE Projection\",\n",
    "        showlegend=False,\n",
    "        scene=dict(\n",
    "            xaxis=dict(showgrid=False, zeroline=False),\n",
    "            yaxis=dict(showgrid=False, zeroline=False),\n",
    "            zaxis=dict(showgrid=False, zeroline=False),\n",
    "        ),\n",
    "    ),\n",
    ")\n",
    "\n",
    "fig.show()\n"
   ]
  },
  {
   "cell_type": "code",
   "execution_count": null,
   "metadata": {},
   "outputs": [],
   "source": []
  },
  {
   "cell_type": "code",
   "execution_count": null,
   "metadata": {},
   "outputs": [],
   "source": []
  },
  {
   "cell_type": "markdown",
   "metadata": {},
   "source": [
    "# INFOMAP\n"
   ]
  },
  {
   "cell_type": "code",
   "execution_count": 473,
   "metadata": {},
   "outputs": [],
   "source": [
    "from typing import Dict, List, Optional, Tuple\n",
    "\n",
    "import networkx as nx\n",
    "import pandas as pd\n",
    "from infomap import Infomap\n",
    "\n",
    "\n",
    "def load_graph(path: str) -> nx.Graph:\n",
    "    \"\"\"\n",
    "    Load a GraphML file and convert node labels to integers.\n",
    "\n",
    "    Args:\n",
    "        path (str): Path to the GraphML file.\n",
    "\n",
    "    Returns:\n",
    "        nx.Graph: Loaded graph with integer node labels.\n",
    "    \"\"\"\n",
    "    G = nx.read_graphml(path)\n",
    "    return nx.convert_node_labels_to_integers(G, label_attribute=\"old_label\")\n",
    "\n",
    "\n",
    "def run_infomap(\n",
    "    G: nx.Graph, num_trials: int = 5, markov_time: int = 2, use_weights: bool = True\n",
    ") -> Tuple[Infomap, Dict[int, int]]:\n",
    "    \"\"\"\n",
    "    Run Infomap community detection on a NetworkX graph.\n",
    "\n",
    "    Args:\n",
    "        G (nx.Graph): Input graph.\n",
    "        num_trials (int): Number of Infomap trials.\n",
    "        use_weights (bool): Whether to use edge weights.\n",
    "\n",
    "    Returns:\n",
    "        Tuple[Infomap, Dict[int, int]]: Infomap object and community assignments.\n",
    "    \"\"\"\n",
    "    print(\"Building Infomap network from a NetworkX graph...\")\n",
    "    im = Infomap(\n",
    "        two_level=False,\n",
    "        silent=False,\n",
    "        flow_model=\"undirected\",\n",
    "        # num_trials=num_trials,\n",
    "        # markov_time=2.5,\n",
    "        # variable_markov_time = True,\n",
    "        # preferred_number_of_modules=5,\n",
    "        # multilevel_resolution=0.7,\n",
    "        # entropy_corrected=True,\n",
    "        # entropy_correction_strength=6\n",
    "        seed=42,\n",
    "    )\n",
    "\n",
    "    if use_weights:\n",
    "        for u, v, data in G.edges(data=True):\n",
    "            weight = data.get(\"weight\", 1.0)  # Default to 1.0 if no weight is specified\n",
    "            im.add_link(u, v, weight)\n",
    "    else:\n",
    "        im.add_networkx_graph(G)\n",
    "\n",
    "    print(\"Find communities with Infomap...\")\n",
    "    im.run()\n",
    "    print(\n",
    "        f\"Found {im.num_top_modules} modules with codelength {im.codelength:.8f} bits\"\n",
    "    )\n",
    "\n",
    "    return im, im.get_modules()\n",
    "\n",
    "\n",
    "def process_hierarchy(path: List[int], max_depth: int) -> Tuple[Optional[int], ...]:\n",
    "    \"\"\"\n",
    "    Process the hierarchical path and return levels up to max_depth.\n",
    "\n",
    "    Args:\n",
    "        path (List[int]): Hierarchical path from Infomap.\n",
    "        max_depth (int): Maximum depth of the hierarchy.\n",
    "\n",
    "    Returns:\n",
    "        Tuple[Optional[int], ...]: Hierarchy levels up to max_depth.\n",
    "    \"\"\"\n",
    "    hier = [None] * max_depth\n",
    "    for i, level in enumerate(path[:max_depth]):\n",
    "        hier[i] = level\n",
    "    return tuple(hier)\n",
    "\n",
    "\n",
    "def create_dataframe(im: Infomap, G: nx.Graph) -> pd.DataFrame:\n",
    "    \"\"\"\n",
    "    Create a DataFrame with community information and node attributes.\n",
    "\n",
    "    Args:\n",
    "        im (Infomap): Infomap object after running community detection.\n",
    "        G (nx.Graph): Input graph.\n",
    "\n",
    "    Returns:\n",
    "        pd.DataFrame: DataFrame with community and node information.\n",
    "    \"\"\"\n",
    "    df = im.get_dataframe()\n",
    "    df[\"title\"] = [G.nodes[n][\"title\"] for n in df[\"node_id\"]]\n",
    "\n",
    "    # Determine the maximum depth of the hierarchy\n",
    "    max_depth = max(len(path) for path in df[\"path\"])\n",
    "\n",
    "    # Process hierarchies\n",
    "    hierarchy = [process_hierarchy(path, max_depth) for path in df[\"path\"]]\n",
    "\n",
    "    # Create hierarchy level columns dynamically\n",
    "    for i in range(max_depth):\n",
    "        df[f\"hier_{i+1}\"] = [h[i] for h in hierarchy]\n",
    "\n",
    "    return df\n",
    "\n",
    "\n",
    "def main(graphml_path: str, use_weights: bool = True) -> pd.DataFrame:\n",
    "    \"\"\"\n",
    "    Main function to run the Infomap community detection pipeline.\n",
    "\n",
    "    Args:\n",
    "        graphml_path (str): Path to the input GraphML file.\n",
    "        use_weights (bool): Whether to use edge weights in community detection.\n",
    "\n",
    "    Returns:\n",
    "        pd.DataFrame: Resulting DataFrame with community information.\n",
    "    \"\"\"\n",
    "    G = load_graph(graphml_path)\n",
    "    im, communities = run_infomap(G, use_weights=use_weights)\n",
    "    nx.set_node_attributes(G, communities, \"community\")\n",
    "    return create_dataframe(im, G)\n",
    "\n",
    "\n",
    "# if __name__ == \"__main__\":\n",
    "#    graphml_path = \"/Users/jlq293/Projects/Study-1-Bibliometrics/data/05-graphs/weighted-knn-citation-graph/weighted_alpha0.3_k10_knn_citation.graphml\"\n",
    "#    result_df = main(graphml_path, use_weights=True)\n",
    "#    print(result_df[\"hier_1\"].value_counts())\n"
   ]
  },
  {
   "cell_type": "code",
   "execution_count": 474,
   "metadata": {},
   "outputs": [
    {
     "name": "stdout",
     "output_type": "stream",
     "text": [
      "Building Infomap network from a NetworkX graph...\n",
      "Find communities with Infomap...\n",
      "Found 9 modules with codelength 11.35450495 bits\n",
      "=======================================================\n",
      "  Infomap v2.8.0 starts at 2024-10-02 11:02:55\n",
      "  -> Input network: \n",
      "  -> No file output!\n",
      "  -> Configuration: flow-model = undirected\n",
      "                    seed = 42\n",
      "=======================================================\n",
      "  -> Ordinary network input, using the Map Equation for first order network flows\n",
      "Calculating global network flow using flow model 'undirected'... \n",
      "  -> Using undirected links.\n",
      "  => Sum node flow: 1.000000000, sum link flow: 1.000000000\n",
      "Build internal network with 40643 nodes and 602779 links...\n",
      "  -> One-level codelength: 15.056827412\n",
      "\n",
      "================================================\n",
      "Trial 1/1 starting at 2024-10-02 11:02:55\n",
      "================================================\n",
      "Two-level compression: 21.87% 2.52% 0.014652799% 0.030758763% 0.002199230% 0.002266713% \n",
      "Partitioned to codelength 2.929553429 + 8.532358631 = 11.46191206 in 473 modules.\n",
      "Super-level compression: 0.114982122% to codelength 11.44873291 in 9 top modules.\n",
      "\n",
      "Recursive sub-structure compression: 17.365467656% 0.715240632% 0.000000000% . Found 4 levels with codelength 11.35450495\n",
      "\n",
      "=> Trial 1/1 finished in 4.964270708s with codelength 11.354504953\n",
      "\n",
      "\n",
      "================================================\n",
      "Summary after 1 trial\n",
      "================================================\n",
      "Best end modular solution in 4 levels:\n",
      "Per level number of modules:         [          9,         655,         181,           0] (sum: 845)\n",
      "Per level number of leaf nodes:      [          0,           0,       34441,        6202] (sum: 40643)\n",
      "Per level average child degree:      [          9,     72.7778,      52.858,     34.2652] (average: 50.3836)\n",
      "Per level codelength for modules:    [0.280693234, 3.015429420, 0.340519286, 0.000000000] (sum: 3.636641939)\n",
      "Per level codelength for leaf nodes: [0.000000000, 0.000000000, 6.624720532, 1.093142482] (sum: 7.717863014)\n",
      "Per level codelength total:          [0.280693234, 3.015429420, 6.965239817, 1.093142482] (sum: 11.354504953)\n",
      "\n",
      "===================================================\n",
      "  Infomap ends at 2024-10-02 11:03:00\n",
      "  (Elapsed time: 5.354214959s)\n",
      "===================================================\n",
      "Index(['path', 'flow', 'name', 'node_id', 'title', 'hier_1', 'hier_2',\n",
      "       'hier_3', 'hier_4'],\n",
      "      dtype='object')\n"
     ]
    }
   ],
   "source": [
    "G = load_graph(graphml_path)\n",
    "im, communities = run_infomap(G, use_weights=True)\n",
    "nx.set_node_attributes(G, communities, \"community\")\n",
    "result_df = create_dataframe(im, G)\n",
    "\n",
    "print(result_df.columns)\n"
   ]
  },
  {
   "cell_type": "code",
   "execution_count": 406,
   "metadata": {},
   "outputs": [
    {
     "data": {
      "text/plain": [
       "hier_1\n",
       "1    21146\n",
       "2    10163\n",
       "3     3415\n",
       "4     1960\n",
       "5     1137\n",
       "6     1064\n",
       "7      984\n",
       "8      436\n",
       "9      338\n",
       "Name: count, dtype: int64"
      ]
     },
     "execution_count": 406,
     "metadata": {},
     "output_type": "execute_result"
    }
   ],
   "source": [
    "result_df[\"hier_1\"].value_counts(dropna=False)\n"
   ]
  },
  {
   "cell_type": "code",
   "execution_count": 425,
   "metadata": {},
   "outputs": [
    {
     "name": "stdout",
     "output_type": "stream",
     "text": [
      "270 294\n"
     ]
    }
   ],
   "source": [
    "new_vc = {}\n",
    "for i, n in vc.items():\n",
    "    if n < 10:\n",
    "        break\n",
    "    else:\n",
    "        new_vc[i] = n\n",
    "\n",
    "print(len(new_vc), len(vc))\n"
   ]
  },
  {
   "cell_type": "code",
   "execution_count": 422,
   "metadata": {},
   "outputs": [
    {
     "data": {
      "text/plain": [
       "{1: 760,\n",
       " 2: 747,\n",
       " 3: 461,\n",
       " 4: 394,\n",
       " 6: 384,\n",
       " 7: 380,\n",
       " 5: 378,\n",
       " 8: 370,\n",
       " 9: 331,\n",
       " 12: 330,\n",
       " 10: 315,\n",
       " 24: 269,\n",
       " 23: 257,\n",
       " 20: 249,\n",
       " 13: 247,\n",
       " 16: 243,\n",
       " 17: 243,\n",
       " 19: 242,\n",
       " 14: 241,\n",
       " 11: 233,\n",
       " 28: 231,\n",
       " 29: 229,\n",
       " 15: 229,\n",
       " 26: 226,\n",
       " 41: 223,\n",
       " 21: 221,\n",
       " 25: 215,\n",
       " 22: 213,\n",
       " 35: 203,\n",
       " 37: 196,\n",
       " 36: 193,\n",
       " 34: 188,\n",
       " 18: 186,\n",
       " 27: 185,\n",
       " 31: 184,\n",
       " 33: 173,\n",
       " 45: 159,\n",
       " 40: 157,\n",
       " 43: 157,\n",
       " 50: 149,\n",
       " 32: 145,\n",
       " 30: 145,\n",
       " 47: 141,\n",
       " 38: 139,\n",
       " 49: 135,\n",
       " 42: 132,\n",
       " 48: 127,\n",
       " 51: 120,\n",
       " 53: 119,\n",
       " 55: 118,\n",
       " 60: 117,\n",
       " 54: 116,\n",
       " 44: 111,\n",
       " 58: 109,\n",
       " 57: 104,\n",
       " 65: 96,\n",
       " 67: 95,\n",
       " 63: 93,\n",
       " 64: 93,\n",
       " 69: 91,\n",
       " 66: 91,\n",
       " 59: 90,\n",
       " 56: 89,\n",
       " 61: 88,\n",
       " 78: 83,\n",
       " 83: 82,\n",
       " 70: 82,\n",
       " 77: 82,\n",
       " 79: 81,\n",
       " 62: 80,\n",
       " 68: 80,\n",
       " 73: 80,\n",
       " 75: 79,\n",
       " 39: 79,\n",
       " 86: 79,\n",
       " 92: 78,\n",
       " 80: 77,\n",
       " 46: 77,\n",
       " 82: 76,\n",
       " 84: 76,\n",
       " 85: 74,\n",
       " 111: 73,\n",
       " 96: 72,\n",
       " 72: 71,\n",
       " 74: 71,\n",
       " 89: 70,\n",
       " 71: 70,\n",
       " 52: 69,\n",
       " 99: 68,\n",
       " 95: 68,\n",
       " 88: 67,\n",
       " 104: 67,\n",
       " 94: 67,\n",
       " 102: 66,\n",
       " 91: 66,\n",
       " 81: 66,\n",
       " 107: 61,\n",
       " 100: 61,\n",
       " 105: 61,\n",
       " 108: 60,\n",
       " 101: 60,\n",
       " 109: 59,\n",
       " 103: 59,\n",
       " 98: 58,\n",
       " 121: 58,\n",
       " 110: 57,\n",
       " 106: 57,\n",
       " 132: 56,\n",
       " 127: 55,\n",
       " 116: 55,\n",
       " 87: 54,\n",
       " 126: 54,\n",
       " 120: 53,\n",
       " 76: 53,\n",
       " 97: 52,\n",
       " 117: 52,\n",
       " 124: 51,\n",
       " 131: 51,\n",
       " 114: 51,\n",
       " 125: 50,\n",
       " 136: 49,\n",
       " 122: 48,\n",
       " 123: 48,\n",
       " 135: 47,\n",
       " 130: 46,\n",
       " 93: 45,\n",
       " 112: 45,\n",
       " 90: 45,\n",
       " 128: 44,\n",
       " 134: 43,\n",
       " 143: 43,\n",
       " 140: 43,\n",
       " 137: 42,\n",
       " 113: 42,\n",
       " 118: 39,\n",
       " 119: 39,\n",
       " 147: 38,\n",
       " 153: 38,\n",
       " 139: 37,\n",
       " 142: 37,\n",
       " 150: 37,\n",
       " 164: 35,\n",
       " 151: 35,\n",
       " 144: 35,\n",
       " 160: 35,\n",
       " 141: 34,\n",
       " 154: 33,\n",
       " 182: 33,\n",
       " 138: 32,\n",
       " 167: 32,\n",
       " 158: 32,\n",
       " 129: 32,\n",
       " 156: 31,\n",
       " 173: 31,\n",
       " 148: 31,\n",
       " 149: 31,\n",
       " 155: 30,\n",
       " 145: 30,\n",
       " 187: 30,\n",
       " 174: 30,\n",
       " 168: 30,\n",
       " 183: 30,\n",
       " 161: 29,\n",
       " 159: 29,\n",
       " 152: 28,\n",
       " 190: 28,\n",
       " 166: 28,\n",
       " 185: 28,\n",
       " 181: 28,\n",
       " 199: 28,\n",
       " 176: 27,\n",
       " 186: 27,\n",
       " 180: 27,\n",
       " 179: 27,\n",
       " 178: 27,\n",
       " 133: 27,\n",
       " 171: 27,\n",
       " 170: 27,\n",
       " 169: 27,\n",
       " 175: 26,\n",
       " 191: 26,\n",
       " 189: 26,\n",
       " 146: 26,\n",
       " 192: 26,\n",
       " 157: 26,\n",
       " 172: 26,\n",
       " 162: 25,\n",
       " 188: 25,\n",
       " 200: 25,\n",
       " 193: 25,\n",
       " 194: 24,\n",
       " 222: 23,\n",
       " 163: 23,\n",
       " 210: 23,\n",
       " 177: 22,\n",
       " 208: 22,\n",
       " 202: 22,\n",
       " 220: 21,\n",
       " 165: 21,\n",
       " 227: 21,\n",
       " 201: 20,\n",
       " 195: 20,\n",
       " 216: 20,\n",
       " 214: 20,\n",
       " 206: 20,\n",
       " 213: 20,\n",
       " 212: 20,\n",
       " 209: 20,\n",
       " 229: -1,\n",
       " 215: -1,\n",
       " 225: -1,\n",
       " 184: -1,\n",
       " 233: -1,\n",
       " 226: -1,\n",
       " 204: -1,\n",
       " 234: -1,\n",
       " 217: -1,\n",
       " 221: -1,\n",
       " 223: -1,\n",
       " 205: -1,\n",
       " 238: -1,\n",
       " 228: -1,\n",
       " 224: -1,\n",
       " 236: -1,\n",
       " 197: -1,\n",
       " 196: -1,\n",
       " 198: -1,\n",
       " 218: -1,\n",
       " 207: -1,\n",
       " 241: -1,\n",
       " 211: -1,\n",
       " 232: -1,\n",
       " 254: -1,\n",
       " 230: -1,\n",
       " 251: -1,\n",
       " 250: -1,\n",
       " 256: -1,\n",
       " 262: -1,\n",
       " 244: -1,\n",
       " 231: -1,\n",
       " 219: -1,\n",
       " 115: -1,\n",
       " 235: -1,\n",
       " 263: -1,\n",
       " 239: -1,\n",
       " 245: -1,\n",
       " 266: -1,\n",
       " 255: -1,\n",
       " 249: -1,\n",
       " 243: -1,\n",
       " 268: -1,\n",
       " 265: -1,\n",
       " 253: -1,\n",
       " 252: -1,\n",
       " 203: -1,\n",
       " 247: -1,\n",
       " 248: -1,\n",
       " 240: -1,\n",
       " 258: -1,\n",
       " 276: -1,\n",
       " 272: -1,\n",
       " 246: -1,\n",
       " 242: -1,\n",
       " 267: -1,\n",
       " 278: -1,\n",
       " 271: -1,\n",
       " 269: -1,\n",
       " 274: -1,\n",
       " 260: -1,\n",
       " 259: -1,\n",
       " 237: -1,\n",
       " 270: -1,\n",
       " 264: -1,\n",
       " 261: -1,\n",
       " 273: -1,\n",
       " 277: -1,\n",
       " 279: -1,\n",
       " 283: -1,\n",
       " 287: -1,\n",
       " 286: -1,\n",
       " 282: -1,\n",
       " 280: -1,\n",
       " 275: -1,\n",
       " 281: -1,\n",
       " 284: -1,\n",
       " 285: -1,\n",
       " 257: -1,\n",
       " 290: -1,\n",
       " 289: -1,\n",
       " 292: -1,\n",
       " 288: -1,\n",
       " 291: -1,\n",
       " 293: -1,\n",
       " 294: -1}"
      ]
     },
     "execution_count": 422,
     "metadata": {},
     "output_type": "execute_result"
    }
   ],
   "source": [
    "new_vc\n"
   ]
  },
  {
   "cell_type": "code",
   "execution_count": 433,
   "metadata": {},
   "outputs": [
    {
     "name": "stdout",
     "output_type": "stream",
     "text": [
      "Nr of clusters: 190\n",
      "Previous nr of clusters: 294\n",
      "{1: 760, 2: 747, 3: 461, 4: 394, 6: 384, 7: 380, 5: 378, 8: 370, 9: 331, 12: 330, 10: 315, 24: 269, 23: 257, 20: 249, 13: 247, 16: 243, 17: 243, 19: 242, 14: 241, 11: 233, 28: 231, 29: 229, 15: 229, 26: 226, 41: 223, 21: 221, 25: 215, 22: 213, 35: 203, 37: 196, 36: 193, 34: 188, 18: 186, 27: 185, 31: 184, 33: 173, 45: 159, 40: 157, 43: 157, 50: 149, 32: 145, 30: 145, 47: 141, 38: 139, 49: 135, 42: 132, 48: 127, 51: 120, 53: 119, 55: 118, 60: 117, 54: 116, 44: 111, 58: 109, 57: 104, 65: 96, 67: 95, 63: 93, 64: 93, 69: 91, 66: 91, 59: 90, 56: 89, 61: 88, 78: 83, 83: 82, 70: 82, 77: 82, 79: 81, 62: 80, 68: 80, 73: 80, 75: 79, 39: 79, 86: 79, 92: 78, 80: 77, 46: 77, 82: 76, 84: 76, 85: 74, 111: 73, 96: 72, 72: 71, 74: 71, 89: 70, 71: 70, 52: 69, 99: 68, 95: 68, 88: 67, 104: 67, 94: 67, 102: 66, 91: 66, 81: 66, 107: 61, 100: 61, 105: 61, 108: 60, 101: 60, 109: 59, 103: 59, 98: 58, 121: 58, 110: 57, 106: 57, 132: 56, 127: 55, 116: 55, 87: 54, 126: 54, 120: 53, 76: 53, 97: 52, 117: 52, 124: 51, 131: 51, 114: 51, 125: 50, 136: 49, 122: 48, 123: 48, 135: 47, 130: 46, 93: 45, 112: 45, 90: 45, 128: 44, 134: 43, 143: 43, 140: 43, 137: 42, 113: 42, 118: 39, 119: 39, 147: 38, 153: 38, 139: 37, 142: 37, 150: 37, 164: 35, 151: 35, 144: 35, 160: 35, 141: 34, 154: 33, 182: 33, 138: 32, 167: 32, 158: 32, 129: 32, 156: 31, 173: 31, 148: 31, 149: 31, 155: 30, 145: 30, 187: 30, 174: 30, 168: 30, 183: 30, 161: 29, 159: 29, 152: 28, 190: 28, 166: 28, 185: 28, 181: 28, 199: 28, 176: 27, 186: 27, 180: 27, 179: 27, 178: 27, 133: 27, 171: 27, 170: 27, 169: 27, 175: 26, 191: 26, 189: 26, 146: 26, 192: 26, 157: 26, 172: 26, 162: 25, 188: 25, 200: 25, 193: 25}\n"
     ]
    }
   ],
   "source": [
    "def process_value_counts(vc, threshold=10):\n",
    "    new_vc = {}\n",
    "    for i, n in vc.items():\n",
    "        if n < threshold:\n",
    "            break\n",
    "        else:\n",
    "            new_vc[i] = n\n",
    "\n",
    "    print(f\"Nr of clusters: {len(new_vc)}\")\n",
    "    print(f\"Previous nr of clusters: {len(vc)}\")\n",
    "    return new_vc\n",
    "\n",
    "\n",
    "# Usage example\n",
    "vc = result_df[(result_df[\"hier_1\"] == 1)][\"hier_2\"].value_counts()\n",
    "processed_vc = process_value_counts(vc, threshold=25)\n",
    "print(processed_vc)\n"
   ]
  },
  {
   "cell_type": "code",
   "execution_count": 447,
   "metadata": {},
   "outputs": [
    {
     "data": {
      "text/plain": [
       "hier_3\n",
       "1      1\n",
       "249    1\n",
       "258    1\n",
       "257    1\n",
       "256    1\n",
       "      ..\n",
       "125    1\n",
       "124    1\n",
       "123    1\n",
       "122    1\n",
       "378    1\n",
       "Name: count, Length: 378, dtype: int64"
      ]
     },
     "execution_count": 447,
     "metadata": {},
     "output_type": "execute_result"
    }
   ],
   "source": [
    " result_df[\n",
    "    (result_df[\"hier_1\"] == 1) & (result_df[\"hier_2\"] == 5)\n",
    "][\"hier_3\"].value_counts()\n"
   ]
  },
  {
   "cell_type": "code",
   "execution_count": 472,
   "metadata": {},
   "outputs": [
    {
     "name": "stdout",
     "output_type": "stream",
     "text": [
      "(760, 9)\n",
      "Improvement of dry mouth by replacing paroxetine with fluvoxamine\n",
      "Interaction between fluvoxamine and imipramine/desipramine in four patients\n",
      "In vitro-in vivo extrapolation of CYP2D6 inactivation by paroxetine: Prediction of nonstationary pharmacokinetics and drug interaction magnitude\n",
      "Effect of venlafaxine versus fluoxetine on metabolism of dextromethorphan, a CYP2D6 probe\n",
      "Concentrations of the enantiomers of fluoxetine and norfluoxetine after multiple doses of fluoxetine in cytochrome P4502D6 poor and extensive metabolizers\n",
      "Pharmacokinetics of fluoxetine and fluvoxamine in depressed patients: personal results.\n",
      "Roles of cytochromes P450 1A2 and 3A4 in the oxidation of estradiol and estrone in human liver microsomes\n",
      "The burden and management of cytochrome P450 2D6 (CYP2D6)-mediated drug–drug interaction (DDI): co-medication of metoprolol and paroxetine or fluoxetine in the elderly\n",
      "Clinical pharmacokinetics of fluvoxamine: Applications to dosage regimen design\n",
      "The influence of selective serotonin reuptake inhibitors on the plasma and brain pharmacokinetics of the simplest phenothiazine neuroleptic promazine in the rat\n",
      "Inhibition of antidepressant demethylation and hydroxylation by fluvoxamine in depressed patients\n",
      "Assessing the efficiency of mixed effects modelling in quantifying metabolism based drug-drug interactions: Using in vitro data as an aid to assess study power\n",
      "Metabolic drug interactions with selective serotonin reuptake inhibitor (SSRI) antidepressants\n",
      "CYP2B6 mediates the in vitro hydroxylation of bupropion: Potential drug interactions with other antidepressants\n",
      "Time-dependent inhibition and estimation of CYP3A clinical pharmacokinetic drug-drug interactions using plated human cell systems\n",
      "Liver dysfunction markedly decreases the inhibition of cytochrome P450 1A2-mediated theophylline metabolism by fluvoxamine\n",
      "Mechanistic Study of Xanthotoxin-Mediated Inactivation of CYP1A2 and Related Drug-Drug Interaction with Tacrine\n",
      "Extremely long plasma half‐ Life of amitriptyline in a woman with the cytochrome p450iid6 29/ 29‐ kilobase wild‐ type allele— a slowly reversible interaction with fluoxetine\n",
      "Fluvoxamine and fluoxetine: interaction studies with amitriptyline, clomipramine and neuroleptics in phenotyped patients\n",
      "Clinical Pharmacokinetics of Fluvoxamine\n"
     ]
    }
   ],
   "source": [
    "sub_df = result_df[\n",
    "    (result_df[\"hier_1\"] == 1) & (result_df[\"hier_2\"] == 1)\n",
    "]  # & (result_df[\"hier_3\"] == 1)\n",
    "\n",
    "print(sub_df.shape)\n",
    "for t in sub_df[\"title\"].sample(20):\n",
    "    print(t)\n"
   ]
  },
  {
   "cell_type": "code",
   "execution_count": 462,
   "metadata": {},
   "outputs": [
    {
     "name": "stdout",
     "output_type": "stream",
     "text": [
      "(21146, 9)\n",
      "R-citalopram functionally antagonises escitalopram in vivo and in vitro: Evidence for kinetic interaction at the serotonin transporter\n",
      "Identification of NSAID users at risk for gastrointestinal complications: A systematic review of current guidelines and consensus agreements\n",
      "Bupropion SR for nicotine-craving pica in a developmentally disabled adult\n",
      "Development of severe serotonin syndrome from acute ingestion of vilazodone without co-ingestion\n",
      "Timing of clinical improvement and symptom resolution in the treatment of major depressive disorder\n",
      "A double-blind study of paroxetine, fluoxetine, and placebo in outpatients with major depression\n",
      "Effectiveness of paroxetine in the treatment of poststroke depression\n",
      "Risk of upper gastrointestinal bleeding with selective serotonin reuptake inhibitors with or without concurrent nonsteroidal anti-inflammatory use: A systematic review and meta-analysis\n",
      "A Novel Scale Linking Potency and Dosage to Estimate Anticholinergic Exposure in Older Adults: the Muscarinic Acetylcholinergic Receptor ANTagonist Exposure Scale\n",
      "Hyponatremia associated with selective serotonin-reuptake inhibitors in older adults\n",
      "Effect of Selective Serotonin Reuptake Inhibitors on Motor Recovery after Stroke: A Systematic Meta-analysis\n",
      "Nefazodone and venlafaxine: Two new agents for the treatment of depression\n",
      "Physician variability in treating pain and irritability of unknown origin in children with severe neurological Impairment\n",
      "Prescription patterns of antiepileptic drugs in young women: development of a tool to distinguish between epilepsy and psychiatric disorders\n",
      "Major depression in a brazilian amazon woman with down syndrome: A case Report\n",
      "Long-term exposure to polypharmacy impairs cognitive functions in young adult female mice\n",
      "Managing depressive and anxiety disorders with escitalopram\n",
      "SSRIS versus tricyclic antidepressants in depressed inpatients: A meta- analysis of efficacy and tolerability\n",
      "Efficacy and mood conversion rate of short-term fluoxetine monotherapy of bipolar ii major depressive episode\n",
      "Myoclonus secondary to the concurrent use of trazodone and fluoxetine\n"
     ]
    }
   ],
   "source": [
    "sub_df = result_df[\n",
    "    (result_df[\"hier_1\"] == 1)\n",
    "]  # & (result_df[\"hier_2\"] == 5)]  # & (df[\"hier_3\"] == 1)]\n",
    "sub_df.sort_values(\"flow\")\n",
    "print(sub_df.shape)\n",
    "for t in sub_df[\"title\"].sample(20):\n",
    "    print(t)\n"
   ]
  },
  {
   "cell_type": "code",
   "execution_count": 178,
   "metadata": {},
   "outputs": [
    {
     "data": {
      "text/plain": [
       "hier_3\n",
       "1     15\n",
       "3     15\n",
       "2     15\n",
       "4     14\n",
       "5     13\n",
       "      ..\n",
       "76     1\n",
       "77     1\n",
       "78     1\n",
       "79     1\n",
       "80     1\n",
       "Name: count, Length: 80, dtype: int64"
      ]
     },
     "execution_count": 178,
     "metadata": {},
     "output_type": "execute_result"
    }
   ],
   "source": [
    "result_df[(result_df[\"hier_1\"] == 12)].value_counts(\"hier_3\")  # & (df[\"hier_2\"] == 1)]\n"
   ]
  },
  {
   "cell_type": "code",
   "execution_count": null,
   "metadata": {},
   "outputs": [],
   "source": []
  },
  {
   "cell_type": "code",
   "execution_count": null,
   "metadata": {},
   "outputs": [],
   "source": []
  },
  {
   "cell_type": "code",
   "execution_count": 274,
   "metadata": {},
   "outputs": [
    {
     "name": "stdout",
     "output_type": "stream",
     "text": [
      "Building Infomap network from a NetworkX graph...\n",
      "Infomap iteration 1\n",
      "=======================================================\n",
      "  Infomap v2.8.0 starts at Found 3 top-level modules with codelength 11.35145305 bits\n",
      "2024-10-02 09:23:47\n",
      "  -> Input network: \n",
      "  -> No file output!\n",
      "  -> Configuration: flow-model = undirected\n",
      "                    seed = 42\n",
      "                    num-trials = 5\n",
      "=======================================================\n",
      "  -> Ordinary network input, using the Map Equation for first order network flows\n",
      "Calculating global network flow using flow model 'undirected'... \n",
      "  -> Using undirected links.\n",
      "  => Sum node flow: 1.000000000, sum link flow: 1.000000000\n",
      "Build internal network with 40643 nodes and 602779 links...\n",
      "  -> One-level codelength: 15.056827412\n",
      "\n",
      "================================================\n",
      "Trial 1/5 starting at 2024-10-02 09:23:47\n",
      "================================================\n",
      "Two-level compression: 21.87% 2.52% 0.014652799% 0.030758763% 0.002199230% 0.002266713% \n",
      "Partitioned to codelength 2.929553429 + 8.532358631 = 11.46191206 in 473 modules.\n",
      "Super-level compression: 0.114982122% to codelength 11.44873291 in 9 top modules.\n",
      "\n",
      "Recursive sub-structure compression: 17.365467656% 0.715240632% 0.000000000% . Found 4 levels with codelength 11.35450495\n",
      "\n",
      "=> Trial 1/5 finished in 4.556033041s with codelength 11.354504953\n",
      "\n",
      "================================================\n",
      "Trial 2/5 starting at 2024-10-02 09:23:52\n",
      "================================================\n",
      "Two-level compression: 21.92% 2.45% 0.031535618% 0.030261352% \n",
      "Partitioned to codelength 2.908062512 + 8.552963222 = 11.46102573 in 466 modules.\n",
      "Super-level compression: 0.072273125% to codelength 11.45274249 in 10 top modules.\n",
      "\n",
      "Recursive sub-structure compression: 17.291796055% 0.073820881% 0.000000000% . Found 4 levels with codelength 11.36182269\n",
      "\n",
      "=> Trial 2/5 finished in 4.011709250s with codelength 11.361822692\n",
      "\n",
      "================================================\n",
      "Trial 3/5 starting at 2024-10-02 09:23:56\n",
      "================================================\n",
      "Two-level compression: 21.99% 2.45% 0.010345158% 0.009436433% 0.004105856% 0.001512798% \n",
      "Partitioned to codelength 2.918862018 + 8.536717855 = 11.45557987 in 471 modules.\n",
      "Super-level compression: to codelength 11.45557987 in 471 top modules.\n",
      "\n",
      "Recursive sub-structure compression: 0.758382720% 0.000000000% . Found 3 levels with codelength 11.36870274\n",
      "\n",
      "=> Trial 3/5 finished in 3.176943208s with codelength 11.368702735\n",
      "\n",
      "================================================\n",
      "Trial 4/5 starting at 2024-10-02 09:23:59\n",
      "================================================\n",
      "Two-level compression: 21.91% 2.53% 0.014425837% 0.026781940% 0.004070291% 0.002130591% \n",
      "Partitioned to codelength 2.912360661 + 8.543004510 = 11.45536517 in 472 modules.\n",
      "Super-level compression: 0.115538926% to codelength 11.44212977 in 3 top modules.\n",
      "\n",
      "Recursive sub-structure compression: 9.703380087% 14.836216083% 0.071886621% 0.000000000% . Found 5 levels with codelength 11.35145305\n",
      "\n",
      "=> Trial 4/5 finished in 6.501002167s with codelength 11.351453052\n",
      "\n",
      "================================================\n",
      "Trial 5/5 starting at 2024-10-02 09:24:06\n",
      "================================================\n",
      "Two-level compression: 21.86% 2.56% 0.019088383% 0.025796946% \n",
      "Partitioned to codelength 2.950629287 + 8.508763462 = 11.45939275 in 463 modules.\n",
      "Super-level compression: 0.088834335% to codelength 11.44921287 in 11 top modules.\n",
      "\n",
      "Recursive sub-structure compression: 16.263493632% 0.668994972% 0.000000000% . Found 4 levels with codelength 11.36529241\n",
      "\n",
      "=> Trial 5/5 finished in 3.981114292s with codelength 11.365292409\n",
      "\n",
      "\n",
      "================================================\n",
      "Summary after 5 trials\n",
      "================================================\n",
      "\n",
      " -> Initiated to codelength 11.351453052 in 5 levels with 3 top modules.\n",
      "Codelengths: [11.354504953, 11.361822692, 11.368702735, 11.351453052, 11.365292409]\n",
      "[min, average, max] codelength: [11.351453052, 11.360355168, 11.368702735]\n",
      "\n",
      "Best end modular solution in 5 levels:\n",
      "Per level number of modules:         [          3,          76,         720,          56,           0] (sum: 855)\n",
      "Per level number of leaf nodes:      [          0,           0,        3132,       35763,        1748] (sum: 40643)\n",
      "Per level average child degree:      [          3,     25.3333,     50.6842,     49.7486,     31.2143] (average: 49.006650564)\n",
      "Per level codelength for modules:    [0.018683663, 0.596156178, 2.930845711, 0.094643755, 0.000000000] (sum: 3.640329308)\n",
      "Per level codelength for leaf nodes: [0.000000000, 0.000000000, 0.606217123, 6.809226668, 0.295679953] (sum: 7.711123744)\n",
      "Per level codelength total:          [0.018683663, 0.596156178, 3.537062834, 6.903870423, 0.295679953] (sum: 11.351453052)\n",
      "\n",
      "===================================================\n",
      "  Infomap ends at 2024-10-02 09:24:10\n",
      "  (Elapsed time: 23.011678584s)\n",
      "===================================================\n",
      "           path      flow   name  node_id  \\\n",
      "0  (1, 1, 1, 1)  0.000362   8396     8396   \n",
      "1  (1, 1, 1, 2)  0.000210  10087    10087   \n",
      "2  (1, 1, 1, 3)  0.000199   5158     5158   \n",
      "3  (1, 1, 1, 4)  0.000174   4856     4856   \n",
      "4  (1, 1, 1, 5)  0.000163   3106     3106   \n",
      "\n",
      "                                               title  hier_1  hier_2  hier_3  \\\n",
      "0  Pharmacokinetics of selective serotonin reupta...       1       1       1   \n",
      "1  Selective serotonin reuptake inhibitors and cy...       1       1       1   \n",
      "2  Clinically relevant pharmacology of selective ...       1       1       1   \n",
      "3  Newer antidepressants and the cytochrome P450 ...       1       1       1   \n",
      "4            Clinical Pharmacokinetics of Fluoxetine       1       1       1   \n",
      "\n",
      "   hier_4  hier_5  \n",
      "0     1.0     NaN  \n",
      "1     2.0     NaN  \n",
      "2     3.0     NaN  \n",
      "3     4.0     NaN  \n",
      "4     5.0     NaN  \n",
      "Hierarchy levels found: 5\n"
     ]
    }
   ],
   "source": [
    "from typing import Dict, Optional, Tuple\n",
    "\n",
    "import networkx as nx\n",
    "import numpy as np\n",
    "from infomap import Infomap\n",
    "\n",
    "\n",
    "def run_infomap(\n",
    "    G: nx.Graph,\n",
    "    num_trials: int = 5,\n",
    "    use_weights: bool = True,\n",
    "    # min_modules: int = 3,\n",
    "    # max_modules: int = 10,\n",
    "    # max_iterations: int = 10,\n",
    "    flow_model: str = \"undirected\",\n",
    "    multilevel_resolution: float = 0.5,\n",
    "    pre_clustering: bool = False,\n",
    "    overlap: bool = False,\n",
    "    inner_parallelization: int = 1,\n",
    "    seed: int = 42,\n",
    ") -> Tuple[Infomap, Dict[int, int]]:\n",
    "    \"\"\"\n",
    "    Run Infomap community detection on a NetworkX graph with dynamic module adjustment.\n",
    "\n",
    "    Args:\n",
    "        G (nx.Graph): Input graph.\n",
    "        num_trials (int): Number of Infomap trials.\n",
    "        markov_time (float): Markov time for the random walk.\n",
    "        use_weights (bool): Whether to use edge weights.\n",
    "        max_top_modules (int): Maximum number of top-level modules desired.\n",
    "        max_iterations (int): Maximum number of Infomap runs to attempt.\n",
    "\n",
    "    Returns:\n",
    "        Tuple[Infomap, Dict[int, int]]: Infomap object and community assignments.\n",
    "    \"\"\"\n",
    "\n",
    "    def create_infomap(preferred_modules: Optional[int] = None):\n",
    "        return Infomap(\n",
    "            two_level=False,\n",
    "            silent=False,\n",
    "            flow_model=\"undirected\",\n",
    "            num_trials=num_trials,\n",
    "            markov_time=markov_time,\n",
    "            preferred_number_of_modules=preferred_modules,\n",
    "            seed=42,\n",
    "        )\n",
    "\n",
    "    def add_network_to_infomap(im: Infomap):\n",
    "        if use_weights:\n",
    "            for u, v, data in G.edges(data=True):\n",
    "                weight = data.get(\"weight\", 1.0)\n",
    "                im.add_link(u, v, weight)\n",
    "        else:\n",
    "            im.add_networkx_graph(G)\n",
    "\n",
    "    print(\"Building Infomap network from a NetworkX graph...\")\n",
    "    im = create_infomap()\n",
    "    add_network_to_infomap(im)\n",
    "\n",
    "    for iteration in range(max_iterations):\n",
    "        print(f\"Infomap iteration {iteration + 1}\")\n",
    "        im.run()\n",
    "\n",
    "        top_modules = len(set(im.get_modules().values()))\n",
    "        print(\n",
    "            f\"Found {top_modules} top-level modules with codelength {im.codelength:.8f} bits\"\n",
    "        )\n",
    "\n",
    "        if top_modules <= max_top_modules:\n",
    "            break\n",
    "\n",
    "        if iteration < max_iterations - 1:\n",
    "            # Adjust parameters for the next iteration\n",
    "            new_markov_time = markov_time * (1 + (iteration + 1) * 0.2)\n",
    "            preferred_modules = max(10, int(top_modules * 0.8))\n",
    "\n",
    "            print(\n",
    "                f\"Adjusting parameters: markov_time={new_markov_time:.2f}, \"\n",
    "                f\"preferred_modules={preferred_modules}\"\n",
    "            )\n",
    "\n",
    "            im = create_infomap(preferred_modules)\n",
    "            im.markov_time = new_markov_time\n",
    "            add_network_to_infomap(im)\n",
    "\n",
    "    return im, im.get_modules()\n",
    "\n",
    "\n",
    "def process_hierarchy(path: List[int], max_depth: int) -> Tuple[Optional[int], ...]:\n",
    "    \"\"\"\n",
    "    Process the hierarchical path and return levels up to max_depth.\n",
    "\n",
    "    Args:\n",
    "        path (List[int]): Hierarchical path from Infomap.\n",
    "        max_depth (int): Maximum depth of the hierarchy.\n",
    "\n",
    "    Returns:\n",
    "        Tuple[Optional[int], ...]: Hierarchy levels up to max_depth.\n",
    "    \"\"\"\n",
    "    hier = [None] * max_depth\n",
    "    for i, level in enumerate(path[:max_depth]):\n",
    "        hier[i] = level\n",
    "    return tuple(hier)\n",
    "\n",
    "\n",
    "def create_dataframe(im: Infomap, G: nx.Graph) -> pd.DataFrame:\n",
    "    \"\"\"\n",
    "    Create a DataFrame with community information and node attributes.\n",
    "\n",
    "    Args:\n",
    "        im (Infomap): Infomap object after running community detection.\n",
    "        G (nx.Graph): Input graph.\n",
    "\n",
    "    Returns:\n",
    "        pd.DataFrame: DataFrame with community and node information.\n",
    "    \"\"\"\n",
    "    df = im.get_dataframe()\n",
    "    df[\"title\"] = [G.nodes[n][\"title\"] for n in df[\"node_id\"]]\n",
    "\n",
    "    # Determine the maximum depth of the hierarchy\n",
    "    max_depth = max(len(path) for path in df[\"path\"])\n",
    "\n",
    "    # Process hierarchies\n",
    "    hierarchy = [process_hierarchy(path, max_depth) for path in df[\"path\"]]\n",
    "\n",
    "    # Create hierarchy level columns dynamically\n",
    "    for i in range(max_depth):\n",
    "        df[f\"hier_{i+1}\"] = [h[i] for h in hierarchy]\n",
    "\n",
    "    return df\n",
    "\n",
    "\n",
    "def main(\n",
    "    graphml_path: str, use_weights: bool = True, max_top_modules: int = 20\n",
    ") -> pd.DataFrame:\n",
    "    \"\"\"\n",
    "    Main function to run the Infomap community detection pipeline.\n",
    "\n",
    "    Args:\n",
    "        graphml_path (str): Path to the input GraphML file.\n",
    "        use_weights (bool): Whether to use edge weights in community detection.\n",
    "        max_top_modules (int): Maximum number of top-level modules desired.\n",
    "\n",
    "    Returns:\n",
    "        pd.DataFrame: Resulting DataFrame with community information.\n",
    "    \"\"\"\n",
    "    G = load_graph(graphml_path)\n",
    "    im, communities = run_infomap(G, use_weights=use_weights, max_top_modules=8)\n",
    "    nx.set_node_attributes(G, communities, \"community\")\n",
    "    return create_dataframe(im, G)\n",
    "\n",
    "\n",
    "if __name__ == \"__main__\":\n",
    "    graphml_path = \"/Users/jlq293/Projects/Study-1-Bibliometrics/data/05-graphs/weighted-knn-citation-graph/weighted_alpha0.3_k10_knn_citation.graphml\"\n",
    "    result_df = main(graphml_path, use_weights=True, max_top_modules=20)\n",
    "    print(result_df.head())\n",
    "    print(\n",
    "        f\"Hierarchy levels found: {len([col for col in result_df.columns if col.startswith('hier_')])}\"\n",
    "    )\n"
   ]
  },
  {
   "cell_type": "code",
   "execution_count": null,
   "metadata": {},
   "outputs": [],
   "source": []
  },
  {
   "cell_type": "code",
   "execution_count": 511,
   "metadata": {},
   "outputs": [
    {
     "name": "stdout",
     "output_type": "stream",
     "text": [
      "0    9999\n",
      "1    9999\n",
      "2    9912\n",
      "3    3676\n",
      "4    3598\n",
      "5    3230\n",
      "6     229\n",
      "dtype: int64\n",
      "Number of clusters: 7\n",
      "0    9999\n",
      "1    9999\n",
      "2    9907\n",
      "3    6666\n",
      "4    3704\n",
      "5     227\n",
      "6     109\n",
      "7      21\n",
      "8      11\n",
      "dtype: int64\n",
      "Number of clusters: 9\n",
      "0    9999\n",
      "1    9999\n",
      "2    9937\n",
      "3    9887\n",
      "4     536\n",
      "5     285\n",
      "dtype: int64\n",
      "Number of clusters: 6\n"
     ]
    }
   ],
   "source": [
    "def create_partition_from_cmpvertexpartition(\n",
    "    G,\n",
    "    n_iterations=-1,\n",
    "    resolution_parameter=0.002,\n",
    "    verbose=False,\n",
    "    cluster_column_name=None,\n",
    "    centrality_column_name=None,\n",
    "):\n",
    "\n",
    "    # make graph to igraph\n",
    "    # G = nx.convert_node_labels_to_integers(G, first_label=0)\n",
    "    # G = ig.Graph.from_networkx(G)\n",
    "    partition = la.find_partition(\n",
    "        G,\n",
    "        la.CPMVertexPartition,\n",
    "        resolution_parameter=resolution_parameter,\n",
    "        weights=\"weight\",\n",
    "        n_iterations=n_iterations,\n",
    "        max_comm_size=9999,\n",
    "        seed=1887,\n",
    "    )\n",
    "    # assign cluster labels to G\n",
    "    G.vs[\"cluster\"] = partition.membership\n",
    "    # sizes of clusters\n",
    "    cluster_sizes = pd.Series(partition.sizes()).sort_values(ascending=False)\n",
    "    print(cluster_sizes)\n",
    "    print(f\"Number of clusters: {len(cluster_sizes)}\")\n",
    "\n",
    "    return partition, G\n",
    "\n",
    "\n",
    "partition_dict = {}\n",
    "resolution_parameters = [0.00005, 0.00004, 0.00001]\n",
    "for resolution_parameter in resolution_parameters:\n",
    "    partition, _ = create_partition_from_cmpvertexpartition(\n",
    "        G, resolution_parameter=resolution_parameter\n",
    "    )\n",
    "    partition_dict[resolution_parameter] = partition\n"
   ]
  },
  {
   "cell_type": "code",
   "execution_count": 515,
   "metadata": {},
   "outputs": [],
   "source": [
    "bp = partition_dict[0.00001]\n"
   ]
  },
  {
   "cell_type": "code",
   "execution_count": 496,
   "metadata": {},
   "outputs": [],
   "source": [
    "G = nx.convert_node_labels_to_integers(G, first_label=0)\n",
    "G = ig.Graph.from_networkx(G)\n",
    "G.vs[\"cluster\"] = bp.membership\n"
   ]
  },
  {
   "cell_type": "code",
   "execution_count": 516,
   "metadata": {},
   "outputs": [],
   "source": [
    "# get dataframe with cluster information\n",
    "data_dict = {}\n",
    "for attr in G.vs.attributes():\n",
    "    data_dict[attr] = G.vs[attr]\n",
    "\n",
    "df_g = pd.DataFrame(data_dict)\n"
   ]
  },
  {
   "cell_type": "code",
   "execution_count": 517,
   "metadata": {},
   "outputs": [
    {
     "data": {
      "text/plain": [
       "cluster\n",
       "0    9999\n",
       "1    9999\n",
       "2    9937\n",
       "3    9887\n",
       "4     536\n",
       "5     285\n",
       "Name: count, dtype: int64"
      ]
     },
     "execution_count": 517,
     "metadata": {},
     "output_type": "execute_result"
    }
   ],
   "source": [
    "df_g[\"cluster\"].value_counts()\n"
   ]
  },
  {
   "cell_type": "code",
   "execution_count": 547,
   "metadata": {},
   "outputs": [
    {
     "name": "stdout",
     "output_type": "stream",
     "text": [
      "Two-dimensional QSAR studies on arylpiperazines as high-affinity 5-HT<inf>1A</inf> receptor ligands\n",
      "Design, synthesis and biological evaluation of a novel series of peripheral-selective noradrenaline reuptake inhibitor\n",
      "Synthesis of Novel Pyrimidin-4-One Bearing Piperazine Ring-Based Amides as Glycogen Synthase Kinase-3β Inhibitors with Antidepressant Activity\n",
      "4-Piperidines and 3-pyrrolidines as dual serotonin and noradrenaline reuptake inhibitors: Design, synthesis and structure-activity relationships\n",
      "Thermostabilisation of the serotonin transporter in a cocaine-bound conformation\n",
      "Conformationally restricted homotryptamines. part 7: 3- cis -(3-aminocyclopentyl)indoles as potent selective serotonin reuptake inhibitors\n",
      "3D-QSAR design of new escitalopram derivatives for the treatment of major depressive disorders\n",
      "Pharmacoinformatic and molecular docking studies reveal potential novel antidepressants against neurodegenerative disorders by targeting HSPB8\n",
      "Design, Synthesis, and Biological Activity of Chalcone Analogs Containing 4-Phenylquinolin and Benzohydrazide\n",
      "A conserved salt bridge between transmembrane segments 1 and 10 constitutes an extracellular gate in the dopamine transporter\n"
     ]
    }
   ],
   "source": [
    "for t in df_g[df_g[\"cluster\"] == 5][\"title\"].sample(10):\n",
    "    print(t)\n"
   ]
  },
  {
   "cell_type": "code",
   "execution_count": null,
   "metadata": {},
   "outputs": [],
   "source": [
    "a\n"
   ]
  }
 ],
 "metadata": {
  "kernelspec": {
   "display_name": "condavenv",
   "language": "python",
   "name": "python3"
  },
  "language_info": {
   "codemirror_mode": {
    "name": "ipython",
    "version": 3
   },
   "file_extension": ".py",
   "mimetype": "text/x-python",
   "name": "python",
   "nbconvert_exporter": "python",
   "pygments_lexer": "ipython3",
   "version": "3.11.8"
  }
 },
 "nbformat": 4,
 "nbformat_minor": 2
}
