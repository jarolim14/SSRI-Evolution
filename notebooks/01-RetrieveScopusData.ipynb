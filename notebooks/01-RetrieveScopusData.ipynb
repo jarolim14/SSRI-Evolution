{
 "cells": [
  {
   "cell_type": "markdown",
   "metadata": {},
   "source": [
    "# Fetch Scopus Data\n",
    "\n",
    "Resouces:\n",
    "\n",
    "- [Scopus Search API](https://dev.elsevier.com/documentation/ScopusSearchAPI.wadl)\n",
    "- [Scopus Retrieval of more than 5,000 artilcles](https://dev.elsevier.com/support.html)(Q: How can I obtain more than 5,000 / 6,000 results through Scopus / ScienceDirect APIs?)\n",
    "- [Interactive Scopus API](https://dev.elsevier.com/scopus.html)\n",
    "- [API Settings (rate limits)](https://dev.elsevier.com/api_key_settings.html)\n",
    "- Remember Logging In to Cisco VPN!!!\n"
   ]
  },
  {
   "cell_type": "code",
   "execution_count": 1,
   "metadata": {},
   "outputs": [],
   "source": [
    "from src.data.ScopusArticleFetcher import ScopusArticleFetcher"
   ]
  },
  {
   "cell_type": "code",
   "execution_count": 5,
   "metadata": {},
   "outputs": [
    {
     "name": "stdout",
     "output_type": "stream",
     "text": [
      "Number of results: 42305\n",
      "Number of iterations: 1693\n"
     ]
    },
    {
     "name": "stderr",
     "output_type": "stream",
     "text": [
      "Fetching results: 100%|██████████| 1693/1693 [39:44<00:00,  1.41s/iteration] \n"
     ]
    },
    {
     "name": "stdout",
     "output_type": "stream",
     "text": [
      "Saved final results to final_scopus_results.csv\n"
     ]
    }
   ],
   "source": [
    "import json\n",
    "\n",
    "path = \"../notebooks/api_key_scopus.json\"\n",
    "api_key = json.load(open(path))\n",
    "api_key = api_key[\"api_key\"]\n",
    "saving_interval = 250\n",
    "fetcher = ScopusArticleFetcher(api_key)\n",
    "full_df = fetcher.fetch_results(saving_interval)"
   ]
  },
  {
   "cell_type": "code",
   "execution_count": 9,
   "metadata": {},
   "outputs": [
    {
     "data": {
      "text/plain": [
       "prism:coverDate\n",
       "1982      79\n",
       "1983      97\n",
       "1984     105\n",
       "1985     135\n",
       "1986     111\n",
       "1987     134\n",
       "1988     182\n",
       "1989     279\n",
       "1990     348\n",
       "1991     436\n",
       "1992     543\n",
       "1993     612\n",
       "1994     683\n",
       "1995     725\n",
       "1996     831\n",
       "1997     950\n",
       "1998     942\n",
       "1999    1012\n",
       "2000    1003\n",
       "2001    1044\n",
       "2002    1124\n",
       "2003    1130\n",
       "2004    1277\n",
       "2005    1251\n",
       "2006    1376\n",
       "2007    1356\n",
       "2008    1422\n",
       "2009    1371\n",
       "2010    1451\n",
       "2011    1424\n",
       "2012    1517\n",
       "2013    1520\n",
       "2014    1514\n",
       "2015    1630\n",
       "2016    1645\n",
       "2017    1458\n",
       "2018    1482\n",
       "2019    1490\n",
       "2020    1553\n",
       "2021    1738\n",
       "2022    1704\n",
       "2023    1621\n",
       "Name: count, dtype: int64"
      ]
     },
     "execution_count": 9,
     "metadata": {},
     "output_type": "execute_result"
    }
   ],
   "source": [
    "pd.to_datetime(full_df[\"prism:coverDate\"]).dt.year.value_counts().sort_index()"
   ]
  }
 ],
 "metadata": {
  "kernelspec": {
   "display_name": "Python 3",
   "language": "python",
   "name": "python3"
  },
  "language_info": {
   "codemirror_mode": {
    "name": "ipython",
    "version": 3
   },
   "file_extension": ".py",
   "mimetype": "text/x-python",
   "name": "python",
   "nbconvert_exporter": "python",
   "pygments_lexer": "ipython3",
   "version": "3.11.6"
  }
 },
 "nbformat": 4,
 "nbformat_minor": 2
}
