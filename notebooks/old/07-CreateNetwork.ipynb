{
 "cells": [
  {
   "cell_type": "code",
   "execution_count": 76,
   "metadata": {},
   "outputs": [],
   "source": [
    "import pandas as pd\n",
    "\n",
    "from src.network.ConnectPaperOnDOI import PaperConnector"
   ]
  },
  {
   "cell_type": "code",
   "execution_count": 77,
   "metadata": {},
   "outputs": [],
   "source": [
    "# read in all data/processed/allmpnet-embeddings/allmpnet-embeddings.pkl\n",
    "df = pd.read_pickle(\"../data/03-interim/allmpnet-embeddings/allmpnet-embeddings.pkl\")"
   ]
  },
  {
   "cell_type": "code",
   "execution_count": 78,
   "metadata": {},
   "outputs": [
    {
     "name": "stdout",
     "output_type": "stream",
     "text": [
      "Papers sorted by year.\n",
      "Starting paper connection...\n"
     ]
    },
    {
     "name": "stderr",
     "output_type": "stream",
     "text": [
      "100%|██████████| 35153/35153 [00:04<00:00, 7315.79it/s] \n"
     ]
    },
    {
     "name": "stdout",
     "output_type": "stream",
     "text": [
      "Paper connection finished.\n",
      "Average number of matches on DOIs: 8.276420220180354\n"
     ]
    }
   ],
   "source": [
    "df[\"merged_dois\"].fillna(\"\", inplace=True)\n",
    "connector = PaperConnector(df=df)\n",
    "\n",
    "# Connect papers based on titles and DOIs\n",
    "connector.connect_papers()"
   ]
  },
  {
   "cell_type": "code",
   "execution_count": 79,
   "metadata": {},
   "outputs": [
    {
     "data": {
      "text/plain": [
       "Index(['authors', 'title', 'year', 'cited_by', 'doi', 'link', 'abstract',\n",
       "       'author_keywords', 'index_keywords', 'references', 'pubmed_id',\n",
       "       'document_type', 'source', 'eid', 'journal', 'first_author', 'nameyear',\n",
       "       'unique_nameyear', 'title_abstract', 'paper_id', 'oc_refs', 'oc_dois',\n",
       "       'cr_refs', 'cr_dois', 'merged_dois', 'oc_nr_dois', 'cr_nr_dois',\n",
       "       'merged_nr_dois', 'embeddings_allmpnet', 'paper_ids_matched_on_dois'],\n",
       "      dtype='object')"
      ]
     },
     "execution_count": 79,
     "metadata": {},
     "output_type": "execute_result"
    }
   ],
   "source": [
    "connector.df.columns"
   ]
  },
  {
   "cell_type": "code",
   "execution_count": 80,
   "metadata": {},
   "outputs": [],
   "source": [
    "df_connected = connector.df"
   ]
  },
  {
   "cell_type": "code",
   "execution_count": 81,
   "metadata": {},
   "outputs": [],
   "source": [
    "df_connected[\"nr_of_links\"] = df_connected[\"paper_ids_matched_on_dois\"].apply(\n",
    "    lambda x: len(x) if x[0] != \"no doi match\" else 0\n",
    ")"
   ]
  },
  {
   "cell_type": "code",
   "execution_count": 82,
   "metadata": {},
   "outputs": [
    {
     "data": {
      "text/plain": [
       "<Axes: xlabel='year'>"
      ]
     },
     "execution_count": 82,
     "metadata": {},
     "output_type": "execute_result"
    },
    {
     "data": {
      "image/png": "[encoded data removed]",
      "text/plain": [
       "<Figure size 640x480 with 1 Axes>"
      ]
     },
     "metadata": {},
     "output_type": "display_data"
    }
   ],
   "source": [
    "# print the nr_of_links grouped by year\n",
    "df_connected.groupby(\"year\")[\"nr_of_links\"].sum().plot(kind=\"bar\")"
   ]
  },
  {
   "cell_type": "code",
   "execution_count": 83,
   "metadata": {},
   "outputs": [
    {
     "data": {
      "text/plain": [
       "Index(['authors', 'title', 'year', 'cited_by', 'doi', 'link', 'abstract',\n",
       "       'author_keywords', 'index_keywords', 'references', 'pubmed_id',\n",
       "       'document_type', 'source', 'eid', 'journal', 'first_author', 'nameyear',\n",
       "       'unique_nameyear', 'title_abstract', 'paper_id', 'oc_refs', 'oc_dois',\n",
       "       'cr_refs', 'cr_dois', 'merged_dois', 'oc_nr_dois', 'cr_nr_dois',\n",
       "       'merged_nr_dois', 'embeddings_allmpnet', 'paper_ids_matched_on_dois',\n",
       "       'nr_of_links'],\n",
       "      dtype='object')"
      ]
     },
     "execution_count": 83,
     "metadata": {},
     "output_type": "execute_result"
    }
   ],
   "source": [
    "df_connected.columns"
   ]
  },
  {
   "cell_type": "code",
   "execution_count": 84,
   "metadata": {},
   "outputs": [
    {
     "data": {
      "text/plain": [
       "'High affinity binding of paroxetine and imipramine to human platelet membranes. Paroxetine one of the most potent and specific serotonin uptake inhibitors was tritiated and used for binding studies with human platelet membranes. Specific high affinity binding was demonstrated. The binding was compared with imipramine binding; it was found that the maximal binding (Bmax) was the same for paroxetine and imipramine whereas the affinity was much higher for paroxetine (KD 0.08 nM and 0.56 nM for paroxetine and imipramine binding respectively). IC50 was calculated for the inhibition of paroxetine and imipramine binding by a number of antidepressants; the corresponding Hill coefficients were also calculated.'"
      ]
     },
     "execution_count": 84,
     "metadata": {},
     "output_type": "execute_result"
    }
   ],
   "source": [
    "df_connected[\"title_abstract\"][35152]"
   ]
  },
  {
   "cell_type": "code",
   "execution_count": 85,
   "metadata": {},
   "outputs": [
    {
     "data": {
      "text/plain": [
       "(35153, 31)"
      ]
     },
     "execution_count": 85,
     "metadata": {},
     "output_type": "execute_result"
    }
   ],
   "source": [
    "df_connected.shape"
   ]
  },
  {
   "cell_type": "code",
   "execution_count": 86,
   "metadata": {},
   "outputs": [],
   "source": [
    "import numpy as np\n",
    "from sklearn.metrics.pairwise import cosine_similarity\n",
    "\n",
    "\n",
    "def compute_cosine_similarity_matrix(\n",
    "    df, embeddings_column, sample_size=1000, random_state=1887\n",
    "):\n",
    "    \"\"\"\n",
    "    Computes the cosine similarity matrix for the embeddings in a DataFrame column.\n",
    "\n",
    "    Parameters:\n",
    "    df (DataFrame): The DataFrame containing the embeddings.\n",
    "    embeddings_column (str): The name of the column containing embeddings.\n",
    "    sample_size (int, optional): The number of samples to consider. Defaults to 1000.\n",
    "    random_state (int, optional): The seed for random sampling. Defaults to 1887.\n",
    "\n",
    "    Returns:\n",
    "    ndarray: A cosine similarity matrix.\n",
    "    \"\"\"\n",
    "\n",
    "    # Sample the DataFrame and reset the index\n",
    "    df_sampled = df.sample(sample_size, random_state=random_state).reset_index(\n",
    "        drop=True\n",
    "    )\n",
    "\n",
    "    # Convert the embeddings column to a 2D NumPy array\n",
    "    embeddings = np.stack(df_sampled[embeddings_column])\n",
    "\n",
    "    # Check for NaN or infinite values and handle them\n",
    "    embeddings = np.nan_to_num(embeddings)\n",
    "\n",
    "    # Normalize the embeddings to unit length\n",
    "    norms = np.linalg.norm(embeddings, axis=1, keepdims=True)\n",
    "    normalized_embeddings = embeddings / norms\n",
    "\n",
    "    # Compute the cosine similarity matrix\n",
    "    cosine_similarity_matrix = np.dot(normalized_embeddings, normalized_embeddings.T)\n",
    "\n",
    "    return cosine_similarity_matrix\n",
    "\n",
    "\n",
    "# Usage example:\n",
    "# cosine_similarity_matrix = compute_cosine_similarity_matrix(df_connected, \"embeddings_allmpnet\")"
   ]
  },
  {
   "cell_type": "code",
   "execution_count": 102,
   "metadata": {},
   "outputs": [
    {
     "data": {
      "text/plain": [
       "1235733409"
      ]
     },
     "execution_count": 102,
     "metadata": {},
     "output_type": "execute_result"
    }
   ],
   "source": [
    "len(df_connected) * len(df_connected)"
   ]
  },
  {
   "cell_type": "code",
   "execution_count": 99,
   "metadata": {},
   "outputs": [
    {
     "name": "stdout",
     "output_type": "stream",
     "text": [
      "Paper 26: Efficacy of Phosphodiesterase-5 Inhibitor in Men With Premature Ejaculation: A New Systematic Review and Meta-analysis\n",
      "Second most similar paper:\n",
      "Paper 583: Phosphodiesterase Type 5 Inhibitors for Premature Ejaculation: A Systematic Review and Meta-analysis\n",
      "Cosine similarity: 0.9566106530320228\n",
      "----\n",
      "Paper 507: Remission with mirtazapine and selective serotonin reuptake inhibitors: A meta-analysis of individual patient data from 15 controlled trials of acute phase treatment of major depression\n",
      "Second most similar paper:\n",
      "Paper 843: A meta-analysis of clinical trials comparing mirtazapine with selective serotonin reuptake inhibitors for the treatment of major depressive disorder\n",
      "Cosine similarity: 0.9550023293431514\n",
      "----\n",
      "Paper 572: Treatment of depression in cardiovascular disease\n",
      "Second most similar paper:\n",
      "Paper 874: Management of depression in patients with comorbid cardiovascular disease\n",
      "Cosine similarity: 0.9520255672155236\n",
      "----\n"
     ]
    }
   ],
   "source": [
    "def is_pair_already_printed(p1, p2, printed_pairs):\n",
    "    \"\"\"Check if the pair has already been printed.\"\"\"\n",
    "    return (p1, p2) in printed_pairs or (p2, p1) in printed_pairs\n",
    "\n",
    "\n",
    "def print_second_most_similar(df, cosine_similarity_matrix):\n",
    "    printed_pairs = set()\n",
    "\n",
    "    for i, row in df.iterrows():\n",
    "        sorted_indices = np.argsort(cosine_similarity_matrix[i])\n",
    "        second_most_similar = sorted_indices[-2]  # -1 is the most similar (itself)\n",
    "\n",
    "        # Skip if the pair has already been printed\n",
    "        if is_pair_already_printed(i, second_most_similar, printed_pairs):\n",
    "            continue\n",
    "\n",
    "        # Handle the case where the most similar paper might be the paper itself\n",
    "        if second_most_similar == i:\n",
    "            second_most_similar = sorted_indices[-3]\n",
    "\n",
    "        # Check if the similarity is above the threshold\n",
    "        if cosine_similarity_matrix[i][second_most_similar] > 0.95:\n",
    "            printed_pairs.add((i, second_most_similar))\n",
    "\n",
    "            print(f\"Paper {i}: {row['title']}\")\n",
    "            print(\"Second most similar paper:\")\n",
    "            print(\n",
    "                f\"Paper {second_most_similar}: {df.iloc[second_most_similar]['title']}\"\n",
    "            )\n",
    "            print(\n",
    "                f\"Cosine similarity: {cosine_similarity_matrix[i][second_most_similar]}\"\n",
    "            )\n",
    "            print(\"----\")\n",
    "\n",
    "\n",
    "print_second_most_similar(df_sub, cosine_similarity_matrix)"
   ]
  },
  {
   "cell_type": "code",
   "execution_count": 94,
   "metadata": {},
   "outputs": [
    {
     "data": {
      "text/plain": [
       "(1052,)"
      ]
     },
     "execution_count": 94,
     "metadata": {},
     "output_type": "execute_result"
    }
   ],
   "source": [
    "# how many pairs are above .9?\n",
    "cosine_similarity_matrix[cosine_similarity_matrix > 0.9].shape"
   ]
  },
  {
   "cell_type": "code",
   "execution_count": 97,
   "metadata": {},
   "outputs": [
    {
     "data": {
      "text/plain": [
       "2015"
      ]
     },
     "execution_count": 97,
     "metadata": {},
     "output_type": "execute_result"
    }
   ],
   "source": [
    "df_sub[\"title_abstract\"][26]"
   ]
  },
  {
   "cell_type": "code",
   "execution_count": 98,
   "metadata": {},
   "outputs": [
    {
     "data": {
      "text/plain": [
       "2017"
      ]
     },
     "execution_count": 98,
     "metadata": {},
     "output_type": "execute_result"
    }
   ],
   "source": [
    "df_sub[\"title_abstract\"][583]"
   ]
  }
 ],
 "metadata": {
  "kernelspec": {
   "display_name": "Python 3",
   "language": "python",
   "name": "python3"
  },
  "language_info": {
   "codemirror_mode": {
    "name": "ipython",
    "version": 3
   },
   "file_extension": ".py",
   "mimetype": "text/x-python",
   "name": "python",
   "nbconvert_exporter": "python",
   "pygments_lexer": "ipython3",
   "version": "3.11.6"
  }
 },
 "nbformat": 4,
 "nbformat_minor": 2
}
