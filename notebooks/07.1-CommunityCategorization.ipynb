{
 "cells": [
  {
   "cell_type": "markdown",
   "metadata": {},
   "source": [
    "# In this notebook, we are qualitatively building categories\n"
   ]
  },
  {
   "cell_type": "markdown",
   "metadata": {},
   "source": [
    "# Category Building :\n",
    "\n",
    "## Pharmacology\n",
    "\n",
    "### Subcategories:\n",
    "\n",
    "1. Pharmacokinetics\n",
    "2. Pharmacodynamics\n",
    "   1. Forced Swimming Test\n",
    "3. Pharmacogenetics\n",
    "4. Toxicology?\n",
    "5. Pharmacoepidemiology?\n",
    "\n",
    "## Treatment in Special Populations\n",
    "\n",
    "### Subcategories:\n",
    "\n",
    "1. Pregnant women\n",
    "2. Children\n",
    "3. Elderly\n",
    "4. Disease states (e.g. renal failure, diabetes, cancer, parkinsons, etc.)\n",
    "\n",
    "## Disorders/Diseases (can also be interpreted as expansion of indication)\n",
    "\n",
    "### Subcategories:\n",
    "\n",
    "1. Depression\n",
    "2. Anxiety\n",
    "3. Schizophrenia\n",
    "4. Bipolar disorder\n",
    "5. OCD\n",
    "6. Pain\n",
    "7. Sleep\n",
    "\n",
    "## Drug Focused\n",
    "\n",
    "### Subcategories:\n",
    "\n",
    "1. Fluoxetine\n",
    "2. Sertraline\n",
    "   etc\n",
    "\n",
    "## Animal Focused\n",
    "\n",
    "### Subcategories:\n",
    "\n",
    "1. chronic unpredictable mild stress in mice\n",
    "2. forced swimming test\n",
    "\n",
    "## Safety\n",
    "\n",
    "### Subcategories:\n",
    "\n",
    "1. Bleeding\n",
    "2. Cardiac\n",
    "3. Withdrawal\n",
    "\n",
    "# Open Questions:\n",
    "\n",
    "1. How to deal with non-exclusive categories?\n",
    "\n",
    "   1.1 Multiple categories per paper?\n",
    "\n",
    "2. Using all clusters?\n",
    "3. Merging some clusters?\n"
   ]
  },
  {
   "cell_type": "code",
   "execution_count": 17,
   "metadata": {},
   "outputs": [],
   "source": [
    "%load_ext autoreload\n",
    "%autoreload 2"
   ]
  },
  {
   "cell_type": "code",
   "execution_count": 18,
   "metadata": {},
   "outputs": [],
   "source": [
    "import pandas as pd\n",
    "import json"
   ]
  },
  {
   "cell_type": "markdown",
   "metadata": {},
   "source": [
    "# load and prep data\n"
   ]
  },
  {
   "cell_type": "code",
   "execution_count": 19,
   "metadata": {},
   "outputs": [
    {
     "data": {
      "text/html": [
       "<div>\n",
       "<style scoped>\n",
       "    .dataframe tbody tr th:only-of-type {\n",
       "        vertical-align: middle;\n",
       "    }\n",
       "\n",
       "    .dataframe tbody tr th {\n",
       "        vertical-align: top;\n",
       "    }\n",
       "\n",
       "    .dataframe thead th {\n",
       "        text-align: right;\n",
       "    }\n",
       "</style>\n",
       "<table border=\"1\" class=\"dataframe\">\n",
       "  <thead>\n",
       "    <tr style=\"text-align: right;\">\n",
       "      <th></th>\n",
       "      <th>eid</th>\n",
       "      <th>title</th>\n",
       "      <th>date</th>\n",
       "      <th>first_author</th>\n",
       "      <th>abstract</th>\n",
       "      <th>doi</th>\n",
       "      <th>year</th>\n",
       "      <th>auth_year</th>\n",
       "      <th>unique_auth_year</th>\n",
       "      <th>pubmed_id</th>\n",
       "      <th>...</th>\n",
       "      <th>article_number</th>\n",
       "      <th>reference_eids</th>\n",
       "      <th>nr_references</th>\n",
       "      <th>filtered_reference_eids</th>\n",
       "      <th>nr_filtered_references</th>\n",
       "      <th>keep</th>\n",
       "      <th>specter2_embeddings</th>\n",
       "      <th>title_abstract</th>\n",
       "      <th>cluster_alpha0.3_k20_res0.005</th>\n",
       "      <th>centrality_alpha0.3_k20_res0.005</th>\n",
       "    </tr>\n",
       "  </thead>\n",
       "  <tbody>\n",
       "    <tr>\n",
       "      <th>0</th>\n",
       "      <td>2-s2.0-0020316326</td>\n",
       "      <td>Serotonergic mechanism in the control of β-end...</td>\n",
       "      <td>1982-04-12</td>\n",
       "      <td>Bruni J.F.</td>\n",
       "      <td>The role of the serotonergic mechanism in the ...</td>\n",
       "      <td>10.1016/0024-3205(82)90686-5</td>\n",
       "      <td>1982</td>\n",
       "      <td>Bruni_1982</td>\n",
       "      <td>Bruni_1982</td>\n",
       "      <td>6283286.0</td>\n",
       "      <td>...</td>\n",
       "      <td>NaN</td>\n",
       "      <td>[2-s2.0-0016795422, 2-s2.0-0000011578, 2-s2.0-...</td>\n",
       "      <td>46</td>\n",
       "      <td>[]</td>\n",
       "      <td>0</td>\n",
       "      <td>0</td>\n",
       "      <td>[-0.38758993, 0.8743463, -0.52714413, 0.029653...</td>\n",
       "      <td>Serotonergic mechanism in the control of β-end...</td>\n",
       "      <td>58</td>\n",
       "      <td>0.267480</td>\n",
       "    </tr>\n",
       "    <tr>\n",
       "      <th>1</th>\n",
       "      <td>2-s2.0-0019936013</td>\n",
       "      <td>EFFECTS OF PAROXETINE ON SYNAPTOSOMAL NEUROTRA...</td>\n",
       "      <td>1982-01-01</td>\n",
       "      <td>Magnussen I.</td>\n",
       "      <td>NaN</td>\n",
       "      <td>10.1111/j.1600-0404.1982.tb03382.x</td>\n",
       "      <td>1982</td>\n",
       "      <td>Magnussen_1982</td>\n",
       "      <td>Magnussen_1982_4</td>\n",
       "      <td>NaN</td>\n",
       "      <td>...</td>\n",
       "      <td>NaN</td>\n",
       "      <td>[]</td>\n",
       "      <td>0</td>\n",
       "      <td>[]</td>\n",
       "      <td>0</td>\n",
       "      <td>1</td>\n",
       "      <td>[0.32906824, 0.23448014, -0.6597943, 0.1363538...</td>\n",
       "      <td>EFFECTS OF PAROXETINE ON SYNAPTOSOMAL NEUROTRA...</td>\n",
       "      <td>36</td>\n",
       "      <td>0.094434</td>\n",
       "    </tr>\n",
       "    <tr>\n",
       "      <th>2</th>\n",
       "      <td>2-s2.0-0020058010</td>\n",
       "      <td>Treatment of intention myoclonus with paroxeti...</td>\n",
       "      <td>1982-01-01</td>\n",
       "      <td>Magnussen I.</td>\n",
       "      <td>NaN</td>\n",
       "      <td>NaN</td>\n",
       "      <td>1982</td>\n",
       "      <td>Magnussen_1982</td>\n",
       "      <td>Magnussen_1982_3</td>\n",
       "      <td>NaN</td>\n",
       "      <td>...</td>\n",
       "      <td>NaN</td>\n",
       "      <td>[]</td>\n",
       "      <td>0</td>\n",
       "      <td>[]</td>\n",
       "      <td>0</td>\n",
       "      <td>1</td>\n",
       "      <td>[0.40660483, 1.0992041, -0.6012529, 0.7322493,...</td>\n",
       "      <td>Treatment of intention myoclonus with paroxeti...</td>\n",
       "      <td>62</td>\n",
       "      <td>0.075132</td>\n",
       "    </tr>\n",
       "  </tbody>\n",
       "</table>\n",
       "<p>3 rows × 37 columns</p>\n",
       "</div>"
      ],
      "text/plain": [
       "                 eid                                              title  \\\n",
       "0  2-s2.0-0020316326  Serotonergic mechanism in the control of β-end...   \n",
       "1  2-s2.0-0019936013  EFFECTS OF PAROXETINE ON SYNAPTOSOMAL NEUROTRA...   \n",
       "2  2-s2.0-0020058010  Treatment of intention myoclonus with paroxeti...   \n",
       "\n",
       "        date  first_author                                           abstract  \\\n",
       "0 1982-04-12    Bruni J.F.  The role of the serotonergic mechanism in the ...   \n",
       "1 1982-01-01  Magnussen I.                                                NaN   \n",
       "2 1982-01-01  Magnussen I.                                                NaN   \n",
       "\n",
       "                                  doi  year       auth_year  unique_auth_year  \\\n",
       "0        10.1016/0024-3205(82)90686-5  1982      Bruni_1982        Bruni_1982   \n",
       "1  10.1111/j.1600-0404.1982.tb03382.x  1982  Magnussen_1982  Magnussen_1982_4   \n",
       "2                                 NaN  1982  Magnussen_1982  Magnussen_1982_3   \n",
       "\n",
       "   pubmed_id  ... article_number  \\\n",
       "0  6283286.0  ...            NaN   \n",
       "1        NaN  ...            NaN   \n",
       "2        NaN  ...            NaN   \n",
       "\n",
       "                                      reference_eids nr_references  \\\n",
       "0  [2-s2.0-0016795422, 2-s2.0-0000011578, 2-s2.0-...            46   \n",
       "1                                                 []             0   \n",
       "2                                                 []             0   \n",
       "\n",
       "   filtered_reference_eids nr_filtered_references keep  \\\n",
       "0                       []                      0    0   \n",
       "1                       []                      0    1   \n",
       "2                       []                      0    1   \n",
       "\n",
       "                                 specter2_embeddings  \\\n",
       "0  [-0.38758993, 0.8743463, -0.52714413, 0.029653...   \n",
       "1  [0.32906824, 0.23448014, -0.6597943, 0.1363538...   \n",
       "2  [0.40660483, 1.0992041, -0.6012529, 0.7322493,...   \n",
       "\n",
       "                                      title_abstract  \\\n",
       "0  Serotonergic mechanism in the control of β-end...   \n",
       "1  EFFECTS OF PAROXETINE ON SYNAPTOSOMAL NEUROTRA...   \n",
       "2  Treatment of intention myoclonus with paroxeti...   \n",
       "\n",
       "  cluster_alpha0.3_k20_res0.005 centrality_alpha0.3_k20_res0.005  \n",
       "0                            58                         0.267480  \n",
       "1                            36                         0.094434  \n",
       "2                            62                         0.075132  \n",
       "\n",
       "[3 rows x 37 columns]"
      ]
     },
     "execution_count": 19,
     "metadata": {},
     "output_type": "execute_result"
    }
   ],
   "source": [
    "params = \"alpha0.3_k20_res0.005\"\n",
    "p = f\"../data/06-clustered-df/{params}.pkl\"\n",
    "df = pd.read_pickle(p)\n",
    "df.head(3)"
   ]
  },
  {
   "cell_type": "code",
   "execution_count": 20,
   "metadata": {},
   "outputs": [
    {
     "data": {
      "text/plain": [
       "0      985\n",
       "1      935\n",
       "2      873\n",
       "3      792\n",
       "4      724\n",
       "      ... \n",
       "156     21\n",
       "157      6\n",
       "158      5\n",
       "159      1\n",
       "160      1\n",
       "Name: cluster_alpha0.3_k20_res0.005, Length: 161, dtype: int64"
      ]
     },
     "execution_count": 20,
     "metadata": {},
     "output_type": "execute_result"
    }
   ],
   "source": [
    "# value counts of clusters\n",
    "df[\"cluster_alpha0.3_k20_res0.005\"].value_counts()"
   ]
  },
  {
   "cell_type": "markdown",
   "metadata": {},
   "source": [
    "# helper func\n"
   ]
  },
  {
   "cell_type": "code",
   "execution_count": 21,
   "metadata": {},
   "outputs": [
    {
     "name": "stdout",
     "output_type": "stream",
     "text": [
      "Cluster 101:\n",
      "Gateways to clinical trials\n",
      "# # # # # # # # # # # # # # # # # # # # # # # # # # # # # # \n",
      "Gateways to Clinical Trials\n",
      "# # # # # # # # # # # # # # # # # # # # # # # # # # # # # # \n",
      "Electro interstitial scan system: Assessment of 10 years of research and development\n",
      "# # # # # # # # # # # # # # # # # # # # # # # # # # # # # # \n",
      "\n",
      "\n"
     ]
    }
   ],
   "source": [
    "def cluster_title_print(df,  cluster, random=False, n=10, random_state=1887):\n",
    "    \"\"\"\n",
    "    Print titles of documents belonging to a specific cluster.\n",
    "\n",
    "    Args:\n",
    "    - df: DataFrame containing document data.\n",
    "    - cluster: Cluster number for which titles are to be printed.\n",
    "    - random: Whether to select titles randomly. Defaults to False.\n",
    "    - n: Number of titles to print. Defaults to 10.\n",
    "    - random_state: Seed for random sampling. Defaults to None.\n",
    "\n",
    "    Returns:\n",
    "    - None\n",
    "    \"\"\"\n",
    "    # Filter DataFrame for the specified cluster\n",
    "    cluster_df = df[df[\"cluster_alpha0.3_k20_res0.005\"] == cluster]\n",
    "    \n",
    "    # Sort DataFrame by centrality\n",
    "    cluster_df = cluster_df.sort_values(by=\"centrality_alpha0.3_k20_res0.005\", ascending=False)\n",
    "    \n",
    "    # Select titles\n",
    "    if random:\n",
    "        titles = cluster_df.sample(n, random_state=random_state)['title'].values\n",
    "    else:\n",
    "        titles = cluster_df.head(n)['title'].values\n",
    "    \n",
    "    # Print titles\n",
    "    print(f\"Cluster {cluster}:\")\n",
    "    for title in titles:\n",
    "        print(title)\n",
    "        print(\"# \" * 30)\n",
    "    print(\"\\n\")\n",
    "\n",
    "cluster_title_print(df= df,cluster= 101, random=True, n=3, random_state=None)"
   ]
  },
  {
   "cell_type": "markdown",
   "metadata": {},
   "source": [
    "# Clusters labels are arrived at by assessing the file:\n",
    "\n",
    "`Study-1-Bibliometrics/output/tables/cluster-explorer/FinalSelect/SingleSolExplorer_alpha0.3_k20_res0.005.xlsx`\n"
   ]
  },
  {
   "cell_type": "code",
   "execution_count": 22,
   "metadata": {},
   "outputs": [],
   "source": [
    "cluster_labels = {\n",
    "    0: \"ocd\",\n",
    "    1: \"pregnancy\",\n",
    "    2: \"determining drug concentration\",\n",
    "    3: \"chronic unpredictable mild stress in mice\",\n",
    "    4: \"serotinin receptor studies\",\n",
    "    5: \"Cytochrome P450\",\n",
    "    6: \"effect on fish\",\n",
    "    7: \"wastewater\",\n",
    "    8: \"In vivo pregnancy\",\n",
    "    9: \"Drug utilisation\",\n",
    "    10: \"PTSD\",\n",
    "    11: \"sexual dysfunction\",\n",
    "    12: \"fluoxetine; diverse\",\n",
    "    13: \"pediatric depression pharmacotherapy\",\n",
    "    14: \"forced swimming test\",\n",
    "    15: \"pharmacotherapy of depression review\",\n",
    "    16: \"Polymorphism\",\n",
    "    17: \"Serotonin syndrome\",\n",
    "    18: \"Depression treatment in carciovascular pathologies\",\n",
    "    19: \"Paroxetine, diverse\",\n",
    "    20: \"StarD\",\n",
    "    21: \"Pain\",\n",
    "    22: \"post stroke depression\",\n",
    "    23: \"inflammation and serotonin\",\n",
    "    24: \"review of antidepressant medications\",\n",
    "    25: \"weight management\",\n",
    "    26: \"geriatric use of antidepressants\",  # as ads in dementia but also against agitation\n",
    "    27: \"Brain Derived Neurotrophic Factor\",\n",
    "    28: \"suicide risk\",\n",
    "    29: \"hippocampal neurogenesis\",\n",
    "    30: \"fear\",\n",
    "    31: \"panic disorder\",\n",
    "    32: \"treatment response biomarker\",  # where does this go within pharmacology?\n",
    "    33: \"bleeding risk\",\n",
    "    34: \"natural products\",\n",
    "    35: \"Anxiety\",\n",
    "    36: \"paroxetine binding\",\n",
    "    37: \"fracture risk\",\n",
    "    38: \"cancer\",  # the cluster is on cancer risk as well as protection\n",
    "    39: \"Dermatology\",  # psychosomatic / psychodermatology\n",
    "    40: \"covid\",  # almost exclusively fluvoxamine\n",
    "    41: \"alcoholism\",\n",
    "    42: \"irritable bowel disease\",\n",
    "    43: \"premature ejaculation\",\n",
    "    44: \"analytical chemistry\",  # determine concentration in tablets\n",
    "    45: \"sleep\",\n",
    "    46: \"eating disorders\",\n",
    "    47: \"neuroimaging\",  # uses human, in vivo, and in vitro studies. put it in any?\n",
    "    48: \"parkinson's disease\",\n",
    "    49: \"drug-drug interaction\",\n",
    "    50: \"ssri toxicity\",\n",
    "    51: \"sertraline, diverse\",\n",
    "    52: \"bipolar disorder\",\n",
    "    53: \"affective effects\",\n",
    "    54: \"fluvoxamine\",\n",
    "    55: \"hot flushes (menopause)\",\n",
    "    56: \"diabetes\",  # both as side effect and depression management in special pop\n",
    "    57: \"autoreceptors\",  # rather unclear to me\n",
    "    58: \"neuroendocrine system\",  # mixed study subjects (human, animal, in vitro)\n",
    "    59: \"cocaine addiction\",\n",
    "    60: \"venlafaxine for depression\",\n",
    "    61: \"schizophrenia\",\n",
    "    62: \"extrapyramidal side effects\",  #  movement dysfunctions\n",
    "    63: \"anxiety\",  # check merge with 35\n",
    "    64: \"clinical pharmacogenetics\",\n",
    "    65: \"synthesis and production\",\n",
    "    66: \"escitalopram for depression\",\n",
    "    67: \"epilepsy\",  # special pop and induced seizures\n",
    "    68: \"pediatric drug utilisation\",  # check merge with 9\n",
    "    69: \"autism\",\n",
    "    70: \"premenstrual syndromes\",\n",
    "    71: \"QT prolongation\",\n",
    "    72: \"chronic/prolonged use\",\n",
    "    73: \"pharmacoeconomics/health economics\",\n",
    "    74: \"ion channels\",\n",
    "    75: \"MDMA\",\n",
    "    76: \"cognitive function\",\n",
    "    77: \"serotonin transporter\",\n",
    "    78: \"pulmonary hypertension\",\n",
    "    79: \"citalopram\",\n",
    "    80: \"synthesis and compounds?\",  # need help here\n",
    "    81: \"enantiomer of citalopram\",  # someonee help me here (analyze pharmaceutical formulations in vitro to assess the composition and concentration of citalopram and its metabolites.?)\n",
    "    82: \"hyponatremia\",  # low sodium in blood\n",
    "    83: \"geriatric depression treatment\",\n",
    "    84: \"sertraline diverse\",\n",
    "    85: \"comparative studies\",\n",
    "    86: \"hepatic effects\",  # (on the liver)\n",
    "    87: \"borderline personality disorder\",\n",
    "    88: \"compulsions? body dysmorphic disorder? \",\n",
    "    89: \"gut microbiota\",\n",
    "    90: \"withdrawal symptoms\",\n",
    "    91: \"drug quantification (sertraline)\",\n",
    "    92: \"lactation\",  # put in pregnancy category?\n",
    "    93: \"pediatric anxiety\",\n",
    "    94: \"Neurosteroids\",\n",
    "    95: \"astrocytic receptors\",\n",
    "    96: \"Neurological Disorders and Emotional Dysregulation\",\n",
    "    97: \"male fertility\",  # testicular tissue and sperm quality\n",
    "    98: \"vitamin supplements for depression\",  # folic acid\",vitamin B12 and B9\n",
    "    99: \"seasonal affective disorder\",  # light therapy\n",
    "    100: \"safety reviews\",\n",
    "    101: \"gateway to clinical trials\",  # has lots of garbage\n",
    "    102: \"fibromyalgia\",  # merge with pain? (widespread musculoskeletal pain, fatigue, sleep disturbances, cognitive difficulties)\n",
    "    103: \"ssri reviews\",  # lots of garbage\n",
    "    104: \"marbe burying test\",  # animal model for anxiety\n",
    "    105: \"vilazodone for depression\",\n",
    "    106: \"depression in cancer patients\",\n",
    "    107: \"lipid metabolism\",  # in vivo and vitro studies, some human, what now?\n",
    "    108: \"neurotrophic factors, clinical\",  # (like bdnf); biomarker?\n",
    "    109: \"Loudness Dependence of Auditory Evoked Potentials (LDAEP)\",  # bit of garbage # garbage of depression response?\n",
    "    110: \"headache\",  # migraine and tension\n",
    "    111: \" stress urinary incontinence (SUI)\",\n",
    "    112: \"st johns worth\",\n",
    "    113: \"ssris\",  # no abstracts, ssri only\n",
    "    114: \"depression in renal disease\",\n",
    "    115: \"glaucoma risk\",\n",
    "    116: \"agomelatine for depression\",\n",
    "    117: \"acupuncture for depression\",\n",
    "    118: \"neuropsychiatric disorders\",  # , including catatonia, Tourette's syndrome\n",
    "    119: \"hypothermia\",\n",
    "    120: \"galanin system\",\n",
    "    121: \"recurrent depression\",\n",
    "    122: \"dysthymia\",\n",
    "    123: \"generic drugs\",\n",
    "    124: \"trichoillomania\",\n",
    "    125: \"addictions\",  # gambling mainly # merge with above to \"behavioral disorders?  \"\n",
    "    126: \"mania risk\",\n",
    "    127: \"zinc and depression\",\n",
    "    128: \"traumatic brain injury (TBI)\",\n",
    "    129: \"Galactorrhea\",  # breasts leak milk\n",
    "    130: \"Syncope\",  # fainting; treatment\n",
    "    131: \"exercise and depression\",\n",
    "    132: \"sigma 1 receptor\",  # is this in vivo?\n",
    "    133: \"critical psychiatry\",\n",
    "    134: \"G protein\",  # -coupled receptor kinase 2 (GRK2) inhibitors\", #  therapeutic applications in cardiovascular diseases, inflammation, and other related. NEEDS CHECK\n",
    "    135: \"hepatitis C\",  # special pop\n",
    "    136: \"thyroid levels\",  # as risk and as adjunct treatment\n",
    "    137: \"oral cavity\",  # burning mouth syndrome\n",
    "    138: \"depression in HIV\",  # special pop\n",
    "    139: \"veterinary use\",  # dogs mostly\n",
    "    140: \"electric current therapy\",  # electroconvulsive therapy\n",
    "    141: \"olfactory bulbectomy\",  # Researchers use this model to investigate the underlying neurobiological mechanisms of depression and to test potential antidepressant treatments.\n",
    "    142: \"excitatory/inhibitory effects\",\n",
    "    143: \"multiple sclerosis\",  # special pop and impact on ms\n",
    "    #############################\n",
    "    # form here less than 50 papers\n",
    "    #############################\n",
    "    144: \"neurotransmitter release estimation\",  # in vivo\n",
    "    145: \"restless legs syndrome\",  # treatment\n",
    "    146: \"chronic obstructive pulmonary disease (COPD)\",  # special pop\n",
    "    147: \"mutism\",\n",
    "    148: \"tryptophan metabolism\",  #\n",
    "    149: \"Congenital myasthenic syndromes\",\n",
    "    150: \"reboxetine for depression\",\n",
    "    151: \"escitalopram, diverse\",  # no abstracts, garbage.\n",
    "    152: \"statins for depression\",\n",
    "    153: \"blood brain barrier\",  #\n",
    "    154: \"animal neuroscience\",  # unclear\n",
    "    155: \"hormonal fluctuations\",\n",
    "    156: \"Gastroprotective Effects\",\n",
    "    157: \"too few\",\n",
    "    158: \"too few\",\n",
    "    159: \"too few\",\n",
    "    160: \"too few\",\n",
    "}\n",
    "\n",
    "\n",
    "path = f\"../output/cluster-qualifications/cluster_labels_{params}.json\"\n",
    "\n",
    "with open(path, \"w\") as f:\n",
    "    json.dump(cluster_labels, f)"
   ]
  },
  {
   "cell_type": "markdown",
   "metadata": {},
   "source": [
    "# fit the labels to the tree. main quesitons are:\n",
    "\n",
    "1. is is pharmacology?\n",
    "   which are of pharmacology\n",
    "2. is it perfomed in vivo, vitro, or human?\n",
    "3. is it a special population?\n",
    "4. is the focus on the drug\n",
    "5. is the focus on the disease\n",
    "\n",
    "TO DO:\n",
    "\n",
    "1. Improve granularity (No Cluster Names in the tree)\n",
    "2. Move safety to clinical studies\n",
    "3. put these inside in vivo studies!\n",
    "   \"animal models of disorders\": {\n",
    "   \"chronic unpredictable mild stress\": [3],\n",
    "   \"forced swimming test\": [14],\n",
    "   \"marble burying test (anxiety, ocd)\": [104],\n",
    "   \"ofaction bulbectomy\": [141]\n",
    "   },\n",
    "4. put these inside in vivo studies!\n",
    "5. put reviews also under clinical evidence.\n",
    "   \"Reviews\":\n",
    "   15, 24, 35, 51, 52, 55, 60, 63, 66, 68, 69, 76, 79, 83, 84, 85, 87, 90,\n",
    "   92, 93, 100, 103, 106, 110, 113, 150\n",
    "6. put these within clinical category\n",
    "   \"Drug\": {\n",
    "   \"Fluoxetine\": [12],\n",
    "   \"Paroxetine\": [19, 36],\n",
    "   \"Sertraline\": [51, 84],\n",
    "   \"Fluvoxamine\": [54],\n",
    "   \"Citalopram\": [79],\n",
    "   \"Escitalopram\": [66, 151],\n",
    "   \"Venlafaxine\": [60],\n",
    "   \"Vilazodone\": [105],\n",
    "   \"Agomelatine\": [116],\n",
    "   \"reboxetine\": [150],\n",
    "   \"statins\": [152]\n",
    "   },\n"
   ]
  },
  {
   "cell_type": "code",
   "execution_count": 50,
   "metadata": {},
   "outputs": [
    {
     "data": {
      "text/plain": [
       "dict_keys(['Pharmacology', 'Disorder/Disease', 'Safety', 'Study type', 'Special Populations', 'Drug', 'Other'])"
      ]
     },
     "execution_count": 50,
     "metadata": {},
     "output_type": "execute_result"
    }
   ],
   "source": [
    "cluster_tree = {\n",
    "    \"Pharmacology\": {\n",
    "        \"Pharmacokinetics\": {\n",
    "            \"Analytical Methods\": [2, 44, 81, 91],\n",
    "            \"Cytochromes\": [5],\n",
    "            \"blood brain barrier\": [153],\n",
    "        },\n",
    "        \"Pharmacodynamics\": {\n",
    "            \"Metabolism\": [],\n",
    "            \"Mechanism of Action\": {\n",
    "                \"Receptor studies\": [4, 36, 57],\n",
    "                \"Animal models\": [3, 14],\n",
    "                \"hippocampal neurogenesis\": [29],\n",
    "                \"neuroimaging\": [47],\n",
    "                \"neuroendocrine system\": [47],\n",
    "                \"ion channels\": [74],\n",
    "                \"serotonin transporter\": [77],\n",
    "                \"synthesis and compounds?\": [80],\n",
    "                \"gut microbiota\": [89],\n",
    "                \"neurosteroids\": [94],\n",
    "                \"astrocytic receptors\": [95],\n",
    "                \"lipid metabolism\": [107],\n",
    "                \"neurotrophic factors\": [108],\n",
    "                \"Loudness Dependence of Auditory Evoked Potentials (LDAEP)\": [109],\n",
    "                \"galanin system\": [120],\n",
    "                \"sigma 1 receptor\": [132],\n",
    "                \"ofaction bulbectomy\": [141],\n",
    "                \"tryptophan metabolism\": [148],\n",
    "            },\n",
    "            \"inflammation\": [23],\n",
    "            \"fear\": [30],\n",
    "            \"prolonged use\": [72],\n",
    "            \"pulmonary hypertension\": [78],\n",
    "            \"male fertility\": [97],\n",
    "            \"G protein\": [134],\n",
    "            \"excitatory/inhibitory effects\": [142],\n",
    "            \"neurotransmitter release estimation\": [144],\n",
    "            \"animal neuroscience\": [154],\n",
    "            \"hormonal fluctuations\": [155],\n",
    "        },\n",
    "        \"Pharmacogenetics\": {\n",
    "            \"Polymorphism\": [16],\n",
    "            \"BDNF\": [27],\n",
    "            \"clinical pharmacogenetics\": [64],\n",
    "        },\n",
    "        \"Pharmacoepidemiology\": {\"Drug utilisation\": [9, 68]},\n",
    "        \"Review\": {\"Review of antidepressant medications\": [24]},\n",
    "    },\n",
    "    \"Disorder/Disease\": {\n",
    "        \"Depression\": [\n",
    "            3,\n",
    "            13,\n",
    "            15,\n",
    "            16,\n",
    "            18,\n",
    "            20,\n",
    "            22,\n",
    "            28,\n",
    "            32,\n",
    "            60,\n",
    "            64,\n",
    "            66,\n",
    "            73,\n",
    "            83,\n",
    "            85,\n",
    "            98,\n",
    "            105,\n",
    "            106,\n",
    "            112,\n",
    "            116,\n",
    "            117,\n",
    "            121,\n",
    "            122,\n",
    "            123,\n",
    "            127,\n",
    "            128,\n",
    "            131,\n",
    "            135,\n",
    "            136,\n",
    "            138,\n",
    "            140,\n",
    "            146,\n",
    "            150,\n",
    "            152,\n",
    "        ],\n",
    "        \"Anxiety\": [30, 35, 63, 93],\n",
    "        \"OCD\": [0],\n",
    "        \"PTSD\": [10],\n",
    "        \"Panic Disorder\": [31],\n",
    "        \"Pain\": [21],\n",
    "        \"Inflammations\": [23, 134],\n",
    "        \"Weight Management\": [25],\n",
    "        \"Agitation in dementia\": [26],\n",
    "        \"Dermatology\": [39],\n",
    "        \"Covid\": [40],\n",
    "        \"alcohol dependence\": [41],\n",
    "        \"irretable bowel disease\": [42],\n",
    "        \"premature ejaculation\": [43],\n",
    "        \"sleep\": [45],\n",
    "        \"eating disorders\": [46],\n",
    "        \"bipolar disorder\": [46],\n",
    "        \"hot flushes\": [55],\n",
    "        \"diabetes\": [56],\n",
    "        \"cocaine addiction\": [59],\n",
    "        \"schizophrenia\": [61],\n",
    "        \"epilepsy\": [67],\n",
    "        \"autism\": [69],\n",
    "        \"premenstrual syndromes\": [70],\n",
    "        \"Borderline Personlaity Disorder\": [87],\n",
    "        \"Neurological Disorders\": [96],\n",
    "        \"seasonal affective disorder\": [99],\n",
    "        \"fibromyalgia\": [102],\n",
    "        \"headache\": [110],\n",
    "        \"renal disease\": [114],\n",
    "        \"neuropsychiatric disorders\": [118],\n",
    "        \"addictions\": [125],\n",
    "        \"trichotillomania\": [124],\n",
    "        \"traumatic brain injury\": [128],\n",
    "        \"syncope\": [130],\n",
    "        \"cardiovascular diseases\": [134],\n",
    "        \"oral cavity\": [137],\n",
    "        \"multiple sclerosis\": [143],\n",
    "        \"mutism\": [147],\n",
    "        \"Congenital myasthenic syndromes\": [149],\n",
    "        \"gastroprotective effects\": [156],\n",
    "    },\n",
    "    \"Safety\": {  # or pharmacovigilance?\n",
    "        \"Serotonin syndrom\": [17],\n",
    "        \"Sexual dysfunction\": [11],\n",
    "        \"Suicide\": [13, 28],\n",
    "        \"Bleeding\": [33],\n",
    "        \"Fracture\": [37],\n",
    "        \"Cancer\": [38],\n",
    "        \"SSRI Toxicity\": [50],\n",
    "        \"diabetes\": [56],\n",
    "        \"extrapyramidal side effects\": [62],\n",
    "        \"qt prolongation\": [71],\n",
    "        \"prolonged use\": [72],\n",
    "        \"hyponatremia\": [82],\n",
    "        \"hepatic effects\": [86],\n",
    "        \"withdrawal\": [86],\n",
    "        \"male fertility\": [97],\n",
    "        \"safety reviews\": [100],\n",
    "        \"stress urinary incontinence\": [111],\n",
    "        \"glaucoma risk\": [115],\n",
    "        \"mania\": [126],\n",
    "        \"Galactorrhea\": [129],\n",
    "        \"restless legs syndrom\": [145],\n",
    "    },\n",
    "    \"Study type\": {\n",
    "        \"Clinical Focus\": [\n",
    "            0,\n",
    "            1,\n",
    "            10,\n",
    "            11,\n",
    "            13,\n",
    "            16,\n",
    "            17,\n",
    "            18,\n",
    "            20,\n",
    "            21,\n",
    "            22,\n",
    "            23,\n",
    "            24,\n",
    "            25,\n",
    "            26,\n",
    "            28,\n",
    "            31,\n",
    "            32,\n",
    "            33,\n",
    "            35,\n",
    "            37,\n",
    "            38,\n",
    "            39,\n",
    "            41,\n",
    "            43,\n",
    "            45,\n",
    "            46,\n",
    "            48,\n",
    "            49,\n",
    "            50,\n",
    "            54,\n",
    "            55,\n",
    "            56,\n",
    "            60,\n",
    "            61,\n",
    "            62,\n",
    "            63,\n",
    "            64,\n",
    "            66,\n",
    "            67,\n",
    "            68,\n",
    "            69,\n",
    "            71,\n",
    "            76,\n",
    "            79,\n",
    "            82,\n",
    "            83,\n",
    "            84,\n",
    "            85,\n",
    "            86,\n",
    "            87,\n",
    "            90,\n",
    "            92,\n",
    "            93,\n",
    "            96,\n",
    "            98,\n",
    "            100,\n",
    "            102,\n",
    "            103,\n",
    "            105,\n",
    "            108,\n",
    "            109,\n",
    "            110,\n",
    "            112,\n",
    "            113,\n",
    "            114,\n",
    "            116,\n",
    "            117,\n",
    "            118,\n",
    "            121,\n",
    "            122,\n",
    "            123,\n",
    "            124,\n",
    "            125,\n",
    "            128,\n",
    "            130,\n",
    "            131,\n",
    "            135,\n",
    "            136,\n",
    "            137,\n",
    "            138,\n",
    "            140,\n",
    "            143,\n",
    "            145,\n",
    "            146,\n",
    "            147,\n",
    "            148,\n",
    "            149,\n",
    "            150,\n",
    "            152,\n",
    "        ],\n",
    "        \"Preclinical Focus\": {\n",
    "            \"animal models of disorders\": {\n",
    "                \"chronic unpredictable mild stress\": [3],\n",
    "                \"forced swimming test\": [14],\n",
    "                \"marble burying test (anxiety, ocd)\": [104],\n",
    "                \"ofaction bulbectomy\": [141],\n",
    "            },\n",
    "            \"in vivo\": [\n",
    "                4,\n",
    "                5,\n",
    "                8,\n",
    "                21,\n",
    "                27,\n",
    "                29,\n",
    "                30,\n",
    "                34,\n",
    "                36,\n",
    "                57,\n",
    "                59,\n",
    "                72,\n",
    "                75,\n",
    "                77,\n",
    "                78,\n",
    "                89,\n",
    "                94,\n",
    "                97,\n",
    "                99,\n",
    "                104,\n",
    "                119,\n",
    "                120,\n",
    "                127,\n",
    "                141,\n",
    "                142,\n",
    "                144,\n",
    "                153,\n",
    "                154,\n",
    "                156,\n",
    "            ],\n",
    "            \"in vitro\": [44, 74, 81, 91],\n",
    "        },\n",
    "        \"Environmental Focus\": {\n",
    "            \"Fish\": [6],\n",
    "            \"Wastewater\": [7],\n",
    "        },\n",
    "        \"Reviews\": [\n",
    "            15,\n",
    "            24,\n",
    "            35,\n",
    "            51,\n",
    "            52,\n",
    "            55,\n",
    "            60,\n",
    "            63,\n",
    "            66,\n",
    "            68,\n",
    "            69,\n",
    "            76,\n",
    "            79,\n",
    "            83,\n",
    "            84,\n",
    "            85,\n",
    "            87,\n",
    "            90,\n",
    "            92,\n",
    "            93,\n",
    "            100,\n",
    "            103,\n",
    "            106,\n",
    "            110,\n",
    "            113,\n",
    "            150,  # can things be in reviews and in clinical?\n",
    "        ],\n",
    "        \"Comparative studies\": [20, 54],\n",
    "    },\n",
    "    \"Special Populations\": {\n",
    "        \"pregnancy\": [1, 8, 92],  # 92 is lactation\n",
    "        \"pediatrics\": [13, 28, 93],\n",
    "        \"cardiovascular pathologies\": [18],\n",
    "        \"post stroke\": [22],\n",
    "        \"geriatrics\": [\n",
    "            26,\n",
    "            37,\n",
    "            48,\n",
    "            49,\n",
    "            76,\n",
    "            82,  # mainly on a side effect that is more common in elderly\n",
    "            83,\n",
    "            111,\n",
    "        ],\n",
    "        \"diabetes\": [56],\n",
    "        \"cancer\": [106],\n",
    "        \"renal disease\": [114],\n",
    "        \"hepatitis C\": [135],\n",
    "        \"HIV\": [138],\n",
    "        \"chronic obstructive pulmonary disease\": [146],\n",
    "    },\n",
    "    \"Drug\": {\n",
    "        \"Fluoxetine\": [12],\n",
    "        \"Paroxetine\": [19, 36],\n",
    "        \"Sertraline\": [51, 84],\n",
    "        \"Fluvoxamine\": [54],\n",
    "        \"Citalopram\": [79],\n",
    "        \"Escitalopram\": [66, 151],\n",
    "        \"Venlafaxine\": [60],\n",
    "        \"Vilazodone\": [105],\n",
    "        \"Agomelatine\": [116],\n",
    "        \"reboxetine\": [150],\n",
    "        \"statins\": [152],\n",
    "    },\n",
    "    \"Other\": {\n",
    "        \"Natural Products\": [34],\n",
    "        \"affective effects\": [53],\n",
    "        \"synthesis and production\": [65],\n",
    "        \"health economics\": [73, 123],\n",
    "        \"st johns wort\": [112],\n",
    "        \"critical psychiatry\": [133],\n",
    "        \"veterinary use\": [139],\n",
    "    },\n",
    "}\n",
    "\n",
    "\n",
    "with open(f\"../output/cluster-qualifications/cluster_tree_{params}_attempt1.json\", \"w\") as f:\n",
    "    json.dump(cluster_tree, f)\n",
    "\n",
    "cluster_tree.keys()"
   ]
  },
  {
   "cell_type": "markdown",
   "metadata": {},
   "source": [
    "# NEW ATTEMPT\n"
   ]
  },
  {
   "cell_type": "code",
   "execution_count": 65,
   "metadata": {},
   "outputs": [
    {
     "data": {
      "text/plain": [
       "dict_keys(['Pharmacology', 'Disorder/Disease', 'Safety', 'Study type', 'Drug', 'Other'])"
      ]
     },
     "execution_count": 65,
     "metadata": {},
     "output_type": "execute_result"
    }
   ],
   "source": [
    "cluster_tree = {\n",
    "    \"Pharmacology\": {\n",
    "        \"Pharmacokinetics\": {\n",
    "            \"Analytical Methods\": [2, 44, 81, 91],\n",
    "            \"other\": [5, 153],\n",
    "        },\n",
    "        \"Pharmacodynamics\": {\n",
    "            \"Mechanism of Action\": \n",
    "                 [\n",
    "                 4, 36, 57, 3, 14, 29, 47, 47, 74, 77, 80, 89, 94, 95, 107, 108, 109, 120, 132, 141, 148,\n",
    "                 ],\n",
    "            \"other\": [23, 30, 72, 78, 97, 134, 142, 144, 154, 155,]\n",
    "        },\n",
    "        \"Pharmacogenetics\": [\n",
    "                16, 27, 64,\n",
    "        ],\n",
    "        \"other\": {\"Drug utilisation\": [9, 68],\n",
    "                  \"Review of antidepressant medications\": [24]\n",
    "                  },\n",
    "    },\n",
    "    \"Disorder/Disease\": {\n",
    "        \"Depression\": [\n",
    "            3, 13, 15, 16, 18, 20,22, 28, 32, 60, 64, 66, 73, 83, 85, 98, 105, 106, 112, 116, 117, 121, 122, 123, 127, 128, 131, 135, 136, 138, 140, 146, 150, 152,\n",
    "        ],\n",
    "        \"Anxiety\": [30, 35, 63, 93],\n",
    "        \"Inflammations\": [23, 134],\n",
    "        \"other\": [\n",
    "            0, 10, 31, 21, 25, 26, 39, 40, 41, 42, 43, 45, 46, 46, 55, 56, 59, 61, 67, 69, 70, 87, 96, 99, 102, 110, 114, 118, 125, 124, 128, 130, 134, 137, 143, 147, 149, 156,]\n",
    "    },\n",
    "    \"Safety\": [\n",
    "            17, 11, 28, 33, 37, 38, 50, 56, 62, 71, 72, 82, 86, 86, 97, 100, 111, 115, 126, 129, 145,\n",
    "    ],\n",
    "    \"Study type\": {\n",
    "        \"Clinical Evidence\": \n",
    "            [ 0, 1, 10, 11, 13, 16, 17, 18, 20, 21, 22, 23, 24, 25, 26, 28, 31, 32, 33, 35, 37, 38, 39, 41, 43, 45, 46, 48, 49, 50, 54, 55, 56, 60, 61, 62, 63, 64, 66, 67, 68, 69, 71, 76, 79, 82, 83, 84, 85, 86, 87, 90, 92, 93, 96, 98, 100, 102, 103, 105, 108, 109, 110, 112, 113, 114, 116, 117, 118, 121, 122, 123, 124, 125, 128, 130, 131, 135, 136, 137, 138, 140, 143, 145, 146, 147, 148, 149, 150, 152,\n",
    "        ],\n",
    "        \"Preclinical Evidence\": {\n",
    "            \"in vivo\": {\n",
    "                \"animal models of disorders\": [ 3, 14, 104, 141],\n",
    "                \"other\": [\n",
    "                4, 5, 8, 21, 27, 29, 30, 34, 36, 57, 59, 72, 75, 77, 78, 89, 94, 97, 99, 104, 119, 120, 127, 141, 142, 144, 153, 154, 156,\n",
    "            ]},\n",
    "            \"in vitro\": [44, 74, 81, 91],\n",
    "        },\n",
    "        \"Environmental Evidence\": {\n",
    "            \"Fish\": [6],\n",
    "            \"Wastewater\": [7],\n",
    "        },\n",
    "        \"Reviews\": [\n",
    "            15, 24, 35, 51, 52, 55, 60, 63, 66, 68, 69, 76, 79, 83, 84, 85, 87, 90, 92, 93, 100, 103, 106, 110, 113, 150,  # can things be in reviews and in clinical?\n",
    "        ],\n",
    "        \"Comparative studies\": [20, 54],\n",
    "    },\n",
    "\n",
    "    \"Drug\": {\n",
    "        \"Fluoxetine\": [12],\n",
    "        \"Paroxetine\": [19, 36],\n",
    "        \"Sertraline\": [51, 84],\n",
    "        \"Fluvoxamine\": [54],\n",
    "        \"Citalopram\": [79],\n",
    "        \"Escitalopram\": [66, 151],\n",
    "        \"Venlafaxine\": [60],\n",
    "        \"Vilazodone\": [105],\n",
    "        \"Agomelatine\": [116],\n",
    "        \"reboxetine\": [150],\n",
    "        \"statins\": [152],\n",
    "    },\n",
    "    \"Other\": {\n",
    "        \"health economics\": [73, 123],\n",
    "        \"other\" : [34, 53, 65, 112, 133, 139,]\n",
    "    },\n",
    "}\n",
    "\n",
    "\n",
    "with open(f\"../output/cluster-qualifications/cluster_tree_{params}_attempt2.json\", \"w\") as f:\n",
    "    json.dump(cluster_tree, f)\n",
    "\n",
    "cluster_tree.keys()"
   ]
  },
  {
   "cell_type": "code",
   "execution_count": 66,
   "metadata": {},
   "outputs": [
    {
     "name": "stdout",
     "output_type": "stream",
     "text": [
      "Pharmacology\n",
      "dict_keys(['Pharmacokinetics', 'Pharmacodynamics', 'Pharmacogenetics', 'other'])\n",
      "Disorder/Disease\n",
      "dict_keys(['Depression', 'Anxiety', 'Inflammations', 'other'])\n",
      "Safety\n",
      "Study type\n",
      "dict_keys(['Clinical Evidence', 'Preclinical Evidence', 'Environmental Evidence', 'Reviews', 'Comparative studies'])\n",
      "Drug\n",
      "dict_keys(['Fluoxetine', 'Paroxetine', 'Sertraline', 'Fluvoxamine', 'Citalopram', 'Escitalopram', 'Venlafaxine', 'Vilazodone', 'Agomelatine', 'reboxetine', 'statins'])\n",
      "Other\n",
      "dict_keys(['health economics', 'other'])\n"
     ]
    }
   ],
   "source": [
    "\n",
    "for key, _ in cluster_tree.items():\n",
    "    print(key)\n",
    "    if isinstance(cluster_tree[key], dict):\n",
    "        print(cluster_tree[key].keys())\n"
   ]
  },
  {
   "cell_type": "code",
   "execution_count": null,
   "metadata": {},
   "outputs": [],
   "source": []
  },
  {
   "cell_type": "code",
   "execution_count": null,
   "metadata": {},
   "outputs": [],
   "source": []
  },
  {
   "cell_type": "markdown",
   "metadata": {},
   "source": [
    "# prepare dataset\n"
   ]
  },
  {
   "cell_type": "code",
   "execution_count": 26,
   "metadata": {},
   "outputs": [
    {
     "data": {
      "text/html": [
       "<div>\n",
       "<style scoped>\n",
       "    .dataframe tbody tr th:only-of-type {\n",
       "        vertical-align: middle;\n",
       "    }\n",
       "\n",
       "    .dataframe tbody tr th {\n",
       "        vertical-align: top;\n",
       "    }\n",
       "\n",
       "    .dataframe thead th {\n",
       "        text-align: right;\n",
       "    }\n",
       "</style>\n",
       "<table border=\"1\" class=\"dataframe\">\n",
       "  <thead>\n",
       "    <tr style=\"text-align: right;\">\n",
       "      <th></th>\n",
       "      <th>label</th>\n",
       "      <th>cluster</th>\n",
       "      <th>branch_depth1</th>\n",
       "      <th>branch_depth2</th>\n",
       "      <th>branch_depth3</th>\n",
       "      <th>branch_depth4</th>\n",
       "    </tr>\n",
       "  </thead>\n",
       "  <tbody>\n",
       "    <tr>\n",
       "      <th>0</th>\n",
       "      <td>OCD</td>\n",
       "      <td>0</td>\n",
       "      <td>Disorder/Disease</td>\n",
       "      <td>other</td>\n",
       "      <td></td>\n",
       "      <td></td>\n",
       "    </tr>\n",
       "    <tr>\n",
       "      <th>1</th>\n",
       "      <td>OCD</td>\n",
       "      <td>0</td>\n",
       "      <td>Study type</td>\n",
       "      <td>Clinical Evidence</td>\n",
       "      <td></td>\n",
       "      <td></td>\n",
       "    </tr>\n",
       "    <tr>\n",
       "      <th>2</th>\n",
       "      <td>PREGNANCY</td>\n",
       "      <td>1</td>\n",
       "      <td>Study type</td>\n",
       "      <td>Clinical Evidence</td>\n",
       "      <td></td>\n",
       "      <td></td>\n",
       "    </tr>\n",
       "    <tr>\n",
       "      <th>3</th>\n",
       "      <td>DETERMINING DRUG CONCENTRATION</td>\n",
       "      <td>2</td>\n",
       "      <td>Pharmacology</td>\n",
       "      <td>Pharmacokinetics</td>\n",
       "      <td>Analytical Methods</td>\n",
       "      <td></td>\n",
       "    </tr>\n",
       "    <tr>\n",
       "      <th>4</th>\n",
       "      <td>CHRONIC UNPREDICTABLE MILD STRESS IN MICE</td>\n",
       "      <td>3</td>\n",
       "      <td>Pharmacology</td>\n",
       "      <td>Pharmacodynamics</td>\n",
       "      <td>Mechanism of Action</td>\n",
       "      <td></td>\n",
       "    </tr>\n",
       "  </tbody>\n",
       "</table>\n",
       "</div>"
      ],
      "text/plain": [
       "                                       label cluster     branch_depth1  \\\n",
       "0                                        OCD       0  Disorder/Disease   \n",
       "1                                        OCD       0        Study type   \n",
       "2                                  PREGNANCY       1        Study type   \n",
       "3             DETERMINING DRUG CONCENTRATION       2      Pharmacology   \n",
       "4  CHRONIC UNPREDICTABLE MILD STRESS IN MICE       3      Pharmacology   \n",
       "\n",
       "       branch_depth2        branch_depth3 branch_depth4  \n",
       "0              other                                     \n",
       "1  Clinical Evidence                                     \n",
       "2  Clinical Evidence                                     \n",
       "3   Pharmacokinetics   Analytical Methods                \n",
       "4   Pharmacodynamics  Mechanism of Action                "
      ]
     },
     "execution_count": 26,
     "metadata": {},
     "output_type": "execute_result"
    }
   ],
   "source": [
    "\n",
    "def find_branches(cluster, tree, cluster_labels, current_path=None):\n",
    "    \"\"\"\n",
    "    Recursively find all branches for a given cluster in a tree structure.\n",
    "\n",
    "    Args:\n",
    "    - cluster: The cluster for which branches are to be found.\n",
    "    - tree: The tree structure containing branches.\n",
    "    - cluster_labels: Dictionary mapping clusters to labels.\n",
    "    - current_path: List containing the current branch path.\n",
    "\n",
    "    Returns:\n",
    "    - branches: List of all branches for the given cluster.\n",
    "    \"\"\"\n",
    "    if current_path is None:\n",
    "        current_path = []\n",
    "    branches = []\n",
    "    for branch, subbranches in tree.items():\n",
    "        current_path.append(branch)\n",
    "        if isinstance(subbranches, dict):\n",
    "            branches.extend(find_branches(cluster, subbranches, cluster_labels, current_path.copy()))\n",
    "        else:\n",
    "            if cluster in subbranches:\n",
    "                branches.append(\" > \".join(current_path))\n",
    "        current_path.pop()\n",
    "    return branches\n",
    "\n",
    "def construct_cluster_full_tree(cluster_labels, cluster_tree):\n",
    "    \"\"\"\n",
    "    Construct cluster_full_tree containing branches for each cluster.\n",
    "\n",
    "    Args:\n",
    "    - cluster_labels: Dictionary mapping clusters to labels.\n",
    "    - cluster_tree: Tree structure containing branches.\n",
    "\n",
    "    Returns:\n",
    "    - cluster_full_tree: Dictionary containing branches for each cluster.\n",
    "    \"\"\"\n",
    "    cluster_full_tree = {}\n",
    "    for cluster, label in cluster_labels.items():\n",
    "        branches = find_branches(cluster, cluster_tree, cluster_labels)\n",
    "        cluster_full_tree[cluster] = [label.upper()] + branches\n",
    "    return cluster_full_tree\n",
    "\n",
    "def construct_df_dict(cluster_full_tree):\n",
    "    \"\"\"\n",
    "    Construct a dictionary suitable for creating a DataFrame from the given cluster_full_tree.\n",
    "\n",
    "    Args:\n",
    "    - cluster_full_tree: Dictionary containing branches for each cluster.\n",
    "\n",
    "    Returns:\n",
    "    - df_dict: Dictionary suitable for creating a DataFrame.\n",
    "    \"\"\"\n",
    "    df_dict = {}\n",
    "    max_len = 0\n",
    "    for cluster, branches in cluster_full_tree.items():\n",
    "        label = branches[0]\n",
    "        cluster_branches = []\n",
    "        for branch in branches[1:]:\n",
    "            branch_items = branch.split(\" > \")\n",
    "            cluster_branches.append(branch_items)\n",
    "            max_len = max(max_len, len(branch_items))\n",
    "        df_dict[f'{cluster}:{label}'] = cluster_branches\n",
    "    return df_dict\n",
    "\n",
    "# Assuming cluster_labels and cluster_tree are already defined\n",
    "\n",
    "# Construct cluster_full_tree\n",
    "cluster_full_tree = construct_cluster_full_tree(cluster_labels, cluster_tree)\n",
    "\n",
    "# Construct df_dict\n",
    "df_dict = construct_df_dict(cluster_full_tree)\n",
    "\n",
    "# Extract lengths of all branches across clusters\n",
    "max_branch_lengths = max(len(branch) for branches in df_dict.values() for branch in branches)\n",
    "\n",
    "# Add empty strings to branches shorter than the longest branch\n",
    "for branches in df_dict.values():\n",
    "    for branch in branches:\n",
    "        branch.extend([\"\"] * (max_branch_lengths - len(branch)))\n",
    "\n",
    "# Build DataFrame where one index has multiple rows\n",
    "df_rows = []\n",
    "for cluster, branches in df_dict.items():\n",
    "    for branch in branches:\n",
    "        df_rows.append([cluster] + branch)\n",
    "\n",
    "# Create DataFrame\n",
    "df_paths = pd.DataFrame(df_rows, columns=[\"cluster\"] + [f\"branch_depth{i}\" for i in range(1, max_branch_lengths + 1)])\n",
    "\n",
    "# Split cluster column to separate cluster and label\n",
    "df_paths[['cluster', 'label']] = df_paths['cluster'].str.split(':', n=1, expand=True)\n",
    "\n",
    "cols = df_paths.columns.tolist()\n",
    "cols = cols[-1:] + cols[:-1]\n",
    "df_paths = df_paths[cols]\n",
    "\n",
    "df_paths.head()"
   ]
  },
  {
   "cell_type": "code",
   "execution_count": 74,
   "metadata": {},
   "outputs": [
    {
     "data": {
      "text/html": [
       "<div>\n",
       "<style scoped>\n",
       "    .dataframe tbody tr th:only-of-type {\n",
       "        vertical-align: middle;\n",
       "    }\n",
       "\n",
       "    .dataframe tbody tr th {\n",
       "        vertical-align: top;\n",
       "    }\n",
       "\n",
       "    .dataframe thead th {\n",
       "        text-align: right;\n",
       "    }\n",
       "</style>\n",
       "<table border=\"1\" class=\"dataframe\">\n",
       "  <thead>\n",
       "    <tr style=\"text-align: right;\">\n",
       "      <th></th>\n",
       "      <th>branch_depth1</th>\n",
       "      <th>branch_depth2</th>\n",
       "      <th>branch_depth3</th>\n",
       "      <th>branch_depth4</th>\n",
       "    </tr>\n",
       "  </thead>\n",
       "  <tbody>\n",
       "    <tr>\n",
       "      <th>20</th>\n",
       "      <td>Disorder/Disease</td>\n",
       "      <td>Anxiety</td>\n",
       "      <td></td>\n",
       "      <td></td>\n",
       "    </tr>\n",
       "    <tr>\n",
       "      <th>4</th>\n",
       "      <td>Disorder/Disease</td>\n",
       "      <td>Depression</td>\n",
       "      <td></td>\n",
       "      <td></td>\n",
       "    </tr>\n",
       "    <tr>\n",
       "      <th>18</th>\n",
       "      <td>Disorder/Disease</td>\n",
       "      <td>Inflammations</td>\n",
       "      <td></td>\n",
       "      <td></td>\n",
       "    </tr>\n",
       "    <tr>\n",
       "      <th>0</th>\n",
       "      <td>Disorder/Disease</td>\n",
       "      <td>other</td>\n",
       "      <td></td>\n",
       "      <td></td>\n",
       "    </tr>\n",
       "    <tr>\n",
       "      <th>30</th>\n",
       "      <td>Drug</td>\n",
       "      <td>Agomelatine</td>\n",
       "      <td></td>\n",
       "      <td></td>\n",
       "    </tr>\n",
       "    <tr>\n",
       "      <th>28</th>\n",
       "      <td>Drug</td>\n",
       "      <td>Citalopram</td>\n",
       "      <td></td>\n",
       "      <td></td>\n",
       "    </tr>\n",
       "    <tr>\n",
       "      <th>26</th>\n",
       "      <td>Drug</td>\n",
       "      <td>Escitalopram</td>\n",
       "      <td></td>\n",
       "      <td></td>\n",
       "    </tr>\n",
       "    <tr>\n",
       "      <th>12</th>\n",
       "      <td>Drug</td>\n",
       "      <td>Fluoxetine</td>\n",
       "      <td></td>\n",
       "      <td></td>\n",
       "    </tr>\n",
       "    <tr>\n",
       "      <th>24</th>\n",
       "      <td>Drug</td>\n",
       "      <td>Fluvoxamine</td>\n",
       "      <td></td>\n",
       "      <td></td>\n",
       "    </tr>\n",
       "    <tr>\n",
       "      <th>15</th>\n",
       "      <td>Drug</td>\n",
       "      <td>Paroxetine</td>\n",
       "      <td></td>\n",
       "      <td></td>\n",
       "    </tr>\n",
       "    <tr>\n",
       "      <th>23</th>\n",
       "      <td>Drug</td>\n",
       "      <td>Sertraline</td>\n",
       "      <td></td>\n",
       "      <td></td>\n",
       "    </tr>\n",
       "    <tr>\n",
       "      <th>25</th>\n",
       "      <td>Drug</td>\n",
       "      <td>Venlafaxine</td>\n",
       "      <td></td>\n",
       "      <td></td>\n",
       "    </tr>\n",
       "    <tr>\n",
       "      <th>29</th>\n",
       "      <td>Drug</td>\n",
       "      <td>Vilazodone</td>\n",
       "      <td></td>\n",
       "      <td></td>\n",
       "    </tr>\n",
       "    <tr>\n",
       "      <th>31</th>\n",
       "      <td>Drug</td>\n",
       "      <td>reboxetine</td>\n",
       "      <td></td>\n",
       "      <td></td>\n",
       "    </tr>\n",
       "    <tr>\n",
       "      <th>32</th>\n",
       "      <td>Drug</td>\n",
       "      <td>statins</td>\n",
       "      <td></td>\n",
       "      <td></td>\n",
       "    </tr>\n",
       "    <tr>\n",
       "      <th>27</th>\n",
       "      <td>Other</td>\n",
       "      <td>health economics</td>\n",
       "      <td></td>\n",
       "      <td></td>\n",
       "    </tr>\n",
       "    <tr>\n",
       "      <th>21</th>\n",
       "      <td>Other</td>\n",
       "      <td>other</td>\n",
       "      <td></td>\n",
       "      <td></td>\n",
       "    </tr>\n",
       "    <tr>\n",
       "      <th>3</th>\n",
       "      <td>Pharmacology</td>\n",
       "      <td>Pharmacodynamics</td>\n",
       "      <td>Mechanism of Action</td>\n",
       "      <td></td>\n",
       "    </tr>\n",
       "    <tr>\n",
       "      <th>17</th>\n",
       "      <td>Pharmacology</td>\n",
       "      <td>Pharmacodynamics</td>\n",
       "      <td>other</td>\n",
       "      <td></td>\n",
       "    </tr>\n",
       "    <tr>\n",
       "      <th>14</th>\n",
       "      <td>Pharmacology</td>\n",
       "      <td>Pharmacogenetics</td>\n",
       "      <td></td>\n",
       "      <td></td>\n",
       "    </tr>\n",
       "    <tr>\n",
       "      <th>2</th>\n",
       "      <td>Pharmacology</td>\n",
       "      <td>Pharmacokinetics</td>\n",
       "      <td>Analytical Methods</td>\n",
       "      <td></td>\n",
       "    </tr>\n",
       "    <tr>\n",
       "      <th>7</th>\n",
       "      <td>Pharmacology</td>\n",
       "      <td>Pharmacokinetics</td>\n",
       "      <td>other</td>\n",
       "      <td></td>\n",
       "    </tr>\n",
       "    <tr>\n",
       "      <th>10</th>\n",
       "      <td>Pharmacology</td>\n",
       "      <td>other</td>\n",
       "      <td>Drug utilisation</td>\n",
       "      <td></td>\n",
       "    </tr>\n",
       "    <tr>\n",
       "      <th>19</th>\n",
       "      <td>Pharmacology</td>\n",
       "      <td>other</td>\n",
       "      <td>Review of antidepressant medications</td>\n",
       "      <td></td>\n",
       "    </tr>\n",
       "    <tr>\n",
       "      <th>11</th>\n",
       "      <td>Safety</td>\n",
       "      <td></td>\n",
       "      <td></td>\n",
       "      <td></td>\n",
       "    </tr>\n",
       "    <tr>\n",
       "      <th>1</th>\n",
       "      <td>Study type</td>\n",
       "      <td>Clinical Evidence</td>\n",
       "      <td></td>\n",
       "      <td></td>\n",
       "    </tr>\n",
       "    <tr>\n",
       "      <th>16</th>\n",
       "      <td>Study type</td>\n",
       "      <td>Comparative studies</td>\n",
       "      <td></td>\n",
       "      <td></td>\n",
       "    </tr>\n",
       "    <tr>\n",
       "      <th>8</th>\n",
       "      <td>Study type</td>\n",
       "      <td>Environmental Evidence</td>\n",
       "      <td>Fish</td>\n",
       "      <td></td>\n",
       "    </tr>\n",
       "    <tr>\n",
       "      <th>9</th>\n",
       "      <td>Study type</td>\n",
       "      <td>Environmental Evidence</td>\n",
       "      <td>Wastewater</td>\n",
       "      <td></td>\n",
       "    </tr>\n",
       "    <tr>\n",
       "      <th>22</th>\n",
       "      <td>Study type</td>\n",
       "      <td>Preclinical Evidence</td>\n",
       "      <td>in vitro</td>\n",
       "      <td></td>\n",
       "    </tr>\n",
       "  </tbody>\n",
       "</table>\n",
       "</div>"
      ],
      "text/plain": [
       "       branch_depth1           branch_depth2  \\\n",
       "20  Disorder/Disease                 Anxiety   \n",
       "4   Disorder/Disease              Depression   \n",
       "18  Disorder/Disease           Inflammations   \n",
       "0   Disorder/Disease                   other   \n",
       "30              Drug             Agomelatine   \n",
       "28              Drug              Citalopram   \n",
       "26              Drug            Escitalopram   \n",
       "12              Drug              Fluoxetine   \n",
       "24              Drug             Fluvoxamine   \n",
       "15              Drug              Paroxetine   \n",
       "23              Drug              Sertraline   \n",
       "25              Drug             Venlafaxine   \n",
       "29              Drug              Vilazodone   \n",
       "31              Drug              reboxetine   \n",
       "32              Drug                 statins   \n",
       "27             Other        health economics   \n",
       "21             Other                   other   \n",
       "3       Pharmacology        Pharmacodynamics   \n",
       "17      Pharmacology        Pharmacodynamics   \n",
       "14      Pharmacology        Pharmacogenetics   \n",
       "2       Pharmacology        Pharmacokinetics   \n",
       "7       Pharmacology        Pharmacokinetics   \n",
       "10      Pharmacology                   other   \n",
       "19      Pharmacology                   other   \n",
       "11            Safety                           \n",
       "1         Study type       Clinical Evidence   \n",
       "16        Study type     Comparative studies   \n",
       "8         Study type  Environmental Evidence   \n",
       "9         Study type  Environmental Evidence   \n",
       "22        Study type    Preclinical Evidence   \n",
       "\n",
       "                           branch_depth3 branch_depth4  \n",
       "20                                                      \n",
       "4                                                       \n",
       "18                                                      \n",
       "0                                                       \n",
       "30                                                      \n",
       "28                                                      \n",
       "26                                                      \n",
       "12                                                      \n",
       "24                                                      \n",
       "15                                                      \n",
       "23                                                      \n",
       "25                                                      \n",
       "29                                                      \n",
       "31                                                      \n",
       "32                                                      \n",
       "27                                                      \n",
       "21                                                      \n",
       "3                    Mechanism of Action                \n",
       "17                                 other                \n",
       "14                                                      \n",
       "2                     Analytical Methods                \n",
       "7                                  other                \n",
       "10                      Drug utilisation                \n",
       "19  Review of antidepressant medications                \n",
       "11                                                      \n",
       "1                                                       \n",
       "16                                                      \n",
       "8                                   Fish                \n",
       "9                             Wastewater                \n",
       "22                              in vitro                "
      ]
     },
     "execution_count": 74,
     "metadata": {},
     "output_type": "execute_result"
    }
   ],
   "source": [
    "# remove duplicates based on branch 1 to 4\n",
    "df_paths_xs = df_paths.drop_duplicates(subset=df_paths.columns[2:6]).reset_index(drop=True)\n",
    "df_paths_xs = df_paths_xs.drop(columns=[\"label\", \"cluster\"])\n",
    "# sort after branch 1 to 4\n",
    "df_paths_xs = df_paths_xs.sort_values(by=df_paths_xs.columns[0:5].tolist())\n",
    "df_paths_xs.head(30)"
   ]
  },
  {
   "cell_type": "code",
   "execution_count": 68,
   "metadata": {},
   "outputs": [
    {
     "data": {
      "text/plain": [
       "'branch_depth1,branch_depth2,branch_depth3,branch_depth4\\nDisorder/Disease,other,,\\nStudy type,Clinical Evidence,,\\nPharmacology,Pharmacokinetics,Analytical Methods,\\nPharmacology,Pharmacodynamics,Mechanism of Action,\\nDisorder/Disease,Depression,,\\nStudy type,Preclinical Evidence,in vivo,animal models of disorders\\nStudy type,Preclinical Evidence,in vivo,other\\nPharmacology,Pharmacokinetics,other,\\nStudy type,Environmental Evidence,Fish,\\nStudy type,Environmental Evidence,Wastewater,\\nPharmacology,other,Drug utilisation,\\nSafety,,,\\nDrug,Fluoxetine,,\\nStudy type,Reviews,,\\nPharmacology,Pharmacogenetics,,\\nDrug,Paroxetine,,\\nStudy type,Comparative studies,,\\nPharmacology,Pharmacodynamics,other,\\nDisorder/Disease,Inflammations,,\\nPharmacology,other,Review of antidepressant medications,\\nDisorder/Disease,Anxiety,,\\nOther,other,,\\nStudy type,Preclinical Evidence,in vitro,\\nDrug,Sertraline,,\\nDrug,Fluvoxamine,,\\nDrug,Venlafaxine,,\\nDrug,Escitalopram,,\\nOther,health economics,,\\nDrug,Citalopram,,\\nDrug,Vilazodone,,\\nDrug,Agomelatine,,\\nDrug,reboxetine,,\\nDrug,statins,,\\n'"
      ]
     },
     "execution_count": 68,
     "metadata": {},
     "output_type": "execute_result"
    }
   ],
   "source": []
  },
  {
   "cell_type": "code",
   "execution_count": 52,
   "metadata": {},
   "outputs": [],
   "source": [
    "#  save to excel\n",
    "\n",
    "from openpyxl import load_workbook\n",
    "from openpyxl.styles import Font\n",
    "\n",
    "def increase_fontsize(path):\n",
    "    # Load the workbook\n",
    "    wb = load_workbook(path)\n",
    "\n",
    "    # Select the active worksheet\n",
    "    ws = wb.active\n",
    "\n",
    "    # Iterate over the cells in the worksheet and set the font size\n",
    "    for row in ws.iter_rows():\n",
    "        for cell in row:\n",
    "            cell.font = Font(size=14)  # Set the font size to 14\n",
    "\n",
    "    # Save the workbook\n",
    "    wb.save(path)\n",
    "\n",
    "\n",
    "# Your existing line of code\n",
    "df_paths.to_excel(f\"../output/cluster-qualifications/cluster_tree_{params}.xlsx\", index=False,)\n",
    "\n",
    "\n",
    "increase_fontsize(path = f\"../output/cluster-qualifications/cluster_tree_{params}.xlsx\")"
   ]
  },
  {
   "cell_type": "code",
   "execution_count": 53,
   "metadata": {},
   "outputs": [
    {
     "name": "stdout",
     "output_type": "stream",
     "text": [
      "Study type          157\n",
      "Disorder/Disease     77\n",
      "Pharmacology         42\n",
      "Safety               20\n",
      "Drug                 14\n",
      "Other                 8\n",
      "Name: branch_depth1, dtype: int64\n",
      "Clinical Evidence         90\n",
      "Preclinical Evidence      37\n",
      "Reviews                   26\n",
      "Environmental Evidence     2\n",
      "Comparative studies        2\n",
      "Name: branch_depth2, dtype: int64\n"
     ]
    }
   ],
   "source": [
    "print(df_paths['branch_depth1'].value_counts())\n",
    "# only disorder/disease\n",
    "df_paths_dd = df_paths[df_paths['branch_depth1'] == 'Study type']\n",
    "\n",
    "print(df_paths_dd['branch_depth2'].value_counts())"
   ]
  },
  {
   "cell_type": "markdown",
   "metadata": {},
   "source": [
    "# try outs\n"
   ]
  },
  {
   "cell_type": "code",
   "execution_count": 54,
   "metadata": {},
   "outputs": [],
   "source": [
    "import sys \n",
    "sys.path.append(\"/Users/jlq293/Projects/Study-1-Bibliometrics/src/network/\")\n",
    "from creation.PartitionCreator import PartitionCreator\n",
    "from analysis.NetworkAnalyzer import CommunityExplorer, FullExplorer\n",
    "from analysis.NetworkAnalyzerUtils import NetworkAnalyzerUtils"
   ]
  },
  {
   "cell_type": "code",
   "execution_count": 55,
   "metadata": {},
   "outputs": [
    {
     "data": {
      "text/html": [
       "<div>\n",
       "<style scoped>\n",
       "    .dataframe tbody tr th:only-of-type {\n",
       "        vertical-align: middle;\n",
       "    }\n",
       "\n",
       "    .dataframe tbody tr th {\n",
       "        vertical-align: top;\n",
       "    }\n",
       "\n",
       "    .dataframe thead th {\n",
       "        text-align: right;\n",
       "    }\n",
       "</style>\n",
       "<table border=\"1\" class=\"dataframe\">\n",
       "  <thead>\n",
       "    <tr style=\"text-align: right;\">\n",
       "      <th></th>\n",
       "      <th>label</th>\n",
       "      <th>cluster</th>\n",
       "      <th>branch_depth1</th>\n",
       "      <th>branch_depth2</th>\n",
       "      <th>branch_depth3</th>\n",
       "      <th>branch_depth4</th>\n",
       "    </tr>\n",
       "  </thead>\n",
       "  <tbody>\n",
       "    <tr>\n",
       "      <th>0</th>\n",
       "      <td>OCD</td>\n",
       "      <td>0</td>\n",
       "      <td>Disorder/Disease</td>\n",
       "      <td>other</td>\n",
       "      <td></td>\n",
       "      <td></td>\n",
       "    </tr>\n",
       "    <tr>\n",
       "      <th>1</th>\n",
       "      <td>OCD</td>\n",
       "      <td>0</td>\n",
       "      <td>Study type</td>\n",
       "      <td>Clinical Evidence</td>\n",
       "      <td></td>\n",
       "      <td></td>\n",
       "    </tr>\n",
       "    <tr>\n",
       "      <th>2</th>\n",
       "      <td>PREGNANCY</td>\n",
       "      <td>1</td>\n",
       "      <td>Study type</td>\n",
       "      <td>Clinical Evidence</td>\n",
       "      <td></td>\n",
       "      <td></td>\n",
       "    </tr>\n",
       "    <tr>\n",
       "      <th>3</th>\n",
       "      <td>DETERMINING DRUG CONCENTRATION</td>\n",
       "      <td>2</td>\n",
       "      <td>Pharmacology</td>\n",
       "      <td>Pharmacokinetics</td>\n",
       "      <td>Analytical Methods</td>\n",
       "      <td></td>\n",
       "    </tr>\n",
       "    <tr>\n",
       "      <th>4</th>\n",
       "      <td>CHRONIC UNPREDICTABLE MILD STRESS IN MICE</td>\n",
       "      <td>3</td>\n",
       "      <td>Pharmacology</td>\n",
       "      <td>Pharmacodynamics</td>\n",
       "      <td>Mechanism of Action</td>\n",
       "      <td></td>\n",
       "    </tr>\n",
       "    <tr>\n",
       "      <th>...</th>\n",
       "      <td>...</td>\n",
       "      <td>...</td>\n",
       "      <td>...</td>\n",
       "      <td>...</td>\n",
       "      <td>...</td>\n",
       "      <td>...</td>\n",
       "    </tr>\n",
       "    <tr>\n",
       "      <th>313</th>\n",
       "      <td>ANIMAL NEUROSCIENCE</td>\n",
       "      <td>154</td>\n",
       "      <td>Pharmacology</td>\n",
       "      <td>Pharmacodynamics</td>\n",
       "      <td>other</td>\n",
       "      <td></td>\n",
       "    </tr>\n",
       "    <tr>\n",
       "      <th>314</th>\n",
       "      <td>ANIMAL NEUROSCIENCE</td>\n",
       "      <td>154</td>\n",
       "      <td>Study type</td>\n",
       "      <td>Preclinical Evidence</td>\n",
       "      <td>in vivo</td>\n",
       "      <td>other</td>\n",
       "    </tr>\n",
       "    <tr>\n",
       "      <th>315</th>\n",
       "      <td>HORMONAL FLUCTUATIONS</td>\n",
       "      <td>155</td>\n",
       "      <td>Pharmacology</td>\n",
       "      <td>Pharmacodynamics</td>\n",
       "      <td>other</td>\n",
       "      <td></td>\n",
       "    </tr>\n",
       "    <tr>\n",
       "      <th>316</th>\n",
       "      <td>GASTROPROTECTIVE EFFECTS</td>\n",
       "      <td>156</td>\n",
       "      <td>Disorder/Disease</td>\n",
       "      <td>other</td>\n",
       "      <td></td>\n",
       "      <td></td>\n",
       "    </tr>\n",
       "    <tr>\n",
       "      <th>317</th>\n",
       "      <td>GASTROPROTECTIVE EFFECTS</td>\n",
       "      <td>156</td>\n",
       "      <td>Study type</td>\n",
       "      <td>Preclinical Evidence</td>\n",
       "      <td>in vivo</td>\n",
       "      <td>other</td>\n",
       "    </tr>\n",
       "  </tbody>\n",
       "</table>\n",
       "<p>318 rows × 6 columns</p>\n",
       "</div>"
      ],
      "text/plain": [
       "                                         label cluster     branch_depth1  \\\n",
       "0                                          OCD       0  Disorder/Disease   \n",
       "1                                          OCD       0        Study type   \n",
       "2                                    PREGNANCY       1        Study type   \n",
       "3               DETERMINING DRUG CONCENTRATION       2      Pharmacology   \n",
       "4    CHRONIC UNPREDICTABLE MILD STRESS IN MICE       3      Pharmacology   \n",
       "..                                         ...     ...               ...   \n",
       "313                        ANIMAL NEUROSCIENCE     154      Pharmacology   \n",
       "314                        ANIMAL NEUROSCIENCE     154        Study type   \n",
       "315                      HORMONAL FLUCTUATIONS     155      Pharmacology   \n",
       "316                   GASTROPROTECTIVE EFFECTS     156  Disorder/Disease   \n",
       "317                   GASTROPROTECTIVE EFFECTS     156        Study type   \n",
       "\n",
       "            branch_depth2        branch_depth3 branch_depth4  \n",
       "0                   other                                     \n",
       "1       Clinical Evidence                                     \n",
       "2       Clinical Evidence                                     \n",
       "3        Pharmacokinetics   Analytical Methods                \n",
       "4        Pharmacodynamics  Mechanism of Action                \n",
       "..                    ...                  ...           ...  \n",
       "313      Pharmacodynamics                other                \n",
       "314  Preclinical Evidence              in vivo         other  \n",
       "315      Pharmacodynamics                other                \n",
       "316                 other                                     \n",
       "317  Preclinical Evidence              in vivo         other  \n",
       "\n",
       "[318 rows x 6 columns]"
      ]
     },
     "execution_count": 55,
     "metadata": {},
     "output_type": "execute_result"
    }
   ],
   "source": []
  },
  {
   "cell_type": "code",
   "execution_count": 33,
   "metadata": {},
   "outputs": [],
   "source": [
    "ce = CommunityExplorer(\n",
    "    df=df,\n",
    "    cluster_column=f\"cluster_{params}\",\n",
    "    sort_column=f\"centrality_{params}\",\n",
    "    nr_tiles=20,\n",
    ")\n",
    "\n",
    "ce.create_full_explorer()\n",
    "df_summary, cluster_titles_sheets_dict = ce.full_return()\n",
    "\n"
   ]
  },
  {
   "cell_type": "code",
   "execution_count": 34,
   "metadata": {},
   "outputs": [],
   "source": [
    "# save to excel\n",
    "filepath = (\n",
    "    f\"../output/cluster-qualifications/MeetingLabelAssigningSheet.xlsx\"\n",
    ")\n",
    "NetworkAnalyzerUtils().clusters_excel_saver_with_hyperlinks(\n",
    "    filepath, df_summary, cluster_titles_sheets_dict\n",
    ")"
   ]
  },
  {
   "cell_type": "code",
   "execution_count": 35,
   "metadata": {},
   "outputs": [],
   "source": [
    "# save to excel\n",
    "filepath = (\n",
    "    f\"../output/tables/cluster-explorer/FinalSelect/SingleSolExplorer_{params}.xlsx\"\n",
    ")\n",
    "NetworkAnalyzerUtils().clusters_excel_saver_with_hyperlinks(\n",
    "    filepath, df_summary, cluster_titles_sheets_dict\n",
    ")"
   ]
  },
  {
   "cell_type": "code",
   "execution_count": null,
   "metadata": {},
   "outputs": [],
   "source": []
  },
  {
   "cell_type": "code",
   "execution_count": null,
   "metadata": {},
   "outputs": [],
   "source": []
  },
  {
   "cell_type": "code",
   "execution_count": null,
   "metadata": {},
   "outputs": [],
   "source": []
  },
  {
   "cell_type": "code",
   "execution_count": 57,
   "metadata": {},
   "outputs": [],
   "source": [
    "# get list of layouts in networkx\n",
    "import matplotlib.pyplot as plt\n",
    "import networkx as nx\n"
   ]
  },
  {
   "cell_type": "code",
   "execution_count": 60,
   "metadata": {},
   "outputs": [
    {
     "data": {
      "image/png": "[encoded data removed]",
      "text/plain": [
       "<Figure size 1200x800 with 1 Axes>"
      ]
     },
     "metadata": {},
     "output_type": "display_data"
    },
    {
     "data": {
      "image/png": "[encoded data removed]",
      "text/plain": [
       "<Figure size 640x480 with 1 Axes>"
      ]
     },
     "metadata": {},
     "output_type": "display_data"
    },
    {
     "data": {
      "image/png": "[encoded data removed]",
      "text/plain": [
       "<Figure size 640x480 with 1 Axes>"
      ]
     },
     "metadata": {},
     "output_type": "display_data"
    },
    {
     "data": {
      "image/png": "[encoded data removed]",
      "text/plain": [
       "<Figure size 640x480 with 1 Axes>"
      ]
     },
     "metadata": {},
     "output_type": "display_data"
    },
    {
     "data": {
      "image/png": "[encoded data removed]",
      "text/plain": [
       "<Figure size 640x480 with 1 Axes>"
      ]
     },
     "metadata": {},
     "output_type": "display_data"
    },
    {
     "data": {
      "image/png": "[encoded data removed]",
      "text/plain": [
       "<Figure size 640x480 with 1 Axes>"
      ]
     },
     "metadata": {},
     "output_type": "display_data"
    },
    {
     "data": {
      "image/png": "[encoded data removed]",
      "text/plain": [
       "<Figure size 640x480 with 1 Axes>"
      ]
     },
     "metadata": {},
     "output_type": "display_data"
    },
    {
     "data": {
      "image/png": "[encoded data removed]",
      "text/plain": [
       "<Figure size 640x480 with 1 Axes>"
      ]
     },
     "metadata": {},
     "output_type": "display_data"
    },
    {
     "data": {
      "image/png": "[encoded data removed]",
      "text/plain": [
       "<Figure size 640x480 with 1 Axes>"
      ]
     },
     "metadata": {},
     "output_type": "display_data"
    },
    {
     "data": {
      "image/png": "[encoded data removed]",
      "text/plain": [
       "<Figure size 640x480 with 1 Axes>"
      ]
     },
     "metadata": {},
     "output_type": "display_data"
    },
    {
     "data": {
      "image/png": "[encoded data removed]",
      "text/plain": [
       "<Figure size 640x480 with 1 Axes>"
      ]
     },
     "metadata": {},
     "output_type": "display_data"
    },
    {
     "data": {
      "image/png": "[encoded data removed]",
      "text/plain": [
       "<Figure size 640x480 with 1 Axes>"
      ]
     },
     "metadata": {},
     "output_type": "display_data"
    },
    {
     "data": {
      "image/png": "[encoded data removed]",
      "text/plain": [
       "<Figure size 640x480 with 1 Axes>"
      ]
     },
     "metadata": {},
     "output_type": "display_data"
    }
   ],
   "source": [
    "import pandas as pd\n",
    "import matplotlib.pyplot as plt\n",
    "import networkx as nx\n",
    "\n",
    "# Assuming df is already defined from your previous code\n",
    "\n",
    "# Initialize a directed graph\n",
    "G = nx.DiGraph()\n",
    "\n",
    "# Add edges between clusters and their corresponding labels\n",
    "# remove first two cols\n",
    "df_depth = df_paths_xs.iloc[:, 2:]\n",
    "\n",
    "# Extract unique chains from DataFrame\n",
    "chains = df_depth.apply(lambda row: tuple(item for item in row if item), axis=1).unique()\n",
    "\n",
    "# Add edges to the graph\n",
    "for chain in chains:\n",
    "    for i in range(len(chain) - 1):\n",
    "        G.add_edge(chain[i], chain[i + 1])\n",
    "\n",
    "# Draw the hierarchical tree\n",
    "plt.figure(figsize=(12, 8))\n",
    "\n",
    "networkx_layouts = [\n",
    "    nx.circular_layout,\n",
    "    nx.kamada_kawai_layout,\n",
    "    nx.random_layout,\n",
    "    nx.shell_layout,\n",
    "    nx.spectral_layout,\n",
    "    nx.spring_layout,\n",
    "    nx.planar_layout,\n",
    "    #nx.bipartite_layout,\n",
    "    nx.spectral_layout,\n",
    "    nx.spiral_layout,\n",
    "    nx.fruchterman_reingold_layout,\n",
    "    nx.spectral_layout,\n",
    "    nx.spiral_layout,\n",
    "    nx.spectral_layout,\n",
    "]\n",
    "\n",
    "for layout in networkx_layouts:\n",
    "    pos = layout(G)\n",
    "    nx.draw(G, pos, with_labels=False, node_size=30, node_color=\"skyblue\", font_size=14)\n",
    "    plt.title(f\"NetworkX Layout: {layout.__name__}\")\n",
    "    plt.show()"
   ]
  },
  {
   "cell_type": "code",
   "execution_count": 61,
   "metadata": {},
   "outputs": [],
   "source": [
    "import plotly.express as px\n"
   ]
  },
  {
   "cell_type": "code",
   "execution_count": 63,
   "metadata": {},
   "outputs": [
    {
     "data": {
      "text/html": [
       "<div>\n",
       "<style scoped>\n",
       "    .dataframe tbody tr th:only-of-type {\n",
       "        vertical-align: middle;\n",
       "    }\n",
       "\n",
       "    .dataframe tbody tr th {\n",
       "        vertical-align: top;\n",
       "    }\n",
       "\n",
       "    .dataframe thead th {\n",
       "        text-align: right;\n",
       "    }\n",
       "</style>\n",
       "<table border=\"1\" class=\"dataframe\">\n",
       "  <thead>\n",
       "    <tr style=\"text-align: right;\">\n",
       "      <th></th>\n",
       "      <th>branch_depth1</th>\n",
       "      <th>branch_depth2</th>\n",
       "      <th>branch_depth3</th>\n",
       "      <th>branch_depth4</th>\n",
       "    </tr>\n",
       "  </thead>\n",
       "  <tbody>\n",
       "    <tr>\n",
       "      <th>0</th>\n",
       "      <td>Disorder/Disease</td>\n",
       "      <td>other</td>\n",
       "      <td></td>\n",
       "      <td></td>\n",
       "    </tr>\n",
       "    <tr>\n",
       "      <th>1</th>\n",
       "      <td>Study type</td>\n",
       "      <td>Clinical Evidence</td>\n",
       "      <td></td>\n",
       "      <td></td>\n",
       "    </tr>\n",
       "    <tr>\n",
       "      <th>2</th>\n",
       "      <td>Pharmacology</td>\n",
       "      <td>Pharmacokinetics</td>\n",
       "      <td>Analytical Methods</td>\n",
       "      <td></td>\n",
       "    </tr>\n",
       "    <tr>\n",
       "      <th>3</th>\n",
       "      <td>Pharmacology</td>\n",
       "      <td>Pharmacodynamics</td>\n",
       "      <td>Mechanism of Action</td>\n",
       "      <td></td>\n",
       "    </tr>\n",
       "    <tr>\n",
       "      <th>4</th>\n",
       "      <td>Disorder/Disease</td>\n",
       "      <td>Depression</td>\n",
       "      <td></td>\n",
       "      <td></td>\n",
       "    </tr>\n",
       "    <tr>\n",
       "      <th>5</th>\n",
       "      <td>Study type</td>\n",
       "      <td>Preclinical Evidence</td>\n",
       "      <td>in vivo</td>\n",
       "      <td>animal models of disorders</td>\n",
       "    </tr>\n",
       "    <tr>\n",
       "      <th>6</th>\n",
       "      <td>Study type</td>\n",
       "      <td>Preclinical Evidence</td>\n",
       "      <td>in vivo</td>\n",
       "      <td>other</td>\n",
       "    </tr>\n",
       "    <tr>\n",
       "      <th>7</th>\n",
       "      <td>Pharmacology</td>\n",
       "      <td>Pharmacokinetics</td>\n",
       "      <td>other</td>\n",
       "      <td></td>\n",
       "    </tr>\n",
       "    <tr>\n",
       "      <th>8</th>\n",
       "      <td>Study type</td>\n",
       "      <td>Environmental Evidence</td>\n",
       "      <td>Fish</td>\n",
       "      <td></td>\n",
       "    </tr>\n",
       "    <tr>\n",
       "      <th>9</th>\n",
       "      <td>Study type</td>\n",
       "      <td>Environmental Evidence</td>\n",
       "      <td>Wastewater</td>\n",
       "      <td></td>\n",
       "    </tr>\n",
       "    <tr>\n",
       "      <th>10</th>\n",
       "      <td>Pharmacology</td>\n",
       "      <td>other</td>\n",
       "      <td>Drug utilisation</td>\n",
       "      <td></td>\n",
       "    </tr>\n",
       "    <tr>\n",
       "      <th>11</th>\n",
       "      <td>Safety</td>\n",
       "      <td></td>\n",
       "      <td></td>\n",
       "      <td></td>\n",
       "    </tr>\n",
       "    <tr>\n",
       "      <th>12</th>\n",
       "      <td>Drug</td>\n",
       "      <td>Fluoxetine</td>\n",
       "      <td></td>\n",
       "      <td></td>\n",
       "    </tr>\n",
       "    <tr>\n",
       "      <th>13</th>\n",
       "      <td>Study type</td>\n",
       "      <td>Reviews</td>\n",
       "      <td></td>\n",
       "      <td></td>\n",
       "    </tr>\n",
       "    <tr>\n",
       "      <th>14</th>\n",
       "      <td>Pharmacology</td>\n",
       "      <td>Pharmacogenetics</td>\n",
       "      <td></td>\n",
       "      <td></td>\n",
       "    </tr>\n",
       "    <tr>\n",
       "      <th>15</th>\n",
       "      <td>Drug</td>\n",
       "      <td>Paroxetine</td>\n",
       "      <td></td>\n",
       "      <td></td>\n",
       "    </tr>\n",
       "    <tr>\n",
       "      <th>16</th>\n",
       "      <td>Study type</td>\n",
       "      <td>Comparative studies</td>\n",
       "      <td></td>\n",
       "      <td></td>\n",
       "    </tr>\n",
       "    <tr>\n",
       "      <th>17</th>\n",
       "      <td>Pharmacology</td>\n",
       "      <td>Pharmacodynamics</td>\n",
       "      <td>other</td>\n",
       "      <td></td>\n",
       "    </tr>\n",
       "    <tr>\n",
       "      <th>18</th>\n",
       "      <td>Disorder/Disease</td>\n",
       "      <td>Inflammations</td>\n",
       "      <td></td>\n",
       "      <td></td>\n",
       "    </tr>\n",
       "    <tr>\n",
       "      <th>19</th>\n",
       "      <td>Pharmacology</td>\n",
       "      <td>other</td>\n",
       "      <td>Review of antidepressant medications</td>\n",
       "      <td></td>\n",
       "    </tr>\n",
       "    <tr>\n",
       "      <th>20</th>\n",
       "      <td>Disorder/Disease</td>\n",
       "      <td>Anxiety</td>\n",
       "      <td></td>\n",
       "      <td></td>\n",
       "    </tr>\n",
       "    <tr>\n",
       "      <th>21</th>\n",
       "      <td>Other</td>\n",
       "      <td>other</td>\n",
       "      <td></td>\n",
       "      <td></td>\n",
       "    </tr>\n",
       "    <tr>\n",
       "      <th>22</th>\n",
       "      <td>Study type</td>\n",
       "      <td>Preclinical Evidence</td>\n",
       "      <td>in vitro</td>\n",
       "      <td></td>\n",
       "    </tr>\n",
       "    <tr>\n",
       "      <th>23</th>\n",
       "      <td>Drug</td>\n",
       "      <td>Sertraline</td>\n",
       "      <td></td>\n",
       "      <td></td>\n",
       "    </tr>\n",
       "    <tr>\n",
       "      <th>24</th>\n",
       "      <td>Drug</td>\n",
       "      <td>Fluvoxamine</td>\n",
       "      <td></td>\n",
       "      <td></td>\n",
       "    </tr>\n",
       "    <tr>\n",
       "      <th>25</th>\n",
       "      <td>Drug</td>\n",
       "      <td>Venlafaxine</td>\n",
       "      <td></td>\n",
       "      <td></td>\n",
       "    </tr>\n",
       "    <tr>\n",
       "      <th>26</th>\n",
       "      <td>Drug</td>\n",
       "      <td>Escitalopram</td>\n",
       "      <td></td>\n",
       "      <td></td>\n",
       "    </tr>\n",
       "    <tr>\n",
       "      <th>27</th>\n",
       "      <td>Other</td>\n",
       "      <td>health economics</td>\n",
       "      <td></td>\n",
       "      <td></td>\n",
       "    </tr>\n",
       "    <tr>\n",
       "      <th>28</th>\n",
       "      <td>Drug</td>\n",
       "      <td>Citalopram</td>\n",
       "      <td></td>\n",
       "      <td></td>\n",
       "    </tr>\n",
       "    <tr>\n",
       "      <th>29</th>\n",
       "      <td>Drug</td>\n",
       "      <td>Vilazodone</td>\n",
       "      <td></td>\n",
       "      <td></td>\n",
       "    </tr>\n",
       "    <tr>\n",
       "      <th>30</th>\n",
       "      <td>Drug</td>\n",
       "      <td>Agomelatine</td>\n",
       "      <td></td>\n",
       "      <td></td>\n",
       "    </tr>\n",
       "    <tr>\n",
       "      <th>31</th>\n",
       "      <td>Drug</td>\n",
       "      <td>reboxetine</td>\n",
       "      <td></td>\n",
       "      <td></td>\n",
       "    </tr>\n",
       "    <tr>\n",
       "      <th>32</th>\n",
       "      <td>Drug</td>\n",
       "      <td>statins</td>\n",
       "      <td></td>\n",
       "      <td></td>\n",
       "    </tr>\n",
       "  </tbody>\n",
       "</table>\n",
       "</div>"
      ],
      "text/plain": [
       "       branch_depth1           branch_depth2  \\\n",
       "0   Disorder/Disease                   other   \n",
       "1         Study type       Clinical Evidence   \n",
       "2       Pharmacology        Pharmacokinetics   \n",
       "3       Pharmacology        Pharmacodynamics   \n",
       "4   Disorder/Disease              Depression   \n",
       "5         Study type    Preclinical Evidence   \n",
       "6         Study type    Preclinical Evidence   \n",
       "7       Pharmacology        Pharmacokinetics   \n",
       "8         Study type  Environmental Evidence   \n",
       "9         Study type  Environmental Evidence   \n",
       "10      Pharmacology                   other   \n",
       "11            Safety                           \n",
       "12              Drug              Fluoxetine   \n",
       "13        Study type                 Reviews   \n",
       "14      Pharmacology        Pharmacogenetics   \n",
       "15              Drug              Paroxetine   \n",
       "16        Study type     Comparative studies   \n",
       "17      Pharmacology        Pharmacodynamics   \n",
       "18  Disorder/Disease           Inflammations   \n",
       "19      Pharmacology                   other   \n",
       "20  Disorder/Disease                 Anxiety   \n",
       "21             Other                   other   \n",
       "22        Study type    Preclinical Evidence   \n",
       "23              Drug              Sertraline   \n",
       "24              Drug             Fluvoxamine   \n",
       "25              Drug             Venlafaxine   \n",
       "26              Drug            Escitalopram   \n",
       "27             Other        health economics   \n",
       "28              Drug              Citalopram   \n",
       "29              Drug              Vilazodone   \n",
       "30              Drug             Agomelatine   \n",
       "31              Drug              reboxetine   \n",
       "32              Drug                 statins   \n",
       "\n",
       "                           branch_depth3               branch_depth4  \n",
       "0                                                                     \n",
       "1                                                                     \n",
       "2                     Analytical Methods                              \n",
       "3                    Mechanism of Action                              \n",
       "4                                                                     \n",
       "5                                in vivo  animal models of disorders  \n",
       "6                                in vivo                       other  \n",
       "7                                  other                              \n",
       "8                                   Fish                              \n",
       "9                             Wastewater                              \n",
       "10                      Drug utilisation                              \n",
       "11                                                                    \n",
       "12                                                                    \n",
       "13                                                                    \n",
       "14                                                                    \n",
       "15                                                                    \n",
       "16                                                                    \n",
       "17                                 other                              \n",
       "18                                                                    \n",
       "19  Review of antidepressant medications                              \n",
       "20                                                                    \n",
       "21                                                                    \n",
       "22                              in vitro                              \n",
       "23                                                                    \n",
       "24                                                                    \n",
       "25                                                                    \n",
       "26                                                                    \n",
       "27                                                                    \n",
       "28                                                                    \n",
       "29                                                                    \n",
       "30                                                                    \n",
       "31                                                                    \n",
       "32                                                                    "
      ]
     },
     "execution_count": 63,
     "metadata": {},
     "output_type": "execute_result"
    }
   ],
   "source": [
    "df_paths_xs"
   ]
  },
  {
   "cell_type": "code",
   "execution_count": null,
   "metadata": {},
   "outputs": [],
   "source": []
  },
  {
   "cell_type": "code",
   "execution_count": null,
   "metadata": {},
   "outputs": [],
   "source": []
  },
  {
   "cell_type": "code",
   "execution_count": null,
   "metadata": {},
   "outputs": [],
   "source": []
  },
  {
   "cell_type": "code",
   "execution_count": 64,
   "metadata": {},
   "outputs": [
    {
     "data": {
      "application/vnd.plotly.v1+json": {
       "config": {
        "plotlyServerURL": "https://plot.ly"
       },
       "data": [
        {
         "branchvalues": "total",
         "domain": {
          "x": [
           0,
           1
          ],
          "y": [
           0,
           1
          ]
         },
         "hovertemplate": "labels=%{label}<br>total_bill=%{value}<br>parent=%{parent}<br>id=%{id}<extra></extra>",
         "ids": [
          "all/Fri/Dinner/Female",
          "all/Sat/Dinner/Female",
          "all/Sun/Dinner/Female",
          "all/Thur/Dinner/Female",
          "all/Fri/Lunch/Female",
          "all/Thur/Lunch/Female",
          "all/Fri/Dinner/Male",
          "all/Sat/Dinner/Male",
          "all/Sun/Dinner/Male",
          "all/Fri/Lunch/Male",
          "all/Thur/Lunch/Male",
          "all/Fri/Dinner",
          "all/Sat/Dinner",
          "all/Sun/Dinner",
          "all/Thur/Dinner",
          "all/Fri/Lunch",
          "all/Thur/Lunch",
          "all/Fri",
          "all/Sat",
          "all/Sun",
          "all/Thur",
          "all"
         ],
         "labels": [
          "Female",
          "Female",
          "Female",
          "Female",
          "Female",
          "Female",
          "Male",
          "Male",
          "Male",
          "Male",
          "Male",
          "Dinner",
          "Dinner",
          "Dinner",
          "Dinner",
          "Lunch",
          "Lunch",
          "Fri",
          "Sat",
          "Sun",
          "Thur",
          "all"
         ],
         "name": "",
         "parents": [
          "all/Fri/Dinner",
          "all/Sat/Dinner",
          "all/Sun/Dinner",
          "all/Thur/Dinner",
          "all/Fri/Lunch",
          "all/Thur/Lunch",
          "all/Fri/Dinner",
          "all/Sat/Dinner",
          "all/Sun/Dinner",
          "all/Fri/Lunch",
          "all/Thur/Lunch",
          "all/Fri",
          "all/Sat",
          "all/Sun",
          "all/Thur",
          "all/Fri",
          "all/Thur",
          "all",
          "all",
          "all",
          "all",
          ""
         ],
         "root": {
          "color": "lightgrey"
         },
         "type": "icicle",
         "values": [
          71.55,
          551.05,
          357.7,
          18.78,
          55.760000000000005,
          516.11,
          164.41,
          1227.35,
          1269.46,
          34.16,
          561.4399999999999,
          235.96,
          1778.4,
          1627.16,
          18.78,
          89.92,
          1077.55,
          325.88,
          1778.4,
          1627.16,
          1096.33,
          4827.7699999999995
         ]
        }
       ],
       "layout": {
        "legend": {
         "tracegroupgap": 0
        },
        "margin": {
         "b": 25,
         "l": 25,
         "r": 25,
         "t": 50
        },
        "template": {
         "data": {
          "bar": [
           {
            "error_x": {
             "color": "#2a3f5f"
            },
            "error_y": {
             "color": "#2a3f5f"
            },
            "marker": {
             "line": {
              "color": "#E5ECF6",
              "width": 0.5
             },
             "pattern": {
              "fillmode": "overlay",
              "size": 10,
              "solidity": 0.2
             }
            },
            "type": "bar"
           }
          ],
          "barpolar": [
           {
            "marker": {
             "line": {
              "color": "#E5ECF6",
              "width": 0.5
             },
             "pattern": {
              "fillmode": "overlay",
              "size": 10,
              "solidity": 0.2
             }
            },
            "type": "barpolar"
           }
          ],
          "carpet": [
           {
            "aaxis": {
             "endlinecolor": "#2a3f5f",
             "gridcolor": "white",
             "linecolor": "white",
             "minorgridcolor": "white",
             "startlinecolor": "#2a3f5f"
            },
            "baxis": {
             "endlinecolor": "#2a3f5f",
             "gridcolor": "white",
             "linecolor": "white",
             "minorgridcolor": "white",
             "startlinecolor": "#2a3f5f"
            },
            "type": "carpet"
           }
          ],
          "choropleth": [
           {
            "colorbar": {
             "outlinewidth": 0,
             "ticks": ""
            },
            "type": "choropleth"
           }
          ],
          "contour": [
           {
            "colorbar": {
             "outlinewidth": 0,
             "ticks": ""
            },
            "colorscale": [
             [
              0,
              "#0d0887"
             ],
             [
              0.1111111111111111,
              "#46039f"
             ],
             [
              0.2222222222222222,
              "#7201a8"
             ],
             [
              0.3333333333333333,
              "#9c179e"
             ],
             [
              0.4444444444444444,
              "#bd3786"
             ],
             [
              0.5555555555555556,
              "#d8576b"
             ],
             [
              0.6666666666666666,
              "#ed7953"
             ],
             [
              0.7777777777777778,
              "#fb9f3a"
             ],
             [
              0.8888888888888888,
              "#fdca26"
             ],
             [
              1,
              "#f0f921"
             ]
            ],
            "type": "contour"
           }
          ],
          "contourcarpet": [
           {
            "colorbar": {
             "outlinewidth": 0,
             "ticks": ""
            },
            "type": "contourcarpet"
           }
          ],
          "heatmap": [
           {
            "colorbar": {
             "outlinewidth": 0,
             "ticks": ""
            },
            "colorscale": [
             [
              0,
              "#0d0887"
             ],
             [
              0.1111111111111111,
              "#46039f"
             ],
             [
              0.2222222222222222,
              "#7201a8"
             ],
             [
              0.3333333333333333,
              "#9c179e"
             ],
             [
              0.4444444444444444,
              "#bd3786"
             ],
             [
              0.5555555555555556,
              "#d8576b"
             ],
             [
              0.6666666666666666,
              "#ed7953"
             ],
             [
              0.7777777777777778,
              "#fb9f3a"
             ],
             [
              0.8888888888888888,
              "#fdca26"
             ],
             [
              1,
              "#f0f921"
             ]
            ],
            "type": "heatmap"
           }
          ],
          "heatmapgl": [
           {
            "colorbar": {
             "outlinewidth": 0,
             "ticks": ""
            },
            "colorscale": [
             [
              0,
              "#0d0887"
             ],
             [
              0.1111111111111111,
              "#46039f"
             ],
             [
              0.2222222222222222,
              "#7201a8"
             ],
             [
              0.3333333333333333,
              "#9c179e"
             ],
             [
              0.4444444444444444,
              "#bd3786"
             ],
             [
              0.5555555555555556,
              "#d8576b"
             ],
             [
              0.6666666666666666,
              "#ed7953"
             ],
             [
              0.7777777777777778,
              "#fb9f3a"
             ],
             [
              0.8888888888888888,
              "#fdca26"
             ],
             [
              1,
              "#f0f921"
             ]
            ],
            "type": "heatmapgl"
           }
          ],
          "histogram": [
           {
            "marker": {
             "pattern": {
              "fillmode": "overlay",
              "size": 10,
              "solidity": 0.2
             }
            },
            "type": "histogram"
           }
          ],
          "histogram2d": [
           {
            "colorbar": {
             "outlinewidth": 0,
             "ticks": ""
            },
            "colorscale": [
             [
              0,
              "#0d0887"
             ],
             [
              0.1111111111111111,
              "#46039f"
             ],
             [
              0.2222222222222222,
              "#7201a8"
             ],
             [
              0.3333333333333333,
              "#9c179e"
             ],
             [
              0.4444444444444444,
              "#bd3786"
             ],
             [
              0.5555555555555556,
              "#d8576b"
             ],
             [
              0.6666666666666666,
              "#ed7953"
             ],
             [
              0.7777777777777778,
              "#fb9f3a"
             ],
             [
              0.8888888888888888,
              "#fdca26"
             ],
             [
              1,
              "#f0f921"
             ]
            ],
            "type": "histogram2d"
           }
          ],
          "histogram2dcontour": [
           {
            "colorbar": {
             "outlinewidth": 0,
             "ticks": ""
            },
            "colorscale": [
             [
              0,
              "#0d0887"
             ],
             [
              0.1111111111111111,
              "#46039f"
             ],
             [
              0.2222222222222222,
              "#7201a8"
             ],
             [
              0.3333333333333333,
              "#9c179e"
             ],
             [
              0.4444444444444444,
              "#bd3786"
             ],
             [
              0.5555555555555556,
              "#d8576b"
             ],
             [
              0.6666666666666666,
              "#ed7953"
             ],
             [
              0.7777777777777778,
              "#fb9f3a"
             ],
             [
              0.8888888888888888,
              "#fdca26"
             ],
             [
              1,
              "#f0f921"
             ]
            ],
            "type": "histogram2dcontour"
           }
          ],
          "mesh3d": [
           {
            "colorbar": {
             "outlinewidth": 0,
             "ticks": ""
            },
            "type": "mesh3d"
           }
          ],
          "parcoords": [
           {
            "line": {
             "colorbar": {
              "outlinewidth": 0,
              "ticks": ""
             }
            },
            "type": "parcoords"
           }
          ],
          "pie": [
           {
            "automargin": true,
            "type": "pie"
           }
          ],
          "scatter": [
           {
            "fillpattern": {
             "fillmode": "overlay",
             "size": 10,
             "solidity": 0.2
            },
            "type": "scatter"
           }
          ],
          "scatter3d": [
           {
            "line": {
             "colorbar": {
              "outlinewidth": 0,
              "ticks": ""
             }
            },
            "marker": {
             "colorbar": {
              "outlinewidth": 0,
              "ticks": ""
             }
            },
            "type": "scatter3d"
           }
          ],
          "scattercarpet": [
           {
            "marker": {
             "colorbar": {
              "outlinewidth": 0,
              "ticks": ""
             }
            },
            "type": "scattercarpet"
           }
          ],
          "scattergeo": [
           {
            "marker": {
             "colorbar": {
              "outlinewidth": 0,
              "ticks": ""
             }
            },
            "type": "scattergeo"
           }
          ],
          "scattergl": [
           {
            "marker": {
             "colorbar": {
              "outlinewidth": 0,
              "ticks": ""
             }
            },
            "type": "scattergl"
           }
          ],
          "scattermapbox": [
           {
            "marker": {
             "colorbar": {
              "outlinewidth": 0,
              "ticks": ""
             }
            },
            "type": "scattermapbox"
           }
          ],
          "scatterpolar": [
           {
            "marker": {
             "colorbar": {
              "outlinewidth": 0,
              "ticks": ""
             }
            },
            "type": "scatterpolar"
           }
          ],
          "scatterpolargl": [
           {
            "marker": {
             "colorbar": {
              "outlinewidth": 0,
              "ticks": ""
             }
            },
            "type": "scatterpolargl"
           }
          ],
          "scatterternary": [
           {
            "marker": {
             "colorbar": {
              "outlinewidth": 0,
              "ticks": ""
             }
            },
            "type": "scatterternary"
           }
          ],
          "surface": [
           {
            "colorbar": {
             "outlinewidth": 0,
             "ticks": ""
            },
            "colorscale": [
             [
              0,
              "#0d0887"
             ],
             [
              0.1111111111111111,
              "#46039f"
             ],
             [
              0.2222222222222222,
              "#7201a8"
             ],
             [
              0.3333333333333333,
              "#9c179e"
             ],
             [
              0.4444444444444444,
              "#bd3786"
             ],
             [
              0.5555555555555556,
              "#d8576b"
             ],
             [
              0.6666666666666666,
              "#ed7953"
             ],
             [
              0.7777777777777778,
              "#fb9f3a"
             ],
             [
              0.8888888888888888,
              "#fdca26"
             ],
             [
              1,
              "#f0f921"
             ]
            ],
            "type": "surface"
           }
          ],
          "table": [
           {
            "cells": {
             "fill": {
              "color": "#EBF0F8"
             },
             "line": {
              "color": "white"
             }
            },
            "header": {
             "fill": {
              "color": "#C8D4E3"
             },
             "line": {
              "color": "white"
             }
            },
            "type": "table"
           }
          ]
         },
         "layout": {
          "annotationdefaults": {
           "arrowcolor": "#2a3f5f",
           "arrowhead": 0,
           "arrowwidth": 1
          },
          "autotypenumbers": "strict",
          "coloraxis": {
           "colorbar": {
            "outlinewidth": 0,
            "ticks": ""
           }
          },
          "colorscale": {
           "diverging": [
            [
             0,
             "#8e0152"
            ],
            [
             0.1,
             "#c51b7d"
            ],
            [
             0.2,
             "#de77ae"
            ],
            [
             0.3,
             "#f1b6da"
            ],
            [
             0.4,
             "#fde0ef"
            ],
            [
             0.5,
             "#f7f7f7"
            ],
            [
             0.6,
             "#e6f5d0"
            ],
            [
             0.7,
             "#b8e186"
            ],
            [
             0.8,
             "#7fbc41"
            ],
            [
             0.9,
             "#4d9221"
            ],
            [
             1,
             "#276419"
            ]
           ],
           "sequential": [
            [
             0,
             "#0d0887"
            ],
            [
             0.1111111111111111,
             "#46039f"
            ],
            [
             0.2222222222222222,
             "#7201a8"
            ],
            [
             0.3333333333333333,
             "#9c179e"
            ],
            [
             0.4444444444444444,
             "#bd3786"
            ],
            [
             0.5555555555555556,
             "#d8576b"
            ],
            [
             0.6666666666666666,
             "#ed7953"
            ],
            [
             0.7777777777777778,
             "#fb9f3a"
            ],
            [
             0.8888888888888888,
             "#fdca26"
            ],
            [
             1,
             "#f0f921"
            ]
           ],
           "sequentialminus": [
            [
             0,
             "#0d0887"
            ],
            [
             0.1111111111111111,
             "#46039f"
            ],
            [
             0.2222222222222222,
             "#7201a8"
            ],
            [
             0.3333333333333333,
             "#9c179e"
            ],
            [
             0.4444444444444444,
             "#bd3786"
            ],
            [
             0.5555555555555556,
             "#d8576b"
            ],
            [
             0.6666666666666666,
             "#ed7953"
            ],
            [
             0.7777777777777778,
             "#fb9f3a"
            ],
            [
             0.8888888888888888,
             "#fdca26"
            ],
            [
             1,
             "#f0f921"
            ]
           ]
          },
          "colorway": [
           "#636efa",
           "#EF553B",
           "#00cc96",
           "#ab63fa",
           "#FFA15A",
           "#19d3f3",
           "#FF6692",
           "#B6E880",
           "#FF97FF",
           "#FECB52"
          ],
          "font": {
           "color": "#2a3f5f"
          },
          "geo": {
           "bgcolor": "white",
           "lakecolor": "white",
           "landcolor": "#E5ECF6",
           "showlakes": true,
           "showland": true,
           "subunitcolor": "white"
          },
          "hoverlabel": {
           "align": "left"
          },
          "hovermode": "closest",
          "mapbox": {
           "style": "light"
          },
          "paper_bgcolor": "white",
          "plot_bgcolor": "#E5ECF6",
          "polar": {
           "angularaxis": {
            "gridcolor": "white",
            "linecolor": "white",
            "ticks": ""
           },
           "bgcolor": "#E5ECF6",
           "radialaxis": {
            "gridcolor": "white",
            "linecolor": "white",
            "ticks": ""
           }
          },
          "scene": {
           "xaxis": {
            "backgroundcolor": "#E5ECF6",
            "gridcolor": "white",
            "gridwidth": 2,
            "linecolor": "white",
            "showbackground": true,
            "ticks": "",
            "zerolinecolor": "white"
           },
           "yaxis": {
            "backgroundcolor": "#E5ECF6",
            "gridcolor": "white",
            "gridwidth": 2,
            "linecolor": "white",
            "showbackground": true,
            "ticks": "",
            "zerolinecolor": "white"
           },
           "zaxis": {
            "backgroundcolor": "#E5ECF6",
            "gridcolor": "white",
            "gridwidth": 2,
            "linecolor": "white",
            "showbackground": true,
            "ticks": "",
            "zerolinecolor": "white"
           }
          },
          "shapedefaults": {
           "line": {
            "color": "#2a3f5f"
           }
          },
          "ternary": {
           "aaxis": {
            "gridcolor": "white",
            "linecolor": "white",
            "ticks": ""
           },
           "baxis": {
            "gridcolor": "white",
            "linecolor": "white",
            "ticks": ""
           },
           "bgcolor": "#E5ECF6",
           "caxis": {
            "gridcolor": "white",
            "linecolor": "white",
            "ticks": ""
           }
          },
          "title": {
           "x": 0.05
          },
          "xaxis": {
           "automargin": true,
           "gridcolor": "white",
           "linecolor": "white",
           "ticks": "",
           "title": {
            "standoff": 15
           },
           "zerolinecolor": "white",
           "zerolinewidth": 2
          },
          "yaxis": {
           "automargin": true,
           "gridcolor": "white",
           "linecolor": "white",
           "ticks": "",
           "title": {
            "standoff": 15
           },
           "zerolinecolor": "white",
           "zerolinewidth": 2
          }
         }
        }
       }
      }
     },
     "metadata": {},
     "output_type": "display_data"
    }
   ],
   "source": [
    "import plotly.express as px\n",
    "df = px.data.tips()\n",
    "fig = px.icicle(df, path=[px.Constant(\"all\"), 'day', 'time', 'sex'], values='total_bill')\n",
    "fig.update_traces(root_color=\"lightgrey\")\n",
    "fig.update_layout(margin = dict(t=50, l=25, r=25, b=25))\n",
    "fig.show()"
   ]
  },
  {
   "cell_type": "code",
   "execution_count": null,
   "metadata": {},
   "outputs": [
    {
     "data": {
      "image/png": "[encoded data removed]",
      "text/plain": [
       "<Figure size 1000x800 with 1 Axes>"
      ]
     },
     "metadata": {},
     "output_type": "display_data"
    }
   ],
   "source": [
    "import matplotlib.pyplot as plt\n",
    "import squarify\n",
    "\n",
    "# Your data\n",
    "data = [\n",
    "    ('Disorder/Disease', 'OCD'),\n",
    "    ('Study type', 'Clinical Focus'),\n",
    "    ('Special Populations', 'pregnancy'),\n",
    "    ('Pharmacology', 'Pharmacokinetics', 'Analytical Methods'),\n",
    "    ('Pharmacology', 'Pharmacodynamics', 'Mechanism of Action', 'Animal models'),\n",
    "    ('Disorder/Disease', 'Depression'),\n",
    "    ('Study type', 'Preclinical Focus', 'animal models of disorders', 'chronic unpredictable mild stress'),\n",
    "    ('Pharmacology', 'Pharmacodynamics', 'Mechanism of Action', 'Receptor studies'),\n",
    "    ('Study type', 'Preclinical Focus', 'in vivo')\n",
    "]\n",
    "\n",
    "# Convert data to a format suitable for plotting\n",
    "icicle_data = {}\n",
    "for entry in data:\n",
    "    current_dict = icicle_data\n",
    "    for category in entry:\n",
    "        current_dict = current_dict.setdefault(category, {})\n",
    "\n",
    "# Plot the icicle chart\n",
    "plt.figure(figsize=(10, 8))\n",
    "squarify.plot(sizes=[100], label=\"Root\", alpha=0, color=\"white\")\n",
    "squarify.plot(sizes=[100], label=\"Root\", alpha=0, color=\"white\")\n",
    "squarify.plot(sizes=[100], label=\"Root\", alpha=0, color=\"white\")\n",
    "\n",
    "squarify.plot(sizes=[100], label=\"Root\", alpha=0, color=\"white\")\n",
    "\n",
    "squarify.plot(sizes=[100], label=\"Root\", alpha=0, color=\"white\")\n",
    "squarify.plot(sizes=[100], label=\"Root\", alpha=0, color=\"white\")\n",
    "squarify.plot(sizes=[100], label=\"Root\", alpha=0, color=\"white\")\n",
    "squarify.plot(sizes=[100], label=\"Root\", alpha=0, color=\"white\")\n",
    "squarify.plot(sizes=[100], label=\"Root\", alpha=0, color=\"white\")\n",
    "\n",
    "plt.title(\"Icicle Chart\")\n",
    "plt.axis('off')\n",
    "plt.show()\n"
   ]
  },
  {
   "cell_type": "markdown",
   "metadata": {},
   "source": []
  },
  {
   "cell_type": "markdown",
   "metadata": {},
   "source": []
  },
  {
   "cell_type": "markdown",
   "metadata": {},
   "source": []
  },
  {
   "cell_type": "markdown",
   "metadata": {},
   "source": []
  }
 ],
 "metadata": {
  "kernelspec": {
   "display_name": "Study1Analysis",
   "language": "python",
   "name": "python3"
  },
  "language_info": {
   "codemirror_mode": {
    "name": "ipython",
    "version": 3
   },
   "file_extension": ".py",
   "mimetype": "text/x-python",
   "name": "python",
   "nbconvert_exporter": "python",
   "pygments_lexer": "ipython3",
   "version": "3.11.3"
  }
 },
 "nbformat": 4,
 "nbformat_minor": 2
}
