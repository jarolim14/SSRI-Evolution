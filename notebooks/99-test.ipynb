{
 "cells": [
  {
   "cell_type": "markdown",
   "metadata": {},
   "source": [
    "# Testing with old data\n"
   ]
  },
  {
   "cell_type": "code",
   "execution_count": 1,
   "metadata": {},
   "outputs": [],
   "source": [
    "import pandas as pd\n",
    "import numpy as np\n",
    "import networkx as nx"
   ]
  },
  {
   "cell_type": "code",
   "execution_count": 2,
   "metadata": {},
   "outputs": [],
   "source": [
    "p = \"/Users/jlq293/Projects/Study-1-Bibliometrics/data/07-clustered-graphs/alpha0.3_k20_res0.005.graphml\"\n",
    "G = nx.read_graphml(p)\n",
    "\n",
    "clusters_to_keep = list(range(5, 15))\n",
    "# G = G.subgraph([n for n, d in G.nodes(data=True) if d[\"cluster\"] in clusters_to_keep])\n",
    "#\n",
    "# p = \"/Users/jlq293/Projects/Study-1-Bibliometrics/data/07-clustered-graphs/SUBSETalpha0.3_k20_res0.005.graphml\"\n",
    "# nx.write_graphml(G, p)"
   ]
  },
  {
   "cell_type": "code",
   "execution_count": 14,
   "metadata": {},
   "outputs": [
    {
     "data": {
      "text/plain": [
       "[('n0', 'n20', {'weight': 0.635464131832123}),\n",
       " ('n0', 'n87', {'weight': 0.300000011920929}),\n",
       " ('n0', 'n91', {'weight': 0.300000011920929}),\n",
       " ('n0', 'n231', {'weight': 0.300000011920929}),\n",
       " ('n0', 'n302', {'weight': 0.634211599826813})]"
      ]
     },
     "execution_count": 14,
     "metadata": {},
     "output_type": "execute_result"
    }
   ],
   "source": [
    "list(G.edges(data=True))[:5]"
   ]
  },
  {
   "cell_type": "code",
   "execution_count": 13,
   "metadata": {},
   "outputs": [
    {
     "data": {
      "text/plain": [
       "[('n0',\n",
       "  {'doi': '10.1016/0024-3205(82)90686-5',\n",
       "   'year': 1982.0,\n",
       "   'title': 'Serotonergic mechanism in the control of β-endorphin and acth release in male rats',\n",
       "   'eid': '2-s2.0-0020316326',\n",
       "   'id': 'Bruni_1982',\n",
       "   'cluster': 58.0,\n",
       "   'centrality_alpha0.3_k20_res0.005': 0.267480333963621}),\n",
       " ('n1',\n",
       "  {'doi': '10.1111/j.1600-0404.1982.tb03382.x',\n",
       "   'year': 1982.0,\n",
       "   'title': 'EFFECTS OF PAROXETINE ON SYNAPTOSOMAL NEUROTRANSMITTER UPTAKE AND SERUM 5‐HT CONCENTRATIONS IN MICE.',\n",
       "   'eid': '2-s2.0-0019936013',\n",
       "   'id': 'Magnussen_1982_4',\n",
       "   'cluster': 36.0,\n",
       "   'centrality_alpha0.3_k20_res0.005': 0.0944344690699838}),\n",
       " ('n2',\n",
       "  {'year': 1982.0,\n",
       "   'title': 'Treatment of intention myoclonus with paroxetine alone or in combination with L-5-hydroxytryptophan and carbidopa',\n",
       "   'eid': '2-s2.0-0020058010',\n",
       "   'id': 'Magnussen_1982_3',\n",
       "   'cluster': 62.0,\n",
       "   'centrality_alpha0.3_k20_res0.005': 0.0751322415536254}),\n",
       " ('n3',\n",
       "  {'doi': '10.1007/BF01276577',\n",
       "   'year': 1982.0,\n",
       "   'title': 'Paroxetine, a potent selective long-acting inhibitor of synaptosomal 5-HT uptake in mice',\n",
       "   'eid': '2-s2.0-0020446870',\n",
       "   'id': 'Magnussen_1982_2',\n",
       "   'cluster': 36.0,\n",
       "   'centrality_alpha0.3_k20_res0.005': 0.142569176658291}),\n",
       " ('n4',\n",
       "  {'doi': '10.1111/j.1600-0404.1982.tb04525.x',\n",
       "   'year': 1982.0,\n",
       "   'title': 'Treatment of myoclonic syndromes with paroxetine alone or combined with 5‐HTP',\n",
       "   'eid': '2-s2.0-0019996341',\n",
       "   'id': 'Magnussen_1982',\n",
       "   'cluster': 62.0,\n",
       "   'centrality_alpha0.3_k20_res0.005': 0.0542776207460499})]"
      ]
     },
     "execution_count": 13,
     "metadata": {},
     "output_type": "execute_result"
    }
   ],
   "source": [
    "list(G.nodes(data=True))[:5]"
   ]
  },
  {
   "cell_type": "code",
   "execution_count": 42,
   "metadata": {},
   "outputs": [
    {
     "data": {
      "text/plain": [
       "[((8.0, 1.0), 3193),\n",
       " ((6.0, 7.0), 3117),\n",
       " ((4.0, 24.0), 1768),\n",
       " ((2.0, 91.0), 1702),\n",
       " ((5.0, 64.0), 1626),\n",
       " ((92.0, 1.0), 1611),\n",
       " ((4.0, 72.0), 1594),\n",
       " ((27.0, 29.0), 1477),\n",
       " ((5.0, 12.0), 1434),\n",
       " ((29.0, 3.0), 1401)]"
      ]
     },
     "execution_count": 42,
     "metadata": {},
     "output_type": "execute_result"
    }
   ],
   "source": [
    "clusters_to_keep = list(range(5, 15))\n",
    "Gsub = G.subgraph(\n",
    "    [n for n, d in G.nodes(data=True) if d[\"cluster\"] in clusters_to_keep]\n",
    ")\n",
    "\n",
    "# count edges between clusters\n",
    "edges_between_clusters = {}\n",
    "\n",
    "for n1, n2, d in G.edges(data=True):\n",
    "    c1 = G.nodes[n1][\"cluster\"]\n",
    "    c2 = G.nodes[n2][\"cluster\"]\n",
    "    if c1 != c2:\n",
    "        if (c1, c2) not in edges_between_clusters:\n",
    "            edges_between_clusters[(c1, c2)] = 0\n",
    "        if (c2, c1) not in edges_between_clusters:\n",
    "            edges_between_clusters[(c2, c1)] = 0\n",
    "        edges_between_clusters[(c1, c2)] += 1\n",
    "        edges_between_clusters[(c2, c1)] += 1\n",
    "\n",
    "excl_edges_between_clusters = {}\n",
    "for (c1, c2), count in edges_between_clusters.items():\n",
    "    if (c2, c1) not in excl_edges_between_clusters:\n",
    "        excl_edges_between_clusters[(c1, c2)] = count\n",
    "\n",
    "\n",
    "# sort after number of edges\n",
    "excl_edges_between_clusters = sorted(\n",
    "    excl_edges_between_clusters.items(), key=lambda x: x[1], reverse=True\n",
    ")\n",
    "\n",
    "excl_edges_between_clusters[:20]"
   ]
  },
  {
   "cell_type": "code",
   "execution_count": 35,
   "metadata": {},
   "outputs": [],
   "source": [
    "excl_edges_between_clusters = {}\n",
    "\n",
    "for (c1, c2), count in edges_between_clusters.items():\n",
    "    # Check if the counts for both (c1, c2) and (c2, c1) exist in edges_between_clusters\n",
    "    if (c1, c2) in edges_between_clusters and (c2, c1) in edges_between_clusters:\n",
    "        # Retrieve the counts for both directions\n",
    "        c1_c2_count = edges_between_clusters[(c1, c2)]\n",
    "        c2_c1_count = edges_between_clusters[(c2, c1)]\n",
    "        # Sum the counts to get the total count of edges between the clusters\n",
    "        total_count = c1_c2_count + c2_c1_count\n",
    "        # Add the total count to excl_edges_between_clusters\n",
    "        excl_edges_between_clusters[(c1, c2)] = total_count"
   ]
  },
  {
   "cell_type": "code",
   "execution_count": 36,
   "metadata": {},
   "outputs": [
    {
     "name": "stdout",
     "output_type": "stream",
     "text": [
      "16168 13398\n"
     ]
    }
   ],
   "source": [
    "print(len(edges_between_clusters), len(excl_edges_between_clusters))"
   ]
  },
  {
   "cell_type": "code",
   "execution_count": 24,
   "metadata": {},
   "outputs": [
    {
     "data": {
      "text/plain": [
       "[((1.0, 8.0), 2253),\n",
       " ((6.0, 7.0), 1983),\n",
       " ((2.0, 91.0), 1180),\n",
       " ((7.0, 6.0), 1134),\n",
       " ((5.0, 64.0), 1131),\n",
       " ((29.0, 3.0), 1079),\n",
       " ((12.0, 5.0), 1076),\n",
       " ((27.0, 3.0), 1016),\n",
       " ((4.0, 24.0), 983),\n",
       " ((92.0, 1.0), 961)]"
      ]
     },
     "execution_count": 24,
     "metadata": {},
     "output_type": "execute_result"
    }
   ],
   "source": [
    "# sort after number of edges\n",
    "edges_between_clusters = sorted(\n",
    "    edges_between_clusters.items(), key=lambda x: x[1], reverse=True\n",
    ")\n",
    "\n",
    "edges_between_clusters[:10]"
   ]
  },
  {
   "cell_type": "code",
   "execution_count": 40,
   "metadata": {},
   "outputs": [
    {
     "data": {
      "text/plain": [
       "[((8.0, 1.0), 3193),\n",
       " ((6.0, 7.0), 3117),\n",
       " ((4.0, 24.0), 1768),\n",
       " ((2.0, 91.0), 1702),\n",
       " ((5.0, 64.0), 1626),\n",
       " ((92.0, 1.0), 1611),\n",
       " ((4.0, 72.0), 1594),\n",
       " ((27.0, 29.0), 1477),\n",
       " ((5.0, 12.0), 1434),\n",
       " ((29.0, 3.0), 1401)]"
      ]
     },
     "execution_count": 40,
     "metadata": {},
     "output_type": "execute_result"
    }
   ],
   "source": [
    "# sort after number of edges\n",
    "excl_edges_between_clusters = sorted(\n",
    "    excl_edges_between_clusters.items(), key=lambda x: x[1], reverse=True\n",
    ")\n",
    "\n",
    "excl_edges_between_clusters[:10]\n",
    "# build sanky diagram"
   ]
  },
  {
   "cell_type": "code",
   "execution_count": null,
   "metadata": {},
   "outputs": [],
   "source": []
  },
  {
   "cell_type": "code",
   "execution_count": null,
   "metadata": {},
   "outputs": [],
   "source": []
  },
  {
   "cell_type": "code",
   "execution_count": null,
   "metadata": {},
   "outputs": [],
   "source": []
  },
  {
   "cell_type": "code",
   "execution_count": 11,
   "metadata": {},
   "outputs": [
    {
     "name": "stdout",
     "output_type": "stream",
     "text": [
      "Nr of nodes: 0\n",
      "Nr of edges: 0\n"
     ]
    }
   ],
   "source": [
    "p = f\"/Users/jlq293/Downloads/Nature150/www.nature.com/www.nature.com/immersive/d41586-019-03165-4/dat/cociteEdges2.csv\"\n",
    "edges = pd.read_csv(p)\n",
    "p = \"/Users/jlq293/Downloads/Nature150/www.nature.com/www.nature.com/immersive/d41586-019-03165-4/dat/cociteNodes.csv\"\n",
    "nodes = pd.read_csv(p)\n",
    "\n",
    "print(f\"Nr of nodes: {len(nodes)}\")\n",
    "print(f\"Nr of edges: {len(edges)}\")"
   ]
  },
  {
   "cell_type": "code",
   "execution_count": 10,
   "metadata": {},
   "outputs": [
    {
     "data": {
      "text/plain": [
       "'-1834.0;529.0;66.0|-1663.6;555.5;58.3|-1489.9;579.1;51.9|-1313.1;595.4;47.0|-1135.0;598.9;43.9|-956.9;584.2;42.0|-778.4;548.8;40.9|-598.5;493.8;40.4|-418.0;424.2;40.2|-241.3;347.2;40.1|-76.7;271.0;40.0|63.9;204.2;40.0|166.7;154.9;40.0|219.8;129.5;40.0|217.1;131.1;40.0|160.5;159.0;40.0|57.6;210.2;40.0|-80.9;280.8;40.1|-243.3;367.4;40.3|-418.1;467.4;40.8|-595.1;578.8;41.8|-766.3;699.5;43.6|-925.8;825.8;46.6|-1068.4;951.1;50.9|-1190.4;1067.8;56.6|-1290.1;1168.6;63.5|-1369.2;1248.6;71.3|-1433.1;1304.1;79.6|-1489.6;1330.5;88.0|-1546.8;1321.2;96.3|-1610.9;1269.4;103.9|-1684.1;1172.1;110.8|-1765.1;1033.0;117.1|-1850.6;862.9;122.8|-1937.9;677.8;128.4|-1716.0;640.0;124.4'"
      ]
     },
     "execution_count": 10,
     "metadata": {},
     "output_type": "execute_result"
    }
   ],
   "source": [
    "edges[\"path\"][0]"
   ]
  },
  {
   "cell_type": "code",
   "execution_count": 8,
   "metadata": {},
   "outputs": [
    {
     "data": {
      "text/html": [
       "<div>\n",
       "<style scoped>\n",
       "    .dataframe tbody tr th:only-of-type {\n",
       "        vertical-align: middle;\n",
       "    }\n",
       "\n",
       "    .dataframe tbody tr th {\n",
       "        vertical-align: top;\n",
       "    }\n",
       "\n",
       "    .dataframe thead th {\n",
       "        text-align: right;\n",
       "    }\n",
       "</style>\n",
       "<table border=\"1\" class=\"dataframe\">\n",
       "  <thead>\n",
       "    <tr style=\"text-align: right;\">\n",
       "      <th></th>\n",
       "      <th>x</th>\n",
       "      <th>y</th>\n",
       "      <th>size</th>\n",
       "      <th>PubYear</th>\n",
       "      <th>HierCat</th>\n",
       "      <th>NatureID</th>\n",
       "      <th>Title</th>\n",
       "    </tr>\n",
       "  </thead>\n",
       "  <tbody>\n",
       "    <tr>\n",
       "      <th>0</th>\n",
       "      <td>-1247</td>\n",
       "      <td>1345</td>\n",
       "      <td>5.3</td>\n",
       "      <td>1900</td>\n",
       "      <td>1</td>\n",
       "      <td>062366b0</td>\n",
       "      <td>Atmospheric Electricity</td>\n",
       "    </tr>\n",
       "    <tr>\n",
       "      <th>1</th>\n",
       "      <td>-284</td>\n",
       "      <td>1083</td>\n",
       "      <td>4.6</td>\n",
       "      <td>1900</td>\n",
       "      <td>10</td>\n",
       "      <td>062340b0</td>\n",
       "      <td>The Conductivity produced in Gases by the Moti...</td>\n",
       "    </tr>\n",
       "    <tr>\n",
       "      <th>2</th>\n",
       "      <td>822</td>\n",
       "      <td>346</td>\n",
       "      <td>7.9</td>\n",
       "      <td>1900</td>\n",
       "      <td>1</td>\n",
       "      <td>062620e0</td>\n",
       "      <td>Albinism and Natural Selection</td>\n",
       "    </tr>\n",
       "    <tr>\n",
       "      <th>3</th>\n",
       "      <td>-1316</td>\n",
       "      <td>1279</td>\n",
       "      <td>4.6</td>\n",
       "      <td>1900</td>\n",
       "      <td>10</td>\n",
       "      <td>062149b0</td>\n",
       "      <td>Atmospheric Electricity</td>\n",
       "    </tr>\n",
       "    <tr>\n",
       "      <th>4</th>\n",
       "      <td>587</td>\n",
       "      <td>1598</td>\n",
       "      <td>4.0</td>\n",
       "      <td>1900</td>\n",
       "      <td>4</td>\n",
       "      <td>062523e0</td>\n",
       "      <td>Leaf Decay and Autumn Tints</td>\n",
       "    </tr>\n",
       "  </tbody>\n",
       "</table>\n",
       "</div>"
      ],
      "text/plain": [
       "      x     y  size  PubYear  HierCat  NatureID  \\\n",
       "0 -1247  1345   5.3     1900        1  062366b0   \n",
       "1  -284  1083   4.6     1900       10  062340b0   \n",
       "2   822   346   7.9     1900        1  062620e0   \n",
       "3 -1316  1279   4.6     1900       10  062149b0   \n",
       "4   587  1598   4.0     1900        4  062523e0   \n",
       "\n",
       "                                               Title  \n",
       "0                            Atmospheric Electricity  \n",
       "1  The Conductivity produced in Gases by the Moti...  \n",
       "2                     Albinism and Natural Selection  \n",
       "3                            Atmospheric Electricity  \n",
       "4                        Leaf Decay and Autumn Tints  "
      ]
     },
     "execution_count": 8,
     "metadata": {},
     "output_type": "execute_result"
    }
   ],
   "source": [
    "nodes.head()"
   ]
  },
  {
   "cell_type": "code",
   "execution_count": 3,
   "metadata": {},
   "outputs": [
    {
     "name": "stdout",
     "output_type": "stream",
     "text": [
      "Nr of nodes: 36975\n",
      "Nr of edges: 553370\n"
     ]
    }
   ],
   "source": [
    "p = \"/Users/jlq293/Projects/Study-1-Bibliometrics/data/07-clustered-graphs/alpha0.3_k10_res0.002.graphml\"\n",
    "G = nx.read_graphml(p)\n",
    "print(f\"Nr of nodes: {len(G.nodes)}\")\n",
    "print(f\"Nr of edges: {len(G.edges)}\")`"
   ]
  },
  {
   "cell_type": "code",
   "execution_count": 4,
   "metadata": {},
   "outputs": [
    {
     "name": "stdout",
     "output_type": "stream",
     "text": [
      "Nr of nodes: 40643\n",
      "Nr of edges: 899992\n"
     ]
    }
   ],
   "source": [
    "p = \"/Users/jlq293/Projects/Study-1-Bibliometrics/data/07-clustered-graphs/alpha0.3_k20_res0.005.graphml\"\n",
    "G = nx.read_graphml(p)\n",
    "print(f\"Nr of nodes: {len(G.nodes)}\")\n",
    "print(f\"Nr of edges: {len(G.edges)}\")"
   ]
  },
  {
   "cell_type": "code",
   "execution_count": 5,
   "metadata": {},
   "outputs": [
    {
     "name": "stdout",
     "output_type": "stream",
     "text": [
      "Nr of nodes: 40643\n",
      "Nr of edges: 360645\n"
     ]
    }
   ],
   "source": [
    "p = \"/Users/jlq293/Projects/Study-1-Bibliometrics/data/05-graphs/citation-graph/directed_citation_graph.graphml\"\n",
    "G = nx.read_graphml(p)\n",
    "print(f\"Nr of nodes: {len(G.nodes)}\")\n",
    "print(f\"Nr of edges: {len(G.edges)}\")"
   ]
  },
  {
   "cell_type": "code",
   "execution_count": 4,
   "metadata": {},
   "outputs": [],
   "source": [
    "np.random.seed(1)\n",
    "cats, n, m = 4, 80, 1000\n",
    "\n",
    "cnodes = pd.concat(\n",
    "    [\n",
    "        pd.DataFrame.from_records(\n",
    "            [(\"node\" + str(i + 100 * c), \"c\" + str(c)) for i in range(n)],\n",
    "            columns=[\"name\", \"cat\"],\n",
    "        )\n",
    "        for c in range(cats)\n",
    "    ],\n",
    "    ignore_index=True,\n",
    ")\n",
    "cnodes.cat = cnodes.cat.astype(\"category\")\n",
    "\n",
    "cedges = pd.concat(\n",
    "    [\n",
    "        pd.DataFrame(\n",
    "            np.random.randint(n * c, n * (c + 1), size=(m, 2)),\n",
    "            columns=[\"source\", \"target\"],\n",
    "        )\n",
    "        for c in range(cats)\n",
    "    ],\n",
    "    ignore_index=True,\n",
    ")"
   ]
  },
  {
   "cell_type": "code",
   "execution_count": 5,
   "metadata": {},
   "outputs": [
    {
     "data": {
      "text/html": [
       "<div>\n",
       "<style scoped>\n",
       "    .dataframe tbody tr th:only-of-type {\n",
       "        vertical-align: middle;\n",
       "    }\n",
       "\n",
       "    .dataframe tbody tr th {\n",
       "        vertical-align: top;\n",
       "    }\n",
       "\n",
       "    .dataframe thead th {\n",
       "        text-align: right;\n",
       "    }\n",
       "</style>\n",
       "<table border=\"1\" class=\"dataframe\">\n",
       "  <thead>\n",
       "    <tr style=\"text-align: right;\">\n",
       "      <th></th>\n",
       "      <th>name</th>\n",
       "      <th>cat</th>\n",
       "    </tr>\n",
       "  </thead>\n",
       "  <tbody>\n",
       "    <tr>\n",
       "      <th>0</th>\n",
       "      <td>node0</td>\n",
       "      <td>c0</td>\n",
       "    </tr>\n",
       "    <tr>\n",
       "      <th>1</th>\n",
       "      <td>node1</td>\n",
       "      <td>c0</td>\n",
       "    </tr>\n",
       "    <tr>\n",
       "      <th>2</th>\n",
       "      <td>node2</td>\n",
       "      <td>c0</td>\n",
       "    </tr>\n",
       "    <tr>\n",
       "      <th>3</th>\n",
       "      <td>node3</td>\n",
       "      <td>c0</td>\n",
       "    </tr>\n",
       "    <tr>\n",
       "      <th>4</th>\n",
       "      <td>node4</td>\n",
       "      <td>c0</td>\n",
       "    </tr>\n",
       "    <tr>\n",
       "      <th>...</th>\n",
       "      <td>...</td>\n",
       "      <td>...</td>\n",
       "    </tr>\n",
       "    <tr>\n",
       "      <th>315</th>\n",
       "      <td>node375</td>\n",
       "      <td>c3</td>\n",
       "    </tr>\n",
       "    <tr>\n",
       "      <th>316</th>\n",
       "      <td>node376</td>\n",
       "      <td>c3</td>\n",
       "    </tr>\n",
       "    <tr>\n",
       "      <th>317</th>\n",
       "      <td>node377</td>\n",
       "      <td>c3</td>\n",
       "    </tr>\n",
       "    <tr>\n",
       "      <th>318</th>\n",
       "      <td>node378</td>\n",
       "      <td>c3</td>\n",
       "    </tr>\n",
       "    <tr>\n",
       "      <th>319</th>\n",
       "      <td>node379</td>\n",
       "      <td>c3</td>\n",
       "    </tr>\n",
       "  </tbody>\n",
       "</table>\n",
       "<p>320 rows × 2 columns</p>\n",
       "</div>"
      ],
      "text/plain": [
       "        name cat\n",
       "0      node0  c0\n",
       "1      node1  c0\n",
       "2      node2  c0\n",
       "3      node3  c0\n",
       "4      node4  c0\n",
       "..       ...  ..\n",
       "315  node375  c3\n",
       "316  node376  c3\n",
       "317  node377  c3\n",
       "318  node378  c3\n",
       "319  node379  c3\n",
       "\n",
       "[320 rows x 2 columns]"
      ]
     },
     "execution_count": 5,
     "metadata": {},
     "output_type": "execute_result"
    }
   ],
   "source": [
    "cnodes"
   ]
  },
  {
   "cell_type": "code",
   "execution_count": 6,
   "metadata": {},
   "outputs": [
    {
     "data": {
      "text/html": [
       "<div>\n",
       "<style scoped>\n",
       "    .dataframe tbody tr th:only-of-type {\n",
       "        vertical-align: middle;\n",
       "    }\n",
       "\n",
       "    .dataframe tbody tr th {\n",
       "        vertical-align: top;\n",
       "    }\n",
       "\n",
       "    .dataframe thead th {\n",
       "        text-align: right;\n",
       "    }\n",
       "</style>\n",
       "<table border=\"1\" class=\"dataframe\">\n",
       "  <thead>\n",
       "    <tr style=\"text-align: right;\">\n",
       "      <th></th>\n",
       "      <th>source</th>\n",
       "      <th>target</th>\n",
       "    </tr>\n",
       "  </thead>\n",
       "  <tbody>\n",
       "    <tr>\n",
       "      <th>0</th>\n",
       "      <td>37</td>\n",
       "      <td>12</td>\n",
       "    </tr>\n",
       "    <tr>\n",
       "      <th>1</th>\n",
       "      <td>72</td>\n",
       "      <td>9</td>\n",
       "    </tr>\n",
       "    <tr>\n",
       "      <th>2</th>\n",
       "      <td>75</td>\n",
       "      <td>5</td>\n",
       "    </tr>\n",
       "    <tr>\n",
       "      <th>3</th>\n",
       "      <td>79</td>\n",
       "      <td>64</td>\n",
       "    </tr>\n",
       "    <tr>\n",
       "      <th>4</th>\n",
       "      <td>16</td>\n",
       "      <td>1</td>\n",
       "    </tr>\n",
       "    <tr>\n",
       "      <th>...</th>\n",
       "      <td>...</td>\n",
       "      <td>...</td>\n",
       "    </tr>\n",
       "    <tr>\n",
       "      <th>3995</th>\n",
       "      <td>264</td>\n",
       "      <td>307</td>\n",
       "    </tr>\n",
       "    <tr>\n",
       "      <th>3996</th>\n",
       "      <td>292</td>\n",
       "      <td>251</td>\n",
       "    </tr>\n",
       "    <tr>\n",
       "      <th>3997</th>\n",
       "      <td>256</td>\n",
       "      <td>309</td>\n",
       "    </tr>\n",
       "    <tr>\n",
       "      <th>3998</th>\n",
       "      <td>263</td>\n",
       "      <td>279</td>\n",
       "    </tr>\n",
       "    <tr>\n",
       "      <th>3999</th>\n",
       "      <td>277</td>\n",
       "      <td>274</td>\n",
       "    </tr>\n",
       "  </tbody>\n",
       "</table>\n",
       "<p>4000 rows × 2 columns</p>\n",
       "</div>"
      ],
      "text/plain": [
       "      source  target\n",
       "0         37      12\n",
       "1         72       9\n",
       "2         75       5\n",
       "3         79      64\n",
       "4         16       1\n",
       "...      ...     ...\n",
       "3995     264     307\n",
       "3996     292     251\n",
       "3997     256     309\n",
       "3998     263     279\n",
       "3999     277     274\n",
       "\n",
       "[4000 rows x 2 columns]"
      ]
     },
     "execution_count": 6,
     "metadata": {},
     "output_type": "execute_result"
    }
   ],
   "source": [
    "cedges"
   ]
  },
  {
   "cell_type": "code",
   "execution_count": 12,
   "metadata": {},
   "outputs": [],
   "source": [
    "p = \"../data/04-embeddings/df_with_specter2_embeddings.pkl\"\n",
    "df_emb = pd.read_pickle(p)\n",
    "pc = \"../data/02-clean/scopus_cleaned_subset.pkl\"\n",
    "\n",
    "df_cl = pd.read_pickle(pc)"
   ]
  },
  {
   "cell_type": "code",
   "execution_count": 13,
   "metadata": {},
   "outputs": [
    {
     "data": {
      "text/html": [
       "<div>\n",
       "<style scoped>\n",
       "    .dataframe tbody tr th:only-of-type {\n",
       "        vertical-align: middle;\n",
       "    }\n",
       "\n",
       "    .dataframe tbody tr th {\n",
       "        vertical-align: top;\n",
       "    }\n",
       "\n",
       "    .dataframe thead th {\n",
       "        text-align: right;\n",
       "    }\n",
       "</style>\n",
       "<table border=\"1\" class=\"dataframe\">\n",
       "  <thead>\n",
       "    <tr style=\"text-align: right;\">\n",
       "      <th></th>\n",
       "      <th>year</th>\n",
       "      <th>unique_auth_year</th>\n",
       "    </tr>\n",
       "  </thead>\n",
       "  <tbody>\n",
       "    <tr>\n",
       "      <th>0</th>\n",
       "      <td>1982</td>\n",
       "      <td>Bruni_1982</td>\n",
       "    </tr>\n",
       "    <tr>\n",
       "      <th>1</th>\n",
       "      <td>1982</td>\n",
       "      <td>Magnussen_1982_4</td>\n",
       "    </tr>\n",
       "    <tr>\n",
       "      <th>2</th>\n",
       "      <td>1982</td>\n",
       "      <td>Magnussen_1982_3</td>\n",
       "    </tr>\n",
       "    <tr>\n",
       "      <th>3</th>\n",
       "      <td>1982</td>\n",
       "      <td>Magnussen_1982_2</td>\n",
       "    </tr>\n",
       "    <tr>\n",
       "      <th>4</th>\n",
       "      <td>1982</td>\n",
       "      <td>Magnussen_1982</td>\n",
       "    </tr>\n",
       "    <tr>\n",
       "      <th>...</th>\n",
       "      <td>...</td>\n",
       "      <td>...</td>\n",
       "    </tr>\n",
       "    <tr>\n",
       "      <th>40638</th>\n",
       "      <td>2023</td>\n",
       "      <td>Manis_2023</td>\n",
       "    </tr>\n",
       "    <tr>\n",
       "      <th>40639</th>\n",
       "      <td>2023</td>\n",
       "      <td>Mandal_2023_2</td>\n",
       "    </tr>\n",
       "    <tr>\n",
       "      <th>40640</th>\n",
       "      <td>2023</td>\n",
       "      <td>Mandal_2023</td>\n",
       "    </tr>\n",
       "    <tr>\n",
       "      <th>40641</th>\n",
       "      <td>2023</td>\n",
       "      <td>TorresPinto_2023</td>\n",
       "    </tr>\n",
       "    <tr>\n",
       "      <th>40642</th>\n",
       "      <td>2023</td>\n",
       "      <td>NoAuth_2023_6</td>\n",
       "    </tr>\n",
       "  </tbody>\n",
       "</table>\n",
       "<p>40643 rows × 2 columns</p>\n",
       "</div>"
      ],
      "text/plain": [
       "       year  unique_auth_year\n",
       "0      1982        Bruni_1982\n",
       "1      1982  Magnussen_1982_4\n",
       "2      1982  Magnussen_1982_3\n",
       "3      1982  Magnussen_1982_2\n",
       "4      1982    Magnussen_1982\n",
       "...     ...               ...\n",
       "40638  2023        Manis_2023\n",
       "40639  2023     Mandal_2023_2\n",
       "40640  2023       Mandal_2023\n",
       "40641  2023  TorresPinto_2023\n",
       "40642  2023     NoAuth_2023_6\n",
       "\n",
       "[40643 rows x 2 columns]"
      ]
     },
     "execution_count": 13,
     "metadata": {},
     "output_type": "execute_result"
    }
   ],
   "source": [
    "df_cl[[\"year\", \"unique_auth_year\"]]"
   ]
  },
  {
   "cell_type": "code",
   "execution_count": 16,
   "metadata": {},
   "outputs": [],
   "source": [
    "eid_uan_dict = dict(zip(df_cl[\"eid\"], df_cl[\"unique_auth_year\"]))\n",
    "\n",
    "df_emb[\"unique_auth_year\"] = df_emb[\"eid\"].map(eid_uan_dict)\n",
    "\n",
    "# save to pickle\n",
    "df_emb.to_pickle(\"../data/04-embeddings/df_with_specter2_embeddings.pkl\")"
   ]
  },
  {
   "cell_type": "code",
   "execution_count": 15,
   "metadata": {},
   "outputs": [
    {
     "data": {
      "text/html": [
       "<div>\n",
       "<style scoped>\n",
       "    .dataframe tbody tr th:only-of-type {\n",
       "        vertical-align: middle;\n",
       "    }\n",
       "\n",
       "    .dataframe tbody tr th {\n",
       "        vertical-align: top;\n",
       "    }\n",
       "\n",
       "    .dataframe thead th {\n",
       "        text-align: right;\n",
       "    }\n",
       "</style>\n",
       "<table border=\"1\" class=\"dataframe\">\n",
       "  <thead>\n",
       "    <tr style=\"text-align: right;\">\n",
       "      <th></th>\n",
       "      <th>year</th>\n",
       "      <th>unique_auth_year</th>\n",
       "    </tr>\n",
       "  </thead>\n",
       "  <tbody>\n",
       "    <tr>\n",
       "      <th>0</th>\n",
       "      <td>1982</td>\n",
       "      <td>Ogren_1982</td>\n",
       "    </tr>\n",
       "    <tr>\n",
       "      <th>1</th>\n",
       "      <td>1982</td>\n",
       "      <td>Heym_1982</td>\n",
       "    </tr>\n",
       "    <tr>\n",
       "      <th>2</th>\n",
       "      <td>1982</td>\n",
       "      <td>Boeck_1982</td>\n",
       "    </tr>\n",
       "    <tr>\n",
       "      <th>3</th>\n",
       "      <td>1982</td>\n",
       "      <td>Yoffe_1982</td>\n",
       "    </tr>\n",
       "    <tr>\n",
       "      <th>4</th>\n",
       "      <td>1982</td>\n",
       "      <td>Martin_1982</td>\n",
       "    </tr>\n",
       "    <tr>\n",
       "      <th>...</th>\n",
       "      <td>...</td>\n",
       "      <td>...</td>\n",
       "    </tr>\n",
       "    <tr>\n",
       "      <th>40638</th>\n",
       "      <td>2023</td>\n",
       "      <td>Ong_2023</td>\n",
       "    </tr>\n",
       "    <tr>\n",
       "      <th>40639</th>\n",
       "      <td>2023</td>\n",
       "      <td>Gandhi_2023</td>\n",
       "    </tr>\n",
       "    <tr>\n",
       "      <th>40640</th>\n",
       "      <td>2023</td>\n",
       "      <td>Cottone_2023</td>\n",
       "    </tr>\n",
       "    <tr>\n",
       "      <th>40641</th>\n",
       "      <td>2023</td>\n",
       "      <td>Kuzin_2023_2</td>\n",
       "    </tr>\n",
       "    <tr>\n",
       "      <th>40642</th>\n",
       "      <td>2023</td>\n",
       "      <td>Talati_2023</td>\n",
       "    </tr>\n",
       "  </tbody>\n",
       "</table>\n",
       "<p>40643 rows × 2 columns</p>\n",
       "</div>"
      ],
      "text/plain": [
       "       year unique_auth_year\n",
       "0      1982       Ogren_1982\n",
       "1      1982        Heym_1982\n",
       "2      1982       Boeck_1982\n",
       "3      1982       Yoffe_1982\n",
       "4      1982      Martin_1982\n",
       "...     ...              ...\n",
       "40638  2023         Ong_2023\n",
       "40639  2023      Gandhi_2023\n",
       "40640  2023     Cottone_2023\n",
       "40641  2023     Kuzin_2023_2\n",
       "40642  2023      Talati_2023\n",
       "\n",
       "[40643 rows x 2 columns]"
      ]
     },
     "execution_count": 15,
     "metadata": {},
     "output_type": "execute_result"
    }
   ],
   "source": [
    "df_emb[[\"year\", \"unique_auth_year\"]]"
   ]
  },
  {
   "cell_type": "code",
   "execution_count": null,
   "metadata": {},
   "outputs": [],
   "source": []
  },
  {
   "cell_type": "code",
   "execution_count": null,
   "metadata": {},
   "outputs": [],
   "source": []
  },
  {
   "cell_type": "code",
   "execution_count": null,
   "metadata": {},
   "outputs": [],
   "source": []
  },
  {
   "cell_type": "code",
   "execution_count": null,
   "metadata": {},
   "outputs": [],
   "source": []
  },
  {
   "cell_type": "code",
   "execution_count": null,
   "metadata": {},
   "outputs": [],
   "source": []
  },
  {
   "cell_type": "code",
   "execution_count": null,
   "metadata": {},
   "outputs": [],
   "source": []
  },
  {
   "cell_type": "code",
   "execution_count": null,
   "metadata": {},
   "outputs": [],
   "source": []
  },
  {
   "cell_type": "code",
   "execution_count": null,
   "metadata": {},
   "outputs": [],
   "source": []
  },
  {
   "cell_type": "code",
   "execution_count": 8,
   "metadata": {},
   "outputs": [
    {
     "data": {
      "text/plain": [
       "(35153, 29)"
      ]
     },
     "execution_count": 8,
     "metadata": {},
     "output_type": "execute_result"
    }
   ],
   "source": [
    "df = pd.read_pickle(\n",
    "    \"/Users/jlq293/Projects/Study-1-Bibliometrics/data/03-interim/specter-embeddings/df_with_specter2_embeddings.pkl\"\n",
    ")\n",
    "df.shape"
   ]
  },
  {
   "cell_type": "code",
   "execution_count": 6,
   "metadata": {},
   "outputs": [
    {
     "data": {
      "text/plain": [
       "Index(['authors', 'title', 'year', 'cited_by', 'doi', 'link', 'abstract',\n",
       "       'author_keywords', 'index_keywords', 'references', 'pubmed_id',\n",
       "       'document_type', 'source', 'eid', 'journal', 'first_author', 'nameyear',\n",
       "       'unique_nameyear', 'title_abstract', 'paper_id', 'oc_refs', 'oc_dois',\n",
       "       'cr_refs', 'cr_dois', 'merged_dois', 'oc_nr_dois', 'cr_nr_dois',\n",
       "       'merged_nr_dois', 'specter2_embeddings'],\n",
       "      dtype='object')"
      ]
     },
     "execution_count": 6,
     "metadata": {},
     "output_type": "execute_result"
    }
   ],
   "source": [
    "df.columns"
   ]
  },
  {
   "cell_type": "markdown",
   "metadata": {},
   "source": [
    "# KNN\n"
   ]
  },
  {
   "cell_type": "code",
   "execution_count": 7,
   "metadata": {},
   "outputs": [],
   "source": [
    "from sklearn.neighbors import NearestNeighbors\n",
    "import numpy as np\n",
    "\n",
    "X = np.array(df[\"specter2_embeddings\"].tolist())\n",
    "\n",
    "# Number of neighbors\n",
    "k = 10\n",
    "\n",
    "# Initialize and fit the model\n",
    "# metric='cosine' will use cosine similarity\n",
    "knn = NearestNeighbors(n_neighbors=k, metric=\"cosine\")\n",
    "knn.fit(X)\n",
    "\n",
    "# Find k-nearest neighbors for each point\n",
    "distances, indices = knn.kneighbors(X)"
   ]
  },
  {
   "cell_type": "code",
   "execution_count": 18,
   "metadata": {},
   "outputs": [
    {
     "data": {
      "text/plain": [
       "array([[0.        , 0.04248786, 0.05208212, ..., 0.05725467, 0.06045407,\n",
       "        0.06075859],\n",
       "       [0.00000006, 0.0923996 , 0.09254497, ..., 0.09979272, 0.09983027,\n",
       "        0.0998652 ],\n",
       "       [0.00000018, 0.06835675, 0.06915379, ..., 0.07794213, 0.07838231,\n",
       "        0.07896042],\n",
       "       ...,\n",
       "       [0.0000003 , 0.04048586, 0.0540055 , ..., 0.06445777, 0.06479794,\n",
       "        0.06515932],\n",
       "       [0.        , 0.030954  , 0.03975713, ..., 0.04864299, 0.04924732,\n",
       "        0.05060935],\n",
       "       [0.        , 0.04249674, 0.04303199, ..., 0.0618006 , 0.06327552,\n",
       "        0.06334496]], dtype=float32)"
      ]
     },
     "execution_count": 18,
     "metadata": {},
     "output_type": "execute_result"
    }
   ],
   "source": [
    "# max similarity score\n",
    "len(distances)\n",
    "# turn off scientific notation\n",
    "np.set_printoptions(suppress=True)\n",
    "distances"
   ]
  },
  {
   "cell_type": "code",
   "execution_count": 13,
   "metadata": {},
   "outputs": [
    {
     "data": {
      "text/plain": [
       "array([[1.        , 0.95751214, 0.9479179 , ..., 0.9427453 , 0.9395459 ,\n",
       "        0.9392414 ],\n",
       "       [0.99999994, 0.9076004 , 0.907455  , ..., 0.9002073 , 0.90016973,\n",
       "        0.9001348 ],\n",
       "       [0.9999998 , 0.93164325, 0.9308462 , ..., 0.92205787, 0.9216177 ,\n",
       "        0.9210396 ],\n",
       "       ...,\n",
       "       [0.9999997 , 0.95951414, 0.9459945 , ..., 0.9355422 , 0.93520206,\n",
       "        0.9348407 ],\n",
       "       [1.        , 0.969046  , 0.96024287, ..., 0.951357  , 0.9507527 ,\n",
       "        0.94939065],\n",
       "       [1.        , 0.95750326, 0.956968  , ..., 0.9381994 , 0.9367245 ,\n",
       "        0.93665504]], dtype=float32)"
      ]
     },
     "execution_count": 13,
     "metadata": {},
     "output_type": "execute_result"
    }
   ],
   "source": [
    "similarities"
   ]
  },
  {
   "cell_type": "code",
   "execution_count": null,
   "metadata": {},
   "outputs": [],
   "source": [
    "# loop over each pair in similarty matrix and calcutee the edge weight by retrieving the cite score, multiply by alpha, and add to the"
   ]
  },
  {
   "cell_type": "code",
   "execution_count": null,
   "metadata": {},
   "outputs": [],
   "source": []
  },
  {
   "cell_type": "code",
   "execution_count": null,
   "metadata": {},
   "outputs": [],
   "source": []
  },
  {
   "cell_type": "code",
   "execution_count": 20,
   "metadata": {},
   "outputs": [
    {
     "name": "stdout",
     "output_type": "stream",
     "text": [
      "5\n",
      "10\n",
      "15\n"
     ]
    }
   ],
   "source": [
    "for i in range(5, 21, 5):\n",
    "    print(i)"
   ]
  },
  {
   "cell_type": "code",
   "execution_count": 21,
   "metadata": {},
   "outputs": [
    {
     "name": "stderr",
     "output_type": "stream",
     "text": [
      "/Users/jlq293/Projects/Study-1-Bibliometrics/.conda/lib/python3.11/site-packages/sklearn/cluster/_kmeans.py:870: FutureWarning: The default value of `n_init` will change from 10 to 'auto' in 1.4. Set the value of `n_init` explicitly to suppress the warning\n",
      "  warnings.warn(\n",
      "/Users/jlq293/Projects/Study-1-Bibliometrics/.conda/lib/python3.11/site-packages/sklearn/cluster/_kmeans.py:870: FutureWarning: The default value of `n_init` will change from 10 to 'auto' in 1.4. Set the value of `n_init` explicitly to suppress the warning\n",
      "  warnings.warn(\n",
      "/Users/jlq293/Projects/Study-1-Bibliometrics/.conda/lib/python3.11/site-packages/sklearn/cluster/_kmeans.py:870: FutureWarning: The default value of `n_init` will change from 10 to 'auto' in 1.4. Set the value of `n_init` explicitly to suppress the warning\n",
      "  warnings.warn(\n",
      "/Users/jlq293/Projects/Study-1-Bibliometrics/.conda/lib/python3.11/site-packages/sklearn/cluster/_kmeans.py:870: FutureWarning: The default value of `n_init` will change from 10 to 'auto' in 1.4. Set the value of `n_init` explicitly to suppress the warning\n",
      "  warnings.warn(\n"
     ]
    },
    {
     "data": {
      "image/png": "[encoded data removed]",
      "text/plain": [
       "<Figure size 800x400 with 1 Axes>"
      ]
     },
     "metadata": {},
     "output_type": "display_data"
    }
   ],
   "source": [
    "from sklearn.cluster import KMeans\n",
    "import matplotlib.pyplot as plt\n",
    "\n",
    "# Assuming you have a features matrix X\n",
    "\n",
    "# Range of k to try\n",
    "k_values = range(5, 21, 5)\n",
    "inertia = []\n",
    "\n",
    "for k in k_values:\n",
    "    model = KMeans(n_clusters=k, random_state=42, m)\n",
    "    model.fit(X)\n",
    "    inertia.append(model.inertia_)\n",
    "\n",
    "# Plotting the Elbow Method graph\n",
    "plt.figure(figsize=(8, 4))\n",
    "plt.plot(k_values, inertia, \"o-\")\n",
    "plt.xlabel(\"Number of clusters (k)\")\n",
    "plt.ylabel(\"Inertia\")\n",
    "plt.title(\"Elbow Method For Optimal k\")\n",
    "plt.show()"
   ]
  },
  {
   "cell_type": "code",
   "execution_count": null,
   "metadata": {},
   "outputs": [],
   "source": []
  },
  {
   "cell_type": "code",
   "execution_count": 3,
   "metadata": {},
   "outputs": [
    {
     "ename": "ValueError",
     "evalue": "n_components=3 must be between 1 and min(n_samples, n_features)=2 with svd_solver='randomized'",
     "output_type": "error",
     "traceback": [
      "\u001b[0;31m---------------------------------------------------------------------------\u001b[0m",
      "\u001b[0;31mValueError\u001b[0m                                Traceback (most recent call last)",
      "Cell \u001b[0;32mIn[3], line 19\u001b[0m\n\u001b[1;32m     17\u001b[0m \u001b[38;5;66;03m# Use t-SNE to project 2D coordinates to 3D\u001b[39;00m\n\u001b[1;32m     18\u001b[0m tsne \u001b[38;5;241m=\u001b[39m TSNE(n_components\u001b[38;5;241m=\u001b[39m\u001b[38;5;241m3\u001b[39m, random_state\u001b[38;5;241m=\u001b[39m\u001b[38;5;241m0\u001b[39m)\n\u001b[0;32m---> 19\u001b[0m pos_3d \u001b[38;5;241m=\u001b[39m \u001b[43mtsne\u001b[49m\u001b[38;5;241;43m.\u001b[39;49m\u001b[43mfit_transform\u001b[49m\u001b[43m(\u001b[49m\u001b[43mpos_array\u001b[49m\u001b[43m)\u001b[49m\n\u001b[1;32m     21\u001b[0m \u001b[38;5;66;03m# Create a dictionary of 3D positions\u001b[39;00m\n\u001b[1;32m     22\u001b[0m pos_3d_dict \u001b[38;5;241m=\u001b[39m {nodes[i]: pos_3d[i] \u001b[38;5;28;01mfor\u001b[39;00m i \u001b[38;5;129;01min\u001b[39;00m \u001b[38;5;28mrange\u001b[39m(\u001b[38;5;28mlen\u001b[39m(nodes))}\n",
      "File \u001b[0;32m/opt/homebrew/Caskroom/miniconda/base/envs/condavenv/lib/python3.11/site-packages/sklearn/utils/_set_output.py:313\u001b[0m, in \u001b[0;36m_wrap_method_output.<locals>.wrapped\u001b[0;34m(self, X, *args, **kwargs)\u001b[0m\n\u001b[1;32m    311\u001b[0m \u001b[38;5;129m@wraps\u001b[39m(f)\n\u001b[1;32m    312\u001b[0m \u001b[38;5;28;01mdef\u001b[39;00m \u001b[38;5;21mwrapped\u001b[39m(\u001b[38;5;28mself\u001b[39m, X, \u001b[38;5;241m*\u001b[39margs, \u001b[38;5;241m*\u001b[39m\u001b[38;5;241m*\u001b[39mkwargs):\n\u001b[0;32m--> 313\u001b[0m     data_to_wrap \u001b[38;5;241m=\u001b[39m \u001b[43mf\u001b[49m\u001b[43m(\u001b[49m\u001b[38;5;28;43mself\u001b[39;49m\u001b[43m,\u001b[49m\u001b[43m \u001b[49m\u001b[43mX\u001b[49m\u001b[43m,\u001b[49m\u001b[43m \u001b[49m\u001b[38;5;241;43m*\u001b[39;49m\u001b[43margs\u001b[49m\u001b[43m,\u001b[49m\u001b[43m \u001b[49m\u001b[38;5;241;43m*\u001b[39;49m\u001b[38;5;241;43m*\u001b[39;49m\u001b[43mkwargs\u001b[49m\u001b[43m)\u001b[49m\n\u001b[1;32m    314\u001b[0m     \u001b[38;5;28;01mif\u001b[39;00m \u001b[38;5;28misinstance\u001b[39m(data_to_wrap, \u001b[38;5;28mtuple\u001b[39m):\n\u001b[1;32m    315\u001b[0m         \u001b[38;5;66;03m# only wrap the first output for cross decomposition\u001b[39;00m\n\u001b[1;32m    316\u001b[0m         return_tuple \u001b[38;5;241m=\u001b[39m (\n\u001b[1;32m    317\u001b[0m             _wrap_data_with_container(method, data_to_wrap[\u001b[38;5;241m0\u001b[39m], X, \u001b[38;5;28mself\u001b[39m),\n\u001b[1;32m    318\u001b[0m             \u001b[38;5;241m*\u001b[39mdata_to_wrap[\u001b[38;5;241m1\u001b[39m:],\n\u001b[1;32m    319\u001b[0m         )\n",
      "File \u001b[0;32m/opt/homebrew/Caskroom/miniconda/base/envs/condavenv/lib/python3.11/site-packages/sklearn/base.py:1473\u001b[0m, in \u001b[0;36m_fit_context.<locals>.decorator.<locals>.wrapper\u001b[0;34m(estimator, *args, **kwargs)\u001b[0m\n\u001b[1;32m   1466\u001b[0m     estimator\u001b[38;5;241m.\u001b[39m_validate_params()\n\u001b[1;32m   1468\u001b[0m \u001b[38;5;28;01mwith\u001b[39;00m config_context(\n\u001b[1;32m   1469\u001b[0m     skip_parameter_validation\u001b[38;5;241m=\u001b[39m(\n\u001b[1;32m   1470\u001b[0m         prefer_skip_nested_validation \u001b[38;5;129;01mor\u001b[39;00m global_skip_validation\n\u001b[1;32m   1471\u001b[0m     )\n\u001b[1;32m   1472\u001b[0m ):\n\u001b[0;32m-> 1473\u001b[0m     \u001b[38;5;28;01mreturn\u001b[39;00m \u001b[43mfit_method\u001b[49m\u001b[43m(\u001b[49m\u001b[43mestimator\u001b[49m\u001b[43m,\u001b[49m\u001b[43m \u001b[49m\u001b[38;5;241;43m*\u001b[39;49m\u001b[43margs\u001b[49m\u001b[43m,\u001b[49m\u001b[43m \u001b[49m\u001b[38;5;241;43m*\u001b[39;49m\u001b[38;5;241;43m*\u001b[39;49m\u001b[43mkwargs\u001b[49m\u001b[43m)\u001b[49m\n",
      "File \u001b[0;32m/opt/homebrew/Caskroom/miniconda/base/envs/condavenv/lib/python3.11/site-packages/sklearn/manifold/_t_sne.py:1176\u001b[0m, in \u001b[0;36mTSNE.fit_transform\u001b[0;34m(self, X, y)\u001b[0m\n\u001b[1;32m   1173\u001b[0m     \u001b[38;5;28mself\u001b[39m\u001b[38;5;241m.\u001b[39m_max_iter \u001b[38;5;241m=\u001b[39m \u001b[38;5;28mself\u001b[39m\u001b[38;5;241m.\u001b[39mmax_iter\n\u001b[1;32m   1175\u001b[0m \u001b[38;5;28mself\u001b[39m\u001b[38;5;241m.\u001b[39m_check_params_vs_input(X)\n\u001b[0;32m-> 1176\u001b[0m embedding \u001b[38;5;241m=\u001b[39m \u001b[38;5;28;43mself\u001b[39;49m\u001b[38;5;241;43m.\u001b[39;49m\u001b[43m_fit\u001b[49m\u001b[43m(\u001b[49m\u001b[43mX\u001b[49m\u001b[43m)\u001b[49m\n\u001b[1;32m   1177\u001b[0m \u001b[38;5;28mself\u001b[39m\u001b[38;5;241m.\u001b[39membedding_ \u001b[38;5;241m=\u001b[39m embedding\n\u001b[1;32m   1178\u001b[0m \u001b[38;5;28;01mreturn\u001b[39;00m \u001b[38;5;28mself\u001b[39m\u001b[38;5;241m.\u001b[39membedding_\n",
      "File \u001b[0;32m/opt/homebrew/Caskroom/miniconda/base/envs/condavenv/lib/python3.11/site-packages/sklearn/manifold/_t_sne.py:1027\u001b[0m, in \u001b[0;36mTSNE._fit\u001b[0;34m(self, X, skip_num_points)\u001b[0m\n\u001b[1;32m   1025\u001b[0m \u001b[38;5;66;03m# Always output a numpy array, no matter what is configured globally\u001b[39;00m\n\u001b[1;32m   1026\u001b[0m pca\u001b[38;5;241m.\u001b[39mset_output(transform\u001b[38;5;241m=\u001b[39m\u001b[38;5;124m\"\u001b[39m\u001b[38;5;124mdefault\u001b[39m\u001b[38;5;124m\"\u001b[39m)\n\u001b[0;32m-> 1027\u001b[0m X_embedded \u001b[38;5;241m=\u001b[39m \u001b[43mpca\u001b[49m\u001b[38;5;241;43m.\u001b[39;49m\u001b[43mfit_transform\u001b[49m\u001b[43m(\u001b[49m\u001b[43mX\u001b[49m\u001b[43m)\u001b[49m\u001b[38;5;241m.\u001b[39mastype(np\u001b[38;5;241m.\u001b[39mfloat32, copy\u001b[38;5;241m=\u001b[39m\u001b[38;5;28;01mFalse\u001b[39;00m)\n\u001b[1;32m   1028\u001b[0m \u001b[38;5;66;03m# PCA is rescaled so that PC1 has standard deviation 1e-4 which is\u001b[39;00m\n\u001b[1;32m   1029\u001b[0m \u001b[38;5;66;03m# the default value for random initialization. See issue #18018.\u001b[39;00m\n\u001b[1;32m   1030\u001b[0m X_embedded \u001b[38;5;241m=\u001b[39m X_embedded \u001b[38;5;241m/\u001b[39m np\u001b[38;5;241m.\u001b[39mstd(X_embedded[:, \u001b[38;5;241m0\u001b[39m]) \u001b[38;5;241m*\u001b[39m \u001b[38;5;241m1e-4\u001b[39m\n",
      "File \u001b[0;32m/opt/homebrew/Caskroom/miniconda/base/envs/condavenv/lib/python3.11/site-packages/sklearn/utils/_set_output.py:313\u001b[0m, in \u001b[0;36m_wrap_method_output.<locals>.wrapped\u001b[0;34m(self, X, *args, **kwargs)\u001b[0m\n\u001b[1;32m    311\u001b[0m \u001b[38;5;129m@wraps\u001b[39m(f)\n\u001b[1;32m    312\u001b[0m \u001b[38;5;28;01mdef\u001b[39;00m \u001b[38;5;21mwrapped\u001b[39m(\u001b[38;5;28mself\u001b[39m, X, \u001b[38;5;241m*\u001b[39margs, \u001b[38;5;241m*\u001b[39m\u001b[38;5;241m*\u001b[39mkwargs):\n\u001b[0;32m--> 313\u001b[0m     data_to_wrap \u001b[38;5;241m=\u001b[39m \u001b[43mf\u001b[49m\u001b[43m(\u001b[49m\u001b[38;5;28;43mself\u001b[39;49m\u001b[43m,\u001b[49m\u001b[43m \u001b[49m\u001b[43mX\u001b[49m\u001b[43m,\u001b[49m\u001b[43m \u001b[49m\u001b[38;5;241;43m*\u001b[39;49m\u001b[43margs\u001b[49m\u001b[43m,\u001b[49m\u001b[43m \u001b[49m\u001b[38;5;241;43m*\u001b[39;49m\u001b[38;5;241;43m*\u001b[39;49m\u001b[43mkwargs\u001b[49m\u001b[43m)\u001b[49m\n\u001b[1;32m    314\u001b[0m     \u001b[38;5;28;01mif\u001b[39;00m \u001b[38;5;28misinstance\u001b[39m(data_to_wrap, \u001b[38;5;28mtuple\u001b[39m):\n\u001b[1;32m    315\u001b[0m         \u001b[38;5;66;03m# only wrap the first output for cross decomposition\u001b[39;00m\n\u001b[1;32m    316\u001b[0m         return_tuple \u001b[38;5;241m=\u001b[39m (\n\u001b[1;32m    317\u001b[0m             _wrap_data_with_container(method, data_to_wrap[\u001b[38;5;241m0\u001b[39m], X, \u001b[38;5;28mself\u001b[39m),\n\u001b[1;32m    318\u001b[0m             \u001b[38;5;241m*\u001b[39mdata_to_wrap[\u001b[38;5;241m1\u001b[39m:],\n\u001b[1;32m    319\u001b[0m         )\n",
      "File \u001b[0;32m/opt/homebrew/Caskroom/miniconda/base/envs/condavenv/lib/python3.11/site-packages/sklearn/base.py:1473\u001b[0m, in \u001b[0;36m_fit_context.<locals>.decorator.<locals>.wrapper\u001b[0;34m(estimator, *args, **kwargs)\u001b[0m\n\u001b[1;32m   1466\u001b[0m     estimator\u001b[38;5;241m.\u001b[39m_validate_params()\n\u001b[1;32m   1468\u001b[0m \u001b[38;5;28;01mwith\u001b[39;00m config_context(\n\u001b[1;32m   1469\u001b[0m     skip_parameter_validation\u001b[38;5;241m=\u001b[39m(\n\u001b[1;32m   1470\u001b[0m         prefer_skip_nested_validation \u001b[38;5;129;01mor\u001b[39;00m global_skip_validation\n\u001b[1;32m   1471\u001b[0m     )\n\u001b[1;32m   1472\u001b[0m ):\n\u001b[0;32m-> 1473\u001b[0m     \u001b[38;5;28;01mreturn\u001b[39;00m \u001b[43mfit_method\u001b[49m\u001b[43m(\u001b[49m\u001b[43mestimator\u001b[49m\u001b[43m,\u001b[49m\u001b[43m \u001b[49m\u001b[38;5;241;43m*\u001b[39;49m\u001b[43margs\u001b[49m\u001b[43m,\u001b[49m\u001b[43m \u001b[49m\u001b[38;5;241;43m*\u001b[39;49m\u001b[38;5;241;43m*\u001b[39;49m\u001b[43mkwargs\u001b[49m\u001b[43m)\u001b[49m\n",
      "File \u001b[0;32m/opt/homebrew/Caskroom/miniconda/base/envs/condavenv/lib/python3.11/site-packages/sklearn/decomposition/_pca.py:474\u001b[0m, in \u001b[0;36mPCA.fit_transform\u001b[0;34m(self, X, y)\u001b[0m\n\u001b[1;32m    451\u001b[0m \u001b[38;5;129m@_fit_context\u001b[39m(prefer_skip_nested_validation\u001b[38;5;241m=\u001b[39m\u001b[38;5;28;01mTrue\u001b[39;00m)\n\u001b[1;32m    452\u001b[0m \u001b[38;5;28;01mdef\u001b[39;00m \u001b[38;5;21mfit_transform\u001b[39m(\u001b[38;5;28mself\u001b[39m, X, y\u001b[38;5;241m=\u001b[39m\u001b[38;5;28;01mNone\u001b[39;00m):\n\u001b[1;32m    453\u001b[0m \u001b[38;5;250m    \u001b[39m\u001b[38;5;124;03m\"\"\"Fit the model with X and apply the dimensionality reduction on X.\u001b[39;00m\n\u001b[1;32m    454\u001b[0m \n\u001b[1;32m    455\u001b[0m \u001b[38;5;124;03m    Parameters\u001b[39;00m\n\u001b[0;32m   (...)\u001b[0m\n\u001b[1;32m    472\u001b[0m \u001b[38;5;124;03m    C-ordered array, use 'np.ascontiguousarray'.\u001b[39;00m\n\u001b[1;32m    473\u001b[0m \u001b[38;5;124;03m    \"\"\"\u001b[39;00m\n\u001b[0;32m--> 474\u001b[0m     U, S, _, X, x_is_centered, xp \u001b[38;5;241m=\u001b[39m \u001b[38;5;28;43mself\u001b[39;49m\u001b[38;5;241;43m.\u001b[39;49m\u001b[43m_fit\u001b[49m\u001b[43m(\u001b[49m\u001b[43mX\u001b[49m\u001b[43m)\u001b[49m\n\u001b[1;32m    475\u001b[0m     \u001b[38;5;28;01mif\u001b[39;00m U \u001b[38;5;129;01mis\u001b[39;00m \u001b[38;5;129;01mnot\u001b[39;00m \u001b[38;5;28;01mNone\u001b[39;00m:\n\u001b[1;32m    476\u001b[0m         U \u001b[38;5;241m=\u001b[39m U[:, : \u001b[38;5;28mself\u001b[39m\u001b[38;5;241m.\u001b[39mn_components_]\n",
      "File \u001b[0;32m/opt/homebrew/Caskroom/miniconda/base/envs/condavenv/lib/python3.11/site-packages/sklearn/decomposition/_pca.py:548\u001b[0m, in \u001b[0;36mPCA._fit\u001b[0;34m(self, X)\u001b[0m\n\u001b[1;32m    546\u001b[0m     \u001b[38;5;28;01mreturn\u001b[39;00m \u001b[38;5;28mself\u001b[39m\u001b[38;5;241m.\u001b[39m_fit_full(X, n_components, xp, is_array_api_compliant)\n\u001b[1;32m    547\u001b[0m \u001b[38;5;28;01melif\u001b[39;00m \u001b[38;5;28mself\u001b[39m\u001b[38;5;241m.\u001b[39m_fit_svd_solver \u001b[38;5;129;01min\u001b[39;00m [\u001b[38;5;124m\"\u001b[39m\u001b[38;5;124marpack\u001b[39m\u001b[38;5;124m\"\u001b[39m, \u001b[38;5;124m\"\u001b[39m\u001b[38;5;124mrandomized\u001b[39m\u001b[38;5;124m\"\u001b[39m]:\n\u001b[0;32m--> 548\u001b[0m     \u001b[38;5;28;01mreturn\u001b[39;00m \u001b[38;5;28;43mself\u001b[39;49m\u001b[38;5;241;43m.\u001b[39;49m\u001b[43m_fit_truncated\u001b[49m\u001b[43m(\u001b[49m\u001b[43mX\u001b[49m\u001b[43m,\u001b[49m\u001b[43m \u001b[49m\u001b[43mn_components\u001b[49m\u001b[43m,\u001b[49m\u001b[43m \u001b[49m\u001b[43mxp\u001b[49m\u001b[43m)\u001b[49m\n",
      "File \u001b[0;32m/opt/homebrew/Caskroom/miniconda/base/envs/condavenv/lib/python3.11/site-packages/sklearn/decomposition/_pca.py:723\u001b[0m, in \u001b[0;36mPCA._fit_truncated\u001b[0;34m(self, X, n_components, xp)\u001b[0m\n\u001b[1;32m    718\u001b[0m     \u001b[38;5;28;01mraise\u001b[39;00m \u001b[38;5;167;01mValueError\u001b[39;00m(\n\u001b[1;32m    719\u001b[0m         \u001b[38;5;124m\"\u001b[39m\u001b[38;5;124mn_components=\u001b[39m\u001b[38;5;132;01m%r\u001b[39;00m\u001b[38;5;124m cannot be a string with svd_solver=\u001b[39m\u001b[38;5;124m'\u001b[39m\u001b[38;5;132;01m%s\u001b[39;00m\u001b[38;5;124m'\u001b[39m\u001b[38;5;124m\"\u001b[39m\n\u001b[1;32m    720\u001b[0m         \u001b[38;5;241m%\u001b[39m (n_components, svd_solver)\n\u001b[1;32m    721\u001b[0m     )\n\u001b[1;32m    722\u001b[0m \u001b[38;5;28;01melif\u001b[39;00m \u001b[38;5;129;01mnot\u001b[39;00m \u001b[38;5;241m1\u001b[39m \u001b[38;5;241m<\u001b[39m\u001b[38;5;241m=\u001b[39m n_components \u001b[38;5;241m<\u001b[39m\u001b[38;5;241m=\u001b[39m \u001b[38;5;28mmin\u001b[39m(n_samples, n_features):\n\u001b[0;32m--> 723\u001b[0m     \u001b[38;5;28;01mraise\u001b[39;00m \u001b[38;5;167;01mValueError\u001b[39;00m(\n\u001b[1;32m    724\u001b[0m         \u001b[38;5;124m\"\u001b[39m\u001b[38;5;124mn_components=\u001b[39m\u001b[38;5;132;01m%r\u001b[39;00m\u001b[38;5;124m must be between 1 and \u001b[39m\u001b[38;5;124m\"\u001b[39m\n\u001b[1;32m    725\u001b[0m         \u001b[38;5;124m\"\u001b[39m\u001b[38;5;124mmin(n_samples, n_features)=\u001b[39m\u001b[38;5;132;01m%r\u001b[39;00m\u001b[38;5;124m with \u001b[39m\u001b[38;5;124m\"\u001b[39m\n\u001b[1;32m    726\u001b[0m         \u001b[38;5;124m\"\u001b[39m\u001b[38;5;124msvd_solver=\u001b[39m\u001b[38;5;124m'\u001b[39m\u001b[38;5;132;01m%s\u001b[39;00m\u001b[38;5;124m'\u001b[39m\u001b[38;5;124m\"\u001b[39m\n\u001b[1;32m    727\u001b[0m         \u001b[38;5;241m%\u001b[39m (n_components, \u001b[38;5;28mmin\u001b[39m(n_samples, n_features), svd_solver)\n\u001b[1;32m    728\u001b[0m     )\n\u001b[1;32m    729\u001b[0m \u001b[38;5;28;01melif\u001b[39;00m svd_solver \u001b[38;5;241m==\u001b[39m \u001b[38;5;124m\"\u001b[39m\u001b[38;5;124marpack\u001b[39m\u001b[38;5;124m\"\u001b[39m \u001b[38;5;129;01mand\u001b[39;00m n_components \u001b[38;5;241m==\u001b[39m \u001b[38;5;28mmin\u001b[39m(n_samples, n_features):\n\u001b[1;32m    730\u001b[0m     \u001b[38;5;28;01mraise\u001b[39;00m \u001b[38;5;167;01mValueError\u001b[39;00m(\n\u001b[1;32m    731\u001b[0m         \u001b[38;5;124m\"\u001b[39m\u001b[38;5;124mn_components=\u001b[39m\u001b[38;5;132;01m%r\u001b[39;00m\u001b[38;5;124m must be strictly less than \u001b[39m\u001b[38;5;124m\"\u001b[39m\n\u001b[1;32m    732\u001b[0m         \u001b[38;5;124m\"\u001b[39m\u001b[38;5;124mmin(n_samples, n_features)=\u001b[39m\u001b[38;5;132;01m%r\u001b[39;00m\u001b[38;5;124m with \u001b[39m\u001b[38;5;124m\"\u001b[39m\n\u001b[1;32m    733\u001b[0m         \u001b[38;5;124m\"\u001b[39m\u001b[38;5;124msvd_solver=\u001b[39m\u001b[38;5;124m'\u001b[39m\u001b[38;5;132;01m%s\u001b[39;00m\u001b[38;5;124m'\u001b[39m\u001b[38;5;124m\"\u001b[39m\n\u001b[1;32m    734\u001b[0m         \u001b[38;5;241m%\u001b[39m (n_components, \u001b[38;5;28mmin\u001b[39m(n_samples, n_features), svd_solver)\n\u001b[1;32m    735\u001b[0m     )\n",
      "\u001b[0;31mValueError\u001b[0m: n_components=3 must be between 1 and min(n_samples, n_features)=2 with svd_solver='randomized'"
     ]
    }
   ],
   "source": [
    "import networkx as nx\n",
    "from sklearn.manifold import TSNE\n",
    "import numpy as np\n",
    "import plotly.graph_objects as go\n",
    "\n",
    "# Create a sample graph\n",
    "G = nx.karate_club_graph()\n",
    "pos = nx.spring_layout(G)  # Initial 2D layout\n",
    "\n",
    "# Convert positions to a list of coordinates\n",
    "nodes = list(G.nodes())\n",
    "pos_list = [pos[node] for node in nodes]\n",
    "\n",
    "# Convert the list of coordinates to a NumPy array\n",
    "pos_array = np.array(pos_list)\n",
    "\n",
    "# Use t-SNE to project 2D coordinates to 3D\n",
    "tsne = TSNE(n_components=3, random_state=0)\n",
    "pos_3d = tsne.fit_transform(pos_array)\n",
    "\n",
    "# Create a dictionary of 3D positions\n",
    "pos_3d_dict = {nodes[i]: pos_3d[i] for i in range(len(nodes))}\n",
    "\n",
    "# Prepare edge traces\n",
    "edge_traces = []\n",
    "for edge in G.edges():\n",
    "    x_coords = [pos_3d_dict[edge[0]][0], pos_3d_dict[edge[1]][0], None]\n",
    "    y_coords = [pos_3d_dict[edge[0]][1], pos_3d_dict[edge[1]][1], None]\n",
    "    z_coords = [pos_3d_dict[edge[0]][2], pos_3d_dict[edge[1]][2], None]\n",
    "    edge_trace = go.Scatter3d(\n",
    "        x=x_coords,\n",
    "        y=y_coords,\n",
    "        z=z_coords,\n",
    "        line=dict(width=2, color=\"#888\"),\n",
    "        hoverinfo=\"none\",\n",
    "        mode=\"lines\",\n",
    "    )\n",
    "    edge_traces.append(edge_trace)\n",
    "\n",
    "# Prepare node traces\n",
    "node_trace = go.Scatter3d(\n",
    "    x=[pos_3d_dict[node][0] for node in G.nodes()],\n",
    "    y=[pos_3d_dict[node][1] for node in G.nodes()],\n",
    "    z=[pos_3d_dict[node][2] for node in G.nodes()],\n",
    "    mode=\"markers\",\n",
    "    marker=dict(\n",
    "        size=5,\n",
    "        color=[pos_3d_dict[node][2] for node in G.nodes()],\n",
    "        colorscale=\"Viridis\",\n",
    "        line=dict(width=0),\n",
    "    ),\n",
    "    text=[f\"Node {node}\" for node in G.nodes()],\n",
    "    hoverinfo=\"text\",\n",
    ")\n",
    "\n",
    "# Create the 3D plot\n",
    "fig = go.Figure(\n",
    "    data=edge_traces + [node_trace],\n",
    "    layout=go.Layout(\n",
    "        title=\"3D Network Graph with t-SNE Projection\",\n",
    "        showlegend=False,\n",
    "        scene=dict(\n",
    "            xaxis=dict(showgrid=False, zeroline=False),\n",
    "            yaxis=dict(showgrid=False, zeroline=False),\n",
    "            zaxis=dict(showgrid=False, zeroline=False),\n",
    "        ),\n",
    "    ),\n",
    ")\n",
    "\n",
    "fig.show()"
   ]
  }
 ],
 "metadata": {
  "kernelspec": {
   "display_name": "Python 3",
   "language": "python",
   "name": "python3"
  },
  "language_info": {
   "codemirror_mode": {
    "name": "ipython",
    "version": 3
   },
   "file_extension": ".py",
   "mimetype": "text/x-python",
   "name": "python",
   "nbconvert_exporter": "python",
   "pygments_lexer": "ipython3",
   "version": "3.11.8"
  }
 },
 "nbformat": 4,
 "nbformat_minor": 2
}
