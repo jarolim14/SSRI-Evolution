{
 "cells": [
  {
   "cell_type": "code",
   "execution_count": 1,
   "metadata": {},
   "outputs": [],
   "source": [
    "import glob\n",
    "import json\n",
    "from tqdm import tqdm"
   ]
  },
  {
   "cell_type": "code",
   "execution_count": 2,
   "metadata": {},
   "outputs": [],
   "source": [
    "class ReadAndExtractRefs:\n",
    "    def __init__(self, path_to_ref_files=\".\"):\n",
    "        self.path_to_ref_files = path_to_ref_files\n",
    "        self.files = glob.glob(self.path_to_ref_files + \"*.json\")\n",
    "        self.final_eid_reference_dict = {}\n",
    "\n",
    "    def read_json_file(self, filename):\n",
    "        try:\n",
    "            with open(filename, \"r\") as f:\n",
    "                data = json.load(f)\n",
    "            return data\n",
    "        except FileNotFoundError:\n",
    "            print(f\"File not found: {filename}\")\n",
    "            return None\n",
    "        except json.JSONDecodeError:\n",
    "            print(f\"Error decoding JSON in file: {filename}\")\n",
    "            return None\n",
    "\n",
    "    def extract_eids(self, data):\n",
    "        for key, value in data.items():\n",
    "            if not value:\n",
    "                self.final_eid_reference_dict[key] = []\n",
    "            else:\n",
    "                if isinstance(value, dict):\n",
    "                    eid_list = [value.get(\"scopus-eid\", None)]\n",
    "                else:\n",
    "                    eid_list = [\n",
    "                        reference.get(\"scopus-eid\", None)\n",
    "                        for reference in value\n",
    "                        if isinstance(reference, dict) and \"scopus-eid\" in reference\n",
    "                    ]\n",
    "                self.final_eid_reference_dict[key] = eid_list\n",
    "\n",
    "    def run(self):\n",
    "        for f in tqdm(self.files):\n",
    "            data = self.read_json_file(f)\n",
    "            if data:\n",
    "                self.extract_eids(data)\n",
    "        return self.final_eid_reference_dict"
   ]
  },
  {
   "cell_type": "code",
   "execution_count": 3,
   "metadata": {},
   "outputs": [
    {
     "name": "stderr",
     "output_type": "stream",
     "text": [
      "100%|██████████| 86/86 [01:26<00:00,  1.00s/it]\n"
     ]
    }
   ],
   "source": [
    "path_to_ref_files = \"../data/01-raw/scopus/references/\"\n",
    "\n",
    "extractor = ReadAndExtractRefs(path_to_ref_files)\n",
    "final_eid_reference_dict = extractor.run()"
   ]
  },
  {
   "cell_type": "code",
   "execution_count": 4,
   "metadata": {},
   "outputs": [],
   "source": [
    "# save it to json\n",
    "p = \"../data/02-clean/references/eid_reference_dict.json\"\n",
    "\n",
    "with open(p, \"w\") as f:\n",
    "    json.dump(final_eid_reference_dict, f, indent=4)"
   ]
  }
 ],
 "metadata": {
  "kernelspec": {
   "display_name": "Python 3",
   "language": "python",
   "name": "python3"
  },
  "language_info": {
   "codemirror_mode": {
    "name": "ipython",
    "version": 3
   },
   "file_extension": ".py",
   "mimetype": "text/x-python",
   "name": "python",
   "nbconvert_exporter": "python",
   "pygments_lexer": "ipython3",
   "version": "3.11.6"
  }
 },
 "nbformat": 4,
 "nbformat_minor": 2
}
