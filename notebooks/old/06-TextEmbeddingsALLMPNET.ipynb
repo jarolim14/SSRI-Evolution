{
 "cells": [
  {
   "cell_type": "markdown",
   "metadata": {},
   "source": [
    "# Create Embeddings\n",
    "\n",
    "Model: pritamdeka/S-PubMedBert-MS-MARCO\n"
   ]
  },
  {
   "cell_type": "code",
   "execution_count": 6,
   "metadata": {},
   "outputs": [],
   "source": [
    "import warnings\n",
    "\n",
    "import pandas as pd\n",
    "\n",
    "from src.nlp.EmbeddingCreator import EmbeddingCreator\n",
    "from src.nlp.TextProcessor import TextProcessor\n",
    "\n",
    "warnings.simplefilter(action=\"ignore\", category=FutureWarning)"
   ]
  },
  {
   "cell_type": "markdown",
   "metadata": {},
   "source": [
    "## load data\n"
   ]
  },
  {
   "cell_type": "code",
   "execution_count": 7,
   "metadata": {},
   "outputs": [],
   "source": [
    "# Load DataFrame\n",
    "df = pd.read_pickle(\"../data/interim/merged/merged_data_with_refs.pkl\")"
   ]
  },
  {
   "cell_type": "markdown",
   "metadata": {},
   "source": [
    "## Process text\n",
    "\n",
    "remove NoTitle NoAbstract strings, extra spaces, extra punctuation, and ending statements (copytright...)\n"
   ]
  },
  {
   "cell_type": "code",
   "execution_count": 8,
   "metadata": {},
   "outputs": [],
   "source": [
    "# Apply the cleaning function\n",
    "text_preprocessor = TextProcessor()\n",
    "df[\"title_abstract\"] = df[\"title_abstract\"].apply(\n",
    "    text_preprocessor.clean_text_and_remove_ending_statements\n",
    ")"
   ]
  },
  {
   "cell_type": "markdown",
   "metadata": {},
   "source": [
    "## get embeddings\n"
   ]
  },
  {
   "cell_type": "code",
   "execution_count": 5,
   "metadata": {},
   "outputs": [
    {
     "name": "stdout",
     "output_type": "stream",
     "text": [
      "Using autotokenizer and automodel\n",
      "Model: sentence-transformers/all-mpnet-base-v2\n",
      "Df Shape: (40481, 20)\n",
      "Dataframe sorted by year and split into 21 chunks of size 2000\n"
     ]
    },
    {
     "name": "stderr",
     "output_type": "stream",
     "text": [
      "100%|██████████| 21/21 [00:00<00:00, 367.53it/s]\n",
      "Processing batches: 100%|██████████| 63/63 [14:41<00:00, 13.99s/it]\n"
     ]
    },
    {
     "name": "stdout",
     "output_type": "stream",
     "text": [
      "Saved chunk 0 to pickle: ../data/processed/allmpnet-embeddings/0_1983-1993.pkl\n"
     ]
    },
    {
     "name": "stderr",
     "output_type": "stream",
     "text": [
      "Processing batches: 100%|██████████| 63/63 [13:10<00:00, 12.55s/it]\n"
     ]
    },
    {
     "name": "stdout",
     "output_type": "stream",
     "text": [
      "Saved chunk 1 to pickle: ../data/processed/allmpnet-embeddings/1_1993-1996.pkl\n"
     ]
    },
    {
     "name": "stderr",
     "output_type": "stream",
     "text": [
      "Processing batches: 100%|██████████| 63/63 [12:49<00:00, 12.21s/it]\n"
     ]
    },
    {
     "name": "stdout",
     "output_type": "stream",
     "text": [
      "Saved chunk 2 to pickle: ../data/processed/allmpnet-embeddings/2_1996-1999.pkl\n"
     ]
    },
    {
     "name": "stderr",
     "output_type": "stream",
     "text": [
      "Processing batches: 100%|██████████| 63/63 [12:03<00:00, 11.48s/it]\n"
     ]
    },
    {
     "name": "stdout",
     "output_type": "stream",
     "text": [
      "Saved chunk 3 to pickle: ../data/processed/allmpnet-embeddings/3_1999-2001.pkl\n"
     ]
    },
    {
     "name": "stderr",
     "output_type": "stream",
     "text": [
      "Processing batches: 100%|██████████| 63/63 [11:42<00:00, 11.15s/it]\n"
     ]
    },
    {
     "name": "stdout",
     "output_type": "stream",
     "text": [
      "Saved chunk 4 to pickle: ../data/processed/allmpnet-embeddings/4_2001-2002.pkl\n"
     ]
    },
    {
     "name": "stderr",
     "output_type": "stream",
     "text": [
      "Processing batches: 100%|██████████| 63/63 [11:44<00:00, 11.18s/it]\n"
     ]
    },
    {
     "name": "stdout",
     "output_type": "stream",
     "text": [
      "Saved chunk 5 to pickle: ../data/processed/allmpnet-embeddings/5_2002-2004.pkl\n"
     ]
    },
    {
     "name": "stderr",
     "output_type": "stream",
     "text": [
      "Processing batches: 100%|██████████| 63/63 [13:02<00:00, 12.42s/it]\n"
     ]
    },
    {
     "name": "stdout",
     "output_type": "stream",
     "text": [
      "Saved chunk 6 to pickle: ../data/processed/allmpnet-embeddings/6_2004-2006.pkl\n"
     ]
    },
    {
     "name": "stderr",
     "output_type": "stream",
     "text": [
      "Processing batches: 100%|██████████| 63/63 [12:38<00:00, 12.05s/it]\n"
     ]
    },
    {
     "name": "stdout",
     "output_type": "stream",
     "text": [
      "Saved chunk 7 to pickle: ../data/processed/allmpnet-embeddings/7_2006-2007.pkl\n"
     ]
    },
    {
     "name": "stderr",
     "output_type": "stream",
     "text": [
      "Processing batches: 100%|██████████| 63/63 [11:50<00:00, 11.27s/it]\n"
     ]
    },
    {
     "name": "stdout",
     "output_type": "stream",
     "text": [
      "Saved chunk 8 to pickle: ../data/processed/allmpnet-embeddings/8_2007-2008.pkl\n"
     ]
    },
    {
     "name": "stderr",
     "output_type": "stream",
     "text": [
      "Processing batches: 100%|██████████| 63/63 [11:52<00:00, 11.31s/it]\n"
     ]
    },
    {
     "name": "stdout",
     "output_type": "stream",
     "text": [
      "Saved chunk 9 to pickle: ../data/processed/allmpnet-embeddings/9_2008-2010.pkl\n"
     ]
    },
    {
     "name": "stderr",
     "output_type": "stream",
     "text": [
      "Processing batches: 100%|██████████| 63/63 [12:03<00:00, 11.49s/it]\n"
     ]
    },
    {
     "name": "stdout",
     "output_type": "stream",
     "text": [
      "Saved chunk 10 to pickle: ../data/processed/allmpnet-embeddings/10_2010-2011.pkl\n"
     ]
    },
    {
     "name": "stderr",
     "output_type": "stream",
     "text": [
      "Processing batches: 100%|██████████| 63/63 [11:59<00:00, 11.43s/it]\n"
     ]
    },
    {
     "name": "stdout",
     "output_type": "stream",
     "text": [
      "Saved chunk 11 to pickle: ../data/processed/allmpnet-embeddings/11_2011-2012.pkl\n"
     ]
    },
    {
     "name": "stderr",
     "output_type": "stream",
     "text": [
      "Processing batches: 100%|██████████| 63/63 [11:54<00:00, 11.34s/it]\n"
     ]
    },
    {
     "name": "stdout",
     "output_type": "stream",
     "text": [
      "Saved chunk 12 to pickle: ../data/processed/allmpnet-embeddings/12_2012-2014.pkl\n"
     ]
    },
    {
     "name": "stderr",
     "output_type": "stream",
     "text": [
      "Processing batches: 100%|██████████| 63/63 [11:51<00:00, 11.29s/it]\n"
     ]
    },
    {
     "name": "stdout",
     "output_type": "stream",
     "text": [
      "Saved chunk 13 to pickle: ../data/processed/allmpnet-embeddings/13_2014-2015.pkl\n"
     ]
    },
    {
     "name": "stderr",
     "output_type": "stream",
     "text": [
      "Processing batches: 100%|██████████| 63/63 [11:49<00:00, 11.26s/it]\n"
     ]
    },
    {
     "name": "stdout",
     "output_type": "stream",
     "text": [
      "Saved chunk 14 to pickle: ../data/processed/allmpnet-embeddings/14_2015-2016.pkl\n"
     ]
    },
    {
     "name": "stderr",
     "output_type": "stream",
     "text": [
      "Processing batches: 100%|██████████| 63/63 [11:52<00:00, 11.30s/it]\n"
     ]
    },
    {
     "name": "stdout",
     "output_type": "stream",
     "text": [
      "Saved chunk 15 to pickle: ../data/processed/allmpnet-embeddings/15_2016-2017.pkl\n"
     ]
    },
    {
     "name": "stderr",
     "output_type": "stream",
     "text": [
      "Processing batches: 100%|██████████| 63/63 [11:50<00:00, 11.28s/it]\n"
     ]
    },
    {
     "name": "stdout",
     "output_type": "stream",
     "text": [
      "Saved chunk 16 to pickle: ../data/processed/allmpnet-embeddings/16_2017-2019.pkl\n"
     ]
    },
    {
     "name": "stderr",
     "output_type": "stream",
     "text": [
      "Processing batches: 100%|██████████| 63/63 [11:50<00:00, 11.28s/it]\n"
     ]
    },
    {
     "name": "stdout",
     "output_type": "stream",
     "text": [
      "Saved chunk 17 to pickle: ../data/processed/allmpnet-embeddings/17_2019-2020.pkl\n"
     ]
    },
    {
     "name": "stderr",
     "output_type": "stream",
     "text": [
      "Processing batches: 100%|██████████| 63/63 [11:51<00:00, 11.29s/it]\n"
     ]
    },
    {
     "name": "stdout",
     "output_type": "stream",
     "text": [
      "Saved chunk 18 to pickle: ../data/processed/allmpnet-embeddings/18_2020-2021.pkl\n"
     ]
    },
    {
     "name": "stderr",
     "output_type": "stream",
     "text": [
      "Processing batches: 100%|██████████| 63/63 [12:06<00:00, 11.53s/it]\n"
     ]
    },
    {
     "name": "stdout",
     "output_type": "stream",
     "text": [
      "Saved chunk 19 to pickle: ../data/processed/allmpnet-embeddings/19_2021-2022.pkl\n"
     ]
    },
    {
     "name": "stderr",
     "output_type": "stream",
     "text": [
      "Processing batches: 100%|██████████| 16/16 [02:54<00:00, 10.93s/it]\n"
     ]
    },
    {
     "name": "stdout",
     "output_type": "stream",
     "text": [
      "Saved chunk 20 to pickle: ../data/processed/allmpnet-embeddings/20_2022-9999.pkl\n"
     ]
    }
   ],
   "source": [
    "# model_path = \"microsoft/BiomedNLP-BiomedBERT-base-uncased-abstract-fulltext\"\n",
    "model_path = \"sentence-transformers/all-mpnet-base-v2\"\n",
    "\n",
    "# Create an instance of TextProcessor\n",
    "embedding_creator = EmbeddingCreator(df, modelpath=model_path, batch_size=32)\n",
    "\n",
    "# Process and save the chunks\n",
    "df_embeddings = embedding_creator.create_embeddings(\n",
    "    text_column_name=\"title_abstract\",\n",
    "    embeddings_column_name=\"embeddings_allmpnet\",\n",
    "    save_directory=\"../data/processed/allmpnet-embeddings\",\n",
    "    return_df=True,\n",
    "    start_chunk=0,\n",
    "    chunk_size=2000,\n",
    "    max_length=512,\n",
    ")"
   ]
  },
  {
   "cell_type": "code",
   "execution_count": 5,
   "metadata": {},
   "outputs": [],
   "source": [
    "# read in all .pkl files from the embeddings directory\n",
    "import glob\n",
    "import os\n",
    "\n",
    "embeddings = []\n",
    "\n",
    "for file in glob.glob(\"../data/interim/allmpnet-embeddings/*.pkl\"):\n",
    "    embeddings.append(pd.read_pickle(file))\n",
    "    # os.remove(file)\n",
    "\n",
    "# concatenate all embeddings\n",
    "df_embeddings = pd.concat(embeddings)\n",
    "# save the embeddings and delete the chunks\n",
    "df_embeddings.to_pickle(\"../data/interim/allmpnet-embeddings/allmpnet-embeddings.pkl\")"
   ]
  },
  {
   "cell_type": "code",
   "execution_count": 6,
   "metadata": {},
   "outputs": [],
   "source": []
  }
 ],
 "metadata": {
  "kernelspec": {
   "display_name": "Python 3",
   "language": "python",
   "name": "python3"
  },
  "language_info": {
   "codemirror_mode": {
    "name": "ipython",
    "version": 3
   },
   "file_extension": ".py",
   "mimetype": "text/x-python",
   "name": "python",
   "nbconvert_exporter": "python",
   "pygments_lexer": "ipython3",
   "version": "3.11.6"
  }
 },
 "nbformat": 4,
 "nbformat_minor": 2
}
