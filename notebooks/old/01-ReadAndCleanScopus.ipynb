{
 "cells": [
  {
   "cell_type": "markdown",
   "metadata": {},
   "source": [
    "# Read, Merge, Process Scop\n"
   ]
  },
  {
   "cell_type": "code",
   "execution_count": 3,
   "metadata": {},
   "outputs": [],
   "source": [
    "from src.data.ReadAndCleanScopusCSV import ReadAndCleanScopusCSV"
   ]
  },
  {
   "cell_type": "code",
   "execution_count": 4,
   "metadata": {},
   "outputs": [
    {
     "name": "stdout",
     "output_type": "stream",
     "text": [
      "DataCleaner instance initialized\n"
     ]
    }
   ],
   "source": [
    "scopus_processor = ReadAndCleanScopusCSV()"
   ]
  },
  {
   "cell_type": "code",
   "execution_count": 13,
   "metadata": {},
   "outputs": [
    {
     "data": {
      "text/plain": [
       "array([1999, 1998, 1997, 1996, 1995])"
      ]
     },
     "execution_count": 13,
     "metadata": {},
     "output_type": "execute_result"
    }
   ],
   "source": [
    "import pandas as pd\n",
    "\n",
    "dtype_dict = {\n",
    "    8: str,\n",
    "    20: str,\n",
    "    28: str,\n",
    "    30: str,\n",
    "    31: str,\n",
    "    32: str,\n",
    "    33: str,\n",
    "    34: str,\n",
    "    35: str,\n",
    "}\n",
    "\n",
    "\n",
    "df = pd.read_csv(\"/Users/jlq293/Downloads/scopus.csv\", dtype=dtype_dict)\n",
    "df[\"Year\"].unique()"
   ]
  },
  {
   "cell_type": "code",
   "execution_count": 15,
   "metadata": {},
   "outputs": [
    {
     "data": {
      "text/plain": [
       "5640              10.1136/bmj.311.7020.1641a\n",
       "794         10.1097/00004850-199903000-00003\n",
       "6713      10.1111/j.1600-0447.1997.tb09933.x\n",
       "7286            10.1016/0893-133X(95)00240-E\n",
       "223         10.1097/00004850-199906003-00006\n",
       "5597        10.1097/00004850-199609004-00001\n",
       "4135           10.1016/S0306-4522(97)00108-5\n",
       "2050        10.1097/00004714-199710000-00014\n",
       "4748    10.1001/archpsyc.1997.01830240035005\n",
       "1078           10.1016/S0924-977X(97)00080-1\n",
       "Name: DOI, dtype: object"
      ]
     },
     "execution_count": 15,
     "metadata": {},
     "output_type": "execute_result"
    }
   ],
   "source": [
    "df[\"DOI\"].sample(10)"
   ]
  },
  {
   "cell_type": "code",
   "execution_count": 9,
   "metadata": {},
   "outputs": [
    {
     "data": {
      "text/plain": [
       "array([1999, 1998, 1997, 1996, 1995])"
      ]
     },
     "execution_count": 9,
     "metadata": {},
     "output_type": "execute_result"
    }
   ],
   "source": [
    "df[\"Year\"].unique()"
   ]
  },
  {
   "cell_type": "code",
   "execution_count": 7,
   "metadata": {},
   "outputs": [
    {
     "data": {
      "text/plain": [
       "array([1999, 1998, 1997, 1996, 1995])"
      ]
     },
     "execution_count": 7,
     "metadata": {},
     "output_type": "execute_result"
    }
   ],
   "source": [
    "p.Year.unique()"
   ]
  },
  {
   "cell_type": "code",
   "execution_count": 2,
   "metadata": {},
   "outputs": [
    {
     "data": {
      "text/plain": [
       "array([2000, 1999, 1998, 1997, 1996])"
      ]
     },
     "execution_count": 2,
     "metadata": {},
     "output_type": "execute_result"
    }
   ],
   "source": [
    "import pandas as pd\n",
    "\n",
    "p = \"/Users/jlq293/Downloads/scopus_firefox.csv\"\n",
    "df = pd.read_csv(p)\n",
    "\n",
    "df[\"Year\"].unique()"
   ]
  },
  {
   "cell_type": "code",
   "execution_count": 13,
   "metadata": {},
   "outputs": [
    {
     "data": {
      "text/plain": [
       "Index(['Authors', 'Author full names', 'Author(s) ID', 'Title', 'Year',\n",
       "       'Source title', 'Volume', 'Issue', 'Art. No.', 'Page start', 'Page end',\n",
       "       'Page count', 'Cited by', 'DOI', 'Link', 'Affiliations',\n",
       "       'Authors with affiliations', 'Abstract', 'Author Keywords',\n",
       "       'Index Keywords', 'Molecular Sequence Numbers', 'Chemicals/CAS',\n",
       "       'Tradenames', 'Manufacturers', 'Funding Details', 'Funding Texts',\n",
       "       'References', 'Correspondence Address', 'Editors', 'Publisher',\n",
       "       'Sponsors', 'Conference name', 'Conference date', 'Conference location',\n",
       "       'Conference code', 'ISSN', 'ISBN', 'CODEN', 'PubMed ID',\n",
       "       'Language of Original Document', 'Abbreviated Source Title',\n",
       "       'Document Type', 'Publication Stage', 'Open Access', 'Source', 'EID'],\n",
       "      dtype='object')"
      ]
     },
     "execution_count": 13,
     "metadata": {},
     "output_type": "execute_result"
    }
   ],
   "source": [
    "df.columns"
   ]
  },
  {
   "cell_type": "code",
   "execution_count": 7,
   "metadata": {},
   "outputs": [
    {
     "data": {
      "text/plain": [
       "2157"
      ]
     },
     "execution_count": 7,
     "metadata": {},
     "output_type": "execute_result"
    }
   ],
   "source": [
    "df[\"DOI\"].isna().sum()"
   ]
  },
  {
   "cell_type": "code",
   "execution_count": 17,
   "metadata": {},
   "outputs": [
    {
     "data": {
      "text/html": [
       "<div>\n",
       "<style scoped>\n",
       "    .dataframe tbody tr th:only-of-type {\n",
       "        vertical-align: middle;\n",
       "    }\n",
       "\n",
       "    .dataframe tbody tr th {\n",
       "        vertical-align: top;\n",
       "    }\n",
       "\n",
       "    .dataframe thead th {\n",
       "        text-align: right;\n",
       "    }\n",
       "</style>\n",
       "<table border=\"1\" class=\"dataframe\">\n",
       "  <thead>\n",
       "    <tr style=\"text-align: right;\">\n",
       "      <th></th>\n",
       "      <th>Authors</th>\n",
       "      <th>Author full names</th>\n",
       "      <th>Author(s) ID</th>\n",
       "      <th>Title</th>\n",
       "      <th>Year</th>\n",
       "      <th>Source title</th>\n",
       "      <th>Volume</th>\n",
       "      <th>Issue</th>\n",
       "      <th>Art. No.</th>\n",
       "      <th>Page start</th>\n",
       "      <th>...</th>\n",
       "      <th>ISBN</th>\n",
       "      <th>CODEN</th>\n",
       "      <th>PubMed ID</th>\n",
       "      <th>Language of Original Document</th>\n",
       "      <th>Abbreviated Source Title</th>\n",
       "      <th>Document Type</th>\n",
       "      <th>Publication Stage</th>\n",
       "      <th>Open Access</th>\n",
       "      <th>Source</th>\n",
       "      <th>EID</th>\n",
       "    </tr>\n",
       "  </thead>\n",
       "  <tbody>\n",
       "  </tbody>\n",
       "</table>\n",
       "<p>0 rows × 46 columns</p>\n",
       "</div>"
      ],
      "text/plain": [
       "Empty DataFrame\n",
       "Columns: [Authors, Author full names, Author(s) ID, Title, Year, Source title, Volume, Issue, Art. No., Page start, Page end, Page count, Cited by, DOI, Link, Affiliations, Authors with affiliations, Abstract, Author Keywords, Index Keywords, Molecular Sequence Numbers, Chemicals/CAS, Tradenames, Manufacturers, Funding Details, Funding Texts, References, Correspondence Address, Editors, Publisher, Sponsors, Conference name, Conference date, Conference location, Conference code, ISSN, ISBN, CODEN, PubMed ID, Language of Original Document, Abbreviated Source Title, Document Type, Publication Stage, Open Access, Source, EID]\n",
       "Index: []\n",
       "\n",
       "[0 rows x 46 columns]"
      ]
     },
     "execution_count": 17,
     "metadata": {},
     "output_type": "execute_result"
    }
   ],
   "source": [
    "df[\n",
    "    df[\"Title\"].notna()\n",
    "    & df[\"Title\"].str.contains(\"Failure of exogenous serotonin to inhibit the release\")\n",
    "]"
   ]
  },
  {
   "cell_type": "code",
   "execution_count": 89,
   "metadata": {},
   "outputs": [
    {
     "data": {
      "text/plain": [
       "array([1983, 1982, 1984, 1985, 1986, 1987, 1988, 1989, 1990, 1991, 1992,\n",
       "       1993, 1994, 1995])"
      ]
     },
     "execution_count": 89,
     "metadata": {},
     "output_type": "execute_result"
    }
   ],
   "source": [
    "df[\"Year\"].unique()"
   ]
  },
  {
   "cell_type": "code",
   "execution_count": 31,
   "metadata": {},
   "outputs": [
    {
     "data": {
      "text/plain": [
       "Index(['Authors', 'Author full names', 'Author(s) ID', 'Title', 'Year',\n",
       "       'Source title', 'Volume', 'Issue', 'Art. No.', 'Page start', 'Page end',\n",
       "       'Page count', 'Cited by', 'DOI', 'Link', 'Affiliations',\n",
       "       'Authors with affiliations', 'Abstract', 'Author Keywords',\n",
       "       'Index Keywords', 'Molecular Sequence Numbers', 'Chemicals/CAS',\n",
       "       'Tradenames', 'Manufacturers', 'Funding Details', 'Funding Texts',\n",
       "       'References', 'Correspondence Address', 'Editors', 'Publisher',\n",
       "       'Sponsors', 'Conference name', 'Conference date', 'Conference location',\n",
       "       'Conference code', 'ISSN', 'ISBN', 'CODEN', 'PubMed ID',\n",
       "       'Language of Original Document', 'Abbreviated Source Title',\n",
       "       'Document Type', 'Publication Stage', 'Open Access', 'Source', 'EID'],\n",
       "      dtype='object')"
      ]
     },
     "execution_count": 31,
     "metadata": {},
     "output_type": "execute_result"
    }
   ],
   "source": [
    "df.sample(10).columns"
   ]
  },
  {
   "cell_type": "code",
   "execution_count": 5,
   "metadata": {},
   "outputs": [
    {
     "name": "stdout",
     "output_type": "stream",
     "text": [
      "Reading data from ../data/01-raw/scopus/2020-2023_ScopusData_Chunk3.csv\n",
      "Reading data from ../data/01-raw/scopus/2010-2019_ScopusData_Chunk2.csv\n",
      "Reading data from ../data/01-raw/scopus/1982-2009_ScopusData_Chunk1.csv\n",
      "Data from all files read and merged. Nr of Articles: 40605\n"
     ]
    }
   ],
   "source": [
    "# read in data\n",
    "scopus_processor.read_scopus_data(\"../data/01-raw/scopus/\")"
   ]
  },
  {
   "cell_type": "code",
   "execution_count": 9,
   "metadata": {},
   "outputs": [
    {
     "data": {
      "text/html": [
       "<div>\n",
       "<style scoped>\n",
       "    .dataframe tbody tr th:only-of-type {\n",
       "        vertical-align: middle;\n",
       "    }\n",
       "\n",
       "    .dataframe tbody tr th {\n",
       "        vertical-align: top;\n",
       "    }\n",
       "\n",
       "    .dataframe thead th {\n",
       "        text-align: right;\n",
       "    }\n",
       "</style>\n",
       "<table border=\"1\" class=\"dataframe\">\n",
       "  <thead>\n",
       "    <tr style=\"text-align: right;\">\n",
       "      <th></th>\n",
       "      <th>Authors</th>\n",
       "      <th>Author full names</th>\n",
       "      <th>Author(s) ID</th>\n",
       "      <th>Title</th>\n",
       "      <th>Year</th>\n",
       "      <th>Source title</th>\n",
       "      <th>Volume</th>\n",
       "      <th>Issue</th>\n",
       "      <th>Art. No.</th>\n",
       "      <th>Page start</th>\n",
       "      <th>...</th>\n",
       "      <th>ISBN</th>\n",
       "      <th>CODEN</th>\n",
       "      <th>PubMed ID</th>\n",
       "      <th>Language of Original Document</th>\n",
       "      <th>Abbreviated Source Title</th>\n",
       "      <th>Document Type</th>\n",
       "      <th>Publication Stage</th>\n",
       "      <th>Open Access</th>\n",
       "      <th>Source</th>\n",
       "      <th>EID</th>\n",
       "    </tr>\n",
       "  </thead>\n",
       "  <tbody>\n",
       "    <tr>\n",
       "      <th>0</th>\n",
       "      <td>Marčinko D.; Bolanča M.; Rudan V.</td>\n",
       "      <td>Marčinko, Darko (56265554700); Bolanča, Marina...</td>\n",
       "      <td>56265554700; 56634322200; 6701581525</td>\n",
       "      <td>Compulsive buying and binge eating disorder-a ...</td>\n",
       "      <td>2006</td>\n",
       "      <td>Progress in Neuro-Psychopharmacology and Biolo...</td>\n",
       "      <td>30</td>\n",
       "      <td>8</td>\n",
       "      <td>NaN</td>\n",
       "      <td>1542</td>\n",
       "      <td>...</td>\n",
       "      <td>NaN</td>\n",
       "      <td>PNPPD</td>\n",
       "      <td>16815617.0</td>\n",
       "      <td>English</td>\n",
       "      <td>Prog. Neuro-Psychopharmacol. Biol. Psychiatry</td>\n",
       "      <td>Article</td>\n",
       "      <td>Final</td>\n",
       "      <td>NaN</td>\n",
       "      <td>Scopus</td>\n",
       "      <td>2-s2.0-33750303895</td>\n",
       "    </tr>\n",
       "    <tr>\n",
       "      <th>1</th>\n",
       "      <td>Tornheim J.</td>\n",
       "      <td>Tornheim, Jerald (23391193200)</td>\n",
       "      <td>23391193200</td>\n",
       "      <td>A commentary on L-tryptophan</td>\n",
       "      <td>2006</td>\n",
       "      <td>Scientific Review of Alternative Medicine</td>\n",
       "      <td>10</td>\n",
       "      <td>NaN</td>\n",
       "      <td>NaN</td>\n",
       "      <td>52</td>\n",
       "      <td>...</td>\n",
       "      <td>NaN</td>\n",
       "      <td>SRAMF</td>\n",
       "      <td>NaN</td>\n",
       "      <td>English</td>\n",
       "      <td>Sci. Rev. Altern. Med.</td>\n",
       "      <td>Note</td>\n",
       "      <td>Final</td>\n",
       "      <td>NaN</td>\n",
       "      <td>Scopus</td>\n",
       "      <td>2-s2.0-38049031595</td>\n",
       "    </tr>\n",
       "  </tbody>\n",
       "</table>\n",
       "<p>2 rows × 46 columns</p>\n",
       "</div>"
      ],
      "text/plain": [
       "                             Authors  \\\n",
       "0  Marčinko D.; Bolanča M.; Rudan V.   \n",
       "1                        Tornheim J.   \n",
       "\n",
       "                                   Author full names  \\\n",
       "0  Marčinko, Darko (56265554700); Bolanča, Marina...   \n",
       "1                     Tornheim, Jerald (23391193200)   \n",
       "\n",
       "                           Author(s) ID  \\\n",
       "0  56265554700; 56634322200; 6701581525   \n",
       "1                           23391193200   \n",
       "\n",
       "                                               Title  Year  \\\n",
       "0  Compulsive buying and binge eating disorder-a ...  2006   \n",
       "1                       A commentary on L-tryptophan  2006   \n",
       "\n",
       "                                        Source title Volume Issue Art. No.  \\\n",
       "0  Progress in Neuro-Psychopharmacology and Biolo...     30     8      NaN   \n",
       "1          Scientific Review of Alternative Medicine     10   NaN      NaN   \n",
       "\n",
       "  Page start  ... ISBN  CODEN   PubMed ID Language of Original Document  \\\n",
       "0       1542  ...  NaN  PNPPD  16815617.0                       English   \n",
       "1         52  ...  NaN  SRAMF         NaN                       English   \n",
       "\n",
       "                        Abbreviated Source Title Document Type  \\\n",
       "0  Prog. Neuro-Psychopharmacol. Biol. Psychiatry       Article   \n",
       "1                         Sci. Rev. Altern. Med.          Note   \n",
       "\n",
       "  Publication Stage Open Access  Source                 EID  \n",
       "0             Final         NaN  Scopus  2-s2.0-33750303895  \n",
       "1             Final         NaN  Scopus  2-s2.0-38049031595  \n",
       "\n",
       "[2 rows x 46 columns]"
      ]
     },
     "execution_count": 9,
     "metadata": {},
     "output_type": "execute_result"
    }
   ],
   "source": [
    "scopus_processor.df.head(2)"
   ]
  },
  {
   "cell_type": "code",
   "execution_count": 13,
   "metadata": {},
   "outputs": [
    {
     "data": {
      "text/plain": [
       "array([2006, 2007, 2008, 2009, 2017, 2018, 2019, 2021, 2022, 2023, 2024])"
      ]
     },
     "execution_count": 13,
     "metadata": {},
     "output_type": "execute_result"
    }
   ],
   "source": [
    "scopus_processor.df[\"Year\"].unique()"
   ]
  },
  {
   "cell_type": "code",
   "execution_count": null,
   "metadata": {},
   "outputs": [
    {
     "name": "stdout",
     "output_type": "stream",
     "text": [
      "Column names cleaned\n",
      "--------------------------------------------------\n",
      "Number of articles not in English removed: 16\n",
      "Removed 0 duplicates based on eid\n",
      "Removed 1017 articles based on document type\n",
      "Types removed: ['Book chapter', 'Note', 'Short survey', 'Erratum', 'Retracted', 'Book', 'Data paper', 'Conference review', 'Article in press']\n"
     ]
    }
   ],
   "source": [
    "# Clean column names\n",
    "scopus_processor.clean_column_names()\n",
    "\n",
    "# Remove non-English articles\n",
    "scopus_processor.english_only()\n",
    "\n",
    "# Remove a set of columns\n",
    "scopus_processor.remove_columns(default=True)\n",
    "\n",
    "# Remove duplicates\n",
    "scopus_processor.remove_duplicates()\n",
    "\n",
    "# Remove certain document types\n",
    "scopus_processor.remove_document_types()\n",
    "\n",
    "# change types of missing values\n",
    "scopus_processor.clean_title_abstract()\n",
    "\n",
    "# clean author column, create a list\n",
    "scopus_processor.clean_author_names()"
   ]
  },
  {
   "cell_type": "code",
   "execution_count": 6,
   "metadata": {},
   "outputs": [
    {
     "name": "stdout",
     "output_type": "stream",
     "text": [
      "Dataframe saved here:\n",
      " ../data/processed/scopus_data\n"
     ]
    }
   ],
   "source": [
    "# Save the dataframe as a parquet file\n",
    "scopus_processor.parquet_saver(\n",
    "    path=\"../data/processed/\", filename=\"scopus_data_processed.parquet\"\n",
    ")"
   ]
  },
  {
   "cell_type": "code",
   "execution_count": 7,
   "metadata": {},
   "outputs": [
    {
     "data": {
      "text/html": [
       "<div>\n",
       "<style scoped>\n",
       "    .dataframe tbody tr th:only-of-type {\n",
       "        vertical-align: middle;\n",
       "    }\n",
       "\n",
       "    .dataframe tbody tr th {\n",
       "        vertical-align: top;\n",
       "    }\n",
       "\n",
       "    .dataframe thead th {\n",
       "        text-align: right;\n",
       "    }\n",
       "</style>\n",
       "<table border=\"1\" class=\"dataframe\">\n",
       "  <thead>\n",
       "    <tr style=\"text-align: right;\">\n",
       "      <th></th>\n",
       "      <th>authors</th>\n",
       "      <th>title</th>\n",
       "      <th>year</th>\n",
       "      <th>cited_by</th>\n",
       "      <th>doi</th>\n",
       "      <th>link</th>\n",
       "      <th>abstract</th>\n",
       "      <th>author_keywords</th>\n",
       "      <th>index_keywords</th>\n",
       "      <th>references</th>\n",
       "      <th>pubmed_id</th>\n",
       "      <th>document_type</th>\n",
       "      <th>source</th>\n",
       "      <th>eid</th>\n",
       "    </tr>\n",
       "  </thead>\n",
       "  <tbody>\n",
       "    <tr>\n",
       "      <th>0</th>\n",
       "      <td>[Kiraly; M., Ma; R.C., Dun; N.J.]</td>\n",
       "      <td>Serotonin mediates a slow excitatory potential...</td>\n",
       "      <td>1983</td>\n",
       "      <td>12</td>\n",
       "      <td>10.1016/0006-8993(83)91002-8</td>\n",
       "      <td>https://www.scopus.com/inward/record.uri?eid=2...</td>\n",
       "      <td>Neuropharmacological and histochemical evidenc...</td>\n",
       "      <td>celiac ganglia; non-cholinergic EPSP; serotonin</td>\n",
       "      <td>Action Potentials; Animal; Cyproheptadine; Ele...</td>\n",
       "      <td>Aghaganian, Asher, Histochemical flourescence ...</td>\n",
       "      <td>6605177.0</td>\n",
       "      <td>Article</td>\n",
       "      <td>Scopus</td>\n",
       "      <td>2-s2.0-0020509808</td>\n",
       "    </tr>\n",
       "    <tr>\n",
       "      <th>1</th>\n",
       "      <td>[Johnston; C.A., Moore; K.E.]</td>\n",
       "      <td>Measurement of 5-hydroxytryptamine synthesis a...</td>\n",
       "      <td>1983</td>\n",
       "      <td>18</td>\n",
       "      <td>10.1007/BF01250047</td>\n",
       "      <td>https://www.scopus.com/inward/record.uri?eid=2...</td>\n",
       "      <td>High performance liquid chromatography coupled...</td>\n",
       "      <td>NaN</td>\n",
       "      <td>Animal; Brain; Corpus Striatum; Hydrazines; Hy...</td>\n",
       "      <td>Brownstein M.J., Palkovits M., Tappaz M.L., Sa...</td>\n",
       "      <td>6619830.0</td>\n",
       "      <td>Article</td>\n",
       "      <td>Scopus</td>\n",
       "      <td>2-s2.0-0020555550</td>\n",
       "    </tr>\n",
       "    <tr>\n",
       "      <th>2</th>\n",
       "      <td>[Pawlowski; L., Kwiatek; H.]</td>\n",
       "      <td>The effect of highly selective inhibitors of t...</td>\n",
       "      <td>1983</td>\n",
       "      <td>7</td>\n",
       "      <td>10.1007/BF00439273</td>\n",
       "      <td>https://www.scopus.com/inward/record.uri?eid=2...</td>\n",
       "      <td>Well established as supposed antidepressant dr...</td>\n",
       "      <td>5-HT uptake inhibitors; Antidepressant drugs; ...</td>\n",
       "      <td>Adrenergic alpha-Antagonists; Animal; Antidepr...</td>\n",
       "      <td>Bligh J., Temperature regulation in mummals an...</td>\n",
       "      <td>6138792.0</td>\n",
       "      <td>Article</td>\n",
       "      <td>Scopus</td>\n",
       "      <td>2-s2.0-0020589270</td>\n",
       "    </tr>\n",
       "  </tbody>\n",
       "</table>\n",
       "</div>"
      ],
      "text/plain": [
       "                             authors  \\\n",
       "0  [Kiraly; M., Ma; R.C., Dun; N.J.]   \n",
       "1      [Johnston; C.A., Moore; K.E.]   \n",
       "2       [Pawlowski; L., Kwiatek; H.]   \n",
       "\n",
       "                                               title  year  cited_by  \\\n",
       "0  Serotonin mediates a slow excitatory potential...  1983        12   \n",
       "1  Measurement of 5-hydroxytryptamine synthesis a...  1983        18   \n",
       "2  The effect of highly selective inhibitors of t...  1983         7   \n",
       "\n",
       "                            doi  \\\n",
       "0  10.1016/0006-8993(83)91002-8   \n",
       "1            10.1007/BF01250047   \n",
       "2            10.1007/BF00439273   \n",
       "\n",
       "                                                link  \\\n",
       "0  https://www.scopus.com/inward/record.uri?eid=2...   \n",
       "1  https://www.scopus.com/inward/record.uri?eid=2...   \n",
       "2  https://www.scopus.com/inward/record.uri?eid=2...   \n",
       "\n",
       "                                            abstract  \\\n",
       "0  Neuropharmacological and histochemical evidenc...   \n",
       "1  High performance liquid chromatography coupled...   \n",
       "2  Well established as supposed antidepressant dr...   \n",
       "\n",
       "                                     author_keywords  \\\n",
       "0    celiac ganglia; non-cholinergic EPSP; serotonin   \n",
       "1                                                NaN   \n",
       "2  5-HT uptake inhibitors; Antidepressant drugs; ...   \n",
       "\n",
       "                                      index_keywords  \\\n",
       "0  Action Potentials; Animal; Cyproheptadine; Ele...   \n",
       "1  Animal; Brain; Corpus Striatum; Hydrazines; Hy...   \n",
       "2  Adrenergic alpha-Antagonists; Animal; Antidepr...   \n",
       "\n",
       "                                          references  pubmed_id document_type  \\\n",
       "0  Aghaganian, Asher, Histochemical flourescence ...  6605177.0       Article   \n",
       "1  Brownstein M.J., Palkovits M., Tappaz M.L., Sa...  6619830.0       Article   \n",
       "2  Bligh J., Temperature regulation in mummals an...  6138792.0       Article   \n",
       "\n",
       "   source                eid  \n",
       "0  Scopus  2-s2.0-0020509808  \n",
       "1  Scopus  2-s2.0-0020555550  \n",
       "2  Scopus  2-s2.0-0020589270  "
      ]
     },
     "execution_count": 7,
     "metadata": {},
     "output_type": "execute_result"
    }
   ],
   "source": [
    "scopus_processor.df.head(3)"
   ]
  },
  {
   "cell_type": "code",
   "execution_count": null,
   "metadata": {},
   "outputs": [],
   "source": []
  }
 ],
 "metadata": {
  "kernelspec": {
   "display_name": "Python 3",
   "language": "python",
   "name": "python3"
  },
  "language_info": {
   "codemirror_mode": {
    "name": "ipython",
    "version": 3
   },
   "file_extension": ".py",
   "mimetype": "text/x-python",
   "name": "python",
   "nbconvert_exporter": "python",
   "pygments_lexer": "ipython3",
   "version": "3.11.6"
  }
 },
 "nbformat": 4,
 "nbformat_minor": 2
}
