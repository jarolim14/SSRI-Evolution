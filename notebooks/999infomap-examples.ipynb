{
 "cells": [
  {
   "cell_type": "markdown",
   "metadata": {},
   "source": [
    "# Infomap\n",
    "\n",
    "Multi-level network clustering based on the [Map equation](http://www.mapequation.org/publications.html#Rosvall-Axelsson-Bergstrom-2009-Map-equation).\n",
    "\n",
    "### The Map Equation\n",
    "\n",
    "\\begin{equation*}\n",
    "L(M) = q*\\curvearrowright H(\\mathcal{Q}) + \\sum*{i = 1}^{m}{p\\_{\\circlearrowright}^i H(\\mathcal{P}^i)}\n",
    "\\end{equation*}\n",
    "\n",
    "$L(M)$ measures the amount of information it takes to describe a random walk on a network given a partition of the network into modules $M$. It is a sum of the amount of information needed to describe the movements _between_ and _within_ the modules, which balances the goodness of fit with the complexity of the model. For more information, see [www.mapequation.org](http://www.mapequation.org).\n"
   ]
  },
  {
   "cell_type": "markdown",
   "metadata": {},
   "source": [
    "### Import Infomap\n",
    "\n",
    "Infomap includes an `examples/python` folder with some examples, including this notebook. Run `make` in that directory to build the python interface to a local folder.\n",
    "\n",
    "The `infomap` package exposes two classes, `Infomap` and `MemInfomap`, that wraps an input `network`, an output `tree`, and a `run` method to run Infomap on the input network. The classes takes a string of [options](http://www.mapequation.org/code.html#Options) as input.\n"
   ]
  },
  {
   "cell_type": "code",
   "execution_count": 7,
   "metadata": {
    "collapsed": true
   },
   "outputs": [],
   "source": [
    "import infomap"
   ]
  },
  {
   "cell_type": "markdown",
   "metadata": {},
   "source": [
    "## Simple example\n"
   ]
  },
  {
   "cell_type": "code",
   "execution_count": 2,
   "metadata": {},
   "outputs": [
    {
     "name": "stdout",
     "output_type": "stream",
     "text": [
      "Found 2 modules with codelength: 2.320730\n",
      "\n",
      "#node module\n",
      "0 0\n",
      "1 0\n",
      "2 0\n",
      "3 1\n",
      "4 1\n",
      "5 1\n"
     ]
    }
   ],
   "source": [
    "infomapWrapper = infomap.Infomap(\"--two-level\")\n",
    "\n",
    "# Add link weight as an optional third argument\n",
    "infomapWrapper.addLink(0, 1)\n",
    "infomapWrapper.addLink(0, 2)\n",
    "infomapWrapper.addLink(0, 3)\n",
    "infomapWrapper.addLink(1, 0)\n",
    "infomapWrapper.addLink(1, 2)\n",
    "infomapWrapper.addLink(2, 1)\n",
    "infomapWrapper.addLink(2, 0)\n",
    "infomapWrapper.addLink(3, 0)\n",
    "infomapWrapper.addLink(3, 4)\n",
    "infomapWrapper.addLink(3, 5)\n",
    "infomapWrapper.addLink(4, 3)\n",
    "infomapWrapper.addLink(4, 5)\n",
    "infomapWrapper.addLink(5, 4)\n",
    "infomapWrapper.addLink(5, 3)\n",
    "\n",
    "infomapWrapper.run()\n",
    "\n",
    "tree = infomapWrapper.tree\n",
    "\n",
    "print(\n",
    "    \"Found %d modules with codelength: %f\" % (tree.numTopModules(), tree.codelength())\n",
    ")\n",
    "\n",
    "print(\"\\n#node module\")\n",
    "for node in tree.leafIter():\n",
    "    print(\"%d %d\" % (node.physIndex, node.moduleIndex()))"
   ]
  },
  {
   "cell_type": "markdown",
   "metadata": {},
   "source": [
    "## Simple example with file\n"
   ]
  },
  {
   "cell_type": "code",
   "execution_count": 3,
   "metadata": {},
   "outputs": [
    {
     "name": "stdout",
     "output_type": "stream",
     "text": [
      "Found 3 levels with codelength: 3.462273\n",
      "Hierarchical solution:\n",
      "#path flow node\n",
      "1:1:1 0.038462 \"4\"\n",
      "1:1:2 0.038462 \"5\"\n",
      "1:1:3 0.038462 \"6\"\n",
      "1:2:1 0.038462 \"7\"\n",
      "1:2:2 0.038462 \"8\"\n",
      "1:2:3 0.038462 \"9\"\n",
      "1:3:1 0.038462 \"1\"\n",
      "1:3:2 0.038462 \"3\"\n",
      "1:3:3 0.025641 \"2\"\n",
      "2:1:1 0.038462 \"19\"\n",
      "2:1:2 0.038462 \"20\"\n",
      "2:1:3 0.038462 \"21\"\n",
      "2:2:1 0.038462 \"22\"\n",
      "2:2:2 0.038462 \"23\"\n",
      "2:2:3 0.038462 \"24\"\n",
      "2:3:1 0.038462 \"25\"\n",
      "2:3:2 0.038462 \"26\"\n",
      "2:3:3 0.025641 \"27\"\n",
      "3:1 0.038462 \"10\"\n",
      "3:2 0.038462 \"11\"\n",
      "3:3 0.038462 \"12\"\n",
      "4:1 0.038462 \"16\"\n",
      "4:2 0.038462 \"17\"\n",
      "4:3 0.038462 \"18\"\n",
      "5:1 0.038462 \"13\"\n",
      "5:2 0.038462 \"15\"\n",
      "5:3 0.025641 \"14\"\n"
     ]
    }
   ],
   "source": [
    "name = \"ninetriangles\"\n",
    "filename = \"../../{}.net\".format(name)\n",
    "\n",
    "infomapWrapper = infomap.Infomap(\"\")\n",
    "\n",
    "infomapWrapper.readInputData(filename)\n",
    "\n",
    "infomapWrapper.run()\n",
    "\n",
    "tree = infomapWrapper.tree\n",
    "\n",
    "print(\"Found %d levels with codelength: %f\" % (tree.maxDepth(), tree.codelength()))\n",
    "print(\"Hierarchical solution:\\n#path flow node\")\n",
    "for node in tree.treeIter():\n",
    "    if node.isLeaf:\n",
    "        print(\n",
    "            '%s %f \"%s\"'\n",
    "            % (\n",
    "                \":\".join(map(lambda n: str(n + 1), node.path())),\n",
    "                node.data.flow,\n",
    "                node.data.name,\n",
    "            )\n",
    "        )"
   ]
  },
  {
   "cell_type": "markdown",
   "metadata": {},
   "source": [
    "## Memory networks\n",
    "\n",
    "With memory networks, the flow between two nodes depends on how you arrived at the first node. This higher-order relationships can be described by trigrams as in the example below:\n"
   ]
  },
  {
   "cell_type": "markdown",
   "metadata": {},
   "source": [
    "### Trigrams\n"
   ]
  },
  {
   "cell_type": "code",
   "execution_count": 4,
   "metadata": {},
   "outputs": [
    {
     "name": "stdout",
     "output_type": "stream",
     "text": [
      "Found 3 modules with codelength: 1.227078\n",
      "\n",
      "#node module\n",
      "4 0\n",
      "3 0\n",
      "2 0\n",
      "1 1\n",
      "2 1\n",
      "0 2\n"
     ]
    }
   ],
   "source": [
    "infomapWrapper = infomap.MemInfomap(\"--two-level\")\n",
    "\n",
    "# Trigrams represents a path from node A through B to C.\n",
    "# Add link weight as an optional fourth argument\n",
    "infomapWrapper.addTrigram(0, 2, 0)\n",
    "infomapWrapper.addTrigram(0, 2, 1)\n",
    "infomapWrapper.addTrigram(1, 2, 1)\n",
    "infomapWrapper.addTrigram(1, 2, 0)\n",
    "infomapWrapper.addTrigram(1, 2, 3)\n",
    "infomapWrapper.addTrigram(3, 2, 3)\n",
    "infomapWrapper.addTrigram(2, 3, 4)\n",
    "infomapWrapper.addTrigram(3, 2, 4)\n",
    "infomapWrapper.addTrigram(4, 2, 4)\n",
    "infomapWrapper.addTrigram(4, 2, 3)\n",
    "infomapWrapper.addTrigram(4, 3, 3)\n",
    "\n",
    "infomapWrapper.run()\n",
    "\n",
    "tree = infomapWrapper.tree\n",
    "\n",
    "print(\n",
    "    \"Found %d modules with codelength: %f\" % (tree.numTopModules(), tree.codelength())\n",
    ")\n",
    "\n",
    "print(\"\\n#node module\")\n",
    "for node in tree.leafIter():\n",
    "    print(\"%d %d\" % (node.physIndex, node.moduleIndex()))"
   ]
  },
  {
   "cell_type": "markdown",
   "metadata": {},
   "source": [
    "#### Overlapping modules\n",
    "\n",
    "Notice that node `2` in the example below exists in both module `0` and `1`. This is because `MemInfomap` partitions the higher-order state network which can include multiple state nodes for each physical node. For trigrams, a state node is a pair of `previousNode node`. To keep the state network in the output tree, add the `--expanded` flag to configure `MemInfomap`:\n"
   ]
  },
  {
   "cell_type": "code",
   "execution_count": 5,
   "metadata": {},
   "outputs": [
    {
     "name": "stdout",
     "output_type": "stream",
     "text": [
      "Found 3 modules with codelength: 1.227078\n",
      "\n",
      "#previousNode node module\n",
      "2 3 0\n",
      "3 4 0\n",
      "2 4 0\n",
      "3 2 0\n",
      "4 2 0\n",
      "2 1 1\n",
      "0 2 1\n",
      "1 2 1\n",
      "2 0 2\n"
     ]
    }
   ],
   "source": [
    "# Store expanded state network\n",
    "infomapWrapper = infomap.MemInfomap(\"--two-level --expanded\")\n",
    "\n",
    "infomapWrapper.addTrigram(0, 2, 0)\n",
    "infomapWrapper.addTrigram(0, 2, 1)\n",
    "infomapWrapper.addTrigram(1, 2, 1)\n",
    "infomapWrapper.addTrigram(1, 2, 0)\n",
    "infomapWrapper.addTrigram(1, 2, 3)\n",
    "infomapWrapper.addTrigram(3, 2, 3)\n",
    "infomapWrapper.addTrigram(2, 3, 4)\n",
    "infomapWrapper.addTrigram(3, 2, 4)\n",
    "infomapWrapper.addTrigram(4, 2, 4)\n",
    "infomapWrapper.addTrigram(4, 2, 3)\n",
    "infomapWrapper.addTrigram(4, 3, 3)\n",
    "\n",
    "infomapWrapper.run()\n",
    "\n",
    "tree = infomapWrapper.tree\n",
    "\n",
    "print(\n",
    "    \"Found %d modules with codelength: %f\" % (tree.numTopModules(), tree.codelength())\n",
    ")\n",
    "\n",
    "print(\"\\n#previousNode node module\")\n",
    "for node in tree.leafIter():\n",
    "    print(\"%d %d %d\" % (node.stateIndex, node.physIndex, node.moduleIndex()))"
   ]
  },
  {
   "cell_type": "markdown",
   "metadata": {},
   "source": [
    "As seen in the expanded output above, node `2` is represented by four state nodes partitioned into two modules depending on where you come from; if you go to node `2` from node `0` or `1` you are still considered to be in module `1`, but if you go to node `2` from node `3` and `4` you are still considered to be in module `0`.\n"
   ]
  },
  {
   "cell_type": "markdown",
   "metadata": {},
   "source": [
    "### Multi-layer networks\n"
   ]
  },
  {
   "cell_type": "code",
   "execution_count": 6,
   "metadata": {},
   "outputs": [
    {
     "name": "stdout",
     "output_type": "stream",
     "text": [
      "Found 3 modules with codelength: 0.865437\n",
      "\n",
      "#layer node module:\n",
      "2 1 0\n",
      "1 2 0\n",
      "2 3 1\n",
      "3 2 1\n",
      "0 0 2\n"
     ]
    }
   ],
   "source": [
    "infomapWrapper = infomap.MemInfomap(\"--two-level --expanded\")\n",
    "\n",
    "# from (layer, node) to (layer, node) weight\n",
    "infomapWrapper.addMultiplexLink(2, 1, 1, 2, 1.0)\n",
    "infomapWrapper.addMultiplexLink(1, 2, 2, 1, 1.0)\n",
    "infomapWrapper.addMultiplexLink(3, 2, 2, 3, 1.0)\n",
    "\n",
    "infomapWrapper.run()\n",
    "\n",
    "tree = infomapWrapper.tree\n",
    "\n",
    "print(\n",
    "    \"Found %d modules with codelength: %f\" % (tree.numTopModules(), tree.codelength())\n",
    ")\n",
    "\n",
    "print(\"\\n#layer node module:\")\n",
    "for node in tree.leafIter():\n",
    "    print(\"%d %d %d\" % (node.stateIndex, node.physIndex, node.moduleIndex()))"
   ]
  },
  {
   "cell_type": "markdown",
   "metadata": {},
   "source": [
    "### General state networks\n",
    "\n",
    "The [state format](http://www.mapequation.org/code.html#State-format) describes the exact network used internally by Infomap. It can model both ordinary networks and memory networks (of variable order).\n"
   ]
  },
  {
   "cell_type": "code",
   "execution_count": 7,
   "metadata": {},
   "outputs": [
    {
     "name": "stdout",
     "output_type": "stream",
     "text": [
      "Wrote state network to file '/var/folders/cm/8zsqg6xn2911z_jpkcxyxb4w0000gn/T/stateNetwork.net'\n"
     ]
    }
   ],
   "source": [
    "import tempfile\n",
    "\n",
    "stateNetwork = \"\"\"\n",
    "*Vertices 4\n",
    "1 \"PRE\"\n",
    "2 \"SCIENCE\"\n",
    "3 \"PRL\"\n",
    "4 \"BIO\"\n",
    "# *ngrams\n",
    "# 1 2 3\n",
    "# 1 2 2 3\n",
    "# 4 2 4\n",
    "*States\n",
    "1 2 \"1 2\"\n",
    "2 3 \"2 3\"\n",
    "3 2 \"1 2 2\"\n",
    "4 2 \"4 2\"\n",
    "5 4 \"2 4\"\n",
    "*Links\n",
    "1 2\n",
    "3 2\n",
    "4 5\n",
    "\"\"\"\n",
    "\n",
    "filename = \"%s/stateNetwork.net\" % tempfile.gettempdir()\n",
    "with open(filename, \"w\") as fp:\n",
    "    fp.write(stateNetwork)\n",
    "print(\"Wrote state network to file '{}'\".format(filename))"
   ]
  },
  {
   "cell_type": "code",
   "execution_count": 8,
   "metadata": {},
   "outputs": [
    {
     "name": "stdout",
     "output_type": "stream",
     "text": [
      "Found 2 modules with codelength: 0.000000\n",
      "State-expanded clusters:\n",
      "#stateIndex physicalIndex module name:\n",
      "1 2 0 \"2 PRL\"\n",
      "0 1 0 \"1 SCIENCE\"\n",
      "2 1 0 \"3 SCIENCE\"\n",
      "4 3 1 \"5 BIO\"\n",
      "3 1 1 \"4 SCIENCE\"\n"
     ]
    }
   ],
   "source": [
    "infomapWrapper = infomap.MemInfomap(\"-i states --expanded\")\n",
    "\n",
    "infomapWrapper.readInputData(filename)\n",
    "\n",
    "infomapWrapper.run()\n",
    "\n",
    "tree = infomapWrapper.tree\n",
    "\n",
    "print(\n",
    "    \"Found %d modules with codelength: %f\" % (tree.numTopModules(), tree.codelength())\n",
    ")\n",
    "\n",
    "print(\"State-expanded clusters:\\n#stateIndex physicalIndex module name:\")\n",
    "for node in tree.leafIter():\n",
    "    print(\n",
    "        '%d %d %d \"%s\"'\n",
    "        % (node.stateIndex, node.physIndex, node.moduleIndex(), node.data.name)\n",
    "    )"
   ]
  },
  {
   "cell_type": "markdown",
   "metadata": {},
   "source": [
    "## Infomap + NetworkX\n",
    "\n",
    "Generate and draw a network with NetworkX, colored\n",
    "according to the community structure found by Infomap.\n"
   ]
  },
  {
   "cell_type": "code",
   "execution_count": 1,
   "metadata": {},
   "outputs": [],
   "source": [
    "import networkx as nx\n",
    "import matplotlib.pyplot as plt\n",
    "import matplotlib.colors as colors\n",
    "%matplotlib inline"
   ]
  },
  {
   "cell_type": "code",
   "execution_count": 12,
   "metadata": {},
   "outputs": [],
   "source": [
    "def findCommunities(G):\n",
    "    \"\"\"\n",
    "    Partition network with the Infomap algorithm.\n",
    "    Annotates nodes with 'community' id and return number of communities found.\n",
    "    \"\"\"\n",
    "    infomapWrapper = infomap.Infomap(\"--two-level --silent\")\n",
    "\n",
    "    print(\"Building Infomap network from a NetworkX graph...\")\n",
    "    for e in G.edges():\n",
    "        infomapWrapper.addLink(*e)\n",
    "\n",
    "    print(\"Find communities with Infomap...\")\n",
    "    infomapWrapper.run()\n",
    "\n",
    "    tree = infomapWrapper.tree\n",
    "\n",
    "    communities = {}\n",
    "    for node in tree.leafIter():\n",
    "        communities[node.originalLeafIndex] = node.moduleIndex()\n",
    "\n",
    "    nx.set_node_attributes(G, name=\"community\", values=communities)\n",
    "    return tree.numTopModules()"
   ]
  },
  {
   "cell_type": "code",
   "execution_count": 13,
   "metadata": {
    "collapsed": true
   },
   "outputs": [],
   "source": [
    "def drawNetwork(G):\n",
    "    # position map\n",
    "    pos = nx.spring_layout(G)\n",
    "    # community ids\n",
    "    communities = [v for k, v in nx.get_node_attributes(G, \"community\").items()]\n",
    "    numCommunities = max(communities) + 1\n",
    "    # color map from http://colorbrewer2.org/\n",
    "    cmapLight = colors.ListedColormap(\n",
    "        [\"#a6cee3\", \"#b2df8a\", \"#fb9a99\", \"#fdbf6f\", \"#cab2d6\"],\n",
    "        \"indexed\",\n",
    "        numCommunities,\n",
    "    )\n",
    "    cmapDark = colors.ListedColormap(\n",
    "        [\"#1f78b4\", \"#33a02c\", \"#e31a1c\", \"#ff7f00\", \"#6a3d9a\"],\n",
    "        \"indexed\",\n",
    "        numCommunities,\n",
    "    )\n",
    "\n",
    "    # Draw edges\n",
    "    nx.draw_networkx_edges(G, pos)\n",
    "\n",
    "    # Draw nodes\n",
    "    nodeCollection = nx.draw_networkx_nodes(\n",
    "        G, pos=pos, node_color=communities, cmap=cmapLight\n",
    "    )\n",
    "    # Set node border color to the darker shade\n",
    "    darkColors = [cmapDark(v) for v in communities]\n",
    "    nodeCollection.set_edgecolor(darkColors)\n",
    "\n",
    "    # Draw node labels\n",
    "    for n in G.nodes():\n",
    "        plt.annotate(\n",
    "            n,\n",
    "            xy=pos[n],\n",
    "            textcoords=\"offset points\",\n",
    "            horizontalalignment=\"center\",\n",
    "            verticalalignment=\"center\",\n",
    "            xytext=[0, 0],\n",
    "            color=cmapDark(communities[n]),\n",
    "        )\n",
    "\n",
    "    plt.axis(\"off\")\n",
    "    # plt.savefig(\"karate.png\")\n",
    "    plt.show()"
   ]
  },
  {
   "cell_type": "code",
   "execution_count": 14,
   "metadata": {},
   "outputs": [
    {
     "name": "stdout",
     "output_type": "stream",
     "text": [
      "Building Infomap network from a NetworkX graph...\n",
      "Find communities with Infomap...\n"
     ]
    },
    {
     "ename": "AttributeError",
     "evalue": "'InfoNode' object has no attribute 'leafIter'",
     "output_type": "error",
     "traceback": [
      "\u001b[0;31m---------------------------------------------------------------------------\u001b[0m",
      "\u001b[0;31mAttributeError\u001b[0m                            Traceback (most recent call last)",
      "Cell \u001b[0;32mIn[14], line 3\u001b[0m\n\u001b[1;32m      1\u001b[0m G \u001b[38;5;241m=\u001b[39m nx\u001b[38;5;241m.\u001b[39mkarate_club_graph()\n\u001b[0;32m----> 3\u001b[0m \u001b[43mfindCommunities\u001b[49m\u001b[43m(\u001b[49m\u001b[43mG\u001b[49m\u001b[43m)\u001b[49m\n\u001b[1;32m      5\u001b[0m drawNetwork(G)\n",
      "Cell \u001b[0;32mIn[12], line 18\u001b[0m, in \u001b[0;36mfindCommunities\u001b[0;34m(G)\u001b[0m\n\u001b[1;32m     15\u001b[0m tree \u001b[38;5;241m=\u001b[39m infomapWrapper\u001b[38;5;241m.\u001b[39mtree\n\u001b[1;32m     17\u001b[0m communities \u001b[38;5;241m=\u001b[39m {}\n\u001b[0;32m---> 18\u001b[0m \u001b[38;5;28;01mfor\u001b[39;00m node \u001b[38;5;129;01min\u001b[39;00m \u001b[43mtree\u001b[49m\u001b[38;5;241;43m.\u001b[39;49m\u001b[43mleafIter\u001b[49m():\n\u001b[1;32m     19\u001b[0m     communities[node\u001b[38;5;241m.\u001b[39moriginalLeafIndex] \u001b[38;5;241m=\u001b[39m node\u001b[38;5;241m.\u001b[39mmoduleIndex()\n\u001b[1;32m     21\u001b[0m nx\u001b[38;5;241m.\u001b[39mset_node_attributes(G, name\u001b[38;5;241m=\u001b[39m\u001b[38;5;124m\"\u001b[39m\u001b[38;5;124mcommunity\u001b[39m\u001b[38;5;124m\"\u001b[39m, values\u001b[38;5;241m=\u001b[39mcommunities)\n",
      "File \u001b[0;32m/opt/homebrew/Caskroom/miniconda/base/envs/condavenv/lib/python3.11/site-packages/infomap.py:1404\u001b[0m, in \u001b[0;36mInfomapIterator.__getattr__\u001b[0;34m(self, name)\u001b[0m\n\u001b[1;32m   1403\u001b[0m \u001b[38;5;28;01mdef\u001b[39;00m \u001b[38;5;21m__getattr__\u001b[39m(\u001b[38;5;28mself\u001b[39m, name):\n\u001b[0;32m-> 1404\u001b[0m     \u001b[38;5;28;01mreturn\u001b[39;00m \u001b[38;5;28;43mgetattr\u001b[39;49m\u001b[43m(\u001b[49m\u001b[38;5;28;43mself\u001b[39;49m\u001b[38;5;241;43m.\u001b[39;49m\u001b[43mcurrent\u001b[49m\u001b[43m(\u001b[49m\u001b[43m)\u001b[49m\u001b[43m,\u001b[49m\u001b[43m \u001b[49m\u001b[43mname\u001b[49m\u001b[43m)\u001b[49m\n",
      "\u001b[0;31mAttributeError\u001b[0m: 'InfoNode' object has no attribute 'leafIter'"
     ]
    }
   ],
   "source": [
    "G = nx.karate_club_graph()\n",
    "\n",
    "findCommunities(G)\n",
    "\n",
    "drawNetwork(G)"
   ]
  },
  {
   "cell_type": "code",
   "execution_count": null,
   "metadata": {
    "collapsed": true
   },
   "outputs": [],
   "source": []
  }
 ],
 "metadata": {
  "kernelspec": {
   "display_name": "Python 3",
   "language": "python",
   "name": "python3"
  },
  "language_info": {
   "codemirror_mode": {
    "name": "ipython",
    "version": 3
   },
   "file_extension": ".py",
   "mimetype": "text/x-python",
   "name": "python",
   "nbconvert_exporter": "python",
   "pygments_lexer": "ipython3",
   "version": "3.11.8"
  }
 },
 "nbformat": 4,
 "nbformat_minor": 1
}
