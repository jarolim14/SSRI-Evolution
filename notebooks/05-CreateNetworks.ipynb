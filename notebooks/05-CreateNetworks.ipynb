{
 "cells": [
  {
   "cell_type": "markdown",
   "metadata": {},
   "source": [
    "# Creating the Network\n",
    "\n",
    "### Undirected Weighted Network\n",
    "\n",
    "- read in the with text embeddings\n",
    "- use the k-nearest neighbours algorithm to find the 15 nearest neighbours for each node, based on cosine distance\n",
    "- create a matrix of the edges between nodes, where the weight of the edge is the cosine similarity \\* (1 - alpha)\n",
    "- create a matrix of the edges between nodes, where the a weight of 1 \\* alpha is assigned if a citation exists between the two nodes\n",
    "- to make the matrix symmetric, we\n",
    "  - calculate the average if ij and ji are non-zero\n",
    "  - use ij in cases where ji is zero (and vice versa)\n",
    "  - if ij and ji are both zero, set the value to zero (no edge)\n",
    "  - we then use the upper triangle of the matrix to create the final adjacency matrix\n",
    "- we then create a network based on this adjacency matrix\n",
    "- we add data from the original dataframe to the network (title, year, etc.)\n",
    "- we save the network as a graphml file; we save the log to the output folder\n",
    "\n",
    "### Directed Unweighted Network\n",
    "\n",
    "- create an edgelist from the dataframe\n",
    "- create a directed network based on this edgelist\n",
    "- add data from the original dataframe to the network (title, year, etc.)\n",
    "- we save the network as a graphml file; we save the log to the output folder\n"
   ]
  },
  {
   "cell_type": "code",
   "execution_count": 1,
   "metadata": {},
   "outputs": [],
   "source": [
    "import pandas as pd\n",
    "from src.network.creation.NetworkCreator import (\n",
    "    WeightedNetworkCreator,\n",
    "    DirectedNetworkCreator,\n",
    ")\n",
    "import json\n",
    "import networkx as nx\n",
    "\n",
    "\n",
    "p = \"../data/04-embeddings/df_with_specter2_embeddings.pkl\"\n",
    "df = pd.read_pickle(p)"
   ]
  },
  {
   "cell_type": "code",
   "execution_count": 2,
   "metadata": {},
   "outputs": [
    {
     "name": "stdout",
     "output_type": "stream",
     "text": [
      "Creating weighted knn citation graph with alpha=0.3 and k=5\n",
      "Initializing WeightedNetworkCreator\n",
      "Getting nearest neighbours...\n",
      "Creating KNN link matrix...\n",
      "Creating citation link matrix...\n",
      "Number of edges from citations: 336391\n",
      "Making matrix symmetric...\n",
      "Creating weighted undirected network...\n",
      "Number of nodes: 36975\n",
      "Number of edges: 425353\n",
      "Percentage of edges from citations: 79.09%\n",
      "Percentage of edges from KNN: 20.91%\n",
      "##############################\n",
      "Creating weighted knn citation graph with alpha=0.3 and k=10\n",
      "Initializing WeightedNetworkCreator\n",
      "Getting nearest neighbours...\n",
      "Creating KNN link matrix...\n",
      "Creating citation link matrix...\n",
      "Number of edges from citations: 336391\n",
      "Making matrix symmetric...\n",
      "Creating weighted undirected network...\n",
      "Number of nodes: 36975\n",
      "Number of edges: 553370\n",
      "Percentage of edges from citations: 60.79%\n",
      "Percentage of edges from KNN: 39.21%\n",
      "##############################\n",
      "Creating weighted knn citation graph with alpha=0.3 and k=15\n",
      "Initializing WeightedNetworkCreator\n",
      "Getting nearest neighbours...\n",
      "Creating KNN link matrix...\n",
      "Creating citation link matrix...\n",
      "Number of edges from citations: 336391\n",
      "Making matrix symmetric...\n",
      "Creating weighted undirected network...\n",
      "Number of nodes: 36975\n",
      "Number of edges: 686400\n",
      "Percentage of edges from citations: 49.01%\n",
      "Percentage of edges from KNN: 50.99%\n",
      "##############################\n",
      "Creating weighted knn citation graph with alpha=0.3 and k=20\n",
      "Initializing WeightedNetworkCreator\n",
      "Getting nearest neighbours...\n",
      "Creating KNN link matrix...\n",
      "Creating citation link matrix...\n",
      "Number of edges from citations: 336391\n",
      "Making matrix symmetric...\n",
      "Creating weighted undirected network...\n",
      "Number of nodes: 36975\n",
      "Number of edges: 821683\n",
      "Percentage of edges from citations: 40.94%\n",
      "Percentage of edges from KNN: 59.06%\n",
      "##############################\n",
      "Creating weighted knn citation graph with alpha=0.5 and k=5\n",
      "Initializing WeightedNetworkCreator\n",
      "Getting nearest neighbours...\n",
      "Creating KNN link matrix...\n",
      "Creating citation link matrix...\n",
      "Number of edges from citations: 336391\n",
      "Making matrix symmetric...\n",
      "Creating weighted undirected network...\n",
      "Number of nodes: 36975\n",
      "Number of edges: 425353\n",
      "Percentage of edges from citations: 79.09%\n",
      "Percentage of edges from KNN: 20.91%\n",
      "##############################\n",
      "Creating weighted knn citation graph with alpha=0.5 and k=10\n",
      "Initializing WeightedNetworkCreator\n",
      "Getting nearest neighbours...\n",
      "Creating KNN link matrix...\n",
      "Creating citation link matrix...\n",
      "Number of edges from citations: 336391\n",
      "Making matrix symmetric...\n",
      "Creating weighted undirected network...\n",
      "Number of nodes: 36975\n",
      "Number of edges: 553370\n",
      "Percentage of edges from citations: 60.79%\n",
      "Percentage of edges from KNN: 39.21%\n",
      "##############################\n",
      "Creating weighted knn citation graph with alpha=0.5 and k=15\n",
      "Initializing WeightedNetworkCreator\n",
      "Getting nearest neighbours...\n",
      "Creating KNN link matrix...\n",
      "Creating citation link matrix...\n",
      "Number of edges from citations: 336391\n",
      "Making matrix symmetric...\n",
      "Creating weighted undirected network...\n",
      "Number of nodes: 36975\n",
      "Number of edges: 686400\n",
      "Percentage of edges from citations: 49.01%\n",
      "Percentage of edges from KNN: 50.99%\n",
      "##############################\n",
      "Creating weighted knn citation graph with alpha=0.5 and k=20\n",
      "Initializing WeightedNetworkCreator\n",
      "Getting nearest neighbours...\n",
      "Creating KNN link matrix...\n",
      "Creating citation link matrix...\n",
      "Number of edges from citations: 336391\n",
      "Making matrix symmetric...\n",
      "Creating weighted undirected network...\n",
      "Number of nodes: 36975\n",
      "Number of edges: 821683\n",
      "Percentage of edges from citations: 40.94%\n",
      "Percentage of edges from KNN: 59.06%\n",
      "##############################\n"
     ]
    }
   ],
   "source": [
    "# usage\n",
    "\n",
    "alphas = [0.3, 0.5]\n",
    "k = [5, 10, 15, 20]\n",
    "# get all unique combinations of alpha and k\n",
    "alpha_k_combinations = [(a, b) for a in alphas for b in k]\n",
    "\n",
    "for alpha, k in alpha_k_combinations:\n",
    "    print(f\"Creating weighted knn citation graph with alpha={alpha} and k={k}\")\n",
    "    wnc = WeightedNetworkCreator(df, alpha=alpha)\n",
    "    similarities, indices = wnc.get_nearest_neighbours(k=k)\n",
    "    knn_matrix = wnc.link_matrix_knn(similarities, indices)\n",
    "    knn_citation_matrix = wnc.link_matrix_citations(knn_matrix)\n",
    "    symmetric_matrix = wnc.make_matrix_symmetric(knn_citation_matrix)\n",
    "    G = wnc.create_network(symmetric_matrix)\n",
    "    G = wnc.prettify_network(\n",
    "        G,\n",
    "        col_list=[\"eid\", \"title\", \"year\", \"doi\"],\n",
    "    )\n",
    "    weighted_info_log = wnc.get_info_log()\n",
    "\n",
    "    with open(\n",
    "        \"../output/descriptive-stats-logs/weighted_network_info_log.json\", \"w\"\n",
    "    ) as f:\n",
    "        json.dump(weighted_info_log, f)\n",
    "\n",
    "    # write graphml\n",
    "    nx.write_graphml(\n",
    "        G,\n",
    "        f\"../data/05-graphs/weighted-knn-citation-graph/weighted_alpha{alpha}_k{k}_knn_citation.graphml\",\n",
    "    )\n",
    "    print(\"#\" * 30)"
   ]
  },
  {
   "cell_type": "code",
   "execution_count": 3,
   "metadata": {},
   "outputs": [
    {
     "data": {
      "text/plain": [
       "('Hyttel_1982', 'Ofsti_1982', {'weight': 0.7130630612373352})"
      ]
     },
     "execution_count": 3,
     "metadata": {},
     "output_type": "execute_result"
    }
   ],
   "source": [
    "list(G.edges(data=True))[0]"
   ]
  },
  {
   "cell_type": "code",
   "execution_count": 4,
   "metadata": {},
   "outputs": [
    {
     "data": {
      "text/plain": [
       "('Hyttel_1982',\n",
       " {'eid': '2-s2.0-0020416931',\n",
       "  'title': 'Citalopram - Pharmacological profile of a specific serotonin uptake inhibitor with antidepressant activity',\n",
       "  'year': 1982,\n",
       "  'doi': '10.1016/S0278-5846(82)80179-6'})"
      ]
     },
     "execution_count": 4,
     "metadata": {},
     "output_type": "execute_result"
    }
   ],
   "source": [
    "list(G.nodes(data=True))[0]"
   ]
  },
  {
   "cell_type": "markdown",
   "metadata": {},
   "source": [
    "# Directed Citation Graph\n"
   ]
  },
  {
   "cell_type": "code",
   "execution_count": 5,
   "metadata": {},
   "outputs": [
    {
     "name": "stdout",
     "output_type": "stream",
     "text": [
      "Number of nodes: 36975\n",
      "Number of edges: 336391\n",
      "{'num_edges': 336391, 'num_nodes': 36975, 'nr_isolated_nodes': 2044}\n"
     ]
    }
   ],
   "source": [
    "# Create a directed network from the dataframe\n",
    "dnc = DirectedNetworkCreator(df, data_to_add=[\"eid\", \"doi\"])\n",
    "dnc.build_graph()\n",
    "print(dnc.get_graph_info())\n",
    "directed_info_log = dnc.get_info_log()\n",
    "print(directed_info_log)\n",
    "\n",
    "G = dnc.G"
   ]
  },
  {
   "cell_type": "code",
   "execution_count": 6,
   "metadata": {},
   "outputs": [
    {
     "data": {
      "text/plain": [
       "('Hyttel_1982',\n",
       " {'eid': '2-s2.0-0020416931', 'doi': '10.1016/S0278-5846(82)80179-6'})"
      ]
     },
     "execution_count": 6,
     "metadata": {},
     "output_type": "execute_result"
    }
   ],
   "source": [
    "# get node attributes\n",
    "list(G.nodes(data=True))[0]"
   ]
  },
  {
   "cell_type": "code",
   "execution_count": 7,
   "metadata": {},
   "outputs": [],
   "source": [
    "with open(\"../output/descriptive-stats-logs/directed_network_info_log.json\", \"w\") as f:\n",
    "    json.dump(directed_info_log, f)\n",
    "\n",
    "# write graphml\n",
    "nx.write_graphml(G, \"../data/05-graphs/citation-graph/directed_citation_graph.graphml\")"
   ]
  }
 ],
 "metadata": {
  "kernelspec": {
   "display_name": "Python 3",
   "language": "python",
   "name": "python3"
  },
  "language_info": {
   "codemirror_mode": {
    "name": "ipython",
    "version": 3
   },
   "file_extension": ".py",
   "mimetype": "text/x-python",
   "name": "python",
   "nbconvert_exporter": "python",
   "pygments_lexer": "ipython3",
   "version": "3.11.6"
  }
 },
 "nbformat": 4,
 "nbformat_minor": 2
}
