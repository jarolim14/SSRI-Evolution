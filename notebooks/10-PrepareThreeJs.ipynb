{
 "cells": [
  {
   "cell_type": "code",
   "execution_count": 26,
   "metadata": {
    "cellUniqueIdByVincent": "47612"
   },
   "outputs": [
    {
     "name": "stdout",
     "output_type": "stream",
     "text": [
      "The autoreload extension is already loaded. To reload it, use:\n",
      "  %reload_ext autoreload\n"
     ]
    }
   ],
   "source": [
    "%load_ext autoreload\n",
    "%autoreload 2\n",
    "%matplotlib inline\n"
   ]
  },
  {
   "cell_type": "markdown",
   "metadata": {
    "cellUniqueIdByVincent": "964f1"
   },
   "source": [
    "# Imports\n"
   ]
  },
  {
   "cell_type": "code",
   "execution_count": 29,
   "metadata": {
    "cellUniqueIdByVincent": "d4295"
   },
   "outputs": [],
   "source": [
    "# Standard Library Imports\n",
    "import datetime\n",
    "import json\n",
    "import os\n",
    "import sys\n",
    "import time\n",
    "from itertools import product\n",
    "\n",
    "import igraph as ig\n",
    "import matplotlib.pyplot as plt\n",
    "import networkx as nx\n",
    "\n",
    "# Third-Party Library Imports\n",
    "import numpy as np\n",
    "import pandas as pd\n",
    "import scipy.sparse as sparse\n",
    "import seaborn as sns\n",
    "from dotenv import load_dotenv\n",
    "\n",
    "# Load environment variables from .env file\n",
    "load_dotenv()\n",
    "\n",
    "# Access environment variables\n",
    "PYTHONPATH = os.getenv(\"PYTHONPATH\")\n",
    "DATA_DIR = os.getenv(\"DATA_DIR\")\n",
    "SRC_DIR = os.getenv(\"SRC_DIR\")\n",
    "OUTPUT_DIR = os.getenv(\"OUTPUT_DIR\")\n",
    "\n",
    "from src.visualization.edgebundling.addZCoordinate import ZCoordinateAdder\n",
    "from src.visualization.edgebundling.frLayoutUtility import frLayoutUtility\n",
    "from src.visualization.edgebundling.graphReadingUtility import graphReadingUtility\n",
    "from src.visualization.edgebundling.graphToDfUtility import GraphProcessingUtility\n",
    "from src.visualization.edgebundling.hammerBundling3D import hammer_bundle\n",
    "from src.visualization.edgebundling.nodesEdgesJsonSaver import edgesSaver, nodesSaver\n",
    "from src.visualization.edgebundling.postBundlingUtility import postBundlingUtility\n",
    "from src.visualization.edgebundling.pruneEdges import pruneEdges\n",
    "\n",
    "# Disable SettingWithCopyWarning\n",
    "pd.options.mode.chained_assignment = None\n",
    "\n",
    "# Set Seaborn Style\n",
    "sns.set_style(\"white\")"
   ]
  },
  {
   "cell_type": "markdown",
   "metadata": {
    "cellUniqueIdByVincent": "8be96"
   },
   "source": [
    "# Define Paths\n"
   ]
  },
  {
   "cell_type": "code",
   "execution_count": 32,
   "metadata": {
    "cellUniqueIdByVincent": "bae83"
   },
   "outputs": [],
   "source": [
    "subgraph = False\n",
    "\n",
    "# 2. Constants and configuration\n",
    "INPUT_GRAPH_PATH = DATA_DIR + \"/08-analysis-data/2025/graph_analysis.graphml\"\n",
    "CLUSTER_TREE_PATH = (\n",
    "    OUTPUT_DIR\n",
    "    + \"/cluster-qualifications_2025/cluster-label-tree/cluster_tree_filtered.json\"\n",
    ")\n",
    "OUTPUT_DIR = DATA_DIR + \"/09-threeJs/\"\n",
    "FR_GRAPH_FILENAME = (\n",
    "    f\"FR_Layout_Graph_{datetime.datetime.now().strftime('%Y-%m-%d-%H-%M-%S')}.graphml\"\n",
    ")\n",
    "# external env\n",
    "THREEJS_OUTPUT_DIR = os.getenv(\"THREEJS_OUTPUT_DIR\")\n",
    "NODES_DATA_FILENAME = (\n",
    "    f\"nodes_{datetime.datetime.now().strftime('%Y-%m-%d-%H-%M-%S')}scale2.json\"\n",
    ")\n",
    "EDGES_DATA_FILENAME = (\n",
    "    f\"edges_{datetime.datetime.now().strftime('%Y-%m-%d-%H-%M-%S')}scale2.json\"\n",
    ")\n",
    "\n",
    "if subgraph:\n",
    "    FR_GRAPH_FILENAME = f\"SUBG_FR_Layout_Graph_{datetime.datetime.now().strftime('%Y-%m-%d-%H-%M-%S')}.graphml\"\n",
    "    NODES_DATA_FILENAME = (\n",
    "        f\"SUBG_nodes_{datetime.datetime.now().strftime('%Y-%m-%d-%H-%M-%S')}.json\"\n",
    "    )\n",
    "    EDGES_DATA_FILENAME = (\n",
    "        f\"SUBG_edges_{datetime.datetime.now().strftime('%Y-%m-%d-%H-%M-%S')}.json\"\n",
    "    )"
   ]
  },
  {
   "cell_type": "markdown",
   "metadata": {
    "cellUniqueIdByVincent": "e05b2"
   },
   "source": [
    "## read and layout the graph\n"
   ]
  },
  {
   "cell_type": "code",
   "execution_count": null,
   "metadata": {
    "cellUniqueIdByVincent": "0bbb2"
   },
   "outputs": [
    {
     "name": "stdout",
     "output_type": "stream",
     "text": [
      "Node Attributes: ['title', 'year', 'cluster', 'doi', 'authors', 'node_index', 'node_name', 'centrality']\n",
      "Edge Attributes: ['weight', 'edge_id']\n",
      "Number of nodes: 36510\n",
      "Number of edges: 551227\n",
      "Total nodes in the graph: 36510\n",
      "####################################################################################################\n",
      "Starting Fruchterman-Reingold layout process...\n",
      "Layout parameters: {'iterations': 50, 'threshold': 0.0001, 'weight': 'weight', 'scale': 10000, 'center': (0, 0), 'dim': 2, 'seed': 1887}\n",
      "Converting to NetworkX Graph...\n",
      "Conversion complete.\n",
      "Graph has 36510 nodes and 551227 edges.\n",
      "Calculating layout...\n",
      "Layout calculation completed in 2090.16 seconds.\n",
      "Processing layout results...\n",
      "Layout boundaries:\n",
      "X-axis: Min = -9105.25, Max = 10000.00\n",
      "Y-axis: Min = -8821.60, Max = 9775.64\n",
      "Assigning coordinates to nodes...\n",
      "Layout process completed in 2091.86 seconds.\n",
      "####################################################################################################\n",
      "Z Coordinates are added, based on their centrality values\n",
      "As 0.2 percent of the range of the x-y dimension.\n",
      "Bounds of the layout:\n",
      "Min x: -9105.25390625, Max x: 10000.0\n",
      "Min y: -8821.603515625, Max y: 9775.640625\n",
      "Min z: 0.0, Max z: 3821.05078125\n",
      "Z coordinate added to nodes\n",
      "####################################################################################################\n"
     ]
    }
   ],
   "source": [
    "g = graphReadingUtility.read_and_clean_graph(INPUT_GRAPH_PATH)\n",
    "total_nodes = len(g.vs)\n",
    "print(f\"Total nodes in the graph: {total_nodes}\")\n",
    "\n",
    "\n",
    "if subgraph:\n",
    "\n",
    "    cluster_list = list(range(30, 40))\n",
    "\n",
    "    # subset to only cluster 0 to 100\n",
    "    g = graphReadingUtility.subgraph_of_clusters(g, cluster_list)\n",
    "\n",
    "    total_nodes = len(g.vs)\n",
    "    print(f\"Total nodes in the sub graph: {total_nodes}\")\n",
    "print(\"#\" * 100)\n",
    "\n",
    "################################################################################################\n",
    "layout_params = {\n",
    "    # \"k\": 0.5, # distance between nodes; best to leave it to algo\n",
    "    \"iterations\": 50,  # (default=50) use 100\n",
    "    \"threshold\": 0.0001,  # default 0.0001\n",
    "    \"weight\": \"weight\",\n",
    "    \"scale\": 10000,\n",
    "    \"center\": (0, 0),\n",
    "    \"dim\": 2,\n",
    "    \"seed\": 1887,\n",
    "}\n",
    "\n",
    "g_fr, pos = frLayoutUtility.fr_layout_nx(g, layout_params)\n",
    "\n",
    "\n",
    "print(\"#\" * 100)\n",
    "\n",
    "\n",
    "################################################################################################\n",
    "\n",
    "# Add z-coordinate to nodes based on centrality\n",
    "z_adder = ZCoordinateAdder(g_fr, percentage=20)\n",
    "g_z = z_adder.add_z_coordinate_to_nodes()\n",
    "\n",
    "print(\"#\" * 100)"
   ]
  },
  {
   "cell_type": "markdown",
   "metadata": {
    "cellUniqueIdByVincent": "13698"
   },
   "source": [
    "## save graph with x, y, z coordinates\n"
   ]
  },
  {
   "cell_type": "code",
   "execution_count": 37,
   "metadata": {
    "cellUniqueIdByVincent": "1396e"
   },
   "outputs": [
    {
     "name": "stdout",
     "output_type": "stream",
     "text": [
      "Graph saved as GraphML: /Users/jlq293/Projects/Study-1-Bibliometrics/data/09-threeJs/FR_Layout_Graph_2025-05-13-13-44-03.graphml\n"
     ]
    }
   ],
   "source": [
    "# Assuming g_z is your NetworkX graph object\n",
    "full_path = OUTPUT_DIR + FR_GRAPH_FILENAME\n",
    "\n",
    "# Save as GraphML file\n",
    "nx.write_graphml(g_z, full_path)\n",
    "print(f\"Graph saved as GraphML: {full_path}\")\n",
    "\n",
    "# read back in\n",
    "# full_path = OUTPUT_DIR +'FR_Layout_Graph_2025-04-16-21-30-09.graphml'\n",
    "# g_z = nx.read_graphml(full_path)"
   ]
  },
  {
   "cell_type": "code",
   "execution_count": null,
   "metadata": {
    "cellUniqueIdByVincent": "c9cc6"
   },
   "outputs": [
    {
     "data": {
      "text/plain": [
       "(0,\n",
       " {'title': 'Kinetics of citalopram in man; plasma levels in patients',\n",
       "  'year': 1982,\n",
       "  'cluster': 19,\n",
       "  'doi': '10.1016/S0278-5846(82)80181-4',\n",
       "  'authors': 'Overø',\n",
       "  'node_index': 0,\n",
       "  'node_name': '0',\n",
       "  'centrality': 0.151957843626865,\n",
       "  '_igraph_index': 0,\n",
       "  'x': np.float64(-589.8026123046875),\n",
       "  'y': np.float64(1040.77685546875),\n",
       "  'z': np.float64(580.4662581995266)})"
      ]
     },
     "execution_count": 38,
     "metadata": {},
     "output_type": "execute_result"
    }
   ],
   "source": [
    "list(g_z.nodes(data=True))[0]"
   ]
  },
  {
   "cell_type": "markdown",
   "metadata": {
    "cellUniqueIdByVincent": "41932"
   },
   "source": [
    "## Prune\n"
   ]
  },
  {
   "cell_type": "code",
   "execution_count": null,
   "metadata": {
    "cellUniqueIdByVincent": "90fd0"
   },
   "outputs": [
    {
     "name": "stdout",
     "output_type": "stream",
     "text": [
      "Pruning edges by weight percentile:\n",
      "Weight Threshold: 0.66\n",
      "Edges with this weight: 0\n",
      "Kept top 15.0% of edges by weight\n",
      "Edges kept: 82684 out of 551227\n",
      "Summary after pruning by weight:\n",
      "{'initial_edge_count': 551227, 'final_edge_count': 82684, 'initial_isolates': 0, 'final_isolates': 6595}\n",
      "\n",
      "################################################################################\n",
      "\n",
      "Pruning edges randomly:\n",
      "Kept 15.0% of edges randomly\n",
      "Edges kept: 82684 out of 551227\n",
      "Summary after random pruning:\n",
      "{'initial_edge_count': 551227, 'final_edge_count': 82684, 'initial_isolates': 0, 'final_isolates': 2024}\n",
      "################################################################################\n"
     ]
    }
   ],
   "source": [
    "################################################################################################\n",
    "# Prune edges by weight percentile\n",
    "percentile_to_keep = 0.15  # we keep 15 %\n",
    "pruner = pruneEdges(\n",
    "    g_z,\n",
    ")\n",
    "print(\"Pruning edges by weight percentile:\")\n",
    "g_pruned_weight = pruner.prune_edges_by_weight_percentile(percentile_to_keep)\n",
    "summary = pruner.get_prune_summary()\n",
    "print(\"Summary after pruning by weight:\")\n",
    "print(summary)\n",
    "\n",
    "print(\"\\n\" + \"#\" * 80 + \"\\n\")\n",
    "\n",
    "# Prune random percentage of edges\n",
    "percentile_to_keep = 0.15  # we keep 15 %\n",
    "pruner = pruneEdges(\n",
    "    g_z,\n",
    ")\n",
    "print(\"Pruning edges randomly:\")\n",
    "g_pruned_random = pruner.prune_edges_randomly(percentile_to_keep)\n",
    "summary = pruner.get_prune_summary()\n",
    "print(\"Summary after random pruning:\")\n",
    "print(summary)\n",
    "\n",
    "print(\"#\" * 80)"
   ]
  },
  {
   "cell_type": "markdown",
   "metadata": {
    "cellUniqueIdByVincent": "6c3a6"
   },
   "source": [
    "## Dataframe conversion\n"
   ]
  },
  {
   "cell_type": "code",
   "execution_count": 40,
   "metadata": {
    "cellUniqueIdByVincent": "2ea37"
   },
   "outputs": [
    {
     "name": "stdout",
     "output_type": "stream",
     "text": [
      "Segment length statistics:\n",
      "Min: 0.00\n",
      "Max: 9938.82\n",
      "Mean: 2005.04\n",
      "Median: 1777.39\n"
     ]
    },
    {
     "data": {
      "text/html": [
       "<div>\n",
       "<style scoped>\n",
       "    .dataframe tbody tr th:only-of-type {\n",
       "        vertical-align: middle;\n",
       "    }\n",
       "\n",
       "    .dataframe tbody tr th {\n",
       "        vertical-align: top;\n",
       "    }\n",
       "\n",
       "    .dataframe thead th {\n",
       "        text-align: right;\n",
       "    }\n",
       "</style>\n",
       "<table border=\"1\" class=\"dataframe\">\n",
       "  <thead>\n",
       "    <tr style=\"text-align: right;\">\n",
       "      <th></th>\n",
       "      <th>edge_id</th>\n",
       "      <th>weight</th>\n",
       "      <th>source</th>\n",
       "      <th>target</th>\n",
       "      <th>source_x</th>\n",
       "      <th>source_y</th>\n",
       "      <th>source_z</th>\n",
       "      <th>target_x</th>\n",
       "      <th>target_y</th>\n",
       "      <th>target_z</th>\n",
       "      <th>segment_length</th>\n",
       "    </tr>\n",
       "  </thead>\n",
       "  <tbody>\n",
       "    <tr>\n",
       "      <th>0</th>\n",
       "      <td>5</td>\n",
       "      <td>0.3</td>\n",
       "      <td>0</td>\n",
       "      <td>68</td>\n",
       "      <td>-589.802612</td>\n",
       "      <td>1040.776855</td>\n",
       "      <td>580.466258</td>\n",
       "      <td>155.815750</td>\n",
       "      <td>2225.178223</td>\n",
       "      <td>322.764857</td>\n",
       "      <td>1423.082342</td>\n",
       "    </tr>\n",
       "    <tr>\n",
       "      <th>1</th>\n",
       "      <td>17</td>\n",
       "      <td>0.3</td>\n",
       "      <td>0</td>\n",
       "      <td>383</td>\n",
       "      <td>-589.802612</td>\n",
       "      <td>1040.776855</td>\n",
       "      <td>580.466258</td>\n",
       "      <td>-1834.943115</td>\n",
       "      <td>895.700134</td>\n",
       "      <td>114.028767</td>\n",
       "      <td>1337.529835</td>\n",
       "    </tr>\n",
       "    <tr>\n",
       "      <th>2</th>\n",
       "      <td>19</td>\n",
       "      <td>0.3</td>\n",
       "      <td>0</td>\n",
       "      <td>445</td>\n",
       "      <td>-589.802612</td>\n",
       "      <td>1040.776855</td>\n",
       "      <td>580.466258</td>\n",
       "      <td>-551.641663</td>\n",
       "      <td>1365.706665</td>\n",
       "      <td>694.854177</td>\n",
       "      <td>346.583663</td>\n",
       "    </tr>\n",
       "  </tbody>\n",
       "</table>\n",
       "</div>"
      ],
      "text/plain": [
       "   edge_id  weight  source  target    source_x     source_y    source_z  \\\n",
       "0        5     0.3       0      68 -589.802612  1040.776855  580.466258   \n",
       "1       17     0.3       0     383 -589.802612  1040.776855  580.466258   \n",
       "2       19     0.3       0     445 -589.802612  1040.776855  580.466258   \n",
       "\n",
       "      target_x     target_y    target_z  segment_length  \n",
       "0   155.815750  2225.178223  322.764857     1423.082342  \n",
       "1 -1834.943115   895.700134  114.028767     1337.529835  \n",
       "2  -551.641663  1365.706665  694.854177      346.583663  "
      ]
     },
     "execution_count": 40,
     "metadata": {},
     "output_type": "execute_result"
    }
   ],
   "source": [
    "# Convert nodes and edges to DataFrames\n",
    "nodes_df = GraphProcessingUtility.nodes_to_dataframe(\n",
    "    g_pruned_random,\n",
    "    normalize_coordinates=False,\n",
    "    drop_columns=[\"_nx_name\"],\n",
    ")\n",
    "edges_df = GraphProcessingUtility.edges_to_dataframe(g_pruned_random)\n",
    "\n",
    "# Add coordinates to edges\n",
    "edges_with_coords = GraphProcessingUtility.create_edge_df_with_source_target_coords(\n",
    "    edges_df, nodes_df\n",
    ")\n",
    "\n",
    "# Add segment lengths\n",
    "edges_with_coords_with_length = GraphProcessingUtility.add_segment_length_to_edge_df(\n",
    "    edges_with_coords\n",
    ")\n",
    "\n",
    "# Display the result\n",
    "edges_with_coords_with_length.head(3)"
   ]
  },
  {
   "cell_type": "markdown",
   "metadata": {
    "cellUniqueIdByVincent": "066c9"
   },
   "source": [
    "## Check Segment Length Distribution\n"
   ]
  },
  {
   "cell_type": "code",
   "execution_count": null,
   "metadata": {
    "cellUniqueIdByVincent": "c32e1"
   },
   "outputs": [
    {
     "name": "stdout",
     "output_type": "stream",
     "text": [
      "Number of edges selected: 62013\n"
     ]
    },
    {
     "data": {
      "image/png": "[encoded data removed]",
      "text/plain": [
       "<Figure size 600x600 with 1 Axes>"
      ]
     },
     "metadata": {},
     "output_type": "display_data"
    },
    {
     "name": "stdout",
     "output_type": "stream",
     "text": [
      "Number of edges selected: 20671\n"
     ]
    },
    {
     "data": {
      "image/png": "[encoded data removed]",
      "text/plain": [
       "<Figure size 600x600 with 1 Axes>"
      ]
     },
     "metadata": {},
     "output_type": "display_data"
    }
   ],
   "source": [
    "class SegmentLengthDistribution:\n",
    "    def __init__(self, nodes_df, edges_with_coords_with_length):\n",
    "        \"\"\"\n",
    "        Initializes the GraphProcessor with the node and edge dataframes.\n",
    "\n",
    "        Args:\n",
    "            nodes_df (pd.DataFrame): DataFrame containing node information.\n",
    "            edges_with_coords_with_length (pd.DataFrame): DataFrame containing edge data including coordinates and lengths.\n",
    "        \"\"\"\n",
    "        self.nodes_df = nodes_df\n",
    "        self.edges_df = edges_with_coords_with_length.copy()\n",
    "        self.normalized_edge_df = self.edges_df.copy()\n",
    "\n",
    "    def normalize_edges(self):\n",
    "        \"\"\"\n",
    "        Normalize the coordinates and segment lengths in the edge dataframe.\n",
    "        \"\"\"\n",
    "        to_normalize = [\n",
    "            \"source_x\",\n",
    "            \"source_y\",\n",
    "            \"source_z\",\n",
    "            \"target_x\",\n",
    "            \"target_y\",\n",
    "            \"target_z\",\n",
    "            \"segment_length\",\n",
    "        ]\n",
    "\n",
    "        # Reset the node indices in edges_df to match those in nodes_df\n",
    "        index_mapping = {\n",
    "            old_index: new_index\n",
    "            for new_index, old_index in enumerate(self.nodes_df[\"node_index\"].unique())\n",
    "        }\n",
    "\n",
    "        # Map the source and target indices in the edges DataFrame\n",
    "        self.normalized_edge_df[\"source\"] = self.normalized_edge_df[\"source\"].map(\n",
    "            index_mapping\n",
    "        )\n",
    "        self.normalized_edge_df[\"target\"] = self.normalized_edge_df[\"target\"].map(\n",
    "            index_mapping\n",
    "        )\n",
    "\n",
    "        # Normalize the relevant columns\n",
    "        for col in to_normalize:\n",
    "            self.normalized_edge_df[col] = GraphProcessingUtility.minmax_normalize(\n",
    "                self.normalized_edge_df[col]\n",
    "            )\n",
    "\n",
    "    def create_adjacency_matrix(self, percentile=50):\n",
    "        \"\"\"\n",
    "        Create an adjacency matrix for the graph using the normalized edges.\n",
    "\n",
    "        Args:\n",
    "            percentile (float): The percentile threshold to use for selecting edges based on segment length.\n",
    "                                Default is the 50th percentile (median).\n",
    "\n",
    "        Returns:\n",
    "            mat (sparse.coo_matrix): Sparse matrix representing the adjacency matrix.\n",
    "        \"\"\"\n",
    "        Nnodes = self.nodes_df.shape[0]\n",
    "\n",
    "        # Calculate the length threshold based on the specified percentile\n",
    "        length_threshold = np.percentile(\n",
    "            self.normalized_edge_df[\"segment_length\"], percentile\n",
    "        )\n",
    "\n",
    "        # Select edges whose length is above the specified percentile threshold\n",
    "        subedges = self.normalized_edge_df[\"segment_length\"] > length_threshold\n",
    "\n",
    "        print(f\"Number of edges selected: {subedges.sum()}\")\n",
    "\n",
    "        # Construct the adjacency matrix\n",
    "        mat = sparse.coo_matrix(\n",
    "            (\n",
    "                np.ones(self.normalized_edge_df.loc[subedges].shape[0], dtype=int),\n",
    "                (\n",
    "                    self.normalized_edge_df.loc[subedges, \"source\"].values,\n",
    "                    self.normalized_edge_df.loc[subedges, \"target\"].values,\n",
    "                ),\n",
    "            ),\n",
    "            shape=(Nnodes, Nnodes),\n",
    "        )\n",
    "\n",
    "        return mat\n",
    "\n",
    "    def find_connected_components(self, mat):\n",
    "        \"\"\"\n",
    "        Find connected components in the graph represented by the adjacency matrix.\n",
    "\n",
    "        Args:\n",
    "            mat (sparse.coo_matrix): The adjacency matrix of the graph.\n",
    "\n",
    "        Returns:\n",
    "            tuple: A tuple containing the number of components and membership information for nodes.\n",
    "        \"\"\"\n",
    "        ncomp, membership = sparse.csgraph.connected_components(mat)\n",
    "        return ncomp, membership\n",
    "\n",
    "    def plot_edge_length_distribution(self):\n",
    "        \"\"\"\n",
    "        Visualize the distribution of edge lengths using a histogram. This helps us understand the distribution of\n",
    "        segment lengths in the graph.\n",
    "        \"\"\"\n",
    "        fig, ax = plt.subplots(1, 1, figsize=(6, 6))\n",
    "\n",
    "        # Histogram of segment lengths (log-binned)\n",
    "        dist, bins = np.histogram(\n",
    "            self.normalized_edge_df[\"segment_length\"].values,\n",
    "            bins=np.exp(np.linspace(-8, 3, 100)),\n",
    "        )\n",
    "\n",
    "        # Scatter plot of the log-transformed bins against the distribution\n",
    "        ax.scatter(np.log(bins[:-1]), dist)\n",
    "\n",
    "        # Add labels\n",
    "        ax.set_xlabel(\"Log Segment Length\")\n",
    "        ax.set_ylabel(\"Frequency\")\n",
    "        ax.set_title(\"Distribution of Edge Lengths\")\n",
    "\n",
    "        plt.show()\n",
    "\n",
    "\n",
    "# Example usage\n",
    "graph_processor = SegmentLengthDistribution(nodes_df, edges_with_coords_with_length)\n",
    "graph_processor.normalize_edges()\n",
    "adjacency_matrix = graph_processor.create_adjacency_matrix(\n",
    "    percentile=25\n",
    ")  # Using 75th percentile instead of median\n",
    "n_components, membership = graph_processor.find_connected_components(adjacency_matrix)\n",
    "graph_processor.plot_edge_length_distribution()\n",
    "\n",
    "adjacency_matrix = graph_processor.create_adjacency_matrix(\n",
    "    percentile=75\n",
    ")  # Using 75th percentile instead of median\n",
    "n_components, membership = graph_processor.find_connected_components(adjacency_matrix)\n",
    "graph_processor.plot_edge_length_distribution()"
   ]
  },
  {
   "cell_type": "markdown",
   "metadata": {
    "cellUniqueIdByVincent": "c921d"
   },
   "source": [
    "# BUNDLE\n"
   ]
  },
  {
   "cell_type": "code",
   "execution_count": null,
   "metadata": {
    "cellUniqueIdByVincent": "ed9a0"
   },
   "outputs": [
    {
     "data": {
      "text/plain": [
       "{'10th_percentile': np.float64(721.8847849544482),\n",
       " '20th_percentile': np.float64(1016.9112325540167),\n",
       " '25th_percentile': np.float64(1142.5117451278677),\n",
       " '50th_percentile': 1777.393841948577,\n",
       " '75th_percentile': np.float64(2623.2297406991997)}"
      ]
     },
     "execution_count": 42,
     "metadata": {},
     "output_type": "execute_result"
    }
   ],
   "source": [
    "# get dictionary of segment length, 25th, 50th, 75th percentile\n",
    "segment_length_dict = {\n",
    "    \"10th_percentile\": edges_with_coords_with_length[\"segment_length\"].quantile(0.10),\n",
    "    \"20th_percentile\": edges_with_coords_with_length[\"segment_length\"].quantile(0.20),\n",
    "    \"25th_percentile\": edges_with_coords_with_length[\"segment_length\"].quantile(0.25),\n",
    "    \"50th_percentile\": edges_with_coords_with_length[\"segment_length\"].median(),\n",
    "    \"75th_percentile\": edges_with_coords_with_length[\"segment_length\"].quantile(0.75),\n",
    "}\n",
    "segment_length_dict"
   ]
  },
  {
   "cell_type": "markdown",
   "metadata": {
    "cellUniqueIdByVincent": "cfb49"
   },
   "source": [
    "## Set Threshold for Edge Length\n"
   ]
  },
  {
   "cell_type": "code",
   "execution_count": null,
   "metadata": {
    "cellUniqueIdByVincent": "2bc05"
   },
   "outputs": [
    {
     "name": "stdout",
     "output_type": "stream",
     "text": [
      "Total Nr of Pruned Edges: 82684\n",
      "Edges to Bundle: 66147\n",
      "Edges without bundling: 16537\n"
     ]
    }
   ],
   "source": [
    "# get edges to bundle above a certain threshold\n",
    "# threshold = 0.03\n",
    "threshold = segment_length_dict[\"20th_percentile\"]\n",
    "edges_to_bundle = edges_with_coords_with_length[\"segment_length\"] > threshold\n",
    "edges_to_bundle_df = edges_with_coords_with_length.loc[edges_to_bundle].reset_index(\n",
    "    drop=True\n",
    ")\n",
    "print(f\"Total Nr of Pruned Edges: {len(edges_with_coords_with_length)}\")\n",
    "print(f\"Edges to Bundle: {edges_to_bundle.sum()}\")\n",
    "print(\n",
    "    f\"Edges without bundling: {len(edges_with_coords_with_length)- edges_to_bundle.sum()}\"\n",
    ")"
   ]
  },
  {
   "cell_type": "markdown",
   "metadata": {
    "cellUniqueIdByVincent": "fa29d"
   },
   "source": [
    "## Bundling\n"
   ]
  },
  {
   "cell_type": "code",
   "execution_count": null,
   "metadata": {
    "cellUniqueIdByVincent": "cc301"
   },
   "outputs": [
    {
     "name": "stdout",
     "output_type": "stream",
     "text": [
      "Process Bundling\n",
      "Start Bundling\n",
      "Start Smoothing\n"
     ]
    },
    {
     "data": {
      "text/html": [
       "<div>\n",
       "<style scoped>\n",
       "    .dataframe tbody tr th:only-of-type {\n",
       "        vertical-align: middle;\n",
       "    }\n",
       "\n",
       "    .dataframe tbody tr th {\n",
       "        vertical-align: top;\n",
       "    }\n",
       "\n",
       "    .dataframe thead th {\n",
       "        text-align: right;\n",
       "    }\n",
       "</style>\n",
       "<table border=\"1\" class=\"dataframe\">\n",
       "  <thead>\n",
       "    <tr style=\"text-align: right;\">\n",
       "      <th></th>\n",
       "      <th>x</th>\n",
       "      <th>y</th>\n",
       "      <th>z</th>\n",
       "    </tr>\n",
       "  </thead>\n",
       "  <tbody>\n",
       "    <tr>\n",
       "      <th>0</th>\n",
       "      <td>-589.802612</td>\n",
       "      <td>1040.776855</td>\n",
       "      <td>580.466258</td>\n",
       "    </tr>\n",
       "    <tr>\n",
       "      <th>1</th>\n",
       "      <td>-611.444868</td>\n",
       "      <td>1218.169654</td>\n",
       "      <td>576.356399</td>\n",
       "    </tr>\n",
       "    <tr>\n",
       "      <th>2</th>\n",
       "      <td>-611.648901</td>\n",
       "      <td>1407.123757</td>\n",
       "      <td>566.410742</td>\n",
       "    </tr>\n",
       "    <tr>\n",
       "      <th>3</th>\n",
       "      <td>-577.450308</td>\n",
       "      <td>1605.814831</td>\n",
       "      <td>547.460891</td>\n",
       "    </tr>\n",
       "    <tr>\n",
       "      <th>4</th>\n",
       "      <td>-502.141951</td>\n",
       "      <td>1802.459956</td>\n",
       "      <td>518.310153</td>\n",
       "    </tr>\n",
       "  </tbody>\n",
       "</table>\n",
       "</div>"
      ],
      "text/plain": [
       "            x            y           z\n",
       "0 -589.802612  1040.776855  580.466258\n",
       "1 -611.444868  1218.169654  576.356399\n",
       "2 -611.648901  1407.123757  566.410742\n",
       "3 -577.450308  1605.814831  547.460891\n",
       "4 -502.141951  1802.459956  518.310153"
      ]
     },
     "execution_count": 44,
     "metadata": {},
     "output_type": "execute_result"
    }
   ],
   "source": [
    "bundled_edge_pts = hammer_bundle(\n",
    "    nodes_df[[\"x\", \"y\", \"z\"]],\n",
    "    edges_to_bundle_df[[\"source\", \"target\"]],\n",
    "    initial_bandwidth=0.05,\n",
    "    decay=0.7,\n",
    "    tension=0.3,\n",
    "    accuracy=5 * 10**2,\n",
    "    weight=None,\n",
    "    advect_iterations=50,\n",
    "    iterations=5,\n",
    "    min_segment_length=0.01,\n",
    "    max_segment_length=0.05,\n",
    ")\n",
    "bundled_edge_pts.head()"
   ]
  },
  {
   "cell_type": "markdown",
   "metadata": {
    "cellUniqueIdByVincent": "06356"
   },
   "source": [
    "## Post Bundling Processing\n",
    "\n",
    "add source and target columns, create clean df and save it\n"
   ]
  },
  {
   "cell_type": "code",
   "execution_count": null,
   "metadata": {
    "cellUniqueIdByVincent": "e7b81"
   },
   "outputs": [
    {
     "name": "stdout",
     "output_type": "stream",
     "text": [
      "Number of bundled edges: 66147\n",
      "Number of total edges: 82684\n",
      "Number of straight edges: 16537\n"
     ]
    }
   ],
   "source": [
    "# Example of how to use the class\n",
    "edge_processor = postBundlingUtility(\n",
    "    bundled_edge_pts, edges_to_bundle_df, edges_with_coords_with_length, threshold\n",
    ")\n",
    "final_edges_df = edge_processor.post_process_edges()"
   ]
  },
  {
   "cell_type": "markdown",
   "metadata": {
    "cellUniqueIdByVincent": "dbc26"
   },
   "source": [
    "# SAVER\n"
   ]
  },
  {
   "cell_type": "code",
   "execution_count": null,
   "metadata": {
    "cellUniqueIdByVincent": "3ca4c"
   },
   "outputs": [
    {
     "name": "stdout",
     "output_type": "stream",
     "text": [
      "Color attribute added to edges. \n",
      "-1 if inter-clusters, cluster number if intra-cluster edge.\n",
      "Year attribute added to edges. Using the more recent year if different.\n",
      "ID attribute added to edges.\n",
      "Example of an edge:\n",
      "{'source': 0, 'target': 68, 'color': -1, 'year': 1982, 'id': '0_68', 'points': [{'x': -589.8026123047, 'y': 1040.7768554687, 'z': 580.4662581995}, {'x': -611.4448679352, 'y': 1218.1696540929, 'z': 576.3563991844}, {'x': -611.6489008889, 'y': 1407.1237566398, 'z': 566.4107417126}, {'x': -577.4503078251, 'y': 1605.8148307307, 'z': 547.4608911963}, {'x': -502.1419509286, 'y': 1802.4599558967, 'z': 518.310152527}, {'x': -385.8898022273, 'y': 1984.3602964434, 'z': 479.5159228394}, {'x': -236.9203002943, 'y': 2147.4287140607, 'z': 433.2997666028}, {'x': -71.277953556, 'y': 2299.0783193298, 'z': 383.374107317}, {'x': 155.8157501221, 'y': 2225.1782226562, 'z': 322.7648573393}]}\n",
      "Edges data saved to /Users/jlq293/Projects/Study-1-Bibliometrics/data/09-threeJs/smaller_edges_2025-05-13-13-44-03scale2.json\n",
      "Edges data saved to /Users/jlq293/Projects/Random Projects/LW-ThreeJS/2d_ssrinetworkviz/src/data/smaller_edges_2025-05-13-13-44-03scale2.json\n"
     ]
    }
   ],
   "source": [
    "e_saver = edgesSaver(final_edges_df, nodes_df)\n",
    "edges_df_with_color = e_saver.add_color_attr()\n",
    "edges_df_with_color_year = e_saver.add_year_attr()\n",
    "edges_df_with_color_year_id = e_saver.add_id_attr()\n",
    "\n",
    "\n",
    "edges_list = e_saver.transform_edges(\n",
    "    extra_edge_attributes=[\"source\", \"target\", \"color\", \"year\", \"id\"]\n",
    ")\n",
    "\n",
    "print(\"Example of an edge:\")\n",
    "print(edges_list[0])\n",
    "\n",
    "# Save to JSON\n",
    "e_saver.save_edges_to_json(edges_list, OUTPUT_DIR + \"smaller_\" + EDGES_DATA_FILENAME)\n",
    "e_saver.save_edges_to_json(\n",
    "    edges_list,\n",
    "    THREEJS_OUTPUT_DIR + \"smaller_\" + EDGES_DATA_FILENAME,\n",
    ")"
   ]
  },
  {
   "cell_type": "code",
   "execution_count": 47,
   "metadata": {
    "cellUniqueIdByVincent": "7819e"
   },
   "outputs": [],
   "source": [
    "# save final edges df to csv for easy access and safety\n",
    "\n",
    "edges_df_with_color_year_id.to_csv(\n",
    "    OUTPUT_DIR + \"smaller_\" + \"final_bundled_edges_df_2025-05-13.csv\", index=False\n",
    ")"
   ]
  },
  {
   "cell_type": "markdown",
   "metadata": {
    "cellUniqueIdByVincent": "0aa71"
   },
   "source": [
    "# save nodes\n"
   ]
  },
  {
   "cell_type": "markdown",
   "metadata": {
    "cellUniqueIdByVincent": "c4ff9"
   },
   "source": []
  },
  {
   "cell_type": "code",
   "execution_count": null,
   "metadata": {
    "cellUniqueIdByVincent": "e4b66"
   },
   "outputs": [
    {
     "name": "stdout",
     "output_type": "stream",
     "text": [
      "Graph nodes saved to /Users/jlq293/Projects/Study-1-Bibliometrics/data/09-threeJs/nodes_2025-05-13-13-44-03scale2.json\n",
      "Graph nodes saved to /Users/jlq293/Projects/Random Projects/LW-ThreeJS/2d_ssrinetworkviz/src/data/nodes_2025-05-13-13-44-03scale2.json\n",
      "Example of a node:\n"
     ]
    },
    {
     "data": {
      "text/plain": [
       "{'node_index': 0,\n",
       " 'year': 1982,\n",
       " 'title': 'Kinetics of citalopram in man; plasma levels in patients',\n",
       " 'cluster': 19,\n",
       " 'doi': '10.1016/S0278-5846(82)80181-4',\n",
       " 'authors': 'Overø',\n",
       " 'centrality': 0.151957843626865,\n",
       " 'x': -589.8026123046875,\n",
       " 'y': 1040.77685546875,\n",
       " 'z': 580.4662581995266}"
      ]
     },
     "execution_count": 48,
     "metadata": {},
     "output_type": "execute_result"
    }
   ],
   "source": [
    "# save nodes\n",
    "OUTPUT_DIRA = OUTPUT_DIR + NODES_DATA_FILENAME\n",
    "\n",
    "OUTPUT_DIRB = THREEJS_OUTPUT_DIR + NODES_DATA_FILENAME\n",
    "\n",
    "n_saver = nodesSaver()\n",
    "nodes_json = n_saver.save_dataframe_nodes_to_json(\n",
    "    nodes_df,\n",
    "    paths=[OUTPUT_DIRA, OUTPUT_DIRB],\n",
    "    return_json=True,\n",
    "    attributes=[\n",
    "        \"node_index\",\n",
    "        \"year\",\n",
    "        \"title\",\n",
    "        \"cluster\",\n",
    "        \"doi\",\n",
    "        \"authors\",\n",
    "        \"centrality\",\n",
    "        \"x\",\n",
    "        \"y\",\n",
    "        \"z\",\n",
    "    ],\n",
    ")\n",
    "\n",
    "print(\"Example of a node:\")\n",
    "nodes_json[0]"
   ]
  },
  {
   "cell_type": "code",
   "execution_count": null,
   "metadata": {
    "cellUniqueIdByVincent": "51df7"
   },
   "outputs": [],
   "source": []
  }
 ],
 "metadata": {
  "language_info": {
   "name": "python"
  },
  "vincent": {
   "sessionId": "2910bf8d4cee6a3cb12d3101_2025-06-26T12-56-03-655Z"
  }
 },
 "nbformat": 4,
 "nbformat_minor": 2
}
