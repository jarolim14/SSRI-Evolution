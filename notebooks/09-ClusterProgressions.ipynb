{
 "cells": [
  {
   "cell_type": "markdown",
   "metadata": {},
   "source": [
    "# Community Analysis and Visualization of Cluster Data (2025 Projections)\n",
    "\n",
    "This notebook performs community analysis and visualization of cluster data for 2025 projections.\n",
    "\n",
    "## Key Steps\n",
    "\n",
    "1. Loads required libraries including pandas, networkx, plotly and matplotlib\n",
    "2. Sets up environment variables and paths for data/output directories\n",
    "3. Reads graph data from graphml file containing community structure\n",
    "4. Loads analysis dataframe with cluster assignments\n",
    "5. Processes cluster labels and qualifications data\n",
    "6. Creates visualizations of:\n",
    "   - Community proportions and trends\n",
    "   - Cluster relationships and structure\n",
    "   - Distribution of qualifications across clusters\n",
    "\n",
    "The notebook uses custom plotting classes (StaticProportionsPlotter) to generate standardized visualizations of the community analysis results.\n"
   ]
  },
  {
   "cell_type": "code",
   "execution_count": 90,
   "metadata": {},
   "outputs": [
    {
     "name": "stdout",
     "output_type": "stream",
     "text": [
      "The autoreload extension is already loaded. To reload it, use:\n",
      "  %reload_ext autoreload\n"
     ]
    }
   ],
   "source": [
    "%load_ext autoreload\n",
    "%autoreload 2\n",
    "import json\n",
    "import pandas as pd\n",
    "import networkx as nx\n",
    "import numpy as np\n",
    "import pandas as pd\n",
    "import plotly.express as px\n",
    "import matplotlib.pyplot as plt\n",
    "import matplotlib.font_manager as fm\n",
    "# remove the SettingWithCopyWarning\n",
    "pd.options.mode.chained_assignment = None\n",
    "\n",
    "from dotenv import load_dotenv\n",
    "import os\n",
    "# Load environment variables from .env file\n",
    "load_dotenv()\n",
    "\n",
    "# Access environment variables\n",
    "python_path = os.getenv('PYTHONPATH')\n",
    "data_dir = os.getenv('DATA_DIR')\n",
    "src_dir = os.getenv('SRC_DIR')\n",
    "output_dir = os.getenv('OUTPUT_DIR')\n"
   ]
  },
  {
   "cell_type": "code",
   "execution_count": 91,
   "metadata": {},
   "outputs": [],
   "source": [
    "\n",
    "pg = data_dir + \"/08-analysis-data/2025/graph_analysis.graphml\"\n",
    "G = nx.read_graphml(pg)\n",
    "pdf = data_dir + \"/08-analysis-data/2025/df_analysis.pkl\"\n",
    "df = pd.read_pickle(pdf)\n"
   ]
  },
  {
   "cell_type": "code",
   "execution_count": 92,
   "metadata": {},
   "outputs": [],
   "source": [
    "# open the cluster label file\n",
    "\n",
    "with open(\n",
    "    output_dir + \"/cluster-qualifications_2025/cluster-label-tree/cluster_labels_filtered.json\",\n",
    "    \"r\",\n",
    ") as f:\n",
    "    cluster_label_dict = json.load(f)\n",
    "\n",
    "\n",
    "# read in legend\n",
    "legend_p = output_dir + \"/cluster-qualifications_2025/cluster-label-tree/legend_labels_2025.json\"\n",
    "with open(legend_p, \"r\") as f:\n",
    "    legend = json.load(f)\n"
   ]
  },
  {
   "cell_type": "code",
   "execution_count": 93,
   "metadata": {},
   "outputs": [
    {
     "data": {
      "text/plain": [
       "{'Pharmacology': {'Pharmacodynamics': {'Mechanism of action': [{'1': 'Serotonin Receptor Modulation in SSRI Treatment'},\n",
       "    {'7': 'Impact of SSRIs on Neurogenesis'},\n",
       "    {'9': 'SSRIs Effect on Neural Processing of Emotional Cues'},\n",
       "    {'34': 'SSRIs for Panic Disorder'},\n",
       "    {'53': 'Neuroimaging of Serotonin Transporters'},\n",
       "    {'60': 'SSRIs Effects on Ion Channels'},\n",
       "    {'63': 'Methylenedioxymethamphetamine (MDMA) Induced Neurotoxicity'},\n",
       "    {'68': 'SSRIs Effect on Pulmonary Hypertension'},\n",
       "    {'73': 'Non-SERT Transporters in Antidepressant Action'},\n",
       "    {'76': 'SERT Binding Mechanisms'},\n",
       "    {'77': 'Astrocyte Receptors as a Target for SSRIs'},\n",
       "    {'84': 'SSRIs Effect on Dopamine Receptors'},\n",
       "    {'85': 'SSRIs Effects on Antimicrobials and Gut Microbiome'},\n",
       "    {'88': 'Neurometabolite Changes with Antidepressants'},\n",
       "    {'89': 'Galanin System in Antidepressant Action'},\n",
       "    {'92': 'SSRIs Effect on Brain-derived Neurotrophic Factor (BDNF) Levels in Depressive Patients'}],\n",
       "   'Animal Models of Disorders': [{'8': 'The Chronic Unpredictable Mild Stress Model of Depression'},\n",
       "    {'12': 'SSRIs in Forced Swimming Test'},\n",
       "    {'17': 'SSRIs Effect on Fear'},\n",
       "    {'71': 'Serotonergic Modulation of Cocaine Effects'}],\n",
       "   'Other': [{'10': 'Risk of Prenatal Exposure (Rodents)'},\n",
       "    {'93': 'SSRIs in Model Organisms ( C. Elegans and Drosophilia)'}]},\n",
       "  'Pharmacokinetics': [{'6': 'SSRIs and the Cytochrome P450 System'}],\n",
       "  'Pharmacogenetics': [{'20': 'Serotonin Transporter Gene and Antidepressant Response'},\n",
       "   {'72': 'Pharmacogenetics in SSRI Treatment'}],\n",
       "  'Analytical Methods': [{'2': 'Analytical Methods for SSRI Detection and Quantification'},\n",
       "   {'27': 'Paroxetine Binding to Serotonin Transporter'},\n",
       "   {'55': 'Synthetic Chemistry of Paroxetine'},\n",
       "   {'64': 'Laboratory Techniques for drug analysis'},\n",
       "   {'91': 'SSRI Crystal Structure and Complexation'}],\n",
       "  'Other Pharmacology': [{'15': 'Inflammatory Biomarkers'},\n",
       "   {'35': 'Pharmacological Reviews'},\n",
       "   {'70': 'Antidepressant Drug Design'}]},\n",
       " 'Indications': {'Depressive Disorders': [{'5': 'SSRIs for Pediatric Depression'},\n",
       "   {'9': 'SSRIs Effect on Neural Processing of Emotional Cues'},\n",
       "   {'12': 'SSRIs in Forced Swimming Test'},\n",
       "   {'14': 'Fluvoxamine for Depression'},\n",
       "   {'19': 'Escitalopram for Depression'},\n",
       "   {'21': 'Treatment Strategies and Outcomes in Depression'},\n",
       "   {'23': 'SSRIs for Depression in Patients with Cardiovascular Disease'},\n",
       "   {'36': 'SSRIs for Bipolar Depression'},\n",
       "   {'41': 'Venlafaxine vs SSRIs for Depression'},\n",
       "   {'43': 'SSRIs for Depression in Diabetes Patients'},\n",
       "   {'47': 'SSRIs for Depression with Cognitive Impairment'},\n",
       "   {'58': 'SSRIs for Depression in Parkinsons Patients'},\n",
       "   {'59': 'SSRIs for Depression in in Epileptic Patients'},\n",
       "   {'61': 'SSRIs and Augmentation for Treatment Resistant Depression'},\n",
       "   {'74': 'SSRIs for Depression, Comparative Effectiveness'},\n",
       "   {'75': 'SSRIs for Geriatric Depression'},\n",
       "   {'79': 'Agomelatin for Depression'},\n",
       "   {'80': 'Depression Treatment Guidelines'},\n",
       "   {'81': 'Sertraline for Depression'},\n",
       "   {'86': 'SSRIs for Depression after Traumatic Brain Injury'},\n",
       "   {'92': 'SSRIs Effect on Brain-derived Neurotrophic Factor (BDNF) Levels in Depressive Patients'},\n",
       "   {'94': 'SSRIs for Depression in Cancer Patients'},\n",
       "   {'95': 'SSRIs for Postpartum Depression'},\n",
       "   {'96': 'SSRIs Long-term Efficacy and Recurrent Depression'}],\n",
       "  'Anxiety': [{'17': 'SSRIs Effect on Fear'},\n",
       "   {'33': 'SSRIs for Generalized Anxiety Disorder'},\n",
       "   {'34': 'SSRIs for Panic Disorder'},\n",
       "   {'65': 'SSRIs for Social Anxiety Disorder'}],\n",
       "  'OCD': [{'3': 'SSRIs for OCD'},\n",
       "   {'69': 'SSRIs for Body Dysmorphic Disorder (BDD)'}],\n",
       "  'Weight and Eating Disorders': [{'26': 'SSRIs for Weight Management'},\n",
       "   {'57': 'SSRIs for Eating Disorders'}],\n",
       "  'Substance Abuse/Addictions': [{'51': 'SSRIs for Alcohol Dependence'},\n",
       "   {'71': 'Serotonergic Modulation of Cocaine Effects'}],\n",
       "  'Other': [{'11': 'SSRIs for PTSD'},\n",
       "   {'22': 'SSRIs for Pain'},\n",
       "   {'38': 'Fluvoxamine for Covid 19'},\n",
       "   {'40': 'SSRIs Effect on Sleep'},\n",
       "   {'44': 'SSRIs for Menopausal Vasomotor Symptoms (Hot flashes)'},\n",
       "   {'46': 'Premature Ejaculation'},\n",
       "   {'50': 'SSRIs for Irritable Bowel Syndrome'},\n",
       "   {'52': 'SSRIs for Premenstrual Dysphoric Disorder (PMDD)'},\n",
       "   {'54': 'SSRIs for (Psycho)dermatological Diseases'},\n",
       "   {'56': 'SSRIs for Autism Spectrum Disorders'},\n",
       "   {'67': 'SSRIs (Fluvoxamine) for Schizophrenia'},\n",
       "   {'68': 'SSRIs Effect on Pulmonary Hypertension'},\n",
       "   {'78': 'SSRIs for Borderline Personality Disorder'},\n",
       "   {'87': 'Antifungal Activity of Sertraline'},\n",
       "   {'90': 'SSRIs for Fibromyalgia'}]},\n",
       " 'Safety': {'Special Populations': {'Pediatrics': [{'5': 'SSRIs for Pediatric Depression'},\n",
       "    {'31': 'Suicice Risk'}],\n",
       "   'Geriatrics': [{'18': 'Post-Stroke SSRI Use'},\n",
       "    {'23': 'SSRIs for Depression in Patients with Cardiovascular Disease'},\n",
       "    {'24': 'SSRIs in Dementias'},\n",
       "    {'47': 'SSRIs for Depression with Cognitive Impairment'},\n",
       "    {'58': 'SSRIs for Depression in Parkinsons Patients'},\n",
       "    {'75': 'SSRIs for Geriatric Depression'}],\n",
       "   'Other': [{'43': 'SSRIs for Depression in Diabetes Patients'},\n",
       "    {'59': 'SSRIs for Depression in in Epileptic Patients'},\n",
       "    {'86': 'SSRIs for Depression after Traumatic Brain Injury'},\n",
       "    {'94': 'SSRIs for Depression in Cancer Patients'}]},\n",
       "  'Perinatal Exposure': [{'4': 'Risk of Prenatal Exposure'},\n",
       "   {'10': 'Risk of Prenatal Exposure (Rodents)'},\n",
       "   {'42': 'SSRI Effects on Lactation'},\n",
       "   {'95': 'SSRIs for Postpartum Depression'}],\n",
       "  'Other': [{'16': 'Sexual Dysfunction'},\n",
       "   {'25': 'Serotonin Syndrome'},\n",
       "   {'28': 'Bleeding Risk'},\n",
       "   {'30': 'Oncopreventive and Oncolytic Properties of SSRIs'},\n",
       "   {'31': 'Suicice Risk'},\n",
       "   {'32': 'Fracture Risk'},\n",
       "   {'37': 'Hepatotoxic Risk'},\n",
       "   {'45': 'Pharmacovigilance of SSRIs'},\n",
       "   {'48': 'QTC Prolongation'},\n",
       "   {'49': 'Extrapyramidal Reactions Risk'},\n",
       "   {'66': 'Forensic Toxicology of Fatal Overdoses'},\n",
       "   {'82': 'Withdrawal Symptoms'},\n",
       "   {'83': 'Hyponatremia Risk'},\n",
       "   {'99': 'SRRIs and Ocular Safety'}]},\n",
       " 'Other': {'Ecotoxicology': [{'0': 'Aquatic Ecotoxicology'},\n",
       "   {'62': 'Environmental Degradation of Antidepressants'}],\n",
       "  'Alternative Treatments': [{'29': 'Antidepressant-like Effects of Herbal Extracts in Animal Models'}],\n",
       "  'Other': [{'13': 'SSRI Utilization Patterns'},\n",
       "   {'39': 'Pharmacoeconomics of SSRIs for Depression'},\n",
       "   {'97': 'Canine Behavioral Disorders'}]}}"
      ]
     },
     "execution_count": 93,
     "metadata": {},
     "output_type": "execute_result"
    }
   ],
   "source": [
    "legend"
   ]
  },
  {
   "cell_type": "markdown",
   "metadata": {},
   "source": [
    "## get some specific clusters from the legend\n"
   ]
  },
  {
   "cell_type": "code",
   "execution_count": 94,
   "metadata": {},
   "outputs": [],
   "source": [
    "def get_all_leaf_clusters(node, print_labels=False):\n",
    "    \"\"\"\n",
    "    Recursively extracts all leaf cluster numbers from a hierarchical tree structure.\n",
    "    \n",
    "    Args:\n",
    "        node: A dictionary or list node in the hierarchical tree\n",
    "        \n",
    "    Returns:\n",
    "        list: A sorted list of all unique cluster numbers found in the leaves\n",
    "    \"\"\"\n",
    "    clusters = []\n",
    "    \n",
    "    if isinstance(node, dict):\n",
    "        # If this is a dictionary node, process each of its values\n",
    "        for value in node.values():\n",
    "            clusters.extend(get_all_leaf_clusters(value))\n",
    "    \n",
    "    elif isinstance(node, list):\n",
    "        # If this is a list node, process each item in the list\n",
    "        for item in node:\n",
    "            clusters.extend(get_all_leaf_clusters(item))\n",
    "    \n",
    "    elif isinstance(node, dict) and len(node) == 1:\n",
    "        # This is a leaf node with a single key-value pair\n",
    "        # The key is the cluster number and the value is the description\n",
    "        clusters.append(int(list(node.keys())[0]))\n",
    "    \n",
    "    # Handle the case where node is a dictionary with a single numeric key\n",
    "    # This is the actual leaf node format in your data\n",
    "    if isinstance(node, dict) and len(node) == 1 and all(k.isdigit() for k in node.keys()):\n",
    "        clusters.append(int(list(node.keys())[0]))\n",
    "\n",
    "    if print_labels:\n",
    "        for cluster in clusters:\n",
    "            print(f\"Cluster {cluster}: {cluster_label_dict.get(str(cluster), 'Unknown')}\")\n",
    "        \n",
    "    return sorted(list(set(clusters)))"
   ]
  },
  {
   "cell_type": "markdown",
   "metadata": {},
   "source": [
    "Get geriatric clusters\n"
   ]
  },
  {
   "cell_type": "code",
   "execution_count": 95,
   "metadata": {},
   "outputs": [
    {
     "name": "stdout",
     "output_type": "stream",
     "text": [
      "Geriatrics Clusters:\n",
      "Cluster 18: Post-Stroke SSRI Use\n",
      "Cluster 23: SSRIs for Depression in Patients with Cardiovascular Disease\n",
      "Cluster 24: SSRIs in Dementias\n",
      "Cluster 47: SSRIs for Depression with Cognitive Impairment\n",
      "Cluster 58: SSRIs for Depression in Parkinsons Patients\n",
      "Cluster 75: SSRIs for Geriatric Depression\n"
     ]
    }
   ],
   "source": [
    "print(\"Geriatrics Clusters:\")\n",
    "# Get all leaf clusters under the \"Geriatrics\" node in the legend\n",
    "geriatrics_keys = get_all_leaf_clusters(legend['Safety']['Special Populations']['Geriatrics'], print_labels=True)\n"
   ]
  },
  {
   "cell_type": "markdown",
   "metadata": {},
   "source": [
    "Perinatal Exposure\n"
   ]
  },
  {
   "cell_type": "code",
   "execution_count": 96,
   "metadata": {},
   "outputs": [
    {
     "name": "stdout",
     "output_type": "stream",
     "text": [
      "Perinatal Exposure Clusters:\n",
      "Cluster 4: Risk of Prenatal Exposure\n",
      "Cluster 10: Risk of Prenatal Exposure (Rodents)\n",
      "Cluster 42: SSRI Effects on Lactation\n",
      "Cluster 95: SSRIs for Postpartum Depression\n"
     ]
    }
   ],
   "source": [
    "print(\"Perinatal Exposure Clusters:\")\n",
    "# Get all leaf clusters under the \"Perinatal Exposure\" node in the legend\n",
    "perinatal_exposure_keys = get_all_leaf_clusters(legend['Safety']['Perinatal Exposure'], print_labels=True)\n"
   ]
  },
  {
   "cell_type": "markdown",
   "metadata": {},
   "source": [
    "Animal Models of Disorder\n"
   ]
  },
  {
   "cell_type": "code",
   "execution_count": 97,
   "metadata": {},
   "outputs": [
    {
     "name": "stdout",
     "output_type": "stream",
     "text": [
      "Animal Models of Disorders Clusters:\n",
      "Cluster 8: The Chronic Unpredictable Mild Stress Model of Depression\n",
      "Cluster 12: SSRIs in Forced Swimming Test\n",
      "Cluster 17: SSRIs Effect on Fear\n",
      "Cluster 71: Serotonergic Modulation of Cocaine Effects\n"
     ]
    }
   ],
   "source": [
    "print(\"Animal Models of Disorders Clusters:\")\n",
    "# Get all leaf clusters under the \"Animal Models of Disorders\" node in the legend\n",
    "animal_models_keys = get_all_leaf_clusters(legend['Pharmacology']['Pharmacodynamics']['Animal Models of Disorders'], print_labels=True)"
   ]
  },
  {
   "cell_type": "markdown",
   "metadata": {},
   "source": [
    "# VISUALS\n"
   ]
  },
  {
   "cell_type": "markdown",
   "metadata": {},
   "source": [
    "# Interactive visualization\n"
   ]
  },
  {
   "cell_type": "code",
   "execution_count": 98,
   "metadata": {},
   "outputs": [],
   "source": [
    "import logging\n",
    "from pathlib import Path\n",
    "from typing import Any, Dict, List, Literal, Optional, Tuple, Union\n",
    "\n",
    "import numpy as np\n",
    "import pandas as pd\n",
    "import plotly.express as px\n",
    "from plotly.graph_objects import Figure\n",
    "\n",
    "\n",
    "class InteractiveProportionsPlotter:\n",
    "    \"\"\"\n",
    "    A class to visualize cluster proportions over time using Plotly.\n",
    "\n",
    "    This class provides functionality to create interactive area plots showing\n",
    "    how the proportion of different clusters changes over time.\n",
    "    \"\"\"\n",
    "\n",
    "    def __init__(\n",
    "        self,\n",
    "        df: pd.DataFrame,\n",
    "        cluster_label_dict: Dict[str, str],\n",
    "        year_col: str = \"year\",\n",
    "        cluster_col: str = \"cluster_alpha0.3_k10_res0.002\",\n",
    "        output_dir: Optional[str] = None\n",
    "    ) -> None:\n",
    "        \"\"\"\n",
    "        Initialize the plotter with the necessary data.\n",
    "\n",
    "        Args:\n",
    "            df: DataFrame containing the cluster data\n",
    "            cluster_label_dict: Dictionary mapping cluster IDs to readable labels\n",
    "            year_col: Column name for the year data\n",
    "            cluster_col: Column name for the cluster assignments\n",
    "            output_dir: Directory to save output figures (None for no default directory)\n",
    "\n",
    "        Raises:\n",
    "            ValueError: If required columns are missing or data types are incompatible\n",
    "        \"\"\"\n",
    "        # Set up logging\n",
    "        self.logger = logging.getLogger(__name__)\n",
    "\n",
    "        # Validate input data\n",
    "        self._validate_dataframe(df, year_col, cluster_col)\n",
    "        self._validate_cluster_dict(cluster_label_dict)\n",
    "\n",
    "        # Store validated data\n",
    "        self.df = df.copy()\n",
    "        self.year_col = year_col\n",
    "        self.cluster_col = cluster_col\n",
    "        self.cluster_label_dict = cluster_label_dict\n",
    "        self.output_dir = Path(output_dir) if output_dir else None\n",
    "\n",
    "        # Ensure cluster column is string type for consistent comparisons\n",
    "        if not pd.api.types.is_string_dtype(self.df[self.cluster_col]):\n",
    "            self.df[self.cluster_col] = self.df[self.cluster_col].apply(\n",
    "                lambda x: str(int(x)) if isinstance(x, float) and x.is_integer() else str(x)\n",
    "            )\n",
    "            self.logger.info(f\"Converted {self.cluster_col} to string type for consistent comparisons\")\n",
    "\n",
    "    def _validate_dataframe(self, df: pd.DataFrame, year_col: str, cluster_col: str) -> None:\n",
    "        \"\"\"\n",
    "        Validate the input DataFrame has the required columns and correct data types.\n",
    "\n",
    "        Args:\n",
    "            df: DataFrame to validate\n",
    "            year_col: Year column name\n",
    "            cluster_col: Cluster column name\n",
    "\n",
    "        Raises:\n",
    "            ValueError: If validation fails\n",
    "        \"\"\"\n",
    "        if not isinstance(df, pd.DataFrame):\n",
    "            raise ValueError(f\"Expected pandas DataFrame, got {type(df)}\")\n",
    "\n",
    "        # Check required columns exist\n",
    "        missing_cols = [col for col in [year_col, cluster_col] if col not in df.columns]\n",
    "        if missing_cols:\n",
    "            raise ValueError(f\"DataFrame missing required columns: {missing_cols}\")\n",
    "\n",
    "        # Validate year column\n",
    "        if not pd.api.types.is_numeric_dtype(df[year_col]):\n",
    "            raise ValueError(f\"Year column '{year_col}' must be numeric\")\n",
    "\n",
    "        # Ensure cluster column can be converted to string\n",
    "        try:\n",
    "            _ = df[cluster_col].astype(str)\n",
    "        except Exception as e:\n",
    "            raise ValueError(f\"Could not convert cluster column to string: {e}\")\n",
    "\n",
    "    def _validate_cluster_dict(self, cluster_dict: Dict[str, str]) -> None:\n",
    "        \"\"\"\n",
    "        Validate the cluster label dictionary.\n",
    "\n",
    "        Args:\n",
    "            cluster_dict: Dictionary mapping cluster IDs to labels\n",
    "\n",
    "        Raises:\n",
    "            ValueError: If validation fails\n",
    "        \"\"\"\n",
    "        if not isinstance(cluster_dict, dict):\n",
    "            raise ValueError(f\"Expected dict for cluster_label_dict, got {type(cluster_dict)}\")\n",
    "\n",
    "        # Check that all keys can be converted to strings for consistent comparisons\n",
    "        try:\n",
    "            {str(k): v for k, v in cluster_dict.items()}\n",
    "        except Exception as e:\n",
    "            raise ValueError(f\"Cluster dictionary keys must be convertible to strings: {e}\")\n",
    "\n",
    "    def _generate_distinct_colors(self, num_colors: int) -> List[str]:\n",
    "        \"\"\"\n",
    "        Generate a list of perceptually distinct colors in hex format for Plotly.\n",
    "\n",
    "        Uses the HSV color space with evenly spaced hues and carefully selected\n",
    "        saturation and value to ensure maximum visual distinction.\n",
    "\n",
    "        Args:\n",
    "            num_colors: Number of distinct colors to generate\n",
    "\n",
    "        Returns:\n",
    "            List of hex color codes\n",
    "        \"\"\"\n",
    "        colors = []\n",
    "\n",
    "        # Use golden ratio to generate well-spaced hues\n",
    "        golden_ratio_conjugate = 0.618033988749895\n",
    "\n",
    "        # Start at a random point\n",
    "        h = np.random.random()\n",
    "\n",
    "        # Generate colors with varying hue but consistent saturation and value\n",
    "        for i in range(num_colors):\n",
    "            # Shift the hue by the golden ratio\n",
    "            h += golden_ratio_conjugate\n",
    "            h %= 1.0\n",
    "\n",
    "            # HSV (hue, saturation, value) - vary saturation and value slightly\n",
    "            # to enhance distinguishability\n",
    "            if i % 3 == 0:\n",
    "                # Use high saturation and value\n",
    "                s = 0.8\n",
    "                v = 0.9\n",
    "            elif i % 3 == 1:\n",
    "                # Use high saturation but lower value (darker)\n",
    "                s = 0.9\n",
    "                v = 0.7\n",
    "            else:\n",
    "                # Use lower saturation but high value (lighter, pastel-like)\n",
    "                s = 0.65\n",
    "                v = 0.85\n",
    "\n",
    "            # Convert HSV to RGB\n",
    "            r, g, b = self._hsv_to_rgb(h, s, v)\n",
    "\n",
    "            # Convert RGB to hex\n",
    "            hex_color = f\"#{int(r*255):02x}{int(g*255):02x}{int(b*255):02x}\"\n",
    "            colors.append(hex_color)\n",
    "\n",
    "        return colors\n",
    "\n",
    "    def _hsv_to_rgb(self, h: float, s: float, v: float) -> Tuple[float, float, float]:\n",
    "        \"\"\"\n",
    "        Convert HSV color to RGB.\n",
    "\n",
    "        Args:\n",
    "            h: Hue (0-1)\n",
    "            s: Saturation (0-1)\n",
    "            v: Value (0-1)\n",
    "\n",
    "        Returns:\n",
    "            RGB tuple with values in range 0-1\n",
    "        \"\"\"\n",
    "        if s == 0.0:\n",
    "            return (v, v, v)\n",
    "\n",
    "        i = int(h * 6)  # Sector 0 to 5\n",
    "        f = (h * 6) - i  # Factorial part of h\n",
    "        p = v * (1 - s)\n",
    "        q = v * (1 - s * f)\n",
    "        t = v * (1 - s * (1 - f))\n",
    "\n",
    "        if i % 6 == 0:\n",
    "            return (v, t, p)\n",
    "        elif i % 6 == 1:\n",
    "            return (q, v, p)\n",
    "        elif i % 6 == 2:\n",
    "            return (p, v, t)\n",
    "        elif i % 6 == 3:\n",
    "            return (p, q, v)\n",
    "        elif i % 6 == 4:\n",
    "            return (t, p, v)\n",
    "        else:\n",
    "            return (v, p, q)\n",
    "\n",
    "    def _get_optimized_color_palette(self, num_colors: int, color_palette: Optional[List[str]] = None) -> List[str]:\n",
    "        \"\"\"\n",
    "        Get an optimized color palette with maximally distinct colors.\n",
    "\n",
    "        Args:\n",
    "            num_colors: Number of colors needed\n",
    "            color_palette: Optional user-provided color palette\n",
    "\n",
    "        Returns:\n",
    "            List of hex color codes\n",
    "        \"\"\"\n",
    "        # If a specific palette is provided, use it\n",
    "        if color_palette and len(color_palette) >= num_colors:\n",
    "            return color_palette[:num_colors]\n",
    "\n",
    "        # Use preset qualitative palettes for common cases\n",
    "        if num_colors <= 10:\n",
    "            # Use Plotly's qualitative palette which has good distinction for up to 10 colors\n",
    "            # This is better than D3 for small sets as it has more distinct hues\n",
    "            return px.colors.qualitative.Plotly[:num_colors]\n",
    "        elif num_colors <= 12:\n",
    "            # Use the Set3 qualitative palette which has good distinction for up to 12 colors\n",
    "            return px.colors.qualitative.Set3[:num_colors]\n",
    "        elif num_colors <= 26:\n",
    "            # Alphabetical color palette has 26 distinct colors\n",
    "            return px.colors.qualitative.Alphabet[:num_colors]\n",
    "        else:\n",
    "            # For larger sets, generate algorithmically with golden ratio method\n",
    "            return self._generate_distinct_colors(num_colors)\n",
    "\n",
    "    def plot_proportions(\n",
    "        self,\n",
    "        cluster_subset_list: List[Union[str, int, float]],\n",
    "        figsize: Tuple[int, int] = (10, 6),\n",
    "        proportions_total: Literal[\"total\", \"subset\"] = \"total\",\n",
    "        save: bool = False,\n",
    "        filename: Optional[str] = None,\n",
    "        color_palette: Optional[List[str]] = None,\n",
    "        title: Optional[str] = None,\n",
    "        show_buttons: bool = True,\n",
    "        year_range: Optional[Tuple[int, int]] = None,\n",
    "        plot_type: Literal[\"area\", \"line\"] = \"area\",\n",
    "        sort_clusters: bool = False\n",
    "    ) -> Figure:\n",
    "        \"\"\"\n",
    "        Plot cluster proportions over time as an interactive area chart.\n",
    "\n",
    "        Args:\n",
    "            cluster_subset_list: List of cluster IDs to include in the plot\n",
    "            figsize: Size of the figure as (width, height) in inches\n",
    "            proportions_total: Whether to calculate proportions relative to \"total\" data or \"subset\" only\n",
    "            save: Whether to save the figure\n",
    "            filename: Custom filename for the saved figure (default: cluster_proportions_YYYY.html)\n",
    "            color_palette: Custom color palette for the plot\n",
    "            title: Custom title for the plot\n",
    "            show_buttons: Whether to show the select/deselect all buttons\n",
    "            year_range: Optional tuple of (start_year, end_year) to filter the data\n",
    "            plot_type: \"area\" for stacked area plot or \"line\" for line plot\n",
    "            sort_clusters: Whether to sort clusters by their total proportion (large to small)\n",
    "\n",
    "        Returns:\n",
    "            A plotly Figure object\n",
    "\n",
    "        Raises:\n",
    "            ValueError: If input parameters are invalid\n",
    "        \"\"\"\n",
    "        # Validate inputs\n",
    "        if not cluster_subset_list:\n",
    "            raise ValueError(\"cluster_subset_list cannot be empty\")\n",
    "\n",
    "        if proportions_total not in [\"total\", \"subset\"]:\n",
    "            raise ValueError(f\"proportions_total must be 'total' or 'subset', got '{proportions_total}'\")\n",
    "\n",
    "        if plot_type not in [\"area\", \"line\"]:\n",
    "            raise ValueError(f\"plot_type must be 'area' or 'line', got '{plot_type}'\")\n",
    "\n",
    "        # Convert all cluster IDs to strings for consistent comparison\n",
    "        cluster_subset_strings = []\n",
    "        for cluster_id in cluster_subset_list:\n",
    "            if isinstance(cluster_id, float) and cluster_id.is_integer():\n",
    "                cluster_subset_strings.append(str(int(cluster_id)))\n",
    "            else:\n",
    "                cluster_subset_strings.append(str(cluster_id))\n",
    "\n",
    "        # Process year range filter if provided\n",
    "        filtered_df = self.df\n",
    "        if year_range:\n",
    "            if not (isinstance(year_range, tuple) and len(year_range) == 2):\n",
    "                raise ValueError(\"year_range must be a tuple of (start_year, end_year)\")\n",
    "            start_year, end_year = year_range\n",
    "            filtered_df = filtered_df[(filtered_df[self.year_col] >= start_year) &\n",
    "                                    (filtered_df[self.year_col] <= end_year)]\n",
    "            if filtered_df.empty:\n",
    "                raise ValueError(f\"No data found for year range {year_range}\")\n",
    "\n",
    "        # Group and count clusters by year\n",
    "        cluster_counts = (\n",
    "            filtered_df.groupby([self.year_col, self.cluster_col])\n",
    "            .size()\n",
    "            .reset_index(name=\"count\")\n",
    "        )\n",
    "\n",
    "        # Filter to only include the requested clusters\n",
    "        subset_cluster_counts = cluster_counts[\n",
    "            cluster_counts[self.cluster_col].isin(cluster_subset_strings)\n",
    "        ]\n",
    "\n",
    "        if subset_cluster_counts.empty:\n",
    "            clusters_in_df = sorted(cluster_counts[self.cluster_col].unique())\n",
    "            raise ValueError(f\"No data found for specified clusters. Available clusters: {clusters_in_df}\")\n",
    "\n",
    "        # Calculate yearly totals for normalization based on the chosen method\n",
    "        if proportions_total == \"total\":\n",
    "            yearly_totals = cluster_counts.groupby(self.year_col)[\"count\"].transform(\"sum\")\n",
    "            y_label = \"Proportion of Total Papers\"\n",
    "        else:  # \"subset\"\n",
    "            yearly_totals = subset_cluster_counts.groupby(self.year_col)[\"count\"].transform(\"sum\")\n",
    "            y_label = \"Proportion of Selected Clusters\"\n",
    "\n",
    "        # Calculate proportions\n",
    "        subset_cluster_counts[\"proportion\"] = subset_cluster_counts[\"count\"] / yearly_totals\n",
    "\n",
    "        # Sort clusters by their total proportion if requested\n",
    "        if sort_clusters:\n",
    "            # Calculate total proportion for each cluster across all years\n",
    "            cluster_total_props = subset_cluster_counts.groupby(self.cluster_col)[\"proportion\"].sum().reset_index()\n",
    "            cluster_total_props = cluster_total_props.sort_values(\"proportion\", ascending=False)\n",
    "\n",
    "            # Create a ordered list of clusters\n",
    "            sorted_clusters = cluster_total_props[self.cluster_col].tolist()\n",
    "        else:\n",
    "            # Just get unique clusters in their original order\n",
    "            sorted_clusters = subset_cluster_counts[self.cluster_col].unique().tolist()\n",
    "\n",
    "        # Reshape data for plotting\n",
    "        pivot_df = (\n",
    "            subset_cluster_counts.pivot(\n",
    "                index=self.year_col, columns=self.cluster_col, values=\"proportion\"\n",
    "            )\n",
    "            .fillna(0)\n",
    "        )\n",
    "\n",
    "        # Make sure columns are in the desired order\n",
    "        available_clusters = [c for c in sorted_clusters if c in pivot_df.columns]\n",
    "        pivot_df = pivot_df[available_clusters]\n",
    "\n",
    "        # Melt the data back for plotly\n",
    "        long_df = (\n",
    "            pivot_df.reset_index()\n",
    "            .melt(id_vars=[self.year_col], var_name=\"Cluster\", value_name=\"Proportion\")\n",
    "        )\n",
    "\n",
    "        # Ensure cluster labels are strings\n",
    "        long_df[\"Cluster\"] = long_df[\"Cluster\"].astype(str)\n",
    "\n",
    "        # Apply cluster labels from dictionary, with fallback for missing labels\n",
    "        long_df[\"Cluster_Label\"] = long_df[\"Cluster\"].apply(\n",
    "            lambda x: self.cluster_label_dict.get(x, f\"Cluster {x}\")\n",
    "        )\n",
    "\n",
    "        # Order the clusters by their total proportion\n",
    "        if sort_clusters:\n",
    "            # Create a category order based on our sorting\n",
    "            cluster_category_order = {\n",
    "                cluster: i for i, cluster in enumerate(sorted_clusters)\n",
    "            }\n",
    "\n",
    "            # Add a sort order column\n",
    "            long_df[\"cluster_order\"] = long_df[\"Cluster\"].map(\n",
    "                lambda x: cluster_category_order.get(x, len(sorted_clusters))\n",
    "            )\n",
    "\n",
    "            # Sort the dataframe\n",
    "            long_df = long_df.sort_values(\"cluster_order\")\n",
    "\n",
    "        # Set default title if none provided\n",
    "        if title is None:\n",
    "            title = \"Cluster Proportions Over Time\"\n",
    "            if proportions_total == \"subset\":\n",
    "                title += \" (Relative to Selected Clusters)\"\n",
    "\n",
    "        # Get an optimized color palette\n",
    "        num_clusters = len(long_df[\"Cluster\"].unique())\n",
    "        optimized_colors = self._get_optimized_color_palette(num_clusters, color_palette)\n",
    "\n",
    "        # Create the plot based on the requested type\n",
    "        if plot_type == \"area\":\n",
    "            fig = px.area(\n",
    "                long_df,\n",
    "                x=self.year_col,\n",
    "                y=\"Proportion\",\n",
    "                color=\"Cluster_Label\",\n",
    "                title=title,\n",
    "                labels={self.year_col: \"Year\", \"Proportion\": y_label},\n",
    "                width=figsize[0] * 100,\n",
    "                height=figsize[1] * 100,\n",
    "                color_discrete_sequence=optimized_colors,\n",
    "            )\n",
    "        else:  # line plot\n",
    "            fig = px.line(\n",
    "                long_df,\n",
    "                x=self.year_col,\n",
    "                y=\"Proportion\",\n",
    "                color=\"Cluster_Label\",\n",
    "                title=title,\n",
    "                labels={self.year_col: \"Year\", \"Proportion\": y_label},\n",
    "                width=figsize[0] * 100,\n",
    "                height=figsize[1] * 100,\n",
    "                color_discrete_sequence=optimized_colors,\n",
    "                line_shape=\"spline\",  # smooth lines\n",
    "                render_mode=\"svg\",    # better quality\n",
    "                line_width=3,         # thicker lines for clarity\n",
    "            )\n",
    "\n",
    "        # Add hover data to show actual counts\n",
    "        fig.update_traces(\n",
    "            hovertemplate=\"<b>%{fullData.name}</b><br>Year: %{x}<br>Proportion: %{y:.2%}<extra></extra>\"\n",
    "        )\n",
    "\n",
    "        # Format Y-axis as percentage\n",
    "        fig.update_layout(\n",
    "            yaxis=dict(\n",
    "                tickformat=\".1%\",\n",
    "                title=dict(font=dict(size=14)),\n",
    "            ),\n",
    "            xaxis=dict(\n",
    "                title=dict(font=dict(size=14)),\n",
    "            ),\n",
    "            title=dict(font=dict(size=18)),\n",
    "            legend=dict(\n",
    "                title=dict(text=\"Cluster\", font=dict(size=14)),\n",
    "                font=dict(size=12),\n",
    "                # Always place legend on the right side with one column\n",
    "                orientation=\"v\",\n",
    "                yanchor=\"top\",\n",
    "                y=1,\n",
    "                xanchor=\"left\",\n",
    "                x=1.02,\n",
    "                # Single column\n",
    "                traceorder=\"normal\",\n",
    "            ),\n",
    "            plot_bgcolor=\"white\",\n",
    "            hovermode=\"closest\",\n",
    "            # Adjust margins to make room for the legend\n",
    "            margin=dict(r=150 if num_clusters <= 15 else 200),\n",
    "        )\n",
    "\n",
    "        # Add scrolling to legend if we have many clusters\n",
    "        if num_clusters > 15:\n",
    "            fig.update_layout(\n",
    "                legend=dict(\n",
    "                    # Enable scrolling for large legend sets\n",
    "                    yanchor=\"top\",\n",
    "                    y=1,\n",
    "                    xanchor=\"left\",\n",
    "                    x=1.02,\n",
    "                    bgcolor=\"rgba(255, 255, 255, 0.8)\",\n",
    "                    bordercolor=\"rgba(0, 0, 0, 0.2)\",\n",
    "                    borderwidth=1,\n",
    "                )\n",
    "            )\n",
    "\n",
    "        # Add select/deselect buttons if requested\n",
    "        if show_buttons:\n",
    "            buttons = [\n",
    "                dict(\n",
    "                    args=[{\"visible\": \"legendonly\"}],\n",
    "                    label=\"Deselect All\",\n",
    "                    method=\"restyle\",\n",
    "                ),\n",
    "                dict(\n",
    "                    args=[{\"visible\": True}],\n",
    "                    label=\"Select All\",\n",
    "                    method=\"restyle\",\n",
    "                ),\n",
    "            ]\n",
    "\n",
    "            # Add option to show by proportion size\n",
    "            if sort_clusters and num_clusters > 5:\n",
    "                # Create a \"Show Top 5\" button\n",
    "                visible_list = [\"legendonly\"] * num_clusters\n",
    "                for i in range(min(5, num_clusters)):\n",
    "                    visible_list[i] = True\n",
    "\n",
    "                buttons.append(\n",
    "                    dict(\n",
    "                        args=[{\"visible\": visible_list}],\n",
    "                        label=\"Show Top 5\",\n",
    "                        method=\"restyle\",\n",
    "                    )\n",
    "                )\n",
    "\n",
    "            fig.update_layout(\n",
    "                updatemenus=[\n",
    "                    dict(\n",
    "                        type=\"buttons\",\n",
    "                        direction=\"left\",\n",
    "                        buttons=buttons,\n",
    "                        pad={\"r\": 10, \"t\": 10},\n",
    "                        showactive=False,\n",
    "                        x=1,\n",
    "                        xanchor=\"right\",\n",
    "                        y=1.1,\n",
    "                        yanchor=\"top\",\n",
    "                    ),\n",
    "                ]\n",
    "            )\n",
    "\n",
    "        # Save the figure if requested\n",
    "        if save:\n",
    "            if self.output_dir is None and filename is None:\n",
    "                self.logger.warning(\"Cannot save figure: no output directory or filename specified\")\n",
    "            else:\n",
    "                save_path = self._get_save_path(filename)\n",
    "                try:\n",
    "                    fig.write_html(save_path)\n",
    "                    self.logger.info(f\"Figure saved to {save_path}\")\n",
    "                except Exception as e:\n",
    "                    self.logger.error(f\"Failed to save figure: {e}\")\n",
    "\n",
    "        return fig\n",
    "\n",
    "    def plot_comparison(\n",
    "        self,\n",
    "        clusters_list: List[List[Union[str, int, float]]],\n",
    "        periods: List[Tuple[int, int]],\n",
    "        titles: Optional[List[str]] = None,\n",
    "        figsize: Tuple[int, int] = (12, 8),\n",
    "        proportions_total: Literal[\"total\", \"subset\"] = \"total\",\n",
    "        color_palette: Optional[List[str]] = None,\n",
    "        plot_type: Literal[\"area\", \"line\"] = \"area\",\n",
    "        grid: bool = True,\n",
    "        shared_legend: bool = True,\n",
    "        shared_yaxis: bool = True,\n",
    "        save: bool = False,\n",
    "        filename: Optional[str] = None,\n",
    "    ) -> Figure:\n",
    "        \"\"\"\n",
    "        Create a multi-panel comparison of cluster proportions across different time periods.\n",
    "\n",
    "        Args:\n",
    "            clusters_list: List of cluster ID lists for each subplot (or single list for all)\n",
    "            periods: List of (start_year, end_year) tuples defining each time period\n",
    "            titles: Optional titles for each subplot\n",
    "            figsize: Size of the figure as (width, height) in inches\n",
    "            proportions_total: Whether to calculate proportions relative to \"total\" data or \"subset\" only\n",
    "            color_palette: Custom color palette for the plot\n",
    "            plot_type: \"area\" for stacked area plot or \"line\" for line plot\n",
    "            grid: Whether to display grid lines\n",
    "            shared_legend: Whether to use a single legend for all subplots\n",
    "            shared_yaxis: Whether to use the same y-axis scale for all subplots\n",
    "            save: Whether to save the figure\n",
    "            filename: Custom filename for the saved figure\n",
    "\n",
    "        Returns:\n",
    "            A plotly Figure object\n",
    "\n",
    "        Raises:\n",
    "            ValueError: If input parameters are invalid\n",
    "        \"\"\"\n",
    "        import plotly.subplots as sp\n",
    "\n",
    "        # Validate inputs\n",
    "        if not periods:\n",
    "            raise ValueError(\"periods cannot be empty\")\n",
    "\n",
    "        num_periods = len(periods)\n",
    "\n",
    "        # Handle single cluster list for all periods\n",
    "        if isinstance(clusters_list[0], (str, int, float)) or len(clusters_list) == 1:\n",
    "            clusters_list = [clusters_list] * num_periods\n",
    "        elif len(clusters_list) != num_periods:\n",
    "            raise ValueError(f\"Length of clusters_list ({len(clusters_list)}) must match periods ({num_periods})\")\n",
    "\n",
    "        # Generate default titles if not provided\n",
    "        if titles is None:\n",
    "            titles = [f\"Period {start_year}-{end_year}\" for start_year, end_year in periods]\n",
    "        elif len(titles) != num_periods:\n",
    "            raise ValueError(f\"Length of titles ({len(titles)}) must match periods ({num_periods})\")\n",
    "\n",
    "        # Calculate optimal subplot layout\n",
    "        if num_periods <= 2:\n",
    "            rows, cols = 1, num_periods\n",
    "        else:\n",
    "            cols = min(3, num_periods)\n",
    "            rows = (num_periods + cols - 1) // cols  # Ceiling division\n",
    "\n",
    "        # Create subplot figure\n",
    "        fig = sp.make_subplots(\n",
    "            rows=rows,\n",
    "            cols=cols,\n",
    "            subplot_titles=titles,\n",
    "            shared_yaxes=shared_yaxis,\n",
    "            vertical_spacing=0.1,\n",
    "        )\n",
    "\n",
    "        # Track all unique clusters across all panels for consistent coloring\n",
    "        all_clusters = set()\n",
    "        for cluster_subset in clusters_list:\n",
    "            for cluster in cluster_subset:\n",
    "                if isinstance(cluster, float) and cluster.is_integer():\n",
    "                    all_clusters.add(str(int(cluster)))\n",
    "                else:\n",
    "                    all_clusters.add(str(cluster))\n",
    "\n",
    "        # Get optimized color palette for all clusters\n",
    "        color_map = {}\n",
    "        optimized_colors = self._get_optimized_color_palette(len(all_clusters), color_palette)\n",
    "        for i, cluster in enumerate(sorted(all_clusters)):\n",
    "            # Get the cluster label\n",
    "            label = self.cluster_label_dict.get(cluster, f\"Cluster {cluster}\")\n",
    "            # Assign a color\n",
    "            color_map[label] = optimized_colors[i % len(optimized_colors)]\n",
    "\n",
    "        # Track all traces for shared legend\n",
    "        all_traces = {}\n",
    "\n",
    "        # Create each subplot\n",
    "        for i, (period, cluster_subset) in enumerate(zip(periods, clusters_list)):\n",
    "            # Calculate row and column for this subplot\n",
    "            row = (i // cols) + 1\n",
    "            col = (i % cols) + 1\n",
    "\n",
    "            # Filter data for this period\n",
    "            year_range = period\n",
    "\n",
    "            # Create the individual plot\n",
    "            subfig = self.plot_proportions(\n",
    "                cluster_subset_list=cluster_subset,\n",
    "                figsize=figsize,\n",
    "                proportions_total=proportions_total,\n",
    "                save=False,\n",
    "                color_palette=optimized_colors,  # Use the same palette for consistency\n",
    "                title=None,  # We'll use subplot_titles\n",
    "                show_buttons=False,  # We'll add these to the main figure\n",
    "                year_range=year_range,\n",
    "                plot_type=plot_type,\n",
    "            )\n",
    "\n",
    "            # Extract traces from the subfigure and add to main figure\n",
    "            for trace in subfig.data:\n",
    "                cluster_label = trace.name\n",
    "\n",
    "                # For shared legend, only add unique traces\n",
    "                if shared_legend:\n",
    "                    if cluster_label in all_traces:\n",
    "                        # Add to figure without adding to legend\n",
    "                        trace.showlegend = False\n",
    "                    else:\n",
    "                        # Add to our tracking dict\n",
    "                        all_traces[cluster_label] = True\n",
    "\n",
    "                # Set consistent colors based on cluster label\n",
    "                if cluster_label in color_map:\n",
    "                    trace.marker.color = color_map[cluster_label]\n",
    "                    if hasattr(trace, 'line'):\n",
    "                        trace.line.color = color_map[cluster_label]\n",
    "\n",
    "                # Add the trace to the main figure\n",
    "                fig.add_trace(trace, row=row, col=col)\n",
    "\n",
    "            # Copy layout settings from subfigure\n",
    "            fig.update_xaxes(\n",
    "                title_text=\"Year\" if row == rows else None,\n",
    "                row=row,\n",
    "                col=col,\n",
    "                tickformat=subfig.layout.xaxis.tickformat,\n",
    "            )\n",
    "\n",
    "            # Only add y-axis title to leftmost subplots\n",
    "            if col == 1:\n",
    "                fig.update_yaxes(\n",
    "                    title_text=subfig.layout.yaxis.title.text,\n",
    "                    row=row,\n",
    "                    col=col,\n",
    "                    tickformat='.1%',  # Percentage format\n",
    "                )\n",
    "            else:\n",
    "                fig.update_yaxes(\n",
    "                    tickformat='.1%',  # Percentage format\n",
    "                    row=row,\n",
    "                    col=col,\n",
    "                )\n",
    "\n",
    "            # Add grid if requested\n",
    "            if grid:\n",
    "                fig.update_xaxes(showgrid=True, gridwidth=0.5, gridcolor=\"lightgray\", row=row, col=col)\n",
    "                fig.update_yaxes(showgrid=True, gridwidth=0.5, gridcolor=\"lightgray\", row=row, col=col)\n",
    "\n",
    "        # Update overall figure layout\n",
    "        fig.update_layout(\n",
    "            width=figsize[0] * 100 * cols,\n",
    "            height=figsize[1] * 100 * rows,\n",
    "            title_text=\"Cluster Proportions Comparison\",\n",
    "            plot_bgcolor=\"white\",\n",
    "            hovermode=\"closest\",\n",
    "        )\n",
    "\n",
    "        # For shared legend with many clusters, place at the right\n",
    "        fig.update_layout(\n",
    "            legend=dict(\n",
    "                orientation=\"v\",\n",
    "                yanchor=\"top\",\n",
    "                y=1,\n",
    "                xanchor=\"left\",\n",
    "                x=1.02,\n",
    "                # Add a border for visibility\n",
    "                bgcolor=\"rgba(255, 255, 255, 0.8)\",\n",
    "                bordercolor=\"rgba(0, 0, 0, 0.2)\",\n",
    "                borderwidth=1,\n",
    "            ),\n",
    "            # Adjust margins to make room for the legend\n",
    "            margin=dict(r=150 if len(all_clusters) <= 15 else 200),\n",
    "        )\n",
    "\n",
    "        # Add scrolling to legend if we have many clusters\n",
    "        if len(all_clusters) > 15:\n",
    "            fig.update_layout(\n",
    "                legend=dict(\n",
    "                    # Enable scrolling for large legend sets\n",
    "                    yanchor=\"top\",\n",
    "                    y=1,\n",
    "                    xanchor=\"left\",\n",
    "                    x=1.02,\n",
    "                )\n",
    "            )\n",
    "\n",
    "        # Add buttons for manipulating all traces\n",
    "        if num_periods > 1:\n",
    "            fig.update_layout(\n",
    "                updatemenus=[\n",
    "                    dict(\n",
    "                        type=\"buttons\",\n",
    "                        direction=\"left\",\n",
    "                        buttons=list(\n",
    "                            [\n",
    "                                dict(\n",
    "                                    args=[{\"visible\": \"legendonly\"}],\n",
    "                                    label=\"Deselect All\",\n",
    "                                    method=\"restyle\",\n",
    "                                ),\n",
    "                                dict(\n",
    "                                    args=[{\"visible\": True}],\n",
    "                                    label=\"Select All\",\n",
    "                                    method=\"restyle\",\n",
    "                                ),\n",
    "                            ]\n",
    "                        ),\n",
    "                        pad={\"r\": 10, \"t\": 10},\n",
    "                        showactive=False,\n",
    "                        x=1,\n",
    "                        xanchor=\"right\",\n",
    "                        y=1.05,\n",
    "                        yanchor=\"top\",\n",
    "                    ),\n",
    "                ]\n",
    "            )\n",
    "\n",
    "        # Save the figure if requested\n",
    "        if save:\n",
    "            if self.output_dir is None and filename is None:\n",
    "                self.logger.warning(\"Cannot save figure: no output directory or filename specified\")\n",
    "            else:\n",
    "                save_path = self._get_save_path(filename)\n",
    "                try:\n",
    "                    fig.write_html(save_path)\n",
    "                    self.logger.info(f\"Figure saved to {save_path}\")\n",
    "                except Exception as e:\n",
    "                    self.logger.error(f\"Failed to save figure: {e}\")\n",
    "\n",
    "        return fig\n",
    "\n",
    "    def _get_save_path(self, filename: Optional[str] = None) -> str:\n",
    "        \"\"\"\n",
    "        Get the full path for saving a figure.\n",
    "\n",
    "        Args:\n",
    "            filename: Optional custom filename\n",
    "\n",
    "        Returns:\n",
    "            Path to save the figure\n",
    "\n",
    "        Raises:\n",
    "            ValueError: If no output directory is set and no filename with path is provided\n",
    "        \"\"\"\n",
    "        if filename and Path(filename).is_absolute():\n",
    "            # If an absolute path is provided, use it directly\n",
    "            return filename\n",
    "\n",
    "        if self.output_dir is None:\n",
    "            if filename is None:\n",
    "                raise ValueError(\"No output directory set and no filename provided\")\n",
    "            # Use filename relative to current directory\n",
    "            return filename\n",
    "\n",
    "        # Make sure the output directory exists\n",
    "        self.output_dir.mkdir(parents=True, exist_ok=True)\n",
    "\n",
    "        # Generate default filename if none provided\n",
    "        if filename is None:\n",
    "            # Get the max year from the data for the filename\n",
    "            max_year = self.df[self.year_col].max()\n",
    "            filename = f\"cluster_proportions_{max_year}.html\"\n",
    "\n",
    "        # Return full path\n",
    "        return str(self.output_dir / filename)\n"
   ]
  },
  {
   "cell_type": "code",
   "execution_count": 99,
   "metadata": {},
   "outputs": [],
   "source": [
    "\n",
    "# Create plotter\n",
    "plotter = InteractiveProportionsPlotter(\n",
    "    df=df,\n",
    "    cluster_label_dict=cluster_label_dict,\n",
    "    year_col=\"year\",\n",
    "    cluster_col='cluster_alpha0.3_k10_res0.002',\n",
    "    output_dir=\"./figures\"\n",
    ")\n",
    "\n",
    "# Plot with all clusters, normalized by total\n",
    "fig1 = plotter.plot_proportions(\n",
    "    cluster_subset_list= df['cluster_alpha0.3_k10_res0.002'].unique().tolist(),\n",
    "    figsize=(15, 8),\n",
    "    proportions_total=\"total\",\n",
    "    save=True,\n",
    "    title=\"Distribution of Research Topics Over Time\"\n",
    ")\n",
    "\n",
    "\n",
    "# Plot with subset of clusters, normalized by subset\n",
    "fig_geriatrics = plotter.plot_proportions(\n",
    "    cluster_subset_list=geriatrics_keys,  # Only ML and CV\n",
    "    figsize=(12, 6),\n",
    "    proportions_total=\"total\",\n",
    "    save=True,\n",
    "    filename=\"ml_cv_trends.html\",\n",
    "    color_palette=[\"#1f77b4\", \"#ff7f0e\"]  # Custom colors\n",
    ")\n",
    "\n",
    "\n",
    "# Plot with subset of clusters, normalized by subset\n",
    "fig_geriatrics_subset = plotter.plot_proportions(\n",
    "    cluster_subset_list=geriatrics_keys,  # Only ML and CV\n",
    "    figsize=(12, 6),\n",
    "    proportions_total=\"subset\",\n",
    "    save=True,\n",
    "    filename=\"ml_cv_trends.html\",\n",
    "    color_palette=[\"#1f77b4\", \"#ff7f0e\"]  # Custom colors\n",
    ")\n"
   ]
  },
  {
   "cell_type": "markdown",
   "metadata": {},
   "source": [
    "# Plot all clusters\n"
   ]
  },
  {
   "cell_type": "code",
   "execution_count": 100,
   "metadata": {},
   "outputs": [
    {
     "data": {
      "application/vnd.plotly.v1+json": {
       "config": {
        "plotlyServerURL": "https://plot.ly"
       },
       "data": [
        {
         "fillpattern": {
          "shape": ""
         },
         "hovertemplate": "<b>%{fullData.name}</b><br>Year: %{x}<br>Proportion: %{y:.2%}<extra></extra>",
         "legendgroup": "Aquatic Ecotoxicology",
         "line": {
          "color": "#2de5bb"
         },
         "marker": {
          "symbol": "circle"
         },
         "mode": "lines",
         "name": "Aquatic Ecotoxicology",
         "orientation": "v",
         "showlegend": true,
         "stackgroup": "1",
         "type": "scatter",
         "x": {
          "bdata": "vgcAAL8HAADABwAAwQcAAMIHAADDBwAAxAcAAMUHAADGBwAAxwcAAMgHAADJBwAAygcAAMsHAADMBwAAzQcAAM4HAADPBwAA0AcAANEHAADSBwAA0wcAANQHAADVBwAA1gcAANcHAADYBwAA2QcAANoHAADbBwAA3AcAAN0HAADeBwAA3wcAAOAHAADhBwAA4gcAAOMHAADkBwAA5QcAAOYHAADnBwAA6AcAAOkHAAA=",
          "dtype": "i4"
         },
         "xaxis": "x",
         "y": {
          "bdata": "HMdxHMdxjD/QusEU+ayLPwAAAAAAAAAAAAAAAAAAAAAXaIEWaIGGPwAAAAAAAAAA9waUiSvdez8AAAAAAAAAAAAAAAAAAAAAAAAAAAAAAAALWchCFrKAP+ere6SVyXM/AAAAAAAAAAAAAAAAAAAAAJN2F5in0Go/F2DyFmDyVj/A0Ig6R5FmP2FRARwTFmU/ms/1x8tgVD9GE+CseUZjPyFRiXXeWFI/txOIWZ+2gz/TbGHuNs2GP7Bq/TWx7nw/ZuiA3R5riT9t1Hc26juLP42+SGXovZM/GfhdhsITlT97JCrLy6SWP1s33XsI6JY/iUQikUgkoj/ISmUAydyePxV5dBcnQac/VYtZvw1Lpj+e2Imd2ImtP9+PT9scYqo/mpmZmZmZqT8yAB9BcvawP+KOuCPuiLM/LTx+6x36sD/ByXn4LPmwPymryNC/tLE/JJtffe41sj/bzfIkMg27Pw==",
          "dtype": "f8"
         },
         "yaxis": "y"
        },
        {
         "fillpattern": {
          "shape": ""
         },
         "hovertemplate": "<b>%{fullData.name}</b><br>Year: %{x}<br>Proportion: %{y:.2%}<extra></extra>",
         "legendgroup": "Serotonin Receptor Modulation in SSRI Treatment",
         "line": {
          "color": "#b25e11"
         },
         "marker": {
          "symbol": "circle"
         },
         "mode": "lines",
         "name": "Serotonin Receptor Modulation in SSRI Treatment",
         "orientation": "v",
         "showlegend": true,
         "stackgroup": "1",
         "type": "scatter",
         "x": {
          "bdata": "vgcAAL8HAADABwAAwQcAAMIHAADDBwAAxAcAAMUHAADGBwAAxwcAAMgHAADJBwAAygcAAMsHAADMBwAAzQcAAM4HAADPBwAA0AcAANEHAADSBwAA0wcAANQHAADVBwAA1gcAANcHAADYBwAA2QcAANoHAADbBwAA3AcAAN0HAADeBwAA3wcAAOAHAADhBwAA4gcAAOMHAADkBwAA5QcAAOYHAADnBwAA6AcAAOkHAAA=",
          "dtype": "i4"
         },
         "xaxis": "x",
         "y": {
          "bdata": "5DiO4ziOwz9vMEU+6wbDP8xhDnOYw7w/Hh4eHh4evj8cwiEcwiG8PyJwYxmUCrM/9waUiSvduz+Q+24p9Ce5PxX44uoHHbU/XBfYThlqtT8LWchCFrKwP0B0vrpHWrk/T6WQvuaptD/D2WmZq1C3P966Vlsi+rk/FBQUFBQUtD+OZVAqTLyvP8AxYVEBHLM/XPjVmEgPtD8eHh4eHh6uP59k9ci/X6o/nhLkKUGeoj8or6G8hvKqPzVMR5R+qqQ/W4YO2O2xlj9t1Hc26jubP5jcnB2Gd5s/czZcYuB3mT/s7J6CXVqdP0p8+rWKHpA/ouoOIarukD9Q0Vk7xl2VP8VIeR/fc4Y/6Z2Hg/5DiT9oL6G9hPaCP9+PT9scYoo/MzMzMzMziz/o3DM2qreCP3FH3BF3xH0/DKNy0nTTcj8MJF5KYcxwPymryNC/tGE/cEBYTFLPcD8V+OLqBx1lPw==",
          "dtype": "f8"
         },
         "yaxis": "y"
        },
        {
         "fillpattern": {
          "shape": ""
         },
         "hovertemplate": "<b>%{fullData.name}</b><br>Year: %{x}<br>Proportion: %{y:.2%}<extra></extra>",
         "legendgroup": "Risk of Prenatal Exposure (Rodents)",
         "line": {
          "color": "#664bd8"
         },
         "marker": {
          "symbol": "circle"
         },
         "mode": "lines",
         "name": "Risk of Prenatal Exposure (Rodents)",
         "orientation": "v",
         "showlegend": true,
         "stackgroup": "1",
         "type": "scatter",
         "x": {
          "bdata": "vgcAAL8HAADABwAAwQcAAMIHAADDBwAAxAcAAMUHAADGBwAAxwcAAMgHAADJBwAAygcAAMsHAADMBwAAzQcAAM4HAADPBwAA0AcAANEHAADSBwAA0wcAANQHAADVBwAA1gcAANcHAADYBwAA2QcAANoHAADbBwAA3AcAAN0HAADeBwAA3wcAAOAHAADhBwAA4gcAAOMHAADkBwAA5QcAAOYHAADnBwAA6AcAAOkHAAA=",
          "dtype": "i4"
         },
         "xaxis": "x",
         "y": {
          "bdata": "HMdxHMdxjD8AAAAAAAAAAHCBC1zgApc/AAAAAAAAAAAAAAAAAAAAAJCc5mv17JA/9waUiSvdiz/D7OAIIq2XPyB0VOCLq48/tQojRPYlbz84velNb3qTP+ere6SVyWM/yO7Q9vfYnT9M2Rbj5dddP5N2F5in0Io/FBQUFBQUhD+otjdTHr+DPxL6AaocoW8/Z7fwqzGRfj/eEER3qt2AP2ml6xIW74Y/hhFA+uKFUT/+jYHV3t+IP7Bq/TWx7nw/UCSc0rz4gz9BTK4gJleAP98JgtKzKpE/cHeQEWjVhj9RWV4mtSCEP6zTtm6695A/PlJc4SPFlT+ur5zshr2XP8VIeR/fc5Y/Zv02LFkQlD8apEEapEGaP9l6bkSCVJ8/mpmZmZmZnT9Izh4iMYSaP1PWlDVlTZk/nKoTCY5Bnj8MJF5KYcyQP+7HowaVgo0/9AV9QV/Qhz8V+OLqBx2FPw==",
          "dtype": "f8"
         },
         "yaxis": "y"
        },
        {
         "fillpattern": {
          "shape": ""
         },
         "hovertemplate": "<b>%{fullData.name}</b><br>Year: %{x}<br>Proportion: %{y:.2%}<extra></extra>",
         "legendgroup": "Fluvoxamine for Depression",
         "line": {
          "color": "#41e52d"
         },
         "marker": {
          "symbol": "circle"
         },
         "mode": "lines",
         "name": "Fluvoxamine for Depression",
         "orientation": "v",
         "showlegend": true,
         "stackgroup": "1",
         "type": "scatter",
         "x": {
          "bdata": "vgcAAL8HAADABwAAwQcAAMIHAADDBwAAxAcAAMUHAADGBwAAxwcAAMgHAADJBwAAygcAAMsHAADMBwAAzQcAAM4HAADPBwAA0AcAANEHAADSBwAA0wcAANQHAADVBwAA1gcAANcHAADYBwAA2QcAANoHAADbBwAA3AcAAN0HAADeBwAA3wcAAOAHAADhBwAA4gcAAOMHAADkBwAA5QcAAOYHAADnBwAA6AcAAOkHAAA=",
          "dtype": "i4"
         },
         "xaxis": "x",
         "y": {
          "bdata": "VVVVVVVVtT92gynyWTe4P3CBC1zgAqc/kGsikGsiwD8UO7ETO7GzPyJwYxmUCrM/ysSV7g0osz+SsaiG2cHBPxq2m+VJZKo/si/5AEljtj/IQhaykIW8P0B0vrpHWrk/wol4SUA4sT+CIv6zJumsP8CHFKWSdqc/FafLFKfLpD+QnOZr9eygP6OQQbE2Cpk/ms/1x8tglD9TH+y4hVKPP2ml6xIW75Y/zxQsif3OlD+pS0EHj7qUP7Bq/TWx7ow/dMBuj7UMfT90wG6PtQyNP5jcnB2Gd3s/GfhdhsITdT/CIdPdRtZqP6zTtm6693A/cJ41AedZcz/x8haKBf5yP0TGn1+fCXA/d28UmaTVYT9tdQHCylZHP+ere6SVyWM/mpmZmZmZST810e/y4vRoPwAAAAAAAAAAxJWnOfODVT+72tIN12VWP4s5tmuqm2c/QKt1EMNpRj8V+OLqBx11Pw==",
          "dtype": "f8"
         },
         "yaxis": "y"
        },
        {
         "fillpattern": {
          "shape": ""
         },
         "hovertemplate": "<b>%{fullData.name}</b><br>Year: %{x}<br>Proportion: %{y:.2%}<extra></extra>",
         "legendgroup": "SSRIs Effect on Fear",
         "line": {
          "color": "#b21151"
         },
         "marker": {
          "symbol": "circle"
         },
         "mode": "lines",
         "name": "SSRIs Effect on Fear",
         "orientation": "v",
         "showlegend": true,
         "stackgroup": "1",
         "type": "scatter",
         "x": {
          "bdata": "vgcAAL8HAADABwAAwQcAAMIHAADDBwAAxAcAAMUHAADGBwAAxwcAAMgHAADJBwAAygcAAMsHAADMBwAAzQcAAM4HAADPBwAA0AcAANEHAADSBwAA0wcAANQHAADVBwAA1gcAANcHAADYBwAA2QcAANoHAADbBwAA3AcAAN0HAADeBwAA3wcAAOAHAADhBwAA4gcAAOMHAADkBwAA5QcAAOYHAADnBwAA6AcAAOkHAAA=",
          "dtype": "i4"
         },
         "xaxis": "x",
         "y": {
          "bdata": "VVVVVVVVpT/QusEU+ayLP3CBC1zgAoc/Ecg1Ecg1gT8XaIEWaIGmP5Cc5mv17JA/OQUvp+DllD/D7OAIIq2HPyB0VOCLq58/seaV6rl3kz+96U1vetOLP+ere6SVyYM/8ZKAcCJegj/5IlFq7GGWP8CHFKWSdpc/FBQUFBQUlD/A0Ig6R5GGP7mlAeOXW5o/rbh3kqWOkD+BGrRN54CaP3s6RPqjFJg/nhLkKUGekj9T0MGjLgWNPzVMR5R+qpQ/UCSc0rz4kz9BTK4gJleQP/oilaH3TpA/H3b1J7NYij8Z9aNK7MWQP0p8+rWKHpA/CoVCoVAolD99U6v5bzOSP+crSc+ueI4/Zv02LFkQlD9tdQHCylZ3P9uBuXZgrn0/MzMzMzMzgz8O15GURtZ1P3FH3BF3xH0/aBwNBrQrhD+72tIN12V2P/PV+sTvIYY/EBaT1DMEbD8gdFTgi6t/Pw==",
          "dtype": "f8"
         },
         "yaxis": "y"
        },
        {
         "fillpattern": {
          "shape": ""
         },
         "hovertemplate": "<b>%{fullData.name}</b><br>Year: %{x}<br>Proportion: %{y:.2%}<extra></extra>",
         "legendgroup": "Escitalopram for Depression",
         "line": {
          "color": "#4bacd8"
         },
         "marker": {
          "symbol": "circle"
         },
         "mode": "lines",
         "name": "Escitalopram for Depression",
         "orientation": "v",
         "showlegend": true,
         "stackgroup": "1",
         "type": "scatter",
         "x": {
          "bdata": "vgcAAL8HAADABwAAwQcAAMIHAADDBwAAxAcAAMUHAADGBwAAxwcAAMgHAADJBwAAygcAAMsHAADMBwAAzQcAAM4HAADPBwAA0AcAANEHAADSBwAA0wcAANQHAADVBwAA1gcAANcHAADYBwAA2QcAANoHAADbBwAA3AcAAN0HAADeBwAA3wcAAOAHAADhBwAA4gcAAOMHAADkBwAA5QcAAOYHAADnBwAA6AcAAOkHAAA=",
          "dtype": "i4"
         },
         "xaxis": "x",
         "y": {
          "bdata": "VVVVVVVVtT8AAAAAAAAAAHCBC1zgAqc/Hh4eHh4erj8RDuEQDuGgP5Cc5mv17KA/9waUiSvdez8AAAAAAAAAAAAAAAAAAAAAtQojRPYlbz9kIQtZyEJ2P+ere6SVyXM/8ZKAcCJecj/QR+6t76aCP+6YEbJ9HJQ/Ecg1Ecg1kT/A0Ig6R5GGP2FRARwTFpU/pxX3TrLUkT/kFkp9sOOWPw+8MI5QM5E/SRpgd9RImj8+XNH64sOVPzVMR5R+qpQ/XvyJhFOalz94Nuo7G/WdPyt4UOF25o4/vrlfqqSvkD/eU7BLq4OMPw4rcyfq0JE/2DhpgY2Thj99U6v5bzOSP0fLUt8e3ow/wXgr+xxSgz9xu2HGELeLP+Od5T/ZFYc/mpmZmZmZgT+CxauvGzJ/PzZlTVlT1nQ/fYjcoHE0eD+4UTu7vjKCPymryNC/tIE/cEBYTFLPcD8V+OLqBx1lPw==",
          "dtype": "f8"
         },
         "yaxis": "y"
        },
        {
         "fillpattern": {
          "shape": ""
         },
         "hovertemplate": "<b>%{fullData.name}</b><br>Year: %{x}<br>Proportion: %{y:.2%}<extra></extra>",
         "legendgroup": "Analytical Methods for SSRI Detection and Quantification",
         "line": {
          "color": "#e1e52d"
         },
         "marker": {
          "symbol": "circle"
         },
         "mode": "lines",
         "name": "Analytical Methods for SSRI Detection and Quantification",
         "orientation": "v",
         "showlegend": true,
         "stackgroup": "1",
         "type": "scatter",
         "x": {
          "bdata": "vgcAAL8HAADABwAAwQcAAMIHAADDBwAAxAcAAMUHAADGBwAAxwcAAMgHAADJBwAAygcAAMsHAADMBwAAzQcAAM4HAADPBwAA0AcAANEHAADSBwAA0wcAANQHAADVBwAA1gcAANcHAADYBwAA2QcAANoHAADbBwAA3AcAAN0HAADeBwAA3wcAAOAHAADhBwAA4gcAAOMHAADkBwAA5QcAAOYHAADnBwAA6AcAAOkHAAA=",
          "dtype": "i4"
         },
         "xaxis": "x",
         "y": {
          "bdata": "HMdxHMdxjD8AAAAAAAAAAHCBC1zgAoc/Ecg1Ecg1gT8XaIEWaIGGPwAAAAAAAAAA9waUiSvdez/D7OAIIq13PyB0VOCLq48/CEgas3hchz9kIQtZyEKWP+GWmg37u4g/T6WQvuaplD9M2Rbj5deNP8CHFKWSdoc/F2DyFmDylj+cKY/fCVaSPxL6AaocoY8/pxX3TrLUoT9MGeayf0yZP4ZxhJqJoKA/hhFA+uKFoT+TnhHJMumZP+GmxuEq5ps/cUrz4k8knD9icgUxuYKoP0aRY7C6Cp4/bbjEwO8ypD8Z9aNK7MWgP0p8+rWKHqA/vRE80RvBoz896tCQXqefP0fLUt8e3pw/gCiDT0q4oD8WXuEVXuGlP9l6bkSCVJ8/MzMzMzMzmz9by01RfxOcP2VNWVPWlKU/5LfeoQ+Rmz8SNo3vkTKZP/FOz2VC0pk/d8QdcUfcoT8gdFTgi6ufPw==",
          "dtype": "f8"
         },
         "yaxis": "y"
        },
        {
         "fillpattern": {
          "shape": ""
         },
         "hovertemplate": "<b>%{fullData.name}</b><br>Year: %{x}<br>Proportion: %{y:.2%}<extra></extra>",
         "legendgroup": "SSRIs for Pain",
         "line": {
          "color": "#8611b2"
         },
         "marker": {
          "symbol": "circle"
         },
         "mode": "lines",
         "name": "SSRIs for Pain",
         "orientation": "v",
         "showlegend": true,
         "stackgroup": "1",
         "type": "scatter",
         "x": {
          "bdata": "vgcAAL8HAADABwAAwQcAAMIHAADDBwAAxAcAAMUHAADGBwAAxwcAAMgHAADJBwAAygcAAMsHAADMBwAAzQcAAM4HAADPBwAA0AcAANEHAADSBwAA0wcAANQHAADVBwAA1gcAANcHAADYBwAA2QcAANoHAADbBwAA3AcAAN0HAADeBwAA3wcAAOAHAADhBwAA4gcAAOMHAADkBwAA5QcAAOYHAADnBwAA6AcAAOkHAAA=",
          "dtype": "i4"
         },
         "xaxis": "x",
         "y": {
          "bdata": "HMdxHMdxnD8AAAAAAAAAAHCBC1zgApc/GqzQGazQqT8XaIEWaIGGP5Cc5mv17KA/9waUiSvdez/D7OAIIq2HPyB0VOCLq48/CEgas3hchz+96U1vetOLP+ere6SVyXM/atzAqDONiz9M2Rbj5dd9PxyqDr9owoA/F2DyFmDyhj/A0Ig6R5GGPzUngbhQc5I/Z7fwqzGRjj9GE+CseUaDP7H5TbBNhYs/SRpgd9RIij9T0MGjLgWNP/c8bENliJA/STilefEnkj9BTK4gJleQPwVB6VmVCIg/dvUns1gajD81J4G4UHOSP89JfPq1io4/PNEbwRO9kT9qbCJPCH2MP0TGn1+fCZA/M6ee5XbAij9tdQHCylaHP9+PT9scYoo/MzMzMzMziz/72WJl+EaEP9aUNWVNWYM/DKNy0nTTgj9mCLB+NMyHP1pyPx41qHQ/JJtffe41gj8V+OLqBx11Pw==",
          "dtype": "f8"
         },
         "yaxis": "y"
        },
        {
         "fillpattern": {
          "shape": ""
         },
         "hovertemplate": "<b>%{fullData.name}</b><br>Year: %{x}<br>Proportion: %{y:.2%}<extra></extra>",
         "legendgroup": "SSRIs for Weight Management",
         "line": {
          "color": "#4bd889"
         },
         "marker": {
          "symbol": "circle"
         },
         "mode": "lines",
         "name": "SSRIs for Weight Management",
         "orientation": "v",
         "showlegend": true,
         "stackgroup": "1",
         "type": "scatter",
         "x": {
          "bdata": "vgcAAL8HAADABwAAwQcAAMIHAADDBwAAxAcAAMUHAADGBwAAxwcAAMgHAADJBwAAygcAAMsHAADMBwAAzQcAAM4HAADPBwAA0AcAANEHAADSBwAA0wcAANQHAADVBwAA1gcAANcHAADYBwAA2QcAANoHAADbBwAA3AcAAN0HAADeBwAA3wcAAOAHAADhBwAA4gcAAOMHAADkBwAA5QcAAOYHAADnBwAA6AcAAOkHAAA=",
          "dtype": "i4"
         },
         "xaxis": "x",
         "y": {
          "bdata": "HMdxHMdxjD8AAAAAAAAAAAAAAAAAAAAAEcg1Ecg1kT8XaIEWaIGWP/yR03ytnq0/GIZhGIZhqD+SsaiG2cGhPxX44uoHHaU/XqmeezdBmz/Tm970pjetP2QhC1nIQqY/rbegDKv1lj9ktR8MboSUP5N2F5in0Jo/IESNH0SNjz/wBCsJmTWMPxL6AaocoY8/oHJ2C78akz9GE+CseUaDP/0m2KbCDZA/txOIWZ+2gz/TbGHuNs2GP7Bq/TWx7ow/VxCTK4jJhT9t1Hc26juLP6jXWzQs4oI/x/bCnA2XeD9RWV4mtSB0P89JfPq1in4/cJ41AedZgz+ur5zshr2HP8VIeR/fc3Y/VYtZvw1Lhj8SGIERGIGBP+ere6SVyYM/ZmZmZmZmdj810e/y4vRoP/QFfUFf0Hc/xJWnOfODdT9jfxgsHJmDP+7HowaVgm0/EBaT1DMEfD8atpvlSWSKPw==",
          "dtype": "f8"
         },
         "yaxis": "y"
        },
        {
         "fillpattern": {
          "shape": ""
         },
         "hovertemplate": "<b>%{fullData.name}</b><br>Year: %{x}<br>Proportion: %{y:.2%}<extra></extra>",
         "legendgroup": "Paroxetine Binding to Serotonin Transporter",
         "line": {
          "color": "#e5482d"
         },
         "marker": {
          "symbol": "circle"
         },
         "mode": "lines",
         "name": "Paroxetine Binding to Serotonin Transporter",
         "orientation": "v",
         "showlegend": true,
         "stackgroup": "1",
         "type": "scatter",
         "x": {
          "bdata": "vgcAAL8HAADABwAAwQcAAMIHAADDBwAAxAcAAMUHAADGBwAAxwcAAMgHAADJBwAAygcAAMsHAADMBwAAzQcAAM4HAADPBwAA0AcAANEHAADSBwAA0wcAANQHAADVBwAA1gcAANcHAADYBwAA2QcAANoHAADbBwAA3AcAAN0HAADeBwAA3wcAAOAHAADhBwAA4gcAAOMHAADkBwAA5QcAAOYHAADnBwAA6AcAAOkHAAA=",
          "dtype": "i4"
         },
         "xaxis": "x",
         "y": {
          "bdata": "HMdxHMdxnD/QusEU+ayrP3CBC1zgArc/Ecg1Ecg1oT8RDuEQDuGwPyJwYxmUCsM/W4T8NTtqwT+SsaiG2cGxPxKZhu1mecI/tQojRPYlrz/Tm970pjetP2o27O9iULE/O9O4gVFnqj/QR+6t76aiP4UhkDhzb6I/Ecg1Ecg1oT/A0Ig6R5GWP6OQQbE2Cpk/jYn0QOXslj+vFXziSK+FP7H5TbBNhYs/SRpgd9RIij/+jYHV3t94P8YAo5frkJE/dMBuj7UMfT9JOKV58SdyPwVB6VmVCHg/dvUns1gaTD9RWV4mtSB0P0bsihf3JVs/cJ41AedZYz+X7nMNslJZPwYKZv/+qEk/n5RwIYbHRz8SGIERGIFhP9+PT9scYko/MzMzMzMzYz810e/y4vRIP/QFfUFf0Ec/AAAAAAAAAAAAAAAAAAAAAIs5tmuqm1c/QKt1EMNpRj8AAAAAAAAAAA==",
          "dtype": "f8"
         },
         "yaxis": "y"
        },
        {
         "fillpattern": {
          "shape": ""
         },
         "hovertemplate": "<b>%{fullData.name}</b><br>Year: %{x}<br>Proportion: %{y:.2%}<extra></extra>",
         "legendgroup": "Oncopreventive and Oncolytic Properties of SSRIs",
         "line": {
          "color": "#1129b2"
         },
         "marker": {
          "symbol": "circle"
         },
         "mode": "lines",
         "name": "Oncopreventive and Oncolytic Properties of SSRIs",
         "orientation": "v",
         "showlegend": true,
         "stackgroup": "1",
         "type": "scatter",
         "x": {
          "bdata": "vgcAAL8HAADABwAAwQcAAMIHAADDBwAAxAcAAMUHAADGBwAAxwcAAMgHAADJBwAAygcAAMsHAADMBwAAzQcAAM4HAADPBwAA0AcAANEHAADSBwAA0wcAANQHAADVBwAA1gcAANcHAADYBwAA2QcAANoHAADbBwAA3AcAAN0HAADeBwAA3wcAAOAHAADhBwAA4gcAAOMHAADkBwAA5QcAAOYHAADnBwAA6AcAAOkHAAA=",
          "dtype": "i4"
         },
         "xaxis": "x",
         "y": {
          "bdata": "HMdxHMdxjD8AAAAAAAAAAAAAAAAAAAAAAAAAAAAAAAAAAAAAAAAAAAAAAAAAAAAAAAAAAAAAAAAAAAAAAAAAAAAAAAAAAAAAAAAAAAAAAABkIQtZyEJ2P+ere6SVyWM/AAAAAAAAAAD5IlFq7GF2P5N2F5in0Go/Ecg1Ecg1cT/wBCsJmTV8P2FRARwTFnU/gUPzuf54eT8YGBgYGBh4PyFRiXXeWGI/hhFA+uKFgT9UCQE5P5VwP3JbIuWXzHg/STilefEngj9XEJMriMllP98JgtKzKoE/cHeQEWjVhj81J4G4UHOCP6zTtm6695A/QNOcATTNeT9qbCJPCH18P2apbw9vDog/x7nMqWe5jT/DjCFuN8yIP+ere6SVyZM/mpmZmZmZkT+CxauvGzKPP1PWlDVlTYk/Sufgoq3tjj+QcUHGBRmXP1pyPx41qJQ/asMW7YG3nD8gdFTgi6uPPw==",
          "dtype": "f8"
         },
         "yaxis": "y"
        },
        {
         "fillpattern": {
          "shape": ""
         },
         "hovertemplate": "<b>%{fullData.name}</b><br>Year: %{x}<br>Proportion: %{y:.2%}<extra></extra>",
         "legendgroup": "Pharmacological Reviews",
         "line": {
          "color": "#89d84b"
         },
         "marker": {
          "symbol": "circle"
         },
         "mode": "lines",
         "name": "Pharmacological Reviews",
         "orientation": "v",
         "showlegend": true,
         "stackgroup": "1",
         "type": "scatter",
         "x": {
          "bdata": "vgcAAL8HAADABwAAwQcAAMIHAADDBwAAxAcAAMUHAADGBwAAxwcAAMgHAADJBwAAygcAAMsHAADMBwAAzQcAAM4HAADPBwAA0AcAANEHAADSBwAA0wcAANQHAADVBwAA1gcAANcHAADYBwAA2QcAANoHAADbBwAA3AcAAN0HAADeBwAA3wcAAOAHAADhBwAA4gcAAOMHAADkBwAA5QcAAOYHAADnBwAA6AcAAOkHAAA=",
          "dtype": "i4"
         },
         "xaxis": "x",
         "y": {
          "bdata": "HMdxHMdxjD/QusEU+aybP8xhDnOYw6w/FjqDFTqDpT8XaIEWaIGGP5Cc5mv17JA/GIZhGIZhqD/D7OAIIq2HPxX44uoHHXU/AAAAAAAAAAC96U1vetObP6Zmw/4uBqU/yO7Q9vfYnT9ktR8MboSkP9Blz/vtmKE/F2DyFmDylj/A0Ig6R5GWP7mlAeOXW5o/YRRwaD7Xnz+vFXziSK+VP0V7OkT6o4Q/txOIWZ+2gz/+jYHV3t+IP5bE2etxmYI/dMBuj7UMjT9BTK4gJleAP84Ow7sNwIk/avn4b3eQgT/6hY25DzF+P6zTtm6693A/2DhpgY2Tdj896tCQXqd/P4WHjD+/PmM/d28UmaTVcT8SGIERGIFxP+Od5T/ZFXc/AAAAAAAAcD810e/y4vRIP3FH3BF3xG0/xJWnOfODZT+72tIN12VGPymryNC/tGE/cEBYTFLPYD8AAAAAAAAAAA==",
          "dtype": "f8"
         },
         "yaxis": "y"
        },
        {
         "fillpattern": {
          "shape": ""
         },
         "hovertemplate": "<b>%{fullData.name}</b><br>Year: %{x}<br>Proportion: %{y:.2%}<extra></extra>",
         "legendgroup": "Risk of Prenatal Exposure",
         "line": {
          "color": "#e52db4"
         },
         "marker": {
          "symbol": "circle"
         },
         "mode": "lines",
         "name": "Risk of Prenatal Exposure",
         "orientation": "v",
         "showlegend": true,
         "stackgroup": "1",
         "type": "scatter",
         "x": {
          "bdata": "vgcAAL8HAADABwAAwQcAAMIHAADDBwAAxAcAAMUHAADGBwAAxwcAAMgHAADJBwAAygcAAMsHAADMBwAAzQcAAM4HAADPBwAA0AcAANEHAADSBwAA0wcAANQHAADVBwAA1gcAANcHAADYBwAA2QcAANoHAADbBwAA3AcAAN0HAADeBwAA3wcAAOAHAADhBwAA4gcAAOMHAADkBwAA5QcAAOYHAADnBwAA6AcAAOkHAAA=",
          "dtype": "i4"
         },
         "xaxis": "x",
         "y": {
          "bdata": "HMdxHMdxjD8AAAAAAAAAAAAAAAAAAAAAAAAAAAAAAAAAAAAAAAAAAAAAAAAAAAAA9waUiSvdez8AAAAAAAAAAAAAAAAAAAAAAAAAAAAAAABkIQtZyEJmP9uBuXZgro0/8ZKAcCJeYj9M2Rbj5dd9PxyqDr9owoA/HfiuHPiujD+otjdTHr+TP2FRARwTFpU/jYn0QOXslj+BGrRN54CKPw+8MI5QM5E/GBgYGBgYiD/TbGHuNs2WP3JbIuWXzJg/YnIFMbmCmD9Umhd/IuGUPztzD/gcUZY/czZcYuB3mT+l7/Vv4iiZP13/FEtSZKE/PNEbwRO9oT8gYrji5S2kP5f7Tddmq50/wXgr+xxSoz/sY+lAuT6mPyXjneU/2aU/AAAAAAAAoj/72WJl+EakPzDoC/qCvqA/+SOuPM2Znz+T+tgYHkybPymryNC/tKE/Hh4eHh4enj8dFfji6gedPw==",
          "dtype": "f8"
         },
         "yaxis": "y"
        },
        {
         "fillpattern": {
          "shape": ""
         },
         "hovertemplate": "<b>%{fullData.name}</b><br>Year: %{x}<br>Proportion: %{y:.2%}<extra></extra>",
         "legendgroup": "SSRIs Effect on Sleep",
         "line": {
          "color": "#11b2ae"
         },
         "marker": {
          "symbol": "circle"
         },
         "mode": "lines",
         "name": "SSRIs Effect on Sleep",
         "orientation": "v",
         "showlegend": true,
         "stackgroup": "1",
         "type": "scatter",
         "x": {
          "bdata": "vgcAAL8HAADABwAAwQcAAMIHAADDBwAAxAcAAMUHAADGBwAAxwcAAMgHAADJBwAAygcAAMsHAADMBwAAzQcAAM4HAADPBwAA0AcAANEHAADSBwAA0wcAANQHAADVBwAA1gcAANcHAADYBwAA2QcAANoHAADbBwAA3AcAAN0HAADeBwAA3wcAAOAHAADhBwAA4gcAAOMHAADkBwAA5QcAAOYHAADnBwAA6AcAAOkHAAA=",
          "dtype": "i4"
         },
         "xaxis": "x",
         "y": {
          "bdata": "HMdxHMdxjD/QusEU+aybP3CBC1zgAoc/Ecg1Ecg1gT8XaIEWaIGGP/yR03ytnq0/9waUiSvdmz+SsaiG2cGRPyB0VOCLq58/CEgas3hclz9kIQtZyEKGP+GWmg37u4g/k4BwIl4SkD/5IlFq7GGGP+6YEbJ9HIQ/F2DyFmDyhj+QnOZr9eyAP7mlAeOXW4o/ms/1x8tglD8YGBgYGBh4P9Yj/35p0I0/qh7wNU2qfj+pS0EHj7p0PxHjj42k3Yo/STilefEngj9m6IDdHmt5P3KlNZakmXQ/cHeQEWjVhj/eU7BLq4OMP89JfPq1in4/PNEbwRO9gT+BLUsu3eeKP0fLUt8e3nw/LWb9NixZgD/I0oFyfSx9P+u5EQlSfYA/zczMzMzMhD810e/y4vR4P9aUNWVNWYM/aBwNBrQrhD9jfxgsHJlzP+7HowaVgn0/qGCEcvs2eT8V+OLqBx11Pw==",
          "dtype": "f8"
         },
         "yaxis": "y"
        },
        {
         "fillpattern": {
          "shape": ""
         },
         "hovertemplate": "<b>%{fullData.name}</b><br>Year: %{x}<br>Proportion: %{y:.2%}<extra></extra>",
         "legendgroup": "SSRI Effects on Lactation",
         "line": {
          "color": "#d8ac4b"
         },
         "marker": {
          "symbol": "circle"
         },
         "mode": "lines",
         "name": "SSRI Effects on Lactation",
         "orientation": "v",
         "showlegend": true,
         "stackgroup": "1",
         "type": "scatter",
         "x": {
          "bdata": "vgcAAL8HAADABwAAwQcAAMIHAADDBwAAxAcAAMUHAADGBwAAxwcAAMgHAADJBwAAygcAAMsHAADMBwAAzQcAAM4HAADPBwAA0AcAANEHAADSBwAA0wcAANQHAADVBwAA1gcAANcHAADYBwAA2QcAANoHAADbBwAA3AcAAN0HAADeBwAA3wcAAOAHAADhBwAA4gcAAOMHAADkBwAA5QcAAOYHAADnBwAA6AcAAOkHAAA=",
          "dtype": "i4"
         },
         "xaxis": "x",
         "y": {
          "bdata": "VVVVVVVVtT/CFPmsG0zBPxShCEUoQqE/Hh4eHh4erj8RDuEQDuGgP7RD4MYyKKU/9waUiSvdiz/0JxmLapidPxX44uoHHYU/XqmeezdBmz8LWchCFrKQP+GWmg37u4g/rbegDKv1hj8j/rMm6RyKP2VlGou8Ko4/E+6kEu6kkj/wBCsJmTWMPxL6AaocoY8/jYn0QOXshj9TH+y4hVKPP9Yj/35p0I0/bhCcyoRtkD998eGK1hePPxHjj42k3Yo/UCSc0rz4gz9QJJzSvPiDP98JgtKzKoE/JfSMyaOdfz/CIdPdRtaKP76OmTQ4wYc/CAQCgUAggD8ItD9p2miBP8VIeR/fc3Y/M6ee5XbAej8SGIERGIFxP9+PT9scYno/ZmZmZmZmdj/o3DM2qrdiP/QFfUFf0Gc/U7A9a/YicD+72tIN12VGP4s5tmuqm0c/QKt1EMNpRj8AAAAAAAAAAA==",
          "dtype": "f8"
         },
         "yaxis": "y"
        },
        {
         "fillpattern": {
          "shape": ""
         },
         "hovertemplate": "<b>%{fullData.name}</b><br>Year: %{x}<br>Proportion: %{y:.2%}<extra></extra>",
         "legendgroup": "SSRIs for Depression in Diabetes Patients",
         "line": {
          "color": "#762de5"
         },
         "marker": {
          "symbol": "circle"
         },
         "mode": "lines",
         "name": "SSRIs for Depression in Diabetes Patients",
         "orientation": "v",
         "showlegend": true,
         "stackgroup": "1",
         "type": "scatter",
         "x": {
          "bdata": "vgcAAL8HAADABwAAwQcAAMIHAADDBwAAxAcAAMUHAADGBwAAxwcAAMgHAADJBwAAygcAAMsHAADMBwAAzQcAAM4HAADPBwAA0AcAANEHAADSBwAA0wcAANQHAADVBwAA1gcAANcHAADYBwAA2QcAANoHAADbBwAA3AcAAN0HAADeBwAA3wcAAOAHAADhBwAA4gcAAOMHAADkBwAA5QcAAOYHAADnBwAA6AcAAOkHAAA=",
          "dtype": "i4"
         },
         "xaxis": "x",
         "y": {
          "bdata": "HMdxHMdxjD8AAAAAAAAAAAAAAAAAAAAAAAAAAAAAAAAXaIEWaIGGPwAAAAAAAAAAAAAAAAAAAADD7OAIIq13PwAAAAAAAAAAtQojRPYlbz+96U1vetOLPwAAAAAAAAAA8ZKAcCJecj9M2Rbj5dd9P5N2F5in0Fo/F2DyFmDyZj/A0Ig6R5FmPzUngbhQc4I/ms/1x8tgdD8YGBgYGBh4PyFRiXXeWGI/hhFA+uKFcT9T0MGjLgV9P/c8bENliIA/QUyuICZXgD9m6IDdHmt5Pyt4UOF25n4/dvUns1gafD9RWV4mtSCEP/nfIMPYDoY/pGtPQbr2hD+TFNTYRJ6QP+crSc+ueI4/x7nMqWe5jT+9I5FnzjuSP9+PT9scYoo/ZmZmZmZmjj810e/y4vSIP3fEHXFH3IE/7m1Gb26VjT8PrfWcef+EP4s5tmuqm3c/jFBu3yYDhT8V+OLqBx1lPw==",
          "dtype": "f8"
         },
         "yaxis": "y"
        },
        {
         "fillpattern": {
          "shape": ""
         },
         "hovertemplate": "<b>%{fullData.name}</b><br>Year: %{x}<br>Proportion: %{y:.2%}<extra></extra>",
         "legendgroup": "SSRIs for Depression with Cognitive Impairment",
         "line": {
          "color": "#11b222"
         },
         "marker": {
          "symbol": "circle"
         },
         "mode": "lines",
         "name": "SSRIs for Depression with Cognitive Impairment",
         "orientation": "v",
         "showlegend": true,
         "stackgroup": "1",
         "type": "scatter",
         "x": {
          "bdata": "vgcAAL8HAADABwAAwQcAAMIHAADDBwAAxAcAAMUHAADGBwAAxwcAAMgHAADJBwAAygcAAMsHAADMBwAAzQcAAM4HAADPBwAA0AcAANEHAADSBwAA0wcAANQHAADVBwAA1gcAANcHAADYBwAA2QcAANoHAADbBwAA3AcAAN0HAADeBwAA3wcAAOAHAADhBwAA4gcAAOMHAADkBwAA5QcAAOYHAADnBwAA6AcAAOkHAAA=",
          "dtype": "i4"
         },
         "xaxis": "x",
         "y": {
          "bdata": "HMdxHMdxrD8cTJHPusG0P3CBC1zgAqc/Ecg1Ecg1oT8RDuEQDuGgP9jq2SFwY5k/GIZhGIZhqD+SsaiG2cGRPxX44uoHHXU/tQojRPYlbz8LWchCFrKAP+ere6SVyXM/rbegDKv1hj872rxPccmQP8CHFKWSdoc/HfiuHPiufD/A0Ig6R5F2PxL6AaocoW8/Z7fwqzGRfj8YGBgYGBh4P9Yj/35p0I0/SRpgd9RIij9T0MGjLgV9P9TTtDyLu4Y/VxCTK4jJhT9QJJzSvPiDP3KlNZakmXQ/JfSMyaOdfz/6hY25DzF+P89JfPq1in4/2DhpgY2Thj+X7nMNslJ5P8VIeR/fc4Y/EcPjC+A1jz8SGIERGIFxP+u5EQlSfYA/mpmZmZmZgT/o3DM2qreCP3FH3BF3xG0/fYjcoHE0eD9jfxgsHJlzP4s5tmuqm2c/eMuhNmzRfj8V+OLqBx11Pw==",
          "dtype": "f8"
         },
         "yaxis": "y"
        },
        {
         "fillpattern": {
          "shape": ""
         },
         "hovertemplate": "<b>%{fullData.name}</b><br>Year: %{x}<br>Proportion: %{y:.2%}<extra></extra>",
         "legendgroup": "QTC Prolongation",
         "line": {
          "color": "#d84b66"
         },
         "marker": {
          "symbol": "circle"
         },
         "mode": "lines",
         "name": "QTC Prolongation",
         "orientation": "v",
         "showlegend": true,
         "stackgroup": "1",
         "type": "scatter",
         "x": {
          "bdata": "vgcAAL8HAADABwAAwQcAAMIHAADDBwAAxAcAAMUHAADGBwAAxwcAAMgHAADJBwAAygcAAMsHAADMBwAAzQcAAM4HAADPBwAA0AcAANEHAADSBwAA0wcAANQHAADVBwAA1gcAANcHAADYBwAA2QcAANoHAADbBwAA3AcAAN0HAADeBwAA3wcAAOAHAADhBwAA4gcAAOMHAADkBwAA5QcAAOYHAADnBwAA6AcAAOkHAAA=",
          "dtype": "i4"
         },
         "xaxis": "x",
         "y": {
          "bdata": "HMdxHMdxjD/QusEU+aybP3CBC1zgAoc/Ecg1Ecg1gT8RDuEQDuGgP5Cc5mv17IA/9waUiSvdez/D7OAIIq13PxX44uoHHXU/CEgas3hchz9kIQtZyEJ2P+GWmg37u4g/8ZKAcCJecj9M2Rbj5dd9P5N2F5in0Go/FBQUFBQUhD+otjdTHr+DPxL6AaocoX8/Z7fwqzGRbj8YGBgYGBiIP7H5TbBNhWs/hhFA+uKFgT9UCQE5P5WAP/c8bENliIA/dMBuj7UMfT90wG6PtQxtP3KlNZakmYQ/GfhdhsITdT+l7/Vv4iiJP0bsihf3JXs/2DhpgY2Thj+BLUsu3eeKPwYKZv/+qIk/C4JCXZXOhD9tdQHCylaHP+Od5T/ZFYc/mpmZmZmZgT810e/y4vR4P/QFfUFf0Hc/xJWnOfODdT++Y2pg75iKP1pyPx41qIQ/cEBYTFLPgD8gdFTgi6t/Pw==",
          "dtype": "f8"
         },
         "yaxis": "y"
        },
        {
         "fillpattern": {
          "shape": ""
         },
         "hovertemplate": "<b>%{fullData.name}</b><br>Year: %{x}<br>Proportion: %{y:.2%}<extra></extra>",
         "legendgroup": "Extrapyramidal Reactions Risk",
         "line": {
          "color": "#2d86e5"
         },
         "marker": {
          "symbol": "circle"
         },
         "mode": "lines",
         "name": "Extrapyramidal Reactions Risk",
         "orientation": "v",
         "showlegend": true,
         "stackgroup": "1",
         "type": "scatter",
         "x": {
          "bdata": "vgcAAL8HAADABwAAwQcAAMIHAADDBwAAxAcAAMUHAADGBwAAxwcAAMgHAADJBwAAygcAAMsHAADMBwAAzQcAAM4HAADPBwAA0AcAANEHAADSBwAA0wcAANQHAADVBwAA1gcAANcHAADYBwAA2QcAANoHAADbBwAA3AcAAN0HAADeBwAA3wcAAOAHAADhBwAA4gcAAOMHAADkBwAA5QcAAOYHAADnBwAA6AcAAOkHAAA=",
          "dtype": "i4"
         },
         "xaxis": "x",
         "y": {
          "bdata": "HMdxHMdxjD/QusEU+ayLPwAAAAAAAAAAAAAAAAAAAAAXaIEWaIGGPwAAAAAAAAAAAAAAAAAAAADD7OAIIq13PwAAAAAAAAAAtQojRPYlbz9kIQtZyEKGP+ere6SVyYM/8ZKAcCJekj/QR+6t76aCP5N2F5in0Io/HfiuHPiufD/A0Ig6R5GGPxL6AaocoX8/ms/1x8tgdD8YGBgYGBiIP/0m2KbCDYA/5xXQuFvnhT9UCQE5P5WAP5bE2etxmYI/VxCTK4jJhT9m6IDdHmuJPyt4UOF25n4/GfhdhsIThT+JvRgCfnt3P89JfPq1in4/cJ41AedZYz/EcMXLWyh2P+Qmlk8vpIE/VYtZvw1Lhj/I0oFyfSx9P+ere6SVyYM/mpmZmZmZiT9by01RfxN8PzZlTVlT1oQ/NnsRCPDkej8SNo3vkTJ5P8EOhHd6LoM/jFBu3yYDhT8SmYbtZnmSPw==",
          "dtype": "f8"
         },
         "yaxis": "y"
        },
        {
         "fillpattern": {
          "shape": ""
         },
         "hovertemplate": "<b>%{fullData.name}</b><br>Year: %{x}<br>Proportion: %{y:.2%}<extra></extra>",
         "legendgroup": "SSRIs for Irritable Bowel Syndrome",
         "line": {
          "color": "#8eb211"
         },
         "marker": {
          "symbol": "circle"
         },
         "mode": "lines",
         "name": "SSRIs for Irritable Bowel Syndrome",
         "orientation": "v",
         "showlegend": true,
         "stackgroup": "1",
         "type": "scatter",
         "x": {
          "bdata": "vgcAAL8HAADABwAAwQcAAMIHAADDBwAAxAcAAMUHAADGBwAAxwcAAMgHAADJBwAAygcAAMsHAADMBwAAzQcAAM4HAADPBwAA0AcAANEHAADSBwAA0wcAANQHAADVBwAA1gcAANcHAADYBwAA2QcAANoHAADbBwAA3AcAAN0HAADeBwAA3wcAAOAHAADhBwAA4gcAAOMHAADkBwAA5QcAAOYHAADnBwAA6AcAAOkHAAA=",
          "dtype": "i4"
         },
         "xaxis": "x",
         "y": {
          "bdata": "HMdxHMdxnD8AAAAAAAAAABShCEUoQqE/AAAAAAAAAAAXaIEWaIGWPwAAAAAAAAAA9waUiSvdiz/D7OAIIq13PxX44uoHHXU/tQojRPYlbz9kIQtZyEJ2P9uBuXZgrn0/rbegDKv1hj9M2Rbj5dd9P5N2F5in0Ho/Ecg1Ecg1cT/A0Ig6R5F2PxL6AaocoW8/Z7fwqzGRbj9GE+CseUZjP/0m2KbCDYA/nhLkKUGekj+pS0EHj7qEP3JbIuWXzHg/VxCTK4jJhT9t1Hc26juLPwVB6VmVCIg/wXgr+xxSgz+l7/Vv4iiJP76OmTQ4wYc/CAQCgUAggD896tCQXqd/PwYKZv/+qIk/n5RwIYbHdz+/RsFp8WuEP+ere6SVyYM/ZmZmZmZmdj9by01RfxN8P/QFfUFf0Hc/aBwNBrQrhD8SNo3vkTJ5P5BHDSoFO4A/eMuhNmzRfj8gdFTgi6uPPw==",
          "dtype": "f8"
         },
         "yaxis": "y"
        },
        {
         "fillpattern": {
          "shape": ""
         },
         "hovertemplate": "<b>%{fullData.name}</b><br>Year: %{x}<br>Proportion: %{y:.2%}<extra></extra>",
         "legendgroup": "SSRIs and the Cytochrome P450 System",
         "line": {
          "color": "#cf4bd8"
         },
         "marker": {
          "symbol": "circle"
         },
         "mode": "lines",
         "name": "SSRIs and the Cytochrome P450 System",
         "orientation": "v",
         "showlegend": true,
         "stackgroup": "1",
         "type": "scatter",
         "x": {
          "bdata": "vgcAAL8HAADABwAAwQcAAMIHAADDBwAAxAcAAMUHAADGBwAAxwcAAMgHAADJBwAAygcAAMsHAADMBwAAzQcAAM4HAADPBwAA0AcAANEHAADSBwAA0wcAANQHAADVBwAA1gcAANcHAADYBwAA2QcAANoHAADbBwAA3AcAAN0HAADeBwAA3wcAAOAHAADhBwAA4gcAAOMHAADkBwAA5QcAAOYHAADnBwAA6AcAAOkHAAA=",
          "dtype": "i4"
         },
         "xaxis": "x",
         "y": {
          "bdata": "HMdxHMdxjD/QusEU+aybPxShCEUoQqE/Ecg1Ecg1gT8XaIEWaIGWP5Cc5mv17IA/9waUiSvdiz8rz8THfbekPxX44uoHHYU/XqmeezdBqz+nN73pTW+qP6BR4meU+Kk/IJyIlwSEoz+CIv6zJumsP7CpWU43VK0/ElvtEVvtsT9SpAXo5a6oP3HaYd8Kp60/ms/1x8tgpD+1G4LoTrWrPyFRiXXeWKI/bhCcyoRtoD9T0MGjLgWdP9TTtDyLu5Y/dMBuj7UMnT9pXvyJhFOaP6jXWzQs4pI/FjmSNUpxkj+ziOSmlP+ZP9PZ65hJg5M/QNOcATTNiT9qbCJPCH2MP0fLUt8e3ow/Zv02LFkQlD9xu2HGELeLP+ere6SVyYM/MzMzMzMziz8i1MDDlGWHPzZlTVlT1oQ/XmalOFUnkj/A7AGzB8yOP8EOhHd6LoM/XLuLo5edij8gdFTgi6t/Pw==",
          "dtype": "f8"
         },
         "yaxis": "y"
        },
        {
         "fillpattern": {
          "shape": ""
         },
         "hovertemplate": "<b>%{fullData.name}</b><br>Year: %{x}<br>Proportion: %{y:.2%}<extra></extra>",
         "legendgroup": "Methylenedioxymethamphetamine (MDMA) Induced Neurotoxicity",
         "line": {
          "color": "#2de5a3"
         },
         "marker": {
          "symbol": "circle"
         },
         "mode": "lines",
         "name": "Methylenedioxymethamphetamine (MDMA) Induced Neurotoxicity",
         "orientation": "v",
         "showlegend": true,
         "stackgroup": "1",
         "type": "scatter",
         "x": {
          "bdata": "vgcAAL8HAADABwAAwQcAAMIHAADDBwAAxAcAAMUHAADGBwAAxwcAAMgHAADJBwAAygcAAMsHAADMBwAAzQcAAM4HAADPBwAA0AcAANEHAADSBwAA0wcAANQHAADVBwAA1gcAANcHAADYBwAA2QcAANoHAADbBwAA3AcAAN0HAADeBwAA3wcAAOAHAADhBwAA4gcAAOMHAADkBwAA5QcAAOYHAADnBwAA6AcAAOkHAAA=",
          "dtype": "i4"
         },
         "xaxis": "x",
         "y": {
          "bdata": "VVVVVVVVpT/QusEU+aybPxShCEUoQqE/E4FcE4Fcsz8RDuEQDuGwP9jq2SFwY6k/9waUiSvdmz/0JxmLapitPyB0VOCLq68/XqmeezdBqz9kIQtZyEKWP+ere6SVyaM/8ZKAcCJegj8j/rMm6RyKP5N2F5in0Io/HfiuHPiufD8IH3zwwQePPxL6AaocoY8/pxX3TrLUgT9TH+y4hVKPP2ml6xIW73Y/qh7wNU2qfj9+KiEg56eCPwAAAAAAAAAAVxCTK4jJhT90wG6PtQx9P3KlNZakmYQ/dvUns1gaXD/6hY25DzF+P0bsihf3JWs/QNOcATTNaT896tCQXqdvPwYKZv/+qEk/d28UmaTVYT9tdQHCylZXP9+PT9scYko/AAAAAAAAAAA10e/y4vRYP/QFfUFf0Fc/AAAAAAAAAAAAAAAAAAAAAAAAAAAAAAAAQKt1EMNpRj8AAAAAAAAAAA==",
          "dtype": "f8"
         },
         "yaxis": "y"
        },
        {
         "fillpattern": {
          "shape": ""
         },
         "hovertemplate": "<b>%{fullData.name}</b><br>Year: %{x}<br>Proportion: %{y:.2%}<extra></extra>",
         "legendgroup": "SSRIs Effect on Pulmonary Hypertension",
         "line": {
          "color": "#b24a11"
         },
         "marker": {
          "symbol": "circle"
         },
         "mode": "lines",
         "name": "SSRIs Effect on Pulmonary Hypertension",
         "orientation": "v",
         "showlegend": true,
         "stackgroup": "1",
         "type": "scatter",
         "x": {
          "bdata": "vgcAAL8HAADABwAAwQcAAMIHAADDBwAAxAcAAMUHAADGBwAAxwcAAMgHAADJBwAAygcAAMsHAADMBwAAzQcAAM4HAADPBwAA0AcAANEHAADSBwAA0wcAANQHAADVBwAA1gcAANcHAADYBwAA2QcAANoHAADbBwAA3AcAAN0HAADeBwAA3wcAAOAHAADhBwAA4gcAAOMHAADkBwAA5QcAAOYHAADnBwAA6AcAAOkHAAA=",
          "dtype": "i4"
         },
         "xaxis": "x",
         "y": {
          "bdata": "HMdxHMdxnD/QusEU+aybP3CBC1zgApc/Ecg1Ecg1kT8RDuEQDuGgP5Cc5mv17JA/9waUiSvdiz/D7OAIIq2HPyB0VOCLq48/tQojRPYljz84velNb3qTP+ere6SVyXM/atzAqDONez9M2Rbj5ddtP5N2F5in0Fo/F2DyFmDydj/A0Ig6R5FmPxL6AaocoY8/gUPzuf54iT9GE+CseUZzP7H5TbBNhWs/SRpgd9RIaj9+KiEg56eCP/c8bENliIA/QUyuICZXgD9m6IDdHmt5P3KlNZakmWQ/dvUns1gafD/CIdPdRtZqP6zTtm6694A/pGtPQbr2hD/x8haKBf6CPwYKZv/+qGk/n5RwIYbHdz8SGIERGIFhP+WkMHK3b4U/mpmZmZmZaT/U3wQHXCiBP3FH3BF3xG0/U7A9a/YicD8MJF5KYcxgPymryNC/tGE/cEBYTFLPYD8V+OLqBx1lPw==",
          "dtype": "f8"
         },
         "yaxis": "y"
        },
        {
         "fillpattern": {
          "shape": ""
         },
         "hovertemplate": "<b>%{fullData.name}</b><br>Year: %{x}<br>Proportion: %{y:.2%}<extra></extra>",
         "legendgroup": "Serotonergic Modulation of Cocaine Effects",
         "line": {
          "color": "#544bd8"
         },
         "marker": {
          "symbol": "circle"
         },
         "mode": "lines",
         "name": "Serotonergic Modulation of Cocaine Effects",
         "orientation": "v",
         "showlegend": true,
         "stackgroup": "1",
         "type": "scatter",
         "x": {
          "bdata": "vgcAAL8HAADABwAAwQcAAMIHAADDBwAAxAcAAMUHAADGBwAAxwcAAMgHAADJBwAAygcAAMsHAADMBwAAzQcAAM4HAADPBwAA0AcAANEHAADSBwAA0wcAANQHAADVBwAA1gcAANcHAADYBwAA2QcAANoHAADbBwAA3AcAAN0HAADeBwAA3wcAAOAHAADhBwAA4gcAAOMHAADkBwAA5QcAAOYHAADnBwAA6AcAAOkHAAA=",
          "dtype": "i4"
         },
         "xaxis": "x",
         "y": {
          "bdata": "HMdxHMdxnD8AAAAAAAAAABShCEUoQqE/AAAAAAAAAAAAAAAAAAAAAJCc5mv17JA/9waUiSvdiz/0JxmLapidPyB0VOCLq48/tQojRPYlnz+96U1vetOLP9uBuXZgrp0/rbegDKv1lj/QR+6t76aSP2VlGou8Ko4/FjqDFTqDlT+0Q+DGMiiVP417gX/VuJc/ms/1x8tgdD/qHFCDtumMP2ml6xIW74Y/5xXQuFvndT+pS0EHj7qEP3JbIuWXzHg/dMBuj7UMbT90wG6PtQxtP3KlNZakmWQ/JfSMyaOdfz/CIdPdRtZqP0bsihf3JWs/cJ41AedZYz/x8haKBf5iPwYKZv/+qGk/n5RwIYbHRz9tdQHCylZHP+ere6SVyWM/AAAAAAAAAAAAAAAAAAAAAAAAAAAAAAAAxJWnOfODRT8MJF5KYcxgP4s5tmuqm0c/cEBYTFLPYD8V+OLqBx1lPw==",
          "dtype": "f8"
         },
         "yaxis": "y"
        },
        {
         "fillpattern": {
          "shape": ""
         },
         "hovertemplate": "<b>%{fullData.name}</b><br>Year: %{x}<br>Proportion: %{y:.2%}<extra></extra>",
         "legendgroup": "Non-SERT Transporters in Antidepressant Action",
         "line": {
          "color": "#58e52d"
         },
         "marker": {
          "symbol": "circle"
         },
         "mode": "lines",
         "name": "Non-SERT Transporters in Antidepressant Action",
         "orientation": "v",
         "showlegend": true,
         "stackgroup": "1",
         "type": "scatter",
         "x": {
          "bdata": "vgcAAL8HAADABwAAwQcAAMIHAADDBwAAxAcAAMUHAADGBwAAxwcAAMgHAADJBwAAygcAAMsHAADMBwAAzQcAAM4HAADPBwAA0AcAANEHAADSBwAA0wcAANQHAADVBwAA1gcAANcHAADYBwAA2QcAANoHAADbBwAA3AcAAN0HAADeBwAA3wcAAOAHAADhBwAA4gcAAOMHAADkBwAA5QcAAOYHAADnBwAA6AcAAOkHAAA=",
          "dtype": "i4"
         },
         "xaxis": "x",
         "y": {
          "bdata": "HMdxHMdxnD/QusEU+aybPwAAAAAAAAAAGqzQGazQmT8XaIEWaIGWP5Cc5mv17JA/9waUiSvdez8AAAAAAAAAABX44uoHHXU/CEgas3hchz+96U1vetOLP9uBuXZgrn0/rbegDKv1hj9M2Rbj5ddtP+6YEbJ9HHQ/F2DyFmDydj/Y6tkhcGOJP7mlAeOXW3o/Z7fwqzGRbj+vFXziSK+FP/0m2KbCDYA/SRpgd9RIaj9UCQE5P5VgPzVMR5R+qnQ/STilefEncj9JOKV58SeCP5jcnB2Gd2s/dvUns1gabD+JvRgCfnt3PzUxqFF5XHQ/CAQCgUAgcD896tCQXqd/P8VIeR/fc3Y/n5RwIYbHZz8SGIERGIGBP9+PT9scYno/MzMzMzMzYz/72WJl+EaEPzZlTVlT1nQ/NnsRCPDkaj8MJF5KYcyAP4s5tmuqm2c/EBaT1DMEbD8V+OLqBx11Pw==",
          "dtype": "f8"
         },
         "yaxis": "y"
        },
        {
         "fillpattern": {
          "shape": ""
         },
         "hovertemplate": "<b>%{fullData.name}</b><br>Year: %{x}<br>Proportion: %{y:.2%}<extra></extra>",
         "legendgroup": "SERT Binding Mechanisms",
         "line": {
          "color": "#b21166"
         },
         "marker": {
          "symbol": "circle"
         },
         "mode": "lines",
         "name": "SERT Binding Mechanisms",
         "orientation": "v",
         "showlegend": true,
         "stackgroup": "1",
         "type": "scatter",
         "x": {
          "bdata": "vgcAAL8HAADABwAAwQcAAMIHAADDBwAAxAcAAMUHAADGBwAAxwcAAMgHAADJBwAAygcAAMsHAADMBwAAzQcAAM4HAADPBwAA0AcAANEHAADSBwAA0wcAANQHAADVBwAA1gcAANcHAADYBwAA2QcAANoHAADbBwAA3AcAAN0HAADeBwAA3wcAAOAHAADhBwAA4gcAAOMHAADkBwAA5QcAAOYHAADnBwAA6AcAAOkHAAA=",
          "dtype": "i4"
         },
         "xaxis": "x",
         "y": {
          "bdata": "HMdxHMdxjD8AAAAAAAAAAAAAAAAAAAAAAAAAAAAAAAAXaIEWaIGGPwAAAAAAAAAAAAAAAAAAAAAAAAAAAAAAAAAAAAAAAAAAtQojRPYlfz9kIQtZyEJmP+ere6SVyWM/atzAqDONez/5IlFq7GF2P5N2F5in0Go/F2DyFmDydj+QnOZr9exwPxL6AaocoW8/ms/1x8tgZD9GE+CseUaDPyFRiXXeWHI/5xXQuFvndT9UCQE5P5VgPzVMR5R+qnQ/ZuiA3R5reT9JOKV58SdyPyt4UOF25n4/dvUns1gafD8Z9aNK7MWAPzUxqFF5XIQ/cJ41AedZcz/x8haKBf5yP4WHjD+/PnM/n5RwIYbHdz+/RsFp8WuEP+u5EQlSfYA/MzMzMzMzcz8O15GURtZ1P7OmrClryno/U7A9a/YigD+72tIN12V2P4s5tmuqm3c/QKt1EMNpdj8gdFTgi6t/Pw==",
          "dtype": "f8"
         },
         "yaxis": "y"
        },
        {
         "fillpattern": {
          "shape": ""
         },
         "hovertemplate": "<b>%{fullData.name}</b><br>Year: %{x}<br>Proportion: %{y:.2%}<extra></extra>",
         "legendgroup": "Astrocyte Receptors as a Target for SSRIs",
         "line": {
          "color": "#4bbed8"
         },
         "marker": {
          "symbol": "circle"
         },
         "mode": "lines",
         "name": "Astrocyte Receptors as a Target for SSRIs",
         "orientation": "v",
         "showlegend": true,
         "stackgroup": "1",
         "type": "scatter",
         "x": {
          "bdata": "vgcAAL8HAADABwAAwQcAAMIHAADDBwAAxAcAAMUHAADGBwAAxwcAAMgHAADJBwAAygcAAMsHAADMBwAAzQcAAM4HAADPBwAA0AcAANEHAADSBwAA0wcAANQHAADVBwAA1gcAANcHAADYBwAA2QcAANoHAADbBwAA3AcAAN0HAADeBwAA3wcAAOAHAADhBwAA4gcAAOMHAADkBwAA5QcAAOYHAADnBwAA6AcAAOkHAAA=",
          "dtype": "i4"
         },
         "xaxis": "x",
         "y": {
          "bdata": "HMdxHMdxrD8AAAAAAAAAAAAAAAAAAAAAGqzQGazQmT8XaIEWaIGGP5Cc5mv17IA/9waUiSvdiz/0JxmLapidPxX44uoHHYU/tQojRPYlbz9kIQtZyEJ2P+ere6SVyXM/8ZKAcCJecj9M2Rbj5ddtP5N2F5in0Go/F2DyFmDyZj+QnOZr9exwP2FRARwTFnU/AAAAAAAAAADeEER3qt2APyFRiXXeWGI/SRpgd9RIej9UCQE5P5VwP5bE2etxmYI/STilefEncj9m6IDdHmt5PwVB6VmVCHg/dvUns1gafD81J4G4UHOCP0bsihf3JXs/cJ41AedZgz+X7nMNslJpP4WHjD+/PnM/x7nMqWe5fT9tdQHCylZnP+myxtZzI4I/AAAAAAAAgD810e/y4vR4P/QFfUFf0Hc/DKNy0nTTcj9pkUfRTP9rP+7HowaVgm0/EBaT1DMEbD8V+OLqBx1lPw==",
          "dtype": "f8"
         },
         "yaxis": "y"
        },
        {
         "fillpattern": {
          "shape": ""
         },
         "hovertemplate": "<b>%{fullData.name}</b><br>Year: %{x}<br>Proportion: %{y:.2%}<extra></extra>",
         "legendgroup": "SSRIs Effect on Dopamine Receptors",
         "line": {
          "color": "#e5d12d"
         },
         "marker": {
          "symbol": "circle"
         },
         "mode": "lines",
         "name": "SSRIs Effect on Dopamine Receptors",
         "orientation": "v",
         "showlegend": true,
         "stackgroup": "1",
         "type": "scatter",
         "x": {
          "bdata": "vgcAAL8HAADABwAAwQcAAMIHAADDBwAAxAcAAMUHAADGBwAAxwcAAMgHAADJBwAAygcAAMsHAADMBwAAzQcAAM4HAADPBwAA0AcAANEHAADSBwAA0wcAANQHAADVBwAA1gcAANcHAADYBwAA2QcAANoHAADbBwAA3AcAAN0HAADeBwAA3wcAAOAHAADhBwAA4gcAAOMHAADkBwAA5QcAAOYHAADnBwAA6AcAAOkHAAA=",
          "dtype": "i4"
         },
         "xaxis": "x",
         "y": {
          "bdata": "HMdxHMdxnD8q8lk3mCK/PytZyUpWssI/Hh4eHh4evj8cwiEcwiGsP/yR03ytnq0/9waUiSvdmz9fwDanqzyzPxKZhu1meaI/BrZThlqFoT9kIQtZyEKGP+GWmg37u4g/k4BwIl4SkD/QR+6t76aCP2VlGou8Ko4/FBQUFBQUhD/A0Ig6R5GGP2FRARwTFlU/ms/1x8tgdD/eEER3qt2APyFRiXXeWGI/AAAAAAAAAABUCQE5P5VwP/c8bENliFA/VxCTK4jJZT8AAAAAAAAAAJjcnB2Gd0s/dvUns1gaXD9RWV4mtSBkP0bsihf3JUs/AAAAAAAAAAAAAAAAAAAAAAYKZv/+qEk/d28UmaTVYT8AAAAAAAAAAN+PT9scYko/mpmZmZmZST810e/y4vRIP/QFfUFf0Ec/xJWnOfODRT8AAAAAAAAAAAAAAAAAAAAAAAAAAAAAAAAAAAAAAAAAAA==",
          "dtype": "f8"
         },
         "yaxis": "y"
        },
        {
         "fillpattern": {
          "shape": ""
         },
         "hovertemplate": "<b>%{fullData.name}</b><br>Year: %{x}<br>Proportion: %{y:.2%}<extra></extra>",
         "legendgroup": "Galanin System in Antidepressant Action",
         "line": {
          "color": "#7211b2"
         },
         "marker": {
          "symbol": "circle"
         },
         "mode": "lines",
         "name": "Galanin System in Antidepressant Action",
         "orientation": "v",
         "showlegend": true,
         "stackgroup": "1",
         "type": "scatter",
         "x": {
          "bdata": "vgcAAL8HAADABwAAwQcAAMIHAADDBwAAxAcAAMUHAADGBwAAxwcAAMgHAADJBwAAygcAAMsHAADMBwAAzQcAAM4HAADPBwAA0AcAANEHAADSBwAA0wcAANQHAADVBwAA1gcAANcHAADYBwAA2QcAANoHAADbBwAA3AcAAN0HAADeBwAA3wcAAOAHAADhBwAA4gcAAOMHAADkBwAA5QcAAOYHAADnBwAA6AcAAOkHAAA=",
          "dtype": "i4"
         },
         "xaxis": "x",
         "y": {
          "bdata": "HMdxHMdxjD8AAAAAAAAAAHCBC1zgApc/Ecg1Ecg1gT8XaIEWaIGWP9jq2SFwY5k/OQUvp+DllD/D7OAIIq13PxX44uoHHYU/AAAAAAAAAAAAAAAAAAAAANuBuXZgrn0/atzAqDONez9M2Rbj5dd9P5N2F5in0Ho/Ecg1Ecg1cT/A0Ig6R5FmP2FRARwTFlU/ms/1x8tgdD/qHFCDtulsPyFRiXXeWGI/hhFA+uKFUT+pS0EHj7p0P/c8bENliIA/dMBuj7UMTT90wG6PtQx9PwVB6VmVCHg/dvUns1gaXD9RWV4mtSBkP6zTtm6693A/cJ41AedZYz+X7nMNslJpP0TGn1+fCXA/d28UmaTVYT/I0oFyfSxtP+ere6SVyWM/mpmZmZmZST810e/y4vRoP3fEHXFH3GE/xJWnOfODVT8MJF5KYcxwPwAAAAAAAAAAAAAAAAAAAAAV+OLqBx11Pw==",
          "dtype": "f8"
         },
         "yaxis": "y"
        },
        {
         "fillpattern": {
          "shape": ""
         },
         "hovertemplate": "<b>%{fullData.name}</b><br>Year: %{x}<br>Proportion: %{y:.2%}<extra></extra>",
         "legendgroup": "SSRIs in Model Organisms ( C. Elegans and Drosophilia)",
         "line": {
          "color": "#4bd877"
         },
         "marker": {
          "symbol": "circle"
         },
         "mode": "lines",
         "name": "SSRIs in Model Organisms ( C. Elegans and Drosophilia)",
         "orientation": "v",
         "showlegend": true,
         "stackgroup": "1",
         "type": "scatter",
         "x": {
          "bdata": "vgcAAL8HAADABwAAwQcAAMIHAADDBwAAxAcAAMUHAADGBwAAxwcAAMgHAADJBwAAygcAAMsHAADMBwAAzQcAAM4HAADPBwAA0AcAANEHAADSBwAA0wcAANQHAADVBwAA1gcAANcHAADYBwAA2QcAANoHAADbBwAA3AcAAN0HAADeBwAA3wcAAOAHAADhBwAA4gcAAOMHAADkBwAA5QcAAOYHAADnBwAA6AcAAOkHAAA=",
          "dtype": "i4"
         },
         "xaxis": "x",
         "y": {
          "bdata": "HMdxHMdxjD8cTJHPusGkP3CBC1zgApc/GqzQGazQmT8XaIEWaIGGP9jq2SFwY5k/9waUiSvdez/D7OAIIq2XPyB0VOCLq48/tQojRPYljz+96U1vetOLP+ere6SVyYM/8ZKAcCJeYj9M2Rbj5dddP5N2F5in0Fo/Ecg1Ecg1cT/A0Ig6R5FWP2FRARwTFmU/ms/1x8tgVD/qHFCDtulsPyFRiXXeWFI/SRpgd9RIaj8AAAAAAAAAAHJbIuWXzGg/VxCTK4jJZT90wG6PtQxdP5jcnB2Gd1s/dvUns1gaXD/CIdPdRtZqP0bsihf3JVs/QNOcATTNWT+X7nMNslJZP4WHjD+/PmM/n5RwIYbHVz9tdQHCylZHP9+PT9scYko/mpmZmZmZaT/o3DM2qrdiP/QFfUFf0Gc/NnsRCPDkaj+72tIN12VGPymryNC/tGE/EBaT1DMEbD8V+OLqBx1lPw==",
          "dtype": "f8"
         },
         "yaxis": "y"
        },
        {
         "fillpattern": {
          "shape": ""
         },
         "hovertemplate": "<b>%{fullData.name}</b><br>Year: %{x}<br>Proportion: %{y:.2%}<extra></extra>",
         "legendgroup": "Fluvoxamine for Covid 19",
         "line": {
          "color": "#e5302d"
         },
         "marker": {
          "symbol": "circle"
         },
         "mode": "lines",
         "name": "Fluvoxamine for Covid 19",
         "orientation": "v",
         "showlegend": true,
         "stackgroup": "1",
         "type": "scatter",
         "x": {
          "bdata": "vgcAAL8HAADABwAAwQcAAMIHAADDBwAAxAcAAMUHAADGBwAAxwcAAMgHAADJBwAAygcAAMsHAADMBwAAzQcAAM4HAADPBwAA0AcAANEHAADSBwAA0wcAANQHAADVBwAA1gcAANcHAADYBwAA2QcAANoHAADbBwAA3AcAAN0HAADeBwAA3wcAAOAHAADhBwAA4gcAAOMHAADkBwAA5QcAAOYHAADnBwAA6AcAAOkHAAA=",
          "dtype": "i4"
         },
         "xaxis": "x",
         "y": {
          "bdata": "AAAAAAAAAADQusEU+ayLPwAAAAAAAAAAAAAAAAAAAAAAAAAAAAAAAAAAAAAAAAAAAAAAAAAAAAAAAAAAAAAAAAAAAAAAAAAAAAAAAAAAAAAAAAAAAAAAAOere6SVyWM/AAAAAAAAAABM2Rbj5dddP5N2F5in0Fo/F2DyFmDyZj/A0Ig6R5FWPwAAAAAAAAAAAAAAAAAAAABGE+CseUZTPyFRiXXeWGI/SRpgd9RIaj9UCQE5P5VQP/c8bENliFA/dMBuj7UMTT90wG6PtQxdPwVB6VmVCHg/GfhdhsITdT9RWV4mtSCEP6zTtm6693A/CAQCgUAgcD9qbCJPCH18P8VIeR/fc3Y/d28UmaTVcT8SGIERGIFxP+ere6SVyWM/MzMzMzMzcz/U3wQHXCiBP/QFfUFf0Jc/hz5EbtA4mj9TGDMEWD+qP7+HWBjN3qY/XLuLo5edmj+RadhuliehPw==",
          "dtype": "f8"
         },
         "yaxis": "y"
        },
        {
         "fillpattern": {
          "shape": ""
         },
         "hovertemplate": "<b>%{fullData.name}</b><br>Year: %{x}<br>Proportion: %{y:.2%}<extra></extra>",
         "legendgroup": "SSRIs for Depression in in Epileptic Patients",
         "line": {
          "color": "#113eb2"
         },
         "marker": {
          "symbol": "circle"
         },
         "mode": "lines",
         "name": "SSRIs for Depression in in Epileptic Patients",
         "orientation": "v",
         "showlegend": true,
         "stackgroup": "1",
         "type": "scatter",
         "x": {
          "bdata": "vgcAAL8HAADABwAAwQcAAMIHAADDBwAAxAcAAMUHAADGBwAAxwcAAMgHAADJBwAAygcAAMsHAADMBwAAzQcAAM4HAADPBwAA0AcAANEHAADSBwAA0wcAANQHAADVBwAA1gcAANcHAADYBwAA2QcAANoHAADbBwAA3AcAAN0HAADeBwAA3wcAAOAHAADhBwAA4gcAAOMHAADkBwAA5QcAAOYHAADnBwAA6AcAAOkHAAA=",
          "dtype": "i4"
         },
         "xaxis": "x",
         "y": {
          "bdata": "AAAAAAAAAADQusEU+ayLP3CBC1zgAoc/Ecg1Ecg1kT8AAAAAAAAAAAAAAAAAAAAA9waUiSvdez/D7OAIIq2HPxX44uoHHXU/tQojRPYlbz9kIQtZyEKGP+GWmg37u4g/8ZKAcCJekj/5IlFq7GGGP+6YEbJ9HIQ/Ecg1Ecg1gT/A0Ig6R5F2P7mlAeOXW3o/Z7fwqzGRfj9GE+CseUZjP/0m2KbCDYA/qh7wNU2qfj/+jYHV3t94P/c8bENliIA/QUyuICZXgD9JOKV58SeCP5jcnB2Gd2s/dvUns1gaXD+JvRgCfnt3P6zTtm6694A/CAQCgUAggD896tCQXqd/PyXogi9P2YQ/LWb9NixZgD8SGIERGIGBP+myxtZzI4I/mpmZmZmZgT/U3wQHXCiBP7OmrClryno/NnsRCPDkej9jfxgsHJlzP70ALbkfj3o/eMuhNmzRfj8V+OLqBx1lPw==",
          "dtype": "f8"
         },
         "yaxis": "y"
        },
        {
         "fillpattern": {
          "shape": ""
         },
         "hovertemplate": "<b>%{fullData.name}</b><br>Year: %{x}<br>Proportion: %{y:.2%}<extra></extra>",
         "legendgroup": "SSRIs and Augmentation for Treatment Resistant Depression",
         "line": {
          "color": "#9bd84b"
         },
         "marker": {
          "symbol": "circle"
         },
         "mode": "lines",
         "name": "SSRIs and Augmentation for Treatment Resistant Depression",
         "orientation": "v",
         "showlegend": true,
         "stackgroup": "1",
         "type": "scatter",
         "x": {
          "bdata": "vgcAAL8HAADABwAAwQcAAMIHAADDBwAAxAcAAMUHAADGBwAAxwcAAMgHAADJBwAAygcAAMsHAADMBwAAzQcAAM4HAADPBwAA0AcAANEHAADSBwAA0wcAANQHAADVBwAA1gcAANcHAADYBwAA2QcAANoHAADbBwAA3AcAAN0HAADeBwAA3wcAAOAHAADhBwAA4gcAAOMHAADkBwAA5QcAAOYHAADnBwAA6AcAAOkHAAA=",
          "dtype": "i4"
         },
         "xaxis": "x",
         "y": {
          "bdata": "AAAAAAAAAADQusEU+ayLPwAAAAAAAAAAEcg1Ecg1gT8AAAAAAAAAAAAAAAAAAAAAOQUvp+DllD/D7OAIIq13PyB0VOCLq48/seaV6rl3kz8LWchCFrKQP+GWmg37u4g/k4BwIl4SkD9ktR8MboSUP2VlGou8Ko4/HfiuHPiujD+otjdTHr+DPxL6AaocoY8/jYn0QOXshj+BGrRN54CKP/0m2KbCDYA/SRpgd9RIij+pS0EHj7qEP7Bq/TWx7nw/XvyJhFOahz9XEJMriMmFPyt4UOF25n4/avn4b3eQgT/CIdPdRtZ6P89JfPq1in4/2DhpgY2Tdj+X7nMNslJZPwYKZv/+qEk/n5RwIYbHZz9tdQHCylZnP9+PT9scYno/mpmZmZmZaT+CxauvGzJvP/QFfUFf0Gc/xJWnOfODZT8MJF5KYcxwP4s5tmuqm3c/QKt1EMNpRj8AAAAAAAAAAA==",
          "dtype": "f8"
         },
         "yaxis": "y"
        },
        {
         "fillpattern": {
          "shape": ""
         },
         "hovertemplate": "<b>%{fullData.name}</b><br>Year: %{x}<br>Proportion: %{y:.2%}<extra></extra>",
         "legendgroup": "SSRIs for Social Anxiety Disorder",
         "line": {
          "color": "#e52dcb"
         },
         "marker": {
          "symbol": "circle"
         },
         "mode": "lines",
         "name": "SSRIs for Social Anxiety Disorder",
         "orientation": "v",
         "showlegend": true,
         "stackgroup": "1",
         "type": "scatter",
         "x": {
          "bdata": "vgcAAL8HAADABwAAwQcAAMIHAADDBwAAxAcAAMUHAADGBwAAxwcAAMgHAADJBwAAygcAAMsHAADMBwAAzQcAAM4HAADPBwAA0AcAANEHAADSBwAA0wcAANQHAADVBwAA1gcAANcHAADYBwAA2QcAANoHAADbBwAA3AcAAN0HAADeBwAA3wcAAOAHAADhBwAA4gcAAOMHAADkBwAA5QcAAOYHAADnBwAA6AcAAOkHAAA=",
          "dtype": "i4"
         },
         "xaxis": "x",
         "y": {
          "bdata": "AAAAAAAAAADQusEU+ayLPwAAAAAAAAAAAAAAAAAAAAAAAAAAAAAAAAAAAAAAAAAAAAAAAAAAAAAAAAAAAAAAAAAAAAAAAAAAAAAAAAAAAAAAAAAAAAAAAOere6SVyXM/k4BwIl4SkD/5IlFq7GF2PxyqDr9owoA/F2DyFmDydj+otjdTHr+DP417gX/VuJc/lCx1hNimlT/eEER3qt2QP7H5TbBNhYs/qh7wNU2qjj998eGK1hePPzVMR5R+qoQ/UCSc0rz4gz90wG6PtQx9Pyt4UOF25n4/avn4b3eQgT/CIdPdRtZaP89JfPq1in4/CAQCgUAgcD/x8haKBf5yP0fLUt8e3nw/n5RwIYbHdz8apEEapEF6P+u5EQlSfXA/ZmZmZmZmdj/o3DM2qrdiP3fEHXFH3HE/xJWnOfODZT8MJF5KYcxgP4s5tmuqm2c/QKt1EMNpRj8AAAAAAAAAAA==",
          "dtype": "f8"
         },
         "yaxis": "y"
        },
        {
         "fillpattern": {
          "shape": ""
         },
         "hovertemplate": "<b>%{fullData.name}</b><br>Year: %{x}<br>Proportion: %{y:.2%}<extra></extra>",
         "legendgroup": "SSRIs for Geriatric Depression",
         "line": {
          "color": "#11b29a"
         },
         "marker": {
          "symbol": "circle"
         },
         "mode": "lines",
         "name": "SSRIs for Geriatric Depression",
         "orientation": "v",
         "showlegend": true,
         "stackgroup": "1",
         "type": "scatter",
         "x": {
          "bdata": "vgcAAL8HAADABwAAwQcAAMIHAADDBwAAxAcAAMUHAADGBwAAxwcAAMgHAADJBwAAygcAAMsHAADMBwAAzQcAAM4HAADPBwAA0AcAANEHAADSBwAA0wcAANQHAADVBwAA1gcAANcHAADYBwAA2QcAANoHAADbBwAA3AcAAN0HAADeBwAA3wcAAOAHAADhBwAA4gcAAOMHAADkBwAA5QcAAOYHAADnBwAA6AcAAOkHAAA=",
          "dtype": "i4"
         },
         "xaxis": "x",
         "y": {
          "bdata": "AAAAAAAAAADQusEU+ayLPwAAAAAAAAAAAAAAAAAAAAAAAAAAAAAAAAAAAAAAAAAAAAAAAAAAAAAAAAAAAAAAAAAAAAAAAAAAAAAAAAAAAABkIQtZyEKGP+GWmg37u5g/atzAqDONez872rxPccmQPxyqDr9owpA/E+6kEu6kkj/wBCsJmTWMP7mlAeOXW4o/pxX3TrLUgT+BGrRN54CKP43PnOExOok/5xXQuFvndT9UCQE5P5WAP/c8bENliIA/QUyuICZXgD9JOKV58SdyPwVB6VmVCHg/dvUns1gafD9RWV4mtSBkP6zTtm6694A/QNOcATTNeT/x8haKBf5iP0TGn1+fCXA/d28UmaTVYT9tdQHCylZXP9+PT9scYlo/MzMzMzMzYz810e/y4vRoP3fEHXFH3GE/xJWnOfODVT9pkUfRTP9rPymryNC/tGE/cEBYTFLPcD8V+OLqBx11Pw==",
          "dtype": "f8"
         },
         "yaxis": "y"
        },
        {
         "fillpattern": {
          "shape": ""
         },
         "hovertemplate": "<b>%{fullData.name}</b><br>Year: %{x}<br>Proportion: %{y:.2%}<extra></extra>",
         "legendgroup": "Sertraline for Depression",
         "line": {
          "color": "#d89a4b"
         },
         "marker": {
          "symbol": "circle"
         },
         "mode": "lines",
         "name": "Sertraline for Depression",
         "orientation": "v",
         "showlegend": true,
         "stackgroup": "1",
         "type": "scatter",
         "x": {
          "bdata": "vgcAAL8HAADABwAAwQcAAMIHAADDBwAAxAcAAMUHAADGBwAAxwcAAMgHAADJBwAAygcAAMsHAADMBwAAzQcAAM4HAADPBwAA0AcAANEHAADSBwAA0wcAANQHAADVBwAA1gcAANcHAADYBwAA2QcAANoHAADbBwAA3AcAAN0HAADeBwAA3wcAAOAHAADhBwAA4gcAAOMHAADkBwAA5QcAAOYHAADnBwAA6AcAAOkHAAA=",
          "dtype": "i4"
         },
         "xaxis": "x",
         "y": {
          "bdata": "AAAAAAAAAADQusEU+ayLPwAAAAAAAAAAAAAAAAAAAAAXaIEWaIGWP5Cc5mv17IA/9waUiSvdiz/D7OAIIq2HPwAAAAAAAAAAseaV6rl3kz8LWchCFrKQP9uBuXZgrn0/atzAqDONiz9ktR8MboSUP+6YEbJ9HIQ/FBQUFBQUlD+otjdTHr+DPxL6AaocoY8/jYn0QOXslj/eEER3qt2AP0V7OkT6o4Q/hhFA+uKFgT9T0MGjLgV9P/c8bENliHA/dMBuj7UMbT8AAAAAAAAAAN8JgtKzKnE/dvUns1gabD/CIdPdRtZaP0bsihf3JWs/CAQCgUAgcD+X7nMNslJJPwYKZv/+qEk/d28UmaTVYT9tdQHCylZHP+ere6SVyWM/MzMzMzMzYz810e/y4vRIP3FH3BF3xG0/xJWnOfODVT8AAAAAAAAAAIs5tmuqm2c/QKt1EMNpdj8V+OLqBx1lPw==",
          "dtype": "f8"
         },
         "yaxis": "y"
        },
        {
         "fillpattern": {
          "shape": ""
         },
         "hovertemplate": "<b>%{fullData.name}</b><br>Year: %{x}<br>Proportion: %{y:.2%}<extra></extra>",
         "legendgroup": "SSRIs Long-term Efficacy and Recurrent Depression",
         "line": {
          "color": "#5e2de5"
         },
         "marker": {
          "symbol": "circle"
         },
         "mode": "lines",
         "name": "SSRIs Long-term Efficacy and Recurrent Depression",
         "orientation": "v",
         "showlegend": true,
         "stackgroup": "1",
         "type": "scatter",
         "x": {
          "bdata": "vgcAAL8HAADABwAAwQcAAMIHAADDBwAAxAcAAMUHAADGBwAAxwcAAMgHAADJBwAAygcAAMsHAADMBwAAzQcAAM4HAADPBwAA0AcAANEHAADSBwAA0wcAANQHAADVBwAA1gcAANcHAADYBwAA2QcAANoHAADbBwAA3AcAAN0HAADeBwAA3wcAAOAHAADhBwAA4gcAAOMHAADkBwAA5QcAAOYHAADnBwAA6AcAAOkHAAA=",
          "dtype": "i4"
         },
         "xaxis": "x",
         "y": {
          "bdata": "AAAAAAAAAADQusEU+ayLPwAAAAAAAAAAAAAAAAAAAAAAAAAAAAAAAAAAAAAAAAAAAAAAAAAAAAAAAAAAAAAAAAAAAAAAAAAAtQojRPYlbz9kIQtZyEJmP9uBuXZgrn0/rbegDKv1hj9M2Rbj5dd9PxyqDr9owoA/Ecg1Ecg1cT+QnOZr9eyAPxL6AaocoW8/Z7fwqzGRfj+BGrRN54CKP0V7OkT6o4Q/hhFA+uKFcT9UCQE5P5VwP/c8bENliGA/ZuiA3R5reT9XEJMriMl1P3KlNZakmWQ/dvUns1gaXD9RWV4mtSBkP0bsihf3JVs/AAAAAAAAAADx8haKBf5iPwYKZv/+qFk/d28UmaTVYT8AAAAAAAAAAAAAAAAAAAAAmpmZmZmZWT810e/y4vRIPwAAAAAAAAAAxJWnOfODRT8AAAAAAAAAAIs5tmuqm0c/QKt1EMNpRj8AAAAAAAAAAA==",
          "dtype": "f8"
         },
         "yaxis": "y"
        },
        {
         "fillpattern": {
          "shape": ""
         },
         "hovertemplate": "<b>%{fullData.name}</b><br>Year: %{x}<br>Proportion: %{y:.2%}<extra></extra>",
         "legendgroup": "SSRIs in Forced Swimming Test",
         "line": {
          "color": "#16b211"
         },
         "marker": {
          "symbol": "circle"
         },
         "mode": "lines",
         "name": "SSRIs in Forced Swimming Test",
         "orientation": "v",
         "showlegend": true,
         "stackgroup": "1",
         "type": "scatter",
         "x": {
          "bdata": "vgcAAL8HAADABwAAwQcAAMIHAADDBwAAxAcAAMUHAADGBwAAxwcAAMgHAADJBwAAygcAAMsHAADMBwAAzQcAAM4HAADPBwAA0AcAANEHAADSBwAA0wcAANQHAADVBwAA1gcAANcHAADYBwAA2QcAANoHAADbBwAA3AcAAN0HAADeBwAA3wcAAOAHAADhBwAA4gcAAOMHAADkBwAA5QcAAOYHAADnBwAA6AcAAOkHAAA=",
          "dtype": "i4"
         },
         "xaxis": "x",
         "y": {
          "bdata": "AAAAAAAAAAAAAAAAAAAAAHCBC1zgAoc/Ecg1Ecg1gT8AAAAAAAAAANjq2SFwY5k/OQUvp+DllD/D7OAIIq13PyB0VOCLq58/tQojRPYljz84velNb3qTP9uBuXZgrn0/8ZKAcCJegj872rxPccmQP5N2F5in0Io/GqzQGazQiT/Y6tkhcGOJPzUngbhQc5I/Z7fwqzGRjj97FK5H4XqUP7H5TbBNhYs/nhLkKUGekj998eGK1hePP0/yat69/44/STilefEngj9m6IDdHmuJPzZk5RtOdKI/GfhdhsITlT9DwG/vAkqTP4I9EqaXc5k/2rmpoZ2bmj9mkoIam8iTP2apbw9vDpg/wXgr+xxSkz+9I5FnzjuSP2YoVoumnJQ/zczMzMzMjD8O15GURtaFP/QFfUFf0Ic/NnsRCPDkej+72tIN12V2P+7HowaVgn0/cEBYTFLPcD8V+OLqBx1lPw==",
          "dtype": "f8"
         },
         "yaxis": "y"
        },
        {
         "fillpattern": {
          "shape": ""
         },
         "hovertemplate": "<b>%{fullData.name}</b><br>Year: %{x}<br>Proportion: %{y:.2%}<extra></extra>",
         "legendgroup": "Serotonin Syndrome",
         "line": {
          "color": "#d84b78"
         },
         "marker": {
          "symbol": "circle"
         },
         "mode": "lines",
         "name": "Serotonin Syndrome",
         "orientation": "v",
         "showlegend": true,
         "stackgroup": "1",
         "type": "scatter",
         "x": {
          "bdata": "vgcAAL8HAADABwAAwQcAAMIHAADDBwAAxAcAAMUHAADGBwAAxwcAAMgHAADJBwAAygcAAMsHAADMBwAAzQcAAM4HAADPBwAA0AcAANEHAADSBwAA0wcAANQHAADVBwAA1gcAANcHAADYBwAA2QcAANoHAADbBwAA3AcAAN0HAADeBwAA3wcAAOAHAADhBwAA4gcAAOMHAADkBwAA5QcAAOYHAADnBwAA6AcAAOkHAAA=",
          "dtype": "i4"
         },
         "xaxis": "x",
         "y": {
          "bdata": "AAAAAAAAAAAAAAAAAAAAABShCEUoQqE/AAAAAAAAAAAAAAAAAAAAAAAAAAAAAAAAAAAAAAAAAACSsaiG2cGRPxq2m+VJZJo/tQojRPYlfz9kIQtZyEJ2P+ere6SVyXM/C8qwWm9BmT8j/rMm6RyKP2VlGou8Ko4/FBQUFBQUlD+QnOZr9eyQP7mlAeOXW4o/jYn0QOXshj/eEER3qt2APyFRiXXeWII/SRpgd9RIij998eGK1hePPxHjj42k3Yo/e6xl6IDdjj90wG6PtQyNPyBa/CjZLJc/avn4b3eQkT/CIdPdRtaKP3CCL+AZqoI/dKC2QQdqiz/EcMXLWyiGP+Qmlk8vpIE/n5RwIYbHhz8SGIERGIGBP+ere6SVyYM/ZmZmZmZmjj/o3DM2qrdyP5U1ZU1ZU4Y/U7A9a/YigD9pkUfRTP97PymryNC/tIE/cEBYTFLPgD8gdFTgi6t/Pw==",
          "dtype": "f8"
         },
         "yaxis": "y"
        },
        {
         "fillpattern": {
          "shape": ""
         },
         "hovertemplate": "<b>%{fullData.name}</b><br>Year: %{x}<br>Proportion: %{y:.2%}<extra></extra>",
         "legendgroup": "SSRIs for OCD",
         "line": {
          "color": "#2d9de5"
         },
         "marker": {
          "symbol": "circle"
         },
         "mode": "lines",
         "name": "SSRIs for OCD",
         "orientation": "v",
         "showlegend": true,
         "stackgroup": "1",
         "type": "scatter",
         "x": {
          "bdata": "vgcAAL8HAADABwAAwQcAAMIHAADDBwAAxAcAAMUHAADGBwAAxwcAAMgHAADJBwAAygcAAMsHAADMBwAAzQcAAM4HAADPBwAA0AcAANEHAADSBwAA0wcAANQHAADVBwAA1gcAANcHAADYBwAA2QcAANoHAADbBwAA3AcAAN0HAADeBwAA3wcAAOAHAADhBwAA4gcAAOMHAADkBwAA5QcAAOYHAADnBwAA6AcAAOkHAAA=",
          "dtype": "i4"
         },
         "xaxis": "x",
         "y": {
          "bdata": "AAAAAAAAAAAAAAAAAAAAAHCBC1zgApc/GqzQGazQmT8XaIEWaIGWP5Cc5mv17JA/9waUiSvdez8rz8THfbekP5YnkWnYbrY/s3hcF9hOqT9kIQtZyEKmP9uBuXZgrp0/T6WQvuaplD872rxPccmgP3VD1eEXTag/FBQUFBQUpD8IH3zwwQefP8AxYVEBHKM/YRRwaD7Xnz94EatE3nehP43PnOExOpk/YRsEpzJhmz/o4FGXgg6eP/c8bENliKA/bdR3Nuo7mz9HfWejvrOhP3KlNZakmZQ/H3b1J7NYmj97JCrLy6SWP5eIZAqpNZU/cJ41AedZkz/bMe6qMJOUP8VIeR/fc5Y/jiKTtDoCmj8cx3Ecx3GcP2YoVoumnJQ/ZmZmZmZmmj/4RhSYdGqeP4O+oC/oC5o/aBwNBrQrlD9mCLB+NMyXP1jrE7+HWJg/2PVmroqckz8dFfji6gedPw==",
          "dtype": "f8"
         },
         "yaxis": "y"
        },
        {
         "fillpattern": {
          "shape": ""
         },
         "hovertemplate": "<b>%{fullData.name}</b><br>Year: %{x}<br>Proportion: %{y:.2%}<extra></extra>",
         "legendgroup": "SSRIs for Bipolar Depression",
         "line": {
          "color": "#a2b211"
         },
         "marker": {
          "symbol": "circle"
         },
         "mode": "lines",
         "name": "SSRIs for Bipolar Depression",
         "orientation": "v",
         "showlegend": true,
         "stackgroup": "1",
         "type": "scatter",
         "x": {
          "bdata": "vgcAAL8HAADABwAAwQcAAMIHAADDBwAAxAcAAMUHAADGBwAAxwcAAMgHAADJBwAAygcAAMsHAADMBwAAzQcAAM4HAADPBwAA0AcAANEHAADSBwAA0wcAANQHAADVBwAA1gcAANcHAADYBwAA2QcAANoHAADbBwAA3AcAAN0HAADeBwAA3wcAAOAHAADhBwAA4gcAAOMHAADkBwAA5QcAAOYHAADnBwAA6AcAAOkHAAA=",
          "dtype": "i4"
         },
         "xaxis": "x",
         "y": {
          "bdata": "AAAAAAAAAAAAAAAAAAAAAHCBC1zgAoc/AAAAAAAAAAAAAAAAAAAAAAAAAAAAAAAAAAAAAAAAAADD7OAIIq13PwAAAAAAAAAAtQojRPYlbz9kIQtZyEJmP+ere6SVyXM/8ZKAcCJecj9M2Rbj5dddP+6YEbJ9HHQ/Ecg1Ecg1cT/A0Ig6R5F2PxL6AaocoW8/gUPzuf54eT/qHFCDtumMP7H5TbBNhYs/ehyo1pB5jD+pS0EHj7qUPzVMR5R+qpQ/W4YO2O2xlj9MriAmVxCTP8TwbgNwBpI/vrlfqqSvkD97JCrLy6SWP4I9EqaXc4k/cJ41AedZgz99U6v5bzOSP0TGn1+fCZA/C4JCXZXOhD/I0oFyfSxtP9+PT9scYno/AAAAAAAAgD/o3DM2qrdiPzZlTVlT1nQ/fYjcoHE0eD9jfxgsHJlzP1pyPx41qHQ/QKt1EMNpdj8V+OLqBx1lPw==",
          "dtype": "f8"
         },
         "yaxis": "y"
        },
        {
         "fillpattern": {
          "shape": ""
         },
         "hovertemplate": "<b>%{fullData.name}</b><br>Year: %{x}<br>Proportion: %{y:.2%}<extra></extra>",
         "legendgroup": "SSRIs for Alcohol Dependence",
         "line": {
          "color": "#bd4bd8"
         },
         "marker": {
          "symbol": "circle"
         },
         "mode": "lines",
         "name": "SSRIs for Alcohol Dependence",
         "orientation": "v",
         "showlegend": true,
         "stackgroup": "1",
         "type": "scatter",
         "x": {
          "bdata": "vgcAAL8HAADABwAAwQcAAMIHAADDBwAAxAcAAMUHAADGBwAAxwcAAMgHAADJBwAAygcAAMsHAADMBwAAzQcAAM4HAADPBwAA0AcAANEHAADSBwAA0wcAANQHAADVBwAA1gcAANcHAADYBwAA2QcAANoHAADbBwAA3AcAAN0HAADeBwAA3wcAAOAHAADhBwAA4gcAAOMHAADkBwAA5QcAAOYHAADnBwAA6AcAAOkHAAA=",
          "dtype": "i4"
         },
         "xaxis": "x",
         "y": {
          "bdata": "AAAAAAAAAAAAAAAAAAAAAHCBC1zgAoc/GqzQGazQmT8XaIEWaIGWP5Cc5mv17KA/qUXIX7Ojtj9cCv1JxqKqPxq2m+VJZJo/CEgas3hclz+RhSxkIQuZP+GWmg37u5g/rbegDKv1lj8j/rMm6RyKPxyqDr9owpA/E+6kEu6kkj+cKY/fCVaSP7mlAeOXW3o/gUPzuf54iT/qHFCDtumMP/0m2KbCDYA/hhFA+uKFgT+pS0EHj7qEP/c8bENliIA/VxCTK4jJhT90wG6PtQxdP84Ow7sNwIk/GfhdhsITdT/6hY25DzF+P76OmTQ4wXc/CAQCgUAggD/EcMXLWyh2P4WHjD+/PoM/M6ee5XbAej9tdQHCylZnP9+PT9scYmo/MzMzMzMzcz/o3DM2qrdyP/QFfUFf0Hc/NnsRCPDkaj8SNo3vkTJ5P4s5tmuqm0c/QKt1EMNpVj8V+OLqBx1lPw==",
          "dtype": "f8"
         },
         "yaxis": "y"
        },
        {
         "fillpattern": {
          "shape": ""
         },
         "hovertemplate": "<b>%{fullData.name}</b><br>Year: %{x}<br>Proportion: %{y:.2%}<extra></extra>",
         "legendgroup": "Neuroimaging of Serotonin Transporters",
         "line": {
          "color": "#2de58c"
         },
         "marker": {
          "symbol": "circle"
         },
         "mode": "lines",
         "name": "Neuroimaging of Serotonin Transporters",
         "orientation": "v",
         "showlegend": true,
         "stackgroup": "1",
         "type": "scatter",
         "x": {
          "bdata": "vgcAAL8HAADABwAAwQcAAMIHAADDBwAAxAcAAMUHAADGBwAAxwcAAMgHAADJBwAAygcAAMsHAADMBwAAzQcAAM4HAADPBwAA0AcAANEHAADSBwAA0wcAANQHAADVBwAA1gcAANcHAADYBwAA2QcAANoHAADbBwAA3AcAAN0HAADeBwAA3wcAAOAHAADhBwAA4gcAAOMHAADkBwAA5QcAAOYHAADnBwAA6AcAAOkHAAA=",
          "dtype": "i4"
         },
         "xaxis": "x",
         "y": {
          "bdata": "AAAAAAAAAAAAAAAAAAAAAHCBC1zgAoc/Ecg1Ecg1gT8AAAAAAAAAAJCc5mv17IA/AAAAAAAAAACSsaiG2cGRPxq2m+VJZJo/tQojRPYlnz9kIQtZyEKGP+ere6SVyZM/k4BwIl4SkD8FkdV+MLihP+6YEbJ9HHQ/HfiuHPiujD/A0Ig6R5F2Px8SwYbvIZE/rbh3kqWOkD/qHFCDtul8P2ml6xIW74Y/ABd06Ln/lj9+KiEg56eSP5bE2etxmYI/TK4gJlcQkz97rGXogN2OPyt4UOF25n4/dvUns1gafD9RWV4mtSB0P0bsihf3JXs/cJ41AedZgz9qbCJPCH18P8VIeR/fc3Y/d28UmaTVcT8SGIERGIFxP+Od5T/ZFXc/MzMzMzMzcz810e/y4vR4P/QFfUFf0Gc/U7A9a/YiYD8MJF5KYcxgP4s5tmuqm0c/QKt1EMNpVj8V+OLqBx1lPw==",
          "dtype": "f8"
         },
         "yaxis": "y"
        },
        {
         "fillpattern": {
          "shape": ""
         },
         "hovertemplate": "<b>%{fullData.name}</b><br>Year: %{x}<br>Proportion: %{y:.2%}<extra></extra>",
         "legendgroup": "Synthetic Chemistry of Paroxetine",
         "line": {
          "color": "#b23511"
         },
         "marker": {
          "symbol": "circle"
         },
         "mode": "lines",
         "name": "Synthetic Chemistry of Paroxetine",
         "orientation": "v",
         "showlegend": true,
         "stackgroup": "1",
         "type": "scatter",
         "x": {
          "bdata": "vgcAAL8HAADABwAAwQcAAMIHAADDBwAAxAcAAMUHAADGBwAAxwcAAMgHAADJBwAAygcAAMsHAADMBwAAzQcAAM4HAADPBwAA0AcAANEHAADSBwAA0wcAANQHAADVBwAA1gcAANcHAADYBwAA2QcAANoHAADbBwAA3AcAAN0HAADeBwAA3wcAAOAHAADhBwAA4gcAAOMHAADkBwAA5QcAAOYHAADnBwAA6AcAAOkHAAA=",
          "dtype": "i4"
         },
         "xaxis": "x",
         "y": {
          "bdata": "AAAAAAAAAAAAAAAAAAAAAHCBC1zgApc/Ecg1Ecg1gT8AAAAAAAAAAJCc5mv17IA/9waUiSvdmz/D7OAIIq13PxX44uoHHYU/CEgas3hchz+96U1vetOLP+GWmg37u4g/8ZKAcCJecj9M2Rbj5ddtP8CHFKWSdoc/AAAAAAAAAACQnOZr9exwPxL6AaocoW8/ms/1x8tghD8YGBgYGBiIP43PnOExOok/ehyo1pB5jD/TbGHuNs2GP5bE2etxmYI/XvyJhFOahz9XEJMriMmFPwVB6VmVCHg/x/bCnA2XiD+JvRgCfnt3P89JfPq1in4/PNEbwRO9gT8ItD9p2miBP+crSc+ueI4/n5RwIYbHdz+/RsFp8WuEP9+PT9scYno/mpmZmZmZeT810e/y4vSIPzZlTVlT1nQ/DKNy0nTTcj9jfxgsHJlzP+7HowaVgn0/eMuhNmzRfj8V+OLqBx11Pw==",
          "dtype": "f8"
         },
         "yaxis": "y"
        },
        {
         "fillpattern": {
          "shape": ""
         },
         "hovertemplate": "<b>%{fullData.name}</b><br>Year: %{x}<br>Proportion: %{y:.2%}<extra></extra>",
         "legendgroup": "SSRIs in Dementias",
         "line": {
          "color": "#4b55d8"
         },
         "marker": {
          "symbol": "circle"
         },
         "mode": "lines",
         "name": "SSRIs in Dementias",
         "orientation": "v",
         "showlegend": true,
         "stackgroup": "1",
         "type": "scatter",
         "x": {
          "bdata": "vgcAAL8HAADABwAAwQcAAMIHAADDBwAAxAcAAMUHAADGBwAAxwcAAMgHAADJBwAAygcAAMsHAADMBwAAzQcAAM4HAADPBwAA0AcAANEHAADSBwAA0wcAANQHAADVBwAA1gcAANcHAADYBwAA2QcAANoHAADbBwAA3AcAAN0HAADeBwAA3wcAAOAHAADhBwAA4gcAAOMHAADkBwAA5QcAAOYHAADnBwAA6AcAAOkHAAA=",
          "dtype": "i4"
         },
         "xaxis": "x",
         "y": {
          "bdata": "AAAAAAAAAAAAAAAAAAAAAAAAAAAAAAAAEcg1Ecg1gT8AAAAAAAAAAAAAAAAAAAAAOQUvp+DllD8AAAAAAAAAABX44uoHHYU/tQojRPYlfz9kIQtZyEKGPwAAAAAAAAAAatzAqDONez/5IlFq7GF2PxyqDr9owoA/Ecg1Ecg1kT+QnOZr9eyAPxL6AaocoX8/ms/1x8tghD/eEER3qt2AP0V7OkT6o4Q/5xXQuFvnhT+pS0EHj7qEPzVMR5R+qoQ/XvyJhFOahz90wG6PtQx9P98JgtKzKnE/avn4b3eQcT8Z9aNK7MWQP6zTtm6695A/dKC2QQdqiz8ItD9p2miBP2apbw9vDog/C4JCXZXOhD/BafFrFJyWP2gvob2E9pI/mpmZmZmZkT/o3DM2qreSP3FH3BF3xI0/Au0KBRbPkD9pkUfRTP+LP+7HowaVgo0/cEBYTFLPkD8SmYbtZnmSPw==",
          "dtype": "f8"
         },
         "yaxis": "y"
        },
        {
         "fillpattern": {
          "shape": ""
         },
         "hovertemplate": "<b>%{fullData.name}</b><br>Year: %{x}<br>Proportion: %{y:.2%}<extra></extra>",
         "legendgroup": "Hepatotoxic Risk",
         "line": {
          "color": "#70e52d"
         },
         "marker": {
          "symbol": "circle"
         },
         "mode": "lines",
         "name": "Hepatotoxic Risk",
         "orientation": "v",
         "showlegend": true,
         "stackgroup": "1",
         "type": "scatter",
         "x": {
          "bdata": "vgcAAL8HAADABwAAwQcAAMIHAADDBwAAxAcAAMUHAADGBwAAxwcAAMgHAADJBwAAygcAAMsHAADMBwAAzQcAAM4HAADPBwAA0AcAANEHAADSBwAA0wcAANQHAADVBwAA1gcAANcHAADYBwAA2QcAANoHAADbBwAA3AcAAN0HAADeBwAA3wcAAOAHAADhBwAA4gcAAOMHAADkBwAA5QcAAOYHAADnBwAA6AcAAOkHAAA=",
          "dtype": "i4"
         },
         "xaxis": "x",
         "y": {
          "bdata": "AAAAAAAAAAAAAAAAAAAAAAAAAAAAAAAAEcg1Ecg1gT8AAAAAAAAAAAAAAAAAAAAAAAAAAAAAAAAAAAAAAAAAAAAAAAAAAAAAtQojRPYlbz8AAAAAAAAAAAAAAAAAAAAA8ZKAcCJecj9M2Rbj5dddP5N2F5in0Go/AAAAAAAAAADA0Ig6R5FWPxL6AaocoW8/ms/1x8tgVD9GE+CseUZjPyFRiXXeWHI/5xXQuFvndT9UCQE5P5VwP3JbIuWXzGg/VxCTK4jJZT90wG6PtQx9P3KlNZakmWQ/avn4b3eQgT/6hY25DzF+P/nfIMPYDoY/2DhpgY2Thj+BLUsu3eeKP0TGn1+fCZA/M6ee5XbAij/I0oFyfSyNP2o27O9iUJE/mpmZmZmZiT+CxauvGzKPP3FH3BF3xI0/sCnYnjV7kT9jfxgsHJmTP47A4cpX65M/MqPqxthPlD8V+OLqBx2VPw==",
          "dtype": "f8"
         },
         "yaxis": "y"
        },
        {
         "fillpattern": {
          "shape": ""
         },
         "hovertemplate": "<b>%{fullData.name}</b><br>Year: %{x}<br>Proportion: %{y:.2%}<extra></extra>",
         "legendgroup": "Agomelatin for Depression",
         "line": {
          "color": "#b2117a"
         },
         "marker": {
          "symbol": "circle"
         },
         "mode": "lines",
         "name": "Agomelatin for Depression",
         "orientation": "v",
         "showlegend": true,
         "stackgroup": "1",
         "type": "scatter",
         "x": {
          "bdata": "vgcAAL8HAADABwAAwQcAAMIHAADDBwAAxAcAAMUHAADGBwAAxwcAAMgHAADJBwAAygcAAMsHAADMBwAAzQcAAM4HAADPBwAA0AcAANEHAADSBwAA0wcAANQHAADVBwAA1gcAANcHAADYBwAA2QcAANoHAADbBwAA3AcAAN0HAADeBwAA3wcAAOAHAADhBwAA4gcAAOMHAADkBwAA5QcAAOYHAADnBwAA6AcAAOkHAAA=",
          "dtype": "i4"
         },
         "xaxis": "x",
         "y": {
          "bdata": "AAAAAAAAAAAAAAAAAAAAAAAAAAAAAAAAEcg1Ecg1gT8AAAAAAAAAAJCc5mv17IA/9waUiSvdez/D7OAIIq13PwAAAAAAAAAAAAAAAAAAAAC96U1vetOLP+ere6SVyWM/8ZKAcCJecj/5IlFq7GGGP5N2F5in0Go/F2DyFmDyZj/wBCsJmTV8PxL6AaocoW8/ms/1x8tgVD/qHFCDtulsP7H5TbBNhWs/5xXQuFvndT9T0MGjLgV9P5bE2etxmYI/dMBuj7UMfT9JOKV58SeCP5jcnB2Gd2s/GfhdhsIThT8Z9aNK7MWAP3CCL+AZqoI/qG3QgdoGfT896tCQXqd/P0fLUt8e3nw/n5RwIYbHZz8apEEapEF6P9+PT9scYmo/MzMzMzMzgz810e/y4vR4P/QFfUFf0Fc/U7A9a/YicD9pkUfRTP9rP4s5tmuqm2c/qGCEcvs2eT8V+OLqBx1lPw==",
          "dtype": "f8"
         },
         "yaxis": "y"
        },
        {
         "fillpattern": {
          "shape": ""
         },
         "hovertemplate": "<b>%{fullData.name}</b><br>Year: %{x}<br>Proportion: %{y:.2%}<extra></extra>",
         "legendgroup": "Sexual Dysfunction",
         "line": {
          "color": "#4bd0d8"
         },
         "marker": {
          "symbol": "circle"
         },
         "mode": "lines",
         "name": "Sexual Dysfunction",
         "orientation": "v",
         "showlegend": true,
         "stackgroup": "1",
         "type": "scatter",
         "x": {
          "bdata": "vgcAAL8HAADABwAAwQcAAMIHAADDBwAAxAcAAMUHAADGBwAAxwcAAMgHAADJBwAAygcAAMsHAADMBwAAzQcAAM4HAADPBwAA0AcAANEHAADSBwAA0wcAANQHAADVBwAA1gcAANcHAADYBwAA2QcAANoHAADbBwAA3AcAAN0HAADeBwAA3wcAAOAHAADhBwAA4gcAAOMHAADkBwAA5QcAAOYHAADnBwAA6AcAAOkHAAA=",
          "dtype": "i4"
         },
         "xaxis": "x",
         "y": {
          "bdata": "AAAAAAAAAAAAAAAAAAAAAAAAAAAAAAAAAAAAAAAAAAAXaIEWaIGGP5Cc5mv17IA/AAAAAAAAAADD7OAIIq2HPxX44uoHHXU/CEgas3hclz8AAAAAAAAAAOere6SVyYM/T6WQvuaplD9M2Rbj5dedP5N2F5in0Io/GqzQGazQiT/A0Ig6R5GWP+bPgUZa/pw/blpx7yRLnT9MGeayf0yZP8SOppfbqpw/ehyo1pB5jD+pS0EHj7qEP5bE2etxmZI/UCSc0rz4kz90wG6PtQyNP3KlNZakmZQ/vrlfqqSvkD9tizuUGc6FP6zTtm6695A/CAQCgUAgkD896tCQXqePP0fLUt8e3ow/fbC1R+88jD+7AGFlqwuAP+Od5T/ZFXc/zczMzMzMhD9Izh4iMYSKP5U1ZU1ZU4Y/DKNy0nTTgj+4UTu7vjKCP8EOhHd6LoM/9AV9QV/Qhz8V+OLqBx11Pw==",
          "dtype": "f8"
         },
         "yaxis": "y"
        },
        {
         "fillpattern": {
          "shape": ""
         },
         "hovertemplate": "<b>%{fullData.name}</b><br>Year: %{x}<br>Proportion: %{y:.2%}<extra></extra>",
         "legendgroup": "Post-Stroke SSRI Use",
         "line": {
          "color": "#e5ba2d"
         },
         "marker": {
          "symbol": "circle"
         },
         "mode": "lines",
         "name": "Post-Stroke SSRI Use",
         "orientation": "v",
         "showlegend": true,
         "stackgroup": "1",
         "type": "scatter",
         "x": {
          "bdata": "vgcAAL8HAADABwAAwQcAAMIHAADDBwAAxAcAAMUHAADGBwAAxwcAAMgHAADJBwAAygcAAMsHAADMBwAAzQcAAM4HAADPBwAA0AcAANEHAADSBwAA0wcAANQHAADVBwAA1gcAANcHAADYBwAA2QcAANoHAADbBwAA3AcAAN0HAADeBwAA3wcAAOAHAADhBwAA4gcAAOMHAADkBwAA5QcAAOYHAADnBwAA6AcAAOkHAAA=",
          "dtype": "i4"
         },
         "xaxis": "x",
         "y": {
          "bdata": "AAAAAAAAAAAAAAAAAAAAAAAAAAAAAAAAAAAAAAAAAAAXaIEWaIGGPwAAAAAAAAAAAAAAAAAAAAAAAAAAAAAAAAAAAAAAAAAAtQojRPYlbz9kIQtZyEJmPwAAAAAAAAAA8ZKAcCJecj9M2Rbj5dd9P+6YEbJ9HHQ/Ecg1Ecg1cT+QnOZr9exwPxL6AaocoW8/gUPzuf54eT/qHFCDtulsP43PnOExOok/5xXQuFvnhT+pS0EHj7p0PzVMR5R+qoQ/QUyuICZXgD9JOKV58SeCP6jXWzQs4oI/H3b1J7NYij9tizuUGc6FP6zTtm6695A/CAQCgUAggD9qbCJPCH2MP0fLUt8e3ow/Zv02LFkQlD+7AGFlqwuQP+ere6SVyZM/zczMzMzMoD+YVSms7Z2WP6Ev6Av6gp4/Au0KBRbPoD8PrfWcef+UP+7HowaVgo0/JJtffe41kj8atpvlSWSKPw==",
          "dtype": "f8"
         },
         "yaxis": "y"
        },
        {
         "fillpattern": {
          "shape": ""
         },
         "hovertemplate": "<b>%{fullData.name}</b><br>Year: %{x}<br>Proportion: %{y:.2%}<extra></extra>",
         "legendgroup": "Treatment Strategies and Outcomes in Depression",
         "line": {
          "color": "#5d11b2"
         },
         "marker": {
          "symbol": "circle"
         },
         "mode": "lines",
         "name": "Treatment Strategies and Outcomes in Depression",
         "orientation": "v",
         "showlegend": true,
         "stackgroup": "1",
         "type": "scatter",
         "x": {
          "bdata": "vgcAAL8HAADABwAAwQcAAMIHAADDBwAAxAcAAMUHAADGBwAAxwcAAMgHAADJBwAAygcAAMsHAADMBwAAzQcAAM4HAADPBwAA0AcAANEHAADSBwAA0wcAANQHAADVBwAA1gcAANcHAADYBwAA2QcAANoHAADbBwAA3AcAAN0HAADeBwAA3wcAAOAHAADhBwAA4gcAAOMHAADkBwAA5QcAAOYHAADnBwAA6AcAAOkHAAA=",
          "dtype": "i4"
         },
         "xaxis": "x",
         "y": {
          "bdata": "AAAAAAAAAAAAAAAAAAAAAAAAAAAAAAAAAAAAAAAAAAAXaIEWaIGWPwAAAAAAAAAAAAAAAAAAAAAAAAAAAAAAAAAAAAAAAAAAAAAAAAAAAAAAAAAAAAAAAOere6SVyWM/rbegDKv1hj9M2Rbj5dd9PxyqDr9owoA/Ecg1Ecg1cT+otjdTHr+TP7mlAeOXW4o/Z7fwqzGRfj+vFXziSK+FP2ml6xIW74Y/qh7wNU2qfj9UCQE5P5WQP3JbIuWXzHg/TK4gJlcQkz9Umhd/IuGUP3KlNZakmZQ/cHeQEWjVlj97JCrLy6SWP6lDR9Am/5s/CAQCgUAgkD/x8haKBf6SP0fLUt8e3ow/x7nMqWe5jT8f6qEe6qGOP9l6bkSCVI8/MzMzMzMziz9by01RfxOMPxj0BX1BX4A/7m1Gb26VjT+4UTu7vjKCP4s5tmuqm4c/2PVmroqcgz8gdFTgi6t/Pw==",
          "dtype": "f8"
         },
         "yaxis": "y"
        },
        {
         "fillpattern": {
          "shape": ""
         },
         "hovertemplate": "<b>%{fullData.name}</b><br>Year: %{x}<br>Proportion: %{y:.2%}<extra></extra>",
         "legendgroup": "SSRIs for Panic Disorder",
         "line": {
          "color": "#4bd865"
         },
         "marker": {
          "symbol": "circle"
         },
         "mode": "lines",
         "name": "SSRIs for Panic Disorder",
         "orientation": "v",
         "showlegend": true,
         "stackgroup": "1",
         "type": "scatter",
         "x": {
          "bdata": "vgcAAL8HAADABwAAwQcAAMIHAADDBwAAxAcAAMUHAADGBwAAxwcAAMgHAADJBwAAygcAAMsHAADMBwAAzQcAAM4HAADPBwAA0AcAANEHAADSBwAA0wcAANQHAADVBwAA1gcAANcHAADYBwAA2QcAANoHAADbBwAA3AcAAN0HAADeBwAA3wcAAOAHAADhBwAA4gcAAOMHAADkBwAA5QcAAOYHAADnBwAA6AcAAOkHAAA=",
          "dtype": "i4"
         },
         "xaxis": "x",
         "y": {
          "bdata": "AAAAAAAAAAAAAAAAAAAAAAAAAAAAAAAAAAAAAAAAAAAXaIEWaIGGP5Cc5mv17JA/9waUiSvdez/D7OAIIq13PyB0VOCLq48/tQojRPYlfz9kIQtZyEJmP+ere6SVyZM/atzAqDONiz/5IlFq7GGWP8CHFKWSdpc/GqzQGazQmT8KVhIyazigP+bPgUZa/ow/lCx1hNimlT+vFXziSK+VP0V7OkT6o5Q/bhCcyoRtkD8or6G8hvKaPzVMR5R+qpQ/QUyuICZXgD9JOKV58SeSP3KlNZakmXQ/cHeQEWjVhj81J4G4UHOCPzUxqFF5XIQ/pGtPQbr2hD+X7nMNslJ5P4WHjD+/PnM/C4JCXZXOdD9tdQHCylZ3P+ere6SVyXM/ZmZmZmZmdj/o3DM2qrdyP/QFfUFf0Hc/DKNy0nTTcj9pkUfRTP9rP+7HowaVgn0/QKt1EMNpZj8AAAAAAAAAAA==",
          "dtype": "f8"
         },
         "yaxis": "y"
        },
        {
         "fillpattern": {
          "shape": ""
         },
         "hovertemplate": "<b>%{fullData.name}</b><br>Year: %{x}<br>Proportion: %{y:.2%}<extra></extra>",
         "legendgroup": "Pharmacovigilance of SSRIs",
         "line": {
          "color": "#e52d42"
         },
         "marker": {
          "symbol": "circle"
         },
         "mode": "lines",
         "name": "Pharmacovigilance of SSRIs",
         "orientation": "v",
         "showlegend": true,
         "stackgroup": "1",
         "type": "scatter",
         "x": {
          "bdata": "vgcAAL8HAADABwAAwQcAAMIHAADDBwAAxAcAAMUHAADGBwAAxwcAAMgHAADJBwAAygcAAMsHAADMBwAAzQcAAM4HAADPBwAA0AcAANEHAADSBwAA0wcAANQHAADVBwAA1gcAANcHAADYBwAA2QcAANoHAADbBwAA3AcAAN0HAADeBwAA3wcAAOAHAADhBwAA4gcAAOMHAADkBwAA5QcAAOYHAADnBwAA6AcAAOkHAAA=",
          "dtype": "i4"
         },
         "xaxis": "x",
         "y": {
          "bdata": "AAAAAAAAAAAAAAAAAAAAAAAAAAAAAAAAAAAAAAAAAAAXaIEWaIGGP5Cc5mv17IA/AAAAAAAAAAAAAAAAAAAAAAAAAAAAAAAAtQojRPYlbz8AAAAAAAAAAOere6SVyWM/8ZKAcCJeYj9M2Rbj5dddPwAAAAAAAAAAF2DyFmDyVj/A0Ig6R5F2P2FRARwTFnU/Z7fwqzGRbj9GE+CseUZzP7H5TbBNhXs/hhFA+uKFcT/+jYHV3t9oP3JbIuWXzGg/VxCTK4jJZT9m6IDdHmt5P5jcnB2Gd3s/wXgr+xxSgz/6hY25DzF+PzUxqFF5XIQ/dKC2QQdqiz/EcMXLWyh2P8VIeR/fc3Y/x7nMqWe5jT9xu2HGELeLP+u5EQlSfZA/AAAAAAAAiD/U3wQHXCiBP3FH3BF3xI0/Au0KBRbPkD+4UTu7vjKCP5BHDSoFO5A/5v3x93S2lT8YVz/oqMCXPw==",
          "dtype": "f8"
         },
         "yaxis": "y"
        },
        {
         "fillpattern": {
          "shape": ""
         },
         "hovertemplate": "<b>%{fullData.name}</b><br>Year: %{x}<br>Proportion: %{y:.2%}<extra></extra>",
         "legendgroup": "SSRIs for Depression in Parkinsons Patients",
         "line": {
          "color": "#1152b2"
         },
         "marker": {
          "symbol": "circle"
         },
         "mode": "lines",
         "name": "SSRIs for Depression in Parkinsons Patients",
         "orientation": "v",
         "showlegend": true,
         "stackgroup": "1",
         "type": "scatter",
         "x": {
          "bdata": "vgcAAL8HAADABwAAwQcAAMIHAADDBwAAxAcAAMUHAADGBwAAxwcAAMgHAADJBwAAygcAAMsHAADMBwAAzQcAAM4HAADPBwAA0AcAANEHAADSBwAA0wcAANQHAADVBwAA1gcAANcHAADYBwAA2QcAANoHAADbBwAA3AcAAN0HAADeBwAA3wcAAOAHAADhBwAA4gcAAOMHAADkBwAA5QcAAOYHAADnBwAA6AcAAOkHAAA=",
          "dtype": "i4"
         },
         "xaxis": "x",
         "y": {
          "bdata": "AAAAAAAAAAAAAAAAAAAAAAAAAAAAAAAAAAAAAAAAAAAXaIEWaIGWPwAAAAAAAAAAAAAAAAAAAAAAAAAAAAAAAAAAAAAAAAAAtQojRPYlfz9kIQtZyEJ2P+ere6SVyWM/8ZKAcCJecj9M2Rbj5dd9P5N2F5in0Ho/Ecg1Ecg1gT/A0Ig6R5GGPxL6AaocoX8/ms/1x8tghD9GE+CseUZzP2ml6xIW74Y/txOIWZ+2gz9UCQE5P5VwP3JbIuWXzIg/dMBuj7UMfT9JOKV58SeCPztzD/gcUYY/x/bCnA2XeD/6hY25DzF+P76OmTQ4wXc/QNOcATTNiT896tCQXqdvPyXogi9P2YQ/d28UmaTVgT+/RsFp8WuEP+u5EQlSfXA/AAAAAAAAgD+CxauvGzJ/P/QFfUFf0Ic/fYjcoHE0eD8PrfWcef+EP4s5tmuqm3c/eMuhNmzRfj8AAAAAAAAAAA==",
          "dtype": "f8"
         },
         "yaxis": "y"
        },
        {
         "fillpattern": {
          "shape": ""
         },
         "hovertemplate": "<b>%{fullData.name}</b><br>Year: %{x}<br>Proportion: %{y:.2%}<extra></extra>",
         "legendgroup": "SSRIs Effects on Ion Channels",
         "line": {
          "color": "#add84b"
         },
         "marker": {
          "symbol": "circle"
         },
         "mode": "lines",
         "name": "SSRIs Effects on Ion Channels",
         "orientation": "v",
         "showlegend": true,
         "stackgroup": "1",
         "type": "scatter",
         "x": {
          "bdata": "vgcAAL8HAADABwAAwQcAAMIHAADDBwAAxAcAAMUHAADGBwAAxwcAAMgHAADJBwAAygcAAMsHAADMBwAAzQcAAM4HAADPBwAA0AcAANEHAADSBwAA0wcAANQHAADVBwAA1gcAANcHAADYBwAA2QcAANoHAADbBwAA3AcAAN0HAADeBwAA3wcAAOAHAADhBwAA4gcAAOMHAADkBwAA5QcAAOYHAADnBwAA6AcAAOkHAAA=",
          "dtype": "i4"
         },
         "xaxis": "x",
         "y": {
          "bdata": "AAAAAAAAAAAAAAAAAAAAAAAAAAAAAAAAAAAAAAAAAAAXaIEWaIGGPwAAAAAAAAAAAAAAAAAAAADD7OAIIq13PxX44uoHHXU/AAAAAAAAAAALWchCFrKAP9uBuXZgrn0/8ZKAcCJegj9M2Rbj5ddtP5N2F5in0Go/Ecg1Ecg1gT+QnOZr9exwPxL6AaocoY8/Z7fwqzGRbj8YGBgYGBh4P2ml6xIW73Y/GBgYGBgYiD9+KiEg56eCPzVMR5R+qoQ/UCSc0rz4gz9XEJMriMl1P6jXWzQs4oI/dvUns1gabD+JvRgCfnuHP/nfIMPYDoY/CAQCgUAggD896tCQXqd/P8VIeR/fc3Y/x7nMqWe5fT+7AGFlqwuAP+myxtZzI4I/mpmZmZmZeT810e/y4vR4P/QFfUFf0Hc/fYjcoHE0eD8SNo3vkTJ5P5BHDSoFO4A/2PVmroqccz8atpvlSWSKPw==",
          "dtype": "f8"
         },
         "yaxis": "y"
        },
        {
         "fillpattern": {
          "shape": ""
         },
         "hovertemplate": "<b>%{fullData.name}</b><br>Year: %{x}<br>Proportion: %{y:.2%}<extra></extra>",
         "legendgroup": "Impact of SSRIs on Neurogenesis",
         "line": {
          "color": "#e52de3"
         },
         "marker": {
          "symbol": "circle"
         },
         "mode": "lines",
         "name": "Impact of SSRIs on Neurogenesis",
         "orientation": "v",
         "showlegend": true,
         "stackgroup": "1",
         "type": "scatter",
         "x": {
          "bdata": "vgcAAL8HAADABwAAwQcAAMIHAADDBwAAxAcAAMUHAADGBwAAxwcAAMgHAADJBwAAygcAAMsHAADMBwAAzQcAAM4HAADPBwAA0AcAANEHAADSBwAA0wcAANQHAADVBwAA1gcAANcHAADYBwAA2QcAANoHAADbBwAA3AcAAN0HAADeBwAA3wcAAOAHAADhBwAA4gcAAOMHAADkBwAA5QcAAOYHAADnBwAA6AcAAOkHAAA=",
          "dtype": "i4"
         },
         "xaxis": "x",
         "y": {
          "bdata": "AAAAAAAAAAAAAAAAAAAAAAAAAAAAAAAAAAAAAAAAAAARDuEQDuGgPwAAAAAAAAAAAAAAAAAAAAAAAAAAAAAAAAAAAAAAAAAAtQojRPYlfz9kIQtZyEJ2P+ere6SVyWM/AAAAAAAAAABM2Rbj5deNP5N2F5in0Ho/F2DyFmDydj/Y6tkhcGOJP7mlAeOXW4o/ms/1x8tghD8YGBgYGBiIP1cQkyuIyZU/zxQsif3OlD+pS0EHj7qUP3JbIuWXzJg/ZuiA3R5rmT9FwinNiz+hP1F9+OqRmKE/FjmSNUpxoj9RWV4mtSCkP+ZcBi4RyaQ/i8VisVgspj/x8haKBf6iP7yOmFOLPaE/jiKTtDoCmj/BafFrFJyWP6p0WWPruaE/AAAAAAAAmD9xW8tNUX+TP/QFfUFf0Jc/K8WpOpHgmD+QcUHGBRmXP47A4cpX65M/FpPUMwQckD8atpvlSWSKPw==",
          "dtype": "f8"
         },
         "yaxis": "y"
        },
        {
         "fillpattern": {
          "shape": ""
         },
         "hovertemplate": "<b>%{fullData.name}</b><br>Year: %{x}<br>Proportion: %{y:.2%}<extra></extra>",
         "legendgroup": "SSRIs for Eating Disorders",
         "line": {
          "color": "#11b285"
         },
         "marker": {
          "symbol": "circle"
         },
         "mode": "lines",
         "name": "SSRIs for Eating Disorders",
         "orientation": "v",
         "showlegend": true,
         "stackgroup": "1",
         "type": "scatter",
         "x": {
          "bdata": "vgcAAL8HAADABwAAwQcAAMIHAADDBwAAxAcAAMUHAADGBwAAxwcAAMgHAADJBwAAygcAAMsHAADMBwAAzQcAAM4HAADPBwAA0AcAANEHAADSBwAA0wcAANQHAADVBwAA1gcAANcHAADYBwAA2QcAANoHAADbBwAA3AcAAN0HAADeBwAA3wcAAOAHAADhBwAA4gcAAOMHAADkBwAA5QcAAOYHAADnBwAA6AcAAOkHAAA=",
          "dtype": "i4"
         },
         "xaxis": "x",
         "y": {
          "bdata": "AAAAAAAAAAAAAAAAAAAAAAAAAAAAAAAAAAAAAAAAAAAAAAAAAAAAAJCc5mv17IA/AAAAAAAAAADD7OAIIq13Pxq2m+VJZJo/seaV6rl3kz8LWchCFrKQP9uBuXZgro0/atzAqDONiz9ktR8MboSUP5N2F5in0Ho/FBQUFBQUhD/Y6tkhcGOJP2FRARwTFoU/Z7fwqzGRfj9TH+y4hVKPP/0m2KbCDYA/MBm8R3YwmT/+jYHV3t+IP/c8bENliJA/dMBuj7UMfT9m6IDdHmt5P6jXWzQs4oI/avn4b3eQgT/CIdPdRtZ6P0bsihf3JXs/PNEbwRO9gT8ItD9p2miBP4WHjD+/PmM/x7nMqWe5bT9tdQHCylZXP9+PT9scYko/AAAAAAAAgD+CxauvGzJ/P/QFfUFf0Gc/DKNy0nTTcj9pkUfRTP97P70ALbkfj3o/QKt1EMNpdj8AAAAAAAAAAA==",
          "dtype": "f8"
         },
         "yaxis": "y"
        },
        {
         "fillpattern": {
          "shape": ""
         },
         "hovertemplate": "<b>%{fullData.name}</b><br>Year: %{x}<br>Proportion: %{y:.2%}<extra></extra>",
         "legendgroup": "Hyponatremia Risk",
         "line": {
          "color": "#d8884b"
         },
         "marker": {
          "symbol": "circle"
         },
         "mode": "lines",
         "name": "Hyponatremia Risk",
         "orientation": "v",
         "showlegend": true,
         "stackgroup": "1",
         "type": "scatter",
         "x": {
          "bdata": "vgcAAL8HAADABwAAwQcAAMIHAADDBwAAxAcAAMUHAADGBwAAxwcAAMgHAADJBwAAygcAAMsHAADMBwAAzQcAAM4HAADPBwAA0AcAANEHAADSBwAA0wcAANQHAADVBwAA1gcAANcHAADYBwAA2QcAANoHAADbBwAA3AcAAN0HAADeBwAA3wcAAOAHAADhBwAA4gcAAOMHAADkBwAA5QcAAOYHAADnBwAA6AcAAOkHAAA=",
          "dtype": "i4"
         },
         "xaxis": "x",
         "y": {
          "bdata": "AAAAAAAAAAAAAAAAAAAAAAAAAAAAAAAAAAAAAAAAAAAAAAAAAAAAAJCc5mv17IA/AAAAAAAAAAAAAAAAAAAAAAAAAAAAAAAAtQojRPYlbz8AAAAAAAAAAOere6SVyXM/8ZKAcCJegj/5IlFq7GF2P+6YEbJ9HIQ/F2DyFmDyhj/Y6tkhcGOJP2FRARwTFmU/ms/1x8tgVD9GE+CseUZjPyFRiXXeWII/qh7wNU2qfj+pS0EHj7p0P/c8bENliHA/QUyuICZXgD90wG6PtQx9PwVB6VmVCHg/dvUns1gafD9RWV4mtSBkP6zTtm6693A/2DhpgY2Tdj+X7nMNslJ5P4WHjD+/PnM/n5RwIYbHZz8SGIERGIFxP+ere6SVyXM/mpmZmZmZaT810e/y4vRoP/QFfUFf0Fc/xJWnOfODdT+72tIN12VmP4s5tmuqm0c/cEBYTFLPcD8V+OLqBx2FPw==",
          "dtype": "f8"
         },
         "yaxis": "y"
        },
        {
         "fillpattern": {
          "shape": ""
         },
         "hovertemplate": "<b>%{fullData.name}</b><br>Year: %{x}<br>Proportion: %{y:.2%}<extra></extra>",
         "legendgroup": "Canine Behavioral Disorders",
         "line": {
          "color": "#472de5"
         },
         "marker": {
          "symbol": "circle"
         },
         "mode": "lines",
         "name": "Canine Behavioral Disorders",
         "orientation": "v",
         "showlegend": true,
         "stackgroup": "1",
         "type": "scatter",
         "x": {
          "bdata": "vgcAAL8HAADABwAAwQcAAMIHAADDBwAAxAcAAMUHAADGBwAAxwcAAMgHAADJBwAAygcAAMsHAADMBwAAzQcAAM4HAADPBwAA0AcAANEHAADSBwAA0wcAANQHAADVBwAA1gcAANcHAADYBwAA2QcAANoHAADbBwAA3AcAAN0HAADeBwAA3wcAAOAHAADhBwAA4gcAAOMHAADkBwAA5QcAAOYHAADnBwAA6AcAAOkHAAA=",
          "dtype": "i4"
         },
         "xaxis": "x",
         "y": {
          "bdata": "AAAAAAAAAAAAAAAAAAAAAAAAAAAAAAAAAAAAAAAAAAAAAAAAAAAAAJCc5mv17IA/AAAAAAAAAAAAAAAAAAAAAAAAAAAAAAAAAAAAAAAAAABkIQtZyEJ2PwAAAAAAAAAAAAAAAAAAAAAAAAAAAAAAAJN2F5in0Go/AAAAAAAAAACQnOZr9exwPwAAAAAAAAAAAAAAAAAAAABGE+CseUZjPyFRiXXeWFI/SRpgd9RIaj8AAAAAAAAAAPc8bENliHA/dMBuj7UMTT90wG6PtQxtP5jcnB2Gd1s/GfhdhsITdT/CIdPdRtZaPzUxqFF5XGQ/cJ41AedZYz+X7nMNslJJP0TGn1+fCXA/x7nMqWe5bT9tdQHCylZnP+ere6SVyWM/mpmZmZmZWT8O15GURtZ1P/QFfUFf0Fc/U7A9a/YicD+72tIN12V2P70ALbkfj3o/cEBYTFLPgD8V+OLqBx1lPw==",
          "dtype": "f8"
         },
         "yaxis": "y"
        },
        {
         "fillpattern": {
          "shape": ""
         },
         "hovertemplate": "<b>%{fullData.name}</b><br>Year: %{x}<br>Proportion: %{y:.2%}<extra></extra>",
         "legendgroup": "SRRIs and Ocular Safety",
         "line": {
          "color": "#2ab211"
         },
         "marker": {
          "symbol": "circle"
         },
         "mode": "lines",
         "name": "SRRIs and Ocular Safety",
         "orientation": "v",
         "showlegend": true,
         "stackgroup": "1",
         "type": "scatter",
         "x": {
          "bdata": "vgcAAL8HAADABwAAwQcAAMIHAADDBwAAxAcAAMUHAADGBwAAxwcAAMgHAADJBwAAygcAAMsHAADMBwAAzQcAAM4HAADPBwAA0AcAANEHAADSBwAA0wcAANQHAADVBwAA1gcAANcHAADYBwAA2QcAANoHAADbBwAA3AcAAN0HAADeBwAA3wcAAOAHAADhBwAA4gcAAOMHAADkBwAA5QcAAOYHAADnBwAA6AcAAOkHAAA=",
          "dtype": "i4"
         },
         "xaxis": "x",
         "y": {
          "bdata": "AAAAAAAAAAAAAAAAAAAAAAAAAAAAAAAAAAAAAAAAAAAAAAAAAAAAAJCc5mv17IA/AAAAAAAAAAAAAAAAAAAAAAAAAAAAAAAAAAAAAAAAAAAAAAAAAAAAAAAAAAAAAAAAAAAAAAAAAAAAAAAAAAAAAAAAAAAAAAAAAAAAAAAAAAAAAAAAAAAAAAAAAAAAAAAAms/1x8tgVD/qHFCDtulsPwAAAAAAAAAAhhFA+uKFUT9UCQE5P5VgP/c8bENliFA/dMBuj7UMXT90wG6PtQxtP5jcnB2Gd0s/dvUns1gaXD/CIdPdRtZaPzUxqFF5XGQ/QNOcATTNST/x8haKBf5iP0TGn1+fCXA/n5RwIYbHdz9tdQHCylZ3P+ere6SVyXM/AAAAAAAAgD8O15GURtZ1P/QFfUFf0Gc/DKNy0nTTcj9pkUfRTP9rPymryNC/tHE/2PVmroqccz8AAAAAAAAAAA==",
          "dtype": "f8"
         },
         "yaxis": "y"
        },
        {
         "fillpattern": {
          "shape": ""
         },
         "hovertemplate": "<b>%{fullData.name}</b><br>Year: %{x}<br>Proportion: %{y:.2%}<extra></extra>",
         "legendgroup": "Inflammatory Biomarkers",
         "line": {
          "color": "#d84b8a"
         },
         "marker": {
          "symbol": "circle"
         },
         "mode": "lines",
         "name": "Inflammatory Biomarkers",
         "orientation": "v",
         "showlegend": true,
         "stackgroup": "1",
         "type": "scatter",
         "x": {
          "bdata": "vgcAAL8HAADABwAAwQcAAMIHAADDBwAAxAcAAMUHAADGBwAAxwcAAMgHAADJBwAAygcAAMsHAADMBwAAzQcAAM4HAADPBwAA0AcAANEHAADSBwAA0wcAANQHAADVBwAA1gcAANcHAADYBwAA2QcAANoHAADbBwAA3AcAAN0HAADeBwAA3wcAAOAHAADhBwAA4gcAAOMHAADkBwAA5QcAAOYHAADnBwAA6AcAAOkHAAA=",
          "dtype": "i4"
         },
         "xaxis": "x",
         "y": {
          "bdata": "AAAAAAAAAAAAAAAAAAAAAAAAAAAAAAAAAAAAAAAAAAAAAAAAAAAAAAAAAAAAAAAA9waUiSvdez/D7OAIIq13PxX44uoHHYU/tQojRPYlbz9kIQtZyEJmP+ere6SVyXM/rbegDKv1hj/5IlFq7GF2P+6YEbJ9HHQ/F2DyFmDydj+QnOZr9eyAPzUngbhQc4I/gUPzuf54eT8YGBgYGBh4PyFRiXXeWII/5xXQuFvndT9UCQE5P5VwPzVMR5R+qnQ/QUyuICZXgD9JOKV58SeCP3KlNZakmXQ/JfSMyaOdjz9RWV4mtSCEP4I9EqaXc4k/1rcoYX2Lkj9mkoIam8iTP+Qmlk8vpJE/wXgr+xxSkz9mDHG7YcaQP+WkMHK3b5U/ZmZmZmZmkj+YVSms7Z2WPwZ9QV/QF5Q/hz5EbtA4mj/ozPunwOWZP+7HowaVgp0/XLuLo5edmj+RadhuliehPw==",
          "dtype": "f8"
         },
         "yaxis": "y"
        },
        {
         "fillpattern": {
          "shape": ""
         },
         "hovertemplate": "<b>%{fullData.name}</b><br>Year: %{x}<br>Proportion: %{y:.2%}<extra></extra>",
         "legendgroup": "SSRIs for Depression in Patients with Cardiovascular Disease",
         "line": {
          "color": "#2db5e5"
         },
         "marker": {
          "symbol": "circle"
         },
         "mode": "lines",
         "name": "SSRIs for Depression in Patients with Cardiovascular Disease",
         "orientation": "v",
         "showlegend": true,
         "stackgroup": "1",
         "type": "scatter",
         "x": {
          "bdata": "vgcAAL8HAADABwAAwQcAAMIHAADDBwAAxAcAAMUHAADGBwAAxwcAAMgHAADJBwAAygcAAMsHAADMBwAAzQcAAM4HAADPBwAA0AcAANEHAADSBwAA0wcAANQHAADVBwAA1gcAANcHAADYBwAA2QcAANoHAADbBwAA3AcAAN0HAADeBwAA3wcAAOAHAADhBwAA4gcAAOMHAADkBwAA5QcAAOYHAADnBwAA6AcAAOkHAAA=",
          "dtype": "i4"
         },
         "xaxis": "x",
         "y": {
          "bdata": "AAAAAAAAAAAAAAAAAAAAAAAAAAAAAAAAAAAAAAAAAAAAAAAAAAAAAAAAAAAAAAAA9waUiSvdez8AAAAAAAAAAAAAAAAAAAAAtQojRPYlbz9kIQtZyEJmPwAAAAAAAAAA8ZKAcCJegj8AAAAAAAAAAO6YEbJ9HHQ/Ecg1Ecg1cT/Y6tkhcGOJPzUngbhQc4I/rbh3kqWOkD8YGBgYGBiIP/0m2KbCDYA/zxQsif3OlD/+jYHV3t+IP9TTtDyLu4Y/UCSc0rz4gz9MriAmVxCTP/oilaH3TpA/HLcp1zq2lz/6hY25DzGOPwubA4lW2Iw/dKC2QQdqiz9qbCJPCH2MPwYKZv/+qIk/d28UmaTVkT9mDHG7YcaQP9l6bkSCVI8/zczMzMzMjD9eXpweA/CRP9AX9AV9QY8/fYjcoHE0iD8MJF5KYcyAPymryNC/tIE/cEBYTFLPgD8V+OLqBx1lPw==",
          "dtype": "f8"
         },
         "yaxis": "y"
        },
        {
         "fillpattern": {
          "shape": ""
         },
         "hovertemplate": "<b>%{fullData.name}</b><br>Year: %{x}<br>Proportion: %{y:.2%}<extra></extra>",
         "legendgroup": "Antidepressant Drug Design",
         "line": {
          "color": "#b2ad11"
         },
         "marker": {
          "symbol": "circle"
         },
         "mode": "lines",
         "name": "Antidepressant Drug Design",
         "orientation": "v",
         "showlegend": true,
         "stackgroup": "1",
         "type": "scatter",
         "x": {
          "bdata": "vgcAAL8HAADABwAAwQcAAMIHAADDBwAAxAcAAMUHAADGBwAAxwcAAMgHAADJBwAAygcAAMsHAADMBwAAzQcAAM4HAADPBwAA0AcAANEHAADSBwAA0wcAANQHAADVBwAA1gcAANcHAADYBwAA2QcAANoHAADbBwAA3AcAAN0HAADeBwAA3wcAAOAHAADhBwAA4gcAAOMHAADkBwAA5QcAAOYHAADnBwAA6AcAAOkHAAA=",
          "dtype": "i4"
         },
         "xaxis": "x",
         "y": {
          "bdata": "AAAAAAAAAAAAAAAAAAAAAAAAAAAAAAAAAAAAAAAAAAAAAAAAAAAAAAAAAAAAAAAA9waUiSvdez8AAAAAAAAAAAAAAAAAAAAAAAAAAAAAAABkIQtZyEJmP+ere6SVyXM/8ZKAcCJecj8AAAAAAAAAAJN2F5in0Go/F2DyFmDyZj+QnOZr9exwP2FRARwTFmU/gUPzuf54eT8YGBgYGBh4P7H5TbBNhXs/5xXQuFvnhT/TbGHuNs2GPzVMR5R+qoQ/STilefEngj9XEJMriMl1P5jcnB2Gd4s/JfSMyaOdfz9RWV4mtSCEPzUxqFF5XGQ/2DhpgY2Tdj/x8haKBf5yP8VIeR/fc3Y/LWb9NixZgD+/RsFp8WuEP9+PT9scYno/mpmZmZmZaT+CxauvGzJ/P3FH3BF3xG0/U7A9a/YicD+72tIN12V2P+7HowaVgn0/cEBYTFLPYD8V+OLqBx1lPw==",
          "dtype": "f8"
         },
         "yaxis": "y"
        },
        {
         "fillpattern": {
          "shape": ""
         },
         "hovertemplate": "<b>%{fullData.name}</b><br>Year: %{x}<br>Proportion: %{y:.2%}<extra></extra>",
         "legendgroup": "SSRIs for Depression, Comparative Effectiveness",
         "line": {
          "color": "#ab4bd8"
         },
         "marker": {
          "symbol": "circle"
         },
         "mode": "lines",
         "name": "SSRIs for Depression, Comparative Effectiveness",
         "orientation": "v",
         "showlegend": true,
         "stackgroup": "1",
         "type": "scatter",
         "x": {
          "bdata": "vgcAAL8HAADABwAAwQcAAMIHAADDBwAAxAcAAMUHAADGBwAAxwcAAMgHAADJBwAAygcAAMsHAADMBwAAzQcAAM4HAADPBwAA0AcAANEHAADSBwAA0wcAANQHAADVBwAA1gcAANcHAADYBwAA2QcAANoHAADbBwAA3AcAAN0HAADeBwAA3wcAAOAHAADhBwAA4gcAAOMHAADkBwAA5QcAAOYHAADnBwAA6AcAAOkHAAA=",
          "dtype": "i4"
         },
         "xaxis": "x",
         "y": {
          "bdata": "AAAAAAAAAAAAAAAAAAAAAAAAAAAAAAAAAAAAAAAAAAAAAAAAAAAAAAAAAAAAAAAA9waUiSvdez8AAAAAAAAAAAAAAAAAAAAAAAAAAAAAAAAAAAAAAAAAAAAAAAAAAAAA8ZKAcCJecj9M2Rbj5dddP5N2F5in0Fo/F2DyFmDyVj/A0Ig6R5FWPxL6AaocoW8/ms/1x8tgVD9GE+CseUZTP7H5TbBNhWs/5xXQuFvndT9UCQE5P5VwP3JbIuWXzGg/STilefEncj9XEJMriMl1P3KlNZakmXQ/dvUns1gafD+JvRgCfnt3P76OmTQ4wYc/CAQCgUAgcD896tCQXqdvPwYKZv/+qHk/M6ee5XbAej/I0oFyfSx9P+myxtZzI4I/MzMzMzMziz/72WJl+EaEPzZlTVlT1oQ/DKNy0nTTgj9pkUfRTP97P+7HowaVgn0/JJtffe41gj8V+OLqBx11Pw==",
          "dtype": "f8"
         },
         "yaxis": "y"
        },
        {
         "fillpattern": {
          "shape": ""
         },
         "hovertemplate": "<b>%{fullData.name}</b><br>Year: %{x}<br>Proportion: %{y:.2%}<extra></extra>",
         "legendgroup": "Neurometabolite Changes with Antidepressants",
         "line": {
          "color": "#2de574"
         },
         "marker": {
          "symbol": "circle"
         },
         "mode": "lines",
         "name": "Neurometabolite Changes with Antidepressants",
         "orientation": "v",
         "showlegend": true,
         "stackgroup": "1",
         "type": "scatter",
         "x": {
          "bdata": "vgcAAL8HAADABwAAwQcAAMIHAADDBwAAxAcAAMUHAADGBwAAxwcAAMgHAADJBwAAygcAAMsHAADMBwAAzQcAAM4HAADPBwAA0AcAANEHAADSBwAA0wcAANQHAADVBwAA1gcAANcHAADYBwAA2QcAANoHAADbBwAA3AcAAN0HAADeBwAA3wcAAOAHAADhBwAA4gcAAOMHAADkBwAA5QcAAOYHAADnBwAA6AcAAOkHAAA=",
          "dtype": "i4"
         },
         "xaxis": "x",
         "y": {
          "bdata": "AAAAAAAAAAAAAAAAAAAAAAAAAAAAAAAAAAAAAAAAAAAAAAAAAAAAAAAAAAAAAAAA9waUiSvdez8AAAAAAAAAAAAAAAAAAAAAtQojRPYlbz8AAAAAAAAAAAAAAAAAAAAAAAAAAAAAAABM2Rbj5dddPwAAAAAAAAAAF2DyFmDyVj/A0Ig6R5FWP2FRARwTFlU/ms/1x8tgVD9GE+CseUZjPyFRiXXeWGI/SRpgd9RIaj9UCQE5P5VgPwAAAAAAAAAAdMBuj7UMTT90wG6PtQxdP98JgtKzKnE/dvUns1gabD8Z9aNK7MVwP0bsihf3JWs/QNOcATTNeT/x8haKBf5yP0fLUt8e3nw/x7nMqWe5fT8SGIERGIGBP+myxtZzI4I/MzMzMzMzcz810e/y4vRoP3fEHXFH3HE/DKNy0nTTcj8SNo3vkTJ5P1pyPx41qHQ/eMuhNmzRfj8V+OLqBx11Pw==",
          "dtype": "f8"
         },
         "yaxis": "y"
        },
        {
         "fillpattern": {
          "shape": ""
         },
         "hovertemplate": "<b>%{fullData.name}</b><br>Year: %{x}<br>Proportion: %{y:.2%}<extra></extra>",
         "legendgroup": "SSRIs Effect on Neural Processing of Emotional Cues",
         "line": {
          "color": "#b22111"
         },
         "marker": {
          "symbol": "circle"
         },
         "mode": "lines",
         "name": "SSRIs Effect on Neural Processing of Emotional Cues",
         "orientation": "v",
         "showlegend": true,
         "stackgroup": "1",
         "type": "scatter",
         "x": {
          "bdata": "vgcAAL8HAADABwAAwQcAAMIHAADDBwAAxAcAAMUHAADGBwAAxwcAAMgHAADJBwAAygcAAMsHAADMBwAAzQcAAM4HAADPBwAA0AcAANEHAADSBwAA0wcAANQHAADVBwAA1gcAANcHAADYBwAA2QcAANoHAADbBwAA3AcAAN0HAADeBwAA3wcAAOAHAADhBwAA4gcAAOMHAADkBwAA5QcAAOYHAADnBwAA6AcAAOkHAAA=",
          "dtype": "i4"
         },
         "xaxis": "x",
         "y": {
          "bdata": "AAAAAAAAAAAAAAAAAAAAAAAAAAAAAAAAAAAAAAAAAAAAAAAAAAAAAAAAAAAAAAAA9waUiSvdez8AAAAAAAAAAAAAAAAAAAAAAAAAAAAAAAAAAAAAAAAAAAAAAAAAAAAA8ZKAcCJeYj8AAAAAAAAAAJN2F5in0Go/Ecg1Ecg1cT/A0Ig6R5FWP2FRARwTFnU/ms/1x8tgdD9GE+CseUZzP0V7OkT6o4Q/hhFA+uKFYT8or6G8hvKKP/c8bENliIA/ZuiA3R5reT9t1Hc26juLP5jcnB2Gd4s/cHeQEWjVlj+JvRgCfnuXP5eIZAqpNZU/cJ41AedZkz+X7nMNslKZP8VIeR/fc5Y/d28UmaTVkT9tdQHCylaXP+myxtZzI5I/zczMzMzMkD810e/y4vSYP+KOuCPuiJs/nKoTCY5Bnj+Wg3BrNn+fPw+Ed3ouE6I/HReaWPkooT8SmYbtZnmSPw==",
          "dtype": "f8"
         },
         "yaxis": "y"
        },
        {
         "fillpattern": {
          "shape": ""
         },
         "hovertemplate": "<b>%{fullData.name}</b><br>Year: %{x}<br>Proportion: %{y:.2%}<extra></extra>",
         "legendgroup": "SSRI Crystal Structure and Complexation",
         "line": {
          "color": "#4b67d8"
         },
         "marker": {
          "symbol": "circle"
         },
         "mode": "lines",
         "name": "SSRI Crystal Structure and Complexation",
         "orientation": "v",
         "showlegend": true,
         "stackgroup": "1",
         "type": "scatter",
         "x": {
          "bdata": "vgcAAL8HAADABwAAwQcAAMIHAADDBwAAxAcAAMUHAADGBwAAxwcAAMgHAADJBwAAygcAAMsHAADMBwAAzQcAAM4HAADPBwAA0AcAANEHAADSBwAA0wcAANQHAADVBwAA1gcAANcHAADYBwAA2QcAANoHAADbBwAA3AcAAN0HAADeBwAA3wcAAOAHAADhBwAA4gcAAOMHAADkBwAA5QcAAOYHAADnBwAA6AcAAOkHAAA=",
          "dtype": "i4"
         },
         "xaxis": "x",
         "y": {
          "bdata": "AAAAAAAAAAAAAAAAAAAAAAAAAAAAAAAAAAAAAAAAAAAAAAAAAAAAAAAAAAAAAAAA9waUiSvdez8AAAAAAAAAAAAAAAAAAAAAAAAAAAAAAAAAAAAAAAAAAAAAAAAAAAAAAAAAAAAAAAAAAAAAAAAAAAAAAAAAAAAAAAAAAAAAAAAAAAAAAAAAABL6AaocoW8/AAAAAAAAAAAAAAAAAAAAACFRiXXeWFI/hhFA+uKFcT/+jYHV3t9oP3JbIuWXzGg/dMBuj7UMXT9XEJMriMllP3KlNZakmWQ/AAAAAAAAAADCIdPdRtZqP0bsihf3JVs/2DhpgY2Tdj/EcMXLWyh2P0TGn1+fCXA/M6ee5XbAej9tdQHCylZ3P9+PT9scYmo/mpmZmZmZaT/o3DM2qrdiP3fEHXFH3GE/NnsRCPDkaj8SNo3vkTJ5P70ALbkfj3o/2PVmroqcgz8V+OLqBx11Pw==",
          "dtype": "f8"
         },
         "yaxis": "y"
        },
        {
         "fillpattern": {
          "shape": ""
         },
         "hovertemplate": "<b>%{fullData.name}</b><br>Year: %{x}<br>Proportion: %{y:.2%}<extra></extra>",
         "legendgroup": "SSRIs for (Psycho)dermatological Diseases",
         "line": {
          "color": "#87e52d"
         },
         "marker": {
          "symbol": "circle"
         },
         "mode": "lines",
         "name": "SSRIs for (Psycho)dermatological Diseases",
         "orientation": "v",
         "showlegend": true,
         "stackgroup": "1",
         "type": "scatter",
         "x": {
          "bdata": "vgcAAL8HAADABwAAwQcAAMIHAADDBwAAxAcAAMUHAADGBwAAxwcAAMgHAADJBwAAygcAAMsHAADMBwAAzQcAAM4HAADPBwAA0AcAANEHAADSBwAA0wcAANQHAADVBwAA1gcAANcHAADYBwAA2QcAANoHAADbBwAA3AcAAN0HAADeBwAA3wcAAOAHAADhBwAA4gcAAOMHAADkBwAA5QcAAOYHAADnBwAA6AcAAOkHAAA=",
          "dtype": "i4"
         },
         "xaxis": "x",
         "y": {
          "bdata": "AAAAAAAAAAAAAAAAAAAAAAAAAAAAAAAAAAAAAAAAAAAAAAAAAAAAAAAAAAAAAAAAAAAAAAAAAADD7OAIIq13PwAAAAAAAAAAtQojRPYlbz9kIQtZyEJ2P+ere6SVyXM/AAAAAAAAAABM2Rbj5ddtP5N2F5in0Fo/HfiuHPiufD/A0Ig6R5F2P2FRARwTFnU/ms/1x8tgZD/qHFCDtul8P2ml6xIW73Y/txOIWZ+2gz+pS0EHj7qEP3JbIuWXzHg/QUyuICZXgD9JOKV58SeCPztzD/gcUYY/avn4b3eQgT9RWV4mtSCEP0bsihf3JWs/PNEbwRO9gT9qbCJPCH18P4WHjD+/PoM/n5RwIYbHdz9oL6G9hPaCP9l6bkSCVI8/mpmZmZmZiT8O15GURtaFP5U1ZU1ZU4Y/fYjcoHE0iD8PrfWcef+EP4crX61P/I4/cEBYTFLPgD8V+OLqBx2FPw==",
          "dtype": "f8"
         },
         "yaxis": "y"
        },
        {
         "fillpattern": {
          "shape": ""
         },
         "hovertemplate": "<b>%{fullData.name}</b><br>Year: %{x}<br>Proportion: %{y:.2%}<extra></extra>",
         "legendgroup": "SSRIs for Body Dysmorphic Disorder (BDD)",
         "line": {
          "color": "#b2118f"
         },
         "marker": {
          "symbol": "circle"
         },
         "mode": "lines",
         "name": "SSRIs for Body Dysmorphic Disorder (BDD)",
         "orientation": "v",
         "showlegend": true,
         "stackgroup": "1",
         "type": "scatter",
         "x": {
          "bdata": "vgcAAL8HAADABwAAwQcAAMIHAADDBwAAxAcAAMUHAADGBwAAxwcAAMgHAADJBwAAygcAAMsHAADMBwAAzQcAAM4HAADPBwAA0AcAANEHAADSBwAA0wcAANQHAADVBwAA1gcAANcHAADYBwAA2QcAANoHAADbBwAA3AcAAN0HAADeBwAA3wcAAOAHAADhBwAA4gcAAOMHAADkBwAA5QcAAOYHAADnBwAA6AcAAOkHAAA=",
          "dtype": "i4"
         },
         "xaxis": "x",
         "y": {
          "bdata": "AAAAAAAAAAAAAAAAAAAAAAAAAAAAAAAAAAAAAAAAAAAAAAAAAAAAAAAAAAAAAAAAAAAAAAAAAADD7OAIIq13PxX44uoHHXU/CEgas3hchz9kIQtZyEJmP9uBuXZgrn0/8ZKAcCJecj9M2Rbj5ddtP+6YEbJ9HIQ/HfiuHPiufD+QnOZr9eyAP2FRARwTFnU/pxX3TrLUgT/qHFCDtul8P0V7OkT6o4Q/txOIWZ+2gz8or6G8hvKKP7Bq/TWx7nw/ZuiA3R5reT9JOKV58SdyP98JgtKzKnE/x/bCnA2XeD9RWV4mtSBkP0bsihf3JXs/QNOcATTNeT896tCQXqd/PwYKZv/+qHk/d28UmaTVYT8apEEapEF6P9+PT9scYmo/AAAAAAAAgD/o3DM2qrdyP/QFfUFf0Gc/NnsRCPDkaj9pkUfRTP97P4s5tmuqm3c/JJtffe41gj8V+OLqBx1lPw==",
          "dtype": "f8"
         },
         "yaxis": "y"
        },
        {
         "fillpattern": {
          "shape": ""
         },
         "hovertemplate": "<b>%{fullData.name}</b><br>Year: %{x}<br>Proportion: %{y:.2%}<extra></extra>",
         "legendgroup": "SSRIs for Borderline Personality Disorder",
         "line": {
          "color": "#4bd8ce"
         },
         "marker": {
          "symbol": "circle"
         },
         "mode": "lines",
         "name": "SSRIs for Borderline Personality Disorder",
         "orientation": "v",
         "showlegend": true,
         "stackgroup": "1",
         "type": "scatter",
         "x": {
          "bdata": "vgcAAL8HAADABwAAwQcAAMIHAADDBwAAxAcAAMUHAADGBwAAxwcAAMgHAADJBwAAygcAAMsHAADMBwAAzQcAAM4HAADPBwAA0AcAANEHAADSBwAA0wcAANQHAADVBwAA1gcAANcHAADYBwAA2QcAANoHAADbBwAA3AcAAN0HAADeBwAA3wcAAOAHAADhBwAA4gcAAOMHAADkBwAA5QcAAOYHAADnBwAA6AcAAOkHAAA=",
          "dtype": "i4"
         },
         "xaxis": "x",
         "y": {
          "bdata": "AAAAAAAAAAAAAAAAAAAAAAAAAAAAAAAAAAAAAAAAAAAAAAAAAAAAAAAAAAAAAAAAAAAAAAAAAADD7OAIIq13PxX44uoHHXU/CEgas3hchz9kIQtZyEKGP9uBuXZgro0/atzAqDONiz/5IlFq7GF2PxyqDr9owoA/GqzQGazQiT/Y6tkhcGOJPxL6AaocoW8/gUPzuf54eT9GE+CseUZTP43PnOExOok/hhFA+uKFgT9UCQE5P5WAPzVMR5R+qnQ/ZuiA3R5reT90wG6PtQxtP3KlNZakmYQ/JfSMyaOdfz/6hY25DzF+P89JfPq1in4/QNOcATTNaT+X7nMNslJpP4WHjD+/PnM/d28UmaTVcT8SGIERGIFxP9+PT9scYlo/MzMzMzMzcz8O15GURtZ1P/QFfUFf0Gc/U7A9a/YicD8MJF5KYcxwP4s5tmuqm2c/cEBYTFLPcD8V+OLqBx1lPw==",
          "dtype": "f8"
         },
         "yaxis": "y"
        },
        {
         "fillpattern": {
          "shape": ""
         },
         "hovertemplate": "<b>%{fullData.name}</b><br>Year: %{x}<br>Proportion: %{y:.2%}<extra></extra>",
         "legendgroup": "The Chronic Unpredictable Mild Stress Model of Depression",
         "line": {
          "color": "#e5a22d"
         },
         "marker": {
          "symbol": "circle"
         },
         "mode": "lines",
         "name": "The Chronic Unpredictable Mild Stress Model of Depression",
         "orientation": "v",
         "showlegend": true,
         "stackgroup": "1",
         "type": "scatter",
         "x": {
          "bdata": "vgcAAL8HAADABwAAwQcAAMIHAADDBwAAxAcAAMUHAADGBwAAxwcAAMgHAADJBwAAygcAAMsHAADMBwAAzQcAAM4HAADPBwAA0AcAANEHAADSBwAA0wcAANQHAADVBwAA1gcAANcHAADYBwAA2QcAANoHAADbBwAA3AcAAN0HAADeBwAA3wcAAOAHAADhBwAA4gcAAOMHAADkBwAA5QcAAOYHAADnBwAA6AcAAOkHAAA=",
          "dtype": "i4"
         },
         "xaxis": "x",
         "y": {
          "bdata": "AAAAAAAAAAAAAAAAAAAAAAAAAAAAAAAAAAAAAAAAAAAAAAAAAAAAAAAAAAAAAAAAAAAAAAAAAADD7OAIIq13PwAAAAAAAAAAAAAAAAAAAABkIQtZyEJ2PwAAAAAAAAAAAAAAAAAAAABM2Rbj5dddPwAAAAAAAAAAF2DyFmDyZj8AAAAAAAAAAGFRARwTFlU/ms/1x8tgZD9GE+CseUZTPyFRiXXeWFI/hhFA+uKFcT9UCQE5P5VwP/c8bENliFA/ZuiA3R5reT90wG6PtQxtP6jXWzQs4oI/x/bCnA2XeD/CIdPdRtaKP4I9EqaXc4k/PNEbwRO9kT8iTwh9HIiYP+crSc+ueJ4/Zv02LFkQpD+/RsFp8WukPyHVB4GDJak/zczMzMzMpj+rUljbOy2oP8qasqasKas/z0sPB1KIpz9mCLB+NMynP70ALbkfj6o/r+RJl/BDqj8atpvlSWSqPw==",
          "dtype": "f8"
         },
         "yaxis": "y"
        },
        {
         "fillpattern": {
          "shape": ""
         },
         "hovertemplate": "<b>%{fullData.name}</b><br>Year: %{x}<br>Proportion: %{y:.2%}<extra></extra>",
         "legendgroup": "Bleeding Risk",
         "line": {
          "color": "#4911b2"
         },
         "marker": {
          "symbol": "circle"
         },
         "mode": "lines",
         "name": "Bleeding Risk",
         "orientation": "v",
         "showlegend": true,
         "stackgroup": "1",
         "type": "scatter",
         "x": {
          "bdata": "vgcAAL8HAADABwAAwQcAAMIHAADDBwAAxAcAAMUHAADGBwAAxwcAAMgHAADJBwAAygcAAMsHAADMBwAAzQcAAM4HAADPBwAA0AcAANEHAADSBwAA0wcAANQHAADVBwAA1gcAANcHAADYBwAA2QcAANoHAADbBwAA3AcAAN0HAADeBwAA3wcAAOAHAADhBwAA4gcAAOMHAADkBwAA5QcAAOYHAADnBwAA6AcAAOkHAAA=",
          "dtype": "i4"
         },
         "xaxis": "x",
         "y": {
          "bdata": "AAAAAAAAAAAAAAAAAAAAAAAAAAAAAAAAAAAAAAAAAAAAAAAAAAAAAAAAAAAAAAAAAAAAAAAAAAAAAAAAAAAAABX44uoHHXU/AAAAAAAAAABkIQtZyEJmP+ere6SVyWM/AAAAAAAAAABM2Rbj5ddtPxyqDr9owoA/Ecg1Ecg1cT/A0Ig6R5FmP2FRARwTFlU/jYn0QOXshj9GE+CseUZzP7H5TbBNhWs/5xXQuFvndT+pS0EHj7qEP0/yat69/44/bdR3Nuo7iz9t1Hc26juLP5jcnB2Gd4s/JfSMyaOdjz/eU7BLq4OMP6zTtm6695A/ouoOIarukD+BLUsu3eeKPzRXkUd3cZI/fbC1R+88jD8WXuEVXuGFP+ere6SVyZM/AAAAAAAAkD810e/y4vSIPxJ3xB1xR4w/DKNy0nTTgj9mCLB+NMyHP/PV+sTvIYY/EBaT1DMEjD8atpvlSWSKPw==",
          "dtype": "f8"
         },
         "yaxis": "y"
        },
        {
         "fillpattern": {
          "shape": ""
         },
         "hovertemplate": "<b>%{fullData.name}</b><br>Year: %{x}<br>Proportion: %{y:.2%}<extra></extra>",
         "legendgroup": "Suicice Risk",
         "line": {
          "color": "#4bd853"
         },
         "marker": {
          "symbol": "circle"
         },
         "mode": "lines",
         "name": "Suicice Risk",
         "orientation": "v",
         "showlegend": true,
         "stackgroup": "1",
         "type": "scatter",
         "x": {
          "bdata": "vgcAAL8HAADABwAAwQcAAMIHAADDBwAAxAcAAMUHAADGBwAAxwcAAMgHAADJBwAAygcAAMsHAADMBwAAzQcAAM4HAADPBwAA0AcAANEHAADSBwAA0wcAANQHAADVBwAA1gcAANcHAADYBwAA2QcAANoHAADbBwAA3AcAAN0HAADeBwAA3wcAAOAHAADhBwAA4gcAAOMHAADkBwAA5QcAAOYHAADnBwAA6AcAAOkHAAA=",
          "dtype": "i4"
         },
         "xaxis": "x",
         "y": {
          "bdata": "AAAAAAAAAAAAAAAAAAAAAAAAAAAAAAAAAAAAAAAAAAAAAAAAAAAAAAAAAAAAAAAAAAAAAAAAAAAAAAAAAAAAABX44uoHHXU/tQojRPYlnz+96U1vetObP9uBuXZgro0/C8qwWm9BmT9M2Rbj5deNP+6YEbJ9HIQ/Ecg1Ecg1cT+otjdTHr+DPzUngbhQc4I/gUPzuf54eT/qHFCDtul8PyFRiXXeWHI/bhCcyoRtkD9T0MGjLgWNP8YAo5frkJE/dMBuj7UMnT9JOKV58SeSP/oilaH3TpA/avn4b3eQkT+l7/Vv4iiJP0bsihf3JYs/cJ41AedZgz9qbCJPCH18P6ZqXO+OQ4s/LWb9NixZgD+/RsFp8WuEP+Od5T/ZFXc/AAAAAAAAcD810e/y4vR4P/QFfUFf0Hc/U7A9a/YigD9jfxgsHJmDP5BHDSoFO4A/9AV9QV/Qhz8V+OLqBx11Pw==",
          "dtype": "f8"
         },
         "yaxis": "y"
        },
        {
         "fillpattern": {
          "shape": ""
         },
         "hovertemplate": "<b>%{fullData.name}</b><br>Year: %{x}<br>Proportion: %{y:.2%}<extra></extra>",
         "legendgroup": "SSRIs for Pediatric Depression",
         "line": {
          "color": "#e52d59"
         },
         "marker": {
          "symbol": "circle"
         },
         "mode": "lines",
         "name": "SSRIs for Pediatric Depression",
         "orientation": "v",
         "showlegend": true,
         "stackgroup": "1",
         "type": "scatter",
         "x": {
          "bdata": "vgcAAL8HAADABwAAwQcAAMIHAADDBwAAxAcAAMUHAADGBwAAxwcAAMgHAADJBwAAygcAAMsHAADMBwAAzQcAAM4HAADPBwAA0AcAANEHAADSBwAA0wcAANQHAADVBwAA1gcAANcHAADYBwAA2QcAANoHAADbBwAA3AcAAN0HAADeBwAA3wcAAOAHAADhBwAA4gcAAOMHAADkBwAA5QcAAOYHAADnBwAA6AcAAOkHAAA=",
          "dtype": "i4"
         },
         "xaxis": "x",
         "y": {
          "bdata": "AAAAAAAAAAAAAAAAAAAAAAAAAAAAAAAAAAAAAAAAAAAAAAAAAAAAAAAAAAAAAAAAAAAAAAAAAAAAAAAAAAAAABX44uoHHYU/tQojRPYlbz9kIQtZyEKGP+ere6SVyXM/atzAqDONiz/5IlFq7GGGP4UhkDhzb5I/IESNH0SNjz/wBCsJmTWMP2FRARwTFpU/rbh3kqWOkD+BGrRN54CaP9Yj/35p0J0/YRsEpzJhmz8JATk/lRCgPzVMR5R+qqQ/ZuiA3R5rqT9OaV78iYSjP98JgtKzKqE/GfhdhsITpT97JCrLy6SWP13/FEtSZKE/2rmpoZ2bmj9Q0Vk7xl2VP/eaV+fWEJw/HPQfyuCTkj9qUtG/pyaVP2IawCbq6Jc/AAAAAAAAnD/U3wQHXCihP0Ff0Bf0BZ0/IQ9CbTLclj+72tIN12WWP/PV+sTvIZY/yu3bZKCCkT8atpvlSWSaPw==",
          "dtype": "f8"
         },
         "yaxis": "y"
        },
        {
         "fillpattern": {
          "shape": ""
         },
         "hovertemplate": "<b>%{fullData.name}</b><br>Year: %{x}<br>Proportion: %{y:.2%}<extra></extra>",
         "legendgroup": "SSRIs for Premenstrual Dysphoric Disorder (PMDD)",
         "line": {
          "color": "#1167b2"
         },
         "marker": {
          "symbol": "circle"
         },
         "mode": "lines",
         "name": "SSRIs for Premenstrual Dysphoric Disorder (PMDD)",
         "orientation": "v",
         "showlegend": true,
         "stackgroup": "1",
         "type": "scatter",
         "x": {
          "bdata": "vgcAAL8HAADABwAAwQcAAMIHAADDBwAAxAcAAMUHAADGBwAAxwcAAMgHAADJBwAAygcAAMsHAADMBwAAzQcAAM4HAADPBwAA0AcAANEHAADSBwAA0wcAANQHAADVBwAA1gcAANcHAADYBwAA2QcAANoHAADbBwAA3AcAAN0HAADeBwAA3wcAAOAHAADhBwAA4gcAAOMHAADkBwAA5QcAAOYHAADnBwAA6AcAAOkHAAA=",
          "dtype": "i4"
         },
         "xaxis": "x",
         "y": {
          "bdata": "AAAAAAAAAAAAAAAAAAAAAAAAAAAAAAAAAAAAAAAAAAAAAAAAAAAAAAAAAAAAAAAAAAAAAAAAAAAAAAAAAAAAABX44uoHHYU/tQojRPYlbz9kIQtZyEJmP9uBuXZgrn0/8ZKAcCJegj/5IlFq7GF2P+6YEbJ9HIQ/IESNH0SNjz/wBCsJmTWMP417gX/VuIc/ms/1x8tglD8SEhISEhKSP/0m2KbCDaA/zxQsif3OlD/TbGHuNs2GP7Bq/TWx7ow/STilefEngj9BTK4gJleAP84Ow7sNwIk/x/bCnA2XeD8Z9aNK7MVwP76OmTQ4wXc/QNOcATTNeT/bMe6qMJOEP0TGn1+fCXA/C4JCXZXOdD9tdQHCylZ3P+u5EQlSfXA/ZmZmZmZmdj810e/y4vRoP7OmrClryno/DKNy0nTTcj9jfxgsHJlzP8EOhHd6LoM/qGCEcvs2eT8V+OLqBx11Pw==",
          "dtype": "f8"
         },
         "yaxis": "y"
        },
        {
         "fillpattern": {
          "shape": ""
         },
         "hovertemplate": "<b>%{fullData.name}</b><br>Year: %{x}<br>Proportion: %{y:.2%}<extra></extra>",
         "legendgroup": "SSRIs for Autism Spectrum Disorders",
         "line": {
          "color": "#bfd84b"
         },
         "marker": {
          "symbol": "circle"
         },
         "mode": "lines",
         "name": "SSRIs for Autism Spectrum Disorders",
         "orientation": "v",
         "showlegend": true,
         "stackgroup": "1",
         "type": "scatter",
         "x": {
          "bdata": "vgcAAL8HAADABwAAwQcAAMIHAADDBwAAxAcAAMUHAADGBwAAxwcAAMgHAADJBwAAygcAAMsHAADMBwAAzQcAAM4HAADPBwAA0AcAANEHAADSBwAA0wcAANQHAADVBwAA1gcAANcHAADYBwAA2QcAANoHAADbBwAA3AcAAN0HAADeBwAA3wcAAOAHAADhBwAA4gcAAOMHAADkBwAA5QcAAOYHAADnBwAA6AcAAOkHAAA=",
          "dtype": "i4"
         },
         "xaxis": "x",
         "y": {
          "bdata": "AAAAAAAAAAAAAAAAAAAAAAAAAAAAAAAAAAAAAAAAAAAAAAAAAAAAAAAAAAAAAAAAAAAAAAAAAAAAAAAAAAAAABX44uoHHXU/tQojRPYljz9kIQtZyEKGP9uBuXZgro0/atzAqDONez/5IlFq7GF2P+6YEbJ9HIQ/F2DyFmDyZj/A0Ig6R5GGP7mlAeOXW3o/ms/1x8tghD9GE+CseUaDPyFRiXXeWHI/SRpgd9RIej+pS0EHj7p0P9TTtDyLu4Y/UCSc0rz4gz9JOKV58SdyP3KlNZakmYQ/JfSMyaOdfz/6hY25DzF+P0bsihf3JXs/QNOcATTNeT/EcMXLWyiGP4WHjD+/PoM/VYtZvw1Lhj+7AGFlqwuAP9+PT9scYno/AAAAAAAAgD8i1MDDlGWHPxj0BX1BX4A/sCnYnjV7gT8SNo3vkTJ5P70ALbkfj3o/JJtffe41gj8atpvlSWSKPw==",
          "dtype": "f8"
         },
         "yaxis": "y"
        },
        {
         "fillpattern": {
          "shape": ""
         },
         "hovertemplate": "<b>%{fullData.name}</b><br>Year: %{x}<br>Proportion: %{y:.2%}<extra></extra>",
         "legendgroup": "SSRIs (Fluvoxamine) for Schizophrenia",
         "line": {
          "color": "#d02de5"
         },
         "marker": {
          "symbol": "circle"
         },
         "mode": "lines",
         "name": "SSRIs (Fluvoxamine) for Schizophrenia",
         "orientation": "v",
         "showlegend": true,
         "stackgroup": "1",
         "type": "scatter",
         "x": {
          "bdata": "vgcAAL8HAADABwAAwQcAAMIHAADDBwAAxAcAAMUHAADGBwAAxwcAAMgHAADJBwAAygcAAMsHAADMBwAAzQcAAM4HAADPBwAA0AcAANEHAADSBwAA0wcAANQHAADVBwAA1gcAANcHAADYBwAA2QcAANoHAADbBwAA3AcAAN0HAADeBwAA3wcAAOAHAADhBwAA4gcAAOMHAADkBwAA5QcAAOYHAADnBwAA6AcAAOkHAAA=",
          "dtype": "i4"
         },
         "xaxis": "x",
         "y": {
          "bdata": "AAAAAAAAAAAAAAAAAAAAAAAAAAAAAAAAAAAAAAAAAAAAAAAAAAAAAAAAAAAAAAAAAAAAAAAAAAAAAAAAAAAAABX44uoHHYU/tQojRPYlbz8AAAAAAAAAAOere6SVyXM/k4BwIl4SkD/QR+6t76aCP+6YEbJ9HIQ/F2DyFmDyhj+QnOZr9eyQP2FRARwTFoU/Z7fwqzGRfj+vFXziSK+FP/0m2KbCDYA/txOIWZ+2gz/TbGHuNs2GP3JbIuWXzIg/ZuiA3R5reT9XEJMriMmFPyt4UOF25n4/x/bCnA2XeD8Z9aNK7MVwPzUxqFF5XHQ/2DhpgY2Tdj/x8haKBf5yP8VIeR/fc3Y/d28UmaTVYT+/RsFp8Wt0P+ere6SVyWM/AAAAAAAAgD+CxauvGzJvP3fEHXFH3HE/U7A9a/YicD9jfxgsHJlzP1pyPx41qHQ/jFBu3yYDhT8gdFTgi6t/Pw==",
          "dtype": "f8"
         },
         "yaxis": "y"
        },
        {
         "fillpattern": {
          "shape": ""
         },
         "hovertemplate": "<b>%{fullData.name}</b><br>Year: %{x}<br>Proportion: %{y:.2%}<extra></extra>",
         "legendgroup": "SSRIs Effects on Antimicrobials and Gut Microbiome",
         "line": {
          "color": "#11b271"
         },
         "marker": {
          "symbol": "circle"
         },
         "mode": "lines",
         "name": "SSRIs Effects on Antimicrobials and Gut Microbiome",
         "orientation": "v",
         "showlegend": true,
         "stackgroup": "1",
         "type": "scatter",
         "x": {
          "bdata": "vgcAAL8HAADABwAAwQcAAMIHAADDBwAAxAcAAMUHAADGBwAAxwcAAMgHAADJBwAAygcAAMsHAADMBwAAzQcAAM4HAADPBwAA0AcAANEHAADSBwAA0wcAANQHAADVBwAA1gcAANcHAADYBwAA2QcAANoHAADbBwAA3AcAAN0HAADeBwAA3wcAAOAHAADhBwAA4gcAAOMHAADkBwAA5QcAAOYHAADnBwAA6AcAAOkHAAA=",
          "dtype": "i4"
         },
         "xaxis": "x",
         "y": {
          "bdata": "AAAAAAAAAAAAAAAAAAAAAAAAAAAAAAAAAAAAAAAAAAAAAAAAAAAAAAAAAAAAAAAAAAAAAAAAAAAAAAAAAAAAABX44uoHHXU/AAAAAAAAAAAAAAAAAAAAAAAAAAAAAAAAAAAAAAAAAAAAAAAAAAAAAAAAAAAAAAAAAAAAAAAAAAAAAAAAAAAAAAAAAAAAAAAAAAAAAAAAAABGE+CseUZTPyFRiXXeWFI/AAAAAAAAAAAAAAAAAAAAAAAAAAAAAAAAAAAAAAAAAAB0wG6PtQxNP3KlNZakmWQ/dvUns1gaXD/CIdPdRtZaP0bsihf3JVs/CAQCgUAgcD/x8haKBf5iPwYKZv/+qGk/n5RwIYbHZz9tdQHCylZHP9+PT9scYko/MzMzMzMzcz810e/y4vSIP/QFfUFf0Ic/XmalOFUnkj8MJF5KYcyAP47A4cpX65M/EBaT1DMEjD8dFfji6gedPw==",
          "dtype": "f8"
         },
         "yaxis": "y"
        },
        {
         "fillpattern": {
          "shape": ""
         },
         "hovertemplate": "<b>%{fullData.name}</b><br>Year: %{x}<br>Proportion: %{y:.2%}<extra></extra>",
         "legendgroup": "SSRIs for PTSD",
         "line": {
          "color": "#d8764b"
         },
         "marker": {
          "symbol": "circle"
         },
         "mode": "lines",
         "name": "SSRIs for PTSD",
         "orientation": "v",
         "showlegend": true,
         "stackgroup": "1",
         "type": "scatter",
         "x": {
          "bdata": "vgcAAL8HAADABwAAwQcAAMIHAADDBwAAxAcAAMUHAADGBwAAxwcAAMgHAADJBwAAygcAAMsHAADMBwAAzQcAAM4HAADPBwAA0AcAANEHAADSBwAA0wcAANQHAADVBwAA1gcAANcHAADYBwAA2QcAANoHAADbBwAA3AcAAN0HAADeBwAA3wcAAOAHAADhBwAA4gcAAOMHAADkBwAA5QcAAOYHAADnBwAA6AcAAOkHAAA=",
          "dtype": "i4"
         },
         "xaxis": "x",
         "y": {
          "bdata": "AAAAAAAAAAAAAAAAAAAAAAAAAAAAAAAAAAAAAAAAAAAAAAAAAAAAAAAAAAAAAAAAAAAAAAAAAAAAAAAAAAAAAAAAAAAAAAAAtQojRPYlbz9kIQtZyEJ2P+ere6SVyXM/8ZKAcCJecj9M2Rbj5dddP5N2F5in0Go/F2DyFmDydj+QnOZr9eyAPzUngbhQc4I/pxX3TrLUkT9MGeayf0yZP43PnOExOpk/qh7wNU2qjj9UCQE5P5WQP3JbIuWXzHg/W4YO2O2xlj9t1Hc26juLP5jcnB2Gd4s/GfhdhsIThT/eU7BLq4OMP76OmTQ4wYc/ouoOIarukD9Q0Vk7xl2VP5T2mlfn1pA/sAZOjtGMlT9oL6G9hPaSP9uBuXZgro0/mpmZmZmZlT+YVSms7Z2WPzZlTVlT1pQ/XmalOFUnkj/ozPunwOWZP8EOhHd6LpM/qGCEcvs2mT8gdFTgi6uPPw==",
          "dtype": "f8"
         },
         "yaxis": "y"
        },
        {
         "fillpattern": {
          "shape": ""
         },
         "hovertemplate": "<b>%{fullData.name}</b><br>Year: %{x}<br>Proportion: %{y:.2%}<extra></extra>",
         "legendgroup": "Pharmacogenetics in SSRI Treatment",
         "line": {
          "color": "#2f2de5"
         },
         "marker": {
          "symbol": "circle"
         },
         "mode": "lines",
         "name": "Pharmacogenetics in SSRI Treatment",
         "orientation": "v",
         "showlegend": true,
         "stackgroup": "1",
         "type": "scatter",
         "x": {
          "bdata": "vgcAAL8HAADABwAAwQcAAMIHAADDBwAAxAcAAMUHAADGBwAAxwcAAMgHAADJBwAAygcAAMsHAADMBwAAzQcAAM4HAADPBwAA0AcAANEHAADSBwAA0wcAANQHAADVBwAA1gcAANcHAADYBwAA2QcAANoHAADbBwAA3AcAAN0HAADeBwAA3wcAAOAHAADhBwAA4gcAAOMHAADkBwAA5QcAAOYHAADnBwAA6AcAAOkHAAA=",
          "dtype": "i4"
         },
         "xaxis": "x",
         "y": {
          "bdata": "AAAAAAAAAAAAAAAAAAAAAAAAAAAAAAAAAAAAAAAAAAAAAAAAAAAAAAAAAAAAAAAAAAAAAAAAAAAAAAAAAAAAAAAAAAAAAAAAtQojRPYlbz8AAAAAAAAAAAAAAAAAAAAAAAAAAAAAAABM2Rbj5ddtP5N2F5in0Fo/F2DyFmDyVj8AAAAAAAAAAGFRARwTFlU/ms/1x8tgZD/qHFCDtulsPwAAAAAAAAAAhhFA+uKFYT9UCQE5P5VgP/c8bENliFA/ZuiA3R5reT90wG6PtQxtP98JgtKzKnE/dvUns1gaXD/6hY25DzF+P0bsihf3JWs/QNOcATTNST/x8haKBf5yP+Qmlk8vpIE/wXgr+xxSgz8SGIERGIFxP+ere6SVyXM/zczMzMzMfD810e/y4vSIP/QFfUFf0Ic/NnsRCPDkij8SNo3vkTKJP4crX61P/I4/qGCEcvs2iT8SmYbtZnmSPw==",
          "dtype": "f8"
         },
         "yaxis": "y"
        },
        {
         "fillpattern": {
          "shape": ""
         },
         "hovertemplate": "<b>%{fullData.name}</b><br>Year: %{x}<br>Proportion: %{y:.2%}<extra></extra>",
         "legendgroup": "Depression Treatment Guidelines",
         "line": {
          "color": "#3fb211"
         },
         "marker": {
          "symbol": "circle"
         },
         "mode": "lines",
         "name": "Depression Treatment Guidelines",
         "orientation": "v",
         "showlegend": true,
         "stackgroup": "1",
         "type": "scatter",
         "x": {
          "bdata": "vgcAAL8HAADABwAAwQcAAMIHAADDBwAAxAcAAMUHAADGBwAAxwcAAMgHAADJBwAAygcAAMsHAADMBwAAzQcAAM4HAADPBwAA0AcAANEHAADSBwAA0wcAANQHAADVBwAA1gcAANcHAADYBwAA2QcAANoHAADbBwAA3AcAAN0HAADeBwAA3wcAAOAHAADhBwAA4gcAAOMHAADkBwAA5QcAAOYHAADnBwAA6AcAAOkHAAA=",
          "dtype": "i4"
         },
         "xaxis": "x",
         "y": {
          "bdata": "AAAAAAAAAAAAAAAAAAAAAAAAAAAAAAAAAAAAAAAAAAAAAAAAAAAAAAAAAAAAAAAAAAAAAAAAAAAAAAAAAAAAAAAAAAAAAAAAtQojRPYlfz9kIQtZyEJ2P9uBuXZgrn0/8ZKAcCJegj/5IlFq7GF2PxyqDr9owoA/HfiuHPiufD/A0Ig6R5GGP2FRARwTFlU/dP3xMhgFjD/eEER3qt2APyFRiXXeWHI/SRpgd9RIaj+pS0EHj7p0P/c8bENliHA/STilefEncj9m6IDdHmt5P3KlNZakmXQ/GfhdhsITdT/CIdPdRtZaPzUxqFF5XHQ/cJ41AedZcz896tCQXqdvPwYKZv/+qHk/n5RwIYbHdz8SGIERGIFxP9uBuXZgrn0/MzMzMzMzYz8O15GURtZ1PzZlTVlT1nQ/7m1Gb26VfT+72tIN12VmP1pyPx41qHQ/QKt1EMNpdj8gdFTgi6t/Pw==",
          "dtype": "f8"
         },
         "yaxis": "y"
        },
        {
         "fillpattern": {
          "shape": ""
         },
         "hovertemplate": "<b>%{fullData.name}</b><br>Year: %{x}<br>Proportion: %{y:.2%}<extra></extra>",
         "legendgroup": "SSRIs for Depression after Traumatic Brain Injury",
         "line": {
          "color": "#d84b9c"
         },
         "marker": {
          "symbol": "circle"
         },
         "mode": "lines",
         "name": "SSRIs for Depression after Traumatic Brain Injury",
         "orientation": "v",
         "showlegend": true,
         "stackgroup": "1",
         "type": "scatter",
         "x": {
          "bdata": "vgcAAL8HAADABwAAwQcAAMIHAADDBwAAxAcAAMUHAADGBwAAxwcAAMgHAADJBwAAygcAAMsHAADMBwAAzQcAAM4HAADPBwAA0AcAANEHAADSBwAA0wcAANQHAADVBwAA1gcAANcHAADYBwAA2QcAANoHAADbBwAA3AcAAN0HAADeBwAA3wcAAOAHAADhBwAA4gcAAOMHAADkBwAA5QcAAOYHAADnBwAA6AcAAOkHAAA=",
          "dtype": "i4"
         },
         "xaxis": "x",
         "y": {
          "bdata": "AAAAAAAAAAAAAAAAAAAAAAAAAAAAAAAAAAAAAAAAAAAAAAAAAAAAAAAAAAAAAAAAAAAAAAAAAAAAAAAAAAAAAAAAAAAAAAAAtQojRPYlfz9kIQtZyEKGP+ere6SVyYM/8ZKAcCJeYj9M2Rbj5ddtP5N2F5in0Go/Ecg1Ecg1cT/wBCsJmTV8P7mlAeOXW3o/ms/1x8tgZD8YGBgYGBh4P2ml6xIW73Y/5xXQuFvndT+pS0EHj7p0P7Bq/TWx7nw/dMBuj7UMbT90wG6PtQxtP3KlNZakmXQ/GfhdhsITdT9RWV4mtSB0P0bsihf3JWs/CAQCgUAgcD+X7nMNslJpP8VIeR/fc3Y/d28UmaTVcT9tdQHCylZnP+u5EQlSfXA/MzMzMzMzYz810e/y4vR4Pxj0BX1BX4A/NnsRCPDkej8MJF5KYcxgP4s5tmuqm3c/QKt1EMNpZj8AAAAAAAAAAA==",
          "dtype": "f8"
         },
         "yaxis": "y"
        },
        {
         "fillpattern": {
          "shape": ""
         },
         "hovertemplate": "<b>%{fullData.name}</b><br>Year: %{x}<br>Proportion: %{y:.2%}<extra></extra>",
         "legendgroup": "Pharmacoeconomics of SSRIs for Depression",
         "line": {
          "color": "#2dcce5"
         },
         "marker": {
          "symbol": "circle"
         },
         "mode": "lines",
         "name": "Pharmacoeconomics of SSRIs for Depression",
         "orientation": "v",
         "showlegend": true,
         "stackgroup": "1",
         "type": "scatter",
         "x": {
          "bdata": "vgcAAL8HAADABwAAwQcAAMIHAADDBwAAxAcAAMUHAADGBwAAxwcAAMgHAADJBwAAygcAAMsHAADMBwAAzQcAAM4HAADPBwAA0AcAANEHAADSBwAA0wcAANQHAADVBwAA1gcAANcHAADYBwAA2QcAANoHAADbBwAA3AcAAN0HAADeBwAA3wcAAOAHAADhBwAA4gcAAOMHAADkBwAA5QcAAOYHAADnBwAA6AcAAOkHAAA=",
          "dtype": "i4"
         },
         "xaxis": "x",
         "y": {
          "bdata": "AAAAAAAAAAAAAAAAAAAAAAAAAAAAAAAAAAAAAAAAAAAAAAAAAAAAAAAAAAAAAAAAAAAAAAAAAAAAAAAAAAAAAAAAAAAAAAAAAAAAAAAAAABkIQtZyEJ2P+ere6SVyWM/8ZKAcCJekj+3a+WEZ/qbP+6YEbJ9HJQ/G9I/G9I/mz/MXTGuW/qXPzUngbhQc5I/lCx1hNimlT/eEER3qt2QP/0m2KbCDZA/ehyo1pB5jD9+KiEg56eSP6OX65ARxJc/bdR3Nuo7iz97rGXogN2OP/oilaH3TpA/JfSMyaOdfz/CIdPdRtaKP0bsihf3JYs/2DhpgY2Thj/EcMXLWyiGPwYKZv/+qGk/x7nMqWe5bT/I0oFyfSx9P9uBuXZgrn0/mpmZmZmZaT/o3DM2qrdyP3fEHXFH3GE/xJWnOfODZT+72tIN12VWPymryNC/tGE/QKt1EMNpRj8AAAAAAAAAAA==",
          "dtype": "f8"
         },
         "yaxis": "y"
        },
        {
         "fillpattern": {
          "shape": ""
         },
         "hovertemplate": "<b>%{fullData.name}</b><br>Year: %{x}<br>Proportion: %{y:.2%}<extra></extra>",
         "legendgroup": "Antifungal Activity of Sertraline",
         "line": {
          "color": "#b29911"
         },
         "marker": {
          "symbol": "circle"
         },
         "mode": "lines",
         "name": "Antifungal Activity of Sertraline",
         "orientation": "v",
         "showlegend": true,
         "stackgroup": "1",
         "type": "scatter",
         "x": {
          "bdata": "vgcAAL8HAADABwAAwQcAAMIHAADDBwAAxAcAAMUHAADGBwAAxwcAAMgHAADJBwAAygcAAMsHAADMBwAAzQcAAM4HAADPBwAA0AcAANEHAADSBwAA0wcAANQHAADVBwAA1gcAANcHAADYBwAA2QcAANoHAADbBwAA3AcAAN0HAADeBwAA3wcAAOAHAADhBwAA4gcAAOMHAADkBwAA5QcAAOYHAADnBwAA6AcAAOkHAAA=",
          "dtype": "i4"
         },
         "xaxis": "x",
         "y": {
          "bdata": "AAAAAAAAAAAAAAAAAAAAAAAAAAAAAAAAAAAAAAAAAAAAAAAAAAAAAAAAAAAAAAAAAAAAAAAAAAAAAAAAAAAAAAAAAAAAAAAAAAAAAAAAAABkIQtZyEJmPwAAAAAAAAAA8ZKAcCJeYj8AAAAAAAAAAJN2F5in0Go/AAAAAAAAAADA0Ig6R5FmPwAAAAAAAAAAZ7fwqzGRbj9GE+CseUZjPyFRiXXeWFI/hhFA+uKFcT/+jYHV3t9oPwAAAAAAAAAAdMBuj7UMXT90wG6PtQxNP5jcnB2Gd1s/AAAAAAAAAADCIdPdRtZqP0bsihf3JVs/QNOcATTNaT+X7nMNslJJP4WHjD+/PmM/x7nMqWe5bT9tdQHCylZ3P+Od5T/ZFXc/mpmZmZmZgT8O15GURtaFPxj0BX1BX4A/fYjcoHE0eD8PrfWcef+EP/PV+sTvIYY/2PVmroqcgz8YVz/oqMCXPw==",
          "dtype": "f8"
         },
         "yaxis": "y"
        },
        {
         "fillpattern": {
          "shape": ""
         },
         "hovertemplate": "<b>%{fullData.name}</b><br>Year: %{x}<br>Proportion: %{y:.2%}<extra></extra>",
         "legendgroup": "SSRIs for Fibromyalgia",
         "line": {
          "color": "#994bd8"
         },
         "marker": {
          "symbol": "circle"
         },
         "mode": "lines",
         "name": "SSRIs for Fibromyalgia",
         "orientation": "v",
         "showlegend": true,
         "stackgroup": "1",
         "type": "scatter",
         "x": {
          "bdata": "vgcAAL8HAADABwAAwQcAAMIHAADDBwAAxAcAAMUHAADGBwAAxwcAAMgHAADJBwAAygcAAMsHAADMBwAAzQcAAM4HAADPBwAA0AcAANEHAADSBwAA0wcAANQHAADVBwAA1gcAANcHAADYBwAA2QcAANoHAADbBwAA3AcAAN0HAADeBwAA3wcAAOAHAADhBwAA4gcAAOMHAADkBwAA5QcAAOYHAADnBwAA6AcAAOkHAAA=",
          "dtype": "i4"
         },
         "xaxis": "x",
         "y": {
          "bdata": "AAAAAAAAAAAAAAAAAAAAAAAAAAAAAAAAAAAAAAAAAAAAAAAAAAAAAAAAAAAAAAAAAAAAAAAAAAAAAAAAAAAAAAAAAAAAAAAAAAAAAAAAAABkIQtZyEJmPwAAAAAAAAAA8ZKAcCJecj9M2Rbj5dddP+6YEbJ9HHQ/F2DyFmDyVj/A0Ig6R5F2PxL6AaocoW8/Z7fwqzGRbj8AAAAAAAAAACFRiXXeWHI/SRpgd9RIaj9UCQE5P5VwP/c8bENliHA/dMBuj7UMfT9JOKV58SdyP3KlNZakmXQ/avn4b3eQgT/CIdPdRtZ6PzUxqFF5XHQ/QNOcATTNaT+X7nMNslJZPwYKZv/+qGk/C4JCXZXOdD9tdQHCylZnP+ere6SVyWM/mpmZmZmZST810e/y4vRIP/QFfUFf0Fc/U7A9a/YiYD+72tIN12VmP4s5tmuqm0c/EBaT1DMEbD8V+OLqBx11Pw==",
          "dtype": "f8"
         },
         "yaxis": "y"
        },
        {
         "fillpattern": {
          "shape": ""
         },
         "hovertemplate": "<b>%{fullData.name}</b><br>Year: %{x}<br>Proportion: %{y:.2%}<extra></extra>",
         "legendgroup": "SSRIs for Depression in Cancer Patients",
         "line": {
          "color": "#2de55d"
         },
         "marker": {
          "symbol": "circle"
         },
         "mode": "lines",
         "name": "SSRIs for Depression in Cancer Patients",
         "orientation": "v",
         "showlegend": true,
         "stackgroup": "1",
         "type": "scatter",
         "x": {
          "bdata": "vgcAAL8HAADABwAAwQcAAMIHAADDBwAAxAcAAMUHAADGBwAAxwcAAMgHAADJBwAAygcAAMsHAADMBwAAzQcAAM4HAADPBwAA0AcAANEHAADSBwAA0wcAANQHAADVBwAA1gcAANcHAADYBwAA2QcAANoHAADbBwAA3AcAAN0HAADeBwAA3wcAAOAHAADhBwAA4gcAAOMHAADkBwAA5QcAAOYHAADnBwAA6AcAAOkHAAA=",
          "dtype": "i4"
         },
         "xaxis": "x",
         "y": {
          "bdata": "AAAAAAAAAAAAAAAAAAAAAAAAAAAAAAAAAAAAAAAAAAAAAAAAAAAAAAAAAAAAAAAAAAAAAAAAAAAAAAAAAAAAAAAAAAAAAAAAAAAAAAAAAABkIQtZyEJmPwAAAAAAAAAAAAAAAAAAAABM2Rbj5dddP5N2F5in0Fo/AAAAAAAAAADA0Ig6R5FWP2FRARwTFlU/ms/1x8tgVD/qHFCDtulsPyFRiXXeWGI/SRpgd9RIaj9UCQE5P5VwP/c8bENliGA/dMBuj7UMXT9XEJMriMl1P98JgtKzKoE/dvUns1gaXD8AAAAAAAAAAKzTtm6693A/cJ41AedZcz/x8haKBf5yPwYKZv/+qHk/d28UmaTVcT8SGIERGIFhP9+PT9scYmo/MzMzMzMzcz810e/y4vRIP3fEHXFH3HE/AAAAAAAAAABjfxgsHJlzPymryNC/tHE/QKt1EMNpVj8AAAAAAAAAAA==",
          "dtype": "f8"
         },
         "yaxis": "y"
        },
        {
         "fillpattern": {
          "shape": ""
         },
         "hovertemplate": "<b>%{fullData.name}</b><br>Year: %{x}<br>Proportion: %{y:.2%}<extra></extra>",
         "legendgroup": "SSRI Utilization Patterns",
         "line": {
          "color": "#b21117"
         },
         "marker": {
          "symbol": "circle"
         },
         "mode": "lines",
         "name": "SSRI Utilization Patterns",
         "orientation": "v",
         "showlegend": true,
         "stackgroup": "1",
         "type": "scatter",
         "x": {
          "bdata": "vgcAAL8HAADABwAAwQcAAMIHAADDBwAAxAcAAMUHAADGBwAAxwcAAMgHAADJBwAAygcAAMsHAADMBwAAzQcAAM4HAADPBwAA0AcAANEHAADSBwAA0wcAANQHAADVBwAA1gcAANcHAADYBwAA2QcAANoHAADbBwAA3AcAAN0HAADeBwAA3wcAAOAHAADhBwAA4gcAAOMHAADkBwAA5QcAAOYHAADnBwAA6AcAAOkHAAA=",
          "dtype": "i4"
         },
         "xaxis": "x",
         "y": {
          "bdata": "AAAAAAAAAAAAAAAAAAAAAAAAAAAAAAAAAAAAAAAAAAAAAAAAAAAAAAAAAAAAAAAAAAAAAAAAAAAAAAAAAAAAAAAAAAAAAAAAAAAAAAAAAAAAAAAAAAAAAOere6SVyYM/8ZKAcCJecj/QR+6t76aCPxyqDr9owoA/Ecg1Ecg1kT/kd4KVhMyaP7mlAeOXW4o/jYn0QOXslj/eEER3qt2QPzPm4VxsfpM/ehyo1pB5jD8or6G8hvKKPzVMR5R+qnQ/dMBuj7UMfT9m6IDdHmuJP84Ow7sNwIk/cHeQEWjVhj/6hY25DzGOP4I9EqaXc4k/qG3QgdoGjT9Tq/lvMxKOPzRXkUd3cZI/x7nMqWe5jT9mDHG7YcaQP+myxtZzI4I/MzMzMzMziz810e/y4vSIPxJ3xB1xR4w/5LfeoQ+Rmz/iuswCkH+hP/FOz2VC0pk/qGCEcvs2mT8gdFTgi6ufPw==",
          "dtype": "f8"
         },
         "yaxis": "y"
        },
        {
         "fillpattern": {
          "shape": ""
         },
         "hovertemplate": "<b>%{fullData.name}</b><br>Year: %{x}<br>Proportion: %{y:.2%}<extra></extra>",
         "legendgroup": "SSRIs for Generalized Anxiety Disorder",
         "line": {
          "color": "#4b79d8"
         },
         "marker": {
          "symbol": "circle"
         },
         "mode": "lines",
         "name": "SSRIs for Generalized Anxiety Disorder",
         "orientation": "v",
         "showlegend": true,
         "stackgroup": "1",
         "type": "scatter",
         "x": {
          "bdata": "vgcAAL8HAADABwAAwQcAAMIHAADDBwAAxAcAAMUHAADGBwAAxwcAAMgHAADJBwAAygcAAMsHAADMBwAAzQcAAM4HAADPBwAA0AcAANEHAADSBwAA0wcAANQHAADVBwAA1gcAANcHAADYBwAA2QcAANoHAADbBwAA3AcAAN0HAADeBwAA3wcAAOAHAADhBwAA4gcAAOMHAADkBwAA5QcAAOYHAADnBwAA6AcAAOkHAAA=",
          "dtype": "i4"
         },
         "xaxis": "x",
         "y": {
          "bdata": "AAAAAAAAAAAAAAAAAAAAAAAAAAAAAAAAAAAAAAAAAAAAAAAAAAAAAAAAAAAAAAAAAAAAAAAAAAAAAAAAAAAAAAAAAAAAAAAAAAAAAAAAAAAAAAAAAAAAAOere6SVyWM/8ZKAcCJegj9M2Rbj5dd9P5N2F5in0Ho/HfiuHPiufD/wBCsJmTV8P7mlAeOXW3o/pxX3TrLUgT/qHFCDtumMP/0m2KbCDZA/txOIWZ+2gz8UO7ETO7GTPwQQfugEs5U/QUyuICZXkD9BTK4gJleAPyt4UOF25o4/znRaPv7bjT/CIdPdRtaKP89JfPq1io4/DAaDwWAwiD9qbCJPCH2MP8VIeR/fc4Y/VYtZvw1Lhj+/RsFp8WuEP+ere6SVyYM/mpmZmZmZgT+CxauvGzJ/Pxj0BX1BX4A/xJWnOfODhT+72tIN12V2P/PV+sTvIYY/QKt1EMNphj8gdFTgi6t/Pw==",
          "dtype": "f8"
         },
         "yaxis": "y"
        },
        {
         "fillpattern": {
          "shape": ""
         },
         "hovertemplate": "<b>%{fullData.name}</b><br>Year: %{x}<br>Proportion: %{y:.2%}<extra></extra>",
         "legendgroup": "Forensic Toxicology of Fatal Overdoses",
         "line": {
          "color": "#9ee52d"
         },
         "marker": {
          "symbol": "circle"
         },
         "mode": "lines",
         "name": "Forensic Toxicology of Fatal Overdoses",
         "orientation": "v",
         "showlegend": true,
         "stackgroup": "1",
         "type": "scatter",
         "x": {
          "bdata": "vgcAAL8HAADABwAAwQcAAMIHAADDBwAAxAcAAMUHAADGBwAAxwcAAMgHAADJBwAAygcAAMsHAADMBwAAzQcAAM4HAADPBwAA0AcAANEHAADSBwAA0wcAANQHAADVBwAA1gcAANcHAADYBwAA2QcAANoHAADbBwAA3AcAAN0HAADeBwAA3wcAAOAHAADhBwAA4gcAAOMHAADkBwAA5QcAAOYHAADnBwAA6AcAAOkHAAA=",
          "dtype": "i4"
         },
         "xaxis": "x",
         "y": {
          "bdata": "AAAAAAAAAAAAAAAAAAAAAAAAAAAAAAAAAAAAAAAAAAAAAAAAAAAAAAAAAAAAAAAAAAAAAAAAAAAAAAAAAAAAAAAAAAAAAAAAAAAAAAAAAAAAAAAAAAAAAOere6SVyWM/8ZKAcCJecj9M2Rbj5dddP5N2F5in0Fo/F2DyFmDydj/A0Ig6R5F2PxL6AaocoX8/ms/1x8tgZD/qHFCDtulsP7H5TbBNhWs/qh7wNU2qfj/+jYHV3t94PzVMR5R+qnQ/dMBuj7UMfT9JOKV58SeCP3KlNZakmXQ/GfhdhsIThT8Z9aNK7MVwPzUxqFF5XHQ/CAQCgUAggD9qbCJPCH2MP0fLUt8e3nw/C4JCXZXOhD8WXuEVXuGFP+Od5T/ZFXc/mpmZmZmZgT/U3wQHXCiBP/QFfUFf0Hc/IQ9CbTLchj8PrfWcef+EP70ALbkfj3o/EBaT1DMEfD8AAAAAAAAAAA==",
          "dtype": "f8"
         },
         "yaxis": "y"
        },
        {
         "fillpattern": {
          "shape": ""
         },
         "hovertemplate": "<b>%{fullData.name}</b><br>Year: %{x}<br>Proportion: %{y:.2%}<extra></extra>",
         "legendgroup": "Withdrawal Symptoms",
         "line": {
          "color": "#b211a3"
         },
         "marker": {
          "symbol": "circle"
         },
         "mode": "lines",
         "name": "Withdrawal Symptoms",
         "orientation": "v",
         "showlegend": true,
         "stackgroup": "1",
         "type": "scatter",
         "x": {
          "bdata": "vgcAAL8HAADABwAAwQcAAMIHAADDBwAAxAcAAMUHAADGBwAAxwcAAMgHAADJBwAAygcAAMsHAADMBwAAzQcAAM4HAADPBwAA0AcAANEHAADSBwAA0wcAANQHAADVBwAA1gcAANcHAADYBwAA2QcAANoHAADbBwAA3AcAAN0HAADeBwAA3wcAAOAHAADhBwAA4gcAAOMHAADkBwAA5QcAAOYHAADnBwAA6AcAAOkHAAA=",
          "dtype": "i4"
         },
         "xaxis": "x",
         "y": {
          "bdata": "AAAAAAAAAAAAAAAAAAAAAAAAAAAAAAAAAAAAAAAAAAAAAAAAAAAAAAAAAAAAAAAAAAAAAAAAAAAAAAAAAAAAAAAAAAAAAAAAAAAAAAAAAAAAAAAAAAAAAOere6SVyXM/AAAAAAAAAADQR+6t76aCP+6YEbJ9HIQ/HfiuHPiujD+otjdTHr+DP2FRARwTFoU/pxX3TrLUgT+vFXziSK+FP2ml6xIW74Y/txOIWZ+2gz9UCQE5P5VQP/c8bENliHA/ZuiA3R5reT90wG6PtQx9P5jcnB2Gd2s/dvUns1gaXD9RWV4mtSB0P6zTtm6693A/QNOcATTNST/x8haKBf5iP0TGn1+fCXA/d28UmaTVYT8SGIERGIFhP+ere6SVyXM/mpmZmZmZeT810e/y4vRoPzZlTVlT1nQ/NnsRCPDkaj8SNo3vkTJ5PymryNC/tHE/EBaT1DMEbD8AAAAAAAAAAA==",
          "dtype": "f8"
         },
         "yaxis": "y"
        },
        {
         "fillpattern": {
          "shape": ""
         },
         "hovertemplate": "<b>%{fullData.name}</b><br>Year: %{x}<br>Proportion: %{y:.2%}<extra></extra>",
         "legendgroup": "SSRIs for Postpartum Depression",
         "line": {
          "color": "#4bd8bc"
         },
         "marker": {
          "symbol": "circle"
         },
         "mode": "lines",
         "name": "SSRIs for Postpartum Depression",
         "orientation": "v",
         "showlegend": true,
         "stackgroup": "1",
         "type": "scatter",
         "x": {
          "bdata": "vgcAAL8HAADABwAAwQcAAMIHAADDBwAAxAcAAMUHAADGBwAAxwcAAMgHAADJBwAAygcAAMsHAADMBwAAzQcAAM4HAADPBwAA0AcAANEHAADSBwAA0wcAANQHAADVBwAA1gcAANcHAADYBwAA2QcAANoHAADbBwAA3AcAAN0HAADeBwAA3wcAAOAHAADhBwAA4gcAAOMHAADkBwAA5QcAAOYHAADnBwAA6AcAAOkHAAA=",
          "dtype": "i4"
         },
         "xaxis": "x",
         "y": {
          "bdata": "AAAAAAAAAAAAAAAAAAAAAAAAAAAAAAAAAAAAAAAAAAAAAAAAAAAAAAAAAAAAAAAAAAAAAAAAAAAAAAAAAAAAAAAAAAAAAAAAAAAAAAAAAAAAAAAAAAAAAOere6SVyWM/AAAAAAAAAABM2Rbj5dddPwAAAAAAAAAAF2DyFmDyZj/A0Ig6R5FWP2FRARwTFlU/ms/1x8tgVD9GE+CseUZTPwAAAAAAAAAAAAAAAAAAAABUCQE5P5VwP/c8bENliHA/VxCTK4jJZT90wG6PtQxNP3KlNZakmWQ/dvUns1gabD/CIdPdRtZqP0bsihf3JUs/QNOcATTNWT/x8haKBf5iP0TGn1+fCXA/x7nMqWe5bT8SGIERGIFhP9+PT9scYno/mpmZmZmZaT/U3wQHXCiBP3FH3BF3xG0/U7A9a/YiYD+72tIN12V2PymryNC/tGE/eMuhNmzRfj8V+OLqBx11Pw==",
          "dtype": "f8"
         },
         "yaxis": "y"
        },
        {
         "fillpattern": {
          "shape": ""
         },
         "hovertemplate": "<b>%{fullData.name}</b><br>Year: %{x}<br>Proportion: %{y:.2%}<extra></extra>",
         "legendgroup": "Venlafaxine vs SSRIs for Depression",
         "line": {
          "color": "#e58b2d"
         },
         "marker": {
          "symbol": "circle"
         },
         "mode": "lines",
         "name": "Venlafaxine vs SSRIs for Depression",
         "orientation": "v",
         "showlegend": true,
         "stackgroup": "1",
         "type": "scatter",
         "x": {
          "bdata": "vgcAAL8HAADABwAAwQcAAMIHAADDBwAAxAcAAMUHAADGBwAAxwcAAMgHAADJBwAAygcAAMsHAADMBwAAzQcAAM4HAADPBwAA0AcAANEHAADSBwAA0wcAANQHAADVBwAA1gcAANcHAADYBwAA2QcAANoHAADbBwAA3AcAAN0HAADeBwAA3wcAAOAHAADhBwAA4gcAAOMHAADkBwAA5QcAAOYHAADnBwAA6AcAAOkHAAA=",
          "dtype": "i4"
         },
         "xaxis": "x",
         "y": {
          "bdata": "AAAAAAAAAAAAAAAAAAAAAAAAAAAAAAAAAAAAAAAAAAAAAAAAAAAAAAAAAAAAAAAAAAAAAAAAAAAAAAAAAAAAAAAAAAAAAAAAAAAAAAAAAAAAAAAAAAAAAAAAAAAAAAAA8ZKAcCJeYj/QR+6t76aCP+6YEbJ9HIQ/HfiuHPiujD/wBCsJmTWMP0s8QeqxxJM/dP3xMhgFjD+BGrRN54CKP1cQkyuIyZU/ehyo1pB5jD/+jYHV3t+IP7Bq/TWx7ow/e6xl6IDdjj9m6IDdHmuJP42+SGXovZM/cHeQEWjVhj/6hY25DzF+P6zTtm6694A/cJ41AedZgz8ItD9p2miBP0fLUt8e3ow/EcPjC+A1jz+/RsFp8WuEP+u5EQlSfYA/ZmZmZmZmdj8O15GURtZ1PzZlTVlT1nQ/xJWnOfODZT9jfxgsHJlzPymryNC/tHE/qGCEcvs2eT8V+OLqBx1lPw==",
          "dtype": "f8"
         },
         "yaxis": "y"
        },
        {
         "fillpattern": {
          "shape": ""
         },
         "hovertemplate": "<b>%{fullData.name}</b><br>Year: %{x}<br>Proportion: %{y:.2%}<extra></extra>",
         "legendgroup": "Premature Ejaculation",
         "line": {
          "color": "#3411b2"
         },
         "marker": {
          "symbol": "circle"
         },
         "mode": "lines",
         "name": "Premature Ejaculation",
         "orientation": "v",
         "showlegend": true,
         "stackgroup": "1",
         "type": "scatter",
         "x": {
          "bdata": "vgcAAL8HAADABwAAwQcAAMIHAADDBwAAxAcAAMUHAADGBwAAxwcAAMgHAADJBwAAygcAAMsHAADMBwAAzQcAAM4HAADPBwAA0AcAANEHAADSBwAA0wcAANQHAADVBwAA1gcAANcHAADYBwAA2QcAANoHAADbBwAA3AcAAN0HAADeBwAA3wcAAOAHAADhBwAA4gcAAOMHAADkBwAA5QcAAOYHAADnBwAA6AcAAOkHAAA=",
          "dtype": "i4"
         },
         "xaxis": "x",
         "y": {
          "bdata": "AAAAAAAAAAAAAAAAAAAAAAAAAAAAAAAAAAAAAAAAAAAAAAAAAAAAAAAAAAAAAAAAAAAAAAAAAAAAAAAAAAAAAAAAAAAAAAAAAAAAAAAAAAAAAAAAAAAAAAAAAAAAAAAA8ZKAcCJecj9M2Rbj5dddP+6YEbJ9HIQ/Ecg1Ecg1cT+otjdTHr+DPxL6AaocoX8/Z7fwqzGRbj9GE+CseUZzP2ml6xIW73Y/qh7wNU2qfj9UCQE5P5WAP/c8bENliJA/VxCTK4jJhT9BTK4gJleQP/oilaH3TpA/GfhdhsIThT/6hY25DzGOP0bsihf3JYs/cJ41AedZgz8ItD9p2miBP0fLUt8e3ow/VYtZvw1Lhj9xu2HGELeLP+u5EQlSfYA/mpmZmZmZeT9by01RfxN8P7OmrClryno/NnsRCPDkej9mCLB+NMyHP4s5tmuqm3c/cEBYTFLPgD8V+OLqBx1lPw==",
          "dtype": "f8"
         },
         "yaxis": "y"
        },
        {
         "fillpattern": {
          "shape": ""
         },
         "hovertemplate": "<b>%{fullData.name}</b><br>Year: %{x}<br>Proportion: %{y:.2%}<extra></extra>",
         "legendgroup": "Laboratory Techniques for drug analysis",
         "line": {
          "color": "#56d84b"
         },
         "marker": {
          "symbol": "circle"
         },
         "mode": "lines",
         "name": "Laboratory Techniques for drug analysis",
         "orientation": "v",
         "showlegend": true,
         "stackgroup": "1",
         "type": "scatter",
         "x": {
          "bdata": "vgcAAL8HAADABwAAwQcAAMIHAADDBwAAxAcAAMUHAADGBwAAxwcAAMgHAADJBwAAygcAAMsHAADMBwAAzQcAAM4HAADPBwAA0AcAANEHAADSBwAA0wcAANQHAADVBwAA1gcAANcHAADYBwAA2QcAANoHAADbBwAA3AcAAN0HAADeBwAA3wcAAOAHAADhBwAA4gcAAOMHAADkBwAA5QcAAOYHAADnBwAA6AcAAOkHAAA=",
          "dtype": "i4"
         },
         "xaxis": "x",
         "y": {
          "bdata": "AAAAAAAAAAAAAAAAAAAAAAAAAAAAAAAAAAAAAAAAAAAAAAAAAAAAAAAAAAAAAAAAAAAAAAAAAAAAAAAAAAAAAAAAAAAAAAAAAAAAAAAAAAAAAAAAAAAAAAAAAAAAAAAA8ZKAcCJeYj8AAAAAAAAAAAAAAAAAAAAAAAAAAAAAAADA0Ig6R5FWPwAAAAAAAAAAAAAAAAAAAAAAAAAAAAAAAAAAAAAAAAAAAAAAAAAAAAAAAAAAAAAAAPc8bENliGA/dMBuj7UMbT9XEJMriMllP5jcnB2Gd2s/x/bCnA2XeD81J4G4UHOCP3CCL+AZqoI/pGtPQbr2hD9qbCJPCH2MPwYKZv/+qHk/x7nMqWe5fT9tdQHCylaHP+GWmg37u4g/mpmZmZmZgT8i1MDDlGWHPxj0BX1BX5A/NnsRCPDkij8SNo3vkTKJP1pyPx41qIQ/eMuhNmzRjj8V+OLqBx11Pw==",
          "dtype": "f8"
         },
         "yaxis": "y"
        },
        {
         "fillpattern": {
          "shape": ""
         },
         "hovertemplate": "<b>%{fullData.name}</b><br>Year: %{x}<br>Proportion: %{y:.2%}<extra></extra>",
         "legendgroup": "Serotonin Transporter Gene and Antidepressant Response",
         "line": {
          "color": "#e52d71"
         },
         "marker": {
          "symbol": "circle"
         },
         "mode": "lines",
         "name": "Serotonin Transporter Gene and Antidepressant Response",
         "orientation": "v",
         "showlegend": true,
         "stackgroup": "1",
         "type": "scatter",
         "x": {
          "bdata": "vgcAAL8HAADABwAAwQcAAMIHAADDBwAAxAcAAMUHAADGBwAAxwcAAMgHAADJBwAAygcAAMsHAADMBwAAzQcAAM4HAADPBwAA0AcAANEHAADSBwAA0wcAANQHAADVBwAA1gcAANcHAADYBwAA2QcAANoHAADbBwAA3AcAAN0HAADeBwAA3wcAAOAHAADhBwAA4gcAAOMHAADkBwAA5QcAAOYHAADnBwAA6AcAAOkHAAA=",
          "dtype": "i4"
         },
         "xaxis": "x",
         "y": {
          "bdata": "AAAAAAAAAAAAAAAAAAAAAAAAAAAAAAAAAAAAAAAAAAAAAAAAAAAAAAAAAAAAAAAAAAAAAAAAAAAAAAAAAAAAAAAAAAAAAAAAAAAAAAAAAAAAAAAAAAAAAAAAAAAAAAAAAAAAAAAAAABM2Rbj5dddP5N2F5in0Fo/AAAAAAAAAACQnOZr9eyAP7mlAeOXW3o/rbh3kqWOkD9GE+CseUaDP2ml6xIW74Y/bhCcyoRtkD/pGZEsk56RP9TTtDyLu4Y/UCSc0rz4kz9Umhd/IuGUPztzD/gcUZY/wXgr+xxSoz8njpKBnpyhPzUxqFF5XJQ/PlJc4SPFlT85EDFc8fKWP9W3hzcHDJQ/0uoIaGgXkT/I0oFyfSyNP+Od5T/ZFYc/ZmZmZmZmkj/o3DM2qreCPzZlTVlT1oQ/NnsRCPDkij9pkUfRTP97P1pyPx41qHQ/qGCEcvs2eT8V+OLqBx1lPw==",
          "dtype": "f8"
         },
         "yaxis": "y"
        },
        {
         "fillpattern": {
          "shape": ""
         },
         "hovertemplate": "<b>%{fullData.name}</b><br>Year: %{x}<br>Proportion: %{y:.2%}<extra></extra>",
         "legendgroup": "Fracture Risk",
         "line": {
          "color": "#117bb2"
         },
         "marker": {
          "symbol": "circle"
         },
         "mode": "lines",
         "name": "Fracture Risk",
         "orientation": "v",
         "showlegend": true,
         "stackgroup": "1",
         "type": "scatter",
         "x": {
          "bdata": "vgcAAL8HAADABwAAwQcAAMIHAADDBwAAxAcAAMUHAADGBwAAxwcAAMgHAADJBwAAygcAAMsHAADMBwAAzQcAAM4HAADPBwAA0AcAANEHAADSBwAA0wcAANQHAADVBwAA1gcAANcHAADYBwAA2QcAANoHAADbBwAA3AcAAN0HAADeBwAA3wcAAOAHAADhBwAA4gcAAOMHAADkBwAA5QcAAOYHAADnBwAA6AcAAOkHAAA=",
          "dtype": "i4"
         },
         "xaxis": "x",
         "y": {
          "bdata": "AAAAAAAAAAAAAAAAAAAAAAAAAAAAAAAAAAAAAAAAAAAAAAAAAAAAAAAAAAAAAAAAAAAAAAAAAAAAAAAAAAAAAAAAAAAAAAAAAAAAAAAAAAAAAAAAAAAAAAAAAAAAAAAAAAAAAAAAAABM2Rbj5dddP5N2F5in0Go/F2DyFmDyZj/A0Ig6R5F2PwAAAAAAAAAAAAAAAAAAAAAYGBgYGBh4P7H5TbBNhXs/SRpgd9RIaj/+jYHV3t9oP/c8bENliHA/VxCTK4jJZT9BTK4gJleAP5jcnB2Gd4s/avn4b3eQgT/CIdPdRtaKP6zTtm6694A/ouoOIarukD+BLUsu3eeKP+Qmlk8vpIE/d28UmaTVkT8f6qEe6qGOP+u5EQlSfZA/zczMzMzMmD9eXpweA/CRP3fEHXFH3JE/7m1Gb26VjT/iuswCkH+RP7+HWBjN3pY/FpPUMwQckD8V+OLqBx2VPw==",
          "dtype": "f8"
         },
         "yaxis": "y"
        },
        {
         "fillpattern": {
          "shape": ""
         },
         "hovertemplate": "<b>%{fullData.name}</b><br>Year: %{x}<br>Proportion: %{y:.2%}<extra></extra>",
         "legendgroup": "SSRIs for Menopausal Vasomotor Symptoms (Hot flashes)",
         "line": {
          "color": "#d1d84b"
         },
         "marker": {
          "symbol": "circle"
         },
         "mode": "lines",
         "name": "SSRIs for Menopausal Vasomotor Symptoms (Hot flashes)",
         "orientation": "v",
         "showlegend": true,
         "stackgroup": "1",
         "type": "scatter",
         "x": {
          "bdata": "vgcAAL8HAADABwAAwQcAAMIHAADDBwAAxAcAAMUHAADGBwAAxwcAAMgHAADJBwAAygcAAMsHAADMBwAAzQcAAM4HAADPBwAA0AcAANEHAADSBwAA0wcAANQHAADVBwAA1gcAANcHAADYBwAA2QcAANoHAADbBwAA3AcAAN0HAADeBwAA3wcAAOAHAADhBwAA4gcAAOMHAADkBwAA5QcAAOYHAADnBwAA6AcAAOkHAAA=",
          "dtype": "i4"
         },
         "xaxis": "x",
         "y": {
          "bdata": "AAAAAAAAAAAAAAAAAAAAAAAAAAAAAAAAAAAAAAAAAAAAAAAAAAAAAAAAAAAAAAAAAAAAAAAAAAAAAAAAAAAAAAAAAAAAAAAAAAAAAAAAAAAAAAAAAAAAAAAAAAAAAAAAAAAAAAAAAAAAAAAAAAAAAJN2F5in0Fo/Ecg1Ecg1cT8AAAAAAAAAAGFRARwTFmU/Z7fwqzGRbj+vFXziSK+FPyFRiXXeWII/hhFA+uKFkT9+KiEg56eSP6OX65ARxJc/dMBuj7UMjT9m6IDdHmuJP6jXWzQs4oI/znRaPv7bjT8Z9aNK7MWQP4I9EqaXc4k/PNEbwRO9gT896tCQXqd/P+Qmlk8vpIE/EcPjC+A1jz8apEEapEGKP+ere6SVyXM/ZmZmZmZmhj/72WJl+EaEP/QFfUFf0Hc/NnsRCPDkej9jfxgsHJmDP4s5tmuqm3c/EBaT1DMEfD8V+OLqBx11Pw==",
          "dtype": "f8"
         },
         "yaxis": "y"
        },
        {
         "fillpattern": {
          "shape": ""
         },
         "hovertemplate": "<b>%{fullData.name}</b><br>Year: %{x}<br>Proportion: %{y:.2%}<extra></extra>",
         "legendgroup": "Environmental Degradation of Antidepressants",
         "line": {
          "color": "#b92de5"
         },
         "marker": {
          "symbol": "circle"
         },
         "mode": "lines",
         "name": "Environmental Degradation of Antidepressants",
         "orientation": "v",
         "showlegend": true,
         "stackgroup": "1",
         "type": "scatter",
         "x": {
          "bdata": "vgcAAL8HAADABwAAwQcAAMIHAADDBwAAxAcAAMUHAADGBwAAxwcAAMgHAADJBwAAygcAAMsHAADMBwAAzQcAAM4HAADPBwAA0AcAANEHAADSBwAA0wcAANQHAADVBwAA1gcAANcHAADYBwAA2QcAANoHAADbBwAA3AcAAN0HAADeBwAA3wcAAOAHAADhBwAA4gcAAOMHAADkBwAA5QcAAOYHAADnBwAA6AcAAOkHAAA=",
          "dtype": "i4"
         },
         "xaxis": "x",
         "y": {
          "bdata": "AAAAAAAAAAAAAAAAAAAAAAAAAAAAAAAAAAAAAAAAAAAAAAAAAAAAAAAAAAAAAAAAAAAAAAAAAAAAAAAAAAAAAAAAAAAAAAAAAAAAAAAAAAAAAAAAAAAAAAAAAAAAAAAAAAAAAAAAAAAAAAAAAAAAAJN2F5in0Fo/F2DyFmDyZj/A0Ig6R5FWPwAAAAAAAAAAAAAAAAAAAABGE+CseUZTPyFRiXXeWFI/AAAAAAAAAABUCQE5P5VQP/c8bENliHA/dMBuj7UMXT90wG6PtQxNP5jcnB2Gd0s/dvUns1gaTD/CIdPdRtZaP0bsihf3JWs/cJ41AedZcz/x8haKBf5yP4WHjD+/PmM/x7nMqWe5fT8SGIERGIFxP+ere6SVyYM/zczMzMzMhD9LYW3vtGCQPxj0BX1BX5A/XmalOFUnkj82je+RMhmQP7+HWBjN3pY/9AV9QV/Qlz+RadhuliehPw==",
          "dtype": "f8"
         },
         "yaxis": "y"
        },
        {
         "fillpattern": {
          "shape": ""
         },
         "hovertemplate": "<b>%{fullData.name}</b><br>Year: %{x}<br>Proportion: %{y:.2%}<extra></extra>",
         "legendgroup": "Antidepressant-like Effects of Herbal Extracts in Animal Models",
         "line": {
          "color": "#11b25c"
         },
         "marker": {
          "symbol": "circle"
         },
         "mode": "lines",
         "name": "Antidepressant-like Effects of Herbal Extracts in Animal Models",
         "orientation": "v",
         "showlegend": true,
         "stackgroup": "1",
         "type": "scatter",
         "x": {
          "bdata": "vgcAAL8HAADABwAAwQcAAMIHAADDBwAAxAcAAMUHAADGBwAAxwcAAMgHAADJBwAAygcAAMsHAADMBwAAzQcAAM4HAADPBwAA0AcAANEHAADSBwAA0wcAANQHAADVBwAA1gcAANcHAADYBwAA2QcAANoHAADbBwAA3AcAAN0HAADeBwAA3wcAAOAHAADhBwAA4gcAAOMHAADkBwAA5QcAAOYHAADnBwAA6AcAAOkHAAA=",
          "dtype": "i4"
         },
         "xaxis": "x",
         "y": {
          "bdata": "AAAAAAAAAAAAAAAAAAAAAAAAAAAAAAAAAAAAAAAAAAAAAAAAAAAAAAAAAAAAAAAAAAAAAAAAAAAAAAAAAAAAAAAAAAAAAAAAAAAAAAAAAAAAAAAAAAAAAAAAAAAAAAAAAAAAAAAAAAAAAAAAAAAAAAAAAAAAAAAAAAAAAAAAAADA0Ig6R5FWPwAAAAAAAAAAms/1x8tgZD9GE+CseUZTPyFRiXXeWHI/hhFA+uKFUT9UCQE5P5VgPzVMR5R+qoQ/QUyuICZXgD9XEJMriMmFPwVB6VmVCIg/GfhdhsIThT+l7/Vv4iiJP4I9EqaXc4k/CoVCoVAolD+X7nMNslKJP8VIeR/fc5Y/VYtZvw1Lhj8UO7ETO7GTP9uBuXZgro0/mpmZmZmZiT/U3wQHXCiRPwZ9QV/QF5Q/kvSrOy89jD88nx43Y3+YP/VcJiSdcZI/EBaT1DMEjD8dFfji6gedPw==",
          "dtype": "f8"
         },
         "yaxis": "y"
        },
        {
         "fillpattern": {
          "shape": ""
         },
         "hovertemplate": "<b>%{fullData.name}</b><br>Year: %{x}<br>Proportion: %{y:.2%}<extra></extra>",
         "legendgroup": "SSRIs Effect on Brain-derived Neurotrophic Factor (BDNF) Levels in Depressive Patients",
         "line": {
          "color": "#d8644b"
         },
         "marker": {
          "symbol": "circle"
         },
         "mode": "lines",
         "name": "SSRIs Effect on Brain-derived Neurotrophic Factor (BDNF) Levels in Depressive Patients",
         "orientation": "v",
         "showlegend": true,
         "stackgroup": "1",
         "type": "scatter",
         "x": {
          "bdata": "vgcAAL8HAADABwAAwQcAAMIHAADDBwAAxAcAAMUHAADGBwAAxwcAAMgHAADJBwAAygcAAMsHAADMBwAAzQcAAM4HAADPBwAA0AcAANEHAADSBwAA0wcAANQHAADVBwAA1gcAANcHAADYBwAA2QcAANoHAADbBwAA3AcAAN0HAADeBwAA3wcAAOAHAADhBwAA4gcAAOMHAADkBwAA5QcAAOYHAADnBwAA6AcAAOkHAAA=",
          "dtype": "i4"
         },
         "xaxis": "x",
         "y": {
          "bdata": "AAAAAAAAAAAAAAAAAAAAAAAAAAAAAAAAAAAAAAAAAAAAAAAAAAAAAAAAAAAAAAAAAAAAAAAAAAAAAAAAAAAAAAAAAAAAAAAAAAAAAAAAAAAAAAAAAAAAAAAAAAAAAAAAAAAAAAAAAAAAAAAAAAAAAAAAAAAAAAAAAAAAAAAAAAAAAAAAAAAAAAAAAAAAAAAAAAAAAAAAAAAAAAAAAAAAACFRiXXeWGI/hhFA+uKFUT9UCQE5P5VgP/c8bENliFA/VxCTK4jJZT90wG6PtQxdP5jcnB2Gd1s/dvUns1gabD8Z9aNK7MVwPzUxqFF5XHQ/QNOcATTNWT896tCQXqd/P0TGn1+fCXA/n5RwIYbHZz/I0oFyfSx9P9+PT9scYno/mpmZmZmZeT810e/y4vRoP3fEHXFH3HE/DKNy0nTTgj9pkUfRTP9rP+7HowaVgm0/EBaT1DMEbD8gdFTgi6t/Pw==",
          "dtype": "f8"
         },
         "yaxis": "y"
        }
       ],
       "layout": {
        "height": 800,
        "hovermode": "closest",
        "legend": {
         "bgcolor": "rgba(255, 255, 255, 0.8)",
         "bordercolor": "rgba(0, 0, 0, 0.2)",
         "borderwidth": 1,
         "font": {
          "size": 12
         },
         "orientation": "v",
         "title": {
          "font": {
           "size": 14
          },
          "text": "Cluster"
         },
         "tracegroupgap": 0,
         "traceorder": "normal",
         "x": 1.02,
         "xanchor": "left",
         "y": 1,
         "yanchor": "top"
        },
        "margin": {
         "r": 200
        },
        "plot_bgcolor": "white",
        "template": {
         "data": {
          "bar": [
           {
            "error_x": {
             "color": "#2a3f5f"
            },
            "error_y": {
             "color": "#2a3f5f"
            },
            "marker": {
             "line": {
              "color": "#E5ECF6",
              "width": 0.5
             },
             "pattern": {
              "fillmode": "overlay",
              "size": 10,
              "solidity": 0.2
             }
            },
            "type": "bar"
           }
          ],
          "barpolar": [
           {
            "marker": {
             "line": {
              "color": "#E5ECF6",
              "width": 0.5
             },
             "pattern": {
              "fillmode": "overlay",
              "size": 10,
              "solidity": 0.2
             }
            },
            "type": "barpolar"
           }
          ],
          "carpet": [
           {
            "aaxis": {
             "endlinecolor": "#2a3f5f",
             "gridcolor": "white",
             "linecolor": "white",
             "minorgridcolor": "white",
             "startlinecolor": "#2a3f5f"
            },
            "baxis": {
             "endlinecolor": "#2a3f5f",
             "gridcolor": "white",
             "linecolor": "white",
             "minorgridcolor": "white",
             "startlinecolor": "#2a3f5f"
            },
            "type": "carpet"
           }
          ],
          "choropleth": [
           {
            "colorbar": {
             "outlinewidth": 0,
             "ticks": ""
            },
            "type": "choropleth"
           }
          ],
          "contour": [
           {
            "colorbar": {
             "outlinewidth": 0,
             "ticks": ""
            },
            "colorscale": [
             [
              0,
              "#0d0887"
             ],
             [
              0.1111111111111111,
              "#46039f"
             ],
             [
              0.2222222222222222,
              "#7201a8"
             ],
             [
              0.3333333333333333,
              "#9c179e"
             ],
             [
              0.4444444444444444,
              "#bd3786"
             ],
             [
              0.5555555555555556,
              "#d8576b"
             ],
             [
              0.6666666666666666,
              "#ed7953"
             ],
             [
              0.7777777777777778,
              "#fb9f3a"
             ],
             [
              0.8888888888888888,
              "#fdca26"
             ],
             [
              1,
              "#f0f921"
             ]
            ],
            "type": "contour"
           }
          ],
          "contourcarpet": [
           {
            "colorbar": {
             "outlinewidth": 0,
             "ticks": ""
            },
            "type": "contourcarpet"
           }
          ],
          "heatmap": [
           {
            "colorbar": {
             "outlinewidth": 0,
             "ticks": ""
            },
            "colorscale": [
             [
              0,
              "#0d0887"
             ],
             [
              0.1111111111111111,
              "#46039f"
             ],
             [
              0.2222222222222222,
              "#7201a8"
             ],
             [
              0.3333333333333333,
              "#9c179e"
             ],
             [
              0.4444444444444444,
              "#bd3786"
             ],
             [
              0.5555555555555556,
              "#d8576b"
             ],
             [
              0.6666666666666666,
              "#ed7953"
             ],
             [
              0.7777777777777778,
              "#fb9f3a"
             ],
             [
              0.8888888888888888,
              "#fdca26"
             ],
             [
              1,
              "#f0f921"
             ]
            ],
            "type": "heatmap"
           }
          ],
          "histogram": [
           {
            "marker": {
             "pattern": {
              "fillmode": "overlay",
              "size": 10,
              "solidity": 0.2
             }
            },
            "type": "histogram"
           }
          ],
          "histogram2d": [
           {
            "colorbar": {
             "outlinewidth": 0,
             "ticks": ""
            },
            "colorscale": [
             [
              0,
              "#0d0887"
             ],
             [
              0.1111111111111111,
              "#46039f"
             ],
             [
              0.2222222222222222,
              "#7201a8"
             ],
             [
              0.3333333333333333,
              "#9c179e"
             ],
             [
              0.4444444444444444,
              "#bd3786"
             ],
             [
              0.5555555555555556,
              "#d8576b"
             ],
             [
              0.6666666666666666,
              "#ed7953"
             ],
             [
              0.7777777777777778,
              "#fb9f3a"
             ],
             [
              0.8888888888888888,
              "#fdca26"
             ],
             [
              1,
              "#f0f921"
             ]
            ],
            "type": "histogram2d"
           }
          ],
          "histogram2dcontour": [
           {
            "colorbar": {
             "outlinewidth": 0,
             "ticks": ""
            },
            "colorscale": [
             [
              0,
              "#0d0887"
             ],
             [
              0.1111111111111111,
              "#46039f"
             ],
             [
              0.2222222222222222,
              "#7201a8"
             ],
             [
              0.3333333333333333,
              "#9c179e"
             ],
             [
              0.4444444444444444,
              "#bd3786"
             ],
             [
              0.5555555555555556,
              "#d8576b"
             ],
             [
              0.6666666666666666,
              "#ed7953"
             ],
             [
              0.7777777777777778,
              "#fb9f3a"
             ],
             [
              0.8888888888888888,
              "#fdca26"
             ],
             [
              1,
              "#f0f921"
             ]
            ],
            "type": "histogram2dcontour"
           }
          ],
          "mesh3d": [
           {
            "colorbar": {
             "outlinewidth": 0,
             "ticks": ""
            },
            "type": "mesh3d"
           }
          ],
          "parcoords": [
           {
            "line": {
             "colorbar": {
              "outlinewidth": 0,
              "ticks": ""
             }
            },
            "type": "parcoords"
           }
          ],
          "pie": [
           {
            "automargin": true,
            "type": "pie"
           }
          ],
          "scatter": [
           {
            "fillpattern": {
             "fillmode": "overlay",
             "size": 10,
             "solidity": 0.2
            },
            "type": "scatter"
           }
          ],
          "scatter3d": [
           {
            "line": {
             "colorbar": {
              "outlinewidth": 0,
              "ticks": ""
             }
            },
            "marker": {
             "colorbar": {
              "outlinewidth": 0,
              "ticks": ""
             }
            },
            "type": "scatter3d"
           }
          ],
          "scattercarpet": [
           {
            "marker": {
             "colorbar": {
              "outlinewidth": 0,
              "ticks": ""
             }
            },
            "type": "scattercarpet"
           }
          ],
          "scattergeo": [
           {
            "marker": {
             "colorbar": {
              "outlinewidth": 0,
              "ticks": ""
             }
            },
            "type": "scattergeo"
           }
          ],
          "scattergl": [
           {
            "marker": {
             "colorbar": {
              "outlinewidth": 0,
              "ticks": ""
             }
            },
            "type": "scattergl"
           }
          ],
          "scattermap": [
           {
            "marker": {
             "colorbar": {
              "outlinewidth": 0,
              "ticks": ""
             }
            },
            "type": "scattermap"
           }
          ],
          "scattermapbox": [
           {
            "marker": {
             "colorbar": {
              "outlinewidth": 0,
              "ticks": ""
             }
            },
            "type": "scattermapbox"
           }
          ],
          "scatterpolar": [
           {
            "marker": {
             "colorbar": {
              "outlinewidth": 0,
              "ticks": ""
             }
            },
            "type": "scatterpolar"
           }
          ],
          "scatterpolargl": [
           {
            "marker": {
             "colorbar": {
              "outlinewidth": 0,
              "ticks": ""
             }
            },
            "type": "scatterpolargl"
           }
          ],
          "scatterternary": [
           {
            "marker": {
             "colorbar": {
              "outlinewidth": 0,
              "ticks": ""
             }
            },
            "type": "scatterternary"
           }
          ],
          "surface": [
           {
            "colorbar": {
             "outlinewidth": 0,
             "ticks": ""
            },
            "colorscale": [
             [
              0,
              "#0d0887"
             ],
             [
              0.1111111111111111,
              "#46039f"
             ],
             [
              0.2222222222222222,
              "#7201a8"
             ],
             [
              0.3333333333333333,
              "#9c179e"
             ],
             [
              0.4444444444444444,
              "#bd3786"
             ],
             [
              0.5555555555555556,
              "#d8576b"
             ],
             [
              0.6666666666666666,
              "#ed7953"
             ],
             [
              0.7777777777777778,
              "#fb9f3a"
             ],
             [
              0.8888888888888888,
              "#fdca26"
             ],
             [
              1,
              "#f0f921"
             ]
            ],
            "type": "surface"
           }
          ],
          "table": [
           {
            "cells": {
             "fill": {
              "color": "#EBF0F8"
             },
             "line": {
              "color": "white"
             }
            },
            "header": {
             "fill": {
              "color": "#C8D4E3"
             },
             "line": {
              "color": "white"
             }
            },
            "type": "table"
           }
          ]
         },
         "layout": {
          "annotationdefaults": {
           "arrowcolor": "#2a3f5f",
           "arrowhead": 0,
           "arrowwidth": 1
          },
          "autotypenumbers": "strict",
          "coloraxis": {
           "colorbar": {
            "outlinewidth": 0,
            "ticks": ""
           }
          },
          "colorscale": {
           "diverging": [
            [
             0,
             "#8e0152"
            ],
            [
             0.1,
             "#c51b7d"
            ],
            [
             0.2,
             "#de77ae"
            ],
            [
             0.3,
             "#f1b6da"
            ],
            [
             0.4,
             "#fde0ef"
            ],
            [
             0.5,
             "#f7f7f7"
            ],
            [
             0.6,
             "#e6f5d0"
            ],
            [
             0.7,
             "#b8e186"
            ],
            [
             0.8,
             "#7fbc41"
            ],
            [
             0.9,
             "#4d9221"
            ],
            [
             1,
             "#276419"
            ]
           ],
           "sequential": [
            [
             0,
             "#0d0887"
            ],
            [
             0.1111111111111111,
             "#46039f"
            ],
            [
             0.2222222222222222,
             "#7201a8"
            ],
            [
             0.3333333333333333,
             "#9c179e"
            ],
            [
             0.4444444444444444,
             "#bd3786"
            ],
            [
             0.5555555555555556,
             "#d8576b"
            ],
            [
             0.6666666666666666,
             "#ed7953"
            ],
            [
             0.7777777777777778,
             "#fb9f3a"
            ],
            [
             0.8888888888888888,
             "#fdca26"
            ],
            [
             1,
             "#f0f921"
            ]
           ],
           "sequentialminus": [
            [
             0,
             "#0d0887"
            ],
            [
             0.1111111111111111,
             "#46039f"
            ],
            [
             0.2222222222222222,
             "#7201a8"
            ],
            [
             0.3333333333333333,
             "#9c179e"
            ],
            [
             0.4444444444444444,
             "#bd3786"
            ],
            [
             0.5555555555555556,
             "#d8576b"
            ],
            [
             0.6666666666666666,
             "#ed7953"
            ],
            [
             0.7777777777777778,
             "#fb9f3a"
            ],
            [
             0.8888888888888888,
             "#fdca26"
            ],
            [
             1,
             "#f0f921"
            ]
           ]
          },
          "colorway": [
           "#636efa",
           "#EF553B",
           "#00cc96",
           "#ab63fa",
           "#FFA15A",
           "#19d3f3",
           "#FF6692",
           "#B6E880",
           "#FF97FF",
           "#FECB52"
          ],
          "font": {
           "color": "#2a3f5f"
          },
          "geo": {
           "bgcolor": "white",
           "lakecolor": "white",
           "landcolor": "#E5ECF6",
           "showlakes": true,
           "showland": true,
           "subunitcolor": "white"
          },
          "hoverlabel": {
           "align": "left"
          },
          "hovermode": "closest",
          "mapbox": {
           "style": "light"
          },
          "paper_bgcolor": "white",
          "plot_bgcolor": "#E5ECF6",
          "polar": {
           "angularaxis": {
            "gridcolor": "white",
            "linecolor": "white",
            "ticks": ""
           },
           "bgcolor": "#E5ECF6",
           "radialaxis": {
            "gridcolor": "white",
            "linecolor": "white",
            "ticks": ""
           }
          },
          "scene": {
           "xaxis": {
            "backgroundcolor": "#E5ECF6",
            "gridcolor": "white",
            "gridwidth": 2,
            "linecolor": "white",
            "showbackground": true,
            "ticks": "",
            "zerolinecolor": "white"
           },
           "yaxis": {
            "backgroundcolor": "#E5ECF6",
            "gridcolor": "white",
            "gridwidth": 2,
            "linecolor": "white",
            "showbackground": true,
            "ticks": "",
            "zerolinecolor": "white"
           },
           "zaxis": {
            "backgroundcolor": "#E5ECF6",
            "gridcolor": "white",
            "gridwidth": 2,
            "linecolor": "white",
            "showbackground": true,
            "ticks": "",
            "zerolinecolor": "white"
           }
          },
          "shapedefaults": {
           "line": {
            "color": "#2a3f5f"
           }
          },
          "ternary": {
           "aaxis": {
            "gridcolor": "white",
            "linecolor": "white",
            "ticks": ""
           },
           "baxis": {
            "gridcolor": "white",
            "linecolor": "white",
            "ticks": ""
           },
           "bgcolor": "#E5ECF6",
           "caxis": {
            "gridcolor": "white",
            "linecolor": "white",
            "ticks": ""
           }
          },
          "title": {
           "x": 0.05
          },
          "xaxis": {
           "automargin": true,
           "gridcolor": "white",
           "linecolor": "white",
           "ticks": "",
           "title": {
            "standoff": 15
           },
           "zerolinecolor": "white",
           "zerolinewidth": 2
          },
          "yaxis": {
           "automargin": true,
           "gridcolor": "white",
           "linecolor": "white",
           "ticks": "",
           "title": {
            "standoff": 15
           },
           "zerolinecolor": "white",
           "zerolinewidth": 2
          }
         }
        },
        "title": {
         "font": {
          "size": 18
         },
         "text": "Distribution of Research Topics Over Time"
        },
        "updatemenus": [
         {
          "buttons": [
           {
            "args": [
             {
              "visible": "legendonly"
             }
            ],
            "label": "Deselect All",
            "method": "restyle"
           },
           {
            "args": [
             {
              "visible": true
             }
            ],
            "label": "Select All",
            "method": "restyle"
           }
          ],
          "direction": "left",
          "pad": {
           "r": 10,
           "t": 10
          },
          "showactive": false,
          "type": "buttons",
          "x": 1,
          "xanchor": "right",
          "y": 1.1,
          "yanchor": "top"
         }
        ],
        "width": 1500,
        "xaxis": {
         "anchor": "y",
         "domain": [
          0,
          1
         ],
         "title": {
          "font": {
           "size": 14
          },
          "text": "Year"
         }
        },
        "yaxis": {
         "anchor": "x",
         "domain": [
          0,
          1
         ],
         "tickformat": ".1%",
         "title": {
          "font": {
           "size": 14
          },
          "text": "Proportion of Total Papers"
         }
        }
       }
      }
     },
     "metadata": {},
     "output_type": "display_data"
    }
   ],
   "source": [
    "fig1\n"
   ]
  },
  {
   "cell_type": "markdown",
   "metadata": {},
   "source": [
    "# Plot Geriatrics\n"
   ]
  },
  {
   "cell_type": "code",
   "execution_count": 101,
   "metadata": {},
   "outputs": [
    {
     "data": {
      "application/vnd.plotly.v1+json": {
       "config": {
        "plotlyServerURL": "https://plot.ly"
       },
       "data": [
        {
         "fillpattern": {
          "shape": ""
         },
         "hovertemplate": "<b>%{fullData.name}</b><br>Year: %{x}<br>Proportion: %{y:.2%}<extra></extra>",
         "legendgroup": "SSRIs for Depression with Cognitive Impairment",
         "line": {
          "color": "#636EFA"
         },
         "marker": {
          "symbol": "circle"
         },
         "mode": "lines",
         "name": "SSRIs for Depression with Cognitive Impairment",
         "orientation": "v",
         "showlegend": true,
         "stackgroup": "1",
         "type": "scatter",
         "x": {
          "bdata": "vgcAAL8HAADABwAAwQcAAMIHAADDBwAAxAcAAMUHAADGBwAAxwcAAMgHAADJBwAAygcAAMsHAADMBwAAzQcAAM4HAADPBwAA0AcAANEHAADSBwAA0wcAANQHAADVBwAA1gcAANcHAADYBwAA2QcAANoHAADbBwAA3AcAAN0HAADeBwAA3wcAAOAHAADhBwAA4gcAAOMHAADkBwAA5QcAAOYHAADnBwAA6AcAAOkHAAA=",
          "dtype": "i4"
         },
         "xaxis": "x",
         "y": {
          "bdata": "HMdxHMdxrD8cTJHPusG0P3CBC1zgAqc/Ecg1Ecg1oT8RDuEQDuGgP9jq2SFwY5k/GIZhGIZhqD+SsaiG2cGRPxX44uoHHXU/tQojRPYlbz8LWchCFrKAP+ere6SVyXM/rbegDKv1hj872rxPccmQP8CHFKWSdoc/HfiuHPiufD/A0Ig6R5F2PxL6AaocoW8/Z7fwqzGRfj8YGBgYGBh4P9Yj/35p0I0/SRpgd9RIij9T0MGjLgV9P9TTtDyLu4Y/VxCTK4jJhT9QJJzSvPiDP3KlNZakmXQ/JfSMyaOdfz/6hY25DzF+P89JfPq1in4/2DhpgY2Thj+X7nMNslJ5P8VIeR/fc4Y/EcPjC+A1jz8SGIERGIFxP+u5EQlSfYA/mpmZmZmZgT/o3DM2qreCP3FH3BF3xG0/fYjcoHE0eD9jfxgsHJlzP4s5tmuqm2c/eMuhNmzRfj8V+OLqBx11Pw==",
          "dtype": "f8"
         },
         "yaxis": "y"
        },
        {
         "fillpattern": {
          "shape": ""
         },
         "hovertemplate": "<b>%{fullData.name}</b><br>Year: %{x}<br>Proportion: %{y:.2%}<extra></extra>",
         "legendgroup": "SSRIs for Geriatric Depression",
         "line": {
          "color": "#EF553B"
         },
         "marker": {
          "symbol": "circle"
         },
         "mode": "lines",
         "name": "SSRIs for Geriatric Depression",
         "orientation": "v",
         "showlegend": true,
         "stackgroup": "1",
         "type": "scatter",
         "x": {
          "bdata": "vgcAAL8HAADABwAAwQcAAMIHAADDBwAAxAcAAMUHAADGBwAAxwcAAMgHAADJBwAAygcAAMsHAADMBwAAzQcAAM4HAADPBwAA0AcAANEHAADSBwAA0wcAANQHAADVBwAA1gcAANcHAADYBwAA2QcAANoHAADbBwAA3AcAAN0HAADeBwAA3wcAAOAHAADhBwAA4gcAAOMHAADkBwAA5QcAAOYHAADnBwAA6AcAAOkHAAA=",
          "dtype": "i4"
         },
         "xaxis": "x",
         "y": {
          "bdata": "AAAAAAAAAADQusEU+ayLPwAAAAAAAAAAAAAAAAAAAAAAAAAAAAAAAAAAAAAAAAAAAAAAAAAAAAAAAAAAAAAAAAAAAAAAAAAAAAAAAAAAAABkIQtZyEKGP+GWmg37u5g/atzAqDONez872rxPccmQPxyqDr9owpA/E+6kEu6kkj/wBCsJmTWMP7mlAeOXW4o/pxX3TrLUgT+BGrRN54CKP43PnOExOok/5xXQuFvndT9UCQE5P5WAP/c8bENliIA/QUyuICZXgD9JOKV58SdyPwVB6VmVCHg/dvUns1gafD9RWV4mtSBkP6zTtm6694A/QNOcATTNeT/x8haKBf5iP0TGn1+fCXA/d28UmaTVYT9tdQHCylZXP9+PT9scYlo/MzMzMzMzYz810e/y4vRoP3fEHXFH3GE/xJWnOfODVT9pkUfRTP9rPymryNC/tGE/cEBYTFLPcD8V+OLqBx11Pw==",
          "dtype": "f8"
         },
         "yaxis": "y"
        },
        {
         "fillpattern": {
          "shape": ""
         },
         "hovertemplate": "<b>%{fullData.name}</b><br>Year: %{x}<br>Proportion: %{y:.2%}<extra></extra>",
         "legendgroup": "SSRIs in Dementias",
         "line": {
          "color": "#00CC96"
         },
         "marker": {
          "symbol": "circle"
         },
         "mode": "lines",
         "name": "SSRIs in Dementias",
         "orientation": "v",
         "showlegend": true,
         "stackgroup": "1",
         "type": "scatter",
         "x": {
          "bdata": "vgcAAL8HAADABwAAwQcAAMIHAADDBwAAxAcAAMUHAADGBwAAxwcAAMgHAADJBwAAygcAAMsHAADMBwAAzQcAAM4HAADPBwAA0AcAANEHAADSBwAA0wcAANQHAADVBwAA1gcAANcHAADYBwAA2QcAANoHAADbBwAA3AcAAN0HAADeBwAA3wcAAOAHAADhBwAA4gcAAOMHAADkBwAA5QcAAOYHAADnBwAA6AcAAOkHAAA=",
          "dtype": "i4"
         },
         "xaxis": "x",
         "y": {
          "bdata": "AAAAAAAAAAAAAAAAAAAAAAAAAAAAAAAAEcg1Ecg1gT8AAAAAAAAAAAAAAAAAAAAAOQUvp+DllD8AAAAAAAAAABX44uoHHYU/tQojRPYlfz9kIQtZyEKGPwAAAAAAAAAAatzAqDONez/5IlFq7GF2PxyqDr9owoA/Ecg1Ecg1kT+QnOZr9eyAPxL6AaocoX8/ms/1x8tghD/eEER3qt2AP0V7OkT6o4Q/5xXQuFvnhT+pS0EHj7qEPzVMR5R+qoQ/XvyJhFOahz90wG6PtQx9P98JgtKzKnE/avn4b3eQcT8Z9aNK7MWQP6zTtm6695A/dKC2QQdqiz8ItD9p2miBP2apbw9vDog/C4JCXZXOhD/BafFrFJyWP2gvob2E9pI/mpmZmZmZkT/o3DM2qreSP3FH3BF3xI0/Au0KBRbPkD9pkUfRTP+LP+7HowaVgo0/cEBYTFLPkD8SmYbtZnmSPw==",
          "dtype": "f8"
         },
         "yaxis": "y"
        },
        {
         "fillpattern": {
          "shape": ""
         },
         "hovertemplate": "<b>%{fullData.name}</b><br>Year: %{x}<br>Proportion: %{y:.2%}<extra></extra>",
         "legendgroup": "Post-Stroke SSRI Use",
         "line": {
          "color": "#AB63FA"
         },
         "marker": {
          "symbol": "circle"
         },
         "mode": "lines",
         "name": "Post-Stroke SSRI Use",
         "orientation": "v",
         "showlegend": true,
         "stackgroup": "1",
         "type": "scatter",
         "x": {
          "bdata": "vgcAAL8HAADABwAAwQcAAMIHAADDBwAAxAcAAMUHAADGBwAAxwcAAMgHAADJBwAAygcAAMsHAADMBwAAzQcAAM4HAADPBwAA0AcAANEHAADSBwAA0wcAANQHAADVBwAA1gcAANcHAADYBwAA2QcAANoHAADbBwAA3AcAAN0HAADeBwAA3wcAAOAHAADhBwAA4gcAAOMHAADkBwAA5QcAAOYHAADnBwAA6AcAAOkHAAA=",
          "dtype": "i4"
         },
         "xaxis": "x",
         "y": {
          "bdata": "AAAAAAAAAAAAAAAAAAAAAAAAAAAAAAAAAAAAAAAAAAAXaIEWaIGGPwAAAAAAAAAAAAAAAAAAAAAAAAAAAAAAAAAAAAAAAAAAtQojRPYlbz9kIQtZyEJmPwAAAAAAAAAA8ZKAcCJecj9M2Rbj5dd9P+6YEbJ9HHQ/Ecg1Ecg1cT+QnOZr9exwPxL6AaocoW8/gUPzuf54eT/qHFCDtulsP43PnOExOok/5xXQuFvnhT+pS0EHj7p0PzVMR5R+qoQ/QUyuICZXgD9JOKV58SeCP6jXWzQs4oI/H3b1J7NYij9tizuUGc6FP6zTtm6695A/CAQCgUAggD9qbCJPCH2MP0fLUt8e3ow/Zv02LFkQlD+7AGFlqwuQP+ere6SVyZM/zczMzMzMoD+YVSms7Z2WP6Ev6Av6gp4/Au0KBRbPoD8PrfWcef+UP+7HowaVgo0/JJtffe41kj8atpvlSWSKPw==",
          "dtype": "f8"
         },
         "yaxis": "y"
        },
        {
         "fillpattern": {
          "shape": ""
         },
         "hovertemplate": "<b>%{fullData.name}</b><br>Year: %{x}<br>Proportion: %{y:.2%}<extra></extra>",
         "legendgroup": "SSRIs for Depression in Parkinsons Patients",
         "line": {
          "color": "#FFA15A"
         },
         "marker": {
          "symbol": "circle"
         },
         "mode": "lines",
         "name": "SSRIs for Depression in Parkinsons Patients",
         "orientation": "v",
         "showlegend": true,
         "stackgroup": "1",
         "type": "scatter",
         "x": {
          "bdata": "vgcAAL8HAADABwAAwQcAAMIHAADDBwAAxAcAAMUHAADGBwAAxwcAAMgHAADJBwAAygcAAMsHAADMBwAAzQcAAM4HAADPBwAA0AcAANEHAADSBwAA0wcAANQHAADVBwAA1gcAANcHAADYBwAA2QcAANoHAADbBwAA3AcAAN0HAADeBwAA3wcAAOAHAADhBwAA4gcAAOMHAADkBwAA5QcAAOYHAADnBwAA6AcAAOkHAAA=",
          "dtype": "i4"
         },
         "xaxis": "x",
         "y": {
          "bdata": "AAAAAAAAAAAAAAAAAAAAAAAAAAAAAAAAAAAAAAAAAAAXaIEWaIGWPwAAAAAAAAAAAAAAAAAAAAAAAAAAAAAAAAAAAAAAAAAAtQojRPYlfz9kIQtZyEJ2P+ere6SVyWM/8ZKAcCJecj9M2Rbj5dd9P5N2F5in0Ho/Ecg1Ecg1gT/A0Ig6R5GGPxL6AaocoX8/ms/1x8tghD9GE+CseUZzP2ml6xIW74Y/txOIWZ+2gz9UCQE5P5VwP3JbIuWXzIg/dMBuj7UMfT9JOKV58SeCPztzD/gcUYY/x/bCnA2XeD/6hY25DzF+P76OmTQ4wXc/QNOcATTNiT896tCQXqdvPyXogi9P2YQ/d28UmaTVgT+/RsFp8WuEP+u5EQlSfXA/AAAAAAAAgD+CxauvGzJ/P/QFfUFf0Ic/fYjcoHE0eD8PrfWcef+EP4s5tmuqm3c/eMuhNmzRfj8AAAAAAAAAAA==",
          "dtype": "f8"
         },
         "yaxis": "y"
        },
        {
         "fillpattern": {
          "shape": ""
         },
         "hovertemplate": "<b>%{fullData.name}</b><br>Year: %{x}<br>Proportion: %{y:.2%}<extra></extra>",
         "legendgroup": "SSRIs for Depression in Patients with Cardiovascular Disease",
         "line": {
          "color": "#19D3F3"
         },
         "marker": {
          "symbol": "circle"
         },
         "mode": "lines",
         "name": "SSRIs for Depression in Patients with Cardiovascular Disease",
         "orientation": "v",
         "showlegend": true,
         "stackgroup": "1",
         "type": "scatter",
         "x": {
          "bdata": "vgcAAL8HAADABwAAwQcAAMIHAADDBwAAxAcAAMUHAADGBwAAxwcAAMgHAADJBwAAygcAAMsHAADMBwAAzQcAAM4HAADPBwAA0AcAANEHAADSBwAA0wcAANQHAADVBwAA1gcAANcHAADYBwAA2QcAANoHAADbBwAA3AcAAN0HAADeBwAA3wcAAOAHAADhBwAA4gcAAOMHAADkBwAA5QcAAOYHAADnBwAA6AcAAOkHAAA=",
          "dtype": "i4"
         },
         "xaxis": "x",
         "y": {
          "bdata": "AAAAAAAAAAAAAAAAAAAAAAAAAAAAAAAAAAAAAAAAAAAAAAAAAAAAAAAAAAAAAAAA9waUiSvdez8AAAAAAAAAAAAAAAAAAAAAtQojRPYlbz9kIQtZyEJmPwAAAAAAAAAA8ZKAcCJegj8AAAAAAAAAAO6YEbJ9HHQ/Ecg1Ecg1cT/Y6tkhcGOJPzUngbhQc4I/rbh3kqWOkD8YGBgYGBiIP/0m2KbCDYA/zxQsif3OlD/+jYHV3t+IP9TTtDyLu4Y/UCSc0rz4gz9MriAmVxCTP/oilaH3TpA/HLcp1zq2lz/6hY25DzGOPwubA4lW2Iw/dKC2QQdqiz9qbCJPCH2MPwYKZv/+qIk/d28UmaTVkT9mDHG7YcaQP9l6bkSCVI8/zczMzMzMjD9eXpweA/CRP9AX9AV9QY8/fYjcoHE0iD8MJF5KYcyAPymryNC/tIE/cEBYTFLPgD8V+OLqBx1lPw==",
          "dtype": "f8"
         },
         "yaxis": "y"
        }
       ],
       "layout": {
        "height": 600,
        "hovermode": "closest",
        "legend": {
         "font": {
          "size": 12
         },
         "orientation": "v",
         "title": {
          "font": {
           "size": 14
          },
          "text": "Cluster"
         },
         "tracegroupgap": 0,
         "traceorder": "normal",
         "x": 1.02,
         "xanchor": "left",
         "y": 1,
         "yanchor": "top"
        },
        "margin": {
         "r": 150
        },
        "plot_bgcolor": "white",
        "template": {
         "data": {
          "bar": [
           {
            "error_x": {
             "color": "#2a3f5f"
            },
            "error_y": {
             "color": "#2a3f5f"
            },
            "marker": {
             "line": {
              "color": "#E5ECF6",
              "width": 0.5
             },
             "pattern": {
              "fillmode": "overlay",
              "size": 10,
              "solidity": 0.2
             }
            },
            "type": "bar"
           }
          ],
          "barpolar": [
           {
            "marker": {
             "line": {
              "color": "#E5ECF6",
              "width": 0.5
             },
             "pattern": {
              "fillmode": "overlay",
              "size": 10,
              "solidity": 0.2
             }
            },
            "type": "barpolar"
           }
          ],
          "carpet": [
           {
            "aaxis": {
             "endlinecolor": "#2a3f5f",
             "gridcolor": "white",
             "linecolor": "white",
             "minorgridcolor": "white",
             "startlinecolor": "#2a3f5f"
            },
            "baxis": {
             "endlinecolor": "#2a3f5f",
             "gridcolor": "white",
             "linecolor": "white",
             "minorgridcolor": "white",
             "startlinecolor": "#2a3f5f"
            },
            "type": "carpet"
           }
          ],
          "choropleth": [
           {
            "colorbar": {
             "outlinewidth": 0,
             "ticks": ""
            },
            "type": "choropleth"
           }
          ],
          "contour": [
           {
            "colorbar": {
             "outlinewidth": 0,
             "ticks": ""
            },
            "colorscale": [
             [
              0,
              "#0d0887"
             ],
             [
              0.1111111111111111,
              "#46039f"
             ],
             [
              0.2222222222222222,
              "#7201a8"
             ],
             [
              0.3333333333333333,
              "#9c179e"
             ],
             [
              0.4444444444444444,
              "#bd3786"
             ],
             [
              0.5555555555555556,
              "#d8576b"
             ],
             [
              0.6666666666666666,
              "#ed7953"
             ],
             [
              0.7777777777777778,
              "#fb9f3a"
             ],
             [
              0.8888888888888888,
              "#fdca26"
             ],
             [
              1,
              "#f0f921"
             ]
            ],
            "type": "contour"
           }
          ],
          "contourcarpet": [
           {
            "colorbar": {
             "outlinewidth": 0,
             "ticks": ""
            },
            "type": "contourcarpet"
           }
          ],
          "heatmap": [
           {
            "colorbar": {
             "outlinewidth": 0,
             "ticks": ""
            },
            "colorscale": [
             [
              0,
              "#0d0887"
             ],
             [
              0.1111111111111111,
              "#46039f"
             ],
             [
              0.2222222222222222,
              "#7201a8"
             ],
             [
              0.3333333333333333,
              "#9c179e"
             ],
             [
              0.4444444444444444,
              "#bd3786"
             ],
             [
              0.5555555555555556,
              "#d8576b"
             ],
             [
              0.6666666666666666,
              "#ed7953"
             ],
             [
              0.7777777777777778,
              "#fb9f3a"
             ],
             [
              0.8888888888888888,
              "#fdca26"
             ],
             [
              1,
              "#f0f921"
             ]
            ],
            "type": "heatmap"
           }
          ],
          "histogram": [
           {
            "marker": {
             "pattern": {
              "fillmode": "overlay",
              "size": 10,
              "solidity": 0.2
             }
            },
            "type": "histogram"
           }
          ],
          "histogram2d": [
           {
            "colorbar": {
             "outlinewidth": 0,
             "ticks": ""
            },
            "colorscale": [
             [
              0,
              "#0d0887"
             ],
             [
              0.1111111111111111,
              "#46039f"
             ],
             [
              0.2222222222222222,
              "#7201a8"
             ],
             [
              0.3333333333333333,
              "#9c179e"
             ],
             [
              0.4444444444444444,
              "#bd3786"
             ],
             [
              0.5555555555555556,
              "#d8576b"
             ],
             [
              0.6666666666666666,
              "#ed7953"
             ],
             [
              0.7777777777777778,
              "#fb9f3a"
             ],
             [
              0.8888888888888888,
              "#fdca26"
             ],
             [
              1,
              "#f0f921"
             ]
            ],
            "type": "histogram2d"
           }
          ],
          "histogram2dcontour": [
           {
            "colorbar": {
             "outlinewidth": 0,
             "ticks": ""
            },
            "colorscale": [
             [
              0,
              "#0d0887"
             ],
             [
              0.1111111111111111,
              "#46039f"
             ],
             [
              0.2222222222222222,
              "#7201a8"
             ],
             [
              0.3333333333333333,
              "#9c179e"
             ],
             [
              0.4444444444444444,
              "#bd3786"
             ],
             [
              0.5555555555555556,
              "#d8576b"
             ],
             [
              0.6666666666666666,
              "#ed7953"
             ],
             [
              0.7777777777777778,
              "#fb9f3a"
             ],
             [
              0.8888888888888888,
              "#fdca26"
             ],
             [
              1,
              "#f0f921"
             ]
            ],
            "type": "histogram2dcontour"
           }
          ],
          "mesh3d": [
           {
            "colorbar": {
             "outlinewidth": 0,
             "ticks": ""
            },
            "type": "mesh3d"
           }
          ],
          "parcoords": [
           {
            "line": {
             "colorbar": {
              "outlinewidth": 0,
              "ticks": ""
             }
            },
            "type": "parcoords"
           }
          ],
          "pie": [
           {
            "automargin": true,
            "type": "pie"
           }
          ],
          "scatter": [
           {
            "fillpattern": {
             "fillmode": "overlay",
             "size": 10,
             "solidity": 0.2
            },
            "type": "scatter"
           }
          ],
          "scatter3d": [
           {
            "line": {
             "colorbar": {
              "outlinewidth": 0,
              "ticks": ""
             }
            },
            "marker": {
             "colorbar": {
              "outlinewidth": 0,
              "ticks": ""
             }
            },
            "type": "scatter3d"
           }
          ],
          "scattercarpet": [
           {
            "marker": {
             "colorbar": {
              "outlinewidth": 0,
              "ticks": ""
             }
            },
            "type": "scattercarpet"
           }
          ],
          "scattergeo": [
           {
            "marker": {
             "colorbar": {
              "outlinewidth": 0,
              "ticks": ""
             }
            },
            "type": "scattergeo"
           }
          ],
          "scattergl": [
           {
            "marker": {
             "colorbar": {
              "outlinewidth": 0,
              "ticks": ""
             }
            },
            "type": "scattergl"
           }
          ],
          "scattermap": [
           {
            "marker": {
             "colorbar": {
              "outlinewidth": 0,
              "ticks": ""
             }
            },
            "type": "scattermap"
           }
          ],
          "scattermapbox": [
           {
            "marker": {
             "colorbar": {
              "outlinewidth": 0,
              "ticks": ""
             }
            },
            "type": "scattermapbox"
           }
          ],
          "scatterpolar": [
           {
            "marker": {
             "colorbar": {
              "outlinewidth": 0,
              "ticks": ""
             }
            },
            "type": "scatterpolar"
           }
          ],
          "scatterpolargl": [
           {
            "marker": {
             "colorbar": {
              "outlinewidth": 0,
              "ticks": ""
             }
            },
            "type": "scatterpolargl"
           }
          ],
          "scatterternary": [
           {
            "marker": {
             "colorbar": {
              "outlinewidth": 0,
              "ticks": ""
             }
            },
            "type": "scatterternary"
           }
          ],
          "surface": [
           {
            "colorbar": {
             "outlinewidth": 0,
             "ticks": ""
            },
            "colorscale": [
             [
              0,
              "#0d0887"
             ],
             [
              0.1111111111111111,
              "#46039f"
             ],
             [
              0.2222222222222222,
              "#7201a8"
             ],
             [
              0.3333333333333333,
              "#9c179e"
             ],
             [
              0.4444444444444444,
              "#bd3786"
             ],
             [
              0.5555555555555556,
              "#d8576b"
             ],
             [
              0.6666666666666666,
              "#ed7953"
             ],
             [
              0.7777777777777778,
              "#fb9f3a"
             ],
             [
              0.8888888888888888,
              "#fdca26"
             ],
             [
              1,
              "#f0f921"
             ]
            ],
            "type": "surface"
           }
          ],
          "table": [
           {
            "cells": {
             "fill": {
              "color": "#EBF0F8"
             },
             "line": {
              "color": "white"
             }
            },
            "header": {
             "fill": {
              "color": "#C8D4E3"
             },
             "line": {
              "color": "white"
             }
            },
            "type": "table"
           }
          ]
         },
         "layout": {
          "annotationdefaults": {
           "arrowcolor": "#2a3f5f",
           "arrowhead": 0,
           "arrowwidth": 1
          },
          "autotypenumbers": "strict",
          "coloraxis": {
           "colorbar": {
            "outlinewidth": 0,
            "ticks": ""
           }
          },
          "colorscale": {
           "diverging": [
            [
             0,
             "#8e0152"
            ],
            [
             0.1,
             "#c51b7d"
            ],
            [
             0.2,
             "#de77ae"
            ],
            [
             0.3,
             "#f1b6da"
            ],
            [
             0.4,
             "#fde0ef"
            ],
            [
             0.5,
             "#f7f7f7"
            ],
            [
             0.6,
             "#e6f5d0"
            ],
            [
             0.7,
             "#b8e186"
            ],
            [
             0.8,
             "#7fbc41"
            ],
            [
             0.9,
             "#4d9221"
            ],
            [
             1,
             "#276419"
            ]
           ],
           "sequential": [
            [
             0,
             "#0d0887"
            ],
            [
             0.1111111111111111,
             "#46039f"
            ],
            [
             0.2222222222222222,
             "#7201a8"
            ],
            [
             0.3333333333333333,
             "#9c179e"
            ],
            [
             0.4444444444444444,
             "#bd3786"
            ],
            [
             0.5555555555555556,
             "#d8576b"
            ],
            [
             0.6666666666666666,
             "#ed7953"
            ],
            [
             0.7777777777777778,
             "#fb9f3a"
            ],
            [
             0.8888888888888888,
             "#fdca26"
            ],
            [
             1,
             "#f0f921"
            ]
           ],
           "sequentialminus": [
            [
             0,
             "#0d0887"
            ],
            [
             0.1111111111111111,
             "#46039f"
            ],
            [
             0.2222222222222222,
             "#7201a8"
            ],
            [
             0.3333333333333333,
             "#9c179e"
            ],
            [
             0.4444444444444444,
             "#bd3786"
            ],
            [
             0.5555555555555556,
             "#d8576b"
            ],
            [
             0.6666666666666666,
             "#ed7953"
            ],
            [
             0.7777777777777778,
             "#fb9f3a"
            ],
            [
             0.8888888888888888,
             "#fdca26"
            ],
            [
             1,
             "#f0f921"
            ]
           ]
          },
          "colorway": [
           "#636efa",
           "#EF553B",
           "#00cc96",
           "#ab63fa",
           "#FFA15A",
           "#19d3f3",
           "#FF6692",
           "#B6E880",
           "#FF97FF",
           "#FECB52"
          ],
          "font": {
           "color": "#2a3f5f"
          },
          "geo": {
           "bgcolor": "white",
           "lakecolor": "white",
           "landcolor": "#E5ECF6",
           "showlakes": true,
           "showland": true,
           "subunitcolor": "white"
          },
          "hoverlabel": {
           "align": "left"
          },
          "hovermode": "closest",
          "mapbox": {
           "style": "light"
          },
          "paper_bgcolor": "white",
          "plot_bgcolor": "#E5ECF6",
          "polar": {
           "angularaxis": {
            "gridcolor": "white",
            "linecolor": "white",
            "ticks": ""
           },
           "bgcolor": "#E5ECF6",
           "radialaxis": {
            "gridcolor": "white",
            "linecolor": "white",
            "ticks": ""
           }
          },
          "scene": {
           "xaxis": {
            "backgroundcolor": "#E5ECF6",
            "gridcolor": "white",
            "gridwidth": 2,
            "linecolor": "white",
            "showbackground": true,
            "ticks": "",
            "zerolinecolor": "white"
           },
           "yaxis": {
            "backgroundcolor": "#E5ECF6",
            "gridcolor": "white",
            "gridwidth": 2,
            "linecolor": "white",
            "showbackground": true,
            "ticks": "",
            "zerolinecolor": "white"
           },
           "zaxis": {
            "backgroundcolor": "#E5ECF6",
            "gridcolor": "white",
            "gridwidth": 2,
            "linecolor": "white",
            "showbackground": true,
            "ticks": "",
            "zerolinecolor": "white"
           }
          },
          "shapedefaults": {
           "line": {
            "color": "#2a3f5f"
           }
          },
          "ternary": {
           "aaxis": {
            "gridcolor": "white",
            "linecolor": "white",
            "ticks": ""
           },
           "baxis": {
            "gridcolor": "white",
            "linecolor": "white",
            "ticks": ""
           },
           "bgcolor": "#E5ECF6",
           "caxis": {
            "gridcolor": "white",
            "linecolor": "white",
            "ticks": ""
           }
          },
          "title": {
           "x": 0.05
          },
          "xaxis": {
           "automargin": true,
           "gridcolor": "white",
           "linecolor": "white",
           "ticks": "",
           "title": {
            "standoff": 15
           },
           "zerolinecolor": "white",
           "zerolinewidth": 2
          },
          "yaxis": {
           "automargin": true,
           "gridcolor": "white",
           "linecolor": "white",
           "ticks": "",
           "title": {
            "standoff": 15
           },
           "zerolinecolor": "white",
           "zerolinewidth": 2
          }
         }
        },
        "title": {
         "font": {
          "size": 18
         },
         "text": "Cluster Proportions Over Time"
        },
        "updatemenus": [
         {
          "buttons": [
           {
            "args": [
             {
              "visible": "legendonly"
             }
            ],
            "label": "Deselect All",
            "method": "restyle"
           },
           {
            "args": [
             {
              "visible": true
             }
            ],
            "label": "Select All",
            "method": "restyle"
           }
          ],
          "direction": "left",
          "pad": {
           "r": 10,
           "t": 10
          },
          "showactive": false,
          "type": "buttons",
          "x": 1,
          "xanchor": "right",
          "y": 1.1,
          "yanchor": "top"
         }
        ],
        "width": 1200,
        "xaxis": {
         "anchor": "y",
         "domain": [
          0,
          1
         ],
         "title": {
          "font": {
           "size": 14
          },
          "text": "Year"
         }
        },
        "yaxis": {
         "anchor": "x",
         "domain": [
          0,
          1
         ],
         "tickformat": ".1%",
         "title": {
          "font": {
           "size": 14
          },
          "text": "Proportion of Total Papers"
         }
        }
       }
      }
     },
     "metadata": {},
     "output_type": "display_data"
    }
   ],
   "source": [
    "fig_geriatrics\n"
   ]
  },
  {
   "cell_type": "code",
   "execution_count": 102,
   "metadata": {},
   "outputs": [
    {
     "data": {
      "application/vnd.plotly.v1+json": {
       "config": {
        "plotlyServerURL": "https://plot.ly"
       },
       "data": [
        {
         "fillpattern": {
          "shape": ""
         },
         "hovertemplate": "<b>%{fullData.name}</b><br>Year: %{x}<br>Proportion: %{y:.2%}<extra></extra>",
         "legendgroup": "SSRIs for Depression with Cognitive Impairment",
         "line": {
          "color": "#636EFA"
         },
         "marker": {
          "symbol": "circle"
         },
         "mode": "lines",
         "name": "SSRIs for Depression with Cognitive Impairment",
         "orientation": "v",
         "showlegend": true,
         "stackgroup": "1",
         "type": "scatter",
         "x": {
          "bdata": "vgcAAL8HAADABwAAwQcAAMIHAADDBwAAxAcAAMUHAADGBwAAxwcAAMgHAADJBwAAygcAAMsHAADMBwAAzQcAAM4HAADPBwAA0AcAANEHAADSBwAA0wcAANQHAADVBwAA1gcAANcHAADYBwAA2QcAANoHAADbBwAA3AcAAN0HAADeBwAA3wcAAOAHAADhBwAA4gcAAOMHAADkBwAA5QcAAOYHAADnBwAA6AcAAOkHAAA=",
          "dtype": "i4"
         },
         "xaxis": "x",
         "y": {
          "bdata": "AAAAAAAA8D/btm3btm3rPwAAAAAAAPA/mpmZmZmZ6T8AAAAAAADgPwAAAAAAAPA/XXTRRRdd5D8AAAAAAADwP1VVVVVVVdU/kiRJkiRJwj+amZmZmZnJPxQ7sRM7scM/eQ3lNZTX0D8Jyz2NsNzTPwAAAAAAAMw/nud5nud5vj+amZmZmZm5PxZf8RVf8bU/QUyuICZXwD8AAAAAAADAP5/ikiFYR8s/GHqhF3qhxz84velNb3rDP7bWWmuttcY/xhhjjDHGyD+WWqmVWqnFP1hHm/cpLrk/NgcSrbA5wD8AAAAAAADAPx9yWTFQwrs/25WoXYnaxT8QBEEQBEHAP6QMPN2aH8Y/Gb4RBSadyj/Wh8b60FivP5TwRlPn174/CsZb2eeQuj8eHh4eHh6+P/JW9jmkJqg/5zpGca5jtD9CEYpQhCK0P2e38Ksxka4/n/RJn/RJvz8eHh4eHh6+Pw==",
          "dtype": "f8"
         },
         "yaxis": "y"
        },
        {
         "fillpattern": {
          "shape": ""
         },
         "hovertemplate": "<b>%{fullData.name}</b><br>Year: %{x}<br>Proportion: %{y:.2%}<extra></extra>",
         "legendgroup": "SSRIs for Geriatric Depression",
         "line": {
          "color": "#EF553B"
         },
         "marker": {
          "symbol": "circle"
         },
         "mode": "lines",
         "name": "SSRIs for Geriatric Depression",
         "orientation": "v",
         "showlegend": true,
         "stackgroup": "1",
         "type": "scatter",
         "x": {
          "bdata": "vgcAAL8HAADABwAAwQcAAMIHAADDBwAAxAcAAMUHAADGBwAAxwcAAMgHAADJBwAAygcAAMsHAADMBwAAzQcAAM4HAADPBwAA0AcAANEHAADSBwAA0wcAANQHAADVBwAA1gcAANcHAADYBwAA2QcAANoHAADbBwAA3AcAAN0HAADeBwAA3wcAAOAHAADhBwAA4gcAAOMHAADkBwAA5QcAAOYHAADnBwAA6AcAAOkHAAA=",
          "dtype": "i4"
         },
         "xaxis": "x",
         "y": {
          "bdata": "AAAAAAAAAACSJEmSJEnCPwAAAAAAAAAAAAAAAAAAAAAAAAAAAAAAAAAAAAAAAAAAAAAAAAAAAAAAAAAAAAAAAAAAAAAAAAAAAAAAAAAAAAARERERERHRP9mJndiJneg/XkN5DeU1xD8Jyz2NsNzTPwAAAAAAANQ/9DzP8zzP0z8AAAAAAADQP5IkSZIkSdI/TK4gJlcQwz+amZmZmZnRPxGso837FMc/FDuxEzuxsz9kIQtZyELGP4QQQgghhMA/lVJKKaWUwj8UO7ETO7GzP+d9ikuGYL0/C5sDiVbYvD9VVVVVVVWlP5TwRlPn174/+hicj8H5uD8YhmEYhmGoP1ikDDzdmq8/+EYUmHRqnj85BS+n4OWUP6rzaw+5rJg/IjXBeCv7nD8UFBQUFBSkPyI1wXgr+5w/ePshgbcfkj/MYQ5zmMOsP42J9EDl7KY/ERERERERsT8eHh4eHh6+Pw==",
          "dtype": "f8"
         },
         "yaxis": "y"
        },
        {
         "fillpattern": {
          "shape": ""
         },
         "hovertemplate": "<b>%{fullData.name}</b><br>Year: %{x}<br>Proportion: %{y:.2%}<extra></extra>",
         "legendgroup": "SSRIs in Dementias",
         "line": {
          "color": "#00CC96"
         },
         "marker": {
          "symbol": "circle"
         },
         "mode": "lines",
         "name": "SSRIs in Dementias",
         "orientation": "v",
         "showlegend": true,
         "stackgroup": "1",
         "type": "scatter",
         "x": {
          "bdata": "vgcAAL8HAADABwAAwQcAAMIHAADDBwAAxAcAAMUHAADGBwAAxwcAAMgHAADJBwAAygcAAMsHAADMBwAAzQcAAM4HAADPBwAA0AcAANEHAADSBwAA0wcAANQHAADVBwAA1gcAANcHAADYBwAA2QcAANoHAADbBwAA3AcAAN0HAADeBwAA3wcAAOAHAADhBwAA4gcAAOMHAADkBwAA5QcAAOYHAADnBwAA6AcAAOkHAAA=",
          "dtype": "i4"
         },
         "xaxis": "x",
         "y": {
          "bdata": "AAAAAAAAAAAAAAAAAAAAAAAAAAAAAAAAmpmZmZmZyT8AAAAAAAAAAAAAAAAAAAAAdNFFF1100T8AAAAAAAAAAFVVVVVVVeU/kiRJkiRJ0j8RERERERHRPwAAAAAAAAAAXkN5DeU1xD9huacRlnu6PwAAAAAAAMQ/kiRJkiRJ0j8zMzMzMzPDPxZf8RVf8cU/VxCTK4jJxT9mZmZmZmbGP4J1tHmf4sI/FDuxEzuxwz+96U1vetPLP6WUUkoppcQ/11prrbXWyj8g+IEf+IG/P8kQrKPN+7Q/50CiFTYHsj9yHMdxHMfRP5TwRlPn184/idqVqF2Jyj+WZVmWZVnGP0J7Ce0ltMc/vH62WBm+wT8QjfWhsT7UPyKXFQMlvNE/CsZb2eeQyj8eHh4eHh7OP/JW9jmkJsg/7BjFuY5RzD/MYQ5zmMPMP6Bydgu/GtM/ERERERER0T9aWlpaWlraPw==",
          "dtype": "f8"
         },
         "yaxis": "y"
        },
        {
         "fillpattern": {
          "shape": ""
         },
         "hovertemplate": "<b>%{fullData.name}</b><br>Year: %{x}<br>Proportion: %{y:.2%}<extra></extra>",
         "legendgroup": "Post-Stroke SSRI Use",
         "line": {
          "color": "#AB63FA"
         },
         "marker": {
          "symbol": "circle"
         },
         "mode": "lines",
         "name": "Post-Stroke SSRI Use",
         "orientation": "v",
         "showlegend": true,
         "stackgroup": "1",
         "type": "scatter",
         "x": {
          "bdata": "vgcAAL8HAADABwAAwQcAAMIHAADDBwAAxAcAAMUHAADGBwAAxwcAAMgHAADJBwAAygcAAMsHAADMBwAAzQcAAM4HAADPBwAA0AcAANEHAADSBwAA0wcAANQHAADVBwAA1gcAANcHAADYBwAA2QcAANoHAADbBwAA3AcAAN0HAADeBwAA3wcAAOAHAADhBwAA4gcAAOMHAADkBwAA5QcAAOYHAADnBwAA6AcAAOkHAAA=",
          "dtype": "i4"
         },
         "xaxis": "x",
         "y": {
          "bdata": "AAAAAAAAAAAAAAAAAAAAAAAAAAAAAAAAAAAAAAAAAABVVVVVVVXFPwAAAAAAAAAAAAAAAAAAAAAAAAAAAAAAAAAAAAAAAAAAkiRJkiRJwj8RERERERGxPwAAAAAAAAAAKK+hvIbyuj+WexphuafBPwAAAAAAALg/kiRJkiRJsj8zMzMzMzOzPxZf8RVf8bU/bdR3Nuo7uz8zMzMzMzOzPxGso837FMc/FDuxEzuxwz+96U1vetO7P6WUUkoppcQ/lVJKKaWUwj8UO7ETO7HDPxGso837FMc/WmFzINEKyz/HcRzHcRzHP5TwRlPn184/OB+D8zE4vz+SJEmSJEnSPxzHcRzHccw/7GeLleEb0T8vp+DlFLzMP7/2kMuKgdI/fg6pCcZb2T8yMjIyMjLSP7iyzyE1wdg/7BjFuY5R3D9ZyUpWspLVP6Bydgu/GtM/0id90id90j/T0tLS0tLSPw==",
          "dtype": "f8"
         },
         "yaxis": "y"
        },
        {
         "fillpattern": {
          "shape": ""
         },
         "hovertemplate": "<b>%{fullData.name}</b><br>Year: %{x}<br>Proportion: %{y:.2%}<extra></extra>",
         "legendgroup": "SSRIs for Depression in Parkinsons Patients",
         "line": {
          "color": "#FFA15A"
         },
         "marker": {
          "symbol": "circle"
         },
         "mode": "lines",
         "name": "SSRIs for Depression in Parkinsons Patients",
         "orientation": "v",
         "showlegend": true,
         "stackgroup": "1",
         "type": "scatter",
         "x": {
          "bdata": "vgcAAL8HAADABwAAwQcAAMIHAADDBwAAxAcAAMUHAADGBwAAxwcAAMgHAADJBwAAygcAAMsHAADMBwAAzQcAAM4HAADPBwAA0AcAANEHAADSBwAA0wcAANQHAADVBwAA1gcAANcHAADYBwAA2QcAANoHAADbBwAA3AcAAN0HAADeBwAA3wcAAOAHAADhBwAA4gcAAOMHAADkBwAA5QcAAOYHAADnBwAA6AcAAOkHAAA=",
          "dtype": "i4"
         },
         "xaxis": "x",
         "y": {
          "bdata": "AAAAAAAAAAAAAAAAAAAAAAAAAAAAAAAAAAAAAAAAAABVVVVVVVXVPwAAAAAAAAAAAAAAAAAAAAAAAAAAAAAAAAAAAAAAAAAAkiRJkiRJ0j8RERERERHBPxQ7sRM7sbM/KK+hvIbyuj+WexphuafBPwAAAAAAAMA/kiRJkiRJwj+amZmZmZnJPxZf8RVf8cU/VxCTK4jJxT+amZmZmZm5P8kQrKPN+8Q/khu5kRu5wT9kIQtZyEK2P8YYY4wxxsg/hBBCCCGEwD8UO7ETO7HDP5/ikiFYR8s/qSfjt0s9uT8AAAAAAADAPzR1fu0hl7U/+hicj8H5yD8URVEURVG0Pwaebs0Pi8Q/+EYUmHRqvj+SJEmSJEnCP5TwRlPn164/8lb2OaQmuD8ZGRkZGRm5P8F4K/scUsM/5zpGca5jtD9ZyUpWspLFP2e38Ksxkb4/n/RJn/RJvz8AAAAAAAAAAA==",
          "dtype": "f8"
         },
         "yaxis": "y"
        },
        {
         "fillpattern": {
          "shape": ""
         },
         "hovertemplate": "<b>%{fullData.name}</b><br>Year: %{x}<br>Proportion: %{y:.2%}<extra></extra>",
         "legendgroup": "SSRIs for Depression in Patients with Cardiovascular Disease",
         "line": {
          "color": "#19D3F3"
         },
         "marker": {
          "symbol": "circle"
         },
         "mode": "lines",
         "name": "SSRIs for Depression in Patients with Cardiovascular Disease",
         "orientation": "v",
         "showlegend": true,
         "stackgroup": "1",
         "type": "scatter",
         "x": {
          "bdata": "vgcAAL8HAADABwAAwQcAAMIHAADDBwAAxAcAAMUHAADGBwAAxwcAAMgHAADJBwAAygcAAMsHAADMBwAAzQcAAM4HAADPBwAA0AcAANEHAADSBwAA0wcAANQHAADVBwAA1gcAANcHAADYBwAA2QcAANoHAADbBwAA3AcAAN0HAADeBwAA3wcAAOAHAADhBwAA4gcAAOMHAADkBwAA5QcAAOYHAADnBwAA6AcAAOkHAAA=",
          "dtype": "i4"
         },
         "xaxis": "x",
         "y": {
          "bdata": "AAAAAAAAAAAAAAAAAAAAAAAAAAAAAAAAAAAAAAAAAAAAAAAAAAAAAAAAAAAAAAAARhdddNFFtz8AAAAAAAAAAAAAAAAAAAAAkiRJkiRJwj8RERERERGxPwAAAAAAAAAAKK+hvIbyyj8AAAAAAAAAAAAAAAAAALg/kiRJkiRJsj/NzMzMzMzMP5qZmZmZmck/R31no76z0T8AAAAAAADQP+d9ikuGYL0/Uyu1Uiu10j8LWchCFrLQP7bWWmuttcY/ttZaa621xj/VSq3USq3UPyZDsI4279M/0QqbA4lW2D8AAAAAAADQP+SyYqCEN8o/idqVqF2Jyj+SJEmSJEnSP+Dp1vywSMk/+EYUmHRqzj+Dl1PwcgrOP1kxUMIbTc0/2eeQmmC8xT/d3Nzc3NzMP34OqQnGW8k/5zpGca5jxD8UoQhFKELBP42J9EDl7MY/ERERERERwT8eHh4eHh6uPw==",
          "dtype": "f8"
         },
         "yaxis": "y"
        }
       ],
       "layout": {
        "height": 600,
        "hovermode": "closest",
        "legend": {
         "font": {
          "size": 12
         },
         "orientation": "v",
         "title": {
          "font": {
           "size": 14
          },
          "text": "Cluster"
         },
         "tracegroupgap": 0,
         "traceorder": "normal",
         "x": 1.02,
         "xanchor": "left",
         "y": 1,
         "yanchor": "top"
        },
        "margin": {
         "r": 150
        },
        "plot_bgcolor": "white",
        "template": {
         "data": {
          "bar": [
           {
            "error_x": {
             "color": "#2a3f5f"
            },
            "error_y": {
             "color": "#2a3f5f"
            },
            "marker": {
             "line": {
              "color": "#E5ECF6",
              "width": 0.5
             },
             "pattern": {
              "fillmode": "overlay",
              "size": 10,
              "solidity": 0.2
             }
            },
            "type": "bar"
           }
          ],
          "barpolar": [
           {
            "marker": {
             "line": {
              "color": "#E5ECF6",
              "width": 0.5
             },
             "pattern": {
              "fillmode": "overlay",
              "size": 10,
              "solidity": 0.2
             }
            },
            "type": "barpolar"
           }
          ],
          "carpet": [
           {
            "aaxis": {
             "endlinecolor": "#2a3f5f",
             "gridcolor": "white",
             "linecolor": "white",
             "minorgridcolor": "white",
             "startlinecolor": "#2a3f5f"
            },
            "baxis": {
             "endlinecolor": "#2a3f5f",
             "gridcolor": "white",
             "linecolor": "white",
             "minorgridcolor": "white",
             "startlinecolor": "#2a3f5f"
            },
            "type": "carpet"
           }
          ],
          "choropleth": [
           {
            "colorbar": {
             "outlinewidth": 0,
             "ticks": ""
            },
            "type": "choropleth"
           }
          ],
          "contour": [
           {
            "colorbar": {
             "outlinewidth": 0,
             "ticks": ""
            },
            "colorscale": [
             [
              0,
              "#0d0887"
             ],
             [
              0.1111111111111111,
              "#46039f"
             ],
             [
              0.2222222222222222,
              "#7201a8"
             ],
             [
              0.3333333333333333,
              "#9c179e"
             ],
             [
              0.4444444444444444,
              "#bd3786"
             ],
             [
              0.5555555555555556,
              "#d8576b"
             ],
             [
              0.6666666666666666,
              "#ed7953"
             ],
             [
              0.7777777777777778,
              "#fb9f3a"
             ],
             [
              0.8888888888888888,
              "#fdca26"
             ],
             [
              1,
              "#f0f921"
             ]
            ],
            "type": "contour"
           }
          ],
          "contourcarpet": [
           {
            "colorbar": {
             "outlinewidth": 0,
             "ticks": ""
            },
            "type": "contourcarpet"
           }
          ],
          "heatmap": [
           {
            "colorbar": {
             "outlinewidth": 0,
             "ticks": ""
            },
            "colorscale": [
             [
              0,
              "#0d0887"
             ],
             [
              0.1111111111111111,
              "#46039f"
             ],
             [
              0.2222222222222222,
              "#7201a8"
             ],
             [
              0.3333333333333333,
              "#9c179e"
             ],
             [
              0.4444444444444444,
              "#bd3786"
             ],
             [
              0.5555555555555556,
              "#d8576b"
             ],
             [
              0.6666666666666666,
              "#ed7953"
             ],
             [
              0.7777777777777778,
              "#fb9f3a"
             ],
             [
              0.8888888888888888,
              "#fdca26"
             ],
             [
              1,
              "#f0f921"
             ]
            ],
            "type": "heatmap"
           }
          ],
          "histogram": [
           {
            "marker": {
             "pattern": {
              "fillmode": "overlay",
              "size": 10,
              "solidity": 0.2
             }
            },
            "type": "histogram"
           }
          ],
          "histogram2d": [
           {
            "colorbar": {
             "outlinewidth": 0,
             "ticks": ""
            },
            "colorscale": [
             [
              0,
              "#0d0887"
             ],
             [
              0.1111111111111111,
              "#46039f"
             ],
             [
              0.2222222222222222,
              "#7201a8"
             ],
             [
              0.3333333333333333,
              "#9c179e"
             ],
             [
              0.4444444444444444,
              "#bd3786"
             ],
             [
              0.5555555555555556,
              "#d8576b"
             ],
             [
              0.6666666666666666,
              "#ed7953"
             ],
             [
              0.7777777777777778,
              "#fb9f3a"
             ],
             [
              0.8888888888888888,
              "#fdca26"
             ],
             [
              1,
              "#f0f921"
             ]
            ],
            "type": "histogram2d"
           }
          ],
          "histogram2dcontour": [
           {
            "colorbar": {
             "outlinewidth": 0,
             "ticks": ""
            },
            "colorscale": [
             [
              0,
              "#0d0887"
             ],
             [
              0.1111111111111111,
              "#46039f"
             ],
             [
              0.2222222222222222,
              "#7201a8"
             ],
             [
              0.3333333333333333,
              "#9c179e"
             ],
             [
              0.4444444444444444,
              "#bd3786"
             ],
             [
              0.5555555555555556,
              "#d8576b"
             ],
             [
              0.6666666666666666,
              "#ed7953"
             ],
             [
              0.7777777777777778,
              "#fb9f3a"
             ],
             [
              0.8888888888888888,
              "#fdca26"
             ],
             [
              1,
              "#f0f921"
             ]
            ],
            "type": "histogram2dcontour"
           }
          ],
          "mesh3d": [
           {
            "colorbar": {
             "outlinewidth": 0,
             "ticks": ""
            },
            "type": "mesh3d"
           }
          ],
          "parcoords": [
           {
            "line": {
             "colorbar": {
              "outlinewidth": 0,
              "ticks": ""
             }
            },
            "type": "parcoords"
           }
          ],
          "pie": [
           {
            "automargin": true,
            "type": "pie"
           }
          ],
          "scatter": [
           {
            "fillpattern": {
             "fillmode": "overlay",
             "size": 10,
             "solidity": 0.2
            },
            "type": "scatter"
           }
          ],
          "scatter3d": [
           {
            "line": {
             "colorbar": {
              "outlinewidth": 0,
              "ticks": ""
             }
            },
            "marker": {
             "colorbar": {
              "outlinewidth": 0,
              "ticks": ""
             }
            },
            "type": "scatter3d"
           }
          ],
          "scattercarpet": [
           {
            "marker": {
             "colorbar": {
              "outlinewidth": 0,
              "ticks": ""
             }
            },
            "type": "scattercarpet"
           }
          ],
          "scattergeo": [
           {
            "marker": {
             "colorbar": {
              "outlinewidth": 0,
              "ticks": ""
             }
            },
            "type": "scattergeo"
           }
          ],
          "scattergl": [
           {
            "marker": {
             "colorbar": {
              "outlinewidth": 0,
              "ticks": ""
             }
            },
            "type": "scattergl"
           }
          ],
          "scattermap": [
           {
            "marker": {
             "colorbar": {
              "outlinewidth": 0,
              "ticks": ""
             }
            },
            "type": "scattermap"
           }
          ],
          "scattermapbox": [
           {
            "marker": {
             "colorbar": {
              "outlinewidth": 0,
              "ticks": ""
             }
            },
            "type": "scattermapbox"
           }
          ],
          "scatterpolar": [
           {
            "marker": {
             "colorbar": {
              "outlinewidth": 0,
              "ticks": ""
             }
            },
            "type": "scatterpolar"
           }
          ],
          "scatterpolargl": [
           {
            "marker": {
             "colorbar": {
              "outlinewidth": 0,
              "ticks": ""
             }
            },
            "type": "scatterpolargl"
           }
          ],
          "scatterternary": [
           {
            "marker": {
             "colorbar": {
              "outlinewidth": 0,
              "ticks": ""
             }
            },
            "type": "scatterternary"
           }
          ],
          "surface": [
           {
            "colorbar": {
             "outlinewidth": 0,
             "ticks": ""
            },
            "colorscale": [
             [
              0,
              "#0d0887"
             ],
             [
              0.1111111111111111,
              "#46039f"
             ],
             [
              0.2222222222222222,
              "#7201a8"
             ],
             [
              0.3333333333333333,
              "#9c179e"
             ],
             [
              0.4444444444444444,
              "#bd3786"
             ],
             [
              0.5555555555555556,
              "#d8576b"
             ],
             [
              0.6666666666666666,
              "#ed7953"
             ],
             [
              0.7777777777777778,
              "#fb9f3a"
             ],
             [
              0.8888888888888888,
              "#fdca26"
             ],
             [
              1,
              "#f0f921"
             ]
            ],
            "type": "surface"
           }
          ],
          "table": [
           {
            "cells": {
             "fill": {
              "color": "#EBF0F8"
             },
             "line": {
              "color": "white"
             }
            },
            "header": {
             "fill": {
              "color": "#C8D4E3"
             },
             "line": {
              "color": "white"
             }
            },
            "type": "table"
           }
          ]
         },
         "layout": {
          "annotationdefaults": {
           "arrowcolor": "#2a3f5f",
           "arrowhead": 0,
           "arrowwidth": 1
          },
          "autotypenumbers": "strict",
          "coloraxis": {
           "colorbar": {
            "outlinewidth": 0,
            "ticks": ""
           }
          },
          "colorscale": {
           "diverging": [
            [
             0,
             "#8e0152"
            ],
            [
             0.1,
             "#c51b7d"
            ],
            [
             0.2,
             "#de77ae"
            ],
            [
             0.3,
             "#f1b6da"
            ],
            [
             0.4,
             "#fde0ef"
            ],
            [
             0.5,
             "#f7f7f7"
            ],
            [
             0.6,
             "#e6f5d0"
            ],
            [
             0.7,
             "#b8e186"
            ],
            [
             0.8,
             "#7fbc41"
            ],
            [
             0.9,
             "#4d9221"
            ],
            [
             1,
             "#276419"
            ]
           ],
           "sequential": [
            [
             0,
             "#0d0887"
            ],
            [
             0.1111111111111111,
             "#46039f"
            ],
            [
             0.2222222222222222,
             "#7201a8"
            ],
            [
             0.3333333333333333,
             "#9c179e"
            ],
            [
             0.4444444444444444,
             "#bd3786"
            ],
            [
             0.5555555555555556,
             "#d8576b"
            ],
            [
             0.6666666666666666,
             "#ed7953"
            ],
            [
             0.7777777777777778,
             "#fb9f3a"
            ],
            [
             0.8888888888888888,
             "#fdca26"
            ],
            [
             1,
             "#f0f921"
            ]
           ],
           "sequentialminus": [
            [
             0,
             "#0d0887"
            ],
            [
             0.1111111111111111,
             "#46039f"
            ],
            [
             0.2222222222222222,
             "#7201a8"
            ],
            [
             0.3333333333333333,
             "#9c179e"
            ],
            [
             0.4444444444444444,
             "#bd3786"
            ],
            [
             0.5555555555555556,
             "#d8576b"
            ],
            [
             0.6666666666666666,
             "#ed7953"
            ],
            [
             0.7777777777777778,
             "#fb9f3a"
            ],
            [
             0.8888888888888888,
             "#fdca26"
            ],
            [
             1,
             "#f0f921"
            ]
           ]
          },
          "colorway": [
           "#636efa",
           "#EF553B",
           "#00cc96",
           "#ab63fa",
           "#FFA15A",
           "#19d3f3",
           "#FF6692",
           "#B6E880",
           "#FF97FF",
           "#FECB52"
          ],
          "font": {
           "color": "#2a3f5f"
          },
          "geo": {
           "bgcolor": "white",
           "lakecolor": "white",
           "landcolor": "#E5ECF6",
           "showlakes": true,
           "showland": true,
           "subunitcolor": "white"
          },
          "hoverlabel": {
           "align": "left"
          },
          "hovermode": "closest",
          "mapbox": {
           "style": "light"
          },
          "paper_bgcolor": "white",
          "plot_bgcolor": "#E5ECF6",
          "polar": {
           "angularaxis": {
            "gridcolor": "white",
            "linecolor": "white",
            "ticks": ""
           },
           "bgcolor": "#E5ECF6",
           "radialaxis": {
            "gridcolor": "white",
            "linecolor": "white",
            "ticks": ""
           }
          },
          "scene": {
           "xaxis": {
            "backgroundcolor": "#E5ECF6",
            "gridcolor": "white",
            "gridwidth": 2,
            "linecolor": "white",
            "showbackground": true,
            "ticks": "",
            "zerolinecolor": "white"
           },
           "yaxis": {
            "backgroundcolor": "#E5ECF6",
            "gridcolor": "white",
            "gridwidth": 2,
            "linecolor": "white",
            "showbackground": true,
            "ticks": "",
            "zerolinecolor": "white"
           },
           "zaxis": {
            "backgroundcolor": "#E5ECF6",
            "gridcolor": "white",
            "gridwidth": 2,
            "linecolor": "white",
            "showbackground": true,
            "ticks": "",
            "zerolinecolor": "white"
           }
          },
          "shapedefaults": {
           "line": {
            "color": "#2a3f5f"
           }
          },
          "ternary": {
           "aaxis": {
            "gridcolor": "white",
            "linecolor": "white",
            "ticks": ""
           },
           "baxis": {
            "gridcolor": "white",
            "linecolor": "white",
            "ticks": ""
           },
           "bgcolor": "#E5ECF6",
           "caxis": {
            "gridcolor": "white",
            "linecolor": "white",
            "ticks": ""
           }
          },
          "title": {
           "x": 0.05
          },
          "xaxis": {
           "automargin": true,
           "gridcolor": "white",
           "linecolor": "white",
           "ticks": "",
           "title": {
            "standoff": 15
           },
           "zerolinecolor": "white",
           "zerolinewidth": 2
          },
          "yaxis": {
           "automargin": true,
           "gridcolor": "white",
           "linecolor": "white",
           "ticks": "",
           "title": {
            "standoff": 15
           },
           "zerolinecolor": "white",
           "zerolinewidth": 2
          }
         }
        },
        "title": {
         "font": {
          "size": 18
         },
         "text": "Cluster Proportions Over Time (Relative to Selected Clusters)"
        },
        "updatemenus": [
         {
          "buttons": [
           {
            "args": [
             {
              "visible": "legendonly"
             }
            ],
            "label": "Deselect All",
            "method": "restyle"
           },
           {
            "args": [
             {
              "visible": true
             }
            ],
            "label": "Select All",
            "method": "restyle"
           }
          ],
          "direction": "left",
          "pad": {
           "r": 10,
           "t": 10
          },
          "showactive": false,
          "type": "buttons",
          "x": 1,
          "xanchor": "right",
          "y": 1.1,
          "yanchor": "top"
         }
        ],
        "width": 1200,
        "xaxis": {
         "anchor": "y",
         "domain": [
          0,
          1
         ],
         "title": {
          "font": {
           "size": 14
          },
          "text": "Year"
         }
        },
        "yaxis": {
         "anchor": "x",
         "domain": [
          0,
          1
         ],
         "tickformat": ".1%",
         "title": {
          "font": {
           "size": 14
          },
          "text": "Proportion of Selected Clusters"
         }
        }
       }
      }
     },
     "metadata": {},
     "output_type": "display_data"
    }
   ],
   "source": [
    "fig_geriatrics_subset\n"
   ]
  },
  {
   "cell_type": "markdown",
   "metadata": {},
   "source": [
    "# Animal Models Plot\n"
   ]
  },
  {
   "cell_type": "code",
   "execution_count": 103,
   "metadata": {},
   "outputs": [
    {
     "data": {
      "application/vnd.plotly.v1+json": {
       "config": {
        "plotlyServerURL": "https://plot.ly"
       },
       "data": [
        {
         "fillpattern": {
          "shape": ""
         },
         "hovertemplate": "<b>%{fullData.name}</b><br>Year: %{x}<br>Proportion: %{y:.2%}<extra></extra>",
         "legendgroup": "SSRIs Effect on Fear",
         "line": {
          "color": "#636EFA"
         },
         "marker": {
          "symbol": "circle"
         },
         "mode": "lines",
         "name": "SSRIs Effect on Fear",
         "orientation": "v",
         "showlegend": true,
         "stackgroup": "1",
         "type": "scatter",
         "x": {
          "bdata": "vgcAAL8HAADABwAAwQcAAMIHAADDBwAAxAcAAMUHAADGBwAAxwcAAMgHAADJBwAAygcAAMsHAADMBwAAzQcAAM4HAADPBwAA0AcAANEHAADSBwAA0wcAANQHAADVBwAA1gcAANcHAADYBwAA2QcAANoHAADbBwAA3AcAAN0HAADeBwAA3wcAAOAHAADhBwAA4gcAAOMHAADkBwAA5QcAAOYHAADnBwAA6AcAAOkHAAA=",
          "dtype": "i4"
         },
         "xaxis": "x",
         "y": {
          "bdata": "VVVVVVVVpT/QusEU+ayLP3CBC1zgAoc/Ecg1Ecg1gT8XaIEWaIGmP5Cc5mv17JA/OQUvp+DllD/D7OAIIq2HPyB0VOCLq58/seaV6rl3kz+96U1vetOLP+ere6SVyYM/8ZKAcCJegj/5IlFq7GGWP8CHFKWSdpc/FBQUFBQUlD/A0Ig6R5GGP7mlAeOXW5o/rbh3kqWOkD+BGrRN54CaP3s6RPqjFJg/nhLkKUGekj9T0MGjLgWNPzVMR5R+qpQ/UCSc0rz4kz9BTK4gJleQP/oilaH3TpA/H3b1J7NYij8Z9aNK7MWQP0p8+rWKHpA/CoVCoVAolD99U6v5bzOSP+crSc+ueI4/Zv02LFkQlD9tdQHCylZ3P9uBuXZgrn0/MzMzMzMzgz8O15GURtZ1P3FH3BF3xH0/aBwNBrQrhD+72tIN12V2P/PV+sTvIYY/EBaT1DMEbD8gdFTgi6t/Pw==",
          "dtype": "f8"
         },
         "yaxis": "y"
        },
        {
         "fillpattern": {
          "shape": ""
         },
         "hovertemplate": "<b>%{fullData.name}</b><br>Year: %{x}<br>Proportion: %{y:.2%}<extra></extra>",
         "legendgroup": "Serotonergic Modulation of Cocaine Effects",
         "line": {
          "color": "#EF553B"
         },
         "marker": {
          "symbol": "circle"
         },
         "mode": "lines",
         "name": "Serotonergic Modulation of Cocaine Effects",
         "orientation": "v",
         "showlegend": true,
         "stackgroup": "1",
         "type": "scatter",
         "x": {
          "bdata": "vgcAAL8HAADABwAAwQcAAMIHAADDBwAAxAcAAMUHAADGBwAAxwcAAMgHAADJBwAAygcAAMsHAADMBwAAzQcAAM4HAADPBwAA0AcAANEHAADSBwAA0wcAANQHAADVBwAA1gcAANcHAADYBwAA2QcAANoHAADbBwAA3AcAAN0HAADeBwAA3wcAAOAHAADhBwAA4gcAAOMHAADkBwAA5QcAAOYHAADnBwAA6AcAAOkHAAA=",
          "dtype": "i4"
         },
         "xaxis": "x",
         "y": {
          "bdata": "HMdxHMdxnD8AAAAAAAAAABShCEUoQqE/AAAAAAAAAAAAAAAAAAAAAJCc5mv17JA/9waUiSvdiz/0JxmLapidPyB0VOCLq48/tQojRPYlnz+96U1vetOLP9uBuXZgrp0/rbegDKv1lj/QR+6t76aSP2VlGou8Ko4/FjqDFTqDlT+0Q+DGMiiVP417gX/VuJc/ms/1x8tgdD/qHFCDtumMP2ml6xIW74Y/5xXQuFvndT+pS0EHj7qEP3JbIuWXzHg/dMBuj7UMbT90wG6PtQxtP3KlNZakmWQ/JfSMyaOdfz/CIdPdRtZqP0bsihf3JWs/cJ41AedZYz/x8haKBf5iPwYKZv/+qGk/n5RwIYbHRz9tdQHCylZHP+ere6SVyWM/AAAAAAAAAAAAAAAAAAAAAAAAAAAAAAAAxJWnOfODRT8MJF5KYcxgP4s5tmuqm0c/cEBYTFLPYD8V+OLqBx1lPw==",
          "dtype": "f8"
         },
         "yaxis": "y"
        },
        {
         "fillpattern": {
          "shape": ""
         },
         "hovertemplate": "<b>%{fullData.name}</b><br>Year: %{x}<br>Proportion: %{y:.2%}<extra></extra>",
         "legendgroup": "SSRIs in Forced Swimming Test",
         "line": {
          "color": "#00CC96"
         },
         "marker": {
          "symbol": "circle"
         },
         "mode": "lines",
         "name": "SSRIs in Forced Swimming Test",
         "orientation": "v",
         "showlegend": true,
         "stackgroup": "1",
         "type": "scatter",
         "x": {
          "bdata": "vgcAAL8HAADABwAAwQcAAMIHAADDBwAAxAcAAMUHAADGBwAAxwcAAMgHAADJBwAAygcAAMsHAADMBwAAzQcAAM4HAADPBwAA0AcAANEHAADSBwAA0wcAANQHAADVBwAA1gcAANcHAADYBwAA2QcAANoHAADbBwAA3AcAAN0HAADeBwAA3wcAAOAHAADhBwAA4gcAAOMHAADkBwAA5QcAAOYHAADnBwAA6AcAAOkHAAA=",
          "dtype": "i4"
         },
         "xaxis": "x",
         "y": {
          "bdata": "AAAAAAAAAAAAAAAAAAAAAHCBC1zgAoc/Ecg1Ecg1gT8AAAAAAAAAANjq2SFwY5k/OQUvp+DllD/D7OAIIq13PyB0VOCLq58/tQojRPYljz84velNb3qTP9uBuXZgrn0/8ZKAcCJegj872rxPccmQP5N2F5in0Io/GqzQGazQiT/Y6tkhcGOJPzUngbhQc5I/Z7fwqzGRjj97FK5H4XqUP7H5TbBNhYs/nhLkKUGekj998eGK1hePP0/yat69/44/STilefEngj9m6IDdHmuJPzZk5RtOdKI/GfhdhsITlT9DwG/vAkqTP4I9EqaXc5k/2rmpoZ2bmj9mkoIam8iTP2apbw9vDpg/wXgr+xxSkz+9I5FnzjuSP2YoVoumnJQ/zczMzMzMjD8O15GURtaFP/QFfUFf0Ic/NnsRCPDkej+72tIN12V2P+7HowaVgn0/cEBYTFLPcD8V+OLqBx1lPw==",
          "dtype": "f8"
         },
         "yaxis": "y"
        },
        {
         "fillpattern": {
          "shape": ""
         },
         "hovertemplate": "<b>%{fullData.name}</b><br>Year: %{x}<br>Proportion: %{y:.2%}<extra></extra>",
         "legendgroup": "The Chronic Unpredictable Mild Stress Model of Depression",
         "line": {
          "color": "#AB63FA"
         },
         "marker": {
          "symbol": "circle"
         },
         "mode": "lines",
         "name": "The Chronic Unpredictable Mild Stress Model of Depression",
         "orientation": "v",
         "showlegend": true,
         "stackgroup": "1",
         "type": "scatter",
         "x": {
          "bdata": "vgcAAL8HAADABwAAwQcAAMIHAADDBwAAxAcAAMUHAADGBwAAxwcAAMgHAADJBwAAygcAAMsHAADMBwAAzQcAAM4HAADPBwAA0AcAANEHAADSBwAA0wcAANQHAADVBwAA1gcAANcHAADYBwAA2QcAANoHAADbBwAA3AcAAN0HAADeBwAA3wcAAOAHAADhBwAA4gcAAOMHAADkBwAA5QcAAOYHAADnBwAA6AcAAOkHAAA=",
          "dtype": "i4"
         },
         "xaxis": "x",
         "y": {
          "bdata": "AAAAAAAAAAAAAAAAAAAAAAAAAAAAAAAAAAAAAAAAAAAAAAAAAAAAAAAAAAAAAAAAAAAAAAAAAADD7OAIIq13PwAAAAAAAAAAAAAAAAAAAABkIQtZyEJ2PwAAAAAAAAAAAAAAAAAAAABM2Rbj5dddPwAAAAAAAAAAF2DyFmDyZj8AAAAAAAAAAGFRARwTFlU/ms/1x8tgZD9GE+CseUZTPyFRiXXeWFI/hhFA+uKFcT9UCQE5P5VwP/c8bENliFA/ZuiA3R5reT90wG6PtQxtP6jXWzQs4oI/x/bCnA2XeD/CIdPdRtaKP4I9EqaXc4k/PNEbwRO9kT8iTwh9HIiYP+crSc+ueJ4/Zv02LFkQpD+/RsFp8WukPyHVB4GDJak/zczMzMzMpj+rUljbOy2oP8qasqasKas/z0sPB1KIpz9mCLB+NMynP70ALbkfj6o/r+RJl/BDqj8atpvlSWSqPw==",
          "dtype": "f8"
         },
         "yaxis": "y"
        }
       ],
       "layout": {
        "height": 600,
        "hovermode": "closest",
        "legend": {
         "font": {
          "size": 12
         },
         "orientation": "v",
         "title": {
          "font": {
           "size": 14
          },
          "text": "Cluster"
         },
         "tracegroupgap": 0,
         "traceorder": "normal",
         "x": 1.02,
         "xanchor": "left",
         "y": 1,
         "yanchor": "top"
        },
        "margin": {
         "r": 150
        },
        "plot_bgcolor": "white",
        "template": {
         "data": {
          "bar": [
           {
            "error_x": {
             "color": "#2a3f5f"
            },
            "error_y": {
             "color": "#2a3f5f"
            },
            "marker": {
             "line": {
              "color": "#E5ECF6",
              "width": 0.5
             },
             "pattern": {
              "fillmode": "overlay",
              "size": 10,
              "solidity": 0.2
             }
            },
            "type": "bar"
           }
          ],
          "barpolar": [
           {
            "marker": {
             "line": {
              "color": "#E5ECF6",
              "width": 0.5
             },
             "pattern": {
              "fillmode": "overlay",
              "size": 10,
              "solidity": 0.2
             }
            },
            "type": "barpolar"
           }
          ],
          "carpet": [
           {
            "aaxis": {
             "endlinecolor": "#2a3f5f",
             "gridcolor": "white",
             "linecolor": "white",
             "minorgridcolor": "white",
             "startlinecolor": "#2a3f5f"
            },
            "baxis": {
             "endlinecolor": "#2a3f5f",
             "gridcolor": "white",
             "linecolor": "white",
             "minorgridcolor": "white",
             "startlinecolor": "#2a3f5f"
            },
            "type": "carpet"
           }
          ],
          "choropleth": [
           {
            "colorbar": {
             "outlinewidth": 0,
             "ticks": ""
            },
            "type": "choropleth"
           }
          ],
          "contour": [
           {
            "colorbar": {
             "outlinewidth": 0,
             "ticks": ""
            },
            "colorscale": [
             [
              0,
              "#0d0887"
             ],
             [
              0.1111111111111111,
              "#46039f"
             ],
             [
              0.2222222222222222,
              "#7201a8"
             ],
             [
              0.3333333333333333,
              "#9c179e"
             ],
             [
              0.4444444444444444,
              "#bd3786"
             ],
             [
              0.5555555555555556,
              "#d8576b"
             ],
             [
              0.6666666666666666,
              "#ed7953"
             ],
             [
              0.7777777777777778,
              "#fb9f3a"
             ],
             [
              0.8888888888888888,
              "#fdca26"
             ],
             [
              1,
              "#f0f921"
             ]
            ],
            "type": "contour"
           }
          ],
          "contourcarpet": [
           {
            "colorbar": {
             "outlinewidth": 0,
             "ticks": ""
            },
            "type": "contourcarpet"
           }
          ],
          "heatmap": [
           {
            "colorbar": {
             "outlinewidth": 0,
             "ticks": ""
            },
            "colorscale": [
             [
              0,
              "#0d0887"
             ],
             [
              0.1111111111111111,
              "#46039f"
             ],
             [
              0.2222222222222222,
              "#7201a8"
             ],
             [
              0.3333333333333333,
              "#9c179e"
             ],
             [
              0.4444444444444444,
              "#bd3786"
             ],
             [
              0.5555555555555556,
              "#d8576b"
             ],
             [
              0.6666666666666666,
              "#ed7953"
             ],
             [
              0.7777777777777778,
              "#fb9f3a"
             ],
             [
              0.8888888888888888,
              "#fdca26"
             ],
             [
              1,
              "#f0f921"
             ]
            ],
            "type": "heatmap"
           }
          ],
          "histogram": [
           {
            "marker": {
             "pattern": {
              "fillmode": "overlay",
              "size": 10,
              "solidity": 0.2
             }
            },
            "type": "histogram"
           }
          ],
          "histogram2d": [
           {
            "colorbar": {
             "outlinewidth": 0,
             "ticks": ""
            },
            "colorscale": [
             [
              0,
              "#0d0887"
             ],
             [
              0.1111111111111111,
              "#46039f"
             ],
             [
              0.2222222222222222,
              "#7201a8"
             ],
             [
              0.3333333333333333,
              "#9c179e"
             ],
             [
              0.4444444444444444,
              "#bd3786"
             ],
             [
              0.5555555555555556,
              "#d8576b"
             ],
             [
              0.6666666666666666,
              "#ed7953"
             ],
             [
              0.7777777777777778,
              "#fb9f3a"
             ],
             [
              0.8888888888888888,
              "#fdca26"
             ],
             [
              1,
              "#f0f921"
             ]
            ],
            "type": "histogram2d"
           }
          ],
          "histogram2dcontour": [
           {
            "colorbar": {
             "outlinewidth": 0,
             "ticks": ""
            },
            "colorscale": [
             [
              0,
              "#0d0887"
             ],
             [
              0.1111111111111111,
              "#46039f"
             ],
             [
              0.2222222222222222,
              "#7201a8"
             ],
             [
              0.3333333333333333,
              "#9c179e"
             ],
             [
              0.4444444444444444,
              "#bd3786"
             ],
             [
              0.5555555555555556,
              "#d8576b"
             ],
             [
              0.6666666666666666,
              "#ed7953"
             ],
             [
              0.7777777777777778,
              "#fb9f3a"
             ],
             [
              0.8888888888888888,
              "#fdca26"
             ],
             [
              1,
              "#f0f921"
             ]
            ],
            "type": "histogram2dcontour"
           }
          ],
          "mesh3d": [
           {
            "colorbar": {
             "outlinewidth": 0,
             "ticks": ""
            },
            "type": "mesh3d"
           }
          ],
          "parcoords": [
           {
            "line": {
             "colorbar": {
              "outlinewidth": 0,
              "ticks": ""
             }
            },
            "type": "parcoords"
           }
          ],
          "pie": [
           {
            "automargin": true,
            "type": "pie"
           }
          ],
          "scatter": [
           {
            "fillpattern": {
             "fillmode": "overlay",
             "size": 10,
             "solidity": 0.2
            },
            "type": "scatter"
           }
          ],
          "scatter3d": [
           {
            "line": {
             "colorbar": {
              "outlinewidth": 0,
              "ticks": ""
             }
            },
            "marker": {
             "colorbar": {
              "outlinewidth": 0,
              "ticks": ""
             }
            },
            "type": "scatter3d"
           }
          ],
          "scattercarpet": [
           {
            "marker": {
             "colorbar": {
              "outlinewidth": 0,
              "ticks": ""
             }
            },
            "type": "scattercarpet"
           }
          ],
          "scattergeo": [
           {
            "marker": {
             "colorbar": {
              "outlinewidth": 0,
              "ticks": ""
             }
            },
            "type": "scattergeo"
           }
          ],
          "scattergl": [
           {
            "marker": {
             "colorbar": {
              "outlinewidth": 0,
              "ticks": ""
             }
            },
            "type": "scattergl"
           }
          ],
          "scattermap": [
           {
            "marker": {
             "colorbar": {
              "outlinewidth": 0,
              "ticks": ""
             }
            },
            "type": "scattermap"
           }
          ],
          "scattermapbox": [
           {
            "marker": {
             "colorbar": {
              "outlinewidth": 0,
              "ticks": ""
             }
            },
            "type": "scattermapbox"
           }
          ],
          "scatterpolar": [
           {
            "marker": {
             "colorbar": {
              "outlinewidth": 0,
              "ticks": ""
             }
            },
            "type": "scatterpolar"
           }
          ],
          "scatterpolargl": [
           {
            "marker": {
             "colorbar": {
              "outlinewidth": 0,
              "ticks": ""
             }
            },
            "type": "scatterpolargl"
           }
          ],
          "scatterternary": [
           {
            "marker": {
             "colorbar": {
              "outlinewidth": 0,
              "ticks": ""
             }
            },
            "type": "scatterternary"
           }
          ],
          "surface": [
           {
            "colorbar": {
             "outlinewidth": 0,
             "ticks": ""
            },
            "colorscale": [
             [
              0,
              "#0d0887"
             ],
             [
              0.1111111111111111,
              "#46039f"
             ],
             [
              0.2222222222222222,
              "#7201a8"
             ],
             [
              0.3333333333333333,
              "#9c179e"
             ],
             [
              0.4444444444444444,
              "#bd3786"
             ],
             [
              0.5555555555555556,
              "#d8576b"
             ],
             [
              0.6666666666666666,
              "#ed7953"
             ],
             [
              0.7777777777777778,
              "#fb9f3a"
             ],
             [
              0.8888888888888888,
              "#fdca26"
             ],
             [
              1,
              "#f0f921"
             ]
            ],
            "type": "surface"
           }
          ],
          "table": [
           {
            "cells": {
             "fill": {
              "color": "#EBF0F8"
             },
             "line": {
              "color": "white"
             }
            },
            "header": {
             "fill": {
              "color": "#C8D4E3"
             },
             "line": {
              "color": "white"
             }
            },
            "type": "table"
           }
          ]
         },
         "layout": {
          "annotationdefaults": {
           "arrowcolor": "#2a3f5f",
           "arrowhead": 0,
           "arrowwidth": 1
          },
          "autotypenumbers": "strict",
          "coloraxis": {
           "colorbar": {
            "outlinewidth": 0,
            "ticks": ""
           }
          },
          "colorscale": {
           "diverging": [
            [
             0,
             "#8e0152"
            ],
            [
             0.1,
             "#c51b7d"
            ],
            [
             0.2,
             "#de77ae"
            ],
            [
             0.3,
             "#f1b6da"
            ],
            [
             0.4,
             "#fde0ef"
            ],
            [
             0.5,
             "#f7f7f7"
            ],
            [
             0.6,
             "#e6f5d0"
            ],
            [
             0.7,
             "#b8e186"
            ],
            [
             0.8,
             "#7fbc41"
            ],
            [
             0.9,
             "#4d9221"
            ],
            [
             1,
             "#276419"
            ]
           ],
           "sequential": [
            [
             0,
             "#0d0887"
            ],
            [
             0.1111111111111111,
             "#46039f"
            ],
            [
             0.2222222222222222,
             "#7201a8"
            ],
            [
             0.3333333333333333,
             "#9c179e"
            ],
            [
             0.4444444444444444,
             "#bd3786"
            ],
            [
             0.5555555555555556,
             "#d8576b"
            ],
            [
             0.6666666666666666,
             "#ed7953"
            ],
            [
             0.7777777777777778,
             "#fb9f3a"
            ],
            [
             0.8888888888888888,
             "#fdca26"
            ],
            [
             1,
             "#f0f921"
            ]
           ],
           "sequentialminus": [
            [
             0,
             "#0d0887"
            ],
            [
             0.1111111111111111,
             "#46039f"
            ],
            [
             0.2222222222222222,
             "#7201a8"
            ],
            [
             0.3333333333333333,
             "#9c179e"
            ],
            [
             0.4444444444444444,
             "#bd3786"
            ],
            [
             0.5555555555555556,
             "#d8576b"
            ],
            [
             0.6666666666666666,
             "#ed7953"
            ],
            [
             0.7777777777777778,
             "#fb9f3a"
            ],
            [
             0.8888888888888888,
             "#fdca26"
            ],
            [
             1,
             "#f0f921"
            ]
           ]
          },
          "colorway": [
           "#636efa",
           "#EF553B",
           "#00cc96",
           "#ab63fa",
           "#FFA15A",
           "#19d3f3",
           "#FF6692",
           "#B6E880",
           "#FF97FF",
           "#FECB52"
          ],
          "font": {
           "color": "#2a3f5f"
          },
          "geo": {
           "bgcolor": "white",
           "lakecolor": "white",
           "landcolor": "#E5ECF6",
           "showlakes": true,
           "showland": true,
           "subunitcolor": "white"
          },
          "hoverlabel": {
           "align": "left"
          },
          "hovermode": "closest",
          "mapbox": {
           "style": "light"
          },
          "paper_bgcolor": "white",
          "plot_bgcolor": "#E5ECF6",
          "polar": {
           "angularaxis": {
            "gridcolor": "white",
            "linecolor": "white",
            "ticks": ""
           },
           "bgcolor": "#E5ECF6",
           "radialaxis": {
            "gridcolor": "white",
            "linecolor": "white",
            "ticks": ""
           }
          },
          "scene": {
           "xaxis": {
            "backgroundcolor": "#E5ECF6",
            "gridcolor": "white",
            "gridwidth": 2,
            "linecolor": "white",
            "showbackground": true,
            "ticks": "",
            "zerolinecolor": "white"
           },
           "yaxis": {
            "backgroundcolor": "#E5ECF6",
            "gridcolor": "white",
            "gridwidth": 2,
            "linecolor": "white",
            "showbackground": true,
            "ticks": "",
            "zerolinecolor": "white"
           },
           "zaxis": {
            "backgroundcolor": "#E5ECF6",
            "gridcolor": "white",
            "gridwidth": 2,
            "linecolor": "white",
            "showbackground": true,
            "ticks": "",
            "zerolinecolor": "white"
           }
          },
          "shapedefaults": {
           "line": {
            "color": "#2a3f5f"
           }
          },
          "ternary": {
           "aaxis": {
            "gridcolor": "white",
            "linecolor": "white",
            "ticks": ""
           },
           "baxis": {
            "gridcolor": "white",
            "linecolor": "white",
            "ticks": ""
           },
           "bgcolor": "#E5ECF6",
           "caxis": {
            "gridcolor": "white",
            "linecolor": "white",
            "ticks": ""
           }
          },
          "title": {
           "x": 0.05
          },
          "xaxis": {
           "automargin": true,
           "gridcolor": "white",
           "linecolor": "white",
           "ticks": "",
           "title": {
            "standoff": 15
           },
           "zerolinecolor": "white",
           "zerolinewidth": 2
          },
          "yaxis": {
           "automargin": true,
           "gridcolor": "white",
           "linecolor": "white",
           "ticks": "",
           "title": {
            "standoff": 15
           },
           "zerolinecolor": "white",
           "zerolinewidth": 2
          }
         }
        },
        "title": {
         "font": {
          "size": 18
         },
         "text": "Cluster Proportions Over Time"
        },
        "updatemenus": [
         {
          "buttons": [
           {
            "args": [
             {
              "visible": "legendonly"
             }
            ],
            "label": "Deselect All",
            "method": "restyle"
           },
           {
            "args": [
             {
              "visible": true
             }
            ],
            "label": "Select All",
            "method": "restyle"
           }
          ],
          "direction": "left",
          "pad": {
           "r": 10,
           "t": 10
          },
          "showactive": false,
          "type": "buttons",
          "x": 1,
          "xanchor": "right",
          "y": 1.1,
          "yanchor": "top"
         }
        ],
        "width": 1200,
        "xaxis": {
         "anchor": "y",
         "domain": [
          0,
          1
         ],
         "title": {
          "font": {
           "size": 14
          },
          "text": "Year"
         }
        },
        "yaxis": {
         "anchor": "x",
         "domain": [
          0,
          1
         ],
         "tickformat": ".1%",
         "title": {
          "font": {
           "size": 14
          },
          "text": "Proportion of Total Papers"
         }
        }
       }
      }
     },
     "metadata": {},
     "output_type": "display_data"
    }
   ],
   "source": [
    "# Plot with subset of clusters, normalized by subset\n",
    "fig_animal = plotter.plot_proportions(\n",
    "    cluster_subset_list=animal_models_keys,  # Only ML and CV\n",
    "    figsize=(12, 6),\n",
    "    proportions_total=\"total\",\n",
    "    save=True,\n",
    "    filename=\"ml_cv_trends.html\",\n",
    "    color_palette=[\"#1f77b4\", \"#ff7f0e\"]  # Custom colors\n",
    ")\n",
    "\n",
    "\n",
    "# Plot with subset of clusters, normalized by subset\n",
    "fig_animal_subset = plotter.plot_proportions(\n",
    "    cluster_subset_list=animal_models_keys,  # Only ML and CV\n",
    "    figsize=(12, 6),\n",
    "    proportions_total=\"subset\",\n",
    "    save=True,\n",
    "    filename=\"ml_cv_trends.html\",\n",
    "    color_palette=[\"#1f77b4\", \"#ff7f0e\"]  # Custom colors\n",
    ")\n",
    "\n",
    "fig_animal"
   ]
  },
  {
   "cell_type": "code",
   "execution_count": 104,
   "metadata": {},
   "outputs": [
    {
     "data": {
      "application/vnd.plotly.v1+json": {
       "config": {
        "plotlyServerURL": "https://plot.ly"
       },
       "data": [
        {
         "fillpattern": {
          "shape": ""
         },
         "hovertemplate": "<b>%{fullData.name}</b><br>Year: %{x}<br>Proportion: %{y:.2%}<extra></extra>",
         "legendgroup": "SSRIs Effect on Fear",
         "line": {
          "color": "#636EFA"
         },
         "marker": {
          "symbol": "circle"
         },
         "mode": "lines",
         "name": "SSRIs Effect on Fear",
         "orientation": "v",
         "showlegend": true,
         "stackgroup": "1",
         "type": "scatter",
         "x": {
          "bdata": "vgcAAL8HAADABwAAwQcAAMIHAADDBwAAxAcAAMUHAADGBwAAxwcAAMgHAADJBwAAygcAAMsHAADMBwAAzQcAAM4HAADPBwAA0AcAANEHAADSBwAA0wcAANQHAADVBwAA1gcAANcHAADYBwAA2QcAANoHAADbBwAA3AcAAN0HAADeBwAA3wcAAOAHAADhBwAA4gcAAOMHAADkBwAA5QcAAOYHAADnBwAA6AcAAOkHAAA=",
          "dtype": "i4"
         },
         "xaxis": "x",
         "y": {
          "bdata": "MzMzMzMz4z8AAAAAAADwP5qZmZmZmck/AAAAAAAA4D8AAAAAAADwP5IkSZIkSdI/AAAAAAAA2D8cx3Ecx3HMP5qZmZmZmdk/09LS0tLS0j95DeU1lNfQPyivobyG8so/HMdxHMdxzD8AAAAAAADYP+ecc84559w/ZmZmZmZm1j8AAAAAAADQP/JW9jmkJtg/11prrbXW2j87sRM7sRPbP4wuuuiii94/U9aUNWVN2T82ZU1ZU9bUP57neZ7ned4/GPQFfUFf4D/NzMzMzMzcPwAAAAAAANA/dNFFF1100T8URVEURVHUP+Lh4eHh4dE/XVYMlPBG0z/0MTgfg/PRP5uruZqruco/AAAAAAAA0D8XbMEWbMG2P+HlFLycgrc/lnsaYbmnwT80dX7tIZe1PzFvZ0jM27k/AAAAAAAAxD/IpHiBTIq3P+YUvJyCl8M/zGEOc5jDrD+4HoXrUbi+Pw==",
          "dtype": "f8"
         },
         "yaxis": "y"
        },
        {
         "fillpattern": {
          "shape": ""
         },
         "hovertemplate": "<b>%{fullData.name}</b><br>Year: %{x}<br>Proportion: %{y:.2%}<extra></extra>",
         "legendgroup": "Serotonergic Modulation of Cocaine Effects",
         "line": {
          "color": "#EF553B"
         },
         "marker": {
          "symbol": "circle"
         },
         "mode": "lines",
         "name": "Serotonergic Modulation of Cocaine Effects",
         "orientation": "v",
         "showlegend": true,
         "stackgroup": "1",
         "type": "scatter",
         "x": {
          "bdata": "vgcAAL8HAADABwAAwQcAAMIHAADDBwAAxAcAAMUHAADGBwAAxwcAAMgHAADJBwAAygcAAMsHAADMBwAAzQcAAM4HAADPBwAA0AcAANEHAADSBwAA0wcAANQHAADVBwAA1gcAANcHAADYBwAA2QcAANoHAADbBwAA3AcAAN0HAADeBwAA3wcAAOAHAADhBwAA4gcAAOMHAADkBwAA5QcAAOYHAADnBwAA6AcAAOkHAAA=",
          "dtype": "i4"
         },
         "xaxis": "x",
         "y": {
          "bdata": "mpmZmZmZ2T8AAAAAAAAAADMzMzMzM+M/AAAAAAAAAAAAAAAAAAAAAJIkSZIkSdI/AAAAAAAA0D9yHMdxHMfhP5qZmZmZmck/Hh4eHh4e3j95DeU1lNfQP15DeQ3lNeQ/chzHcRzH4T8AAAAAAADUP5VSSimllNI/AAAAAAAA2D8AAAAAAADeP9nnkJpgvNU/hBBCCCGEwD+e2Imd2InNPxdddNFFF80/cUfcEXfEvT9xR9wRd8TNP5IkSZIkScI/9AV9QV/Qtz+amZmZmZm5P15DeQ3lNaQ/8pQgTwnyxD8QBEEQBEGwPx4eHh4eHq4/v/aQy4qBoj+7ErUrUbuiPxdogRZogaY/aC+hvYT2gj8XbMEWbMGGP9aHxvrQWJ8/AAAAAAAAAAAAAAAAAAAAAAAAAAAAAAAAVVVVVVVVhT+WexphuaehPzkFL6fg5YQ/FKEIRShCoT97FK5H4XqkPw==",
          "dtype": "f8"
         },
         "yaxis": "y"
        },
        {
         "fillpattern": {
          "shape": ""
         },
         "hovertemplate": "<b>%{fullData.name}</b><br>Year: %{x}<br>Proportion: %{y:.2%}<extra></extra>",
         "legendgroup": "SSRIs in Forced Swimming Test",
         "line": {
          "color": "#00CC96"
         },
         "marker": {
          "symbol": "circle"
         },
         "mode": "lines",
         "name": "SSRIs in Forced Swimming Test",
         "orientation": "v",
         "showlegend": true,
         "stackgroup": "1",
         "type": "scatter",
         "x": {
          "bdata": "vgcAAL8HAADABwAAwQcAAMIHAADDBwAAxAcAAMUHAADGBwAAxwcAAMgHAADJBwAAygcAAMsHAADMBwAAzQcAAM4HAADPBwAA0AcAANEHAADSBwAA0wcAANQHAADVBwAA1gcAANcHAADYBwAA2QcAANoHAADbBwAA3AcAAN0HAADeBwAA3wcAAOAHAADhBwAA4gcAAOMHAADkBwAA5QcAAOYHAADnBwAA6AcAAOkHAAA=",
          "dtype": "i4"
         },
         "xaxis": "x",
         "y": {
          "bdata": "AAAAAAAAAAAAAAAAAAAAAJqZmZmZmck/AAAAAAAA4D8AAAAAAAAAANu2bdu2bds/AAAAAAAA2D8cx3Ecx3G8P5qZmZmZmdk/Hh4eHh4ezj9DeQ3lNZTXP15DeQ3lNcQ/HMdxHMdxzD8AAAAAAADSP4QQQgghhNA/zczMzMzMzD8AAAAAAADSP6kJxlvZ59A/xhhjjDHG2D/FTuzETuzUP3TRRRdddNE/U9aUNWVN2T+VNWVNWVPWP7dt27Zt29Y/cUfcEXfEzT9mZmZmZmbWP6+hvIbyGuI/7RvWvmHt2z/XdV3XdV3XPzw8PDw8PNw/R1Pn1x5y2T+D8zE4H4PTP5VRGZVRGdU/Ce0ltJfQzj9yHMdxHMfRPxW8nIKXU9A/YbmnEZZ7yj80dX7tIZfFP1u/UqDWr8Q/q6qqqqqquj/IpHiBTIq3P4jG+tBYH7o/FKEIRShCsT97FK5H4XqkPw==",
          "dtype": "f8"
         },
         "yaxis": "y"
        },
        {
         "fillpattern": {
          "shape": ""
         },
         "hovertemplate": "<b>%{fullData.name}</b><br>Year: %{x}<br>Proportion: %{y:.2%}<extra></extra>",
         "legendgroup": "The Chronic Unpredictable Mild Stress Model of Depression",
         "line": {
          "color": "#AB63FA"
         },
         "marker": {
          "symbol": "circle"
         },
         "mode": "lines",
         "name": "The Chronic Unpredictable Mild Stress Model of Depression",
         "orientation": "v",
         "showlegend": true,
         "stackgroup": "1",
         "type": "scatter",
         "x": {
          "bdata": "vgcAAL8HAADABwAAwQcAAMIHAADDBwAAxAcAAMUHAADGBwAAxwcAAMgHAADJBwAAygcAAMsHAADMBwAAzQcAAM4HAADPBwAA0AcAANEHAADSBwAA0wcAANQHAADVBwAA1gcAANcHAADYBwAA2QcAANoHAADbBwAA3AcAAN0HAADeBwAA3wcAAOAHAADhBwAA4gcAAOMHAADkBwAA5QcAAOYHAADnBwAA6AcAAOkHAAA=",
          "dtype": "i4"
         },
         "xaxis": "x",
         "y": {
          "bdata": "AAAAAAAAAAAAAAAAAAAAAAAAAAAAAAAAAAAAAAAAAAAAAAAAAAAAAAAAAAAAAAAAAAAAAAAAAAAcx3Ecx3G8PwAAAAAAAAAAAAAAAAAAAAAor6G8hvK6PwAAAAAAAAAAAAAAAAAAAAAAAAAAAACgPwAAAAAAAAAAmpmZmZmZqT8AAAAAAAAAAMF4K/scUpM/hBBCCCGEsD8UO7ETO7GTP0YXXXTRRZc/9AV9QV/Qtz/0BX1BX9C3PxiGYRiGYZg/NmVNWVPWxD+amZmZmZm5P2wor6G8hsI/SpCnBHlKwD8QBEEQBEHQPzw8PDw8PMw/hTeaOr/20D8yOB+D8zHYP5uruZqrudo/AAAAAAAA4D+UPumTPunjP/vQWB8a6+M/wnJPIyz35D8MlPBGU+fnP0Ni3s6QmOc/VVVVVVVV5z8VL5BJ8QLpP+HlFLycguc/r3vd61736j+amZmZmZnpPw==",
          "dtype": "f8"
         },
         "yaxis": "y"
        }
       ],
       "layout": {
        "height": 600,
        "hovermode": "closest",
        "legend": {
         "font": {
          "size": 12
         },
         "orientation": "v",
         "title": {
          "font": {
           "size": 14
          },
          "text": "Cluster"
         },
         "tracegroupgap": 0,
         "traceorder": "normal",
         "x": 1.02,
         "xanchor": "left",
         "y": 1,
         "yanchor": "top"
        },
        "margin": {
         "r": 150
        },
        "plot_bgcolor": "white",
        "template": {
         "data": {
          "bar": [
           {
            "error_x": {
             "color": "#2a3f5f"
            },
            "error_y": {
             "color": "#2a3f5f"
            },
            "marker": {
             "line": {
              "color": "#E5ECF6",
              "width": 0.5
             },
             "pattern": {
              "fillmode": "overlay",
              "size": 10,
              "solidity": 0.2
             }
            },
            "type": "bar"
           }
          ],
          "barpolar": [
           {
            "marker": {
             "line": {
              "color": "#E5ECF6",
              "width": 0.5
             },
             "pattern": {
              "fillmode": "overlay",
              "size": 10,
              "solidity": 0.2
             }
            },
            "type": "barpolar"
           }
          ],
          "carpet": [
           {
            "aaxis": {
             "endlinecolor": "#2a3f5f",
             "gridcolor": "white",
             "linecolor": "white",
             "minorgridcolor": "white",
             "startlinecolor": "#2a3f5f"
            },
            "baxis": {
             "endlinecolor": "#2a3f5f",
             "gridcolor": "white",
             "linecolor": "white",
             "minorgridcolor": "white",
             "startlinecolor": "#2a3f5f"
            },
            "type": "carpet"
           }
          ],
          "choropleth": [
           {
            "colorbar": {
             "outlinewidth": 0,
             "ticks": ""
            },
            "type": "choropleth"
           }
          ],
          "contour": [
           {
            "colorbar": {
             "outlinewidth": 0,
             "ticks": ""
            },
            "colorscale": [
             [
              0,
              "#0d0887"
             ],
             [
              0.1111111111111111,
              "#46039f"
             ],
             [
              0.2222222222222222,
              "#7201a8"
             ],
             [
              0.3333333333333333,
              "#9c179e"
             ],
             [
              0.4444444444444444,
              "#bd3786"
             ],
             [
              0.5555555555555556,
              "#d8576b"
             ],
             [
              0.6666666666666666,
              "#ed7953"
             ],
             [
              0.7777777777777778,
              "#fb9f3a"
             ],
             [
              0.8888888888888888,
              "#fdca26"
             ],
             [
              1,
              "#f0f921"
             ]
            ],
            "type": "contour"
           }
          ],
          "contourcarpet": [
           {
            "colorbar": {
             "outlinewidth": 0,
             "ticks": ""
            },
            "type": "contourcarpet"
           }
          ],
          "heatmap": [
           {
            "colorbar": {
             "outlinewidth": 0,
             "ticks": ""
            },
            "colorscale": [
             [
              0,
              "#0d0887"
             ],
             [
              0.1111111111111111,
              "#46039f"
             ],
             [
              0.2222222222222222,
              "#7201a8"
             ],
             [
              0.3333333333333333,
              "#9c179e"
             ],
             [
              0.4444444444444444,
              "#bd3786"
             ],
             [
              0.5555555555555556,
              "#d8576b"
             ],
             [
              0.6666666666666666,
              "#ed7953"
             ],
             [
              0.7777777777777778,
              "#fb9f3a"
             ],
             [
              0.8888888888888888,
              "#fdca26"
             ],
             [
              1,
              "#f0f921"
             ]
            ],
            "type": "heatmap"
           }
          ],
          "histogram": [
           {
            "marker": {
             "pattern": {
              "fillmode": "overlay",
              "size": 10,
              "solidity": 0.2
             }
            },
            "type": "histogram"
           }
          ],
          "histogram2d": [
           {
            "colorbar": {
             "outlinewidth": 0,
             "ticks": ""
            },
            "colorscale": [
             [
              0,
              "#0d0887"
             ],
             [
              0.1111111111111111,
              "#46039f"
             ],
             [
              0.2222222222222222,
              "#7201a8"
             ],
             [
              0.3333333333333333,
              "#9c179e"
             ],
             [
              0.4444444444444444,
              "#bd3786"
             ],
             [
              0.5555555555555556,
              "#d8576b"
             ],
             [
              0.6666666666666666,
              "#ed7953"
             ],
             [
              0.7777777777777778,
              "#fb9f3a"
             ],
             [
              0.8888888888888888,
              "#fdca26"
             ],
             [
              1,
              "#f0f921"
             ]
            ],
            "type": "histogram2d"
           }
          ],
          "histogram2dcontour": [
           {
            "colorbar": {
             "outlinewidth": 0,
             "ticks": ""
            },
            "colorscale": [
             [
              0,
              "#0d0887"
             ],
             [
              0.1111111111111111,
              "#46039f"
             ],
             [
              0.2222222222222222,
              "#7201a8"
             ],
             [
              0.3333333333333333,
              "#9c179e"
             ],
             [
              0.4444444444444444,
              "#bd3786"
             ],
             [
              0.5555555555555556,
              "#d8576b"
             ],
             [
              0.6666666666666666,
              "#ed7953"
             ],
             [
              0.7777777777777778,
              "#fb9f3a"
             ],
             [
              0.8888888888888888,
              "#fdca26"
             ],
             [
              1,
              "#f0f921"
             ]
            ],
            "type": "histogram2dcontour"
           }
          ],
          "mesh3d": [
           {
            "colorbar": {
             "outlinewidth": 0,
             "ticks": ""
            },
            "type": "mesh3d"
           }
          ],
          "parcoords": [
           {
            "line": {
             "colorbar": {
              "outlinewidth": 0,
              "ticks": ""
             }
            },
            "type": "parcoords"
           }
          ],
          "pie": [
           {
            "automargin": true,
            "type": "pie"
           }
          ],
          "scatter": [
           {
            "fillpattern": {
             "fillmode": "overlay",
             "size": 10,
             "solidity": 0.2
            },
            "type": "scatter"
           }
          ],
          "scatter3d": [
           {
            "line": {
             "colorbar": {
              "outlinewidth": 0,
              "ticks": ""
             }
            },
            "marker": {
             "colorbar": {
              "outlinewidth": 0,
              "ticks": ""
             }
            },
            "type": "scatter3d"
           }
          ],
          "scattercarpet": [
           {
            "marker": {
             "colorbar": {
              "outlinewidth": 0,
              "ticks": ""
             }
            },
            "type": "scattercarpet"
           }
          ],
          "scattergeo": [
           {
            "marker": {
             "colorbar": {
              "outlinewidth": 0,
              "ticks": ""
             }
            },
            "type": "scattergeo"
           }
          ],
          "scattergl": [
           {
            "marker": {
             "colorbar": {
              "outlinewidth": 0,
              "ticks": ""
             }
            },
            "type": "scattergl"
           }
          ],
          "scattermap": [
           {
            "marker": {
             "colorbar": {
              "outlinewidth": 0,
              "ticks": ""
             }
            },
            "type": "scattermap"
           }
          ],
          "scattermapbox": [
           {
            "marker": {
             "colorbar": {
              "outlinewidth": 0,
              "ticks": ""
             }
            },
            "type": "scattermapbox"
           }
          ],
          "scatterpolar": [
           {
            "marker": {
             "colorbar": {
              "outlinewidth": 0,
              "ticks": ""
             }
            },
            "type": "scatterpolar"
           }
          ],
          "scatterpolargl": [
           {
            "marker": {
             "colorbar": {
              "outlinewidth": 0,
              "ticks": ""
             }
            },
            "type": "scatterpolargl"
           }
          ],
          "scatterternary": [
           {
            "marker": {
             "colorbar": {
              "outlinewidth": 0,
              "ticks": ""
             }
            },
            "type": "scatterternary"
           }
          ],
          "surface": [
           {
            "colorbar": {
             "outlinewidth": 0,
             "ticks": ""
            },
            "colorscale": [
             [
              0,
              "#0d0887"
             ],
             [
              0.1111111111111111,
              "#46039f"
             ],
             [
              0.2222222222222222,
              "#7201a8"
             ],
             [
              0.3333333333333333,
              "#9c179e"
             ],
             [
              0.4444444444444444,
              "#bd3786"
             ],
             [
              0.5555555555555556,
              "#d8576b"
             ],
             [
              0.6666666666666666,
              "#ed7953"
             ],
             [
              0.7777777777777778,
              "#fb9f3a"
             ],
             [
              0.8888888888888888,
              "#fdca26"
             ],
             [
              1,
              "#f0f921"
             ]
            ],
            "type": "surface"
           }
          ],
          "table": [
           {
            "cells": {
             "fill": {
              "color": "#EBF0F8"
             },
             "line": {
              "color": "white"
             }
            },
            "header": {
             "fill": {
              "color": "#C8D4E3"
             },
             "line": {
              "color": "white"
             }
            },
            "type": "table"
           }
          ]
         },
         "layout": {
          "annotationdefaults": {
           "arrowcolor": "#2a3f5f",
           "arrowhead": 0,
           "arrowwidth": 1
          },
          "autotypenumbers": "strict",
          "coloraxis": {
           "colorbar": {
            "outlinewidth": 0,
            "ticks": ""
           }
          },
          "colorscale": {
           "diverging": [
            [
             0,
             "#8e0152"
            ],
            [
             0.1,
             "#c51b7d"
            ],
            [
             0.2,
             "#de77ae"
            ],
            [
             0.3,
             "#f1b6da"
            ],
            [
             0.4,
             "#fde0ef"
            ],
            [
             0.5,
             "#f7f7f7"
            ],
            [
             0.6,
             "#e6f5d0"
            ],
            [
             0.7,
             "#b8e186"
            ],
            [
             0.8,
             "#7fbc41"
            ],
            [
             0.9,
             "#4d9221"
            ],
            [
             1,
             "#276419"
            ]
           ],
           "sequential": [
            [
             0,
             "#0d0887"
            ],
            [
             0.1111111111111111,
             "#46039f"
            ],
            [
             0.2222222222222222,
             "#7201a8"
            ],
            [
             0.3333333333333333,
             "#9c179e"
            ],
            [
             0.4444444444444444,
             "#bd3786"
            ],
            [
             0.5555555555555556,
             "#d8576b"
            ],
            [
             0.6666666666666666,
             "#ed7953"
            ],
            [
             0.7777777777777778,
             "#fb9f3a"
            ],
            [
             0.8888888888888888,
             "#fdca26"
            ],
            [
             1,
             "#f0f921"
            ]
           ],
           "sequentialminus": [
            [
             0,
             "#0d0887"
            ],
            [
             0.1111111111111111,
             "#46039f"
            ],
            [
             0.2222222222222222,
             "#7201a8"
            ],
            [
             0.3333333333333333,
             "#9c179e"
            ],
            [
             0.4444444444444444,
             "#bd3786"
            ],
            [
             0.5555555555555556,
             "#d8576b"
            ],
            [
             0.6666666666666666,
             "#ed7953"
            ],
            [
             0.7777777777777778,
             "#fb9f3a"
            ],
            [
             0.8888888888888888,
             "#fdca26"
            ],
            [
             1,
             "#f0f921"
            ]
           ]
          },
          "colorway": [
           "#636efa",
           "#EF553B",
           "#00cc96",
           "#ab63fa",
           "#FFA15A",
           "#19d3f3",
           "#FF6692",
           "#B6E880",
           "#FF97FF",
           "#FECB52"
          ],
          "font": {
           "color": "#2a3f5f"
          },
          "geo": {
           "bgcolor": "white",
           "lakecolor": "white",
           "landcolor": "#E5ECF6",
           "showlakes": true,
           "showland": true,
           "subunitcolor": "white"
          },
          "hoverlabel": {
           "align": "left"
          },
          "hovermode": "closest",
          "mapbox": {
           "style": "light"
          },
          "paper_bgcolor": "white",
          "plot_bgcolor": "#E5ECF6",
          "polar": {
           "angularaxis": {
            "gridcolor": "white",
            "linecolor": "white",
            "ticks": ""
           },
           "bgcolor": "#E5ECF6",
           "radialaxis": {
            "gridcolor": "white",
            "linecolor": "white",
            "ticks": ""
           }
          },
          "scene": {
           "xaxis": {
            "backgroundcolor": "#E5ECF6",
            "gridcolor": "white",
            "gridwidth": 2,
            "linecolor": "white",
            "showbackground": true,
            "ticks": "",
            "zerolinecolor": "white"
           },
           "yaxis": {
            "backgroundcolor": "#E5ECF6",
            "gridcolor": "white",
            "gridwidth": 2,
            "linecolor": "white",
            "showbackground": true,
            "ticks": "",
            "zerolinecolor": "white"
           },
           "zaxis": {
            "backgroundcolor": "#E5ECF6",
            "gridcolor": "white",
            "gridwidth": 2,
            "linecolor": "white",
            "showbackground": true,
            "ticks": "",
            "zerolinecolor": "white"
           }
          },
          "shapedefaults": {
           "line": {
            "color": "#2a3f5f"
           }
          },
          "ternary": {
           "aaxis": {
            "gridcolor": "white",
            "linecolor": "white",
            "ticks": ""
           },
           "baxis": {
            "gridcolor": "white",
            "linecolor": "white",
            "ticks": ""
           },
           "bgcolor": "#E5ECF6",
           "caxis": {
            "gridcolor": "white",
            "linecolor": "white",
            "ticks": ""
           }
          },
          "title": {
           "x": 0.05
          },
          "xaxis": {
           "automargin": true,
           "gridcolor": "white",
           "linecolor": "white",
           "ticks": "",
           "title": {
            "standoff": 15
           },
           "zerolinecolor": "white",
           "zerolinewidth": 2
          },
          "yaxis": {
           "automargin": true,
           "gridcolor": "white",
           "linecolor": "white",
           "ticks": "",
           "title": {
            "standoff": 15
           },
           "zerolinecolor": "white",
           "zerolinewidth": 2
          }
         }
        },
        "title": {
         "font": {
          "size": 18
         },
         "text": "Cluster Proportions Over Time (Relative to Selected Clusters)"
        },
        "updatemenus": [
         {
          "buttons": [
           {
            "args": [
             {
              "visible": "legendonly"
             }
            ],
            "label": "Deselect All",
            "method": "restyle"
           },
           {
            "args": [
             {
              "visible": true
             }
            ],
            "label": "Select All",
            "method": "restyle"
           }
          ],
          "direction": "left",
          "pad": {
           "r": 10,
           "t": 10
          },
          "showactive": false,
          "type": "buttons",
          "x": 1,
          "xanchor": "right",
          "y": 1.1,
          "yanchor": "top"
         }
        ],
        "width": 1200,
        "xaxis": {
         "anchor": "y",
         "domain": [
          0,
          1
         ],
         "title": {
          "font": {
           "size": 14
          },
          "text": "Year"
         }
        },
        "yaxis": {
         "anchor": "x",
         "domain": [
          0,
          1
         ],
         "tickformat": ".1%",
         "title": {
          "font": {
           "size": 14
          },
          "text": "Proportion of Selected Clusters"
         }
        }
       }
      }
     },
     "metadata": {},
     "output_type": "display_data"
    }
   ],
   "source": [
    "fig_animal_subset"
   ]
  },
  {
   "cell_type": "markdown",
   "metadata": {},
   "source": [
    "# Perinatal Exposure\n"
   ]
  },
  {
   "cell_type": "code",
   "execution_count": 105,
   "metadata": {},
   "outputs": [],
   "source": [
    "# Plot with subset of clusters, normalized by subset\n",
    "fig_perinatal = plotter.plot_proportions(\n",
    "    cluster_subset_list=perinatal_exposure_keys,  # Only ML and CV\n",
    "    figsize=(12, 6),\n",
    "    proportions_total=\"total\",\n",
    "    save=True,\n",
    "    filename=\"ml_cv_trends.html\",\n",
    "    color_palette=[\"#1f77b4\", \"#ff7f0e\"]  # Custom colors\n",
    ")\n",
    "\n",
    "\n",
    "# Plot with subset of clusters, normalized by subset\n",
    "fig_perinatal_subset = plotter.plot_proportions(\n",
    "    cluster_subset_list=perinatal_exposure_keys,  # Only ML and CV\n",
    "    figsize=(12, 6),\n",
    "    proportions_total=\"subset\",\n",
    "    save=True,\n",
    "    filename=\"ml_cv_trends.html\",\n",
    "    color_palette=[\"#1f77b4\", \"#ff7f0e\"]  # Custom colors\n",
    ")\n",
    "\n"
   ]
  },
  {
   "cell_type": "code",
   "execution_count": 106,
   "metadata": {},
   "outputs": [
    {
     "data": {
      "application/vnd.plotly.v1+json": {
       "config": {
        "plotlyServerURL": "https://plot.ly"
       },
       "data": [
        {
         "fillpattern": {
          "shape": ""
         },
         "hovertemplate": "<b>%{fullData.name}</b><br>Year: %{x}<br>Proportion: %{y:.2%}<extra></extra>",
         "legendgroup": "Risk of Prenatal Exposure (Rodents)",
         "line": {
          "color": "#636EFA"
         },
         "marker": {
          "symbol": "circle"
         },
         "mode": "lines",
         "name": "Risk of Prenatal Exposure (Rodents)",
         "orientation": "v",
         "showlegend": true,
         "stackgroup": "1",
         "type": "scatter",
         "x": {
          "bdata": "vgcAAL8HAADABwAAwQcAAMIHAADDBwAAxAcAAMUHAADGBwAAxwcAAMgHAADJBwAAygcAAMsHAADMBwAAzQcAAM4HAADPBwAA0AcAANEHAADSBwAA0wcAANQHAADVBwAA1gcAANcHAADYBwAA2QcAANoHAADbBwAA3AcAAN0HAADeBwAA3wcAAOAHAADhBwAA4gcAAOMHAADkBwAA5QcAAOYHAADnBwAA6AcAAOkHAAA=",
          "dtype": "i4"
         },
         "xaxis": "x",
         "y": {
          "bdata": "HMdxHMdxjD8AAAAAAAAAAHCBC1zgApc/AAAAAAAAAAAAAAAAAAAAAJCc5mv17JA/9waUiSvdiz/D7OAIIq2XPyB0VOCLq48/tQojRPYlbz84velNb3qTP+ere6SVyWM/yO7Q9vfYnT9M2Rbj5dddP5N2F5in0Io/FBQUFBQUhD+otjdTHr+DPxL6AaocoW8/Z7fwqzGRfj/eEER3qt2AP2ml6xIW74Y/hhFA+uKFUT/+jYHV3t+IP7Bq/TWx7nw/UCSc0rz4gz9BTK4gJleAP98JgtKzKpE/cHeQEWjVhj9RWV4mtSCEP6zTtm6695A/PlJc4SPFlT+ur5zshr2XP8VIeR/fc5Y/Zv02LFkQlD8apEEapEGaP9l6bkSCVJ8/mpmZmZmZnT9Izh4iMYSaP1PWlDVlTZk/nKoTCY5Bnj8MJF5KYcyQP+7HowaVgo0/9AV9QV/Qhz8V+OLqBx2FPw==",
          "dtype": "f8"
         },
         "yaxis": "y"
        },
        {
         "fillpattern": {
          "shape": ""
         },
         "hovertemplate": "<b>%{fullData.name}</b><br>Year: %{x}<br>Proportion: %{y:.2%}<extra></extra>",
         "legendgroup": "Risk of Prenatal Exposure",
         "line": {
          "color": "#EF553B"
         },
         "marker": {
          "symbol": "circle"
         },
         "mode": "lines",
         "name": "Risk of Prenatal Exposure",
         "orientation": "v",
         "showlegend": true,
         "stackgroup": "1",
         "type": "scatter",
         "x": {
          "bdata": "vgcAAL8HAADABwAAwQcAAMIHAADDBwAAxAcAAMUHAADGBwAAxwcAAMgHAADJBwAAygcAAMsHAADMBwAAzQcAAM4HAADPBwAA0AcAANEHAADSBwAA0wcAANQHAADVBwAA1gcAANcHAADYBwAA2QcAANoHAADbBwAA3AcAAN0HAADeBwAA3wcAAOAHAADhBwAA4gcAAOMHAADkBwAA5QcAAOYHAADnBwAA6AcAAOkHAAA=",
          "dtype": "i4"
         },
         "xaxis": "x",
         "y": {
          "bdata": "HMdxHMdxjD8AAAAAAAAAAAAAAAAAAAAAAAAAAAAAAAAAAAAAAAAAAAAAAAAAAAAA9waUiSvdez8AAAAAAAAAAAAAAAAAAAAAAAAAAAAAAABkIQtZyEJmP9uBuXZgro0/8ZKAcCJeYj9M2Rbj5dd9PxyqDr9owoA/HfiuHPiujD+otjdTHr+TP2FRARwTFpU/jYn0QOXslj+BGrRN54CKPw+8MI5QM5E/GBgYGBgYiD/TbGHuNs2WP3JbIuWXzJg/YnIFMbmCmD9Umhd/IuGUPztzD/gcUZY/czZcYuB3mT+l7/Vv4iiZP13/FEtSZKE/PNEbwRO9oT8gYrji5S2kP5f7Tddmq50/wXgr+xxSoz/sY+lAuT6mPyXjneU/2aU/AAAAAAAAoj/72WJl+EakPzDoC/qCvqA/+SOuPM2Znz+T+tgYHkybPymryNC/tKE/Hh4eHh4enj8dFfji6gedPw==",
          "dtype": "f8"
         },
         "yaxis": "y"
        },
        {
         "fillpattern": {
          "shape": ""
         },
         "hovertemplate": "<b>%{fullData.name}</b><br>Year: %{x}<br>Proportion: %{y:.2%}<extra></extra>",
         "legendgroup": "SSRI Effects on Lactation",
         "line": {
          "color": "#00CC96"
         },
         "marker": {
          "symbol": "circle"
         },
         "mode": "lines",
         "name": "SSRI Effects on Lactation",
         "orientation": "v",
         "showlegend": true,
         "stackgroup": "1",
         "type": "scatter",
         "x": {
          "bdata": "vgcAAL8HAADABwAAwQcAAMIHAADDBwAAxAcAAMUHAADGBwAAxwcAAMgHAADJBwAAygcAAMsHAADMBwAAzQcAAM4HAADPBwAA0AcAANEHAADSBwAA0wcAANQHAADVBwAA1gcAANcHAADYBwAA2QcAANoHAADbBwAA3AcAAN0HAADeBwAA3wcAAOAHAADhBwAA4gcAAOMHAADkBwAA5QcAAOYHAADnBwAA6AcAAOkHAAA=",
          "dtype": "i4"
         },
         "xaxis": "x",
         "y": {
          "bdata": "VVVVVVVVtT/CFPmsG0zBPxShCEUoQqE/Hh4eHh4erj8RDuEQDuGgP7RD4MYyKKU/9waUiSvdiz/0JxmLapidPxX44uoHHYU/XqmeezdBmz8LWchCFrKQP+GWmg37u4g/rbegDKv1hj8j/rMm6RyKP2VlGou8Ko4/E+6kEu6kkj/wBCsJmTWMPxL6AaocoY8/jYn0QOXshj9TH+y4hVKPP9Yj/35p0I0/bhCcyoRtkD998eGK1hePPxHjj42k3Yo/UCSc0rz4gz9QJJzSvPiDP98JgtKzKoE/JfSMyaOdfz/CIdPdRtaKP76OmTQ4wYc/CAQCgUAggD8ItD9p2miBP8VIeR/fc3Y/M6ee5XbAej8SGIERGIFxP9+PT9scYno/ZmZmZmZmdj/o3DM2qrdiP/QFfUFf0Gc/U7A9a/YicD+72tIN12VGP4s5tmuqm0c/QKt1EMNpRj8AAAAAAAAAAA==",
          "dtype": "f8"
         },
         "yaxis": "y"
        },
        {
         "fillpattern": {
          "shape": ""
         },
         "hovertemplate": "<b>%{fullData.name}</b><br>Year: %{x}<br>Proportion: %{y:.2%}<extra></extra>",
         "legendgroup": "SSRIs for Postpartum Depression",
         "line": {
          "color": "#AB63FA"
         },
         "marker": {
          "symbol": "circle"
         },
         "mode": "lines",
         "name": "SSRIs for Postpartum Depression",
         "orientation": "v",
         "showlegend": true,
         "stackgroup": "1",
         "type": "scatter",
         "x": {
          "bdata": "vgcAAL8HAADABwAAwQcAAMIHAADDBwAAxAcAAMUHAADGBwAAxwcAAMgHAADJBwAAygcAAMsHAADMBwAAzQcAAM4HAADPBwAA0AcAANEHAADSBwAA0wcAANQHAADVBwAA1gcAANcHAADYBwAA2QcAANoHAADbBwAA3AcAAN0HAADeBwAA3wcAAOAHAADhBwAA4gcAAOMHAADkBwAA5QcAAOYHAADnBwAA6AcAAOkHAAA=",
          "dtype": "i4"
         },
         "xaxis": "x",
         "y": {
          "bdata": "AAAAAAAAAAAAAAAAAAAAAAAAAAAAAAAAAAAAAAAAAAAAAAAAAAAAAAAAAAAAAAAAAAAAAAAAAAAAAAAAAAAAAAAAAAAAAAAAAAAAAAAAAAAAAAAAAAAAAOere6SVyWM/AAAAAAAAAABM2Rbj5dddPwAAAAAAAAAAF2DyFmDyZj/A0Ig6R5FWP2FRARwTFlU/ms/1x8tgVD9GE+CseUZTPwAAAAAAAAAAAAAAAAAAAABUCQE5P5VwP/c8bENliHA/VxCTK4jJZT90wG6PtQxNP3KlNZakmWQ/dvUns1gabD/CIdPdRtZqP0bsihf3JUs/QNOcATTNWT/x8haKBf5iP0TGn1+fCXA/x7nMqWe5bT8SGIERGIFhP9+PT9scYno/mpmZmZmZaT/U3wQHXCiBP3FH3BF3xG0/U7A9a/YiYD+72tIN12V2PymryNC/tGE/eMuhNmzRfj8V+OLqBx11Pw==",
          "dtype": "f8"
         },
         "yaxis": "y"
        }
       ],
       "layout": {
        "height": 600,
        "hovermode": "closest",
        "legend": {
         "font": {
          "size": 12
         },
         "orientation": "v",
         "title": {
          "font": {
           "size": 14
          },
          "text": "Cluster"
         },
         "tracegroupgap": 0,
         "traceorder": "normal",
         "x": 1.02,
         "xanchor": "left",
         "y": 1,
         "yanchor": "top"
        },
        "margin": {
         "r": 150
        },
        "plot_bgcolor": "white",
        "template": {
         "data": {
          "bar": [
           {
            "error_x": {
             "color": "#2a3f5f"
            },
            "error_y": {
             "color": "#2a3f5f"
            },
            "marker": {
             "line": {
              "color": "#E5ECF6",
              "width": 0.5
             },
             "pattern": {
              "fillmode": "overlay",
              "size": 10,
              "solidity": 0.2
             }
            },
            "type": "bar"
           }
          ],
          "barpolar": [
           {
            "marker": {
             "line": {
              "color": "#E5ECF6",
              "width": 0.5
             },
             "pattern": {
              "fillmode": "overlay",
              "size": 10,
              "solidity": 0.2
             }
            },
            "type": "barpolar"
           }
          ],
          "carpet": [
           {
            "aaxis": {
             "endlinecolor": "#2a3f5f",
             "gridcolor": "white",
             "linecolor": "white",
             "minorgridcolor": "white",
             "startlinecolor": "#2a3f5f"
            },
            "baxis": {
             "endlinecolor": "#2a3f5f",
             "gridcolor": "white",
             "linecolor": "white",
             "minorgridcolor": "white",
             "startlinecolor": "#2a3f5f"
            },
            "type": "carpet"
           }
          ],
          "choropleth": [
           {
            "colorbar": {
             "outlinewidth": 0,
             "ticks": ""
            },
            "type": "choropleth"
           }
          ],
          "contour": [
           {
            "colorbar": {
             "outlinewidth": 0,
             "ticks": ""
            },
            "colorscale": [
             [
              0,
              "#0d0887"
             ],
             [
              0.1111111111111111,
              "#46039f"
             ],
             [
              0.2222222222222222,
              "#7201a8"
             ],
             [
              0.3333333333333333,
              "#9c179e"
             ],
             [
              0.4444444444444444,
              "#bd3786"
             ],
             [
              0.5555555555555556,
              "#d8576b"
             ],
             [
              0.6666666666666666,
              "#ed7953"
             ],
             [
              0.7777777777777778,
              "#fb9f3a"
             ],
             [
              0.8888888888888888,
              "#fdca26"
             ],
             [
              1,
              "#f0f921"
             ]
            ],
            "type": "contour"
           }
          ],
          "contourcarpet": [
           {
            "colorbar": {
             "outlinewidth": 0,
             "ticks": ""
            },
            "type": "contourcarpet"
           }
          ],
          "heatmap": [
           {
            "colorbar": {
             "outlinewidth": 0,
             "ticks": ""
            },
            "colorscale": [
             [
              0,
              "#0d0887"
             ],
             [
              0.1111111111111111,
              "#46039f"
             ],
             [
              0.2222222222222222,
              "#7201a8"
             ],
             [
              0.3333333333333333,
              "#9c179e"
             ],
             [
              0.4444444444444444,
              "#bd3786"
             ],
             [
              0.5555555555555556,
              "#d8576b"
             ],
             [
              0.6666666666666666,
              "#ed7953"
             ],
             [
              0.7777777777777778,
              "#fb9f3a"
             ],
             [
              0.8888888888888888,
              "#fdca26"
             ],
             [
              1,
              "#f0f921"
             ]
            ],
            "type": "heatmap"
           }
          ],
          "histogram": [
           {
            "marker": {
             "pattern": {
              "fillmode": "overlay",
              "size": 10,
              "solidity": 0.2
             }
            },
            "type": "histogram"
           }
          ],
          "histogram2d": [
           {
            "colorbar": {
             "outlinewidth": 0,
             "ticks": ""
            },
            "colorscale": [
             [
              0,
              "#0d0887"
             ],
             [
              0.1111111111111111,
              "#46039f"
             ],
             [
              0.2222222222222222,
              "#7201a8"
             ],
             [
              0.3333333333333333,
              "#9c179e"
             ],
             [
              0.4444444444444444,
              "#bd3786"
             ],
             [
              0.5555555555555556,
              "#d8576b"
             ],
             [
              0.6666666666666666,
              "#ed7953"
             ],
             [
              0.7777777777777778,
              "#fb9f3a"
             ],
             [
              0.8888888888888888,
              "#fdca26"
             ],
             [
              1,
              "#f0f921"
             ]
            ],
            "type": "histogram2d"
           }
          ],
          "histogram2dcontour": [
           {
            "colorbar": {
             "outlinewidth": 0,
             "ticks": ""
            },
            "colorscale": [
             [
              0,
              "#0d0887"
             ],
             [
              0.1111111111111111,
              "#46039f"
             ],
             [
              0.2222222222222222,
              "#7201a8"
             ],
             [
              0.3333333333333333,
              "#9c179e"
             ],
             [
              0.4444444444444444,
              "#bd3786"
             ],
             [
              0.5555555555555556,
              "#d8576b"
             ],
             [
              0.6666666666666666,
              "#ed7953"
             ],
             [
              0.7777777777777778,
              "#fb9f3a"
             ],
             [
              0.8888888888888888,
              "#fdca26"
             ],
             [
              1,
              "#f0f921"
             ]
            ],
            "type": "histogram2dcontour"
           }
          ],
          "mesh3d": [
           {
            "colorbar": {
             "outlinewidth": 0,
             "ticks": ""
            },
            "type": "mesh3d"
           }
          ],
          "parcoords": [
           {
            "line": {
             "colorbar": {
              "outlinewidth": 0,
              "ticks": ""
             }
            },
            "type": "parcoords"
           }
          ],
          "pie": [
           {
            "automargin": true,
            "type": "pie"
           }
          ],
          "scatter": [
           {
            "fillpattern": {
             "fillmode": "overlay",
             "size": 10,
             "solidity": 0.2
            },
            "type": "scatter"
           }
          ],
          "scatter3d": [
           {
            "line": {
             "colorbar": {
              "outlinewidth": 0,
              "ticks": ""
             }
            },
            "marker": {
             "colorbar": {
              "outlinewidth": 0,
              "ticks": ""
             }
            },
            "type": "scatter3d"
           }
          ],
          "scattercarpet": [
           {
            "marker": {
             "colorbar": {
              "outlinewidth": 0,
              "ticks": ""
             }
            },
            "type": "scattercarpet"
           }
          ],
          "scattergeo": [
           {
            "marker": {
             "colorbar": {
              "outlinewidth": 0,
              "ticks": ""
             }
            },
            "type": "scattergeo"
           }
          ],
          "scattergl": [
           {
            "marker": {
             "colorbar": {
              "outlinewidth": 0,
              "ticks": ""
             }
            },
            "type": "scattergl"
           }
          ],
          "scattermap": [
           {
            "marker": {
             "colorbar": {
              "outlinewidth": 0,
              "ticks": ""
             }
            },
            "type": "scattermap"
           }
          ],
          "scattermapbox": [
           {
            "marker": {
             "colorbar": {
              "outlinewidth": 0,
              "ticks": ""
             }
            },
            "type": "scattermapbox"
           }
          ],
          "scatterpolar": [
           {
            "marker": {
             "colorbar": {
              "outlinewidth": 0,
              "ticks": ""
             }
            },
            "type": "scatterpolar"
           }
          ],
          "scatterpolargl": [
           {
            "marker": {
             "colorbar": {
              "outlinewidth": 0,
              "ticks": ""
             }
            },
            "type": "scatterpolargl"
           }
          ],
          "scatterternary": [
           {
            "marker": {
             "colorbar": {
              "outlinewidth": 0,
              "ticks": ""
             }
            },
            "type": "scatterternary"
           }
          ],
          "surface": [
           {
            "colorbar": {
             "outlinewidth": 0,
             "ticks": ""
            },
            "colorscale": [
             [
              0,
              "#0d0887"
             ],
             [
              0.1111111111111111,
              "#46039f"
             ],
             [
              0.2222222222222222,
              "#7201a8"
             ],
             [
              0.3333333333333333,
              "#9c179e"
             ],
             [
              0.4444444444444444,
              "#bd3786"
             ],
             [
              0.5555555555555556,
              "#d8576b"
             ],
             [
              0.6666666666666666,
              "#ed7953"
             ],
             [
              0.7777777777777778,
              "#fb9f3a"
             ],
             [
              0.8888888888888888,
              "#fdca26"
             ],
             [
              1,
              "#f0f921"
             ]
            ],
            "type": "surface"
           }
          ],
          "table": [
           {
            "cells": {
             "fill": {
              "color": "#EBF0F8"
             },
             "line": {
              "color": "white"
             }
            },
            "header": {
             "fill": {
              "color": "#C8D4E3"
             },
             "line": {
              "color": "white"
             }
            },
            "type": "table"
           }
          ]
         },
         "layout": {
          "annotationdefaults": {
           "arrowcolor": "#2a3f5f",
           "arrowhead": 0,
           "arrowwidth": 1
          },
          "autotypenumbers": "strict",
          "coloraxis": {
           "colorbar": {
            "outlinewidth": 0,
            "ticks": ""
           }
          },
          "colorscale": {
           "diverging": [
            [
             0,
             "#8e0152"
            ],
            [
             0.1,
             "#c51b7d"
            ],
            [
             0.2,
             "#de77ae"
            ],
            [
             0.3,
             "#f1b6da"
            ],
            [
             0.4,
             "#fde0ef"
            ],
            [
             0.5,
             "#f7f7f7"
            ],
            [
             0.6,
             "#e6f5d0"
            ],
            [
             0.7,
             "#b8e186"
            ],
            [
             0.8,
             "#7fbc41"
            ],
            [
             0.9,
             "#4d9221"
            ],
            [
             1,
             "#276419"
            ]
           ],
           "sequential": [
            [
             0,
             "#0d0887"
            ],
            [
             0.1111111111111111,
             "#46039f"
            ],
            [
             0.2222222222222222,
             "#7201a8"
            ],
            [
             0.3333333333333333,
             "#9c179e"
            ],
            [
             0.4444444444444444,
             "#bd3786"
            ],
            [
             0.5555555555555556,
             "#d8576b"
            ],
            [
             0.6666666666666666,
             "#ed7953"
            ],
            [
             0.7777777777777778,
             "#fb9f3a"
            ],
            [
             0.8888888888888888,
             "#fdca26"
            ],
            [
             1,
             "#f0f921"
            ]
           ],
           "sequentialminus": [
            [
             0,
             "#0d0887"
            ],
            [
             0.1111111111111111,
             "#46039f"
            ],
            [
             0.2222222222222222,
             "#7201a8"
            ],
            [
             0.3333333333333333,
             "#9c179e"
            ],
            [
             0.4444444444444444,
             "#bd3786"
            ],
            [
             0.5555555555555556,
             "#d8576b"
            ],
            [
             0.6666666666666666,
             "#ed7953"
            ],
            [
             0.7777777777777778,
             "#fb9f3a"
            ],
            [
             0.8888888888888888,
             "#fdca26"
            ],
            [
             1,
             "#f0f921"
            ]
           ]
          },
          "colorway": [
           "#636efa",
           "#EF553B",
           "#00cc96",
           "#ab63fa",
           "#FFA15A",
           "#19d3f3",
           "#FF6692",
           "#B6E880",
           "#FF97FF",
           "#FECB52"
          ],
          "font": {
           "color": "#2a3f5f"
          },
          "geo": {
           "bgcolor": "white",
           "lakecolor": "white",
           "landcolor": "#E5ECF6",
           "showlakes": true,
           "showland": true,
           "subunitcolor": "white"
          },
          "hoverlabel": {
           "align": "left"
          },
          "hovermode": "closest",
          "mapbox": {
           "style": "light"
          },
          "paper_bgcolor": "white",
          "plot_bgcolor": "#E5ECF6",
          "polar": {
           "angularaxis": {
            "gridcolor": "white",
            "linecolor": "white",
            "ticks": ""
           },
           "bgcolor": "#E5ECF6",
           "radialaxis": {
            "gridcolor": "white",
            "linecolor": "white",
            "ticks": ""
           }
          },
          "scene": {
           "xaxis": {
            "backgroundcolor": "#E5ECF6",
            "gridcolor": "white",
            "gridwidth": 2,
            "linecolor": "white",
            "showbackground": true,
            "ticks": "",
            "zerolinecolor": "white"
           },
           "yaxis": {
            "backgroundcolor": "#E5ECF6",
            "gridcolor": "white",
            "gridwidth": 2,
            "linecolor": "white",
            "showbackground": true,
            "ticks": "",
            "zerolinecolor": "white"
           },
           "zaxis": {
            "backgroundcolor": "#E5ECF6",
            "gridcolor": "white",
            "gridwidth": 2,
            "linecolor": "white",
            "showbackground": true,
            "ticks": "",
            "zerolinecolor": "white"
           }
          },
          "shapedefaults": {
           "line": {
            "color": "#2a3f5f"
           }
          },
          "ternary": {
           "aaxis": {
            "gridcolor": "white",
            "linecolor": "white",
            "ticks": ""
           },
           "baxis": {
            "gridcolor": "white",
            "linecolor": "white",
            "ticks": ""
           },
           "bgcolor": "#E5ECF6",
           "caxis": {
            "gridcolor": "white",
            "linecolor": "white",
            "ticks": ""
           }
          },
          "title": {
           "x": 0.05
          },
          "xaxis": {
           "automargin": true,
           "gridcolor": "white",
           "linecolor": "white",
           "ticks": "",
           "title": {
            "standoff": 15
           },
           "zerolinecolor": "white",
           "zerolinewidth": 2
          },
          "yaxis": {
           "automargin": true,
           "gridcolor": "white",
           "linecolor": "white",
           "ticks": "",
           "title": {
            "standoff": 15
           },
           "zerolinecolor": "white",
           "zerolinewidth": 2
          }
         }
        },
        "title": {
         "font": {
          "size": 18
         },
         "text": "Cluster Proportions Over Time"
        },
        "updatemenus": [
         {
          "buttons": [
           {
            "args": [
             {
              "visible": "legendonly"
             }
            ],
            "label": "Deselect All",
            "method": "restyle"
           },
           {
            "args": [
             {
              "visible": true
             }
            ],
            "label": "Select All",
            "method": "restyle"
           }
          ],
          "direction": "left",
          "pad": {
           "r": 10,
           "t": 10
          },
          "showactive": false,
          "type": "buttons",
          "x": 1,
          "xanchor": "right",
          "y": 1.1,
          "yanchor": "top"
         }
        ],
        "width": 1200,
        "xaxis": {
         "anchor": "y",
         "domain": [
          0,
          1
         ],
         "title": {
          "font": {
           "size": 14
          },
          "text": "Year"
         }
        },
        "yaxis": {
         "anchor": "x",
         "domain": [
          0,
          1
         ],
         "tickformat": ".1%",
         "title": {
          "font": {
           "size": 14
          },
          "text": "Proportion of Total Papers"
         }
        }
       }
      }
     },
     "metadata": {},
     "output_type": "display_data"
    }
   ],
   "source": [
    "fig_perinatal"
   ]
  },
  {
   "cell_type": "code",
   "execution_count": 107,
   "metadata": {},
   "outputs": [
    {
     "data": {
      "application/vnd.plotly.v1+json": {
       "config": {
        "plotlyServerURL": "https://plot.ly"
       },
       "data": [
        {
         "fillpattern": {
          "shape": ""
         },
         "hovertemplate": "<b>%{fullData.name}</b><br>Year: %{x}<br>Proportion: %{y:.2%}<extra></extra>",
         "legendgroup": "Risk of Prenatal Exposure (Rodents)",
         "line": {
          "color": "#636EFA"
         },
         "marker": {
          "symbol": "circle"
         },
         "mode": "lines",
         "name": "Risk of Prenatal Exposure (Rodents)",
         "orientation": "v",
         "showlegend": true,
         "stackgroup": "1",
         "type": "scatter",
         "x": {
          "bdata": "vgcAAL8HAADABwAAwQcAAMIHAADDBwAAxAcAAMUHAADGBwAAxwcAAMgHAADJBwAAygcAAMsHAADMBwAAzQcAAM4HAADPBwAA0AcAANEHAADSBwAA0wcAANQHAADVBwAA1gcAANcHAADYBwAA2QcAANoHAADbBwAA3AcAAN0HAADeBwAA3wcAAOAHAADhBwAA4gcAAOMHAADkBwAA5QcAAOYHAADnBwAA6AcAAOkHAAA=",
          "dtype": "i4"
         },
         "xaxis": "x",
         "y": {
          "bdata": "AAAAAAAAwD8AAAAAAAAAAJqZmZmZmdk/AAAAAAAAAAAAAAAAAAAAAJIkSZIkSdI/mpmZmZmZ2T8cx3Ecx3HcPzMzMzMzM+M/AAAAAAAAwD8AAAAAAADgPxQ7sRM7sbM/UV5DeQ3l5T8UO7ETO7GzP0YXXXTRRdc/AAAAAAAAzD8AAAAAAADMPwAAAAAAALg/l5aWlpaWxj8AAAAAAADMP3kN5TWU19A/aC+hvYT2oj8iNcF4K/vMP6uqqqqqqsI/O7ETO7ETyz8vuuiiiy7KP9BwUvflsdU/QZ4S5ClBzj/GGGOMMcbIP3kN5TWU19A/lxUDJbzR1D9eQ3kN5TXUP0YXXXTRRdc/lVJKKaWU0j/Z55CaYLzVP+MjE+idutY/dtlll1122T/D9Shcj8LVP7rooosuutg/iQKTTs2D3D9VVVVVVVXVP3Icx3Ecx9E/juM4juM4zj8eHh4eHh7OPw==",
          "dtype": "f8"
         },
         "yaxis": "y"
        },
        {
         "fillpattern": {
          "shape": ""
         },
         "hovertemplate": "<b>%{fullData.name}</b><br>Year: %{x}<br>Proportion: %{y:.2%}<extra></extra>",
         "legendgroup": "Risk of Prenatal Exposure",
         "line": {
          "color": "#EF553B"
         },
         "marker": {
          "symbol": "circle"
         },
         "mode": "lines",
         "name": "Risk of Prenatal Exposure",
         "orientation": "v",
         "showlegend": true,
         "stackgroup": "1",
         "type": "scatter",
         "x": {
          "bdata": "vgcAAL8HAADABwAAwQcAAMIHAADDBwAAxAcAAMUHAADGBwAAxwcAAMgHAADJBwAAygcAAMsHAADMBwAAzQcAAM4HAADPBwAA0AcAANEHAADSBwAA0wcAANQHAADVBwAA1gcAANcHAADYBwAA2QcAANoHAADbBwAA3AcAAN0HAADeBwAA3wcAAOAHAADhBwAA4gcAAOMHAADkBwAA5QcAAOYHAADnBwAA6AcAAOkHAAA=",
          "dtype": "i4"
         },
         "xaxis": "x",
         "y": {
          "bdata": "AAAAAAAAwD8AAAAAAAAAAAAAAAAAAAAAAAAAAAAAAAAAAAAAAAAAAAAAAAAAAAAAmpmZmZmZyT8AAAAAAAAAAAAAAAAAAAAAAAAAAAAAAACSJEmSJEmyP57YiZ3Yid0/KK+hvIbyqj8UO7ETO7HTPxdddNFFF80/AAAAAAAA1D8AAAAAAADcPwAAAAAAAOA/8fDw8PDw4D8AAAAAAADWPzaU11BeQ9k/L6G9hPYS2j8KxlvZ55DaPwAAAAAAAOA/2Ymd2Imd4D+66KKLLrrgP3VfHlsRNNw/37D2DWvf4D/43nvvvffePzaU11BeQ+E/hTeaOr/24D/dEqd+zy3hP1MDe8fUwN4/5JFHHnnk4T8Yb2WfQ2riP71T13Jws98/+N5777333j+kcD0K16PgP1100UUXXeA/KTDp1DzI3T9VVVVVVVXhP1VVVVVVVeU/x3Ecx3Ec4z+1tLS0tLTkPw==",
          "dtype": "f8"
         },
         "yaxis": "y"
        },
        {
         "fillpattern": {
          "shape": ""
         },
         "hovertemplate": "<b>%{fullData.name}</b><br>Year: %{x}<br>Proportion: %{y:.2%}<extra></extra>",
         "legendgroup": "SSRI Effects on Lactation",
         "line": {
          "color": "#00CC96"
         },
         "marker": {
          "symbol": "circle"
         },
         "mode": "lines",
         "name": "SSRI Effects on Lactation",
         "orientation": "v",
         "showlegend": true,
         "stackgroup": "1",
         "type": "scatter",
         "x": {
          "bdata": "vgcAAL8HAADABwAAwQcAAMIHAADDBwAAxAcAAMUHAADGBwAAxwcAAMgHAADJBwAAygcAAMsHAADMBwAAzQcAAM4HAADPBwAA0AcAANEHAADSBwAA0wcAANQHAADVBwAA1gcAANcHAADYBwAA2QcAANoHAADbBwAA3AcAAN0HAADeBwAA3wcAAOAHAADhBwAA4gcAAOMHAADkBwAA5QcAAOYHAADnBwAA6AcAAOkHAAA=",
          "dtype": "i4"
         },
         "xaxis": "x",
         "y": {
          "bdata": "AAAAAAAA6D8AAAAAAADwPzMzMzMzM+M/AAAAAAAA8D8AAAAAAADwP7dt27Zt2+Y/mpmZmZmZ2T9yHMdxHMfhP5qZmZmZmdk/AAAAAAAA7D/btm3btm3bP9mJndiJndg/eQ3lNZTX0D+xEzuxEzvhPy+66KKLLto/AAAAAAAA2j8AAAAAAADUPwAAAAAAANg/8fDw8PDw0D8AAAAAAADaP1FeQ3kN5dU/chzHcRzH4T81wXgr+xzSP1VVVVVVVdE/O7ETO7ETyz8AAAAAAADQP9BwUvflscU/8pQgTwnyxD+EEEIIIYTQP0N5DeU1lMc/lPBGU+fXvj9G2rECYaS9P0YXXXTRRbc/xhhjjDHGuD8iNcF4K/usP78QK0rjI7M/RRNNNNFEsz+4HoXrUbieP0YXXXTRRac/+EYUmHRqrj8cx3Ecx3GMPxzHcRzHcYw/HMdxHMdxjD8AAAAAAAAAAA==",
          "dtype": "f8"
         },
         "yaxis": "y"
        },
        {
         "fillpattern": {
          "shape": ""
         },
         "hovertemplate": "<b>%{fullData.name}</b><br>Year: %{x}<br>Proportion: %{y:.2%}<extra></extra>",
         "legendgroup": "SSRIs for Postpartum Depression",
         "line": {
          "color": "#AB63FA"
         },
         "marker": {
          "symbol": "circle"
         },
         "mode": "lines",
         "name": "SSRIs for Postpartum Depression",
         "orientation": "v",
         "showlegend": true,
         "stackgroup": "1",
         "type": "scatter",
         "x": {
          "bdata": "vgcAAL8HAADABwAAwQcAAMIHAADDBwAAxAcAAMUHAADGBwAAxwcAAMgHAADJBwAAygcAAMsHAADMBwAAzQcAAM4HAADPBwAA0AcAANEHAADSBwAA0wcAANQHAADVBwAA1gcAANcHAADYBwAA2QcAANoHAADbBwAA3AcAAN0HAADeBwAA3wcAAOAHAADhBwAA4gcAAOMHAADkBwAA5QcAAOYHAADnBwAA6AcAAOkHAAA=",
          "dtype": "i4"
         },
         "xaxis": "x",
         "y": {
          "bdata": "AAAAAAAAAAAAAAAAAAAAAAAAAAAAAAAAAAAAAAAAAAAAAAAAAAAAAAAAAAAAAAAAAAAAAAAAAAAAAAAAAAAAAAAAAAAAAAAAAAAAAAAAAAAAAAAAAAAAABQ7sRM7sbM/AAAAAAAAAAAUO7ETO7GzPwAAAAAAAAAAAAAAAAAAsD8AAAAAAACgPwAAAAAAAKA/Hh4eHh4enj8AAAAAAACgPwAAAAAAAAAAAAAAAAAAAADBeCv7HFKzP1VVVVVVVbU/ntiJndiJrT9GF1100UWXP5S6L4+tCKo/nhLkKUGesj+EEEIIIYSwPyivobyG8oo/qvNrD7msmD+yAmGkHSugP1Z+QpyVn7A/hxtuuOGGqz8iNcF4K/ucP78QK0rjI7M/BhZYYIEFpj8pXI/C9Si8PxdddNFFF60/+EYUmHRqnj8cx3Ecx3G8P1VVVVVVVaU/5DiO4ziOwz8eHh4eHh6+Pw==",
          "dtype": "f8"
         },
         "yaxis": "y"
        }
       ],
       "layout": {
        "height": 600,
        "hovermode": "closest",
        "legend": {
         "font": {
          "size": 12
         },
         "orientation": "v",
         "title": {
          "font": {
           "size": 14
          },
          "text": "Cluster"
         },
         "tracegroupgap": 0,
         "traceorder": "normal",
         "x": 1.02,
         "xanchor": "left",
         "y": 1,
         "yanchor": "top"
        },
        "margin": {
         "r": 150
        },
        "plot_bgcolor": "white",
        "template": {
         "data": {
          "bar": [
           {
            "error_x": {
             "color": "#2a3f5f"
            },
            "error_y": {
             "color": "#2a3f5f"
            },
            "marker": {
             "line": {
              "color": "#E5ECF6",
              "width": 0.5
             },
             "pattern": {
              "fillmode": "overlay",
              "size": 10,
              "solidity": 0.2
             }
            },
            "type": "bar"
           }
          ],
          "barpolar": [
           {
            "marker": {
             "line": {
              "color": "#E5ECF6",
              "width": 0.5
             },
             "pattern": {
              "fillmode": "overlay",
              "size": 10,
              "solidity": 0.2
             }
            },
            "type": "barpolar"
           }
          ],
          "carpet": [
           {
            "aaxis": {
             "endlinecolor": "#2a3f5f",
             "gridcolor": "white",
             "linecolor": "white",
             "minorgridcolor": "white",
             "startlinecolor": "#2a3f5f"
            },
            "baxis": {
             "endlinecolor": "#2a3f5f",
             "gridcolor": "white",
             "linecolor": "white",
             "minorgridcolor": "white",
             "startlinecolor": "#2a3f5f"
            },
            "type": "carpet"
           }
          ],
          "choropleth": [
           {
            "colorbar": {
             "outlinewidth": 0,
             "ticks": ""
            },
            "type": "choropleth"
           }
          ],
          "contour": [
           {
            "colorbar": {
             "outlinewidth": 0,
             "ticks": ""
            },
            "colorscale": [
             [
              0,
              "#0d0887"
             ],
             [
              0.1111111111111111,
              "#46039f"
             ],
             [
              0.2222222222222222,
              "#7201a8"
             ],
             [
              0.3333333333333333,
              "#9c179e"
             ],
             [
              0.4444444444444444,
              "#bd3786"
             ],
             [
              0.5555555555555556,
              "#d8576b"
             ],
             [
              0.6666666666666666,
              "#ed7953"
             ],
             [
              0.7777777777777778,
              "#fb9f3a"
             ],
             [
              0.8888888888888888,
              "#fdca26"
             ],
             [
              1,
              "#f0f921"
             ]
            ],
            "type": "contour"
           }
          ],
          "contourcarpet": [
           {
            "colorbar": {
             "outlinewidth": 0,
             "ticks": ""
            },
            "type": "contourcarpet"
           }
          ],
          "heatmap": [
           {
            "colorbar": {
             "outlinewidth": 0,
             "ticks": ""
            },
            "colorscale": [
             [
              0,
              "#0d0887"
             ],
             [
              0.1111111111111111,
              "#46039f"
             ],
             [
              0.2222222222222222,
              "#7201a8"
             ],
             [
              0.3333333333333333,
              "#9c179e"
             ],
             [
              0.4444444444444444,
              "#bd3786"
             ],
             [
              0.5555555555555556,
              "#d8576b"
             ],
             [
              0.6666666666666666,
              "#ed7953"
             ],
             [
              0.7777777777777778,
              "#fb9f3a"
             ],
             [
              0.8888888888888888,
              "#fdca26"
             ],
             [
              1,
              "#f0f921"
             ]
            ],
            "type": "heatmap"
           }
          ],
          "histogram": [
           {
            "marker": {
             "pattern": {
              "fillmode": "overlay",
              "size": 10,
              "solidity": 0.2
             }
            },
            "type": "histogram"
           }
          ],
          "histogram2d": [
           {
            "colorbar": {
             "outlinewidth": 0,
             "ticks": ""
            },
            "colorscale": [
             [
              0,
              "#0d0887"
             ],
             [
              0.1111111111111111,
              "#46039f"
             ],
             [
              0.2222222222222222,
              "#7201a8"
             ],
             [
              0.3333333333333333,
              "#9c179e"
             ],
             [
              0.4444444444444444,
              "#bd3786"
             ],
             [
              0.5555555555555556,
              "#d8576b"
             ],
             [
              0.6666666666666666,
              "#ed7953"
             ],
             [
              0.7777777777777778,
              "#fb9f3a"
             ],
             [
              0.8888888888888888,
              "#fdca26"
             ],
             [
              1,
              "#f0f921"
             ]
            ],
            "type": "histogram2d"
           }
          ],
          "histogram2dcontour": [
           {
            "colorbar": {
             "outlinewidth": 0,
             "ticks": ""
            },
            "colorscale": [
             [
              0,
              "#0d0887"
             ],
             [
              0.1111111111111111,
              "#46039f"
             ],
             [
              0.2222222222222222,
              "#7201a8"
             ],
             [
              0.3333333333333333,
              "#9c179e"
             ],
             [
              0.4444444444444444,
              "#bd3786"
             ],
             [
              0.5555555555555556,
              "#d8576b"
             ],
             [
              0.6666666666666666,
              "#ed7953"
             ],
             [
              0.7777777777777778,
              "#fb9f3a"
             ],
             [
              0.8888888888888888,
              "#fdca26"
             ],
             [
              1,
              "#f0f921"
             ]
            ],
            "type": "histogram2dcontour"
           }
          ],
          "mesh3d": [
           {
            "colorbar": {
             "outlinewidth": 0,
             "ticks": ""
            },
            "type": "mesh3d"
           }
          ],
          "parcoords": [
           {
            "line": {
             "colorbar": {
              "outlinewidth": 0,
              "ticks": ""
             }
            },
            "type": "parcoords"
           }
          ],
          "pie": [
           {
            "automargin": true,
            "type": "pie"
           }
          ],
          "scatter": [
           {
            "fillpattern": {
             "fillmode": "overlay",
             "size": 10,
             "solidity": 0.2
            },
            "type": "scatter"
           }
          ],
          "scatter3d": [
           {
            "line": {
             "colorbar": {
              "outlinewidth": 0,
              "ticks": ""
             }
            },
            "marker": {
             "colorbar": {
              "outlinewidth": 0,
              "ticks": ""
             }
            },
            "type": "scatter3d"
           }
          ],
          "scattercarpet": [
           {
            "marker": {
             "colorbar": {
              "outlinewidth": 0,
              "ticks": ""
             }
            },
            "type": "scattercarpet"
           }
          ],
          "scattergeo": [
           {
            "marker": {
             "colorbar": {
              "outlinewidth": 0,
              "ticks": ""
             }
            },
            "type": "scattergeo"
           }
          ],
          "scattergl": [
           {
            "marker": {
             "colorbar": {
              "outlinewidth": 0,
              "ticks": ""
             }
            },
            "type": "scattergl"
           }
          ],
          "scattermap": [
           {
            "marker": {
             "colorbar": {
              "outlinewidth": 0,
              "ticks": ""
             }
            },
            "type": "scattermap"
           }
          ],
          "scattermapbox": [
           {
            "marker": {
             "colorbar": {
              "outlinewidth": 0,
              "ticks": ""
             }
            },
            "type": "scattermapbox"
           }
          ],
          "scatterpolar": [
           {
            "marker": {
             "colorbar": {
              "outlinewidth": 0,
              "ticks": ""
             }
            },
            "type": "scatterpolar"
           }
          ],
          "scatterpolargl": [
           {
            "marker": {
             "colorbar": {
              "outlinewidth": 0,
              "ticks": ""
             }
            },
            "type": "scatterpolargl"
           }
          ],
          "scatterternary": [
           {
            "marker": {
             "colorbar": {
              "outlinewidth": 0,
              "ticks": ""
             }
            },
            "type": "scatterternary"
           }
          ],
          "surface": [
           {
            "colorbar": {
             "outlinewidth": 0,
             "ticks": ""
            },
            "colorscale": [
             [
              0,
              "#0d0887"
             ],
             [
              0.1111111111111111,
              "#46039f"
             ],
             [
              0.2222222222222222,
              "#7201a8"
             ],
             [
              0.3333333333333333,
              "#9c179e"
             ],
             [
              0.4444444444444444,
              "#bd3786"
             ],
             [
              0.5555555555555556,
              "#d8576b"
             ],
             [
              0.6666666666666666,
              "#ed7953"
             ],
             [
              0.7777777777777778,
              "#fb9f3a"
             ],
             [
              0.8888888888888888,
              "#fdca26"
             ],
             [
              1,
              "#f0f921"
             ]
            ],
            "type": "surface"
           }
          ],
          "table": [
           {
            "cells": {
             "fill": {
              "color": "#EBF0F8"
             },
             "line": {
              "color": "white"
             }
            },
            "header": {
             "fill": {
              "color": "#C8D4E3"
             },
             "line": {
              "color": "white"
             }
            },
            "type": "table"
           }
          ]
         },
         "layout": {
          "annotationdefaults": {
           "arrowcolor": "#2a3f5f",
           "arrowhead": 0,
           "arrowwidth": 1
          },
          "autotypenumbers": "strict",
          "coloraxis": {
           "colorbar": {
            "outlinewidth": 0,
            "ticks": ""
           }
          },
          "colorscale": {
           "diverging": [
            [
             0,
             "#8e0152"
            ],
            [
             0.1,
             "#c51b7d"
            ],
            [
             0.2,
             "#de77ae"
            ],
            [
             0.3,
             "#f1b6da"
            ],
            [
             0.4,
             "#fde0ef"
            ],
            [
             0.5,
             "#f7f7f7"
            ],
            [
             0.6,
             "#e6f5d0"
            ],
            [
             0.7,
             "#b8e186"
            ],
            [
             0.8,
             "#7fbc41"
            ],
            [
             0.9,
             "#4d9221"
            ],
            [
             1,
             "#276419"
            ]
           ],
           "sequential": [
            [
             0,
             "#0d0887"
            ],
            [
             0.1111111111111111,
             "#46039f"
            ],
            [
             0.2222222222222222,
             "#7201a8"
            ],
            [
             0.3333333333333333,
             "#9c179e"
            ],
            [
             0.4444444444444444,
             "#bd3786"
            ],
            [
             0.5555555555555556,
             "#d8576b"
            ],
            [
             0.6666666666666666,
             "#ed7953"
            ],
            [
             0.7777777777777778,
             "#fb9f3a"
            ],
            [
             0.8888888888888888,
             "#fdca26"
            ],
            [
             1,
             "#f0f921"
            ]
           ],
           "sequentialminus": [
            [
             0,
             "#0d0887"
            ],
            [
             0.1111111111111111,
             "#46039f"
            ],
            [
             0.2222222222222222,
             "#7201a8"
            ],
            [
             0.3333333333333333,
             "#9c179e"
            ],
            [
             0.4444444444444444,
             "#bd3786"
            ],
            [
             0.5555555555555556,
             "#d8576b"
            ],
            [
             0.6666666666666666,
             "#ed7953"
            ],
            [
             0.7777777777777778,
             "#fb9f3a"
            ],
            [
             0.8888888888888888,
             "#fdca26"
            ],
            [
             1,
             "#f0f921"
            ]
           ]
          },
          "colorway": [
           "#636efa",
           "#EF553B",
           "#00cc96",
           "#ab63fa",
           "#FFA15A",
           "#19d3f3",
           "#FF6692",
           "#B6E880",
           "#FF97FF",
           "#FECB52"
          ],
          "font": {
           "color": "#2a3f5f"
          },
          "geo": {
           "bgcolor": "white",
           "lakecolor": "white",
           "landcolor": "#E5ECF6",
           "showlakes": true,
           "showland": true,
           "subunitcolor": "white"
          },
          "hoverlabel": {
           "align": "left"
          },
          "hovermode": "closest",
          "mapbox": {
           "style": "light"
          },
          "paper_bgcolor": "white",
          "plot_bgcolor": "#E5ECF6",
          "polar": {
           "angularaxis": {
            "gridcolor": "white",
            "linecolor": "white",
            "ticks": ""
           },
           "bgcolor": "#E5ECF6",
           "radialaxis": {
            "gridcolor": "white",
            "linecolor": "white",
            "ticks": ""
           }
          },
          "scene": {
           "xaxis": {
            "backgroundcolor": "#E5ECF6",
            "gridcolor": "white",
            "gridwidth": 2,
            "linecolor": "white",
            "showbackground": true,
            "ticks": "",
            "zerolinecolor": "white"
           },
           "yaxis": {
            "backgroundcolor": "#E5ECF6",
            "gridcolor": "white",
            "gridwidth": 2,
            "linecolor": "white",
            "showbackground": true,
            "ticks": "",
            "zerolinecolor": "white"
           },
           "zaxis": {
            "backgroundcolor": "#E5ECF6",
            "gridcolor": "white",
            "gridwidth": 2,
            "linecolor": "white",
            "showbackground": true,
            "ticks": "",
            "zerolinecolor": "white"
           }
          },
          "shapedefaults": {
           "line": {
            "color": "#2a3f5f"
           }
          },
          "ternary": {
           "aaxis": {
            "gridcolor": "white",
            "linecolor": "white",
            "ticks": ""
           },
           "baxis": {
            "gridcolor": "white",
            "linecolor": "white",
            "ticks": ""
           },
           "bgcolor": "#E5ECF6",
           "caxis": {
            "gridcolor": "white",
            "linecolor": "white",
            "ticks": ""
           }
          },
          "title": {
           "x": 0.05
          },
          "xaxis": {
           "automargin": true,
           "gridcolor": "white",
           "linecolor": "white",
           "ticks": "",
           "title": {
            "standoff": 15
           },
           "zerolinecolor": "white",
           "zerolinewidth": 2
          },
          "yaxis": {
           "automargin": true,
           "gridcolor": "white",
           "linecolor": "white",
           "ticks": "",
           "title": {
            "standoff": 15
           },
           "zerolinecolor": "white",
           "zerolinewidth": 2
          }
         }
        },
        "title": {
         "font": {
          "size": 18
         },
         "text": "Cluster Proportions Over Time (Relative to Selected Clusters)"
        },
        "updatemenus": [
         {
          "buttons": [
           {
            "args": [
             {
              "visible": "legendonly"
             }
            ],
            "label": "Deselect All",
            "method": "restyle"
           },
           {
            "args": [
             {
              "visible": true
             }
            ],
            "label": "Select All",
            "method": "restyle"
           }
          ],
          "direction": "left",
          "pad": {
           "r": 10,
           "t": 10
          },
          "showactive": false,
          "type": "buttons",
          "x": 1,
          "xanchor": "right",
          "y": 1.1,
          "yanchor": "top"
         }
        ],
        "width": 1200,
        "xaxis": {
         "anchor": "y",
         "domain": [
          0,
          1
         ],
         "title": {
          "font": {
           "size": 14
          },
          "text": "Year"
         }
        },
        "yaxis": {
         "anchor": "x",
         "domain": [
          0,
          1
         ],
         "tickformat": ".1%",
         "title": {
          "font": {
           "size": 14
          },
          "text": "Proportion of Selected Clusters"
         }
        }
       }
      }
     },
     "metadata": {},
     "output_type": "display_data"
    }
   ],
   "source": [
    "fig_perinatal_subset"
   ]
  },
  {
   "cell_type": "markdown",
   "metadata": {},
   "source": [
    "# StaticProportionsPlotter\n"
   ]
  },
  {
   "cell_type": "code",
   "execution_count": 107,
   "metadata": {},
   "outputs": [],
   "source": [
    "%matplotlib inline\n",
    "from typing import Dict, List, Tuple, Union, Optional, Literal\n",
    "import pandas as pd\n",
    "import numpy as np\n",
    "import matplotlib.pyplot as plt\n",
    "import matplotlib.font_manager as fm\n",
    "import logging\n",
    "from pathlib import Path\n",
    "\n",
    "\n",
    "class StaticProportionsPlotter:\n",
    "    \"\"\"\n",
    "    A class to create static visualizations of cluster proportions over time.\n",
    "\n",
    "    Features:\n",
    "    - Plot with or without rolling means\n",
    "    - Optimized color selection for better visual distinction\n",
    "    - Cluster merging functionality\n",
    "    - Flexible legend placement\n",
    "    - Customizable styling options\n",
    "    \"\"\"\n",
    "\n",
    "    def __init__(\n",
    "        self,\n",
    "        df: pd.DataFrame,\n",
    "        cluster_label_dict: Dict[str, str],\n",
    "        cluster_col: str = \"cluster_alpha0.3_k10_res0.002\",\n",
    "        year_col: str = \"year\",\n",
    "        font_name: str = \"Arial\",\n",
    "        font_size: int = 26,\n",
    "        cluster_mergers: Optional[List[Tuple[str, str]]] = None,\n",
    "        output_dir: Optional[str] = None\n",
    "    ):\n",
    "        \"\"\"\n",
    "        Initialize the plotter with the necessary data.\n",
    "\n",
    "        Args:\n",
    "            df: DataFrame containing the cluster data\n",
    "            cluster_label_dict: Dictionary mapping cluster IDs to readable labels\n",
    "            cluster_col: Column name for the cluster assignments\n",
    "            year_col: Column name for the year data\n",
    "            font_name: Font family to use for the plot\n",
    "            font_size: Base font size for the plot\n",
    "            cluster_mergers: List of tuples (target_cluster, source_cluster) to merge\n",
    "            output_dir: Directory to save output figures (None for no default directory)\n",
    "        \"\"\"\n",
    "        # Set up logging\n",
    "        self.logger = logging.getLogger(__name__)\n",
    "\n",
    "        # Store initial parameters\n",
    "        self.df = df.copy()\n",
    "        self.cluster_label_dict = cluster_label_dict.copy()\n",
    "        self.cluster_col = cluster_col\n",
    "        self.year_col = year_col\n",
    "        self.font_name = font_name\n",
    "        self.font_size = font_size\n",
    "        self.output_dir = Path(output_dir) if output_dir else None\n",
    "\n",
    "        # Ensure cluster column is string type for consistent comparisons\n",
    "        if not pd.api.types.is_string_dtype(self.df[self.cluster_col]):\n",
    "            self.df[self.cluster_col] = self.df[self.cluster_col].apply(\n",
    "                lambda x: str(int(x)) if isinstance(x, float) and x.is_integer() else str(x)\n",
    "            )\n",
    "            self.logger.info(f\"Converted {self.cluster_col} to string type for consistent comparisons\")\n",
    "\n",
    "        # Merge clusters if needed\n",
    "        if cluster_mergers:\n",
    "            self.merge_clusters(cluster_mergers)\n",
    "\n",
    "        # Initialize cluster counts as None (will be calculated when needed)\n",
    "        self.cluster_counts = None\n",
    "\n",
    "        # Verify font availability\n",
    "        self._check_font_availability()\n",
    "\n",
    "    def _check_font_availability(self):\n",
    "        \"\"\"Check if the specified font is available, otherwise use a fallback.\"\"\"\n",
    "        available_fonts = set(f.name for f in fm.fontManager.ttflist)\n",
    "        if self.font_name not in available_fonts:\n",
    "            self.logger.warning(f\"Font '{self.font_name}' not found. Using 'sans-serif' instead.\")\n",
    "            self.font_name = 'sans-serif'\n",
    "\n",
    "    def merge_clusters(self, cluster_mergers: List[Tuple[str, str]]):\n",
    "        \"\"\"\n",
    "        Merge clusters based on the specified list of tuples.\n",
    "\n",
    "        Args:\n",
    "            cluster_mergers: List of tuples (target_cluster, source_cluster)\n",
    "                             where source_cluster will be replaced by target_cluster\n",
    "        \"\"\"\n",
    "        for target, source in cluster_mergers:\n",
    "            # Ensure both are strings for consistent comparison\n",
    "            target_str = str(target)\n",
    "            source_str = str(source)\n",
    "\n",
    "            # Replace in DataFrame\n",
    "            self.df[self.cluster_col] = self.df[self.cluster_col].replace({source_str: target_str})\n",
    "\n",
    "            # Update label dictionary if needed\n",
    "            if source_str in self.cluster_label_dict and target_str not in self.cluster_label_dict:\n",
    "                self.cluster_label_dict[target_str] = self.cluster_label_dict[source_str]\n",
    "\n",
    "        # Reset cluster counts since data has changed\n",
    "        self.cluster_counts = None\n",
    "        self.logger.info(f\"Merged {len(cluster_mergers)} cluster pairs\")\n",
    "\n",
    "    def _calculate_cluster_proportions_per_year(self, year_range: Optional[Tuple[int, int]] = None):\n",
    "        \"\"\"\n",
    "        Calculate counts and proportions of papers per cluster per year.\n",
    "\n",
    "        Args:\n",
    "            year_range: Optional tuple of (start_year, end_year) to filter the data\n",
    "        \"\"\"\n",
    "        # Filter by year range if specified\n",
    "        filtered_df = self.df\n",
    "        if year_range:\n",
    "            filtered_df = filtered_df[\n",
    "                (filtered_df[self.year_col] >= year_range[0]) &\n",
    "                (filtered_df[self.year_col] <= year_range[1])\n",
    "            ]\n",
    "\n",
    "        # Group by year and cluster to get counts\n",
    "        cluster_counts = (\n",
    "            filtered_df.groupby([self.year_col, self.cluster_col])\n",
    "            .size()\n",
    "            .reset_index(name=\"count\")\n",
    "        )\n",
    "\n",
    "        # Calculate yearly proportions\n",
    "        cluster_counts[\"proportion\"] = cluster_counts.groupby(self.year_col)[\"count\"].transform(\n",
    "            lambda x: x / x.sum()\n",
    "        )\n",
    "\n",
    "        self.cluster_counts = cluster_counts\n",
    "        return cluster_counts\n",
    "\n",
    "    def _calculate_subset_cluster_proportions_per_year(self, clusters_to_plot: List[str]):\n",
    "        \"\"\"\n",
    "        Calculate proportions for a subset of clusters relative to that subset's total.\n",
    "\n",
    "        Args:\n",
    "            clusters_to_plot: List of cluster IDs to include\n",
    "\n",
    "        Returns:\n",
    "            DataFrame with proportions calculated relative to the subset total\n",
    "        \"\"\"\n",
    "        # Ensure all cluster IDs are strings\n",
    "        clusters_as_str = [str(c) for c in clusters_to_plot]\n",
    "\n",
    "        # Filter to only the requested clusters\n",
    "        filtered_counts = self.cluster_counts[\n",
    "            self.cluster_counts[self.cluster_col].isin(clusters_as_str)\n",
    "        ]\n",
    "\n",
    "        if filtered_counts.empty:\n",
    "            available_clusters = sorted(self.cluster_counts[self.cluster_col].unique())\n",
    "            raise ValueError(\n",
    "                f\"No data found for specified clusters. Available clusters: {available_clusters}\"\n",
    "            )\n",
    "\n",
    "        # Recalculate proportions based on the subset total\n",
    "        filtered_counts[\"proportion\"] = filtered_counts.groupby(self.year_col)[\"count\"].transform(\n",
    "            lambda x: x / x.sum()\n",
    "        )\n",
    "\n",
    "        return filtered_counts\n",
    "\n",
    "    def _set_x_axis_ticks_and_limits(self, ax, years, rotation=45):\n",
    "        \"\"\"\n",
    "        Set x-axis ticks and limits for better visualization.\n",
    "\n",
    "        Args:\n",
    "            ax: Matplotlib axis object\n",
    "            years: Series or array of years in the data\n",
    "            rotation: Rotation angle for x-tick labels\n",
    "        \"\"\"\n",
    "        min_year = min(years)\n",
    "        max_year = max(years)\n",
    "\n",
    "        # Calculate an appropriate tick interval\n",
    "        year_range = max_year - min_year\n",
    "        if year_range <= 10:\n",
    "            tick_interval = 1\n",
    "        elif year_range <= 30:\n",
    "            tick_interval = 5\n",
    "        else:\n",
    "            tick_interval = 10\n",
    "\n",
    "        # Generate tick positions\n",
    "        start_tick = (min_year // tick_interval) * tick_interval\n",
    "        end_tick = ((max_year // tick_interval) + 1) * tick_interval\n",
    "        ticks = np.arange(start_tick, end_tick + 1, tick_interval)\n",
    "\n",
    "        # Ensure the min and max years are included\n",
    "        if min_year not in ticks:\n",
    "            ticks = np.insert(ticks, 0, min_year)\n",
    "        if max_year not in ticks:\n",
    "            ticks = np.append(ticks, max_year)\n",
    "\n",
    "        # Set ticks and limits\n",
    "        ax.set_xticks(ticks)\n",
    "        buffer = year_range * 0.02  # Add 2% buffer on each side\n",
    "        ax.set_xlim(min_year - buffer, max_year + buffer)\n",
    "\n",
    "        # Rotate x labels if specified\n",
    "        plt.xticks(rotation=rotation)\n",
    "\n",
    "    def _generate_distinct_colors(self, num_colors: int) -> List:\n",
    "        \"\"\"\n",
    "        Generate a list of perceptually distinct colors.\n",
    "\n",
    "        Uses the HSV color space with evenly spaced hues and carefully selected\n",
    "        saturation and value to ensure maximum visual distinction.\n",
    "\n",
    "        Args:\n",
    "            num_colors: Number of distinct colors to generate\n",
    "\n",
    "        Returns:\n",
    "            List of RGB colors as tuples\n",
    "        \"\"\"\n",
    "        colors = []\n",
    "\n",
    "        # Use golden ratio to generate well-spaced hues\n",
    "        golden_ratio_conjugate = 0.618033988749895\n",
    "\n",
    "        # Start at a random point (but fixed for reproducibility)\n",
    "        h = 0.1  # Starting hue\n",
    "\n",
    "        # Generate colors with varying hue but consistent saturation and value\n",
    "        for i in range(num_colors):\n",
    "            # Shift the hue by the golden ratio\n",
    "            h += golden_ratio_conjugate\n",
    "            h %= 1.0\n",
    "\n",
    "            # HSV (hue, saturation, value) - vary saturation and value slightly\n",
    "            # to enhance distinguishability\n",
    "            if i % 3 == 0:\n",
    "                # Use high saturation and value\n",
    "                s = 0.8\n",
    "                v = 0.9\n",
    "            elif i % 3 == 1:\n",
    "                # Use high saturation but lower value (darker)\n",
    "                s = 0.85\n",
    "                v = 0.7\n",
    "            else:\n",
    "                # Use lower saturation but high value (lighter, pastel-like)\n",
    "                s = 0.65\n",
    "                v = 0.85\n",
    "\n",
    "            # Convert HSV to RGB\n",
    "            rgb = self._hsv_to_rgb(h, s, v)\n",
    "            colors.append(rgb)\n",
    "\n",
    "        return colors\n",
    "\n",
    "    def _hsv_to_rgb(self, h: float, s: float, v: float) -> Tuple[float, float, float]:\n",
    "        \"\"\"\n",
    "        Convert HSV color to RGB.\n",
    "\n",
    "        Args:\n",
    "            h: Hue (0-1)\n",
    "            s: Saturation (0-1)\n",
    "            v: Value (0-1)\n",
    "\n",
    "        Returns:\n",
    "            RGB tuple with values in range 0-1\n",
    "        \"\"\"\n",
    "        if s == 0.0:\n",
    "            return (v, v, v)\n",
    "\n",
    "        i = int(h * 6)  # Sector 0 to 5\n",
    "        f = (h * 6) - i  # Factorial part of h\n",
    "        p = v * (1 - s)\n",
    "        q = v * (1 - s * f)\n",
    "        t = v * (1 - s * (1 - f))\n",
    "\n",
    "        if i % 6 == 0:\n",
    "            return (v, t, p)\n",
    "        elif i % 6 == 1:\n",
    "            return (q, v, p)\n",
    "        elif i % 6 == 2:\n",
    "            return (p, v, t)\n",
    "        elif i % 6 == 3:\n",
    "            return (p, q, v)\n",
    "        elif i % 6 == 4:\n",
    "            return (t, p, v)\n",
    "        else:\n",
    "            return (v, p, q)\n",
    "\n",
    "    def _get_optimized_colors(self, num_colors: int, color_palette: Optional[str] = None) -> List:\n",
    "        \"\"\"\n",
    "        Get optimized colors for the plot.\n",
    "\n",
    "        Args:\n",
    "            num_colors: Number of colors needed\n",
    "            color_palette: Optional matplotlib colormap name\n",
    "\n",
    "        Returns:\n",
    "            List of RGB color tuples\n",
    "        \"\"\"\n",
    "        if color_palette and hasattr(plt.cm, color_palette):\n",
    "            # Use the specified colormap\n",
    "            cmap = getattr(plt.cm, color_palette)\n",
    "            return [cmap(i / max(1, num_colors - 1)) for i in range(num_colors)]\n",
    "\n",
    "        # Use qualitative colormaps for better distinction\n",
    "        if num_colors <= 9:\n",
    "            return plt.cm.Set1.colors[:num_colors]\n",
    "        elif num_colors <= 12:\n",
    "            return plt.cm.Paired.colors[:num_colors]\n",
    "        elif num_colors <= 20:\n",
    "            return plt.cm.tab20.colors[:num_colors]\n",
    "        else:\n",
    "            # For larger sets, generate algorithmically\n",
    "            return self._generate_distinct_colors(num_colors)\n",
    "\n",
    "    def plot_cluster_proportions(\n",
    "        self,\n",
    "        clusters_to_plot: List[Union[str, int, float]],\n",
    "        rolling_window: Optional[int] = None,\n",
    "        proportions_total: Literal[\"total\", \"subset\"] = \"total\",\n",
    "        figsize: Tuple[int, int] = (20, 8),\n",
    "        color_palette: Optional[str] = None,\n",
    "        title: Optional[str] = None,\n",
    "        legend_loc: str = \"right\",\n",
    "        legend_ncol: int = 1,\n",
    "        year_range: Optional[Tuple[int, int]] = None,\n",
    "        x_rotation: int = 45,\n",
    "        show_grid: bool = True,\n",
    "        save: bool = False,\n",
    "        filename: Optional[str] = None,\n",
    "        dpi: int = 300,\n",
    "        format: str = \"png\",\n",
    "        background_alpha: float = 0.5,\n",
    "    ) -> Tuple[plt.Figure, plt.Axes]:\n",
    "        \"\"\"\n",
    "        Plot cluster proportions over time with optional rolling means.\n",
    "\n",
    "        Args:\n",
    "            clusters_to_plot: List of cluster IDs to include in the plot\n",
    "            rolling_window: Size of the rolling window for smoothing (None for no smoothing)\n",
    "            proportions_total: Whether to calculate proportions relative to \"total\" data or \"subset\" only\n",
    "            figsize: Size of the figure as (width, height) in inches\n",
    "            color_palette: Name of a matplotlib colormap\n",
    "            title: Custom title for the plot\n",
    "            legend_loc: Location for the legend ('right', 'bottom', 'inside')\n",
    "            legend_ncol: Number of columns in the legend\n",
    "            year_range: Optional tuple of (start_year, end_year) to filter the data\n",
    "            x_rotation: Rotation angle for x-axis labels\n",
    "            show_grid: Whether to show grid lines\n",
    "            save: Whether to save the figure\n",
    "            filename: Custom filename for the saved figure\n",
    "            dpi: Resolution in dots per inch for saved figure\n",
    "            format: File format for saved figure\n",
    "            background_alpha: Alpha transparency for background stackplot (if using rolling means)\n",
    "\n",
    "        Returns:\n",
    "            Tuple of (Figure, Axes) objects\n",
    "        \"\"\"\n",
    "        # Completely isolate this figure from any previous state\n",
    "        plt.close('all')  # Close all existing figures\n",
    "        plt.rcParams.update(plt.rcParamsDefault)  # Reset all rcParams to default\n",
    "\n",
    "        # Create a completely new figure with a clear backend state\n",
    "        fig = plt.figure(figsize=figsize)\n",
    "        ax = fig.add_subplot(111)  # Create a single axis\n",
    "\n",
    "        # Ensure clusters are strings\n",
    "        clusters_to_plot = [str(cluster) for cluster in clusters_to_plot]\n",
    "\n",
    "        # Calculate proportions if not already done\n",
    "        if self.cluster_counts is None:\n",
    "            self._calculate_cluster_proportions_per_year(year_range)\n",
    "\n",
    "        # Determine which proportions to use based on mode\n",
    "        if proportions_total == \"total\":\n",
    "            filtered_cluster_counts = self.cluster_counts.copy()\n",
    "            yaxis_label = \"Proportion (Overall)\"\n",
    "        else:  # \"subset\"\n",
    "            filtered_cluster_counts = self._calculate_subset_cluster_proportions_per_year(clusters_to_plot)\n",
    "            yaxis_label = \"Proportion (Selected Clusters)\"\n",
    "\n",
    "        # Pivot to get clusters as columns\n",
    "        pivot_df = filtered_cluster_counts.pivot(\n",
    "            index=self.year_col, columns=self.cluster_col, values=\"proportion\"\n",
    "        ).fillna(0)\n",
    "\n",
    "        # Filter to only include requested clusters and handle missing\n",
    "        available_clusters = [c for c in clusters_to_plot if c in pivot_df.columns]\n",
    "        if not available_clusters:\n",
    "            raise ValueError(f\"None of the requested clusters found in data. Available: {list(pivot_df.columns)}\")\n",
    "\n",
    "        pivot_df = pivot_df[available_clusters]\n",
    "\n",
    "        # Calculate rolling means if requested\n",
    "        if rolling_window and rolling_window > 1:\n",
    "            pivot_df_rolling = pivot_df.rolling(window=rolling_window, min_periods=1).mean()\n",
    "        else:\n",
    "            pivot_df_rolling = pivot_df  # No rolling mean\n",
    "\n",
    "        # Get human-readable labels\n",
    "        cluster_labels = [\n",
    "            self.cluster_label_dict.get(cluster, f\"Cluster {cluster}\")\n",
    "            for cluster in available_clusters\n",
    "        ]\n",
    "\n",
    "        # Get optimized colors\n",
    "        colors = self._get_optimized_colors(len(available_clusters), color_palette)\n",
    "\n",
    "        # Create figure and axis\n",
    "        fig, ax = plt.subplots(figsize=figsize)\n",
    "\n",
    "        # Convert all of the data needed for the plot to ensure no shared state\n",
    "        pivot_df_data = pivot_df.copy()\n",
    "\n",
    "        if rolling_window and rolling_window > 1:\n",
    "            pivot_df_rolling_data = pivot_df_rolling.copy()\n",
    "        else:\n",
    "            pivot_df_rolling_data = pivot_df_data  # No rolling mean\n",
    "\n",
    "        # Make local copies of all data to ensure complete isolation\n",
    "        available_clusters_local = list(available_clusters)\n",
    "        cluster_labels_local = list(cluster_labels)\n",
    "        colors_local = list(colors)\n",
    "\n",
    "        # Plot the data - different approaches for with/without rolling means\n",
    "        if rolling_window and rolling_window > 1:\n",
    "            # For rolling means, show both raw and smoothed data\n",
    "            # Background stackplot shows raw data with transparency\n",
    "            ax.stackplot(\n",
    "                pivot_df_data.index,\n",
    "                [pivot_df_data[col] for col in pivot_df_data.columns],\n",
    "                labels=[],  # No labels for background\n",
    "                colors=colors_local,\n",
    "                alpha=background_alpha,\n",
    "            )\n",
    "\n",
    "            # Foreground stackplot shows smoothed data\n",
    "            ax.stackplot(\n",
    "                pivot_df_rolling_data.index,\n",
    "                [pivot_df_rolling_data[col] for col in pivot_df_rolling_data.columns],\n",
    "                labels=cluster_labels_local,\n",
    "                colors=colors_local,\n",
    "                alpha=1.0,  # Full opacity\n",
    "            )\n",
    "\n",
    "            if title is None:\n",
    "                title = f\"Cluster Proportions Over Time ({rolling_window}-Year Rolling Mean)\"\n",
    "        else:\n",
    "            # Standard stackplot for non-smoothed data\n",
    "            ax.stackplot(\n",
    "                pivot_df_data.index,\n",
    "                [pivot_df_data[col] for col in pivot_df_data.columns],\n",
    "                labels=cluster_labels_local,\n",
    "                colors=colors_local,\n",
    "            )\n",
    "\n",
    "            if title is None:\n",
    "                title = \"Cluster Proportions Over Time\"\n",
    "\n",
    "        # Set title if provided\n",
    "        if title:\n",
    "            ax.set_title(\n",
    "                title,\n",
    "                fontsize=self.font_size + 2,\n",
    "                fontname=self.font_name,\n",
    "                pad=20,\n",
    "            )\n",
    "\n",
    "        # Set axis labels\n",
    "        ax.set_ylabel(\n",
    "            yaxis_label,\n",
    "            fontsize=self.font_size,\n",
    "            fontname=self.font_name\n",
    "        )\n",
    "        ax.set_xlabel(\n",
    "            \"Year\",\n",
    "            fontsize=self.font_size,\n",
    "            fontname=self.font_name\n",
    "        )\n",
    "\n",
    "        # Configure x-axis\n",
    "        self._set_x_axis_ticks_and_limits(ax, pivot_df.index, rotation=x_rotation)\n",
    "\n",
    "        # Add grid if requested\n",
    "        if show_grid:\n",
    "            ax.grid(True, linestyle='--', alpha=0.7)\n",
    "\n",
    "        # Format y-axis as percentage\n",
    "        ax.yaxis.set_major_formatter(plt.FuncFormatter(lambda x, _: f'{x:.0%}'))\n",
    "\n",
    "        # Position the legend based on specified location\n",
    "        if legend_loc == \"right\":\n",
    "            legend = ax.legend(\n",
    "                title=\"Legend\",\n",
    "                bbox_to_anchor=(1.02, 1),\n",
    "                loc=\"upper left\",\n",
    "                fontsize=self.font_size - 4,\n",
    "                title_fontsize=self.font_size,\n",
    "                ncol=legend_ncol,\n",
    "                frameon=True,\n",
    "                fancybox=True,\n",
    "            )\n",
    "            # Adjust layout for right legend\n",
    "            plt.tight_layout()\n",
    "            plt.subplots_adjust(right=0.8 if len(available_clusters) > 3 else 0.85)\n",
    "\n",
    "        elif legend_loc == \"bottom\":\n",
    "            legend = ax.legend(\n",
    "                title=\"Legend\",\n",
    "                bbox_to_anchor=(0.5, -0.15),\n",
    "                loc=\"upper center\",\n",
    "                fontsize=self.font_size - 4,\n",
    "                title_fontsize=self.font_size,\n",
    "                ncol=legend_ncol or min(3, len(available_clusters)),\n",
    "                frameon=True,\n",
    "                fancybox=True,\n",
    "            )\n",
    "            # Adjust layout for bottom legend\n",
    "            plt.tight_layout()\n",
    "            plt.subplots_adjust(bottom=0.2 if len(available_clusters) > 3 else 0.15)\n",
    "\n",
    "        else:  # \"inside\" or any other value\n",
    "            legend = ax.legend(\n",
    "                title=\"Legend\",\n",
    "                loc=\"best\",\n",
    "                fontsize=self.font_size - 4,\n",
    "                title_fontsize=self.font_size,\n",
    "                ncol=legend_ncol,\n",
    "                frameon=True,\n",
    "                fancybox=True,\n",
    "                facecolor='white',\n",
    "                alpha=0.8,\n",
    "            )\n",
    "            # Use standard tight layout\n",
    "            plt.tight_layout()\n",
    "\n",
    "        # Set font for tick labels\n",
    "        for label in ax.get_xticklabels() + ax.get_yticklabels():\n",
    "            label.set_fontname(self.font_name)\n",
    "            label.set_fontsize(self.font_size - 4)\n",
    "\n",
    "        # Save the figure if requested\n",
    "        if save:\n",
    "            save_path = self._get_save_path(filename, format)\n",
    "            try:\n",
    "                fig.savefig(save_path, dpi=dpi, bbox_inches=\"tight\", format=format)\n",
    "                self.logger.info(f\"Figure saved to {save_path}\")\n",
    "            except Exception as e:\n",
    "                self.logger.error(f\"Failed to save figure: {e}\")\n",
    "\n",
    "        return fig, ax\n",
    "\n",
    "    def _get_save_path(self, filename: Optional[str] = None, format: str = \"png\") -> str:\n",
    "        \"\"\"\n",
    "        Get the full path for saving a figure.\n",
    "\n",
    "        Args:\n",
    "            filename: Optional custom filename\n",
    "            format: File format extension\n",
    "\n",
    "        Returns:\n",
    "            Path to save the figure\n",
    "        \"\"\"\n",
    "        if filename and Path(filename).is_absolute():\n",
    "            # If an absolute path is provided, use it directly\n",
    "            return filename\n",
    "\n",
    "        if self.output_dir is None:\n",
    "            if filename is None:\n",
    "                # Default to current directory with timestamp\n",
    "                import datetime\n",
    "                timestamp = datetime.datetime.now().strftime(\"%Y%m%d_%H%M%S\")\n",
    "                return f\"cluster_proportions_{timestamp}.{format}\"\n",
    "            # Use filename relative to current directory\n",
    "            return filename\n",
    "\n",
    "        # Make sure the output directory exists\n",
    "        self.output_dir.mkdir(parents=True, exist_ok=True)\n",
    "\n",
    "        # Generate default filename if none provided\n",
    "        if filename is None:\n",
    "            # Get the max year from the data for the filename\n",
    "            if hasattr(self, 'cluster_counts') and self.cluster_counts is not None:\n",
    "                max_year = self.cluster_counts[self.year_col].max()\n",
    "                filename = f\"cluster_proportions_{max_year}\"\n",
    "            else:\n",
    "                import datetime\n",
    "                timestamp = datetime.datetime.now().strftime(\"%Y%m%d_%H%M%S\")\n",
    "                filename = f\"cluster_proportions_{timestamp}\"\n",
    "\n",
    "        # Add extension if not present\n",
    "        if not filename.lower().endswith(f\".{format.lower()}\"):\n",
    "            filename = f\"{filename}.{format.lower()}\"\n",
    "\n",
    "        # Return full path\n",
    "        return str(self.output_dir / filename)\n",
    "\n",
    "\n",
    "\n",
    "\n"
   ]
  },
  {
   "cell_type": "code",
   "execution_count": 108,
   "metadata": {},
   "outputs": [
    {
     "data": {
      "image/png": "[encoded data removed]",
      "text/plain": [
       "<Figure size 2000x800 with 1 Axes>"
      ]
     },
     "execution_count": 108,
     "metadata": {},
     "output_type": "execute_result"
    }
   ],
   "source": [
    "# Initialize plotter\n",
    "plotter = StaticProportionsPlotter(\n",
    "    df=df,\n",
    "    cluster_label_dict=cluster_label_dict,\n",
    "    cluster_col='cluster_alpha0.3_k10_res0.002',\n",
    "    font_size=20,\n",
    ")\n",
    "\n",
    "# Plot with raw data\n",
    "fig1, ax1 = plotter.plot_cluster_proportions(\n",
    "    clusters_to_plot=[str(i) for i in geriatrics_keys],\n",
    "    rolling_window=2,  # No smoothing\n",
    "    title=\"Geriatrics Cluster Proportions (Raw)\",\n",
    "    proportions_total=\"relative\",\n",
    "    save=True,\n",
    "    filename=\"geriatrics_raw.png\"\n",
    ")\n",
    "\n",
    "fig1\n"
   ]
  },
  {
   "cell_type": "code",
   "execution_count": 109,
   "metadata": {},
   "outputs": [
    {
     "data": {
      "image/png": "[encoded data removed]",
      "text/plain": [
       "<Figure size 2000x800 with 1 Axes>"
      ]
     },
     "execution_count": 109,
     "metadata": {},
     "output_type": "execute_result"
    }
   ],
   "source": [
    "# Initialize plotter\n",
    "plotter2 = StaticProportionsPlotter(\n",
    "    df=df,\n",
    "    cluster_label_dict=cluster_label_dict,\n",
    "    cluster_col='cluster_alpha0.3_k10_res0.002',\n",
    "    font_size=20,\n",
    ")\n",
    "\n",
    "# Plot with rolling means\n",
    "fig2, ax2 = plotter2.plot_cluster_proportions(\n",
    "    clusters_to_plot=[str(i) for i in geriatrics_keys],\n",
    "    rolling_window=2,  # 2-year smoothing\n",
    "    title=\"Geriatrics Cluster Proportions (2-Year Rolling Mean)\",\n",
    "    save=True,\n",
    "    filename=\"geriatrics_smoothed.png\"\n",
    ")\n",
    "\n",
    "fig2\n"
   ]
  }
 ],
 "metadata": {
  "kernelspec": {
   "display_name": "bibliometrics",
   "language": "python",
   "name": "python3"
  },
  "language_info": {
   "codemirror_mode": {
    "name": "ipython",
    "version": 3
   },
   "file_extension": ".py",
   "mimetype": "text/x-python",
   "name": "python",
   "nbconvert_exporter": "python",
   "pygments_lexer": "ipython3",
   "version": "3.11.8"
  }
 },
 "nbformat": 4,
 "nbformat_minor": 2
}
