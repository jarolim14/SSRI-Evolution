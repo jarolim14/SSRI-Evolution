{
 "cells": [
  {
   "cell_type": "markdown",
   "metadata": {},
   "source": [
    "# Fetch Reference Data from Scopus API\n",
    "\n",
    "Resources:\n",
    "\n",
    "- [Scopus Abstract Retrieval Views](https://dev.elsevier.com/sc_abstract_retrieval_views.html)\n",
    "- [Scopus Retrieval API](https://dev.elsevier.com/documentation/AbstractRetrievalAPI.wadl)\n",
    "- [Interactive Scopus API](https://dev.elsevier.com/scopus.html)\n",
    "- [API Settings (rate limits)](https://dev.elsevier.com/api_key_settings.html)\n",
    "- `Remember Logging In to Cisco VPN!!!`\n"
   ]
  },
  {
   "cell_type": "markdown",
   "metadata": {},
   "source": [
    "In this notebook, we use the `ScopusReferenceFetcher` to retrieve references for a list of Scopus IDs.\n",
    "\n",
    "Key features:\n",
    "1. Automatic API key rotation when rate limits are hit\n",
    "2. Saves progress after every 500 requests\n",
    "3. Resumes from last saved state if interrupted\n",
    "4. Comprehensive logging of progress and errors\n",
    "5. Handles multiple API keys with different rate limits\n",
    "\n",
    "The process:\n",
    "1. Loads previously processed data to avoid duplicates\n",
    "2. Filters the input dataframe to only unprocessed articles\n",
    "3. Processes articles in batches, rotating API keys as needed\n",
    "4. Saves progress after each batch\n",
    "5. Logs all operations and errors for debugging"
   ]
  },
  {
   "cell_type": "markdown",
   "metadata": {},
   "source": [
    "# SETUP\n",
    "\n",
    "## Import Libraries"
   ]
  },
  {
   "cell_type": "code",
   "execution_count": 13,
   "metadata": {},
   "outputs": [
    {
     "name": "stdout",
     "output_type": "stream",
     "text": [
      "The autoreload extension is already loaded. To reload it, use:\n",
      "  %reload_ext autoreload\n"
     ]
    }
   ],
   "source": [
    "# Enable autoreload extension\n",
    "%load_ext autoreload\n",
    "%autoreload 2\n",
    "\n",
    "import logging\n",
    "from src.data_fetching.ScopusProcessor import ScopusRefFetcherPrep, ScopusRefFetcherProcessor"
   ]
  },
  {
   "cell_type": "markdown",
   "metadata": {},
   "source": [
    "## Load the processed data, if any\n"
   ]
  },
  {
   "cell_type": "code",
   "execution_count": null,
   "metadata": {},
   "outputs": [],
   "source": [
    "# Set up logging in the correct directory\n",
    "log_directory = \"../data/01-raw/references/logs/\"  # Directory for logs\n",
    "data_path = \"../data/01-raw/references/\"  # Directory for saved batch data\n",
    "article_df_path = \"../data/02-clean/articles/scopus_cleaned_20250326_081230.pkl\"  # DataFrame with EIDs\n",
    "\n",
    "# Make sure log directory exists\n",
    "import os\n",
    "os.makedirs(log_directory, exist_ok=True)\n",
    "\n",
    "# Properly set up logging\n",
    "ScopusRefFetcherProcessor.setup_logging(log_directory, console_output=False)\n",
    "\n",
    "# Load already processed EIDs (if any)\n",
    "processed_eids = []\n",
    "last_batch = 0\n",
    "try:\n",
    "    processed_eids, last_batch = ScopusRefFetcherPrep.load_fetched_reference_data(data_path)\n",
    "except (FileNotFoundError, ValueError):\n",
    "    # No previous batches found\n",
    "    logging.info(\"No previous batches found. Starting from scratch.\")\n",
    "    pass\n",
    "\n",
    "logging.info(f'Already processed articles: {len(processed_eids)}')\n",
    "# Load and filter articles\n",
    "df_to_fetch = ScopusRefFetcherPrep.load_and_filter_articles(article_df_path, processed_eids)\n",
    "logging.info(f'Last processed batch: {last_batch}')\n",
    "\n"
   ]
  },
  {
   "cell_type": "code",
   "execution_count": null,
   "metadata": {},
   "outputs": [],
   "source": [
    "# Start batch processing\n",
    "ScopusRefFetcherProcessor.process_scopus_batches(\n",
    "    df_to_fetch=df_to_fetch,\n",
    "    data_path=data_path,\n",
    "    last_processed_batch=last_batch,\n",
    "    batch_size=500  # Adjust batch size as needed\n",
    ")"
   ]
  }
 ],
 "metadata": {
  "kernelspec": {
   "display_name": "bibliometrics",
   "language": "python",
   "name": "python3"
  },
  "language_info": {
   "codemirror_mode": {
    "name": "ipython",
    "version": 3
   },
   "file_extension": ".py",
   "mimetype": "text/x-python",
   "name": "python",
   "nbconvert_exporter": "python",
   "pygments_lexer": "ipython3",
   "version": "3.11.11"
  }
 },
 "nbformat": 4,
 "nbformat_minor": 2
}
