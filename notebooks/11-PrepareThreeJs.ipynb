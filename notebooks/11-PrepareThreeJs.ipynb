{
 "cells": [
  {
   "cell_type": "code",
   "execution_count": 1,
   "metadata": {},
   "outputs": [],
   "source": [
    "%load_ext autoreload\n",
    "%autoreload 2\n",
    "%matplotlib inline"
   ]
  },
  {
   "cell_type": "markdown",
   "metadata": {},
   "source": [
    "# Imports\n"
   ]
  },
  {
   "cell_type": "code",
   "execution_count": 2,
   "metadata": {},
   "outputs": [],
   "source": [
    "# append the path for the source code directory\n",
    "import sys\n",
    "import numpy as np\n",
    "import pandas as pd\n",
    "\n",
    "# Disable SettingWithCopyWarning\n",
    "pd.options.mode.chained_assignment = None\n",
    "\n",
    "import scipy.sparse as sparse\n",
    "\n",
    "\n",
    "import pandas as pd\n",
    "import numpy as np\n",
    "\n",
    "# Visualization\n",
    "import matplotlib.pyplot as plt\n",
    "import seaborn as sns\n",
    "\n",
    "# Set Seaborn style for plots\n",
    "sns.set_style(\"white\")\n",
    "\n",
    "sys.path.append(\"../src/visualization/edgebundling/\")\n",
    "\n",
    "from graphToDfUtility import graphToDfUtility\n",
    "from graphReadingUtility import graphReadingUtility\n",
    "from frLayoutUtility import frLayoutUtility\n",
    "from addZCoordinate import ZCoordinateAdder\n",
    "from pruneEdges import pruneEdges\n",
    "from postBundlingUtility import postBundlingUtility\n",
    "from nodesEdgesJsonSaver import nodesSaver, edgesSaver\n",
    "from hammerBundling3D import hammer_bundle"
   ]
  },
  {
   "cell_type": "markdown",
   "metadata": {},
   "source": [
    "# Define Paths\n"
   ]
  },
  {
   "cell_type": "code",
   "execution_count": 48,
   "metadata": {},
   "outputs": [],
   "source": [
    "# 2. Constants and configuration\n",
    "INPUT_GRAPH_PATH = \"../data/07-clustered-graphs/alpha0.3_k10_res0.002.graphml\"\n",
    "CLUSTER_INFO_LABEL_TREE = \"../output/cluster-qualifications/ClusterInfoLabelTree.xlsx\"\n",
    "CLUSTER_LABEL_DICT_PATH = \"../data/99-testdata/cluster_label_dict.json\"\n",
    "CLUSTER_TREE_PATH = \"../output/cluster-qualifications/ClusterHierachy_noComments.json\"\n",
    "OUTPUT_DIR = \"../data/09-threeJs/\"\n",
    "THREEJS_OUTPUT_DIR = (\n",
    "    \"/Users/jlq293/Projects/Random Projects/LW-ThreeJS/2d_ssrinetworkviz/src/data/\"\n",
    ")\n",
    "CLUSTER_HIERACHY_FOR_LEGEND_PATH = (\n",
    "    \"../output/cluster-qualifications/ClusterHierachy_noComments.json\"\n",
    ")\n",
    "\n",
    "\n",
    "FR_GRAPH_FILENAME = \"FR_Layout_Graph.graphml\"\n",
    "\n",
    "NODES_DATA_FILENAME = \"TESTTESTTESTNodesData0to100_BundlPerc50_BW0,4.json\"\n",
    "EDGES_DATA_FILENAME = \"TESTTESTTESTEdgesData0to100_BundlPerc50_BW0,4.json\""
   ]
  },
  {
   "cell_type": "markdown",
   "metadata": {},
   "source": [
    "## read and layout the graph\n"
   ]
  },
  {
   "cell_type": "code",
   "execution_count": 4,
   "metadata": {},
   "outputs": [
    {
     "name": "stdout",
     "output_type": "stream",
     "text": [
      "Node Attributes: ['doi', 'year', 'title', 'cluster', 'node_id', 'node_name', 'centrality']\n",
      "Edge Attributes: ['weight', 'edge_id']\n",
      "Number of nodes: 40643\n",
      "Number of edges: 602779\n",
      "Total nodes in the sub graph: 208\n",
      "####################################################################################################\n",
      "Starting Fruchterman-Reingold layout process...\n",
      "Layout parameters: {'iterations': 50, 'threshold': 0.0001, 'weight': 'weight', 'scale': 5000, 'center': (0, 0), 'dim': 2, 'seed': 1887}\n",
      "Converting to NetworkX Graph...\n",
      "Conversion complete.\n",
      "Graph has 208 nodes and 1188 edges.\n",
      "Calculating layout...\n",
      "Layout calculation completed in 0.08 seconds.\n",
      "Processing layout results...\n",
      "Layout boundaries:\n",
      "X-axis: Min = -5000.00, Max = 4722.29\n",
      "Y-axis: Min = -3278.12, Max = 4464.82\n",
      "Assigning coordinates to nodes...\n",
      "Layout process completed in 0.08 seconds.\n",
      "####################################################################################################\n",
      "Z Coordinates are added, based on their centrality values\n",
      "As 0.2 percent of the range of the x-y dimension.\n",
      "Bounds of the layout:\n",
      "Min x: -5000.0, Max x: 4722.2884115379165\n",
      "Min y: -3278.123017067789, Max y: 4464.8198310463395\n",
      "Min z: 0.0, Max z: 1944.4576823075834\n",
      "Z coordinate added to nodes\n",
      "####################################################################################################\n"
     ]
    },
    {
     "name": "stderr",
     "output_type": "stream",
     "text": [
      "/Users/jlq293/Projects/Study-1-Bibliometrics/notebooks/../src/visualization/edgebundling/graphReadingUtility.py:10: RuntimeWarning: Could not add vertex ids, there is already an 'id' vertex attribute. at src/io/graphml.c:488\n",
      "  g = ig.Graph.Read_GraphML(path)\n"
     ]
    }
   ],
   "source": [
    "g = graphReadingUtility.read_and_clean_graph(INPUT_GRAPH_PATH)\n",
    "\n",
    "subgraph = True\n",
    "\n",
    "if subgraph:\n",
    "\n",
    "    cluster_list = list(range(99, 101))\n",
    "\n",
    "    # subset to only cluster 0 to 100\n",
    "    g = graphReadingUtility.subgraph_of_clusters(g, cluster_list)\n",
    "\n",
    "    total_nodes = len(g.vs)\n",
    "    print(f\"Total nodes in the sub graph: {total_nodes}\")\n",
    "print(\"#\" * 100)\n",
    "\n",
    "################################################################################################\n",
    "layout_params = {\n",
    "    # \"k\": 0.5, # distance between nodes; best to leave it to algo\n",
    "    \"iterations\": 50,  # (default=50) use 100\n",
    "    \"threshold\": 0.0001,  # default 0.0001\n",
    "    \"weight\": \"weight\",\n",
    "    \"scale\": 5000,\n",
    "    \"center\": (0, 0),\n",
    "    \"dim\": 2,\n",
    "    \"seed\": 1887,\n",
    "}\n",
    "\n",
    "g_fr, pos = frLayoutUtility.fr_layout_nx(g, layout_params)\n",
    "\n",
    "\n",
    "print(\"#\" * 100)\n",
    "\n",
    "\n",
    "################################################################################################\n",
    "\n",
    "# Add z-coordinate to nodes based on centrality\n",
    "z_adder = ZCoordinateAdder(g_fr, percentage=20)\n",
    "g_z = z_adder.add_z_coordinate_to_nodes()\n",
    "\n",
    "print(\"#\" * 100)"
   ]
  },
  {
   "cell_type": "markdown",
   "metadata": {},
   "source": [
    "## save graph with x, y, z coordinates\n"
   ]
  },
  {
   "cell_type": "code",
   "execution_count": 5,
   "metadata": {},
   "outputs": [
    {
     "name": "stdout",
     "output_type": "stream",
     "text": [
      "Graph saved as GraphML: /Users/jlq293/Projects/Study-1-Bibliometrics/data/99-testdata/fr_0to100clusters.graphml\n"
     ]
    }
   ],
   "source": [
    "# Assuming g_z is your NetworkX graph object\n",
    "\n",
    "full_path = OUTPUT_DIR + FR_GRAPH_FILENAME\n",
    "\n",
    "# Save as GraphML file\n",
    "# nx.write_graphml(g_z, full_path)\n",
    "print(f\"Graph saved as GraphML: {full_path}\")\n",
    "\n",
    "# read back in\n",
    "# g_z = nx.read_graphml(full_path)"
   ]
  },
  {
   "cell_type": "markdown",
   "metadata": {},
   "source": [
    "## Prune\n"
   ]
  },
  {
   "cell_type": "code",
   "execution_count": 6,
   "metadata": {},
   "outputs": [
    {
     "name": "stdout",
     "output_type": "stream",
     "text": [
      "Pruning edges by weight percentile:\n",
      "Weight Threshold: 0.67\n",
      "Edges with this weight: 6\n",
      "Kept top 25.0% of edges by weight\n",
      "Edges kept: 301 out of 1188\n",
      "Summary after pruning by weight:\n",
      "{'initial_edge_count': 1188, 'final_edge_count': 301, 'initial_isolates': 0, 'final_isolates': 83}\n",
      "\n",
      "################################################################################\n",
      "\n",
      "Pruning edges randomly:\n",
      "Kept 25.0% of edges randomly\n",
      "Edges kept: 297 out of 1188\n",
      "Summary after random pruning:\n",
      "{'initial_edge_count': 1188, 'final_edge_count': 297, 'initial_isolates': 0, 'final_isolates': 20}\n",
      "####################################################################################################\n"
     ]
    }
   ],
   "source": [
    "################################################################################################\n",
    "# Prune edges by weight percentile\n",
    "percentile_to_keep = 0.25  # we keep 25 %\n",
    "pruner = pruneEdges(\n",
    "    g_z,\n",
    ")\n",
    "print(\"Pruning edges by weight percentile:\")\n",
    "g_pruned_weight = pruner.prune_edges_by_weight_percentile(percentile_to_keep)\n",
    "summary = pruner.get_prune_summary()\n",
    "print(\"Summary after pruning by weight:\")\n",
    "print(summary)\n",
    "\n",
    "print(\"\\n\" + \"#\" * 80 + \"\\n\")\n",
    "\n",
    "# Prune random percentage of edges\n",
    "percentile_to_keep = 0.25  # we keep 25 %\n",
    "pruner = pruneEdges(\n",
    "    g_z,\n",
    ")\n",
    "print(\"Pruning edges randomly:\")\n",
    "g_pruned_random = pruner.prune_edges_randomly(percentile_to_keep)\n",
    "summary = pruner.get_prune_summary()\n",
    "print(\"Summary after random pruning:\")\n",
    "print(summary)\n",
    "\n",
    "print(\"#\" * 100)"
   ]
  },
  {
   "cell_type": "markdown",
   "metadata": {},
   "source": [
    "## Dataframe conversion\n"
   ]
  },
  {
   "cell_type": "code",
   "execution_count": 7,
   "metadata": {},
   "outputs": [
    {
     "name": "stdout",
     "output_type": "stream",
     "text": [
      "Segment length statistics:\n",
      "Min: 6.48\n",
      "Max: 2109.16\n",
      "Mean: 818.73\n",
      "Median: 748.19\n"
     ]
    },
    {
     "data": {
      "text/html": [
       "<div>\n",
       "<style scoped>\n",
       "    .dataframe tbody tr th:only-of-type {\n",
       "        vertical-align: middle;\n",
       "    }\n",
       "\n",
       "    .dataframe tbody tr th {\n",
       "        vertical-align: top;\n",
       "    }\n",
       "\n",
       "    .dataframe thead th {\n",
       "        text-align: right;\n",
       "    }\n",
       "</style>\n",
       "<table border=\"1\" class=\"dataframe\">\n",
       "  <thead>\n",
       "    <tr style=\"text-align: right;\">\n",
       "      <th></th>\n",
       "      <th>weight</th>\n",
       "      <th>edge_id</th>\n",
       "      <th>source</th>\n",
       "      <th>target</th>\n",
       "      <th>source_x</th>\n",
       "      <th>source_y</th>\n",
       "      <th>source_z</th>\n",
       "      <th>target_x</th>\n",
       "      <th>target_y</th>\n",
       "      <th>target_z</th>\n",
       "      <th>segment_length</th>\n",
       "    </tr>\n",
       "  </thead>\n",
       "  <tbody>\n",
       "    <tr>\n",
       "      <th>0</th>\n",
       "      <td>0.658660</td>\n",
       "      <td>25368</td>\n",
       "      <td>3</td>\n",
       "      <td>6</td>\n",
       "      <td>-3080.115120</td>\n",
       "      <td>-1335.574730</td>\n",
       "      <td>537.489196</td>\n",
       "      <td>-2982.605268</td>\n",
       "      <td>-670.498425</td>\n",
       "      <td>99.577746</td>\n",
       "      <td>802.247532</td>\n",
       "    </tr>\n",
       "    <tr>\n",
       "      <th>1</th>\n",
       "      <td>0.680866</td>\n",
       "      <td>5624</td>\n",
       "      <td>0</td>\n",
       "      <td>7</td>\n",
       "      <td>-2671.668856</td>\n",
       "      <td>-1765.389967</td>\n",
       "      <td>1866.206337</td>\n",
       "      <td>-2297.623946</td>\n",
       "      <td>-1371.828786</td>\n",
       "      <td>707.707805</td>\n",
       "      <td>1279.421294</td>\n",
       "    </tr>\n",
       "  </tbody>\n",
       "</table>\n",
       "</div>"
      ],
      "text/plain": [
       "     weight  edge_id  source  target     source_x     source_y     source_z  \\\n",
       "0  0.658660    25368       3       6 -3080.115120 -1335.574730   537.489196   \n",
       "1  0.680866     5624       0       7 -2671.668856 -1765.389967  1866.206337   \n",
       "\n",
       "      target_x     target_y    target_z  segment_length  \n",
       "0 -2982.605268  -670.498425   99.577746      802.247532  \n",
       "1 -2297.623946 -1371.828786  707.707805     1279.421294  "
      ]
     },
     "execution_count": 7,
     "metadata": {},
     "output_type": "execute_result"
    }
   ],
   "source": [
    "# Assume `g` is an igraph.Graph object and you have the utility class imported.\n",
    "edges_df = graphToDfUtility.edges_to_dataframe(g_pruned_random)\n",
    "# Create edge and node DataFrames\n",
    "nodes_df = graphToDfUtility.nodes_to_dataframe(\n",
    "    g_pruned_random, normalize_coordinates=False, drop_columns=[\"node_id\", \"node_name\"]\n",
    ")\n",
    "\n",
    "# Merge edge and node positions\n",
    "edge_df_with_source_target_coords = (\n",
    "    graphToDfUtility.create_edge_df_with_source_target_coords(g_pruned_random)\n",
    ")\n",
    "\n",
    "edge_df_with_source_target_coords.head(2)"
   ]
  },
  {
   "cell_type": "code",
   "execution_count": 8,
   "metadata": {},
   "outputs": [
    {
     "data": {
      "text/plain": [
       "{'10th_percentile': 255.3218315767042,\n",
       " '25th_percentile': 447.8152475805376,\n",
       " '50th_percentile': 748.1908718857584,\n",
       " '75th_percentile': 1190.5577146944538}"
      ]
     },
     "execution_count": 8,
     "metadata": {},
     "output_type": "execute_result"
    }
   ],
   "source": [
    "# get dictionary of segment length, 25th, 50th, 75th percentile\n",
    "segment_length_dict = {\n",
    "    \"10th_percentile\": edge_df_with_source_target_coords[\"segment_length\"].quantile(\n",
    "        0.10\n",
    "    ),\n",
    "    \"25th_percentile\": edge_df_with_source_target_coords[\"segment_length\"].quantile(\n",
    "        0.25\n",
    "    ),\n",
    "    \"50th_percentile\": edge_df_with_source_target_coords[\"segment_length\"].median(),\n",
    "    \"75th_percentile\": edge_df_with_source_target_coords[\"segment_length\"].quantile(\n",
    "        0.75\n",
    "    ),\n",
    "}\n",
    "segment_length_dict"
   ]
  },
  {
   "cell_type": "markdown",
   "metadata": {},
   "source": [
    "## quick check\n"
   ]
  },
  {
   "cell_type": "code",
   "execution_count": 9,
   "metadata": {},
   "outputs": [
    {
     "name": "stdout",
     "output_type": "stream",
     "text": [
      "(208, 208)\n"
     ]
    },
    {
     "data": {
      "image/png": "[encoded data removed]",
      "text/plain": [
       "<Figure size 600x600 with 1 Axes>"
      ]
     },
     "metadata": {},
     "output_type": "display_data"
    }
   ],
   "source": [
    "normalized_edge_df_with_source_target_coords = edge_df_with_source_target_coords.copy()\n",
    "to_normalize = [\n",
    "    \"source_x\",\n",
    "    \"source_y\",\n",
    "    \"source_z\",\n",
    "    \"target_x\",\n",
    "    \"target_y\",\n",
    "    \"target_z\",\n",
    "    \"segment_length\",\n",
    "]\n",
    "for col in to_normalize:\n",
    "    normalized_edge_df_with_source_target_coords[col] = (\n",
    "        graphToDfUtility.minmax_normalize(\n",
    "            normalized_edge_df_with_source_target_coords[col]\n",
    "        )\n",
    "    )\n",
    "\n",
    "Nnodes = nodes_df.shape[0]\n",
    "\n",
    "subedges = (\n",
    "    normalized_edge_df_with_source_target_coords[\"segment_length\"]\n",
    "    > normalized_edge_df_with_source_target_coords[\"segment_length\"].median()\n",
    ")\n",
    "\n",
    "mat = sparse.coo_matrix(\n",
    "    (\n",
    "        np.ones(\n",
    "            normalized_edge_df_with_source_target_coords.loc[subedges].shape[0],\n",
    "            dtype=int,\n",
    "        ),\n",
    "        (\n",
    "            normalized_edge_df_with_source_target_coords.loc[subedges, \"source\"].values,\n",
    "            normalized_edge_df_with_source_target_coords.loc[subedges, \"target\"].values,\n",
    "        ),\n",
    "    ),\n",
    "    shape=(Nnodes, Nnodes),\n",
    ")\n",
    "\n",
    "print(mat.shape)\n",
    "\n",
    "ncomp, membership = sparse.csgraph.connected_components(mat)\n",
    "\n",
    "mvalue, mcounts = np.unique(membership, return_counts=True)\n",
    "mcounts, mcountdist = np.unique(mcounts, return_counts=True)\n",
    "\n",
    "# mcounts, mcountdist\n",
    "\n",
    "fig, ax = plt.subplots(1, 1, figsize=(6, 6))\n",
    "\n",
    "dist, bins = np.histogram(\n",
    "    normalized_edge_df_with_source_target_coords[\"segment_length\"].values,\n",
    "    bins=np.exp(np.linspace(-8, 3, 100)),\n",
    ")\n",
    "\n",
    "ax.scatter(np.log(bins[:-1]), dist)\n",
    "\n",
    "plt.show()"
   ]
  },
  {
   "cell_type": "markdown",
   "metadata": {},
   "source": [
    "# BUNDLE\n"
   ]
  },
  {
   "cell_type": "markdown",
   "metadata": {},
   "source": [
    "## Set Threshold for Edge Length\n"
   ]
  },
  {
   "cell_type": "code",
   "execution_count": 10,
   "metadata": {},
   "outputs": [
    {
     "name": "stdout",
     "output_type": "stream",
     "text": [
      "Total Nr of Pruned Edges: 297\n",
      "Edges to Bundle: 222\n"
     ]
    }
   ],
   "source": [
    "# get edges to bundle above a certain threshold\n",
    "# threshold = 0.03\n",
    "threshold = segment_length_dict[\"25th_percentile\"]\n",
    "edges_to_bundle = edge_df_with_source_target_coords[\"segment_length\"] > threshold\n",
    "edges_to_bundle_df = edge_df_with_source_target_coords.loc[edges_to_bundle].reset_index(\n",
    "    drop=True\n",
    ")\n",
    "print(f\"Total Nr of Pruned Edges: {len(edge_df_with_source_target_coords)}\")\n",
    "print(f\"Edges to Bundle: {edges_to_bundle.sum()}\")"
   ]
  },
  {
   "cell_type": "markdown",
   "metadata": {},
   "source": [
    "## Bundling\n"
   ]
  },
  {
   "cell_type": "code",
   "execution_count": 11,
   "metadata": {},
   "outputs": [
    {
     "name": "stdout",
     "output_type": "stream",
     "text": [
      "Process Bundling\n",
      "Start Bundling\n"
     ]
    },
    {
     "ename": "KeyboardInterrupt",
     "evalue": "",
     "output_type": "error",
     "traceback": [
      "\u001b[0;31m---------------------------------------------------------------------------\u001b[0m",
      "\u001b[0;31mKeyboardInterrupt\u001b[0m                         Traceback (most recent call last)",
      "Cell \u001b[0;32mIn[11], line 1\u001b[0m\n\u001b[0;32m----> 1\u001b[0m bundled_edge_pts \u001b[38;5;241m=\u001b[39m \u001b[43mhammer_bundle\u001b[49m\u001b[43m(\u001b[49m\n\u001b[1;32m      2\u001b[0m \u001b[43m    \u001b[49m\u001b[43mnodes_df\u001b[49m\u001b[43m[\u001b[49m\u001b[43m[\u001b[49m\u001b[38;5;124;43m\"\u001b[39;49m\u001b[38;5;124;43mx\u001b[39;49m\u001b[38;5;124;43m\"\u001b[39;49m\u001b[43m,\u001b[49m\u001b[43m \u001b[49m\u001b[38;5;124;43m\"\u001b[39;49m\u001b[38;5;124;43my\u001b[39;49m\u001b[38;5;124;43m\"\u001b[39;49m\u001b[43m,\u001b[49m\u001b[43m \u001b[49m\u001b[38;5;124;43m\"\u001b[39;49m\u001b[38;5;124;43mz\u001b[39;49m\u001b[38;5;124;43m\"\u001b[39;49m\u001b[43m]\u001b[49m\u001b[43m]\u001b[49m\u001b[43m,\u001b[49m\n\u001b[1;32m      3\u001b[0m \u001b[43m    \u001b[49m\u001b[43medges_to_bundle_df\u001b[49m\u001b[43m[\u001b[49m\u001b[43m[\u001b[49m\u001b[38;5;124;43m\"\u001b[39;49m\u001b[38;5;124;43msource\u001b[39;49m\u001b[38;5;124;43m\"\u001b[39;49m\u001b[43m,\u001b[49m\u001b[43m \u001b[49m\u001b[38;5;124;43m\"\u001b[39;49m\u001b[38;5;124;43mtarget\u001b[39;49m\u001b[38;5;124;43m\"\u001b[39;49m\u001b[43m]\u001b[49m\u001b[43m]\u001b[49m\u001b[43m,\u001b[49m\n\u001b[1;32m      4\u001b[0m \u001b[43m    \u001b[49m\u001b[43minitial_bandwidth\u001b[49m\u001b[38;5;241;43m=\u001b[39;49m\u001b[38;5;241;43m0.05\u001b[39;49m\u001b[43m,\u001b[49m\n\u001b[1;32m      5\u001b[0m \u001b[43m    \u001b[49m\u001b[43mdecay\u001b[49m\u001b[38;5;241;43m=\u001b[39;49m\u001b[38;5;241;43m0.7\u001b[39;49m\u001b[43m,\u001b[49m\n\u001b[1;32m      6\u001b[0m \u001b[43m    \u001b[49m\u001b[43mtension\u001b[49m\u001b[38;5;241;43m=\u001b[39;49m\u001b[38;5;241;43m0.3\u001b[39;49m\u001b[43m,\u001b[49m\n\u001b[1;32m      7\u001b[0m \u001b[43m    \u001b[49m\u001b[43maccuracy\u001b[49m\u001b[38;5;241;43m=\u001b[39;49m\u001b[38;5;241;43m5\u001b[39;49m\u001b[43m \u001b[49m\u001b[38;5;241;43m*\u001b[39;49m\u001b[43m \u001b[49m\u001b[38;5;241;43m10\u001b[39;49m\u001b[38;5;241;43m*\u001b[39;49m\u001b[38;5;241;43m*\u001b[39;49m\u001b[38;5;241;43m2\u001b[39;49m\u001b[43m,\u001b[49m\n\u001b[1;32m      8\u001b[0m \u001b[43m    \u001b[49m\u001b[43mweight\u001b[49m\u001b[38;5;241;43m=\u001b[39;49m\u001b[38;5;28;43;01mNone\u001b[39;49;00m\u001b[43m,\u001b[49m\n\u001b[1;32m      9\u001b[0m \u001b[43m    \u001b[49m\u001b[43madvect_iterations\u001b[49m\u001b[38;5;241;43m=\u001b[39;49m\u001b[38;5;241;43m50\u001b[39;49m\u001b[43m,\u001b[49m\n\u001b[1;32m     10\u001b[0m \u001b[43m    \u001b[49m\u001b[43miterations\u001b[49m\u001b[38;5;241;43m=\u001b[39;49m\u001b[38;5;241;43m5\u001b[39;49m\u001b[43m,\u001b[49m\n\u001b[1;32m     11\u001b[0m \u001b[43m    \u001b[49m\u001b[43mmin_segment_length\u001b[49m\u001b[38;5;241;43m=\u001b[39;49m\u001b[38;5;241;43m0.01\u001b[39;49m\u001b[43m,\u001b[49m\n\u001b[1;32m     12\u001b[0m \u001b[43m    \u001b[49m\u001b[43mmax_segment_length\u001b[49m\u001b[38;5;241;43m=\u001b[39;49m\u001b[38;5;241;43m0.05\u001b[39;49m\u001b[43m,\u001b[49m\n\u001b[1;32m     13\u001b[0m \u001b[43m)\u001b[49m\n\u001b[1;32m     14\u001b[0m bundled_edge_pts\u001b[38;5;241m.\u001b[39mhead()\n",
      "File \u001b[0;32m/opt/homebrew/Caskroom/miniconda/base/envs/condavenv/lib/python3.11/site-packages/param/parameterized.py:4467\u001b[0m, in \u001b[0;36mParameterizedFunction.__new__\u001b[0;34m(class_, *args, **params)\u001b[0m\n\u001b[1;32m   4465\u001b[0m inst \u001b[38;5;241m=\u001b[39m class_\u001b[38;5;241m.\u001b[39minstance()\n\u001b[1;32m   4466\u001b[0m inst\u001b[38;5;241m.\u001b[39mparam\u001b[38;5;241m.\u001b[39m_set_name(class_\u001b[38;5;241m.\u001b[39m\u001b[38;5;18m__name__\u001b[39m)\n\u001b[0;32m-> 4467\u001b[0m \u001b[38;5;28;01mreturn\u001b[39;00m \u001b[43minst\u001b[49m\u001b[38;5;241;43m.\u001b[39;49m\u001b[38;5;21;43m__call__\u001b[39;49m\u001b[43m(\u001b[49m\u001b[38;5;241;43m*\u001b[39;49m\u001b[43margs\u001b[49m\u001b[43m,\u001b[49m\u001b[38;5;241;43m*\u001b[39;49m\u001b[38;5;241;43m*\u001b[39;49m\u001b[43mparams\u001b[49m\u001b[43m)\u001b[49m\n",
      "File \u001b[0;32m~/Projects/Study-1-Bibliometrics/notebooks/../src/visualization/edgebundling/hammerBundling3D.py:757\u001b[0m, in \u001b[0;36mhammer_bundle.__call__\u001b[0;34m(self, nodes, edges, **params)\u001b[0m\n\u001b[1;32m    754\u001b[0m \u001b[38;5;28mprint\u001b[39m(\u001b[38;5;124m\"\u001b[39m\u001b[38;5;124mStart Bundling\u001b[39m\u001b[38;5;124m\"\u001b[39m)\n\u001b[1;32m    756\u001b[0m \u001b[38;5;66;03m# Finally things can be sent for computation\u001b[39;00m\n\u001b[0;32m--> 757\u001b[0m edge_segments \u001b[38;5;241m=\u001b[39m \u001b[43mcompute\u001b[49m\u001b[43m(\u001b[49m\u001b[38;5;241;43m*\u001b[39;49m\u001b[43medge_segments\u001b[49m\u001b[43m)\u001b[49m\n\u001b[1;32m    759\u001b[0m \u001b[38;5;28mprint\u001b[39m(\u001b[38;5;124m\"\u001b[39m\u001b[38;5;124mStart Smoothing\u001b[39m\u001b[38;5;124m\"\u001b[39m)\n\u001b[1;32m    761\u001b[0m \u001b[38;5;66;03m# Smooth out the graph\u001b[39;00m\n",
      "File \u001b[0;32m/opt/homebrew/Caskroom/miniconda/base/envs/condavenv/lib/python3.11/site-packages/dask/base.py:661\u001b[0m, in \u001b[0;36mcompute\u001b[0;34m(traverse, optimize_graph, scheduler, get, *args, **kwargs)\u001b[0m\n\u001b[1;32m    658\u001b[0m     postcomputes\u001b[38;5;241m.\u001b[39mappend(x\u001b[38;5;241m.\u001b[39m__dask_postcompute__())\n\u001b[1;32m    660\u001b[0m \u001b[38;5;28;01mwith\u001b[39;00m shorten_traceback():\n\u001b[0;32m--> 661\u001b[0m     results \u001b[38;5;241m=\u001b[39m \u001b[43mschedule\u001b[49m\u001b[43m(\u001b[49m\u001b[43mdsk\u001b[49m\u001b[43m,\u001b[49m\u001b[43m \u001b[49m\u001b[43mkeys\u001b[49m\u001b[43m,\u001b[49m\u001b[43m \u001b[49m\u001b[38;5;241;43m*\u001b[39;49m\u001b[38;5;241;43m*\u001b[39;49m\u001b[43mkwargs\u001b[49m\u001b[43m)\u001b[49m\n\u001b[1;32m    663\u001b[0m \u001b[38;5;28;01mreturn\u001b[39;00m repack([f(r, \u001b[38;5;241m*\u001b[39ma) \u001b[38;5;28;01mfor\u001b[39;00m r, (f, a) \u001b[38;5;129;01min\u001b[39;00m \u001b[38;5;28mzip\u001b[39m(results, postcomputes)])\n",
      "File \u001b[0;32m/opt/homebrew/Caskroom/miniconda/base/envs/condavenv/lib/python3.11/queue.py:171\u001b[0m, in \u001b[0;36mQueue.get\u001b[0;34m(self, block, timeout)\u001b[0m\n\u001b[1;32m    169\u001b[0m \u001b[38;5;28;01melif\u001b[39;00m timeout \u001b[38;5;129;01mis\u001b[39;00m \u001b[38;5;28;01mNone\u001b[39;00m:\n\u001b[1;32m    170\u001b[0m     \u001b[38;5;28;01mwhile\u001b[39;00m \u001b[38;5;129;01mnot\u001b[39;00m \u001b[38;5;28mself\u001b[39m\u001b[38;5;241m.\u001b[39m_qsize():\n\u001b[0;32m--> 171\u001b[0m         \u001b[38;5;28;43mself\u001b[39;49m\u001b[38;5;241;43m.\u001b[39;49m\u001b[43mnot_empty\u001b[49m\u001b[38;5;241;43m.\u001b[39;49m\u001b[43mwait\u001b[49m\u001b[43m(\u001b[49m\u001b[43m)\u001b[49m\n\u001b[1;32m    172\u001b[0m \u001b[38;5;28;01melif\u001b[39;00m timeout \u001b[38;5;241m<\u001b[39m \u001b[38;5;241m0\u001b[39m:\n\u001b[1;32m    173\u001b[0m     \u001b[38;5;28;01mraise\u001b[39;00m \u001b[38;5;167;01mValueError\u001b[39;00m(\u001b[38;5;124m\"\u001b[39m\u001b[38;5;124m'\u001b[39m\u001b[38;5;124mtimeout\u001b[39m\u001b[38;5;124m'\u001b[39m\u001b[38;5;124m must be a non-negative number\u001b[39m\u001b[38;5;124m\"\u001b[39m)\n",
      "File \u001b[0;32m/opt/homebrew/Caskroom/miniconda/base/envs/condavenv/lib/python3.11/threading.py:327\u001b[0m, in \u001b[0;36mCondition.wait\u001b[0;34m(self, timeout)\u001b[0m\n\u001b[1;32m    325\u001b[0m \u001b[38;5;28;01mtry\u001b[39;00m:    \u001b[38;5;66;03m# restore state no matter what (e.g., KeyboardInterrupt)\u001b[39;00m\n\u001b[1;32m    326\u001b[0m     \u001b[38;5;28;01mif\u001b[39;00m timeout \u001b[38;5;129;01mis\u001b[39;00m \u001b[38;5;28;01mNone\u001b[39;00m:\n\u001b[0;32m--> 327\u001b[0m         \u001b[43mwaiter\u001b[49m\u001b[38;5;241;43m.\u001b[39;49m\u001b[43macquire\u001b[49m\u001b[43m(\u001b[49m\u001b[43m)\u001b[49m\n\u001b[1;32m    328\u001b[0m         gotit \u001b[38;5;241m=\u001b[39m \u001b[38;5;28;01mTrue\u001b[39;00m\n\u001b[1;32m    329\u001b[0m     \u001b[38;5;28;01melse\u001b[39;00m:\n",
      "\u001b[0;31mKeyboardInterrupt\u001b[0m: "
     ]
    }
   ],
   "source": [
    "bundled_edge_pts = hammer_bundle(\n",
    "    nodes_df[[\"x\", \"y\", \"z\"]],\n",
    "    edges_to_bundle_df[[\"source\", \"target\"]],\n",
    "    initial_bandwidth=0.05,\n",
    "    decay=0.7,\n",
    "    tension=0.3,\n",
    "    accuracy=5 * 10**2,\n",
    "    weight=None,\n",
    "    advect_iterations=50,\n",
    "    iterations=5,\n",
    "    min_segment_length=0.01,\n",
    "    max_segment_length=0.05,\n",
    ")\n",
    "bundled_edge_pts.head()"
   ]
  },
  {
   "cell_type": "markdown",
   "metadata": {},
   "source": [
    "## Post Bundling Processing\n",
    "\n",
    "add source and target columns, create clean df and save it\n"
   ]
  },
  {
   "cell_type": "code",
   "execution_count": 36,
   "metadata": {},
   "outputs": [
    {
     "name": "stdout",
     "output_type": "stream",
     "text": [
      "Number of bundled edges: 222\n",
      "Number of total edges: 297\n",
      "Number of straight edges: 75\n"
     ]
    }
   ],
   "source": [
    "# Example of how to use the class\n",
    "edge_processor = postBundlingUtility(\n",
    "    bundled_edge_pts, edges_to_bundle_df, edge_df_with_source_target_coords, threshold\n",
    ")\n",
    "final_edges_df = edge_processor.post_process_edges()"
   ]
  },
  {
   "cell_type": "markdown",
   "metadata": {},
   "source": [
    "# SAVER\n"
   ]
  },
  {
   "cell_type": "code",
   "execution_count": 63,
   "metadata": {},
   "outputs": [
    {
     "name": "stdout",
     "output_type": "stream",
     "text": [
      "Color attribute added to edges. \n",
      "-1 if inter-clusters, cluster number if intra-cluster edge.\n",
      "Example of an edge:\n",
      "{'source': 0, 'target': 11, 'color': 99, 'points': [{'x': -2671.6688558075, 'y': -1765.3899671381, 'z': 1866.2063373061}, {'x': -2677.2396190818, 'y': -1757.1960114377, 'z': 1819.4651092974}, {'x': -2680.7679688567, 'y': -1749.524370921, 'z': 1773.486645732}, {'x': -2681.7340991465, 'y': -1742.5347609295, 'z': 1727.9679588637}, {'x': -2680.8098748611, 'y': -1736.1939476868, 'z': 1683.1455606337}, {'x': -2679.1171698409, 'y': -1730.3074149004, 'z': 1640.2375065613}, {'x': -2677.5633558639, 'y': -1724.4329294576, 'z': 1599.8422974096}, {'x': -2676.6611262385, 'y': -1717.8262310234, 'z': 1560.6187813796}, {'x': -2676.8236122045, 'y': -1709.5913618931, 'z': 1520.4119397193}, {'x': -2678.657094979, 'y': -1699.386996779, 'z': 1478.426954074}, {'x': -2682.9501544325, 'y': -1688.7952357441, 'z': 1435.8574024834}, {'x': -2690.5602081574, 'y': -1682.6031979826, 'z': 1394.7906792769}, {'x': -2702.4802629262, 'y': -1687.9761424505, 'z': 1356.3144064839}, {'x': -2719.7292436748, 'y': -1710.5322342831, 'z': 1319.3512450046}, {'x': -2742.5695180453, 'y': -1750.0308894726, 'z': 1281.5722994211}, {'x': -2769.7372908671, 'y': -1799.8256468829, 'z': 1241.3687059674}, {'x': -2798.582119359, 'y': -1850.6507211075, 'z': 1198.7969046166}, {'x': -2825.9627259848, 'y': -1895.1745764145, 'z': 1155.2589313161}, {'x': -2849.6238242048, 'y': -1930.3035893471, 'z': 1112.2006665352}, {'x': -2869.2900866694, 'y': -1956.8359193744, 'z': 1069.7605303898}, {'x': -2886.3202711095, 'y': -1977.5695977008, 'z': 1027.1818020395}, {'x': -2902.0579074294, 'y': -1994.8872538667, 'z': 984.5836360304}, {'x': -2916.2238306086, 'y': -2009.3880568004, 'z': 943.2647416621}, {'x': -2926.7375981915, 'y': -2020.5790458967, 'z': 904.2880408898}, {'x': -2931.911328672, 'y': -2029.418067267, 'z': 867.3996314222}, {'x': -2933.0753417498, 'y': -2040.446730321, 'z': 831.7338255842}, {'x': -2933.7656709983, 'y': -2060.5237592398, 'z': 796.9360128505}, {'x': -2935.579652041, 'y': -2094.1228005355, 'z': 763.1433284315}, {'x': -2934.7143905876, 'y': -2139.5497768978, 'z': 730.7895199432}, {'x': -2923.1131263978, 'y': -2190.8696234312, 'z': 700.2823379282}, {'x': -2894.145637238, 'y': -2243.1194367287, 'z': 671.3512967544}, {'x': -2848.1421455675, 'y': -2293.7278176678, 'z': 643.6269970615}, {'x': -2792.4135956576, 'y': -2340.7019470638, 'z': 617.624031207}, {'x': -2735.2032659901, 'y': -2382.7906412276, 'z': 594.0531989733}, {'x': -2679.6135500633, 'y': -2421.4052652556, 'z': 572.2876260799}, {'x': -2591.4549236047, 'y': -2481.1840828923, 'z': 500.6991282368}]}\n",
      "Edges data saved to /Users/jlq293/Projects/Study-1-Bibliometrics/data/99-testdata/TESTTESTTESTEdgesData0to100_BundlPerc50_BW0,4.json\n",
      "Edges data saved to /Users/jlq293/Projects/Random Projects/LW-ThreeJS/2d_ssrinetworkviz/src/data/TESTTESTTESTEdgesData0to100_BundlPerc50_BW0,4.json\n"
     ]
    }
   ],
   "source": [
    "e_saver = edgesSaver(final_edges_df, nodes_df)\n",
    "edges_df_with_color = e_saver.add_color_attr()\n",
    "edges_list = e_saver.transform_edges(\n",
    "    extra_edge_attributes=[\"source\", \"target\", \"color\"]\n",
    ")\n",
    "\n",
    "print(\"Example of an edge:\")\n",
    "print(edges_list[0])\n",
    "\n",
    "# Save to JSON\n",
    "e_saver.save_edges_to_json(edges_list, OUTPUT_DIR + EDGES_DATA_FILENAME)\n",
    "e_saver.save_edges_to_json(\n",
    "    edges_list,\n",
    "    THREEJS_OUTPUT_DIR + EDGES_DATA_FILENAME,\n",
    ")"
   ]
  },
  {
   "cell_type": "markdown",
   "metadata": {},
   "source": [
    "# save nodes\n"
   ]
  },
  {
   "cell_type": "code",
   "execution_count": 67,
   "metadata": {},
   "outputs": [
    {
     "name": "stdout",
     "output_type": "stream",
     "text": [
      "Graph nodes saved to /Users/jlq293/Projects/Study-1-Bibliometrics/data/99-testdata/TESTTESTTESTNodesData0to100_BundlPerc50_BW0,4.json\n",
      "Graph nodes saved to /Users/jlq293/Projects/Random Projects/LW-ThreeJS/2d_ssrinetworkviz/src/data/TESTTESTTESTNodesData0to100_BundlPerc50_BW0,4.json\n",
      "Example of a node:\n"
     ]
    },
    {
     "data": {
      "text/plain": [
       "{'doi': '10.1358/dof.1984.009.04.65213',\n",
       " 'year': 1984,\n",
       " 'title': 'Sertraline',\n",
       " 'cluster': 99,\n",
       " 'centrality': 0.959778863869367,\n",
       " 'x': -2671.6688558075307,\n",
       " 'y': -1765.38996713808,\n",
       " 'z': 1866.2063373061153,\n",
       " 'node_index': 0}"
      ]
     },
     "execution_count": 67,
     "metadata": {},
     "output_type": "execute_result"
    }
   ],
   "source": [
    "# save nodes\n",
    "OUTPUT_DIRA = OUTPUT_DIR + NODES_DATA_FILENAME\n",
    "\n",
    "OUTPUT_DIRB = THREEJS_OUTPUT_DIR + NODES_DATA_FILENAME\n",
    "\n",
    "n_saver = nodesSaver()\n",
    "nodes_json = n_saver.save_dataframe_nodes_to_json(\n",
    "    nodes_df,\n",
    "    paths=[OUTPUT_DIRA, OUTPUT_DIRB],\n",
    "    return_json=True,\n",
    "    attributes=[\n",
    "        \"doi\",\n",
    "        \"year\",\n",
    "        \"title\",\n",
    "        \"cluster\",\n",
    "        \"centrality\",\n",
    "        \"x\",\n",
    "        \"y\",\n",
    "        \"z\",\n",
    "        \"node_index\",\n",
    "    ],\n",
    ")\n",
    "\n",
    "print(\"Example of a node:\")\n",
    "nodes_json[0]"
   ]
  },
  {
   "cell_type": "markdown",
   "metadata": {},
   "source": [
    "# Parameter Determination\n"
   ]
  },
  {
   "cell_type": "code",
   "execution_count": 17,
   "metadata": {},
   "outputs": [],
   "source": [
    "import pandas as pd\n",
    "import numpy as np\n",
    "from itertools import product\n",
    "import time\n",
    "import os\n",
    "import json"
   ]
  },
  {
   "cell_type": "code",
   "execution_count": 54,
   "metadata": {},
   "outputs": [],
   "source": [
    "def explore_hammer_bundle_params(\n",
    "    edges_df, nodes_df, params, num_runs=5, base_output_dir=\"output\"\n",
    "):\n",
    "    \"\"\"\n",
    "    Explore different parameter combinations for the hammer_bundle algorithm,\n",
    "    post-process results, and save outputs.\n",
    "\n",
    "    Args:\n",
    "    edges_df (pd.DataFrame): DataFrame containing edge information.\n",
    "    nodes_df (pd.DataFrame): DataFrame containing node information.\n",
    "    params (dict): Dictionary of parameter ranges to explore.\n",
    "    num_runs (int): Number of parameter combinations to try.\n",
    "    base_output_dir (str): Base directory for saving outputs.\n",
    "\n",
    "    Returns:\n",
    "    list: List of dictionaries containing results and file paths for each run.\n",
    "    \"\"\"\n",
    "    global_start_time = time.time()\n",
    "\n",
    "    all_combinations = list(\n",
    "        product(\n",
    "            params[\"min_edge_length_percentiles\"],\n",
    "            params[\"initial_bandwidth_values\"],\n",
    "            params[\"decay_values\"],\n",
    "            params[\"tension_values\"],\n",
    "            params[\"min_segment_length_values\"],\n",
    "        )\n",
    "    )\n",
    "\n",
    "    print(f\"Nr of all possible combinations:\", len(all_combinations))\n",
    "\n",
    "    selected_combinations = np.random.choice(\n",
    "        len(all_combinations), num_runs, replace=False\n",
    "    )\n",
    "\n",
    "    print(f\"Selected Combinations:\")\n",
    "    for run in selected_combinations:\n",
    "        print(all_combinations[run])\n",
    "\n",
    "    results = []\n",
    "\n",
    "    for i, combo_index in enumerate(selected_combinations):\n",
    "        combo = all_combinations[combo_index]\n",
    "        (\n",
    "            min_edge_length_percentile,\n",
    "            initial_bandwidth,\n",
    "            decay,\n",
    "            tension,\n",
    "            min_segment_length,\n",
    "        ) = combo\n",
    "\n",
    "        print(f\"\\nRun {i+1}/{num_runs}\")\n",
    "        print(\n",
    "            f\"Parameters: \\n min_edge_length_percentile={min_edge_length_percentile}\\n initial_bandwidth={initial_bandwidth}\\n decay={decay}\\n tension={tension}\\n min_segment_length={min_segment_length}\"\n",
    "        )\n",
    "\n",
    "        # Create a unique identifier for this run\n",
    "        run_id = f\"run_{i+1}_perc{min_edge_length_percentile}_bw{initial_bandwidth}_d{decay}_t{tension}_msl{min_segment_length}\"\n",
    "\n",
    "        # Create output directory for this run\n",
    "        run_output_dir = os.path.join(base_output_dir, run_id)\n",
    "        os.makedirs(run_output_dir, exist_ok=True)\n",
    "\n",
    "        # Calculate threshold and prepare edges for bundling\n",
    "        threshold = np.percentile(\n",
    "            edges_df[\"segment_length\"], min_edge_length_percentile\n",
    "        )\n",
    "        edges_to_bundle = edges_df[\"segment_length\"] > threshold\n",
    "        edges_to_bundle_df = edges_df.loc[edges_to_bundle].reset_index(drop=True)\n",
    "\n",
    "        print(f\"Total Nr of Pruned Edges: {len(edges_df)}\")\n",
    "        print(f\"Edges to Bundle: {edges_to_bundle.sum()}\")\n",
    "\n",
    "        start_time = time.time()\n",
    "\n",
    "        try:\n",
    "            # Run hammer_bundle\n",
    "            bundled_edge_pts = hammer_bundle(\n",
    "                nodes_df[[\"x\", \"y\", \"z\"]],\n",
    "                edges_to_bundle_df[[\"source\", \"target\"]],\n",
    "                initial_bandwidth=initial_bandwidth,\n",
    "                decay=decay,\n",
    "                tension=tension,\n",
    "                accuracy=5 * 10**2,\n",
    "                weight=None,\n",
    "                advect_iterations=50,\n",
    "                iterations=5,\n",
    "                min_segment_length=min_segment_length,\n",
    "                max_segment_length=0.05,\n",
    "            )\n",
    "\n",
    "            # Post-processing\n",
    "            edge_processor = postBundlingUtility(\n",
    "                bundled_edge_pts, edges_to_bundle_df, edges_df, threshold\n",
    "            )\n",
    "            final_edges_df = edge_processor.post_process_edges()\n",
    "\n",
    "            edge_saver = edgesSaver(final_edges_df, nodes_df)\n",
    "            edges_df_with_color = edge_saver.add_color_attr()\n",
    "            edges_list = edge_saver.transform_edges(\n",
    "                extra_edge_attributes=[\"source\", \"target\", \"color\"]\n",
    "            )\n",
    "            # Save edges to JSON\n",
    "            edges_filename = f\"edges_{run_id}.json\"\n",
    "            edge_saver.save_edges_to_json(\n",
    "                edges_list, os.path.join(run_output_dir, edges_filename)\n",
    "            )\n",
    "            # Save nodes to JSON\n",
    "            nodes_filename = f\"nodes_{run_id}.json\"\n",
    "            nodes_saver = nodesSaver()\n",
    "            nodes_json = nodes_saver.save_dataframe_nodes_to_json(\n",
    "                nodes_df,\n",
    "                paths=[os.path.join(run_output_dir, nodes_filename)],\n",
    "                return_json=True,\n",
    "                attributes=[\n",
    "                    \"doi\",\n",
    "                    \"year\",\n",
    "                    \"title\",\n",
    "                    \"cluster\",\n",
    "                    \"centrality\",\n",
    "                    \"x\",\n",
    "                    \"y\",\n",
    "                    \"z\",\n",
    "                    \"node_index\",\n",
    "                ],\n",
    "            )\n",
    "            end_time = time.time()\n",
    "            runtime = end_time - start_time\n",
    "            results.append(\n",
    "                {\n",
    "                    \"RUN\": i + 1,\n",
    "                    \"run_id\": run_id,\n",
    "                    \"parameters\": {\n",
    "                        \"min_edge_length_percentile\": min_edge_length_percentile,\n",
    "                        \"initial_bandwidth\": initial_bandwidth,\n",
    "                        \"decay\": decay,\n",
    "                        \"tension\": tension,\n",
    "                        \"min_segment_length\": min_segment_length,\n",
    "                    },\n",
    "                    \"edges_bundled\": int(edges_to_bundle.sum()),\n",
    "                    \"runtime\": runtime,\n",
    "                    \"output_dir\": run_output_dir,\n",
    "                }\n",
    "            )\n",
    "\n",
    "            print(f\"Run completed in {runtime:.2f} seconds\")\n",
    "            # print(f\"Results saved in {run_output_dir}\")\n",
    "\n",
    "        except Exception as e:\n",
    "            print(f\"Error in run: {str(e)}\")\n",
    "\n",
    "    print(f\"\\nTotal time taken: {time.time() - global_start_time:.2f} seconds\")\n",
    "    results.append({\"total_runtime\": str(time.time() - global_start_time)})\n",
    "\n",
    "    # Save summary of all runs\n",
    "    summary_file = os.path.join(base_output_dir, \"exploration_summary.json\")\n",
    "    with open(summary_file, \"w\") as f:\n",
    "        json.dump(results, f, indent=2)\n",
    "\n",
    "    return results"
   ]
  },
  {
   "cell_type": "code",
   "execution_count": 56,
   "metadata": {},
   "outputs": [
    {
     "name": "stdout",
     "output_type": "stream",
     "text": [
      "Nr of all possible combinations: 48\n",
      "Selected Combinations:\n",
      "(30, 0.2, 0.75, 0.1, 0.01)\n",
      "(30, 0.2, 0.25, 0.1, 0.01)\n",
      "(30, 0.025, 0.25, 0.3, 0.01)\n",
      "(15, 0.05, 0.5, 0.3, 0.01)\n",
      "(30, 0.025, 0.75, 0.3, 0.01)\n",
      "\n",
      "Run 1/5\n",
      "Parameters: \n",
      " min_edge_length_percentile=30\n",
      " initial_bandwidth=0.2\n",
      " decay=0.75\n",
      " tension=0.1\n",
      " min_segment_length=0.01\n",
      "Total Nr of Pruned Edges: 297\n",
      "Edges to Bundle: 208\n",
      "Process Bundling\n",
      "Start Bundling\n"
     ]
    }
   ],
   "source": [
    "# Assuming edges_df and nodes_df are already defined\n",
    "params = {\n",
    "    \"min_edge_length_percentiles\": [15, 30],  #  [15],\n",
    "    \"initial_bandwidth_values\": [0.025, 0.05, 0.10, 0.2],  #  [0.05],\n",
    "    \"decay_values\": [0.75, 0.5, 0.25],  #  [0.5],\n",
    "    \"tension_values\": [0.3, 0.1],  # [0.3],\n",
    "    \"min_segment_length_values\": [0.01],\n",
    "}\n",
    "\n",
    "base_output_dir = OUTPUT_DIR + \"ParamsFinding\"\n",
    "\n",
    "num_runs = 5\n",
    "\n",
    "results = explore_hammer_bundle_params(\n",
    "    edge_df_with_source_target_coords,\n",
    "    nodes_df,\n",
    "    params,\n",
    "    num_runs=5,\n",
    "    base_output_dir=base_output_dir,\n",
    ")"
   ]
  },
  {
   "cell_type": "code",
   "execution_count": 50,
   "metadata": {},
   "outputs": [
    {
     "data": {
      "text/plain": [
       "[{'run_id': 'run_1_perc15_bw0.05_d0.5_t0.3_msl0.01',\n",
       "  'parameters': {'min_edge_length_percentile': 15,\n",
       "   'initial_bandwidth': 0.05,\n",
       "   'decay': 0.5,\n",
       "   'tension': 0.3,\n",
       "   'min_segment_length': 0.01},\n",
       "  'edges_bundled': 252,\n",
       "  'runtime': 38.985087156295776,\n",
       "  'output_dir': '../data/09-threeJs/ParamsFinding/run_1_perc15_bw0.05_d0.5_t0.3_msl0.01'},\n",
       " {'total_runtime': '38.98729872703552'}]"
      ]
     },
     "execution_count": 50,
     "metadata": {},
     "output_type": "execute_result"
    }
   ],
   "source": [
    "results"
   ]
  }
 ],
 "metadata": {
  "kernelspec": {
   "display_name": "condavenv",
   "language": "python",
   "name": "python3"
  },
  "language_info": {
   "codemirror_mode": {
    "name": "ipython",
    "version": 3
   },
   "file_extension": ".py",
   "mimetype": "text/x-python",
   "name": "python",
   "nbconvert_exporter": "python",
   "pygments_lexer": "ipython3",
   "version": "3.11.8"
  }
 },
 "nbformat": 4,
 "nbformat_minor": 2
}
