{
 "cells": [
  {
   "cell_type": "markdown",
   "metadata": {},
   "source": [
    "# Prepare Analysis Dataset\n"
   ]
  },
  {
   "cell_type": "markdown",
   "metadata": {},
   "source": [
    "### Things in this Notebook:\n",
    "\n",
    "1. Remove all papers that belong to clusters that are either\n",
    "\n",
    "   a. too small (less than 50 papers)\n",
    "\n",
    "   b. belonging to a noise cluster\n",
    "\n",
    "2. Remove these clusters from the tree hierarchy and cluster label dictionary\n",
    "3. Remove these papers from the paper dictionary\n",
    "4. Create a legend for three js\n",
    "5. Create the file for D3js visualization (tree and dendrogram)\n"
   ]
  },
  {
   "cell_type": "code",
   "execution_count": 7,
   "metadata": {},
   "outputs": [],
   "source": [
    "import json\n",
    "import os\n",
    "\n",
    "import igraph as ig\n",
    "import pandas as pd\n",
    "from dotenv import load_dotenv\n",
    "\n",
    "# Load environment variables from .env file\n",
    "load_dotenv()\n",
    "\n",
    "# Access environment variables\n",
    "python_path = os.getenv('PYTHONPATH')\n",
    "data_dir = os.getenv('DATA_DIR')\n",
    "src_dir = os.getenv('SRC_DIR')\n",
    "output_dir = os.getenv('OUTPUT_DIR')\n",
    "threejs_dir = os.getenv('THREEJS_OUTPUT_DIR')\n"
   ]
  },
  {
   "cell_type": "code",
   "execution_count": 8,
   "metadata": {},
   "outputs": [],
   "source": [
    "path = output_dir + \"/cluster-qualifications_2025/cluster-label-tree/cluster_labels_tags_full_raw.json\"\n",
    "with open(path, \"r\") as f:\n",
    "    cluster_labels_tags = json.load(f)\n",
    "\n",
    "path = (\n",
    "    output_dir + \"/cluster-qualifications_2025/cluster-label-tree/cluster_labels_full_raw.json\"\n",
    ")\n",
    "with open(path, \"r\") as f:\n",
    "    cluster_labels = json.load(f)\n",
    "\n",
    "path = output_dir + \"/cluster-qualifications_2025/cluster-label-tree/cluster_tree_full_raw.json\"\n",
    "with open(path, \"r\") as f:\n",
    "    cluster_tree = json.load(f)\n"
   ]
  },
  {
   "cell_type": "markdown",
   "metadata": {},
   "source": [
    "### removing the procedural/noise clusters (tag 9), and those with less than 50 papers.\n"
   ]
  },
  {
   "cell_type": "code",
   "execution_count": 9,
   "metadata": {},
   "outputs": [
    {
     "name": "stderr",
     "output_type": "stream",
     "text": [
      "/var/folders/6m/zjbwrdgj0bg9zyhx3l7134mm0000gn/T/ipykernel_12625/1921637558.py:4: RuntimeWarning: Could not add vertex ids, there is already an 'id' vertex attribute. at src/io/graphml.c:488\n",
      "  g = ig.Graph.Read_GraphML(pg)\n"
     ]
    }
   ],
   "source": [
    "pg = data_dir + \"/07-clustered-graphs/2025/FINAL_alpha0.3_k10_res0.002_iterations400.graphml\"\n",
    "\n",
    "\n",
    "g = ig.Graph.Read_GraphML(pg)\n",
    "\n",
    "pdf = data_dir + \"/06-clustered-df/2025/FINAL_alpha0.3_k10_res0.002_iterations400.pkl\"\n",
    "df = pd.read_pickle(pdf)\n"
   ]
  },
  {
   "cell_type": "code",
   "execution_count": 10,
   "metadata": {},
   "outputs": [
    {
     "name": "stdout",
     "output_type": "stream",
     "text": [
      "Noise Clusters: ['98', '140', '142', '143']\n",
      "98 : Gatways to Clinical Trials\n",
      "140 : Gateways to Clinical Trials\n",
      "142 : Fewer than 10\n",
      "143 : Fewer than 10\n",
      "==================================================\n",
      "Too Few Papers Clusters (<100): ['100', '101', '102', '103', '104', '105', '106', '107', '108', '109', '110', '111', '112', '113', '114', '115', '116', '117', '118', '119', '120', '121', '122', '123', '124', '125', '126', '127', '128', '129', '130', '131', '132', '133', '134', '135', '136', '137', '138', '139', '140', '141', '142', '143']\n",
      "100 : Folate for Depression\n",
      "101 : SSRIs for Depression in Patients with Kidney Disease\n",
      "102 : Psilocybin for Depression\n",
      "103 : SSRIs Effect on Reinforcement Learning in Rodents\n",
      "104 : SSRIs for Behavioral Addictions\n",
      "105 : St. John's Wort for Depression\n",
      "106 : SSRIs for Migraine\n",
      "107 : Vilazodone for Depression\n",
      "108 : SSRIs for Dysthymia\n",
      "109 : SSRIs for Enuresis\n",
      "110 : Paroxetines as G Protein-coupled Receptor Kinase 2 (GRK2) Inhibitor\n",
      "111 : SSRIs for Trichotillomania\n",
      "112 : Transcranial Direct Current Stimulation (tDCS) for Depression\n",
      "113 : SSRIs for Burning Mouth Syndrome\n",
      "114 : SSRIs for Depression in Patients with Chronic Obstructive Pulmonary Disease (COPD)\n",
      "115 : SSRIs for the Mangement of Multiple Sclerosis\n",
      "116 : SSRIs for Interferon-Induced Depression\n",
      "117 : SSRIs for Depression in HIV-positive Patients\n",
      "118 : Acupuncture for Depression\n",
      "119 : SSRIs for Syncope\n",
      "120 : SSRIs for Smoking Cessation\n",
      "121 : Loudness Dependence of Auditory Evoked Potentials (LDAEP) as Biomarker for Depression\n",
      "122 : SSRIs for Tinnitus \n",
      "123 : Exercise for Depression\n",
      "124 : SSRI-Methylphenidate Interactions\n",
      "125 : SSRIs for Narcolepsy\n",
      "126 : SSRIs for OCD-like behaviors\n",
      "127 : SSRIs in the Treatment of Huntington Disease\n",
      "128 : SSRIs for Congenital Myasthenic Syndrome (SCCMS)\n",
      "129 : Tryptophan Depletion in Depression\n",
      "130 : Risk of Microscopic Colitis\n",
      "131 : Herbal Remedies for SSRI-Induced Sexual Dysfunction\n",
      "132 : Adulterants of SSRIs in Weight Loss Supplements\n",
      "133 : SSRIs for Mutism\n",
      "134 : SSRIs for Tourette's Syndrome\n",
      "135 : Childhood Trauma and Antidepressant Response\n",
      "136 : SSRIs Risk of Apathy syndrome\n",
      "137 : Serotonin Transporter in Primate Models\n",
      "138 : Blood-Brain Barrier Drug Transport\n",
      "139 : Polypharmacy Effects in Aging Models\n",
      "140 : Gateways to Clinical Trials\n",
      "141 : SSRIs for Infertile Women\n",
      "142 : Fewer than 10\n",
      "143 : Fewer than 10\n"
     ]
    }
   ],
   "source": [
    "# cluster with less than 100 (from 100) or 50 (from 125) papers:\n",
    "#clusters_too_few_papers = list(range(125,144))\n",
    "clusters_too_few_papers = list(range(100,144))\n",
    "# Convert to strings to match the keys in cluster_labels_tags\n",
    "clusters_too_few_papers = [str(i) for i in clusters_too_few_papers]\n",
    "\n",
    "noise_clusters = [\n",
    "    cluster for cluster, [_, tag] in cluster_labels_tags.items() if tag == 9\n",
    "]\n",
    "print(\"Noise Clusters:\", noise_clusters)\n",
    "for i in noise_clusters:\n",
    "    print(i, \":\", cluster_labels_tags[i][0])\n",
    "print(\"=\" * 50)\n",
    "print(\"Too Few Papers Clusters (<100):\", clusters_too_few_papers)\n",
    "for i in clusters_too_few_papers:\n",
    "    print(i, \":\", cluster_labels_tags[i][0])\n",
    "\n",
    "# Convert all to strings consistently for comparison\n",
    "clusters_to_remove = clusters_too_few_papers + noise_clusters\n"
   ]
  },
  {
   "cell_type": "markdown",
   "metadata": {},
   "source": [
    "### update dataframe\n"
   ]
  },
  {
   "cell_type": "code",
   "execution_count": null,
   "metadata": {},
   "outputs": [
    {
     "name": "stdout",
     "output_type": "stream",
     "text": [
      "Before removal: (38961, 38)\n",
      "After removal: (36510, 38)\n"
     ]
    }
   ],
   "source": [
    "print(\"Before removal:\", df.shape)\n",
    "\n",
    "# Convert column values to strings for proper comparison with string cluster IDs\n",
    "# Handle float values by converting to integer first if they're whole numbers\n",
    "df[\"cluster_alpha0.3_k10_res0.002\"] = df[\"cluster_alpha0.3_k10_res0.002\"].apply(\n",
    "    lambda x: str(int(x)) if isinstance(x, float) and x.is_integer() else str(x)\n",
    ")\n",
    "df_analysis = df[~df[\"cluster_alpha0.3_k10_res0.002\"].isin(clusters_to_remove)]\n",
    "print(\"After removal:\", df_analysis.shape)\n",
    "df_analysis.to_pickle(data_dir + \"/08-analysis-data/2025/df_analysis.pkl\")\n"
   ]
  },
  {
   "cell_type": "markdown",
   "metadata": {},
   "source": [
    "### update graph\n"
   ]
  },
  {
   "cell_type": "code",
   "execution_count": null,
   "metadata": {},
   "outputs": [
    {
     "name": "stdout",
     "output_type": "stream",
     "text": [
      "Before removal:\n",
      "Number of vertices: 38961\n",
      "Number of edges: 584576\n",
      "\n",
      "After removal:\n",
      "Number of vertices: 36510\n",
      "Number of edges: 551227\n"
     ]
    }
   ],
   "source": [
    "initial_num_vertices = g.vcount()\n",
    "initial_num_edges = g.ecount()\n",
    "\n",
    "# Convert the graph vertex cluster properties to strings if needed\n",
    "# Handle both int and float cluster values\n",
    "for v in g.vs:\n",
    "    if \"cluster\" in v.attributes():\n",
    "        # Convert float values like 19.0 to \"19\" (no decimal)\n",
    "        if isinstance(v[\"cluster\"], float) and v[\"cluster\"].is_integer():\n",
    "            v[\"cluster\"] = str(int(v[\"cluster\"]))\n",
    "        else:\n",
    "            v[\"cluster\"] = str(v[\"cluster\"])\n",
    "\n",
    "# Use string comparison consistently\n",
    "nodes_to_remove = [v.index for v in g.vs if v[\"cluster\"] in clusters_to_remove]\n",
    "# Delete the identified nodes from the graph\n",
    "g.delete_vertices(nodes_to_remove)\n",
    "# Get the number of vertices and edges after removal\n",
    "final_num_vertices = g.vcount()\n",
    "final_num_edges = g.ecount()\n",
    "# Save the graph\n",
    "g.write_graphml(data_dir + \"/08-analysis-data/2025/graph_analysis.graphml\")\n",
    "# Display the results\n",
    "print(\"Before removal:\")\n",
    "print(f\"Number of vertices: {initial_num_vertices}\")\n",
    "print(f\"Number of edges: {initial_num_edges}\")\n",
    "print(\"\\nAfter removal:\")\n",
    "print(f\"Number of vertices: {final_num_vertices}\")\n",
    "print(f\"Number of edges: {final_num_edges}\")\n"
   ]
  }
 ],
 "metadata": {
  "kernelspec": {
   "display_name": "condavenv",
   "language": "python",
   "name": "python3"
  },
  "language_info": {
   "codemirror_mode": {
    "name": "ipython",
    "version": 3
   },
   "file_extension": ".py",
   "mimetype": "text/x-python",
   "name": "python",
   "nbconvert_exporter": "python",
   "pygments_lexer": "ipython3",
   "version": "3.11.8"
  }
 },
 "nbformat": 4,
 "nbformat_minor": 2
}
