{
 "cells": [
  {
   "cell_type": "code",
   "execution_count": 3,
   "metadata": {},
   "outputs": [
    {
     "name": "stdout",
     "output_type": "stream",
     "text": [
      "The autoreload extension is already loaded. To reload it, use:\n",
      "  %reload_ext autoreload\n"
     ]
    }
   ],
   "source": [
    "%load_ext autoreload\n",
    "%autoreload 2"
   ]
  },
  {
   "cell_type": "code",
   "execution_count": 4,
   "metadata": {},
   "outputs": [],
   "source": [
    "import matplotlib.pyplot as plt\n",
    "import colorcet as cc\n",
    "import networkx as nx\n",
    "import pandas as pd\n",
    "import plotly.graph_objects as go\n",
    "import sys\n",
    "from dash import Dash, html\n",
    "import dash_cytoscape as cytov\n",
    "import igraph as ig\n",
    "from IPython.display import Image\n",
    "\n",
    "sys.path.append(\"/Users/jlq293/Projects/Study-1-Bibliometrics/src/main_path/\")\n",
    "\n",
    "from MainPathReader import MainPathReader\n",
    "from MainPathDataAssigner import MainPathDataAssigner\n",
    "from MainPathPlotterStatic import MainPathPlotterStatic\n",
    "from MainPathPlotterInteractive import MainPathPlotterInteractive"
   ]
  },
  {
   "cell_type": "markdown",
   "metadata": {},
   "source": [
    "# load and prep data\n"
   ]
  },
  {
   "cell_type": "code",
   "execution_count": 8,
   "metadata": {},
   "outputs": [
    {
     "name": "stdout",
     "output_type": "stream",
     "text": [
      "DiGraph with 169 nodes and 203 edges\n",
      "('1', {'label': 'Magnussen_1982', 'x': '0.9534', 'y': '0.6944', 'size': '0.5000', 'shape': 'ellipse', 'eid': '2-s2.0-0019996341'})\n"
     ]
    }
   ],
   "source": [
    "params = \"alpha0.3_k20_res0.006\"\n",
    "p = f\"../data/06-clustered-df/{params}.pkl\"\n",
    "df = pd.read_pickle(p)\n",
    "\n",
    "path_to_main_path = (\n",
    "    \"../data/08-main-paths/3. Key-Route Global Main Path [100-150] of N2 (169).net\"\n",
    ")\n",
    "mp_reader = MainPathReader(\n",
    "    path_to_main_path,\n",
    "    node_attributes=[\n",
    "        \"eid\",\n",
    "    ],\n",
    ")\n",
    "Gmp = mp_reader.get_graph()\n",
    "print(list(Gmp.nodes(data=True))[0])"
   ]
  },
  {
   "cell_type": "code",
   "execution_count": 16,
   "metadata": {},
   "outputs": [
    {
     "name": "stdout",
     "output_type": "stream",
     "text": [
      "('1', {'label': 'Magnussen_1982', 'eid': '2-s2.0-0019996341', 'title': 'Treatment of myoclonic syndromes with paroxetine alone or combined with 5‐HTP', 'citedby_count': '13', 'doi': '10.1111/j.1600-0404.1982.tb04525.x', 'year': '1982', 'cluster': '57', 'centrality': '0.053737004306467086'})\n",
      "Nr of clusters in Gmp: 31\n"
     ]
    }
   ],
   "source": [
    "attr_to_assign = [\n",
    "    \"title\",\n",
    "    \"citedby_count\",\n",
    "    \"doi\",\n",
    "    \"year\",\n",
    "    f\"cluster_{params}\",\n",
    "    f\"centrality_{params}\",\n",
    "]\n",
    "\n",
    "data_assigner = MainPathDataAssigner(Gmp, df, attr_to_assign)\n",
    "Gmp = data_assigner.process_mp(attr_to_remove=[\"x\", \"y\", \"size\", \"shape\"])\n",
    "# rename to 'cluster'\n",
    "nx.set_node_attributes(Gmp, nx.get_node_attributes(Gmp, f\"cluster_{params}\"), \"cluster\")\n",
    "nx.set_node_attributes(\n",
    "    Gmp, nx.get_node_attributes(Gmp, f\"centrality_{params}\"), \"centrality\"\n",
    ")\n",
    "\n",
    "# remove old cluster attribute\n",
    "# Attribute to remove\n",
    "attributes_to_remove = [f\"cluster_{params}\", f\"centrality_{params}\"]\n",
    "# Loop through nodes and delete the attribute\n",
    "for node in Gmp.nodes():\n",
    "    for attr in attributes_to_remove:\n",
    "        if attr in Gmp.nodes[node]:\n",
    "            del Gmp.nodes[node][attr]\n",
    "\n",
    "\n",
    "print(list(Gmp.nodes(data=True))[0])\n",
    "clusters = nx.get_node_attributes(Gmp, f\"cluster\").values()\n",
    "\n",
    "print(f\"Nr of clusters in Gmp: {len(set(clusters))}\")"
   ]
  },
  {
   "cell_type": "markdown",
   "metadata": {},
   "source": [
    "# static plot\n"
   ]
  },
  {
   "cell_type": "code",
   "execution_count": 10,
   "metadata": {},
   "outputs": [],
   "source": [
    "def convert_to_igraph(G):\n",
    "    return ig.Graph.from_networkx(G)\n",
    "\n",
    "\n",
    "def attribute_adapter(g):\n",
    "    g.vs[\"auth_year\"] = [v[\"label\"] for v in g.vs]\n",
    "    g.vs[\"label\"] = [\n",
    "        f\"{int(v['_nx_name'])-1},{v['cluster_alpha0.3_k10_res0.002']}\" for v in g.vs\n",
    "    ]\n",
    "    print(g.vs[0])\n",
    "    return g\n",
    "\n",
    "\n",
    "def prepare_layout(g):\n",
    "    layout = g.layout(\"kamada_kawai\")\n",
    "    return layout\n",
    "\n",
    "\n",
    "def prep_ig(G):\n",
    "    g = convert_to_igraph(G)\n",
    "    g = attribute_adapter(g)\n",
    "    layout = prepare_layout(g)\n",
    "    return g, layout"
   ]
  },
  {
   "cell_type": "code",
   "execution_count": 11,
   "metadata": {},
   "outputs": [
    {
     "ename": "KeyError",
     "evalue": "'Attribute does not exist'",
     "output_type": "error",
     "traceback": [
      "\u001b[0;31m---------------------------------------------------------------------------\u001b[0m",
      "\u001b[0;31mKeyError\u001b[0m                                  Traceback (most recent call last)",
      "Cell \u001b[0;32mIn[11], line 1\u001b[0m\n\u001b[0;32m----> 1\u001b[0m g, layout \u001b[38;5;241m=\u001b[39m prep_ig(Gmp)\n\u001b[1;32m      3\u001b[0m \u001b[38;5;66;03m# reverse the layout\u001b[39;00m\n\u001b[1;32m      4\u001b[0m layout\u001b[38;5;241m.\u001b[39mrotate(\u001b[38;5;241m180\u001b[39m)\n",
      "Cell \u001b[0;32mIn[10], line 21\u001b[0m, in \u001b[0;36mprep_ig\u001b[0;34m(G)\u001b[0m\n\u001b[1;32m     19\u001b[0m \u001b[38;5;28;01mdef\u001b[39;00m \u001b[38;5;21mprep_ig\u001b[39m(G):\n\u001b[1;32m     20\u001b[0m     g \u001b[38;5;241m=\u001b[39m convert_to_igraph(G)\n\u001b[0;32m---> 21\u001b[0m     g \u001b[38;5;241m=\u001b[39m attribute_adapter(g)\n\u001b[1;32m     22\u001b[0m     layout \u001b[38;5;241m=\u001b[39m prepare_layout(g)\n\u001b[1;32m     23\u001b[0m     \u001b[38;5;28;01mreturn\u001b[39;00m g, layout\n",
      "Cell \u001b[0;32mIn[10], line 7\u001b[0m, in \u001b[0;36mattribute_adapter\u001b[0;34m(g)\u001b[0m\n\u001b[1;32m      5\u001b[0m \u001b[38;5;28;01mdef\u001b[39;00m \u001b[38;5;21mattribute_adapter\u001b[39m(g):\n\u001b[1;32m      6\u001b[0m     g\u001b[38;5;241m.\u001b[39mvs[\u001b[38;5;124m\"\u001b[39m\u001b[38;5;124mauth_year\u001b[39m\u001b[38;5;124m\"\u001b[39m] \u001b[38;5;241m=\u001b[39m [v[\u001b[38;5;124m\"\u001b[39m\u001b[38;5;124mlabel\u001b[39m\u001b[38;5;124m\"\u001b[39m] \u001b[38;5;28;01mfor\u001b[39;00m v \u001b[38;5;129;01min\u001b[39;00m g\u001b[38;5;241m.\u001b[39mvs]\n\u001b[0;32m----> 7\u001b[0m     g\u001b[38;5;241m.\u001b[39mvs[\u001b[38;5;124m\"\u001b[39m\u001b[38;5;124mlabel\u001b[39m\u001b[38;5;124m\"\u001b[39m] \u001b[38;5;241m=\u001b[39m [\n\u001b[1;32m      8\u001b[0m         \u001b[38;5;124mf\u001b[39m\u001b[38;5;124m\"\u001b[39m\u001b[38;5;132;01m{\u001b[39;00m\u001b[38;5;28mint\u001b[39m(v[\u001b[38;5;124m'\u001b[39m\u001b[38;5;124m_nx_name\u001b[39m\u001b[38;5;124m'\u001b[39m])\u001b[38;5;241m-\u001b[39m\u001b[38;5;241m1\u001b[39m\u001b[38;5;132;01m}\u001b[39;00m\u001b[38;5;124m,\u001b[39m\u001b[38;5;132;01m{\u001b[39;00mv[\u001b[38;5;124m'\u001b[39m\u001b[38;5;124mcluster_alpha0.3_k10_res0.002\u001b[39m\u001b[38;5;124m'\u001b[39m]\u001b[38;5;132;01m}\u001b[39;00m\u001b[38;5;124m\"\u001b[39m \u001b[38;5;28;01mfor\u001b[39;00m v \u001b[38;5;129;01min\u001b[39;00m g\u001b[38;5;241m.\u001b[39mvs\n\u001b[1;32m      9\u001b[0m     ]\n\u001b[1;32m     10\u001b[0m     \u001b[38;5;28mprint\u001b[39m(g\u001b[38;5;241m.\u001b[39mvs[\u001b[38;5;241m0\u001b[39m])\n\u001b[1;32m     11\u001b[0m     \u001b[38;5;28;01mreturn\u001b[39;00m g\n",
      "Cell \u001b[0;32mIn[10], line 8\u001b[0m, in \u001b[0;36m<listcomp>\u001b[0;34m(.0)\u001b[0m\n\u001b[1;32m      5\u001b[0m \u001b[38;5;28;01mdef\u001b[39;00m \u001b[38;5;21mattribute_adapter\u001b[39m(g):\n\u001b[1;32m      6\u001b[0m     g\u001b[38;5;241m.\u001b[39mvs[\u001b[38;5;124m\"\u001b[39m\u001b[38;5;124mauth_year\u001b[39m\u001b[38;5;124m\"\u001b[39m] \u001b[38;5;241m=\u001b[39m [v[\u001b[38;5;124m\"\u001b[39m\u001b[38;5;124mlabel\u001b[39m\u001b[38;5;124m\"\u001b[39m] \u001b[38;5;28;01mfor\u001b[39;00m v \u001b[38;5;129;01min\u001b[39;00m g\u001b[38;5;241m.\u001b[39mvs]\n\u001b[1;32m      7\u001b[0m     g\u001b[38;5;241m.\u001b[39mvs[\u001b[38;5;124m\"\u001b[39m\u001b[38;5;124mlabel\u001b[39m\u001b[38;5;124m\"\u001b[39m] \u001b[38;5;241m=\u001b[39m [\n\u001b[0;32m----> 8\u001b[0m         \u001b[38;5;124mf\u001b[39m\u001b[38;5;124m\"\u001b[39m\u001b[38;5;132;01m{\u001b[39;00m\u001b[38;5;28mint\u001b[39m(v[\u001b[38;5;124m'\u001b[39m\u001b[38;5;124m_nx_name\u001b[39m\u001b[38;5;124m'\u001b[39m])\u001b[38;5;241m-\u001b[39m\u001b[38;5;241m1\u001b[39m\u001b[38;5;132;01m}\u001b[39;00m\u001b[38;5;124m,\u001b[39m\u001b[38;5;132;01m{\u001b[39;00mv[\u001b[38;5;124m'\u001b[39m\u001b[38;5;124mcluster_alpha0.3_k10_res0.002\u001b[39m\u001b[38;5;124m'\u001b[39m]\u001b[38;5;132;01m}\u001b[39;00m\u001b[38;5;124m\"\u001b[39m \u001b[38;5;28;01mfor\u001b[39;00m v \u001b[38;5;129;01min\u001b[39;00m g\u001b[38;5;241m.\u001b[39mvs\n\u001b[1;32m      9\u001b[0m     ]\n\u001b[1;32m     10\u001b[0m     \u001b[38;5;28mprint\u001b[39m(g\u001b[38;5;241m.\u001b[39mvs[\u001b[38;5;241m0\u001b[39m])\n\u001b[1;32m     11\u001b[0m     \u001b[38;5;28;01mreturn\u001b[39;00m g\n",
      "\u001b[0;31mKeyError\u001b[0m: 'Attribute does not exist'"
     ]
    }
   ],
   "source": [
    "g, layout = prep_ig(Gmp)\n",
    "\n",
    "# reverse the layout\n",
    "layout.rotate(180)\n",
    "\n",
    "\n",
    "def change_position(layout, node, x_change, y_change):\n",
    "    x = layout[node][0] + x_change\n",
    "    y = layout[node][1] + y_change\n",
    "    layout[node] = (x, y)\n",
    "    return layout\n",
    "\n",
    "\n",
    "layout = change_position(layout, 20, -0.2, -0.1)\n",
    "#\n",
    "# for i in range(0, 70):\n",
    "#    layout = change_position(layout, i, 1.20, 0)\n",
    "\n",
    "\n",
    "# Plot with margins\n",
    "plot = ig.plot(\n",
    "    g,\n",
    "    layout=layout,\n",
    "    bbox=[2000, 3500],\n",
    "    labels=True,\n",
    "    vertex_size=50,\n",
    "    font_size=10,\n",
    "    vertex_color=colors,\n",
    "    vertex_label=[str(node) for node in g.vs[\"label\"]],\n",
    "    arrow_size=0.0001,\n",
    "    margin=100,\n",
    ")\n",
    "\n",
    "# Save or display the plot\n",
    "filename = \"/Users/jlq293/Projects/Study-1-Bibliometrics/output/figures/main-paths/graph_plot.png\"\n",
    "plot.save(filename)\n",
    "plot"
   ]
  }
 ],
 "metadata": {
  "kernelspec": {
   "display_name": "Study1Analysis",
   "language": "python",
   "name": "python3"
  },
  "language_info": {
   "codemirror_mode": {
    "name": "ipython",
    "version": 3
   },
   "file_extension": ".py",
   "mimetype": "text/x-python",
   "name": "python",
   "nbconvert_exporter": "python",
   "pygments_lexer": "ipython3",
   "version": "3.11.3"
  }
 },
 "nbformat": 4,
 "nbformat_minor": 2
}
