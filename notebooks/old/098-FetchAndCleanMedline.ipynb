{
 "cells": [
  {
   "cell_type": "markdown",
   "metadata": {},
   "source": [
    "# Fetch PMIDs from Medline\n"
   ]
  },
  {
   "cell_type": "code",
   "execution_count": 1,
   "metadata": {},
   "outputs": [],
   "source": [
    "from src.data.QueryMedlineForPMIDs import PMIDsFromQuery"
   ]
  },
  {
   "cell_type": "code",
   "execution_count": 2,
   "metadata": {},
   "outputs": [
    {
     "name": "stdout",
     "output_type": "stream",
     "text": [
      "Using default query:\n",
      "('selective serotonin reuptake inhibitor'[Title/Abstract] OR ('ssri'[Title/Abstract] OR 'fluvoxamine'[Title/Abstract] OR 'fluoxetine'[Title/Abstract] OR 'citalopram'[Title/Abstract] OR 'paroxetine'[Title/Abstract] OR 'sertraline'[Title/Abstract] OR 'escitalopram'[Title/Abstract]) AND 1983/01/01:2022/12/31[Date - Publication] AND 'english'[Language] )\n",
      "In the range 1983 to 1987, we found 453 articles. We fetched 453 articles.\n",
      "In the range 1988 to 1992, we found 1464 articles. We fetched 1464 articles.\n",
      "In the range 1993 to 1997, we found 2823 articles. We fetched 2823 articles.\n",
      "In the range 1998 to 2002, we found 3876 articles. We fetched 3876 articles.\n",
      "In the range 2003 to 2007, we found 4983 articles. We fetched 4983 articles.\n",
      "In the range 2008 to 2012, we found 5594 articles. We fetched 5594 articles.\n",
      "In the range 2013 to 2017, we found 6258 articles. We fetched 6258 articles.\n",
      "In the range 2018 to 2022, we found 6509 articles. We fetched 6509 articles.\n",
      "In the range 2022 to 2022, we found 1536 articles. We fetched 1536 articles.\n",
      "In total, we found 31306 unique articles.\n"
     ]
    }
   ],
   "source": [
    "email = \"lukas.westphal@sund.ku.dk\"\n",
    "fetcher = PMIDsFromQuery(email)\n",
    "pubmed_ids = fetcher.get_pubmed_ids_from_query()"
   ]
  },
  {
   "cell_type": "code",
   "execution_count": 4,
   "metadata": {},
   "outputs": [
    {
     "name": "stdout",
     "output_type": "stream",
     "text": [
      "Number of PMIDs from query:  31306\n"
     ]
    }
   ],
   "source": [
    "flow0_all_pmids_from_query = pubmed_ids\n",
    "print(\"Number of PMIDs from query: \", len(flow0_all_pmids_from_query))"
   ]
  },
  {
   "cell_type": "markdown",
   "metadata": {},
   "source": [
    "#### save raw pmids\n"
   ]
  },
  {
   "cell_type": "code",
   "execution_count": 5,
   "metadata": {},
   "outputs": [],
   "source": [
    "# save the list of pubmed ids\n",
    "with open(\"../data/raw/medline/pubmed_ids.txt\", \"w\") as f:\n",
    "    f.write(\"\\n\".join(pubmed_ids))"
   ]
  },
  {
   "cell_type": "markdown",
   "metadata": {},
   "source": [
    "# remove pmids already in Scopus data\n"
   ]
  },
  {
   "cell_type": "code",
   "execution_count": 6,
   "metadata": {},
   "outputs": [],
   "source": [
    "import pandas as pd"
   ]
  },
  {
   "cell_type": "code",
   "execution_count": 8,
   "metadata": {},
   "outputs": [
    {
     "name": "stdout",
     "output_type": "stream",
     "text": [
      "Articles in Scopus: 37776\n",
      "Articles in Medline: 31306\n",
      "Articles in Scopus with a PMID:  29730\n"
     ]
    }
   ],
   "source": [
    "df_scopus = pd.read_parquet(\"../data/processed/scopus/scopus_data_processed.parquet\")\n",
    "\n",
    "pmids_from_scopus = df_scopus[\"pubmed_id\"].dropna().astype(int).astype(str).tolist()\n",
    "\n",
    "print(\"Articles in Scopus:\", len(df_scopus))\n",
    "print(\"Articles in Medline:\", len(pubmed_ids))\n",
    "\n",
    "print(\n",
    "    \"Articles in Scopus with a PMID: \", len(df_scopus[df_scopus[\"pubmed_id\"].notnull()])\n",
    ")"
   ]
  },
  {
   "cell_type": "code",
   "execution_count": 9,
   "metadata": {},
   "outputs": [],
   "source": [
    "def intersection_difference_union(pmids_in_pubmed, pmids_in_scopus):\n",
    "    print(f\"Total number of articles in PubMed: {len(pmids_in_pubmed)}\")\n",
    "    # create sets\n",
    "    pmids_in_pubmed_set = set(pmids_in_pubmed)\n",
    "    pmids_in_scopus_set = set(pmids_in_scopus)\n",
    "    print(\"Intersection (represented in both sets):\")\n",
    "    intersection_pmids = pmids_in_pubmed_set & pmids_in_scopus_set\n",
    "    print(f\"{len(intersection_pmids)}\")\n",
    "    print(\"Union (represented in either set):\")\n",
    "    union_pmids = pmids_in_pubmed_set | pmids_in_scopus_set\n",
    "    print(f\"{len(union_pmids)}\")\n",
    "    print(\"Difference (represented in one set but not the other):\")\n",
    "    pmids_in_scopus_only = pmids_in_scopus_set - pmids_in_pubmed_set\n",
    "    print(f\"Only in scopus: {len(pmids_in_scopus_only)}\")\n",
    "    pmids_in_pubmed_only = pmids_in_pubmed_set - pmids_in_scopus_set\n",
    "    print(f\"Only in pubmed: {len(pmids_in_pubmed_only)}\")\n",
    "    # print(\"returned those only in pubmed and the intersection.\")\n",
    "\n",
    "    return list(pmids_in_pubmed_only), list(intersection_pmids)"
   ]
  },
  {
   "cell_type": "code",
   "execution_count": 11,
   "metadata": {},
   "outputs": [
    {
     "name": "stdout",
     "output_type": "stream",
     "text": [
      "Total number of articles in PubMed: 31306\n",
      "Intersection (represented in both sets):\n",
      "26515\n",
      "Union (represented in either set):\n",
      "34515\n",
      "Difference (represented in one set but not the other):\n",
      "Only in scopus: 3209\n",
      "Only in pubmed: 4791\n"
     ]
    }
   ],
   "source": [
    "pmids_in_pubmed_only, intersection_pmids = intersection_difference_union(\n",
    "    pubmed_ids, pmids_from_scopus\n",
    ")\n",
    "\n",
    "flow2_all_pmids_from_query_not_in_scopus = pmids_in_pubmed_only"
   ]
  },
  {
   "cell_type": "markdown",
   "metadata": {},
   "source": [
    "# Fetch article details from Medline\n"
   ]
  },
  {
   "cell_type": "code",
   "execution_count": 12,
   "metadata": {},
   "outputs": [],
   "source": [
    "from src.data.QueryMedlineForArticleDetails import ArticleDetailsFromPMID"
   ]
  },
  {
   "cell_type": "code",
   "execution_count": 13,
   "metadata": {},
   "outputs": [
    {
     "name": "stdout",
     "output_type": "stream",
     "text": [
      "Fetching details for 4791 articles in batches of 100...\n"
     ]
    },
    {
     "name": "stderr",
     "output_type": "stream",
     "text": [
      "100%|██████████| 48/48 [01:25<00:00,  1.78s/it]\n"
     ]
    },
    {
     "data": {
      "text/html": [
       "<div>\n",
       "<style scoped>\n",
       "    .dataframe tbody tr th:only-of-type {\n",
       "        vertical-align: middle;\n",
       "    }\n",
       "\n",
       "    .dataframe tbody tr th {\n",
       "        vertical-align: top;\n",
       "    }\n",
       "\n",
       "    .dataframe thead th {\n",
       "        text-align: right;\n",
       "    }\n",
       "</style>\n",
       "<table border=\"1\" class=\"dataframe\">\n",
       "  <thead>\n",
       "    <tr style=\"text-align: right;\">\n",
       "      <th></th>\n",
       "      <th>title</th>\n",
       "      <th>year</th>\n",
       "      <th>url</th>\n",
       "      <th>abstract</th>\n",
       "      <th>doi</th>\n",
       "      <th>journal</th>\n",
       "      <th>authors</th>\n",
       "      <th>keywords</th>\n",
       "      <th>pubmed_id</th>\n",
       "      <th>publication_type</th>\n",
       "      <th>raw_xml</th>\n",
       "    </tr>\n",
       "  </thead>\n",
       "  <tbody>\n",
       "    <tr>\n",
       "      <th>0</th>\n",
       "      <td>A comparison of citalopram and paroxetine in t...</td>\n",
       "      <td>2001</td>\n",
       "      <td>https://pubmed.ncbi.nlm.nih.gov/11434404/</td>\n",
       "      <td>Serotonin Selective Re-uptake Inhibitors (SSRI...</td>\n",
       "      <td>None</td>\n",
       "      <td>Pharmacopsychiatry</td>\n",
       "      <td>[Perna, G, Bertani, A, Caldirola, D, Smeraldi,...</td>\n",
       "      <td>[]</td>\n",
       "      <td>11434404</td>\n",
       "      <td>Clinical Trial</td>\n",
       "      <td>&lt;?xml version=\"1.0\" ?&gt;\\n&lt;!DOCTYPE PubmedArticl...</td>\n",
       "    </tr>\n",
       "    <tr>\n",
       "      <th>1</th>\n",
       "      <td>Chronic schizophrenia: response to clozapine, ...</td>\n",
       "      <td>1997</td>\n",
       "      <td>https://pubmed.ncbi.nlm.nih.gov/9090343/</td>\n",
       "      <td>None</td>\n",
       "      <td>None</td>\n",
       "      <td>The American journal of psychiatry</td>\n",
       "      <td>[Patel, J K, Salzman, C, Green, A I, Tsuang, M T]</td>\n",
       "      <td>[]</td>\n",
       "      <td>9090343</td>\n",
       "      <td>Case Reports</td>\n",
       "      <td>&lt;?xml version=\"1.0\" ?&gt;\\n&lt;!DOCTYPE PubmedArticl...</td>\n",
       "    </tr>\n",
       "    <tr>\n",
       "      <th>2</th>\n",
       "      <td>Multigram-scale flow synthesis of the chiral k...</td>\n",
       "      <td>2019</td>\n",
       "      <td>https://pubmed.ncbi.nlm.nih.gov/32206263/</td>\n",
       "      <td>The catalytic enantioselective synthesis of th...</td>\n",
       "      <td>10.1039/c9sc04752b</td>\n",
       "      <td>Chemical science</td>\n",
       "      <td>[Ötvös, Sándor B, Pericàs, Miquel A, Kappe, C ...</td>\n",
       "      <td>[]</td>\n",
       "      <td>32206263</td>\n",
       "      <td>Journal Article</td>\n",
       "      <td>&lt;?xml version=\"1.0\" ?&gt;\\n&lt;!DOCTYPE PubmedArticl...</td>\n",
       "    </tr>\n",
       "    <tr>\n",
       "      <th>3</th>\n",
       "      <td>Preliminary trial of photic stimulation for pr...</td>\n",
       "      <td>1997</td>\n",
       "      <td>https://pubmed.ncbi.nlm.nih.gov/15511777/</td>\n",
       "      <td>In an open study 17 women with confirmed, seve...</td>\n",
       "      <td>None</td>\n",
       "      <td>Journal of obstetrics and gynaecology : the jo...</td>\n",
       "      <td>[Anderson, D J, Legg, N J, Ridout, D A]</td>\n",
       "      <td>[]</td>\n",
       "      <td>15511777</td>\n",
       "      <td>Journal Article</td>\n",
       "      <td>&lt;?xml version=\"1.0\" ?&gt;\\n&lt;!DOCTYPE PubmedArticl...</td>\n",
       "    </tr>\n",
       "    <tr>\n",
       "      <th>4</th>\n",
       "      <td>GSK is fined £38m for delaying generic paroxet...</td>\n",
       "      <td>2016</td>\n",
       "      <td>https://pubmed.ncbi.nlm.nih.gov/26873503/</td>\n",
       "      <td>None</td>\n",
       "      <td>10.1136/bmj.i917</td>\n",
       "      <td>BMJ (Clinical research ed.)</td>\n",
       "      <td>[Dyer, Clare]</td>\n",
       "      <td>[]</td>\n",
       "      <td>26873503</td>\n",
       "      <td>News</td>\n",
       "      <td>&lt;?xml version=\"1.0\" ?&gt;\\n&lt;!DOCTYPE PubmedArticl...</td>\n",
       "    </tr>\n",
       "    <tr>\n",
       "      <th>...</th>\n",
       "      <td>...</td>\n",
       "      <td>...</td>\n",
       "      <td>...</td>\n",
       "      <td>...</td>\n",
       "      <td>...</td>\n",
       "      <td>...</td>\n",
       "      <td>...</td>\n",
       "      <td>...</td>\n",
       "      <td>...</td>\n",
       "      <td>...</td>\n",
       "      <td>...</td>\n",
       "    </tr>\n",
       "    <tr>\n",
       "      <th>4712</th>\n",
       "      <td>The Effect of Selective Serotonin Releasing Ag...</td>\n",
       "      <td>1997</td>\n",
       "      <td>https://pubmed.ncbi.nlm.nih.gov/9787258/</td>\n",
       "      <td>Chronic exposure to mild unpredictable stress ...</td>\n",
       "      <td>None</td>\n",
       "      <td>Stress (Amsterdam, Netherlands)</td>\n",
       "      <td>[Marona-Lewicka, D, Nichols, DE]</td>\n",
       "      <td>[]</td>\n",
       "      <td>9787258</td>\n",
       "      <td>Journal Article</td>\n",
       "      <td>&lt;?xml version=\"1.0\" ?&gt;\\n&lt;!DOCTYPE PubmedArticl...</td>\n",
       "    </tr>\n",
       "    <tr>\n",
       "      <th>4713</th>\n",
       "      <td>Electroacupuncture as a rapid-onset and safer ...</td>\n",
       "      <td>2022</td>\n",
       "      <td>https://pubmed.ncbi.nlm.nih.gov/36684018/</td>\n",
       "      <td>Electroacupuncture (EA) is a promising therapy...</td>\n",
       "      <td>10.3389/fpsyt.2022.1012606</td>\n",
       "      <td>Frontiers in psychiatry</td>\n",
       "      <td>[Zhang, Zhinan, Cai, Xiaowen, Liang, Yuying, Z...</td>\n",
       "      <td>[depression, electroacupuncture, meta-analysis...</td>\n",
       "      <td>36684018</td>\n",
       "      <td>Systematic Review</td>\n",
       "      <td>&lt;?xml version=\"1.0\" ?&gt;\\n&lt;!DOCTYPE PubmedArticl...</td>\n",
       "    </tr>\n",
       "    <tr>\n",
       "      <th>4714</th>\n",
       "      <td>Comparison of sertraline to fluoxetine with re...</td>\n",
       "      <td>1999</td>\n",
       "      <td>https://pubmed.ncbi.nlm.nih.gov/10633973/</td>\n",
       "      <td>In the present study, two different serotonin ...</td>\n",
       "      <td>None</td>\n",
       "      <td>Archivos espanoles de urologia</td>\n",
       "      <td>[Murat Başar, M, Atan, A, Yildiz, M, Baykam, M...</td>\n",
       "      <td>[]</td>\n",
       "      <td>10633973</td>\n",
       "      <td>Clinical Trial</td>\n",
       "      <td>&lt;?xml version=\"1.0\" ?&gt;\\n&lt;!DOCTYPE PubmedArticl...</td>\n",
       "    </tr>\n",
       "    <tr>\n",
       "      <th>4715</th>\n",
       "      <td>Predicting Treatment Outcome in Major Depressi...</td>\n",
       "      <td>2020</td>\n",
       "      <td>https://pubmed.ncbi.nlm.nih.gov/32792991/</td>\n",
       "      <td>Between 30 and 50% of patients with major depr...</td>\n",
       "      <td>10.3389/fpsyt.2020.00641</td>\n",
       "      <td>Frontiers in psychiatry</td>\n",
       "      <td>[Köhler-Forsberg, Kristin, Jorgensen, Anders, ...</td>\n",
       "      <td>[biomarker, cognition, electroencephalogram, f...</td>\n",
       "      <td>32792991</td>\n",
       "      <td>Journal Article</td>\n",
       "      <td>&lt;?xml version=\"1.0\" ?&gt;\\n&lt;!DOCTYPE PubmedArticl...</td>\n",
       "    </tr>\n",
       "    <tr>\n",
       "      <th>4716</th>\n",
       "      <td>Effect of Fluvoxamine on Interleukin-6 Levels ...</td>\n",
       "      <td>2022</td>\n",
       "      <td>https://pubmed.ncbi.nlm.nih.gov/36879736/</td>\n",
       "      <td>Reviewing the laboratory studies, we observe s...</td>\n",
       "      <td>None</td>\n",
       "      <td>Tanaffos</td>\n",
       "      <td>[Safa, Mitra, Hashemian, Seyed MohammadReza, A...</td>\n",
       "      <td>[COVID-19, CRP, Cytokine, Fluvoxamine, IL-6, I...</td>\n",
       "      <td>36879736</td>\n",
       "      <td>Journal Article</td>\n",
       "      <td>&lt;?xml version=\"1.0\" ?&gt;\\n&lt;!DOCTYPE PubmedArticl...</td>\n",
       "    </tr>\n",
       "  </tbody>\n",
       "</table>\n",
       "<p>4717 rows × 11 columns</p>\n",
       "</div>"
      ],
      "text/plain": [
       "                                                  title  year  \\\n",
       "0     A comparison of citalopram and paroxetine in t...  2001   \n",
       "1     Chronic schizophrenia: response to clozapine, ...  1997   \n",
       "2     Multigram-scale flow synthesis of the chiral k...  2019   \n",
       "3     Preliminary trial of photic stimulation for pr...  1997   \n",
       "4     GSK is fined £38m for delaying generic paroxet...  2016   \n",
       "...                                                 ...   ...   \n",
       "4712  The Effect of Selective Serotonin Releasing Ag...  1997   \n",
       "4713  Electroacupuncture as a rapid-onset and safer ...  2022   \n",
       "4714  Comparison of sertraline to fluoxetine with re...  1999   \n",
       "4715  Predicting Treatment Outcome in Major Depressi...  2020   \n",
       "4716  Effect of Fluvoxamine on Interleukin-6 Levels ...  2022   \n",
       "\n",
       "                                            url  \\\n",
       "0     https://pubmed.ncbi.nlm.nih.gov/11434404/   \n",
       "1      https://pubmed.ncbi.nlm.nih.gov/9090343/   \n",
       "2     https://pubmed.ncbi.nlm.nih.gov/32206263/   \n",
       "3     https://pubmed.ncbi.nlm.nih.gov/15511777/   \n",
       "4     https://pubmed.ncbi.nlm.nih.gov/26873503/   \n",
       "...                                         ...   \n",
       "4712   https://pubmed.ncbi.nlm.nih.gov/9787258/   \n",
       "4713  https://pubmed.ncbi.nlm.nih.gov/36684018/   \n",
       "4714  https://pubmed.ncbi.nlm.nih.gov/10633973/   \n",
       "4715  https://pubmed.ncbi.nlm.nih.gov/32792991/   \n",
       "4716  https://pubmed.ncbi.nlm.nih.gov/36879736/   \n",
       "\n",
       "                                               abstract  \\\n",
       "0     Serotonin Selective Re-uptake Inhibitors (SSRI...   \n",
       "1                                                  None   \n",
       "2     The catalytic enantioselective synthesis of th...   \n",
       "3     In an open study 17 women with confirmed, seve...   \n",
       "4                                                  None   \n",
       "...                                                 ...   \n",
       "4712  Chronic exposure to mild unpredictable stress ...   \n",
       "4713  Electroacupuncture (EA) is a promising therapy...   \n",
       "4714  In the present study, two different serotonin ...   \n",
       "4715  Between 30 and 50% of patients with major depr...   \n",
       "4716  Reviewing the laboratory studies, we observe s...   \n",
       "\n",
       "                             doi  \\\n",
       "0                           None   \n",
       "1                           None   \n",
       "2             10.1039/c9sc04752b   \n",
       "3                           None   \n",
       "4               10.1136/bmj.i917   \n",
       "...                          ...   \n",
       "4712                        None   \n",
       "4713  10.3389/fpsyt.2022.1012606   \n",
       "4714                        None   \n",
       "4715    10.3389/fpsyt.2020.00641   \n",
       "4716                        None   \n",
       "\n",
       "                                                journal  \\\n",
       "0                                    Pharmacopsychiatry   \n",
       "1                    The American journal of psychiatry   \n",
       "2                                      Chemical science   \n",
       "3     Journal of obstetrics and gynaecology : the jo...   \n",
       "4                           BMJ (Clinical research ed.)   \n",
       "...                                                 ...   \n",
       "4712                    Stress (Amsterdam, Netherlands)   \n",
       "4713                            Frontiers in psychiatry   \n",
       "4714                     Archivos espanoles de urologia   \n",
       "4715                            Frontiers in psychiatry   \n",
       "4716                                           Tanaffos   \n",
       "\n",
       "                                                authors  \\\n",
       "0     [Perna, G, Bertani, A, Caldirola, D, Smeraldi,...   \n",
       "1     [Patel, J K, Salzman, C, Green, A I, Tsuang, M T]   \n",
       "2     [Ötvös, Sándor B, Pericàs, Miquel A, Kappe, C ...   \n",
       "3               [Anderson, D J, Legg, N J, Ridout, D A]   \n",
       "4                                         [Dyer, Clare]   \n",
       "...                                                 ...   \n",
       "4712                   [Marona-Lewicka, D, Nichols, DE]   \n",
       "4713  [Zhang, Zhinan, Cai, Xiaowen, Liang, Yuying, Z...   \n",
       "4714  [Murat Başar, M, Atan, A, Yildiz, M, Baykam, M...   \n",
       "4715  [Köhler-Forsberg, Kristin, Jorgensen, Anders, ...   \n",
       "4716  [Safa, Mitra, Hashemian, Seyed MohammadReza, A...   \n",
       "\n",
       "                                               keywords pubmed_id  \\\n",
       "0                                                    []  11434404   \n",
       "1                                                    []   9090343   \n",
       "2                                                    []  32206263   \n",
       "3                                                    []  15511777   \n",
       "4                                                    []  26873503   \n",
       "...                                                 ...       ...   \n",
       "4712                                                 []   9787258   \n",
       "4713  [depression, electroacupuncture, meta-analysis...  36684018   \n",
       "4714                                                 []  10633973   \n",
       "4715  [biomarker, cognition, electroencephalogram, f...  32792991   \n",
       "4716  [COVID-19, CRP, Cytokine, Fluvoxamine, IL-6, I...  36879736   \n",
       "\n",
       "       publication_type                                            raw_xml  \n",
       "0        Clinical Trial  <?xml version=\"1.0\" ?>\\n<!DOCTYPE PubmedArticl...  \n",
       "1          Case Reports  <?xml version=\"1.0\" ?>\\n<!DOCTYPE PubmedArticl...  \n",
       "2       Journal Article  <?xml version=\"1.0\" ?>\\n<!DOCTYPE PubmedArticl...  \n",
       "3       Journal Article  <?xml version=\"1.0\" ?>\\n<!DOCTYPE PubmedArticl...  \n",
       "4                  News  <?xml version=\"1.0\" ?>\\n<!DOCTYPE PubmedArticl...  \n",
       "...                 ...                                                ...  \n",
       "4712    Journal Article  <?xml version=\"1.0\" ?>\\n<!DOCTYPE PubmedArticl...  \n",
       "4713  Systematic Review  <?xml version=\"1.0\" ?>\\n<!DOCTYPE PubmedArticl...  \n",
       "4714     Clinical Trial  <?xml version=\"1.0\" ?>\\n<!DOCTYPE PubmedArticl...  \n",
       "4715    Journal Article  <?xml version=\"1.0\" ?>\\n<!DOCTYPE PubmedArticl...  \n",
       "4716    Journal Article  <?xml version=\"1.0\" ?>\\n<!DOCTYPE PubmedArticl...  \n",
       "\n",
       "[4717 rows x 11 columns]"
      ]
     },
     "execution_count": 13,
     "metadata": {},
     "output_type": "execute_result"
    }
   ],
   "source": [
    "email = \"lukas.westphal@sund.ku.dk\"\n",
    "\n",
    "article_details_fetcher = ArticleDetailsFromPMID(email)\n",
    "\n",
    "article_details_fetcher.fetch_details_and_create_dataframe(pmids_in_pubmed_only)"
   ]
  },
  {
   "cell_type": "code",
   "execution_count": 14,
   "metadata": {},
   "outputs": [
    {
     "name": "stdout",
     "output_type": "stream",
     "text": [
      "Cleaning dataframe...\n",
      "Removed on year 2023: 198\n",
      "Document types removed: ['Bibliography', 'Lecture', 'News', 'Newspaper Article', 'Consensus Development Conference', 'Congress', 'Interview', 'Published Erratum', 'Biography', 'Preprint', 'Patient Education Handout']\n",
      "Removed on document types: 41\n",
      "New length: 4478\n"
     ]
    }
   ],
   "source": [
    "article_details_fetcher.clean_dataframe()\n",
    "df_pubmed_clean = article_details_fetcher.df"
   ]
  },
  {
   "cell_type": "code",
   "execution_count": 15,
   "metadata": {},
   "outputs": [],
   "source": [
    "df_pubmed_clean[[\"pubmed_id\", \"raw_xml\"]].to_parquet(\n",
    "    \"../data/raw/medline/pmid_raw_xml_mapping.parquet\", index=False\n",
    ")"
   ]
  },
  {
   "cell_type": "code",
   "execution_count": 18,
   "metadata": {},
   "outputs": [],
   "source": [
    "# drop the raw xml column\n",
    "df_pubmed_clean = df_pubmed_clean.drop(columns=[\"raw_xml\"])\n",
    "\n",
    "# save the dataframe\n",
    "df_pubmed_clean.to_parquet(\"../data/processed/medline/medline_data_processed.parquet\")"
   ]
  },
  {
   "cell_type": "code",
   "execution_count": null,
   "metadata": {},
   "outputs": [],
   "source": []
  }
 ],
 "metadata": {
  "kernelspec": {
   "display_name": "Python 3",
   "language": "python",
   "name": "python3"
  },
  "language_info": {
   "codemirror_mode": {
    "name": "ipython",
    "version": 3
   },
   "file_extension": ".py",
   "mimetype": "text/x-python",
   "name": "python",
   "nbconvert_exporter": "python",
   "pygments_lexer": "ipython3",
   "version": "3.11.6"
  }
 },
 "nbformat": 4,
 "nbformat_minor": 2
}
