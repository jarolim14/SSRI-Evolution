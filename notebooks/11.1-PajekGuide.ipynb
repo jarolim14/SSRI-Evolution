{
 "cells": [
  {
   "cell_type": "markdown",
   "metadata": {},
   "source": [
    "# How to Move Forward with the File in Pajek to get Main Path\n",
    "\n",
    "1. Open Pajek on a computer that does not run on an M Chip (apple silicon)\n",
    "2. Load the file in Pajek\n",
    "3. Create traversal weights as search path link count (SPLC)\n",
    "4. Go to Network > Creat Subnetwork > Main Path > Local\n",
    "5. Choose Key route (check Liu et al)\n",
    "6. Tune parameters to your liking (change the alpha values as well as the )\n"
   ]
  }
 ],
 "metadata": {
  "language_info": {
   "name": "python"
  }
 },
 "nbformat": 4,
 "nbformat_minor": 2
}
