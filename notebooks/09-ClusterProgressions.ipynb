{
 "cells": [
  {
   "cell_type": "markdown",
   "metadata": {
    "cellUniqueIdByVincent": "21307"
   },
   "source": [
    "# Community Analysis and Visualization of Cluster Data\n",
    "\n",
    "This notebook performs community analysis and visualization of cluster data progression\n",
    "\n",
    "## Key Steps\n",
    "\n",
    "1. Loads required libraries including pandas, networkx, plotly and matplotlib\n",
    "2. Sets up environment variables and paths for data/output directories\n",
    "3. Reads graph data from graphml file containing community structure\n",
    "4. Loads analysis dataframe with cluster assignments\n",
    "5. Processes cluster labels and qualifications data\n",
    "6. Creates visualizations of:\n",
    "   - Community proportions and trends\n",
    "   - Cluster relationships and structure\n",
    "   - Distribution of qualifications across clusters\n",
    "\n",
    "The notebook uses custom plotting classesto generate standardized visualizations of the community analysis results.\n"
   ]
  },
  {
   "cell_type": "code",
   "execution_count": 3,
   "metadata": {
    "cellUniqueIdByVincent": "c0255"
   },
   "outputs": [
    {
     "name": "stdout",
     "output_type": "stream",
     "text": [
      "The autoreload extension is already loaded. To reload it, use:\n",
      "  %reload_ext autoreload\n"
     ]
    }
   ],
   "source": [
    "%load_ext autoreload\n",
    "%autoreload 2\n",
    "import json\n",
    "import pandas as pd\n",
    "import networkx as nx\n",
    "import numpy as np\n",
    "import pandas as pd\n",
    "import plotly.express as px\n",
    "import matplotlib.pyplot as plt\n",
    "import matplotlib.font_manager as fm\n",
    "# remove the SettingWithCopyWarning\n",
    "pd.options.mode.chained_assignment = None\n",
    "\n",
    "from dotenv import load_dotenv\n",
    "import os\n",
    "# Load environment variables from .env file\n",
    "load_dotenv()\n",
    "\n",
    "# Access environment variables\n",
    "python_path = os.getenv('PYTHONPATH')\n",
    "data_dir = os.getenv('DATA_DIR')\n",
    "src_dir = os.getenv('SRC_DIR')\n",
    "output_dir = os.getenv('OUTPUT_DIR')\n"
   ]
  },
  {
   "cell_type": "code",
   "execution_count": 4,
   "metadata": {
    "cellUniqueIdByVincent": "37931"
   },
   "outputs": [],
   "source": [
    "pg = data_dir + \"/08-analysis-data/graph_analysis.graphml\"\n",
    "G = nx.read_graphml(pg)\n",
    "pdf = data_dir + \"/08-analysis-data/df_analysis.pkl\"\n",
    "df = pd.read_pickle(pdf)"
   ]
  },
  {
   "cell_type": "code",
   "execution_count": 5,
   "metadata": {
    "cellUniqueIdByVincent": "17781"
   },
   "outputs": [],
   "source": [
    "# open the cluster label file\n",
    "\n",
    "with open(\n",
    "    output_dir\n",
    "    + \"/cluster-qualifications/cluster-label-tree/cluster_labels_filtered.json\",\n",
    "    \"r\",\n",
    ") as f:\n",
    "    cluster_label_dict = json.load(f)\n",
    "\n",
    "\n",
    "# read in legend\n",
    "legend_p = (\n",
    "    output_dir + \"/cluster-qualifications/cluster-label-tree/legend_labels_2025.json\"\n",
    ")\n",
    "with open(legend_p, \"r\") as f:\n",
    "    legend = json.load(f)"
   ]
  },
  {
   "cell_type": "code",
   "execution_count": 6,
   "metadata": {
    "cellUniqueIdByVincent": "2f996"
   },
   "outputs": [
    {
     "data": {
      "text/plain": [
       "{'Pharmacology': {'Pharmacodynamics': {'Mechanism of action': [{'1': 'Serotonin Receptor Modulation in SSRI Treatment'},\n",
       "    {'7': 'Impact of SSRIs on Neurogenesis'},\n",
       "    {'9': 'SSRIs Effect on Neural Processing of Emotional Cues'},\n",
       "    {'53': 'Neuroimaging of Serotonin Transporters'},\n",
       "    {'60': 'SSRIs Effects on Ion Channels'},\n",
       "    {'63': 'Methylenedioxymethamphetamine (MDMA) Induced Neurotoxicity'},\n",
       "    {'68': 'SSRIs Effect on Pulmonary Hypertension'},\n",
       "    {'73': 'Non-SERT Transporters in Antidepressant Action'},\n",
       "    {'76': 'SERT Binding Mechanisms'},\n",
       "    {'77': 'Astrocyte Receptors as a Target for SSRIs'},\n",
       "    {'84': 'SSRIs Effect on Dopamine Receptors'},\n",
       "    {'85': 'SSRIs Effects on Antimicrobials and Gut Microbiome'},\n",
       "    {'88': 'Neurometabolite Changes with Antidepressants'},\n",
       "    {'89': 'Galanin System in Antidepressant Action'},\n",
       "    {'92': 'SSRIs Effect on Brain-derived Neurotrophic Factor (BDNF) Levels in Depressive Patients'}],\n",
       "   'Animal Models of Disorders': [{'8': 'The Chronic Unpredictable Mild Stress Model of Depression'},\n",
       "    {'12': 'SSRIs in Forced Swimming Test'},\n",
       "    {'17': 'SSRIs Effect on Fear'},\n",
       "    {'71': 'Serotonergic Modulation of Cocaine Effects'}],\n",
       "   'Other': [{'10': 'Risk of Prenatal Exposure (Rodents)'},\n",
       "    {'93': 'SSRIs in Model Organisms ( C. Elegans and Drosophilia)'}]},\n",
       "  'Pharmacokinetics': [{'6': 'SSRIs and the Cytochrome P450 System'}],\n",
       "  'Pharmacogenetics': [{'20': 'Serotonin Transporter Gene and Antidepressant Response'},\n",
       "   {'72': 'Pharmacogenetics in SSRI Treatment'}],\n",
       "  'Analytical Methods': [{'2': 'Analytical Methods for SSRI Detection and Quantification'},\n",
       "   {'27': 'Paroxetine Binding to Serotonin Transporter'},\n",
       "   {'55': 'Synthetic Chemistry of Paroxetine'},\n",
       "   {'64': 'Laboratory Techniques for drug analysis'},\n",
       "   {'91': 'SSRI Crystal Structure and Complexation'}],\n",
       "  'Other Pharmacology': [{'15': 'Inflammatory Biomarkers'},\n",
       "   {'35': 'Pharmacological Reviews'},\n",
       "   {'70': 'Antidepressant Drug Design'}]},\n",
       " 'Indications': {'Depressive Disorders': [{'5': 'SSRIs for Pediatric Depression'},\n",
       "   {'9': 'SSRIs Effect on Neural Processing of Emotional Cues'},\n",
       "   {'12': 'SSRIs in Forced Swimming Test'},\n",
       "   {'14': 'Fluvoxamine for Depression'},\n",
       "   {'19': 'Escitalopram for Depression'},\n",
       "   {'21': 'Treatment Strategies and Outcomes in Depression'},\n",
       "   {'23': 'SSRIs for Depression in Patients with Cardiovascular Disease'},\n",
       "   {'36': 'SSRIs for Bipolar Depression'},\n",
       "   {'41': 'Venlafaxine vs SSRIs for Depression'},\n",
       "   {'43': 'SSRIs for Depression in Diabetes Patients'},\n",
       "   {'47': 'SSRIs for Depression with Cognitive Impairment'},\n",
       "   {'58': 'SSRIs for Depression in Parkinsons Patients'},\n",
       "   {'59': 'SSRIs for Depression in in Epileptic Patients'},\n",
       "   {'61': 'SSRIs and Augmentation for Treatment Resistant Depression'},\n",
       "   {'74': 'SSRIs for Depression, Comparative Effectiveness'},\n",
       "   {'75': 'SSRIs for Geriatric Depression'},\n",
       "   {'79': 'Agomelatin for Depression'},\n",
       "   {'80': 'Depression Treatment Guidelines'},\n",
       "   {'81': 'Sertraline for Depression'},\n",
       "   {'86': 'SSRIs for Depression after Traumatic Brain Injury'},\n",
       "   {'92': 'SSRIs Effect on Brain-derived Neurotrophic Factor (BDNF) Levels in Depressive Patients'},\n",
       "   {'94': 'SSRIs for Depression in Cancer Patients'},\n",
       "   {'95': 'SSRIs for Postpartum Depression'},\n",
       "   {'96': 'SSRIs Long-term Efficacy and Recurrent Depression'}],\n",
       "  'Anxiety': [{'17': 'SSRIs Effect on Fear'},\n",
       "   {'33': 'SSRIs for Generalized Anxiety Disorder'},\n",
       "   {'34': 'SSRIs for Panic Disorder'},\n",
       "   {'65': 'SSRIs for Social Anxiety Disorder'}],\n",
       "  'OCD': [{'3': 'SSRIs for OCD'},\n",
       "   {'69': 'SSRIs for Body Dysmorphic Disorder (BDD)'}],\n",
       "  'Weight and Eating Disorders': [{'26': 'SSRIs for Weight Management'},\n",
       "   {'57': 'SSRIs for Eating Disorders'}],\n",
       "  'Substance Abuse/Addictions': [{'51': 'SSRIs for Alcohol Dependence'},\n",
       "   {'71': 'Serotonergic Modulation of Cocaine Effects'}],\n",
       "  'Other': [{'11': 'SSRIs for PTSD'},\n",
       "   {'22': 'SSRIs for Pain'},\n",
       "   {'38': 'Fluvoxamine for Covid 19'},\n",
       "   {'40': 'SSRIs Effect on Sleep'},\n",
       "   {'44': 'SSRIs for Menopausal Vasomotor Symptoms (Hot flashes)'},\n",
       "   {'46': 'Premature Ejaculation'},\n",
       "   {'50': 'SSRIs for Irritable Bowel Syndrome'},\n",
       "   {'52': 'SSRIs for Premenstrual Dysphoric Disorder (PMDD)'},\n",
       "   {'54': 'SSRIs for (Psycho)dermatological Diseases'},\n",
       "   {'56': 'SSRIs for Autism Spectrum Disorders'},\n",
       "   {'67': 'SSRIs (Fluvoxamine) for Schizophrenia'},\n",
       "   {'68': 'SSRIs Effect on Pulmonary Hypertension'},\n",
       "   {'78': 'SSRIs for Borderline Personality Disorder'},\n",
       "   {'87': 'Antifungal Activity of Sertraline'},\n",
       "   {'90': 'SSRIs for Fibromyalgia'}]},\n",
       " 'Safety': {'Special Populations': {'Pediatrics': [{'5': 'SSRIs for Pediatric Depression'},\n",
       "    {'31': 'Suicice Risk'}],\n",
       "   'Geriatrics': [{'18': 'Post-Stroke SSRI Use'},\n",
       "    {'23': 'SSRIs for Depression in Patients with Cardiovascular Disease'},\n",
       "    {'24': 'SSRIs in Dementias'},\n",
       "    {'47': 'SSRIs for Depression with Cognitive Impairment'},\n",
       "    {'58': 'SSRIs for Depression in Parkinsons Patients'},\n",
       "    {'75': 'SSRIs for Geriatric Depression'}],\n",
       "   'Other': [{'43': 'SSRIs for Depression in Diabetes Patients'},\n",
       "    {'59': 'SSRIs for Depression in in Epileptic Patients'},\n",
       "    {'86': 'SSRIs for Depression after Traumatic Brain Injury'},\n",
       "    {'94': 'SSRIs for Depression in Cancer Patients'}]},\n",
       "  'Perinatal Exposure': [{'4': 'Risk of Prenatal Exposure'},\n",
       "   {'10': 'Risk of Prenatal Exposure (Rodents)'},\n",
       "   {'42': 'SSRI Effects on Lactation'},\n",
       "   {'95': 'SSRIs for Postpartum Depression'}],\n",
       "  'Other': [{'16': 'Sexual Dysfunction'},\n",
       "   {'25': 'Serotonin Syndrome'},\n",
       "   {'28': 'Bleeding Risk'},\n",
       "   {'30': 'Oncopreventive and Oncolytic Properties of SSRIs'},\n",
       "   {'31': 'Suicice Risk'},\n",
       "   {'32': 'Fracture Risk'},\n",
       "   {'37': 'Hepatotoxic Risk'},\n",
       "   {'45': 'Pharmacovigilance of SSRIs'},\n",
       "   {'48': 'QTC Prolongation'},\n",
       "   {'49': 'Extrapyramidal Reactions Risk'},\n",
       "   {'66': 'Forensic Toxicology of Fatal Overdoses'},\n",
       "   {'82': 'Withdrawal Symptoms'},\n",
       "   {'83': 'Hyponatremia Risk'},\n",
       "   {'99': 'SRRIs and Ocular Safety'}]},\n",
       " 'Other': {'Ecotoxicology': [{'0': 'Aquatic Ecotoxicology'},\n",
       "   {'62': 'Environmental Degradation of Antidepressants'}],\n",
       "  'Other': [{'13': 'SSRI Utilization Patterns'},\n",
       "   {'29': 'Antidepressant-like Effects of Herbal Extracts in Animal Models'},\n",
       "   {'39': 'Pharmacoeconomics of SSRIs for Depression'},\n",
       "   {'97': 'Canine Behavioral Disorders'}]}}"
      ]
     },
     "execution_count": 6,
     "metadata": {},
     "output_type": "execute_result"
    }
   ],
   "source": [
    "legend"
   ]
  },
  {
   "cell_type": "markdown",
   "metadata": {
    "cellUniqueIdByVincent": "b9114"
   },
   "source": [
    "## get some specific clusters from the legend\n"
   ]
  },
  {
   "cell_type": "code",
   "execution_count": 7,
   "metadata": {
    "cellUniqueIdByVincent": "f94a5"
   },
   "outputs": [],
   "source": [
    "def get_all_leaf_clusters(node, print_labels=False):\n",
    "    \"\"\"\n",
    "    Recursively extracts all leaf cluster numbers from a hierarchical tree structure.\n",
    "\n",
    "    Args:\n",
    "        node: A dictionary or list node in the hierarchical tree\n",
    "\n",
    "    Returns:\n",
    "        list: A sorted list of all unique cluster numbers found in the leaves\n",
    "    \"\"\"\n",
    "    clusters = []\n",
    "\n",
    "    if isinstance(node, dict):\n",
    "        # If this is a dictionary node, process each of its values\n",
    "        for value in node.values():\n",
    "            clusters.extend(get_all_leaf_clusters(value))\n",
    "\n",
    "    elif isinstance(node, list):\n",
    "        # If this is a list node, process each item in the list\n",
    "        for item in node:\n",
    "            clusters.extend(get_all_leaf_clusters(item))\n",
    "\n",
    "    elif isinstance(node, dict) and len(node) == 1:\n",
    "        # This is a leaf node with a single key-value pair\n",
    "        # The key is the cluster number and the value is the description\n",
    "        clusters.append(int(list(node.keys())[0]))\n",
    "\n",
    "    # Handle the case where node is a dictionary with a single numeric key\n",
    "    # This is the actual leaf node format in your data\n",
    "    if (\n",
    "        isinstance(node, dict)\n",
    "        and len(node) == 1\n",
    "        and all(k.isdigit() for k in node.keys())\n",
    "    ):\n",
    "        clusters.append(int(list(node.keys())[0]))\n",
    "\n",
    "    if print_labels:\n",
    "        for cluster in clusters:\n",
    "            print(\n",
    "                f\"Cluster {cluster}: {cluster_label_dict.get(str(cluster), 'Unknown')}\"\n",
    "            )\n",
    "\n",
    "    return sorted(list(set(clusters)))"
   ]
  },
  {
   "cell_type": "markdown",
   "metadata": {
    "cellUniqueIdByVincent": "6d675"
   },
   "source": [
    "Get geriatric clusters\n"
   ]
  },
  {
   "cell_type": "code",
   "execution_count": 8,
   "metadata": {
    "cellUniqueIdByVincent": "f518e"
   },
   "outputs": [
    {
     "name": "stdout",
     "output_type": "stream",
     "text": [
      "Geriatrics Clusters:\n",
      "Cluster 18: Post-Stroke SSRI Use\n",
      "Cluster 23: SSRIs for Depression in Patients with Cardiovascular Disease\n",
      "Cluster 24: SSRIs in Dementias\n",
      "Cluster 47: SSRIs for Depression with Cognitive Impairment\n",
      "Cluster 58: SSRIs for Depression in Parkinsons Patients\n",
      "Cluster 75: SSRIs for Geriatric Depression\n"
     ]
    }
   ],
   "source": [
    "print(\"Geriatrics Clusters:\")\n",
    "# Get all leaf clusters under the \"Geriatrics\" node in the legend\n",
    "geriatrics_keys = get_all_leaf_clusters(\n",
    "    legend[\"Safety\"][\"Special Populations\"][\"Geriatrics\"], print_labels=True\n",
    ")"
   ]
  },
  {
   "cell_type": "markdown",
   "metadata": {
    "cellUniqueIdByVincent": "10e38"
   },
   "source": [
    "Perinatal Exposure\n"
   ]
  },
  {
   "cell_type": "code",
   "execution_count": 9,
   "metadata": {
    "cellUniqueIdByVincent": "cf100"
   },
   "outputs": [
    {
     "name": "stdout",
     "output_type": "stream",
     "text": [
      "Perinatal Exposure Clusters:\n",
      "Cluster 4: Risk of Prenatal Exposure\n",
      "Cluster 10: Risk of Prenatal Exposure (Rodents)\n",
      "Cluster 42: SSRI Effects on Lactation\n",
      "Cluster 95: SSRIs for Postpartum Depression\n"
     ]
    }
   ],
   "source": [
    "print(\"Perinatal Exposure Clusters:\")\n",
    "# Get all leaf clusters under the \"Perinatal Exposure\" node in the legend\n",
    "perinatal_exposure_keys = get_all_leaf_clusters(\n",
    "    legend[\"Safety\"][\"Perinatal Exposure\"], print_labels=True\n",
    ")"
   ]
  },
  {
   "cell_type": "markdown",
   "metadata": {
    "cellUniqueIdByVincent": "f1a69"
   },
   "source": [
    "Animal Models of Disorder\n"
   ]
  },
  {
   "cell_type": "code",
   "execution_count": 10,
   "metadata": {
    "cellUniqueIdByVincent": "00c99"
   },
   "outputs": [
    {
     "name": "stdout",
     "output_type": "stream",
     "text": [
      "Animal Models of Disorders Clusters:\n",
      "Cluster 8: The Chronic Unpredictable Mild Stress Model of Depression\n",
      "Cluster 12: SSRIs in Forced Swimming Test\n",
      "Cluster 17: SSRIs Effect on Fear\n",
      "Cluster 71: Serotonergic Modulation of Cocaine Effects\n"
     ]
    }
   ],
   "source": [
    "print(\"Animal Models of Disorders Clusters:\")\n",
    "# Get all leaf clusters under the \"Animal Models of Disorders\" node in the legend\n",
    "animal_models_keys = get_all_leaf_clusters(\n",
    "    legend[\"Pharmacology\"][\"Pharmacodynamics\"][\"Animal Models of Disorders\"],\n",
    "    print_labels=True,\n",
    ")"
   ]
  },
  {
   "cell_type": "markdown",
   "metadata": {
    "cellUniqueIdByVincent": "0399a"
   },
   "source": [
    "# VISUALS\n"
   ]
  },
  {
   "cell_type": "markdown",
   "metadata": {
    "cellUniqueIdByVincent": "033ef"
   },
   "source": [
    "# Interactive visualization\n"
   ]
  },
  {
   "cell_type": "code",
   "execution_count": 11,
   "metadata": {
    "cellUniqueIdByVincent": "ed984"
   },
   "outputs": [],
   "source": [
    "from src.network.analysis.InteractiveProportionsPlotter import (\n",
    "    InteractiveProportionsPlotter,\n",
    ")"
   ]
  },
  {
   "cell_type": "code",
   "execution_count": 12,
   "metadata": {
    "cellUniqueIdByVincent": "40b92"
   },
   "outputs": [],
   "source": [
    "# Create plotter\n",
    "plotter = InteractiveProportionsPlotter(\n",
    "    df=df,\n",
    "    cluster_label_dict=cluster_label_dict,\n",
    "    year_col=\"year\",\n",
    "    cluster_col=\"cluster_alpha0.3_k10_res0.002\",\n",
    "    output_dir=output_dir + \"/figures/\",\n",
    ")\n",
    "\n",
    "# Plot with all clusters, normalized by total\n",
    "fig_total = plotter.plot_proportions(\n",
    "    cluster_subset_list=df[\"cluster_alpha0.3_k10_res0.002\"].unique().tolist(),\n",
    "    figsize=(15, 8),\n",
    "    proportions_total=\"total\",\n",
    "    save=True,\n",
    "    filename=\"cluster_trends_total.html\",\n",
    "    title=\"Distribution of Research Topics Over Time\",\n",
    ")\n",
    "\n",
    "\n",
    "# Plot with subset of clusters, normalized by subset\n",
    "fig_geriatrics = plotter.plot_proportions(\n",
    "    cluster_subset_list=geriatrics_keys,  # Only ML and CV\n",
    "    figsize=(12, 6),\n",
    "    proportions_total=\"total\",\n",
    "    save=True,\n",
    "    filename=\"cluster_trends_geriatrics.html\",\n",
    "    color_palette=[\"#1f77b4\", \"#ff7f0e\"],  # Custom colors\n",
    ")\n",
    "\n",
    "\n",
    "# Plot with subset of clusters, normalized by subset\n",
    "fig_animal = plotter.plot_proportions(\n",
    "    cluster_subset_list=animal_models_keys,  # Only ML and CV\n",
    "    figsize=(12, 6),\n",
    "    proportions_total=\"subset\",\n",
    "    save=True,\n",
    "    filename=\"cluster_trends_animal.html\",\n",
    "    color_palette=[\"#1f77b4\", \"#ff7f0e\"],  # Custom colors\n",
    ")\n",
    "\n",
    "# Plot with subset of clusters, normalized by subset\n",
    "fig_perinatal = plotter.plot_proportions(\n",
    "    cluster_subset_list=perinatal_exposure_keys,  # Only ML and CV\n",
    "    figsize=(12, 6),\n",
    "    proportions_total=\"subset\",\n",
    "    save=True,\n",
    "    filename=\"cluster_trends_perinatal.html\",\n",
    "    color_palette=[\"#1f77b4\", \"#ff7f0e\"],  # Custom colors\n",
    ")"
   ]
  },
  {
   "cell_type": "markdown",
   "metadata": {
    "cellUniqueIdByVincent": "23223"
   },
   "source": [
    "# Plot all clusters\n"
   ]
  },
  {
   "cell_type": "code",
   "execution_count": 13,
   "metadata": {
    "cellUniqueIdByVincent": "c7532"
   },
   "outputs": [
    {
     "data": {
      "application/vnd.plotly.v1+json": {
       "config": {
        "plotlyServerURL": "https://plot.ly"
       },
       "data": [
        {
         "fillpattern": {
          "shape": ""
         },
         "hovertemplate": "<b>%{fullData.name}</b><br>Year: %{x}<br>Proportion: %{y:.2%}<extra></extra>",
         "legendgroup": "Aquatic Ecotoxicology",
         "line": {
          "color": "#e52db7"
         },
         "marker": {
          "symbol": "circle"
         },
         "mode": "lines",
         "name": "Aquatic Ecotoxicology",
         "orientation": "v",
         "showlegend": true,
         "stackgroup": "1",
         "type": "scatter",
         "x": {
          "bdata": "vgcAAL8HAADABwAAwQcAAMIHAADDBwAAxAcAAMUHAADGBwAAxwcAAMgHAADJBwAAygcAAMsHAADMBwAAzQcAAM4HAADPBwAA0AcAANEHAADSBwAA0wcAANQHAADVBwAA1gcAANcHAADYBwAA2QcAANoHAADbBwAA3AcAAN0HAADeBwAA3wcAAOAHAADhBwAA4gcAAOMHAADkBwAA5QcAAOYHAADnBwAA6AcAAOkHAAA=",
          "dtype": "i4"
         },
         "xaxis": "x",
         "y": {
          "bdata": "HMdxHMdxjD/QusEU+ayLPwAAAAAAAAAAAAAAAAAAAAAXaIEWaIGGPwAAAAAAAAAA9waUiSvdez8AAAAAAAAAAAAAAAAAAAAAAAAAAAAAAAALWchCFrKAP+ere6SVyXM/AAAAAAAAAAAAAAAAAAAAAJN2F5in0Go/F2DyFmDyVj/A0Ig6R5FmP2FRARwTFmU/ms/1x8tgVD9GE+CseUZjPyFRiXXeWFI/txOIWZ+2gz/TbGHuNs2GP7Bq/TWx7nw/ZuiA3R5riT9t1Hc26juLP42+SGXovZM/GfhdhsITlT97JCrLy6SWP1s33XsI6JY/iUQikUgkoj/ISmUAydyePxV5dBcnQac/VYtZvw1Lpj+e2Imd2ImtP9+PT9scYqo/mpmZmZmZqT8yAB9BcvawP+KOuCPuiLM/LTx+6x36sD/ByXn4LPmwPymryNC/tLE/JJtffe41sj/bzfIkMg27Pw==",
          "dtype": "f8"
         },
         "yaxis": "y"
        },
        {
         "fillpattern": {
          "shape": ""
         },
         "hovertemplate": "<b>%{fullData.name}</b><br>Year: %{x}<br>Proportion: %{y:.2%}<extra></extra>",
         "legendgroup": "Serotonin Receptor Modulation in SSRI Treatment",
         "line": {
          "color": "#11b2ac"
         },
         "marker": {
          "symbol": "circle"
         },
         "mode": "lines",
         "name": "Serotonin Receptor Modulation in SSRI Treatment",
         "orientation": "v",
         "showlegend": true,
         "stackgroup": "1",
         "type": "scatter",
         "x": {
          "bdata": "vgcAAL8HAADABwAAwQcAAMIHAADDBwAAxAcAAMUHAADGBwAAxwcAAMgHAADJBwAAygcAAMsHAADMBwAAzQcAAM4HAADPBwAA0AcAANEHAADSBwAA0wcAANQHAADVBwAA1gcAANcHAADYBwAA2QcAANoHAADbBwAA3AcAAN0HAADeBwAA3wcAAOAHAADhBwAA4gcAAOMHAADkBwAA5QcAAOYHAADnBwAA6AcAAOkHAAA=",
          "dtype": "i4"
         },
         "xaxis": "x",
         "y": {
          "bdata": "5DiO4ziOwz9vMEU+6wbDP8xhDnOYw7w/Hh4eHh4evj8cwiEcwiG8PyJwYxmUCrM/9waUiSvduz+Q+24p9Ce5PxX44uoHHbU/XBfYThlqtT8LWchCFrKwP0B0vrpHWrk/T6WQvuaptD/D2WmZq1C3P966Vlsi+rk/FBQUFBQUtD+OZVAqTLyvP8AxYVEBHLM/XPjVmEgPtD8eHh4eHh6uP59k9ci/X6o/nhLkKUGeoj8or6G8hvKqPzVMR5R+qqQ/W4YO2O2xlj9t1Hc26jubP5jcnB2Gd5s/czZcYuB3mT/s7J6CXVqdP0p8+rWKHpA/ouoOIarukD9Q0Vk7xl2VP8VIeR/fc4Y/6Z2Hg/5DiT9oL6G9hPaCP9+PT9scYoo/MzMzMzMziz/o3DM2qreCP3FH3BF3xH0/DKNy0nTTcj8MJF5KYcxwPymryNC/tGE/cEBYTFLPcD8V+OLqBx1lPw==",
          "dtype": "f8"
         },
         "yaxis": "y"
        },
        {
         "fillpattern": {
          "shape": ""
         },
         "hovertemplate": "<b>%{fullData.name}</b><br>Year: %{x}<br>Proportion: %{y:.2%}<extra></extra>",
         "legendgroup": "Risk of Prenatal Exposure (Rodents)",
         "line": {
          "color": "#d8aa4b"
         },
         "marker": {
          "symbol": "circle"
         },
         "mode": "lines",
         "name": "Risk of Prenatal Exposure (Rodents)",
         "orientation": "v",
         "showlegend": true,
         "stackgroup": "1",
         "type": "scatter",
         "x": {
          "bdata": "vgcAAL8HAADABwAAwQcAAMIHAADDBwAAxAcAAMUHAADGBwAAxwcAAMgHAADJBwAAygcAAMsHAADMBwAAzQcAAM4HAADPBwAA0AcAANEHAADSBwAA0wcAANQHAADVBwAA1gcAANcHAADYBwAA2QcAANoHAADbBwAA3AcAAN0HAADeBwAA3wcAAOAHAADhBwAA4gcAAOMHAADkBwAA5QcAAOYHAADnBwAA6AcAAOkHAAA=",
          "dtype": "i4"
         },
         "xaxis": "x",
         "y": {
          "bdata": "HMdxHMdxjD8AAAAAAAAAAHCBC1zgApc/AAAAAAAAAAAAAAAAAAAAAJCc5mv17JA/9waUiSvdiz/D7OAIIq2XPyB0VOCLq48/tQojRPYlbz84velNb3qTP+ere6SVyWM/yO7Q9vfYnT9M2Rbj5dddP5N2F5in0Io/FBQUFBQUhD+otjdTHr+DPxL6AaocoW8/Z7fwqzGRfj/eEER3qt2AP2ml6xIW74Y/hhFA+uKFUT/+jYHV3t+IP7Bq/TWx7nw/UCSc0rz4gz9BTK4gJleAP98JgtKzKpE/cHeQEWjVhj9RWV4mtSCEP6zTtm6695A/PlJc4SPFlT+ur5zshr2XP8VIeR/fc5Y/Zv02LFkQlD8apEEapEGaP9l6bkSCVJ8/mpmZmZmZnT9Izh4iMYSaP1PWlDVlTZk/nKoTCY5Bnj8MJF5KYcyQP+7HowaVgo0/9AV9QV/Qhz8V+OLqBx2FPw==",
          "dtype": "f8"
         },
         "yaxis": "y"
        },
        {
         "fillpattern": {
          "shape": ""
         },
         "hovertemplate": "<b>%{fullData.name}</b><br>Year: %{x}<br>Proportion: %{y:.2%}<extra></extra>",
         "legendgroup": "Fluvoxamine for Depression",
         "line": {
          "color": "#732de5"
         },
         "marker": {
          "symbol": "circle"
         },
         "mode": "lines",
         "name": "Fluvoxamine for Depression",
         "orientation": "v",
         "showlegend": true,
         "stackgroup": "1",
         "type": "scatter",
         "x": {
          "bdata": "vgcAAL8HAADABwAAwQcAAMIHAADDBwAAxAcAAMUHAADGBwAAxwcAAMgHAADJBwAAygcAAMsHAADMBwAAzQcAAM4HAADPBwAA0AcAANEHAADSBwAA0wcAANQHAADVBwAA1gcAANcHAADYBwAA2QcAANoHAADbBwAA3AcAAN0HAADeBwAA3wcAAOAHAADhBwAA4gcAAOMHAADkBwAA5QcAAOYHAADnBwAA6AcAAOkHAAA=",
          "dtype": "i4"
         },
         "xaxis": "x",
         "y": {
          "bdata": "VVVVVVVVtT92gynyWTe4P3CBC1zgAqc/kGsikGsiwD8UO7ETO7GzPyJwYxmUCrM/ysSV7g0osz+SsaiG2cHBPxq2m+VJZKo/si/5AEljtj/IQhaykIW8P0B0vrpHWrk/wol4SUA4sT+CIv6zJumsP8CHFKWSdqc/FafLFKfLpD+QnOZr9eygP6OQQbE2Cpk/ms/1x8tglD9TH+y4hVKPP2ml6xIW75Y/zxQsif3OlD+pS0EHj7qUP7Bq/TWx7ow/dMBuj7UMfT90wG6PtQyNP5jcnB2Gd3s/GfhdhsITdT/CIdPdRtZqP6zTtm6693A/cJ41AedZcz/x8haKBf5yP0TGn1+fCXA/d28UmaTVYT9tdQHCylZHP+ere6SVyWM/mpmZmZmZST810e/y4vRoPwAAAAAAAAAAxJWnOfODVT+72tIN12VWP4s5tmuqm2c/QKt1EMNpRj8V+OLqBx11Pw==",
          "dtype": "f8"
         },
         "yaxis": "y"
        },
        {
         "fillpattern": {
          "shape": ""
         },
         "hovertemplate": "<b>%{fullData.name}</b><br>Year: %{x}<br>Proportion: %{y:.2%}<extra></extra>",
         "legendgroup": "SSRIs Effect on Fear",
         "line": {
          "color": "#11b21f"
         },
         "marker": {
          "symbol": "circle"
         },
         "mode": "lines",
         "name": "SSRIs Effect on Fear",
         "orientation": "v",
         "showlegend": true,
         "stackgroup": "1",
         "type": "scatter",
         "x": {
          "bdata": "vgcAAL8HAADABwAAwQcAAMIHAADDBwAAxAcAAMUHAADGBwAAxwcAAMgHAADJBwAAygcAAMsHAADMBwAAzQcAAM4HAADPBwAA0AcAANEHAADSBwAA0wcAANQHAADVBwAA1gcAANcHAADYBwAA2QcAANoHAADbBwAA3AcAAN0HAADeBwAA3wcAAOAHAADhBwAA4gcAAOMHAADkBwAA5QcAAOYHAADnBwAA6AcAAOkHAAA=",
          "dtype": "i4"
         },
         "xaxis": "x",
         "y": {
          "bdata": "VVVVVVVVpT/QusEU+ayLP3CBC1zgAoc/Ecg1Ecg1gT8XaIEWaIGmP5Cc5mv17JA/OQUvp+DllD/D7OAIIq2HPyB0VOCLq58/seaV6rl3kz+96U1vetOLP+ere6SVyYM/8ZKAcCJegj/5IlFq7GGWP8CHFKWSdpc/FBQUFBQUlD/A0Ig6R5GGP7mlAeOXW5o/rbh3kqWOkD+BGrRN54CaP3s6RPqjFJg/nhLkKUGekj9T0MGjLgWNPzVMR5R+qpQ/UCSc0rz4kz9BTK4gJleQP/oilaH3TpA/H3b1J7NYij8Z9aNK7MWQP0p8+rWKHpA/CoVCoVAolD99U6v5bzOSP+crSc+ueI4/Zv02LFkQlD9tdQHCylZ3P9uBuXZgrn0/MzMzMzMzgz8O15GURtZ1P3FH3BF3xH0/aBwNBrQrhD+72tIN12V2P/PV+sTvIYY/EBaT1DMEbD8gdFTgi6t/Pw==",
          "dtype": "f8"
         },
         "yaxis": "y"
        },
        {
         "fillpattern": {
          "shape": ""
         },
         "hovertemplate": "<b>%{fullData.name}</b><br>Year: %{x}<br>Proportion: %{y:.2%}<extra></extra>",
         "legendgroup": "Escitalopram for Depression",
         "line": {
          "color": "#d84b69"
         },
         "marker": {
          "symbol": "circle"
         },
         "mode": "lines",
         "name": "Escitalopram for Depression",
         "orientation": "v",
         "showlegend": true,
         "stackgroup": "1",
         "type": "scatter",
         "x": {
          "bdata": "vgcAAL8HAADABwAAwQcAAMIHAADDBwAAxAcAAMUHAADGBwAAxwcAAMgHAADJBwAAygcAAMsHAADMBwAAzQcAAM4HAADPBwAA0AcAANEHAADSBwAA0wcAANQHAADVBwAA1gcAANcHAADYBwAA2QcAANoHAADbBwAA3AcAAN0HAADeBwAA3wcAAOAHAADhBwAA4gcAAOMHAADkBwAA5QcAAOYHAADnBwAA6AcAAOkHAAA=",
          "dtype": "i4"
         },
         "xaxis": "x",
         "y": {
          "bdata": "VVVVVVVVtT8AAAAAAAAAAHCBC1zgAqc/Hh4eHh4erj8RDuEQDuGgP5Cc5mv17KA/9waUiSvdez8AAAAAAAAAAAAAAAAAAAAAtQojRPYlbz9kIQtZyEJ2P+ere6SVyXM/8ZKAcCJecj/QR+6t76aCP+6YEbJ9HJQ/Ecg1Ecg1kT/A0Ig6R5GGP2FRARwTFpU/pxX3TrLUkT/kFkp9sOOWPw+8MI5QM5E/SRpgd9RImj8+XNH64sOVPzVMR5R+qpQ/XvyJhFOalz94Nuo7G/WdPyt4UOF25o4/vrlfqqSvkD/eU7BLq4OMPw4rcyfq0JE/2DhpgY2Thj99U6v5bzOSP0fLUt8e3ow/wXgr+xxSgz9xu2HGELeLP+Od5T/ZFYc/mpmZmZmZgT+CxauvGzJ/PzZlTVlT1nQ/fYjcoHE0eD+4UTu7vjKCPymryNC/tIE/cEBYTFLPcD8V+OLqBx1lPw==",
          "dtype": "f8"
         },
         "yaxis": "y"
        },
        {
         "fillpattern": {
          "shape": ""
         },
         "hovertemplate": "<b>%{fullData.name}</b><br>Year: %{x}<br>Proportion: %{y:.2%}<extra></extra>",
         "legendgroup": "Analytical Methods for SSRI Detection and Quantification",
         "line": {
          "color": "#2d89e5"
         },
         "marker": {
          "symbol": "circle"
         },
         "mode": "lines",
         "name": "Analytical Methods for SSRI Detection and Quantification",
         "orientation": "v",
         "showlegend": true,
         "stackgroup": "1",
         "type": "scatter",
         "x": {
          "bdata": "vgcAAL8HAADABwAAwQcAAMIHAADDBwAAxAcAAMUHAADGBwAAxwcAAMgHAADJBwAAygcAAMsHAADMBwAAzQcAAM4HAADPBwAA0AcAANEHAADSBwAA0wcAANQHAADVBwAA1gcAANcHAADYBwAA2QcAANoHAADbBwAA3AcAAN0HAADeBwAA3wcAAOAHAADhBwAA4gcAAOMHAADkBwAA5QcAAOYHAADnBwAA6AcAAOkHAAA=",
          "dtype": "i4"
         },
         "xaxis": "x",
         "y": {
          "bdata": "HMdxHMdxjD8AAAAAAAAAAHCBC1zgAoc/Ecg1Ecg1gT8XaIEWaIGGPwAAAAAAAAAA9waUiSvdez/D7OAIIq13PyB0VOCLq48/CEgas3hchz9kIQtZyEKWP+GWmg37u4g/T6WQvuaplD9M2Rbj5deNP8CHFKWSdoc/F2DyFmDylj+cKY/fCVaSPxL6AaocoY8/pxX3TrLUoT9MGeayf0yZP4ZxhJqJoKA/hhFA+uKFoT+TnhHJMumZP+GmxuEq5ps/cUrz4k8knD9icgUxuYKoP0aRY7C6Cp4/bbjEwO8ypD8Z9aNK7MWgP0p8+rWKHqA/vRE80RvBoz896tCQXqefP0fLUt8e3pw/gCiDT0q4oD8WXuEVXuGlP9l6bkSCVJ8/MzMzMzMzmz9by01RfxOcP2VNWVPWlKU/5LfeoQ+Rmz8SNo3vkTKZP/FOz2VC0pk/d8QdcUfcoT8gdFTgi6ufPw==",
          "dtype": "f8"
         },
         "yaxis": "y"
        },
        {
         "fillpattern": {
          "shape": ""
         },
         "hovertemplate": "<b>%{fullData.name}</b><br>Year: %{x}<br>Proportion: %{y:.2%}<extra></extra>",
         "legendgroup": "SSRIs for Pain",
         "line": {
          "color": "#90b211"
         },
         "marker": {
          "symbol": "circle"
         },
         "mode": "lines",
         "name": "SSRIs for Pain",
         "orientation": "v",
         "showlegend": true,
         "stackgroup": "1",
         "type": "scatter",
         "x": {
          "bdata": "vgcAAL8HAADABwAAwQcAAMIHAADDBwAAxAcAAMUHAADGBwAAxwcAAMgHAADJBwAAygcAAMsHAADMBwAAzQcAAM4HAADPBwAA0AcAANEHAADSBwAA0wcAANQHAADVBwAA1gcAANcHAADYBwAA2QcAANoHAADbBwAA3AcAAN0HAADeBwAA3wcAAOAHAADhBwAA4gcAAOMHAADkBwAA5QcAAOYHAADnBwAA6AcAAOkHAAA=",
          "dtype": "i4"
         },
         "xaxis": "x",
         "y": {
          "bdata": "HMdxHMdxnD8AAAAAAAAAAHCBC1zgApc/GqzQGazQqT8XaIEWaIGGP5Cc5mv17KA/9waUiSvdez/D7OAIIq2HPyB0VOCLq48/CEgas3hchz+96U1vetOLP+ere6SVyXM/atzAqDONiz9M2Rbj5dd9PxyqDr9owoA/F2DyFmDyhj/A0Ig6R5GGPzUngbhQc5I/Z7fwqzGRjj9GE+CseUaDP7H5TbBNhYs/SRpgd9RIij9T0MGjLgWNP/c8bENliJA/STilefEnkj9BTK4gJleQPwVB6VmVCIg/dvUns1gajD81J4G4UHOSP89JfPq1io4/PNEbwRO9kT9qbCJPCH2MP0TGn1+fCZA/M6ee5XbAij9tdQHCylaHP9+PT9scYoo/MzMzMzMziz/72WJl+EaEP9aUNWVNWYM/DKNy0nTTgj9mCLB+NMyHP1pyPx41qHQ/JJtffe41gj8V+OLqBx11Pw==",
          "dtype": "f8"
         },
         "yaxis": "y"
        },
        {
         "fillpattern": {
          "shape": ""
         },
         "hovertemplate": "<b>%{fullData.name}</b><br>Year: %{x}<br>Proportion: %{y:.2%}<extra></extra>",
         "legendgroup": "SSRIs for Weight Management",
         "line": {
          "color": "#cd4bd8"
         },
         "marker": {
          "symbol": "circle"
         },
         "mode": "lines",
         "name": "SSRIs for Weight Management",
         "orientation": "v",
         "showlegend": true,
         "stackgroup": "1",
         "type": "scatter",
         "x": {
          "bdata": "vgcAAL8HAADABwAAwQcAAMIHAADDBwAAxAcAAMUHAADGBwAAxwcAAMgHAADJBwAAygcAAMsHAADMBwAAzQcAAM4HAADPBwAA0AcAANEHAADSBwAA0wcAANQHAADVBwAA1gcAANcHAADYBwAA2QcAANoHAADbBwAA3AcAAN0HAADeBwAA3wcAAOAHAADhBwAA4gcAAOMHAADkBwAA5QcAAOYHAADnBwAA6AcAAOkHAAA=",
          "dtype": "i4"
         },
         "xaxis": "x",
         "y": {
          "bdata": "HMdxHMdxjD8AAAAAAAAAAAAAAAAAAAAAEcg1Ecg1kT8XaIEWaIGWP/yR03ytnq0/GIZhGIZhqD+SsaiG2cGhPxX44uoHHaU/XqmeezdBmz/Tm970pjetP2QhC1nIQqY/rbegDKv1lj9ktR8MboSUP5N2F5in0Jo/IESNH0SNjz/wBCsJmTWMPxL6AaocoY8/oHJ2C78akz9GE+CseUaDP/0m2KbCDZA/txOIWZ+2gz/TbGHuNs2GP7Bq/TWx7ow/VxCTK4jJhT9t1Hc26juLP6jXWzQs4oI/x/bCnA2XeD9RWV4mtSB0P89JfPq1in4/cJ41AedZgz+ur5zshr2HP8VIeR/fc3Y/VYtZvw1Lhj8SGIERGIGBP+ere6SVyYM/ZmZmZmZmdj810e/y4vRoP/QFfUFf0Hc/xJWnOfODdT9jfxgsHJmDP+7HowaVgm0/EBaT1DMEfD8atpvlSWSKPw==",
          "dtype": "f8"
         },
         "yaxis": "y"
        },
        {
         "fillpattern": {
          "shape": ""
         },
         "hovertemplate": "<b>%{fullData.name}</b><br>Year: %{x}<br>Proportion: %{y:.2%}<extra></extra>",
         "legendgroup": "Paroxetine Binding to Serotonin Transporter",
         "line": {
          "color": "#2de5a0"
         },
         "marker": {
          "symbol": "circle"
         },
         "mode": "lines",
         "name": "Paroxetine Binding to Serotonin Transporter",
         "orientation": "v",
         "showlegend": true,
         "stackgroup": "1",
         "type": "scatter",
         "x": {
          "bdata": "vgcAAL8HAADABwAAwQcAAMIHAADDBwAAxAcAAMUHAADGBwAAxwcAAMgHAADJBwAAygcAAMsHAADMBwAAzQcAAM4HAADPBwAA0AcAANEHAADSBwAA0wcAANQHAADVBwAA1gcAANcHAADYBwAA2QcAANoHAADbBwAA3AcAAN0HAADeBwAA3wcAAOAHAADhBwAA4gcAAOMHAADkBwAA5QcAAOYHAADnBwAA6AcAAOkHAAA=",
          "dtype": "i4"
         },
         "xaxis": "x",
         "y": {
          "bdata": "HMdxHMdxnD/QusEU+ayrP3CBC1zgArc/Ecg1Ecg1oT8RDuEQDuGwPyJwYxmUCsM/W4T8NTtqwT+SsaiG2cGxPxKZhu1mecI/tQojRPYlrz/Tm970pjetP2o27O9iULE/O9O4gVFnqj/QR+6t76aiP4UhkDhzb6I/Ecg1Ecg1oT/A0Ig6R5GWP6OQQbE2Cpk/jYn0QOXslj+vFXziSK+FP7H5TbBNhYs/SRpgd9RIij/+jYHV3t94P8YAo5frkJE/dMBuj7UMfT9JOKV58SdyPwVB6VmVCHg/dvUns1gaTD9RWV4mtSB0P0bsihf3JVs/cJ41AedZYz+X7nMNslJZPwYKZv/+qEk/n5RwIYbHRz8SGIERGIFhP9+PT9scYko/MzMzMzMzYz810e/y4vRIP/QFfUFf0Ec/AAAAAAAAAAAAAAAAAAAAAIs5tmuqm1c/QKt1EMNpRj8AAAAAAAAAAA==",
          "dtype": "f8"
         },
         "yaxis": "y"
        },
        {
         "fillpattern": {
          "shape": ""
         },
         "hovertemplate": "<b>%{fullData.name}</b><br>Year: %{x}<br>Proportion: %{y:.2%}<extra></extra>",
         "legendgroup": "Oncopreventive and Oncolytic Properties of SSRIs",
         "line": {
          "color": "#b24711"
         },
         "marker": {
          "symbol": "circle"
         },
         "mode": "lines",
         "name": "Oncopreventive and Oncolytic Properties of SSRIs",
         "orientation": "v",
         "showlegend": true,
         "stackgroup": "1",
         "type": "scatter",
         "x": {
          "bdata": "vgcAAL8HAADABwAAwQcAAMIHAADDBwAAxAcAAMUHAADGBwAAxwcAAMgHAADJBwAAygcAAMsHAADMBwAAzQcAAM4HAADPBwAA0AcAANEHAADSBwAA0wcAANQHAADVBwAA1gcAANcHAADYBwAA2QcAANoHAADbBwAA3AcAAN0HAADeBwAA3wcAAOAHAADhBwAA4gcAAOMHAADkBwAA5QcAAOYHAADnBwAA6AcAAOkHAAA=",
          "dtype": "i4"
         },
         "xaxis": "x",
         "y": {
          "bdata": "HMdxHMdxjD8AAAAAAAAAAAAAAAAAAAAAAAAAAAAAAAAAAAAAAAAAAAAAAAAAAAAAAAAAAAAAAAAAAAAAAAAAAAAAAAAAAAAAAAAAAAAAAABkIQtZyEJ2P+ere6SVyWM/AAAAAAAAAAD5IlFq7GF2P5N2F5in0Go/Ecg1Ecg1cT/wBCsJmTV8P2FRARwTFnU/gUPzuf54eT8YGBgYGBh4PyFRiXXeWGI/hhFA+uKFgT9UCQE5P5VwP3JbIuWXzHg/STilefEngj9XEJMriMllP98JgtKzKoE/cHeQEWjVhj81J4G4UHOCP6zTtm6695A/QNOcATTNeT9qbCJPCH18P2apbw9vDog/x7nMqWe5jT/DjCFuN8yIP+ere6SVyZM/mpmZmZmZkT+CxauvGzKPP1PWlDVlTYk/Sufgoq3tjj+QcUHGBRmXP1pyPx41qJQ/asMW7YG3nD8gdFTgi6uPPw==",
          "dtype": "f8"
         },
         "yaxis": "y"
        },
        {
         "fillpattern": {
          "shape": ""
         },
         "hovertemplate": "<b>%{fullData.name}</b><br>Year: %{x}<br>Proportion: %{y:.2%}<extra></extra>",
         "legendgroup": "Pharmacological Reviews",
         "line": {
          "color": "#514bd8"
         },
         "marker": {
          "symbol": "circle"
         },
         "mode": "lines",
         "name": "Pharmacological Reviews",
         "orientation": "v",
         "showlegend": true,
         "stackgroup": "1",
         "type": "scatter",
         "x": {
          "bdata": "vgcAAL8HAADABwAAwQcAAMIHAADDBwAAxAcAAMUHAADGBwAAxwcAAMgHAADJBwAAygcAAMsHAADMBwAAzQcAAM4HAADPBwAA0AcAANEHAADSBwAA0wcAANQHAADVBwAA1gcAANcHAADYBwAA2QcAANoHAADbBwAA3AcAAN0HAADeBwAA3wcAAOAHAADhBwAA4gcAAOMHAADkBwAA5QcAAOYHAADnBwAA6AcAAOkHAAA=",
          "dtype": "i4"
         },
         "xaxis": "x",
         "y": {
          "bdata": "HMdxHMdxjD/QusEU+aybP8xhDnOYw6w/FjqDFTqDpT8XaIEWaIGGP5Cc5mv17JA/GIZhGIZhqD/D7OAIIq2HPxX44uoHHXU/AAAAAAAAAAC96U1vetObP6Zmw/4uBqU/yO7Q9vfYnT9ktR8MboSkP9Blz/vtmKE/F2DyFmDylj/A0Ig6R5GWP7mlAeOXW5o/YRRwaD7Xnz+vFXziSK+VP0V7OkT6o4Q/txOIWZ+2gz/+jYHV3t+IP5bE2etxmYI/dMBuj7UMjT9BTK4gJleAP84Ow7sNwIk/avn4b3eQgT/6hY25DzF+P6zTtm6693A/2DhpgY2Tdj896tCQXqd/P4WHjD+/PmM/d28UmaTVcT8SGIERGIFxP+Od5T/ZFXc/AAAAAAAAcD810e/y4vRIP3FH3BF3xG0/xJWnOfODZT+72tIN12VGPymryNC/tGE/cEBYTFLPYD8AAAAAAAAAAA==",
          "dtype": "f8"
         },
         "yaxis": "y"
        },
        {
         "fillpattern": {
          "shape": ""
         },
         "hovertemplate": "<b>%{fullData.name}</b><br>Year: %{x}<br>Proportion: %{y:.2%}<extra></extra>",
         "legendgroup": "Risk of Prenatal Exposure",
         "line": {
          "color": "#5be52d"
         },
         "marker": {
          "symbol": "circle"
         },
         "mode": "lines",
         "name": "Risk of Prenatal Exposure",
         "orientation": "v",
         "showlegend": true,
         "stackgroup": "1",
         "type": "scatter",
         "x": {
          "bdata": "vgcAAL8HAADABwAAwQcAAMIHAADDBwAAxAcAAMUHAADGBwAAxwcAAMgHAADJBwAAygcAAMsHAADMBwAAzQcAAM4HAADPBwAA0AcAANEHAADSBwAA0wcAANQHAADVBwAA1gcAANcHAADYBwAA2QcAANoHAADbBwAA3AcAAN0HAADeBwAA3wcAAOAHAADhBwAA4gcAAOMHAADkBwAA5QcAAOYHAADnBwAA6AcAAOkHAAA=",
          "dtype": "i4"
         },
         "xaxis": "x",
         "y": {
          "bdata": "HMdxHMdxjD8AAAAAAAAAAAAAAAAAAAAAAAAAAAAAAAAAAAAAAAAAAAAAAAAAAAAA9waUiSvdez8AAAAAAAAAAAAAAAAAAAAAAAAAAAAAAABkIQtZyEJmP9uBuXZgro0/8ZKAcCJeYj9M2Rbj5dd9PxyqDr9owoA/HfiuHPiujD+otjdTHr+TP2FRARwTFpU/jYn0QOXslj+BGrRN54CKPw+8MI5QM5E/GBgYGBgYiD/TbGHuNs2WP3JbIuWXzJg/YnIFMbmCmD9Umhd/IuGUPztzD/gcUZY/czZcYuB3mT+l7/Vv4iiZP13/FEtSZKE/PNEbwRO9oT8gYrji5S2kP5f7Tddmq50/wXgr+xxSoz/sY+lAuT6mPyXjneU/2aU/AAAAAAAAoj/72WJl+EakPzDoC/qCvqA/+SOuPM2Znz+T+tgYHkybPymryNC/tKE/Hh4eHh4enj8dFfji6gedPw==",
          "dtype": "f8"
         },
         "yaxis": "y"
        },
        {
         "fillpattern": {
          "shape": ""
         },
         "hovertemplate": "<b>%{fullData.name}</b><br>Year: %{x}<br>Proportion: %{y:.2%}<extra></extra>",
         "legendgroup": "SSRIs Effect on Sleep",
         "line": {
          "color": "#b21168"
         },
         "marker": {
          "symbol": "circle"
         },
         "mode": "lines",
         "name": "SSRIs Effect on Sleep",
         "orientation": "v",
         "showlegend": true,
         "stackgroup": "1",
         "type": "scatter",
         "x": {
          "bdata": "vgcAAL8HAADABwAAwQcAAMIHAADDBwAAxAcAAMUHAADGBwAAxwcAAMgHAADJBwAAygcAAMsHAADMBwAAzQcAAM4HAADPBwAA0AcAANEHAADSBwAA0wcAANQHAADVBwAA1gcAANcHAADYBwAA2QcAANoHAADbBwAA3AcAAN0HAADeBwAA3wcAAOAHAADhBwAA4gcAAOMHAADkBwAA5QcAAOYHAADnBwAA6AcAAOkHAAA=",
          "dtype": "i4"
         },
         "xaxis": "x",
         "y": {
          "bdata": "HMdxHMdxjD/QusEU+aybP3CBC1zgAoc/Ecg1Ecg1gT8XaIEWaIGGP/yR03ytnq0/9waUiSvdmz+SsaiG2cGRPyB0VOCLq58/CEgas3hclz9kIQtZyEKGP+GWmg37u4g/k4BwIl4SkD/5IlFq7GGGP+6YEbJ9HIQ/F2DyFmDyhj+QnOZr9eyAP7mlAeOXW4o/ms/1x8tglD8YGBgYGBh4P9Yj/35p0I0/qh7wNU2qfj+pS0EHj7p0PxHjj42k3Yo/STilefEngj9m6IDdHmt5P3KlNZakmXQ/cHeQEWjVhj/eU7BLq4OMP89JfPq1in4/PNEbwRO9gT+BLUsu3eeKP0fLUt8e3nw/LWb9NixZgD/I0oFyfSx9P+u5EQlSfYA/zczMzMzMhD810e/y4vR4P9aUNWVNWYM/aBwNBrQrhD9jfxgsHJlzP+7HowaVgn0/qGCEcvs2eT8V+OLqBx11Pw==",
          "dtype": "f8"
         },
         "yaxis": "y"
        },
        {
         "fillpattern": {
          "shape": ""
         },
         "hovertemplate": "<b>%{fullData.name}</b><br>Year: %{x}<br>Proportion: %{y:.2%}<extra></extra>",
         "legendgroup": "SSRI Effects on Lactation",
         "line": {
          "color": "#4bc1d8"
         },
         "marker": {
          "symbol": "circle"
         },
         "mode": "lines",
         "name": "SSRI Effects on Lactation",
         "orientation": "v",
         "showlegend": true,
         "stackgroup": "1",
         "type": "scatter",
         "x": {
          "bdata": "vgcAAL8HAADABwAAwQcAAMIHAADDBwAAxAcAAMUHAADGBwAAxwcAAMgHAADJBwAAygcAAMsHAADMBwAAzQcAAM4HAADPBwAA0AcAANEHAADSBwAA0wcAANQHAADVBwAA1gcAANcHAADYBwAA2QcAANoHAADbBwAA3AcAAN0HAADeBwAA3wcAAOAHAADhBwAA4gcAAOMHAADkBwAA5QcAAOYHAADnBwAA6AcAAOkHAAA=",
          "dtype": "i4"
         },
         "xaxis": "x",
         "y": {
          "bdata": "VVVVVVVVtT/CFPmsG0zBPxShCEUoQqE/Hh4eHh4erj8RDuEQDuGgP7RD4MYyKKU/9waUiSvdiz/0JxmLapidPxX44uoHHYU/XqmeezdBmz8LWchCFrKQP+GWmg37u4g/rbegDKv1hj8j/rMm6RyKP2VlGou8Ko4/E+6kEu6kkj/wBCsJmTWMPxL6AaocoY8/jYn0QOXshj9TH+y4hVKPP9Yj/35p0I0/bhCcyoRtkD998eGK1hePPxHjj42k3Yo/UCSc0rz4gz9QJJzSvPiDP98JgtKzKoE/JfSMyaOdfz/CIdPdRtaKP76OmTQ4wYc/CAQCgUAggD8ItD9p2miBP8VIeR/fc3Y/M6ee5XbAej8SGIERGIFxP9+PT9scYno/ZmZmZmZmdj/o3DM2qrdiP/QFfUFf0Gc/U7A9a/YicD+72tIN12VGP4s5tmuqm0c/QKt1EMNpRj8AAAAAAAAAAA==",
          "dtype": "f8"
         },
         "yaxis": "y"
        },
        {
         "fillpattern": {
          "shape": ""
         },
         "hovertemplate": "<b>%{fullData.name}</b><br>Year: %{x}<br>Proportion: %{y:.2%}<extra></extra>",
         "legendgroup": "SSRIs for Depression in Diabetes Patients",
         "line": {
          "color": "#e5ce2d"
         },
         "marker": {
          "symbol": "circle"
         },
         "mode": "lines",
         "name": "SSRIs for Depression in Diabetes Patients",
         "orientation": "v",
         "showlegend": true,
         "stackgroup": "1",
         "type": "scatter",
         "x": {
          "bdata": "vgcAAL8HAADABwAAwQcAAMIHAADDBwAAxAcAAMUHAADGBwAAxwcAAMgHAADJBwAAygcAAMsHAADMBwAAzQcAAM4HAADPBwAA0AcAANEHAADSBwAA0wcAANQHAADVBwAA1gcAANcHAADYBwAA2QcAANoHAADbBwAA3AcAAN0HAADeBwAA3wcAAOAHAADhBwAA4gcAAOMHAADkBwAA5QcAAOYHAADnBwAA6AcAAOkHAAA=",
          "dtype": "i4"
         },
         "xaxis": "x",
         "y": {
          "bdata": "HMdxHMdxjD8AAAAAAAAAAAAAAAAAAAAAAAAAAAAAAAAXaIEWaIGGPwAAAAAAAAAAAAAAAAAAAADD7OAIIq13PwAAAAAAAAAAtQojRPYlbz+96U1vetOLPwAAAAAAAAAA8ZKAcCJecj9M2Rbj5dd9P5N2F5in0Fo/F2DyFmDyZj/A0Ig6R5FmPzUngbhQc4I/ms/1x8tgdD8YGBgYGBh4PyFRiXXeWGI/hhFA+uKFcT9T0MGjLgV9P/c8bENliIA/QUyuICZXgD9m6IDdHmt5Pyt4UOF25n4/dvUns1gafD9RWV4mtSCEP/nfIMPYDoY/pGtPQbr2hD+TFNTYRJ6QP+crSc+ueI4/x7nMqWe5jT+9I5FnzjuSP9+PT9scYoo/ZmZmZmZmjj810e/y4vSIP3fEHXFH3IE/7m1Gb26VjT8PrfWcef+EP4s5tmuqm3c/jFBu3yYDhT8V+OLqBx1lPw==",
          "dtype": "f8"
         },
         "yaxis": "y"
        },
        {
         "fillpattern": {
          "shape": ""
         },
         "hovertemplate": "<b>%{fullData.name}</b><br>Year: %{x}<br>Proportion: %{y:.2%}<extra></extra>",
         "legendgroup": "SSRIs for Depression with Cognitive Impairment",
         "line": {
          "color": "#6f11b2"
         },
         "marker": {
          "symbol": "circle"
         },
         "mode": "lines",
         "name": "SSRIs for Depression with Cognitive Impairment",
         "orientation": "v",
         "showlegend": true,
         "stackgroup": "1",
         "type": "scatter",
         "x": {
          "bdata": "vgcAAL8HAADABwAAwQcAAMIHAADDBwAAxAcAAMUHAADGBwAAxwcAAMgHAADJBwAAygcAAMsHAADMBwAAzQcAAM4HAADPBwAA0AcAANEHAADSBwAA0wcAANQHAADVBwAA1gcAANcHAADYBwAA2QcAANoHAADbBwAA3AcAAN0HAADeBwAA3wcAAOAHAADhBwAA4gcAAOMHAADkBwAA5QcAAOYHAADnBwAA6AcAAOkHAAA=",
          "dtype": "i4"
         },
         "xaxis": "x",
         "y": {
          "bdata": "HMdxHMdxrD8cTJHPusG0P3CBC1zgAqc/Ecg1Ecg1oT8RDuEQDuGgP9jq2SFwY5k/GIZhGIZhqD+SsaiG2cGRPxX44uoHHXU/tQojRPYlbz8LWchCFrKAP+ere6SVyXM/rbegDKv1hj872rxPccmQP8CHFKWSdoc/HfiuHPiufD/A0Ig6R5F2PxL6AaocoW8/Z7fwqzGRfj8YGBgYGBh4P9Yj/35p0I0/SRpgd9RIij9T0MGjLgV9P9TTtDyLu4Y/VxCTK4jJhT9QJJzSvPiDP3KlNZakmXQ/JfSMyaOdfz/6hY25DzF+P89JfPq1in4/2DhpgY2Thj+X7nMNslJ5P8VIeR/fc4Y/EcPjC+A1jz8SGIERGIFxP+u5EQlSfYA/mpmZmZmZgT/o3DM2qreCP3FH3BF3xG0/fYjcoHE0eD9jfxgsHJlzP4s5tmuqm2c/eMuhNmzRfj8V+OLqBx11Pw==",
          "dtype": "f8"
         },
         "yaxis": "y"
        },
        {
         "fillpattern": {
          "shape": ""
         },
         "hovertemplate": "<b>%{fullData.name}</b><br>Year: %{x}<br>Proportion: %{y:.2%}<extra></extra>",
         "legendgroup": "QTC Prolongation",
         "line": {
          "color": "#4bd874"
         },
         "marker": {
          "symbol": "circle"
         },
         "mode": "lines",
         "name": "QTC Prolongation",
         "orientation": "v",
         "showlegend": true,
         "stackgroup": "1",
         "type": "scatter",
         "x": {
          "bdata": "vgcAAL8HAADABwAAwQcAAMIHAADDBwAAxAcAAMUHAADGBwAAxwcAAMgHAADJBwAAygcAAMsHAADMBwAAzQcAAM4HAADPBwAA0AcAANEHAADSBwAA0wcAANQHAADVBwAA1gcAANcHAADYBwAA2QcAANoHAADbBwAA3AcAAN0HAADeBwAA3wcAAOAHAADhBwAA4gcAAOMHAADkBwAA5QcAAOYHAADnBwAA6AcAAOkHAAA=",
          "dtype": "i4"
         },
         "xaxis": "x",
         "y": {
          "bdata": "HMdxHMdxjD/QusEU+aybP3CBC1zgAoc/Ecg1Ecg1gT8RDuEQDuGgP5Cc5mv17IA/9waUiSvdez/D7OAIIq13PxX44uoHHXU/CEgas3hchz9kIQtZyEJ2P+GWmg37u4g/8ZKAcCJecj9M2Rbj5dd9P5N2F5in0Go/FBQUFBQUhD+otjdTHr+DPxL6AaocoX8/Z7fwqzGRbj8YGBgYGBiIP7H5TbBNhWs/hhFA+uKFgT9UCQE5P5WAP/c8bENliIA/dMBuj7UMfT90wG6PtQxtP3KlNZakmYQ/GfhdhsITdT+l7/Vv4iiJP0bsihf3JXs/2DhpgY2Thj+BLUsu3eeKPwYKZv/+qIk/C4JCXZXOhD9tdQHCylaHP+Od5T/ZFYc/mpmZmZmZgT810e/y4vR4P/QFfUFf0Hc/xJWnOfODdT++Y2pg75iKP1pyPx41qIQ/cEBYTFLPgD8gdFTgi6t/Pw==",
          "dtype": "f8"
         },
         "yaxis": "y"
        },
        {
         "fillpattern": {
          "shape": ""
         },
         "hovertemplate": "<b>%{fullData.name}</b><br>Year: %{x}<br>Proportion: %{y:.2%}<extra></extra>",
         "legendgroup": "Extrapyramidal Reactions Risk",
         "line": {
          "color": "#e52d2d"
         },
         "marker": {
          "symbol": "circle"
         },
         "mode": "lines",
         "name": "Extrapyramidal Reactions Risk",
         "orientation": "v",
         "showlegend": true,
         "stackgroup": "1",
         "type": "scatter",
         "x": {
          "bdata": "vgcAAL8HAADABwAAwQcAAMIHAADDBwAAxAcAAMUHAADGBwAAxwcAAMgHAADJBwAAygcAAMsHAADMBwAAzQcAAM4HAADPBwAA0AcAANEHAADSBwAA0wcAANQHAADVBwAA1gcAANcHAADYBwAA2QcAANoHAADbBwAA3AcAAN0HAADeBwAA3wcAAOAHAADhBwAA4gcAAOMHAADkBwAA5QcAAOYHAADnBwAA6AcAAOkHAAA=",
          "dtype": "i4"
         },
         "xaxis": "x",
         "y": {
          "bdata": "HMdxHMdxjD/QusEU+ayLPwAAAAAAAAAAAAAAAAAAAAAXaIEWaIGGPwAAAAAAAAAAAAAAAAAAAADD7OAIIq13PwAAAAAAAAAAtQojRPYlbz9kIQtZyEKGP+ere6SVyYM/8ZKAcCJekj/QR+6t76aCP5N2F5in0Io/HfiuHPiufD/A0Ig6R5GGPxL6AaocoX8/ms/1x8tgdD8YGBgYGBiIP/0m2KbCDYA/5xXQuFvnhT9UCQE5P5WAP5bE2etxmYI/VxCTK4jJhT9m6IDdHmuJPyt4UOF25n4/GfhdhsIThT+JvRgCfnt3P89JfPq1in4/cJ41AedZYz/EcMXLWyh2P+Qmlk8vpIE/VYtZvw1Lhj/I0oFyfSx9P+ere6SVyYM/mpmZmZmZiT9by01RfxN8PzZlTVlT1oQ/NnsRCPDkej8SNo3vkTJ5P8EOhHd6LoM/jFBu3yYDhT8SmYbtZnmSPw==",
          "dtype": "f8"
         },
         "yaxis": "y"
        },
        {
         "fillpattern": {
          "shape": ""
         },
         "hovertemplate": "<b>%{fullData.name}</b><br>Year: %{x}<br>Proportion: %{y:.2%}<extra></extra>",
         "legendgroup": "SSRIs for Irritable Bowel Syndrome",
         "line": {
          "color": "#1140b2"
         },
         "marker": {
          "symbol": "circle"
         },
         "mode": "lines",
         "name": "SSRIs for Irritable Bowel Syndrome",
         "orientation": "v",
         "showlegend": true,
         "stackgroup": "1",
         "type": "scatter",
         "x": {
          "bdata": "vgcAAL8HAADABwAAwQcAAMIHAADDBwAAxAcAAMUHAADGBwAAxwcAAMgHAADJBwAAygcAAMsHAADMBwAAzQcAAM4HAADPBwAA0AcAANEHAADSBwAA0wcAANQHAADVBwAA1gcAANcHAADYBwAA2QcAANoHAADbBwAA3AcAAN0HAADeBwAA3wcAAOAHAADhBwAA4gcAAOMHAADkBwAA5QcAAOYHAADnBwAA6AcAAOkHAAA=",
          "dtype": "i4"
         },
         "xaxis": "x",
         "y": {
          "bdata": "HMdxHMdxnD8AAAAAAAAAABShCEUoQqE/AAAAAAAAAAAXaIEWaIGWPwAAAAAAAAAA9waUiSvdiz/D7OAIIq13PxX44uoHHXU/tQojRPYlbz9kIQtZyEJ2P9uBuXZgrn0/rbegDKv1hj9M2Rbj5dd9P5N2F5in0Ho/Ecg1Ecg1cT/A0Ig6R5F2PxL6AaocoW8/Z7fwqzGRbj9GE+CseUZjP/0m2KbCDYA/nhLkKUGekj+pS0EHj7qEP3JbIuWXzHg/VxCTK4jJhT9t1Hc26juLPwVB6VmVCIg/wXgr+xxSgz+l7/Vv4iiJP76OmTQ4wYc/CAQCgUAggD896tCQXqd/PwYKZv/+qIk/n5RwIYbHdz+/RsFp8WuEP+ere6SVyYM/ZmZmZmZmdj9by01RfxN8P/QFfUFf0Hc/aBwNBrQrhD8SNo3vkTJ5P5BHDSoFO4A/eMuhNmzRfj8gdFTgi6uPPw==",
          "dtype": "f8"
         },
         "yaxis": "y"
        },
        {
         "fillpattern": {
          "shape": ""
         },
         "hovertemplate": "<b>%{fullData.name}</b><br>Year: %{x}<br>Proportion: %{y:.2%}<extra></extra>",
         "legendgroup": "SSRIs and the Cytochrome P450 System",
         "line": {
          "color": "#9ed84b"
         },
         "marker": {
          "symbol": "circle"
         },
         "mode": "lines",
         "name": "SSRIs and the Cytochrome P450 System",
         "orientation": "v",
         "showlegend": true,
         "stackgroup": "1",
         "type": "scatter",
         "x": {
          "bdata": "vgcAAL8HAADABwAAwQcAAMIHAADDBwAAxAcAAMUHAADGBwAAxwcAAMgHAADJBwAAygcAAMsHAADMBwAAzQcAAM4HAADPBwAA0AcAANEHAADSBwAA0wcAANQHAADVBwAA1gcAANcHAADYBwAA2QcAANoHAADbBwAA3AcAAN0HAADeBwAA3wcAAOAHAADhBwAA4gcAAOMHAADkBwAA5QcAAOYHAADnBwAA6AcAAOkHAAA=",
          "dtype": "i4"
         },
         "xaxis": "x",
         "y": {
          "bdata": "HMdxHMdxjD/QusEU+aybPxShCEUoQqE/Ecg1Ecg1gT8XaIEWaIGWP5Cc5mv17IA/9waUiSvdiz8rz8THfbekPxX44uoHHYU/XqmeezdBqz+nN73pTW+qP6BR4meU+Kk/IJyIlwSEoz+CIv6zJumsP7CpWU43VK0/ElvtEVvtsT9SpAXo5a6oP3HaYd8Kp60/ms/1x8tgpD+1G4LoTrWrPyFRiXXeWKI/bhCcyoRtoD9T0MGjLgWdP9TTtDyLu5Y/dMBuj7UMnT9pXvyJhFOaP6jXWzQs4pI/FjmSNUpxkj+ziOSmlP+ZP9PZ65hJg5M/QNOcATTNiT9qbCJPCH2MP0fLUt8e3ow/Zv02LFkQlD9xu2HGELeLP+ere6SVyYM/MzMzMzMziz8i1MDDlGWHPzZlTVlT1oQ/XmalOFUnkj/A7AGzB8yOP8EOhHd6LoM/XLuLo5edij8gdFTgi6t/Pw==",
          "dtype": "f8"
         },
         "yaxis": "y"
        },
        {
         "fillpattern": {
          "shape": ""
         },
         "hovertemplate": "<b>%{fullData.name}</b><br>Year: %{x}<br>Proportion: %{y:.2%}<extra></extra>",
         "legendgroup": "Methylenedioxymethamphetamine (MDMA) Induced Neurotoxicity",
         "line": {
          "color": "#e52dce"
         },
         "marker": {
          "symbol": "circle"
         },
         "mode": "lines",
         "name": "Methylenedioxymethamphetamine (MDMA) Induced Neurotoxicity",
         "orientation": "v",
         "showlegend": true,
         "stackgroup": "1",
         "type": "scatter",
         "x": {
          "bdata": "vgcAAL8HAADABwAAwQcAAMIHAADDBwAAxAcAAMUHAADGBwAAxwcAAMgHAADJBwAAygcAAMsHAADMBwAAzQcAAM4HAADPBwAA0AcAANEHAADSBwAA0wcAANQHAADVBwAA1gcAANcHAADYBwAA2QcAANoHAADbBwAA3AcAAN0HAADeBwAA3wcAAOAHAADhBwAA4gcAAOMHAADkBwAA5QcAAOYHAADnBwAA6AcAAOkHAAA=",
          "dtype": "i4"
         },
         "xaxis": "x",
         "y": {
          "bdata": "VVVVVVVVpT/QusEU+aybPxShCEUoQqE/E4FcE4Fcsz8RDuEQDuGwP9jq2SFwY6k/9waUiSvdmz/0JxmLapitPyB0VOCLq68/XqmeezdBqz9kIQtZyEKWP+ere6SVyaM/8ZKAcCJegj8j/rMm6RyKP5N2F5in0Io/HfiuHPiufD8IH3zwwQePPxL6AaocoY8/pxX3TrLUgT9TH+y4hVKPP2ml6xIW73Y/qh7wNU2qfj9+KiEg56eCPwAAAAAAAAAAVxCTK4jJhT90wG6PtQx9P3KlNZakmYQ/dvUns1gaXD/6hY25DzF+P0bsihf3JWs/QNOcATTNaT896tCQXqdvPwYKZv/+qEk/d28UmaTVYT9tdQHCylZXP9+PT9scYko/AAAAAAAAAAA10e/y4vRYP/QFfUFf0Fc/AAAAAAAAAAAAAAAAAAAAAAAAAAAAAAAAQKt1EMNpRj8AAAAAAAAAAA==",
          "dtype": "f8"
         },
         "yaxis": "y"
        },
        {
         "fillpattern": {
          "shape": ""
         },
         "hovertemplate": "<b>%{fullData.name}</b><br>Year: %{x}<br>Proportion: %{y:.2%}<extra></extra>",
         "legendgroup": "SSRIs Effect on Pulmonary Hypertension",
         "line": {
          "color": "#11b297"
         },
         "marker": {
          "symbol": "circle"
         },
         "mode": "lines",
         "name": "SSRIs Effect on Pulmonary Hypertension",
         "orientation": "v",
         "showlegend": true,
         "stackgroup": "1",
         "type": "scatter",
         "x": {
          "bdata": "vgcAAL8HAADABwAAwQcAAMIHAADDBwAAxAcAAMUHAADGBwAAxwcAAMgHAADJBwAAygcAAMsHAADMBwAAzQcAAM4HAADPBwAA0AcAANEHAADSBwAA0wcAANQHAADVBwAA1gcAANcHAADYBwAA2QcAANoHAADbBwAA3AcAAN0HAADeBwAA3wcAAOAHAADhBwAA4gcAAOMHAADkBwAA5QcAAOYHAADnBwAA6AcAAOkHAAA=",
          "dtype": "i4"
         },
         "xaxis": "x",
         "y": {
          "bdata": "HMdxHMdxnD/QusEU+aybP3CBC1zgApc/Ecg1Ecg1kT8RDuEQDuGgP5Cc5mv17JA/9waUiSvdiz/D7OAIIq2HPyB0VOCLq48/tQojRPYljz84velNb3qTP+ere6SVyXM/atzAqDONez9M2Rbj5ddtP5N2F5in0Fo/F2DyFmDydj/A0Ig6R5FmPxL6AaocoY8/gUPzuf54iT9GE+CseUZzP7H5TbBNhWs/SRpgd9RIaj9+KiEg56eCP/c8bENliIA/QUyuICZXgD9m6IDdHmt5P3KlNZakmWQ/dvUns1gafD/CIdPdRtZqP6zTtm6694A/pGtPQbr2hD/x8haKBf6CPwYKZv/+qGk/n5RwIYbHdz8SGIERGIFhP+WkMHK3b4U/mpmZmZmZaT/U3wQHXCiBP3FH3BF3xG0/U7A9a/YicD8MJF5KYcxgPymryNC/tGE/cEBYTFLPYD8V+OLqBx1lPw==",
          "dtype": "f8"
         },
         "yaxis": "y"
        },
        {
         "fillpattern": {
          "shape": ""
         },
         "hovertemplate": "<b>%{fullData.name}</b><br>Year: %{x}<br>Proportion: %{y:.2%}<extra></extra>",
         "legendgroup": "Serotonergic Modulation of Cocaine Effects",
         "line": {
          "color": "#d8984b"
         },
         "marker": {
          "symbol": "circle"
         },
         "mode": "lines",
         "name": "Serotonergic Modulation of Cocaine Effects",
         "orientation": "v",
         "showlegend": true,
         "stackgroup": "1",
         "type": "scatter",
         "x": {
          "bdata": "vgcAAL8HAADABwAAwQcAAMIHAADDBwAAxAcAAMUHAADGBwAAxwcAAMgHAADJBwAAygcAAMsHAADMBwAAzQcAAM4HAADPBwAA0AcAANEHAADSBwAA0wcAANQHAADVBwAA1gcAANcHAADYBwAA2QcAANoHAADbBwAA3AcAAN0HAADeBwAA3wcAAOAHAADhBwAA4gcAAOMHAADkBwAA5QcAAOYHAADnBwAA6AcAAOkHAAA=",
          "dtype": "i4"
         },
         "xaxis": "x",
         "y": {
          "bdata": "HMdxHMdxnD8AAAAAAAAAABShCEUoQqE/AAAAAAAAAAAAAAAAAAAAAJCc5mv17JA/9waUiSvdiz/0JxmLapidPyB0VOCLq48/tQojRPYlnz+96U1vetOLP9uBuXZgrp0/rbegDKv1lj/QR+6t76aSP2VlGou8Ko4/FjqDFTqDlT+0Q+DGMiiVP417gX/VuJc/ms/1x8tgdD/qHFCDtumMP2ml6xIW74Y/5xXQuFvndT+pS0EHj7qEP3JbIuWXzHg/dMBuj7UMbT90wG6PtQxtP3KlNZakmWQ/JfSMyaOdfz/CIdPdRtZqP0bsihf3JWs/cJ41AedZYz/x8haKBf5iPwYKZv/+qGk/n5RwIYbHRz9tdQHCylZHP+ere6SVyWM/AAAAAAAAAAAAAAAAAAAAAAAAAAAAAAAAxJWnOfODRT8MJF5KYcxgP4s5tmuqm0c/cEBYTFLPYD8V+OLqBx1lPw==",
          "dtype": "f8"
         },
         "yaxis": "y"
        },
        {
         "fillpattern": {
          "shape": ""
         },
         "hovertemplate": "<b>%{fullData.name}</b><br>Year: %{x}<br>Proportion: %{y:.2%}<extra></extra>",
         "legendgroup": "Non-SERT Transporters in Antidepressant Action",
         "line": {
          "color": "#5b2de5"
         },
         "marker": {
          "symbol": "circle"
         },
         "mode": "lines",
         "name": "Non-SERT Transporters in Antidepressant Action",
         "orientation": "v",
         "showlegend": true,
         "stackgroup": "1",
         "type": "scatter",
         "x": {
          "bdata": "vgcAAL8HAADABwAAwQcAAMIHAADDBwAAxAcAAMUHAADGBwAAxwcAAMgHAADJBwAAygcAAMsHAADMBwAAzQcAAM4HAADPBwAA0AcAANEHAADSBwAA0wcAANQHAADVBwAA1gcAANcHAADYBwAA2QcAANoHAADbBwAA3AcAAN0HAADeBwAA3wcAAOAHAADhBwAA4gcAAOMHAADkBwAA5QcAAOYHAADnBwAA6AcAAOkHAAA=",
          "dtype": "i4"
         },
         "xaxis": "x",
         "y": {
          "bdata": "HMdxHMdxnD/QusEU+aybPwAAAAAAAAAAGqzQGazQmT8XaIEWaIGWP5Cc5mv17JA/9waUiSvdez8AAAAAAAAAABX44uoHHXU/CEgas3hchz+96U1vetOLP9uBuXZgrn0/rbegDKv1hj9M2Rbj5ddtP+6YEbJ9HHQ/F2DyFmDydj/Y6tkhcGOJP7mlAeOXW3o/Z7fwqzGRbj+vFXziSK+FP/0m2KbCDYA/SRpgd9RIaj9UCQE5P5VgPzVMR5R+qnQ/STilefEncj9JOKV58SeCP5jcnB2Gd2s/dvUns1gabD+JvRgCfnt3PzUxqFF5XHQ/CAQCgUAgcD896tCQXqd/P8VIeR/fc3Y/n5RwIYbHZz8SGIERGIGBP9+PT9scYno/MzMzMzMzYz/72WJl+EaEPzZlTVlT1nQ/NnsRCPDkaj8MJF5KYcyAP4s5tmuqm2c/EBaT1DMEbD8V+OLqBx11Pw==",
          "dtype": "f8"
         },
         "yaxis": "y"
        },
        {
         "fillpattern": {
          "shape": ""
         },
         "hovertemplate": "<b>%{fullData.name}</b><br>Year: %{x}<br>Proportion: %{y:.2%}<extra></extra>",
         "legendgroup": "SERT Binding Mechanisms",
         "line": {
          "color": "#18b211"
         },
         "marker": {
          "symbol": "circle"
         },
         "mode": "lines",
         "name": "SERT Binding Mechanisms",
         "orientation": "v",
         "showlegend": true,
         "stackgroup": "1",
         "type": "scatter",
         "x": {
          "bdata": "vgcAAL8HAADABwAAwQcAAMIHAADDBwAAxAcAAMUHAADGBwAAxwcAAMgHAADJBwAAygcAAMsHAADMBwAAzQcAAM4HAADPBwAA0AcAANEHAADSBwAA0wcAANQHAADVBwAA1gcAANcHAADYBwAA2QcAANoHAADbBwAA3AcAAN0HAADeBwAA3wcAAOAHAADhBwAA4gcAAOMHAADkBwAA5QcAAOYHAADnBwAA6AcAAOkHAAA=",
          "dtype": "i4"
         },
         "xaxis": "x",
         "y": {
          "bdata": "HMdxHMdxjD8AAAAAAAAAAAAAAAAAAAAAAAAAAAAAAAAXaIEWaIGGPwAAAAAAAAAAAAAAAAAAAAAAAAAAAAAAAAAAAAAAAAAAtQojRPYlfz9kIQtZyEJmP+ere6SVyWM/atzAqDONez/5IlFq7GF2P5N2F5in0Go/F2DyFmDydj+QnOZr9exwPxL6AaocoW8/ms/1x8tgZD9GE+CseUaDPyFRiXXeWHI/5xXQuFvndT9UCQE5P5VgPzVMR5R+qnQ/ZuiA3R5reT9JOKV58SdyPyt4UOF25n4/dvUns1gafD8Z9aNK7MWAPzUxqFF5XIQ/cJ41AedZcz/x8haKBf5yP4WHjD+/PnM/n5RwIYbHdz+/RsFp8WuEP+u5EQlSfYA/MzMzMzMzcz8O15GURtZ1P7OmrClryno/U7A9a/YigD+72tIN12V2P4s5tmuqm3c/QKt1EMNpdj8gdFTgi6t/Pw==",
          "dtype": "f8"
         },
         "yaxis": "y"
        },
        {
         "fillpattern": {
          "shape": ""
         },
         "hovertemplate": "<b>%{fullData.name}</b><br>Year: %{x}<br>Proportion: %{y:.2%}<extra></extra>",
         "legendgroup": "Astrocyte Receptors as a Target for SSRIs",
         "line": {
          "color": "#d84b7b"
         },
         "marker": {
          "symbol": "circle"
         },
         "mode": "lines",
         "name": "Astrocyte Receptors as a Target for SSRIs",
         "orientation": "v",
         "showlegend": true,
         "stackgroup": "1",
         "type": "scatter",
         "x": {
          "bdata": "vgcAAL8HAADABwAAwQcAAMIHAADDBwAAxAcAAMUHAADGBwAAxwcAAMgHAADJBwAAygcAAMsHAADMBwAAzQcAAM4HAADPBwAA0AcAANEHAADSBwAA0wcAANQHAADVBwAA1gcAANcHAADYBwAA2QcAANoHAADbBwAA3AcAAN0HAADeBwAA3wcAAOAHAADhBwAA4gcAAOMHAADkBwAA5QcAAOYHAADnBwAA6AcAAOkHAAA=",
          "dtype": "i4"
         },
         "xaxis": "x",
         "y": {
          "bdata": "HMdxHMdxrD8AAAAAAAAAAAAAAAAAAAAAGqzQGazQmT8XaIEWaIGGP5Cc5mv17IA/9waUiSvdiz/0JxmLapidPxX44uoHHYU/tQojRPYlbz9kIQtZyEJ2P+ere6SVyXM/8ZKAcCJecj9M2Rbj5ddtP5N2F5in0Go/F2DyFmDyZj+QnOZr9exwP2FRARwTFnU/AAAAAAAAAADeEER3qt2APyFRiXXeWGI/SRpgd9RIej9UCQE5P5VwP5bE2etxmYI/STilefEncj9m6IDdHmt5PwVB6VmVCHg/dvUns1gafD81J4G4UHOCP0bsihf3JXs/cJ41AedZgz+X7nMNslJpP4WHjD+/PnM/x7nMqWe5fT9tdQHCylZnP+myxtZzI4I/AAAAAAAAgD810e/y4vR4P/QFfUFf0Hc/DKNy0nTTcj9pkUfRTP9rP+7HowaVgm0/EBaT1DMEbD8V+OLqBx1lPw==",
          "dtype": "f8"
         },
         "yaxis": "y"
        },
        {
         "fillpattern": {
          "shape": ""
         },
         "hovertemplate": "<b>%{fullData.name}</b><br>Year: %{x}<br>Proportion: %{y:.2%}<extra></extra>",
         "legendgroup": "SSRIs Effect on Dopamine Receptors",
         "line": {
          "color": "#2da0e5"
         },
         "marker": {
          "symbol": "circle"
         },
         "mode": "lines",
         "name": "SSRIs Effect on Dopamine Receptors",
         "orientation": "v",
         "showlegend": true,
         "stackgroup": "1",
         "type": "scatter",
         "x": {
          "bdata": "vgcAAL8HAADABwAAwQcAAMIHAADDBwAAxAcAAMUHAADGBwAAxwcAAMgHAADJBwAAygcAAMsHAADMBwAAzQcAAM4HAADPBwAA0AcAANEHAADSBwAA0wcAANQHAADVBwAA1gcAANcHAADYBwAA2QcAANoHAADbBwAA3AcAAN0HAADeBwAA3wcAAOAHAADhBwAA4gcAAOMHAADkBwAA5QcAAOYHAADnBwAA6AcAAOkHAAA=",
          "dtype": "i4"
         },
         "xaxis": "x",
         "y": {
          "bdata": "HMdxHMdxnD8q8lk3mCK/PytZyUpWssI/Hh4eHh4evj8cwiEcwiGsP/yR03ytnq0/9waUiSvdmz9fwDanqzyzPxKZhu1meaI/BrZThlqFoT9kIQtZyEKGP+GWmg37u4g/k4BwIl4SkD/QR+6t76aCP2VlGou8Ko4/FBQUFBQUhD/A0Ig6R5GGP2FRARwTFlU/ms/1x8tgdD/eEER3qt2APyFRiXXeWGI/AAAAAAAAAABUCQE5P5VwP/c8bENliFA/VxCTK4jJZT8AAAAAAAAAAJjcnB2Gd0s/dvUns1gaXD9RWV4mtSBkP0bsihf3JUs/AAAAAAAAAAAAAAAAAAAAAAYKZv/+qEk/d28UmaTVYT8AAAAAAAAAAN+PT9scYko/mpmZmZmZST810e/y4vRIP/QFfUFf0Ec/xJWnOfODRT8AAAAAAAAAAAAAAAAAAAAAAAAAAAAAAAAAAAAAAAAAAA==",
          "dtype": "f8"
         },
         "yaxis": "y"
        },
        {
         "fillpattern": {
          "shape": ""
         },
         "hovertemplate": "<b>%{fullData.name}</b><br>Year: %{x}<br>Proportion: %{y:.2%}<extra></extra>",
         "legendgroup": "Galanin System in Antidepressant Action",
         "line": {
          "color": "#a5b211"
         },
         "marker": {
          "symbol": "circle"
         },
         "mode": "lines",
         "name": "Galanin System in Antidepressant Action",
         "orientation": "v",
         "showlegend": true,
         "stackgroup": "1",
         "type": "scatter",
         "x": {
          "bdata": "vgcAAL8HAADABwAAwQcAAMIHAADDBwAAxAcAAMUHAADGBwAAxwcAAMgHAADJBwAAygcAAMsHAADMBwAAzQcAAM4HAADPBwAA0AcAANEHAADSBwAA0wcAANQHAADVBwAA1gcAANcHAADYBwAA2QcAANoHAADbBwAA3AcAAN0HAADeBwAA3wcAAOAHAADhBwAA4gcAAOMHAADkBwAA5QcAAOYHAADnBwAA6AcAAOkHAAA=",
          "dtype": "i4"
         },
         "xaxis": "x",
         "y": {
          "bdata": "HMdxHMdxjD8AAAAAAAAAAHCBC1zgApc/Ecg1Ecg1gT8XaIEWaIGWP9jq2SFwY5k/OQUvp+DllD/D7OAIIq13PxX44uoHHYU/AAAAAAAAAAAAAAAAAAAAANuBuXZgrn0/atzAqDONez9M2Rbj5dd9P5N2F5in0Ho/Ecg1Ecg1cT/A0Ig6R5FmP2FRARwTFlU/ms/1x8tgdD/qHFCDtulsPyFRiXXeWGI/hhFA+uKFUT+pS0EHj7p0P/c8bENliIA/dMBuj7UMTT90wG6PtQx9PwVB6VmVCHg/dvUns1gaXD9RWV4mtSBkP6zTtm6693A/cJ41AedZYz+X7nMNslJpP0TGn1+fCXA/d28UmaTVYT/I0oFyfSxtP+ere6SVyWM/mpmZmZmZST810e/y4vRoP3fEHXFH3GE/xJWnOfODVT8MJF5KYcxwPwAAAAAAAAAAAAAAAAAAAAAV+OLqBx11Pw==",
          "dtype": "f8"
         },
         "yaxis": "y"
        },
        {
         "fillpattern": {
          "shape": ""
         },
         "hovertemplate": "<b>%{fullData.name}</b><br>Year: %{x}<br>Proportion: %{y:.2%}<extra></extra>",
         "legendgroup": "SSRIs in Model Organisms ( C. Elegans and Drosophilia)",
         "line": {
          "color": "#bb4bd8"
         },
         "marker": {
          "symbol": "circle"
         },
         "mode": "lines",
         "name": "SSRIs in Model Organisms ( C. Elegans and Drosophilia)",
         "orientation": "v",
         "showlegend": true,
         "stackgroup": "1",
         "type": "scatter",
         "x": {
          "bdata": "vgcAAL8HAADABwAAwQcAAMIHAADDBwAAxAcAAMUHAADGBwAAxwcAAMgHAADJBwAAygcAAMsHAADMBwAAzQcAAM4HAADPBwAA0AcAANEHAADSBwAA0wcAANQHAADVBwAA1gcAANcHAADYBwAA2QcAANoHAADbBwAA3AcAAN0HAADeBwAA3wcAAOAHAADhBwAA4gcAAOMHAADkBwAA5QcAAOYHAADnBwAA6AcAAOkHAAA=",
          "dtype": "i4"
         },
         "xaxis": "x",
         "y": {
          "bdata": "HMdxHMdxjD8cTJHPusGkP3CBC1zgApc/GqzQGazQmT8XaIEWaIGGP9jq2SFwY5k/9waUiSvdez/D7OAIIq2XPyB0VOCLq48/tQojRPYljz+96U1vetOLP+ere6SVyYM/8ZKAcCJeYj9M2Rbj5dddP5N2F5in0Fo/Ecg1Ecg1cT/A0Ig6R5FWP2FRARwTFmU/ms/1x8tgVD/qHFCDtulsPyFRiXXeWFI/SRpgd9RIaj8AAAAAAAAAAHJbIuWXzGg/VxCTK4jJZT90wG6PtQxdP5jcnB2Gd1s/dvUns1gaXD/CIdPdRtZqP0bsihf3JVs/QNOcATTNWT+X7nMNslJZP4WHjD+/PmM/n5RwIYbHVz9tdQHCylZHP9+PT9scYko/mpmZmZmZaT/o3DM2qrdiP/QFfUFf0Gc/NnsRCPDkaj+72tIN12VGPymryNC/tGE/EBaT1DMEbD8V+OLqBx1lPw==",
          "dtype": "f8"
         },
         "yaxis": "y"
        },
        {
         "fillpattern": {
          "shape": ""
         },
         "hovertemplate": "<b>%{fullData.name}</b><br>Year: %{x}<br>Proportion: %{y:.2%}<extra></extra>",
         "legendgroup": "Fluvoxamine for Covid 19",
         "line": {
          "color": "#2de589"
         },
         "marker": {
          "symbol": "circle"
         },
         "mode": "lines",
         "name": "Fluvoxamine for Covid 19",
         "orientation": "v",
         "showlegend": true,
         "stackgroup": "1",
         "type": "scatter",
         "x": {
          "bdata": "vgcAAL8HAADABwAAwQcAAMIHAADDBwAAxAcAAMUHAADGBwAAxwcAAMgHAADJBwAAygcAAMsHAADMBwAAzQcAAM4HAADPBwAA0AcAANEHAADSBwAA0wcAANQHAADVBwAA1gcAANcHAADYBwAA2QcAANoHAADbBwAA3AcAAN0HAADeBwAA3wcAAOAHAADhBwAA4gcAAOMHAADkBwAA5QcAAOYHAADnBwAA6AcAAOkHAAA=",
          "dtype": "i4"
         },
         "xaxis": "x",
         "y": {
          "bdata": "AAAAAAAAAADQusEU+ayLPwAAAAAAAAAAAAAAAAAAAAAAAAAAAAAAAAAAAAAAAAAAAAAAAAAAAAAAAAAAAAAAAAAAAAAAAAAAAAAAAAAAAAAAAAAAAAAAAOere6SVyWM/AAAAAAAAAABM2Rbj5dddP5N2F5in0Fo/F2DyFmDyZj/A0Ig6R5FWPwAAAAAAAAAAAAAAAAAAAABGE+CseUZTPyFRiXXeWGI/SRpgd9RIaj9UCQE5P5VQP/c8bENliFA/dMBuj7UMTT90wG6PtQxdPwVB6VmVCHg/GfhdhsITdT9RWV4mtSCEP6zTtm6693A/CAQCgUAgcD9qbCJPCH18P8VIeR/fc3Y/d28UmaTVcT8SGIERGIFxP+ere6SVyWM/MzMzMzMzcz/U3wQHXCiBP/QFfUFf0Jc/hz5EbtA4mj9TGDMEWD+qP7+HWBjN3qY/XLuLo5edmj+RadhuliehPw==",
          "dtype": "f8"
         },
         "yaxis": "y"
        },
        {
         "fillpattern": {
          "shape": ""
         },
         "hovertemplate": "<b>%{fullData.name}</b><br>Year: %{x}<br>Proportion: %{y:.2%}<extra></extra>",
         "legendgroup": "SSRIs for Depression in in Epileptic Patients",
         "line": {
          "color": "#b23211"
         },
         "marker": {
          "symbol": "circle"
         },
         "mode": "lines",
         "name": "SSRIs for Depression in in Epileptic Patients",
         "orientation": "v",
         "showlegend": true,
         "stackgroup": "1",
         "type": "scatter",
         "x": {
          "bdata": "vgcAAL8HAADABwAAwQcAAMIHAADDBwAAxAcAAMUHAADGBwAAxwcAAMgHAADJBwAAygcAAMsHAADMBwAAzQcAAM4HAADPBwAA0AcAANEHAADSBwAA0wcAANQHAADVBwAA1gcAANcHAADYBwAA2QcAANoHAADbBwAA3AcAAN0HAADeBwAA3wcAAOAHAADhBwAA4gcAAOMHAADkBwAA5QcAAOYHAADnBwAA6AcAAOkHAAA=",
          "dtype": "i4"
         },
         "xaxis": "x",
         "y": {
          "bdata": "AAAAAAAAAADQusEU+ayLP3CBC1zgAoc/Ecg1Ecg1kT8AAAAAAAAAAAAAAAAAAAAA9waUiSvdez/D7OAIIq2HPxX44uoHHXU/tQojRPYlbz9kIQtZyEKGP+GWmg37u4g/8ZKAcCJekj/5IlFq7GGGP+6YEbJ9HIQ/Ecg1Ecg1gT/A0Ig6R5F2P7mlAeOXW3o/Z7fwqzGRfj9GE+CseUZjP/0m2KbCDYA/qh7wNU2qfj/+jYHV3t94P/c8bENliIA/QUyuICZXgD9JOKV58SeCP5jcnB2Gd2s/dvUns1gaXD+JvRgCfnt3P6zTtm6694A/CAQCgUAggD896tCQXqd/PyXogi9P2YQ/LWb9NixZgD8SGIERGIGBP+myxtZzI4I/mpmZmZmZgT/U3wQHXCiBP7OmrClryno/NnsRCPDkej9jfxgsHJlzP70ALbkfj3o/eMuhNmzRfj8V+OLqBx1lPw==",
          "dtype": "f8"
         },
         "yaxis": "y"
        },
        {
         "fillpattern": {
          "shape": ""
         },
         "hovertemplate": "<b>%{fullData.name}</b><br>Year: %{x}<br>Proportion: %{y:.2%}<extra></extra>",
         "legendgroup": "SSRIs and Augmentation for Treatment Resistant Depression",
         "line": {
          "color": "#4b57d8"
         },
         "marker": {
          "symbol": "circle"
         },
         "mode": "lines",
         "name": "SSRIs and Augmentation for Treatment Resistant Depression",
         "orientation": "v",
         "showlegend": true,
         "stackgroup": "1",
         "type": "scatter",
         "x": {
          "bdata": "vgcAAL8HAADABwAAwQcAAMIHAADDBwAAxAcAAMUHAADGBwAAxwcAAMgHAADJBwAAygcAAMsHAADMBwAAzQcAAM4HAADPBwAA0AcAANEHAADSBwAA0wcAANQHAADVBwAA1gcAANcHAADYBwAA2QcAANoHAADbBwAA3AcAAN0HAADeBwAA3wcAAOAHAADhBwAA4gcAAOMHAADkBwAA5QcAAOYHAADnBwAA6AcAAOkHAAA=",
          "dtype": "i4"
         },
         "xaxis": "x",
         "y": {
          "bdata": "AAAAAAAAAADQusEU+ayLPwAAAAAAAAAAEcg1Ecg1gT8AAAAAAAAAAAAAAAAAAAAAOQUvp+DllD/D7OAIIq13PyB0VOCLq48/seaV6rl3kz8LWchCFrKQP+GWmg37u4g/k4BwIl4SkD9ktR8MboSUP2VlGou8Ko4/HfiuHPiujD+otjdTHr+DPxL6AaocoY8/jYn0QOXshj+BGrRN54CKP/0m2KbCDYA/SRpgd9RIij+pS0EHj7qEP7Bq/TWx7nw/XvyJhFOahz9XEJMriMmFPyt4UOF25n4/avn4b3eQgT/CIdPdRtZ6P89JfPq1in4/2DhpgY2Tdj+X7nMNslJZPwYKZv/+qEk/n5RwIYbHZz9tdQHCylZnP9+PT9scYno/mpmZmZmZaT+CxauvGzJvP/QFfUFf0Gc/xJWnOfODZT8MJF5KYcxwP4s5tmuqm3c/QKt1EMNpRj8AAAAAAAAAAA==",
          "dtype": "f8"
         },
         "yaxis": "y"
        },
        {
         "fillpattern": {
          "shape": ""
         },
         "hovertemplate": "<b>%{fullData.name}</b><br>Year: %{x}<br>Proportion: %{y:.2%}<extra></extra>",
         "legendgroup": "SSRIs for Social Anxiety Disorder",
         "line": {
          "color": "#73e52d"
         },
         "marker": {
          "symbol": "circle"
         },
         "mode": "lines",
         "name": "SSRIs for Social Anxiety Disorder",
         "orientation": "v",
         "showlegend": true,
         "stackgroup": "1",
         "type": "scatter",
         "x": {
          "bdata": "vgcAAL8HAADABwAAwQcAAMIHAADDBwAAxAcAAMUHAADGBwAAxwcAAMgHAADJBwAAygcAAMsHAADMBwAAzQcAAM4HAADPBwAA0AcAANEHAADSBwAA0wcAANQHAADVBwAA1gcAANcHAADYBwAA2QcAANoHAADbBwAA3AcAAN0HAADeBwAA3wcAAOAHAADhBwAA4gcAAOMHAADkBwAA5QcAAOYHAADnBwAA6AcAAOkHAAA=",
          "dtype": "i4"
         },
         "xaxis": "x",
         "y": {
          "bdata": "AAAAAAAAAADQusEU+ayLPwAAAAAAAAAAAAAAAAAAAAAAAAAAAAAAAAAAAAAAAAAAAAAAAAAAAAAAAAAAAAAAAAAAAAAAAAAAAAAAAAAAAAAAAAAAAAAAAOere6SVyXM/k4BwIl4SkD/5IlFq7GF2PxyqDr9owoA/F2DyFmDydj+otjdTHr+DP417gX/VuJc/lCx1hNimlT/eEER3qt2QP7H5TbBNhYs/qh7wNU2qjj998eGK1hePPzVMR5R+qoQ/UCSc0rz4gz90wG6PtQx9Pyt4UOF25n4/avn4b3eQgT/CIdPdRtZaP89JfPq1in4/CAQCgUAgcD/x8haKBf5yP0fLUt8e3nw/n5RwIYbHdz8apEEapEF6P+u5EQlSfXA/ZmZmZmZmdj/o3DM2qrdiP3fEHXFH3HE/xJWnOfODZT8MJF5KYcxgP4s5tmuqm2c/QKt1EMNpRj8AAAAAAAAAAA==",
          "dtype": "f8"
         },
         "yaxis": "y"
        },
        {
         "fillpattern": {
          "shape": ""
         },
         "hovertemplate": "<b>%{fullData.name}</b><br>Year: %{x}<br>Proportion: %{y:.2%}<extra></extra>",
         "legendgroup": "SSRIs for Geriatric Depression",
         "line": {
          "color": "#b2117d"
         },
         "marker": {
          "symbol": "circle"
         },
         "mode": "lines",
         "name": "SSRIs for Geriatric Depression",
         "orientation": "v",
         "showlegend": true,
         "stackgroup": "1",
         "type": "scatter",
         "x": {
          "bdata": "vgcAAL8HAADABwAAwQcAAMIHAADDBwAAxAcAAMUHAADGBwAAxwcAAMgHAADJBwAAygcAAMsHAADMBwAAzQcAAM4HAADPBwAA0AcAANEHAADSBwAA0wcAANQHAADVBwAA1gcAANcHAADYBwAA2QcAANoHAADbBwAA3AcAAN0HAADeBwAA3wcAAOAHAADhBwAA4gcAAOMHAADkBwAA5QcAAOYHAADnBwAA6AcAAOkHAAA=",
          "dtype": "i4"
         },
         "xaxis": "x",
         "y": {
          "bdata": "AAAAAAAAAADQusEU+ayLPwAAAAAAAAAAAAAAAAAAAAAAAAAAAAAAAAAAAAAAAAAAAAAAAAAAAAAAAAAAAAAAAAAAAAAAAAAAAAAAAAAAAABkIQtZyEKGP+GWmg37u5g/atzAqDONez872rxPccmQPxyqDr9owpA/E+6kEu6kkj/wBCsJmTWMP7mlAeOXW4o/pxX3TrLUgT+BGrRN54CKP43PnOExOok/5xXQuFvndT9UCQE5P5WAP/c8bENliIA/QUyuICZXgD9JOKV58SdyPwVB6VmVCHg/dvUns1gafD9RWV4mtSBkP6zTtm6694A/QNOcATTNeT/x8haKBf5iP0TGn1+fCXA/d28UmaTVYT9tdQHCylZXP9+PT9scYlo/MzMzMzMzYz810e/y4vRoP3fEHXFH3GE/xJWnOfODVT9pkUfRTP9rPymryNC/tGE/cEBYTFLPcD8V+OLqBx11Pw==",
          "dtype": "f8"
         },
         "yaxis": "y"
        },
        {
         "fillpattern": {
          "shape": ""
         },
         "hovertemplate": "<b>%{fullData.name}</b><br>Year: %{x}<br>Proportion: %{y:.2%}<extra></extra>",
         "legendgroup": "Sertraline for Depression",
         "line": {
          "color": "#4bd3d8"
         },
         "marker": {
          "symbol": "circle"
         },
         "mode": "lines",
         "name": "Sertraline for Depression",
         "orientation": "v",
         "showlegend": true,
         "stackgroup": "1",
         "type": "scatter",
         "x": {
          "bdata": "vgcAAL8HAADABwAAwQcAAMIHAADDBwAAxAcAAMUHAADGBwAAxwcAAMgHAADJBwAAygcAAMsHAADMBwAAzQcAAM4HAADPBwAA0AcAANEHAADSBwAA0wcAANQHAADVBwAA1gcAANcHAADYBwAA2QcAANoHAADbBwAA3AcAAN0HAADeBwAA3wcAAOAHAADhBwAA4gcAAOMHAADkBwAA5QcAAOYHAADnBwAA6AcAAOkHAAA=",
          "dtype": "i4"
         },
         "xaxis": "x",
         "y": {
          "bdata": "AAAAAAAAAADQusEU+ayLPwAAAAAAAAAAAAAAAAAAAAAXaIEWaIGWP5Cc5mv17IA/9waUiSvdiz/D7OAIIq2HPwAAAAAAAAAAseaV6rl3kz8LWchCFrKQP9uBuXZgrn0/atzAqDONiz9ktR8MboSUP+6YEbJ9HIQ/FBQUFBQUlD+otjdTHr+DPxL6AaocoY8/jYn0QOXslj/eEER3qt2AP0V7OkT6o4Q/hhFA+uKFgT9T0MGjLgV9P/c8bENliHA/dMBuj7UMbT8AAAAAAAAAAN8JgtKzKnE/dvUns1gabD/CIdPdRtZaP0bsihf3JWs/CAQCgUAgcD+X7nMNslJJPwYKZv/+qEk/d28UmaTVYT9tdQHCylZHP+ere6SVyWM/MzMzMzMzYz810e/y4vRIP3FH3BF3xG0/xJWnOfODVT8AAAAAAAAAAIs5tmuqm2c/QKt1EMNpdj8V+OLqBx1lPw==",
          "dtype": "f8"
         },
         "yaxis": "y"
        },
        {
         "fillpattern": {
          "shape": ""
         },
         "hovertemplate": "<b>%{fullData.name}</b><br>Year: %{x}<br>Proportion: %{y:.2%}<extra></extra>",
         "legendgroup": "SSRIs Long-term Efficacy and Recurrent Depression",
         "line": {
          "color": "#e5b72d"
         },
         "marker": {
          "symbol": "circle"
         },
         "mode": "lines",
         "name": "SSRIs Long-term Efficacy and Recurrent Depression",
         "orientation": "v",
         "showlegend": true,
         "stackgroup": "1",
         "type": "scatter",
         "x": {
          "bdata": "vgcAAL8HAADABwAAwQcAAMIHAADDBwAAxAcAAMUHAADGBwAAxwcAAMgHAADJBwAAygcAAMsHAADMBwAAzQcAAM4HAADPBwAA0AcAANEHAADSBwAA0wcAANQHAADVBwAA1gcAANcHAADYBwAA2QcAANoHAADbBwAA3AcAAN0HAADeBwAA3wcAAOAHAADhBwAA4gcAAOMHAADkBwAA5QcAAOYHAADnBwAA6AcAAOkHAAA=",
          "dtype": "i4"
         },
         "xaxis": "x",
         "y": {
          "bdata": "AAAAAAAAAADQusEU+ayLPwAAAAAAAAAAAAAAAAAAAAAAAAAAAAAAAAAAAAAAAAAAAAAAAAAAAAAAAAAAAAAAAAAAAAAAAAAAtQojRPYlbz9kIQtZyEJmP9uBuXZgrn0/rbegDKv1hj9M2Rbj5dd9PxyqDr9owoA/Ecg1Ecg1cT+QnOZr9eyAPxL6AaocoW8/Z7fwqzGRfj+BGrRN54CKP0V7OkT6o4Q/hhFA+uKFcT9UCQE5P5VwP/c8bENliGA/ZuiA3R5reT9XEJMriMl1P3KlNZakmWQ/dvUns1gaXD9RWV4mtSBkP0bsihf3JVs/AAAAAAAAAADx8haKBf5iPwYKZv/+qFk/d28UmaTVYT8AAAAAAAAAAAAAAAAAAAAAmpmZmZmZWT810e/y4vRIPwAAAAAAAAAAxJWnOfODRT8AAAAAAAAAAIs5tmuqm0c/QKt1EMNpRj8AAAAAAAAAAA==",
          "dtype": "f8"
         },
         "yaxis": "y"
        },
        {
         "fillpattern": {
          "shape": ""
         },
         "hovertemplate": "<b>%{fullData.name}</b><br>Year: %{x}<br>Proportion: %{y:.2%}<extra></extra>",
         "legendgroup": "SSRIs in Forced Swimming Test",
         "line": {
          "color": "#5b11b2"
         },
         "marker": {
          "symbol": "circle"
         },
         "mode": "lines",
         "name": "SSRIs in Forced Swimming Test",
         "orientation": "v",
         "showlegend": true,
         "stackgroup": "1",
         "type": "scatter",
         "x": {
          "bdata": "vgcAAL8HAADABwAAwQcAAMIHAADDBwAAxAcAAMUHAADGBwAAxwcAAMgHAADJBwAAygcAAMsHAADMBwAAzQcAAM4HAADPBwAA0AcAANEHAADSBwAA0wcAANQHAADVBwAA1gcAANcHAADYBwAA2QcAANoHAADbBwAA3AcAAN0HAADeBwAA3wcAAOAHAADhBwAA4gcAAOMHAADkBwAA5QcAAOYHAADnBwAA6AcAAOkHAAA=",
          "dtype": "i4"
         },
         "xaxis": "x",
         "y": {
          "bdata": "AAAAAAAAAAAAAAAAAAAAAHCBC1zgAoc/Ecg1Ecg1gT8AAAAAAAAAANjq2SFwY5k/OQUvp+DllD/D7OAIIq13PyB0VOCLq58/tQojRPYljz84velNb3qTP9uBuXZgrn0/8ZKAcCJegj872rxPccmQP5N2F5in0Io/GqzQGazQiT/Y6tkhcGOJPzUngbhQc5I/Z7fwqzGRjj97FK5H4XqUP7H5TbBNhYs/nhLkKUGekj998eGK1hePP0/yat69/44/STilefEngj9m6IDdHmuJPzZk5RtOdKI/GfhdhsITlT9DwG/vAkqTP4I9EqaXc5k/2rmpoZ2bmj9mkoIam8iTP2apbw9vDpg/wXgr+xxSkz+9I5FnzjuSP2YoVoumnJQ/zczMzMzMjD8O15GURtaFP/QFfUFf0Ic/NnsRCPDkej+72tIN12V2P+7HowaVgn0/cEBYTFLPcD8V+OLqBx1lPw==",
          "dtype": "f8"
         },
         "yaxis": "y"
        },
        {
         "fillpattern": {
          "shape": ""
         },
         "hovertemplate": "<b>%{fullData.name}</b><br>Year: %{x}<br>Proportion: %{y:.2%}<extra></extra>",
         "legendgroup": "Serotonin Syndrome",
         "line": {
          "color": "#4bd862"
         },
         "marker": {
          "symbol": "circle"
         },
         "mode": "lines",
         "name": "Serotonin Syndrome",
         "orientation": "v",
         "showlegend": true,
         "stackgroup": "1",
         "type": "scatter",
         "x": {
          "bdata": "vgcAAL8HAADABwAAwQcAAMIHAADDBwAAxAcAAMUHAADGBwAAxwcAAMgHAADJBwAAygcAAMsHAADMBwAAzQcAAM4HAADPBwAA0AcAANEHAADSBwAA0wcAANQHAADVBwAA1gcAANcHAADYBwAA2QcAANoHAADbBwAA3AcAAN0HAADeBwAA3wcAAOAHAADhBwAA4gcAAOMHAADkBwAA5QcAAOYHAADnBwAA6AcAAOkHAAA=",
          "dtype": "i4"
         },
         "xaxis": "x",
         "y": {
          "bdata": "AAAAAAAAAAAAAAAAAAAAABShCEUoQqE/AAAAAAAAAAAAAAAAAAAAAAAAAAAAAAAAAAAAAAAAAACSsaiG2cGRPxq2m+VJZJo/tQojRPYlfz9kIQtZyEJ2P+ere6SVyXM/C8qwWm9BmT8j/rMm6RyKP2VlGou8Ko4/FBQUFBQUlD+QnOZr9eyQP7mlAeOXW4o/jYn0QOXshj/eEER3qt2APyFRiXXeWII/SRpgd9RIij998eGK1hePPxHjj42k3Yo/e6xl6IDdjj90wG6PtQyNPyBa/CjZLJc/avn4b3eQkT/CIdPdRtaKP3CCL+AZqoI/dKC2QQdqiz/EcMXLWyiGP+Qmlk8vpIE/n5RwIYbHhz8SGIERGIGBP+ere6SVyYM/ZmZmZmZmjj/o3DM2qrdyP5U1ZU1ZU4Y/U7A9a/YigD9pkUfRTP97PymryNC/tIE/cEBYTFLPgD8gdFTgi6t/Pw==",
          "dtype": "f8"
         },
         "yaxis": "y"
        },
        {
         "fillpattern": {
          "shape": ""
         },
         "hovertemplate": "<b>%{fullData.name}</b><br>Year: %{x}<br>Proportion: %{y:.2%}<extra></extra>",
         "legendgroup": "SSRIs for OCD",
         "line": {
          "color": "#e52d45"
         },
         "marker": {
          "symbol": "circle"
         },
         "mode": "lines",
         "name": "SSRIs for OCD",
         "orientation": "v",
         "showlegend": true,
         "stackgroup": "1",
         "type": "scatter",
         "x": {
          "bdata": "vgcAAL8HAADABwAAwQcAAMIHAADDBwAAxAcAAMUHAADGBwAAxwcAAMgHAADJBwAAygcAAMsHAADMBwAAzQcAAM4HAADPBwAA0AcAANEHAADSBwAA0wcAANQHAADVBwAA1gcAANcHAADYBwAA2QcAANoHAADbBwAA3AcAAN0HAADeBwAA3wcAAOAHAADhBwAA4gcAAOMHAADkBwAA5QcAAOYHAADnBwAA6AcAAOkHAAA=",
          "dtype": "i4"
         },
         "xaxis": "x",
         "y": {
          "bdata": "AAAAAAAAAAAAAAAAAAAAAHCBC1zgApc/GqzQGazQmT8XaIEWaIGWP5Cc5mv17JA/9waUiSvdez8rz8THfbekP5YnkWnYbrY/s3hcF9hOqT9kIQtZyEKmP9uBuXZgrp0/T6WQvuaplD872rxPccmgP3VD1eEXTag/FBQUFBQUpD8IH3zwwQefP8AxYVEBHKM/YRRwaD7Xnz94EatE3nehP43PnOExOpk/YRsEpzJhmz/o4FGXgg6eP/c8bENliKA/bdR3Nuo7mz9HfWejvrOhP3KlNZakmZQ/H3b1J7NYmj97JCrLy6SWP5eIZAqpNZU/cJ41AedZkz/bMe6qMJOUP8VIeR/fc5Y/jiKTtDoCmj8cx3Ecx3GcP2YoVoumnJQ/ZmZmZmZmmj/4RhSYdGqeP4O+oC/oC5o/aBwNBrQrlD9mCLB+NMyXP1jrE7+HWJg/2PVmroqckz8dFfji6gedPw==",
          "dtype": "f8"
         },
         "yaxis": "y"
        },
        {
         "fillpattern": {
          "shape": ""
         },
         "hovertemplate": "<b>%{fullData.name}</b><br>Year: %{x}<br>Proportion: %{y:.2%}<extra></extra>",
         "legendgroup": "SSRIs for Bipolar Depression",
         "line": {
          "color": "#1155b2"
         },
         "marker": {
          "symbol": "circle"
         },
         "mode": "lines",
         "name": "SSRIs for Bipolar Depression",
         "orientation": "v",
         "showlegend": true,
         "stackgroup": "1",
         "type": "scatter",
         "x": {
          "bdata": "vgcAAL8HAADABwAAwQcAAMIHAADDBwAAxAcAAMUHAADGBwAAxwcAAMgHAADJBwAAygcAAMsHAADMBwAAzQcAAM4HAADPBwAA0AcAANEHAADSBwAA0wcAANQHAADVBwAA1gcAANcHAADYBwAA2QcAANoHAADbBwAA3AcAAN0HAADeBwAA3wcAAOAHAADhBwAA4gcAAOMHAADkBwAA5QcAAOYHAADnBwAA6AcAAOkHAAA=",
          "dtype": "i4"
         },
         "xaxis": "x",
         "y": {
          "bdata": "AAAAAAAAAAAAAAAAAAAAAHCBC1zgAoc/AAAAAAAAAAAAAAAAAAAAAAAAAAAAAAAAAAAAAAAAAADD7OAIIq13PwAAAAAAAAAAtQojRPYlbz9kIQtZyEJmP+ere6SVyXM/8ZKAcCJecj9M2Rbj5dddP+6YEbJ9HHQ/Ecg1Ecg1cT/A0Ig6R5F2PxL6AaocoW8/gUPzuf54eT/qHFCDtumMP7H5TbBNhYs/ehyo1pB5jD+pS0EHj7qUPzVMR5R+qpQ/W4YO2O2xlj9MriAmVxCTP8TwbgNwBpI/vrlfqqSvkD97JCrLy6SWP4I9EqaXc4k/cJ41AedZgz99U6v5bzOSP0TGn1+fCZA/C4JCXZXOhD/I0oFyfSxtP9+PT9scYno/AAAAAAAAgD/o3DM2qrdiPzZlTVlT1nQ/fYjcoHE0eD9jfxgsHJlzP1pyPx41qHQ/QKt1EMNpdj8V+OLqBx1lPw==",
          "dtype": "f8"
         },
         "yaxis": "y"
        },
        {
         "fillpattern": {
          "shape": ""
         },
         "hovertemplate": "<b>%{fullData.name}</b><br>Year: %{x}<br>Proportion: %{y:.2%}<extra></extra>",
         "legendgroup": "SSRIs for Alcohol Dependence",
         "line": {
          "color": "#b0d84b"
         },
         "marker": {
          "symbol": "circle"
         },
         "mode": "lines",
         "name": "SSRIs for Alcohol Dependence",
         "orientation": "v",
         "showlegend": true,
         "stackgroup": "1",
         "type": "scatter",
         "x": {
          "bdata": "vgcAAL8HAADABwAAwQcAAMIHAADDBwAAxAcAAMUHAADGBwAAxwcAAMgHAADJBwAAygcAAMsHAADMBwAAzQcAAM4HAADPBwAA0AcAANEHAADSBwAA0wcAANQHAADVBwAA1gcAANcHAADYBwAA2QcAANoHAADbBwAA3AcAAN0HAADeBwAA3wcAAOAHAADhBwAA4gcAAOMHAADkBwAA5QcAAOYHAADnBwAA6AcAAOkHAAA=",
          "dtype": "i4"
         },
         "xaxis": "x",
         "y": {
          "bdata": "AAAAAAAAAAAAAAAAAAAAAHCBC1zgAoc/GqzQGazQmT8XaIEWaIGWP5Cc5mv17KA/qUXIX7Ojtj9cCv1JxqKqPxq2m+VJZJo/CEgas3hclz+RhSxkIQuZP+GWmg37u5g/rbegDKv1lj8j/rMm6RyKPxyqDr9owpA/E+6kEu6kkj+cKY/fCVaSP7mlAeOXW3o/gUPzuf54iT/qHFCDtumMP/0m2KbCDYA/hhFA+uKFgT+pS0EHj7qEP/c8bENliIA/VxCTK4jJhT90wG6PtQxdP84Ow7sNwIk/GfhdhsITdT/6hY25DzF+P76OmTQ4wXc/CAQCgUAggD/EcMXLWyh2P4WHjD+/PoM/M6ee5XbAej9tdQHCylZnP9+PT9scYmo/MzMzMzMzcz/o3DM2qrdyP/QFfUFf0Hc/NnsRCPDkaj8SNo3vkTJ5P4s5tmuqm0c/QKt1EMNpVj8V+OLqBx1lPw==",
          "dtype": "f8"
         },
         "yaxis": "y"
        },
        {
         "fillpattern": {
          "shape": ""
         },
         "hovertemplate": "<b>%{fullData.name}</b><br>Year: %{x}<br>Proportion: %{y:.2%}<extra></extra>",
         "legendgroup": "Neuroimaging of Serotonin Transporters",
         "line": {
          "color": "#e42de5"
         },
         "marker": {
          "symbol": "circle"
         },
         "mode": "lines",
         "name": "Neuroimaging of Serotonin Transporters",
         "orientation": "v",
         "showlegend": true,
         "stackgroup": "1",
         "type": "scatter",
         "x": {
          "bdata": "vgcAAL8HAADABwAAwQcAAMIHAADDBwAAxAcAAMUHAADGBwAAxwcAAMgHAADJBwAAygcAAMsHAADMBwAAzQcAAM4HAADPBwAA0AcAANEHAADSBwAA0wcAANQHAADVBwAA1gcAANcHAADYBwAA2QcAANoHAADbBwAA3AcAAN0HAADeBwAA3wcAAOAHAADhBwAA4gcAAOMHAADkBwAA5QcAAOYHAADnBwAA6AcAAOkHAAA=",
          "dtype": "i4"
         },
         "xaxis": "x",
         "y": {
          "bdata": "AAAAAAAAAAAAAAAAAAAAAHCBC1zgAoc/Ecg1Ecg1gT8AAAAAAAAAAJCc5mv17IA/AAAAAAAAAACSsaiG2cGRPxq2m+VJZJo/tQojRPYlnz9kIQtZyEKGP+ere6SVyZM/k4BwIl4SkD8FkdV+MLihP+6YEbJ9HHQ/HfiuHPiujD/A0Ig6R5F2Px8SwYbvIZE/rbh3kqWOkD/qHFCDtul8P2ml6xIW74Y/ABd06Ln/lj9+KiEg56eSP5bE2etxmYI/TK4gJlcQkz97rGXogN2OPyt4UOF25n4/dvUns1gafD9RWV4mtSB0P0bsihf3JXs/cJ41AedZgz9qbCJPCH18P8VIeR/fc3Y/d28UmaTVcT8SGIERGIFxP+Od5T/ZFXc/MzMzMzMzcz810e/y4vR4P/QFfUFf0Gc/U7A9a/YiYD8MJF5KYcxgP4s5tmuqm0c/QKt1EMNpVj8V+OLqBx1lPw==",
          "dtype": "f8"
         },
         "yaxis": "y"
        },
        {
         "fillpattern": {
          "shape": ""
         },
         "hovertemplate": "<b>%{fullData.name}</b><br>Year: %{x}<br>Proportion: %{y:.2%}<extra></extra>",
         "legendgroup": "Synthetic Chemistry of Paroxetine",
         "line": {
          "color": "#11b283"
         },
         "marker": {
          "symbol": "circle"
         },
         "mode": "lines",
         "name": "Synthetic Chemistry of Paroxetine",
         "orientation": "v",
         "showlegend": true,
         "stackgroup": "1",
         "type": "scatter",
         "x": {
          "bdata": "vgcAAL8HAADABwAAwQcAAMIHAADDBwAAxAcAAMUHAADGBwAAxwcAAMgHAADJBwAAygcAAMsHAADMBwAAzQcAAM4HAADPBwAA0AcAANEHAADSBwAA0wcAANQHAADVBwAA1gcAANcHAADYBwAA2QcAANoHAADbBwAA3AcAAN0HAADeBwAA3wcAAOAHAADhBwAA4gcAAOMHAADkBwAA5QcAAOYHAADnBwAA6AcAAOkHAAA=",
          "dtype": "i4"
         },
         "xaxis": "x",
         "y": {
          "bdata": "AAAAAAAAAAAAAAAAAAAAAHCBC1zgApc/Ecg1Ecg1gT8AAAAAAAAAAJCc5mv17IA/9waUiSvdmz/D7OAIIq13PxX44uoHHYU/CEgas3hchz+96U1vetOLP+GWmg37u4g/8ZKAcCJecj9M2Rbj5ddtP8CHFKWSdoc/AAAAAAAAAACQnOZr9exwPxL6AaocoW8/ms/1x8tghD8YGBgYGBiIP43PnOExOok/ehyo1pB5jD/TbGHuNs2GP5bE2etxmYI/XvyJhFOahz9XEJMriMmFPwVB6VmVCHg/x/bCnA2XiD+JvRgCfnt3P89JfPq1in4/PNEbwRO9gT8ItD9p2miBP+crSc+ueI4/n5RwIYbHdz+/RsFp8WuEP9+PT9scYno/mpmZmZmZeT810e/y4vSIPzZlTVlT1nQ/DKNy0nTTcj9jfxgsHJlzP+7HowaVgn0/eMuhNmzRfj8V+OLqBx11Pw==",
          "dtype": "f8"
         },
         "yaxis": "y"
        },
        {
         "fillpattern": {
          "shape": ""
         },
         "hovertemplate": "<b>%{fullData.name}</b><br>Year: %{x}<br>Proportion: %{y:.2%}<extra></extra>",
         "legendgroup": "SSRIs in Dementias",
         "line": {
          "color": "#d8864b"
         },
         "marker": {
          "symbol": "circle"
         },
         "mode": "lines",
         "name": "SSRIs in Dementias",
         "orientation": "v",
         "showlegend": true,
         "stackgroup": "1",
         "type": "scatter",
         "x": {
          "bdata": "vgcAAL8HAADABwAAwQcAAMIHAADDBwAAxAcAAMUHAADGBwAAxwcAAMgHAADJBwAAygcAAMsHAADMBwAAzQcAAM4HAADPBwAA0AcAANEHAADSBwAA0wcAANQHAADVBwAA1gcAANcHAADYBwAA2QcAANoHAADbBwAA3AcAAN0HAADeBwAA3wcAAOAHAADhBwAA4gcAAOMHAADkBwAA5QcAAOYHAADnBwAA6AcAAOkHAAA=",
          "dtype": "i4"
         },
         "xaxis": "x",
         "y": {
          "bdata": "AAAAAAAAAAAAAAAAAAAAAAAAAAAAAAAAEcg1Ecg1gT8AAAAAAAAAAAAAAAAAAAAAOQUvp+DllD8AAAAAAAAAABX44uoHHYU/tQojRPYlfz9kIQtZyEKGPwAAAAAAAAAAatzAqDONez/5IlFq7GF2PxyqDr9owoA/Ecg1Ecg1kT+QnOZr9eyAPxL6AaocoX8/ms/1x8tghD/eEER3qt2AP0V7OkT6o4Q/5xXQuFvnhT+pS0EHj7qEPzVMR5R+qoQ/XvyJhFOahz90wG6PtQx9P98JgtKzKnE/avn4b3eQcT8Z9aNK7MWQP6zTtm6695A/dKC2QQdqiz8ItD9p2miBP2apbw9vDog/C4JCXZXOhD/BafFrFJyWP2gvob2E9pI/mpmZmZmZkT/o3DM2qreSP3FH3BF3xI0/Au0KBRbPkD9pkUfRTP+LP+7HowaVgo0/cEBYTFLPkD8SmYbtZnmSPw==",
          "dtype": "f8"
         },
         "yaxis": "y"
        },
        {
         "fillpattern": {
          "shape": ""
         },
         "hovertemplate": "<b>%{fullData.name}</b><br>Year: %{x}<br>Proportion: %{y:.2%}<extra></extra>",
         "legendgroup": "Hepatotoxic Risk",
         "line": {
          "color": "#442de5"
         },
         "marker": {
          "symbol": "circle"
         },
         "mode": "lines",
         "name": "Hepatotoxic Risk",
         "orientation": "v",
         "showlegend": true,
         "stackgroup": "1",
         "type": "scatter",
         "x": {
          "bdata": "vgcAAL8HAADABwAAwQcAAMIHAADDBwAAxAcAAMUHAADGBwAAxwcAAMgHAADJBwAAygcAAMsHAADMBwAAzQcAAM4HAADPBwAA0AcAANEHAADSBwAA0wcAANQHAADVBwAA1gcAANcHAADYBwAA2QcAANoHAADbBwAA3AcAAN0HAADeBwAA3wcAAOAHAADhBwAA4gcAAOMHAADkBwAA5QcAAOYHAADnBwAA6AcAAOkHAAA=",
          "dtype": "i4"
         },
         "xaxis": "x",
         "y": {
          "bdata": "AAAAAAAAAAAAAAAAAAAAAAAAAAAAAAAAEcg1Ecg1gT8AAAAAAAAAAAAAAAAAAAAAAAAAAAAAAAAAAAAAAAAAAAAAAAAAAAAAtQojRPYlbz8AAAAAAAAAAAAAAAAAAAAA8ZKAcCJecj9M2Rbj5dddP5N2F5in0Go/AAAAAAAAAADA0Ig6R5FWPxL6AaocoW8/ms/1x8tgVD9GE+CseUZjPyFRiXXeWHI/5xXQuFvndT9UCQE5P5VwP3JbIuWXzGg/VxCTK4jJZT90wG6PtQx9P3KlNZakmWQ/avn4b3eQgT/6hY25DzF+P/nfIMPYDoY/2DhpgY2Thj+BLUsu3eeKP0TGn1+fCZA/M6ee5XbAij/I0oFyfSyNP2o27O9iUJE/mpmZmZmZiT+CxauvGzKPP3FH3BF3xI0/sCnYnjV7kT9jfxgsHJmTP47A4cpX65M/MqPqxthPlD8V+OLqBx2VPw==",
          "dtype": "f8"
         },
         "yaxis": "y"
        },
        {
         "fillpattern": {
          "shape": ""
         },
         "hovertemplate": "<b>%{fullData.name}</b><br>Year: %{x}<br>Proportion: %{y:.2%}<extra></extra>",
         "legendgroup": "Agomelatin for Depression",
         "line": {
          "color": "#2db211"
         },
         "marker": {
          "symbol": "circle"
         },
         "mode": "lines",
         "name": "Agomelatin for Depression",
         "orientation": "v",
         "showlegend": true,
         "stackgroup": "1",
         "type": "scatter",
         "x": {
          "bdata": "vgcAAL8HAADABwAAwQcAAMIHAADDBwAAxAcAAMUHAADGBwAAxwcAAMgHAADJBwAAygcAAMsHAADMBwAAzQcAAM4HAADPBwAA0AcAANEHAADSBwAA0wcAANQHAADVBwAA1gcAANcHAADYBwAA2QcAANoHAADbBwAA3AcAAN0HAADeBwAA3wcAAOAHAADhBwAA4gcAAOMHAADkBwAA5QcAAOYHAADnBwAA6AcAAOkHAAA=",
          "dtype": "i4"
         },
         "xaxis": "x",
         "y": {
          "bdata": "AAAAAAAAAAAAAAAAAAAAAAAAAAAAAAAAEcg1Ecg1gT8AAAAAAAAAAJCc5mv17IA/9waUiSvdez/D7OAIIq13PwAAAAAAAAAAAAAAAAAAAAC96U1vetOLP+ere6SVyWM/8ZKAcCJecj/5IlFq7GGGP5N2F5in0Go/F2DyFmDyZj/wBCsJmTV8PxL6AaocoW8/ms/1x8tgVD/qHFCDtulsP7H5TbBNhWs/5xXQuFvndT9T0MGjLgV9P5bE2etxmYI/dMBuj7UMfT9JOKV58SeCP5jcnB2Gd2s/GfhdhsIThT8Z9aNK7MWAP3CCL+AZqoI/qG3QgdoGfT896tCQXqd/P0fLUt8e3nw/n5RwIYbHZz8apEEapEF6P9+PT9scYmo/MzMzMzMzgz810e/y4vR4P/QFfUFf0Fc/U7A9a/YicD9pkUfRTP9rP4s5tmuqm2c/qGCEcvs2eT8V+OLqBx1lPw==",
          "dtype": "f8"
         },
         "yaxis": "y"
        },
        {
         "fillpattern": {
          "shape": ""
         },
         "hovertemplate": "<b>%{fullData.name}</b><br>Year: %{x}<br>Proportion: %{y:.2%}<extra></extra>",
         "legendgroup": "Sexual Dysfunction",
         "line": {
          "color": "#d84b8d"
         },
         "marker": {
          "symbol": "circle"
         },
         "mode": "lines",
         "name": "Sexual Dysfunction",
         "orientation": "v",
         "showlegend": true,
         "stackgroup": "1",
         "type": "scatter",
         "x": {
          "bdata": "vgcAAL8HAADABwAAwQcAAMIHAADDBwAAxAcAAMUHAADGBwAAxwcAAMgHAADJBwAAygcAAMsHAADMBwAAzQcAAM4HAADPBwAA0AcAANEHAADSBwAA0wcAANQHAADVBwAA1gcAANcHAADYBwAA2QcAANoHAADbBwAA3AcAAN0HAADeBwAA3wcAAOAHAADhBwAA4gcAAOMHAADkBwAA5QcAAOYHAADnBwAA6AcAAOkHAAA=",
          "dtype": "i4"
         },
         "xaxis": "x",
         "y": {
          "bdata": "AAAAAAAAAAAAAAAAAAAAAAAAAAAAAAAAAAAAAAAAAAAXaIEWaIGGP5Cc5mv17IA/AAAAAAAAAADD7OAIIq2HPxX44uoHHXU/CEgas3hclz8AAAAAAAAAAOere6SVyYM/T6WQvuaplD9M2Rbj5dedP5N2F5in0Io/GqzQGazQiT/A0Ig6R5GWP+bPgUZa/pw/blpx7yRLnT9MGeayf0yZP8SOppfbqpw/ehyo1pB5jD+pS0EHj7qEP5bE2etxmZI/UCSc0rz4kz90wG6PtQyNP3KlNZakmZQ/vrlfqqSvkD9tizuUGc6FP6zTtm6695A/CAQCgUAgkD896tCQXqePP0fLUt8e3ow/fbC1R+88jD+7AGFlqwuAP+Od5T/ZFXc/zczMzMzMhD9Izh4iMYSKP5U1ZU1ZU4Y/DKNy0nTTgj+4UTu7vjKCP8EOhHd6LoM/9AV9QV/Qhz8V+OLqBx11Pw==",
          "dtype": "f8"
         },
         "yaxis": "y"
        },
        {
         "fillpattern": {
          "shape": ""
         },
         "hovertemplate": "<b>%{fullData.name}</b><br>Year: %{x}<br>Proportion: %{y:.2%}<extra></extra>",
         "legendgroup": "Post-Stroke SSRI Use",
         "line": {
          "color": "#2db8e5"
         },
         "marker": {
          "symbol": "circle"
         },
         "mode": "lines",
         "name": "Post-Stroke SSRI Use",
         "orientation": "v",
         "showlegend": true,
         "stackgroup": "1",
         "type": "scatter",
         "x": {
          "bdata": "vgcAAL8HAADABwAAwQcAAMIHAADDBwAAxAcAAMUHAADGBwAAxwcAAMgHAADJBwAAygcAAMsHAADMBwAAzQcAAM4HAADPBwAA0AcAANEHAADSBwAA0wcAANQHAADVBwAA1gcAANcHAADYBwAA2QcAANoHAADbBwAA3AcAAN0HAADeBwAA3wcAAOAHAADhBwAA4gcAAOMHAADkBwAA5QcAAOYHAADnBwAA6AcAAOkHAAA=",
          "dtype": "i4"
         },
         "xaxis": "x",
         "y": {
          "bdata": "AAAAAAAAAAAAAAAAAAAAAAAAAAAAAAAAAAAAAAAAAAAXaIEWaIGGPwAAAAAAAAAAAAAAAAAAAAAAAAAAAAAAAAAAAAAAAAAAtQojRPYlbz9kIQtZyEJmPwAAAAAAAAAA8ZKAcCJecj9M2Rbj5dd9P+6YEbJ9HHQ/Ecg1Ecg1cT+QnOZr9exwPxL6AaocoW8/gUPzuf54eT/qHFCDtulsP43PnOExOok/5xXQuFvnhT+pS0EHj7p0PzVMR5R+qoQ/QUyuICZXgD9JOKV58SeCP6jXWzQs4oI/H3b1J7NYij9tizuUGc6FP6zTtm6695A/CAQCgUAggD9qbCJPCH2MP0fLUt8e3ow/Zv02LFkQlD+7AGFlqwuQP+ere6SVyZM/zczMzMzMoD+YVSms7Z2WP6Ev6Av6gp4/Au0KBRbPoD8PrfWcef+UP+7HowaVgo0/JJtffe41kj8atpvlSWSKPw==",
          "dtype": "f8"
         },
         "yaxis": "y"
        },
        {
         "fillpattern": {
          "shape": ""
         },
         "hovertemplate": "<b>%{fullData.name}</b><br>Year: %{x}<br>Proportion: %{y:.2%}<extra></extra>",
         "legendgroup": "Treatment Strategies and Outcomes in Depression",
         "line": {
          "color": "#b2ab11"
         },
         "marker": {
          "symbol": "circle"
         },
         "mode": "lines",
         "name": "Treatment Strategies and Outcomes in Depression",
         "orientation": "v",
         "showlegend": true,
         "stackgroup": "1",
         "type": "scatter",
         "x": {
          "bdata": "vgcAAL8HAADABwAAwQcAAMIHAADDBwAAxAcAAMUHAADGBwAAxwcAAMgHAADJBwAAygcAAMsHAADMBwAAzQcAAM4HAADPBwAA0AcAANEHAADSBwAA0wcAANQHAADVBwAA1gcAANcHAADYBwAA2QcAANoHAADbBwAA3AcAAN0HAADeBwAA3wcAAOAHAADhBwAA4gcAAOMHAADkBwAA5QcAAOYHAADnBwAA6AcAAOkHAAA=",
          "dtype": "i4"
         },
         "xaxis": "x",
         "y": {
          "bdata": "AAAAAAAAAAAAAAAAAAAAAAAAAAAAAAAAAAAAAAAAAAAXaIEWaIGWPwAAAAAAAAAAAAAAAAAAAAAAAAAAAAAAAAAAAAAAAAAAAAAAAAAAAAAAAAAAAAAAAOere6SVyWM/rbegDKv1hj9M2Rbj5dd9PxyqDr9owoA/Ecg1Ecg1cT+otjdTHr+TP7mlAeOXW4o/Z7fwqzGRfj+vFXziSK+FP2ml6xIW74Y/qh7wNU2qfj9UCQE5P5WQP3JbIuWXzHg/TK4gJlcQkz9Umhd/IuGUP3KlNZakmZQ/cHeQEWjVlj97JCrLy6SWP6lDR9Am/5s/CAQCgUAgkD/x8haKBf6SP0fLUt8e3ow/x7nMqWe5jT8f6qEe6qGOP9l6bkSCVI8/MzMzMzMziz9by01RfxOMPxj0BX1BX4A/7m1Gb26VjT+4UTu7vjKCP4s5tmuqm4c/2PVmroqcgz8gdFTgi6t/Pw==",
          "dtype": "f8"
         },
         "yaxis": "y"
        },
        {
         "fillpattern": {
          "shape": ""
         },
         "hovertemplate": "<b>%{fullData.name}</b><br>Year: %{x}<br>Proportion: %{y:.2%}<extra></extra>",
         "legendgroup": "SSRIs for Panic Disorder",
         "line": {
          "color": "#a94bd8"
         },
         "marker": {
          "symbol": "circle"
         },
         "mode": "lines",
         "name": "SSRIs for Panic Disorder",
         "orientation": "v",
         "showlegend": true,
         "stackgroup": "1",
         "type": "scatter",
         "x": {
          "bdata": "vgcAAL8HAADABwAAwQcAAMIHAADDBwAAxAcAAMUHAADGBwAAxwcAAMgHAADJBwAAygcAAMsHAADMBwAAzQcAAM4HAADPBwAA0AcAANEHAADSBwAA0wcAANQHAADVBwAA1gcAANcHAADYBwAA2QcAANoHAADbBwAA3AcAAN0HAADeBwAA3wcAAOAHAADhBwAA4gcAAOMHAADkBwAA5QcAAOYHAADnBwAA6AcAAOkHAAA=",
          "dtype": "i4"
         },
         "xaxis": "x",
         "y": {
          "bdata": "AAAAAAAAAAAAAAAAAAAAAAAAAAAAAAAAAAAAAAAAAAAXaIEWaIGGP5Cc5mv17JA/9waUiSvdez/D7OAIIq13PyB0VOCLq48/tQojRPYlfz9kIQtZyEJmP+ere6SVyZM/atzAqDONiz/5IlFq7GGWP8CHFKWSdpc/GqzQGazQmT8KVhIyazigP+bPgUZa/ow/lCx1hNimlT+vFXziSK+VP0V7OkT6o5Q/bhCcyoRtkD8or6G8hvKaPzVMR5R+qpQ/QUyuICZXgD9JOKV58SeSP3KlNZakmXQ/cHeQEWjVhj81J4G4UHOCPzUxqFF5XIQ/pGtPQbr2hD+X7nMNslJ5P4WHjD+/PnM/C4JCXZXOdD9tdQHCylZ3P+ere6SVyXM/ZmZmZmZmdj/o3DM2qrdyP/QFfUFf0Hc/DKNy0nTTcj9pkUfRTP9rP+7HowaVgn0/QKt1EMNpZj8AAAAAAAAAAA==",
          "dtype": "f8"
         },
         "yaxis": "y"
        },
        {
         "fillpattern": {
          "shape": ""
         },
         "hovertemplate": "<b>%{fullData.name}</b><br>Year: %{x}<br>Proportion: %{y:.2%}<extra></extra>",
         "legendgroup": "Pharmacovigilance of SSRIs",
         "line": {
          "color": "#2de571"
         },
         "marker": {
          "symbol": "circle"
         },
         "mode": "lines",
         "name": "Pharmacovigilance of SSRIs",
         "orientation": "v",
         "showlegend": true,
         "stackgroup": "1",
         "type": "scatter",
         "x": {
          "bdata": "vgcAAL8HAADABwAAwQcAAMIHAADDBwAAxAcAAMUHAADGBwAAxwcAAMgHAADJBwAAygcAAMsHAADMBwAAzQcAAM4HAADPBwAA0AcAANEHAADSBwAA0wcAANQHAADVBwAA1gcAANcHAADYBwAA2QcAANoHAADbBwAA3AcAAN0HAADeBwAA3wcAAOAHAADhBwAA4gcAAOMHAADkBwAA5QcAAOYHAADnBwAA6AcAAOkHAAA=",
          "dtype": "i4"
         },
         "xaxis": "x",
         "y": {
          "bdata": "AAAAAAAAAAAAAAAAAAAAAAAAAAAAAAAAAAAAAAAAAAAXaIEWaIGGP5Cc5mv17IA/AAAAAAAAAAAAAAAAAAAAAAAAAAAAAAAAtQojRPYlbz8AAAAAAAAAAOere6SVyWM/8ZKAcCJeYj9M2Rbj5dddPwAAAAAAAAAAF2DyFmDyVj/A0Ig6R5F2P2FRARwTFnU/Z7fwqzGRbj9GE+CseUZzP7H5TbBNhXs/hhFA+uKFcT/+jYHV3t9oP3JbIuWXzGg/VxCTK4jJZT9m6IDdHmt5P5jcnB2Gd3s/wXgr+xxSgz/6hY25DzF+PzUxqFF5XIQ/dKC2QQdqiz/EcMXLWyh2P8VIeR/fc3Y/x7nMqWe5jT9xu2HGELeLP+u5EQlSfZA/AAAAAAAAiD/U3wQHXCiBP3FH3BF3xI0/Au0KBRbPkD+4UTu7vjKCP5BHDSoFO5A/5v3x93S2lT8YVz/oqMCXPw==",
          "dtype": "f8"
         },
         "yaxis": "y"
        },
        {
         "fillpattern": {
          "shape": ""
         },
         "hovertemplate": "<b>%{fullData.name}</b><br>Year: %{x}<br>Proportion: %{y:.2%}<extra></extra>",
         "legendgroup": "SSRIs for Depression in Parkinsons Patients",
         "line": {
          "color": "#b21e11"
         },
         "marker": {
          "symbol": "circle"
         },
         "mode": "lines",
         "name": "SSRIs for Depression in Parkinsons Patients",
         "orientation": "v",
         "showlegend": true,
         "stackgroup": "1",
         "type": "scatter",
         "x": {
          "bdata": "vgcAAL8HAADABwAAwQcAAMIHAADDBwAAxAcAAMUHAADGBwAAxwcAAMgHAADJBwAAygcAAMsHAADMBwAAzQcAAM4HAADPBwAA0AcAANEHAADSBwAA0wcAANQHAADVBwAA1gcAANcHAADYBwAA2QcAANoHAADbBwAA3AcAAN0HAADeBwAA3wcAAOAHAADhBwAA4gcAAOMHAADkBwAA5QcAAOYHAADnBwAA6AcAAOkHAAA=",
          "dtype": "i4"
         },
         "xaxis": "x",
         "y": {
          "bdata": "AAAAAAAAAAAAAAAAAAAAAAAAAAAAAAAAAAAAAAAAAAAXaIEWaIGWPwAAAAAAAAAAAAAAAAAAAAAAAAAAAAAAAAAAAAAAAAAAtQojRPYlfz9kIQtZyEJ2P+ere6SVyWM/8ZKAcCJecj9M2Rbj5dd9P5N2F5in0Ho/Ecg1Ecg1gT/A0Ig6R5GGPxL6AaocoX8/ms/1x8tghD9GE+CseUZzP2ml6xIW74Y/txOIWZ+2gz9UCQE5P5VwP3JbIuWXzIg/dMBuj7UMfT9JOKV58SeCPztzD/gcUYY/x/bCnA2XeD/6hY25DzF+P76OmTQ4wXc/QNOcATTNiT896tCQXqdvPyXogi9P2YQ/d28UmaTVgT+/RsFp8WuEP+u5EQlSfXA/AAAAAAAAgD+CxauvGzJ/P/QFfUFf0Ic/fYjcoHE0eD8PrfWcef+EP4s5tmuqm3c/eMuhNmzRfj8AAAAAAAAAAA==",
          "dtype": "f8"
         },
         "yaxis": "y"
        },
        {
         "fillpattern": {
          "shape": ""
         },
         "hovertemplate": "<b>%{fullData.name}</b><br>Year: %{x}<br>Proportion: %{y:.2%}<extra></extra>",
         "legendgroup": "SSRIs Effects on Ion Channels",
         "line": {
          "color": "#4b69d8"
         },
         "marker": {
          "symbol": "circle"
         },
         "mode": "lines",
         "name": "SSRIs Effects on Ion Channels",
         "orientation": "v",
         "showlegend": true,
         "stackgroup": "1",
         "type": "scatter",
         "x": {
          "bdata": "vgcAAL8HAADABwAAwQcAAMIHAADDBwAAxAcAAMUHAADGBwAAxwcAAMgHAADJBwAAygcAAMsHAADMBwAAzQcAAM4HAADPBwAA0AcAANEHAADSBwAA0wcAANQHAADVBwAA1gcAANcHAADYBwAA2QcAANoHAADbBwAA3AcAAN0HAADeBwAA3wcAAOAHAADhBwAA4gcAAOMHAADkBwAA5QcAAOYHAADnBwAA6AcAAOkHAAA=",
          "dtype": "i4"
         },
         "xaxis": "x",
         "y": {
          "bdata": "AAAAAAAAAAAAAAAAAAAAAAAAAAAAAAAAAAAAAAAAAAAXaIEWaIGGPwAAAAAAAAAAAAAAAAAAAADD7OAIIq13PxX44uoHHXU/AAAAAAAAAAALWchCFrKAP9uBuXZgrn0/8ZKAcCJegj9M2Rbj5ddtP5N2F5in0Go/Ecg1Ecg1gT+QnOZr9exwPxL6AaocoY8/Z7fwqzGRbj8YGBgYGBh4P2ml6xIW73Y/GBgYGBgYiD9+KiEg56eCPzVMR5R+qoQ/UCSc0rz4gz9XEJMriMl1P6jXWzQs4oI/dvUns1gabD+JvRgCfnuHP/nfIMPYDoY/CAQCgUAggD896tCQXqd/P8VIeR/fc3Y/x7nMqWe5fT+7AGFlqwuAP+myxtZzI4I/mpmZmZmZeT810e/y4vR4P/QFfUFf0Hc/fYjcoHE0eD8SNo3vkTJ5P5BHDSoFO4A/2PVmroqccz8atpvlSWSKPw==",
          "dtype": "f8"
         },
         "yaxis": "y"
        },
        {
         "fillpattern": {
          "shape": ""
         },
         "hovertemplate": "<b>%{fullData.name}</b><br>Year: %{x}<br>Proportion: %{y:.2%}<extra></extra>",
         "legendgroup": "Impact of SSRIs on Neurogenesis",
         "line": {
          "color": "#8ae52d"
         },
         "marker": {
          "symbol": "circle"
         },
         "mode": "lines",
         "name": "Impact of SSRIs on Neurogenesis",
         "orientation": "v",
         "showlegend": true,
         "stackgroup": "1",
         "type": "scatter",
         "x": {
          "bdata": "vgcAAL8HAADABwAAwQcAAMIHAADDBwAAxAcAAMUHAADGBwAAxwcAAMgHAADJBwAAygcAAMsHAADMBwAAzQcAAM4HAADPBwAA0AcAANEHAADSBwAA0wcAANQHAADVBwAA1gcAANcHAADYBwAA2QcAANoHAADbBwAA3AcAAN0HAADeBwAA3wcAAOAHAADhBwAA4gcAAOMHAADkBwAA5QcAAOYHAADnBwAA6AcAAOkHAAA=",
          "dtype": "i4"
         },
         "xaxis": "x",
         "y": {
          "bdata": "AAAAAAAAAAAAAAAAAAAAAAAAAAAAAAAAAAAAAAAAAAARDuEQDuGgPwAAAAAAAAAAAAAAAAAAAAAAAAAAAAAAAAAAAAAAAAAAtQojRPYlfz9kIQtZyEJ2P+ere6SVyWM/AAAAAAAAAABM2Rbj5deNP5N2F5in0Ho/F2DyFmDydj/Y6tkhcGOJP7mlAeOXW4o/ms/1x8tghD8YGBgYGBiIP1cQkyuIyZU/zxQsif3OlD+pS0EHj7qUP3JbIuWXzJg/ZuiA3R5rmT9FwinNiz+hP1F9+OqRmKE/FjmSNUpxoj9RWV4mtSCkP+ZcBi4RyaQ/i8VisVgspj/x8haKBf6iP7yOmFOLPaE/jiKTtDoCmj/BafFrFJyWP6p0WWPruaE/AAAAAAAAmD9xW8tNUX+TP/QFfUFf0Jc/K8WpOpHgmD+QcUHGBRmXP47A4cpX65M/FpPUMwQckD8atpvlSWSKPw==",
          "dtype": "f8"
         },
         "yaxis": "y"
        },
        {
         "fillpattern": {
          "shape": ""
         },
         "hovertemplate": "<b>%{fullData.name}</b><br>Year: %{x}<br>Proportion: %{y:.2%}<extra></extra>",
         "legendgroup": "SSRIs for Eating Disorders",
         "line": {
          "color": "#b21191"
         },
         "marker": {
          "symbol": "circle"
         },
         "mode": "lines",
         "name": "SSRIs for Eating Disorders",
         "orientation": "v",
         "showlegend": true,
         "stackgroup": "1",
         "type": "scatter",
         "x": {
          "bdata": "vgcAAL8HAADABwAAwQcAAMIHAADDBwAAxAcAAMUHAADGBwAAxwcAAMgHAADJBwAAygcAAMsHAADMBwAAzQcAAM4HAADPBwAA0AcAANEHAADSBwAA0wcAANQHAADVBwAA1gcAANcHAADYBwAA2QcAANoHAADbBwAA3AcAAN0HAADeBwAA3wcAAOAHAADhBwAA4gcAAOMHAADkBwAA5QcAAOYHAADnBwAA6AcAAOkHAAA=",
          "dtype": "i4"
         },
         "xaxis": "x",
         "y": {
          "bdata": "AAAAAAAAAAAAAAAAAAAAAAAAAAAAAAAAAAAAAAAAAAAAAAAAAAAAAJCc5mv17IA/AAAAAAAAAADD7OAIIq13Pxq2m+VJZJo/seaV6rl3kz8LWchCFrKQP9uBuXZgro0/atzAqDONiz9ktR8MboSUP5N2F5in0Ho/FBQUFBQUhD/Y6tkhcGOJP2FRARwTFoU/Z7fwqzGRfj9TH+y4hVKPP/0m2KbCDYA/MBm8R3YwmT/+jYHV3t+IP/c8bENliJA/dMBuj7UMfT9m6IDdHmt5P6jXWzQs4oI/avn4b3eQgT/CIdPdRtZ6P0bsihf3JXs/PNEbwRO9gT8ItD9p2miBP4WHjD+/PmM/x7nMqWe5bT9tdQHCylZXP9+PT9scYko/AAAAAAAAgD+CxauvGzJ/P/QFfUFf0Gc/DKNy0nTTcj9pkUfRTP97P70ALbkfj3o/QKt1EMNpdj8AAAAAAAAAAA==",
          "dtype": "f8"
         },
         "yaxis": "y"
        },
        {
         "fillpattern": {
          "shape": ""
         },
         "hovertemplate": "<b>%{fullData.name}</b><br>Year: %{x}<br>Proportion: %{y:.2%}<extra></extra>",
         "legendgroup": "Hyponatremia Risk",
         "line": {
          "color": "#4bd8cc"
         },
         "marker": {
          "symbol": "circle"
         },
         "mode": "lines",
         "name": "Hyponatremia Risk",
         "orientation": "v",
         "showlegend": true,
         "stackgroup": "1",
         "type": "scatter",
         "x": {
          "bdata": "vgcAAL8HAADABwAAwQcAAMIHAADDBwAAxAcAAMUHAADGBwAAxwcAAMgHAADJBwAAygcAAMsHAADMBwAAzQcAAM4HAADPBwAA0AcAANEHAADSBwAA0wcAANQHAADVBwAA1gcAANcHAADYBwAA2QcAANoHAADbBwAA3AcAAN0HAADeBwAA3wcAAOAHAADhBwAA4gcAAOMHAADkBwAA5QcAAOYHAADnBwAA6AcAAOkHAAA=",
          "dtype": "i4"
         },
         "xaxis": "x",
         "y": {
          "bdata": "AAAAAAAAAAAAAAAAAAAAAAAAAAAAAAAAAAAAAAAAAAAAAAAAAAAAAJCc5mv17IA/AAAAAAAAAAAAAAAAAAAAAAAAAAAAAAAAtQojRPYlbz8AAAAAAAAAAOere6SVyXM/8ZKAcCJegj/5IlFq7GF2P+6YEbJ9HIQ/F2DyFmDyhj/Y6tkhcGOJP2FRARwTFmU/ms/1x8tgVD9GE+CseUZjPyFRiXXeWII/qh7wNU2qfj+pS0EHj7p0P/c8bENliHA/QUyuICZXgD90wG6PtQx9PwVB6VmVCHg/dvUns1gafD9RWV4mtSBkP6zTtm6693A/2DhpgY2Tdj+X7nMNslJ5P4WHjD+/PnM/n5RwIYbHZz8SGIERGIFxP+ere6SVyXM/mpmZmZmZaT810e/y4vRoP/QFfUFf0Fc/xJWnOfODdT+72tIN12VmP4s5tmuqm0c/cEBYTFLPcD8V+OLqBx2FPw==",
          "dtype": "f8"
         },
         "yaxis": "y"
        },
        {
         "fillpattern": {
          "shape": ""
         },
         "hovertemplate": "<b>%{fullData.name}</b><br>Year: %{x}<br>Proportion: %{y:.2%}<extra></extra>",
         "legendgroup": "Canine Behavioral Disorders",
         "line": {
          "color": "#e59f2d"
         },
         "marker": {
          "symbol": "circle"
         },
         "mode": "lines",
         "name": "Canine Behavioral Disorders",
         "orientation": "v",
         "showlegend": true,
         "stackgroup": "1",
         "type": "scatter",
         "x": {
          "bdata": "vgcAAL8HAADABwAAwQcAAMIHAADDBwAAxAcAAMUHAADGBwAAxwcAAMgHAADJBwAAygcAAMsHAADMBwAAzQcAAM4HAADPBwAA0AcAANEHAADSBwAA0wcAANQHAADVBwAA1gcAANcHAADYBwAA2QcAANoHAADbBwAA3AcAAN0HAADeBwAA3wcAAOAHAADhBwAA4gcAAOMHAADkBwAA5QcAAOYHAADnBwAA6AcAAOkHAAA=",
          "dtype": "i4"
         },
         "xaxis": "x",
         "y": {
          "bdata": "AAAAAAAAAAAAAAAAAAAAAAAAAAAAAAAAAAAAAAAAAAAAAAAAAAAAAJCc5mv17IA/AAAAAAAAAAAAAAAAAAAAAAAAAAAAAAAAAAAAAAAAAABkIQtZyEJ2PwAAAAAAAAAAAAAAAAAAAAAAAAAAAAAAAJN2F5in0Go/AAAAAAAAAACQnOZr9exwPwAAAAAAAAAAAAAAAAAAAABGE+CseUZjPyFRiXXeWFI/SRpgd9RIaj8AAAAAAAAAAPc8bENliHA/dMBuj7UMTT90wG6PtQxtP5jcnB2Gd1s/GfhdhsITdT/CIdPdRtZaPzUxqFF5XGQ/cJ41AedZYz+X7nMNslJJP0TGn1+fCXA/x7nMqWe5bT9tdQHCylZnP+ere6SVyWM/mpmZmZmZWT8O15GURtZ1P/QFfUFf0Fc/U7A9a/YicD+72tIN12V2P70ALbkfj3o/cEBYTFLPgD8V+OLqBx1lPw==",
          "dtype": "f8"
         },
         "yaxis": "y"
        },
        {
         "fillpattern": {
          "shape": ""
         },
         "hovertemplate": "<b>%{fullData.name}</b><br>Year: %{x}<br>Proportion: %{y:.2%}<extra></extra>",
         "legendgroup": "SRRIs and Ocular Safety",
         "line": {
          "color": "#4611b2"
         },
         "marker": {
          "symbol": "circle"
         },
         "mode": "lines",
         "name": "SRRIs and Ocular Safety",
         "orientation": "v",
         "showlegend": true,
         "stackgroup": "1",
         "type": "scatter",
         "x": {
          "bdata": "vgcAAL8HAADABwAAwQcAAMIHAADDBwAAxAcAAMUHAADGBwAAxwcAAMgHAADJBwAAygcAAMsHAADMBwAAzQcAAM4HAADPBwAA0AcAANEHAADSBwAA0wcAANQHAADVBwAA1gcAANcHAADYBwAA2QcAANoHAADbBwAA3AcAAN0HAADeBwAA3wcAAOAHAADhBwAA4gcAAOMHAADkBwAA5QcAAOYHAADnBwAA6AcAAOkHAAA=",
          "dtype": "i4"
         },
         "xaxis": "x",
         "y": {
          "bdata": "AAAAAAAAAAAAAAAAAAAAAAAAAAAAAAAAAAAAAAAAAAAAAAAAAAAAAJCc5mv17IA/AAAAAAAAAAAAAAAAAAAAAAAAAAAAAAAAAAAAAAAAAAAAAAAAAAAAAAAAAAAAAAAAAAAAAAAAAAAAAAAAAAAAAAAAAAAAAAAAAAAAAAAAAAAAAAAAAAAAAAAAAAAAAAAAms/1x8tgVD/qHFCDtulsPwAAAAAAAAAAhhFA+uKFUT9UCQE5P5VgP/c8bENliFA/dMBuj7UMXT90wG6PtQxtP5jcnB2Gd0s/dvUns1gaXD/CIdPdRtZaPzUxqFF5XGQ/QNOcATTNST/x8haKBf5iP0TGn1+fCXA/n5RwIYbHdz9tdQHCylZ3P+ere6SVyXM/AAAAAAAAgD8O15GURtZ1P/QFfUFf0Gc/DKNy0nTTcj9pkUfRTP9rPymryNC/tHE/2PVmroqccz8AAAAAAAAAAA==",
          "dtype": "f8"
         },
         "yaxis": "y"
        },
        {
         "fillpattern": {
          "shape": ""
         },
         "hovertemplate": "<b>%{fullData.name}</b><br>Year: %{x}<br>Proportion: %{y:.2%}<extra></extra>",
         "legendgroup": "Inflammatory Biomarkers",
         "line": {
          "color": "#4bd850"
         },
         "marker": {
          "symbol": "circle"
         },
         "mode": "lines",
         "name": "Inflammatory Biomarkers",
         "orientation": "v",
         "showlegend": true,
         "stackgroup": "1",
         "type": "scatter",
         "x": {
          "bdata": "vgcAAL8HAADABwAAwQcAAMIHAADDBwAAxAcAAMUHAADGBwAAxwcAAMgHAADJBwAAygcAAMsHAADMBwAAzQcAAM4HAADPBwAA0AcAANEHAADSBwAA0wcAANQHAADVBwAA1gcAANcHAADYBwAA2QcAANoHAADbBwAA3AcAAN0HAADeBwAA3wcAAOAHAADhBwAA4gcAAOMHAADkBwAA5QcAAOYHAADnBwAA6AcAAOkHAAA=",
          "dtype": "i4"
         },
         "xaxis": "x",
         "y": {
          "bdata": "AAAAAAAAAAAAAAAAAAAAAAAAAAAAAAAAAAAAAAAAAAAAAAAAAAAAAAAAAAAAAAAA9waUiSvdez/D7OAIIq13PxX44uoHHYU/tQojRPYlbz9kIQtZyEJmP+ere6SVyXM/rbegDKv1hj/5IlFq7GF2P+6YEbJ9HHQ/F2DyFmDydj+QnOZr9eyAPzUngbhQc4I/gUPzuf54eT8YGBgYGBh4PyFRiXXeWII/5xXQuFvndT9UCQE5P5VwPzVMR5R+qnQ/QUyuICZXgD9JOKV58SeCP3KlNZakmXQ/JfSMyaOdjz9RWV4mtSCEP4I9EqaXc4k/1rcoYX2Lkj9mkoIam8iTP+Qmlk8vpJE/wXgr+xxSkz9mDHG7YcaQP+WkMHK3b5U/ZmZmZmZmkj+YVSms7Z2WPwZ9QV/QF5Q/hz5EbtA4mj/ozPunwOWZP+7HowaVgp0/XLuLo5edmj+RadhuliehPw==",
          "dtype": "f8"
         },
         "yaxis": "y"
        },
        {
         "fillpattern": {
          "shape": ""
         },
         "hovertemplate": "<b>%{fullData.name}</b><br>Year: %{x}<br>Proportion: %{y:.2%}<extra></extra>",
         "legendgroup": "SSRIs for Depression in Patients with Cardiovascular Disease",
         "line": {
          "color": "#e52d5c"
         },
         "marker": {
          "symbol": "circle"
         },
         "mode": "lines",
         "name": "SSRIs for Depression in Patients with Cardiovascular Disease",
         "orientation": "v",
         "showlegend": true,
         "stackgroup": "1",
         "type": "scatter",
         "x": {
          "bdata": "vgcAAL8HAADABwAAwQcAAMIHAADDBwAAxAcAAMUHAADGBwAAxwcAAMgHAADJBwAAygcAAMsHAADMBwAAzQcAAM4HAADPBwAA0AcAANEHAADSBwAA0wcAANQHAADVBwAA1gcAANcHAADYBwAA2QcAANoHAADbBwAA3AcAAN0HAADeBwAA3wcAAOAHAADhBwAA4gcAAOMHAADkBwAA5QcAAOYHAADnBwAA6AcAAOkHAAA=",
          "dtype": "i4"
         },
         "xaxis": "x",
         "y": {
          "bdata": "AAAAAAAAAAAAAAAAAAAAAAAAAAAAAAAAAAAAAAAAAAAAAAAAAAAAAAAAAAAAAAAA9waUiSvdez8AAAAAAAAAAAAAAAAAAAAAtQojRPYlbz9kIQtZyEJmPwAAAAAAAAAA8ZKAcCJegj8AAAAAAAAAAO6YEbJ9HHQ/Ecg1Ecg1cT/Y6tkhcGOJPzUngbhQc4I/rbh3kqWOkD8YGBgYGBiIP/0m2KbCDYA/zxQsif3OlD/+jYHV3t+IP9TTtDyLu4Y/UCSc0rz4gz9MriAmVxCTP/oilaH3TpA/HLcp1zq2lz/6hY25DzGOPwubA4lW2Iw/dKC2QQdqiz9qbCJPCH2MPwYKZv/+qIk/d28UmaTVkT9mDHG7YcaQP9l6bkSCVI8/zczMzMzMjD9eXpweA/CRP9AX9AV9QY8/fYjcoHE0iD8MJF5KYcyAPymryNC/tIE/cEBYTFLPgD8V+OLqBx1lPw==",
          "dtype": "f8"
         },
         "yaxis": "y"
        },
        {
         "fillpattern": {
          "shape": ""
         },
         "hovertemplate": "<b>%{fullData.name}</b><br>Year: %{x}<br>Proportion: %{y:.2%}<extra></extra>",
         "legendgroup": "Antidepressant Drug Design",
         "line": {
          "color": "#1169b2"
         },
         "marker": {
          "symbol": "circle"
         },
         "mode": "lines",
         "name": "Antidepressant Drug Design",
         "orientation": "v",
         "showlegend": true,
         "stackgroup": "1",
         "type": "scatter",
         "x": {
          "bdata": "vgcAAL8HAADABwAAwQcAAMIHAADDBwAAxAcAAMUHAADGBwAAxwcAAMgHAADJBwAAygcAAMsHAADMBwAAzQcAAM4HAADPBwAA0AcAANEHAADSBwAA0wcAANQHAADVBwAA1gcAANcHAADYBwAA2QcAANoHAADbBwAA3AcAAN0HAADeBwAA3wcAAOAHAADhBwAA4gcAAOMHAADkBwAA5QcAAOYHAADnBwAA6AcAAOkHAAA=",
          "dtype": "i4"
         },
         "xaxis": "x",
         "y": {
          "bdata": "AAAAAAAAAAAAAAAAAAAAAAAAAAAAAAAAAAAAAAAAAAAAAAAAAAAAAAAAAAAAAAAA9waUiSvdez8AAAAAAAAAAAAAAAAAAAAAAAAAAAAAAABkIQtZyEJmP+ere6SVyXM/8ZKAcCJecj8AAAAAAAAAAJN2F5in0Go/F2DyFmDyZj+QnOZr9exwP2FRARwTFmU/gUPzuf54eT8YGBgYGBh4P7H5TbBNhXs/5xXQuFvnhT/TbGHuNs2GPzVMR5R+qoQ/STilefEngj9XEJMriMl1P5jcnB2Gd4s/JfSMyaOdfz9RWV4mtSCEPzUxqFF5XGQ/2DhpgY2Tdj/x8haKBf5yP8VIeR/fc3Y/LWb9NixZgD+/RsFp8WuEP9+PT9scYno/mpmZmZmZaT+CxauvGzJ/P3FH3BF3xG0/U7A9a/YicD+72tIN12V2P+7HowaVgn0/cEBYTFLPYD8V+OLqBx1lPw==",
          "dtype": "f8"
         },
         "yaxis": "y"
        },
        {
         "fillpattern": {
          "shape": ""
         },
         "hovertemplate": "<b>%{fullData.name}</b><br>Year: %{x}<br>Proportion: %{y:.2%}<extra></extra>",
         "legendgroup": "SSRIs for Depression, Comparative Effectiveness",
         "line": {
          "color": "#c2d84b"
         },
         "marker": {
          "symbol": "circle"
         },
         "mode": "lines",
         "name": "SSRIs for Depression, Comparative Effectiveness",
         "orientation": "v",
         "showlegend": true,
         "stackgroup": "1",
         "type": "scatter",
         "x": {
          "bdata": "vgcAAL8HAADABwAAwQcAAMIHAADDBwAAxAcAAMUHAADGBwAAxwcAAMgHAADJBwAAygcAAMsHAADMBwAAzQcAAM4HAADPBwAA0AcAANEHAADSBwAA0wcAANQHAADVBwAA1gcAANcHAADYBwAA2QcAANoHAADbBwAA3AcAAN0HAADeBwAA3wcAAOAHAADhBwAA4gcAAOMHAADkBwAA5QcAAOYHAADnBwAA6AcAAOkHAAA=",
          "dtype": "i4"
         },
         "xaxis": "x",
         "y": {
          "bdata": "AAAAAAAAAAAAAAAAAAAAAAAAAAAAAAAAAAAAAAAAAAAAAAAAAAAAAAAAAAAAAAAA9waUiSvdez8AAAAAAAAAAAAAAAAAAAAAAAAAAAAAAAAAAAAAAAAAAAAAAAAAAAAA8ZKAcCJecj9M2Rbj5dddP5N2F5in0Fo/F2DyFmDyVj/A0Ig6R5FWPxL6AaocoW8/ms/1x8tgVD9GE+CseUZTP7H5TbBNhWs/5xXQuFvndT9UCQE5P5VwP3JbIuWXzGg/STilefEncj9XEJMriMl1P3KlNZakmXQ/dvUns1gafD+JvRgCfnt3P76OmTQ4wYc/CAQCgUAgcD896tCQXqdvPwYKZv/+qHk/M6ee5XbAej/I0oFyfSx9P+myxtZzI4I/MzMzMzMziz/72WJl+EaEPzZlTVlT1oQ/DKNy0nTTgj9pkUfRTP97P+7HowaVgn0/JJtffe41gj8V+OLqBx11Pw==",
          "dtype": "f8"
         },
         "yaxis": "y"
        },
        {
         "fillpattern": {
          "shape": ""
         },
         "hovertemplate": "<b>%{fullData.name}</b><br>Year: %{x}<br>Proportion: %{y:.2%}<extra></extra>",
         "legendgroup": "Neurometabolite Changes with Antidepressants",
         "line": {
          "color": "#cd2de5"
         },
         "marker": {
          "symbol": "circle"
         },
         "mode": "lines",
         "name": "Neurometabolite Changes with Antidepressants",
         "orientation": "v",
         "showlegend": true,
         "stackgroup": "1",
         "type": "scatter",
         "x": {
          "bdata": "vgcAAL8HAADABwAAwQcAAMIHAADDBwAAxAcAAMUHAADGBwAAxwcAAMgHAADJBwAAygcAAMsHAADMBwAAzQcAAM4HAADPBwAA0AcAANEHAADSBwAA0wcAANQHAADVBwAA1gcAANcHAADYBwAA2QcAANoHAADbBwAA3AcAAN0HAADeBwAA3wcAAOAHAADhBwAA4gcAAOMHAADkBwAA5QcAAOYHAADnBwAA6AcAAOkHAAA=",
          "dtype": "i4"
         },
         "xaxis": "x",
         "y": {
          "bdata": "AAAAAAAAAAAAAAAAAAAAAAAAAAAAAAAAAAAAAAAAAAAAAAAAAAAAAAAAAAAAAAAA9waUiSvdez8AAAAAAAAAAAAAAAAAAAAAtQojRPYlbz8AAAAAAAAAAAAAAAAAAAAAAAAAAAAAAABM2Rbj5dddPwAAAAAAAAAAF2DyFmDyVj/A0Ig6R5FWP2FRARwTFlU/ms/1x8tgVD9GE+CseUZjPyFRiXXeWGI/SRpgd9RIaj9UCQE5P5VgPwAAAAAAAAAAdMBuj7UMTT90wG6PtQxdP98JgtKzKnE/dvUns1gabD8Z9aNK7MVwP0bsihf3JWs/QNOcATTNeT/x8haKBf5yP0fLUt8e3nw/x7nMqWe5fT8SGIERGIGBP+myxtZzI4I/MzMzMzMzcz810e/y4vRoP3fEHXFH3HE/DKNy0nTTcj8SNo3vkTJ5P1pyPx41qHQ/eMuhNmzRfj8V+OLqBx11Pw==",
          "dtype": "f8"
         },
         "yaxis": "y"
        },
        {
         "fillpattern": {
          "shape": ""
         },
         "hovertemplate": "<b>%{fullData.name}</b><br>Year: %{x}<br>Proportion: %{y:.2%}<extra></extra>",
         "legendgroup": "SSRIs Effect on Neural Processing of Emotional Cues",
         "line": {
          "color": "#11b26e"
         },
         "marker": {
          "symbol": "circle"
         },
         "mode": "lines",
         "name": "SSRIs Effect on Neural Processing of Emotional Cues",
         "orientation": "v",
         "showlegend": true,
         "stackgroup": "1",
         "type": "scatter",
         "x": {
          "bdata": "vgcAAL8HAADABwAAwQcAAMIHAADDBwAAxAcAAMUHAADGBwAAxwcAAMgHAADJBwAAygcAAMsHAADMBwAAzQcAAM4HAADPBwAA0AcAANEHAADSBwAA0wcAANQHAADVBwAA1gcAANcHAADYBwAA2QcAANoHAADbBwAA3AcAAN0HAADeBwAA3wcAAOAHAADhBwAA4gcAAOMHAADkBwAA5QcAAOYHAADnBwAA6AcAAOkHAAA=",
          "dtype": "i4"
         },
         "xaxis": "x",
         "y": {
          "bdata": "AAAAAAAAAAAAAAAAAAAAAAAAAAAAAAAAAAAAAAAAAAAAAAAAAAAAAAAAAAAAAAAA9waUiSvdez8AAAAAAAAAAAAAAAAAAAAAAAAAAAAAAAAAAAAAAAAAAAAAAAAAAAAA8ZKAcCJeYj8AAAAAAAAAAJN2F5in0Go/Ecg1Ecg1cT/A0Ig6R5FWP2FRARwTFnU/ms/1x8tgdD9GE+CseUZzP0V7OkT6o4Q/hhFA+uKFYT8or6G8hvKKP/c8bENliIA/ZuiA3R5reT9t1Hc26juLP5jcnB2Gd4s/cHeQEWjVlj+JvRgCfnuXP5eIZAqpNZU/cJ41AedZkz+X7nMNslKZP8VIeR/fc5Y/d28UmaTVkT9tdQHCylaXP+myxtZzI5I/zczMzMzMkD810e/y4vSYP+KOuCPuiJs/nKoTCY5Bnj+Wg3BrNn+fPw+Ed3ouE6I/HReaWPkooT8SmYbtZnmSPw==",
          "dtype": "f8"
         },
         "yaxis": "y"
        },
        {
         "fillpattern": {
          "shape": ""
         },
         "hovertemplate": "<b>%{fullData.name}</b><br>Year: %{x}<br>Proportion: %{y:.2%}<extra></extra>",
         "legendgroup": "SSRI Crystal Structure and Complexation",
         "line": {
          "color": "#d8744b"
         },
         "marker": {
          "symbol": "circle"
         },
         "mode": "lines",
         "name": "SSRI Crystal Structure and Complexation",
         "orientation": "v",
         "showlegend": true,
         "stackgroup": "1",
         "type": "scatter",
         "x": {
          "bdata": "vgcAAL8HAADABwAAwQcAAMIHAADDBwAAxAcAAMUHAADGBwAAxwcAAMgHAADJBwAAygcAAMsHAADMBwAAzQcAAM4HAADPBwAA0AcAANEHAADSBwAA0wcAANQHAADVBwAA1gcAANcHAADYBwAA2QcAANoHAADbBwAA3AcAAN0HAADeBwAA3wcAAOAHAADhBwAA4gcAAOMHAADkBwAA5QcAAOYHAADnBwAA6AcAAOkHAAA=",
          "dtype": "i4"
         },
         "xaxis": "x",
         "y": {
          "bdata": "AAAAAAAAAAAAAAAAAAAAAAAAAAAAAAAAAAAAAAAAAAAAAAAAAAAAAAAAAAAAAAAA9waUiSvdez8AAAAAAAAAAAAAAAAAAAAAAAAAAAAAAAAAAAAAAAAAAAAAAAAAAAAAAAAAAAAAAAAAAAAAAAAAAAAAAAAAAAAAAAAAAAAAAAAAAAAAAAAAABL6AaocoW8/AAAAAAAAAAAAAAAAAAAAACFRiXXeWFI/hhFA+uKFcT/+jYHV3t9oP3JbIuWXzGg/dMBuj7UMXT9XEJMriMllP3KlNZakmWQ/AAAAAAAAAADCIdPdRtZqP0bsihf3JVs/2DhpgY2Tdj/EcMXLWyh2P0TGn1+fCXA/M6ee5XbAej9tdQHCylZ3P9+PT9scYmo/mpmZmZmZaT/o3DM2qrdiP3fEHXFH3GE/NnsRCPDkaj8SNo3vkTJ5P70ALbkfj3o/2PVmroqcgz8V+OLqBx11Pw==",
          "dtype": "f8"
         },
         "yaxis": "y"
        },
        {
         "fillpattern": {
          "shape": ""
         },
         "hovertemplate": "<b>%{fullData.name}</b><br>Year: %{x}<br>Proportion: %{y:.2%}<extra></extra>",
         "legendgroup": "SSRIs for (Psycho)dermatological Diseases",
         "line": {
          "color": "#2d2fe5"
         },
         "marker": {
          "symbol": "circle"
         },
         "mode": "lines",
         "name": "SSRIs for (Psycho)dermatological Diseases",
         "orientation": "v",
         "showlegend": true,
         "stackgroup": "1",
         "type": "scatter",
         "x": {
          "bdata": "vgcAAL8HAADABwAAwQcAAMIHAADDBwAAxAcAAMUHAADGBwAAxwcAAMgHAADJBwAAygcAAMsHAADMBwAAzQcAAM4HAADPBwAA0AcAANEHAADSBwAA0wcAANQHAADVBwAA1gcAANcHAADYBwAA2QcAANoHAADbBwAA3AcAAN0HAADeBwAA3wcAAOAHAADhBwAA4gcAAOMHAADkBwAA5QcAAOYHAADnBwAA6AcAAOkHAAA=",
          "dtype": "i4"
         },
         "xaxis": "x",
         "y": {
          "bdata": "AAAAAAAAAAAAAAAAAAAAAAAAAAAAAAAAAAAAAAAAAAAAAAAAAAAAAAAAAAAAAAAAAAAAAAAAAADD7OAIIq13PwAAAAAAAAAAtQojRPYlbz9kIQtZyEJ2P+ere6SVyXM/AAAAAAAAAABM2Rbj5ddtP5N2F5in0Fo/HfiuHPiufD/A0Ig6R5F2P2FRARwTFnU/ms/1x8tgZD/qHFCDtul8P2ml6xIW73Y/txOIWZ+2gz+pS0EHj7qEP3JbIuWXzHg/QUyuICZXgD9JOKV58SeCPztzD/gcUYY/avn4b3eQgT9RWV4mtSCEP0bsihf3JWs/PNEbwRO9gT9qbCJPCH18P4WHjD+/PoM/n5RwIYbHdz9oL6G9hPaCP9l6bkSCVI8/mpmZmZmZiT8O15GURtaFP5U1ZU1ZU4Y/fYjcoHE0iD8PrfWcef+EP4crX61P/I4/cEBYTFLPgD8V+OLqBx2FPw==",
          "dtype": "f8"
         },
         "yaxis": "y"
        },
        {
         "fillpattern": {
          "shape": ""
         },
         "hovertemplate": "<b>%{fullData.name}</b><br>Year: %{x}<br>Proportion: %{y:.2%}<extra></extra>",
         "legendgroup": "SSRIs for Body Dysmorphic Disorder (BDD)",
         "line": {
          "color": "#41b211"
         },
         "marker": {
          "symbol": "circle"
         },
         "mode": "lines",
         "name": "SSRIs for Body Dysmorphic Disorder (BDD)",
         "orientation": "v",
         "showlegend": true,
         "stackgroup": "1",
         "type": "scatter",
         "x": {
          "bdata": "vgcAAL8HAADABwAAwQcAAMIHAADDBwAAxAcAAMUHAADGBwAAxwcAAMgHAADJBwAAygcAAMsHAADMBwAAzQcAAM4HAADPBwAA0AcAANEHAADSBwAA0wcAANQHAADVBwAA1gcAANcHAADYBwAA2QcAANoHAADbBwAA3AcAAN0HAADeBwAA3wcAAOAHAADhBwAA4gcAAOMHAADkBwAA5QcAAOYHAADnBwAA6AcAAOkHAAA=",
          "dtype": "i4"
         },
         "xaxis": "x",
         "y": {
          "bdata": "AAAAAAAAAAAAAAAAAAAAAAAAAAAAAAAAAAAAAAAAAAAAAAAAAAAAAAAAAAAAAAAAAAAAAAAAAADD7OAIIq13PxX44uoHHXU/CEgas3hchz9kIQtZyEJmP9uBuXZgrn0/8ZKAcCJecj9M2Rbj5ddtP+6YEbJ9HIQ/HfiuHPiufD+QnOZr9eyAP2FRARwTFnU/pxX3TrLUgT/qHFCDtul8P0V7OkT6o4Q/txOIWZ+2gz8or6G8hvKKP7Bq/TWx7nw/ZuiA3R5reT9JOKV58SdyP98JgtKzKnE/x/bCnA2XeD9RWV4mtSBkP0bsihf3JXs/QNOcATTNeT896tCQXqd/PwYKZv/+qHk/d28UmaTVYT8apEEapEF6P9+PT9scYmo/AAAAAAAAgD/o3DM2qrdyP/QFfUFf0Gc/NnsRCPDkaj9pkUfRTP97P4s5tmuqm3c/JJtffe41gj8V+OLqBx1lPw==",
          "dtype": "f8"
         },
         "yaxis": "y"
        },
        {
         "fillpattern": {
          "shape": ""
         },
         "hovertemplate": "<b>%{fullData.name}</b><br>Year: %{x}<br>Proportion: %{y:.2%}<extra></extra>",
         "legendgroup": "SSRIs for Borderline Personality Disorder",
         "line": {
          "color": "#d84b9f"
         },
         "marker": {
          "symbol": "circle"
         },
         "mode": "lines",
         "name": "SSRIs for Borderline Personality Disorder",
         "orientation": "v",
         "showlegend": true,
         "stackgroup": "1",
         "type": "scatter",
         "x": {
          "bdata": "vgcAAL8HAADABwAAwQcAAMIHAADDBwAAxAcAAMUHAADGBwAAxwcAAMgHAADJBwAAygcAAMsHAADMBwAAzQcAAM4HAADPBwAA0AcAANEHAADSBwAA0wcAANQHAADVBwAA1gcAANcHAADYBwAA2QcAANoHAADbBwAA3AcAAN0HAADeBwAA3wcAAOAHAADhBwAA4gcAAOMHAADkBwAA5QcAAOYHAADnBwAA6AcAAOkHAAA=",
          "dtype": "i4"
         },
         "xaxis": "x",
         "y": {
          "bdata": "AAAAAAAAAAAAAAAAAAAAAAAAAAAAAAAAAAAAAAAAAAAAAAAAAAAAAAAAAAAAAAAAAAAAAAAAAADD7OAIIq13PxX44uoHHXU/CEgas3hchz9kIQtZyEKGP9uBuXZgro0/atzAqDONiz/5IlFq7GF2PxyqDr9owoA/GqzQGazQiT/Y6tkhcGOJPxL6AaocoW8/gUPzuf54eT9GE+CseUZTP43PnOExOok/hhFA+uKFgT9UCQE5P5WAPzVMR5R+qnQ/ZuiA3R5reT90wG6PtQxtP3KlNZakmYQ/JfSMyaOdfz/6hY25DzF+P89JfPq1in4/QNOcATTNaT+X7nMNslJpP4WHjD+/PnM/d28UmaTVcT8SGIERGIFxP9+PT9scYlo/MzMzMzMzcz8O15GURtZ1P/QFfUFf0Gc/U7A9a/YicD8MJF5KYcxwP4s5tmuqm2c/cEBYTFLPcD8V+OLqBx1lPw==",
          "dtype": "f8"
         },
         "yaxis": "y"
        },
        {
         "fillpattern": {
          "shape": ""
         },
         "hovertemplate": "<b>%{fullData.name}</b><br>Year: %{x}<br>Proportion: %{y:.2%}<extra></extra>",
         "legendgroup": "The Chronic Unpredictable Mild Stress Model of Depression",
         "line": {
          "color": "#2dcfe5"
         },
         "marker": {
          "symbol": "circle"
         },
         "mode": "lines",
         "name": "The Chronic Unpredictable Mild Stress Model of Depression",
         "orientation": "v",
         "showlegend": true,
         "stackgroup": "1",
         "type": "scatter",
         "x": {
          "bdata": "vgcAAL8HAADABwAAwQcAAMIHAADDBwAAxAcAAMUHAADGBwAAxwcAAMgHAADJBwAAygcAAMsHAADMBwAAzQcAAM4HAADPBwAA0AcAANEHAADSBwAA0wcAANQHAADVBwAA1gcAANcHAADYBwAA2QcAANoHAADbBwAA3AcAAN0HAADeBwAA3wcAAOAHAADhBwAA4gcAAOMHAADkBwAA5QcAAOYHAADnBwAA6AcAAOkHAAA=",
          "dtype": "i4"
         },
         "xaxis": "x",
         "y": {
          "bdata": "AAAAAAAAAAAAAAAAAAAAAAAAAAAAAAAAAAAAAAAAAAAAAAAAAAAAAAAAAAAAAAAAAAAAAAAAAADD7OAIIq13PwAAAAAAAAAAAAAAAAAAAABkIQtZyEJ2PwAAAAAAAAAAAAAAAAAAAABM2Rbj5dddPwAAAAAAAAAAF2DyFmDyZj8AAAAAAAAAAGFRARwTFlU/ms/1x8tgZD9GE+CseUZTPyFRiXXeWFI/hhFA+uKFcT9UCQE5P5VwP/c8bENliFA/ZuiA3R5reT90wG6PtQxtP6jXWzQs4oI/x/bCnA2XeD/CIdPdRtaKP4I9EqaXc4k/PNEbwRO9kT8iTwh9HIiYP+crSc+ueJ4/Zv02LFkQpD+/RsFp8WukPyHVB4GDJak/zczMzMzMpj+rUljbOy2oP8qasqasKas/z0sPB1KIpz9mCLB+NMynP70ALbkfj6o/r+RJl/BDqj8atpvlSWSqPw==",
          "dtype": "f8"
         },
         "yaxis": "y"
        },
        {
         "fillpattern": {
          "shape": ""
         },
         "hovertemplate": "<b>%{fullData.name}</b><br>Year: %{x}<br>Proportion: %{y:.2%}<extra></extra>",
         "legendgroup": "Bleeding Risk",
         "line": {
          "color": "#b29611"
         },
         "marker": {
          "symbol": "circle"
         },
         "mode": "lines",
         "name": "Bleeding Risk",
         "orientation": "v",
         "showlegend": true,
         "stackgroup": "1",
         "type": "scatter",
         "x": {
          "bdata": "vgcAAL8HAADABwAAwQcAAMIHAADDBwAAxAcAAMUHAADGBwAAxwcAAMgHAADJBwAAygcAAMsHAADMBwAAzQcAAM4HAADPBwAA0AcAANEHAADSBwAA0wcAANQHAADVBwAA1gcAANcHAADYBwAA2QcAANoHAADbBwAA3AcAAN0HAADeBwAA3wcAAOAHAADhBwAA4gcAAOMHAADkBwAA5QcAAOYHAADnBwAA6AcAAOkHAAA=",
          "dtype": "i4"
         },
         "xaxis": "x",
         "y": {
          "bdata": "AAAAAAAAAAAAAAAAAAAAAAAAAAAAAAAAAAAAAAAAAAAAAAAAAAAAAAAAAAAAAAAAAAAAAAAAAAAAAAAAAAAAABX44uoHHXU/AAAAAAAAAABkIQtZyEJmP+ere6SVyWM/AAAAAAAAAABM2Rbj5ddtPxyqDr9owoA/Ecg1Ecg1cT/A0Ig6R5FmP2FRARwTFlU/jYn0QOXshj9GE+CseUZzP7H5TbBNhWs/5xXQuFvndT+pS0EHj7qEP0/yat69/44/bdR3Nuo7iz9t1Hc26juLP5jcnB2Gd4s/JfSMyaOdjz/eU7BLq4OMP6zTtm6695A/ouoOIarukD+BLUsu3eeKPzRXkUd3cZI/fbC1R+88jD8WXuEVXuGFP+ere6SVyZM/AAAAAAAAkD810e/y4vSIPxJ3xB1xR4w/DKNy0nTTgj9mCLB+NMyHP/PV+sTvIYY/EBaT1DMEjD8atpvlSWSKPw==",
          "dtype": "f8"
         },
         "yaxis": "y"
        },
        {
         "fillpattern": {
          "shape": ""
         },
         "hovertemplate": "<b>%{fullData.name}</b><br>Year: %{x}<br>Proportion: %{y:.2%}<extra></extra>",
         "legendgroup": "Suicice Risk",
         "line": {
          "color": "#974bd8"
         },
         "marker": {
          "symbol": "circle"
         },
         "mode": "lines",
         "name": "Suicice Risk",
         "orientation": "v",
         "showlegend": true,
         "stackgroup": "1",
         "type": "scatter",
         "x": {
          "bdata": "vgcAAL8HAADABwAAwQcAAMIHAADDBwAAxAcAAMUHAADGBwAAxwcAAMgHAADJBwAAygcAAMsHAADMBwAAzQcAAM4HAADPBwAA0AcAANEHAADSBwAA0wcAANQHAADVBwAA1gcAANcHAADYBwAA2QcAANoHAADbBwAA3AcAAN0HAADeBwAA3wcAAOAHAADhBwAA4gcAAOMHAADkBwAA5QcAAOYHAADnBwAA6AcAAOkHAAA=",
          "dtype": "i4"
         },
         "xaxis": "x",
         "y": {
          "bdata": "AAAAAAAAAAAAAAAAAAAAAAAAAAAAAAAAAAAAAAAAAAAAAAAAAAAAAAAAAAAAAAAAAAAAAAAAAAAAAAAAAAAAABX44uoHHXU/tQojRPYlnz+96U1vetObP9uBuXZgro0/C8qwWm9BmT9M2Rbj5deNP+6YEbJ9HIQ/Ecg1Ecg1cT+otjdTHr+DPzUngbhQc4I/gUPzuf54eT/qHFCDtul8PyFRiXXeWHI/bhCcyoRtkD9T0MGjLgWNP8YAo5frkJE/dMBuj7UMnT9JOKV58SeSP/oilaH3TpA/avn4b3eQkT+l7/Vv4iiJP0bsihf3JYs/cJ41AedZgz9qbCJPCH18P6ZqXO+OQ4s/LWb9NixZgD+/RsFp8WuEP+Od5T/ZFXc/AAAAAAAAcD810e/y4vR4P/QFfUFf0Hc/U7A9a/YigD9jfxgsHJmDP5BHDSoFO4A/9AV9QV/Qhz8V+OLqBx11Pw==",
          "dtype": "f8"
         },
         "yaxis": "y"
        },
        {
         "fillpattern": {
          "shape": ""
         },
         "hovertemplate": "<b>%{fullData.name}</b><br>Year: %{x}<br>Proportion: %{y:.2%}<extra></extra>",
         "legendgroup": "SSRIs for Pediatric Depression",
         "line": {
          "color": "#2de55a"
         },
         "marker": {
          "symbol": "circle"
         },
         "mode": "lines",
         "name": "SSRIs for Pediatric Depression",
         "orientation": "v",
         "showlegend": true,
         "stackgroup": "1",
         "type": "scatter",
         "x": {
          "bdata": "vgcAAL8HAADABwAAwQcAAMIHAADDBwAAxAcAAMUHAADGBwAAxwcAAMgHAADJBwAAygcAAMsHAADMBwAAzQcAAM4HAADPBwAA0AcAANEHAADSBwAA0wcAANQHAADVBwAA1gcAANcHAADYBwAA2QcAANoHAADbBwAA3AcAAN0HAADeBwAA3wcAAOAHAADhBwAA4gcAAOMHAADkBwAA5QcAAOYHAADnBwAA6AcAAOkHAAA=",
          "dtype": "i4"
         },
         "xaxis": "x",
         "y": {
          "bdata": "AAAAAAAAAAAAAAAAAAAAAAAAAAAAAAAAAAAAAAAAAAAAAAAAAAAAAAAAAAAAAAAAAAAAAAAAAAAAAAAAAAAAABX44uoHHYU/tQojRPYlbz9kIQtZyEKGP+ere6SVyXM/atzAqDONiz/5IlFq7GGGP4UhkDhzb5I/IESNH0SNjz/wBCsJmTWMP2FRARwTFpU/rbh3kqWOkD+BGrRN54CaP9Yj/35p0J0/YRsEpzJhmz8JATk/lRCgPzVMR5R+qqQ/ZuiA3R5rqT9OaV78iYSjP98JgtKzKqE/GfhdhsITpT97JCrLy6SWP13/FEtSZKE/2rmpoZ2bmj9Q0Vk7xl2VP/eaV+fWEJw/HPQfyuCTkj9qUtG/pyaVP2IawCbq6Jc/AAAAAAAAnD/U3wQHXCihP0Ff0Bf0BZ0/IQ9CbTLclj+72tIN12WWP/PV+sTvIZY/yu3bZKCCkT8atpvlSWSaPw==",
          "dtype": "f8"
         },
         "yaxis": "y"
        },
        {
         "fillpattern": {
          "shape": ""
         },
         "hovertemplate": "<b>%{fullData.name}</b><br>Year: %{x}<br>Proportion: %{y:.2%}<extra></extra>",
         "legendgroup": "SSRIs for Premenstrual Dysphoric Disorder (PMDD)",
         "line": {
          "color": "#b21119"
         },
         "marker": {
          "symbol": "circle"
         },
         "mode": "lines",
         "name": "SSRIs for Premenstrual Dysphoric Disorder (PMDD)",
         "orientation": "v",
         "showlegend": true,
         "stackgroup": "1",
         "type": "scatter",
         "x": {
          "bdata": "vgcAAL8HAADABwAAwQcAAMIHAADDBwAAxAcAAMUHAADGBwAAxwcAAMgHAADJBwAAygcAAMsHAADMBwAAzQcAAM4HAADPBwAA0AcAANEHAADSBwAA0wcAANQHAADVBwAA1gcAANcHAADYBwAA2QcAANoHAADbBwAA3AcAAN0HAADeBwAA3wcAAOAHAADhBwAA4gcAAOMHAADkBwAA5QcAAOYHAADnBwAA6AcAAOkHAAA=",
          "dtype": "i4"
         },
         "xaxis": "x",
         "y": {
          "bdata": "AAAAAAAAAAAAAAAAAAAAAAAAAAAAAAAAAAAAAAAAAAAAAAAAAAAAAAAAAAAAAAAAAAAAAAAAAAAAAAAAAAAAABX44uoHHYU/tQojRPYlbz9kIQtZyEJmP9uBuXZgrn0/8ZKAcCJegj/5IlFq7GF2P+6YEbJ9HIQ/IESNH0SNjz/wBCsJmTWMP417gX/VuIc/ms/1x8tglD8SEhISEhKSP/0m2KbCDaA/zxQsif3OlD/TbGHuNs2GP7Bq/TWx7ow/STilefEngj9BTK4gJleAP84Ow7sNwIk/x/bCnA2XeD8Z9aNK7MVwP76OmTQ4wXc/QNOcATTNeT/bMe6qMJOEP0TGn1+fCXA/C4JCXZXOdD9tdQHCylZ3P+u5EQlSfXA/ZmZmZmZmdj810e/y4vRoP7OmrClryno/DKNy0nTTcj9jfxgsHJlzP8EOhHd6LoM/qGCEcvs2eT8V+OLqBx11Pw==",
          "dtype": "f8"
         },
         "yaxis": "y"
        },
        {
         "fillpattern": {
          "shape": ""
         },
         "hovertemplate": "<b>%{fullData.name}</b><br>Year: %{x}<br>Proportion: %{y:.2%}<extra></extra>",
         "legendgroup": "SSRIs for Autism Spectrum Disorders",
         "line": {
          "color": "#4b7bd8"
         },
         "marker": {
          "symbol": "circle"
         },
         "mode": "lines",
         "name": "SSRIs for Autism Spectrum Disorders",
         "orientation": "v",
         "showlegend": true,
         "stackgroup": "1",
         "type": "scatter",
         "x": {
          "bdata": "vgcAAL8HAADABwAAwQcAAMIHAADDBwAAxAcAAMUHAADGBwAAxwcAAMgHAADJBwAAygcAAMsHAADMBwAAzQcAAM4HAADPBwAA0AcAANEHAADSBwAA0wcAANQHAADVBwAA1gcAANcHAADYBwAA2QcAANoHAADbBwAA3AcAAN0HAADeBwAA3wcAAOAHAADhBwAA4gcAAOMHAADkBwAA5QcAAOYHAADnBwAA6AcAAOkHAAA=",
          "dtype": "i4"
         },
         "xaxis": "x",
         "y": {
          "bdata": "AAAAAAAAAAAAAAAAAAAAAAAAAAAAAAAAAAAAAAAAAAAAAAAAAAAAAAAAAAAAAAAAAAAAAAAAAAAAAAAAAAAAABX44uoHHXU/tQojRPYljz9kIQtZyEKGP9uBuXZgro0/atzAqDONez/5IlFq7GF2P+6YEbJ9HIQ/F2DyFmDyZj/A0Ig6R5GGP7mlAeOXW3o/ms/1x8tghD9GE+CseUaDPyFRiXXeWHI/SRpgd9RIej+pS0EHj7p0P9TTtDyLu4Y/UCSc0rz4gz9JOKV58SdyP3KlNZakmYQ/JfSMyaOdfz/6hY25DzF+P0bsihf3JXs/QNOcATTNeT/EcMXLWyiGP4WHjD+/PoM/VYtZvw1Lhj+7AGFlqwuAP9+PT9scYno/AAAAAAAAgD8i1MDDlGWHPxj0BX1BX4A/sCnYnjV7gT8SNo3vkTJ5P70ALbkfj3o/JJtffe41gj8atpvlSWSKPw==",
          "dtype": "f8"
         },
         "yaxis": "y"
        },
        {
         "fillpattern": {
          "shape": ""
         },
         "hovertemplate": "<b>%{fullData.name}</b><br>Year: %{x}<br>Proportion: %{y:.2%}<extra></extra>",
         "legendgroup": "SSRIs (Fluvoxamine) for Schizophrenia",
         "line": {
          "color": "#a2e52d"
         },
         "marker": {
          "symbol": "circle"
         },
         "mode": "lines",
         "name": "SSRIs (Fluvoxamine) for Schizophrenia",
         "orientation": "v",
         "showlegend": true,
         "stackgroup": "1",
         "type": "scatter",
         "x": {
          "bdata": "vgcAAL8HAADABwAAwQcAAMIHAADDBwAAxAcAAMUHAADGBwAAxwcAAMgHAADJBwAAygcAAMsHAADMBwAAzQcAAM4HAADPBwAA0AcAANEHAADSBwAA0wcAANQHAADVBwAA1gcAANcHAADYBwAA2QcAANoHAADbBwAA3AcAAN0HAADeBwAA3wcAAOAHAADhBwAA4gcAAOMHAADkBwAA5QcAAOYHAADnBwAA6AcAAOkHAAA=",
          "dtype": "i4"
         },
         "xaxis": "x",
         "y": {
          "bdata": "AAAAAAAAAAAAAAAAAAAAAAAAAAAAAAAAAAAAAAAAAAAAAAAAAAAAAAAAAAAAAAAAAAAAAAAAAAAAAAAAAAAAABX44uoHHYU/tQojRPYlbz8AAAAAAAAAAOere6SVyXM/k4BwIl4SkD/QR+6t76aCP+6YEbJ9HIQ/F2DyFmDyhj+QnOZr9eyQP2FRARwTFoU/Z7fwqzGRfj+vFXziSK+FP/0m2KbCDYA/txOIWZ+2gz/TbGHuNs2GP3JbIuWXzIg/ZuiA3R5reT9XEJMriMmFPyt4UOF25n4/x/bCnA2XeD8Z9aNK7MVwPzUxqFF5XHQ/2DhpgY2Tdj/x8haKBf5yP8VIeR/fc3Y/d28UmaTVYT+/RsFp8Wt0P+ere6SVyWM/AAAAAAAAgD+CxauvGzJvP3fEHXFH3HE/U7A9a/YicD9jfxgsHJlzP1pyPx41qHQ/jFBu3yYDhT8gdFTgi6t/Pw==",
          "dtype": "f8"
         },
         "yaxis": "y"
        },
        {
         "fillpattern": {
          "shape": ""
         },
         "hovertemplate": "<b>%{fullData.name}</b><br>Year: %{x}<br>Proportion: %{y:.2%}<extra></extra>",
         "legendgroup": "SSRIs Effects on Antimicrobials and Gut Microbiome",
         "line": {
          "color": "#b211a6"
         },
         "marker": {
          "symbol": "circle"
         },
         "mode": "lines",
         "name": "SSRIs Effects on Antimicrobials and Gut Microbiome",
         "orientation": "v",
         "showlegend": true,
         "stackgroup": "1",
         "type": "scatter",
         "x": {
          "bdata": "vgcAAL8HAADABwAAwQcAAMIHAADDBwAAxAcAAMUHAADGBwAAxwcAAMgHAADJBwAAygcAAMsHAADMBwAAzQcAAM4HAADPBwAA0AcAANEHAADSBwAA0wcAANQHAADVBwAA1gcAANcHAADYBwAA2QcAANoHAADbBwAA3AcAAN0HAADeBwAA3wcAAOAHAADhBwAA4gcAAOMHAADkBwAA5QcAAOYHAADnBwAA6AcAAOkHAAA=",
          "dtype": "i4"
         },
         "xaxis": "x",
         "y": {
          "bdata": "AAAAAAAAAAAAAAAAAAAAAAAAAAAAAAAAAAAAAAAAAAAAAAAAAAAAAAAAAAAAAAAAAAAAAAAAAAAAAAAAAAAAABX44uoHHXU/AAAAAAAAAAAAAAAAAAAAAAAAAAAAAAAAAAAAAAAAAAAAAAAAAAAAAAAAAAAAAAAAAAAAAAAAAAAAAAAAAAAAAAAAAAAAAAAAAAAAAAAAAABGE+CseUZTPyFRiXXeWFI/AAAAAAAAAAAAAAAAAAAAAAAAAAAAAAAAAAAAAAAAAAB0wG6PtQxNP3KlNZakmWQ/dvUns1gaXD/CIdPdRtZaP0bsihf3JVs/CAQCgUAgcD/x8haKBf5iPwYKZv/+qGk/n5RwIYbHZz9tdQHCylZHP9+PT9scYko/MzMzMzMzcz810e/y4vSIP/QFfUFf0Ic/XmalOFUnkj8MJF5KYcyAP47A4cpX65M/EBaT1DMEjD8dFfji6gedPw==",
          "dtype": "f8"
         },
         "yaxis": "y"
        },
        {
         "fillpattern": {
          "shape": ""
         },
         "hovertemplate": "<b>%{fullData.name}</b><br>Year: %{x}<br>Proportion: %{y:.2%}<extra></extra>",
         "legendgroup": "SSRIs for PTSD",
         "line": {
          "color": "#4bd8ba"
         },
         "marker": {
          "symbol": "circle"
         },
         "mode": "lines",
         "name": "SSRIs for PTSD",
         "orientation": "v",
         "showlegend": true,
         "stackgroup": "1",
         "type": "scatter",
         "x": {
          "bdata": "vgcAAL8HAADABwAAwQcAAMIHAADDBwAAxAcAAMUHAADGBwAAxwcAAMgHAADJBwAAygcAAMsHAADMBwAAzQcAAM4HAADPBwAA0AcAANEHAADSBwAA0wcAANQHAADVBwAA1gcAANcHAADYBwAA2QcAANoHAADbBwAA3AcAAN0HAADeBwAA3wcAAOAHAADhBwAA4gcAAOMHAADkBwAA5QcAAOYHAADnBwAA6AcAAOkHAAA=",
          "dtype": "i4"
         },
         "xaxis": "x",
         "y": {
          "bdata": "AAAAAAAAAAAAAAAAAAAAAAAAAAAAAAAAAAAAAAAAAAAAAAAAAAAAAAAAAAAAAAAAAAAAAAAAAAAAAAAAAAAAAAAAAAAAAAAAtQojRPYlbz9kIQtZyEJ2P+ere6SVyXM/8ZKAcCJecj9M2Rbj5dddP5N2F5in0Go/F2DyFmDydj+QnOZr9eyAPzUngbhQc4I/pxX3TrLUkT9MGeayf0yZP43PnOExOpk/qh7wNU2qjj9UCQE5P5WQP3JbIuWXzHg/W4YO2O2xlj9t1Hc26juLP5jcnB2Gd4s/GfhdhsIThT/eU7BLq4OMP76OmTQ4wYc/ouoOIarukD9Q0Vk7xl2VP5T2mlfn1pA/sAZOjtGMlT9oL6G9hPaSP9uBuXZgro0/mpmZmZmZlT+YVSms7Z2WPzZlTVlT1pQ/XmalOFUnkj/ozPunwOWZP8EOhHd6LpM/qGCEcvs2mT8gdFTgi6uPPw==",
          "dtype": "f8"
         },
         "yaxis": "y"
        },
        {
         "fillpattern": {
          "shape": ""
         },
         "hovertemplate": "<b>%{fullData.name}</b><br>Year: %{x}<br>Proportion: %{y:.2%}<extra></extra>",
         "legendgroup": "Pharmacogenetics in SSRI Treatment",
         "line": {
          "color": "#e5882d"
         },
         "marker": {
          "symbol": "circle"
         },
         "mode": "lines",
         "name": "Pharmacogenetics in SSRI Treatment",
         "orientation": "v",
         "showlegend": true,
         "stackgroup": "1",
         "type": "scatter",
         "x": {
          "bdata": "vgcAAL8HAADABwAAwQcAAMIHAADDBwAAxAcAAMUHAADGBwAAxwcAAMgHAADJBwAAygcAAMsHAADMBwAAzQcAAM4HAADPBwAA0AcAANEHAADSBwAA0wcAANQHAADVBwAA1gcAANcHAADYBwAA2QcAANoHAADbBwAA3AcAAN0HAADeBwAA3wcAAOAHAADhBwAA4gcAAOMHAADkBwAA5QcAAOYHAADnBwAA6AcAAOkHAAA=",
          "dtype": "i4"
         },
         "xaxis": "x",
         "y": {
          "bdata": "AAAAAAAAAAAAAAAAAAAAAAAAAAAAAAAAAAAAAAAAAAAAAAAAAAAAAAAAAAAAAAAAAAAAAAAAAAAAAAAAAAAAAAAAAAAAAAAAtQojRPYlbz8AAAAAAAAAAAAAAAAAAAAAAAAAAAAAAABM2Rbj5ddtP5N2F5in0Fo/F2DyFmDyVj8AAAAAAAAAAGFRARwTFlU/ms/1x8tgZD/qHFCDtulsPwAAAAAAAAAAhhFA+uKFYT9UCQE5P5VgP/c8bENliFA/ZuiA3R5reT90wG6PtQxtP98JgtKzKnE/dvUns1gaXD/6hY25DzF+P0bsihf3JWs/QNOcATTNST/x8haKBf5yP+Qmlk8vpIE/wXgr+xxSgz8SGIERGIFxP+ere6SVyXM/zczMzMzMfD810e/y4vSIP/QFfUFf0Ic/NnsRCPDkij8SNo3vkTKJP4crX61P/I4/qGCEcvs2iT8SmYbtZnmSPw==",
          "dtype": "f8"
         },
         "yaxis": "y"
        },
        {
         "fillpattern": {
          "shape": ""
         },
         "hovertemplate": "<b>%{fullData.name}</b><br>Year: %{x}<br>Proportion: %{y:.2%}<extra></extra>",
         "legendgroup": "Depression Treatment Guidelines",
         "line": {
          "color": "#3211b2"
         },
         "marker": {
          "symbol": "circle"
         },
         "mode": "lines",
         "name": "Depression Treatment Guidelines",
         "orientation": "v",
         "showlegend": true,
         "stackgroup": "1",
         "type": "scatter",
         "x": {
          "bdata": "vgcAAL8HAADABwAAwQcAAMIHAADDBwAAxAcAAMUHAADGBwAAxwcAAMgHAADJBwAAygcAAMsHAADMBwAAzQcAAM4HAADPBwAA0AcAANEHAADSBwAA0wcAANQHAADVBwAA1gcAANcHAADYBwAA2QcAANoHAADbBwAA3AcAAN0HAADeBwAA3wcAAOAHAADhBwAA4gcAAOMHAADkBwAA5QcAAOYHAADnBwAA6AcAAOkHAAA=",
          "dtype": "i4"
         },
         "xaxis": "x",
         "y": {
          "bdata": "AAAAAAAAAAAAAAAAAAAAAAAAAAAAAAAAAAAAAAAAAAAAAAAAAAAAAAAAAAAAAAAAAAAAAAAAAAAAAAAAAAAAAAAAAAAAAAAAtQojRPYlfz9kIQtZyEJ2P9uBuXZgrn0/8ZKAcCJegj/5IlFq7GF2PxyqDr9owoA/HfiuHPiufD/A0Ig6R5GGP2FRARwTFlU/dP3xMhgFjD/eEER3qt2APyFRiXXeWHI/SRpgd9RIaj+pS0EHj7p0P/c8bENliHA/STilefEncj9m6IDdHmt5P3KlNZakmXQ/GfhdhsITdT/CIdPdRtZaPzUxqFF5XHQ/cJ41AedZcz896tCQXqdvPwYKZv/+qHk/n5RwIYbHdz8SGIERGIFxP9uBuXZgrn0/MzMzMzMzYz8O15GURtZ1PzZlTVlT1nQ/7m1Gb26VfT+72tIN12VmP1pyPx41qHQ/QKt1EMNpdj8gdFTgi6t/Pw==",
          "dtype": "f8"
         },
         "yaxis": "y"
        },
        {
         "fillpattern": {
          "shape": ""
         },
         "hovertemplate": "<b>%{fullData.name}</b><br>Year: %{x}<br>Proportion: %{y:.2%}<extra></extra>",
         "legendgroup": "SSRIs for Depression after Traumatic Brain Injury",
         "line": {
          "color": "#58d84b"
         },
         "marker": {
          "symbol": "circle"
         },
         "mode": "lines",
         "name": "SSRIs for Depression after Traumatic Brain Injury",
         "orientation": "v",
         "showlegend": true,
         "stackgroup": "1",
         "type": "scatter",
         "x": {
          "bdata": "vgcAAL8HAADABwAAwQcAAMIHAADDBwAAxAcAAMUHAADGBwAAxwcAAMgHAADJBwAAygcAAMsHAADMBwAAzQcAAM4HAADPBwAA0AcAANEHAADSBwAA0wcAANQHAADVBwAA1gcAANcHAADYBwAA2QcAANoHAADbBwAA3AcAAN0HAADeBwAA3wcAAOAHAADhBwAA4gcAAOMHAADkBwAA5QcAAOYHAADnBwAA6AcAAOkHAAA=",
          "dtype": "i4"
         },
         "xaxis": "x",
         "y": {
          "bdata": "AAAAAAAAAAAAAAAAAAAAAAAAAAAAAAAAAAAAAAAAAAAAAAAAAAAAAAAAAAAAAAAAAAAAAAAAAAAAAAAAAAAAAAAAAAAAAAAAtQojRPYlfz9kIQtZyEKGP+ere6SVyYM/8ZKAcCJeYj9M2Rbj5ddtP5N2F5in0Go/Ecg1Ecg1cT/wBCsJmTV8P7mlAeOXW3o/ms/1x8tgZD8YGBgYGBh4P2ml6xIW73Y/5xXQuFvndT+pS0EHj7p0P7Bq/TWx7nw/dMBuj7UMbT90wG6PtQxtP3KlNZakmXQ/GfhdhsITdT9RWV4mtSB0P0bsihf3JWs/CAQCgUAgcD+X7nMNslJpP8VIeR/fc3Y/d28UmaTVcT9tdQHCylZnP+u5EQlSfXA/MzMzMzMzYz810e/y4vR4Pxj0BX1BX4A/NnsRCPDkej8MJF5KYcxgP4s5tmuqm3c/QKt1EMNpZj8AAAAAAAAAAA==",
          "dtype": "f8"
         },
         "yaxis": "y"
        },
        {
         "fillpattern": {
          "shape": ""
         },
         "hovertemplate": "<b>%{fullData.name}</b><br>Year: %{x}<br>Proportion: %{y:.2%}<extra></extra>",
         "legendgroup": "Pharmacoeconomics of SSRIs for Depression",
         "line": {
          "color": "#e52d74"
         },
         "marker": {
          "symbol": "circle"
         },
         "mode": "lines",
         "name": "Pharmacoeconomics of SSRIs for Depression",
         "orientation": "v",
         "showlegend": true,
         "stackgroup": "1",
         "type": "scatter",
         "x": {
          "bdata": "vgcAAL8HAADABwAAwQcAAMIHAADDBwAAxAcAAMUHAADGBwAAxwcAAMgHAADJBwAAygcAAMsHAADMBwAAzQcAAM4HAADPBwAA0AcAANEHAADSBwAA0wcAANQHAADVBwAA1gcAANcHAADYBwAA2QcAANoHAADbBwAA3AcAAN0HAADeBwAA3wcAAOAHAADhBwAA4gcAAOMHAADkBwAA5QcAAOYHAADnBwAA6AcAAOkHAAA=",
          "dtype": "i4"
         },
         "xaxis": "x",
         "y": {
          "bdata": "AAAAAAAAAAAAAAAAAAAAAAAAAAAAAAAAAAAAAAAAAAAAAAAAAAAAAAAAAAAAAAAAAAAAAAAAAAAAAAAAAAAAAAAAAAAAAAAAAAAAAAAAAABkIQtZyEJ2P+ere6SVyWM/8ZKAcCJekj+3a+WEZ/qbP+6YEbJ9HJQ/G9I/G9I/mz/MXTGuW/qXPzUngbhQc5I/lCx1hNimlT/eEER3qt2QP/0m2KbCDZA/ehyo1pB5jD9+KiEg56eSP6OX65ARxJc/bdR3Nuo7iz97rGXogN2OP/oilaH3TpA/JfSMyaOdfz/CIdPdRtaKP0bsihf3JYs/2DhpgY2Thj/EcMXLWyiGPwYKZv/+qGk/x7nMqWe5bT/I0oFyfSx9P9uBuXZgrn0/mpmZmZmZaT/o3DM2qrdyP3fEHXFH3GE/xJWnOfODZT+72tIN12VWPymryNC/tGE/QKt1EMNpRj8AAAAAAAAAAA==",
          "dtype": "f8"
         },
         "yaxis": "y"
        },
        {
         "fillpattern": {
          "shape": ""
         },
         "hovertemplate": "<b>%{fullData.name}</b><br>Year: %{x}<br>Proportion: %{y:.2%}<extra></extra>",
         "legendgroup": "Antifungal Activity of Sertraline",
         "line": {
          "color": "#117eb2"
         },
         "marker": {
          "symbol": "circle"
         },
         "mode": "lines",
         "name": "Antifungal Activity of Sertraline",
         "orientation": "v",
         "showlegend": true,
         "stackgroup": "1",
         "type": "scatter",
         "x": {
          "bdata": "vgcAAL8HAADABwAAwQcAAMIHAADDBwAAxAcAAMUHAADGBwAAxwcAAMgHAADJBwAAygcAAMsHAADMBwAAzQcAAM4HAADPBwAA0AcAANEHAADSBwAA0wcAANQHAADVBwAA1gcAANcHAADYBwAA2QcAANoHAADbBwAA3AcAAN0HAADeBwAA3wcAAOAHAADhBwAA4gcAAOMHAADkBwAA5QcAAOYHAADnBwAA6AcAAOkHAAA=",
          "dtype": "i4"
         },
         "xaxis": "x",
         "y": {
          "bdata": "AAAAAAAAAAAAAAAAAAAAAAAAAAAAAAAAAAAAAAAAAAAAAAAAAAAAAAAAAAAAAAAAAAAAAAAAAAAAAAAAAAAAAAAAAAAAAAAAAAAAAAAAAABkIQtZyEJmPwAAAAAAAAAA8ZKAcCJeYj8AAAAAAAAAAJN2F5in0Go/AAAAAAAAAADA0Ig6R5FmPwAAAAAAAAAAZ7fwqzGRbj9GE+CseUZjPyFRiXXeWFI/hhFA+uKFcT/+jYHV3t9oPwAAAAAAAAAAdMBuj7UMXT90wG6PtQxNP5jcnB2Gd1s/AAAAAAAAAADCIdPdRtZqP0bsihf3JVs/QNOcATTNaT+X7nMNslJJP4WHjD+/PmM/x7nMqWe5bT9tdQHCylZ3P+Od5T/ZFXc/mpmZmZmZgT8O15GURtaFPxj0BX1BX4A/fYjcoHE0eD8PrfWcef+EP/PV+sTvIYY/2PVmroqcgz8YVz/oqMCXPw==",
          "dtype": "f8"
         },
         "yaxis": "y"
        },
        {
         "fillpattern": {
          "shape": ""
         },
         "hovertemplate": "<b>%{fullData.name}</b><br>Year: %{x}<br>Proportion: %{y:.2%}<extra></extra>",
         "legendgroup": "SSRIs for Fibromyalgia",
         "line": {
          "color": "#d4d84b"
         },
         "marker": {
          "symbol": "circle"
         },
         "mode": "lines",
         "name": "SSRIs for Fibromyalgia",
         "orientation": "v",
         "showlegend": true,
         "stackgroup": "1",
         "type": "scatter",
         "x": {
          "bdata": "vgcAAL8HAADABwAAwQcAAMIHAADDBwAAxAcAAMUHAADGBwAAxwcAAMgHAADJBwAAygcAAMsHAADMBwAAzQcAAM4HAADPBwAA0AcAANEHAADSBwAA0wcAANQHAADVBwAA1gcAANcHAADYBwAA2QcAANoHAADbBwAA3AcAAN0HAADeBwAA3wcAAOAHAADhBwAA4gcAAOMHAADkBwAA5QcAAOYHAADnBwAA6AcAAOkHAAA=",
          "dtype": "i4"
         },
         "xaxis": "x",
         "y": {
          "bdata": "AAAAAAAAAAAAAAAAAAAAAAAAAAAAAAAAAAAAAAAAAAAAAAAAAAAAAAAAAAAAAAAAAAAAAAAAAAAAAAAAAAAAAAAAAAAAAAAAAAAAAAAAAABkIQtZyEJmPwAAAAAAAAAA8ZKAcCJecj9M2Rbj5dddP+6YEbJ9HHQ/F2DyFmDyVj/A0Ig6R5F2PxL6AaocoW8/Z7fwqzGRbj8AAAAAAAAAACFRiXXeWHI/SRpgd9RIaj9UCQE5P5VwP/c8bENliHA/dMBuj7UMfT9JOKV58SdyP3KlNZakmXQ/avn4b3eQgT/CIdPdRtZ6PzUxqFF5XHQ/QNOcATTNaT+X7nMNslJZPwYKZv/+qGk/C4JCXZXOdD9tdQHCylZnP+ere6SVyWM/mpmZmZmZST810e/y4vRIP/QFfUFf0Fc/U7A9a/YiYD+72tIN12VmP4s5tmuqm0c/EBaT1DMEbD8V+OLqBx11Pw==",
          "dtype": "f8"
         },
         "yaxis": "y"
        },
        {
         "fillpattern": {
          "shape": ""
         },
         "hovertemplate": "<b>%{fullData.name}</b><br>Year: %{x}<br>Proportion: %{y:.2%}<extra></extra>",
         "legendgroup": "SSRIs for Depression in Cancer Patients",
         "line": {
          "color": "#b52de5"
         },
         "marker": {
          "symbol": "circle"
         },
         "mode": "lines",
         "name": "SSRIs for Depression in Cancer Patients",
         "orientation": "v",
         "showlegend": true,
         "stackgroup": "1",
         "type": "scatter",
         "x": {
          "bdata": "vgcAAL8HAADABwAAwQcAAMIHAADDBwAAxAcAAMUHAADGBwAAxwcAAMgHAADJBwAAygcAAMsHAADMBwAAzQcAAM4HAADPBwAA0AcAANEHAADSBwAA0wcAANQHAADVBwAA1gcAANcHAADYBwAA2QcAANoHAADbBwAA3AcAAN0HAADeBwAA3wcAAOAHAADhBwAA4gcAAOMHAADkBwAA5QcAAOYHAADnBwAA6AcAAOkHAAA=",
          "dtype": "i4"
         },
         "xaxis": "x",
         "y": {
          "bdata": "AAAAAAAAAAAAAAAAAAAAAAAAAAAAAAAAAAAAAAAAAAAAAAAAAAAAAAAAAAAAAAAAAAAAAAAAAAAAAAAAAAAAAAAAAAAAAAAAAAAAAAAAAABkIQtZyEJmPwAAAAAAAAAAAAAAAAAAAABM2Rbj5dddP5N2F5in0Fo/AAAAAAAAAADA0Ig6R5FWP2FRARwTFlU/ms/1x8tgVD/qHFCDtulsPyFRiXXeWGI/SRpgd9RIaj9UCQE5P5VwP/c8bENliGA/dMBuj7UMXT9XEJMriMl1P98JgtKzKoE/dvUns1gaXD8AAAAAAAAAAKzTtm6693A/cJ41AedZcz/x8haKBf5yPwYKZv/+qHk/d28UmaTVcT8SGIERGIFhP9+PT9scYmo/MzMzMzMzcz810e/y4vRIP3fEHXFH3HE/AAAAAAAAAABjfxgsHJlzPymryNC/tHE/QKt1EMNpVj8AAAAAAAAAAA==",
          "dtype": "f8"
         },
         "yaxis": "y"
        },
        {
         "fillpattern": {
          "shape": ""
         },
         "hovertemplate": "<b>%{fullData.name}</b><br>Year: %{x}<br>Proportion: %{y:.2%}<extra></extra>",
         "legendgroup": "SSRI Utilization Patterns",
         "line": {
          "color": "#11b25a"
         },
         "marker": {
          "symbol": "circle"
         },
         "mode": "lines",
         "name": "SSRI Utilization Patterns",
         "orientation": "v",
         "showlegend": true,
         "stackgroup": "1",
         "type": "scatter",
         "x": {
          "bdata": "vgcAAL8HAADABwAAwQcAAMIHAADDBwAAxAcAAMUHAADGBwAAxwcAAMgHAADJBwAAygcAAMsHAADMBwAAzQcAAM4HAADPBwAA0AcAANEHAADSBwAA0wcAANQHAADVBwAA1gcAANcHAADYBwAA2QcAANoHAADbBwAA3AcAAN0HAADeBwAA3wcAAOAHAADhBwAA4gcAAOMHAADkBwAA5QcAAOYHAADnBwAA6AcAAOkHAAA=",
          "dtype": "i4"
         },
         "xaxis": "x",
         "y": {
          "bdata": "AAAAAAAAAAAAAAAAAAAAAAAAAAAAAAAAAAAAAAAAAAAAAAAAAAAAAAAAAAAAAAAAAAAAAAAAAAAAAAAAAAAAAAAAAAAAAAAAAAAAAAAAAAAAAAAAAAAAAOere6SVyYM/8ZKAcCJecj/QR+6t76aCPxyqDr9owoA/Ecg1Ecg1kT/kd4KVhMyaP7mlAeOXW4o/jYn0QOXslj/eEER3qt2QPzPm4VxsfpM/ehyo1pB5jD8or6G8hvKKPzVMR5R+qnQ/dMBuj7UMfT9m6IDdHmuJP84Ow7sNwIk/cHeQEWjVhj/6hY25DzGOP4I9EqaXc4k/qG3QgdoGjT9Tq/lvMxKOPzRXkUd3cZI/x7nMqWe5jT9mDHG7YcaQP+myxtZzI4I/MzMzMzMziz810e/y4vSIPxJ3xB1xR4w/5LfeoQ+Rmz/iuswCkH+hP/FOz2VC0pk/qGCEcvs2mT8gdFTgi6ufPw==",
          "dtype": "f8"
         },
         "yaxis": "y"
        },
        {
         "fillpattern": {
          "shape": ""
         },
         "hovertemplate": "<b>%{fullData.name}</b><br>Year: %{x}<br>Proportion: %{y:.2%}<extra></extra>",
         "legendgroup": "SSRIs for Generalized Anxiety Disorder",
         "line": {
          "color": "#d8624b"
         },
         "marker": {
          "symbol": "circle"
         },
         "mode": "lines",
         "name": "SSRIs for Generalized Anxiety Disorder",
         "orientation": "v",
         "showlegend": true,
         "stackgroup": "1",
         "type": "scatter",
         "x": {
          "bdata": "vgcAAL8HAADABwAAwQcAAMIHAADDBwAAxAcAAMUHAADGBwAAxwcAAMgHAADJBwAAygcAAMsHAADMBwAAzQcAAM4HAADPBwAA0AcAANEHAADSBwAA0wcAANQHAADVBwAA1gcAANcHAADYBwAA2QcAANoHAADbBwAA3AcAAN0HAADeBwAA3wcAAOAHAADhBwAA4gcAAOMHAADkBwAA5QcAAOYHAADnBwAA6AcAAOkHAAA=",
          "dtype": "i4"
         },
         "xaxis": "x",
         "y": {
          "bdata": "AAAAAAAAAAAAAAAAAAAAAAAAAAAAAAAAAAAAAAAAAAAAAAAAAAAAAAAAAAAAAAAAAAAAAAAAAAAAAAAAAAAAAAAAAAAAAAAAAAAAAAAAAAAAAAAAAAAAAOere6SVyWM/8ZKAcCJegj9M2Rbj5dd9P5N2F5in0Ho/HfiuHPiufD/wBCsJmTV8P7mlAeOXW3o/pxX3TrLUgT/qHFCDtumMP/0m2KbCDZA/txOIWZ+2gz8UO7ETO7GTPwQQfugEs5U/QUyuICZXkD9BTK4gJleAPyt4UOF25o4/znRaPv7bjT/CIdPdRtaKP89JfPq1io4/DAaDwWAwiD9qbCJPCH2MP8VIeR/fc4Y/VYtZvw1Lhj+/RsFp8WuEP+ere6SVyYM/mpmZmZmZgT+CxauvGzJ/Pxj0BX1BX4A/xJWnOfODhT+72tIN12V2P/PV+sTvIYY/QKt1EMNphj8gdFTgi6t/Pw==",
          "dtype": "f8"
         },
         "yaxis": "y"
        },
        {
         "fillpattern": {
          "shape": ""
         },
         "hovertemplate": "<b>%{fullData.name}</b><br>Year: %{x}<br>Proportion: %{y:.2%}<extra></extra>",
         "legendgroup": "Forensic Toxicology of Fatal Overdoses",
         "line": {
          "color": "#2d46e5"
         },
         "marker": {
          "symbol": "circle"
         },
         "mode": "lines",
         "name": "Forensic Toxicology of Fatal Overdoses",
         "orientation": "v",
         "showlegend": true,
         "stackgroup": "1",
         "type": "scatter",
         "x": {
          "bdata": "vgcAAL8HAADABwAAwQcAAMIHAADDBwAAxAcAAMUHAADGBwAAxwcAAMgHAADJBwAAygcAAMsHAADMBwAAzQcAAM4HAADPBwAA0AcAANEHAADSBwAA0wcAANQHAADVBwAA1gcAANcHAADYBwAA2QcAANoHAADbBwAA3AcAAN0HAADeBwAA3wcAAOAHAADhBwAA4gcAAOMHAADkBwAA5QcAAOYHAADnBwAA6AcAAOkHAAA=",
          "dtype": "i4"
         },
         "xaxis": "x",
         "y": {
          "bdata": "AAAAAAAAAAAAAAAAAAAAAAAAAAAAAAAAAAAAAAAAAAAAAAAAAAAAAAAAAAAAAAAAAAAAAAAAAAAAAAAAAAAAAAAAAAAAAAAAAAAAAAAAAAAAAAAAAAAAAOere6SVyWM/8ZKAcCJecj9M2Rbj5dddP5N2F5in0Fo/F2DyFmDydj/A0Ig6R5F2PxL6AaocoX8/ms/1x8tgZD/qHFCDtulsP7H5TbBNhWs/qh7wNU2qfj/+jYHV3t94PzVMR5R+qnQ/dMBuj7UMfT9JOKV58SeCP3KlNZakmXQ/GfhdhsIThT8Z9aNK7MVwPzUxqFF5XHQ/CAQCgUAggD9qbCJPCH2MP0fLUt8e3nw/C4JCXZXOhD8WXuEVXuGFP+Od5T/ZFXc/mpmZmZmZgT/U3wQHXCiBP/QFfUFf0Hc/IQ9CbTLchj8PrfWcef+EP70ALbkfj3o/EBaT1DMEfD8AAAAAAAAAAA==",
          "dtype": "f8"
         },
         "yaxis": "y"
        },
        {
         "fillpattern": {
          "shape": ""
         },
         "hovertemplate": "<b>%{fullData.name}</b><br>Year: %{x}<br>Proportion: %{y:.2%}<extra></extra>",
         "legendgroup": "Withdrawal Symptoms",
         "line": {
          "color": "#56b211"
         },
         "marker": {
          "symbol": "circle"
         },
         "mode": "lines",
         "name": "Withdrawal Symptoms",
         "orientation": "v",
         "showlegend": true,
         "stackgroup": "1",
         "type": "scatter",
         "x": {
          "bdata": "vgcAAL8HAADABwAAwQcAAMIHAADDBwAAxAcAAMUHAADGBwAAxwcAAMgHAADJBwAAygcAAMsHAADMBwAAzQcAAM4HAADPBwAA0AcAANEHAADSBwAA0wcAANQHAADVBwAA1gcAANcHAADYBwAA2QcAANoHAADbBwAA3AcAAN0HAADeBwAA3wcAAOAHAADhBwAA4gcAAOMHAADkBwAA5QcAAOYHAADnBwAA6AcAAOkHAAA=",
          "dtype": "i4"
         },
         "xaxis": "x",
         "y": {
          "bdata": "AAAAAAAAAAAAAAAAAAAAAAAAAAAAAAAAAAAAAAAAAAAAAAAAAAAAAAAAAAAAAAAAAAAAAAAAAAAAAAAAAAAAAAAAAAAAAAAAAAAAAAAAAAAAAAAAAAAAAOere6SVyXM/AAAAAAAAAADQR+6t76aCP+6YEbJ9HIQ/HfiuHPiujD+otjdTHr+DP2FRARwTFoU/pxX3TrLUgT+vFXziSK+FP2ml6xIW74Y/txOIWZ+2gz9UCQE5P5VQP/c8bENliHA/ZuiA3R5reT90wG6PtQx9P5jcnB2Gd2s/dvUns1gaXD9RWV4mtSB0P6zTtm6693A/QNOcATTNST/x8haKBf5iP0TGn1+fCXA/d28UmaTVYT8SGIERGIFhP+ere6SVyXM/mpmZmZmZeT810e/y4vRoPzZlTVlT1nQ/NnsRCPDkaj8SNo3vkTJ5PymryNC/tHE/EBaT1DMEbD8AAAAAAAAAAA==",
          "dtype": "f8"
         },
         "yaxis": "y"
        },
        {
         "fillpattern": {
          "shape": ""
         },
         "hovertemplate": "<b>%{fullData.name}</b><br>Year: %{x}<br>Proportion: %{y:.2%}<extra></extra>",
         "legendgroup": "SSRIs for Postpartum Depression",
         "line": {
          "color": "#d84bb0"
         },
         "marker": {
          "symbol": "circle"
         },
         "mode": "lines",
         "name": "SSRIs for Postpartum Depression",
         "orientation": "v",
         "showlegend": true,
         "stackgroup": "1",
         "type": "scatter",
         "x": {
          "bdata": "vgcAAL8HAADABwAAwQcAAMIHAADDBwAAxAcAAMUHAADGBwAAxwcAAMgHAADJBwAAygcAAMsHAADMBwAAzQcAAM4HAADPBwAA0AcAANEHAADSBwAA0wcAANQHAADVBwAA1gcAANcHAADYBwAA2QcAANoHAADbBwAA3AcAAN0HAADeBwAA3wcAAOAHAADhBwAA4gcAAOMHAADkBwAA5QcAAOYHAADnBwAA6AcAAOkHAAA=",
          "dtype": "i4"
         },
         "xaxis": "x",
         "y": {
          "bdata": "AAAAAAAAAAAAAAAAAAAAAAAAAAAAAAAAAAAAAAAAAAAAAAAAAAAAAAAAAAAAAAAAAAAAAAAAAAAAAAAAAAAAAAAAAAAAAAAAAAAAAAAAAAAAAAAAAAAAAOere6SVyWM/AAAAAAAAAABM2Rbj5dddPwAAAAAAAAAAF2DyFmDyZj/A0Ig6R5FWP2FRARwTFlU/ms/1x8tgVD9GE+CseUZTPwAAAAAAAAAAAAAAAAAAAABUCQE5P5VwP/c8bENliHA/VxCTK4jJZT90wG6PtQxNP3KlNZakmWQ/dvUns1gabD/CIdPdRtZqP0bsihf3JUs/QNOcATTNWT/x8haKBf5iP0TGn1+fCXA/x7nMqWe5bT8SGIERGIFhP9+PT9scYno/mpmZmZmZaT/U3wQHXCiBP3FH3BF3xG0/U7A9a/YiYD+72tIN12V2PymryNC/tGE/eMuhNmzRfj8V+OLqBx11Pw==",
          "dtype": "f8"
         },
         "yaxis": "y"
        },
        {
         "fillpattern": {
          "shape": ""
         },
         "hovertemplate": "<b>%{fullData.name}</b><br>Year: %{x}<br>Proportion: %{y:.2%}<extra></extra>",
         "legendgroup": "Venlafaxine vs SSRIs for Depression",
         "line": {
          "color": "#2de5e3"
         },
         "marker": {
          "symbol": "circle"
         },
         "mode": "lines",
         "name": "Venlafaxine vs SSRIs for Depression",
         "orientation": "v",
         "showlegend": true,
         "stackgroup": "1",
         "type": "scatter",
         "x": {
          "bdata": "vgcAAL8HAADABwAAwQcAAMIHAADDBwAAxAcAAMUHAADGBwAAxwcAAMgHAADJBwAAygcAAMsHAADMBwAAzQcAAM4HAADPBwAA0AcAANEHAADSBwAA0wcAANQHAADVBwAA1gcAANcHAADYBwAA2QcAANoHAADbBwAA3AcAAN0HAADeBwAA3wcAAOAHAADhBwAA4gcAAOMHAADkBwAA5QcAAOYHAADnBwAA6AcAAOkHAAA=",
          "dtype": "i4"
         },
         "xaxis": "x",
         "y": {
          "bdata": "AAAAAAAAAAAAAAAAAAAAAAAAAAAAAAAAAAAAAAAAAAAAAAAAAAAAAAAAAAAAAAAAAAAAAAAAAAAAAAAAAAAAAAAAAAAAAAAAAAAAAAAAAAAAAAAAAAAAAAAAAAAAAAAA8ZKAcCJeYj/QR+6t76aCP+6YEbJ9HIQ/HfiuHPiujD/wBCsJmTWMP0s8QeqxxJM/dP3xMhgFjD+BGrRN54CKP1cQkyuIyZU/ehyo1pB5jD/+jYHV3t+IP7Bq/TWx7ow/e6xl6IDdjj9m6IDdHmuJP42+SGXovZM/cHeQEWjVhj/6hY25DzF+P6zTtm6694A/cJ41AedZgz8ItD9p2miBP0fLUt8e3ow/EcPjC+A1jz+/RsFp8WuEP+u5EQlSfYA/ZmZmZmZmdj8O15GURtZ1PzZlTVlT1nQ/xJWnOfODZT9jfxgsHJlzPymryNC/tHE/qGCEcvs2eT8V+OLqBx1lPw==",
          "dtype": "f8"
         },
         "yaxis": "y"
        },
        {
         "fillpattern": {
          "shape": ""
         },
         "hovertemplate": "<b>%{fullData.name}</b><br>Year: %{x}<br>Proportion: %{y:.2%}<extra></extra>",
         "legendgroup": "Premature Ejaculation",
         "line": {
          "color": "#b28211"
         },
         "marker": {
          "symbol": "circle"
         },
         "mode": "lines",
         "name": "Premature Ejaculation",
         "orientation": "v",
         "showlegend": true,
         "stackgroup": "1",
         "type": "scatter",
         "x": {
          "bdata": "vgcAAL8HAADABwAAwQcAAMIHAADDBwAAxAcAAMUHAADGBwAAxwcAAMgHAADJBwAAygcAAMsHAADMBwAAzQcAAM4HAADPBwAA0AcAANEHAADSBwAA0wcAANQHAADVBwAA1gcAANcHAADYBwAA2QcAANoHAADbBwAA3AcAAN0HAADeBwAA3wcAAOAHAADhBwAA4gcAAOMHAADkBwAA5QcAAOYHAADnBwAA6AcAAOkHAAA=",
          "dtype": "i4"
         },
         "xaxis": "x",
         "y": {
          "bdata": "AAAAAAAAAAAAAAAAAAAAAAAAAAAAAAAAAAAAAAAAAAAAAAAAAAAAAAAAAAAAAAAAAAAAAAAAAAAAAAAAAAAAAAAAAAAAAAAAAAAAAAAAAAAAAAAAAAAAAAAAAAAAAAAA8ZKAcCJecj9M2Rbj5dddP+6YEbJ9HIQ/Ecg1Ecg1cT+otjdTHr+DPxL6AaocoX8/Z7fwqzGRbj9GE+CseUZzP2ml6xIW73Y/qh7wNU2qfj9UCQE5P5WAP/c8bENliJA/VxCTK4jJhT9BTK4gJleQP/oilaH3TpA/GfhdhsIThT/6hY25DzGOP0bsihf3JYs/cJ41AedZgz8ItD9p2miBP0fLUt8e3ow/VYtZvw1Lhj9xu2HGELeLP+u5EQlSfYA/mpmZmZmZeT9by01RfxN8P7OmrClryno/NnsRCPDkej9mCLB+NMyHP4s5tmuqm3c/cEBYTFLPgD8V+OLqBx1lPw==",
          "dtype": "f8"
         },
         "yaxis": "y"
        },
        {
         "fillpattern": {
          "shape": ""
         },
         "hovertemplate": "<b>%{fullData.name}</b><br>Year: %{x}<br>Proportion: %{y:.2%}<extra></extra>",
         "legendgroup": "Laboratory Techniques for drug analysis",
         "line": {
          "color": "#854bd8"
         },
         "marker": {
          "symbol": "circle"
         },
         "mode": "lines",
         "name": "Laboratory Techniques for drug analysis",
         "orientation": "v",
         "showlegend": true,
         "stackgroup": "1",
         "type": "scatter",
         "x": {
          "bdata": "vgcAAL8HAADABwAAwQcAAMIHAADDBwAAxAcAAMUHAADGBwAAxwcAAMgHAADJBwAAygcAAMsHAADMBwAAzQcAAM4HAADPBwAA0AcAANEHAADSBwAA0wcAANQHAADVBwAA1gcAANcHAADYBwAA2QcAANoHAADbBwAA3AcAAN0HAADeBwAA3wcAAOAHAADhBwAA4gcAAOMHAADkBwAA5QcAAOYHAADnBwAA6AcAAOkHAAA=",
          "dtype": "i4"
         },
         "xaxis": "x",
         "y": {
          "bdata": "AAAAAAAAAAAAAAAAAAAAAAAAAAAAAAAAAAAAAAAAAAAAAAAAAAAAAAAAAAAAAAAAAAAAAAAAAAAAAAAAAAAAAAAAAAAAAAAAAAAAAAAAAAAAAAAAAAAAAAAAAAAAAAAA8ZKAcCJeYj8AAAAAAAAAAAAAAAAAAAAAAAAAAAAAAADA0Ig6R5FWPwAAAAAAAAAAAAAAAAAAAAAAAAAAAAAAAAAAAAAAAAAAAAAAAAAAAAAAAAAAAAAAAPc8bENliGA/dMBuj7UMbT9XEJMriMllP5jcnB2Gd2s/x/bCnA2XeD81J4G4UHOCP3CCL+AZqoI/pGtPQbr2hD9qbCJPCH2MPwYKZv/+qHk/x7nMqWe5fT9tdQHCylaHP+GWmg37u4g/mpmZmZmZgT8i1MDDlGWHPxj0BX1BX5A/NnsRCPDkij8SNo3vkTKJP1pyPx41qIQ/eMuhNmzRjj8V+OLqBx11Pw==",
          "dtype": "f8"
         },
         "yaxis": "y"
        },
        {
         "fillpattern": {
          "shape": ""
         },
         "hovertemplate": "<b>%{fullData.name}</b><br>Year: %{x}<br>Proportion: %{y:.2%}<extra></extra>",
         "legendgroup": "Serotonin Transporter Gene and Antidepressant Response",
         "line": {
          "color": "#2de543"
         },
         "marker": {
          "symbol": "circle"
         },
         "mode": "lines",
         "name": "Serotonin Transporter Gene and Antidepressant Response",
         "orientation": "v",
         "showlegend": true,
         "stackgroup": "1",
         "type": "scatter",
         "x": {
          "bdata": "vgcAAL8HAADABwAAwQcAAMIHAADDBwAAxAcAAMUHAADGBwAAxwcAAMgHAADJBwAAygcAAMsHAADMBwAAzQcAAM4HAADPBwAA0AcAANEHAADSBwAA0wcAANQHAADVBwAA1gcAANcHAADYBwAA2QcAANoHAADbBwAA3AcAAN0HAADeBwAA3wcAAOAHAADhBwAA4gcAAOMHAADkBwAA5QcAAOYHAADnBwAA6AcAAOkHAAA=",
          "dtype": "i4"
         },
         "xaxis": "x",
         "y": {
          "bdata": "AAAAAAAAAAAAAAAAAAAAAAAAAAAAAAAAAAAAAAAAAAAAAAAAAAAAAAAAAAAAAAAAAAAAAAAAAAAAAAAAAAAAAAAAAAAAAAAAAAAAAAAAAAAAAAAAAAAAAAAAAAAAAAAAAAAAAAAAAABM2Rbj5dddP5N2F5in0Fo/AAAAAAAAAACQnOZr9eyAP7mlAeOXW3o/rbh3kqWOkD9GE+CseUaDP2ml6xIW74Y/bhCcyoRtkD/pGZEsk56RP9TTtDyLu4Y/UCSc0rz4kz9Umhd/IuGUPztzD/gcUZY/wXgr+xxSoz8njpKBnpyhPzUxqFF5XJQ/PlJc4SPFlT85EDFc8fKWP9W3hzcHDJQ/0uoIaGgXkT/I0oFyfSyNP+Od5T/ZFYc/ZmZmZmZmkj/o3DM2qreCPzZlTVlT1oQ/NnsRCPDkij9pkUfRTP97P1pyPx41qHQ/qGCEcvs2eT8V+OLqBx1lPw==",
          "dtype": "f8"
         },
         "yaxis": "y"
        },
        {
         "fillpattern": {
          "shape": ""
         },
         "hovertemplate": "<b>%{fullData.name}</b><br>Year: %{x}<br>Proportion: %{y:.2%}<extra></extra>",
         "legendgroup": "Fracture Risk",
         "line": {
          "color": "#b2112e"
         },
         "marker": {
          "symbol": "circle"
         },
         "mode": "lines",
         "name": "Fracture Risk",
         "orientation": "v",
         "showlegend": true,
         "stackgroup": "1",
         "type": "scatter",
         "x": {
          "bdata": "vgcAAL8HAADABwAAwQcAAMIHAADDBwAAxAcAAMUHAADGBwAAxwcAAMgHAADJBwAAygcAAMsHAADMBwAAzQcAAM4HAADPBwAA0AcAANEHAADSBwAA0wcAANQHAADVBwAA1gcAANcHAADYBwAA2QcAANoHAADbBwAA3AcAAN0HAADeBwAA3wcAAOAHAADhBwAA4gcAAOMHAADkBwAA5QcAAOYHAADnBwAA6AcAAOkHAAA=",
          "dtype": "i4"
         },
         "xaxis": "x",
         "y": {
          "bdata": "AAAAAAAAAAAAAAAAAAAAAAAAAAAAAAAAAAAAAAAAAAAAAAAAAAAAAAAAAAAAAAAAAAAAAAAAAAAAAAAAAAAAAAAAAAAAAAAAAAAAAAAAAAAAAAAAAAAAAAAAAAAAAAAAAAAAAAAAAABM2Rbj5dddP5N2F5in0Go/F2DyFmDyZj/A0Ig6R5F2PwAAAAAAAAAAAAAAAAAAAAAYGBgYGBh4P7H5TbBNhXs/SRpgd9RIaj/+jYHV3t9oP/c8bENliHA/VxCTK4jJZT9BTK4gJleAP5jcnB2Gd4s/avn4b3eQgT/CIdPdRtaKP6zTtm6694A/ouoOIarukD+BLUsu3eeKP+Qmlk8vpIE/d28UmaTVkT8f6qEe6qGOP+u5EQlSfZA/zczMzMzMmD9eXpweA/CRP3fEHXFH3JE/7m1Gb26VjT/iuswCkH+RP7+HWBjN3pY/FpPUMwQckD8V+OLqBx2VPw==",
          "dtype": "f8"
         },
         "yaxis": "y"
        },
        {
         "fillpattern": {
          "shape": ""
         },
         "hovertemplate": "<b>%{fullData.name}</b><br>Year: %{x}<br>Proportion: %{y:.2%}<extra></extra>",
         "legendgroup": "SSRIs for Menopausal Vasomotor Symptoms (Hot flashes)",
         "line": {
          "color": "#4b8dd8"
         },
         "marker": {
          "symbol": "circle"
         },
         "mode": "lines",
         "name": "SSRIs for Menopausal Vasomotor Symptoms (Hot flashes)",
         "orientation": "v",
         "showlegend": true,
         "stackgroup": "1",
         "type": "scatter",
         "x": {
          "bdata": "vgcAAL8HAADABwAAwQcAAMIHAADDBwAAxAcAAMUHAADGBwAAxwcAAMgHAADJBwAAygcAAMsHAADMBwAAzQcAAM4HAADPBwAA0AcAANEHAADSBwAA0wcAANQHAADVBwAA1gcAANcHAADYBwAA2QcAANoHAADbBwAA3AcAAN0HAADeBwAA3wcAAOAHAADhBwAA4gcAAOMHAADkBwAA5QcAAOYHAADnBwAA6AcAAOkHAAA=",
          "dtype": "i4"
         },
         "xaxis": "x",
         "y": {
          "bdata": "AAAAAAAAAAAAAAAAAAAAAAAAAAAAAAAAAAAAAAAAAAAAAAAAAAAAAAAAAAAAAAAAAAAAAAAAAAAAAAAAAAAAAAAAAAAAAAAAAAAAAAAAAAAAAAAAAAAAAAAAAAAAAAAAAAAAAAAAAAAAAAAAAAAAAJN2F5in0Fo/Ecg1Ecg1cT8AAAAAAAAAAGFRARwTFmU/Z7fwqzGRbj+vFXziSK+FPyFRiXXeWII/hhFA+uKFkT9+KiEg56eSP6OX65ARxJc/dMBuj7UMjT9m6IDdHmuJP6jXWzQs4oI/znRaPv7bjT8Z9aNK7MWQP4I9EqaXc4k/PNEbwRO9gT896tCQXqd/P+Qmlk8vpIE/EcPjC+A1jz8apEEapEGKP+ere6SVyXM/ZmZmZmZmhj/72WJl+EaEP/QFfUFf0Hc/NnsRCPDkej9jfxgsHJmDP4s5tmuqm3c/EBaT1DMEfD8V+OLqBx11Pw==",
          "dtype": "f8"
         },
         "yaxis": "y"
        },
        {
         "fillpattern": {
          "shape": ""
         },
         "hovertemplate": "<b>%{fullData.name}</b><br>Year: %{x}<br>Proportion: %{y:.2%}<extra></extra>",
         "legendgroup": "Environmental Degradation of Antidepressants",
         "line": {
          "color": "#b9e52d"
         },
         "marker": {
          "symbol": "circle"
         },
         "mode": "lines",
         "name": "Environmental Degradation of Antidepressants",
         "orientation": "v",
         "showlegend": true,
         "stackgroup": "1",
         "type": "scatter",
         "x": {
          "bdata": "vgcAAL8HAADABwAAwQcAAMIHAADDBwAAxAcAAMUHAADGBwAAxwcAAMgHAADJBwAAygcAAMsHAADMBwAAzQcAAM4HAADPBwAA0AcAANEHAADSBwAA0wcAANQHAADVBwAA1gcAANcHAADYBwAA2QcAANoHAADbBwAA3AcAAN0HAADeBwAA3wcAAOAHAADhBwAA4gcAAOMHAADkBwAA5QcAAOYHAADnBwAA6AcAAOkHAAA=",
          "dtype": "i4"
         },
         "xaxis": "x",
         "y": {
          "bdata": "AAAAAAAAAAAAAAAAAAAAAAAAAAAAAAAAAAAAAAAAAAAAAAAAAAAAAAAAAAAAAAAAAAAAAAAAAAAAAAAAAAAAAAAAAAAAAAAAAAAAAAAAAAAAAAAAAAAAAAAAAAAAAAAAAAAAAAAAAAAAAAAAAAAAAJN2F5in0Fo/F2DyFmDyZj/A0Ig6R5FWPwAAAAAAAAAAAAAAAAAAAABGE+CseUZTPyFRiXXeWFI/AAAAAAAAAABUCQE5P5VQP/c8bENliHA/dMBuj7UMXT90wG6PtQxNP5jcnB2Gd0s/dvUns1gaTD/CIdPdRtZaP0bsihf3JWs/cJ41AedZcz/x8haKBf5yP4WHjD+/PmM/x7nMqWe5fT8SGIERGIFxP+ere6SVyYM/zczMzMzMhD9LYW3vtGCQPxj0BX1BX5A/XmalOFUnkj82je+RMhmQP7+HWBjN3pY/9AV9QV/Qlz+RadhuliehPw==",
          "dtype": "f8"
         },
         "yaxis": "y"
        },
        {
         "fillpattern": {
          "shape": ""
         },
         "hovertemplate": "<b>%{fullData.name}</b><br>Year: %{x}<br>Proportion: %{y:.2%}<extra></extra>",
         "legendgroup": "Antidepressant-like Effects of Herbal Extracts in Animal Models",
         "line": {
          "color": "#aa11b2"
         },
         "marker": {
          "symbol": "circle"
         },
         "mode": "lines",
         "name": "Antidepressant-like Effects of Herbal Extracts in Animal Models",
         "orientation": "v",
         "showlegend": true,
         "stackgroup": "1",
         "type": "scatter",
         "x": {
          "bdata": "vgcAAL8HAADABwAAwQcAAMIHAADDBwAAxAcAAMUHAADGBwAAxwcAAMgHAADJBwAAygcAAMsHAADMBwAAzQcAAM4HAADPBwAA0AcAANEHAADSBwAA0wcAANQHAADVBwAA1gcAANcHAADYBwAA2QcAANoHAADbBwAA3AcAAN0HAADeBwAA3wcAAOAHAADhBwAA4gcAAOMHAADkBwAA5QcAAOYHAADnBwAA6AcAAOkHAAA=",
          "dtype": "i4"
         },
         "xaxis": "x",
         "y": {
          "bdata": "AAAAAAAAAAAAAAAAAAAAAAAAAAAAAAAAAAAAAAAAAAAAAAAAAAAAAAAAAAAAAAAAAAAAAAAAAAAAAAAAAAAAAAAAAAAAAAAAAAAAAAAAAAAAAAAAAAAAAAAAAAAAAAAAAAAAAAAAAAAAAAAAAAAAAAAAAAAAAAAAAAAAAAAAAADA0Ig6R5FWPwAAAAAAAAAAms/1x8tgZD9GE+CseUZTPyFRiXXeWHI/hhFA+uKFUT9UCQE5P5VgPzVMR5R+qoQ/QUyuICZXgD9XEJMriMmFPwVB6VmVCIg/GfhdhsIThT+l7/Vv4iiJP4I9EqaXc4k/CoVCoVAolD+X7nMNslKJP8VIeR/fc5Y/VYtZvw1Lhj8UO7ETO7GTP9uBuXZgro0/mpmZmZmZiT/U3wQHXCiRPwZ9QV/QF5Q/kvSrOy89jD88nx43Y3+YP/VcJiSdcZI/EBaT1DMEjD8dFfji6gedPw==",
          "dtype": "f8"
         },
         "yaxis": "y"
        },
        {
         "fillpattern": {
          "shape": ""
         },
         "hovertemplate": "<b>%{fullData.name}</b><br>Year: %{x}<br>Proportion: %{y:.2%}<extra></extra>",
         "legendgroup": "SSRIs Effect on Brain-derived Neurotrophic Factor (BDNF) Levels in Depressive Patients",
         "line": {
          "color": "#4bd8a8"
         },
         "marker": {
          "symbol": "circle"
         },
         "mode": "lines",
         "name": "SSRIs Effect on Brain-derived Neurotrophic Factor (BDNF) Levels in Depressive Patients",
         "orientation": "v",
         "showlegend": true,
         "stackgroup": "1",
         "type": "scatter",
         "x": {
          "bdata": "vgcAAL8HAADABwAAwQcAAMIHAADDBwAAxAcAAMUHAADGBwAAxwcAAMgHAADJBwAAygcAAMsHAADMBwAAzQcAAM4HAADPBwAA0AcAANEHAADSBwAA0wcAANQHAADVBwAA1gcAANcHAADYBwAA2QcAANoHAADbBwAA3AcAAN0HAADeBwAA3wcAAOAHAADhBwAA4gcAAOMHAADkBwAA5QcAAOYHAADnBwAA6AcAAOkHAAA=",
          "dtype": "i4"
         },
         "xaxis": "x",
         "y": {
          "bdata": "AAAAAAAAAAAAAAAAAAAAAAAAAAAAAAAAAAAAAAAAAAAAAAAAAAAAAAAAAAAAAAAAAAAAAAAAAAAAAAAAAAAAAAAAAAAAAAAAAAAAAAAAAAAAAAAAAAAAAAAAAAAAAAAAAAAAAAAAAAAAAAAAAAAAAAAAAAAAAAAAAAAAAAAAAAAAAAAAAAAAAAAAAAAAAAAAAAAAAAAAAAAAAAAAAAAAACFRiXXeWGI/hhFA+uKFUT9UCQE5P5VgP/c8bENliFA/VxCTK4jJZT90wG6PtQxdP5jcnB2Gd1s/dvUns1gabD8Z9aNK7MVwPzUxqFF5XHQ/QNOcATTNWT896tCQXqd/P0TGn1+fCXA/n5RwIYbHZz/I0oFyfSx9P9+PT9scYno/mpmZmZmZeT810e/y4vRoP3fEHXFH3HE/DKNy0nTTgj9pkUfRTP9rP+7HowaVgm0/EBaT1DMEbD8gdFTgi6t/Pw==",
          "dtype": "f8"
         },
         "yaxis": "y"
        }
       ],
       "layout": {
        "height": 800,
        "hovermode": "closest",
        "legend": {
         "bgcolor": "rgba(255, 255, 255, 0.8)",
         "bordercolor": "rgba(0, 0, 0, 0.2)",
         "borderwidth": 1,
         "font": {
          "size": 12
         },
         "orientation": "v",
         "title": {
          "font": {
           "size": 14
          },
          "text": "Cluster"
         },
         "tracegroupgap": 0,
         "traceorder": "reversed",
         "x": 1.02,
         "xanchor": "left",
         "y": 1,
         "yanchor": "top"
        },
        "margin": {
         "r": 200
        },
        "plot_bgcolor": "white",
        "template": {
         "data": {
          "bar": [
           {
            "error_x": {
             "color": "#2a3f5f"
            },
            "error_y": {
             "color": "#2a3f5f"
            },
            "marker": {
             "line": {
              "color": "#E5ECF6",
              "width": 0.5
             },
             "pattern": {
              "fillmode": "overlay",
              "size": 10,
              "solidity": 0.2
             }
            },
            "type": "bar"
           }
          ],
          "barpolar": [
           {
            "marker": {
             "line": {
              "color": "#E5ECF6",
              "width": 0.5
             },
             "pattern": {
              "fillmode": "overlay",
              "size": 10,
              "solidity": 0.2
             }
            },
            "type": "barpolar"
           }
          ],
          "carpet": [
           {
            "aaxis": {
             "endlinecolor": "#2a3f5f",
             "gridcolor": "white",
             "linecolor": "white",
             "minorgridcolor": "white",
             "startlinecolor": "#2a3f5f"
            },
            "baxis": {
             "endlinecolor": "#2a3f5f",
             "gridcolor": "white",
             "linecolor": "white",
             "minorgridcolor": "white",
             "startlinecolor": "#2a3f5f"
            },
            "type": "carpet"
           }
          ],
          "choropleth": [
           {
            "colorbar": {
             "outlinewidth": 0,
             "ticks": ""
            },
            "type": "choropleth"
           }
          ],
          "contour": [
           {
            "colorbar": {
             "outlinewidth": 0,
             "ticks": ""
            },
            "colorscale": [
             [
              0,
              "#0d0887"
             ],
             [
              0.1111111111111111,
              "#46039f"
             ],
             [
              0.2222222222222222,
              "#7201a8"
             ],
             [
              0.3333333333333333,
              "#9c179e"
             ],
             [
              0.4444444444444444,
              "#bd3786"
             ],
             [
              0.5555555555555556,
              "#d8576b"
             ],
             [
              0.6666666666666666,
              "#ed7953"
             ],
             [
              0.7777777777777778,
              "#fb9f3a"
             ],
             [
              0.8888888888888888,
              "#fdca26"
             ],
             [
              1,
              "#f0f921"
             ]
            ],
            "type": "contour"
           }
          ],
          "contourcarpet": [
           {
            "colorbar": {
             "outlinewidth": 0,
             "ticks": ""
            },
            "type": "contourcarpet"
           }
          ],
          "heatmap": [
           {
            "colorbar": {
             "outlinewidth": 0,
             "ticks": ""
            },
            "colorscale": [
             [
              0,
              "#0d0887"
             ],
             [
              0.1111111111111111,
              "#46039f"
             ],
             [
              0.2222222222222222,
              "#7201a8"
             ],
             [
              0.3333333333333333,
              "#9c179e"
             ],
             [
              0.4444444444444444,
              "#bd3786"
             ],
             [
              0.5555555555555556,
              "#d8576b"
             ],
             [
              0.6666666666666666,
              "#ed7953"
             ],
             [
              0.7777777777777778,
              "#fb9f3a"
             ],
             [
              0.8888888888888888,
              "#fdca26"
             ],
             [
              1,
              "#f0f921"
             ]
            ],
            "type": "heatmap"
           }
          ],
          "histogram": [
           {
            "marker": {
             "pattern": {
              "fillmode": "overlay",
              "size": 10,
              "solidity": 0.2
             }
            },
            "type": "histogram"
           }
          ],
          "histogram2d": [
           {
            "colorbar": {
             "outlinewidth": 0,
             "ticks": ""
            },
            "colorscale": [
             [
              0,
              "#0d0887"
             ],
             [
              0.1111111111111111,
              "#46039f"
             ],
             [
              0.2222222222222222,
              "#7201a8"
             ],
             [
              0.3333333333333333,
              "#9c179e"
             ],
             [
              0.4444444444444444,
              "#bd3786"
             ],
             [
              0.5555555555555556,
              "#d8576b"
             ],
             [
              0.6666666666666666,
              "#ed7953"
             ],
             [
              0.7777777777777778,
              "#fb9f3a"
             ],
             [
              0.8888888888888888,
              "#fdca26"
             ],
             [
              1,
              "#f0f921"
             ]
            ],
            "type": "histogram2d"
           }
          ],
          "histogram2dcontour": [
           {
            "colorbar": {
             "outlinewidth": 0,
             "ticks": ""
            },
            "colorscale": [
             [
              0,
              "#0d0887"
             ],
             [
              0.1111111111111111,
              "#46039f"
             ],
             [
              0.2222222222222222,
              "#7201a8"
             ],
             [
              0.3333333333333333,
              "#9c179e"
             ],
             [
              0.4444444444444444,
              "#bd3786"
             ],
             [
              0.5555555555555556,
              "#d8576b"
             ],
             [
              0.6666666666666666,
              "#ed7953"
             ],
             [
              0.7777777777777778,
              "#fb9f3a"
             ],
             [
              0.8888888888888888,
              "#fdca26"
             ],
             [
              1,
              "#f0f921"
             ]
            ],
            "type": "histogram2dcontour"
           }
          ],
          "mesh3d": [
           {
            "colorbar": {
             "outlinewidth": 0,
             "ticks": ""
            },
            "type": "mesh3d"
           }
          ],
          "parcoords": [
           {
            "line": {
             "colorbar": {
              "outlinewidth": 0,
              "ticks": ""
             }
            },
            "type": "parcoords"
           }
          ],
          "pie": [
           {
            "automargin": true,
            "type": "pie"
           }
          ],
          "scatter": [
           {
            "fillpattern": {
             "fillmode": "overlay",
             "size": 10,
             "solidity": 0.2
            },
            "type": "scatter"
           }
          ],
          "scatter3d": [
           {
            "line": {
             "colorbar": {
              "outlinewidth": 0,
              "ticks": ""
             }
            },
            "marker": {
             "colorbar": {
              "outlinewidth": 0,
              "ticks": ""
             }
            },
            "type": "scatter3d"
           }
          ],
          "scattercarpet": [
           {
            "marker": {
             "colorbar": {
              "outlinewidth": 0,
              "ticks": ""
             }
            },
            "type": "scattercarpet"
           }
          ],
          "scattergeo": [
           {
            "marker": {
             "colorbar": {
              "outlinewidth": 0,
              "ticks": ""
             }
            },
            "type": "scattergeo"
           }
          ],
          "scattergl": [
           {
            "marker": {
             "colorbar": {
              "outlinewidth": 0,
              "ticks": ""
             }
            },
            "type": "scattergl"
           }
          ],
          "scattermap": [
           {
            "marker": {
             "colorbar": {
              "outlinewidth": 0,
              "ticks": ""
             }
            },
            "type": "scattermap"
           }
          ],
          "scattermapbox": [
           {
            "marker": {
             "colorbar": {
              "outlinewidth": 0,
              "ticks": ""
             }
            },
            "type": "scattermapbox"
           }
          ],
          "scatterpolar": [
           {
            "marker": {
             "colorbar": {
              "outlinewidth": 0,
              "ticks": ""
             }
            },
            "type": "scatterpolar"
           }
          ],
          "scatterpolargl": [
           {
            "marker": {
             "colorbar": {
              "outlinewidth": 0,
              "ticks": ""
             }
            },
            "type": "scatterpolargl"
           }
          ],
          "scatterternary": [
           {
            "marker": {
             "colorbar": {
              "outlinewidth": 0,
              "ticks": ""
             }
            },
            "type": "scatterternary"
           }
          ],
          "surface": [
           {
            "colorbar": {
             "outlinewidth": 0,
             "ticks": ""
            },
            "colorscale": [
             [
              0,
              "#0d0887"
             ],
             [
              0.1111111111111111,
              "#46039f"
             ],
             [
              0.2222222222222222,
              "#7201a8"
             ],
             [
              0.3333333333333333,
              "#9c179e"
             ],
             [
              0.4444444444444444,
              "#bd3786"
             ],
             [
              0.5555555555555556,
              "#d8576b"
             ],
             [
              0.6666666666666666,
              "#ed7953"
             ],
             [
              0.7777777777777778,
              "#fb9f3a"
             ],
             [
              0.8888888888888888,
              "#fdca26"
             ],
             [
              1,
              "#f0f921"
             ]
            ],
            "type": "surface"
           }
          ],
          "table": [
           {
            "cells": {
             "fill": {
              "color": "#EBF0F8"
             },
             "line": {
              "color": "white"
             }
            },
            "header": {
             "fill": {
              "color": "#C8D4E3"
             },
             "line": {
              "color": "white"
             }
            },
            "type": "table"
           }
          ]
         },
         "layout": {
          "annotationdefaults": {
           "arrowcolor": "#2a3f5f",
           "arrowhead": 0,
           "arrowwidth": 1
          },
          "autotypenumbers": "strict",
          "coloraxis": {
           "colorbar": {
            "outlinewidth": 0,
            "ticks": ""
           }
          },
          "colorscale": {
           "diverging": [
            [
             0,
             "#8e0152"
            ],
            [
             0.1,
             "#c51b7d"
            ],
            [
             0.2,
             "#de77ae"
            ],
            [
             0.3,
             "#f1b6da"
            ],
            [
             0.4,
             "#fde0ef"
            ],
            [
             0.5,
             "#f7f7f7"
            ],
            [
             0.6,
             "#e6f5d0"
            ],
            [
             0.7,
             "#b8e186"
            ],
            [
             0.8,
             "#7fbc41"
            ],
            [
             0.9,
             "#4d9221"
            ],
            [
             1,
             "#276419"
            ]
           ],
           "sequential": [
            [
             0,
             "#0d0887"
            ],
            [
             0.1111111111111111,
             "#46039f"
            ],
            [
             0.2222222222222222,
             "#7201a8"
            ],
            [
             0.3333333333333333,
             "#9c179e"
            ],
            [
             0.4444444444444444,
             "#bd3786"
            ],
            [
             0.5555555555555556,
             "#d8576b"
            ],
            [
             0.6666666666666666,
             "#ed7953"
            ],
            [
             0.7777777777777778,
             "#fb9f3a"
            ],
            [
             0.8888888888888888,
             "#fdca26"
            ],
            [
             1,
             "#f0f921"
            ]
           ],
           "sequentialminus": [
            [
             0,
             "#0d0887"
            ],
            [
             0.1111111111111111,
             "#46039f"
            ],
            [
             0.2222222222222222,
             "#7201a8"
            ],
            [
             0.3333333333333333,
             "#9c179e"
            ],
            [
             0.4444444444444444,
             "#bd3786"
            ],
            [
             0.5555555555555556,
             "#d8576b"
            ],
            [
             0.6666666666666666,
             "#ed7953"
            ],
            [
             0.7777777777777778,
             "#fb9f3a"
            ],
            [
             0.8888888888888888,
             "#fdca26"
            ],
            [
             1,
             "#f0f921"
            ]
           ]
          },
          "colorway": [
           "#636efa",
           "#EF553B",
           "#00cc96",
           "#ab63fa",
           "#FFA15A",
           "#19d3f3",
           "#FF6692",
           "#B6E880",
           "#FF97FF",
           "#FECB52"
          ],
          "font": {
           "color": "#2a3f5f"
          },
          "geo": {
           "bgcolor": "white",
           "lakecolor": "white",
           "landcolor": "#E5ECF6",
           "showlakes": true,
           "showland": true,
           "subunitcolor": "white"
          },
          "hoverlabel": {
           "align": "left"
          },
          "hovermode": "closest",
          "mapbox": {
           "style": "light"
          },
          "paper_bgcolor": "white",
          "plot_bgcolor": "#E5ECF6",
          "polar": {
           "angularaxis": {
            "gridcolor": "white",
            "linecolor": "white",
            "ticks": ""
           },
           "bgcolor": "#E5ECF6",
           "radialaxis": {
            "gridcolor": "white",
            "linecolor": "white",
            "ticks": ""
           }
          },
          "scene": {
           "xaxis": {
            "backgroundcolor": "#E5ECF6",
            "gridcolor": "white",
            "gridwidth": 2,
            "linecolor": "white",
            "showbackground": true,
            "ticks": "",
            "zerolinecolor": "white"
           },
           "yaxis": {
            "backgroundcolor": "#E5ECF6",
            "gridcolor": "white",
            "gridwidth": 2,
            "linecolor": "white",
            "showbackground": true,
            "ticks": "",
            "zerolinecolor": "white"
           },
           "zaxis": {
            "backgroundcolor": "#E5ECF6",
            "gridcolor": "white",
            "gridwidth": 2,
            "linecolor": "white",
            "showbackground": true,
            "ticks": "",
            "zerolinecolor": "white"
           }
          },
          "shapedefaults": {
           "line": {
            "color": "#2a3f5f"
           }
          },
          "ternary": {
           "aaxis": {
            "gridcolor": "white",
            "linecolor": "white",
            "ticks": ""
           },
           "baxis": {
            "gridcolor": "white",
            "linecolor": "white",
            "ticks": ""
           },
           "bgcolor": "#E5ECF6",
           "caxis": {
            "gridcolor": "white",
            "linecolor": "white",
            "ticks": ""
           }
          },
          "title": {
           "x": 0.05
          },
          "xaxis": {
           "automargin": true,
           "gridcolor": "white",
           "linecolor": "white",
           "ticks": "",
           "title": {
            "standoff": 15
           },
           "zerolinecolor": "white",
           "zerolinewidth": 2
          },
          "yaxis": {
           "automargin": true,
           "gridcolor": "white",
           "linecolor": "white",
           "ticks": "",
           "title": {
            "standoff": 15
           },
           "zerolinecolor": "white",
           "zerolinewidth": 2
          }
         }
        },
        "title": {
         "font": {
          "size": 18
         },
         "text": "Distribution of Research Topics Over Time"
        },
        "updatemenus": [
         {
          "buttons": [
           {
            "args": [
             {
              "visible": "legendonly"
             }
            ],
            "label": "Deselect All",
            "method": "restyle"
           },
           {
            "args": [
             {
              "visible": true
             }
            ],
            "label": "Select All",
            "method": "restyle"
           }
          ],
          "direction": "left",
          "pad": {
           "r": 10,
           "t": 10
          },
          "showactive": false,
          "type": "buttons",
          "x": 1,
          "xanchor": "right",
          "y": 1.1,
          "yanchor": "top"
         }
        ],
        "width": 1500,
        "xaxis": {
         "anchor": "y",
         "domain": [
          0,
          1
         ],
         "title": {
          "font": {
           "size": 14
          },
          "text": "Year"
         }
        },
        "yaxis": {
         "anchor": "x",
         "domain": [
          0,
          1
         ],
         "tickformat": ".1*100",
         "title": {
          "font": {
           "size": 14
          },
          "text": "Proportion of Total Papers"
         }
        }
       }
      }
     },
     "metadata": {},
     "output_type": "display_data"
    }
   ],
   "source": [
    "fig_total"
   ]
  },
  {
   "cell_type": "markdown",
   "metadata": {
    "cellUniqueIdByVincent": "29d08"
   },
   "source": [
    "# Plot Geriatrics\n"
   ]
  },
  {
   "cell_type": "code",
   "execution_count": 14,
   "metadata": {
    "cellUniqueIdByVincent": "aed71"
   },
   "outputs": [
    {
     "data": {
      "application/vnd.plotly.v1+json": {
       "config": {
        "plotlyServerURL": "https://plot.ly"
       },
       "data": [
        {
         "fillpattern": {
          "shape": ""
         },
         "hovertemplate": "<b>%{fullData.name}</b><br>Year: %{x}<br>Proportion: %{y:.2%}<extra></extra>",
         "legendgroup": "SSRIs for Depression with Cognitive Impairment",
         "line": {
          "color": "#636EFA"
         },
         "marker": {
          "symbol": "circle"
         },
         "mode": "lines",
         "name": "SSRIs for Depression with Cognitive Impairment",
         "orientation": "v",
         "showlegend": true,
         "stackgroup": "1",
         "type": "scatter",
         "x": {
          "bdata": "vgcAAL8HAADABwAAwQcAAMIHAADDBwAAxAcAAMUHAADGBwAAxwcAAMgHAADJBwAAygcAAMsHAADMBwAAzQcAAM4HAADPBwAA0AcAANEHAADSBwAA0wcAANQHAADVBwAA1gcAANcHAADYBwAA2QcAANoHAADbBwAA3AcAAN0HAADeBwAA3wcAAOAHAADhBwAA4gcAAOMHAADkBwAA5QcAAOYHAADnBwAA6AcAAOkHAAA=",
          "dtype": "i4"
         },
         "xaxis": "x",
         "y": {
          "bdata": "HMdxHMdxrD8cTJHPusG0P3CBC1zgAqc/Ecg1Ecg1oT8RDuEQDuGgP9jq2SFwY5k/GIZhGIZhqD+SsaiG2cGRPxX44uoHHXU/tQojRPYlbz8LWchCFrKAP+ere6SVyXM/rbegDKv1hj872rxPccmQP8CHFKWSdoc/HfiuHPiufD/A0Ig6R5F2PxL6AaocoW8/Z7fwqzGRfj8YGBgYGBh4P9Yj/35p0I0/SRpgd9RIij9T0MGjLgV9P9TTtDyLu4Y/VxCTK4jJhT9QJJzSvPiDP3KlNZakmXQ/JfSMyaOdfz/6hY25DzF+P89JfPq1in4/2DhpgY2Thj+X7nMNslJ5P8VIeR/fc4Y/EcPjC+A1jz8SGIERGIFxP+u5EQlSfYA/mpmZmZmZgT/o3DM2qreCP3FH3BF3xG0/fYjcoHE0eD9jfxgsHJlzP4s5tmuqm2c/eMuhNmzRfj8V+OLqBx11Pw==",
          "dtype": "f8"
         },
         "yaxis": "y"
        },
        {
         "fillpattern": {
          "shape": ""
         },
         "hovertemplate": "<b>%{fullData.name}</b><br>Year: %{x}<br>Proportion: %{y:.2%}<extra></extra>",
         "legendgroup": "SSRIs for Geriatric Depression",
         "line": {
          "color": "#EF553B"
         },
         "marker": {
          "symbol": "circle"
         },
         "mode": "lines",
         "name": "SSRIs for Geriatric Depression",
         "orientation": "v",
         "showlegend": true,
         "stackgroup": "1",
         "type": "scatter",
         "x": {
          "bdata": "vgcAAL8HAADABwAAwQcAAMIHAADDBwAAxAcAAMUHAADGBwAAxwcAAMgHAADJBwAAygcAAMsHAADMBwAAzQcAAM4HAADPBwAA0AcAANEHAADSBwAA0wcAANQHAADVBwAA1gcAANcHAADYBwAA2QcAANoHAADbBwAA3AcAAN0HAADeBwAA3wcAAOAHAADhBwAA4gcAAOMHAADkBwAA5QcAAOYHAADnBwAA6AcAAOkHAAA=",
          "dtype": "i4"
         },
         "xaxis": "x",
         "y": {
          "bdata": "AAAAAAAAAADQusEU+ayLPwAAAAAAAAAAAAAAAAAAAAAAAAAAAAAAAAAAAAAAAAAAAAAAAAAAAAAAAAAAAAAAAAAAAAAAAAAAAAAAAAAAAABkIQtZyEKGP+GWmg37u5g/atzAqDONez872rxPccmQPxyqDr9owpA/E+6kEu6kkj/wBCsJmTWMP7mlAeOXW4o/pxX3TrLUgT+BGrRN54CKP43PnOExOok/5xXQuFvndT9UCQE5P5WAP/c8bENliIA/QUyuICZXgD9JOKV58SdyPwVB6VmVCHg/dvUns1gafD9RWV4mtSBkP6zTtm6694A/QNOcATTNeT/x8haKBf5iP0TGn1+fCXA/d28UmaTVYT9tdQHCylZXP9+PT9scYlo/MzMzMzMzYz810e/y4vRoP3fEHXFH3GE/xJWnOfODVT9pkUfRTP9rPymryNC/tGE/cEBYTFLPcD8V+OLqBx11Pw==",
          "dtype": "f8"
         },
         "yaxis": "y"
        },
        {
         "fillpattern": {
          "shape": ""
         },
         "hovertemplate": "<b>%{fullData.name}</b><br>Year: %{x}<br>Proportion: %{y:.2%}<extra></extra>",
         "legendgroup": "SSRIs in Dementias",
         "line": {
          "color": "#00CC96"
         },
         "marker": {
          "symbol": "circle"
         },
         "mode": "lines",
         "name": "SSRIs in Dementias",
         "orientation": "v",
         "showlegend": true,
         "stackgroup": "1",
         "type": "scatter",
         "x": {
          "bdata": "vgcAAL8HAADABwAAwQcAAMIHAADDBwAAxAcAAMUHAADGBwAAxwcAAMgHAADJBwAAygcAAMsHAADMBwAAzQcAAM4HAADPBwAA0AcAANEHAADSBwAA0wcAANQHAADVBwAA1gcAANcHAADYBwAA2QcAANoHAADbBwAA3AcAAN0HAADeBwAA3wcAAOAHAADhBwAA4gcAAOMHAADkBwAA5QcAAOYHAADnBwAA6AcAAOkHAAA=",
          "dtype": "i4"
         },
         "xaxis": "x",
         "y": {
          "bdata": "AAAAAAAAAAAAAAAAAAAAAAAAAAAAAAAAEcg1Ecg1gT8AAAAAAAAAAAAAAAAAAAAAOQUvp+DllD8AAAAAAAAAABX44uoHHYU/tQojRPYlfz9kIQtZyEKGPwAAAAAAAAAAatzAqDONez/5IlFq7GF2PxyqDr9owoA/Ecg1Ecg1kT+QnOZr9eyAPxL6AaocoX8/ms/1x8tghD/eEER3qt2AP0V7OkT6o4Q/5xXQuFvnhT+pS0EHj7qEPzVMR5R+qoQ/XvyJhFOahz90wG6PtQx9P98JgtKzKnE/avn4b3eQcT8Z9aNK7MWQP6zTtm6695A/dKC2QQdqiz8ItD9p2miBP2apbw9vDog/C4JCXZXOhD/BafFrFJyWP2gvob2E9pI/mpmZmZmZkT/o3DM2qreSP3FH3BF3xI0/Au0KBRbPkD9pkUfRTP+LP+7HowaVgo0/cEBYTFLPkD8SmYbtZnmSPw==",
          "dtype": "f8"
         },
         "yaxis": "y"
        },
        {
         "fillpattern": {
          "shape": ""
         },
         "hovertemplate": "<b>%{fullData.name}</b><br>Year: %{x}<br>Proportion: %{y:.2%}<extra></extra>",
         "legendgroup": "Post-Stroke SSRI Use",
         "line": {
          "color": "#AB63FA"
         },
         "marker": {
          "symbol": "circle"
         },
         "mode": "lines",
         "name": "Post-Stroke SSRI Use",
         "orientation": "v",
         "showlegend": true,
         "stackgroup": "1",
         "type": "scatter",
         "x": {
          "bdata": "vgcAAL8HAADABwAAwQcAAMIHAADDBwAAxAcAAMUHAADGBwAAxwcAAMgHAADJBwAAygcAAMsHAADMBwAAzQcAAM4HAADPBwAA0AcAANEHAADSBwAA0wcAANQHAADVBwAA1gcAANcHAADYBwAA2QcAANoHAADbBwAA3AcAAN0HAADeBwAA3wcAAOAHAADhBwAA4gcAAOMHAADkBwAA5QcAAOYHAADnBwAA6AcAAOkHAAA=",
          "dtype": "i4"
         },
         "xaxis": "x",
         "y": {
          "bdata": "AAAAAAAAAAAAAAAAAAAAAAAAAAAAAAAAAAAAAAAAAAAXaIEWaIGGPwAAAAAAAAAAAAAAAAAAAAAAAAAAAAAAAAAAAAAAAAAAtQojRPYlbz9kIQtZyEJmPwAAAAAAAAAA8ZKAcCJecj9M2Rbj5dd9P+6YEbJ9HHQ/Ecg1Ecg1cT+QnOZr9exwPxL6AaocoW8/gUPzuf54eT/qHFCDtulsP43PnOExOok/5xXQuFvnhT+pS0EHj7p0PzVMR5R+qoQ/QUyuICZXgD9JOKV58SeCP6jXWzQs4oI/H3b1J7NYij9tizuUGc6FP6zTtm6695A/CAQCgUAggD9qbCJPCH2MP0fLUt8e3ow/Zv02LFkQlD+7AGFlqwuQP+ere6SVyZM/zczMzMzMoD+YVSms7Z2WP6Ev6Av6gp4/Au0KBRbPoD8PrfWcef+UP+7HowaVgo0/JJtffe41kj8atpvlSWSKPw==",
          "dtype": "f8"
         },
         "yaxis": "y"
        },
        {
         "fillpattern": {
          "shape": ""
         },
         "hovertemplate": "<b>%{fullData.name}</b><br>Year: %{x}<br>Proportion: %{y:.2%}<extra></extra>",
         "legendgroup": "SSRIs for Depression in Parkinsons Patients",
         "line": {
          "color": "#FFA15A"
         },
         "marker": {
          "symbol": "circle"
         },
         "mode": "lines",
         "name": "SSRIs for Depression in Parkinsons Patients",
         "orientation": "v",
         "showlegend": true,
         "stackgroup": "1",
         "type": "scatter",
         "x": {
          "bdata": "vgcAAL8HAADABwAAwQcAAMIHAADDBwAAxAcAAMUHAADGBwAAxwcAAMgHAADJBwAAygcAAMsHAADMBwAAzQcAAM4HAADPBwAA0AcAANEHAADSBwAA0wcAANQHAADVBwAA1gcAANcHAADYBwAA2QcAANoHAADbBwAA3AcAAN0HAADeBwAA3wcAAOAHAADhBwAA4gcAAOMHAADkBwAA5QcAAOYHAADnBwAA6AcAAOkHAAA=",
          "dtype": "i4"
         },
         "xaxis": "x",
         "y": {
          "bdata": "AAAAAAAAAAAAAAAAAAAAAAAAAAAAAAAAAAAAAAAAAAAXaIEWaIGWPwAAAAAAAAAAAAAAAAAAAAAAAAAAAAAAAAAAAAAAAAAAtQojRPYlfz9kIQtZyEJ2P+ere6SVyWM/8ZKAcCJecj9M2Rbj5dd9P5N2F5in0Ho/Ecg1Ecg1gT/A0Ig6R5GGPxL6AaocoX8/ms/1x8tghD9GE+CseUZzP2ml6xIW74Y/txOIWZ+2gz9UCQE5P5VwP3JbIuWXzIg/dMBuj7UMfT9JOKV58SeCPztzD/gcUYY/x/bCnA2XeD/6hY25DzF+P76OmTQ4wXc/QNOcATTNiT896tCQXqdvPyXogi9P2YQ/d28UmaTVgT+/RsFp8WuEP+u5EQlSfXA/AAAAAAAAgD+CxauvGzJ/P/QFfUFf0Ic/fYjcoHE0eD8PrfWcef+EP4s5tmuqm3c/eMuhNmzRfj8AAAAAAAAAAA==",
          "dtype": "f8"
         },
         "yaxis": "y"
        },
        {
         "fillpattern": {
          "shape": ""
         },
         "hovertemplate": "<b>%{fullData.name}</b><br>Year: %{x}<br>Proportion: %{y:.2%}<extra></extra>",
         "legendgroup": "SSRIs for Depression in Patients with Cardiovascular Disease",
         "line": {
          "color": "#19D3F3"
         },
         "marker": {
          "symbol": "circle"
         },
         "mode": "lines",
         "name": "SSRIs for Depression in Patients with Cardiovascular Disease",
         "orientation": "v",
         "showlegend": true,
         "stackgroup": "1",
         "type": "scatter",
         "x": {
          "bdata": "vgcAAL8HAADABwAAwQcAAMIHAADDBwAAxAcAAMUHAADGBwAAxwcAAMgHAADJBwAAygcAAMsHAADMBwAAzQcAAM4HAADPBwAA0AcAANEHAADSBwAA0wcAANQHAADVBwAA1gcAANcHAADYBwAA2QcAANoHAADbBwAA3AcAAN0HAADeBwAA3wcAAOAHAADhBwAA4gcAAOMHAADkBwAA5QcAAOYHAADnBwAA6AcAAOkHAAA=",
          "dtype": "i4"
         },
         "xaxis": "x",
         "y": {
          "bdata": "AAAAAAAAAAAAAAAAAAAAAAAAAAAAAAAAAAAAAAAAAAAAAAAAAAAAAAAAAAAAAAAA9waUiSvdez8AAAAAAAAAAAAAAAAAAAAAtQojRPYlbz9kIQtZyEJmPwAAAAAAAAAA8ZKAcCJegj8AAAAAAAAAAO6YEbJ9HHQ/Ecg1Ecg1cT/Y6tkhcGOJPzUngbhQc4I/rbh3kqWOkD8YGBgYGBiIP/0m2KbCDYA/zxQsif3OlD/+jYHV3t+IP9TTtDyLu4Y/UCSc0rz4gz9MriAmVxCTP/oilaH3TpA/HLcp1zq2lz/6hY25DzGOPwubA4lW2Iw/dKC2QQdqiz9qbCJPCH2MPwYKZv/+qIk/d28UmaTVkT9mDHG7YcaQP9l6bkSCVI8/zczMzMzMjD9eXpweA/CRP9AX9AV9QY8/fYjcoHE0iD8MJF5KYcyAPymryNC/tIE/cEBYTFLPgD8V+OLqBx1lPw==",
          "dtype": "f8"
         },
         "yaxis": "y"
        }
       ],
       "layout": {
        "height": 600,
        "hovermode": "closest",
        "legend": {
         "font": {
          "size": 12
         },
         "orientation": "v",
         "title": {
          "font": {
           "size": 14
          },
          "text": "Cluster"
         },
         "tracegroupgap": 0,
         "traceorder": "reversed",
         "x": 1.02,
         "xanchor": "left",
         "y": 1,
         "yanchor": "top"
        },
        "margin": {
         "r": 150
        },
        "plot_bgcolor": "white",
        "template": {
         "data": {
          "bar": [
           {
            "error_x": {
             "color": "#2a3f5f"
            },
            "error_y": {
             "color": "#2a3f5f"
            },
            "marker": {
             "line": {
              "color": "#E5ECF6",
              "width": 0.5
             },
             "pattern": {
              "fillmode": "overlay",
              "size": 10,
              "solidity": 0.2
             }
            },
            "type": "bar"
           }
          ],
          "barpolar": [
           {
            "marker": {
             "line": {
              "color": "#E5ECF6",
              "width": 0.5
             },
             "pattern": {
              "fillmode": "overlay",
              "size": 10,
              "solidity": 0.2
             }
            },
            "type": "barpolar"
           }
          ],
          "carpet": [
           {
            "aaxis": {
             "endlinecolor": "#2a3f5f",
             "gridcolor": "white",
             "linecolor": "white",
             "minorgridcolor": "white",
             "startlinecolor": "#2a3f5f"
            },
            "baxis": {
             "endlinecolor": "#2a3f5f",
             "gridcolor": "white",
             "linecolor": "white",
             "minorgridcolor": "white",
             "startlinecolor": "#2a3f5f"
            },
            "type": "carpet"
           }
          ],
          "choropleth": [
           {
            "colorbar": {
             "outlinewidth": 0,
             "ticks": ""
            },
            "type": "choropleth"
           }
          ],
          "contour": [
           {
            "colorbar": {
             "outlinewidth": 0,
             "ticks": ""
            },
            "colorscale": [
             [
              0,
              "#0d0887"
             ],
             [
              0.1111111111111111,
              "#46039f"
             ],
             [
              0.2222222222222222,
              "#7201a8"
             ],
             [
              0.3333333333333333,
              "#9c179e"
             ],
             [
              0.4444444444444444,
              "#bd3786"
             ],
             [
              0.5555555555555556,
              "#d8576b"
             ],
             [
              0.6666666666666666,
              "#ed7953"
             ],
             [
              0.7777777777777778,
              "#fb9f3a"
             ],
             [
              0.8888888888888888,
              "#fdca26"
             ],
             [
              1,
              "#f0f921"
             ]
            ],
            "type": "contour"
           }
          ],
          "contourcarpet": [
           {
            "colorbar": {
             "outlinewidth": 0,
             "ticks": ""
            },
            "type": "contourcarpet"
           }
          ],
          "heatmap": [
           {
            "colorbar": {
             "outlinewidth": 0,
             "ticks": ""
            },
            "colorscale": [
             [
              0,
              "#0d0887"
             ],
             [
              0.1111111111111111,
              "#46039f"
             ],
             [
              0.2222222222222222,
              "#7201a8"
             ],
             [
              0.3333333333333333,
              "#9c179e"
             ],
             [
              0.4444444444444444,
              "#bd3786"
             ],
             [
              0.5555555555555556,
              "#d8576b"
             ],
             [
              0.6666666666666666,
              "#ed7953"
             ],
             [
              0.7777777777777778,
              "#fb9f3a"
             ],
             [
              0.8888888888888888,
              "#fdca26"
             ],
             [
              1,
              "#f0f921"
             ]
            ],
            "type": "heatmap"
           }
          ],
          "histogram": [
           {
            "marker": {
             "pattern": {
              "fillmode": "overlay",
              "size": 10,
              "solidity": 0.2
             }
            },
            "type": "histogram"
           }
          ],
          "histogram2d": [
           {
            "colorbar": {
             "outlinewidth": 0,
             "ticks": ""
            },
            "colorscale": [
             [
              0,
              "#0d0887"
             ],
             [
              0.1111111111111111,
              "#46039f"
             ],
             [
              0.2222222222222222,
              "#7201a8"
             ],
             [
              0.3333333333333333,
              "#9c179e"
             ],
             [
              0.4444444444444444,
              "#bd3786"
             ],
             [
              0.5555555555555556,
              "#d8576b"
             ],
             [
              0.6666666666666666,
              "#ed7953"
             ],
             [
              0.7777777777777778,
              "#fb9f3a"
             ],
             [
              0.8888888888888888,
              "#fdca26"
             ],
             [
              1,
              "#f0f921"
             ]
            ],
            "type": "histogram2d"
           }
          ],
          "histogram2dcontour": [
           {
            "colorbar": {
             "outlinewidth": 0,
             "ticks": ""
            },
            "colorscale": [
             [
              0,
              "#0d0887"
             ],
             [
              0.1111111111111111,
              "#46039f"
             ],
             [
              0.2222222222222222,
              "#7201a8"
             ],
             [
              0.3333333333333333,
              "#9c179e"
             ],
             [
              0.4444444444444444,
              "#bd3786"
             ],
             [
              0.5555555555555556,
              "#d8576b"
             ],
             [
              0.6666666666666666,
              "#ed7953"
             ],
             [
              0.7777777777777778,
              "#fb9f3a"
             ],
             [
              0.8888888888888888,
              "#fdca26"
             ],
             [
              1,
              "#f0f921"
             ]
            ],
            "type": "histogram2dcontour"
           }
          ],
          "mesh3d": [
           {
            "colorbar": {
             "outlinewidth": 0,
             "ticks": ""
            },
            "type": "mesh3d"
           }
          ],
          "parcoords": [
           {
            "line": {
             "colorbar": {
              "outlinewidth": 0,
              "ticks": ""
             }
            },
            "type": "parcoords"
           }
          ],
          "pie": [
           {
            "automargin": true,
            "type": "pie"
           }
          ],
          "scatter": [
           {
            "fillpattern": {
             "fillmode": "overlay",
             "size": 10,
             "solidity": 0.2
            },
            "type": "scatter"
           }
          ],
          "scatter3d": [
           {
            "line": {
             "colorbar": {
              "outlinewidth": 0,
              "ticks": ""
             }
            },
            "marker": {
             "colorbar": {
              "outlinewidth": 0,
              "ticks": ""
             }
            },
            "type": "scatter3d"
           }
          ],
          "scattercarpet": [
           {
            "marker": {
             "colorbar": {
              "outlinewidth": 0,
              "ticks": ""
             }
            },
            "type": "scattercarpet"
           }
          ],
          "scattergeo": [
           {
            "marker": {
             "colorbar": {
              "outlinewidth": 0,
              "ticks": ""
             }
            },
            "type": "scattergeo"
           }
          ],
          "scattergl": [
           {
            "marker": {
             "colorbar": {
              "outlinewidth": 0,
              "ticks": ""
             }
            },
            "type": "scattergl"
           }
          ],
          "scattermap": [
           {
            "marker": {
             "colorbar": {
              "outlinewidth": 0,
              "ticks": ""
             }
            },
            "type": "scattermap"
           }
          ],
          "scattermapbox": [
           {
            "marker": {
             "colorbar": {
              "outlinewidth": 0,
              "ticks": ""
             }
            },
            "type": "scattermapbox"
           }
          ],
          "scatterpolar": [
           {
            "marker": {
             "colorbar": {
              "outlinewidth": 0,
              "ticks": ""
             }
            },
            "type": "scatterpolar"
           }
          ],
          "scatterpolargl": [
           {
            "marker": {
             "colorbar": {
              "outlinewidth": 0,
              "ticks": ""
             }
            },
            "type": "scatterpolargl"
           }
          ],
          "scatterternary": [
           {
            "marker": {
             "colorbar": {
              "outlinewidth": 0,
              "ticks": ""
             }
            },
            "type": "scatterternary"
           }
          ],
          "surface": [
           {
            "colorbar": {
             "outlinewidth": 0,
             "ticks": ""
            },
            "colorscale": [
             [
              0,
              "#0d0887"
             ],
             [
              0.1111111111111111,
              "#46039f"
             ],
             [
              0.2222222222222222,
              "#7201a8"
             ],
             [
              0.3333333333333333,
              "#9c179e"
             ],
             [
              0.4444444444444444,
              "#bd3786"
             ],
             [
              0.5555555555555556,
              "#d8576b"
             ],
             [
              0.6666666666666666,
              "#ed7953"
             ],
             [
              0.7777777777777778,
              "#fb9f3a"
             ],
             [
              0.8888888888888888,
              "#fdca26"
             ],
             [
              1,
              "#f0f921"
             ]
            ],
            "type": "surface"
           }
          ],
          "table": [
           {
            "cells": {
             "fill": {
              "color": "#EBF0F8"
             },
             "line": {
              "color": "white"
             }
            },
            "header": {
             "fill": {
              "color": "#C8D4E3"
             },
             "line": {
              "color": "white"
             }
            },
            "type": "table"
           }
          ]
         },
         "layout": {
          "annotationdefaults": {
           "arrowcolor": "#2a3f5f",
           "arrowhead": 0,
           "arrowwidth": 1
          },
          "autotypenumbers": "strict",
          "coloraxis": {
           "colorbar": {
            "outlinewidth": 0,
            "ticks": ""
           }
          },
          "colorscale": {
           "diverging": [
            [
             0,
             "#8e0152"
            ],
            [
             0.1,
             "#c51b7d"
            ],
            [
             0.2,
             "#de77ae"
            ],
            [
             0.3,
             "#f1b6da"
            ],
            [
             0.4,
             "#fde0ef"
            ],
            [
             0.5,
             "#f7f7f7"
            ],
            [
             0.6,
             "#e6f5d0"
            ],
            [
             0.7,
             "#b8e186"
            ],
            [
             0.8,
             "#7fbc41"
            ],
            [
             0.9,
             "#4d9221"
            ],
            [
             1,
             "#276419"
            ]
           ],
           "sequential": [
            [
             0,
             "#0d0887"
            ],
            [
             0.1111111111111111,
             "#46039f"
            ],
            [
             0.2222222222222222,
             "#7201a8"
            ],
            [
             0.3333333333333333,
             "#9c179e"
            ],
            [
             0.4444444444444444,
             "#bd3786"
            ],
            [
             0.5555555555555556,
             "#d8576b"
            ],
            [
             0.6666666666666666,
             "#ed7953"
            ],
            [
             0.7777777777777778,
             "#fb9f3a"
            ],
            [
             0.8888888888888888,
             "#fdca26"
            ],
            [
             1,
             "#f0f921"
            ]
           ],
           "sequentialminus": [
            [
             0,
             "#0d0887"
            ],
            [
             0.1111111111111111,
             "#46039f"
            ],
            [
             0.2222222222222222,
             "#7201a8"
            ],
            [
             0.3333333333333333,
             "#9c179e"
            ],
            [
             0.4444444444444444,
             "#bd3786"
            ],
            [
             0.5555555555555556,
             "#d8576b"
            ],
            [
             0.6666666666666666,
             "#ed7953"
            ],
            [
             0.7777777777777778,
             "#fb9f3a"
            ],
            [
             0.8888888888888888,
             "#fdca26"
            ],
            [
             1,
             "#f0f921"
            ]
           ]
          },
          "colorway": [
           "#636efa",
           "#EF553B",
           "#00cc96",
           "#ab63fa",
           "#FFA15A",
           "#19d3f3",
           "#FF6692",
           "#B6E880",
           "#FF97FF",
           "#FECB52"
          ],
          "font": {
           "color": "#2a3f5f"
          },
          "geo": {
           "bgcolor": "white",
           "lakecolor": "white",
           "landcolor": "#E5ECF6",
           "showlakes": true,
           "showland": true,
           "subunitcolor": "white"
          },
          "hoverlabel": {
           "align": "left"
          },
          "hovermode": "closest",
          "mapbox": {
           "style": "light"
          },
          "paper_bgcolor": "white",
          "plot_bgcolor": "#E5ECF6",
          "polar": {
           "angularaxis": {
            "gridcolor": "white",
            "linecolor": "white",
            "ticks": ""
           },
           "bgcolor": "#E5ECF6",
           "radialaxis": {
            "gridcolor": "white",
            "linecolor": "white",
            "ticks": ""
           }
          },
          "scene": {
           "xaxis": {
            "backgroundcolor": "#E5ECF6",
            "gridcolor": "white",
            "gridwidth": 2,
            "linecolor": "white",
            "showbackground": true,
            "ticks": "",
            "zerolinecolor": "white"
           },
           "yaxis": {
            "backgroundcolor": "#E5ECF6",
            "gridcolor": "white",
            "gridwidth": 2,
            "linecolor": "white",
            "showbackground": true,
            "ticks": "",
            "zerolinecolor": "white"
           },
           "zaxis": {
            "backgroundcolor": "#E5ECF6",
            "gridcolor": "white",
            "gridwidth": 2,
            "linecolor": "white",
            "showbackground": true,
            "ticks": "",
            "zerolinecolor": "white"
           }
          },
          "shapedefaults": {
           "line": {
            "color": "#2a3f5f"
           }
          },
          "ternary": {
           "aaxis": {
            "gridcolor": "white",
            "linecolor": "white",
            "ticks": ""
           },
           "baxis": {
            "gridcolor": "white",
            "linecolor": "white",
            "ticks": ""
           },
           "bgcolor": "#E5ECF6",
           "caxis": {
            "gridcolor": "white",
            "linecolor": "white",
            "ticks": ""
           }
          },
          "title": {
           "x": 0.05
          },
          "xaxis": {
           "automargin": true,
           "gridcolor": "white",
           "linecolor": "white",
           "ticks": "",
           "title": {
            "standoff": 15
           },
           "zerolinecolor": "white",
           "zerolinewidth": 2
          },
          "yaxis": {
           "automargin": true,
           "gridcolor": "white",
           "linecolor": "white",
           "ticks": "",
           "title": {
            "standoff": 15
           },
           "zerolinecolor": "white",
           "zerolinewidth": 2
          }
         }
        },
        "title": {
         "font": {
          "size": 18
         },
         "text": "Cluster Proportions Over Time"
        },
        "updatemenus": [
         {
          "buttons": [
           {
            "args": [
             {
              "visible": "legendonly"
             }
            ],
            "label": "Deselect All",
            "method": "restyle"
           },
           {
            "args": [
             {
              "visible": true
             }
            ],
            "label": "Select All",
            "method": "restyle"
           }
          ],
          "direction": "left",
          "pad": {
           "r": 10,
           "t": 10
          },
          "showactive": false,
          "type": "buttons",
          "x": 1,
          "xanchor": "right",
          "y": 1.1,
          "yanchor": "top"
         }
        ],
        "width": 1200,
        "xaxis": {
         "anchor": "y",
         "domain": [
          0,
          1
         ],
         "title": {
          "font": {
           "size": 14
          },
          "text": "Year"
         }
        },
        "yaxis": {
         "anchor": "x",
         "domain": [
          0,
          1
         ],
         "tickformat": ".1*100",
         "title": {
          "font": {
           "size": 14
          },
          "text": "Proportion of Total Papers"
         }
        }
       }
      }
     },
     "metadata": {},
     "output_type": "display_data"
    }
   ],
   "source": [
    "fig_geriatrics"
   ]
  },
  {
   "cell_type": "markdown",
   "metadata": {
    "cellUniqueIdByVincent": "d5dcb"
   },
   "source": [
    "# Animal Models Plot\n"
   ]
  },
  {
   "cell_type": "code",
   "execution_count": 15,
   "metadata": {
    "cellUniqueIdByVincent": "0ba28"
   },
   "outputs": [
    {
     "data": {
      "application/vnd.plotly.v1+json": {
       "config": {
        "plotlyServerURL": "https://plot.ly"
       },
       "data": [
        {
         "fillpattern": {
          "shape": ""
         },
         "hovertemplate": "<b>%{fullData.name}</b><br>Year: %{x}<br>Proportion: %{y:.2%}<extra></extra>",
         "legendgroup": "SSRIs Effect on Fear",
         "line": {
          "color": "#636EFA"
         },
         "marker": {
          "symbol": "circle"
         },
         "mode": "lines",
         "name": "SSRIs Effect on Fear",
         "orientation": "v",
         "showlegend": true,
         "stackgroup": "1",
         "type": "scatter",
         "x": {
          "bdata": "vgcAAL8HAADABwAAwQcAAMIHAADDBwAAxAcAAMUHAADGBwAAxwcAAMgHAADJBwAAygcAAMsHAADMBwAAzQcAAM4HAADPBwAA0AcAANEHAADSBwAA0wcAANQHAADVBwAA1gcAANcHAADYBwAA2QcAANoHAADbBwAA3AcAAN0HAADeBwAA3wcAAOAHAADhBwAA4gcAAOMHAADkBwAA5QcAAOYHAADnBwAA6AcAAOkHAAA=",
          "dtype": "i4"
         },
         "xaxis": "x",
         "y": {
          "bdata": "MzMzMzMz4z8AAAAAAADwP5qZmZmZmck/AAAAAAAA4D8AAAAAAADwP5IkSZIkSdI/AAAAAAAA2D8cx3Ecx3HMP5qZmZmZmdk/09LS0tLS0j95DeU1lNfQPyivobyG8so/HMdxHMdxzD8AAAAAAADYP+ecc84559w/ZmZmZmZm1j8AAAAAAADQP/JW9jmkJtg/11prrbXW2j87sRM7sRPbP4wuuuiii94/U9aUNWVN2T82ZU1ZU9bUP57neZ7ned4/GPQFfUFf4D/NzMzMzMzcPwAAAAAAANA/dNFFF1100T8URVEURVHUP+Lh4eHh4dE/XVYMlPBG0z/0MTgfg/PRP5uruZqruco/AAAAAAAA0D8XbMEWbMG2P+HlFLycgrc/lnsaYbmnwT80dX7tIZe1PzFvZ0jM27k/AAAAAAAAxD/IpHiBTIq3P+YUvJyCl8M/zGEOc5jDrD+4HoXrUbi+Pw==",
          "dtype": "f8"
         },
         "yaxis": "y"
        },
        {
         "fillpattern": {
          "shape": ""
         },
         "hovertemplate": "<b>%{fullData.name}</b><br>Year: %{x}<br>Proportion: %{y:.2%}<extra></extra>",
         "legendgroup": "Serotonergic Modulation of Cocaine Effects",
         "line": {
          "color": "#EF553B"
         },
         "marker": {
          "symbol": "circle"
         },
         "mode": "lines",
         "name": "Serotonergic Modulation of Cocaine Effects",
         "orientation": "v",
         "showlegend": true,
         "stackgroup": "1",
         "type": "scatter",
         "x": {
          "bdata": "vgcAAL8HAADABwAAwQcAAMIHAADDBwAAxAcAAMUHAADGBwAAxwcAAMgHAADJBwAAygcAAMsHAADMBwAAzQcAAM4HAADPBwAA0AcAANEHAADSBwAA0wcAANQHAADVBwAA1gcAANcHAADYBwAA2QcAANoHAADbBwAA3AcAAN0HAADeBwAA3wcAAOAHAADhBwAA4gcAAOMHAADkBwAA5QcAAOYHAADnBwAA6AcAAOkHAAA=",
          "dtype": "i4"
         },
         "xaxis": "x",
         "y": {
          "bdata": "mpmZmZmZ2T8AAAAAAAAAADMzMzMzM+M/AAAAAAAAAAAAAAAAAAAAAJIkSZIkSdI/AAAAAAAA0D9yHMdxHMfhP5qZmZmZmck/Hh4eHh4e3j95DeU1lNfQP15DeQ3lNeQ/chzHcRzH4T8AAAAAAADUP5VSSimllNI/AAAAAAAA2D8AAAAAAADeP9nnkJpgvNU/hBBCCCGEwD+e2Imd2InNPxdddNFFF80/cUfcEXfEvT9xR9wRd8TNP5IkSZIkScI/9AV9QV/Qtz+amZmZmZm5P15DeQ3lNaQ/8pQgTwnyxD8QBEEQBEGwPx4eHh4eHq4/v/aQy4qBoj+7ErUrUbuiPxdogRZogaY/aC+hvYT2gj8XbMEWbMGGP9aHxvrQWJ8/AAAAAAAAAAAAAAAAAAAAAAAAAAAAAAAAVVVVVVVVhT+WexphuaehPzkFL6fg5YQ/FKEIRShCoT97FK5H4XqkPw==",
          "dtype": "f8"
         },
         "yaxis": "y"
        },
        {
         "fillpattern": {
          "shape": ""
         },
         "hovertemplate": "<b>%{fullData.name}</b><br>Year: %{x}<br>Proportion: %{y:.2%}<extra></extra>",
         "legendgroup": "SSRIs in Forced Swimming Test",
         "line": {
          "color": "#00CC96"
         },
         "marker": {
          "symbol": "circle"
         },
         "mode": "lines",
         "name": "SSRIs in Forced Swimming Test",
         "orientation": "v",
         "showlegend": true,
         "stackgroup": "1",
         "type": "scatter",
         "x": {
          "bdata": "vgcAAL8HAADABwAAwQcAAMIHAADDBwAAxAcAAMUHAADGBwAAxwcAAMgHAADJBwAAygcAAMsHAADMBwAAzQcAAM4HAADPBwAA0AcAANEHAADSBwAA0wcAANQHAADVBwAA1gcAANcHAADYBwAA2QcAANoHAADbBwAA3AcAAN0HAADeBwAA3wcAAOAHAADhBwAA4gcAAOMHAADkBwAA5QcAAOYHAADnBwAA6AcAAOkHAAA=",
          "dtype": "i4"
         },
         "xaxis": "x",
         "y": {
          "bdata": "AAAAAAAAAAAAAAAAAAAAAJqZmZmZmck/AAAAAAAA4D8AAAAAAAAAANu2bdu2bds/AAAAAAAA2D8cx3Ecx3G8P5qZmZmZmdk/Hh4eHh4ezj9DeQ3lNZTXP15DeQ3lNcQ/HMdxHMdxzD8AAAAAAADSP4QQQgghhNA/zczMzMzMzD8AAAAAAADSP6kJxlvZ59A/xhhjjDHG2D/FTuzETuzUP3TRRRdddNE/U9aUNWVN2T+VNWVNWVPWP7dt27Zt29Y/cUfcEXfEzT9mZmZmZmbWP6+hvIbyGuI/7RvWvmHt2z/XdV3XdV3XPzw8PDw8PNw/R1Pn1x5y2T+D8zE4H4PTP5VRGZVRGdU/Ce0ltJfQzj9yHMdxHMfRPxW8nIKXU9A/YbmnEZZ7yj80dX7tIZfFP1u/UqDWr8Q/q6qqqqqquj/IpHiBTIq3P4jG+tBYH7o/FKEIRShCsT97FK5H4XqkPw==",
          "dtype": "f8"
         },
         "yaxis": "y"
        },
        {
         "fillpattern": {
          "shape": ""
         },
         "hovertemplate": "<b>%{fullData.name}</b><br>Year: %{x}<br>Proportion: %{y:.2%}<extra></extra>",
         "legendgroup": "The Chronic Unpredictable Mild Stress Model of Depression",
         "line": {
          "color": "#AB63FA"
         },
         "marker": {
          "symbol": "circle"
         },
         "mode": "lines",
         "name": "The Chronic Unpredictable Mild Stress Model of Depression",
         "orientation": "v",
         "showlegend": true,
         "stackgroup": "1",
         "type": "scatter",
         "x": {
          "bdata": "vgcAAL8HAADABwAAwQcAAMIHAADDBwAAxAcAAMUHAADGBwAAxwcAAMgHAADJBwAAygcAAMsHAADMBwAAzQcAAM4HAADPBwAA0AcAANEHAADSBwAA0wcAANQHAADVBwAA1gcAANcHAADYBwAA2QcAANoHAADbBwAA3AcAAN0HAADeBwAA3wcAAOAHAADhBwAA4gcAAOMHAADkBwAA5QcAAOYHAADnBwAA6AcAAOkHAAA=",
          "dtype": "i4"
         },
         "xaxis": "x",
         "y": {
          "bdata": "AAAAAAAAAAAAAAAAAAAAAAAAAAAAAAAAAAAAAAAAAAAAAAAAAAAAAAAAAAAAAAAAAAAAAAAAAAAcx3Ecx3G8PwAAAAAAAAAAAAAAAAAAAAAor6G8hvK6PwAAAAAAAAAAAAAAAAAAAAAAAAAAAACgPwAAAAAAAAAAmpmZmZmZqT8AAAAAAAAAAMF4K/scUpM/hBBCCCGEsD8UO7ETO7GTP0YXXXTRRZc/9AV9QV/Qtz/0BX1BX9C3PxiGYRiGYZg/NmVNWVPWxD+amZmZmZm5P2wor6G8hsI/SpCnBHlKwD8QBEEQBEHQPzw8PDw8PMw/hTeaOr/20D8yOB+D8zHYP5uruZqrudo/AAAAAAAA4D+UPumTPunjP/vQWB8a6+M/wnJPIyz35D8MlPBGU+fnP0Ni3s6QmOc/VVVVVVVV5z8VL5BJ8QLpP+HlFLycguc/r3vd61736j+amZmZmZnpPw==",
          "dtype": "f8"
         },
         "yaxis": "y"
        }
       ],
       "layout": {
        "height": 600,
        "hovermode": "closest",
        "legend": {
         "font": {
          "size": 12
         },
         "orientation": "v",
         "title": {
          "font": {
           "size": 14
          },
          "text": "Cluster"
         },
         "tracegroupgap": 0,
         "traceorder": "reversed",
         "x": 1.02,
         "xanchor": "left",
         "y": 1,
         "yanchor": "top"
        },
        "margin": {
         "r": 150
        },
        "plot_bgcolor": "white",
        "template": {
         "data": {
          "bar": [
           {
            "error_x": {
             "color": "#2a3f5f"
            },
            "error_y": {
             "color": "#2a3f5f"
            },
            "marker": {
             "line": {
              "color": "#E5ECF6",
              "width": 0.5
             },
             "pattern": {
              "fillmode": "overlay",
              "size": 10,
              "solidity": 0.2
             }
            },
            "type": "bar"
           }
          ],
          "barpolar": [
           {
            "marker": {
             "line": {
              "color": "#E5ECF6",
              "width": 0.5
             },
             "pattern": {
              "fillmode": "overlay",
              "size": 10,
              "solidity": 0.2
             }
            },
            "type": "barpolar"
           }
          ],
          "carpet": [
           {
            "aaxis": {
             "endlinecolor": "#2a3f5f",
             "gridcolor": "white",
             "linecolor": "white",
             "minorgridcolor": "white",
             "startlinecolor": "#2a3f5f"
            },
            "baxis": {
             "endlinecolor": "#2a3f5f",
             "gridcolor": "white",
             "linecolor": "white",
             "minorgridcolor": "white",
             "startlinecolor": "#2a3f5f"
            },
            "type": "carpet"
           }
          ],
          "choropleth": [
           {
            "colorbar": {
             "outlinewidth": 0,
             "ticks": ""
            },
            "type": "choropleth"
           }
          ],
          "contour": [
           {
            "colorbar": {
             "outlinewidth": 0,
             "ticks": ""
            },
            "colorscale": [
             [
              0,
              "#0d0887"
             ],
             [
              0.1111111111111111,
              "#46039f"
             ],
             [
              0.2222222222222222,
              "#7201a8"
             ],
             [
              0.3333333333333333,
              "#9c179e"
             ],
             [
              0.4444444444444444,
              "#bd3786"
             ],
             [
              0.5555555555555556,
              "#d8576b"
             ],
             [
              0.6666666666666666,
              "#ed7953"
             ],
             [
              0.7777777777777778,
              "#fb9f3a"
             ],
             [
              0.8888888888888888,
              "#fdca26"
             ],
             [
              1,
              "#f0f921"
             ]
            ],
            "type": "contour"
           }
          ],
          "contourcarpet": [
           {
            "colorbar": {
             "outlinewidth": 0,
             "ticks": ""
            },
            "type": "contourcarpet"
           }
          ],
          "heatmap": [
           {
            "colorbar": {
             "outlinewidth": 0,
             "ticks": ""
            },
            "colorscale": [
             [
              0,
              "#0d0887"
             ],
             [
              0.1111111111111111,
              "#46039f"
             ],
             [
              0.2222222222222222,
              "#7201a8"
             ],
             [
              0.3333333333333333,
              "#9c179e"
             ],
             [
              0.4444444444444444,
              "#bd3786"
             ],
             [
              0.5555555555555556,
              "#d8576b"
             ],
             [
              0.6666666666666666,
              "#ed7953"
             ],
             [
              0.7777777777777778,
              "#fb9f3a"
             ],
             [
              0.8888888888888888,
              "#fdca26"
             ],
             [
              1,
              "#f0f921"
             ]
            ],
            "type": "heatmap"
           }
          ],
          "histogram": [
           {
            "marker": {
             "pattern": {
              "fillmode": "overlay",
              "size": 10,
              "solidity": 0.2
             }
            },
            "type": "histogram"
           }
          ],
          "histogram2d": [
           {
            "colorbar": {
             "outlinewidth": 0,
             "ticks": ""
            },
            "colorscale": [
             [
              0,
              "#0d0887"
             ],
             [
              0.1111111111111111,
              "#46039f"
             ],
             [
              0.2222222222222222,
              "#7201a8"
             ],
             [
              0.3333333333333333,
              "#9c179e"
             ],
             [
              0.4444444444444444,
              "#bd3786"
             ],
             [
              0.5555555555555556,
              "#d8576b"
             ],
             [
              0.6666666666666666,
              "#ed7953"
             ],
             [
              0.7777777777777778,
              "#fb9f3a"
             ],
             [
              0.8888888888888888,
              "#fdca26"
             ],
             [
              1,
              "#f0f921"
             ]
            ],
            "type": "histogram2d"
           }
          ],
          "histogram2dcontour": [
           {
            "colorbar": {
             "outlinewidth": 0,
             "ticks": ""
            },
            "colorscale": [
             [
              0,
              "#0d0887"
             ],
             [
              0.1111111111111111,
              "#46039f"
             ],
             [
              0.2222222222222222,
              "#7201a8"
             ],
             [
              0.3333333333333333,
              "#9c179e"
             ],
             [
              0.4444444444444444,
              "#bd3786"
             ],
             [
              0.5555555555555556,
              "#d8576b"
             ],
             [
              0.6666666666666666,
              "#ed7953"
             ],
             [
              0.7777777777777778,
              "#fb9f3a"
             ],
             [
              0.8888888888888888,
              "#fdca26"
             ],
             [
              1,
              "#f0f921"
             ]
            ],
            "type": "histogram2dcontour"
           }
          ],
          "mesh3d": [
           {
            "colorbar": {
             "outlinewidth": 0,
             "ticks": ""
            },
            "type": "mesh3d"
           }
          ],
          "parcoords": [
           {
            "line": {
             "colorbar": {
              "outlinewidth": 0,
              "ticks": ""
             }
            },
            "type": "parcoords"
           }
          ],
          "pie": [
           {
            "automargin": true,
            "type": "pie"
           }
          ],
          "scatter": [
           {
            "fillpattern": {
             "fillmode": "overlay",
             "size": 10,
             "solidity": 0.2
            },
            "type": "scatter"
           }
          ],
          "scatter3d": [
           {
            "line": {
             "colorbar": {
              "outlinewidth": 0,
              "ticks": ""
             }
            },
            "marker": {
             "colorbar": {
              "outlinewidth": 0,
              "ticks": ""
             }
            },
            "type": "scatter3d"
           }
          ],
          "scattercarpet": [
           {
            "marker": {
             "colorbar": {
              "outlinewidth": 0,
              "ticks": ""
             }
            },
            "type": "scattercarpet"
           }
          ],
          "scattergeo": [
           {
            "marker": {
             "colorbar": {
              "outlinewidth": 0,
              "ticks": ""
             }
            },
            "type": "scattergeo"
           }
          ],
          "scattergl": [
           {
            "marker": {
             "colorbar": {
              "outlinewidth": 0,
              "ticks": ""
             }
            },
            "type": "scattergl"
           }
          ],
          "scattermap": [
           {
            "marker": {
             "colorbar": {
              "outlinewidth": 0,
              "ticks": ""
             }
            },
            "type": "scattermap"
           }
          ],
          "scattermapbox": [
           {
            "marker": {
             "colorbar": {
              "outlinewidth": 0,
              "ticks": ""
             }
            },
            "type": "scattermapbox"
           }
          ],
          "scatterpolar": [
           {
            "marker": {
             "colorbar": {
              "outlinewidth": 0,
              "ticks": ""
             }
            },
            "type": "scatterpolar"
           }
          ],
          "scatterpolargl": [
           {
            "marker": {
             "colorbar": {
              "outlinewidth": 0,
              "ticks": ""
             }
            },
            "type": "scatterpolargl"
           }
          ],
          "scatterternary": [
           {
            "marker": {
             "colorbar": {
              "outlinewidth": 0,
              "ticks": ""
             }
            },
            "type": "scatterternary"
           }
          ],
          "surface": [
           {
            "colorbar": {
             "outlinewidth": 0,
             "ticks": ""
            },
            "colorscale": [
             [
              0,
              "#0d0887"
             ],
             [
              0.1111111111111111,
              "#46039f"
             ],
             [
              0.2222222222222222,
              "#7201a8"
             ],
             [
              0.3333333333333333,
              "#9c179e"
             ],
             [
              0.4444444444444444,
              "#bd3786"
             ],
             [
              0.5555555555555556,
              "#d8576b"
             ],
             [
              0.6666666666666666,
              "#ed7953"
             ],
             [
              0.7777777777777778,
              "#fb9f3a"
             ],
             [
              0.8888888888888888,
              "#fdca26"
             ],
             [
              1,
              "#f0f921"
             ]
            ],
            "type": "surface"
           }
          ],
          "table": [
           {
            "cells": {
             "fill": {
              "color": "#EBF0F8"
             },
             "line": {
              "color": "white"
             }
            },
            "header": {
             "fill": {
              "color": "#C8D4E3"
             },
             "line": {
              "color": "white"
             }
            },
            "type": "table"
           }
          ]
         },
         "layout": {
          "annotationdefaults": {
           "arrowcolor": "#2a3f5f",
           "arrowhead": 0,
           "arrowwidth": 1
          },
          "autotypenumbers": "strict",
          "coloraxis": {
           "colorbar": {
            "outlinewidth": 0,
            "ticks": ""
           }
          },
          "colorscale": {
           "diverging": [
            [
             0,
             "#8e0152"
            ],
            [
             0.1,
             "#c51b7d"
            ],
            [
             0.2,
             "#de77ae"
            ],
            [
             0.3,
             "#f1b6da"
            ],
            [
             0.4,
             "#fde0ef"
            ],
            [
             0.5,
             "#f7f7f7"
            ],
            [
             0.6,
             "#e6f5d0"
            ],
            [
             0.7,
             "#b8e186"
            ],
            [
             0.8,
             "#7fbc41"
            ],
            [
             0.9,
             "#4d9221"
            ],
            [
             1,
             "#276419"
            ]
           ],
           "sequential": [
            [
             0,
             "#0d0887"
            ],
            [
             0.1111111111111111,
             "#46039f"
            ],
            [
             0.2222222222222222,
             "#7201a8"
            ],
            [
             0.3333333333333333,
             "#9c179e"
            ],
            [
             0.4444444444444444,
             "#bd3786"
            ],
            [
             0.5555555555555556,
             "#d8576b"
            ],
            [
             0.6666666666666666,
             "#ed7953"
            ],
            [
             0.7777777777777778,
             "#fb9f3a"
            ],
            [
             0.8888888888888888,
             "#fdca26"
            ],
            [
             1,
             "#f0f921"
            ]
           ],
           "sequentialminus": [
            [
             0,
             "#0d0887"
            ],
            [
             0.1111111111111111,
             "#46039f"
            ],
            [
             0.2222222222222222,
             "#7201a8"
            ],
            [
             0.3333333333333333,
             "#9c179e"
            ],
            [
             0.4444444444444444,
             "#bd3786"
            ],
            [
             0.5555555555555556,
             "#d8576b"
            ],
            [
             0.6666666666666666,
             "#ed7953"
            ],
            [
             0.7777777777777778,
             "#fb9f3a"
            ],
            [
             0.8888888888888888,
             "#fdca26"
            ],
            [
             1,
             "#f0f921"
            ]
           ]
          },
          "colorway": [
           "#636efa",
           "#EF553B",
           "#00cc96",
           "#ab63fa",
           "#FFA15A",
           "#19d3f3",
           "#FF6692",
           "#B6E880",
           "#FF97FF",
           "#FECB52"
          ],
          "font": {
           "color": "#2a3f5f"
          },
          "geo": {
           "bgcolor": "white",
           "lakecolor": "white",
           "landcolor": "#E5ECF6",
           "showlakes": true,
           "showland": true,
           "subunitcolor": "white"
          },
          "hoverlabel": {
           "align": "left"
          },
          "hovermode": "closest",
          "mapbox": {
           "style": "light"
          },
          "paper_bgcolor": "white",
          "plot_bgcolor": "#E5ECF6",
          "polar": {
           "angularaxis": {
            "gridcolor": "white",
            "linecolor": "white",
            "ticks": ""
           },
           "bgcolor": "#E5ECF6",
           "radialaxis": {
            "gridcolor": "white",
            "linecolor": "white",
            "ticks": ""
           }
          },
          "scene": {
           "xaxis": {
            "backgroundcolor": "#E5ECF6",
            "gridcolor": "white",
            "gridwidth": 2,
            "linecolor": "white",
            "showbackground": true,
            "ticks": "",
            "zerolinecolor": "white"
           },
           "yaxis": {
            "backgroundcolor": "#E5ECF6",
            "gridcolor": "white",
            "gridwidth": 2,
            "linecolor": "white",
            "showbackground": true,
            "ticks": "",
            "zerolinecolor": "white"
           },
           "zaxis": {
            "backgroundcolor": "#E5ECF6",
            "gridcolor": "white",
            "gridwidth": 2,
            "linecolor": "white",
            "showbackground": true,
            "ticks": "",
            "zerolinecolor": "white"
           }
          },
          "shapedefaults": {
           "line": {
            "color": "#2a3f5f"
           }
          },
          "ternary": {
           "aaxis": {
            "gridcolor": "white",
            "linecolor": "white",
            "ticks": ""
           },
           "baxis": {
            "gridcolor": "white",
            "linecolor": "white",
            "ticks": ""
           },
           "bgcolor": "#E5ECF6",
           "caxis": {
            "gridcolor": "white",
            "linecolor": "white",
            "ticks": ""
           }
          },
          "title": {
           "x": 0.05
          },
          "xaxis": {
           "automargin": true,
           "gridcolor": "white",
           "linecolor": "white",
           "ticks": "",
           "title": {
            "standoff": 15
           },
           "zerolinecolor": "white",
           "zerolinewidth": 2
          },
          "yaxis": {
           "automargin": true,
           "gridcolor": "white",
           "linecolor": "white",
           "ticks": "",
           "title": {
            "standoff": 15
           },
           "zerolinecolor": "white",
           "zerolinewidth": 2
          }
         }
        },
        "title": {
         "font": {
          "size": 18
         },
         "text": "Cluster Proportions Over Time (Relative to Selected Clusters)"
        },
        "updatemenus": [
         {
          "buttons": [
           {
            "args": [
             {
              "visible": "legendonly"
             }
            ],
            "label": "Deselect All",
            "method": "restyle"
           },
           {
            "args": [
             {
              "visible": true
             }
            ],
            "label": "Select All",
            "method": "restyle"
           }
          ],
          "direction": "left",
          "pad": {
           "r": 10,
           "t": 10
          },
          "showactive": false,
          "type": "buttons",
          "x": 1,
          "xanchor": "right",
          "y": 1.1,
          "yanchor": "top"
         }
        ],
        "width": 1200,
        "xaxis": {
         "anchor": "y",
         "domain": [
          0,
          1
         ],
         "title": {
          "font": {
           "size": 14
          },
          "text": "Year"
         }
        },
        "yaxis": {
         "anchor": "x",
         "domain": [
          0,
          1
         ],
         "tickformat": ".1*100",
         "title": {
          "font": {
           "size": 14
          },
          "text": "Cluster Proportion"
         }
        }
       }
      }
     },
     "metadata": {},
     "output_type": "display_data"
    }
   ],
   "source": [
    "fig_animal"
   ]
  },
  {
   "cell_type": "markdown",
   "metadata": {
    "cellUniqueIdByVincent": "60b0a"
   },
   "source": [
    "# Perinatal Exposure\n"
   ]
  },
  {
   "cell_type": "code",
   "execution_count": 16,
   "metadata": {
    "cellUniqueIdByVincent": "65060"
   },
   "outputs": [
    {
     "data": {
      "application/vnd.plotly.v1+json": {
       "config": {
        "plotlyServerURL": "https://plot.ly"
       },
       "data": [
        {
         "fillpattern": {
          "shape": ""
         },
         "hovertemplate": "<b>%{fullData.name}</b><br>Year: %{x}<br>Proportion: %{y:.2%}<extra></extra>",
         "legendgroup": "Risk of Prenatal Exposure (Rodents)",
         "line": {
          "color": "#636EFA"
         },
         "marker": {
          "symbol": "circle"
         },
         "mode": "lines",
         "name": "Risk of Prenatal Exposure (Rodents)",
         "orientation": "v",
         "showlegend": true,
         "stackgroup": "1",
         "type": "scatter",
         "x": {
          "bdata": "vgcAAL8HAADABwAAwQcAAMIHAADDBwAAxAcAAMUHAADGBwAAxwcAAMgHAADJBwAAygcAAMsHAADMBwAAzQcAAM4HAADPBwAA0AcAANEHAADSBwAA0wcAANQHAADVBwAA1gcAANcHAADYBwAA2QcAANoHAADbBwAA3AcAAN0HAADeBwAA3wcAAOAHAADhBwAA4gcAAOMHAADkBwAA5QcAAOYHAADnBwAA6AcAAOkHAAA=",
          "dtype": "i4"
         },
         "xaxis": "x",
         "y": {
          "bdata": "AAAAAAAAwD8AAAAAAAAAAJqZmZmZmdk/AAAAAAAAAAAAAAAAAAAAAJIkSZIkSdI/mpmZmZmZ2T8cx3Ecx3HcPzMzMzMzM+M/AAAAAAAAwD8AAAAAAADgPxQ7sRM7sbM/UV5DeQ3l5T8UO7ETO7GzP0YXXXTRRdc/AAAAAAAAzD8AAAAAAADMPwAAAAAAALg/l5aWlpaWxj8AAAAAAADMP3kN5TWU19A/aC+hvYT2oj8iNcF4K/vMP6uqqqqqqsI/O7ETO7ETyz8vuuiiiy7KP9BwUvflsdU/QZ4S5ClBzj/GGGOMMcbIP3kN5TWU19A/lxUDJbzR1D9eQ3kN5TXUP0YXXXTRRdc/lVJKKaWU0j/Z55CaYLzVP+MjE+idutY/dtlll1122T/D9Shcj8LVP7rooosuutg/iQKTTs2D3D9VVVVVVVXVP3Icx3Ecx9E/juM4juM4zj8eHh4eHh7OPw==",
          "dtype": "f8"
         },
         "yaxis": "y"
        },
        {
         "fillpattern": {
          "shape": ""
         },
         "hovertemplate": "<b>%{fullData.name}</b><br>Year: %{x}<br>Proportion: %{y:.2%}<extra></extra>",
         "legendgroup": "Risk of Prenatal Exposure",
         "line": {
          "color": "#EF553B"
         },
         "marker": {
          "symbol": "circle"
         },
         "mode": "lines",
         "name": "Risk of Prenatal Exposure",
         "orientation": "v",
         "showlegend": true,
         "stackgroup": "1",
         "type": "scatter",
         "x": {
          "bdata": "vgcAAL8HAADABwAAwQcAAMIHAADDBwAAxAcAAMUHAADGBwAAxwcAAMgHAADJBwAAygcAAMsHAADMBwAAzQcAAM4HAADPBwAA0AcAANEHAADSBwAA0wcAANQHAADVBwAA1gcAANcHAADYBwAA2QcAANoHAADbBwAA3AcAAN0HAADeBwAA3wcAAOAHAADhBwAA4gcAAOMHAADkBwAA5QcAAOYHAADnBwAA6AcAAOkHAAA=",
          "dtype": "i4"
         },
         "xaxis": "x",
         "y": {
          "bdata": "AAAAAAAAwD8AAAAAAAAAAAAAAAAAAAAAAAAAAAAAAAAAAAAAAAAAAAAAAAAAAAAAmpmZmZmZyT8AAAAAAAAAAAAAAAAAAAAAAAAAAAAAAACSJEmSJEmyP57YiZ3Yid0/KK+hvIbyqj8UO7ETO7HTPxdddNFFF80/AAAAAAAA1D8AAAAAAADcPwAAAAAAAOA/8fDw8PDw4D8AAAAAAADWPzaU11BeQ9k/L6G9hPYS2j8KxlvZ55DaPwAAAAAAAOA/2Ymd2Imd4D+66KKLLrrgP3VfHlsRNNw/37D2DWvf4D/43nvvvffePzaU11BeQ+E/hTeaOr/24D/dEqd+zy3hP1MDe8fUwN4/5JFHHnnk4T8Yb2WfQ2riP71T13Jws98/+N5777333j+kcD0K16PgP1100UUXXeA/KTDp1DzI3T9VVVVVVVXhP1VVVVVVVeU/x3Ecx3Ec4z+1tLS0tLTkPw==",
          "dtype": "f8"
         },
         "yaxis": "y"
        },
        {
         "fillpattern": {
          "shape": ""
         },
         "hovertemplate": "<b>%{fullData.name}</b><br>Year: %{x}<br>Proportion: %{y:.2%}<extra></extra>",
         "legendgroup": "SSRI Effects on Lactation",
         "line": {
          "color": "#00CC96"
         },
         "marker": {
          "symbol": "circle"
         },
         "mode": "lines",
         "name": "SSRI Effects on Lactation",
         "orientation": "v",
         "showlegend": true,
         "stackgroup": "1",
         "type": "scatter",
         "x": {
          "bdata": "vgcAAL8HAADABwAAwQcAAMIHAADDBwAAxAcAAMUHAADGBwAAxwcAAMgHAADJBwAAygcAAMsHAADMBwAAzQcAAM4HAADPBwAA0AcAANEHAADSBwAA0wcAANQHAADVBwAA1gcAANcHAADYBwAA2QcAANoHAADbBwAA3AcAAN0HAADeBwAA3wcAAOAHAADhBwAA4gcAAOMHAADkBwAA5QcAAOYHAADnBwAA6AcAAOkHAAA=",
          "dtype": "i4"
         },
         "xaxis": "x",
         "y": {
          "bdata": "AAAAAAAA6D8AAAAAAADwPzMzMzMzM+M/AAAAAAAA8D8AAAAAAADwP7dt27Zt2+Y/mpmZmZmZ2T9yHMdxHMfhP5qZmZmZmdk/AAAAAAAA7D/btm3btm3bP9mJndiJndg/eQ3lNZTX0D+xEzuxEzvhPy+66KKLLto/AAAAAAAA2j8AAAAAAADUPwAAAAAAANg/8fDw8PDw0D8AAAAAAADaP1FeQ3kN5dU/chzHcRzH4T81wXgr+xzSP1VVVVVVVdE/O7ETO7ETyz8AAAAAAADQP9BwUvflscU/8pQgTwnyxD+EEEIIIYTQP0N5DeU1lMc/lPBGU+fXvj9G2rECYaS9P0YXXXTRRbc/xhhjjDHGuD8iNcF4K/usP78QK0rjI7M/RRNNNNFEsz+4HoXrUbieP0YXXXTRRac/+EYUmHRqrj8cx3Ecx3GMPxzHcRzHcYw/HMdxHMdxjD8AAAAAAAAAAA==",
          "dtype": "f8"
         },
         "yaxis": "y"
        },
        {
         "fillpattern": {
          "shape": ""
         },
         "hovertemplate": "<b>%{fullData.name}</b><br>Year: %{x}<br>Proportion: %{y:.2%}<extra></extra>",
         "legendgroup": "SSRIs for Postpartum Depression",
         "line": {
          "color": "#AB63FA"
         },
         "marker": {
          "symbol": "circle"
         },
         "mode": "lines",
         "name": "SSRIs for Postpartum Depression",
         "orientation": "v",
         "showlegend": true,
         "stackgroup": "1",
         "type": "scatter",
         "x": {
          "bdata": "vgcAAL8HAADABwAAwQcAAMIHAADDBwAAxAcAAMUHAADGBwAAxwcAAMgHAADJBwAAygcAAMsHAADMBwAAzQcAAM4HAADPBwAA0AcAANEHAADSBwAA0wcAANQHAADVBwAA1gcAANcHAADYBwAA2QcAANoHAADbBwAA3AcAAN0HAADeBwAA3wcAAOAHAADhBwAA4gcAAOMHAADkBwAA5QcAAOYHAADnBwAA6AcAAOkHAAA=",
          "dtype": "i4"
         },
         "xaxis": "x",
         "y": {
          "bdata": "AAAAAAAAAAAAAAAAAAAAAAAAAAAAAAAAAAAAAAAAAAAAAAAAAAAAAAAAAAAAAAAAAAAAAAAAAAAAAAAAAAAAAAAAAAAAAAAAAAAAAAAAAAAAAAAAAAAAABQ7sRM7sbM/AAAAAAAAAAAUO7ETO7GzPwAAAAAAAAAAAAAAAAAAsD8AAAAAAACgPwAAAAAAAKA/Hh4eHh4enj8AAAAAAACgPwAAAAAAAAAAAAAAAAAAAADBeCv7HFKzP1VVVVVVVbU/ntiJndiJrT9GF1100UWXP5S6L4+tCKo/nhLkKUGesj+EEEIIIYSwPyivobyG8oo/qvNrD7msmD+yAmGkHSugP1Z+QpyVn7A/hxtuuOGGqz8iNcF4K/ucP78QK0rjI7M/BhZYYIEFpj8pXI/C9Si8PxdddNFFF60/+EYUmHRqnj8cx3Ecx3G8P1VVVVVVVaU/5DiO4ziOwz8eHh4eHh6+Pw==",
          "dtype": "f8"
         },
         "yaxis": "y"
        }
       ],
       "layout": {
        "height": 600,
        "hovermode": "closest",
        "legend": {
         "font": {
          "size": 12
         },
         "orientation": "v",
         "title": {
          "font": {
           "size": 14
          },
          "text": "Cluster"
         },
         "tracegroupgap": 0,
         "traceorder": "reversed",
         "x": 1.02,
         "xanchor": "left",
         "y": 1,
         "yanchor": "top"
        },
        "margin": {
         "r": 150
        },
        "plot_bgcolor": "white",
        "template": {
         "data": {
          "bar": [
           {
            "error_x": {
             "color": "#2a3f5f"
            },
            "error_y": {
             "color": "#2a3f5f"
            },
            "marker": {
             "line": {
              "color": "#E5ECF6",
              "width": 0.5
             },
             "pattern": {
              "fillmode": "overlay",
              "size": 10,
              "solidity": 0.2
             }
            },
            "type": "bar"
           }
          ],
          "barpolar": [
           {
            "marker": {
             "line": {
              "color": "#E5ECF6",
              "width": 0.5
             },
             "pattern": {
              "fillmode": "overlay",
              "size": 10,
              "solidity": 0.2
             }
            },
            "type": "barpolar"
           }
          ],
          "carpet": [
           {
            "aaxis": {
             "endlinecolor": "#2a3f5f",
             "gridcolor": "white",
             "linecolor": "white",
             "minorgridcolor": "white",
             "startlinecolor": "#2a3f5f"
            },
            "baxis": {
             "endlinecolor": "#2a3f5f",
             "gridcolor": "white",
             "linecolor": "white",
             "minorgridcolor": "white",
             "startlinecolor": "#2a3f5f"
            },
            "type": "carpet"
           }
          ],
          "choropleth": [
           {
            "colorbar": {
             "outlinewidth": 0,
             "ticks": ""
            },
            "type": "choropleth"
           }
          ],
          "contour": [
           {
            "colorbar": {
             "outlinewidth": 0,
             "ticks": ""
            },
            "colorscale": [
             [
              0,
              "#0d0887"
             ],
             [
              0.1111111111111111,
              "#46039f"
             ],
             [
              0.2222222222222222,
              "#7201a8"
             ],
             [
              0.3333333333333333,
              "#9c179e"
             ],
             [
              0.4444444444444444,
              "#bd3786"
             ],
             [
              0.5555555555555556,
              "#d8576b"
             ],
             [
              0.6666666666666666,
              "#ed7953"
             ],
             [
              0.7777777777777778,
              "#fb9f3a"
             ],
             [
              0.8888888888888888,
              "#fdca26"
             ],
             [
              1,
              "#f0f921"
             ]
            ],
            "type": "contour"
           }
          ],
          "contourcarpet": [
           {
            "colorbar": {
             "outlinewidth": 0,
             "ticks": ""
            },
            "type": "contourcarpet"
           }
          ],
          "heatmap": [
           {
            "colorbar": {
             "outlinewidth": 0,
             "ticks": ""
            },
            "colorscale": [
             [
              0,
              "#0d0887"
             ],
             [
              0.1111111111111111,
              "#46039f"
             ],
             [
              0.2222222222222222,
              "#7201a8"
             ],
             [
              0.3333333333333333,
              "#9c179e"
             ],
             [
              0.4444444444444444,
              "#bd3786"
             ],
             [
              0.5555555555555556,
              "#d8576b"
             ],
             [
              0.6666666666666666,
              "#ed7953"
             ],
             [
              0.7777777777777778,
              "#fb9f3a"
             ],
             [
              0.8888888888888888,
              "#fdca26"
             ],
             [
              1,
              "#f0f921"
             ]
            ],
            "type": "heatmap"
           }
          ],
          "histogram": [
           {
            "marker": {
             "pattern": {
              "fillmode": "overlay",
              "size": 10,
              "solidity": 0.2
             }
            },
            "type": "histogram"
           }
          ],
          "histogram2d": [
           {
            "colorbar": {
             "outlinewidth": 0,
             "ticks": ""
            },
            "colorscale": [
             [
              0,
              "#0d0887"
             ],
             [
              0.1111111111111111,
              "#46039f"
             ],
             [
              0.2222222222222222,
              "#7201a8"
             ],
             [
              0.3333333333333333,
              "#9c179e"
             ],
             [
              0.4444444444444444,
              "#bd3786"
             ],
             [
              0.5555555555555556,
              "#d8576b"
             ],
             [
              0.6666666666666666,
              "#ed7953"
             ],
             [
              0.7777777777777778,
              "#fb9f3a"
             ],
             [
              0.8888888888888888,
              "#fdca26"
             ],
             [
              1,
              "#f0f921"
             ]
            ],
            "type": "histogram2d"
           }
          ],
          "histogram2dcontour": [
           {
            "colorbar": {
             "outlinewidth": 0,
             "ticks": ""
            },
            "colorscale": [
             [
              0,
              "#0d0887"
             ],
             [
              0.1111111111111111,
              "#46039f"
             ],
             [
              0.2222222222222222,
              "#7201a8"
             ],
             [
              0.3333333333333333,
              "#9c179e"
             ],
             [
              0.4444444444444444,
              "#bd3786"
             ],
             [
              0.5555555555555556,
              "#d8576b"
             ],
             [
              0.6666666666666666,
              "#ed7953"
             ],
             [
              0.7777777777777778,
              "#fb9f3a"
             ],
             [
              0.8888888888888888,
              "#fdca26"
             ],
             [
              1,
              "#f0f921"
             ]
            ],
            "type": "histogram2dcontour"
           }
          ],
          "mesh3d": [
           {
            "colorbar": {
             "outlinewidth": 0,
             "ticks": ""
            },
            "type": "mesh3d"
           }
          ],
          "parcoords": [
           {
            "line": {
             "colorbar": {
              "outlinewidth": 0,
              "ticks": ""
             }
            },
            "type": "parcoords"
           }
          ],
          "pie": [
           {
            "automargin": true,
            "type": "pie"
           }
          ],
          "scatter": [
           {
            "fillpattern": {
             "fillmode": "overlay",
             "size": 10,
             "solidity": 0.2
            },
            "type": "scatter"
           }
          ],
          "scatter3d": [
           {
            "line": {
             "colorbar": {
              "outlinewidth": 0,
              "ticks": ""
             }
            },
            "marker": {
             "colorbar": {
              "outlinewidth": 0,
              "ticks": ""
             }
            },
            "type": "scatter3d"
           }
          ],
          "scattercarpet": [
           {
            "marker": {
             "colorbar": {
              "outlinewidth": 0,
              "ticks": ""
             }
            },
            "type": "scattercarpet"
           }
          ],
          "scattergeo": [
           {
            "marker": {
             "colorbar": {
              "outlinewidth": 0,
              "ticks": ""
             }
            },
            "type": "scattergeo"
           }
          ],
          "scattergl": [
           {
            "marker": {
             "colorbar": {
              "outlinewidth": 0,
              "ticks": ""
             }
            },
            "type": "scattergl"
           }
          ],
          "scattermap": [
           {
            "marker": {
             "colorbar": {
              "outlinewidth": 0,
              "ticks": ""
             }
            },
            "type": "scattermap"
           }
          ],
          "scattermapbox": [
           {
            "marker": {
             "colorbar": {
              "outlinewidth": 0,
              "ticks": ""
             }
            },
            "type": "scattermapbox"
           }
          ],
          "scatterpolar": [
           {
            "marker": {
             "colorbar": {
              "outlinewidth": 0,
              "ticks": ""
             }
            },
            "type": "scatterpolar"
           }
          ],
          "scatterpolargl": [
           {
            "marker": {
             "colorbar": {
              "outlinewidth": 0,
              "ticks": ""
             }
            },
            "type": "scatterpolargl"
           }
          ],
          "scatterternary": [
           {
            "marker": {
             "colorbar": {
              "outlinewidth": 0,
              "ticks": ""
             }
            },
            "type": "scatterternary"
           }
          ],
          "surface": [
           {
            "colorbar": {
             "outlinewidth": 0,
             "ticks": ""
            },
            "colorscale": [
             [
              0,
              "#0d0887"
             ],
             [
              0.1111111111111111,
              "#46039f"
             ],
             [
              0.2222222222222222,
              "#7201a8"
             ],
             [
              0.3333333333333333,
              "#9c179e"
             ],
             [
              0.4444444444444444,
              "#bd3786"
             ],
             [
              0.5555555555555556,
              "#d8576b"
             ],
             [
              0.6666666666666666,
              "#ed7953"
             ],
             [
              0.7777777777777778,
              "#fb9f3a"
             ],
             [
              0.8888888888888888,
              "#fdca26"
             ],
             [
              1,
              "#f0f921"
             ]
            ],
            "type": "surface"
           }
          ],
          "table": [
           {
            "cells": {
             "fill": {
              "color": "#EBF0F8"
             },
             "line": {
              "color": "white"
             }
            },
            "header": {
             "fill": {
              "color": "#C8D4E3"
             },
             "line": {
              "color": "white"
             }
            },
            "type": "table"
           }
          ]
         },
         "layout": {
          "annotationdefaults": {
           "arrowcolor": "#2a3f5f",
           "arrowhead": 0,
           "arrowwidth": 1
          },
          "autotypenumbers": "strict",
          "coloraxis": {
           "colorbar": {
            "outlinewidth": 0,
            "ticks": ""
           }
          },
          "colorscale": {
           "diverging": [
            [
             0,
             "#8e0152"
            ],
            [
             0.1,
             "#c51b7d"
            ],
            [
             0.2,
             "#de77ae"
            ],
            [
             0.3,
             "#f1b6da"
            ],
            [
             0.4,
             "#fde0ef"
            ],
            [
             0.5,
             "#f7f7f7"
            ],
            [
             0.6,
             "#e6f5d0"
            ],
            [
             0.7,
             "#b8e186"
            ],
            [
             0.8,
             "#7fbc41"
            ],
            [
             0.9,
             "#4d9221"
            ],
            [
             1,
             "#276419"
            ]
           ],
           "sequential": [
            [
             0,
             "#0d0887"
            ],
            [
             0.1111111111111111,
             "#46039f"
            ],
            [
             0.2222222222222222,
             "#7201a8"
            ],
            [
             0.3333333333333333,
             "#9c179e"
            ],
            [
             0.4444444444444444,
             "#bd3786"
            ],
            [
             0.5555555555555556,
             "#d8576b"
            ],
            [
             0.6666666666666666,
             "#ed7953"
            ],
            [
             0.7777777777777778,
             "#fb9f3a"
            ],
            [
             0.8888888888888888,
             "#fdca26"
            ],
            [
             1,
             "#f0f921"
            ]
           ],
           "sequentialminus": [
            [
             0,
             "#0d0887"
            ],
            [
             0.1111111111111111,
             "#46039f"
            ],
            [
             0.2222222222222222,
             "#7201a8"
            ],
            [
             0.3333333333333333,
             "#9c179e"
            ],
            [
             0.4444444444444444,
             "#bd3786"
            ],
            [
             0.5555555555555556,
             "#d8576b"
            ],
            [
             0.6666666666666666,
             "#ed7953"
            ],
            [
             0.7777777777777778,
             "#fb9f3a"
            ],
            [
             0.8888888888888888,
             "#fdca26"
            ],
            [
             1,
             "#f0f921"
            ]
           ]
          },
          "colorway": [
           "#636efa",
           "#EF553B",
           "#00cc96",
           "#ab63fa",
           "#FFA15A",
           "#19d3f3",
           "#FF6692",
           "#B6E880",
           "#FF97FF",
           "#FECB52"
          ],
          "font": {
           "color": "#2a3f5f"
          },
          "geo": {
           "bgcolor": "white",
           "lakecolor": "white",
           "landcolor": "#E5ECF6",
           "showlakes": true,
           "showland": true,
           "subunitcolor": "white"
          },
          "hoverlabel": {
           "align": "left"
          },
          "hovermode": "closest",
          "mapbox": {
           "style": "light"
          },
          "paper_bgcolor": "white",
          "plot_bgcolor": "#E5ECF6",
          "polar": {
           "angularaxis": {
            "gridcolor": "white",
            "linecolor": "white",
            "ticks": ""
           },
           "bgcolor": "#E5ECF6",
           "radialaxis": {
            "gridcolor": "white",
            "linecolor": "white",
            "ticks": ""
           }
          },
          "scene": {
           "xaxis": {
            "backgroundcolor": "#E5ECF6",
            "gridcolor": "white",
            "gridwidth": 2,
            "linecolor": "white",
            "showbackground": true,
            "ticks": "",
            "zerolinecolor": "white"
           },
           "yaxis": {
            "backgroundcolor": "#E5ECF6",
            "gridcolor": "white",
            "gridwidth": 2,
            "linecolor": "white",
            "showbackground": true,
            "ticks": "",
            "zerolinecolor": "white"
           },
           "zaxis": {
            "backgroundcolor": "#E5ECF6",
            "gridcolor": "white",
            "gridwidth": 2,
            "linecolor": "white",
            "showbackground": true,
            "ticks": "",
            "zerolinecolor": "white"
           }
          },
          "shapedefaults": {
           "line": {
            "color": "#2a3f5f"
           }
          },
          "ternary": {
           "aaxis": {
            "gridcolor": "white",
            "linecolor": "white",
            "ticks": ""
           },
           "baxis": {
            "gridcolor": "white",
            "linecolor": "white",
            "ticks": ""
           },
           "bgcolor": "#E5ECF6",
           "caxis": {
            "gridcolor": "white",
            "linecolor": "white",
            "ticks": ""
           }
          },
          "title": {
           "x": 0.05
          },
          "xaxis": {
           "automargin": true,
           "gridcolor": "white",
           "linecolor": "white",
           "ticks": "",
           "title": {
            "standoff": 15
           },
           "zerolinecolor": "white",
           "zerolinewidth": 2
          },
          "yaxis": {
           "automargin": true,
           "gridcolor": "white",
           "linecolor": "white",
           "ticks": "",
           "title": {
            "standoff": 15
           },
           "zerolinecolor": "white",
           "zerolinewidth": 2
          }
         }
        },
        "title": {
         "font": {
          "size": 18
         },
         "text": "Cluster Proportions Over Time (Relative to Selected Clusters)"
        },
        "updatemenus": [
         {
          "buttons": [
           {
            "args": [
             {
              "visible": "legendonly"
             }
            ],
            "label": "Deselect All",
            "method": "restyle"
           },
           {
            "args": [
             {
              "visible": true
             }
            ],
            "label": "Select All",
            "method": "restyle"
           }
          ],
          "direction": "left",
          "pad": {
           "r": 10,
           "t": 10
          },
          "showactive": false,
          "type": "buttons",
          "x": 1,
          "xanchor": "right",
          "y": 1.1,
          "yanchor": "top"
         }
        ],
        "width": 1200,
        "xaxis": {
         "anchor": "y",
         "domain": [
          0,
          1
         ],
         "title": {
          "font": {
           "size": 14
          },
          "text": "Year"
         }
        },
        "yaxis": {
         "anchor": "x",
         "domain": [
          0,
          1
         ],
         "tickformat": ".1*100",
         "title": {
          "font": {
           "size": 14
          },
          "text": "Cluster Proportion"
         }
        }
       }
      }
     },
     "metadata": {},
     "output_type": "display_data"
    }
   ],
   "source": [
    "fig_perinatal"
   ]
  },
  {
   "cell_type": "markdown",
   "metadata": {
    "cellUniqueIdByVincent": "00ed1"
   },
   "source": [
    "#### main path keys:\n"
   ]
  },
  {
   "cell_type": "code",
   "execution_count": 17,
   "metadata": {
    "cellUniqueIdByVincent": "c65bb"
   },
   "outputs": [
    {
     "name": "stdout",
     "output_type": "stream",
     "text": [
      "['19', '27', '14', '6', '39', '7', '10', '0', '38']\n"
     ]
    }
   ],
   "source": [
    "file = output_dir + \"/descriptive-stats-logs/main_path_cluster_occurence.json\"\n",
    "\n",
    "with open(file, \"r\") as f:\n",
    "    cluster_occurence_dict = json.load(f)\n",
    "\n",
    "mp_keys_all = list(cluster_occurence_dict.keys())\n",
    "\n",
    "cluster_occurence_dict_min3 = {\n",
    "    k: v for k, v in cluster_occurence_dict.items() if int(v) > 2\n",
    "}\n",
    "\n",
    "mp_keys_sub = list(cluster_occurence_dict_min3.keys())\n",
    "print(mp_keys_sub)"
   ]
  },
  {
   "cell_type": "code",
   "execution_count": 18,
   "metadata": {
    "cellUniqueIdByVincent": "6e137"
   },
   "outputs": [],
   "source": [
    "# Create plotter\n",
    "plotter = InteractiveProportionsPlotter(\n",
    "    df=df,\n",
    "    cluster_label_dict=cluster_label_dict,\n",
    "    year_col=\"year\",\n",
    "    cluster_col=\"cluster_alpha0.3_k10_res0.002\",\n",
    "    output_dir=output_dir + \"/figures/\",\n",
    ")"
   ]
  },
  {
   "cell_type": "code",
   "execution_count": null,
   "metadata": {
    "cellUniqueIdByVincent": "f447b"
   },
   "outputs": [
    {
     "data": {
      "application/vnd.plotly.v1+json": {
       "config": {
        "plotlyServerURL": "https://plot.ly"
       },
       "data": [
        {
         "fillpattern": {
          "shape": ""
         },
         "hovertemplate": "<b>%{fullData.name}</b><br>Year: %{x}<br>Proportion: %{y:.2%}<extra></extra>",
         "legendgroup": "Aquatic Ecotoxicology",
         "line": {
          "color": "#636EFA"
         },
         "marker": {
          "symbol": "circle"
         },
         "mode": "lines",
         "name": "Aquatic Ecotoxicology",
         "orientation": "v",
         "showlegend": true,
         "stackgroup": "1",
         "type": "scatter",
         "x": {
          "bdata": "vgcAAL8HAADABwAAwQcAAMIHAADDBwAAxAcAAMUHAADGBwAAxwcAAMgHAADJBwAAygcAAMsHAADMBwAAzQcAAM4HAADPBwAA0AcAANEHAADSBwAA0wcAANQHAADVBwAA1gcAANcHAADYBwAA2QcAANoHAADbBwAA3AcAAN0HAADeBwAA3wcAAOAHAADhBwAA4gcAAOMHAADkBwAA5QcAAOYHAADnBwAA6AcAAOkHAAA=",
          "dtype": "i4"
         },
         "xaxis": "x",
         "y": {
          "bdata": "Hh4eHh4erj8RERERERGxPwAAAAAAAAAAAAAAAAAAAABGF1100UWnPwAAAAAAAAAA0LrBFPmsmz8AAAAAAAAAAAAAAAAAAAAAAAAAAAAAAAAgdFTgi6ufPzkFL6fg5ZQ/AAAAAAAAAAAAAAAAAAAAAIQQQgghhJA/0LrBFPmsez8RyDURyDWRPwAAAAAAAJA/kiRJkiRJgj+QnOZr9eyQP/yp8dJNYoA/khu5kRu5sT9/3Lq8A460P8Wo4W9TjKo/XwWzpBwQuT9qV6J2JWq3P9iReh2p18E/VxCTK4jJxT/Fx323FPrDPyVJkiRJksQ/KvJZN5gizz+apmmapmnKP1RGZVRGZdQ/0HBS9+Wx1T/nZRGfQCrZP+cV0Lhb59U/w+zgCCKt1z+jxSufiNncP5TXUF5Ded0/fPDBBx982D/8akykByrXP03IC1sFtdk/IPuxH/ux3z8w1w7MtQPjPw==",
          "dtype": "f8"
         },
         "yaxis": "y"
        },
        {
         "fillpattern": {
          "shape": ""
         },
         "hovertemplate": "<b>%{fullData.name}</b><br>Year: %{x}<br>Proportion: %{y:.2%}<extra></extra>",
         "legendgroup": "Risk of Prenatal Exposure (Rodents)",
         "line": {
          "color": "#EF553B"
         },
         "marker": {
          "symbol": "circle"
         },
         "mode": "lines",
         "name": "Risk of Prenatal Exposure (Rodents)",
         "orientation": "v",
         "showlegend": true,
         "stackgroup": "1",
         "type": "scatter",
         "x": {
          "bdata": "vgcAAL8HAADABwAAwQcAAMIHAADDBwAAxAcAAMUHAADGBwAAxwcAAMgHAADJBwAAygcAAMsHAADMBwAAzQcAAM4HAADPBwAA0AcAANEHAADSBwAA0wcAANQHAADVBwAA1gcAANcHAADYBwAA2QcAANoHAADbBwAA3AcAAN0HAADeBwAA3wcAAOAHAADhBwAA4gcAAOMHAADkBwAA5QcAAOYHAADnBwAA6AcAAOkHAAA=",
          "dtype": "i4"
         },
         "xaxis": "x",
         "y": {
          "bdata": "Hh4eHh4erj8AAAAAAAAAABiGYRiGYbg/AAAAAAAAAAAAAAAAAAAAAB4eHh4eHq4/0LrBFPmsqz9XEJMriMm1P3fEHXFH3LE/cB/BfQT3kT8SmYbtZnmyPzkFL6fg5YQ/5JFHHnnkwT+SJEmSJEmCP4QQQgghhLA/doMp8lk3qD8eHh4eHh6uPwAAAAAAAJg/27Zt27Ztqz/8kdN8rZ6tP3sUrkfherQ/IPiBH/iBfz/oZPoqYWy2P8Wo4W9TjKo/FDuxEzuxsz8ZnI/B+RisPwgffPDBB78/XvyJhFOatz+SsaiG2cGxP57neZ7neb4/5ippVFuuwj8URVEURVHEPxQ7sRM7scM/78tjK4KGwz8jPoFUcl7GPwMad+u8Aso/whFEWi9gyz/pUIPdmYzGP2cxncV0FsM/0UUXXXTRxT+NifRA5ey2P0B8NCEvbLU/lUu5lEu5tD/bgbl2YK6tPw==",
          "dtype": "f8"
         },
         "yaxis": "y"
        },
        {
         "fillpattern": {
          "shape": ""
         },
         "hovertemplate": "<b>%{fullData.name}</b><br>Year: %{x}<br>Proportion: %{y:.2%}<extra></extra>",
         "legendgroup": "Fluvoxamine for Depression",
         "line": {
          "color": "#00CC96"
         },
         "marker": {
          "symbol": "circle"
         },
         "mode": "lines",
         "name": "Fluvoxamine for Depression",
         "orientation": "v",
         "showlegend": true,
         "stackgroup": "1",
         "type": "scatter",
         "x": {
          "bdata": "vgcAAL8HAADABwAAwQcAAMIHAADDBwAAxAcAAMUHAADGBwAAxwcAAMgHAADJBwAAygcAAMsHAADMBwAAzQcAAM4HAADPBwAA0AcAANEHAADSBwAA0wcAANQHAADVBwAA1gcAANcHAADYBwAA2QcAANoHAADbBwAA3AcAAN0HAADeBwAA3wcAAOAHAADhBwAA4gcAAOMHAADkBwAA5QcAAOYHAADnBwAA6AcAAOkHAAA=",
          "dtype": "i4"
         },
         "xaxis": "x",
         "y": {
          "bdata": "l5aWlpaW1j/e3d3d3d3dPxiGYRiGYcg/chzHcRzH4T9ddNFFF13UP/Hw8PDw8NA/bzBFPusG0z9BTK4gJlfgP3FH3BF3xM0/MZ3FdBbT2T/bzfIkMg3bP7I+NNaHxto/pZRSSiml1D9u27Zt27bRP+ecc84558w/TJHPusEUyT8arNAZrNDJPwAAAAAAAMM/kiRJkiRJwj9qvlbPDoG7P3sUrkfhesQ/Uyu1Uiu1wj8WVHtOpq/CP8Wo4W9TjLo/keFeBbOkrD/6GJyPwfm4P9MYMI0B06g/VxCTK4jJpT/D7OAIIq2XP57neZ7neZ4/sAlB2fuaoD8QBEEQBEGgPxzCIRzCIZw/DSd1Xx5bkT8CqeS8LOJzP24QnMqEbZA/w+zgCCKtdz/rD/RICTmVPwAAAAAAAAAACB988MEHfz9nt/CrMZF+PzMwXedYI5E/FDiBEziBcz/bgbl2YK6dPw==",
          "dtype": "f8"
         },
         "yaxis": "y"
        },
        {
         "fillpattern": {
          "shape": ""
         },
         "hovertemplate": "<b>%{fullData.name}</b><br>Year: %{x}<br>Proportion: %{y:.2%}<extra></extra>",
         "legendgroup": "Escitalopram for Depression",
         "line": {
          "color": "#AB63FA"
         },
         "marker": {
          "symbol": "circle"
         },
         "mode": "lines",
         "name": "Escitalopram for Depression",
         "orientation": "v",
         "showlegend": true,
         "stackgroup": "1",
         "type": "scatter",
         "x": {
          "bdata": "vgcAAL8HAADABwAAwQcAAMIHAADDBwAAxAcAAMUHAADGBwAAxwcAAMgHAADJBwAAygcAAMsHAADMBwAAzQcAAM4HAADPBwAA0AcAANEHAADSBwAA0wcAANQHAADVBwAA1gcAANcHAADYBwAA2QcAANoHAADbBwAA3AcAAN0HAADeBwAA3wcAAOAHAADhBwAA4gcAAOMHAADkBwAA5QcAAOYHAADnBwAA6AcAAOkHAAA=",
          "dtype": "i4"
         },
         "xaxis": "x",
         "y": {
          "bdata": "l5aWlpaW1j8AAAAAAAAAABiGYRiGYcg/ewntJbSX0D900UUXXXTBPx4eHh4eHr4/0LrBFPmsmz8AAAAAAAAAAAAAAAAAAAAAcB/BfQT3kT8V+OLqBx2VPzkFL6fg5ZQ/BhZYYIEFlj+3bdu2bdumP8YYY4wxxrg/HEyRz7rBtD8RyDURyDWxPwAAAAAAAMA/AAAAAAAAwD/r2SFwYxnEP7gehetRuL4/GHqhF3qhxz9LGJsF1Z7DP2gvob2E9sI/RhdddNFFxz/C+Ricj8HJP+0b1r5h7bs/RcIpzYs/wT+Q+24p9Ce5PwAAAAAAAMA/+DUhKHtfsz908tHJRye/PxmVURmVUbk/+ZRp52DNsj+ziE8glZy3PyoTtkFwKrM/xqIaZgdHsD/lEzGbS4eqPwT3EdxHcJ8/dNFFF110oT8ElbNb+NWoP03IC1sFtak/HdRBHdRBnT/bgbl2YK6NPw==",
          "dtype": "f8"
         },
         "yaxis": "y"
        },
        {
         "fillpattern": {
          "shape": ""
         },
         "hovertemplate": "<b>%{fullData.name}</b><br>Year: %{x}<br>Proportion: %{y:.2%}<extra></extra>",
         "legendgroup": "Paroxetine Binding to Serotonin Transporter",
         "line": {
          "color": "#FFA15A"
         },
         "marker": {
          "symbol": "circle"
         },
         "mode": "lines",
         "name": "Paroxetine Binding to Serotonin Transporter",
         "orientation": "v",
         "showlegend": true,
         "stackgroup": "1",
         "type": "scatter",
         "x": {
          "bdata": "vgcAAL8HAADABwAAwQcAAMIHAADDBwAAxAcAAMUHAADGBwAAxwcAAMgHAADJBwAAygcAAMsHAADMBwAAzQcAAM4HAADPBwAA0AcAANEHAADSBwAA0wcAANQHAADVBwAA1gcAANcHAADYBwAA2QcAANoHAADbBwAA3AcAAN0HAADeBwAA3wcAAOAHAADhBwAA4gcAAOMHAADkBwAA5QcAAOYHAADnBwAA6AcAAOkHAAA=",
          "dtype": "i4"
         },
         "xaxis": "x",
         "y": {
          "bdata": "Hh4eHh4evj8RERERERHRPxiGYRiGYdg/aC+hvYT2wj900UUXXXTRP/Hw8PDw8OA/whT5rBtM4T9BTK4gJlfQPzZlTVlT1uQ/cB/BfQT30T+c5UlkGrbLP5IkSZIkSdI/qJ9++umnzz+3bdu2bdvGP7bWWmuttcY/HEyRz7rBxD8RyDURyDXBPwAAAAAAAMM/JUmSJEmSxD8icGMZlAqzP/p+arx0k7g/GHqhF3qhtz/oZPoqYWymP+UByTpXHsA/keFeBbOkrD84H4PzMTifP7kViluhuKU/dMBuj7UMfT+SsaiG2cGhPxiGYRiGYYg/sAlB2fuakD/AWgFrBayFPxdogRZogXY/vN5Gfygkdz+E/VYbQ9ONP+cV0Lhb53U/krGohtnBkT/rD/RICTl1P3AfwX0E93E/AAAAAAAAAAAAAAAAAAAAADMwXedYI4E/FDiBEziBcz8AAAAAAAAAAA==",
          "dtype": "f8"
         },
         "yaxis": "y"
        },
        {
         "fillpattern": {
          "shape": ""
         },
         "hovertemplate": "<b>%{fullData.name}</b><br>Year: %{x}<br>Proportion: %{y:.2%}<extra></extra>",
         "legendgroup": "SSRIs and the Cytochrome P450 System",
         "line": {
          "color": "#19D3F3"
         },
         "marker": {
          "symbol": "circle"
         },
         "mode": "lines",
         "name": "SSRIs and the Cytochrome P450 System",
         "orientation": "v",
         "showlegend": true,
         "stackgroup": "1",
         "type": "scatter",
         "x": {
          "bdata": "vgcAAL8HAADABwAAwQcAAMIHAADDBwAAxAcAAMUHAADGBwAAxwcAAMgHAADJBwAAygcAAMsHAADMBwAAzQcAAM4HAADPBwAA0AcAANEHAADSBwAA0wcAANQHAADVBwAA1gcAANcHAADYBwAA2QcAANoHAADbBwAA3AcAAN0HAADeBwAA3wcAAOAHAADhBwAA4gcAAOMHAADkBwAA5QcAAOYHAADnBwAA6AcAAOkHAAA=",
          "dtype": "i4"
         },
         "xaxis": "x",
         "y": {
          "bdata": "Hh4eHh4erj8RERERERHBP5IkSZIkScI/aC+hvYT2oj9GF1100UW3Px4eHh4eHp4/0LrBFPmsqz9MriAmVxDDP/QFfUFf0Kc/BPcR3Edwzz+Zhu1meRLJP9u2bdu2bcs/Zpdddtllxz9u27Zt27bRPxFCCCGEENI/8lk3mCKf1T/T0tLS0tLSPwAAAAAAgNY/kiRJkiRJ0j8PgRvLoFTYP/yp8dJNYtA/ntiJndiJzT+5dXkHHCnKP8BNMWr428Q/keFeBbOkzD+idiVqV6LGPxEREREREcE/TK4gJlcQwz9d5Zn4uO/GP2IYhmEYhsE/QGIBd/ojtj8YhmEYhmG4PxmVURmVUbk/78tjK4KGwz+ziE8glZy3P24QnMqEbbA/kPtuKfQnuT/szmS0eOWzPwT3EdxHcK8/L7rooosuuj8XfjUm0gO1P1Ru93dw2as/l3Ipl3Iptz9kIQtZyEKmPw==",
          "dtype": "f8"
         },
         "yaxis": "y"
        },
        {
         "fillpattern": {
          "shape": ""
         },
         "hovertemplate": "<b>%{fullData.name}</b><br>Year: %{x}<br>Proportion: %{y:.2%}<extra></extra>",
         "legendgroup": "Fluvoxamine for Covid 19",
         "line": {
          "color": "#FF6692"
         },
         "marker": {
          "symbol": "circle"
         },
         "mode": "lines",
         "name": "Fluvoxamine for Covid 19",
         "orientation": "v",
         "showlegend": true,
         "stackgroup": "1",
         "type": "scatter",
         "x": {
          "bdata": "vgcAAL8HAADABwAAwQcAAMIHAADDBwAAxAcAAMUHAADGBwAAxwcAAMgHAADJBwAAygcAAMsHAADMBwAAzQcAAM4HAADPBwAA0AcAANEHAADSBwAA0wcAANQHAADVBwAA1gcAANcHAADYBwAA2QcAANoHAADbBwAA3AcAAN0HAADeBwAA3wcAAOAHAADhBwAA4gcAAOMHAADkBwAA5QcAAOYHAADnBwAA6AcAAOkHAAA=",
          "dtype": "i4"
         },
         "xaxis": "x",
         "y": {
          "bdata": "AAAAAAAAAAARERERERGxPwAAAAAAAAAAAAAAAAAAAAAAAAAAAAAAAAAAAAAAAAAAAAAAAAAAAAAAAAAAAAAAAAAAAAAAAAAAAAAAAAAAAAAAAAAAAAAAADkFL6fg5YQ/AAAAAAAAAACSJEmSJEmCP4QQQgghhIA/0LrBFPmsiz8RyDURyDWBPwAAAAAAAAAAAAAAAAAAAACQnOZr9eyAP/yp8dJNYpA/GHqhF3qhlz+Khvjj1uV9P3TlAck6V34/keFeBbOkfD/6GJyPwfmIP7kViluhuKU/VxCTK4jJpT+SsaiG2cGxP57neZ7neZ4/0LrBFPmsmz8YhmEYhmGoPxQ7sRM7saM/DSd1Xx5boT+E/VYbQ9OdP24QnMqEbZA/krGohtnBoT/jlU/EbC6tP3AfwX0E98E/6aKLLrrowj92C78aE+nRP7JGIiA+mtA/l3Ipl3Ipxz+CuXZgrh3IPw==",
          "dtype": "f8"
         },
         "yaxis": "y"
        },
        {
         "fillpattern": {
          "shape": ""
         },
         "hovertemplate": "<b>%{fullData.name}</b><br>Year: %{x}<br>Proportion: %{y:.2%}<extra></extra>",
         "legendgroup": "Impact of SSRIs on Neurogenesis",
         "line": {
          "color": "#B6E880"
         },
         "marker": {
          "symbol": "circle"
         },
         "mode": "lines",
         "name": "Impact of SSRIs on Neurogenesis",
         "orientation": "v",
         "showlegend": true,
         "stackgroup": "1",
         "type": "scatter",
         "x": {
          "bdata": "vgcAAL8HAADABwAAwQcAAMIHAADDBwAAxAcAAMUHAADGBwAAxwcAAMgHAADJBwAAygcAAMsHAADMBwAAzQcAAM4HAADPBwAA0AcAANEHAADSBwAA0wcAANQHAADVBwAA1gcAANcHAADYBwAA2QcAANoHAADbBwAA3AcAAN0HAADeBwAA3wcAAOAHAADhBwAA4gcAAOMHAADkBwAA5QcAAOYHAADnBwAA6AcAAOkHAAA=",
          "dtype": "i4"
         },
         "xaxis": "x",
         "y": {
          "bdata": "AAAAAAAAAAAAAAAAAAAAAAAAAAAAAAAAAAAAAAAAAAB00UUXXXTBPwAAAAAAAAAAAAAAAAAAAAAAAAAAAAAAAAAAAAAAAAAAcB/BfQT3oT8V+OLqBx2VPzkFL6fg5YQ/AAAAAAAAAACSJEmSJEmyP4QQQgghhKA/0LrBFPmsmz8TgVwTgVyzPwAAAAAAALQ/kiRJkiRJsj+0Q+DGMii1P9v5fmq8dMM/Uyu1Uiu1wj8WVHtOpq/CPxdswRZswcY/XwWzpBwQyT+pXYnalajNP86f5fxZzs8/TK4gJlcQ0z+SsaiG2cHRP6uqqqqqqtI/bzBFPusG0z8QBEEQBEHQP97jPd7jPc4/noM1S4xPyT+6g/1WG0PDP2+dV0Djbs0/991S6E8yxj9vrP5Aj5TAP3AfwX0E98E/8MEHH3zwwT8iPVA5u4W/P1dBbQam67w/nMAJnMAJvD8p8TNK/IyyPw==",
          "dtype": "f8"
         },
         "yaxis": "y"
        },
        {
         "fillpattern": {
          "shape": ""
         },
         "hovertemplate": "<b>%{fullData.name}</b><br>Year: %{x}<br>Proportion: %{y:.2%}<extra></extra>",
         "legendgroup": "Pharmacoeconomics of SSRIs for Depression",
         "line": {
          "color": "#FF97FF"
         },
         "marker": {
          "symbol": "circle"
         },
         "mode": "lines",
         "name": "Pharmacoeconomics of SSRIs for Depression",
         "orientation": "v",
         "showlegend": true,
         "stackgroup": "1",
         "type": "scatter",
         "x": {
          "bdata": "vgcAAL8HAADABwAAwQcAAMIHAADDBwAAxAcAAMUHAADGBwAAxwcAAMgHAADJBwAAygcAAMsHAADMBwAAzQcAAM4HAADPBwAA0AcAANEHAADSBwAA0wcAANQHAADVBwAA1gcAANcHAADYBwAA2QcAANoHAADbBwAA3AcAAN0HAADeBwAA3wcAAOAHAADhBwAA4gcAAOMHAADkBwAA5QcAAOYHAADnBwAA6AcAAOkHAAA=",
          "dtype": "i4"
         },
         "xaxis": "x",
         "y": {
          "bdata": "AAAAAAAAAAAAAAAAAAAAAAAAAAAAAAAAAAAAAAAAAAAAAAAAAAAAAAAAAAAAAAAAAAAAAAAAAAAAAAAAAAAAAAAAAAAAAAAAAAAAAAAAAAAV+OLqBx2VPzkFL6fg5YQ/BhZYYIEFtj9JkiRJkiTBP8YYY4wxxrg/6wZT5LNuwD+SJEmSJEnCPwAAAAAAALw/27Zt27Ztwz/8kdN8rZ69P3npJjEIrLw/mpmZmZmZuT+uyzvgSNHAP+tceUCyzsU/ePMI1Wfauj+J2pWoXYm6P3sdqdeRer0/QUyuICZXsD/D7OAIIq23PxiGYRiGYbg/+DUhKHtfsz9oL6G9hPayPxdogRZogZY/a5YYnzLtnD9D0x3st9qoP6QY6i9HpKg/w+zgCCKtlz/gF27tjdWfPyivobyG8oo/CB988MEHjz9nt/CrMZF+P03IC1sFtYk/FDiBEziBcz8AAAAAAAAAAA==",
          "dtype": "f8"
         },
         "yaxis": "y"
        }
       ],
       "layout": {
        "height": 600,
        "hovermode": "closest",
        "legend": {
         "font": {
          "size": 12
         },
         "orientation": "v",
         "title": {
          "font": {
           "size": 14
          },
          "text": "Cluster Labels"
         },
         "tracegroupgap": 0,
         "traceorder": "reversed",
         "x": 1.02,
         "xanchor": "left",
         "y": 1,
         "yanchor": "top"
        },
        "margin": {
         "r": 150,
         "t": 60
        },
        "plot_bgcolor": "white",
        "template": {
         "data": {
          "bar": [
           {
            "error_x": {
             "color": "#2a3f5f"
            },
            "error_y": {
             "color": "#2a3f5f"
            },
            "marker": {
             "line": {
              "color": "#E5ECF6",
              "width": 0.5
             },
             "pattern": {
              "fillmode": "overlay",
              "size": 10,
              "solidity": 0.2
             }
            },
            "type": "bar"
           }
          ],
          "barpolar": [
           {
            "marker": {
             "line": {
              "color": "#E5ECF6",
              "width": 0.5
             },
             "pattern": {
              "fillmode": "overlay",
              "size": 10,
              "solidity": 0.2
             }
            },
            "type": "barpolar"
           }
          ],
          "carpet": [
           {
            "aaxis": {
             "endlinecolor": "#2a3f5f",
             "gridcolor": "white",
             "linecolor": "white",
             "minorgridcolor": "white",
             "startlinecolor": "#2a3f5f"
            },
            "baxis": {
             "endlinecolor": "#2a3f5f",
             "gridcolor": "white",
             "linecolor": "white",
             "minorgridcolor": "white",
             "startlinecolor": "#2a3f5f"
            },
            "type": "carpet"
           }
          ],
          "choropleth": [
           {
            "colorbar": {
             "outlinewidth": 0,
             "ticks": ""
            },
            "type": "choropleth"
           }
          ],
          "contour": [
           {
            "colorbar": {
             "outlinewidth": 0,
             "ticks": ""
            },
            "colorscale": [
             [
              0,
              "#0d0887"
             ],
             [
              0.1111111111111111,
              "#46039f"
             ],
             [
              0.2222222222222222,
              "#7201a8"
             ],
             [
              0.3333333333333333,
              "#9c179e"
             ],
             [
              0.4444444444444444,
              "#bd3786"
             ],
             [
              0.5555555555555556,
              "#d8576b"
             ],
             [
              0.6666666666666666,
              "#ed7953"
             ],
             [
              0.7777777777777778,
              "#fb9f3a"
             ],
             [
              0.8888888888888888,
              "#fdca26"
             ],
             [
              1,
              "#f0f921"
             ]
            ],
            "type": "contour"
           }
          ],
          "contourcarpet": [
           {
            "colorbar": {
             "outlinewidth": 0,
             "ticks": ""
            },
            "type": "contourcarpet"
           }
          ],
          "heatmap": [
           {
            "colorbar": {
             "outlinewidth": 0,
             "ticks": ""
            },
            "colorscale": [
             [
              0,
              "#0d0887"
             ],
             [
              0.1111111111111111,
              "#46039f"
             ],
             [
              0.2222222222222222,
              "#7201a8"
             ],
             [
              0.3333333333333333,
              "#9c179e"
             ],
             [
              0.4444444444444444,
              "#bd3786"
             ],
             [
              0.5555555555555556,
              "#d8576b"
             ],
             [
              0.6666666666666666,
              "#ed7953"
             ],
             [
              0.7777777777777778,
              "#fb9f3a"
             ],
             [
              0.8888888888888888,
              "#fdca26"
             ],
             [
              1,
              "#f0f921"
             ]
            ],
            "type": "heatmap"
           }
          ],
          "histogram": [
           {
            "marker": {
             "pattern": {
              "fillmode": "overlay",
              "size": 10,
              "solidity": 0.2
             }
            },
            "type": "histogram"
           }
          ],
          "histogram2d": [
           {
            "colorbar": {
             "outlinewidth": 0,
             "ticks": ""
            },
            "colorscale": [
             [
              0,
              "#0d0887"
             ],
             [
              0.1111111111111111,
              "#46039f"
             ],
             [
              0.2222222222222222,
              "#7201a8"
             ],
             [
              0.3333333333333333,
              "#9c179e"
             ],
             [
              0.4444444444444444,
              "#bd3786"
             ],
             [
              0.5555555555555556,
              "#d8576b"
             ],
             [
              0.6666666666666666,
              "#ed7953"
             ],
             [
              0.7777777777777778,
              "#fb9f3a"
             ],
             [
              0.8888888888888888,
              "#fdca26"
             ],
             [
              1,
              "#f0f921"
             ]
            ],
            "type": "histogram2d"
           }
          ],
          "histogram2dcontour": [
           {
            "colorbar": {
             "outlinewidth": 0,
             "ticks": ""
            },
            "colorscale": [
             [
              0,
              "#0d0887"
             ],
             [
              0.1111111111111111,
              "#46039f"
             ],
             [
              0.2222222222222222,
              "#7201a8"
             ],
             [
              0.3333333333333333,
              "#9c179e"
             ],
             [
              0.4444444444444444,
              "#bd3786"
             ],
             [
              0.5555555555555556,
              "#d8576b"
             ],
             [
              0.6666666666666666,
              "#ed7953"
             ],
             [
              0.7777777777777778,
              "#fb9f3a"
             ],
             [
              0.8888888888888888,
              "#fdca26"
             ],
             [
              1,
              "#f0f921"
             ]
            ],
            "type": "histogram2dcontour"
           }
          ],
          "mesh3d": [
           {
            "colorbar": {
             "outlinewidth": 0,
             "ticks": ""
            },
            "type": "mesh3d"
           }
          ],
          "parcoords": [
           {
            "line": {
             "colorbar": {
              "outlinewidth": 0,
              "ticks": ""
             }
            },
            "type": "parcoords"
           }
          ],
          "pie": [
           {
            "automargin": true,
            "type": "pie"
           }
          ],
          "scatter": [
           {
            "fillpattern": {
             "fillmode": "overlay",
             "size": 10,
             "solidity": 0.2
            },
            "type": "scatter"
           }
          ],
          "scatter3d": [
           {
            "line": {
             "colorbar": {
              "outlinewidth": 0,
              "ticks": ""
             }
            },
            "marker": {
             "colorbar": {
              "outlinewidth": 0,
              "ticks": ""
             }
            },
            "type": "scatter3d"
           }
          ],
          "scattercarpet": [
           {
            "marker": {
             "colorbar": {
              "outlinewidth": 0,
              "ticks": ""
             }
            },
            "type": "scattercarpet"
           }
          ],
          "scattergeo": [
           {
            "marker": {
             "colorbar": {
              "outlinewidth": 0,
              "ticks": ""
             }
            },
            "type": "scattergeo"
           }
          ],
          "scattergl": [
           {
            "marker": {
             "colorbar": {
              "outlinewidth": 0,
              "ticks": ""
             }
            },
            "type": "scattergl"
           }
          ],
          "scattermap": [
           {
            "marker": {
             "colorbar": {
              "outlinewidth": 0,
              "ticks": ""
             }
            },
            "type": "scattermap"
           }
          ],
          "scattermapbox": [
           {
            "marker": {
             "colorbar": {
              "outlinewidth": 0,
              "ticks": ""
             }
            },
            "type": "scattermapbox"
           }
          ],
          "scatterpolar": [
           {
            "marker": {
             "colorbar": {
              "outlinewidth": 0,
              "ticks": ""
             }
            },
            "type": "scatterpolar"
           }
          ],
          "scatterpolargl": [
           {
            "marker": {
             "colorbar": {
              "outlinewidth": 0,
              "ticks": ""
             }
            },
            "type": "scatterpolargl"
           }
          ],
          "scatterternary": [
           {
            "marker": {
             "colorbar": {
              "outlinewidth": 0,
              "ticks": ""
             }
            },
            "type": "scatterternary"
           }
          ],
          "surface": [
           {
            "colorbar": {
             "outlinewidth": 0,
             "ticks": ""
            },
            "colorscale": [
             [
              0,
              "#0d0887"
             ],
             [
              0.1111111111111111,
              "#46039f"
             ],
             [
              0.2222222222222222,
              "#7201a8"
             ],
             [
              0.3333333333333333,
              "#9c179e"
             ],
             [
              0.4444444444444444,
              "#bd3786"
             ],
             [
              0.5555555555555556,
              "#d8576b"
             ],
             [
              0.6666666666666666,
              "#ed7953"
             ],
             [
              0.7777777777777778,
              "#fb9f3a"
             ],
             [
              0.8888888888888888,
              "#fdca26"
             ],
             [
              1,
              "#f0f921"
             ]
            ],
            "type": "surface"
           }
          ],
          "table": [
           {
            "cells": {
             "fill": {
              "color": "#EBF0F8"
             },
             "line": {
              "color": "white"
             }
            },
            "header": {
             "fill": {
              "color": "#C8D4E3"
             },
             "line": {
              "color": "white"
             }
            },
            "type": "table"
           }
          ]
         },
         "layout": {
          "annotationdefaults": {
           "arrowcolor": "#2a3f5f",
           "arrowhead": 0,
           "arrowwidth": 1
          },
          "autotypenumbers": "strict",
          "coloraxis": {
           "colorbar": {
            "outlinewidth": 0,
            "ticks": ""
           }
          },
          "colorscale": {
           "diverging": [
            [
             0,
             "#8e0152"
            ],
            [
             0.1,
             "#c51b7d"
            ],
            [
             0.2,
             "#de77ae"
            ],
            [
             0.3,
             "#f1b6da"
            ],
            [
             0.4,
             "#fde0ef"
            ],
            [
             0.5,
             "#f7f7f7"
            ],
            [
             0.6,
             "#e6f5d0"
            ],
            [
             0.7,
             "#b8e186"
            ],
            [
             0.8,
             "#7fbc41"
            ],
            [
             0.9,
             "#4d9221"
            ],
            [
             1,
             "#276419"
            ]
           ],
           "sequential": [
            [
             0,
             "#0d0887"
            ],
            [
             0.1111111111111111,
             "#46039f"
            ],
            [
             0.2222222222222222,
             "#7201a8"
            ],
            [
             0.3333333333333333,
             "#9c179e"
            ],
            [
             0.4444444444444444,
             "#bd3786"
            ],
            [
             0.5555555555555556,
             "#d8576b"
            ],
            [
             0.6666666666666666,
             "#ed7953"
            ],
            [
             0.7777777777777778,
             "#fb9f3a"
            ],
            [
             0.8888888888888888,
             "#fdca26"
            ],
            [
             1,
             "#f0f921"
            ]
           ],
           "sequentialminus": [
            [
             0,
             "#0d0887"
            ],
            [
             0.1111111111111111,
             "#46039f"
            ],
            [
             0.2222222222222222,
             "#7201a8"
            ],
            [
             0.3333333333333333,
             "#9c179e"
            ],
            [
             0.4444444444444444,
             "#bd3786"
            ],
            [
             0.5555555555555556,
             "#d8576b"
            ],
            [
             0.6666666666666666,
             "#ed7953"
            ],
            [
             0.7777777777777778,
             "#fb9f3a"
            ],
            [
             0.8888888888888888,
             "#fdca26"
            ],
            [
             1,
             "#f0f921"
            ]
           ]
          },
          "colorway": [
           "#636efa",
           "#EF553B",
           "#00cc96",
           "#ab63fa",
           "#FFA15A",
           "#19d3f3",
           "#FF6692",
           "#B6E880",
           "#FF97FF",
           "#FECB52"
          ],
          "font": {
           "color": "#2a3f5f"
          },
          "geo": {
           "bgcolor": "white",
           "lakecolor": "white",
           "landcolor": "#E5ECF6",
           "showlakes": true,
           "showland": true,
           "subunitcolor": "white"
          },
          "hoverlabel": {
           "align": "left"
          },
          "hovermode": "closest",
          "mapbox": {
           "style": "light"
          },
          "paper_bgcolor": "white",
          "plot_bgcolor": "#E5ECF6",
          "polar": {
           "angularaxis": {
            "gridcolor": "white",
            "linecolor": "white",
            "ticks": ""
           },
           "bgcolor": "#E5ECF6",
           "radialaxis": {
            "gridcolor": "white",
            "linecolor": "white",
            "ticks": ""
           }
          },
          "scene": {
           "xaxis": {
            "backgroundcolor": "#E5ECF6",
            "gridcolor": "white",
            "gridwidth": 2,
            "linecolor": "white",
            "showbackground": true,
            "ticks": "",
            "zerolinecolor": "white"
           },
           "yaxis": {
            "backgroundcolor": "#E5ECF6",
            "gridcolor": "white",
            "gridwidth": 2,
            "linecolor": "white",
            "showbackground": true,
            "ticks": "",
            "zerolinecolor": "white"
           },
           "zaxis": {
            "backgroundcolor": "#E5ECF6",
            "gridcolor": "white",
            "gridwidth": 2,
            "linecolor": "white",
            "showbackground": true,
            "ticks": "",
            "zerolinecolor": "white"
           }
          },
          "shapedefaults": {
           "line": {
            "color": "#2a3f5f"
           }
          },
          "ternary": {
           "aaxis": {
            "gridcolor": "white",
            "linecolor": "white",
            "ticks": ""
           },
           "baxis": {
            "gridcolor": "white",
            "linecolor": "white",
            "ticks": ""
           },
           "bgcolor": "#E5ECF6",
           "caxis": {
            "gridcolor": "white",
            "linecolor": "white",
            "ticks": ""
           }
          },
          "title": {
           "x": 0.05
          },
          "xaxis": {
           "automargin": true,
           "gridcolor": "white",
           "linecolor": "white",
           "ticks": "",
           "title": {
            "standoff": 15
           },
           "zerolinecolor": "white",
           "zerolinewidth": 2
          },
          "yaxis": {
           "automargin": true,
           "gridcolor": "white",
           "linecolor": "white",
           "ticks": "",
           "title": {
            "standoff": 15
           },
           "zerolinecolor": "white",
           "zerolinewidth": 2
          }
         }
        },
        "title": {
         "font": {
          "size": 18
         }
        },
        "width": 1200,
        "xaxis": {
         "anchor": "y",
         "domain": [
          0,
          1
         ],
         "title": {
          "font": {
           "size": 14
          },
          "text": "Year"
         }
        },
        "yaxis": {
         "anchor": "x",
         "domain": [
          0,
          1
         ],
         "tickformat": ".1*100",
         "title": {
          "font": {
           "size": 14
          },
          "text": "Cluster Proportion"
         }
        }
       }
      }
     },
     "metadata": {},
     "output_type": "display_data"
    }
   ],
   "source": [
    "# Plot with subset of clusters, normalized by subset\n",
    "\n",
    "mp_subset = plotter.plot_proportions(\n",
    "    cluster_subset_list=mp_keys_sub,\n",
    "    figsize=(12, 6),\n",
    "    title=\"Main Path Clusters Progression (Relative to All Selected Clusters)\",\n",
    "    # sort_clusters=True,\n",
    "    show_buttons=True,\n",
    "    proportions_total=\"subset\",\n",
    "    save=True,\n",
    "    filename=\"../paper-output/mainpath_interactive_clusterprogression.html\",\n",
    "    color_palette=[\"#1f77b4\", \"#ff7f0e\"],  # Custom colors\n",
    ")\n",
    "\n",
    "mp_subset"
   ]
  },
  {
   "cell_type": "code",
   "execution_count": null,
   "metadata": {
    "cellUniqueIdByVincent": "9fa76"
   },
   "outputs": [],
   "source": [
    "mp_subset_static = plotter.plot_proportions(\n",
    "    cluster_subset_list=mp_keys_sub,\n",
    "    figsize=(12, 6),\n",
    "    # title=\"Main Path Clusters Progression (Relative to All Selected Clusters)\",\n",
    "    title=\"\",\n",
    "    # sort_clusters=True,\n",
    "    show_buttons=False,\n",
    "    proportions_total=\"subset\",\n",
    "    save=False,\n",
    "    filename=\"../paper-output/mainpath_static_clusterprogression.html\",\n",
    "    color_palette=[\"#1f77b4\", \"#ff7f0e\"],  # Custom colors\n",
    ")\n",
    "plotter.save_figure_as_png(\n",
    "    mp_subset_static,\n",
    "    output_dir + \"/paper-output/mainpath_topic_clusterprogression.png\",\n",
    "    width=1500,\n",
    "    height=900,\n",
    "    dpi=500,\n",
    ")"
   ]
  },
  {
   "cell_type": "markdown",
   "metadata": {
    "cellUniqueIdByVincent": "39d8f"
   },
   "source": [
    "# Screenshot Figure\n"
   ]
  },
  {
   "cell_type": "code",
   "execution_count": null,
   "metadata": {
    "cellUniqueIdByVincent": "edc0d"
   },
   "outputs": [],
   "source": [
    "\"/Users/jlq293/Projects/PhD project/02 Project/Study 1/BibliometricAnalysis/report/manuscripts/figs/figure3a_prenatal1982to2010.png\""
   ]
  },
  {
   "cell_type": "code",
   "execution_count": 6,
   "metadata": {
    "cellUniqueIdByVincent": "732ce"
   },
   "outputs": [
    {
     "data": {
      "image/png": "[encoded data removed]",
      "text/plain": [
       "<Figure size 1169x827 with 2 Axes>"
      ]
     },
     "metadata": {},
     "output_type": "display_data"
    }
   ],
   "source": [
    "import matplotlib.pyplot as plt\n",
    "from PIL import Image\n",
    "\n",
    "# Set font to Arial\n",
    "plt.rcParams[\"font.family\"] = \"Arial\"\n",
    "\n",
    "fig, (ax1, ax2) = plt.subplots(2, 1, figsize=(11.69, 8.27))  # A4 horizontal dimensions\n",
    "img1 = Image.open(\n",
    "    python_path + \"/report/manuscripts/figs/notIncl/figure4a_prenatal1982to2010.png\"\n",
    ")\n",
    "img2 = Image.open(\n",
    "    python_path + \"/report/manuscripts/figs/notIncl/figure4b_prenatal1982to2025.png\"\n",
    ")\n",
    "\n",
    "ax1.imshow(img1)\n",
    "ax1.text(\n",
    "    0.02,\n",
    "    1.1,\n",
    "    \"(a)\",\n",
    "    fontsize=12,\n",
    "    fontweight=\"bold\",\n",
    "    transform=ax1.transAxes,\n",
    "    verticalalignment=\"top\",\n",
    "    horizontalalignment=\"left\",\n",
    ")\n",
    "ax1.axis(\"off\")\n",
    "\n",
    "ax2.imshow(img2)\n",
    "ax2.text(\n",
    "    0.02,\n",
    "    1.1,\n",
    "    \"(b)\",\n",
    "    fontsize=12,\n",
    "    fontweight=\"bold\",\n",
    "    transform=ax2.transAxes,\n",
    "    verticalalignment=\"top\",\n",
    "    horizontalalignment=\"left\",\n",
    ")\n",
    "ax2.axis(\"off\")\n",
    "\n",
    "plt.tight_layout()\n",
    "plt.savefig(\n",
    "    python_path + \"/report/manuscripts/figs/figure4ab_prenatal_comb.png\",\n",
    "    dpi=400,\n",
    "    bbox_inches=\"tight\",\n",
    ")"
   ]
  }
 ],
 "metadata": {
  "kernelspec": {
   "display_name": "bibliometrics",
   "language": "python",
   "name": "python3"
  },
  "language_info": {
   "codemirror_mode": {
    "name": "ipython",
    "version": 3
   },
   "file_extension": ".py",
   "mimetype": "text/x-python",
   "name": "python",
   "nbconvert_exporter": "python",
   "pygments_lexer": "ipython3",
   "version": "3.11.8"
  },
  "vincent": {
   "sessionId": "03375207bb9d0a50ab5b3904_2025-06-16T09-27-07-874Z"
  }
 },
 "nbformat": 4,
 "nbformat_minor": 2
}
