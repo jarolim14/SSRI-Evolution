{
 "cells": [
  {
   "cell_type": "code",
   "execution_count": 2,
   "metadata": {},
   "outputs": [],
   "source": [
    "import matplotlib.pyplot as plt\n",
    "import colorcet as cc\n",
    "import networkx as nx\n",
    "import pandas as pd\n",
    "import plotly.graph_objects as go\n",
    "import sys\n",
    "\n",
    "sys.path.append(\"/Users/jlq293/Projects/Study-1-Bibliometrics/src/main_path/\")\n",
    "\n",
    "from MainPathReader import MainPathReader\n",
    "from MainPathDataAssigner import MainPathDataAssigner"
   ]
  },
  {
   "cell_type": "code",
   "execution_count": 4,
   "metadata": {},
   "outputs": [
    {
     "name": "stdout",
     "output_type": "stream",
     "text": [
      "DiGraph with 176 nodes and 214 edges\n"
     ]
    }
   ],
   "source": [
    "p = \"../data/06-clustered-df/alpha0.3_k10_res0.002.pkl\"\n",
    "df = pd.read_pickle(p)\n",
    "\n",
    "path_to_main_path = (\n",
    "    \"../data/08-main-paths/20. Key-Route Global Main Path [225-275] of N2 (176).net\"\n",
    ")\n",
    "mp_reader = MainPathReader(\n",
    "    path_to_main_path, node_attributes=[\"eid\", \"unique_auth_year\"]\n",
    ")\n",
    "Gmp = mp_reader.get_graph()"
   ]
  },
  {
   "cell_type": "code",
   "execution_count": 9,
   "metadata": {},
   "outputs": [
    {
     "name": "stdout",
     "output_type": "stream",
     "text": [
      "('1', {'label': '\"family_2_62\"', 'eid': '2-s2.0-0020047901;2-s2.0-0019989539', 'unique_auth_year': 'Aagaard_2018;AbdelRazaq_2007', 'title': 'Studies on Acute Toxicity and Drug Levels of Citalopram in the Dog;Citalopram, a selective serotonin reuptake inhibitor: Clinical antidepressive and long-term effect - a phase II study', 'citedby_count': '34;61', 'doi': '10.1111/j.1600-0773.1982.tb00959.x;10.1007/BF00464566', 'year': '1982;1982', 'cluster_alpha0.3_k20_res0.006': 'nan;nan', 'centrality_alpha0.3_k20_res0.006': 'nan;nan', 'cluster_alpha0.3_k10_res0.002': '41;12', 'centrality_alpha0.3_k10_res0.002': '0.10131614871010897;0.3020795044519523'})\n",
      "Nr of clusters: 34\n"
     ]
    }
   ],
   "source": [
    "attr_to_assign = [\n",
    "    \"title\",\n",
    "    \"citedby_count\",\n",
    "    \"unique_auth_year\",\n",
    "    \"doi\",\n",
    "    \"year\",\n",
    "    \"cluster_alpha0.3_k10_res0.002\",\n",
    "    \"centrality_alpha0.3_k10_res0.002\",\n",
    "]\n",
    "\n",
    "data_assigner = MainPathDataAssigner(Gmp, df, attr_to_assign)\n",
    "Gmp = data_assigner.process_mp()\n",
    "print(list(Gmp.nodes(data=True))[0])\n",
    "clusters = nx.get_node_attributes(Gmp, \"cluster_alpha0.3_k10_res0.002\").values()\n",
    "print(f\"Nr of clusters: {len(set(clusters))}\")"
   ]
  },
  {
   "cell_type": "code",
   "execution_count": 26,
   "metadata": {},
   "outputs": [
    {
     "data": {
      "text/plain": [
       "2     36\n",
       "0     35\n",
       "19    24\n",
       "42    16\n",
       "10     9\n",
       "9      9\n",
       "12     8\n",
       "26     6\n",
       "70     3\n",
       "78     3\n",
       "dtype: int64"
      ]
     },
     "execution_count": 26,
     "metadata": {},
     "output_type": "execute_result"
    }
   ],
   "source": [
    "clusters\n",
    "# get value counts\n",
    "cluster_counts = pd.Series(clusters).value_counts()\n",
    "cluster_counts.head(10)"
   ]
  },
  {
   "cell_type": "code",
   "execution_count": 28,
   "metadata": {},
   "outputs": [
    {
     "data": {
      "text/plain": [
       "array(['Enantioselective analysis of citalopram and demethylcitalopram in human and rat plasma by chiral LC-MS/MS: Application to pharmacokinetics',\n",
       "       'Analysis of enantiomers of citalopram and its demethylated metabolites in plasma of depressive patients using chiral reverse-phase liquid chromatography',\n",
       "       'Citalopram - A review of pharmacological and clinical effects',\n",
       "       'Analytical procedures for the determination of the selective serotonin reuptake inhibitor antidepressant citalopram and its metabolites',\n",
       "       'Stereoselective HPLC-assay for citalopram and its metabolites',\n",
       "       'Enantiomeric separation of citalopram and its metabolites by capillary electrophoresis',\n",
       "       'Enantioselective analysis of citalopram and demethylcitalopram in human whole blood by chiral LC–MS/MS and application in forensic cases',\n",
       "       'Analytical methodologies for the enantiodetermination of citalopram and its metabolites',\n",
       "       'Citalopram: A Review of its Pharmacodynamic and Pharmacokinetic Properties, and Therapeutic Potential in Depressive Illness',\n",
       "       'Determination of the enantiomers of citalopram, its demethylated and propionic acid metabolites in human plasma by chiral HPLC'],\n",
       "      dtype=object)"
      ]
     },
     "execution_count": 28,
     "metadata": {},
     "output_type": "execute_result"
    }
   ],
   "source": [
    "df[df[\"cluster_alpha0.3_k10_res0.002\"] == 12].sort_values(\n",
    "    \"centrality_alpha0.3_k10_res0.002\", ascending=False\n",
    ").head(10)[\"title\"].values"
   ]
  }
 ],
 "metadata": {
  "kernelspec": {
   "display_name": "Study1Analysis",
   "language": "python",
   "name": "python3"
  },
  "language_info": {
   "codemirror_mode": {
    "name": "ipython",
    "version": 3
   },
   "file_extension": ".py",
   "mimetype": "text/x-python",
   "name": "python",
   "nbconvert_exporter": "python",
   "pygments_lexer": "ipython3",
   "version": "3.11.3"
  }
 },
 "nbformat": 4,
 "nbformat_minor": 2
}
