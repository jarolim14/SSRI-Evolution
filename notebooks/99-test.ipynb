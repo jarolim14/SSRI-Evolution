{
 "cells": [
  {
   "cell_type": "markdown",
   "metadata": {},
   "source": [
    "# Testing with old data"
   ]
  },
  {
   "cell_type": "code",
   "execution_count": 1,
   "metadata": {},
   "outputs": [],
   "source": [
    "import pandas as pd"
   ]
  },
  {
   "cell_type": "code",
   "execution_count": 8,
   "metadata": {},
   "outputs": [
    {
     "data": {
      "text/plain": [
       "(35153, 29)"
      ]
     },
     "execution_count": 8,
     "metadata": {},
     "output_type": "execute_result"
    }
   ],
   "source": [
    "df = pd.read_pickle(\n",
    "    \"/Users/jlq293/Projects/Study-1-Bibliometrics/data/03-interim/specter-embeddings/df_with_specter2_embeddings.pkl\"\n",
    ")\n",
    "df.shape"
   ]
  },
  {
   "cell_type": "code",
   "execution_count": 6,
   "metadata": {},
   "outputs": [
    {
     "data": {
      "text/plain": [
       "Index(['authors', 'title', 'year', 'cited_by', 'doi', 'link', 'abstract',\n",
       "       'author_keywords', 'index_keywords', 'references', 'pubmed_id',\n",
       "       'document_type', 'source', 'eid', 'journal', 'first_author', 'nameyear',\n",
       "       'unique_nameyear', 'title_abstract', 'paper_id', 'oc_refs', 'oc_dois',\n",
       "       'cr_refs', 'cr_dois', 'merged_dois', 'oc_nr_dois', 'cr_nr_dois',\n",
       "       'merged_nr_dois', 'specter2_embeddings'],\n",
       "      dtype='object')"
      ]
     },
     "execution_count": 6,
     "metadata": {},
     "output_type": "execute_result"
    }
   ],
   "source": [
    "df.columns"
   ]
  },
  {
   "cell_type": "markdown",
   "metadata": {},
   "source": [
    "# KNN"
   ]
  },
  {
   "cell_type": "code",
   "execution_count": 7,
   "metadata": {},
   "outputs": [],
   "source": [
    "from sklearn.neighbors import NearestNeighbors\n",
    "import numpy as np\n",
    "\n",
    "X = np.array(df[\"specter2_embeddings\"].tolist())\n",
    "\n",
    "# Number of neighbors\n",
    "k = 10\n",
    "\n",
    "# Initialize and fit the model\n",
    "# metric='cosine' will use cosine similarity\n",
    "knn = NearestNeighbors(n_neighbors=k, metric=\"cosine\")\n",
    "knn.fit(X)\n",
    "\n",
    "# Find k-nearest neighbors for each point\n",
    "distances, indices = knn.kneighbors(X)\n"
   ]
  },
  {
   "cell_type": "code",
   "execution_count": 18,
   "metadata": {},
   "outputs": [
    {
     "data": {
      "text/plain": [
       "array([[0.        , 0.04248786, 0.05208212, ..., 0.05725467, 0.06045407,\n",
       "        0.06075859],\n",
       "       [0.00000006, 0.0923996 , 0.09254497, ..., 0.09979272, 0.09983027,\n",
       "        0.0998652 ],\n",
       "       [0.00000018, 0.06835675, 0.06915379, ..., 0.07794213, 0.07838231,\n",
       "        0.07896042],\n",
       "       ...,\n",
       "       [0.0000003 , 0.04048586, 0.0540055 , ..., 0.06445777, 0.06479794,\n",
       "        0.06515932],\n",
       "       [0.        , 0.030954  , 0.03975713, ..., 0.04864299, 0.04924732,\n",
       "        0.05060935],\n",
       "       [0.        , 0.04249674, 0.04303199, ..., 0.0618006 , 0.06327552,\n",
       "        0.06334496]], dtype=float32)"
      ]
     },
     "execution_count": 18,
     "metadata": {},
     "output_type": "execute_result"
    }
   ],
   "source": [
    "# max similarity score\n",
    "len(distances)\n",
    "# turn off scientific notation\n",
    "np.set_printoptions(suppress=True)\n",
    "distances"
   ]
  },
  {
   "cell_type": "code",
   "execution_count": 13,
   "metadata": {},
   "outputs": [
    {
     "data": {
      "text/plain": [
       "array([[1.        , 0.95751214, 0.9479179 , ..., 0.9427453 , 0.9395459 ,\n",
       "        0.9392414 ],\n",
       "       [0.99999994, 0.9076004 , 0.907455  , ..., 0.9002073 , 0.90016973,\n",
       "        0.9001348 ],\n",
       "       [0.9999998 , 0.93164325, 0.9308462 , ..., 0.92205787, 0.9216177 ,\n",
       "        0.9210396 ],\n",
       "       ...,\n",
       "       [0.9999997 , 0.95951414, 0.9459945 , ..., 0.9355422 , 0.93520206,\n",
       "        0.9348407 ],\n",
       "       [1.        , 0.969046  , 0.96024287, ..., 0.951357  , 0.9507527 ,\n",
       "        0.94939065],\n",
       "       [1.        , 0.95750326, 0.956968  , ..., 0.9381994 , 0.9367245 ,\n",
       "        0.93665504]], dtype=float32)"
      ]
     },
     "execution_count": 13,
     "metadata": {},
     "output_type": "execute_result"
    }
   ],
   "source": [
    "similarities"
   ]
  },
  {
   "cell_type": "code",
   "execution_count": null,
   "metadata": {},
   "outputs": [],
   "source": [
    "# loop over each pair in similarty matrix and calcutee the edge weight by retrieving the cite score, multiply by alpha, and add to the "
   ]
  },
  {
   "cell_type": "code",
   "execution_count": null,
   "metadata": {},
   "outputs": [],
   "source": []
  },
  {
   "cell_type": "code",
   "execution_count": null,
   "metadata": {},
   "outputs": [],
   "source": []
  },
  {
   "cell_type": "code",
   "execution_count": 20,
   "metadata": {},
   "outputs": [
    {
     "name": "stdout",
     "output_type": "stream",
     "text": [
      "5\n",
      "10\n",
      "15\n"
     ]
    }
   ],
   "source": [
    "for i in range(5, 21, 5):\n",
    "    print(i)"
   ]
  },
  {
   "cell_type": "code",
   "execution_count": 21,
   "metadata": {},
   "outputs": [
    {
     "name": "stderr",
     "output_type": "stream",
     "text": [
      "/Users/jlq293/Projects/Study-1-Bibliometrics/.conda/lib/python3.11/site-packages/sklearn/cluster/_kmeans.py:870: FutureWarning: The default value of `n_init` will change from 10 to 'auto' in 1.4. Set the value of `n_init` explicitly to suppress the warning\n",
      "  warnings.warn(\n",
      "/Users/jlq293/Projects/Study-1-Bibliometrics/.conda/lib/python3.11/site-packages/sklearn/cluster/_kmeans.py:870: FutureWarning: The default value of `n_init` will change from 10 to 'auto' in 1.4. Set the value of `n_init` explicitly to suppress the warning\n",
      "  warnings.warn(\n",
      "/Users/jlq293/Projects/Study-1-Bibliometrics/.conda/lib/python3.11/site-packages/sklearn/cluster/_kmeans.py:870: FutureWarning: The default value of `n_init` will change from 10 to 'auto' in 1.4. Set the value of `n_init` explicitly to suppress the warning\n",
      "  warnings.warn(\n",
      "/Users/jlq293/Projects/Study-1-Bibliometrics/.conda/lib/python3.11/site-packages/sklearn/cluster/_kmeans.py:870: FutureWarning: The default value of `n_init` will change from 10 to 'auto' in 1.4. Set the value of `n_init` explicitly to suppress the warning\n",
      "  warnings.warn(\n"
     ]
    },
    {
     "data": {
      "image/png": "[encoded data removed]",
      "text/plain": [
       "<Figure size 800x400 with 1 Axes>"
      ]
     },
     "metadata": {},
     "output_type": "display_data"
    }
   ],
   "source": [
    "from sklearn.cluster import KMeans\n",
    "import matplotlib.pyplot as plt\n",
    "\n",
    "# Assuming you have a features matrix X\n",
    "\n",
    "# Range of k to try\n",
    "k_values = range(5, 21, 5)\n",
    "inertia = []\n",
    "\n",
    "for k in k_values:\n",
    "    model = KMeans(n_clusters=k, random_state=42, m)\n",
    "    model.fit(X)\n",
    "    inertia.append(model.inertia_)\n",
    "\n",
    "# Plotting the Elbow Method graph\n",
    "plt.figure(figsize=(8, 4))\n",
    "plt.plot(k_values, inertia, \"o-\")\n",
    "plt.xlabel(\"Number of clusters (k)\")\n",
    "plt.ylabel(\"Inertia\")\n",
    "plt.title(\"Elbow Method For Optimal k\")\n",
    "plt.show()"
   ]
  }
 ],
 "metadata": {
  "kernelspec": {
   "display_name": "Python 3",
   "language": "python",
   "name": "python3"
  },
  "language_info": {
   "codemirror_mode": {
    "name": "ipython",
    "version": 3
   },
   "file_extension": ".py",
   "mimetype": "text/x-python",
   "name": "python",
   "nbconvert_exporter": "python",
   "pygments_lexer": "ipython3",
   "version": "3.11.6"
  }
 },
 "nbformat": 4,
 "nbformat_minor": 2
}
