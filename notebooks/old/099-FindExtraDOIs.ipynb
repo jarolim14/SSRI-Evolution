{
 "cells": [
  {
   "cell_type": "code",
   "execution_count": 3,
   "metadata": {},
   "outputs": [],
   "source": [
    "import pandas as pd\n",
    "import warnings\n",
    "\n",
    "warnings.filterwarnings(\"ignore\")"
   ]
  },
  {
   "cell_type": "code",
   "execution_count": 4,
   "metadata": {},
   "outputs": [],
   "source": [
    "df_pubmed = pd.read_parquet(\"../data/processed/medline/medline_data_processed.parquet\")\n",
    "df_scopus = pd.read_parquet(\"../data/processed/scopus/scopus_data_processed.parquet\")"
   ]
  },
  {
   "cell_type": "code",
   "execution_count": 4,
   "metadata": {},
   "outputs": [
    {
     "name": "stdout",
     "output_type": "stream",
     "text": [
      "Number of common DOIs: 11\n",
      "Number of common PubMed IDs: 0\n"
     ]
    }
   ],
   "source": [
    "pubmed_no_nans = df_pubmed.dropna(subset=[\"doi\", \"pubmed_id\"])\n",
    "# make integer\n",
    "pubmed_no_nans[\"pubmed_id\"] = pubmed_no_nans[\"pubmed_id\"].astype(int)\n",
    "# create dictionary with doi as key and pubmed_id as value\n",
    "pubmed_dict = pubmed_no_nans.set_index(\"pubmed_id\")[\"doi\"].to_dict()\n",
    "\n",
    "# same for scopus\n",
    "scopus_no_nans = df_scopus.dropna(subset=[\"doi\", \"pubmed_id\"])\n",
    "scopus_no_nans[\"pubmed_id\"] = scopus_no_nans[\"pubmed_id\"].astype(int)\n",
    "scopus_dict = scopus_no_nans.set_index(\"pubmed_id\")[\"doi\"].to_dict()\n",
    "\n",
    "# Check if there are any DOIs in common\n",
    "common_dois = set(pubmed_dict.values()).intersection(set(scopus_dict.values()))\n",
    "\n",
    "# Check if there are any PubMed IDs in common\n",
    "common_pmid = set(pubmed_dict.keys()).intersection(set(scopus_dict.keys()))\n",
    "\n",
    "print(f\"Number of common DOIs: {len(common_dois)}\")\n",
    "print(f\"Number of common PubMed IDs: {len(common_pmid)}\")"
   ]
  },
  {
   "cell_type": "markdown",
   "metadata": {},
   "source": [
    "# PubMed\n"
   ]
  },
  {
   "cell_type": "code",
   "execution_count": 5,
   "metadata": {},
   "outputs": [
    {
     "name": "stdout",
     "output_type": "stream",
     "text": [
      "The number of missing DOIs in df_pubmed decreased from 1341 to 1341\n",
      "The number of missing DOIs in df_scopus decreased from 4463 to 4463\n"
     ]
    }
   ],
   "source": [
    "# Fill missing DOIs in df_pubmed using the mapping from df_scopus\n",
    "pm_nodoi = df_pubmed[\"doi\"].isna().sum()\n",
    "\n",
    "df_pubmed[\"doi\"] = df_pubmed.apply(\n",
    "    lambda row: scopus_dict[row[\"pubmed_id\"]]\n",
    "    if pd.isna(row[\"doi\"]) and row[\"pubmed_id\"] in scopus_dict\n",
    "    else row[\"doi\"],\n",
    "    axis=1,\n",
    ")\n",
    "\n",
    "pm_nodoi_after = df_pubmed[\"doi\"].isna().sum()\n",
    "print(\n",
    "    f\"The number of missing DOIs in df_pubmed decreased from {pm_nodoi} to {pm_nodoi_after}\"\n",
    ")\n",
    "\n",
    "# Fill missing DOIs in df_scopus using the mapping from df_pubmed\n",
    "sc_nodoi = df_scopus[\"doi\"].isna().sum()\n",
    "\n",
    "df_scopus[\"doi\"] = df_scopus.apply(\n",
    "    lambda row: pubmed_dict[row[\"pubmed_id\"]]\n",
    "    if pd.isna(row[\"doi\"]) and row[\"pubmed_id\"] in pubmed_dict\n",
    "    else row[\"doi\"],\n",
    "    axis=1,\n",
    ")\n",
    "\n",
    "sc_nodoi_after = df_scopus[\"doi\"].isna().sum()\n",
    "print(\n",
    "    f\"The number of missing DOIs in df_scopus decreased from {sc_nodoi} to {sc_nodoi_after}\"\n",
    ")"
   ]
  },
  {
   "cell_type": "code",
   "execution_count": 8,
   "metadata": {},
   "outputs": [],
   "source": [
    "from src.data.DoiFetcherFromPMID import DoiFetcherFromPMID"
   ]
  },
  {
   "cell_type": "markdown",
   "metadata": {},
   "source": [
    "for those with pmid but no doi, use the doi fetcher to get the doi\n"
   ]
  },
  {
   "cell_type": "code",
   "execution_count": 7,
   "metadata": {},
   "outputs": [
    {
     "name": "stdout",
     "output_type": "stream",
     "text": [
      "The number of missing DOIs in df_pubmed decreased from 1341 to 456\n"
     ]
    }
   ],
   "source": [
    "doi_fetcher = DoiFetcherFromPMID()\n",
    "\n",
    "pm_nodoi_prior = df_pubmed[\"doi\"].isna().sum()\n",
    "\n",
    "df_pubmed[\"doi\"] = df_pubmed.apply(\n",
    "    lambda row: doi_fetcher.fetch_doi(row[\"pubmed_id\"])\n",
    "    if pd.isna(row[\"doi\"])\n",
    "    else row[\"doi\"],\n",
    "    axis=1,\n",
    ")\n",
    "\n",
    "pm_nodoi_after = df_pubmed[\"doi\"].isna().sum()\n",
    "\n",
    "print(\n",
    "    f\"The number of missing DOIs in df_pubmed decreased from {pm_nodoi_prior} to {pm_nodoi_after}\"\n",
    ")"
   ]
  },
  {
   "cell_type": "code",
   "execution_count": 8,
   "metadata": {},
   "outputs": [],
   "source": [
    "df_pubmed.to_parquet(\n",
    "    \"../data/processed/medline/medline_data_processed_doisfetched.parquet\"\n",
    ")"
   ]
  },
  {
   "cell_type": "markdown",
   "metadata": {},
   "source": [
    "# Scopus\n"
   ]
  },
  {
   "cell_type": "code",
   "execution_count": 9,
   "metadata": {},
   "outputs": [],
   "source": [
    "df_scopus[\"pubmed_id\"] = df_scopus[\"pubmed_id\"].astype(str)\n",
    "# replace .0 with empty string\n",
    "df_scopus[\"pubmed_id\"] = df_scopus[\"pubmed_id\"].str.replace(\".0\", \"\")"
   ]
  },
  {
   "cell_type": "code",
   "execution_count": 10,
   "metadata": {},
   "outputs": [
    {
     "name": "stderr",
     "output_type": "stream",
     "text": [
      "ERROR:root:HTTP error fetching DOI from E-utilities for PMID 8220653: 429 Client Error: Too Many Requests for url: https://eutils.ncbi.nlm.nih.gov/entrez/eutils/efetch.fcgi?db=pubmed&id=8220653&retmode=xml\n",
      "ERROR:root:Error fetching DOI from pmidcite for PMID 1998131803: 'NoneType' object has no attribute 'dct'\n"
     ]
    },
    {
     "name": "stdout",
     "output_type": "stream",
     "text": [
      "404 Not Found URL[44]: https://icite.od.nih.gov/api/pubs/1998131803\n"
     ]
    },
    {
     "name": "stderr",
     "output_type": "stream",
     "text": [
      "ERROR:root:Error fetching DOI from pmidcite for PMID 2001143319: 'NoneType' object has no attribute 'dct'\n"
     ]
    },
    {
     "name": "stdout",
     "output_type": "stream",
     "text": [
      "404 Not Found URL[44]: https://icite.od.nih.gov/api/pubs/2001143319\n"
     ]
    },
    {
     "name": "stderr",
     "output_type": "stream",
     "text": [
      "Traceback (most recent call last):\n",
      "  File \"/Users/jlq293/Projects/Study-1-Bibliometrics/.conda/lib/python3.11/site-packages/urllib3/connectionpool.py\", line 404, in _make_request\n",
      "    self._validate_conn(conn)\n",
      "  File \"/Users/jlq293/Projects/Study-1-Bibliometrics/.conda/lib/python3.11/site-packages/urllib3/connectionpool.py\", line 1058, in _validate_conn\n",
      "    conn.connect()\n",
      "  File \"/Users/jlq293/Projects/Study-1-Bibliometrics/.conda/lib/python3.11/site-packages/urllib3/connection.py\", line 419, in connect\n",
      "    self.sock = ssl_wrap_socket(\n",
      "                ^^^^^^^^^^^^^^^^\n",
      "  File \"/Users/jlq293/Projects/Study-1-Bibliometrics/.conda/lib/python3.11/site-packages/urllib3/util/ssl_.py\", line 449, in ssl_wrap_socket\n",
      "    ssl_sock = _ssl_wrap_socket_impl(\n",
      "               ^^^^^^^^^^^^^^^^^^^^^^\n",
      "  File \"/Users/jlq293/Projects/Study-1-Bibliometrics/.conda/lib/python3.11/site-packages/urllib3/util/ssl_.py\", line 493, in _ssl_wrap_socket_impl\n",
      "    return ssl_context.wrap_socket(sock, server_hostname=server_hostname)\n",
      "           ^^^^^^^^^^^^^^^^^^^^^^^^^^^^^^^^^^^^^^^^^^^^^^^^^^^^^^^^^^^^^^\n",
      "  File \"/Users/jlq293/Projects/Study-1-Bibliometrics/.conda/lib/python3.11/ssl.py\", line 517, in wrap_socket\n",
      "    return self.sslsocket_class._create(\n",
      "           ^^^^^^^^^^^^^^^^^^^^^^^^^^^^^\n",
      "  File \"/Users/jlq293/Projects/Study-1-Bibliometrics/.conda/lib/python3.11/ssl.py\", line 1108, in _create\n",
      "    self.do_handshake()\n",
      "  File \"/Users/jlq293/Projects/Study-1-Bibliometrics/.conda/lib/python3.11/ssl.py\", line 1379, in do_handshake\n",
      "    self._sslobj.do_handshake()\n",
      "TimeoutError: [Errno 60] Operation timed out\n",
      "\n",
      "During handling of the above exception, another exception occurred:\n",
      "\n",
      "Traceback (most recent call last):\n",
      "  File \"/Users/jlq293/Projects/Study-1-Bibliometrics/.conda/lib/python3.11/site-packages/requests/adapters.py\", line 486, in send\n",
      "    resp = conn.urlopen(\n",
      "           ^^^^^^^^^^^^^\n",
      "  File \"/Users/jlq293/Projects/Study-1-Bibliometrics/.conda/lib/python3.11/site-packages/urllib3/connectionpool.py\", line 799, in urlopen\n",
      "    retries = retries.increment(\n",
      "              ^^^^^^^^^^^^^^^^^^\n",
      "  File \"/Users/jlq293/Projects/Study-1-Bibliometrics/.conda/lib/python3.11/site-packages/urllib3/util/retry.py\", line 550, in increment\n",
      "    raise six.reraise(type(error), error, _stacktrace)\n",
      "          ^^^^^^^^^^^^^^^^^^^^^^^^^^^^^^^^^^^^^^^^^^^^\n",
      "  File \"/Users/jlq293/Projects/Study-1-Bibliometrics/.conda/lib/python3.11/site-packages/urllib3/packages/six.py\", line 770, in reraise\n",
      "    raise value\n",
      "  File \"/Users/jlq293/Projects/Study-1-Bibliometrics/.conda/lib/python3.11/site-packages/urllib3/connectionpool.py\", line 715, in urlopen\n",
      "    httplib_response = self._make_request(\n",
      "                       ^^^^^^^^^^^^^^^^^^^\n",
      "  File \"/Users/jlq293/Projects/Study-1-Bibliometrics/.conda/lib/python3.11/site-packages/urllib3/connectionpool.py\", line 407, in _make_request\n",
      "    self._raise_timeout(err=e, url=url, timeout_value=conn.timeout)\n",
      "  File \"/Users/jlq293/Projects/Study-1-Bibliometrics/.conda/lib/python3.11/site-packages/urllib3/connectionpool.py\", line 358, in _raise_timeout\n",
      "    raise ReadTimeoutError(\n",
      "urllib3.exceptions.ReadTimeoutError: HTTPSConnectionPool(host='icite.od.nih.gov', port=443): Read timed out. (read timeout=None)\n",
      "\n",
      "During handling of the above exception, another exception occurred:\n",
      "\n",
      "Traceback (most recent call last):\n",
      "  File \"/Users/jlq293/Projects/Study-1-Bibliometrics/.conda/lib/python3.11/site-packages/pmidcite/icite/api.py\", line 111, in _send_request\n",
      "    rsp = requests.get(cmd)\n",
      "          ^^^^^^^^^^^^^^^^^\n",
      "  File \"/Users/jlq293/Projects/Study-1-Bibliometrics/.conda/lib/python3.11/site-packages/requests/api.py\", line 73, in get\n",
      "    return request(\"get\", url, params=params, **kwargs)\n",
      "           ^^^^^^^^^^^^^^^^^^^^^^^^^^^^^^^^^^^^^^^^^^^^\n",
      "  File \"/Users/jlq293/Projects/Study-1-Bibliometrics/.conda/lib/python3.11/site-packages/requests/api.py\", line 59, in request\n",
      "    return session.request(method=method, url=url, **kwargs)\n",
      "           ^^^^^^^^^^^^^^^^^^^^^^^^^^^^^^^^^^^^^^^^^^^^^^^^^\n",
      "  File \"/Users/jlq293/Projects/Study-1-Bibliometrics/.conda/lib/python3.11/site-packages/requests/sessions.py\", line 589, in request\n",
      "    resp = self.send(prep, **send_kwargs)\n",
      "           ^^^^^^^^^^^^^^^^^^^^^^^^^^^^^^\n",
      "  File \"/Users/jlq293/Projects/Study-1-Bibliometrics/.conda/lib/python3.11/site-packages/requests/sessions.py\", line 703, in send\n",
      "    r = adapter.send(request, **kwargs)\n",
      "        ^^^^^^^^^^^^^^^^^^^^^^^^^^^^^^^\n",
      "  File \"/Users/jlq293/Projects/Study-1-Bibliometrics/.conda/lib/python3.11/site-packages/requests/adapters.py\", line 532, in send\n",
      "    raise ReadTimeout(e, request=request)\n",
      "requests.exceptions.ReadTimeout: HTTPSConnectionPool(host='icite.od.nih.gov', port=443): Read timed out. (read timeout=None)\n",
      "ERROR:root:Error fetching DOI from pmidcite for PMID 12218715: **ERROR DOWNLOADING https://icite.od.nih.gov/api/pubs/12218715\n",
      "ERROR:root:HTTP error fetching DOI from E-utilities for PMID 12616965: HTTPSConnectionPool(host='eutils.ncbi.nlm.nih.gov', port=443): Read timed out. (read timeout=10)\n",
      "ERROR:root:Error fetching DOI from pmidcite for PMID 12434564: 'NoneType' object has no attribute 'dct'\n"
     ]
    },
    {
     "name": "stdout",
     "output_type": "stream",
     "text": [
      "**ERROR: ConnectionError = ('Connection aborted.', RemoteDisconnected('Remote end closed connection without response'))\n",
      "\n"
     ]
    },
    {
     "name": "stderr",
     "output_type": "stream",
     "text": [
      "ERROR:root:Error fetching DOI from pmidcite for PMID 2002150357: 'NoneType' object has no attribute 'dct'\n"
     ]
    },
    {
     "name": "stdout",
     "output_type": "stream",
     "text": [
      "404 Not Found URL[44]: https://icite.od.nih.gov/api/pubs/2002150357\n"
     ]
    },
    {
     "name": "stderr",
     "output_type": "stream",
     "text": [
      "ERROR:root:Error fetching DOI from pmidcite for PMID 2002163431: 'NoneType' object has no attribute 'dct'\n"
     ]
    },
    {
     "name": "stdout",
     "output_type": "stream",
     "text": [
      "404 Not Found URL[44]: https://icite.od.nih.gov/api/pubs/2002163431\n"
     ]
    },
    {
     "name": "stderr",
     "output_type": "stream",
     "text": [
      "ERROR:root:Error fetching DOI from pmidcite for PMID 2002163426: 'NoneType' object has no attribute 'dct'\n"
     ]
    },
    {
     "name": "stdout",
     "output_type": "stream",
     "text": [
      "404 Not Found URL[44]: https://icite.od.nih.gov/api/pubs/2002163426\n"
     ]
    },
    {
     "name": "stderr",
     "output_type": "stream",
     "text": [
      "ERROR:root:HTTP error fetching DOI from E-utilities for PMID 12429073: HTTPSConnectionPool(host='eutils.ncbi.nlm.nih.gov', port=443): Read timed out. (read timeout=10)\n",
      "ERROR:root:HTTP error fetching DOI from E-utilities for PMID 12955904: HTTPSConnectionPool(host='eutils.ncbi.nlm.nih.gov', port=443): Read timed out. (read timeout=10)\n",
      "ERROR:root:Error fetching DOI from pmidcite for PMID 15055748: 'NoneType' object has no attribute 'dct'\n"
     ]
    },
    {
     "name": "stdout",
     "output_type": "stream",
     "text": [
      "**ERROR: ConnectionError = ('Connection aborted.', RemoteDisconnected('Remote end closed connection without response'))\n",
      "\n"
     ]
    },
    {
     "name": "stderr",
     "output_type": "stream",
     "text": [
      "ERROR:root:Error fetching DOI from pmidcite for PMID 2003051576: 'NoneType' object has no attribute 'dct'\n"
     ]
    },
    {
     "name": "stdout",
     "output_type": "stream",
     "text": [
      "404 Not Found URL[44]: https://icite.od.nih.gov/api/pubs/2003051576\n"
     ]
    },
    {
     "name": "stderr",
     "output_type": "stream",
     "text": [
      "ERROR:root:Error fetching DOI from pmidcite for PMID 14608242: 'NoneType' object has no attribute 'dct'\n"
     ]
    },
    {
     "name": "stdout",
     "output_type": "stream",
     "text": [
      "**ERROR: ConnectionError = ('Connection aborted.', OSError(9, 'Bad file descriptor'))\n",
      "\n"
     ]
    },
    {
     "name": "stderr",
     "output_type": "stream",
     "text": [
      "ERROR:root:Error fetching DOI from pmidcite for PMID 15160261: 'NoneType' object has no attribute 'dct'\n"
     ]
    },
    {
     "name": "stdout",
     "output_type": "stream",
     "text": [
      "**ERROR: ConnectionError = ('Connection aborted.', OSError(9, 'Bad file descriptor'))\n",
      "\n"
     ]
    },
    {
     "name": "stderr",
     "output_type": "stream",
     "text": [
      "ERROR:root:Error fetching DOI from pmidcite for PMID 2005026906: 'NoneType' object has no attribute 'dct'\n"
     ]
    },
    {
     "name": "stdout",
     "output_type": "stream",
     "text": [
      "404 Not Found URL[44]: https://icite.od.nih.gov/api/pubs/2005026906\n"
     ]
    },
    {
     "name": "stderr",
     "output_type": "stream",
     "text": [
      "ERROR:root:HTTP error fetching DOI from E-utilities for PMID 15075045: HTTPSConnectionPool(host='eutils.ncbi.nlm.nih.gov', port=443): Read timed out. (read timeout=10)\n",
      "ERROR:root:Error fetching DOI from pmidcite for PMID 2004154443: 'NoneType' object has no attribute 'dct'\n"
     ]
    },
    {
     "name": "stdout",
     "output_type": "stream",
     "text": [
      "404 Not Found URL[44]: https://icite.od.nih.gov/api/pubs/2004154443\n"
     ]
    },
    {
     "name": "stderr",
     "output_type": "stream",
     "text": [
      "ERROR:root:Error fetching DOI from pmidcite for PMID 2004082844: 'NoneType' object has no attribute 'dct'\n"
     ]
    },
    {
     "name": "stdout",
     "output_type": "stream",
     "text": [
      "404 Not Found URL[44]: https://icite.od.nih.gov/api/pubs/2004082844\n"
     ]
    },
    {
     "name": "stderr",
     "output_type": "stream",
     "text": [
      "ERROR:root:Error fetching DOI from pmidcite for PMID 2004137986: 'NoneType' object has no attribute 'dct'\n"
     ]
    },
    {
     "name": "stdout",
     "output_type": "stream",
     "text": [
      "404 Not Found URL[44]: https://icite.od.nih.gov/api/pubs/2004137986\n"
     ]
    },
    {
     "name": "stderr",
     "output_type": "stream",
     "text": [
      "ERROR:root:Error fetching DOI from pmidcite for PMID 2004200763: 'NoneType' object has no attribute 'dct'\n"
     ]
    },
    {
     "name": "stdout",
     "output_type": "stream",
     "text": [
      "404 Not Found URL[44]: https://icite.od.nih.gov/api/pubs/2004200763\n"
     ]
    },
    {
     "name": "stderr",
     "output_type": "stream",
     "text": [
      "ERROR:root:Error fetching DOI from pmidcite for PMID 15083699: 'NoneType' object has no attribute 'dct'\n"
     ]
    },
    {
     "name": "stdout",
     "output_type": "stream",
     "text": [
      "**ERROR: ConnectionError = ('Connection aborted.', RemoteDisconnected('Remote end closed connection without response'))\n",
      "\n"
     ]
    },
    {
     "name": "stderr",
     "output_type": "stream",
     "text": [
      "ERROR:root:HTTP error fetching DOI from E-utilities for PMID 15944745: ('Connection aborted.', ConnectionResetError(54, 'Connection reset by peer'))\n",
      "ERROR:root:Error fetching DOI from pmidcite for PMID 2005095290: 'NoneType' object has no attribute 'dct'\n"
     ]
    },
    {
     "name": "stdout",
     "output_type": "stream",
     "text": [
      "404 Not Found URL[44]: https://icite.od.nih.gov/api/pubs/2005095290\n"
     ]
    },
    {
     "name": "stderr",
     "output_type": "stream",
     "text": [
      "Traceback (most recent call last):\n",
      "  File \"/Users/jlq293/Projects/Study-1-Bibliometrics/.conda/lib/python3.11/site-packages/urllib3/connectionpool.py\", line 404, in _make_request\n",
      "    self._validate_conn(conn)\n",
      "  File \"/Users/jlq293/Projects/Study-1-Bibliometrics/.conda/lib/python3.11/site-packages/urllib3/connectionpool.py\", line 1058, in _validate_conn\n",
      "    conn.connect()\n",
      "  File \"/Users/jlq293/Projects/Study-1-Bibliometrics/.conda/lib/python3.11/site-packages/urllib3/connection.py\", line 419, in connect\n",
      "    self.sock = ssl_wrap_socket(\n",
      "                ^^^^^^^^^^^^^^^^\n",
      "  File \"/Users/jlq293/Projects/Study-1-Bibliometrics/.conda/lib/python3.11/site-packages/urllib3/util/ssl_.py\", line 449, in ssl_wrap_socket\n",
      "    ssl_sock = _ssl_wrap_socket_impl(\n",
      "               ^^^^^^^^^^^^^^^^^^^^^^\n",
      "  File \"/Users/jlq293/Projects/Study-1-Bibliometrics/.conda/lib/python3.11/site-packages/urllib3/util/ssl_.py\", line 493, in _ssl_wrap_socket_impl\n",
      "    return ssl_context.wrap_socket(sock, server_hostname=server_hostname)\n",
      "           ^^^^^^^^^^^^^^^^^^^^^^^^^^^^^^^^^^^^^^^^^^^^^^^^^^^^^^^^^^^^^^\n",
      "  File \"/Users/jlq293/Projects/Study-1-Bibliometrics/.conda/lib/python3.11/ssl.py\", line 517, in wrap_socket\n",
      "    return self.sslsocket_class._create(\n",
      "           ^^^^^^^^^^^^^^^^^^^^^^^^^^^^^\n",
      "  File \"/Users/jlq293/Projects/Study-1-Bibliometrics/.conda/lib/python3.11/ssl.py\", line 1108, in _create\n",
      "    self.do_handshake()\n",
      "  File \"/Users/jlq293/Projects/Study-1-Bibliometrics/.conda/lib/python3.11/ssl.py\", line 1379, in do_handshake\n",
      "    self._sslobj.do_handshake()\n",
      "TimeoutError: [Errno 60] Operation timed out\n",
      "\n",
      "During handling of the above exception, another exception occurred:\n",
      "\n",
      "Traceback (most recent call last):\n",
      "  File \"/Users/jlq293/Projects/Study-1-Bibliometrics/.conda/lib/python3.11/site-packages/requests/adapters.py\", line 486, in send\n",
      "    resp = conn.urlopen(\n",
      "           ^^^^^^^^^^^^^\n",
      "  File \"/Users/jlq293/Projects/Study-1-Bibliometrics/.conda/lib/python3.11/site-packages/urllib3/connectionpool.py\", line 799, in urlopen\n",
      "    retries = retries.increment(\n",
      "              ^^^^^^^^^^^^^^^^^^\n",
      "  File \"/Users/jlq293/Projects/Study-1-Bibliometrics/.conda/lib/python3.11/site-packages/urllib3/util/retry.py\", line 550, in increment\n",
      "    raise six.reraise(type(error), error, _stacktrace)\n",
      "          ^^^^^^^^^^^^^^^^^^^^^^^^^^^^^^^^^^^^^^^^^^^^\n",
      "  File \"/Users/jlq293/Projects/Study-1-Bibliometrics/.conda/lib/python3.11/site-packages/urllib3/packages/six.py\", line 770, in reraise\n",
      "    raise value\n",
      "  File \"/Users/jlq293/Projects/Study-1-Bibliometrics/.conda/lib/python3.11/site-packages/urllib3/connectionpool.py\", line 715, in urlopen\n",
      "    httplib_response = self._make_request(\n",
      "                       ^^^^^^^^^^^^^^^^^^^\n",
      "  File \"/Users/jlq293/Projects/Study-1-Bibliometrics/.conda/lib/python3.11/site-packages/urllib3/connectionpool.py\", line 407, in _make_request\n",
      "    self._raise_timeout(err=e, url=url, timeout_value=conn.timeout)\n",
      "  File \"/Users/jlq293/Projects/Study-1-Bibliometrics/.conda/lib/python3.11/site-packages/urllib3/connectionpool.py\", line 358, in _raise_timeout\n",
      "    raise ReadTimeoutError(\n",
      "urllib3.exceptions.ReadTimeoutError: HTTPSConnectionPool(host='icite.od.nih.gov', port=443): Read timed out. (read timeout=None)\n",
      "\n",
      "During handling of the above exception, another exception occurred:\n",
      "\n",
      "Traceback (most recent call last):\n",
      "  File \"/Users/jlq293/Projects/Study-1-Bibliometrics/.conda/lib/python3.11/site-packages/pmidcite/icite/api.py\", line 111, in _send_request\n",
      "    rsp = requests.get(cmd)\n",
      "          ^^^^^^^^^^^^^^^^^\n",
      "  File \"/Users/jlq293/Projects/Study-1-Bibliometrics/.conda/lib/python3.11/site-packages/requests/api.py\", line 73, in get\n",
      "    return request(\"get\", url, params=params, **kwargs)\n",
      "           ^^^^^^^^^^^^^^^^^^^^^^^^^^^^^^^^^^^^^^^^^^^^\n",
      "  File \"/Users/jlq293/Projects/Study-1-Bibliometrics/.conda/lib/python3.11/site-packages/requests/api.py\", line 59, in request\n",
      "    return session.request(method=method, url=url, **kwargs)\n",
      "           ^^^^^^^^^^^^^^^^^^^^^^^^^^^^^^^^^^^^^^^^^^^^^^^^^\n",
      "  File \"/Users/jlq293/Projects/Study-1-Bibliometrics/.conda/lib/python3.11/site-packages/requests/sessions.py\", line 589, in request\n",
      "    resp = self.send(prep, **send_kwargs)\n",
      "           ^^^^^^^^^^^^^^^^^^^^^^^^^^^^^^\n",
      "  File \"/Users/jlq293/Projects/Study-1-Bibliometrics/.conda/lib/python3.11/site-packages/requests/sessions.py\", line 703, in send\n",
      "    r = adapter.send(request, **kwargs)\n",
      "        ^^^^^^^^^^^^^^^^^^^^^^^^^^^^^^^\n",
      "  File \"/Users/jlq293/Projects/Study-1-Bibliometrics/.conda/lib/python3.11/site-packages/requests/adapters.py\", line 532, in send\n",
      "    raise ReadTimeout(e, request=request)\n",
      "requests.exceptions.ReadTimeout: HTTPSConnectionPool(host='icite.od.nih.gov', port=443): Read timed out. (read timeout=None)\n",
      "ERROR:root:Error fetching DOI from pmidcite for PMID 15846605: **ERROR DOWNLOADING https://icite.od.nih.gov/api/pubs/15846605\n",
      "Traceback (most recent call last):\n",
      "  File \"/Users/jlq293/Projects/Study-1-Bibliometrics/.conda/lib/python3.11/site-packages/urllib3/connectionpool.py\", line 404, in _make_request\n",
      "    self._validate_conn(conn)\n",
      "  File \"/Users/jlq293/Projects/Study-1-Bibliometrics/.conda/lib/python3.11/site-packages/urllib3/connectionpool.py\", line 1058, in _validate_conn\n",
      "    conn.connect()\n",
      "  File \"/Users/jlq293/Projects/Study-1-Bibliometrics/.conda/lib/python3.11/site-packages/urllib3/connection.py\", line 419, in connect\n",
      "    self.sock = ssl_wrap_socket(\n",
      "                ^^^^^^^^^^^^^^^^\n",
      "  File \"/Users/jlq293/Projects/Study-1-Bibliometrics/.conda/lib/python3.11/site-packages/urllib3/util/ssl_.py\", line 449, in ssl_wrap_socket\n",
      "    ssl_sock = _ssl_wrap_socket_impl(\n",
      "               ^^^^^^^^^^^^^^^^^^^^^^\n",
      "  File \"/Users/jlq293/Projects/Study-1-Bibliometrics/.conda/lib/python3.11/site-packages/urllib3/util/ssl_.py\", line 493, in _ssl_wrap_socket_impl\n",
      "    return ssl_context.wrap_socket(sock, server_hostname=server_hostname)\n",
      "           ^^^^^^^^^^^^^^^^^^^^^^^^^^^^^^^^^^^^^^^^^^^^^^^^^^^^^^^^^^^^^^\n",
      "  File \"/Users/jlq293/Projects/Study-1-Bibliometrics/.conda/lib/python3.11/ssl.py\", line 517, in wrap_socket\n",
      "    return self.sslsocket_class._create(\n",
      "           ^^^^^^^^^^^^^^^^^^^^^^^^^^^^^\n",
      "  File \"/Users/jlq293/Projects/Study-1-Bibliometrics/.conda/lib/python3.11/ssl.py\", line 1108, in _create\n",
      "    self.do_handshake()\n",
      "  File \"/Users/jlq293/Projects/Study-1-Bibliometrics/.conda/lib/python3.11/ssl.py\", line 1379, in do_handshake\n",
      "    self._sslobj.do_handshake()\n",
      "TimeoutError: [Errno 60] Operation timed out\n",
      "\n",
      "During handling of the above exception, another exception occurred:\n",
      "\n",
      "Traceback (most recent call last):\n",
      "  File \"/Users/jlq293/Projects/Study-1-Bibliometrics/.conda/lib/python3.11/site-packages/requests/adapters.py\", line 486, in send\n",
      "    resp = conn.urlopen(\n",
      "           ^^^^^^^^^^^^^\n",
      "  File \"/Users/jlq293/Projects/Study-1-Bibliometrics/.conda/lib/python3.11/site-packages/urllib3/connectionpool.py\", line 799, in urlopen\n",
      "    retries = retries.increment(\n",
      "              ^^^^^^^^^^^^^^^^^^\n",
      "  File \"/Users/jlq293/Projects/Study-1-Bibliometrics/.conda/lib/python3.11/site-packages/urllib3/util/retry.py\", line 550, in increment\n",
      "    raise six.reraise(type(error), error, _stacktrace)\n",
      "          ^^^^^^^^^^^^^^^^^^^^^^^^^^^^^^^^^^^^^^^^^^^^\n",
      "  File \"/Users/jlq293/Projects/Study-1-Bibliometrics/.conda/lib/python3.11/site-packages/urllib3/packages/six.py\", line 770, in reraise\n",
      "    raise value\n",
      "  File \"/Users/jlq293/Projects/Study-1-Bibliometrics/.conda/lib/python3.11/site-packages/urllib3/connectionpool.py\", line 715, in urlopen\n",
      "    httplib_response = self._make_request(\n",
      "                       ^^^^^^^^^^^^^^^^^^^\n",
      "  File \"/Users/jlq293/Projects/Study-1-Bibliometrics/.conda/lib/python3.11/site-packages/urllib3/connectionpool.py\", line 407, in _make_request\n",
      "    self._raise_timeout(err=e, url=url, timeout_value=conn.timeout)\n",
      "  File \"/Users/jlq293/Projects/Study-1-Bibliometrics/.conda/lib/python3.11/site-packages/urllib3/connectionpool.py\", line 358, in _raise_timeout\n",
      "    raise ReadTimeoutError(\n",
      "urllib3.exceptions.ReadTimeoutError: HTTPSConnectionPool(host='icite.od.nih.gov', port=443): Read timed out. (read timeout=None)\n",
      "\n",
      "During handling of the above exception, another exception occurred:\n",
      "\n",
      "Traceback (most recent call last):\n",
      "  File \"/Users/jlq293/Projects/Study-1-Bibliometrics/.conda/lib/python3.11/site-packages/pmidcite/icite/api.py\", line 111, in _send_request\n",
      "    rsp = requests.get(cmd)\n",
      "          ^^^^^^^^^^^^^^^^^\n",
      "  File \"/Users/jlq293/Projects/Study-1-Bibliometrics/.conda/lib/python3.11/site-packages/requests/api.py\", line 73, in get\n",
      "    return request(\"get\", url, params=params, **kwargs)\n",
      "           ^^^^^^^^^^^^^^^^^^^^^^^^^^^^^^^^^^^^^^^^^^^^\n",
      "  File \"/Users/jlq293/Projects/Study-1-Bibliometrics/.conda/lib/python3.11/site-packages/requests/api.py\", line 59, in request\n",
      "    return session.request(method=method, url=url, **kwargs)\n",
      "           ^^^^^^^^^^^^^^^^^^^^^^^^^^^^^^^^^^^^^^^^^^^^^^^^^\n",
      "  File \"/Users/jlq293/Projects/Study-1-Bibliometrics/.conda/lib/python3.11/site-packages/requests/sessions.py\", line 589, in request\n",
      "    resp = self.send(prep, **send_kwargs)\n",
      "           ^^^^^^^^^^^^^^^^^^^^^^^^^^^^^^\n",
      "  File \"/Users/jlq293/Projects/Study-1-Bibliometrics/.conda/lib/python3.11/site-packages/requests/sessions.py\", line 703, in send\n",
      "    r = adapter.send(request, **kwargs)\n",
      "        ^^^^^^^^^^^^^^^^^^^^^^^^^^^^^^^\n",
      "  File \"/Users/jlq293/Projects/Study-1-Bibliometrics/.conda/lib/python3.11/site-packages/requests/adapters.py\", line 532, in send\n",
      "    raise ReadTimeout(e, request=request)\n",
      "requests.exceptions.ReadTimeout: HTTPSConnectionPool(host='icite.od.nih.gov', port=443): Read timed out. (read timeout=None)\n",
      "ERROR:root:Error fetching DOI from pmidcite for PMID 15663023: **ERROR DOWNLOADING https://icite.od.nih.gov/api/pubs/15663023\n",
      "ERROR:root:Error fetching DOI from pmidcite for PMID 15900091: 'NoneType' object has no attribute 'dct'\n"
     ]
    },
    {
     "name": "stdout",
     "output_type": "stream",
     "text": [
      "**ERROR: ConnectionError = ('Connection aborted.', RemoteDisconnected('Remote end closed connection without response'))\n",
      "\n"
     ]
    },
    {
     "name": "stderr",
     "output_type": "stream",
     "text": [
      "Traceback (most recent call last):\n",
      "  File \"/Users/jlq293/Projects/Study-1-Bibliometrics/.conda/lib/python3.11/site-packages/urllib3/connectionpool.py\", line 404, in _make_request\n",
      "    self._validate_conn(conn)\n",
      "  File \"/Users/jlq293/Projects/Study-1-Bibliometrics/.conda/lib/python3.11/site-packages/urllib3/connectionpool.py\", line 1058, in _validate_conn\n",
      "    conn.connect()\n",
      "  File \"/Users/jlq293/Projects/Study-1-Bibliometrics/.conda/lib/python3.11/site-packages/urllib3/connection.py\", line 419, in connect\n",
      "    self.sock = ssl_wrap_socket(\n",
      "                ^^^^^^^^^^^^^^^^\n",
      "  File \"/Users/jlq293/Projects/Study-1-Bibliometrics/.conda/lib/python3.11/site-packages/urllib3/util/ssl_.py\", line 449, in ssl_wrap_socket\n",
      "    ssl_sock = _ssl_wrap_socket_impl(\n",
      "               ^^^^^^^^^^^^^^^^^^^^^^\n",
      "  File \"/Users/jlq293/Projects/Study-1-Bibliometrics/.conda/lib/python3.11/site-packages/urllib3/util/ssl_.py\", line 493, in _ssl_wrap_socket_impl\n",
      "    return ssl_context.wrap_socket(sock, server_hostname=server_hostname)\n",
      "           ^^^^^^^^^^^^^^^^^^^^^^^^^^^^^^^^^^^^^^^^^^^^^^^^^^^^^^^^^^^^^^\n",
      "  File \"/Users/jlq293/Projects/Study-1-Bibliometrics/.conda/lib/python3.11/ssl.py\", line 517, in wrap_socket\n",
      "    return self.sslsocket_class._create(\n",
      "           ^^^^^^^^^^^^^^^^^^^^^^^^^^^^^\n",
      "  File \"/Users/jlq293/Projects/Study-1-Bibliometrics/.conda/lib/python3.11/ssl.py\", line 1108, in _create\n",
      "    self.do_handshake()\n",
      "  File \"/Users/jlq293/Projects/Study-1-Bibliometrics/.conda/lib/python3.11/ssl.py\", line 1379, in do_handshake\n",
      "    self._sslobj.do_handshake()\n",
      "TimeoutError: [Errno 60] Operation timed out\n",
      "\n",
      "During handling of the above exception, another exception occurred:\n",
      "\n",
      "Traceback (most recent call last):\n",
      "  File \"/Users/jlq293/Projects/Study-1-Bibliometrics/.conda/lib/python3.11/site-packages/requests/adapters.py\", line 486, in send\n",
      "    resp = conn.urlopen(\n",
      "           ^^^^^^^^^^^^^\n",
      "  File \"/Users/jlq293/Projects/Study-1-Bibliometrics/.conda/lib/python3.11/site-packages/urllib3/connectionpool.py\", line 799, in urlopen\n",
      "    retries = retries.increment(\n",
      "              ^^^^^^^^^^^^^^^^^^\n",
      "  File \"/Users/jlq293/Projects/Study-1-Bibliometrics/.conda/lib/python3.11/site-packages/urllib3/util/retry.py\", line 550, in increment\n",
      "    raise six.reraise(type(error), error, _stacktrace)\n",
      "          ^^^^^^^^^^^^^^^^^^^^^^^^^^^^^^^^^^^^^^^^^^^^\n",
      "  File \"/Users/jlq293/Projects/Study-1-Bibliometrics/.conda/lib/python3.11/site-packages/urllib3/packages/six.py\", line 770, in reraise\n",
      "    raise value\n",
      "  File \"/Users/jlq293/Projects/Study-1-Bibliometrics/.conda/lib/python3.11/site-packages/urllib3/connectionpool.py\", line 715, in urlopen\n",
      "    httplib_response = self._make_request(\n",
      "                       ^^^^^^^^^^^^^^^^^^^\n",
      "  File \"/Users/jlq293/Projects/Study-1-Bibliometrics/.conda/lib/python3.11/site-packages/urllib3/connectionpool.py\", line 407, in _make_request\n",
      "    self._raise_timeout(err=e, url=url, timeout_value=conn.timeout)\n",
      "  File \"/Users/jlq293/Projects/Study-1-Bibliometrics/.conda/lib/python3.11/site-packages/urllib3/connectionpool.py\", line 358, in _raise_timeout\n",
      "    raise ReadTimeoutError(\n",
      "urllib3.exceptions.ReadTimeoutError: HTTPSConnectionPool(host='icite.od.nih.gov', port=443): Read timed out. (read timeout=None)\n",
      "\n",
      "During handling of the above exception, another exception occurred:\n",
      "\n",
      "Traceback (most recent call last):\n",
      "  File \"/Users/jlq293/Projects/Study-1-Bibliometrics/.conda/lib/python3.11/site-packages/pmidcite/icite/api.py\", line 111, in _send_request\n",
      "    rsp = requests.get(cmd)\n",
      "          ^^^^^^^^^^^^^^^^^\n",
      "  File \"/Users/jlq293/Projects/Study-1-Bibliometrics/.conda/lib/python3.11/site-packages/requests/api.py\", line 73, in get\n",
      "    return request(\"get\", url, params=params, **kwargs)\n",
      "           ^^^^^^^^^^^^^^^^^^^^^^^^^^^^^^^^^^^^^^^^^^^^\n",
      "  File \"/Users/jlq293/Projects/Study-1-Bibliometrics/.conda/lib/python3.11/site-packages/requests/api.py\", line 59, in request\n",
      "    return session.request(method=method, url=url, **kwargs)\n",
      "           ^^^^^^^^^^^^^^^^^^^^^^^^^^^^^^^^^^^^^^^^^^^^^^^^^\n",
      "  File \"/Users/jlq293/Projects/Study-1-Bibliometrics/.conda/lib/python3.11/site-packages/requests/sessions.py\", line 589, in request\n",
      "    resp = self.send(prep, **send_kwargs)\n",
      "           ^^^^^^^^^^^^^^^^^^^^^^^^^^^^^^\n",
      "  File \"/Users/jlq293/Projects/Study-1-Bibliometrics/.conda/lib/python3.11/site-packages/requests/sessions.py\", line 703, in send\n",
      "    r = adapter.send(request, **kwargs)\n",
      "        ^^^^^^^^^^^^^^^^^^^^^^^^^^^^^^^\n",
      "  File \"/Users/jlq293/Projects/Study-1-Bibliometrics/.conda/lib/python3.11/site-packages/requests/adapters.py\", line 532, in send\n",
      "    raise ReadTimeout(e, request=request)\n",
      "requests.exceptions.ReadTimeout: HTTPSConnectionPool(host='icite.od.nih.gov', port=443): Read timed out. (read timeout=None)\n",
      "ERROR:root:Error fetching DOI from pmidcite for PMID 17117336: **ERROR DOWNLOADING https://icite.od.nih.gov/api/pubs/17117336\n",
      "ERROR:root:HTTP error fetching DOI from E-utilities for PMID 17211050: HTTPSConnectionPool(host='eutils.ncbi.nlm.nih.gov', port=443): Read timed out. (read timeout=10)\n",
      "ERROR:root:Error fetching DOI from pmidcite for PMID 2006111347: 'NoneType' object has no attribute 'dct'\n"
     ]
    },
    {
     "name": "stdout",
     "output_type": "stream",
     "text": [
      "404 Not Found URL[44]: https://icite.od.nih.gov/api/pubs/2006111347\n"
     ]
    },
    {
     "name": "stderr",
     "output_type": "stream",
     "text": [
      "Traceback (most recent call last):\n",
      "  File \"/Users/jlq293/Projects/Study-1-Bibliometrics/.conda/lib/python3.11/site-packages/urllib3/connectionpool.py\", line 404, in _make_request\n",
      "    self._validate_conn(conn)\n",
      "  File \"/Users/jlq293/Projects/Study-1-Bibliometrics/.conda/lib/python3.11/site-packages/urllib3/connectionpool.py\", line 1058, in _validate_conn\n",
      "    conn.connect()\n",
      "  File \"/Users/jlq293/Projects/Study-1-Bibliometrics/.conda/lib/python3.11/site-packages/urllib3/connection.py\", line 419, in connect\n",
      "    self.sock = ssl_wrap_socket(\n",
      "                ^^^^^^^^^^^^^^^^\n",
      "  File \"/Users/jlq293/Projects/Study-1-Bibliometrics/.conda/lib/python3.11/site-packages/urllib3/util/ssl_.py\", line 449, in ssl_wrap_socket\n",
      "    ssl_sock = _ssl_wrap_socket_impl(\n",
      "               ^^^^^^^^^^^^^^^^^^^^^^\n",
      "  File \"/Users/jlq293/Projects/Study-1-Bibliometrics/.conda/lib/python3.11/site-packages/urllib3/util/ssl_.py\", line 493, in _ssl_wrap_socket_impl\n",
      "    return ssl_context.wrap_socket(sock, server_hostname=server_hostname)\n",
      "           ^^^^^^^^^^^^^^^^^^^^^^^^^^^^^^^^^^^^^^^^^^^^^^^^^^^^^^^^^^^^^^\n",
      "  File \"/Users/jlq293/Projects/Study-1-Bibliometrics/.conda/lib/python3.11/ssl.py\", line 517, in wrap_socket\n",
      "    return self.sslsocket_class._create(\n",
      "           ^^^^^^^^^^^^^^^^^^^^^^^^^^^^^\n",
      "  File \"/Users/jlq293/Projects/Study-1-Bibliometrics/.conda/lib/python3.11/ssl.py\", line 1108, in _create\n",
      "    self.do_handshake()\n",
      "  File \"/Users/jlq293/Projects/Study-1-Bibliometrics/.conda/lib/python3.11/ssl.py\", line 1379, in do_handshake\n",
      "    self._sslobj.do_handshake()\n",
      "TimeoutError: [Errno 60] Operation timed out\n",
      "\n",
      "During handling of the above exception, another exception occurred:\n",
      "\n",
      "Traceback (most recent call last):\n",
      "  File \"/Users/jlq293/Projects/Study-1-Bibliometrics/.conda/lib/python3.11/site-packages/requests/adapters.py\", line 486, in send\n",
      "    resp = conn.urlopen(\n",
      "           ^^^^^^^^^^^^^\n",
      "  File \"/Users/jlq293/Projects/Study-1-Bibliometrics/.conda/lib/python3.11/site-packages/urllib3/connectionpool.py\", line 799, in urlopen\n",
      "    retries = retries.increment(\n",
      "              ^^^^^^^^^^^^^^^^^^\n",
      "  File \"/Users/jlq293/Projects/Study-1-Bibliometrics/.conda/lib/python3.11/site-packages/urllib3/util/retry.py\", line 550, in increment\n",
      "    raise six.reraise(type(error), error, _stacktrace)\n",
      "          ^^^^^^^^^^^^^^^^^^^^^^^^^^^^^^^^^^^^^^^^^^^^\n",
      "  File \"/Users/jlq293/Projects/Study-1-Bibliometrics/.conda/lib/python3.11/site-packages/urllib3/packages/six.py\", line 770, in reraise\n",
      "    raise value\n",
      "  File \"/Users/jlq293/Projects/Study-1-Bibliometrics/.conda/lib/python3.11/site-packages/urllib3/connectionpool.py\", line 715, in urlopen\n",
      "    httplib_response = self._make_request(\n",
      "                       ^^^^^^^^^^^^^^^^^^^\n",
      "  File \"/Users/jlq293/Projects/Study-1-Bibliometrics/.conda/lib/python3.11/site-packages/urllib3/connectionpool.py\", line 407, in _make_request\n",
      "    self._raise_timeout(err=e, url=url, timeout_value=conn.timeout)\n",
      "  File \"/Users/jlq293/Projects/Study-1-Bibliometrics/.conda/lib/python3.11/site-packages/urllib3/connectionpool.py\", line 358, in _raise_timeout\n",
      "    raise ReadTimeoutError(\n",
      "urllib3.exceptions.ReadTimeoutError: HTTPSConnectionPool(host='icite.od.nih.gov', port=443): Read timed out. (read timeout=None)\n",
      "\n",
      "During handling of the above exception, another exception occurred:\n",
      "\n",
      "Traceback (most recent call last):\n",
      "  File \"/Users/jlq293/Projects/Study-1-Bibliometrics/.conda/lib/python3.11/site-packages/pmidcite/icite/api.py\", line 111, in _send_request\n",
      "    rsp = requests.get(cmd)\n",
      "          ^^^^^^^^^^^^^^^^^\n",
      "  File \"/Users/jlq293/Projects/Study-1-Bibliometrics/.conda/lib/python3.11/site-packages/requests/api.py\", line 73, in get\n",
      "    return request(\"get\", url, params=params, **kwargs)\n",
      "           ^^^^^^^^^^^^^^^^^^^^^^^^^^^^^^^^^^^^^^^^^^^^\n",
      "  File \"/Users/jlq293/Projects/Study-1-Bibliometrics/.conda/lib/python3.11/site-packages/requests/api.py\", line 59, in request\n",
      "    return session.request(method=method, url=url, **kwargs)\n",
      "           ^^^^^^^^^^^^^^^^^^^^^^^^^^^^^^^^^^^^^^^^^^^^^^^^^\n",
      "  File \"/Users/jlq293/Projects/Study-1-Bibliometrics/.conda/lib/python3.11/site-packages/requests/sessions.py\", line 589, in request\n",
      "    resp = self.send(prep, **send_kwargs)\n",
      "           ^^^^^^^^^^^^^^^^^^^^^^^^^^^^^^\n",
      "  File \"/Users/jlq293/Projects/Study-1-Bibliometrics/.conda/lib/python3.11/site-packages/requests/sessions.py\", line 703, in send\n",
      "    r = adapter.send(request, **kwargs)\n",
      "        ^^^^^^^^^^^^^^^^^^^^^^^^^^^^^^^\n",
      "  File \"/Users/jlq293/Projects/Study-1-Bibliometrics/.conda/lib/python3.11/site-packages/requests/adapters.py\", line 532, in send\n",
      "    raise ReadTimeout(e, request=request)\n",
      "requests.exceptions.ReadTimeout: HTTPSConnectionPool(host='icite.od.nih.gov', port=443): Read timed out. (read timeout=None)\n",
      "ERROR:root:Error fetching DOI from pmidcite for PMID 16636723: **ERROR DOWNLOADING https://icite.od.nih.gov/api/pubs/16636723\n",
      "Traceback (most recent call last):\n",
      "  File \"/Users/jlq293/Projects/Study-1-Bibliometrics/.conda/lib/python3.11/site-packages/urllib3/connectionpool.py\", line 404, in _make_request\n",
      "    self._validate_conn(conn)\n",
      "  File \"/Users/jlq293/Projects/Study-1-Bibliometrics/.conda/lib/python3.11/site-packages/urllib3/connectionpool.py\", line 1058, in _validate_conn\n",
      "    conn.connect()\n",
      "  File \"/Users/jlq293/Projects/Study-1-Bibliometrics/.conda/lib/python3.11/site-packages/urllib3/connection.py\", line 419, in connect\n",
      "    self.sock = ssl_wrap_socket(\n",
      "                ^^^^^^^^^^^^^^^^\n",
      "  File \"/Users/jlq293/Projects/Study-1-Bibliometrics/.conda/lib/python3.11/site-packages/urllib3/util/ssl_.py\", line 449, in ssl_wrap_socket\n",
      "    ssl_sock = _ssl_wrap_socket_impl(\n",
      "               ^^^^^^^^^^^^^^^^^^^^^^\n",
      "  File \"/Users/jlq293/Projects/Study-1-Bibliometrics/.conda/lib/python3.11/site-packages/urllib3/util/ssl_.py\", line 493, in _ssl_wrap_socket_impl\n",
      "    return ssl_context.wrap_socket(sock, server_hostname=server_hostname)\n",
      "           ^^^^^^^^^^^^^^^^^^^^^^^^^^^^^^^^^^^^^^^^^^^^^^^^^^^^^^^^^^^^^^\n",
      "  File \"/Users/jlq293/Projects/Study-1-Bibliometrics/.conda/lib/python3.11/ssl.py\", line 517, in wrap_socket\n",
      "    return self.sslsocket_class._create(\n",
      "           ^^^^^^^^^^^^^^^^^^^^^^^^^^^^^\n",
      "  File \"/Users/jlq293/Projects/Study-1-Bibliometrics/.conda/lib/python3.11/ssl.py\", line 1108, in _create\n",
      "    self.do_handshake()\n",
      "  File \"/Users/jlq293/Projects/Study-1-Bibliometrics/.conda/lib/python3.11/ssl.py\", line 1379, in do_handshake\n",
      "    self._sslobj.do_handshake()\n",
      "TimeoutError: [Errno 60] Operation timed out\n",
      "\n",
      "During handling of the above exception, another exception occurred:\n",
      "\n",
      "Traceback (most recent call last):\n",
      "  File \"/Users/jlq293/Projects/Study-1-Bibliometrics/.conda/lib/python3.11/site-packages/requests/adapters.py\", line 486, in send\n",
      "    resp = conn.urlopen(\n",
      "           ^^^^^^^^^^^^^\n",
      "  File \"/Users/jlq293/Projects/Study-1-Bibliometrics/.conda/lib/python3.11/site-packages/urllib3/connectionpool.py\", line 799, in urlopen\n",
      "    retries = retries.increment(\n",
      "              ^^^^^^^^^^^^^^^^^^\n",
      "  File \"/Users/jlq293/Projects/Study-1-Bibliometrics/.conda/lib/python3.11/site-packages/urllib3/util/retry.py\", line 550, in increment\n",
      "    raise six.reraise(type(error), error, _stacktrace)\n",
      "          ^^^^^^^^^^^^^^^^^^^^^^^^^^^^^^^^^^^^^^^^^^^^\n",
      "  File \"/Users/jlq293/Projects/Study-1-Bibliometrics/.conda/lib/python3.11/site-packages/urllib3/packages/six.py\", line 770, in reraise\n",
      "    raise value\n",
      "  File \"/Users/jlq293/Projects/Study-1-Bibliometrics/.conda/lib/python3.11/site-packages/urllib3/connectionpool.py\", line 715, in urlopen\n",
      "    httplib_response = self._make_request(\n",
      "                       ^^^^^^^^^^^^^^^^^^^\n",
      "  File \"/Users/jlq293/Projects/Study-1-Bibliometrics/.conda/lib/python3.11/site-packages/urllib3/connectionpool.py\", line 407, in _make_request\n",
      "    self._raise_timeout(err=e, url=url, timeout_value=conn.timeout)\n",
      "  File \"/Users/jlq293/Projects/Study-1-Bibliometrics/.conda/lib/python3.11/site-packages/urllib3/connectionpool.py\", line 358, in _raise_timeout\n",
      "    raise ReadTimeoutError(\n",
      "urllib3.exceptions.ReadTimeoutError: HTTPSConnectionPool(host='icite.od.nih.gov', port=443): Read timed out. (read timeout=None)\n",
      "\n",
      "During handling of the above exception, another exception occurred:\n",
      "\n",
      "Traceback (most recent call last):\n",
      "  File \"/Users/jlq293/Projects/Study-1-Bibliometrics/.conda/lib/python3.11/site-packages/pmidcite/icite/api.py\", line 111, in _send_request\n",
      "    rsp = requests.get(cmd)\n",
      "          ^^^^^^^^^^^^^^^^^\n",
      "  File \"/Users/jlq293/Projects/Study-1-Bibliometrics/.conda/lib/python3.11/site-packages/requests/api.py\", line 73, in get\n",
      "    return request(\"get\", url, params=params, **kwargs)\n",
      "           ^^^^^^^^^^^^^^^^^^^^^^^^^^^^^^^^^^^^^^^^^^^^\n",
      "  File \"/Users/jlq293/Projects/Study-1-Bibliometrics/.conda/lib/python3.11/site-packages/requests/api.py\", line 59, in request\n",
      "    return session.request(method=method, url=url, **kwargs)\n",
      "           ^^^^^^^^^^^^^^^^^^^^^^^^^^^^^^^^^^^^^^^^^^^^^^^^^\n",
      "  File \"/Users/jlq293/Projects/Study-1-Bibliometrics/.conda/lib/python3.11/site-packages/requests/sessions.py\", line 589, in request\n",
      "    resp = self.send(prep, **send_kwargs)\n",
      "           ^^^^^^^^^^^^^^^^^^^^^^^^^^^^^^\n",
      "  File \"/Users/jlq293/Projects/Study-1-Bibliometrics/.conda/lib/python3.11/site-packages/requests/sessions.py\", line 703, in send\n",
      "    r = adapter.send(request, **kwargs)\n",
      "        ^^^^^^^^^^^^^^^^^^^^^^^^^^^^^^^\n",
      "  File \"/Users/jlq293/Projects/Study-1-Bibliometrics/.conda/lib/python3.11/site-packages/requests/adapters.py\", line 532, in send\n",
      "    raise ReadTimeout(e, request=request)\n",
      "requests.exceptions.ReadTimeout: HTTPSConnectionPool(host='icite.od.nih.gov', port=443): Read timed out. (read timeout=None)\n",
      "ERROR:root:Error fetching DOI from pmidcite for PMID 18219099: **ERROR DOWNLOADING https://icite.od.nih.gov/api/pubs/18219099\n",
      "Traceback (most recent call last):\n",
      "  File \"/Users/jlq293/Projects/Study-1-Bibliometrics/.conda/lib/python3.11/site-packages/urllib3/connectionpool.py\", line 404, in _make_request\n",
      "    self._validate_conn(conn)\n",
      "  File \"/Users/jlq293/Projects/Study-1-Bibliometrics/.conda/lib/python3.11/site-packages/urllib3/connectionpool.py\", line 1058, in _validate_conn\n",
      "    conn.connect()\n",
      "  File \"/Users/jlq293/Projects/Study-1-Bibliometrics/.conda/lib/python3.11/site-packages/urllib3/connection.py\", line 419, in connect\n",
      "    self.sock = ssl_wrap_socket(\n",
      "                ^^^^^^^^^^^^^^^^\n",
      "  File \"/Users/jlq293/Projects/Study-1-Bibliometrics/.conda/lib/python3.11/site-packages/urllib3/util/ssl_.py\", line 449, in ssl_wrap_socket\n",
      "    ssl_sock = _ssl_wrap_socket_impl(\n",
      "               ^^^^^^^^^^^^^^^^^^^^^^\n",
      "  File \"/Users/jlq293/Projects/Study-1-Bibliometrics/.conda/lib/python3.11/site-packages/urllib3/util/ssl_.py\", line 493, in _ssl_wrap_socket_impl\n",
      "    return ssl_context.wrap_socket(sock, server_hostname=server_hostname)\n",
      "           ^^^^^^^^^^^^^^^^^^^^^^^^^^^^^^^^^^^^^^^^^^^^^^^^^^^^^^^^^^^^^^\n",
      "  File \"/Users/jlq293/Projects/Study-1-Bibliometrics/.conda/lib/python3.11/ssl.py\", line 517, in wrap_socket\n",
      "    return self.sslsocket_class._create(\n",
      "           ^^^^^^^^^^^^^^^^^^^^^^^^^^^^^\n",
      "  File \"/Users/jlq293/Projects/Study-1-Bibliometrics/.conda/lib/python3.11/ssl.py\", line 1108, in _create\n",
      "    self.do_handshake()\n",
      "  File \"/Users/jlq293/Projects/Study-1-Bibliometrics/.conda/lib/python3.11/ssl.py\", line 1379, in do_handshake\n",
      "    self._sslobj.do_handshake()\n",
      "TimeoutError: [Errno 60] Operation timed out\n",
      "\n",
      "During handling of the above exception, another exception occurred:\n",
      "\n",
      "Traceback (most recent call last):\n",
      "  File \"/Users/jlq293/Projects/Study-1-Bibliometrics/.conda/lib/python3.11/site-packages/requests/adapters.py\", line 486, in send\n",
      "    resp = conn.urlopen(\n",
      "           ^^^^^^^^^^^^^\n",
      "  File \"/Users/jlq293/Projects/Study-1-Bibliometrics/.conda/lib/python3.11/site-packages/urllib3/connectionpool.py\", line 799, in urlopen\n",
      "    retries = retries.increment(\n",
      "              ^^^^^^^^^^^^^^^^^^\n",
      "  File \"/Users/jlq293/Projects/Study-1-Bibliometrics/.conda/lib/python3.11/site-packages/urllib3/util/retry.py\", line 550, in increment\n",
      "    raise six.reraise(type(error), error, _stacktrace)\n",
      "          ^^^^^^^^^^^^^^^^^^^^^^^^^^^^^^^^^^^^^^^^^^^^\n",
      "  File \"/Users/jlq293/Projects/Study-1-Bibliometrics/.conda/lib/python3.11/site-packages/urllib3/packages/six.py\", line 770, in reraise\n",
      "    raise value\n",
      "  File \"/Users/jlq293/Projects/Study-1-Bibliometrics/.conda/lib/python3.11/site-packages/urllib3/connectionpool.py\", line 715, in urlopen\n",
      "    httplib_response = self._make_request(\n",
      "                       ^^^^^^^^^^^^^^^^^^^\n",
      "  File \"/Users/jlq293/Projects/Study-1-Bibliometrics/.conda/lib/python3.11/site-packages/urllib3/connectionpool.py\", line 407, in _make_request\n",
      "    self._raise_timeout(err=e, url=url, timeout_value=conn.timeout)\n",
      "  File \"/Users/jlq293/Projects/Study-1-Bibliometrics/.conda/lib/python3.11/site-packages/urllib3/connectionpool.py\", line 358, in _raise_timeout\n",
      "    raise ReadTimeoutError(\n",
      "urllib3.exceptions.ReadTimeoutError: HTTPSConnectionPool(host='icite.od.nih.gov', port=443): Read timed out. (read timeout=None)\n",
      "\n",
      "During handling of the above exception, another exception occurred:\n",
      "\n",
      "Traceback (most recent call last):\n",
      "  File \"/Users/jlq293/Projects/Study-1-Bibliometrics/.conda/lib/python3.11/site-packages/pmidcite/icite/api.py\", line 111, in _send_request\n",
      "    rsp = requests.get(cmd)\n",
      "          ^^^^^^^^^^^^^^^^^\n",
      "  File \"/Users/jlq293/Projects/Study-1-Bibliometrics/.conda/lib/python3.11/site-packages/requests/api.py\", line 73, in get\n",
      "    return request(\"get\", url, params=params, **kwargs)\n",
      "           ^^^^^^^^^^^^^^^^^^^^^^^^^^^^^^^^^^^^^^^^^^^^\n",
      "  File \"/Users/jlq293/Projects/Study-1-Bibliometrics/.conda/lib/python3.11/site-packages/requests/api.py\", line 59, in request\n",
      "    return session.request(method=method, url=url, **kwargs)\n",
      "           ^^^^^^^^^^^^^^^^^^^^^^^^^^^^^^^^^^^^^^^^^^^^^^^^^\n",
      "  File \"/Users/jlq293/Projects/Study-1-Bibliometrics/.conda/lib/python3.11/site-packages/requests/sessions.py\", line 589, in request\n",
      "    resp = self.send(prep, **send_kwargs)\n",
      "           ^^^^^^^^^^^^^^^^^^^^^^^^^^^^^^\n",
      "  File \"/Users/jlq293/Projects/Study-1-Bibliometrics/.conda/lib/python3.11/site-packages/requests/sessions.py\", line 703, in send\n",
      "    r = adapter.send(request, **kwargs)\n",
      "        ^^^^^^^^^^^^^^^^^^^^^^^^^^^^^^^\n",
      "  File \"/Users/jlq293/Projects/Study-1-Bibliometrics/.conda/lib/python3.11/site-packages/requests/adapters.py\", line 532, in send\n",
      "    raise ReadTimeout(e, request=request)\n",
      "requests.exceptions.ReadTimeout: HTTPSConnectionPool(host='icite.od.nih.gov', port=443): Read timed out. (read timeout=None)\n",
      "ERROR:root:Error fetching DOI from pmidcite for PMID 18250496: **ERROR DOWNLOADING https://icite.od.nih.gov/api/pubs/18250496\n",
      "ERROR:root:Error fetching DOI from pmidcite for PMID 17332612: 'NoneType' object has no attribute 'dct'\n"
     ]
    },
    {
     "name": "stdout",
     "output_type": "stream",
     "text": [
      "**ERROR: ConnectionError = ('Connection aborted.', OSError(9, 'Bad file descriptor'))\n",
      "\n"
     ]
    },
    {
     "name": "stderr",
     "output_type": "stream",
     "text": [
      "ERROR:root:Error fetching DOI from pmidcite for PMID 19035066: 'NoneType' object has no attribute 'dct'\n"
     ]
    },
    {
     "name": "stdout",
     "output_type": "stream",
     "text": [
      "**ERROR: ConnectionError = ('Connection aborted.', RemoteDisconnected('Remote end closed connection without response'))\n",
      "\n"
     ]
    },
    {
     "name": "stderr",
     "output_type": "stream",
     "text": [
      "ERROR:root:HTTP error fetching DOI from E-utilities for PMID 19112394: HTTPSConnectionPool(host='eutils.ncbi.nlm.nih.gov', port=443): Read timed out. (read timeout=10)\n",
      "ERROR:root:Error fetching DOI from pmidcite for PMID 18392071: 'NoneType' object has no attribute 'dct'\n"
     ]
    },
    {
     "name": "stdout",
     "output_type": "stream",
     "text": [
      "**ERROR: ConnectionError = ('Connection aborted.', RemoteDisconnected('Remote end closed connection without response'))\n",
      "\n"
     ]
    },
    {
     "name": "stderr",
     "output_type": "stream",
     "text": [
      "Traceback (most recent call last):\n",
      "  File \"/Users/jlq293/Projects/Study-1-Bibliometrics/.conda/lib/python3.11/site-packages/urllib3/connectionpool.py\", line 404, in _make_request\n",
      "    self._validate_conn(conn)\n",
      "  File \"/Users/jlq293/Projects/Study-1-Bibliometrics/.conda/lib/python3.11/site-packages/urllib3/connectionpool.py\", line 1058, in _validate_conn\n",
      "    conn.connect()\n",
      "  File \"/Users/jlq293/Projects/Study-1-Bibliometrics/.conda/lib/python3.11/site-packages/urllib3/connection.py\", line 419, in connect\n",
      "    self.sock = ssl_wrap_socket(\n",
      "                ^^^^^^^^^^^^^^^^\n",
      "  File \"/Users/jlq293/Projects/Study-1-Bibliometrics/.conda/lib/python3.11/site-packages/urllib3/util/ssl_.py\", line 449, in ssl_wrap_socket\n",
      "    ssl_sock = _ssl_wrap_socket_impl(\n",
      "               ^^^^^^^^^^^^^^^^^^^^^^\n",
      "  File \"/Users/jlq293/Projects/Study-1-Bibliometrics/.conda/lib/python3.11/site-packages/urllib3/util/ssl_.py\", line 493, in _ssl_wrap_socket_impl\n",
      "    return ssl_context.wrap_socket(sock, server_hostname=server_hostname)\n",
      "           ^^^^^^^^^^^^^^^^^^^^^^^^^^^^^^^^^^^^^^^^^^^^^^^^^^^^^^^^^^^^^^\n",
      "  File \"/Users/jlq293/Projects/Study-1-Bibliometrics/.conda/lib/python3.11/ssl.py\", line 517, in wrap_socket\n",
      "    return self.sslsocket_class._create(\n",
      "           ^^^^^^^^^^^^^^^^^^^^^^^^^^^^^\n",
      "  File \"/Users/jlq293/Projects/Study-1-Bibliometrics/.conda/lib/python3.11/ssl.py\", line 1108, in _create\n",
      "    self.do_handshake()\n",
      "  File \"/Users/jlq293/Projects/Study-1-Bibliometrics/.conda/lib/python3.11/ssl.py\", line 1379, in do_handshake\n",
      "    self._sslobj.do_handshake()\n",
      "TimeoutError: [Errno 60] Operation timed out\n",
      "\n",
      "During handling of the above exception, another exception occurred:\n",
      "\n",
      "Traceback (most recent call last):\n",
      "  File \"/Users/jlq293/Projects/Study-1-Bibliometrics/.conda/lib/python3.11/site-packages/requests/adapters.py\", line 486, in send\n",
      "    resp = conn.urlopen(\n",
      "           ^^^^^^^^^^^^^\n",
      "  File \"/Users/jlq293/Projects/Study-1-Bibliometrics/.conda/lib/python3.11/site-packages/urllib3/connectionpool.py\", line 799, in urlopen\n",
      "    retries = retries.increment(\n",
      "              ^^^^^^^^^^^^^^^^^^\n",
      "  File \"/Users/jlq293/Projects/Study-1-Bibliometrics/.conda/lib/python3.11/site-packages/urllib3/util/retry.py\", line 550, in increment\n",
      "    raise six.reraise(type(error), error, _stacktrace)\n",
      "          ^^^^^^^^^^^^^^^^^^^^^^^^^^^^^^^^^^^^^^^^^^^^\n",
      "  File \"/Users/jlq293/Projects/Study-1-Bibliometrics/.conda/lib/python3.11/site-packages/urllib3/packages/six.py\", line 770, in reraise\n",
      "    raise value\n",
      "  File \"/Users/jlq293/Projects/Study-1-Bibliometrics/.conda/lib/python3.11/site-packages/urllib3/connectionpool.py\", line 715, in urlopen\n",
      "    httplib_response = self._make_request(\n",
      "                       ^^^^^^^^^^^^^^^^^^^\n",
      "  File \"/Users/jlq293/Projects/Study-1-Bibliometrics/.conda/lib/python3.11/site-packages/urllib3/connectionpool.py\", line 407, in _make_request\n",
      "    self._raise_timeout(err=e, url=url, timeout_value=conn.timeout)\n",
      "  File \"/Users/jlq293/Projects/Study-1-Bibliometrics/.conda/lib/python3.11/site-packages/urllib3/connectionpool.py\", line 358, in _raise_timeout\n",
      "    raise ReadTimeoutError(\n",
      "urllib3.exceptions.ReadTimeoutError: HTTPSConnectionPool(host='icite.od.nih.gov', port=443): Read timed out. (read timeout=None)\n",
      "\n",
      "During handling of the above exception, another exception occurred:\n",
      "\n",
      "Traceback (most recent call last):\n",
      "  File \"/Users/jlq293/Projects/Study-1-Bibliometrics/.conda/lib/python3.11/site-packages/pmidcite/icite/api.py\", line 111, in _send_request\n",
      "    rsp = requests.get(cmd)\n",
      "          ^^^^^^^^^^^^^^^^^\n",
      "  File \"/Users/jlq293/Projects/Study-1-Bibliometrics/.conda/lib/python3.11/site-packages/requests/api.py\", line 73, in get\n",
      "    return request(\"get\", url, params=params, **kwargs)\n",
      "           ^^^^^^^^^^^^^^^^^^^^^^^^^^^^^^^^^^^^^^^^^^^^\n",
      "  File \"/Users/jlq293/Projects/Study-1-Bibliometrics/.conda/lib/python3.11/site-packages/requests/api.py\", line 59, in request\n",
      "    return session.request(method=method, url=url, **kwargs)\n",
      "           ^^^^^^^^^^^^^^^^^^^^^^^^^^^^^^^^^^^^^^^^^^^^^^^^^\n",
      "  File \"/Users/jlq293/Projects/Study-1-Bibliometrics/.conda/lib/python3.11/site-packages/requests/sessions.py\", line 589, in request\n",
      "    resp = self.send(prep, **send_kwargs)\n",
      "           ^^^^^^^^^^^^^^^^^^^^^^^^^^^^^^\n",
      "  File \"/Users/jlq293/Projects/Study-1-Bibliometrics/.conda/lib/python3.11/site-packages/requests/sessions.py\", line 703, in send\n",
      "    r = adapter.send(request, **kwargs)\n",
      "        ^^^^^^^^^^^^^^^^^^^^^^^^^^^^^^^\n",
      "  File \"/Users/jlq293/Projects/Study-1-Bibliometrics/.conda/lib/python3.11/site-packages/requests/adapters.py\", line 532, in send\n",
      "    raise ReadTimeout(e, request=request)\n",
      "requests.exceptions.ReadTimeout: HTTPSConnectionPool(host='icite.od.nih.gov', port=443): Read timed out. (read timeout=None)\n",
      "ERROR:root:Error fetching DOI from pmidcite for PMID 19579174: **ERROR DOWNLOADING https://icite.od.nih.gov/api/pubs/19579174\n",
      "ERROR:root:HTTP error fetching DOI from E-utilities for PMID 21696647: HTTPSConnectionPool(host='eutils.ncbi.nlm.nih.gov', port=443): Read timed out. (read timeout=10)\n",
      "ERROR:root:HTTP error fetching DOI from E-utilities for PMID 20562752: HTTPSConnectionPool(host='eutils.ncbi.nlm.nih.gov', port=443): Read timed out. (read timeout=10)\n",
      "ERROR:root:Error fetching DOI from pmidcite for PMID 22126003: 'NoneType' object has no attribute 'dct'\n"
     ]
    },
    {
     "name": "stdout",
     "output_type": "stream",
     "text": [
      "**ERROR: ConnectionError = ('Connection aborted.', RemoteDisconnected('Remote end closed connection without response'))\n",
      "\n"
     ]
    },
    {
     "name": "stderr",
     "output_type": "stream",
     "text": [
      "ERROR:root:HTTP error fetching DOI from E-utilities for PMID 23690183: HTTPSConnectionPool(host='eutils.ncbi.nlm.nih.gov', port=443): Read timed out. (read timeout=10)\n",
      "ERROR:root:Error fetching DOI from pmidcite for PMID 24434345: 'NoneType' object has no attribute 'dct'\n"
     ]
    },
    {
     "name": "stdout",
     "output_type": "stream",
     "text": [
      "**ERROR: ConnectionError = ('Connection aborted.', RemoteDisconnected('Remote end closed connection without response'))\n",
      "\n"
     ]
    },
    {
     "name": "stderr",
     "output_type": "stream",
     "text": [
      "Traceback (most recent call last):\n",
      "  File \"/Users/jlq293/Projects/Study-1-Bibliometrics/.conda/lib/python3.11/site-packages/urllib3/connectionpool.py\", line 404, in _make_request\n",
      "    self._validate_conn(conn)\n",
      "  File \"/Users/jlq293/Projects/Study-1-Bibliometrics/.conda/lib/python3.11/site-packages/urllib3/connectionpool.py\", line 1058, in _validate_conn\n",
      "    conn.connect()\n",
      "  File \"/Users/jlq293/Projects/Study-1-Bibliometrics/.conda/lib/python3.11/site-packages/urllib3/connection.py\", line 419, in connect\n",
      "    self.sock = ssl_wrap_socket(\n",
      "                ^^^^^^^^^^^^^^^^\n",
      "  File \"/Users/jlq293/Projects/Study-1-Bibliometrics/.conda/lib/python3.11/site-packages/urllib3/util/ssl_.py\", line 449, in ssl_wrap_socket\n",
      "    ssl_sock = _ssl_wrap_socket_impl(\n",
      "               ^^^^^^^^^^^^^^^^^^^^^^\n",
      "  File \"/Users/jlq293/Projects/Study-1-Bibliometrics/.conda/lib/python3.11/site-packages/urllib3/util/ssl_.py\", line 493, in _ssl_wrap_socket_impl\n",
      "    return ssl_context.wrap_socket(sock, server_hostname=server_hostname)\n",
      "           ^^^^^^^^^^^^^^^^^^^^^^^^^^^^^^^^^^^^^^^^^^^^^^^^^^^^^^^^^^^^^^\n",
      "  File \"/Users/jlq293/Projects/Study-1-Bibliometrics/.conda/lib/python3.11/ssl.py\", line 517, in wrap_socket\n",
      "    return self.sslsocket_class._create(\n",
      "           ^^^^^^^^^^^^^^^^^^^^^^^^^^^^^\n",
      "  File \"/Users/jlq293/Projects/Study-1-Bibliometrics/.conda/lib/python3.11/ssl.py\", line 1108, in _create\n",
      "    self.do_handshake()\n",
      "  File \"/Users/jlq293/Projects/Study-1-Bibliometrics/.conda/lib/python3.11/ssl.py\", line 1379, in do_handshake\n",
      "    self._sslobj.do_handshake()\n",
      "TimeoutError: [Errno 60] Operation timed out\n",
      "\n",
      "During handling of the above exception, another exception occurred:\n",
      "\n",
      "Traceback (most recent call last):\n",
      "  File \"/Users/jlq293/Projects/Study-1-Bibliometrics/.conda/lib/python3.11/site-packages/requests/adapters.py\", line 486, in send\n",
      "    resp = conn.urlopen(\n",
      "           ^^^^^^^^^^^^^\n",
      "  File \"/Users/jlq293/Projects/Study-1-Bibliometrics/.conda/lib/python3.11/site-packages/urllib3/connectionpool.py\", line 799, in urlopen\n",
      "    retries = retries.increment(\n",
      "              ^^^^^^^^^^^^^^^^^^\n",
      "  File \"/Users/jlq293/Projects/Study-1-Bibliometrics/.conda/lib/python3.11/site-packages/urllib3/util/retry.py\", line 550, in increment\n",
      "    raise six.reraise(type(error), error, _stacktrace)\n",
      "          ^^^^^^^^^^^^^^^^^^^^^^^^^^^^^^^^^^^^^^^^^^^^\n",
      "  File \"/Users/jlq293/Projects/Study-1-Bibliometrics/.conda/lib/python3.11/site-packages/urllib3/packages/six.py\", line 770, in reraise\n",
      "    raise value\n",
      "  File \"/Users/jlq293/Projects/Study-1-Bibliometrics/.conda/lib/python3.11/site-packages/urllib3/connectionpool.py\", line 715, in urlopen\n",
      "    httplib_response = self._make_request(\n",
      "                       ^^^^^^^^^^^^^^^^^^^\n",
      "  File \"/Users/jlq293/Projects/Study-1-Bibliometrics/.conda/lib/python3.11/site-packages/urllib3/connectionpool.py\", line 407, in _make_request\n",
      "    self._raise_timeout(err=e, url=url, timeout_value=conn.timeout)\n",
      "  File \"/Users/jlq293/Projects/Study-1-Bibliometrics/.conda/lib/python3.11/site-packages/urllib3/connectionpool.py\", line 358, in _raise_timeout\n",
      "    raise ReadTimeoutError(\n",
      "urllib3.exceptions.ReadTimeoutError: HTTPSConnectionPool(host='icite.od.nih.gov', port=443): Read timed out. (read timeout=None)\n",
      "\n",
      "During handling of the above exception, another exception occurred:\n",
      "\n",
      "Traceback (most recent call last):\n",
      "  File \"/Users/jlq293/Projects/Study-1-Bibliometrics/.conda/lib/python3.11/site-packages/pmidcite/icite/api.py\", line 111, in _send_request\n",
      "    rsp = requests.get(cmd)\n",
      "          ^^^^^^^^^^^^^^^^^\n",
      "  File \"/Users/jlq293/Projects/Study-1-Bibliometrics/.conda/lib/python3.11/site-packages/requests/api.py\", line 73, in get\n",
      "    return request(\"get\", url, params=params, **kwargs)\n",
      "           ^^^^^^^^^^^^^^^^^^^^^^^^^^^^^^^^^^^^^^^^^^^^\n",
      "  File \"/Users/jlq293/Projects/Study-1-Bibliometrics/.conda/lib/python3.11/site-packages/requests/api.py\", line 59, in request\n",
      "    return session.request(method=method, url=url, **kwargs)\n",
      "           ^^^^^^^^^^^^^^^^^^^^^^^^^^^^^^^^^^^^^^^^^^^^^^^^^\n",
      "  File \"/Users/jlq293/Projects/Study-1-Bibliometrics/.conda/lib/python3.11/site-packages/requests/sessions.py\", line 589, in request\n",
      "    resp = self.send(prep, **send_kwargs)\n",
      "           ^^^^^^^^^^^^^^^^^^^^^^^^^^^^^^\n",
      "  File \"/Users/jlq293/Projects/Study-1-Bibliometrics/.conda/lib/python3.11/site-packages/requests/sessions.py\", line 703, in send\n",
      "    r = adapter.send(request, **kwargs)\n",
      "        ^^^^^^^^^^^^^^^^^^^^^^^^^^^^^^^\n",
      "  File \"/Users/jlq293/Projects/Study-1-Bibliometrics/.conda/lib/python3.11/site-packages/requests/adapters.py\", line 532, in send\n",
      "    raise ReadTimeout(e, request=request)\n",
      "requests.exceptions.ReadTimeout: HTTPSConnectionPool(host='icite.od.nih.gov', port=443): Read timed out. (read timeout=None)\n",
      "ERROR:root:Error fetching DOI from pmidcite for PMID 24628013: **ERROR DOWNLOADING https://icite.od.nih.gov/api/pubs/24628013\n",
      "Traceback (most recent call last):\n",
      "  File \"/Users/jlq293/Projects/Study-1-Bibliometrics/.conda/lib/python3.11/site-packages/urllib3/connectionpool.py\", line 404, in _make_request\n",
      "    self._validate_conn(conn)\n",
      "  File \"/Users/jlq293/Projects/Study-1-Bibliometrics/.conda/lib/python3.11/site-packages/urllib3/connectionpool.py\", line 1058, in _validate_conn\n",
      "    conn.connect()\n",
      "  File \"/Users/jlq293/Projects/Study-1-Bibliometrics/.conda/lib/python3.11/site-packages/urllib3/connection.py\", line 419, in connect\n",
      "    self.sock = ssl_wrap_socket(\n",
      "                ^^^^^^^^^^^^^^^^\n",
      "  File \"/Users/jlq293/Projects/Study-1-Bibliometrics/.conda/lib/python3.11/site-packages/urllib3/util/ssl_.py\", line 449, in ssl_wrap_socket\n",
      "    ssl_sock = _ssl_wrap_socket_impl(\n",
      "               ^^^^^^^^^^^^^^^^^^^^^^\n",
      "  File \"/Users/jlq293/Projects/Study-1-Bibliometrics/.conda/lib/python3.11/site-packages/urllib3/util/ssl_.py\", line 493, in _ssl_wrap_socket_impl\n",
      "    return ssl_context.wrap_socket(sock, server_hostname=server_hostname)\n",
      "           ^^^^^^^^^^^^^^^^^^^^^^^^^^^^^^^^^^^^^^^^^^^^^^^^^^^^^^^^^^^^^^\n",
      "  File \"/Users/jlq293/Projects/Study-1-Bibliometrics/.conda/lib/python3.11/ssl.py\", line 517, in wrap_socket\n",
      "    return self.sslsocket_class._create(\n",
      "           ^^^^^^^^^^^^^^^^^^^^^^^^^^^^^\n",
      "  File \"/Users/jlq293/Projects/Study-1-Bibliometrics/.conda/lib/python3.11/ssl.py\", line 1108, in _create\n",
      "    self.do_handshake()\n",
      "  File \"/Users/jlq293/Projects/Study-1-Bibliometrics/.conda/lib/python3.11/ssl.py\", line 1379, in do_handshake\n",
      "    self._sslobj.do_handshake()\n",
      "TimeoutError: [Errno 60] Operation timed out\n",
      "\n",
      "During handling of the above exception, another exception occurred:\n",
      "\n",
      "Traceback (most recent call last):\n",
      "  File \"/Users/jlq293/Projects/Study-1-Bibliometrics/.conda/lib/python3.11/site-packages/requests/adapters.py\", line 486, in send\n",
      "    resp = conn.urlopen(\n",
      "           ^^^^^^^^^^^^^\n",
      "  File \"/Users/jlq293/Projects/Study-1-Bibliometrics/.conda/lib/python3.11/site-packages/urllib3/connectionpool.py\", line 799, in urlopen\n",
      "    retries = retries.increment(\n",
      "              ^^^^^^^^^^^^^^^^^^\n",
      "  File \"/Users/jlq293/Projects/Study-1-Bibliometrics/.conda/lib/python3.11/site-packages/urllib3/util/retry.py\", line 550, in increment\n",
      "    raise six.reraise(type(error), error, _stacktrace)\n",
      "          ^^^^^^^^^^^^^^^^^^^^^^^^^^^^^^^^^^^^^^^^^^^^\n",
      "  File \"/Users/jlq293/Projects/Study-1-Bibliometrics/.conda/lib/python3.11/site-packages/urllib3/packages/six.py\", line 770, in reraise\n",
      "    raise value\n",
      "  File \"/Users/jlq293/Projects/Study-1-Bibliometrics/.conda/lib/python3.11/site-packages/urllib3/connectionpool.py\", line 715, in urlopen\n",
      "    httplib_response = self._make_request(\n",
      "                       ^^^^^^^^^^^^^^^^^^^\n",
      "  File \"/Users/jlq293/Projects/Study-1-Bibliometrics/.conda/lib/python3.11/site-packages/urllib3/connectionpool.py\", line 407, in _make_request\n",
      "    self._raise_timeout(err=e, url=url, timeout_value=conn.timeout)\n",
      "  File \"/Users/jlq293/Projects/Study-1-Bibliometrics/.conda/lib/python3.11/site-packages/urllib3/connectionpool.py\", line 358, in _raise_timeout\n",
      "    raise ReadTimeoutError(\n",
      "urllib3.exceptions.ReadTimeoutError: HTTPSConnectionPool(host='icite.od.nih.gov', port=443): Read timed out. (read timeout=None)\n",
      "\n",
      "During handling of the above exception, another exception occurred:\n",
      "\n",
      "Traceback (most recent call last):\n",
      "  File \"/Users/jlq293/Projects/Study-1-Bibliometrics/.conda/lib/python3.11/site-packages/pmidcite/icite/api.py\", line 111, in _send_request\n",
      "    rsp = requests.get(cmd)\n",
      "          ^^^^^^^^^^^^^^^^^\n",
      "  File \"/Users/jlq293/Projects/Study-1-Bibliometrics/.conda/lib/python3.11/site-packages/requests/api.py\", line 73, in get\n",
      "    return request(\"get\", url, params=params, **kwargs)\n",
      "           ^^^^^^^^^^^^^^^^^^^^^^^^^^^^^^^^^^^^^^^^^^^^\n",
      "  File \"/Users/jlq293/Projects/Study-1-Bibliometrics/.conda/lib/python3.11/site-packages/requests/api.py\", line 59, in request\n",
      "    return session.request(method=method, url=url, **kwargs)\n",
      "           ^^^^^^^^^^^^^^^^^^^^^^^^^^^^^^^^^^^^^^^^^^^^^^^^^\n",
      "  File \"/Users/jlq293/Projects/Study-1-Bibliometrics/.conda/lib/python3.11/site-packages/requests/sessions.py\", line 589, in request\n",
      "    resp = self.send(prep, **send_kwargs)\n",
      "           ^^^^^^^^^^^^^^^^^^^^^^^^^^^^^^\n",
      "  File \"/Users/jlq293/Projects/Study-1-Bibliometrics/.conda/lib/python3.11/site-packages/requests/sessions.py\", line 703, in send\n",
      "    r = adapter.send(request, **kwargs)\n",
      "        ^^^^^^^^^^^^^^^^^^^^^^^^^^^^^^^\n",
      "  File \"/Users/jlq293/Projects/Study-1-Bibliometrics/.conda/lib/python3.11/site-packages/requests/adapters.py\", line 532, in send\n",
      "    raise ReadTimeout(e, request=request)\n",
      "requests.exceptions.ReadTimeout: HTTPSConnectionPool(host='icite.od.nih.gov', port=443): Read timed out. (read timeout=None)\n",
      "ERROR:root:Error fetching DOI from pmidcite for PMID 25272878: **ERROR DOWNLOADING https://icite.od.nih.gov/api/pubs/25272878\n",
      "ERROR:root:HTTP error fetching DOI from E-utilities for PMID 25729824: HTTPSConnectionPool(host='eutils.ncbi.nlm.nih.gov', port=443): Read timed out. (read timeout=10)\n",
      "ERROR:root:HTTP error fetching DOI from E-utilities for PMID 30962407: HTTPSConnectionPool(host='eutils.ncbi.nlm.nih.gov', port=443): Read timed out. (read timeout=10)\n",
      "ERROR:root:HTTP error fetching DOI from E-utilities for PMID 36257003: HTTPSConnectionPool(host='eutils.ncbi.nlm.nih.gov', port=443): Read timed out. (read timeout=10)\n"
     ]
    },
    {
     "name": "stdout",
     "output_type": "stream",
     "text": [
      "The number of missing DOIs in df_scopus decreased from 4463 to 4043\n"
     ]
    }
   ],
   "source": [
    "# same for scopus\n",
    "doi_fetcher = DoiFetcherFromPMID()\n",
    "\n",
    "sc_nodoi_prior = df_scopus[\"doi\"].isna().sum()\n",
    "\n",
    "df_scopus[\"doi\"] = df_scopus.apply(\n",
    "    lambda row: doi_fetcher.fetch_doi(row[\"pubmed_id\"])\n",
    "    if pd.isna(row[\"doi\"]) and row[\"pubmed_id\"] != \"nan\"\n",
    "    else row[\"doi\"],\n",
    "    axis=1,\n",
    ")\n",
    "\n",
    "sc_nodoi_after = df_scopus[\"doi\"].isna().sum()\n",
    "\n",
    "print(\n",
    "    f\"The number of missing DOIs in df_scopus decreased from {sc_nodoi_prior} to {sc_nodoi_after}\"\n",
    ")"
   ]
  },
  {
   "cell_type": "code",
   "execution_count": 11,
   "metadata": {},
   "outputs": [],
   "source": [
    "# save both dataframes\n",
    "df_scopus.to_parquet(\n",
    "    \"../data/processed/scopus/scopus_data_processed_doisfetched.parquet\"\n",
    ")"
   ]
  },
  {
   "cell_type": "code",
   "execution_count": null,
   "metadata": {},
   "outputs": [],
   "source": []
  }
 ],
 "metadata": {
  "kernelspec": {
   "display_name": "Python 3",
   "language": "python",
   "name": "python3"
  },
  "language_info": {
   "codemirror_mode": {
    "name": "ipython",
    "version": 3
   },
   "file_extension": ".py",
   "mimetype": "text/x-python",
   "name": "python",
   "nbconvert_exporter": "python",
   "pygments_lexer": "ipython3",
   "version": "3.11.6"
  }
 },
 "nbformat": 4,
 "nbformat_minor": 2
}
